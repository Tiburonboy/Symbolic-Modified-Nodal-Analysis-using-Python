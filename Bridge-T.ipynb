{
 "cells": [
  {
   "cell_type": "raw",
   "id": "3c9c3617-70bf-44cd-9765-f9266bf346ea",
   "metadata": {},
   "source": [
    "---\n",
    "title:\n",
    "format: \n",
    "    html:\n",
    "        code-fold: false\n",
    "        embed-resources: false\n",
    "        code-tools: true\n",
    "        number-sections: true\n",
    "jupyter: python3\n",
    "---"
   ]
  },
  {
   "cell_type": "markdown",
   "id": "1bd4c512-cf2c-4898-8ae9-41ddb1bc4adc",
   "metadata": {},
   "source": [
    "# Bridge-T\n",
    "\n",
    "![Schematic for the Bridge-T circuit](Bridge-T.png){#fig-bridge-t}  \n",
    "\n",
    "## Introduction\n",
    "A question posted on [electronics stackexchange](https://electronics.stackexchange.com/) by @lees2023 asked: \n",
    "\n",
    ">I'm trying to figure out how to formulate and solve some differential equations for this circuit. ... I run into an issue with the voltage/capacitor loop comprising Vin VC1 VC2 VC3 as I cannot arbitrarily assign an initial value to the voltage across C3.\n",
    "\n",
    "@fig-bridge-t shows that the independent source V1 is connected to ground by the series connection of C1, C2 and C3. @lees2023 asked if the initial voltage on the capacitors, C1, C2 and C3 could violate [Kirchhoff's circuit laws](https://en.wikipedia.org/wiki/Kirchhoff%27s_circuit_laws) by leading to a situation where the initial voltage on the capacitors do not sum to a value equal to V1. For example, if V1 is equal to 1 volt and the initial voltage on the capacitors are each equal to one volt, the sum of the three initial voltages on the capacitors would be 3 volts and not sum to zero around the loop. @lees2023 provided some analysis in his question and discussed the voltage across C3 and stated that he needed to add a small series resistor to V1.\n",
    "\n",
    "There were four answers provided by the comunity. The answer provided by @user347817 is long and detailed and in part 3 of his answer he adress the non zero initial condition and the transfer function at node 2. \n",
    "\n",
    "## Circuit description\n",
    "The circuit shown in @fig-bridge-t has six branches and three nodes. The circuit has a three capacitor path from the independent source, V1 to ground. The circuit posted by @lees2023 didn't have any values for the components, so I'm going use values that are all set to one. The initial voltages on the capacitor can be set to any abritrairy value or left defaulted to zero volts. As described below, the circuit needs to be modified for the MNA. \n",
    "\n",
    "## Circuit analysis\n",
    "@lees2023 asked for differential equations, but since this analysis is about using MNA, a frequency domain analysis will be presented. So I'm not going to derive the differential equations for the circuit. \n",
    "\n",
    "- transfer function at nodes 2 and 3\n",
    "- Solve the equations for initial conditions\n",
    "- compare to LTSpice results\n",
    "\n",
    "Voltage sources, V2, v3 and V4 were added to the circuit shown in @fig-bridge-t-smna so that these sources can hold the capacitor's initial voltage value at time equal to 0+. Frequency domain equivilent of C with an initial voltage condition is a series voltage source v(0+)/s \n",
    "\n",
    "![Circuit used for MNA](Bridge-T-smna.png){#fig-bridge-t-smna} \n",
    "\n",
    "The net list for the circuit is:\n",
    "```\n",
    "V1 1 0 1\n",
    "C2 4 1 1\n",
    "C3 5 2 1\n",
    "C1 6 2 1\n",
    "L1 1 2 1\n",
    "R1 3 0 1\n",
    "V2 4 3 1\n",
    "V3 6 0 1\n",
    "V4 3 5 1\n",
    "```\n",
    "\n",
    "The following Python modules are used."
   ]
  },
  {
   "cell_type": "code",
   "execution_count": 1,
   "id": "72d91f61-5ec8-4c3f-892b-f6c77bcb5175",
   "metadata": {
    "collapsed": false,
    "jupyter": {
     "outputs_hidden": false
    }
   },
   "outputs": [],
   "source": [
    "from sympy import *\n",
    "import numpy as np\n",
    "from tabulate import tabulate\n",
    "import pandas as pd\n",
    "from scipy import signal\n",
    "import matplotlib.pyplot as plt\n",
    "import SymMNA\n",
    "from IPython.display import display, Markdown, Math, Latex\n",
    "init_printing()"
   ]
  },
  {
   "cell_type": "code",
   "execution_count": 2,
   "id": "413f58c8-bbdc-4d91-95bd-cdfa34f7c6fd",
   "metadata": {},
   "outputs": [],
   "source": [
    "t = symbols('t',positive=True)  # t > 0"
   ]
  },
  {
   "cell_type": "markdown",
   "id": "57cf4f5e-11fb-467e-8d46-a2a4c07923d0",
   "metadata": {
    "tags": []
   },
   "source": [
    "### Load the netlist\n",
    "The netlist for @fig-bridge-t is pasted into the cell below and some edits were made to remove the inductor series resistance. "
   ]
  },
  {
   "cell_type": "code",
   "execution_count": 3,
   "id": "9bc88603-ab2d-4363-a07c-4d85f2c45c4f",
   "metadata": {},
   "outputs": [],
   "source": [
    "net_list = '''\n",
    "V1 1 0 1\n",
    "C2 3 1 1\n",
    "C3 3 2 1\n",
    "C1 0 2 1\n",
    "L 1 2 1\n",
    "R2 3 0 1\n",
    "'''"
   ]
  },
  {
   "cell_type": "markdown",
   "id": "e8b1a048-6df8-426f-851a-a6f49d89123e",
   "metadata": {},
   "source": [
    "Generate the network equations."
   ]
  },
  {
   "cell_type": "code",
   "execution_count": 4,
   "id": "518d3e25-b790-4d81-9416-0ac284b5e925",
   "metadata": {},
   "outputs": [],
   "source": [
    "report, network_df, df2, A, X, Z = SymMNA.smna(net_list)\n",
    "\n",
    "# Put matricies into SymPy \n",
    "X = Matrix(X)\n",
    "Z = Matrix(Z)\n",
    "\n",
    "NE_sym = Eq(A*X,Z)"
   ]
  },
  {
   "cell_type": "markdown",
   "id": "6880c9ba-e5dc-4fe3-a6a6-2e04d51db4fc",
   "metadata": {},
   "source": [
    "Generate markdown text to display the network equations."
   ]
  },
  {
   "cell_type": "code",
   "execution_count": 5,
   "id": "dab7e1f5-e195-4662-9462-11acf1a77cad",
   "metadata": {},
   "outputs": [
    {
     "data": {
      "text/markdown": [
       "$C_{2} s v_{1} - C_{2} s v_{3} + I_{L} + I_{V1} = 0$<br>$- C_{3} s v_{3} - I_{L} + v_{2} \\left(C_{1} s + C_{3} s\\right) = 0$<br>$- C_{2} s v_{1} - C_{3} s v_{2} + v_{3} \\left(C_{2} s + C_{3} s + \\frac{1}{R_{2}}\\right) = 0$<br>$v_{1} = V_{1}$<br>$- I_{L} L s + v_{1} - v_{2} = 0$<br>"
      ],
      "text/plain": [
       "<IPython.core.display.Markdown object>"
      ]
     },
     "execution_count": 5,
     "metadata": {},
     "output_type": "execute_result"
    }
   ],
   "source": [
    "temp = ''\n",
    "for i in range(len(X)):\n",
    "    temp += '${:s}$<br>'.format(latex(Eq((A*X)[i:i+1][0],Z[i])))\n",
    "\n",
    "Markdown(temp)"
   ]
  },
  {
   "cell_type": "markdown",
   "id": "688ef31f-9085-4978-9492-546f1c649a40",
   "metadata": {},
   "source": [
    "As shown above MNA generated many equations and these would be difficult to solve by hand and a symbolic soultion would take a lot of computing time. The equations are displace in matrix notation."
   ]
  },
  {
   "cell_type": "code",
   "execution_count": 6,
   "id": "0160c89d-cfb4-4154-9797-b36fc14cfcd3",
   "metadata": {},
   "outputs": [
    {
     "data": {
      "text/latex": [
       "$\\displaystyle \\left[\\begin{matrix}C_{2} s v_{1} - C_{2} s v_{3} + I_{L} + I_{V1}\\\\- C_{3} s v_{3} - I_{L} + v_{2} \\left(C_{1} s + C_{3} s\\right)\\\\- C_{2} s v_{1} - C_{3} s v_{2} + v_{3} \\left(C_{2} s + C_{3} s + \\frac{1}{R_{2}}\\right)\\\\v_{1}\\\\- I_{L} L s + v_{1} - v_{2}\\end{matrix}\\right] = \\left[\\begin{matrix}0\\\\0\\\\0\\\\V_{1}\\\\0\\end{matrix}\\right]$"
      ],
      "text/plain": [
       "⎡      C₂⋅s⋅v₁ - C₂⋅s⋅v₃ + I_L + I_V1      ⎤       \n",
       "⎢                                          ⎥   ⎡0 ⎤\n",
       "⎢    -C₃⋅s⋅v₃ - I_L + v₂⋅(C₁⋅s + C₃⋅s)     ⎥   ⎢  ⎥\n",
       "⎢                                          ⎥   ⎢0 ⎥\n",
       "⎢                        ⎛              1 ⎞⎥   ⎢  ⎥\n",
       "⎢-C₂⋅s⋅v₁ - C₃⋅s⋅v₂ + v₃⋅⎜C₂⋅s + C₃⋅s + ──⎟⎥ = ⎢0 ⎥\n",
       "⎢                        ⎝              R₂⎠⎥   ⎢  ⎥\n",
       "⎢                                          ⎥   ⎢V₁⎥\n",
       "⎢                    v₁                    ⎥   ⎢  ⎥\n",
       "⎢                                          ⎥   ⎣0 ⎦\n",
       "⎣            -I_L⋅L⋅s + v₁ - v₂            ⎦       "
      ]
     },
     "execution_count": 6,
     "metadata": {},
     "output_type": "execute_result"
    }
   ],
   "source": [
    "NE_sym"
   ]
  },
  {
   "cell_type": "markdown",
   "id": "bad1f3f3-c927-40db-abe9-6518b8d42cb2",
   "metadata": {},
   "source": [
    "The symbols generated by the Python code are extraced by the SymPy function free_symbols and then declared as SymPy variables. "
   ]
  },
  {
   "cell_type": "code",
   "execution_count": 7,
   "id": "cf2955f2-798c-4ebd-8a24-f7758a37aa53",
   "metadata": {},
   "outputs": [
    {
     "data": {
      "image/png": "[encoded data removed]",
      "text/latex": [
       "$\\displaystyle \\left( v_{2}, \\  s, \\  C_{3}, \\  R_{2}, \\  C_{1}, \\  C_{2}, \\  L, \\  I_{L}, \\  v_{1}, \\  I_{V1}, \\  V_{1}, \\  v_{3}\\right)$"
      ],
      "text/plain": [
       "(v₂, s, C₃, R₂, C₁, C₂, L, I_L, v₁, I_V1, V₁, v₃)"
      ]
     },
     "execution_count": 7,
     "metadata": {},
     "output_type": "execute_result"
    }
   ],
   "source": [
    "# turn the free symbols into SymPy variables\n",
    "var(str(NE_sym.free_symbols).replace('{','').replace('}',''))"
   ]
  },
  {
   "cell_type": "markdown",
   "id": "34c39f6d-2a74-4b48-9929-c286f261aeb1",
   "metadata": {},
   "source": [
    "### Transfer function\n",
    "Solving for the transfer function at node 2. Transfer functions are normally presented in the frequency domain and are steady state responses."
   ]
  },
  {
   "cell_type": "code",
   "execution_count": 8,
   "id": "731a6ada-9381-46c6-a0f5-899be0c5c368",
   "metadata": {},
   "outputs": [
    {
     "data": {
      "image/png": "[encoded data removed]",
      "text/latex": [
       "$\\displaystyle \\frac{C_{2} C_{3} L R_{2} V_{1} s^{3} + C_{2} R_{2} V_{1} s + C_{3} R_{2} V_{1} s + V_{1}}{V_{1} \\left(C_{1} C_{2} L R_{2} s^{3} + C_{1} C_{3} L R_{2} s^{3} + C_{1} L s^{2} + C_{2} C_{3} L R_{2} s^{3} + C_{2} R_{2} s + C_{3} L s^{2} + C_{3} R_{2} s + 1\\right)}$"
      ],
      "text/plain": [
       "                                      3                                       \n",
       "                       C₂⋅C₃⋅L⋅R₂⋅V₁⋅s  + C₂⋅R₂⋅V₁⋅s + C₃⋅R₂⋅V₁⋅s + V₁        \n",
       "──────────────────────────────────────────────────────────────────────────────\n",
       "   ⎛            3               3         2               3                   \n",
       "V₁⋅⎝C₁⋅C₂⋅L⋅R₂⋅s  + C₁⋅C₃⋅L⋅R₂⋅s  + C₁⋅L⋅s  + C₂⋅C₃⋅L⋅R₂⋅s  + C₂⋅R₂⋅s + C₃⋅L⋅s\n",
       "\n",
       "                \n",
       "                \n",
       "────────────────\n",
       "2              ⎞\n",
       "  + C₃⋅R₂⋅s + 1⎠"
      ]
     },
     "execution_count": 8,
     "metadata": {},
     "output_type": "execute_result"
    }
   ],
   "source": [
    "U_sym = solve(NE_sym,X)\n",
    "\n",
    "H2_sym = U_sym[v2]/U_sym[v1]\n",
    "H2_sym"
   ]
  },
  {
   "cell_type": "markdown",
   "id": "f7bb92c1-71c6-427b-8eeb-3dd4c39749d7",
   "metadata": {},
   "source": [
    "Collecting the s terms:"
   ]
  },
  {
   "cell_type": "code",
   "execution_count": 9,
   "id": "6ca7dc12-7beb-42b7-b889-65a8e810b16d",
   "metadata": {},
   "outputs": [
    {
     "data": {
      "image/png": "[encoded data removed]",
      "text/latex": [
       "$\\displaystyle \\frac{C_{2} C_{3} L R_{2} s^{3} + s \\left(C_{2} R_{2} + C_{3} R_{2}\\right) + 1}{s^{3} \\left(C_{1} C_{2} L R_{2} + C_{1} C_{3} L R_{2} + C_{2} C_{3} L R_{2}\\right) + s^{2} \\left(C_{1} L + C_{3} L\\right) + s \\left(C_{2} R_{2} + C_{3} R_{2}\\right) + 1}$"
      ],
      "text/plain": [
       "                                   3                                          \n",
       "                       C₂⋅C₃⋅L⋅R₂⋅s  + s⋅(C₂⋅R₂ + C₃⋅R₂) + 1                  \n",
       "──────────────────────────────────────────────────────────────────────────────\n",
       " 3                                           2                                \n",
       "s ⋅(C₁⋅C₂⋅L⋅R₂ + C₁⋅C₃⋅L⋅R₂ + C₂⋅C₃⋅L⋅R₂) + s ⋅(C₁⋅L + C₃⋅L) + s⋅(C₂⋅R₂ + C₃⋅R\n",
       "\n",
       "      \n",
       "      \n",
       "──────\n",
       "      \n",
       "₂) + 1"
      ]
     },
     "execution_count": 9,
     "metadata": {},
     "output_type": "execute_result"
    }
   ],
   "source": [
    "cancel(H2_sym,s)"
   ]
  },
  {
   "cell_type": "markdown",
   "id": "1e96446f-50d8-46c0-b307-538de980ca47",
   "metadata": {},
   "source": [
    "My transfer function equation does not agree with the answer provided by @user347817.\n",
    "\n",
    "Solving for the transfer function at node 3. "
   ]
  },
  {
   "cell_type": "code",
   "execution_count": 10,
   "id": "0003ba5c-bc02-465f-bd72-44b4a060c124",
   "metadata": {},
   "outputs": [
    {
     "data": {
      "image/png": "[encoded data removed]",
      "text/latex": [
       "$\\displaystyle \\frac{C_{1} C_{2} L R_{2} V_{1} s^{3} + C_{2} C_{3} L R_{2} V_{1} s^{3} + C_{2} R_{2} V_{1} s + C_{3} R_{2} V_{1} s}{V_{1} \\left(C_{1} C_{2} L R_{2} s^{3} + C_{1} C_{3} L R_{2} s^{3} + C_{1} L s^{2} + C_{2} C_{3} L R_{2} s^{3} + C_{2} R_{2} s + C_{3} L s^{2} + C_{3} R_{2} s + 1\\right)}$"
      ],
      "text/plain": [
       "                               3                  3                           \n",
       "                C₁⋅C₂⋅L⋅R₂⋅V₁⋅s  + C₂⋅C₃⋅L⋅R₂⋅V₁⋅s  + C₂⋅R₂⋅V₁⋅s + C₃⋅R₂⋅V₁⋅s \n",
       "──────────────────────────────────────────────────────────────────────────────\n",
       "   ⎛            3               3         2               3                   \n",
       "V₁⋅⎝C₁⋅C₂⋅L⋅R₂⋅s  + C₁⋅C₃⋅L⋅R₂⋅s  + C₁⋅L⋅s  + C₂⋅C₃⋅L⋅R₂⋅s  + C₂⋅R₂⋅s + C₃⋅L⋅s\n",
       "\n",
       "                \n",
       "                \n",
       "────────────────\n",
       "2              ⎞\n",
       "  + C₃⋅R₂⋅s + 1⎠"
      ]
     },
     "execution_count": 10,
     "metadata": {},
     "output_type": "execute_result"
    }
   ],
   "source": [
    "H3_sym = U_sym[v3]/U_sym[v1]\n",
    "H3_sym"
   ]
  },
  {
   "cell_type": "markdown",
   "id": "315bda8e-1586-41df-95b1-bf355464de3f",
   "metadata": {},
   "source": [
    "Collecting the s terms:"
   ]
  },
  {
   "cell_type": "code",
   "execution_count": 11,
   "id": "656ee5de-5e18-4980-a73e-d5df5bd1d118",
   "metadata": {},
   "outputs": [
    {
     "data": {
      "image/png": "[encoded data removed]",
      "text/latex": [
       "$\\displaystyle \\frac{s^{3} \\left(C_{1} C_{2} L R_{2} + C_{2} C_{3} L R_{2}\\right) + s \\left(C_{2} R_{2} + C_{3} R_{2}\\right)}{s^{3} \\left(C_{1} C_{2} L R_{2} + C_{1} C_{3} L R_{2} + C_{2} C_{3} L R_{2}\\right) + s^{2} \\left(C_{1} L + C_{3} L\\right) + s \\left(C_{2} R_{2} + C_{3} R_{2}\\right) + 1}$"
      ],
      "text/plain": [
       "                   3                                                          \n",
       "                  s ⋅(C₁⋅C₂⋅L⋅R₂ + C₂⋅C₃⋅L⋅R₂) + s⋅(C₂⋅R₂ + C₃⋅R₂)            \n",
       "──────────────────────────────────────────────────────────────────────────────\n",
       " 3                                           2                                \n",
       "s ⋅(C₁⋅C₂⋅L⋅R₂ + C₁⋅C₃⋅L⋅R₂ + C₂⋅C₃⋅L⋅R₂) + s ⋅(C₁⋅L + C₃⋅L) + s⋅(C₂⋅R₂ + C₃⋅R\n",
       "\n",
       "      \n",
       "      \n",
       "──────\n",
       "      \n",
       "₂) + 1"
      ]
     },
     "execution_count": 11,
     "metadata": {},
     "output_type": "execute_result"
    }
   ],
   "source": [
    "cancel(H3_sym,s)"
   ]
  },
  {
   "cell_type": "markdown",
   "id": "84da18ae-6bfe-46eb-a1f9-b0ec7d9c3acd",
   "metadata": {},
   "source": [
    "My answer for the node 3 transfer function does not agree with the 1st answer's node 3 transfer function. \n",
    "SE answer: numerator"
   ]
  },
  {
   "cell_type": "code",
   "execution_count": 12,
   "id": "02a88ffd-3006-4d0b-94f1-0e84dbefa0f9",
   "metadata": {},
   "outputs": [
    {
     "data": {
      "image/png": "[encoded data removed]",
      "text/latex": [
       "$\\displaystyle s \\left(C_{2} L R_{2} s^{2} \\left(C_{1} + C_{3}\\right) + R_{2} \\left(C_{2} + C_{3}\\right)\\right)$"
      ],
      "text/plain": [
       "  ⎛         2                         ⎞\n",
       "s⋅⎝C₂⋅L⋅R₂⋅s ⋅(C₁ + C₃) + R₂⋅(C₂ + C₃)⎠"
      ]
     },
     "execution_count": 12,
     "metadata": {},
     "output_type": "execute_result"
    }
   ],
   "source": [
    "s*((C3+C2)*R2+(C1+C3)*L*R2*C2*s**2)"
   ]
  },
  {
   "cell_type": "code",
   "execution_count": 13,
   "id": "9c046150-4202-4d7a-a06c-223a83143e36",
   "metadata": {},
   "outputs": [
    {
     "data": {
      "image/png": "[encoded data removed]",
      "text/latex": [
       "$\\displaystyle s^{3} \\left(C_{1} C_{2} L R_{2} + C_{2} C_{3} L R_{2}\\right) + s \\left(C_{2} R_{2} + C_{3} R_{2}\\right)$"
      ],
      "text/plain": [
       " 3                                              \n",
       "s ⋅(C₁⋅C₂⋅L⋅R₂ + C₂⋅C₃⋅L⋅R₂) + s⋅(C₂⋅R₂ + C₃⋅R₂)"
      ]
     },
     "execution_count": 13,
     "metadata": {},
     "output_type": "execute_result"
    }
   ],
   "source": [
    "cancel(s*((C3+C2)*R2+(C1+C3)*L*R2*C2*s**2),s)"
   ]
  },
  {
   "cell_type": "markdown",
   "id": "aa98f2d9-f76d-4d98-be11-168d5a31614a",
   "metadata": {},
   "source": [
    "numerator agrees\n",
    "\n",
    "denominator"
   ]
  },
  {
   "cell_type": "code",
   "execution_count": 14,
   "id": "9b1ed903-43a4-4a21-9249-9df3feb7dcd5",
   "metadata": {},
   "outputs": [
    {
     "data": {
      "image/png": "[encoded data removed]",
      "text/latex": [
       "$\\displaystyle \\left(C_{2} R_{2} s + 1\\right) \\left(L s^{2} \\left(C_{1} + C_{3}\\right) + 1\\right)$"
      ],
      "text/plain": [
       "              ⎛   2              ⎞\n",
       "(C₂⋅R₂⋅s + 1)⋅⎝L⋅s ⋅(C₁ + C₃) + 1⎠"
      ]
     },
     "execution_count": 14,
     "metadata": {},
     "output_type": "execute_result"
    }
   ],
   "source": [
    "(1+(C1+C3)*L*s**2)*(1+R2*C2*s)"
   ]
  },
  {
   "cell_type": "code",
   "execution_count": 15,
   "id": "0fd448ea-fbf5-420d-b4f0-20c637e29913",
   "metadata": {},
   "outputs": [
    {
     "data": {
      "image/png": "[encoded data removed]",
      "text/latex": [
       "$\\displaystyle C_{2} R_{2} s + s^{3} \\left(C_{1} C_{2} L R_{2} + C_{2} C_{3} L R_{2}\\right) + s^{2} \\left(C_{1} L + C_{3} L\\right) + 1$"
      ],
      "text/plain": [
       "           3                              2                  \n",
       "C₂⋅R₂⋅s + s ⋅(C₁⋅C₂⋅L⋅R₂ + C₂⋅C₃⋅L⋅R₂) + s ⋅(C₁⋅L + C₃⋅L) + 1"
      ]
     },
     "execution_count": 15,
     "metadata": {},
     "output_type": "execute_result"
    }
   ],
   "source": [
    "cancel((1+(C1+C3)*L*s**2)*(1+R2*C2*s),s)"
   ]
  },
  {
   "cell_type": "markdown",
   "id": "2f4143f2-4602-48b2-a742-8b230c4a276c",
   "metadata": {
    "tags": []
   },
   "source": [
    "Denominator does not agree"
   ]
  },
  {
   "cell_type": "code",
   "execution_count": 16,
   "id": "c323fddf-9185-4fc1-a4bd-8f16ac2584c3",
   "metadata": {},
   "outputs": [
    {
     "data": {
      "image/png": "[encoded data removed]",
      "text/latex": [
       "$\\displaystyle \\frac{s \\left(C_{2} L R_{2} s^{2} \\left(C_{1} + C_{3}\\right) + R_{2} \\left(C_{2} + C_{3}\\right)\\right)}{\\left(C_{2} R_{2} s + 1\\right) \\left(L s^{2} \\left(C_{1} + C_{3}\\right) + 1\\right)}$"
      ],
      "text/plain": [
       "  ⎛         2                         ⎞\n",
       "s⋅⎝C₂⋅L⋅R₂⋅s ⋅(C₁ + C₃) + R₂⋅(C₂ + C₃)⎠\n",
       "───────────────────────────────────────\n",
       "                 ⎛   2              ⎞  \n",
       "   (C₂⋅R₂⋅s + 1)⋅⎝L⋅s ⋅(C₁ + C₃) + 1⎠  "
      ]
     },
     "execution_count": 16,
     "metadata": {},
     "output_type": "execute_result"
    }
   ],
   "source": [
    "SE1 = (s*((C3+C2)*R2+(C1+C3)*L*R2*C2*s**2))/((1+(C1+C3)*L*s**2)*(1+R2*C2*s))\n",
    "SE1"
   ]
  },
  {
   "cell_type": "code",
   "execution_count": 17,
   "id": "049d3762-4685-4824-b0fa-dafcc5819fa2",
   "metadata": {},
   "outputs": [
    {
     "data": {
      "image/png": "[encoded data removed]",
      "text/latex": [
       "$\\displaystyle \\frac{s^{3} \\left(C_{1} C_{2} L R_{2} + C_{2} C_{3} L R_{2}\\right) + s \\left(C_{2} R_{2} + C_{3} R_{2}\\right)}{C_{2} R_{2} s + s^{3} \\left(C_{1} C_{2} L R_{2} + C_{2} C_{3} L R_{2}\\right) + s^{2} \\left(C_{1} L + C_{3} L\\right) + 1}$"
      ],
      "text/plain": [
       "        3                                                    \n",
       "       s ⋅(C₁⋅C₂⋅L⋅R₂ + C₂⋅C₃⋅L⋅R₂) + s⋅(C₂⋅R₂ + C₃⋅R₂)      \n",
       "─────────────────────────────────────────────────────────────\n",
       "           3                              2                  \n",
       "C₂⋅R₂⋅s + s ⋅(C₁⋅C₂⋅L⋅R₂ + C₂⋅C₃⋅L⋅R₂) + s ⋅(C₁⋅L + C₃⋅L) + 1"
      ]
     },
     "execution_count": 17,
     "metadata": {},
     "output_type": "execute_result"
    }
   ],
   "source": [
    "cancel(SE1,s)"
   ]
  },
  {
   "cell_type": "markdown",
   "id": "9adfad27-f90c-4fa6-8ae2-d074a4ee534f",
   "metadata": {
    "tags": []
   },
   "source": [
    "### Include the initial conditions\n",
    "Set initial conditions for C1, C2 and C3 by including independent voltage sources, V2, V3 and V4, and appling SymPy Heaveside function. The independent voltage source, V1 is a also a step function. Since V2, V3 and V4 are in series with capacitors, the steady state value of these sources is blocked and only the transient response is present. The netlist for @fig-bridge-t-smna is pasted into the cell below and some edits were made to remove the inductor series resistance and the independent sources are set to their DC values. "
   ]
  },
  {
   "cell_type": "code",
   "execution_count": 18,
   "id": "14683d94-0186-48dd-b070-4c9bb8d4d427",
   "metadata": {},
   "outputs": [],
   "source": [
    "net_list = '''\n",
    "V1 1 0 1\n",
    "C2 4 1 1\n",
    "C3 5 2 1\n",
    "C1 6 2 1\n",
    "L 1 2 1\n",
    "R2 3 0 1\n",
    "V2 4 3 1\n",
    "V3 6 0 1\n",
    "V4 3 5 1\n",
    "'''"
   ]
  },
  {
   "cell_type": "markdown",
   "id": "bbb26c63-397d-48c9-8cfd-50093db96d51",
   "metadata": {},
   "source": [
    "Generate the network equations."
   ]
  },
  {
   "cell_type": "code",
   "execution_count": 19,
   "id": "8dbb1426-e773-4190-bd98-035b212df422",
   "metadata": {},
   "outputs": [],
   "source": [
    "report, network_df, df2, A, X, Z = SymMNA.smna(net_list)\n",
    "\n",
    "# Put matricies into SymPy \n",
    "X = Matrix(X)\n",
    "Z = Matrix(Z)\n",
    "\n",
    "NE_ic_sym = Eq(A*X,Z)"
   ]
  },
  {
   "cell_type": "markdown",
   "id": "82e5bcad-87e7-4f76-95be-04e5d9d2f76f",
   "metadata": {},
   "source": [
    "Generate markdown text to display the network equations."
   ]
  },
  {
   "cell_type": "code",
   "execution_count": 20,
   "id": "fe021e34-2970-4edf-aeee-8fa368d923e8",
   "metadata": {},
   "outputs": [
    {
     "data": {
      "text/markdown": [
       "$C_{2} s v_{1} - C_{2} s v_{4} + I_{L} + I_{V1} = 0$<br>$- C_{1} s v_{6} - C_{3} s v_{5} - I_{L} + v_{2} \\left(C_{1} s + C_{3} s\\right) = 0$<br>$- I_{V2} + I_{V4} + \\frac{v_{3}}{R_{2}} = 0$<br>$- C_{2} s v_{1} + C_{2} s v_{4} + I_{V2} = 0$<br>$- C_{3} s v_{2} + C_{3} s v_{5} - I_{V4} = 0$<br>$- C_{1} s v_{2} + C_{1} s v_{6} + I_{V3} = 0$<br>$v_{1} = V_{1}$<br>$- v_{3} + v_{4} = V_{2}$<br>$v_{6} = V_{3}$<br>$v_{3} - v_{5} = V_{4}$<br>$- I_{L} L s + v_{1} - v_{2} = 0$<br>"
      ],
      "text/plain": [
       "<IPython.core.display.Markdown object>"
      ]
     },
     "execution_count": 20,
     "metadata": {},
     "output_type": "execute_result"
    }
   ],
   "source": [
    "temp = ''\n",
    "for i in range(len(X)):\n",
    "    temp += '${:s}$<br>'.format(latex(Eq((A*X)[i:i+1][0],Z[i])))\n",
    "\n",
    "Markdown(temp)"
   ]
  },
  {
   "cell_type": "markdown",
   "id": "ec689e3c-4d64-430d-8614-f738e92c5513",
   "metadata": {},
   "source": [
    "As shown above MNA generated many equations and these would be difficult to solve by hand and a symbolic soultion would take a lot of computing time. The equations are displace in matrix notation."
   ]
  },
  {
   "cell_type": "code",
   "execution_count": 21,
   "id": "dd144bea-2694-4d4f-83c4-750d9ced11dd",
   "metadata": {},
   "outputs": [
    {
     "data": {
      "text/latex": [
       "$\\displaystyle \\left[\\begin{matrix}C_{2} s v_{1} - C_{2} s v_{4} + I_{L} + I_{V1}\\\\- C_{1} s v_{6} - C_{3} s v_{5} - I_{L} + v_{2} \\left(C_{1} s + C_{3} s\\right)\\\\- I_{V2} + I_{V4} + \\frac{v_{3}}{R_{2}}\\\\- C_{2} s v_{1} + C_{2} s v_{4} + I_{V2}\\\\- C_{3} s v_{2} + C_{3} s v_{5} - I_{V4}\\\\- C_{1} s v_{2} + C_{1} s v_{6} + I_{V3}\\\\v_{1}\\\\- v_{3} + v_{4}\\\\v_{6}\\\\v_{3} - v_{5}\\\\- I_{L} L s + v_{1} - v_{2}\\end{matrix}\\right] = \\left[\\begin{matrix}0\\\\0\\\\0\\\\0\\\\0\\\\0\\\\V_{1}\\\\V_{2}\\\\V_{3}\\\\V_{4}\\\\0\\end{matrix}\\right]$"
      ],
      "text/plain": [
       "⎡      C₂⋅s⋅v₁ - C₂⋅s⋅v₄ + I_L + I_V1       ⎤       \n",
       "⎢                                           ⎥   ⎡0 ⎤\n",
       "⎢-C₁⋅s⋅v₆ - C₃⋅s⋅v₅ - I_L + v₂⋅(C₁⋅s + C₃⋅s)⎥   ⎢  ⎥\n",
       "⎢                                           ⎥   ⎢0 ⎥\n",
       "⎢                            v₃             ⎥   ⎢  ⎥\n",
       "⎢             -I_V2 + I_V4 + ──             ⎥   ⎢0 ⎥\n",
       "⎢                            R₂             ⎥   ⎢  ⎥\n",
       "⎢                                           ⎥   ⎢0 ⎥\n",
       "⎢         -C₂⋅s⋅v₁ + C₂⋅s⋅v₄ + I_V2         ⎥   ⎢  ⎥\n",
       "⎢                                           ⎥   ⎢0 ⎥\n",
       "⎢         -C₃⋅s⋅v₂ + C₃⋅s⋅v₅ - I_V4         ⎥   ⎢  ⎥\n",
       "⎢                                           ⎥ = ⎢0 ⎥\n",
       "⎢         -C₁⋅s⋅v₂ + C₁⋅s⋅v₆ + I_V3         ⎥   ⎢  ⎥\n",
       "⎢                                           ⎥   ⎢V₁⎥\n",
       "⎢                    v₁                     ⎥   ⎢  ⎥\n",
       "⎢                                           ⎥   ⎢V₂⎥\n",
       "⎢                 -v₃ + v₄                  ⎥   ⎢  ⎥\n",
       "⎢                                           ⎥   ⎢V₃⎥\n",
       "⎢                    v₆                     ⎥   ⎢  ⎥\n",
       "⎢                                           ⎥   ⎢V₄⎥\n",
       "⎢                  v₃ - v₅                  ⎥   ⎢  ⎥\n",
       "⎢                                           ⎥   ⎣0 ⎦\n",
       "⎣            -I_L⋅L⋅s + v₁ - v₂             ⎦       "
      ]
     },
     "execution_count": 21,
     "metadata": {},
     "output_type": "execute_result"
    }
   ],
   "source": [
    "NE_ic_sym"
   ]
  },
  {
   "cell_type": "markdown",
   "id": "ea1a032d-4e7e-46df-8418-328b9c86946c",
   "metadata": {},
   "source": [
    "The symbols generated by the Python code are extraced by the SymPy function free_symbols and then declared as SymPy variables. "
   ]
  },
  {
   "cell_type": "code",
   "execution_count": 22,
   "id": "9e330aaa-9488-4009-8eef-7ceff0723d94",
   "metadata": {},
   "outputs": [
    {
     "data": {
      "image/png": "[encoded data removed]",
      "text/latex": [
       "$\\displaystyle \\left( v_{2}, \\  C_{3}, \\  R_{2}, \\  v_{5}, \\  v_{6}, \\  C_{2}, \\  v_{1}, \\  I_{V1}, \\  V_{4}, \\  V_{1}, \\  V_{3}, \\  I_{V2}, \\  s, \\  C_{1}, \\  L, \\  I_{L}, \\  v_{4}, \\  I_{V3}, \\  V_{2}, \\  I_{V4}, \\  v_{3}\\right)$"
      ],
      "text/plain": [
       "(v₂, C₃, R₂, v₅, v₆, C₂, v₁, I_V1, V₄, V₁, V₃, I_V2, s, C₁, L, I_L, v₄, I_V3, \n",
       "V₂, I_V4, v₃)"
      ]
     },
     "execution_count": 22,
     "metadata": {},
     "output_type": "execute_result"
    }
   ],
   "source": [
    "# turn the free symbols into SymPy variables\n",
    "var(str(NE_ic_sym.free_symbols).replace('{','').replace('}',''))"
   ]
  },
  {
   "cell_type": "markdown",
   "id": "ccf6b946-f7e4-4730-b74e-27b01716d23c",
   "metadata": {},
   "source": [
    "The SymPy Heaviside function is used to define the initial current and voltage on the inductor and capacitor. The equivalent circuit in s domain has a capacitor C with impedance 1/(sC) and a voltage source v(0)/s in series."
   ]
  },
  {
   "cell_type": "code",
   "execution_count": 23,
   "id": "4ca5b77b-f300-4637-9d53-c59d3ee443f8",
   "metadata": {},
   "outputs": [
    {
     "data": {
      "text/latex": [
       "$\\displaystyle \\left[\\begin{matrix}C_{2} s v_{1} - C_{2} s v_{4} + I_{L} + I_{V1}\\\\- C_{1} s v_{6} - C_{3} s v_{5} - I_{L} + v_{2} \\left(C_{1} s + C_{3} s\\right)\\\\- I_{V2} + I_{V4} + \\frac{v_{3}}{R_{2}}\\\\- C_{2} s v_{1} + C_{2} s v_{4} + I_{V2}\\\\- C_{3} s v_{2} + C_{3} s v_{5} - I_{V4}\\\\- C_{1} s v_{2} + C_{1} s v_{6} + I_{V3}\\\\v_{1}\\\\- v_{3} + v_{4}\\\\v_{6}\\\\v_{3} - v_{5}\\\\- I_{L} L s + v_{1} - v_{2}\\end{matrix}\\right] = \\left[\\begin{matrix}0\\\\0\\\\0\\\\0\\\\0\\\\0\\\\\\frac{V_{1}}{s}\\\\\\frac{V_{2}}{s}\\\\\\frac{V_{3}}{s}\\\\\\frac{V_{4}}{s}\\\\0\\end{matrix}\\right]$"
      ],
      "text/plain": [
       "                                                ⎡0 ⎤\n",
       "                                                ⎢  ⎥\n",
       "                                                ⎢0 ⎥\n",
       "⎡      C₂⋅s⋅v₁ - C₂⋅s⋅v₄ + I_L + I_V1       ⎤   ⎢  ⎥\n",
       "⎢                                           ⎥   ⎢0 ⎥\n",
       "⎢-C₁⋅s⋅v₆ - C₃⋅s⋅v₅ - I_L + v₂⋅(C₁⋅s + C₃⋅s)⎥   ⎢  ⎥\n",
       "⎢                                           ⎥   ⎢0 ⎥\n",
       "⎢                            v₃             ⎥   ⎢  ⎥\n",
       "⎢             -I_V2 + I_V4 + ──             ⎥   ⎢0 ⎥\n",
       "⎢                            R₂             ⎥   ⎢  ⎥\n",
       "⎢                                           ⎥   ⎢0 ⎥\n",
       "⎢         -C₂⋅s⋅v₁ + C₂⋅s⋅v₄ + I_V2         ⎥   ⎢  ⎥\n",
       "⎢                                           ⎥   ⎢V₁⎥\n",
       "⎢         -C₃⋅s⋅v₂ + C₃⋅s⋅v₅ - I_V4         ⎥   ⎢──⎥\n",
       "⎢                                           ⎥ = ⎢s ⎥\n",
       "⎢         -C₁⋅s⋅v₂ + C₁⋅s⋅v₆ + I_V3         ⎥   ⎢  ⎥\n",
       "⎢                                           ⎥   ⎢V₂⎥\n",
       "⎢                    v₁                     ⎥   ⎢──⎥\n",
       "⎢                                           ⎥   ⎢s ⎥\n",
       "⎢                 -v₃ + v₄                  ⎥   ⎢  ⎥\n",
       "⎢                                           ⎥   ⎢V₃⎥\n",
       "⎢                    v₆                     ⎥   ⎢──⎥\n",
       "⎢                                           ⎥   ⎢s ⎥\n",
       "⎢                  v₃ - v₅                  ⎥   ⎢  ⎥\n",
       "⎢                                           ⎥   ⎢V₄⎥\n",
       "⎣            -I_L⋅L⋅s + v₁ - v₂             ⎦   ⎢──⎥\n",
       "                                                ⎢s ⎥\n",
       "                                                ⎢  ⎥\n",
       "                                                ⎣0 ⎦"
      ]
     },
     "execution_count": 23,
     "metadata": {},
     "output_type": "execute_result"
    }
   ],
   "source": [
    "NE_ic_sym = NE_ic_sym.subs({V1:laplace_transform(V1*Heaviside(t), t, s)[0], V2:laplace_transform(V2*Heaviside(t), t, s)[0], V3:laplace_transform(V3*Heaviside(t), t, s)[0], V4:laplace_transform(V4*Heaviside(t), t, s)[0]})\n",
    "NE_ic_sym"
   ]
  },
  {
   "cell_type": "markdown",
   "id": "6035e0c7-c19b-4eb9-8977-72d72a5868c4",
   "metadata": {},
   "source": [
    "Generate and display the symbolic solution."
   ]
  },
  {
   "cell_type": "code",
   "execution_count": 24,
   "id": "b08f85ec-7a00-482f-821a-66abfcf3b21e",
   "metadata": {},
   "outputs": [
    {
     "data": {
      "text/markdown": [
       "$v_{1} = \\frac{V_{1}}{s}$<br>$v_{2} = \\frac{C_{1} C_{2} L R_{2} V_{3} s^{3} + C_{1} C_{3} L R_{2} V_{3} s^{3} + C_{1} L V_{3} s^{2} + C_{2} C_{3} L R_{2} V_{1} s^{3} - C_{2} C_{3} L R_{2} V_{2} s^{3} - C_{2} C_{3} L R_{2} V_{4} s^{3} + C_{2} R_{2} V_{1} s - C_{3} L V_{4} s^{2} + C_{3} R_{2} V_{1} s + V_{1}}{C_{1} C_{2} L R_{2} s^{4} + C_{1} C_{3} L R_{2} s^{4} + C_{1} L s^{3} + C_{2} C_{3} L R_{2} s^{4} + C_{2} R_{2} s^{2} + C_{3} L s^{3} + C_{3} R_{2} s^{2} + s}$<br>$v_{3} = \\frac{C_{1} C_{2} L R_{2} V_{1} s^{2} - C_{1} C_{2} L R_{2} V_{2} s^{2} + C_{1} C_{3} L R_{2} V_{3} s^{2} + C_{1} C_{3} L R_{2} V_{4} s^{2} + C_{2} C_{3} L R_{2} V_{1} s^{2} - C_{2} C_{3} L R_{2} V_{2} s^{2} + C_{2} R_{2} V_{1} - C_{2} R_{2} V_{2} + C_{3} R_{2} V_{1} + C_{3} R_{2} V_{4}}{C_{1} C_{2} L R_{2} s^{3} + C_{1} C_{3} L R_{2} s^{3} + C_{1} L s^{2} + C_{2} C_{3} L R_{2} s^{3} + C_{2} R_{2} s + C_{3} L s^{2} + C_{3} R_{2} s + 1}$<br>$v_{4} = \\frac{C_{1} C_{2} L R_{2} V_{1} s^{3} + C_{1} C_{3} L R_{2} V_{2} s^{3} + C_{1} C_{3} L R_{2} V_{3} s^{3} + C_{1} C_{3} L R_{2} V_{4} s^{3} + C_{1} L V_{2} s^{2} + C_{2} C_{3} L R_{2} V_{1} s^{3} + C_{2} R_{2} V_{1} s + C_{3} L V_{2} s^{2} + C_{3} R_{2} V_{1} s + C_{3} R_{2} V_{2} s + C_{3} R_{2} V_{4} s + V_{2}}{C_{1} C_{2} L R_{2} s^{4} + C_{1} C_{3} L R_{2} s^{4} + C_{1} L s^{3} + C_{2} C_{3} L R_{2} s^{4} + C_{2} R_{2} s^{2} + C_{3} L s^{3} + C_{3} R_{2} s^{2} + s}$<br>$v_{5} = \\frac{C_{1} C_{2} L R_{2} V_{1} s^{3} - C_{1} C_{2} L R_{2} V_{2} s^{3} - C_{1} C_{2} L R_{2} V_{4} s^{3} + C_{1} C_{3} L R_{2} V_{3} s^{3} - C_{1} L V_{4} s^{2} + C_{2} C_{3} L R_{2} V_{1} s^{3} - C_{2} C_{3} L R_{2} V_{2} s^{3} - C_{2} C_{3} L R_{2} V_{4} s^{3} + C_{2} R_{2} V_{1} s - C_{2} R_{2} V_{2} s - C_{2} R_{2} V_{4} s - C_{3} L V_{4} s^{2} + C_{3} R_{2} V_{1} s - V_{4}}{C_{1} C_{2} L R_{2} s^{4} + C_{1} C_{3} L R_{2} s^{4} + C_{1} L s^{3} + C_{2} C_{3} L R_{2} s^{4} + C_{2} R_{2} s^{2} + C_{3} L s^{3} + C_{3} R_{2} s^{2} + s}$<br>$v_{6} = \\frac{V_{3}}{s}$<br>$I_{V1} = \\frac{- C_{1} C_{2} C_{3} L R_{2} V_{1} s^{3} + C_{1} C_{2} C_{3} L R_{2} V_{2} s^{3} + C_{1} C_{2} C_{3} L R_{2} V_{3} s^{3} + C_{1} C_{2} C_{3} L R_{2} V_{4} s^{3} - C_{1} C_{2} L V_{1} s^{2} + C_{1} C_{2} L V_{2} s^{2} - C_{1} C_{2} R_{2} V_{1} s + C_{1} C_{2} R_{2} V_{3} s - C_{1} C_{3} R_{2} V_{1} s + C_{1} C_{3} R_{2} V_{3} s - C_{1} V_{1} + C_{1} V_{3} - C_{2} C_{3} L V_{1} s^{2} + C_{2} C_{3} L V_{2} s^{2} - C_{2} V_{1} + C_{2} V_{2} - C_{3} V_{1} - C_{3} V_{4}}{C_{1} C_{2} L R_{2} s^{3} + C_{1} C_{3} L R_{2} s^{3} + C_{1} L s^{2} + C_{2} C_{3} L R_{2} s^{3} + C_{2} R_{2} s + C_{3} L s^{2} + C_{3} R_{2} s + 1}$<br>$I_{V2} = \\frac{C_{1} C_{2} C_{3} L R_{2} V_{1} s^{3} - C_{1} C_{2} C_{3} L R_{2} V_{2} s^{3} - C_{1} C_{2} C_{3} L R_{2} V_{3} s^{3} - C_{1} C_{2} C_{3} L R_{2} V_{4} s^{3} + C_{1} C_{2} L V_{1} s^{2} - C_{1} C_{2} L V_{2} s^{2} + C_{2} C_{3} L V_{1} s^{2} - C_{2} C_{3} L V_{2} s^{2} - C_{2} C_{3} R_{2} V_{2} s - C_{2} C_{3} R_{2} V_{4} s + C_{2} V_{1} - C_{2} V_{2}}{C_{1} C_{2} L R_{2} s^{3} + C_{1} C_{3} L R_{2} s^{3} + C_{1} L s^{2} + C_{2} C_{3} L R_{2} s^{3} + C_{2} R_{2} s + C_{3} L s^{2} + C_{3} R_{2} s + 1}$<br>$I_{V3} = \\frac{C_{1} C_{2} C_{3} L R_{2} V_{1} s^{3} - C_{1} C_{2} C_{3} L R_{2} V_{2} s^{3} - C_{1} C_{2} C_{3} L R_{2} V_{3} s^{3} - C_{1} C_{2} C_{3} L R_{2} V_{4} s^{3} + C_{1} C_{2} R_{2} V_{1} s - C_{1} C_{2} R_{2} V_{3} s - C_{1} C_{3} L V_{3} s^{2} - C_{1} C_{3} L V_{4} s^{2} + C_{1} C_{3} R_{2} V_{1} s - C_{1} C_{3} R_{2} V_{3} s + C_{1} V_{1} - C_{1} V_{3}}{C_{1} C_{2} L R_{2} s^{3} + C_{1} C_{3} L R_{2} s^{3} + C_{1} L s^{2} + C_{2} C_{3} L R_{2} s^{3} + C_{2} R_{2} s + C_{3} L s^{2} + C_{3} R_{2} s + 1}$<br>$I_{V4} = \\frac{C_{1} C_{2} C_{3} L R_{2} V_{1} s^{3} - C_{1} C_{2} C_{3} L R_{2} V_{2} s^{3} - C_{1} C_{2} C_{3} L R_{2} V_{3} s^{3} - C_{1} C_{2} C_{3} L R_{2} V_{4} s^{3} - C_{1} C_{3} L V_{3} s^{2} - C_{1} C_{3} L V_{4} s^{2} - C_{2} C_{3} R_{2} V_{2} s - C_{2} C_{3} R_{2} V_{4} s - C_{3} V_{1} - C_{3} V_{4}}{C_{1} C_{2} L R_{2} s^{3} + C_{1} C_{3} L R_{2} s^{3} + C_{1} L s^{2} + C_{2} C_{3} L R_{2} s^{3} + C_{2} R_{2} s + C_{3} L s^{2} + C_{3} R_{2} s + 1}$<br>$I_{L} = \\frac{C_{1} C_{2} R_{2} V_{1} s - C_{1} C_{2} R_{2} V_{3} s + C_{1} C_{3} R_{2} V_{1} s - C_{1} C_{3} R_{2} V_{3} s + C_{1} V_{1} - C_{1} V_{3} + C_{2} C_{3} R_{2} V_{2} s + C_{2} C_{3} R_{2} V_{4} s + C_{3} V_{1} + C_{3} V_{4}}{C_{1} C_{2} L R_{2} s^{3} + C_{1} C_{3} L R_{2} s^{3} + C_{1} L s^{2} + C_{2} C_{3} L R_{2} s^{3} + C_{2} R_{2} s + C_{3} L s^{2} + C_{3} R_{2} s + 1}$<br>"
      ],
      "text/plain": [
       "<IPython.core.display.Markdown object>"
      ]
     },
     "execution_count": 24,
     "metadata": {},
     "output_type": "execute_result"
    }
   ],
   "source": [
    "U_ic_sym = solve(NE_ic_sym,X)\n",
    "\n",
    "temp = ''\n",
    "for i in U_ic_sym.keys():\n",
    "    temp += '${:s} = {:s}$<br>'.format(latex(i),latex(U_ic_sym[i]))\n",
    "\n",
    "Markdown(temp)"
   ]
  },
  {
   "cell_type": "markdown",
   "id": "8d828365-7e4a-4be2-a9ef-fe19423bfae3",
   "metadata": {},
   "source": [
    "Network equations and solution in symbolic form are seaily obtained. These equations are in the frequency domain and if transformed back to the time domain, they would be differential equations. But not necessarily in the form of state equations. In this case the equations are a little too long to provide any insight into the operation of the circuit.\n",
    "\n",
    "## Initial conditions with component values\n",
    "Get element values from network dataframe. As describe above, the orginal question didn't have values associated with the components, so I'm using a value of one for all the values."
   ]
  },
  {
   "cell_type": "code",
   "execution_count": 25,
   "id": "f6b5a6ca-9335-418f-bb26-4dba03e613a8",
   "metadata": {},
   "outputs": [
    {
     "data": {
      "image/png": "[encoded data removed]",
      "text/latex": [
       "$\\displaystyle \\left\\{ C_{1} : 1.0, \\  C_{2} : 1.0, \\  C_{3} : 1.0, \\  L : 1.0, \\  R_{2} : 1.0, \\  V_{1} : 1.0, \\  V_{2} : 1.0, \\  V_{3} : 1.0, \\  V_{4} : 1.0\\right\\}$"
      ],
      "text/plain": [
       "{C₁: 1.0, C₂: 1.0, C₃: 1.0, L: 1.0, R₂: 1.0, V₁: 1.0, V₂: 1.0, V₃: 1.0, V₄: 1.\n",
       "0}"
      ]
     },
     "execution_count": 25,
     "metadata": {},
     "output_type": "execute_result"
    }
   ],
   "source": [
    "element_values = SymMNA.get_part_values(network_df)\n",
    "element_values"
   ]
  },
  {
   "cell_type": "code",
   "execution_count": 26,
   "id": "9ae2fe71-f2d0-49aa-b441-7f0a5304936e",
   "metadata": {},
   "outputs": [
    {
     "data": {
      "text/latex": [
       "$\\displaystyle \\left[\\begin{matrix}I_{L} + I_{V1} + 1.0 s v_{1} - 1.0 s v_{4}\\\\- I_{L} + 2.0 s v_{2} - 1.0 s v_{5} - 1.0 s v_{6}\\\\- I_{V2} + I_{V4} + 1.0 v_{3}\\\\I_{V2} - 1.0 s v_{1} + 1.0 s v_{4}\\\\- I_{V4} - 1.0 s v_{2} + 1.0 s v_{5}\\\\I_{V3} - 1.0 s v_{2} + 1.0 s v_{6}\\\\v_{1}\\\\- v_{3} + v_{4}\\\\v_{6}\\\\v_{3} - v_{5}\\\\- 1.0 I_{L} s + v_{1} - v_{2}\\end{matrix}\\right] = \\left[\\begin{matrix}0\\\\0\\\\0\\\\0\\\\0\\\\0\\\\\\frac{1.0}{s}\\\\\\frac{1.0}{s}\\\\\\frac{1.0}{s}\\\\\\frac{1.0}{s}\\\\0\\end{matrix}\\right]$"
      ],
      "text/plain": [
       "                                  ⎡ 0 ⎤\n",
       "                                  ⎢   ⎥\n",
       "                                  ⎢ 0 ⎥\n",
       "                                  ⎢   ⎥\n",
       "⎡I_L + I_V1 + 1.0⋅s⋅v₁ - s⋅v₄ ⎤   ⎢ 0 ⎥\n",
       "⎢                             ⎥   ⎢   ⎥\n",
       "⎢-I_L + 2.0⋅s⋅v₂ - s⋅v₅ - s⋅v₆⎥   ⎢ 0 ⎥\n",
       "⎢                             ⎥   ⎢   ⎥\n",
       "⎢    -I_V2 + I_V4 + 1.0⋅v₃    ⎥   ⎢ 0 ⎥\n",
       "⎢                             ⎥   ⎢   ⎥\n",
       "⎢   I_V2 - s⋅v₁ + 1.0⋅s⋅v₄    ⎥   ⎢ 0 ⎥\n",
       "⎢                             ⎥   ⎢   ⎥\n",
       "⎢   -I_V4 - s⋅v₂ + 1.0⋅s⋅v₅   ⎥   ⎢1.0⎥\n",
       "⎢                             ⎥   ⎢───⎥\n",
       "⎢   I_V3 - s⋅v₂ + 1.0⋅s⋅v₆    ⎥ = ⎢ s ⎥\n",
       "⎢                             ⎥   ⎢   ⎥\n",
       "⎢             v₁              ⎥   ⎢1.0⎥\n",
       "⎢                             ⎥   ⎢───⎥\n",
       "⎢          -v₃ + v₄           ⎥   ⎢ s ⎥\n",
       "⎢                             ⎥   ⎢   ⎥\n",
       "⎢             v₆              ⎥   ⎢1.0⎥\n",
       "⎢                             ⎥   ⎢───⎥\n",
       "⎢           v₃ - v₅           ⎥   ⎢ s ⎥\n",
       "⎢                             ⎥   ⎢   ⎥\n",
       "⎣      -I_L⋅s + v₁ - v₂       ⎦   ⎢1.0⎥\n",
       "                                  ⎢───⎥\n",
       "                                  ⎢ s ⎥\n",
       "                                  ⎢   ⎥\n",
       "                                  ⎣ 0 ⎦"
      ]
     },
     "execution_count": 26,
     "metadata": {},
     "output_type": "execute_result"
    }
   ],
   "source": [
    "NE_ic = NE_ic_sym.subs(element_values)\n",
    "NE_ic"
   ]
  },
  {
   "cell_type": "markdown",
   "id": "f4a49ea5-9af6-40e2-820c-96b4a575ce89",
   "metadata": {},
   "source": [
    "Solve the network equations and display the results."
   ]
  },
  {
   "cell_type": "code",
   "execution_count": 27,
   "id": "75d558a3-5b6b-4376-9b35-37f02159ae2b",
   "metadata": {},
   "outputs": [
    {
     "data": {
      "text/markdown": [
       "$v_{1} = \\frac{1}{s}$<br>$v_{2} = \\frac{s^{3} + 2.0 s + 1.0}{3.0 s^{4} + 2.0 s^{3} + 2.0 s^{2} + s}$<br>$v_{3} = \\frac{2.0 s^{2} + 2.0}{3.0 s^{3} + 2.0 s^{2} + 2.0 s + 1.0}$<br>$v_{4} = \\frac{5.0 s^{3} + 2.0 s^{2} + 4.0 s + 1.0}{3.0 s^{4} + 2.0 s^{3} + 2.0 s^{2} + s}$<br>$v_{5} = \\frac{- s^{3} - 2.0 s^{2} - 1.0}{3.0 s^{4} + 2.0 s^{3} + 2.0 s^{2} + s}$<br>$v_{6} = \\frac{1}{s}$<br>$I_{V1} = \\frac{2.0 s^{3} - 2.0}{3.0 s^{3} + 2.0 s^{2} + 2.0 s + 1.0}$<br>$I_{V2} = \\frac{- 2.0 s^{3} - 2.0 s}{3.0 s^{3} + 2.0 s^{2} + 2.0 s + 1.0}$<br>$I_{V3} = \\frac{- 2.0 s^{3} - 2.0 s^{2}}{3.0 s^{3} + 2.0 s^{2} + 2.0 s + 1.0}$<br>$I_{V4} = \\frac{- 2.0 s^{3} - 2.0 s^{2} - 2.0 s - 2.0}{3.0 s^{3} + 2.0 s^{2} + 2.0 s + 1.0}$<br>$I_{L} = \\frac{2.0 s + 2.0}{3.0 s^{3} + 2.0 s^{2} + 2.0 s + 1.0}$<br>"
      ],
      "text/plain": [
       "<IPython.core.display.Markdown object>"
      ]
     },
     "execution_count": 27,
     "metadata": {},
     "output_type": "execute_result"
    }
   ],
   "source": [
    "U_ic = solve(NE_ic,X)\n",
    "\n",
    "temp = ''\n",
    "for i in U_ic.keys():\n",
    "    temp += '${:s} = {:s}$<br>'.format(latex(i),latex(U_ic[i]))\n",
    "\n",
    "Markdown(temp)"
   ]
  },
  {
   "cell_type": "markdown",
   "id": "9e170628-1af9-4551-b535-e2ff9c9ca6e6",
   "metadata": {},
   "source": [
    "## Node 2 voltage"
   ]
  },
  {
   "cell_type": "code",
   "execution_count": 28,
   "id": "0750165d-7abd-426d-aba7-6d0d86d23a62",
   "metadata": {},
   "outputs": [
    {
     "data": {
      "image/png": "[encoded data removed]",
      "text/latex": [
       "$\\displaystyle \\frac{s^{3} + 2 s + 1}{s \\left(3 s^{3} + 2 s^{2} + 2 s + 1\\right)}$"
      ],
      "text/plain": [
       "        3                \n",
       "       s  + 2⋅s + 1      \n",
       "─────────────────────────\n",
       "  ⎛   3      2          ⎞\n",
       "s⋅⎝3⋅s  + 2⋅s  + 2⋅s + 1⎠"
      ]
     },
     "execution_count": 28,
     "metadata": {},
     "output_type": "execute_result"
    }
   ],
   "source": [
    "node2 = U_ic[v2].nsimplify().simplify().expand().together()\n",
    "node2"
   ]
  },
  {
   "cell_type": "markdown",
   "id": "7fcff9e8-0149-4e84-b1d1-07f9b395fd65",
   "metadata": {},
   "source": [
    "The inverse Laplace was taking too long, so the lines of code were commented out"
   ]
  },
  {
   "cell_type": "code",
   "execution_count": 29,
   "id": "7007a0b2-3b83-4899-8da1-5db31fdb5402",
   "metadata": {},
   "outputs": [],
   "source": [
    "#node_2_voltage = inverse_laplace_transform(temp, s, t)\n",
    "#node_2_voltage"
   ]
  },
  {
   "cell_type": "markdown",
   "id": "605c368c-6371-4302-957c-523fcb9ff40a",
   "metadata": {},
   "source": [
    "Using NumPy to obtain the partial fraction expansion, convert back to the s domain and then take the inverse Laplace transform on each term.\n",
    "\n",
    "Extract the numerator and denominator and display."
   ]
  },
  {
   "cell_type": "code",
   "execution_count": 30,
   "id": "2247fc89-84dd-42ae-bd50-5dc7157b6101",
   "metadata": {},
   "outputs": [
    {
     "data": {
      "text/markdown": [
       "numerator: $s^{3} + 2 s + 1$<br>denominator: $s \\left(3 s^{3} + 2 s^{2} + 2 s + 1\\right)$"
      ],
      "text/plain": [
       "<IPython.core.display.Markdown object>"
      ]
     },
     "execution_count": 30,
     "metadata": {},
     "output_type": "execute_result"
    }
   ],
   "source": [
    "n, d = fraction(node2)\n",
    "n = n.expand()\n",
    "Markdown('numerator: ${:s}$<br>denominator: ${:s}$'.format(latex(n),latex(d)))"
   ]
  },
  {
   "cell_type": "markdown",
   "id": "08ef824d-f670-473b-9f9c-60d1fd7c1f64",
   "metadata": {},
   "source": [
    "Each of the numerator terms can be put over the common denominator."
   ]
  },
  {
   "cell_type": "code",
   "execution_count": 31,
   "id": "eedcd8bf-4a3a-450b-9d7b-0d63b3745430",
   "metadata": {},
   "outputs": [
    {
     "data": {
      "image/png": "[encoded data removed]",
      "text/latex": [
       "$\\displaystyle \\left[ \\frac{1}{s \\left(3 s^{3} + 2 s^{2} + 2 s + 1\\right)}, \\  \\frac{s^{2}}{3 s^{3} + 2 s^{2} + 2 s + 1}, \\  \\frac{2}{3 s^{3} + 2 s^{2} + 2 s + 1}\\right]$"
      ],
      "text/plain": [
       "⎡                                      2                                ⎤\n",
       "⎢            1                        s                      2          ⎥\n",
       "⎢─────────────────────────, ─────────────────────, ─────────────────────⎥\n",
       "⎢  ⎛   3      2          ⎞     3      2               3      2          ⎥\n",
       "⎣s⋅⎝3⋅s  + 2⋅s  + 2⋅s + 1⎠  3⋅s  + 2⋅s  + 2⋅s + 1  3⋅s  + 2⋅s  + 2⋅s + 1⎦"
      ]
     },
     "metadata": {},
     "output_type": "display_data"
    }
   ],
   "source": [
    "terms = [a / d for a in n.args]\n",
    "display(terms)"
   ]
  },
  {
   "cell_type": "markdown",
   "id": "9300b6a0-25de-45f8-b3e9-ce7d4fcad4df",
   "metadata": {},
   "source": [
    "The following code processes each of the terms obtained above. \n",
    "\n",
    "- the SciPy function [residue](https://docs.scipy.org/doc/scipy/reference/generated/scipy.signal.residue.html) is used to get the residues and poles of the partial-fraction expansion\n",
    "- build the partial expansion terms and find the inverse Laplace of each term and save\n",
    "\n",
    "Returns:\n",
    "\n",
    "- r: Residues corresponding to the poles. For repeated poles, the residues are ordered to correspond to ascending by power fractions.\n",
    "- p: Poles ordered by magnitude in ascending order.\n",
    "- k: Coefficients of the direct polynomial term.\n",
    "\n",
    "When computing the inverse Laplace transform, the Coefficients (k) are ignored since these transform to a Dirac delta function, $\\delta (t)$ and don't need to be plotted."
   ]
  },
  {
   "cell_type": "code",
   "execution_count": 32,
   "id": "906aee13-c9b9-4373-b44b-6676139a6d5b",
   "metadata": {},
   "outputs": [],
   "source": [
    "N = []\n",
    "\n",
    "for p in terms:\n",
    "\n",
    "    # use the SciPy residue function to get the partial-fraction expansion residues and poles\n",
    "    n, d = fraction(p)\n",
    "    cn = Poly(n, s).all_coeffs()\n",
    "    cd = Poly(d, s).all_coeffs()\n",
    "    r, p, k = signal.residue(cn, cd, tol=0.001, rtype='avg')\n",
    "\n",
    "    # build a symbolic expression for each of the residues and find the inverse Laplace of each one and save\n",
    "    z = 0\n",
    "    for i in range(len(r)):\n",
    "        m = (r[i]/(s-p[i]))\n",
    "        z += inverse_laplace_transform(m, s, t)\n",
    "\n",
    "    N.append(z)"
   ]
  },
  {
   "cell_type": "markdown",
   "id": "ca0f061a-1966-477c-99c2-2d94bfc48f03",
   "metadata": {},
   "source": [
    "Each of these terms came be converted to a function using SymPy's [lambdify](https://docs.sympy.org/latest/modules/utilities/lambdify.html) function.\n",
    "\n",
    "Define the values for the x-axis of the plot and put each one into an array for plotting."
   ]
  },
  {
   "cell_type": "code",
   "execution_count": 33,
   "id": "1f0e6f8f-cdf0-4384-8d44-72fa3220f1f1",
   "metadata": {},
   "outputs": [],
   "source": [
    "x = np.linspace(0, 50, 2000, endpoint=True)\n",
    "V_node2 = np.zeros(len(x),dtype = complex)\n",
    "for p in N:\n",
    "    V_node2 += lambdify(t, p)(x)"
   ]
  },
  {
   "cell_type": "markdown",
   "id": "5e2b3668-330f-43d4-8cac-39bece9f93b5",
   "metadata": {},
   "source": [
    "Plot the final combined result."
   ]
  },
  {
   "cell_type": "code",
   "execution_count": 34,
   "id": "87514f26-a73f-4f05-a6c7-8debd71218de",
   "metadata": {},
   "outputs": [
    {
     "data": {
      "image/png": "[encoded data removed]",
      "text/plain": [
       "<Figure size 640x480 with 1 Axes>"
      ]
     },
     "metadata": {},
     "output_type": "display_data"
    }
   ],
   "source": [
    "plt.title('Filter output voltage vs time')\n",
    "\n",
    "plt.plot(x, np.real(V_node2),label='v2(t)')\n",
    "#plt.plot(x, np.real(func_V1_t(x)),label='V1(t)')\n",
    "\n",
    "plt.ylabel('v(t), volts')\n",
    "plt.xlabel('time, sec')\n",
    "\n",
    "plt.legend()\n",
    "plt.grid()\n",
    "plt.show()"
   ]
  },
  {
   "cell_type": "markdown",
   "id": "004eb8e4-2b28-47e9-acdd-52a3088fcfed",
   "metadata": {},
   "source": [
    "## Node 3 voltage\n",
    "The voltage on node 3 is symplified with the chain of operators applied to the expression; [nsimplify()](https://docs.sympy.org/latest/modules/simplify/simplify.html#sympy.simplify.simplify.nsimplify), [simplify()](https://docs.sympy.org/latest/modules/simplify/simplify.html#simplify), [expand()](https://docs.sympy.org/latest/modules/core.html#sympy.core.function.expand) and [together()](https://docs.sympy.org/latest/modules/polys/reference.html#sympy.polys.rationaltools.together). This helps SymPy solve the inverse Laplace transform."
   ]
  },
  {
   "cell_type": "code",
   "execution_count": 35,
   "id": "91f96a12-7dd7-434d-ba81-bad92f1bfa69",
   "metadata": {},
   "outputs": [
    {
     "data": {
      "image/png": "[encoded data removed]",
      "text/latex": [
       "$\\displaystyle \\frac{2 \\left(s^{2} + 1\\right)}{3 s^{3} + 2 s^{2} + 2 s + 1}$"
      ],
      "text/plain": [
       "        ⎛ 2    ⎞     \n",
       "      2⋅⎝s  + 1⎠     \n",
       "─────────────────────\n",
       "   3      2          \n",
       "3⋅s  + 2⋅s  + 2⋅s + 1"
      ]
     },
     "execution_count": 35,
     "metadata": {},
     "output_type": "execute_result"
    }
   ],
   "source": [
    "node3 = U_ic[v3].nsimplify().simplify().expand().together()\n",
    "node3"
   ]
  },
  {
   "cell_type": "markdown",
   "id": "8b461792-2301-465a-b2ae-bb19b4f74f13",
   "metadata": {},
   "source": [
    "The inverse Laplace was taking too long, so the lines of code were commented out"
   ]
  },
  {
   "cell_type": "code",
   "execution_count": 36,
   "id": "203eee57-13c0-46ae-8cfa-93b9de7d9655",
   "metadata": {},
   "outputs": [],
   "source": [
    "#node_2_voltage = inverse_laplace_transform(temp, s, t)\n",
    "#node_2_voltage"
   ]
  },
  {
   "cell_type": "markdown",
   "id": "ccd1f24a-f591-4a09-8b27-5cd61f9490ef",
   "metadata": {},
   "source": [
    "Using NumPy\n",
    "\n",
    "Extract the numerator and denominator and display."
   ]
  },
  {
   "cell_type": "code",
   "execution_count": 37,
   "id": "18eab811-1164-40af-8ccc-cfc3a3bfcf5a",
   "metadata": {},
   "outputs": [
    {
     "data": {
      "text/markdown": [
       "numerator: $2 s^{2} + 2$<br>denominator: $3 s^{3} + 2 s^{2} + 2 s + 1$"
      ],
      "text/plain": [
       "<IPython.core.display.Markdown object>"
      ]
     },
     "execution_count": 37,
     "metadata": {},
     "output_type": "execute_result"
    }
   ],
   "source": [
    "n, d = fraction(node3)\n",
    "n = n.expand()\n",
    "Markdown('numerator: ${:s}$<br>denominator: ${:s}$'.format(latex(n),latex(d)))"
   ]
  },
  {
   "cell_type": "markdown",
   "id": "6c3a1857-7676-46b9-828e-2f5070885ab1",
   "metadata": {},
   "source": [
    "Each of the numerator terms can be put over the common denominator."
   ]
  },
  {
   "cell_type": "code",
   "execution_count": 38,
   "id": "e40f6c3d-d4fa-40d6-bf52-eb70b8df49d6",
   "metadata": {},
   "outputs": [
    {
     "data": {
      "image/png": "[encoded data removed]",
      "text/latex": [
       "$\\displaystyle \\left[ \\frac{2}{3 s^{3} + 2 s^{2} + 2 s + 1}, \\  \\frac{2 s^{2}}{3 s^{3} + 2 s^{2} + 2 s + 1}\\right]$"
      ],
      "text/plain": [
       "⎡                                   2        ⎤\n",
       "⎢          2                     2⋅s         ⎥\n",
       "⎢─────────────────────, ─────────────────────⎥\n",
       "⎢   3      2               3      2          ⎥\n",
       "⎣3⋅s  + 2⋅s  + 2⋅s + 1  3⋅s  + 2⋅s  + 2⋅s + 1⎦"
      ]
     },
     "metadata": {},
     "output_type": "display_data"
    }
   ],
   "source": [
    "terms = [a / d for a in n.args]\n",
    "display(terms)"
   ]
  },
  {
   "cell_type": "markdown",
   "id": "3b4e1f09-16a7-4813-9c16-f752e5e092e5",
   "metadata": {},
   "source": [
    "Process term as decribed above. "
   ]
  },
  {
   "cell_type": "code",
   "execution_count": 39,
   "id": "7e84873e-e9fb-4096-b1cc-8226211e1ff5",
   "metadata": {},
   "outputs": [],
   "source": [
    "N = []\n",
    "\n",
    "for p in terms:\n",
    "\n",
    "    # use the SciPy residue function to get the partial-fraction expansion residues and poles\n",
    "    n, d = fraction(p)\n",
    "    cn = Poly(n, s).all_coeffs()\n",
    "    cd = Poly(d, s).all_coeffs()\n",
    "    r, p, k = signal.residue(cn, cd, tol=0.001, rtype='avg')\n",
    "\n",
    "    # build a symbolic expression for each of the residues and find the inverse Laplace of each one and save\n",
    "    z = 0\n",
    "    for i in range(len(r)):\n",
    "        m = (r[i]/(s-p[i]))\n",
    "        z += inverse_laplace_transform(m, s, t)\n",
    "\n",
    "    N.append(z)"
   ]
  },
  {
   "cell_type": "markdown",
   "id": "c9149a32-fc65-4919-8f0b-07873cd00d36",
   "metadata": {},
   "source": [
    "Sum all the terms."
   ]
  },
  {
   "cell_type": "code",
   "execution_count": 40,
   "id": "b893c40c-345e-4cfa-8b52-68478a1a3c79",
   "metadata": {},
   "outputs": [],
   "source": [
    "x = np.linspace(0, 50, 2000, endpoint=True)\n",
    "V_node3 = np.zeros(len(x),dtype = complex)\n",
    "for p in N:\n",
    "    V_node3 += lambdify(t, p)(x)"
   ]
  },
  {
   "cell_type": "markdown",
   "id": "1a90c5c0-d9fa-4e1a-a62f-cea99d25bed3",
   "metadata": {},
   "source": [
    "Plot the final combined result."
   ]
  },
  {
   "cell_type": "code",
   "execution_count": 41,
   "id": "7f70cd1e-b5a6-4820-9af8-0f217f9a8f72",
   "metadata": {},
   "outputs": [
    {
     "data": {
      "image/png": "[encoded data removed]",
      "text/plain": [
       "<Figure size 640x480 with 1 Axes>"
      ]
     },
     "metadata": {},
     "output_type": "display_data"
    }
   ],
   "source": [
    "plt.title('Filter output voltage vs time')\n",
    "\n",
    "plt.plot(x, np.real(V_node3),label='v3(t)')\n",
    "#plt.plot(x, np.real(func_V1_t(x)),label='V1(t)')\n",
    "\n",
    "plt.ylabel('v(t), volts')\n",
    "plt.xlabel('time, sec')\n",
    "\n",
    "plt.legend()\n",
    "plt.grid()\n",
    "plt.show()"
   ]
  },
  {
   "cell_type": "markdown",
   "id": "1a0390cc-9f80-4ae6-a3d9-d5177b62499c",
   "metadata": {},
   "source": [
    "## LTSpice Solution\n",
    "To chech the Python results the circuit was simulated in LTSpice. The following schematice was used and the LTSpice results are also shown below.\n",
    "\n",
    "![Circuit used for LTSpice analysis](Bridge-T-LTSpice.png){#fig-bridge-LTPpice} \n",
    "\n",
    "![Plot from LTSpice of node voltages](Bridge-T-LTSpice-plot.png){#fig-bridge-LTSpice-plot} "
   ]
  },
  {
   "cell_type": "markdown",
   "id": "ed556b74-605b-4161-b212-088671159226",
   "metadata": {},
   "source": [
    "Load the csv file LTSpice results and plot along with the results obtained from Python."
   ]
  },
  {
   "cell_type": "code",
   "execution_count": 42,
   "id": "27626a19-b062-45e7-963b-8eeb850d7f09",
   "metadata": {},
   "outputs": [],
   "source": [
    "fn = 'Bridge-T-LTSpice.csv' # data from LTSpice\n",
    "LTSpice_data = np.genfromtxt(fn, delimiter=',',skip_header=1)"
   ]
  },
  {
   "cell_type": "markdown",
   "id": "8859e5d3-8cf6-4771-88f6-3699a3cb2cca",
   "metadata": {},
   "source": [
    "Copy the data from the csv file into NumPy arrays."
   ]
  },
  {
   "cell_type": "code",
   "execution_count": 43,
   "id": "fb31cdc4-7d9d-4064-ac9f-c216399341ab",
   "metadata": {},
   "outputs": [],
   "source": [
    "# initaliase some empty arrays\n",
    "time = np.zeros(len(LTSpice_data))\n",
    "voltage1 = np.zeros(len(LTSpice_data))\n",
    "voltage2 = np.zeros(len(LTSpice_data))\n",
    "voltage3 = np.zeros(len(LTSpice_data))\n",
    "\n",
    "# convert the csv data to complez numbers and store in the array\n",
    "for i in range(len(LTSpice_data)):\n",
    "    time[i] = LTSpice_data[i][0]\n",
    "    voltage1[i] = LTSpice_data[i][1]\n",
    "    voltage2[i] = LTSpice_data[i][2]\n",
    "    voltage3[i] = LTSpice_data[i][3]"
   ]
  },
  {
   "cell_type": "markdown",
   "id": "b557bf21-ea69-4a5b-bfde-67fe664435c1",
   "metadata": {},
   "source": [
    "Plot the LTSpice data and the Python data to see if they agree."
   ]
  },
  {
   "cell_type": "code",
   "execution_count": 44,
   "id": "523e6842-b35b-4abf-9c5d-22a162eb926b",
   "metadata": {},
   "outputs": [
    {
     "data": {
      "image/png": "[encoded data removed]",
      "text/plain": [
       "<Figure size 640x480 with 1 Axes>"
      ]
     },
     "metadata": {},
     "output_type": "display_data"
    }
   ],
   "source": [
    "plt.title('LTSpice')\n",
    "\n",
    "plt.plot(time, voltage1,label='LTSpice v1(t)')\n",
    "plt.plot(time, voltage2,label='LTSpice v2(t)')\n",
    "plt.plot(time, voltage3,label='LTSpice v3(t)')\n",
    "\n",
    "plt.plot(x, np.real(V_node2),label='V node 2(t)')\n",
    "plt.plot(x, np.real(V_node3),label='V node 3(t)')\n",
    "#plt.plot(x, np.real(func_V1_t(x)),label='V1(t)')\n",
    "\n",
    "plt.ylabel('v(t), volts')\n",
    "plt.xlabel('time, sec')\n",
    "\n",
    "plt.legend()\n",
    "plt.grid()\n",
    "plt.show()"
   ]
  },
  {
   "cell_type": "markdown",
   "id": "d8f04c4c-c034-4723-af36-a9fecccc6df8",
   "metadata": {
    "tags": []
   },
   "source": [
    "As shown in the plot above, the curves superimpose.\n",
    "\n",
    "## Summary\n",
    "In this notebook, newtork equations were solved which had initial conditions. The independent voltage source, V1 was modeled as a step function. The initial voltages on each of the capacitors were also modeled as step functions equal to the initial voltage. The network equations were generated with MNA and SymPy was used to solve the system of equations. The results were compared to results from LTSpice and the curves superimpose. \n",
    "\n",
    "The MNA procedure and LTSpice didn't have any issues with initial conditions. At t=0, all the voltages and currents in the circuit comply with Kirchhoff's circuit laws (KCL) since the Heavyside function at t=0 is zero. At t=0+, where the + indicates the next infinitesimal instant in time, the voltages and currents would comply with KCL and result in large current flows to accomidate the solution for the voltages. Both Python and LTSpice step through time in discreate amounts, and at each step time KCL is satisified. I don't think this was explained in any of the answers provided. \n",
    "\n",
    "The answers provide by @user347817 are different from the results I obtained and he did not provide a time domain solution and plots of the node voltages."
   ]
  },
  {
   "cell_type": "raw",
   "id": "4c0e9827-efe8-4e83-a5c7-0a47f15f80d5",
   "metadata": {},
   "source": [
    "<!--"
   ]
  },
  {
   "cell_type": "markdown",
   "id": "54e87ae8-d54a-4a23-b5ed-7326acf0ed6d",
   "metadata": {
    "tags": []
   },
   "source": [
    "$\\large{\\color {red} {\\text{Explain results when V4 is rotated}}}$  "
   ]
  },
  {
   "cell_type": "raw",
   "id": "bafeba0c-6405-4223-8e88-8ee8664b6cb5",
   "metadata": {},
   "source": [
    "-->"
   ]
  }
 ],
 "metadata": {
  "kernelspec": {
   "display_name": "Python 3 (ipykernel)",
   "language": "python",
   "name": "python3"
  },
  "language_info": {
   "codemirror_mode": {
    "name": "ipython",
    "version": 3
   },
   "file_extension": ".py",
   "mimetype": "text/x-python",
   "name": "python",
   "nbconvert_exporter": "python",
   "pygments_lexer": "ipython3",
   "version": "3.10.9"
  }
 },
 "nbformat": 4,
 "nbformat_minor": 5
}
