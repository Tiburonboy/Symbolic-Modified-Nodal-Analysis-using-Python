{
 "cells": [
  {
   "cell_type": "raw",
   "id": "0a487630-5c00-4894-be5e-64b90ff705b9",
   "metadata": {},
   "source": [
    "---\n",
    "title:\n",
    "format: \n",
    "    html:\n",
    "        code-fold: false\n",
    "        embed-resources: false\n",
    "        code-tools: true\n",
    "        number-sections: true\n",
    "jupyter: python3\n",
    "---"
   ]
  },
  {
   "cell_type": "markdown",
   "id": "a9a06c16-04c4-4aef-978b-2a9b0715674d",
   "metadata": {},
   "source": [
    "# Bridged T Coil\n",
    "Last update: 31 July 2025\n",
    "\n",
    "This file is is MNA problem circuits folder\n",
    "\n",
    "Schematics are in /home/jeff32/Documents/Solving Electrical Engineering Problems with Python Blog/MNA Problem Circuits/T-Coil/\n",
    "\n",
    "\n",
    "ToDo\n",
    "\n",
    "- review old notebook in downloads and get some of the introduction narrative\n",
    "- need to determine the outline and what circuits will be analyized, \n",
    "  - See /home/jeff32/Documents/JupyterLab/Node Analysis/MNA_problem_circuits/Bridged-T-coil.ipynb\n",
    "- Bob Ross's circuit and equations. Can these be drived? <--- need to work on this section\n",
    "- ESD Protection and matching\n",
    "- A common-source stage with T-coil peaking, bandwith enhansment\n",
    "- do all the examples have coupled inductors? what is the phasing?\n",
    "\n",
    "\n",
    "A **Bridged T-Coil**, often simply called a **T-coil**, is a specific type of circuit topology primarily used to **extend the bandwidth of high-speed electronic systems**, such as amplifiers, line drivers, and input/output (I/O) interfaces.\n",
    "\n",
    "Here's a breakdown of what it is and why it's used:\n",
    "\n",
    "**What it is:**\n",
    "\n",
    "* **Components:** A bridged T-coil consists of two mutually coupled inductors (meaning they share magnetic flux, like a transformer) and a \"bridge\" capacitor that connects across the two series arms of the T-network.\n",
    "* **Topology:** It gets its name from its \"T\" shaped configuration, with the added \"bridge\" capacitor making it a \"bridged T.\" It's a special case of a two-port bridged-T network.\n",
    "* **Mutual Inductance:** The mutual coupling between the inductors is a critical aspect of its operation, allowing it to achieve unique impedance and transfer function characteristics.\n",
    "\n",
    "**Why it's used (Applications and Advantages):**\n",
    "\n",
    "* **Bandwidth Enhancement:** This is its primary and most significant application. T-coils can extend the signal bandwidth of a circuit by a significantly greater factor than traditional inductive peaking techniques. This is crucial for high-speed data transmission where preserving signal integrity over a wide range of frequencies is essential.\n",
    "* **Dealing with Parasitic Capacitances:** In high-speed integrated circuits (ICs), parasitic capacitances (unwanted capacitances that naturally occur in components and interconnections) can severely limit the circuit's operating frequency. T-coils are incorporated on-chip to counteract these parasitic effects and maintain performance.\n",
    "* **Constant Input Impedance (Constant-R Networks):** Bridged T-coils can be designed to maintain a nearly constant input impedance over a wide frequency range. This is very important for impedance matching, preventing signal reflections, and allowing for cascading of multiple circuits without degradation.\n",
    "* **Electrostatic Discharge (ESD) Protection:** T-coils are also used in ESD protection circuits, as they can effectively match the impedance of ESD devices over a broad band, ensuring robust protection without compromising high-frequency performance.\n",
    "* **Historical Significance:** The concept of the T-coil dates back to 1948 and was famously used by Tektronix engineers in their wideband oscilloscope amplifiers in the 1960s, with design details being guarded as a trade secret for many years due to their significant performance advantage.\n",
    "\n",
    "**Intuitive Understanding:**\n",
    "\n",
    "While the detailed mathematical analysis can be complex, intuitively, the T-coil essentially introduces inductance that, in conjunction with the bridging capacitor, creates an artificial LC (inductor-capacitor) transmission line. This effectively \"steers\" current to where it's needed in the circuit at different frequencies, helping to quickly charge and discharge capacitive loads and thus extending the overall bandwidth.\n",
    "\n",
    "In essence, a bridged T-coil is a clever circuit design that leverages coupled inductors and a capacitor to overcome the inherent speed limitations of electronic components, making it indispensable in modern high-speed communication and instrumentation systems.\n",
    "\n"
   ]
  },
  {
   "cell_type": "markdown",
   "id": "cd667130-57b1-4567-b1c9-fdafae04eb07",
   "metadata": {},
   "source": [
    "![T coil ver 1a, this is the figure from @williams1991. I 1st came accross this and was intreaged by the write up and then found there is a lot of continued interest in the circuit.](T-coil-ver1a.png){#fig-t-coil1a}\n",
    "\n",
    "Use figure 1a since this was the schematic in @williams1991. \n",
    "\n",
    "- In the intro generate the newtork equations, node voltages and transfer function.  Describe the equations in the book.\n",
    "- Describe history etc.\n",
    "- walk through schematic ver1c\n",
    "  - derivation of equations\n",
    "- Design examples\n",
    "  - Capactive loads\n",
    "  - bandwith extension\n",
    "  - impedance matching\n",
    "  - TVS interface"
   ]
  },
  {
   "cell_type": "markdown",
   "id": "6ad4d88e-e777-4c54-b3b1-a0b67bf5ad90",
   "metadata": {},
   "source": [
    "The concept of the T-coil circuit, also referred to as the \"bridged-tee connection,\" can be traced back to a 1948 paper on distributed amplifiers by **Ginzton et al.**\n",
    "\n",
    "While the initial theoretical basis was laid out, the practical application and extensive use of T-coils for bandwidth enhancement were pioneered by **Tektronix engineers** in the late 1960s. For many years, Tektronix guarded the design details of T-coil circuits as a trade secret. It wasn't until 1990 that **Dennis Feucht**, a former Tektronix engineer, provided design equations in his book.\n",
    "\n",
    "It's worth noting that some sources mention **K.T. Wang**'s earlier work in the 1930s on a new method of analysis of electrical networks, which some network theorists later recognized as forming an algebra that was relevant to T-coils. However, his work was not widely published in English journals at the time.\n",
    "\n",
    "So, while Ginzton et al. described the structure, Tektronix engineers (particularly Bob Ross and John Addis) were instrumental in developing and utilizing the bridged T-coil for practical applications like oscilloscope amplifiers, and Dennis Feucht later made the design equations publicly available."
   ]
  },
  {
   "cell_type": "code",
   "execution_count": null,
   "id": "fcdec59f-c2ed-4108-b153-bcf2e10e67bf",
   "metadata": {},
   "outputs": [],
   "source": []
  },
  {
   "cell_type": "markdown",
   "id": "d3982e9a-b428-46df-825b-f7924fa79f71",
   "metadata": {},
   "source": [
    "A bridged T-coil (often simply called a T-coil) is a circuit topology primarily used for **bandwidth extension** and **impedance matching** in high-speed electronic circuits. Its unique ability to extend bandwidth significantly beyond what is achievable with simpler techniques like inductive peaking has made it a crucial component in various applications.\n",
    "\n",
    "### Structure of a Bridged T-Coil\n",
    "\n",
    "The core of a bridged T-coil circuit consists of:\n",
    "* **Two mutually coupled inductors (L1 and L2):** These inductors are typically chosen to be equal (symmetric T-coil), and their mutual inductance (M) plays a critical role in the circuit's behavior. The coupling factor ($k$) between them is a key design parameter.\n",
    "* **A bridge capacitor (Cb):** This capacitor connects across the two inductors, forming the \"bridge\" in the T-coil configuration.\n",
    "\n",
    "The circuit is often used in conjunction with a load capacitance ($C_L$) and a load resistance ($R_L$), which represent parasitic capacitances and impedance-matching requirements in real-world applications (e.g., input capacitance of an amplifier, ESD protection diodes).\n",
    "\n",
    "### Analysis and Functionality\n",
    "\n",
    "The analysis of a bridged T-coil can be algebraically complex, but its fundamental operation revolves around creating a two-pole filter that can significantly extend the bandwidth compared to a simple RC low-pass filter. Here's a breakdown of its key aspects:\n",
    "\n",
    "1.  **Bandwidth Enhancement:**\n",
    "    * **Overcoming RC Limitations:** In many high-frequency circuits, parasitic capacitances (e.g., input capacitance of transistors, ESD protection diodes) combine with load resistances to form an RC low-pass filter, limiting the circuit's bandwidth.\n",
    "    * **Inductive Peaking vs. T-Coil:** Simple inductive peaking adds an inductor in series with the load resistor to compensate for the capacitive rolloff, but it has limited bandwidth improvement. The bridged T-coil offers a much greater bandwidth extension (e.g., up to 2.8 times that of an RC filter for a maximally flat amplitude response).\n",
    "    * **Mechanism:** The coupled inductors and the bridge capacitor work together to \"steer\" current into the capacitive load more efficiently at higher frequencies. Intuitively, the inductors introduce a form of \"negative inductance\" or resonance that can cancel out the effects of parasitic capacitance over a wider frequency range.\n",
    "\n",
    "2.  **Impedance Matching:**\n",
    "    * A well-designed T-coil can provide a **constant and resistive input impedance** over a broad frequency range. This is particularly valuable for transmission line termination and multi-drop systems where maintaining a consistent impedance is crucial to avoid reflections and signal degradation.\n",
    "\n",
    "3.  **Transfer Function:**\n",
    "    * The behavior of the bridged T-coil is analyzed by deriving its transfer function (e.g., output voltage to input voltage or input current to output voltage). This involves solving a system of equations for the circuit, often using techniques like the Extra-Element Theorem to simplify the analysis.\n",
    "    * The transfer function typically exhibits a second-order response with specific poles and zeros. By carefully selecting the component values (L, M, Cb), these poles and zeros can be manipulated to achieve desired characteristics, such as maximally flat amplitude (MFA) or maximally flat envelope delay (MFED) responses.\n",
    "\n",
    "### Key Design Parameters and Considerations\n",
    "\n",
    "* **Inductance (L1, L2) and Mutual Inductance (M):** The values of the inductors and their coupling factor ($k = M/\\sqrt{L_1 L_2}$) are crucial. For symmetric T-coils, $L_1 = L_2 = L$.\n",
    "* **Bridge Capacitance (Cb):** This capacitor is critical for achieving the desired frequency response and impedance characteristics.\n",
    "* **Load Capacitance (CL) and Load Resistance (RL):** These represent the external circuit elements that the T-coil is designed to compensate for.\n",
    "* **Damping Factor ($\\zeta$):** This parameter determines the flatness of the frequency response. A common target for maximally flat amplitude is $\\zeta = 1/\\sqrt{2} \\approx 0.707$.\n",
    "* **Optimal Design:** Achieving optimal performance often involves specific relationships between the component values. For example, for a symmetric T-coil with maximally flat amplitude, there are well-known design equations that link L, Cb, R, and CL.\n",
    "\n",
    "### Applications\n",
    "\n",
    "Bridged T-coils are widely used in:\n",
    "\n",
    "* **High-Speed Amplifiers:** Especially in wideband amplifiers for applications like oscilloscopes (historically pioneered by Tektronix) and data communication systems (e.g., limiting amplifiers in wireline transceivers).\n",
    "* **Wireline Communications:** In high-speed serial links (SerDes) operating at data rates like 56-112 Gb/s, T-coils are integrated on-chip to compensate for parasitic capacitances, particularly those introduced by electrostatic discharge (ESD) protection circuits and input/output (I/O) interfaces.\n",
    "* **ESD Protection Circuits:** They can be used to improve the high-frequency performance of ESD protection devices by resonating out their parasitic capacitance.\n",
    "* **Video Distribution:** Their constant input impedance makes them useful for tapping and distributing video signals to multiple loads.\n",
    "\n",
    "### Challenges\n",
    "\n",
    "Despite their advantages, designing and implementing bridged T-coils can present challenges:\n",
    "\n",
    "* **Precision of Component Values:** Achieving optimal performance often requires precise values for the inductors and capacitors, which can be difficult to realize, especially with discrete components or in integrated circuits where process variations exist.\n",
    "* **On-Chip Implementation:** For integrated circuits, creating well-defined mutual coupling between on-chip spiral inductors and managing their parasitic capacitances and finite Q-factors introduces additional design complexities.\n",
    "* **Algebraic Complexity:** The analytical derivation of their transfer functions and optimal design parameters can be mathematically intensive, often requiring specialized techniques like the Extra-Element Theorem.\n",
    "\n",
    "In summary, the bridged T-coil is a sophisticated circuit element that leverages mutual inductance and capacitance to significantly enhance bandwidth and provide excellent impedance matching in high-frequency applications, particularly in the realm of high-speed data communications and wideband amplification."
   ]
  },
  {
   "cell_type": "code",
   "execution_count": null,
   "id": "a2260121-e64c-4ae0-906b-a68a4bd635eb",
   "metadata": {},
   "outputs": [],
   "source": []
  },
  {
   "cell_type": "markdown",
   "id": "c6bcc7f1-fda5-4a0d-985c-7222f9719ff2",
   "metadata": {},
   "source": [
    "The Bridged T-Coil, while its theoretical basis goes back to a 1948 paper by Ginzton et al. and even earlier work by K.T. Wang in the 1930s, saw its most significant practical development and application as a trade secret by Tektronix engineers in the late 1960s. This history makes pinpointing a single, definitive patent tricky, as the core concept might be foundational, while specific implementations or improvements are patented.\n",
    "\n",
    "However, based on patent searches and historical accounts, a key patent that directly addresses a \"bridged-T termination network\" and is highly relevant to the concept is:\n",
    "\n",
    "* **US3155927A - Bridged-t termination network**\n",
    "    * **Inventors:** Thomas T. True\n",
    "    * **Assignee:** General Electric Co.\n",
    "    * **Filed:** September 12, 1960\n",
    "    * **Issued:** November 3, 1964\n",
    "\n",
    "This patent describes a termination network providing a constant input impedance with a capacitive load, specifically mentioning a \"bridged-T network as commonly represented in block form.\" While not directly by Tektronix, it reflects the state of the art and the patenting of bridged-T configurations.\n",
    "\n",
    "It's also important to note that many of the applications and further developments of T-coils in high-speed electronics and integrated circuits have led to subsequent patents that build upon or utilize the core bridged T-coil concept. For example, the search results show patents like:\n",
    "\n",
    "* **US20060109023A1 - T-coil apparatus and method for compensating capacitance** (Analog Devices Inc., filed 2003)\n",
    "* **US3532982A - Transmission line termination circuit** (Tektronix Inc., filed 1967, issued 1970 - this one is cited by the True patent, indicating its relevance to Tektronix's work).\n",
    "\n",
    "The reason it's not a single, easily traceable patent is that:\n",
    "\n",
    "1.  **Fundamental concept vs. Specific Implementation:** The basic bridged-tee connection itself might be considered a fundamental circuit topology rather than a patentable invention in the modern sense after its initial theoretical description. Patents typically cover novel and non-obvious *implementations* or *applications* of such concepts.\n",
    "2.  **Trade Secrets:** As mentioned previously, Tektronix famously kept the detailed design equations and methodologies for their T-coil implementations as trade secrets for many years. This meant they leveraged proprietary knowledge rather than relying solely on patents for competitive advantage in certain areas.\n",
    "3.  **Ongoing Development:** The T-coil concept has been adapted and improved over decades, leading to numerous patents on specific circuit designs, integration techniques (e.g., on-chip T-coils), and applications (e.g., in ESD protection circuits, high-speed transceivers).\n",
    "\n",
    "So, while US3155927A by Thomas T. True is a significant early patent for a \"bridged-T termination network,\" the broader landscape of \"bridged T-coil\" technology is covered by a multitude of patents related to its various applications and refinements over time.\n"
   ]
  },
  {
   "cell_type": "markdown",
   "id": "4b7a0386-9aa2-4285-a555-82b105ceb6eb",
   "metadata": {},
   "source": [
    "![T coil ver 1](T-coil-ver1.png){#fig-t-coil1}"
   ]
  },
  {
   "cell_type": "markdown",
   "id": "6c9b74c2-1b0d-4ebb-b10d-f48264fd3d63",
   "metadata": {},
   "source": [
    "## Introduction\n",
    "\n",
    "@fig-t-coil1\n",
    "\n",
    "@fig-t-coil2\n",
    "\n",
    "@fig-t-coil3\n",
    "\n",
    "@fig-t-coil4\n",
    "\n",
    "@williams1991, art of analog design\n",
    "\n",
    "@Jeong2020, bandwidth extension, IC design \n",
    "\n",
    "@Razavi2015, IEEE article\n",
    "\n",
    "@Ross2011, slide show presentation\n",
    "\n",
    "patents  \n",
    "\n",
    "@lin2015\n",
    "\n",
    "@fan2020"
   ]
  },
  {
   "cell_type": "markdown",
   "id": "c00ae26d-39d1-4060-949e-276b22a80020",
   "metadata": {},
   "source": [
    "The following Python modules are used."
   ]
  },
  {
   "cell_type": "code",
   "execution_count": 1,
   "id": "1b4d71a2-715c-462e-a2f0-40c5cd9d2d8d",
   "metadata": {},
   "outputs": [],
   "source": [
    "from sympy import *\n",
    "import numpy as np\n",
    "from scipy import signal\n",
    "import matplotlib.pyplot as plt\n",
    "import matplotlib.ticker\n",
    "import pandas as pd\n",
    "import SymMNA\n",
    "from IPython.display import display, Markdown, Math, Latex\n",
    "from tabulate import tabulate\n",
    "init_printing()"
   ]
  },
  {
   "cell_type": "markdown",
   "id": "406b9a85-ff31-4dbe-896e-8ad89dbab30e",
   "metadata": {},
   "source": [
    "## Circuit 1a\n",
    "The circuit in @fig-t-coil-1a is from @williams1991, Figure 14-6. A set of equations deleveopled by Bob Ross, also in Figure 14-6 were held as a trade secret.  "
   ]
  },
  {
   "cell_type": "markdown",
   "id": "10365719-fb06-4a90-b5f6-c5aab38a297d",
   "metadata": {},
   "source": [
    "![T coil ver 1a](T-coil-ver1a.png){#fig-t-coil-1a}\n",
    "\n",
    "Need to get updated schematic"
   ]
  },
  {
   "cell_type": "markdown",
   "id": "f9bc58fe-e201-4904-b94e-824367451263",
   "metadata": {},
   "source": [
    "Jim Williams' edited book, \"Analog Circuit Design: Art, Science and Personalities\" (and its subsequent volumes like \"The Art and Science of Analog Circuit Design\" and \"Analog Circuit Design, Volume 2: Immersion in the Black Art of Analog Design\"), is not a typical textbook or reference guide. Instead, it offers a unique and multifaceted exploration of analog circuit design, emphasizing the practical, intuitive, and even artistic aspects of the field.\n",
    "\n",
    "Here are the key themes and characteristics of the book:\n",
    "\n",
    "* **Art, Science, and Personalities:** The title itself highlights the core approach. The book posits that analog design is as much an art as it is a science, and it showcases this by featuring contributions from numerous prominent analog designers. Readers gain insight into the diverse philosophies, thought processes, and problem-solving techniques of these experts.\n",
    "* **Beyond Theory: Practicality and Intuition:** While fundamental theory is implicitly present, the book heavily emphasizes real-world applications, practical considerations, and the development of intuition. It's about how to *do* analog design, often encouraging experimentation and hands-on learning over purely theoretical exercises. Jim Williams himself was known for his \"laboratory-based material that's worked out and documented.\"\n",
    "* **The \"Analog Way\":** The book advocates for a \"broad, flexible method of thinking about analog design tasks.\" This involves understanding trade-offs, making workable approximations, and visualizing the operation of circuits rather than relying solely on simulations or rigid mathematical formulas.\n",
    "* **Diverse Perspectives:** By including contributions from various designers, the book presents a range of styles and approaches to analog design. This aims to empower readers to find their own method that \"feels right\" and to encourage experimentation. It shows that there isn't one \"right\" way to design.\n",
    "* **Emphasis on Problem Solving and Troubleshooting:** Many sections delve into how designers approach and solve complex analog problems, including troubleshooting. The idea of learning from \"broken instruments\" and understanding why things *don't* work is a recurring motif, as it forces a deeper understanding of circuit behavior.\n",
    "* **Real-World Constraints:** The book acknowledges that analog design operates within real-world constraints such as cost, size, power, and manufacturing realities. It often discusses how economic factors influence design choices.\n",
    "* **A \"Tour Through the World of Analog Design\":** More than just a collection of circuits, the book serves as a journey into the mindset of analog engineers, exploring the historical context, the challenges, and the rewards of the profession.\n",
    "\n",
    "In essence, Jim Williams' \"Analog Circuit Design\" books are celebrated for their ability to demystify analog design, showcasing it not as a purely academic discipline, but as a craft demanding experience, intuition, and a deep understanding of component behavior in the real world."
   ]
  },
  {
   "cell_type": "markdown",
   "id": "73734b59-e1b5-49bf-b9d8-bbef788d8af3",
   "metadata": {},
   "source": [
    "The history of fast vertical amplifiers is intrinsically linked to the evolution of the oscilloscope, a fundamental tool for visualizing electrical signals. The quest for higher bandwidth and greater fidelity has driven continuous innovation in amplifier design, moving from bulky vacuum tubes to compact, high-performance solid-state devices.\n",
    "\n",
    "Here's a breakdown of the key periods and advancements:\n",
    "\n",
    "**1. The Vacuum Tube Era (Early 20th Century to 1960s):**\n",
    "\n",
    "* **Early Beginnings (Pre-1940s):** The cathode ray tube (CRT) was invented by Karl Ferdinand Braun in 1897, laying the groundwork for the oscilloscope. Early CRTs were more laboratory curiosities, and the challenge was to create stable and accurate deflection of the electron beam. The invention of the triode vacuum tube by Lee De Forest in 1906 was the first active device capable of signal amplification, making practical oscilloscopes possible.\n",
    "* **The Rise of Specialized Amplifiers (1940s-1950s):** As oscilloscopes became more sophisticated, the need for wideband vertical amplifiers became critical. These early amplifiers were entirely built with vacuum tubes.\n",
    "    * **Challenges:** Vacuum tubes were inherently bulky, consumed significant power, generated considerable heat, and had limitations in terms of high-frequency performance due to parasitic capacitances. Achieving wide bandwidth required clever circuit design, often involving complex distributed amplifier topologies to overcome these limitations.\n",
    "    * **Key Innovation - The Triggered Sweep:** Howard Vollum of Tektronix invented the world's first triggered oscilloscope in 1946 (Model 511). This was a monumental breakthrough because it allowed stable display of non-repetitive signals and precise time measurements, making the performance of the vertical amplifier even more crucial.\n",
    "    * **Tektronix Dominance:** Tektronix emerged as a leader in oscilloscope design during this period, constantly pushing the boundaries of bandwidth. Their early models like the 501, 515A, and the popular 547 (which introduced the innovative \"ALT\" mode for dual traces) relied on intricate vacuum tube amplifier designs.\n",
    "    * **Plug-in Modules:** In the late 1950s, Tektronix introduced the concept of plug-in modules (e.g., 530 and 540 series), allowing users to swap vertical input or horizontal sweep units. This provided flexibility and allowed for specialized, high-performance vertical amplifiers to be developed for different measurement needs.\n",
    "\n",
    "**2. The Transition to Solid-State (1960s-1980s):**\n",
    "\n",
    "* **The Advent of Transistors (1947 onwards):** The invention of the transistor at Bell Labs in 1947 began to revolutionize electronics. While early transistors had limitations in terms of power and frequency, their potential for miniaturization, lower power consumption, and improved reliability was undeniable.\n",
    "* **Gradual Replacement of Tubes:** The transition from vacuum tubes to transistors in oscilloscopes was not immediate. Early transistorized amplifiers often combined a \"Nuvistor\" (a miniature ceramic tube) in the input stage for high impedance and low noise, followed by transistorized stages.\n",
    "    * **Tektronix Model 321 (1961):** This was a significant milestone – possibly the world's first practical portable oscilloscope, capable of running on AC or batteries. Its vertical amplifier largely utilized transistors. The all-transistor Model 321A followed soon after.\n",
    "* **Increased Bandwidth and Portability:** As transistor technology matured, vertical amplifiers achieved higher bandwidths with smaller footprints and lower power consumption. The Tektronix 400 series (e.g., 453, 454, 465, 470, 480) in the 1960s and 70s exemplified this, offering portable oscilloscopes with bandwidths reaching hundreds of MHz. These were still complex designs, often using custom-designed integrated circuits fabricated by Tektronix themselves to achieve peak performance.\n",
    "* **Integrated Circuits (ICs):** The development of integrated circuits in the mid-1960s further accelerated the advancement of vertical amplifiers. Custom ICs allowed for more complex and precise amplifier designs to be integrated onto a single chip, reducing component count, improving reliability, and pushing bandwidth limits.\n",
    "\n",
    "**3. The Digital Era and Beyond (1980s-Present):**\n",
    "\n",
    "* **Digitizing Oscilloscopes:** The 1980s saw the emergence of digitizing storage oscilloscopes (DSOs), which converted analog signals into digital data for storage and analysis. While the display technology changed, the need for high-performance analog front-ends, including fast vertical amplifiers, remained crucial for accurate signal acquisition before digitization.\n",
    "* **Continued Bandwidth Expansion:** The demand for ever-higher bandwidth continued, driven by advances in computing, telecommunications, and high-speed digital electronics. Vertical amplifiers in modern oscilloscopes can achieve bandwidths in the tens of gigahertz (GHz), utilizing advanced silicon technologies (like SiGe and InP) and sophisticated amplifier architectures (e.g., distributed amplifiers, differential designs, and preamplifiers optimized for low noise and high gain-bandwidth product).\n",
    "* **Advanced Features:** Modern vertical amplifiers are often integrated with features like digital predistortion (DPD) to compensate for nonlinearities, advanced triggering capabilities, and deeper memory for capturing long signal records, all of which rely on the underlying speed and fidelity of the analog amplification chain.\n",
    "\n",
    "In summary, the history of fast vertical amplifiers is a testament to continuous innovation in electronic design, driven by the relentless demand for higher performance in instrumentation. From the ingenuity required to harness vacuum tubes for wideband amplification to the precision of modern IC-based designs, the vertical amplifier remains a critical component in accurately capturing and displaying the world's fastest electrical signals.\n",
    "\n",
    "\n",
    "John Addis is a legendary figure in the world of analog electronics, particularly known for his significant contributions to Tektronix's oscilloscopes, especially their fast vertical amplifiers. While there isn't one single consolidated \"history of fast vertical amplifiers\" written *by* John Addis readily available as a published book or extensive article, his work and insights are deeply embedded in the history of these devices, and he has certainly shared his knowledge through various channels (patents, internal Tektronix documents, and informal discussions).\n",
    "\n",
    "From what's known about John Addis's career and the development of fast vertical amplifiers at Tektronix, his \"history\" would essentially trace the evolution of these crucial components within high-performance oscilloscopes. Here's a summary of the key aspects that would likely be covered, heavily influenced by Addis's known contributions:\n",
    "\n",
    "**Early Challenges of High-Bandwidth Amplifiers:**\n",
    "\n",
    "* **The Need for Speed:** As electronics became faster, especially with the rise of digital and pulse technologies, the demand for oscilloscopes that could accurately display increasingly higher frequencies and faster rise times became paramount. This directly drove the need for faster vertical amplifiers.\n",
    "* **Limitations of Vacuum Tubes:** Early oscilloscopes relied on vacuum tubes, which presented challenges in achieving wide bandwidths due to their inherent capacitances and limited transconductance at high frequencies.\n",
    "* **Distributed Amplifiers:** A key innovation in the early days was the **distributed amplifier** (or \"T-coil\" amplifier, as Addis was often associated with them). This design technique allowed for higher bandwidths by distributing the gain elements and effectively creating a transmission line to combine their outputs. Addis was a prolific and able designer of T-coil-based amplifiers.\n",
    "\n",
    "**The Transistor Revolution and Beyond:**\n",
    "\n",
    "* **Transition to Solid State:** The advent of transistors brought significant advantages in terms of size, power consumption, and eventually, speed. Designing wideband amplifiers with transistors presented new challenges but also new opportunities.\n",
    "* **Tektronix's Dominance:** Tektronix was a pioneer and long-time leader in oscilloscope technology, and a huge part of their success was due to their ability to design and produce cutting-edge vertical amplifiers. John Addis was at the forefront of this effort.\n",
    "* **Key Tektronix Oscilloscopes and Plugins:** Addis's work is directly tied to a succession of iconic Tektronix products. He was involved in the design of vertical amplifiers for instruments like the:\n",
    "    * **7A11:** A significant vertical amplifier plugin in the 7000 series. Interestingly, Addis himself apparently set the 20 MHz bandwidth limit on an optional lowpass filter for the 7A11, simply to reject TV broadcast interference.\n",
    "    * **7A29:** This was a critical plugin for the legendary **Tektronix 7104 1 GHz oscilloscope**. Addis was the Project Engineer for the vertical system of the 7104, designing the 7A29 plugin and its associated integrated circuits. The 7104 was a monumental achievement, pushing the boundaries of real-time oscilloscope performance to 1 GHz.\n",
    "    * **11A32, 11A34, 11A52 (and potentially 11A33):** These were vertical amplifiers for the 11000 series oscilloscopes, representing further advancements in analog design and integrated circuit technology for high-speed applications.\n",
    "* **Innovations in Circuit Design:** Addis was known for his mastery of analog integrated circuit design for high-speed oscilloscopes. His patents reflect a deep understanding of techniques for achieving precision, fast overdrive recovery, wide bandwidth, and DC level shifting in high-performance amplifiers.\n",
    "* **The \"Art\" of Analog Design:** Consistent with Jim Williams' philosophy, Addis's work embodies the \"art\" of analog design. It's about clever circuit topology, meticulous component selection, understanding parasitic effects, and often, a hands-on, intuitive approach to making circuits perform at their limits.\n",
    "\n",
    "In summary, a \"history of fast vertical amplifiers by John Addis\" would be less about a formal historical narrative and more about a practical, deeply technical dive into the design evolution of these critical components, seen through the lens of one of their most influential developers at Tektronix. It would highlight the challenges, the ingenious solutions, and the continuous pushing of bandwidth and fidelity limits that characterized the golden age of analog oscilloscopes."
   ]
  },
  {
   "cell_type": "markdown",
   "id": "9499033d-0170-4b69-93cd-3707ff285889",
   "metadata": {},
   "source": [
    "From: @williams1991\n",
    "\n",
    ">These new amplifiers had rise times comparable to the propagation time between stages, so it became important to eliminate reflections between stages. The bridged T coil became extremely important because it allowed the input of each stage to be very well terminated. The F1, doubler's simple high frequency input impedance could be well modeled with a series RLC. Bob Ross wrote the equations for the asymmetrical bridged T coil which could peak a series RLC load. The derivation Figure 14-6. is quite complex, and the equations were held as a trade secret until recently. The F1, doubler and the bridged T coil were used extensively in the Tektronix 7904 introduced in 1972. \n",
    "\n",
    "Equations from figure 14-6\n",
    "\n",
    "\n",
    "$\\theta = \\tan^1 \\sqrt {\\frac {1}{\\zeta ^2} - 1}$\n",
    "\n",
    "$\\zeta = \\frac {1}{\\sqrt {\\tan^2 \\theta +1}}$\n",
    "\n",
    "\n",
    "$L_1 = \\frac {C_L}{4} \\left[ 1+\\frac{1}{4\\zeta^2} \\right] \\left[ R_L+R_S\\right]^2 - R_L R_S C_L - L_S$\n",
    "\n",
    "$L_2 = \\frac {C_L}{4} \\left[ 1+\\frac{1}{4\\zeta^2} \\right] \\left[ R_L+R_S\\right]^2 - L_S$\n",
    "\n",
    "$L_T = R_L^2 C_L$\n",
    "\n",
    "$M = \\frac{C_L}{4} \\left[ R_L^2 - R_S^2 - \\frac {1}{4 \\zeta ^2} \\left[ R_L+R_S\\right]^2 \\right] + L_S$\n",
    "\n",
    "\n",
    "$C_B = \\frac{C_L}{16 \\zeta^2} \\left[ \\frac {R_L+R_S}{R_L} \\right]^2$\n",
    "\n",
    "$s = \\frac{-4\\zeta^2}{(R_L+R_S) C_L} \\pm j \\frac {4\\zeta}{(R_L+R_S) C_L} \\sqrt {1-\\zeta^2}$\n",
    "\n",
    "$L_1 + M = \\frac{R_L C_L}{2} \\left[ R_L - R_S \\right]$\n",
    "\n",
    "$L_2 + M = \\frac{R_L C_L}{2} \\left[ R_L + R_S \\right]$\n",
    "\n",
    "\n",
    "\n",
    "SymPy derived equations\n",
    "\n",
    "From: @Ross2011\n",
    "\n",
    "T-coil summary\n",
    "\n",
    "- Constant R provides ideal load or termination\n",
    "- Up to 2.82 bandwidth improvement (BWER or bandwidth extension ratio) over RC based bandwidth\n",
    "- 2.73 improvement for acceptable 0.4% overshoot to ideal step input (MFED or maximally flat envelope delay design)\n",
    "- Now used in high-speed buffer design\n",
    "  - ESD (electrostatic discharge) compensation\n",
    "  - Bandwidth improvement\n",
    "\n",
    "Schematic somewhat different\n",
    "\n",
    "Wang Algebra\n",
    "\n",
    "See page 12 for constant R and simplification\n",
    "\n",
    "\n",
    "From: @Jeong2020\n",
    "\n",
    "Topics in IC Design T-Coil\n",
    "\n",
    "- Inductors produce peaking, thereby giving bandwidth extension.\n",
    "- T-coil (Tee-Coil) produces even more bandwidth extension by giving negative inductance.\n",
    "\n",
    "Introduced by Ginzton in 1948 as part of distributed amplifier.\n",
    "\n",
    "Common Source Amplifier\n",
    "\n",
    "Given RD and CL, what are CB, L, and M, assuming L1 = L2 = L (symmetric T-Coil)?\n",
    "\n",
    "Four equations must be satisfied with five variables (CB, L, M, $\\zeta$, $\\omega _n$). Out of numerous solutions, what is the best transfer function that maximizes the bandwidth?\n",
    "\n",
    "\n",
    "Effect of Large ESD Capacitance is removed.\n",
    "\n",
    "E. Ginzton et. al, “Distributed Amplification,” Proc. IRE, vol. 36, pp. 956–969, Aug.\n",
    "1948.\n",
    "\n",
    "\n",
    "\n",
    "### Circuit description\n",
    "\n",
    "- write for each configuration   \n",
    "- The circuit in @fig-t-coil1 has 10 branches and eight nodes. \n",
    "\n",
    "\n",
    "\n",
    "There are two capacitors, seven resistors in the circuit and three Op Amps. The circuit has a low pass, a high pass and band pass outputs.\n",
    "\n",
    "### Circuit analysis\n",
    "The circuit was drawn using LTSpice and the netlist was pasted into the code. Network equations were generated using the smna() function and a symbolic solution for the equations was obtained. \n",
    "\n",
    "- two port parameters\n",
    "- design equations: given some values (C_L, R_L, ), what other values increase BW?\n",
    "\n",
    "\n",
    " \n",
    "\n",
    "The net list for the filter is:"
   ]
  },
  {
   "cell_type": "markdown",
   "id": "6fce30fa-fc6f-40e2-8ea8-f4a640659182",
   "metadata": {},
   "source": [
    "### Network Equations\n",
    "The netlist for the schematic above was generated by LTSpice and copied into the cell below."
   ]
  },
  {
   "cell_type": "code",
   "execution_count": 295,
   "id": "55ddfdd3-818d-4db0-8ee5-38914a256ba9",
   "metadata": {},
   "outputs": [],
   "source": [
    "T_Coil_ver1a_net_list = '''\n",
    "* T-Coil-ver1a.asc\n",
    "V1 1 0 1\n",
    "L1 3 1 1\n",
    "L2 5 3 1\n",
    "L_S 3 4 1\n",
    "C_L 2 0 1\n",
    "C_B 5 1 1\n",
    "R_L 5 0 1\n",
    "R_S 4 2 1\n",
    "K L1 L2 0.5\n",
    "'''"
   ]
  },
  {
   "cell_type": "markdown",
   "id": "c4e767e0-7dd9-4e41-938f-aacb6134724a",
   "metadata": {},
   "source": [
    "The MNA equations are generated from the function `SymMNA.smna`."
   ]
  },
  {
   "cell_type": "code",
   "execution_count": 296,
   "id": "5f95051b-7ca7-4827-ba50-4d98c23ecc04",
   "metadata": {},
   "outputs": [],
   "source": [
    "report, network_df, i_unk_df, A, X, Z = SymMNA.smna(T_Coil_ver1a_net_list)"
   ]
  },
  {
   "cell_type": "markdown",
   "id": "e93bb4f4-6863-4771-a4d2-4a9c0ce90d99",
   "metadata": {},
   "source": [
    "The code below assembles the network equations from the MNA matrices and displays the equations."
   ]
  },
  {
   "cell_type": "code",
   "execution_count": 297,
   "id": "13b779c5-70dd-4fdf-8f95-959b0308a3d3",
   "metadata": {},
   "outputs": [
    {
     "data": {
      "text/markdown": [
       "$0 = C_{b} s v_{1} - C_{b} s v_{5} - I_{L1} + I_{V1}$<br>$0 = v_{2} \\left(C_{l} s + \\frac{1}{R_{s}}\\right) - \\frac{v_{4}}{R_{s}}$<br>$0 = I_{L1} - I_{L2} + I_{L s}$<br>$0 = - I_{L s} - \\frac{v_{2}}{R_{s}} + \\frac{v_{4}}{R_{s}}$<br>$0 = - C_{b} s v_{1} + I_{L2} + v_{5} \\left(C_{b} s + \\frac{1}{R_{l}}\\right)$<br>$V_{1} = v_{1}$<br>$0 = - I_{L1} L_{1} s - I_{L2} M s - v_{1} + v_{3}$<br>$0 = - I_{L1} M s - I_{L2} L_{2} s - v_{3} + v_{5}$<br>$0 = - I_{L s} L_{s} s + v_{3} - v_{4}$<br>"
      ],
      "text/plain": [
       "<IPython.core.display.Markdown object>"
      ]
     },
     "execution_count": 297,
     "metadata": {},
     "output_type": "execute_result"
    }
   ],
   "source": [
    "# Put matrices into SymPy \n",
    "X = Matrix(X)\n",
    "Z = Matrix(Z)\n",
    "\n",
    "NE_sym = Eq(A*X,Z)\n",
    "\n",
    "# display the equations\n",
    "temp = ''\n",
    "for i in range(shape(NE_sym.lhs)[0]):\n",
    "    temp += '${:s} = {:s}$<br>'.format(latex(NE_sym.rhs[i]),latex(NE_sym.lhs[i]))\n",
    "Markdown(temp)"
   ]
  },
  {
   "cell_type": "markdown",
   "id": "0c46400b-9bd1-4ae9-b141-ce5ca9f2cb86",
   "metadata": {},
   "source": [
    "The free symbols are entered as SymPy variables and the element values are put into a dictionary."
   ]
  },
  {
   "cell_type": "code",
   "execution_count": 298,
   "id": "1e86e3b6-aa83-4545-8421-7e3795b043ad",
   "metadata": {},
   "outputs": [],
   "source": [
    "var(str(NE_sym.free_symbols).replace('{','').replace('}',''))\n",
    "element_values = SymMNA.get_part_values(network_df)"
   ]
  },
  {
   "cell_type": "markdown",
   "id": "8924f039-385d-442d-ab82-95b694165dd4",
   "metadata": {},
   "source": [
    "### Symbolic solution\n",
    "The network equations for the circuit in @fig-wien_bridge_loop_gain_sch can be solved symbolically. "
   ]
  },
  {
   "cell_type": "code",
   "execution_count": 299,
   "id": "3b56a1df-995d-4e50-bf51-7adc6ae09e9f",
   "metadata": {},
   "outputs": [],
   "source": [
    "U_sym = solve(NE_sym,X)"
   ]
  },
  {
   "cell_type": "markdown",
   "id": "29e4bb45-543d-4ae7-8015-55f71bab7615",
   "metadata": {},
   "source": [
    "Display the node voltages and dependent currents using symbolic notation."
   ]
  },
  {
   "cell_type": "code",
   "execution_count": 300,
   "id": "cbdc7a6a-c83e-47a7-b23a-37a4e17f07ca",
   "metadata": {},
   "outputs": [
    {
     "data": {
      "text/markdown": [
       "$v_{1} = V_{1}$<br>$v_{2} = \\frac{C_{b} L_{1} R_{l} V_{1} s^{2} + C_{b} L_{2} R_{l} V_{1} s^{2} + 2 C_{b} M R_{l} V_{1} s^{2} + L_{2} V_{1} s + M V_{1} s + R_{l} V_{1}}{C_{b} C_{l} L_{1} L_{2} R_{l} s^{4} + C_{b} C_{l} L_{1} L_{s} R_{l} s^{4} + C_{b} C_{l} L_{1} R_{l} R_{s} s^{3} + C_{b} C_{l} L_{2} L_{s} R_{l} s^{4} + C_{b} C_{l} L_{2} R_{l} R_{s} s^{3} + 2 C_{b} C_{l} L_{s} M R_{l} s^{4} - C_{b} C_{l} M^{2} R_{l} s^{4} + 2 C_{b} C_{l} M R_{l} R_{s} s^{3} + C_{b} L_{1} R_{l} s^{2} + C_{b} L_{2} R_{l} s^{2} + 2 C_{b} M R_{l} s^{2} + C_{l} L_{1} L_{2} s^{3} + C_{l} L_{1} L_{s} s^{3} + C_{l} L_{1} R_{l} s^{2} + C_{l} L_{1} R_{s} s^{2} + C_{l} L_{2} L_{s} s^{3} + C_{l} L_{2} R_{s} s^{2} + 2 C_{l} L_{s} M s^{3} + C_{l} L_{s} R_{l} s^{2} - C_{l} M^{2} s^{3} + 2 C_{l} M R_{s} s^{2} + C_{l} R_{l} R_{s} s + L_{1} s + L_{2} s + 2 M s + R_{l}}$<br>$v_{3} = \\frac{C_{b} C_{l} L_{1} L_{s} R_{l} V_{1} s^{4} + C_{b} C_{l} L_{1} R_{l} R_{s} V_{1} s^{3} + C_{b} C_{l} L_{2} L_{s} R_{l} V_{1} s^{4} + C_{b} C_{l} L_{2} R_{l} R_{s} V_{1} s^{3} + 2 C_{b} C_{l} L_{s} M R_{l} V_{1} s^{4} + 2 C_{b} C_{l} M R_{l} R_{s} V_{1} s^{3} + C_{b} L_{1} R_{l} V_{1} s^{2} + C_{b} L_{2} R_{l} V_{1} s^{2} + 2 C_{b} M R_{l} V_{1} s^{2} + C_{l} L_{2} L_{s} V_{1} s^{3} + C_{l} L_{2} R_{s} V_{1} s^{2} + C_{l} L_{s} M V_{1} s^{3} + C_{l} L_{s} R_{l} V_{1} s^{2} + C_{l} M R_{s} V_{1} s^{2} + C_{l} R_{l} R_{s} V_{1} s + L_{2} V_{1} s + M V_{1} s + R_{l} V_{1}}{C_{b} C_{l} L_{1} L_{2} R_{l} s^{4} + C_{b} C_{l} L_{1} L_{s} R_{l} s^{4} + C_{b} C_{l} L_{1} R_{l} R_{s} s^{3} + C_{b} C_{l} L_{2} L_{s} R_{l} s^{4} + C_{b} C_{l} L_{2} R_{l} R_{s} s^{3} + 2 C_{b} C_{l} L_{s} M R_{l} s^{4} - C_{b} C_{l} M^{2} R_{l} s^{4} + 2 C_{b} C_{l} M R_{l} R_{s} s^{3} + C_{b} L_{1} R_{l} s^{2} + C_{b} L_{2} R_{l} s^{2} + 2 C_{b} M R_{l} s^{2} + C_{l} L_{1} L_{2} s^{3} + C_{l} L_{1} L_{s} s^{3} + C_{l} L_{1} R_{l} s^{2} + C_{l} L_{1} R_{s} s^{2} + C_{l} L_{2} L_{s} s^{3} + C_{l} L_{2} R_{s} s^{2} + 2 C_{l} L_{s} M s^{3} + C_{l} L_{s} R_{l} s^{2} - C_{l} M^{2} s^{3} + 2 C_{l} M R_{s} s^{2} + C_{l} R_{l} R_{s} s + L_{1} s + L_{2} s + 2 M s + R_{l}}$<br>$v_{4} = \\frac{C_{b} C_{l} L_{1} R_{l} R_{s} V_{1} s^{3} + C_{b} C_{l} L_{2} R_{l} R_{s} V_{1} s^{3} + 2 C_{b} C_{l} M R_{l} R_{s} V_{1} s^{3} + C_{b} L_{1} R_{l} V_{1} s^{2} + C_{b} L_{2} R_{l} V_{1} s^{2} + 2 C_{b} M R_{l} V_{1} s^{2} + C_{l} L_{2} R_{s} V_{1} s^{2} + C_{l} M R_{s} V_{1} s^{2} + C_{l} R_{l} R_{s} V_{1} s + L_{2} V_{1} s + M V_{1} s + R_{l} V_{1}}{C_{b} C_{l} L_{1} L_{2} R_{l} s^{4} + C_{b} C_{l} L_{1} L_{s} R_{l} s^{4} + C_{b} C_{l} L_{1} R_{l} R_{s} s^{3} + C_{b} C_{l} L_{2} L_{s} R_{l} s^{4} + C_{b} C_{l} L_{2} R_{l} R_{s} s^{3} + 2 C_{b} C_{l} L_{s} M R_{l} s^{4} - C_{b} C_{l} M^{2} R_{l} s^{4} + 2 C_{b} C_{l} M R_{l} R_{s} s^{3} + C_{b} L_{1} R_{l} s^{2} + C_{b} L_{2} R_{l} s^{2} + 2 C_{b} M R_{l} s^{2} + C_{l} L_{1} L_{2} s^{3} + C_{l} L_{1} L_{s} s^{3} + C_{l} L_{1} R_{l} s^{2} + C_{l} L_{1} R_{s} s^{2} + C_{l} L_{2} L_{s} s^{3} + C_{l} L_{2} R_{s} s^{2} + 2 C_{l} L_{s} M s^{3} + C_{l} L_{s} R_{l} s^{2} - C_{l} M^{2} s^{3} + 2 C_{l} M R_{s} s^{2} + C_{l} R_{l} R_{s} s + L_{1} s + L_{2} s + 2 M s + R_{l}}$<br>$v_{5} = \\frac{C_{b} C_{l} L_{1} L_{2} R_{l} V_{1} s^{4} + C_{b} C_{l} L_{1} L_{s} R_{l} V_{1} s^{4} + C_{b} C_{l} L_{1} R_{l} R_{s} V_{1} s^{3} + C_{b} C_{l} L_{2} L_{s} R_{l} V_{1} s^{4} + C_{b} C_{l} L_{2} R_{l} R_{s} V_{1} s^{3} + 2 C_{b} C_{l} L_{s} M R_{l} V_{1} s^{4} - C_{b} C_{l} M^{2} R_{l} V_{1} s^{4} + 2 C_{b} C_{l} M R_{l} R_{s} V_{1} s^{3} + C_{b} L_{1} R_{l} V_{1} s^{2} + C_{b} L_{2} R_{l} V_{1} s^{2} + 2 C_{b} M R_{l} V_{1} s^{2} + C_{l} L_{s} R_{l} V_{1} s^{2} - C_{l} M R_{l} V_{1} s^{2} + C_{l} R_{l} R_{s} V_{1} s + R_{l} V_{1}}{C_{b} C_{l} L_{1} L_{2} R_{l} s^{4} + C_{b} C_{l} L_{1} L_{s} R_{l} s^{4} + C_{b} C_{l} L_{1} R_{l} R_{s} s^{3} + C_{b} C_{l} L_{2} L_{s} R_{l} s^{4} + C_{b} C_{l} L_{2} R_{l} R_{s} s^{3} + 2 C_{b} C_{l} L_{s} M R_{l} s^{4} - C_{b} C_{l} M^{2} R_{l} s^{4} + 2 C_{b} C_{l} M R_{l} R_{s} s^{3} + C_{b} L_{1} R_{l} s^{2} + C_{b} L_{2} R_{l} s^{2} + 2 C_{b} M R_{l} s^{2} + C_{l} L_{1} L_{2} s^{3} + C_{l} L_{1} L_{s} s^{3} + C_{l} L_{1} R_{l} s^{2} + C_{l} L_{1} R_{s} s^{2} + C_{l} L_{2} L_{s} s^{3} + C_{l} L_{2} R_{s} s^{2} + 2 C_{l} L_{s} M s^{3} + C_{l} L_{s} R_{l} s^{2} - C_{l} M^{2} s^{3} + 2 C_{l} M R_{s} s^{2} + C_{l} R_{l} R_{s} s + L_{1} s + L_{2} s + 2 M s + R_{l}}$<br>$I_{V1} = \\frac{- C_{b} C_{l} L_{1} L_{2} V_{1} s^{4} - C_{b} C_{l} L_{1} L_{s} V_{1} s^{4} - C_{b} C_{l} L_{1} R_{l} V_{1} s^{3} - C_{b} C_{l} L_{1} R_{s} V_{1} s^{3} - C_{b} C_{l} L_{2} L_{s} V_{1} s^{4} - C_{b} C_{l} L_{2} R_{l} V_{1} s^{3} - C_{b} C_{l} L_{2} R_{s} V_{1} s^{3} - 2 C_{b} C_{l} L_{s} M V_{1} s^{4} + C_{b} C_{l} M^{2} V_{1} s^{4} - 2 C_{b} C_{l} M R_{l} V_{1} s^{3} - 2 C_{b} C_{l} M R_{s} V_{1} s^{3} - C_{b} L_{1} V_{1} s^{2} - C_{b} L_{2} V_{1} s^{2} - 2 C_{b} M V_{1} s^{2} - C_{l} L_{2} V_{1} s^{2} - C_{l} L_{s} V_{1} s^{2} - C_{l} R_{l} V_{1} s - C_{l} R_{s} V_{1} s - V_{1}}{C_{b} C_{l} L_{1} L_{2} R_{l} s^{4} + C_{b} C_{l} L_{1} L_{s} R_{l} s^{4} + C_{b} C_{l} L_{1} R_{l} R_{s} s^{3} + C_{b} C_{l} L_{2} L_{s} R_{l} s^{4} + C_{b} C_{l} L_{2} R_{l} R_{s} s^{3} + 2 C_{b} C_{l} L_{s} M R_{l} s^{4} - C_{b} C_{l} M^{2} R_{l} s^{4} + 2 C_{b} C_{l} M R_{l} R_{s} s^{3} + C_{b} L_{1} R_{l} s^{2} + C_{b} L_{2} R_{l} s^{2} + 2 C_{b} M R_{l} s^{2} + C_{l} L_{1} L_{2} s^{3} + C_{l} L_{1} L_{s} s^{3} + C_{l} L_{1} R_{l} s^{2} + C_{l} L_{1} R_{s} s^{2} + C_{l} L_{2} L_{s} s^{3} + C_{l} L_{2} R_{s} s^{2} + 2 C_{l} L_{s} M s^{3} + C_{l} L_{s} R_{l} s^{2} - C_{l} M^{2} s^{3} + 2 C_{l} M R_{s} s^{2} + C_{l} R_{l} R_{s} s + L_{1} s + L_{2} s + 2 M s + R_{l}}$<br>$I_{L1} = \\frac{- C_{b} C_{l} L_{2} R_{l} V_{1} s^{3} - C_{b} C_{l} M R_{l} V_{1} s^{3} - C_{l} L_{2} V_{1} s^{2} - C_{l} L_{s} V_{1} s^{2} - C_{l} R_{l} V_{1} s - C_{l} R_{s} V_{1} s - V_{1}}{C_{b} C_{l} L_{1} L_{2} R_{l} s^{4} + C_{b} C_{l} L_{1} L_{s} R_{l} s^{4} + C_{b} C_{l} L_{1} R_{l} R_{s} s^{3} + C_{b} C_{l} L_{2} L_{s} R_{l} s^{4} + C_{b} C_{l} L_{2} R_{l} R_{s} s^{3} + 2 C_{b} C_{l} L_{s} M R_{l} s^{4} - C_{b} C_{l} M^{2} R_{l} s^{4} + 2 C_{b} C_{l} M R_{l} R_{s} s^{3} + C_{b} L_{1} R_{l} s^{2} + C_{b} L_{2} R_{l} s^{2} + 2 C_{b} M R_{l} s^{2} + C_{l} L_{1} L_{2} s^{3} + C_{l} L_{1} L_{s} s^{3} + C_{l} L_{1} R_{l} s^{2} + C_{l} L_{1} R_{s} s^{2} + C_{l} L_{2} L_{s} s^{3} + C_{l} L_{2} R_{s} s^{2} + 2 C_{l} L_{s} M s^{3} + C_{l} L_{s} R_{l} s^{2} - C_{l} M^{2} s^{3} + 2 C_{l} M R_{s} s^{2} + C_{l} R_{l} R_{s} s + L_{1} s + L_{2} s + 2 M s + R_{l}}$<br>$I_{L2} = \\frac{C_{b} C_{l} L_{1} R_{l} V_{1} s^{3} + C_{b} C_{l} M R_{l} V_{1} s^{3} - C_{l} L_{s} V_{1} s^{2} + C_{l} M V_{1} s^{2} - C_{l} R_{s} V_{1} s - V_{1}}{C_{b} C_{l} L_{1} L_{2} R_{l} s^{4} + C_{b} C_{l} L_{1} L_{s} R_{l} s^{4} + C_{b} C_{l} L_{1} R_{l} R_{s} s^{3} + C_{b} C_{l} L_{2} L_{s} R_{l} s^{4} + C_{b} C_{l} L_{2} R_{l} R_{s} s^{3} + 2 C_{b} C_{l} L_{s} M R_{l} s^{4} - C_{b} C_{l} M^{2} R_{l} s^{4} + 2 C_{b} C_{l} M R_{l} R_{s} s^{3} + C_{b} L_{1} R_{l} s^{2} + C_{b} L_{2} R_{l} s^{2} + 2 C_{b} M R_{l} s^{2} + C_{l} L_{1} L_{2} s^{3} + C_{l} L_{1} L_{s} s^{3} + C_{l} L_{1} R_{l} s^{2} + C_{l} L_{1} R_{s} s^{2} + C_{l} L_{2} L_{s} s^{3} + C_{l} L_{2} R_{s} s^{2} + 2 C_{l} L_{s} M s^{3} + C_{l} L_{s} R_{l} s^{2} - C_{l} M^{2} s^{3} + 2 C_{l} M R_{s} s^{2} + C_{l} R_{l} R_{s} s + L_{1} s + L_{2} s + 2 M s + R_{l}}$<br>$I_{L s} = \\frac{C_{b} C_{l} L_{1} R_{l} V_{1} s^{3} + C_{b} C_{l} L_{2} R_{l} V_{1} s^{3} + 2 C_{b} C_{l} M R_{l} V_{1} s^{3} + C_{l} L_{2} V_{1} s^{2} + C_{l} M V_{1} s^{2} + C_{l} R_{l} V_{1} s}{C_{b} C_{l} L_{1} L_{2} R_{l} s^{4} + C_{b} C_{l} L_{1} L_{s} R_{l} s^{4} + C_{b} C_{l} L_{1} R_{l} R_{s} s^{3} + C_{b} C_{l} L_{2} L_{s} R_{l} s^{4} + C_{b} C_{l} L_{2} R_{l} R_{s} s^{3} + 2 C_{b} C_{l} L_{s} M R_{l} s^{4} - C_{b} C_{l} M^{2} R_{l} s^{4} + 2 C_{b} C_{l} M R_{l} R_{s} s^{3} + C_{b} L_{1} R_{l} s^{2} + C_{b} L_{2} R_{l} s^{2} + 2 C_{b} M R_{l} s^{2} + C_{l} L_{1} L_{2} s^{3} + C_{l} L_{1} L_{s} s^{3} + C_{l} L_{1} R_{l} s^{2} + C_{l} L_{1} R_{s} s^{2} + C_{l} L_{2} L_{s} s^{3} + C_{l} L_{2} R_{s} s^{2} + 2 C_{l} L_{s} M s^{3} + C_{l} L_{s} R_{l} s^{2} - C_{l} M^{2} s^{3} + 2 C_{l} M R_{s} s^{2} + C_{l} R_{l} R_{s} s + L_{1} s + L_{2} s + 2 M s + R_{l}}$<br>"
      ],
      "text/plain": [
       "<IPython.core.display.Markdown object>"
      ]
     },
     "execution_count": 300,
     "metadata": {},
     "output_type": "execute_result"
    }
   ],
   "source": [
    "temp = ''\n",
    "for i in U_sym.keys():\n",
    "    temp += '${:s} = {:s}$<br>'.format(latex(i),latex(U_sym[i]))\n",
    "\n",
    "Markdown(temp)"
   ]
  },
  {
   "cell_type": "markdown",
   "id": "2555a604-d940-471b-b038-bba07d7f77b5",
   "metadata": {},
   "source": [
    "The network transfer function, $H(s)=\\frac {v_2(s)}{v_1(s)}$ is:"
   ]
  },
  {
   "cell_type": "code",
   "execution_count": 301,
   "id": "04dd939a-9a28-4577-ad6e-71759e412695",
   "metadata": {},
   "outputs": [
    {
     "data": {
      "text/markdown": [
       "$H(s)=\\frac{C_{b} L_{1} R_{l} s^{2} + C_{b} L_{2} R_{l} s^{2} + 2 C_{b} M R_{l} s^{2} + L_{2} s + M s + R_{l}}{C_{b} C_{l} L_{1} L_{2} R_{l} s^{4} + C_{b} C_{l} L_{1} L_{s} R_{l} s^{4} + C_{b} C_{l} L_{1} R_{l} R_{s} s^{3} + C_{b} C_{l} L_{2} L_{s} R_{l} s^{4} + C_{b} C_{l} L_{2} R_{l} R_{s} s^{3} + 2 C_{b} C_{l} L_{s} M R_{l} s^{4} - C_{b} C_{l} M^{2} R_{l} s^{4} + 2 C_{b} C_{l} M R_{l} R_{s} s^{3} + C_{b} L_{1} R_{l} s^{2} + C_{b} L_{2} R_{l} s^{2} + 2 C_{b} M R_{l} s^{2} + C_{l} L_{1} L_{2} s^{3} + C_{l} L_{1} L_{s} s^{3} + C_{l} L_{1} R_{l} s^{2} + C_{l} L_{1} R_{s} s^{2} + C_{l} L_{2} L_{s} s^{3} + C_{l} L_{2} R_{s} s^{2} + 2 C_{l} L_{s} M s^{3} + C_{l} L_{s} R_{l} s^{2} - C_{l} M^{2} s^{3} + 2 C_{l} M R_{s} s^{2} + C_{l} R_{l} R_{s} s + L_{1} s + L_{2} s + 2 M s + R_{l}}$"
      ],
      "text/plain": [
       "<IPython.core.display.Markdown object>"
      ]
     },
     "execution_count": 301,
     "metadata": {},
     "output_type": "execute_result"
    }
   ],
   "source": [
    "H_sym = (U_sym[v2]/U_sym[v1]).cancel()\n",
    "Markdown('$H(s)={:s}$'.format(latex(H_sym)))"
   ]
  },
  {
   "cell_type": "markdown",
   "id": "057f0f46-3bbc-4331-8085-d2f254e0e2f1",
   "metadata": {},
   "source": [
    "The numerator is a second order polynomial and the denominator is a fourth order polynomial.\n",
    "\n",
    "Generally, the order of the dominator is equal to the number of reactive elements in the circuit; sometimes roots of the numerator will exactly cancel with a root of the denominator polynomial. \n",
    "\n",
    "The roots of the numerator polynomial are called the zeros of the transfer function and the roots of the denominator are called the poles of the transfer function."
   ]
  },
  {
   "cell_type": "code",
   "execution_count": 302,
   "id": "f6e8b1af-02f0-475a-8862-0f1af05f4030",
   "metadata": {
    "tags": []
   },
   "outputs": [],
   "source": [
    "H_sym_num, H_sym_denom = fraction(H_sym) #returns numerator and denominator"
   ]
  },
  {
   "cell_type": "markdown",
   "id": "1521eb40-5bca-4444-bd80-064c9740b341",
   "metadata": {},
   "source": [
    "#### Numerator Polynomial of $H_{sym}(s)$\n",
    "The numerator polynomial is:"
   ]
  },
  {
   "cell_type": "code",
   "execution_count": 303,
   "id": "8d0da5f0-789a-459c-bd01-1b46fb124ac4",
   "metadata": {},
   "outputs": [
    {
     "data": {
      "text/markdown": [
       "$N(s)=C_{b} L_{1} R_{l} s^{2} + C_{b} L_{2} R_{l} s^{2} + 2 C_{b} M R_{l} s^{2} + L_{2} s + M s + R_{l}$"
      ],
      "text/plain": [
       "<IPython.core.display.Markdown object>"
      ]
     },
     "execution_count": 303,
     "metadata": {},
     "output_type": "execute_result"
    }
   ],
   "source": [
    "Markdown('$N(s)={:s}$'.format(latex(H_sym_num)))"
   ]
  },
  {
   "cell_type": "markdown",
   "id": "95bb9253-f469-43fd-9c91-40f30e0a049c",
   "metadata": {},
   "source": [
    "The coefficients of each Laplace term can be equated to the variables $b_2$, $b_1$ and $b_0$ in the expression: \n",
    "\n",
    "$b_2s^{2}+b_1s+b_0$\n",
    "\n",
    "where $b_2$, $b_1$ and $b_0$ are:"
   ]
  },
  {
   "cell_type": "code",
   "execution_count": 304,
   "id": "bc6eb876-b742-416c-837b-ea8d91ea45f5",
   "metadata": {},
   "outputs": [
    {
     "data": {
      "text/markdown": [
       "<p>$b_2=C_{b} L_{1} R_{l} + C_{b} L_{2} R_{l} + 2 C_{b} M R_{l}$</p><p>$b_1=L_{2} + M$</p><p>$b_0=R_{l}$</p>"
      ],
      "text/plain": [
       "<IPython.core.display.Markdown object>"
      ]
     },
     "execution_count": 304,
     "metadata": {},
     "output_type": "execute_result"
    }
   ],
   "source": [
    "b2 = H_sym_num.coeff(s**2)\n",
    "b1 = H_sym_num.coeff(s**1)\n",
    "b0 = (H_sym_num - b1*s*1 - b2*s**2).expand()\n",
    "\n",
    "Markdown('<p>$b_2={:s}$</p><p>$b_1={:s}$</p><p>$b_0={:s}$</p>'.format(latex(b2),latex(b1),latex(b0)))"
   ]
  },
  {
   "cell_type": "code",
   "execution_count": 305,
   "id": "f0f0fe30-04f4-461f-8ae0-43b7a0741e1c",
   "metadata": {},
   "outputs": [
    {
     "data": {
      "image/png": "[encoded data removed]",
      "text/latex": [
       "$\\displaystyle \\left[ \\frac{- L_{2} - M - \\sqrt{- 4 C_{b} L_{1} R_{l}^{2} - 4 C_{b} L_{2} R_{l}^{2} - 8 C_{b} M R_{l}^{2} + L_{2}^{2} + 2 L_{2} M + M^{2}}}{2 C_{b} R_{l} \\left(L_{1} + L_{2} + 2 M\\right)}, \\  \\frac{- L_{2} - M + \\sqrt{- 4 C_{b} L_{1} R_{l}^{2} - 4 C_{b} L_{2} R_{l}^{2} - 8 C_{b} M R_{l}^{2} + L_{2}^{2} + 2 L_{2} M + M^{2}}}{2 C_{b} R_{l} \\left(L_{1} + L_{2} + 2 M\\right)}\\right]$"
      ],
      "text/plain": [
       "⎡             ________________________________________________________________\n",
       "⎢            ╱              2              2             2     2             2\n",
       "⎢-L₂ - M - ╲╱  - 4⋅C_b⋅L₁⋅Rₗ  - 4⋅C_b⋅L₂⋅Rₗ  - 8⋅C_b⋅M⋅Rₗ  + L₂  + 2⋅L₂⋅M + M \n",
       "⎢─────────────────────────────────────────────────────────────────────────────\n",
       "⎣                           2⋅C_b⋅Rₗ⋅(L₁ + L₂ + 2⋅M)                          \n",
       "\n",
       "_               ______________________________________________________________\n",
       "               ╱              2              2             2     2            \n",
       "   -L₂ - M + ╲╱  - 4⋅C_b⋅L₁⋅Rₗ  - 4⋅C_b⋅L₂⋅Rₗ  - 8⋅C_b⋅M⋅Rₗ  + L₂  + 2⋅L₂⋅M + \n",
       "─, ───────────────────────────────────────────────────────────────────────────\n",
       "                              2⋅C_b⋅Rₗ⋅(L₁ + L₂ + 2⋅M)                        \n",
       "\n",
       "___⎤\n",
       " 2 ⎥\n",
       "M  ⎥\n",
       "───⎥\n",
       "   ⎦"
      ]
     },
     "execution_count": 305,
     "metadata": {},
     "output_type": "execute_result"
    }
   ],
   "source": [
    "H_zeros = solve(H_sym_num,s)\n",
    "H_zeros"
   ]
  },
  {
   "cell_type": "markdown",
   "id": "37e3d81f-7f99-4b09-801d-5e05a76221e2",
   "metadata": {},
   "source": [
    "#### Denominator Polynomial of $H_{sym}(s)$\n",
    "The denominator polynomial of the transfer function is called the characteristic polynomial. The roots of the denominator, also called poles of the system,  determine the system's stability. If any of these roots have a positive real part, the system is unstable, meaning its output will grow unbounded. The roots also influence how the system responds to changes in input (the transient response). They affect things like how quickly the system settles to a new state, whether it oscillates, and the damping of those oscillations. Each root of the characteristic polynomial corresponds to a natural mode of the system.\n",
    "\n",
    "The denominator polynomial is:"
   ]
  },
  {
   "cell_type": "code",
   "execution_count": 306,
   "id": "d6badf9d-1f25-4d4c-a06f-132f5744f71f",
   "metadata": {},
   "outputs": [
    {
     "data": {
      "text/markdown": [
       "$D(s)=C_{b} C_{l} L_{1} L_{2} R_{l} s^{4} + C_{b} C_{l} L_{1} L_{s} R_{l} s^{4} + C_{b} C_{l} L_{1} R_{l} R_{s} s^{3} + C_{b} C_{l} L_{2} L_{s} R_{l} s^{4} + C_{b} C_{l} L_{2} R_{l} R_{s} s^{3} + 2 C_{b} C_{l} L_{s} M R_{l} s^{4} - C_{b} C_{l} M^{2} R_{l} s^{4} + 2 C_{b} C_{l} M R_{l} R_{s} s^{3} + C_{b} L_{1} R_{l} s^{2} + C_{b} L_{2} R_{l} s^{2} + 2 C_{b} M R_{l} s^{2} + C_{l} L_{1} L_{2} s^{3} + C_{l} L_{1} L_{s} s^{3} + C_{l} L_{1} R_{l} s^{2} + C_{l} L_{1} R_{s} s^{2} + C_{l} L_{2} L_{s} s^{3} + C_{l} L_{2} R_{s} s^{2} + 2 C_{l} L_{s} M s^{3} + C_{l} L_{s} R_{l} s^{2} - C_{l} M^{2} s^{3} + 2 C_{l} M R_{s} s^{2} + C_{l} R_{l} R_{s} s + L_{1} s + L_{2} s + 2 M s + R_{l}$"
      ],
      "text/plain": [
       "<IPython.core.display.Markdown object>"
      ]
     },
     "execution_count": 306,
     "metadata": {},
     "output_type": "execute_result"
    }
   ],
   "source": [
    "Markdown('$D(s)={:s}$'.format(latex(H_sym_denom)))"
   ]
  },
  {
   "cell_type": "markdown",
   "id": "f2869437-2b21-482a-a12e-b7635b3b132e",
   "metadata": {},
   "source": [
    "The coefficients of each Laplace term can be equated to the variables $a_3$, $a_2$, $a_1$ and $a_0$ in the expression: \n",
    "\n",
    "$a_4s^4+a_3s^3+a_2s^2+a_1s+a_0$\n",
    "\n",
    "where $a_4$, $a_3$, $a_2$, $a_1$ and $a_0$ are:"
   ]
  },
  {
   "cell_type": "code",
   "execution_count": 307,
   "id": "a93d47ef-ec46-488e-b532-5aecee3ca28f",
   "metadata": {},
   "outputs": [
    {
     "data": {
      "text/markdown": [
       "<p>$a_4=C_{b} C_{l} L_{1} L_{2} R_{l} + C_{b} C_{l} L_{1} L_{s} R_{l} + C_{b} C_{l} L_{2} L_{s} R_{l} + 2 C_{b} C_{l} L_{s} M R_{l} - C_{b} C_{l} M^{2} R_{l}$</p><p>$a_3=C_{b} C_{l} L_{1} R_{l} R_{s} + C_{b} C_{l} L_{2} R_{l} R_{s} + 2 C_{b} C_{l} M R_{l} R_{s} + C_{l} L_{1} L_{2} + C_{l} L_{1} L_{s} + C_{l} L_{2} L_{s} + 2 C_{l} L_{s} M - C_{l} M^{2}$</p><p>$a_2=C_{b} L_{1} R_{l} + C_{b} L_{2} R_{l} + 2 C_{b} M R_{l} + C_{l} L_{1} R_{l} + C_{l} L_{1} R_{s} + C_{l} L_{2} R_{s} + C_{l} L_{s} R_{l} + 2 C_{l} M R_{s}$</p><p>$a_1=C_{l} R_{l} R_{s} + L_{1} + L_{2} + 2 M$</p><p>$a_0=R_{l}$</p>"
      ],
      "text/plain": [
       "<IPython.core.display.Markdown object>"
      ]
     },
     "execution_count": 307,
     "metadata": {},
     "output_type": "execute_result"
    }
   ],
   "source": [
    "a4 = H_sym_denom.coeff(s**4)\n",
    "a3 = H_sym_denom.coeff(s**3)\n",
    "a2 = H_sym_denom.coeff(s**2)\n",
    "a1 = H_sym_denom.coeff(s**1)\n",
    "a0 = (H_sym_denom - a1*s*1 - a2*s**2 - a3*s**3 - a4*s**4).expand()\n",
    "Markdown('<p>$a_4={:s}$</p><p>$a_3={:s}$</p><p>$a_2={:s}$</p><p>$a_1={:s}$</p><p>$a_0={:s}$</p>'.format(latex(a4),latex(a3),latex(a2),latex(a1),latex(a0)))"
   ]
  },
  {
   "cell_type": "markdown",
   "id": "7cbc3eea-31cc-4732-871f-66b659d497a2",
   "metadata": {},
   "source": [
    "Complicated transfer function ...\n",
    "\n",
    "Make $L_1=L_2=L$ and choose other values such that the zeros are canceled by two poles."
   ]
  },
  {
   "cell_type": "code",
   "execution_count": 201,
   "id": "1a6c1a1f-68a2-437d-9c9a-3fc3af758ffc",
   "metadata": {},
   "outputs": [],
   "source": [
    "L = symbols('L')"
   ]
  },
  {
   "cell_type": "raw",
   "id": "e125c3bb-a665-40cd-9e11-efb87b9717d4",
   "metadata": {},
   "source": [
    "L1 = R_l**2*C_l/2\n",
    "L2 = R_l**2*C_l/2"
   ]
  },
  {
   "cell_type": "raw",
   "id": "36bf69af-8017-4ff2-a8ed-f36ffe26c29a",
   "metadata": {},
   "source": [
    "M = R_l**2*C_b-L/2"
   ]
  },
  {
   "cell_type": "code",
   "execution_count": 308,
   "id": "cc5a9760-6276-4ab7-96a0-651e25d9cfe0",
   "metadata": {},
   "outputs": [
    {
     "data": {
      "image/png": "[encoded data removed]",
      "text/latex": [
       "$\\displaystyle \\frac{C_{b} L_{1} R_{l} s^{2} + C_{b} L_{2} R_{l} s^{2} + 2 C_{b} M R_{l} s^{2} + L_{2} s + M s + R_{l}}{C_{b} C_{l} L_{1} L_{2} R_{l} s^{4} + C_{b} C_{l} L_{1} L_{s} R_{l} s^{4} + C_{b} C_{l} L_{1} R_{l} R_{s} s^{3} + C_{b} C_{l} L_{2} L_{s} R_{l} s^{4} + C_{b} C_{l} L_{2} R_{l} R_{s} s^{3} + 2 C_{b} C_{l} L_{s} M R_{l} s^{4} - C_{b} C_{l} M^{2} R_{l} s^{4} + 2 C_{b} C_{l} M R_{l} R_{s} s^{3} + C_{b} L_{1} R_{l} s^{2} + C_{b} L_{2} R_{l} s^{2} + 2 C_{b} M R_{l} s^{2} + C_{l} L_{1} L_{2} s^{3} + C_{l} L_{1} L_{s} s^{3} + C_{l} L_{1} R_{l} s^{2} + C_{l} L_{1} R_{s} s^{2} + C_{l} L_{2} L_{s} s^{3} + C_{l} L_{2} R_{s} s^{2} + 2 C_{l} L_{s} M s^{3} + C_{l} L_{s} R_{l} s^{2} - C_{l} M^{2} s^{3} + 2 C_{l} M R_{s} s^{2} + C_{l} R_{l} R_{s} s + L_{1} s + L_{2} s + 2 M s + R_{l}}$"
      ],
      "text/plain": [
       "                                                                              \n",
       "                                                                              \n",
       "──────────────────────────────────────────────────────────────────────────────\n",
       "                 4                    4                    3                  \n",
       "C_b⋅Cₗ⋅L₁⋅L₂⋅Rₗ⋅s  + C_b⋅Cₗ⋅L₁⋅Lₛ⋅Rₗ⋅s  + C_b⋅Cₗ⋅L₁⋅Rₗ⋅Rₛ⋅s  + C_b⋅Cₗ⋅L₂⋅Lₛ⋅Rₗ\n",
       "\n",
       "                                                                              \n",
       "                                                                              \n",
       "──────────────────────────────────────────────────────────────────────────────\n",
       "  4                    3                     4           2     4              \n",
       "⋅s  + C_b⋅Cₗ⋅L₂⋅Rₗ⋅Rₛ⋅s  + 2⋅C_b⋅Cₗ⋅Lₛ⋅M⋅Rₗ⋅s  - C_b⋅Cₗ⋅M ⋅Rₗ⋅s  + 2⋅C_b⋅Cₗ⋅M⋅\n",
       "\n",
       "                   2              2               2                           \n",
       "        C_b⋅L₁⋅Rₗ⋅s  + C_b⋅L₂⋅Rₗ⋅s  + 2⋅C_b⋅M⋅Rₗ⋅s  + L₂⋅s + M⋅s + Rₗ         \n",
       "──────────────────────────────────────────────────────────────────────────────\n",
       "       3              2              2               2             3          \n",
       "Rₗ⋅Rₛ⋅s  + C_b⋅L₁⋅Rₗ⋅s  + C_b⋅L₂⋅Rₗ⋅s  + 2⋅C_b⋅M⋅Rₗ⋅s  + Cₗ⋅L₁⋅L₂⋅s  + Cₗ⋅L₁⋅L\n",
       "\n",
       "                                                                              \n",
       "                                                                              \n",
       "──────────────────────────────────────────────────────────────────────────────\n",
       "   3             2             2             3             2              3   \n",
       "ₛ⋅s  + Cₗ⋅L₁⋅Rₗ⋅s  + Cₗ⋅L₁⋅Rₛ⋅s  + Cₗ⋅L₂⋅Lₛ⋅s  + Cₗ⋅L₂⋅Rₛ⋅s  + 2⋅Cₗ⋅Lₛ⋅M⋅s  + \n",
       "\n",
       "                                                                             \n",
       "                                                                             \n",
       "─────────────────────────────────────────────────────────────────────────────\n",
       "          2       2  3              2                                        \n",
       "Cₗ⋅Lₛ⋅Rₗ⋅s  - Cₗ⋅M ⋅s  + 2⋅Cₗ⋅M⋅Rₛ⋅s  + Cₗ⋅Rₗ⋅Rₛ⋅s + L₁⋅s + L₂⋅s + 2⋅M⋅s + Rₗ"
      ]
     },
     "execution_count": 308,
     "metadata": {},
     "output_type": "execute_result"
    }
   ],
   "source": [
    "H_sym"
   ]
  },
  {
   "cell_type": "code",
   "execution_count": 310,
   "id": "3e18b942-36d8-4a4a-b830-ac0ba535cbd9",
   "metadata": {},
   "outputs": [
    {
     "data": {
      "image/png": "[encoded data removed]",
      "text/latex": [
       "$\\displaystyle \\frac{C_{b} C_{l} R_{l}^{3} s^{2} + 2 C_{b} R_{l} s^{2} \\left(C_{b} R_{l}^{2} - \\frac{L}{2}\\right) + \\frac{C_{l} R_{l}^{2} s}{2} + R_{l} + s \\left(C_{b} R_{l}^{2} - \\frac{L}{2}\\right)}{\\frac{C_{b} C_{l}^{3} R_{l}^{5} s^{4}}{4} + C_{b} C_{l} R_{l}^{3} s^{2} - C_{b} C_{l} R_{l} s^{4} \\left(C_{b} R_{l}^{2} - \\frac{L}{2}\\right)^{2} + 2 C_{b} R_{l} s^{2} \\left(C_{b} R_{l}^{2} - \\frac{L}{2}\\right) + \\frac{C_{l}^{3} R_{l}^{4} s^{3}}{4} + \\frac{C_{l}^{2} R_{l}^{3} s^{2}}{2} + C_{l} R_{l}^{2} s - C_{l} s^{3} \\left(C_{b} R_{l}^{2} - \\frac{L}{2}\\right)^{2} + R_{l} + 2 s \\left(C_{b} R_{l}^{2} - \\frac{L}{2}\\right)}$"
      ],
      "text/plain": [
       "                                                                              \n",
       "                                                          3  2             2 ⎛\n",
       "                                                 C_b⋅Cₗ⋅Rₗ ⋅s  + 2⋅C_b⋅Rₗ⋅s ⋅⎜\n",
       "                                                                             ⎝\n",
       "──────────────────────────────────────────────────────────────────────────────\n",
       "      3   5  4                                             2                  \n",
       "C_b⋅Cₗ ⋅Rₗ ⋅s             3  2              4 ⎛      2   L⎞              2 ⎛  \n",
       "────────────── + C_b⋅Cₗ⋅Rₗ ⋅s  - C_b⋅Cₗ⋅Rₗ⋅s ⋅⎜C_b⋅Rₗ  - ─⎟  + 2⋅C_b⋅Rₗ⋅s ⋅⎜C_\n",
       "      4                                       ⎝          2⎠                ⎝  \n",
       "\n",
       "                    2                                                         \n",
       "      2   L⎞   Cₗ⋅Rₗ ⋅s          ⎛      2   L⎞                                \n",
       "C_b⋅Rₗ  - ─⎟ + ──────── + Rₗ + s⋅⎜C_b⋅Rₗ  - ─⎟                                \n",
       "          2⎠      2              ⎝          2⎠                                \n",
       "──────────────────────────────────────────────────────────────────────────────\n",
       "               3   4  3     2   3  2                                 2        \n",
       "    2   L⎞   Cₗ ⋅Rₗ ⋅s    Cₗ ⋅Rₗ ⋅s         2         3 ⎛      2   L⎞         \n",
       "b⋅Rₗ  - ─⎟ + ────────── + ────────── + Cₗ⋅Rₗ ⋅s - Cₗ⋅s ⋅⎜C_b⋅Rₗ  - ─⎟  + Rₗ + \n",
       "        2⎠       4            2                         ⎝          2⎠         \n",
       "\n",
       "                 \n",
       "                 \n",
       "                 \n",
       "                 \n",
       "─────────────────\n",
       "                 \n",
       "    ⎛      2   L⎞\n",
       "2⋅s⋅⎜C_b⋅Rₗ  - ─⎟\n",
       "    ⎝          2⎠"
      ]
     },
     "execution_count": 310,
     "metadata": {},
     "output_type": "execute_result"
    }
   ],
   "source": [
    "H1_sym = H_sym.subs({L1:R_l**2*C_l/2, L2:R_l**2*C_l/2, M:R_l**2*C_b-L/2, L_s:0, R_s:0})\n",
    "H1_sym"
   ]
  },
  {
   "cell_type": "code",
   "execution_count": 312,
   "id": "cc2967ab-dd47-4c34-8ee8-a37fae501b7f",
   "metadata": {},
   "outputs": [
    {
     "data": {
      "image/png": "[encoded data removed]",
      "text/latex": [
       "$\\displaystyle \\frac{2 \\cdot \\left(2 C_{b} C_{l} R_{l}^{3} s^{2} + 2 C_{b} R_{l} s^{2} \\cdot \\left(2 C_{b} R_{l}^{2} - L\\right) + C_{l} R_{l}^{2} s + 2 R_{l} + s \\left(2 C_{b} R_{l}^{2} - L\\right)\\right)}{C_{b} C_{l}^{3} R_{l}^{5} s^{4} + 4 C_{b} C_{l} R_{l}^{3} s^{2} - C_{b} C_{l} R_{l} s^{4} \\left(2 C_{b} R_{l}^{2} - L\\right)^{2} + 4 C_{b} R_{l} s^{2} \\cdot \\left(2 C_{b} R_{l}^{2} - L\\right) + C_{l}^{3} R_{l}^{4} s^{3} + 2 C_{l}^{2} R_{l}^{3} s^{2} + 4 C_{l} R_{l}^{2} s - C_{l} s^{3} \\left(2 C_{b} R_{l}^{2} - L\\right)^{2} + 4 R_{l} + 4 s \\left(2 C_{b} R_{l}^{2} - L\\right)}$"
      ],
      "text/plain": [
       "                                                     ⎛           3  2         \n",
       "                                                   2⋅⎝2⋅C_b⋅Cₗ⋅Rₗ ⋅s  + 2⋅C_b⋅\n",
       "──────────────────────────────────────────────────────────────────────────────\n",
       "                                                               2              \n",
       "      3   5  4              3  2              4 ⎛        2    ⎞              2\n",
       "C_b⋅Cₗ ⋅Rₗ ⋅s  + 4⋅C_b⋅Cₗ⋅Rₗ ⋅s  - C_b⋅Cₗ⋅Rₗ⋅s ⋅⎝2⋅C_b⋅Rₗ  - L⎠  + 4⋅C_b⋅Rₗ⋅s \n",
       "\n",
       "    2 ⎛        2    ⎞        2              ⎛        2    ⎞⎞                  \n",
       "Rₗ⋅s ⋅⎝2⋅C_b⋅Rₗ  - L⎠ + Cₗ⋅Rₗ ⋅s + 2⋅Rₗ + s⋅⎝2⋅C_b⋅Rₗ  - L⎠⎠                  \n",
       "──────────────────────────────────────────────────────────────────────────────\n",
       "                                                                              \n",
       " ⎛        2    ⎞     3   4  3       2   3  2          2         3 ⎛        2  \n",
       "⋅⎝2⋅C_b⋅Rₗ  - L⎠ + Cₗ ⋅Rₗ ⋅s  + 2⋅Cₗ ⋅Rₗ ⋅s  + 4⋅Cₗ⋅Rₗ ⋅s - Cₗ⋅s ⋅⎝2⋅C_b⋅Rₗ  -\n",
       "\n",
       "                                 \n",
       "                                 \n",
       "─────────────────────────────────\n",
       "   2                             \n",
       "  ⎞               ⎛        2    ⎞\n",
       " L⎠  + 4⋅Rₗ + 4⋅s⋅⎝2⋅C_b⋅Rₗ  - L⎠"
      ]
     },
     "execution_count": 312,
     "metadata": {},
     "output_type": "execute_result"
    }
   ],
   "source": [
    "H1_sym.simplify()"
   ]
  },
  {
   "cell_type": "code",
   "execution_count": 313,
   "id": "0684e666-31b2-453c-8c08-8ac5977339cf",
   "metadata": {
    "tags": []
   },
   "outputs": [],
   "source": [
    "H1_sym_num, H1_sym_denom = fraction(H1_sym) #returns numerator and denominator"
   ]
  },
  {
   "cell_type": "code",
   "execution_count": 314,
   "id": "c285ef82-78ff-4642-8492-a3193bdc010a",
   "metadata": {},
   "outputs": [
    {
     "data": {
      "image/png": "[encoded data removed]",
      "text/latex": [
       "$\\displaystyle R_{l} + s^{2} \\left(C_{b} C_{l} R_{l}^{3} + C_{b} R_{l} \\left(2 C_{b} R_{l}^{2} - L\\right)\\right) + s \\left(C_{b} R_{l}^{2} + \\frac{C_{l} R_{l}^{2}}{2} - \\frac{L}{2}\\right)$"
      ],
      "text/plain": [
       "                                                  ⎛               2    ⎞\n",
       "      2 ⎛         3          ⎛        2    ⎞⎞     ⎜      2   Cₗ⋅Rₗ    L⎟\n",
       "Rₗ + s ⋅⎝C_b⋅Cₗ⋅Rₗ  + C_b⋅Rₗ⋅⎝2⋅C_b⋅Rₗ  - L⎠⎠ + s⋅⎜C_b⋅Rₗ  + ────── - ─⎟\n",
       "                                                  ⎝            2      2⎠"
      ]
     },
     "execution_count": 314,
     "metadata": {},
     "output_type": "execute_result"
    }
   ],
   "source": [
    "H1_sym_num.simplify().collect(s)"
   ]
  },
  {
   "cell_type": "code",
   "execution_count": 315,
   "id": "ae3fe228-3ef1-469a-805e-d35c56eff589",
   "metadata": {},
   "outputs": [
    {
     "data": {
      "image/png": "[encoded data removed]",
      "text/latex": [
       "$\\displaystyle \\left[ \\frac{- 2 C_{b} R_{l}^{2} - C_{l} R_{l}^{2} + L - \\sqrt{- \\left(2 C_{b} R_{l}^{2} + C_{l} R_{l}^{2} - L\\right) \\left(14 C_{b} R_{l}^{2} - C_{l} R_{l}^{2} + L\\right)}}{4 C_{b} R_{l} \\left(2 C_{b} R_{l}^{2} + C_{l} R_{l}^{2} - L\\right)}, \\  \\frac{- 2 C_{b} R_{l}^{2} - C_{l} R_{l}^{2} + L + \\sqrt{- \\left(2 C_{b} R_{l}^{2} + C_{l} R_{l}^{2} - L\\right) \\left(14 C_{b} R_{l}^{2} - C_{l} R_{l}^{2} + L\\right)}}{4 C_{b} R_{l} \\left(2 C_{b} R_{l}^{2} + C_{l} R_{l}^{2} - L\\right)}\\right]$"
      ],
      "text/plain": [
       "⎡                              _______________________________________________\n",
       "⎢          2        2         ╱  ⎛        2        2    ⎞ ⎛         2        2\n",
       "⎢- 2⋅C_b⋅Rₗ  - Cₗ⋅Rₗ  + L - ╲╱  -⎝2⋅C_b⋅Rₗ  + Cₗ⋅Rₗ  - L⎠⋅⎝14⋅C_b⋅Rₗ  - Cₗ⋅Rₗ \n",
       "⎢─────────────────────────────────────────────────────────────────────────────\n",
       "⎢                                  ⎛        2        2    ⎞                   \n",
       "⎣                         4⋅C_b⋅Rₗ⋅⎝2⋅C_b⋅Rₗ  + Cₗ⋅Rₗ  - L⎠                   \n",
       "\n",
       "______                                ________________________________________\n",
       "    ⎞             2        2         ╱  ⎛        2        2    ⎞ ⎛         2  \n",
       " + L⎠   - 2⋅C_b⋅Rₗ  - Cₗ⋅Rₗ  + L + ╲╱  -⎝2⋅C_b⋅Rₗ  + Cₗ⋅Rₗ  - L⎠⋅⎝14⋅C_b⋅Rₗ  -\n",
       "──────, ──────────────────────────────────────────────────────────────────────\n",
       "                                          ⎛        2        2    ⎞            \n",
       "                                 4⋅C_b⋅Rₗ⋅⎝2⋅C_b⋅Rₗ  + Cₗ⋅Rₗ  - L⎠            \n",
       "\n",
       "_____________⎤\n",
       "      2    ⎞ ⎥\n",
       " Cₗ⋅Rₗ  + L⎠ ⎥\n",
       "─────────────⎥\n",
       "             ⎥\n",
       "             ⎦"
      ]
     },
     "execution_count": 315,
     "metadata": {},
     "output_type": "execute_result"
    }
   ],
   "source": [
    "H1_zeros = solve(H1_sym_num,s)\n",
    "H1_zeros"
   ]
  },
  {
   "cell_type": "code",
   "execution_count": 316,
   "id": "d569438c-67f1-4acc-ab9a-c7848ce63228",
   "metadata": {},
   "outputs": [
    {
     "data": {
      "image/png": "[encoded data removed]",
      "text/latex": [
       "$\\displaystyle \\left(s - \\frac{- 2 C_{b} R_{l}^{2} - C_{l} R_{l}^{2} + L - \\sqrt{- \\left(2 C_{b} R_{l}^{2} + C_{l} R_{l}^{2} - L\\right) \\left(14 C_{b} R_{l}^{2} - C_{l} R_{l}^{2} + L\\right)}}{4 C_{b} R_{l} \\left(2 C_{b} R_{l}^{2} + C_{l} R_{l}^{2} - L\\right)}\\right) \\left(s - \\frac{- 2 C_{b} R_{l}^{2} - C_{l} R_{l}^{2} + L + \\sqrt{- \\left(2 C_{b} R_{l}^{2} + C_{l} R_{l}^{2} - L\\right) \\left(14 C_{b} R_{l}^{2} - C_{l} R_{l}^{2} + L\\right)}}{4 C_{b} R_{l} \\left(2 C_{b} R_{l}^{2} + C_{l} R_{l}^{2} - L\\right)}\\right)$"
      ],
      "text/plain": [
       "⎛                                  ___________________________________________\n",
       "⎜              2        2         ╱  ⎛        2        2    ⎞ ⎛         2     \n",
       "⎜    - 2⋅C_b⋅Rₗ  - Cₗ⋅Rₗ  + L - ╲╱  -⎝2⋅C_b⋅Rₗ  + Cₗ⋅Rₗ  - L⎠⋅⎝14⋅C_b⋅Rₗ  - Cₗ\n",
       "⎜s - ─────────────────────────────────────────────────────────────────────────\n",
       "⎜                                      ⎛        2        2    ⎞               \n",
       "⎝                             4⋅C_b⋅Rₗ⋅⎝2⋅C_b⋅Rₗ  + Cₗ⋅Rₗ  - L⎠               \n",
       "\n",
       "__________⎞ ⎛                                  _______________________________\n",
       "   2    ⎞ ⎟ ⎜              2        2         ╱  ⎛        2        2    ⎞ ⎛   \n",
       "⋅Rₗ  + L⎠ ⎟ ⎜    - 2⋅C_b⋅Rₗ  - Cₗ⋅Rₗ  + L + ╲╱  -⎝2⋅C_b⋅Rₗ  + Cₗ⋅Rₗ  - L⎠⋅⎝14⋅\n",
       "──────────⎟⋅⎜s - ─────────────────────────────────────────────────────────────\n",
       "          ⎟ ⎜                                      ⎛        2        2    ⎞   \n",
       "          ⎠ ⎝                             4⋅C_b⋅Rₗ⋅⎝2⋅C_b⋅Rₗ  + Cₗ⋅Rₗ  - L⎠   \n",
       "\n",
       "______________________⎞\n",
       "      2        2    ⎞ ⎟\n",
       "C_b⋅Rₗ  - Cₗ⋅Rₗ  + L⎠ ⎟\n",
       "──────────────────────⎟\n",
       "                      ⎟\n",
       "                      ⎠"
      ]
     },
     "execution_count": 316,
     "metadata": {},
     "output_type": "execute_result"
    }
   ],
   "source": [
    "(s-H1_zeros[0])*(s-H1_zeros[1])"
   ]
  },
  {
   "cell_type": "code",
   "execution_count": 317,
   "id": "c4b9b333-8cc1-4234-bfec-894c7d504e09",
   "metadata": {},
   "outputs": [
    {
     "data": {
      "image/png": "[encoded data removed]",
      "text/latex": [
       "$\\displaystyle \\frac{R_{l} + s^{2} \\cdot \\left(2 C_{b}^{2} R_{l}^{3} + C_{b} C_{l} R_{l}^{3} - C_{b} L R_{l}\\right) + s \\left(C_{b} R_{l}^{2} + \\frac{C_{l} R_{l}^{2}}{2} - \\frac{L}{2}\\right)}{C_{b} R_{l} \\left(2 C_{b} R_{l}^{2} + C_{l} R_{l}^{2} - L\\right)}$"
      ],
      "text/plain": [
       "                                                 ⎛               2    ⎞\n",
       "      2 ⎛     2   3            3           ⎞     ⎜      2   Cₗ⋅Rₗ    L⎟\n",
       "Rₗ + s ⋅⎝2⋅C_b ⋅Rₗ  + C_b⋅Cₗ⋅Rₗ  - C_b⋅L⋅Rₗ⎠ + s⋅⎜C_b⋅Rₗ  + ────── - ─⎟\n",
       "                                                 ⎝            2      2⎠\n",
       "───────────────────────────────────────────────────────────────────────\n",
       "                           ⎛        2        2    ⎞                    \n",
       "                    C_b⋅Rₗ⋅⎝2⋅C_b⋅Rₗ  + Cₗ⋅Rₗ  - L⎠                    "
      ]
     },
     "execution_count": 317,
     "metadata": {},
     "output_type": "execute_result"
    }
   ],
   "source": [
    "((s-H1_zeros[0])*(s-H1_zeros[1])).simplify().collect(s) #.factor() #expand().collect(s)"
   ]
  },
  {
   "cell_type": "code",
   "execution_count": null,
   "id": "34dbd053-70fa-488f-9e19-1a9a87a39aeb",
   "metadata": {},
   "outputs": [],
   "source": []
  },
  {
   "cell_type": "code",
   "execution_count": null,
   "id": "ab65bf97-b676-44c0-a097-31b3b45b5b0c",
   "metadata": {},
   "outputs": [],
   "source": []
  },
  {
   "cell_type": "code",
   "execution_count": null,
   "id": "cd08a26f-0521-4bb6-b3e6-09ddd6e13473",
   "metadata": {},
   "outputs": [],
   "source": []
  },
  {
   "cell_type": "code",
   "execution_count": 318,
   "id": "c1e2f8a9-251b-44b1-91a3-8ad7ce2ad7e6",
   "metadata": {},
   "outputs": [
    {
     "data": {
      "image/png": "[encoded data removed]",
      "text/latex": [
       "$\\displaystyle \\frac{C_{b} C_{l}^{3} R_{l}^{5} s^{4}}{4} + C_{b} C_{l} R_{l}^{3} s^{2} - C_{b} C_{l} R_{l} s^{4} \\left(C_{b} R_{l}^{2} - \\frac{L}{2}\\right)^{2} + 2 C_{b} R_{l} s^{2} \\left(C_{b} R_{l}^{2} - \\frac{L}{2}\\right) + \\frac{C_{l}^{3} R_{l}^{4} s^{3}}{4} + \\frac{C_{l}^{2} R_{l}^{3} s^{2}}{2} + C_{l} R_{l}^{2} s - C_{l} s^{3} \\left(C_{b} R_{l}^{2} - \\frac{L}{2}\\right)^{2} + R_{l} + 2 s \\left(C_{b} R_{l}^{2} - \\frac{L}{2}\\right)$"
      ],
      "text/plain": [
       "      3   5  4                                             2                  \n",
       "C_b⋅Cₗ ⋅Rₗ ⋅s             3  2              4 ⎛      2   L⎞              2 ⎛  \n",
       "────────────── + C_b⋅Cₗ⋅Rₗ ⋅s  - C_b⋅Cₗ⋅Rₗ⋅s ⋅⎜C_b⋅Rₗ  - ─⎟  + 2⋅C_b⋅Rₗ⋅s ⋅⎜C_\n",
       "      4                                       ⎝          2⎠                ⎝  \n",
       "\n",
       "               3   4  3     2   3  2                                 2        \n",
       "    2   L⎞   Cₗ ⋅Rₗ ⋅s    Cₗ ⋅Rₗ ⋅s         2         3 ⎛      2   L⎞         \n",
       "b⋅Rₗ  - ─⎟ + ────────── + ────────── + Cₗ⋅Rₗ ⋅s - Cₗ⋅s ⋅⎜C_b⋅Rₗ  - ─⎟  + Rₗ + \n",
       "        2⎠       4            2                         ⎝          2⎠         \n",
       "\n",
       "                 \n",
       "    ⎛      2   L⎞\n",
       "2⋅s⋅⎜C_b⋅Rₗ  - ─⎟\n",
       "    ⎝          2⎠"
      ]
     },
     "execution_count": 318,
     "metadata": {},
     "output_type": "execute_result"
    }
   ],
   "source": [
    "H1_sym_denom"
   ]
  },
  {
   "cell_type": "code",
   "execution_count": 319,
   "id": "7afa2809-7230-4af2-a79a-299663ebd3f0",
   "metadata": {},
   "outputs": [
    {
     "data": {
      "image/png": "[encoded data removed]",
      "text/latex": [
       "$\\displaystyle \\frac{C_{b} C_{l}^{3} R_{l}^{5} s^{4}}{4} + C_{b} C_{l} R_{l}^{3} s^{2} - \\frac{C_{b} C_{l} R_{l} s^{4} \\left(2 C_{b} R_{l}^{2} - L\\right)^{2}}{4} + C_{b} R_{l} s^{2} \\cdot \\left(2 C_{b} R_{l}^{2} - L\\right) + \\frac{C_{l}^{3} R_{l}^{4} s^{3}}{4} + \\frac{C_{l}^{2} R_{l}^{3} s^{2}}{2} + C_{l} R_{l}^{2} s - \\frac{C_{l} s^{3} \\left(2 C_{b} R_{l}^{2} - L\\right)^{2}}{4} + R_{l} + s \\left(2 C_{b} R_{l}^{2} - L\\right)$"
      ],
      "text/plain": [
       "                                                             2                \n",
       "      3   5  4                              4 ⎛        2    ⎞                 \n",
       "C_b⋅Cₗ ⋅Rₗ ⋅s             3  2   C_b⋅Cₗ⋅Rₗ⋅s ⋅⎝2⋅C_b⋅Rₗ  - L⎠            2 ⎛  \n",
       "────────────── + C_b⋅Cₗ⋅Rₗ ⋅s  - ───────────────────────────── + C_b⋅Rₗ⋅s ⋅⎝2⋅\n",
       "      4                                        4                              \n",
       "\n",
       "                                                                         2    \n",
       "                 3   4  3     2   3  2                  3 ⎛        2    ⎞     \n",
       "      2    ⎞   Cₗ ⋅Rₗ ⋅s    Cₗ ⋅Rₗ ⋅s         2     Cₗ⋅s ⋅⎝2⋅C_b⋅Rₗ  - L⎠     \n",
       "C_b⋅Rₗ  - L⎠ + ────────── + ────────── + Cₗ⋅Rₗ ⋅s - ────────────────────── + R\n",
       "                   4            2                             4               \n",
       "\n",
       "                     \n",
       "                     \n",
       "      ⎛        2    ⎞\n",
       "ₗ + s⋅⎝2⋅C_b⋅Rₗ  - L⎠\n",
       "                     "
      ]
     },
     "execution_count": 319,
     "metadata": {},
     "output_type": "execute_result"
    }
   ],
   "source": [
    "H1_sym_denom.simplify()"
   ]
  },
  {
   "cell_type": "code",
   "execution_count": 322,
   "id": "f8cab246-a2af-4809-985e-79c54baa07ca",
   "metadata": {},
   "outputs": [
    {
     "data": {
      "image/png": "[encoded data removed]",
      "text/latex": [
       "$\\displaystyle - \\frac{4 C_{b}^{3} C_{l} R_{l}^{5} s^{4} - 4 C_{b}^{2} C_{l} L R_{l}^{3} s^{4} + 4 C_{b}^{2} C_{l} R_{l}^{4} s^{3} - 8 C_{b}^{2} R_{l}^{3} s^{2} - C_{b} C_{l}^{3} R_{l}^{5} s^{4} + C_{b} C_{l} L^{2} R_{l} s^{4} - 4 C_{b} C_{l} L R_{l}^{2} s^{3} - 4 C_{b} C_{l} R_{l}^{3} s^{2} + 4 C_{b} L R_{l} s^{2} - 8 C_{b} R_{l}^{2} s - C_{l}^{3} R_{l}^{4} s^{3} - 2 C_{l}^{2} R_{l}^{3} s^{2} + C_{l} L^{2} s^{3} - 4 C_{l} R_{l}^{2} s + 4 L s - 4 R_{l}}{4}$"
      ],
      "text/plain": [
       " ⎛     3      5  4        2        3  4        2      4  3        2   3  2    \n",
       "-⎝4⋅C_b ⋅Cₗ⋅Rₗ ⋅s  - 4⋅C_b ⋅Cₗ⋅L⋅Rₗ ⋅s  + 4⋅C_b ⋅Cₗ⋅Rₗ ⋅s  - 8⋅C_b ⋅Rₗ ⋅s  - C\n",
       "──────────────────────────────────────────────────────────────────────────────\n",
       "                                                                              \n",
       "\n",
       "     3   5  4           2     4                2  3              3  2         \n",
       "_b⋅Cₗ ⋅Rₗ ⋅s  + C_b⋅Cₗ⋅L ⋅Rₗ⋅s  - 4⋅C_b⋅Cₗ⋅L⋅Rₗ ⋅s  - 4⋅C_b⋅Cₗ⋅Rₗ ⋅s  + 4⋅C_b⋅\n",
       "──────────────────────────────────────────────────────────────────────────────\n",
       "                                            4                                 \n",
       "\n",
       "      2           2       3   4  3       2   3  2       2  3          2       \n",
       "L⋅Rₗ⋅s  - 8⋅C_b⋅Rₗ ⋅s - Cₗ ⋅Rₗ ⋅s  - 2⋅Cₗ ⋅Rₗ ⋅s  + Cₗ⋅L ⋅s  - 4⋅Cₗ⋅Rₗ ⋅s + 4⋅\n",
       "──────────────────────────────────────────────────────────────────────────────\n",
       "                                                                              \n",
       "\n",
       "          ⎞ \n",
       "L⋅s - 4⋅Rₗ⎠ \n",
       "────────────\n",
       "            "
      ]
     },
     "execution_count": 322,
     "metadata": {},
     "output_type": "execute_result"
    }
   ],
   "source": [
    "H1_sym_denom.factor()"
   ]
  },
  {
   "cell_type": "code",
   "execution_count": 323,
   "id": "9dae1d76-1f37-40ba-bacd-d408dc4659f3",
   "metadata": {},
   "outputs": [
    {
     "data": {
      "text/markdown": [
       "<p>$a_4=\\frac{C_{b} C_{l}^{3} R_{l}^{5}}{4} - C_{b} C_{l} R_{l} \\left(C_{b} R_{l}^{2} - \\frac{L}{2}\\right)^{2}$</p><p>$a_3=\\frac{C_{l}^{3} R_{l}^{4}}{4} - C_{l} \\left(C_{b} R_{l}^{2} - \\frac{L}{2}\\right)^{2}$</p><p>$a_2=C_{b} C_{l} R_{l}^{3} + 2 C_{b} R_{l} \\left(C_{b} R_{l}^{2} - \\frac{L}{2}\\right) + \\frac{C_{l}^{2} R_{l}^{3}}{2}$</p><p>$a_1=2 C_{b} R_{l}^{2} + C_{l} R_{l}^{2} - L$</p><p>$a_0=R_{l}$</p>"
      ],
      "text/plain": [
       "<IPython.core.display.Markdown object>"
      ]
     },
     "execution_count": 323,
     "metadata": {},
     "output_type": "execute_result"
    }
   ],
   "source": [
    "a4 = H1_sym_denom.coeff(s**4)\n",
    "a3 = H1_sym_denom.coeff(s**3)\n",
    "a2 = H1_sym_denom.coeff(s**2)\n",
    "a1 = H1_sym_denom.coeff(s**1)\n",
    "a0 = (H1_sym_denom - a1*s*1 - a2*s**2 - a3*s**3 - a4*s**4).expand()\n",
    "Markdown('<p>$a_4={:s}$</p><p>$a_3={:s}$</p><p>$a_2={:s}$</p><p>$a_1={:s}$</p><p>$a_0={:s}$</p>'.format(latex(a4),latex(a3),latex(a2),latex(a1),latex(a0)))"
   ]
  },
  {
   "cell_type": "code",
   "execution_count": 324,
   "id": "7eb44c8a-0ad4-4de6-8fa3-7bc4a08090f0",
   "metadata": {},
   "outputs": [
    {
     "data": {
      "image/png": "[encoded data removed]",
      "text/latex": [
       "$\\displaystyle \\left[ R_{l}^{2} \\cdot \\left(2 C_{b} - C_{l}\\right), \\  R_{l}^{2} \\cdot \\left(2 C_{b} + C_{l}\\right)\\right]$"
      ],
      "text/plain": [
       "⎡  2                 2             ⎤\n",
       "⎣Rₗ ⋅(2⋅C_b - Cₗ), Rₗ ⋅(2⋅C_b + Cₗ)⎦"
      ]
     },
     "execution_count": 324,
     "metadata": {},
     "output_type": "execute_result"
    }
   ],
   "source": [
    "solve(a4,L)"
   ]
  },
  {
   "cell_type": "code",
   "execution_count": 325,
   "id": "9b02604a-fa78-40c0-b668-96ab069d907b",
   "metadata": {},
   "outputs": [
    {
     "data": {
      "image/png": "[encoded data removed]",
      "text/latex": [
       "$\\displaystyle \\left[ R_{l}^{2} \\cdot \\left(2 C_{b} - C_{l}\\right), \\  R_{l}^{2} \\cdot \\left(2 C_{b} + C_{l}\\right)\\right]$"
      ],
      "text/plain": [
       "⎡  2                 2             ⎤\n",
       "⎣Rₗ ⋅(2⋅C_b - Cₗ), Rₗ ⋅(2⋅C_b + Cₗ)⎦"
      ]
     },
     "execution_count": 325,
     "metadata": {},
     "output_type": "execute_result"
    }
   ],
   "source": [
    "solve(a3,L)"
   ]
  },
  {
   "cell_type": "code",
   "execution_count": 253,
   "id": "0557a5db-bf25-475f-8967-c8047e740e34",
   "metadata": {},
   "outputs": [
    {
     "data": {
      "image/png": "[encoded data removed]",
      "text/latex": [
       "$\\displaystyle C_{l}$"
      ],
      "text/plain": [
       "Cₗ"
      ]
     },
     "execution_count": 253,
     "metadata": {},
     "output_type": "execute_result"
    }
   ],
   "source": [
    "C_l"
   ]
  },
  {
   "cell_type": "code",
   "execution_count": null,
   "id": "b4e010be-36db-4c6c-8da5-52ab70610007",
   "metadata": {},
   "outputs": [],
   "source": []
  },
  {
   "cell_type": "code",
   "execution_count": null,
   "id": "09bc4726-8308-4429-ad38-5ddff46c1de1",
   "metadata": {},
   "outputs": [],
   "source": []
  },
  {
   "cell_type": "code",
   "execution_count": null,
   "id": "4d75f4ff-7a31-4715-93e9-f0192e3230cb",
   "metadata": {},
   "outputs": [],
   "source": []
  },
  {
   "cell_type": "code",
   "execution_count": null,
   "id": "7c977853-8681-4eaa-aeac-ff5cd51978f9",
   "metadata": {},
   "outputs": [],
   "source": []
  },
  {
   "cell_type": "markdown",
   "id": "917002b6-7872-478a-aee6-78d90831e0e8",
   "metadata": {},
   "source": [
    "Find $Z_L(s)$"
   ]
  },
  {
   "cell_type": "code",
   "execution_count": 254,
   "id": "85891c9a-6e41-458f-86e1-af27da93ac66",
   "metadata": {},
   "outputs": [
    {
     "data": {
      "image/png": "[encoded data removed]",
      "text/latex": [
       "$\\displaystyle \\frac{C_{b} C_{l} L_{1} L_{s} R_{l} V_{1} s^{4} + C_{b} C_{l} L_{1} R_{l} R_{s} V_{1} s^{3} + C_{b} C_{l} L_{2} L_{s} R_{l} V_{1} s^{4} + C_{b} C_{l} L_{2} R_{l} R_{s} V_{1} s^{3} + 2 C_{b} C_{l} L_{s} M R_{l} V_{1} s^{4} + 2 C_{b} C_{l} M R_{l} R_{s} V_{1} s^{3} + C_{b} L_{1} R_{l} V_{1} s^{2} + C_{b} L_{2} R_{l} V_{1} s^{2} + 2 C_{b} M R_{l} V_{1} s^{2} + C_{l} L_{2} L_{s} V_{1} s^{3} + C_{l} L_{2} R_{s} V_{1} s^{2} + C_{l} L_{s} M V_{1} s^{3} + C_{l} L_{s} R_{l} V_{1} s^{2} + C_{l} M R_{s} V_{1} s^{2} + C_{l} R_{l} R_{s} V_{1} s + L_{2} V_{1} s + M V_{1} s + R_{l} V_{1}}{C_{b} C_{l} L_{1} L_{2} R_{l} s^{4} + C_{b} C_{l} L_{1} L_{s} R_{l} s^{4} + C_{b} C_{l} L_{1} R_{l} R_{s} s^{3} + C_{b} C_{l} L_{2} L_{s} R_{l} s^{4} + C_{b} C_{l} L_{2} R_{l} R_{s} s^{3} + 2 C_{b} C_{l} L_{s} M R_{l} s^{4} - C_{b} C_{l} M^{2} R_{l} s^{4} + 2 C_{b} C_{l} M R_{l} R_{s} s^{3} + C_{b} L_{1} R_{l} s^{2} + C_{b} L_{2} R_{l} s^{2} + 2 C_{b} M R_{l} s^{2} + C_{l} L_{1} L_{2} s^{3} + C_{l} L_{1} L_{s} s^{3} + C_{l} L_{1} R_{l} s^{2} + C_{l} L_{1} R_{s} s^{2} + C_{l} L_{2} L_{s} s^{3} + C_{l} L_{2} R_{s} s^{2} + 2 C_{l} L_{s} M s^{3} + C_{l} L_{s} R_{l} s^{2} - C_{l} M^{2} s^{3} + 2 C_{l} M R_{s} s^{2} + C_{l} R_{l} R_{s} s + L_{1} s + L_{2} s + 2 M s + R_{l}}$"
      ],
      "text/plain": [
       "                                                     4                       3\n",
       "                                 C_b⋅Cₗ⋅L₁⋅Lₛ⋅Rₗ⋅V₁⋅s  + C_b⋅Cₗ⋅L₁⋅Rₗ⋅Rₛ⋅V₁⋅s \n",
       "──────────────────────────────────────────────────────────────────────────────\n",
       "                 4                    4                    3                  \n",
       "C_b⋅Cₗ⋅L₁⋅L₂⋅Rₗ⋅s  + C_b⋅Cₗ⋅L₁⋅Lₛ⋅Rₗ⋅s  + C_b⋅Cₗ⋅L₁⋅Rₗ⋅Rₛ⋅s  + C_b⋅Cₗ⋅L₂⋅Lₛ⋅Rₗ\n",
       "\n",
       "                       4                       3                        4     \n",
       " + C_b⋅Cₗ⋅L₂⋅Lₛ⋅Rₗ⋅V₁⋅s  + C_b⋅Cₗ⋅L₂⋅Rₗ⋅Rₛ⋅V₁⋅s  + 2⋅C_b⋅Cₗ⋅Lₛ⋅M⋅Rₗ⋅V₁⋅s  + 2⋅\n",
       "──────────────────────────────────────────────────────────────────────────────\n",
       "  4                    3                     4           2     4              \n",
       "⋅s  + C_b⋅Cₗ⋅L₂⋅Rₗ⋅Rₛ⋅s  + 2⋅C_b⋅Cₗ⋅Lₛ⋅M⋅Rₗ⋅s  - C_b⋅Cₗ⋅M ⋅Rₗ⋅s  + 2⋅C_b⋅Cₗ⋅M⋅\n",
       "\n",
       "                   3                 2                 2                  2   \n",
       "C_b⋅Cₗ⋅M⋅Rₗ⋅Rₛ⋅V₁⋅s  + C_b⋅L₁⋅Rₗ⋅V₁⋅s  + C_b⋅L₂⋅Rₗ⋅V₁⋅s  + 2⋅C_b⋅M⋅Rₗ⋅V₁⋅s  + \n",
       "──────────────────────────────────────────────────────────────────────────────\n",
       "       3              2              2               2             3          \n",
       "Rₗ⋅Rₛ⋅s  + C_b⋅L₁⋅Rₗ⋅s  + C_b⋅L₂⋅Rₗ⋅s  + 2⋅C_b⋅M⋅Rₗ⋅s  + Cₗ⋅L₁⋅L₂⋅s  + Cₗ⋅L₁⋅L\n",
       "\n",
       "             3                2               3                2              \n",
       "Cₗ⋅L₂⋅Lₛ⋅V₁⋅s  + Cₗ⋅L₂⋅Rₛ⋅V₁⋅s  + Cₗ⋅Lₛ⋅M⋅V₁⋅s  + Cₗ⋅Lₛ⋅Rₗ⋅V₁⋅s  + Cₗ⋅M⋅Rₛ⋅V₁⋅\n",
       "──────────────────────────────────────────────────────────────────────────────\n",
       "   3             2             2             3             2              3   \n",
       "ₛ⋅s  + Cₗ⋅L₁⋅Rₗ⋅s  + Cₗ⋅L₁⋅Rₛ⋅s  + Cₗ⋅L₂⋅Lₛ⋅s  + Cₗ⋅L₂⋅Rₛ⋅s  + 2⋅Cₗ⋅Lₛ⋅M⋅s  + \n",
       "\n",
       " 2                                                                           \n",
       "s  + Cₗ⋅Rₗ⋅Rₛ⋅V₁⋅s + L₂⋅V₁⋅s + M⋅V₁⋅s + Rₗ⋅V₁                                \n",
       "─────────────────────────────────────────────────────────────────────────────\n",
       "          2       2  3              2                                        \n",
       "Cₗ⋅Lₛ⋅Rₗ⋅s  - Cₗ⋅M ⋅s  + 2⋅Cₗ⋅M⋅Rₛ⋅s  + Cₗ⋅Rₗ⋅Rₛ⋅s + L₁⋅s + L₂⋅s + 2⋅M⋅s + Rₗ"
      ]
     },
     "execution_count": 254,
     "metadata": {},
     "output_type": "execute_result"
    }
   ],
   "source": [
    "U_sym[v3]"
   ]
  },
  {
   "cell_type": "code",
   "execution_count": 255,
   "id": "894cabc2-5cc9-465f-a8fd-6e0fb4f87729",
   "metadata": {},
   "outputs": [
    {
     "data": {
      "image/png": "[encoded data removed]",
      "text/latex": [
       "$\\displaystyle \\frac{C_{b} C_{l} L_{1} R_{l} V_{1} s^{3} + C_{b} C_{l} L_{2} R_{l} V_{1} s^{3} + 2 C_{b} C_{l} M R_{l} V_{1} s^{3} + C_{l} L_{2} V_{1} s^{2} + C_{l} M V_{1} s^{2} + C_{l} R_{l} V_{1} s}{C_{b} C_{l} L_{1} L_{2} R_{l} s^{4} + C_{b} C_{l} L_{1} L_{s} R_{l} s^{4} + C_{b} C_{l} L_{1} R_{l} R_{s} s^{3} + C_{b} C_{l} L_{2} L_{s} R_{l} s^{4} + C_{b} C_{l} L_{2} R_{l} R_{s} s^{3} + 2 C_{b} C_{l} L_{s} M R_{l} s^{4} - C_{b} C_{l} M^{2} R_{l} s^{4} + 2 C_{b} C_{l} M R_{l} R_{s} s^{3} + C_{b} L_{1} R_{l} s^{2} + C_{b} L_{2} R_{l} s^{2} + 2 C_{b} M R_{l} s^{2} + C_{l} L_{1} L_{2} s^{3} + C_{l} L_{1} L_{s} s^{3} + C_{l} L_{1} R_{l} s^{2} + C_{l} L_{1} R_{s} s^{2} + C_{l} L_{2} L_{s} s^{3} + C_{l} L_{2} R_{s} s^{2} + 2 C_{l} L_{s} M s^{3} + C_{l} L_{s} R_{l} s^{2} - C_{l} M^{2} s^{3} + 2 C_{l} M R_{s} s^{2} + C_{l} R_{l} R_{s} s + L_{1} s + L_{2} s + 2 M s + R_{l}}$"
      ],
      "text/plain": [
       "                                                                              \n",
       "                                                                              \n",
       "──────────────────────────────────────────────────────────────────────────────\n",
       "                 4                    4                    3                  \n",
       "C_b⋅Cₗ⋅L₁⋅L₂⋅Rₗ⋅s  + C_b⋅Cₗ⋅L₁⋅Lₛ⋅Rₗ⋅s  + C_b⋅Cₗ⋅L₁⋅Rₗ⋅Rₛ⋅s  + C_b⋅Cₗ⋅L₂⋅Lₛ⋅Rₗ\n",
       "\n",
       "                                                                              \n",
       "                                                                  C_b⋅Cₗ⋅L₁⋅Rₗ\n",
       "──────────────────────────────────────────────────────────────────────────────\n",
       "  4                    3                     4           2     4              \n",
       "⋅s  + C_b⋅Cₗ⋅L₂⋅Rₗ⋅Rₛ⋅s  + 2⋅C_b⋅Cₗ⋅Lₛ⋅M⋅Rₗ⋅s  - C_b⋅Cₗ⋅M ⋅Rₗ⋅s  + 2⋅C_b⋅Cₗ⋅M⋅\n",
       "\n",
       "     3                    3                     3             2            2  \n",
       "⋅V₁⋅s  + C_b⋅Cₗ⋅L₂⋅Rₗ⋅V₁⋅s  + 2⋅C_b⋅Cₗ⋅M⋅Rₗ⋅V₁⋅s  + Cₗ⋅L₂⋅V₁⋅s  + Cₗ⋅M⋅V₁⋅s  +\n",
       "──────────────────────────────────────────────────────────────────────────────\n",
       "       3              2              2               2             3          \n",
       "Rₗ⋅Rₛ⋅s  + C_b⋅L₁⋅Rₗ⋅s  + C_b⋅L₂⋅Rₗ⋅s  + 2⋅C_b⋅M⋅Rₗ⋅s  + Cₗ⋅L₁⋅L₂⋅s  + Cₗ⋅L₁⋅L\n",
       "\n",
       "                                                                              \n",
       " Cₗ⋅Rₗ⋅V₁⋅s                                                                   \n",
       "──────────────────────────────────────────────────────────────────────────────\n",
       "   3             2             2             3             2              3   \n",
       "ₛ⋅s  + Cₗ⋅L₁⋅Rₗ⋅s  + Cₗ⋅L₁⋅Rₛ⋅s  + Cₗ⋅L₂⋅Lₛ⋅s  + Cₗ⋅L₂⋅Rₛ⋅s  + 2⋅Cₗ⋅Lₛ⋅M⋅s  + \n",
       "\n",
       "                                                                             \n",
       "                                                                             \n",
       "─────────────────────────────────────────────────────────────────────────────\n",
       "          2       2  3              2                                        \n",
       "Cₗ⋅Lₛ⋅Rₗ⋅s  - Cₗ⋅M ⋅s  + 2⋅Cₗ⋅M⋅Rₛ⋅s  + Cₗ⋅Rₗ⋅Rₛ⋅s + L₁⋅s + L₂⋅s + 2⋅M⋅s + Rₗ"
      ]
     },
     "execution_count": 255,
     "metadata": {},
     "output_type": "execute_result"
    }
   ],
   "source": [
    "U_sym[I_L_s]"
   ]
  },
  {
   "cell_type": "code",
   "execution_count": 256,
   "id": "ef113326-c6df-4fe6-b1bb-c3167aa52bf9",
   "metadata": {},
   "outputs": [
    {
     "data": {
      "image/png": "[encoded data removed]",
      "text/latex": [
       "$\\displaystyle \\frac{C_{b} C_{l} L_{1} L_{s} R_{l} V_{1} s^{4} + C_{b} C_{l} L_{1} R_{l} R_{s} V_{1} s^{3} + C_{b} C_{l} L_{2} L_{s} R_{l} V_{1} s^{4} + C_{b} C_{l} L_{2} R_{l} R_{s} V_{1} s^{3} + 2 C_{b} C_{l} L_{s} M R_{l} V_{1} s^{4} + 2 C_{b} C_{l} M R_{l} R_{s} V_{1} s^{3} + C_{b} L_{1} R_{l} V_{1} s^{2} + C_{b} L_{2} R_{l} V_{1} s^{2} + 2 C_{b} M R_{l} V_{1} s^{2} + C_{l} L_{2} L_{s} V_{1} s^{3} + C_{l} L_{2} R_{s} V_{1} s^{2} + C_{l} L_{s} M V_{1} s^{3} + C_{l} L_{s} R_{l} V_{1} s^{2} + C_{l} M R_{s} V_{1} s^{2} + C_{l} R_{l} R_{s} V_{1} s + L_{2} V_{1} s + M V_{1} s + R_{l} V_{1}}{C_{b} C_{l} L_{1} R_{l} V_{1} s^{3} + C_{b} C_{l} L_{2} R_{l} V_{1} s^{3} + 2 C_{b} C_{l} M R_{l} V_{1} s^{3} + C_{l} L_{2} V_{1} s^{2} + C_{l} M V_{1} s^{2} + C_{l} R_{l} V_{1} s}$"
      ],
      "text/plain": [
       "                    4                       3                       4         \n",
       "C_b⋅Cₗ⋅L₁⋅Lₛ⋅Rₗ⋅V₁⋅s  + C_b⋅Cₗ⋅L₁⋅Rₗ⋅Rₛ⋅V₁⋅s  + C_b⋅Cₗ⋅L₂⋅Lₛ⋅Rₗ⋅V₁⋅s  + C_b⋅Cₗ\n",
       "──────────────────────────────────────────────────────────────────────────────\n",
       "                                                                              \n",
       "                                                                              \n",
       "\n",
       "              3                        4                        3             \n",
       "⋅L₂⋅Rₗ⋅Rₛ⋅V₁⋅s  + 2⋅C_b⋅Cₗ⋅Lₛ⋅M⋅Rₗ⋅V₁⋅s  + 2⋅C_b⋅Cₗ⋅M⋅Rₗ⋅Rₛ⋅V₁⋅s  + C_b⋅L₁⋅Rₗ⋅\n",
       "──────────────────────────────────────────────────────────────────────────────\n",
       "                                                  3                    3      \n",
       "                                 C_b⋅Cₗ⋅L₁⋅Rₗ⋅V₁⋅s  + C_b⋅Cₗ⋅L₂⋅Rₗ⋅V₁⋅s  + 2⋅C\n",
       "\n",
       "    2                 2                  2                3                2  \n",
       "V₁⋅s  + C_b⋅L₂⋅Rₗ⋅V₁⋅s  + 2⋅C_b⋅M⋅Rₗ⋅V₁⋅s  + Cₗ⋅L₂⋅Lₛ⋅V₁⋅s  + Cₗ⋅L₂⋅Rₛ⋅V₁⋅s  +\n",
       "──────────────────────────────────────────────────────────────────────────────\n",
       "               3             2            2                                   \n",
       "_b⋅Cₗ⋅M⋅Rₗ⋅V₁⋅s  + Cₗ⋅L₂⋅V₁⋅s  + Cₗ⋅M⋅V₁⋅s  + Cₗ⋅Rₗ⋅V₁⋅s                      \n",
       "\n",
       "             3                2               2                               \n",
       " Cₗ⋅Lₛ⋅M⋅V₁⋅s  + Cₗ⋅Lₛ⋅Rₗ⋅V₁⋅s  + Cₗ⋅M⋅Rₛ⋅V₁⋅s  + Cₗ⋅Rₗ⋅Rₛ⋅V₁⋅s + L₂⋅V₁⋅s + M⋅\n",
       "──────────────────────────────────────────────────────────────────────────────\n",
       "                                                                              \n",
       "                                                                              \n",
       "\n",
       "            \n",
       "V₁⋅s + Rₗ⋅V₁\n",
       "────────────\n",
       "            \n",
       "            "
      ]
     },
     "execution_count": 256,
     "metadata": {},
     "output_type": "execute_result"
    }
   ],
   "source": [
    "Z_L = U_sym[v3]/U_sym[I_L_s]\n",
    "Z_L"
   ]
  },
  {
   "cell_type": "code",
   "execution_count": 257,
   "id": "97f46e83-f8d9-4716-b620-fe14ccac1b53",
   "metadata": {},
   "outputs": [
    {
     "data": {
      "image/png": "[encoded data removed]",
      "text/latex": [
       "$\\displaystyle \\frac{C_{l} L_{s} s^{2} + C_{l} R_{s} s + 1}{C_{l} s}$"
      ],
      "text/plain": [
       "       2              \n",
       "Cₗ⋅Lₛ⋅s  + Cₗ⋅Rₛ⋅s + 1\n",
       "──────────────────────\n",
       "         Cₗ⋅s         "
      ]
     },
     "execution_count": 257,
     "metadata": {},
     "output_type": "execute_result"
    }
   ],
   "source": [
    "Z_L.factor()"
   ]
  },
  {
   "cell_type": "code",
   "execution_count": null,
   "id": "82936faf-367a-4e78-88d9-e8c121784f2d",
   "metadata": {},
   "outputs": [],
   "source": []
  },
  {
   "cell_type": "code",
   "execution_count": null,
   "id": "669c379f-af42-41d0-b930-562b7779cb4b",
   "metadata": {},
   "outputs": [],
   "source": []
  },
  {
   "cell_type": "markdown",
   "id": "656d864a-0e0f-4f1a-9831-4ac68a258fe1",
   "metadata": {},
   "source": [
    "## Assign element values"
   ]
  },
  {
   "cell_type": "code",
   "execution_count": 258,
   "id": "8181bd9c-c289-4351-9cfa-b5d0c8b3f451",
   "metadata": {},
   "outputs": [],
   "source": [
    "element_values[C_b] = 10e-6\n",
    "element_values[C_l] = 10e-6\n",
    "element_values[K] = 1\n",
    "element_values[L1] = 1e-6\n",
    "element_values[L2] = 1e-6\n",
    "element_values[L_s] = 1e-10\n",
    "element_values[R_l] = 1000\n",
    "element_values[R_s] = 1"
   ]
  },
  {
   "cell_type": "markdown",
   "id": "0c46f80c-b8e0-4e7a-9711-e16c7cb2a569",
   "metadata": {},
   "source": [
    "### Mutual inductance\n",
    "In the netlist, the line below specifies that L1 and L2 are connected by a magnetic circuit.\n",
    ">K L1 L2 0.5  \n",
    " \n",
    "K identifies the mutual inductance between in two inductors, L1 and L2. K is the coefficient of coupling. \n",
    "\n",
    "A coupled inductor has two or more windings that are connected by a magnetic circuit. Coupled inductors transfer energy from one winding to a different winding usually through a commonly used core. The efficiency of the magnetic coupling between both the windings is defined by the coupling factor k or by mutual inductance.\n",
    "\n",
    "The coupling constant and the [mutual inductance](https://en.wikipedia.org/wiki/Inductance#Mutual_inductance) are related by the equation:\n",
    "\n",
    "$K = \\frac {M}{\\sqrt{L_1 \\times L_2}}$\n",
    "\n",
    "Where K is the coupling coefficient and in spice the value of K can be from -1 to +1 to account for a a negative phase relation. Phase dots are drawn on the schematic to indicate the relative direction of the windings. In LTspice the phase dots are associated with the negative terminal of the winding. "
   ]
  },
  {
   "cell_type": "code",
   "execution_count": 259,
   "id": "5b7a2131-8642-4635-beee-6a03b78a1eec",
   "metadata": {},
   "outputs": [
    {
     "name": "stdout",
     "output_type": "stream",
     "text": [
      "mutual inductance, M = 1.000e-06\n"
     ]
    }
   ],
   "source": [
    "K = symbols('K')\n",
    "\n",
    "# calculate the coupling constant from the mutual inductance\n",
    "element_values[M] = element_values[K]*np.sqrt(element_values[L1] *element_values[L2])\n",
    "print('mutual inductance, M = {:.3e}'.format(element_values[M]))"
   ]
  },
  {
   "cell_type": "code",
   "execution_count": 260,
   "id": "5b0cc2bd-20fe-4e32-8844-447871dd2fab",
   "metadata": {},
   "outputs": [
    {
     "data": {
      "image/png": "[encoded data removed]",
      "text/latex": [
       "$\\displaystyle \\left\\{ C_{b} : 1.0 \\cdot 10^{-5}, \\  C_{l} : 1.0 \\cdot 10^{-5}, \\  K : 1, \\  L_{1} : 1.0 \\cdot 10^{-6}, \\  L_{2} : 1.0 \\cdot 10^{-6}, \\  L_{s} : 1.0 \\cdot 10^{-10}, \\  M : 1.0 \\cdot 10^{-6}, \\  R_{l} : 1000, \\  R_{s} : 1, \\  V_{1} : 1.0\\right\\}$"
      ],
      "text/plain": [
       "{C_b: 1e-05, Cₗ: 1e-05, K: 1, L₁: 1e-06, L₂: 1e-06, Lₛ: 1e-10, M: 1e-06, Rₗ: 1\n",
       "000, Rₛ: 1, V₁: 1.0}"
      ]
     },
     "execution_count": 260,
     "metadata": {},
     "output_type": "execute_result"
    }
   ],
   "source": [
    "element_values"
   ]
  },
  {
   "cell_type": "markdown",
   "id": "240763ce-22fb-4d0e-9044-e492189b2e2f",
   "metadata": {},
   "source": [
    "The expressions for the zeros and poles of $H(s)$ are rather long and not very intuitive.\n",
    "\n",
    "#### Numerical Solution\n",
    "After substituting the element values into the network equations, we get the following numerical equations:"
   ]
  },
  {
   "cell_type": "code",
   "execution_count": 261,
   "id": "a2100e89-4eaa-4a49-909e-efaaf3783240",
   "metadata": {},
   "outputs": [
    {
     "data": {
      "text/markdown": [
       "<p>$0 = - I_{L1} + I_{V1} + 1.0 \\cdot 10^{-5} s v_{1} - 1.0 \\cdot 10^{-5} s v_{5}$</p><p>$0 = v_{2} \\cdot \\left(1.0 \\cdot 10^{-5} s + 1\\right) - v_{4}$</p><p>$0 = I_{L1} - I_{L2} + I_{L s}$</p><p>$0 = - I_{L s} - v_{2} + v_{4}$</p><p>$0 = I_{L2} - 1.0 \\cdot 10^{-5} s v_{1} + v_{5} \\cdot \\left(1.0 \\cdot 10^{-5} s + \\frac{1}{1000}\\right)$</p><p>$1.0 = v_{1}$</p><p>$0 = - 1.0 \\cdot 10^{-6} I_{L1} s - 1.0 \\cdot 10^{-6} I_{L2} s - v_{1} + v_{3}$</p><p>$0 = - 1.0 \\cdot 10^{-6} I_{L1} s - 1.0 \\cdot 10^{-6} I_{L2} s - v_{3} + v_{5}$</p><p>$0 = - 1.0 \\cdot 10^{-10} I_{L s} s + v_{3} - v_{4}$</p>"
      ],
      "text/plain": [
       "<IPython.core.display.Markdown object>"
      ]
     },
     "execution_count": 261,
     "metadata": {},
     "output_type": "execute_result"
    }
   ],
   "source": [
    "equ_N = NE_sym.subs(element_values)\n",
    "\n",
    "temp = ''\n",
    "for i in range(shape(equ_N.lhs)[0]):\n",
    "    temp += '<p>${:s} = {:s}$</p>'.format(latex(equ_N.rhs[i]), latex(equ_N.lhs[i]))\n",
    "\n",
    "Markdown(temp)"
   ]
  },
  {
   "cell_type": "markdown",
   "id": "561e1d46-eea8-43df-b475-faac751c6755",
   "metadata": {},
   "source": [
    "SymPy can solve for unknown node voltages and the unknown currents from the independent voltage source, $V_1$, and the Op Amp's output terminal. The unknown currents, $I_{V1}$ and $I_{O1}$, are not displayed. The node voltages are:"
   ]
  },
  {
   "cell_type": "code",
   "execution_count": 262,
   "id": "f856d797-2865-4e0e-aa28-880f26a7cbb9",
   "metadata": {
    "collapsed": false,
    "jupyter": {
     "outputs_hidden": false
    }
   },
   "outputs": [
    {
     "data": {
      "text/markdown": [
       "<p>$v_{1} = 1.0$</p><p>$v_{2} = \\frac{1.0 \\cdot 10^{15} s^{2} + 5.0 \\cdot 10^{16} s + 2.5 \\cdot 10^{25}}{s^{4} + 10000000100.0 s^{3} + 1.251025 \\cdot 10^{15} s^{2} + 2.501 \\cdot 10^{20} s + 2.5 \\cdot 10^{25}}$</p><p>$v_{3} = \\frac{s^{4} + 10000000050.0 s^{3} + 1.000525 \\cdot 10^{15} s^{2} + 2.5005 \\cdot 10^{20} s + 2.5 \\cdot 10^{25}}{s^{4} + 10000000100.0 s^{3} + 1.251025 \\cdot 10^{15} s^{2} + 2.501 \\cdot 10^{20} s + 2.5 \\cdot 10^{25}}$</p><p>$v_{4} = \\frac{10000000000.0 s^{3} + 1.0005 \\cdot 10^{15} s^{2} + 2.5005 \\cdot 10^{20} s + 2.5 \\cdot 10^{25}}{s^{4} + 10000000100.0 s^{3} + 1.251025 \\cdot 10^{15} s^{2} + 2.501 \\cdot 10^{20} s + 2.5 \\cdot 10^{25}}$</p><p>$v_{5} = \\frac{s^{4} + 10000000000.0 s^{3} + 750025000000000.0 s^{2} + 2.5 \\cdot 10^{20} s + 2.5 \\cdot 10^{25}}{s^{4} + 10000000100.0 s^{3} + 1.251025 \\cdot 10^{15} s^{2} + 2.501 \\cdot 10^{20} s + 2.5 \\cdot 10^{25}}$</p>"
      ],
      "text/plain": [
       "<IPython.core.display.Markdown object>"
      ]
     },
     "execution_count": 262,
     "metadata": {},
     "output_type": "execute_result"
    }
   ],
   "source": [
    "U = solve(equ_N,X)\n",
    "\n",
    "temp = ''\n",
    "for i in U.keys():\n",
    "    if str(i)[0] == 'v': # only display the node voltages\n",
    "        temp += '<p>${:s} = {:s}$</p>'.format(latex(i),latex(U[i]))\n",
    "\n",
    "Markdown(temp)"
   ]
  },
  {
   "cell_type": "markdown",
   "id": "45a779df-9312-449c-9b3b-22db246e7484",
   "metadata": {},
   "source": [
    "The voltage transfer function is displayed below."
   ]
  },
  {
   "cell_type": "code",
   "execution_count": 263,
   "id": "6174a828-1fdb-4e3f-891b-f2a0295cb265",
   "metadata": {},
   "outputs": [
    {
     "data": {
      "text/markdown": [
       "$H(s)=\\frac{1.0 \\cdot 10^{15} s^{2} + 5.0 \\cdot 10^{16} s + 2.5 \\cdot 10^{25}}{1.0 s^{4} + 10000000100.0 s^{3} + 1.251025 \\cdot 10^{15} s^{2} + 2.501 \\cdot 10^{20} s + 2.5 \\cdot 10^{25}}$"
      ],
      "text/plain": [
       "<IPython.core.display.Markdown object>"
      ]
     },
     "execution_count": 263,
     "metadata": {},
     "output_type": "execute_result"
    }
   ],
   "source": [
    "H = (U[v2]/U[v1]).cancel()\n",
    "Markdown('$H(s)={:s}$'.format(latex(H)))"
   ]
  },
  {
   "cell_type": "markdown",
   "id": "ca2d7446-6a82-47ab-8efa-fa3725042ccf",
   "metadata": {},
   "source": [
    "The code below extracts the numerator and denominator polynomials from the voltage transfer function. Then coefficients of the terms are used to build a SciPy transfer function object."
   ]
  },
  {
   "cell_type": "code",
   "execution_count": 264,
   "id": "7cc58eab-3f18-4820-a2bf-1e0a379c850e",
   "metadata": {},
   "outputs": [],
   "source": [
    "H_num, H_denom = fraction(H) #returns numerator and denominator\n",
    "\n",
    "# convert symbolic to NumPy polynomial\n",
    "a = np.array(Poly(H_num, s).all_coeffs(), dtype=float)\n",
    "b = np.array(Poly(H_denom, s).all_coeffs(), dtype=float)\n",
    "\n",
    "sys_tf = signal.TransferFunction(a,b)\n",
    "\n",
    "sys_zeros = np.roots(sys_tf.num)\n",
    "sys_poles = np.roots(sys_tf.den)"
   ]
  },
  {
   "cell_type": "markdown",
   "id": "0e57aa55-63c4-46bc-a82e-01ee7db8e4c2",
   "metadata": {},
   "source": [
    "The poles and zeros of the transfer function are plotted on the complex frequency plane with the following code:"
   ]
  },
  {
   "cell_type": "code",
   "execution_count": 265,
   "id": "c36fb3c2-6b98-4110-a7e4-33086b692c10",
   "metadata": {},
   "outputs": [
    {
     "data": {
      "image/png": "[encoded data removed]",
      "text/plain": [
       "<Figure size 640x480 with 1 Axes>"
      ]
     },
     "metadata": {},
     "output_type": "display_data"
    }
   ],
   "source": [
    "plt.plot(np.real(sys_zeros/(2*np.pi)), np.imag(sys_zeros/(2*np.pi)), 'ob', markerfacecolor='none')\n",
    "plt.plot(np.real(sys_poles/(2*np.pi)), np.imag(sys_poles/(2*np.pi)), 'xr')\n",
    "plt.legend(['Zeros', 'Poles'], loc=0)\n",
    "plt.title('Pole / Zero Plot')\n",
    "plt.xlabel('real part, \\u03B1')\n",
    "plt.ylabel('imaginary part, j\\u03C9')\n",
    "plt.grid()\n",
    "plt.show()"
   ]
  },
  {
   "cell_type": "markdown",
   "id": "b9fa9f34-70d6-409b-b9b7-d25e4897d479",
   "metadata": {},
   "source": [
    "The code below generates a table that lists the values of the pole and zero locations. "
   ]
  },
  {
   "cell_type": "code",
   "execution_count": 266,
   "id": "e93f1ac0-1819-4bf0-9ebf-40ea2d34cdaf",
   "metadata": {},
   "outputs": [
    {
     "name": "stdout",
     "output_type": "stream",
     "text": [
      "Zeros, Hz        Poles, Hz\n",
      "---------------  --------------------\n",
      "-3.98+25164.61j  -1591529536.30+0.00j\n",
      "-3.98-25164.61j  -1364.72+24181.71j\n",
      "                 -1364.72-24181.71j\n",
      "                 -17181.09+0.00j\n"
     ]
    }
   ],
   "source": [
    "table_header = ['Zeros, Hz', 'Poles, Hz']\n",
    "num_table_rows = max(len(sys_zeros),len(sys_poles))\n",
    "table_row = []\n",
    "\n",
    "for i in range(num_table_rows):\n",
    "    if i < len(sys_zeros):\n",
    "        z = '{:.2f}'.format(sys_zeros[i]/(2*np.pi))\n",
    "    else:\n",
    "        z = ''\n",
    "    if i < len(sys_poles):\n",
    "        p = '{:.2f}'.format(sys_poles[i]/(2*np.pi))\n",
    "    else:\n",
    "        p = ''\n",
    "    table_row.append([z,p])\n",
    "\n",
    "print(tabulate(table_row, headers=table_header,colalign = ('left','left'),tablefmt=\"simple\"))"
   ]
  },
  {
   "cell_type": "markdown",
   "id": "2e244e7c-487d-482b-9003-2e6536d674c1",
   "metadata": {},
   "source": [
    "#### Frequency Response\n",
    "The amplitude and phase of the reactive branch is plotted below. "
   ]
  },
  {
   "cell_type": "code",
   "execution_count": 267,
   "id": "c654f235-29c1-4e41-a55a-b74fd81d0306",
   "metadata": {},
   "outputs": [
    {
     "data": {
      "image/png": "[encoded data removed]",
      "text/plain": [
       "<Figure size 640x480 with 2 Axes>"
      ]
     },
     "metadata": {},
     "output_type": "display_data"
    }
   ],
   "source": [
    "# setup\n",
    "x_axis = np.logspace(2, 5, 2000, endpoint=False)*2*np.pi\n",
    "color_list = ['tab:blue','tab:red','tab:green','tab:orange','k']\n",
    "\n",
    "\n",
    "# plot\n",
    "fig, ax1 = plt.subplots()\n",
    "ax1.set_ylabel('magnitude, dB')\n",
    "ax1.set_xlabel('frequency, Hz')\n",
    "\n",
    "# instantiate a second y-axes that shares the same x-axis\n",
    "ax2 = ax1.twinx()\n",
    "color = 'k'\n",
    "\n",
    "ax2.set_ylabel('phase, deg',color=color)\n",
    "ax2.tick_params(axis='y', labelcolor=color)\n",
    "\n",
    "\n",
    "NE = NE_sym.subs(element_values)\n",
    "U = solve(NE,X)\n",
    "H = U[v2]/U[v1]\n",
    "num, denom = fraction(H) #returns numerator and denominator\n",
    "\n",
    "# convert symbolic to NumPy polynomial\n",
    "a = np.array(Poly(num, s).all_coeffs(), dtype=float)\n",
    "b = np.array(Poly(denom, s).all_coeffs(), dtype=float)\n",
    "\n",
    "#x = np.logspace(1, 5, 2000, endpoint=False)*2*np.pi\n",
    "w, mag, phase = signal.bode((a, b), w=x_axis) # returns: rad/s, mag in dB, phase in deg\n",
    "#clean_path1_mag[i] = mag\n",
    "\n",
    "# plot the results\n",
    "i=0\n",
    "ax1.semilogx(w/(2*np.pi), mag,'-k',label='mag')    # magnitude plot\n",
    "ax2.semilogx(w/(2*np.pi), phase,':k',label='phase')  # phase plot\n",
    "\n",
    "#ax1.set_ylim((0,40))\n",
    "\n",
    "# position legends\n",
    "ax1.legend(loc='upper left')\n",
    "ax2.legend(loc='upper right')\n",
    "\n",
    "ax1.grid()\n",
    "plt.title('Magnitude and phase response')\n",
    "\n",
    "plt.show()"
   ]
  },
  {
   "cell_type": "markdown",
   "id": "b78eb6b3-ffb2-4211-aa17-2a2b8a3ff4f3",
   "metadata": {},
   "source": [
    "comments ...\n",
    "\n"
   ]
  },
  {
   "cell_type": "code",
   "execution_count": null,
   "id": "3de2bc18-8b54-408d-8144-4996a8523956",
   "metadata": {},
   "outputs": [],
   "source": []
  },
  {
   "cell_type": "code",
   "execution_count": null,
   "id": "683535e0-cbeb-4e0e-9f97-5e437b42c203",
   "metadata": {},
   "outputs": [],
   "source": []
  },
  {
   "cell_type": "markdown",
   "id": "1f2076b4-7a3c-42d4-a201-36d2de9e9caa",
   "metadata": {},
   "source": [
    "## Circuit 1b\n",
    "The circuit in @fig-t-coil-1a is from Ross presentation"
   ]
  },
  {
   "cell_type": "markdown",
   "id": "8f741114-bf80-41a0-9de8-3c31b8b80675",
   "metadata": {},
   "source": [
    "![T coil ver 1b](T-coil-ver1b.png){#fig-t-coil-1b}\n",
    "\n",
    "This is simplified version of T-coil-ver1a. Following the Ross slides."
   ]
  },
  {
   "cell_type": "markdown",
   "id": "9e6f9348-b5c8-4311-aa03-6911f8291bb9",
   "metadata": {},
   "source": [
    "### Network Equations\n",
    "The netlist for the schematic above was generated by LTSpice and copied into the cell below."
   ]
  },
  {
   "cell_type": "code",
   "execution_count": 2,
   "id": "0ea03ae8-590e-4fde-b0b2-d6e2d64a276e",
   "metadata": {},
   "outputs": [],
   "source": [
    "T_Coil_ver1a_net_list = '''\n",
    "* T-Coil-ver1b.asc\n",
    "V1 1 0 1\n",
    "L1 2 1 1\n",
    "L2 3 2 1\n",
    "C 2 0 1\n",
    "C1 3 1 1\n",
    "R 3 0 1\n",
    "K L1 L2 0.5\n",
    "'''"
   ]
  },
  {
   "cell_type": "markdown",
   "id": "1f6ed6ce-d09e-4339-b874-2128173ca548",
   "metadata": {},
   "source": [
    "The MNA equations are generated from the function `SymMNA.smna`."
   ]
  },
  {
   "cell_type": "code",
   "execution_count": 3,
   "id": "babfeac2-0239-4eeb-be6d-0ec3df2a0d16",
   "metadata": {},
   "outputs": [],
   "source": [
    "report, network_df, i_unk_df, A, X, Z = SymMNA.smna(T_Coil_ver1a_net_list)"
   ]
  },
  {
   "cell_type": "markdown",
   "id": "5483e4cb-d9e4-4c46-9359-93e66a441bd2",
   "metadata": {},
   "source": [
    "The code below assembles the network equations from the MNA matrices and displays the equations."
   ]
  },
  {
   "cell_type": "code",
   "execution_count": 4,
   "id": "9626288d-c284-41e6-a4ee-58d58d982833",
   "metadata": {},
   "outputs": [
    {
     "data": {
      "text/markdown": [
       "$0 = C_{1} s v_{1} - C_{1} s v_{3} - I_{L1} + I_{V1}$<br>$0 = C s v_{2} + I_{L1} - I_{L2}$<br>$0 = - C_{1} s v_{1} + I_{L2} + v_{3} \\left(C_{1} s + \\frac{1}{R}\\right)$<br>$V_{1} = v_{1}$<br>$0 = - I_{L1} L_{1} s - I_{L2} M s - v_{1} + v_{2}$<br>$0 = - I_{L1} M s - I_{L2} L_{2} s - v_{2} + v_{3}$<br>"
      ],
      "text/plain": [
       "<IPython.core.display.Markdown object>"
      ]
     },
     "execution_count": 4,
     "metadata": {},
     "output_type": "execute_result"
    }
   ],
   "source": [
    "# Put matrices into SymPy \n",
    "X = Matrix(X)\n",
    "Z = Matrix(Z)\n",
    "\n",
    "NE_sym = Eq(A*X,Z)\n",
    "\n",
    "# display the equations\n",
    "temp = ''\n",
    "for i in range(shape(NE_sym.lhs)[0]):\n",
    "    temp += '${:s} = {:s}$<br>'.format(latex(NE_sym.rhs[i]),latex(NE_sym.lhs[i]))\n",
    "Markdown(temp)"
   ]
  },
  {
   "cell_type": "markdown",
   "id": "1c8fb7af-de99-4d36-8ca6-220b1011051f",
   "metadata": {},
   "source": [
    "The free symbols are entered as SymPy variables and the element values are put into a dictionary."
   ]
  },
  {
   "cell_type": "code",
   "execution_count": 5,
   "id": "d72227b6-04d3-47d3-bff0-342c3cc31d2a",
   "metadata": {},
   "outputs": [],
   "source": [
    "var(str(NE_sym.free_symbols).replace('{','').replace('}',''))\n",
    "element_values = SymMNA.get_part_values(network_df)"
   ]
  },
  {
   "cell_type": "markdown",
   "id": "df5de4a6-6d81-4809-9f86-464403045821",
   "metadata": {},
   "source": [
    "### Symbolic solution\n",
    "The network equations for the circuit in @fig-wien_bridge_loop_gain_sch can be solved symbolically. "
   ]
  },
  {
   "cell_type": "code",
   "execution_count": 6,
   "id": "7abbd3bf-64ff-478c-a597-165f9b899161",
   "metadata": {},
   "outputs": [],
   "source": [
    "U_sym = solve(NE_sym,X)"
   ]
  },
  {
   "cell_type": "markdown",
   "id": "3b5c859a-0fa1-49af-ba41-c700824c319d",
   "metadata": {},
   "source": [
    "Display the node voltages and dependent currents using symbolic notation."
   ]
  },
  {
   "cell_type": "code",
   "execution_count": 7,
   "id": "ac22c0ee-2a9c-4c1c-a1e3-720f1d698511",
   "metadata": {},
   "outputs": [
    {
     "data": {
      "text/markdown": [
       "$v_{1} = V_{1}$<br>$v_{2} = \\frac{C_{1} L_{1} R V_{1} s^{2} + C_{1} L_{2} R V_{1} s^{2} + 2 C_{1} M R V_{1} s^{2} + L_{2} V_{1} s + M V_{1} s + R V_{1}}{C C_{1} L_{1} L_{2} R s^{4} - C C_{1} M^{2} R s^{4} + C L_{1} L_{2} s^{3} + C L_{1} R s^{2} - C M^{2} s^{3} + C_{1} L_{1} R s^{2} + C_{1} L_{2} R s^{2} + 2 C_{1} M R s^{2} + L_{1} s + L_{2} s + 2 M s + R}$<br>$v_{3} = \\frac{C C_{1} L_{1} L_{2} R V_{1} s^{4} - C C_{1} M^{2} R V_{1} s^{4} - C M R V_{1} s^{2} + C_{1} L_{1} R V_{1} s^{2} + C_{1} L_{2} R V_{1} s^{2} + 2 C_{1} M R V_{1} s^{2} + R V_{1}}{C C_{1} L_{1} L_{2} R s^{4} - C C_{1} M^{2} R s^{4} + C L_{1} L_{2} s^{3} + C L_{1} R s^{2} - C M^{2} s^{3} + C_{1} L_{1} R s^{2} + C_{1} L_{2} R s^{2} + 2 C_{1} M R s^{2} + L_{1} s + L_{2} s + 2 M s + R}$<br>$I_{V1} = \\frac{- C C_{1} L_{1} L_{2} V_{1} s^{4} - C C_{1} L_{1} R V_{1} s^{3} - C C_{1} L_{2} R V_{1} s^{3} + C C_{1} M^{2} V_{1} s^{4} - 2 C C_{1} M R V_{1} s^{3} - C L_{2} V_{1} s^{2} - C R V_{1} s - C_{1} L_{1} V_{1} s^{2} - C_{1} L_{2} V_{1} s^{2} - 2 C_{1} M V_{1} s^{2} - V_{1}}{C C_{1} L_{1} L_{2} R s^{4} - C C_{1} M^{2} R s^{4} + C L_{1} L_{2} s^{3} + C L_{1} R s^{2} - C M^{2} s^{3} + C_{1} L_{1} R s^{2} + C_{1} L_{2} R s^{2} + 2 C_{1} M R s^{2} + L_{1} s + L_{2} s + 2 M s + R}$<br>$I_{L1} = \\frac{- C C_{1} L_{2} R V_{1} s^{3} - C C_{1} M R V_{1} s^{3} - C L_{2} V_{1} s^{2} - C R V_{1} s - V_{1}}{C C_{1} L_{1} L_{2} R s^{4} - C C_{1} M^{2} R s^{4} + C L_{1} L_{2} s^{3} + C L_{1} R s^{2} - C M^{2} s^{3} + C_{1} L_{1} R s^{2} + C_{1} L_{2} R s^{2} + 2 C_{1} M R s^{2} + L_{1} s + L_{2} s + 2 M s + R}$<br>$I_{L2} = \\frac{C C_{1} L_{1} R V_{1} s^{3} + C C_{1} M R V_{1} s^{3} + C M V_{1} s^{2} - V_{1}}{C C_{1} L_{1} L_{2} R s^{4} - C C_{1} M^{2} R s^{4} + C L_{1} L_{2} s^{3} + C L_{1} R s^{2} - C M^{2} s^{3} + C_{1} L_{1} R s^{2} + C_{1} L_{2} R s^{2} + 2 C_{1} M R s^{2} + L_{1} s + L_{2} s + 2 M s + R}$<br>"
      ],
      "text/plain": [
       "<IPython.core.display.Markdown object>"
      ]
     },
     "execution_count": 7,
     "metadata": {},
     "output_type": "execute_result"
    }
   ],
   "source": [
    "temp = ''\n",
    "for i in U_sym.keys():\n",
    "    temp += '${:s} = {:s}$<br>'.format(latex(i),latex(U_sym[i]))\n",
    "\n",
    "Markdown(temp)"
   ]
  },
  {
   "cell_type": "markdown",
   "id": "309fe3bf-2e32-429c-983a-b6631003bde2",
   "metadata": {},
   "source": [
    "The network transfer function, $H(s)=\\frac {v_2(s)}{v_1(s)}$ is:"
   ]
  },
  {
   "cell_type": "code",
   "execution_count": 8,
   "id": "b1300065-36b0-47c6-8e4d-e909419f9791",
   "metadata": {},
   "outputs": [
    {
     "data": {
      "text/markdown": [
       "$H(s)=\\frac{C_{1} L_{1} R s^{2} + C_{1} L_{2} R s^{2} + 2 C_{1} M R s^{2} + L_{2} s + M s + R}{C C_{1} L_{1} L_{2} R s^{4} - C C_{1} M^{2} R s^{4} + C L_{1} L_{2} s^{3} + C L_{1} R s^{2} - C M^{2} s^{3} + C_{1} L_{1} R s^{2} + C_{1} L_{2} R s^{2} + 2 C_{1} M R s^{2} + L_{1} s + L_{2} s + 2 M s + R}$"
      ],
      "text/plain": [
       "<IPython.core.display.Markdown object>"
      ]
     },
     "execution_count": 8,
     "metadata": {},
     "output_type": "execute_result"
    }
   ],
   "source": [
    "H_sym = (U_sym[v2]/U_sym[v1]).cancel()\n",
    "Markdown('$H(s)={:s}$'.format(latex(H_sym)))"
   ]
  },
  {
   "cell_type": "markdown",
   "id": "70939153-3fda-424d-a34d-b1d1ed9abf4d",
   "metadata": {},
   "source": [
    "The numerator is a second order polynomial and the denominator is a fourth order polynomial.\n",
    "\n",
    "Generally, the order of the dominator is equal to the number of reactive elements in the circuit; sometimes roots of the numerator will exactly cancel with a root of the denominator polynomial. \n",
    "\n",
    "The roots of the numerator polynomial are called the zeros of the transfer function and the roots of the denominator are called the poles of the transfer function."
   ]
  },
  {
   "cell_type": "code",
   "execution_count": 9,
   "id": "42509d9c-1407-4e98-a642-10cb00ce7c72",
   "metadata": {
    "tags": []
   },
   "outputs": [],
   "source": [
    "H_sym_num, H_sym_denom = fraction(H_sym) #returns numerator and denominator"
   ]
  },
  {
   "cell_type": "markdown",
   "id": "d21afd19-d582-42ee-b934-d7d943b6ec19",
   "metadata": {},
   "source": [
    "#### Numerator Polynomial of $H_{sym}(s)$\n",
    "The numerator polynomial is:"
   ]
  },
  {
   "cell_type": "code",
   "execution_count": 10,
   "id": "0d427856-56b6-4890-aee8-e780f10aa12b",
   "metadata": {},
   "outputs": [
    {
     "data": {
      "text/markdown": [
       "$N(s)=C_{1} L_{1} R s^{2} + C_{1} L_{2} R s^{2} + 2 C_{1} M R s^{2} + L_{2} s + M s + R$"
      ],
      "text/plain": [
       "<IPython.core.display.Markdown object>"
      ]
     },
     "execution_count": 10,
     "metadata": {},
     "output_type": "execute_result"
    }
   ],
   "source": [
    "Markdown('$N(s)={:s}$'.format(latex(H_sym_num)))"
   ]
  },
  {
   "cell_type": "markdown",
   "id": "e09a4f98-0f83-41c8-bdea-76b57d24f4f9",
   "metadata": {},
   "source": [
    "The coefficients of each Laplace term can be equated to the variables $b_2$, $b_1$ and $b_0$ in the expression: \n",
    "\n",
    "$b_2s^{2}+b_1s+b_0$\n",
    "\n",
    "where $b_2$, $b_1$ and $b_0$ are:"
   ]
  },
  {
   "cell_type": "code",
   "execution_count": 11,
   "id": "a8c7a2e3-112b-4671-9320-e05eeb99fda2",
   "metadata": {},
   "outputs": [
    {
     "data": {
      "text/markdown": [
       "<p>$b_2=C_{1} L_{1} R + C_{1} L_{2} R + 2 C_{1} M R$</p><p>$b_1=L_{2} + M$</p><p>$b_0=R$</p>"
      ],
      "text/plain": [
       "<IPython.core.display.Markdown object>"
      ]
     },
     "execution_count": 11,
     "metadata": {},
     "output_type": "execute_result"
    }
   ],
   "source": [
    "b2 = H_sym_num.coeff(s**2)\n",
    "b1 = H_sym_num.coeff(s**1)\n",
    "b0 = (H_sym_num - b1*s*1 - b2*s**2).expand()\n",
    "\n",
    "Markdown('<p>$b_2={:s}$</p><p>$b_1={:s}$</p><p>$b_0={:s}$</p>'.format(latex(b2),latex(b1),latex(b0)))"
   ]
  },
  {
   "cell_type": "code",
   "execution_count": 12,
   "id": "1eead763-3bab-428d-ade7-8310a71a63a8",
   "metadata": {},
   "outputs": [
    {
     "data": {
      "image/png": "[encoded data removed]",
      "text/latex": [
       "$\\displaystyle \\left[ \\frac{- L_{2} - M - \\sqrt{- 4 C_{1} L_{1} R^{2} - 4 C_{1} L_{2} R^{2} - 8 C_{1} M R^{2} + L_{2}^{2} + 2 L_{2} M + M^{2}}}{2 C_{1} R \\left(L_{1} + L_{2} + 2 M\\right)}, \\  \\frac{- L_{2} - M + \\sqrt{- 4 C_{1} L_{1} R^{2} - 4 C_{1} L_{2} R^{2} - 8 C_{1} M R^{2} + L_{2}^{2} + 2 L_{2} M + M^{2}}}{2 C_{1} R \\left(L_{1} + L_{2} + 2 M\\right)}\\right]$"
      ],
      "text/plain": [
       "⎡             ___________________________________________________________     \n",
       "⎢            ╱            2            2           2     2             2      \n",
       "⎢-L₂ - M - ╲╱  - 4⋅C₁⋅L₁⋅R  - 4⋅C₁⋅L₂⋅R  - 8⋅C₁⋅M⋅R  + L₂  + 2⋅L₂⋅M + M    -L₂\n",
       "⎢────────────────────────────────────────────────────────────────────────, ───\n",
       "⎣                         2⋅C₁⋅R⋅(L₁ + L₂ + 2⋅M)                              \n",
       "\n",
       "          ___________________________________________________________⎤\n",
       "         ╱            2            2           2     2             2 ⎥\n",
       " - M + ╲╱  - 4⋅C₁⋅L₁⋅R  - 4⋅C₁⋅L₂⋅R  - 8⋅C₁⋅M⋅R  + L₂  + 2⋅L₂⋅M + M  ⎥\n",
       "─────────────────────────────────────────────────────────────────────⎥\n",
       "                      2⋅C₁⋅R⋅(L₁ + L₂ + 2⋅M)                         ⎦"
      ]
     },
     "execution_count": 12,
     "metadata": {},
     "output_type": "execute_result"
    }
   ],
   "source": [
    "H_zeros = solve(H_sym_num,s)\n",
    "H_zeros"
   ]
  },
  {
   "cell_type": "markdown",
   "id": "1c9fc8e6-6d1b-459e-b4ab-811b258ff9b5",
   "metadata": {},
   "source": [
    "#### Denominator Polynomial of $H_{sym}(s)$\n",
    "The denominator polynomial of the transfer function is called the characteristic polynomial. The roots of the denominator, also called poles of the system,  determine the system's stability. If any of these roots have a positive real part, the system is unstable, meaning its output will grow unbounded. The roots also influence how the system responds to changes in input (the transient response). They affect things like how quickly the system settles to a new state, whether it oscillates, and the damping of those oscillations. Each root of the characteristic polynomial corresponds to a natural mode of the system.\n",
    "\n",
    "The denominator polynomial is:"
   ]
  },
  {
   "cell_type": "code",
   "execution_count": 13,
   "id": "4106f4f3-bbc6-45b9-93c7-af90388d54c4",
   "metadata": {},
   "outputs": [
    {
     "data": {
      "text/markdown": [
       "$D(s)=C C_{1} L_{1} L_{2} R s^{4} - C C_{1} M^{2} R s^{4} + C L_{1} L_{2} s^{3} + C L_{1} R s^{2} - C M^{2} s^{3} + C_{1} L_{1} R s^{2} + C_{1} L_{2} R s^{2} + 2 C_{1} M R s^{2} + L_{1} s + L_{2} s + 2 M s + R$"
      ],
      "text/plain": [
       "<IPython.core.display.Markdown object>"
      ]
     },
     "execution_count": 13,
     "metadata": {},
     "output_type": "execute_result"
    }
   ],
   "source": [
    "Markdown('$D(s)={:s}$'.format(latex(H_sym_denom)))"
   ]
  },
  {
   "cell_type": "markdown",
   "id": "74b31197-038b-4fe2-a121-224f46d23293",
   "metadata": {},
   "source": [
    "The coefficients of each Laplace term can be equated to the variables $a_3$, $a_2$, $a_1$ and $a_0$ in the expression: \n",
    "\n",
    "$a_4s^4+a_3s^3+a_2s^2+a_1s+a_0$\n",
    "\n",
    "where $a_4$, $a_3$, $a_2$, $a_1$ and $a_0$ are:"
   ]
  },
  {
   "cell_type": "code",
   "execution_count": 14,
   "id": "93141fa8-3c57-4a92-b5a7-66b94abba579",
   "metadata": {},
   "outputs": [
    {
     "data": {
      "text/markdown": [
       "<p>$a_4=C C_{1} L_{1} L_{2} R - C C_{1} M^{2} R$</p><p>$a_3=C L_{1} L_{2} - C M^{2}$</p><p>$a_2=C L_{1} R + C_{1} L_{1} R + C_{1} L_{2} R + 2 C_{1} M R$</p><p>$a_1=L_{1} + L_{2} + 2 M$</p><p>$a_0=R$</p>"
      ],
      "text/plain": [
       "<IPython.core.display.Markdown object>"
      ]
     },
     "execution_count": 14,
     "metadata": {},
     "output_type": "execute_result"
    }
   ],
   "source": [
    "a4 = H_sym_denom.coeff(s**4)\n",
    "a3 = H_sym_denom.coeff(s**3)\n",
    "a2 = H_sym_denom.coeff(s**2)\n",
    "a1 = H_sym_denom.coeff(s**1)\n",
    "a0 = (H_sym_denom - a1*s*1 - a2*s**2 - a3*s**3 - a4*s**4).expand()\n",
    "Markdown('<p>$a_4={:s}$</p><p>$a_3={:s}$</p><p>$a_2={:s}$</p><p>$a_1={:s}$</p><p>$a_0={:s}$</p>'.format(latex(a4),latex(a3),latex(a2),latex(a1),latex(a0)))"
   ]
  },
  {
   "cell_type": "markdown",
   "id": "8e0c6475-22c8-42db-9724-7c0d4441ff64",
   "metadata": {},
   "source": [
    "Complicated transfer function ...\n",
    "\n",
    "Make $L_1=L_2=L$ and choose other values such that the zeros are canceled by two poles."
   ]
  },
  {
   "cell_type": "code",
   "execution_count": 339,
   "id": "439a897e-d088-4a6b-9a6c-c337f8a2b531",
   "metadata": {},
   "outputs": [],
   "source": [
    "L  = symbols('L')"
   ]
  },
  {
   "cell_type": "markdown",
   "id": "e7e3547a-6a23-4b08-82e5-b22e7e397e11",
   "metadata": {},
   "source": [
    "$L_1 = L_2 = L = \\frac {R^2C}{2}$\n",
    "\n",
    "\n",
    "$M = R^2C_1-\\frac {L}{2} = R^2C_1-\\frac {\\frac {R^2C}{2}}{2}$"
   ]
  },
  {
   "cell_type": "code",
   "execution_count": 369,
   "id": "e3b18478-a42b-4e5e-91b1-3ace8b33ff37",
   "metadata": {},
   "outputs": [
    {
     "data": {
      "image/png": "[encoded data removed]",
      "text/latex": [
       "$\\displaystyle \\frac{C R^{2}}{2}$"
      ],
      "text/plain": [
       "   2\n",
       "C⋅R \n",
       "────\n",
       " 2  "
      ]
     },
     "execution_count": 369,
     "metadata": {},
     "output_type": "execute_result"
    }
   ],
   "source": [
    "R**2*C/2"
   ]
  },
  {
   "cell_type": "code",
   "execution_count": 370,
   "id": "c03579ff-21a8-4faa-8c67-c0ce3d67fa92",
   "metadata": {},
   "outputs": [
    {
     "data": {
      "image/png": "[encoded data removed]",
      "text/latex": [
       "$\\displaystyle C R^{2} - \\frac{L}{2}$"
      ],
      "text/plain": [
       "   2   L\n",
       "C⋅R  - ─\n",
       "       2"
      ]
     },
     "execution_count": 370,
     "metadata": {},
     "output_type": "execute_result"
    }
   ],
   "source": [
    "R**2*C-L/2"
   ]
  },
  {
   "cell_type": "code",
   "execution_count": 371,
   "id": "48c20a5b-2e07-4af4-b8f8-ae2aecd20e70",
   "metadata": {},
   "outputs": [
    {
     "data": {
      "image/png": "[encoded data removed]",
      "text/latex": [
       "$\\displaystyle \\frac{3 C R^{2}}{4}$"
      ],
      "text/plain": [
       "     2\n",
       "3⋅C⋅R \n",
       "──────\n",
       "  4   "
      ]
     },
     "execution_count": 371,
     "metadata": {},
     "output_type": "execute_result"
    }
   ],
   "source": [
    "R**2*C-(R**2*C/2)/2"
   ]
  },
  {
   "cell_type": "code",
   "execution_count": 340,
   "id": "be762f79-f848-43ce-bca1-0c3faca947af",
   "metadata": {},
   "outputs": [
    {
     "data": {
      "image/png": "[encoded data removed]",
      "text/latex": [
       "$\\displaystyle \\frac{C_{1} L_{1} R s^{2} + C_{1} L_{2} R s^{2} + 2 C_{1} M R s^{2} + L_{2} s + M s + R}{C C_{1} L_{1} L_{2} R s^{4} - C C_{1} M^{2} R s^{4} + C L_{1} L_{2} s^{3} + C L_{1} R s^{2} - C M^{2} s^{3} + C_{1} L_{1} R s^{2} + C_{1} L_{2} R s^{2} + 2 C_{1} M R s^{2} + L_{1} s + L_{2} s + 2 M s + R}$"
      ],
      "text/plain": [
       "                                                2            2             2  \n",
       "                                       C₁⋅L₁⋅R⋅s  + C₁⋅L₂⋅R⋅s  + 2⋅C₁⋅M⋅R⋅s  +\n",
       "──────────────────────────────────────────────────────────────────────────────\n",
       "              4         2    4            3           2      2  3            2\n",
       "C⋅C₁⋅L₁⋅L₂⋅R⋅s  - C⋅C₁⋅M ⋅R⋅s  + C⋅L₁⋅L₂⋅s  + C⋅L₁⋅R⋅s  - C⋅M ⋅s  + C₁⋅L₁⋅R⋅s \n",
       "\n",
       "                                                     \n",
       " L₂⋅s + M⋅s + R                                      \n",
       "─────────────────────────────────────────────────────\n",
       "            2             2                          \n",
       " + C₁⋅L₂⋅R⋅s  + 2⋅C₁⋅M⋅R⋅s  + L₁⋅s + L₂⋅s + 2⋅M⋅s + R"
      ]
     },
     "execution_count": 340,
     "metadata": {},
     "output_type": "execute_result"
    }
   ],
   "source": [
    "H_sym"
   ]
  },
  {
   "cell_type": "markdown",
   "id": "b40dd160-c8d6-47e6-b772-c77e4958882a",
   "metadata": {},
   "source": [
    "Using the substitutions from vers 1c below,"
   ]
  },
  {
   "cell_type": "code",
   "execution_count": 15,
   "id": "ccedf7ff-276c-4834-89fb-5952b57883e2",
   "metadata": {},
   "outputs": [
    {
     "data": {
      "image/png": "[encoded data removed]",
      "text/latex": [
       "$\\displaystyle \\frac{C C_{1} R^{3} s^{2} + \\frac{C R^{2} s}{2} + 2 C_{1} R s^{2} \\left(- \\frac{C R^{2}}{4} + C_{1} R^{2}\\right) + R + s \\left(- \\frac{C R^{2}}{4} + C_{1} R^{2}\\right)}{\\frac{C^{3} C_{1} R^{5} s^{4}}{4} + \\frac{C^{3} R^{4} s^{3}}{4} + \\frac{C^{2} R^{3} s^{2}}{2} + C C_{1} R^{3} s^{2} - C C_{1} R s^{4} \\left(- \\frac{C R^{2}}{4} + C_{1} R^{2}\\right)^{2} + C R^{2} s - C s^{3} \\left(- \\frac{C R^{2}}{4} + C_{1} R^{2}\\right)^{2} + 2 C_{1} R s^{2} \\left(- \\frac{C R^{2}}{4} + C_{1} R^{2}\\right) + R + 2 s \\left(- \\frac{C R^{2}}{4} + C_{1} R^{2}\\right)}$"
      ],
      "text/plain": [
       "                                                              2               \n",
       "                                                    3  2   C⋅R ⋅s           2 \n",
       "                                              C⋅C₁⋅R ⋅s  + ────── + 2⋅C₁⋅R⋅s ⋅\n",
       "                                                             2                \n",
       "──────────────────────────────────────────────────────────────────────────────\n",
       "                                                                           2  \n",
       " 3     5  4    3  4  3    2  3  2                          ⎛     2        ⎞   \n",
       "C ⋅C₁⋅R ⋅s    C ⋅R ⋅s    C ⋅R ⋅s          3  2           4 ⎜  C⋅R        2⎟   \n",
       "─────────── + ──────── + ──────── + C⋅C₁⋅R ⋅s  - C⋅C₁⋅R⋅s ⋅⎜- ──── + C₁⋅R ⎟  +\n",
       "     4           4          2                              ⎝   4          ⎠   \n",
       "\n",
       "⎛     2        ⎞         ⎛     2        ⎞                                     \n",
       "⎜  C⋅R        2⎟         ⎜  C⋅R        2⎟                                     \n",
       "⎜- ──── + C₁⋅R ⎟ + R + s⋅⎜- ──── + C₁⋅R ⎟                                     \n",
       "⎝   4          ⎠         ⎝   4          ⎠                                     \n",
       "──────────────────────────────────────────────────────────────────────────────\n",
       "                               2                                              \n",
       "               ⎛     2        ⎞              ⎛     2        ⎞           ⎛     \n",
       "    2        3 ⎜  C⋅R        2⎟            2 ⎜  C⋅R        2⎟           ⎜  C⋅R\n",
       " C⋅R ⋅s - C⋅s ⋅⎜- ──── + C₁⋅R ⎟  + 2⋅C₁⋅R⋅s ⋅⎜- ──── + C₁⋅R ⎟ + R + 2⋅s⋅⎜- ───\n",
       "               ⎝   4          ⎠              ⎝   4          ⎠           ⎝   4 \n",
       "\n",
       "          \n",
       "          \n",
       "          \n",
       "          \n",
       "──────────\n",
       "          \n",
       "2        ⎞\n",
       "        2⎟\n",
       "─ + C₁⋅R ⎟\n",
       "         ⎠"
      ]
     },
     "execution_count": 15,
     "metadata": {},
     "output_type": "execute_result"
    }
   ],
   "source": [
    "H1_sym = H_sym.subs({L1:R**2*C/2, L2:R**2*C/2, M:R**2*C1-(R**2*C/2)/2})\n",
    "#H1_sym = H_sym.subs({L1:R**2*C/2, L2:R**2*C/2, M:3*C*R**2/4})\n",
    "H1_sym"
   ]
  },
  {
   "cell_type": "code",
   "execution_count": 16,
   "id": "3f1d58d3-6ac6-4ea4-a5cd-2f17eddc73aa",
   "metadata": {},
   "outputs": [
    {
     "data": {
      "image/png": "[encoded data removed]",
      "text/latex": [
       "$\\displaystyle \\frac{4 \\cdot \\left(4 C C_{1} R^{2} s^{2} + 2 C R s - 2 C_{1} R^{2} s^{2} \\left(C - 4 C_{1}\\right) - R s \\left(C - 4 C_{1}\\right) + 4\\right)}{4 C^{3} C_{1} R^{4} s^{4} + 4 C^{3} R^{3} s^{3} + 8 C^{2} R^{2} s^{2} - C C_{1} R^{4} s^{4} \\left(C - 4 C_{1}\\right)^{2} + 16 C C_{1} R^{2} s^{2} - C R^{3} s^{3} \\left(C - 4 C_{1}\\right)^{2} + 16 C R s - 8 C_{1} R^{2} s^{2} \\left(C - 4 C_{1}\\right) - 8 R s \\left(C - 4 C_{1}\\right) + 16}$"
      ],
      "text/plain": [
       "                                               ⎛        2  2                  \n",
       "                                             4⋅⎝4⋅C⋅C₁⋅R ⋅s  + 2⋅C⋅R⋅s - 2⋅C₁⋅\n",
       "──────────────────────────────────────────────────────────────────────────────\n",
       "   3     4  4      3  3  3      2  2  2         4  4           2            2 \n",
       "4⋅C ⋅C₁⋅R ⋅s  + 4⋅C ⋅R ⋅s  + 8⋅C ⋅R ⋅s  - C⋅C₁⋅R ⋅s ⋅(C - 4⋅C₁)  + 16⋅C⋅C₁⋅R ⋅\n",
       "\n",
       " 2  2                                ⎞                                        \n",
       "R ⋅s ⋅(C - 4⋅C₁) - R⋅s⋅(C - 4⋅C₁) + 4⎠                                        \n",
       "──────────────────────────────────────────────────────────────────────────────\n",
       " 2      3  3           2                    2  2                              \n",
       "s  - C⋅R ⋅s ⋅(C - 4⋅C₁)  + 16⋅C⋅R⋅s - 8⋅C₁⋅R ⋅s ⋅(C - 4⋅C₁) - 8⋅R⋅s⋅(C - 4⋅C₁)\n",
       "\n",
       "     \n",
       "     \n",
       "─────\n",
       "     \n",
       " + 16"
      ]
     },
     "execution_count": 16,
     "metadata": {},
     "output_type": "execute_result"
    }
   ],
   "source": [
    "H1_sym.simplify()"
   ]
  },
  {
   "cell_type": "code",
   "execution_count": 17,
   "id": "7f62ce65-9b1a-438e-8ee6-2e1013ef8aca",
   "metadata": {
    "tags": []
   },
   "outputs": [],
   "source": [
    "H1_sym_num, H1_sym_denom = fraction(H1_sym) #returns numerator and denominator"
   ]
  },
  {
   "cell_type": "code",
   "execution_count": 18,
   "id": "bc590ec8-fcb3-4a31-8306-364944b70aac",
   "metadata": {},
   "outputs": [
    {
     "data": {
      "image/png": "[encoded data removed]",
      "text/latex": [
       "$\\displaystyle \\frac{R \\left(s^{2} \\cdot \\left(2 C C_{1} R^{2} + 8 C_{1}^{2} R^{2}\\right) + s \\left(C R + 4 C_{1} R\\right) + 4\\right)}{4}$"
      ],
      "text/plain": [
       "  ⎛ 2 ⎛        2       2  2⎞                       ⎞\n",
       "R⋅⎝s ⋅⎝2⋅C⋅C₁⋅R  + 8⋅C₁ ⋅R ⎠ + s⋅(C⋅R + 4⋅C₁⋅R) + 4⎠\n",
       "────────────────────────────────────────────────────\n",
       "                         4                          "
      ]
     },
     "execution_count": 18,
     "metadata": {},
     "output_type": "execute_result"
    }
   ],
   "source": [
    "H1_sym_num.simplify().collect(s)"
   ]
  },
  {
   "cell_type": "code",
   "execution_count": 19,
   "id": "87740f91-2041-47ac-9b9f-49a18e38df72",
   "metadata": {},
   "outputs": [
    {
     "data": {
      "image/png": "[encoded data removed]",
      "text/latex": [
       "$\\displaystyle \\left[ \\frac{- C - 4 C_{1} - \\sqrt{\\left(C - 28 C_{1}\\right) \\left(C + 4 C_{1}\\right)}}{4 C_{1} R \\left(C + 4 C_{1}\\right)}, \\  \\frac{- C - 4 C_{1} + \\sqrt{\\left(C - 28 C_{1}\\right) \\left(C + 4 C_{1}\\right)}}{4 C_{1} R \\left(C + 4 C_{1}\\right)}\\right]$"
      ],
      "text/plain": [
       "⎡              ________________________                _______________________\n",
       "⎢-C - 4⋅C₁ - ╲╱ (C - 28⋅C₁)⋅(C + 4⋅C₁)   -C - 4⋅C₁ + ╲╱ (C - 28⋅C₁)⋅(C + 4⋅C₁)\n",
       "⎢──────────────────────────────────────, ─────────────────────────────────────\n",
       "⎣          4⋅C₁⋅R⋅(C + 4⋅C₁)                       4⋅C₁⋅R⋅(C + 4⋅C₁)          \n",
       "\n",
       "_⎤\n",
       " ⎥\n",
       "─⎥\n",
       " ⎦"
      ]
     },
     "execution_count": 19,
     "metadata": {},
     "output_type": "execute_result"
    }
   ],
   "source": [
    "H1_zeros = solve(H1_sym_num,s)\n",
    "H1_zeros"
   ]
  },
  {
   "cell_type": "code",
   "execution_count": 20,
   "id": "61cd6bb8-8526-4b88-8dc4-29967e66f93b",
   "metadata": {},
   "outputs": [
    {
     "data": {
      "image/png": "[encoded data removed]",
      "text/latex": [
       "$\\displaystyle \\left(s - \\frac{- C - 4 C_{1} - \\sqrt{\\left(C - 28 C_{1}\\right) \\left(C + 4 C_{1}\\right)}}{4 C_{1} R \\left(C + 4 C_{1}\\right)}\\right) \\left(s - \\frac{- C - 4 C_{1} + \\sqrt{\\left(C - 28 C_{1}\\right) \\left(C + 4 C_{1}\\right)}}{4 C_{1} R \\left(C + 4 C_{1}\\right)}\\right)$"
      ],
      "text/plain": [
       "⎛                  ________________________⎞ ⎛                  ______________\n",
       "⎜    -C - 4⋅C₁ - ╲╱ (C - 28⋅C₁)⋅(C + 4⋅C₁) ⎟ ⎜    -C - 4⋅C₁ + ╲╱ (C - 28⋅C₁)⋅(\n",
       "⎜s - ──────────────────────────────────────⎟⋅⎜s - ────────────────────────────\n",
       "⎝              4⋅C₁⋅R⋅(C + 4⋅C₁)           ⎠ ⎝              4⋅C₁⋅R⋅(C + 4⋅C₁) \n",
       "\n",
       "__________⎞\n",
       "C + 4⋅C₁) ⎟\n",
       "──────────⎟\n",
       "          ⎠"
      ]
     },
     "execution_count": 20,
     "metadata": {},
     "output_type": "execute_result"
    }
   ],
   "source": [
    "(s-H1_zeros[0])*(s-H1_zeros[1])"
   ]
  },
  {
   "cell_type": "code",
   "execution_count": 21,
   "id": "8639581f-1e87-40d3-ac6f-7d80d7c894b4",
   "metadata": {},
   "outputs": [
    {
     "data": {
      "image/png": "[encoded data removed]",
      "text/latex": [
       "$\\displaystyle \\frac{s^{2} \\left(C C_{1} R^{2} + 4 C_{1}^{2} R^{2}\\right) + s \\left(\\frac{C R}{2} + 2 C_{1} R\\right) + 2}{C_{1} R^{2} \\left(C + 4 C_{1}\\right)}$"
      ],
      "text/plain": [
       " 2 ⎛      2       2  2⎞     ⎛C⋅R         ⎞    \n",
       "s ⋅⎝C⋅C₁⋅R  + 4⋅C₁ ⋅R ⎠ + s⋅⎜─── + 2⋅C₁⋅R⎟ + 2\n",
       "                            ⎝ 2          ⎠    \n",
       "──────────────────────────────────────────────\n",
       "                   2                          \n",
       "               C₁⋅R ⋅(C + 4⋅C₁)               "
      ]
     },
     "execution_count": 21,
     "metadata": {},
     "output_type": "execute_result"
    }
   ],
   "source": [
    "((s-H1_zeros[0])*(s-H1_zeros[1])).simplify().collect(s) #.factor() #expand().collect(s)"
   ]
  },
  {
   "cell_type": "code",
   "execution_count": null,
   "id": "0da81927-9154-4789-ae4e-2a3032cdd1d8",
   "metadata": {},
   "outputs": [],
   "source": []
  },
  {
   "cell_type": "code",
   "execution_count": 22,
   "id": "d9c16583-4c94-4df6-a18b-c39c48e6aff4",
   "metadata": {},
   "outputs": [
    {
     "data": {
      "image/png": "[encoded data removed]",
      "text/latex": [
       "$\\displaystyle \\frac{C^{3} C_{1} R^{5} s^{4}}{4} + \\frac{C^{3} R^{4} s^{3}}{4} + \\frac{C^{2} R^{3} s^{2}}{2} + C C_{1} R^{3} s^{2} - C C_{1} R s^{4} \\left(- \\frac{C R^{2}}{4} + C_{1} R^{2}\\right)^{2} + C R^{2} s - C s^{3} \\left(- \\frac{C R^{2}}{4} + C_{1} R^{2}\\right)^{2} + 2 C_{1} R s^{2} \\left(- \\frac{C R^{2}}{4} + C_{1} R^{2}\\right) + R + 2 s \\left(- \\frac{C R^{2}}{4} + C_{1} R^{2}\\right)$"
      ],
      "text/plain": [
       "                                                                           2  \n",
       " 3     5  4    3  4  3    2  3  2                          ⎛     2        ⎞   \n",
       "C ⋅C₁⋅R ⋅s    C ⋅R ⋅s    C ⋅R ⋅s          3  2           4 ⎜  C⋅R        2⎟   \n",
       "─────────── + ──────── + ──────── + C⋅C₁⋅R ⋅s  - C⋅C₁⋅R⋅s ⋅⎜- ──── + C₁⋅R ⎟  +\n",
       "     4           4          2                              ⎝   4          ⎠   \n",
       "\n",
       "                               2                                              \n",
       "               ⎛     2        ⎞              ⎛     2        ⎞           ⎛     \n",
       "    2        3 ⎜  C⋅R        2⎟            2 ⎜  C⋅R        2⎟           ⎜  C⋅R\n",
       " C⋅R ⋅s - C⋅s ⋅⎜- ──── + C₁⋅R ⎟  + 2⋅C₁⋅R⋅s ⋅⎜- ──── + C₁⋅R ⎟ + R + 2⋅s⋅⎜- ───\n",
       "               ⎝   4          ⎠              ⎝   4          ⎠           ⎝   4 \n",
       "\n",
       "          \n",
       "2        ⎞\n",
       "        2⎟\n",
       "─ + C₁⋅R ⎟\n",
       "         ⎠"
      ]
     },
     "execution_count": 22,
     "metadata": {},
     "output_type": "execute_result"
    }
   ],
   "source": [
    "H1_sym_denom"
   ]
  },
  {
   "cell_type": "code",
   "execution_count": 23,
   "id": "8b5dcba1-7c46-4250-9e1c-d6f87ce93d45",
   "metadata": {},
   "outputs": [
    {
     "data": {
      "image/png": "[encoded data removed]",
      "text/latex": [
       "$\\displaystyle \\frac{C^{3} C_{1} R^{5} s^{4}}{4} + \\frac{C^{3} R^{4} s^{3}}{4} + \\frac{C^{2} R^{3} s^{2}}{2} - \\frac{C C_{1} R^{5} s^{4} \\left(C - 4 C_{1}\\right)^{2}}{16} + \\frac{C C_{1} R^{3} s^{2}}{2} - \\frac{C R^{4} s^{3} \\left(C - 4 C_{1}\\right)^{2}}{16} + \\frac{C R^{2} s}{2} + 2 C_{1}^{2} R^{3} s^{2} + 2 C_{1} R^{2} s + R$"
      ],
      "text/plain": [
       " 3     5  4    3  4  3    2  3  2         5  4           2         3  2      4\n",
       "C ⋅C₁⋅R ⋅s    C ⋅R ⋅s    C ⋅R ⋅s    C⋅C₁⋅R ⋅s ⋅(C - 4⋅C₁)    C⋅C₁⋅R ⋅s    C⋅R \n",
       "─────────── + ──────── + ──────── - ────────────────────── + ────────── - ────\n",
       "     4           4          2                 16                 2            \n",
       "\n",
       "  3           2      2                                \n",
       "⋅s ⋅(C - 4⋅C₁)    C⋅R ⋅s       2  3  2         2      \n",
       "─────────────── + ────── + 2⋅C₁ ⋅R ⋅s  + 2⋅C₁⋅R ⋅s + R\n",
       "     16             2                                 "
      ]
     },
     "execution_count": 23,
     "metadata": {},
     "output_type": "execute_result"
    }
   ],
   "source": [
    "H1_sym_denom.simplify()"
   ]
  },
  {
   "cell_type": "code",
   "execution_count": 24,
   "id": "a5692efb-90e6-41bc-8fc6-a4a5b91be306",
   "metadata": {},
   "outputs": [
    {
     "data": {
      "image/png": "[encoded data removed]",
      "text/latex": [
       "$\\displaystyle \\frac{R \\left(3 C^{3} C_{1} R^{4} s^{4} + 3 C^{3} R^{3} s^{3} + 8 C^{2} C_{1}^{2} R^{4} s^{4} + 8 C^{2} C_{1} R^{3} s^{3} + 8 C^{2} R^{2} s^{2} - 16 C C_{1}^{3} R^{4} s^{4} - 16 C C_{1}^{2} R^{3} s^{3} + 8 C C_{1} R^{2} s^{2} + 8 C R s + 32 C_{1}^{2} R^{2} s^{2} + 32 C_{1} R s + 16\\right)}{16}$"
      ],
      "text/plain": [
       "  ⎛   3     4  4      3  3  3      2   2  4  4      2     3  3      2  2  2   \n",
       "R⋅⎝3⋅C ⋅C₁⋅R ⋅s  + 3⋅C ⋅R ⋅s  + 8⋅C ⋅C₁ ⋅R ⋅s  + 8⋅C ⋅C₁⋅R ⋅s  + 8⋅C ⋅R ⋅s  - \n",
       "──────────────────────────────────────────────────────────────────────────────\n",
       "                                                                              \n",
       "\n",
       "       3  4  4          2  3  3           2  2                  2  2  2       \n",
       "16⋅C⋅C₁ ⋅R ⋅s  - 16⋅C⋅C₁ ⋅R ⋅s  + 8⋅C⋅C₁⋅R ⋅s  + 8⋅C⋅R⋅s + 32⋅C₁ ⋅R ⋅s  + 32⋅C\n",
       "──────────────────────────────────────────────────────────────────────────────\n",
       "     16                                                                       \n",
       "\n",
       "          ⎞\n",
       "₁⋅R⋅s + 16⎠\n",
       "───────────\n",
       "           "
      ]
     },
     "execution_count": 24,
     "metadata": {},
     "output_type": "execute_result"
    }
   ],
   "source": [
    "H1_sym_denom.factor()"
   ]
  },
  {
   "cell_type": "code",
   "execution_count": 25,
   "id": "46d9e4a9-4149-4061-a6aa-8175d2138f1f",
   "metadata": {},
   "outputs": [
    {
     "data": {
      "text/markdown": [
       "<p>$a_4=\\frac{C^{3} C_{1} R^{5}}{4} - C C_{1} R \\left(- \\frac{C R^{2}}{4} + C_{1} R^{2}\\right)^{2}$</p><p>$a_3=\\frac{C^{3} R^{4}}{4} - C \\left(- \\frac{C R^{2}}{4} + C_{1} R^{2}\\right)^{2}$</p><p>$a_2=\\frac{C^{2} R^{3}}{2} + C C_{1} R^{3} + 2 C_{1} R \\left(- \\frac{C R^{2}}{4} + C_{1} R^{2}\\right)$</p><p>$a_1=\\frac{C R^{2}}{2} + 2 C_{1} R^{2}$</p><p>$a_0=R$</p>"
      ],
      "text/plain": [
       "<IPython.core.display.Markdown object>"
      ]
     },
     "execution_count": 25,
     "metadata": {},
     "output_type": "execute_result"
    }
   ],
   "source": [
    "a4 = H1_sym_denom.coeff(s**4)\n",
    "a3 = H1_sym_denom.coeff(s**3)\n",
    "a2 = H1_sym_denom.coeff(s**2)\n",
    "a1 = H1_sym_denom.coeff(s**1)\n",
    "a0 = (H1_sym_denom - a1*s*1 - a2*s**2 - a3*s**3 - a4*s**4).expand()\n",
    "Markdown('<p>$a_4={:s}$</p><p>$a_3={:s}$</p><p>$a_2={:s}$</p><p>$a_1={:s}$</p><p>$a_0={:s}$</p>'.format(latex(a4),latex(a3),latex(a2),latex(a1),latex(a0)))"
   ]
  },
  {
   "cell_type": "code",
   "execution_count": null,
   "id": "79a758f1-6f49-494a-b169-b2b20ae8090f",
   "metadata": {},
   "outputs": [],
   "source": []
  },
  {
   "cell_type": "code",
   "execution_count": null,
   "id": "6a4adf37-bcde-4b3d-ad0f-df7bf77a11da",
   "metadata": {},
   "outputs": [],
   "source": []
  },
  {
   "cell_type": "markdown",
   "id": "c58961dc-ec11-4a83-8c45-c8d96de9edf2",
   "metadata": {},
   "source": [
    "## Circuit 1c\n",
    "The circuit in @fig-t-coil-1c is from Ross presentation\n",
    "\n",
    "This circuit seems to work, need to do a numerical example to finish the problem\n",
    "\n",
    "Did find references to mutual inductance t equalivent circuit. Need to review location of phasing dots on the inductors."
   ]
  },
  {
   "cell_type": "markdown",
   "id": "585b1c62-aacf-4ba8-a5fa-947043b70a12",
   "metadata": {},
   "source": [
    "![T coil ver 1c](T-coil-ver1c.png){#fig-t-coil-1c}\n",
    "\n",
    "This is simplified version of T-coil-ver1a. Following the Ross slides."
   ]
  },
  {
   "cell_type": "markdown",
   "id": "c50c7c94-1b60-4cf5-83d2-203d867eb818",
   "metadata": {},
   "source": [
    "### Network Equations\n",
    "The netlist for the schematic above was generated by LTSpice and copied into the cell below."
   ]
  },
  {
   "cell_type": "code",
   "execution_count": 477,
   "id": "02dbc1d7-900b-4b0a-b1d2-18f5441005df",
   "metadata": {},
   "outputs": [],
   "source": [
    "T_Coil_ver1a_net_list = '''\n",
    "* T-Coil-ver1c.asc\n",
    "V1 1 0 1\n",
    "L1 3 1 1\n",
    "L2 4 3 1\n",
    "C 2 0 1\n",
    "C1 4 1 1\n",
    "R 4 0 1\n",
    "L 3 2 1\n",
    "'''"
   ]
  },
  {
   "cell_type": "markdown",
   "id": "7e896625-dd4d-48b6-b502-090cc0d7f828",
   "metadata": {},
   "source": [
    "The MNA equations are generated from the function `SymMNA.smna`."
   ]
  },
  {
   "cell_type": "code",
   "execution_count": 478,
   "id": "f79aa770-da40-4299-9d05-94dc41e9778d",
   "metadata": {},
   "outputs": [],
   "source": [
    "report, network_df, i_unk_df, A, X, Z = SymMNA.smna(T_Coil_ver1a_net_list)"
   ]
  },
  {
   "cell_type": "markdown",
   "id": "af60b3a9-72af-48cc-bef6-419388c23924",
   "metadata": {},
   "source": [
    "The code below assembles the network equations from the MNA matrices and displays the equations."
   ]
  },
  {
   "cell_type": "code",
   "execution_count": 479,
   "id": "a5975fa6-942e-442c-9dc1-90db89fb85a7",
   "metadata": {},
   "outputs": [
    {
     "data": {
      "text/markdown": [
       "$0 = C_{1} s v_{1} - C_{1} s v_{4} - I_{L1} + I_{V1}$<br>$0 = C s v_{2} - I_{L}$<br>$0 = I_{L} + I_{L1} - I_{L2}$<br>$0 = - C_{1} s v_{1} + I_{L2} + v_{4} \\left(C_{1} s + \\frac{1}{R}\\right)$<br>$V_{1} = v_{1}$<br>$0 = - I_{L1} L_{1} s - v_{1} + v_{3}$<br>$0 = - I_{L2} L_{2} s - v_{3} + v_{4}$<br>$0 = - I_{L} L s - v_{2} + v_{3}$<br>"
      ],
      "text/plain": [
       "<IPython.core.display.Markdown object>"
      ]
     },
     "execution_count": 479,
     "metadata": {},
     "output_type": "execute_result"
    }
   ],
   "source": [
    "# Put matrices into SymPy \n",
    "X = Matrix(X)\n",
    "Z = Matrix(Z)\n",
    "\n",
    "NE_sym = Eq(A*X,Z)\n",
    "\n",
    "# display the equations\n",
    "temp = ''\n",
    "for i in range(shape(NE_sym.lhs)[0]):\n",
    "    temp += '${:s} = {:s}$<br>'.format(latex(NE_sym.rhs[i]),latex(NE_sym.lhs[i]))\n",
    "Markdown(temp)"
   ]
  },
  {
   "cell_type": "markdown",
   "id": "2e7a31f3-a685-4b19-a081-91dc2e2ef6ab",
   "metadata": {},
   "source": [
    "The free symbols are entered as SymPy variables and the element values are put into a dictionary."
   ]
  },
  {
   "cell_type": "code",
   "execution_count": 480,
   "id": "cb6754a7-a54a-476f-afb1-c7b6c4593946",
   "metadata": {},
   "outputs": [],
   "source": [
    "var(str(NE_sym.free_symbols).replace('{','').replace('}',''))\n",
    "element_values = SymMNA.get_part_values(network_df)"
   ]
  },
  {
   "cell_type": "markdown",
   "id": "2f3b64e4-103c-4378-a508-6d73648ae35d",
   "metadata": {},
   "source": [
    "### Symbolic solution\n",
    "The network equations for the circuit in @fig-wien_bridge_loop_gain_sch can be solved symbolically. "
   ]
  },
  {
   "cell_type": "code",
   "execution_count": 481,
   "id": "ed0c7970-af82-4ba2-bcd8-ae239d844d20",
   "metadata": {},
   "outputs": [],
   "source": [
    "U_sym = solve(NE_sym,X)"
   ]
  },
  {
   "cell_type": "markdown",
   "id": "f9ae6fdb-4d7f-46a1-a2ac-bc28acea325a",
   "metadata": {},
   "source": [
    "Display the node voltages and dependent currents using symbolic notation."
   ]
  },
  {
   "cell_type": "code",
   "execution_count": 482,
   "id": "2d4a5f09-b84e-4bea-94f9-2bb2b64bee3a",
   "metadata": {},
   "outputs": [
    {
     "data": {
      "text/markdown": [
       "$v_{1} = V_{1}$<br>$v_{2} = \\frac{C_{1} L_{1} R V_{1} s^{2} + C_{1} L_{2} R V_{1} s^{2} + L_{2} V_{1} s + R V_{1}}{C C_{1} L L_{1} R s^{4} + C C_{1} L L_{2} R s^{4} + C C_{1} L_{1} L_{2} R s^{4} + C L L_{1} s^{3} + C L L_{2} s^{3} + C L R s^{2} + C L_{1} L_{2} s^{3} + C L_{1} R s^{2} + C_{1} L_{1} R s^{2} + C_{1} L_{2} R s^{2} + L_{1} s + L_{2} s + R}$<br>$v_{3} = \\frac{C C_{1} L L_{1} R V_{1} s^{4} + C C_{1} L L_{2} R V_{1} s^{4} + C L L_{2} V_{1} s^{3} + C L R V_{1} s^{2} + C_{1} L_{1} R V_{1} s^{2} + C_{1} L_{2} R V_{1} s^{2} + L_{2} V_{1} s + R V_{1}}{C C_{1} L L_{1} R s^{4} + C C_{1} L L_{2} R s^{4} + C C_{1} L_{1} L_{2} R s^{4} + C L L_{1} s^{3} + C L L_{2} s^{3} + C L R s^{2} + C L_{1} L_{2} s^{3} + C L_{1} R s^{2} + C_{1} L_{1} R s^{2} + C_{1} L_{2} R s^{2} + L_{1} s + L_{2} s + R}$<br>$v_{4} = \\frac{C C_{1} L L_{1} R V_{1} s^{4} + C C_{1} L L_{2} R V_{1} s^{4} + C C_{1} L_{1} L_{2} R V_{1} s^{4} + C L R V_{1} s^{2} + C_{1} L_{1} R V_{1} s^{2} + C_{1} L_{2} R V_{1} s^{2} + R V_{1}}{C C_{1} L L_{1} R s^{4} + C C_{1} L L_{2} R s^{4} + C C_{1} L_{1} L_{2} R s^{4} + C L L_{1} s^{3} + C L L_{2} s^{3} + C L R s^{2} + C L_{1} L_{2} s^{3} + C L_{1} R s^{2} + C_{1} L_{1} R s^{2} + C_{1} L_{2} R s^{2} + L_{1} s + L_{2} s + R}$<br>$I_{V1} = \\frac{- C C_{1} L L_{1} V_{1} s^{4} - C C_{1} L L_{2} V_{1} s^{4} - C C_{1} L_{1} L_{2} V_{1} s^{4} - C C_{1} L_{1} R V_{1} s^{3} - C C_{1} L_{2} R V_{1} s^{3} - C L V_{1} s^{2} - C L_{2} V_{1} s^{2} - C R V_{1} s - C_{1} L_{1} V_{1} s^{2} - C_{1} L_{2} V_{1} s^{2} - V_{1}}{C C_{1} L L_{1} R s^{4} + C C_{1} L L_{2} R s^{4} + C C_{1} L_{1} L_{2} R s^{4} + C L L_{1} s^{3} + C L L_{2} s^{3} + C L R s^{2} + C L_{1} L_{2} s^{3} + C L_{1} R s^{2} + C_{1} L_{1} R s^{2} + C_{1} L_{2} R s^{2} + L_{1} s + L_{2} s + R}$<br>$I_{L1} = \\frac{- C C_{1} L_{2} R V_{1} s^{3} - C L V_{1} s^{2} - C L_{2} V_{1} s^{2} - C R V_{1} s - V_{1}}{C C_{1} L L_{1} R s^{4} + C C_{1} L L_{2} R s^{4} + C C_{1} L_{1} L_{2} R s^{4} + C L L_{1} s^{3} + C L L_{2} s^{3} + C L R s^{2} + C L_{1} L_{2} s^{3} + C L_{1} R s^{2} + C_{1} L_{1} R s^{2} + C_{1} L_{2} R s^{2} + L_{1} s + L_{2} s + R}$<br>$I_{L2} = \\frac{C C_{1} L_{1} R V_{1} s^{3} - C L V_{1} s^{2} - V_{1}}{C C_{1} L L_{1} R s^{4} + C C_{1} L L_{2} R s^{4} + C C_{1} L_{1} L_{2} R s^{4} + C L L_{1} s^{3} + C L L_{2} s^{3} + C L R s^{2} + C L_{1} L_{2} s^{3} + C L_{1} R s^{2} + C_{1} L_{1} R s^{2} + C_{1} L_{2} R s^{2} + L_{1} s + L_{2} s + R}$<br>$I_{L} = \\frac{C C_{1} L_{1} R V_{1} s^{3} + C C_{1} L_{2} R V_{1} s^{3} + C L_{2} V_{1} s^{2} + C R V_{1} s}{C C_{1} L L_{1} R s^{4} + C C_{1} L L_{2} R s^{4} + C C_{1} L_{1} L_{2} R s^{4} + C L L_{1} s^{3} + C L L_{2} s^{3} + C L R s^{2} + C L_{1} L_{2} s^{3} + C L_{1} R s^{2} + C_{1} L_{1} R s^{2} + C_{1} L_{2} R s^{2} + L_{1} s + L_{2} s + R}$<br>"
      ],
      "text/plain": [
       "<IPython.core.display.Markdown object>"
      ]
     },
     "execution_count": 482,
     "metadata": {},
     "output_type": "execute_result"
    }
   ],
   "source": [
    "temp = ''\n",
    "for i in U_sym.keys():\n",
    "    temp += '${:s} = {:s}$<br>'.format(latex(i),latex(U_sym[i]))\n",
    "\n",
    "Markdown(temp)"
   ]
  },
  {
   "cell_type": "markdown",
   "id": "3cd45ed8-2075-4008-9fab-329f033595f2",
   "metadata": {},
   "source": [
    "The network transfer function, $H(s)=\\frac {v_2(s)}{v_1(s)}$ is:"
   ]
  },
  {
   "cell_type": "code",
   "execution_count": 483,
   "id": "d96785f8-54e9-493f-93f2-3d64548a3a65",
   "metadata": {},
   "outputs": [
    {
     "data": {
      "text/markdown": [
       "$H(s)=\\frac{C_{1} L_{1} R s^{2} + C_{1} L_{2} R s^{2} + L_{2} s + R}{C C_{1} L L_{1} R s^{4} + C C_{1} L L_{2} R s^{4} + C C_{1} L_{1} L_{2} R s^{4} + C L L_{1} s^{3} + C L L_{2} s^{3} + C L R s^{2} + C L_{1} L_{2} s^{3} + C L_{1} R s^{2} + C_{1} L_{1} R s^{2} + C_{1} L_{2} R s^{2} + L_{1} s + L_{2} s + R}$"
      ],
      "text/plain": [
       "<IPython.core.display.Markdown object>"
      ]
     },
     "execution_count": 483,
     "metadata": {},
     "output_type": "execute_result"
    }
   ],
   "source": [
    "H_sym = (U_sym[v2]/U_sym[v1]).cancel()\n",
    "Markdown('$H(s)={:s}$'.format(latex(H_sym)))"
   ]
  },
  {
   "cell_type": "markdown",
   "id": "22cd5797-5181-4655-9963-2ae9098e7b11",
   "metadata": {},
   "source": [
    "The numerator is a second order polynomial and the denominator is a fourth order polynomial.\n",
    "\n",
    "Generally, the order of the dominator is equal to the number of reactive elements in the circuit; sometimes roots of the numerator will exactly cancel with a root of the denominator polynomial. \n",
    "\n",
    "The roots of the numerator polynomial are called the zeros of the transfer function and the roots of the denominator are called the poles of the transfer function."
   ]
  },
  {
   "cell_type": "code",
   "execution_count": 484,
   "id": "c272aea7-b35e-49d6-b66f-0ac007a519d0",
   "metadata": {
    "tags": []
   },
   "outputs": [],
   "source": [
    "H_sym_num, H_sym_denom = fraction(H_sym) #returns numerator and denominator"
   ]
  },
  {
   "cell_type": "markdown",
   "id": "45aee00d-aea1-4687-b27e-826a53d9fa2b",
   "metadata": {},
   "source": [
    "#### Numerator Polynomial of $H_{sym}(s)$\n",
    "The numerator polynomial is:"
   ]
  },
  {
   "cell_type": "code",
   "execution_count": 485,
   "id": "21cbc007-3d35-491f-a8a6-c8c65f6b480c",
   "metadata": {},
   "outputs": [
    {
     "data": {
      "text/markdown": [
       "$N(s)=C_{1} L_{1} R s^{2} + C_{1} L_{2} R s^{2} + L_{2} s + R$"
      ],
      "text/plain": [
       "<IPython.core.display.Markdown object>"
      ]
     },
     "execution_count": 485,
     "metadata": {},
     "output_type": "execute_result"
    }
   ],
   "source": [
    "Markdown('$N(s)={:s}$'.format(latex(H_sym_num)))"
   ]
  },
  {
   "cell_type": "markdown",
   "id": "8196f7c5-de77-438f-acce-97c442c29573",
   "metadata": {},
   "source": [
    "The coefficients of each Laplace term can be equated to the variables $b_2$, $b_1$ and $b_0$ in the expression: \n",
    "\n",
    "$b_2s^{2}+b_1s+b_0$\n",
    "\n",
    "where $b_2$, $b_1$ and $b_0$ are:"
   ]
  },
  {
   "cell_type": "code",
   "execution_count": 486,
   "id": "d151f954-57cd-4782-b104-c9689ae0482b",
   "metadata": {},
   "outputs": [
    {
     "data": {
      "text/markdown": [
       "<p>$b_2=C_{1} L_{1} R + C_{1} L_{2} R$</p><p>$b_1=L_{2}$</p><p>$b_0=R$</p>"
      ],
      "text/plain": [
       "<IPython.core.display.Markdown object>"
      ]
     },
     "execution_count": 486,
     "metadata": {},
     "output_type": "execute_result"
    }
   ],
   "source": [
    "b2 = H_sym_num.coeff(s**2)\n",
    "b1 = H_sym_num.coeff(s**1)\n",
    "b0 = (H_sym_num - b1*s*1 - b2*s**2).expand()\n",
    "\n",
    "Markdown('<p>$b_2={:s}$</p><p>$b_1={:s}$</p><p>$b_0={:s}$</p>'.format(latex(b2),latex(b1),latex(b0)))"
   ]
  },
  {
   "cell_type": "code",
   "execution_count": 487,
   "id": "a51d5630-5d30-492a-ba7c-a90885db0044",
   "metadata": {},
   "outputs": [
    {
     "data": {
      "image/png": "[encoded data removed]",
      "text/latex": [
       "$\\displaystyle \\left[ \\frac{- L_{2} - \\sqrt{- 4 C_{1} L_{1} R^{2} - 4 C_{1} L_{2} R^{2} + L_{2}^{2}}}{2 C_{1} R \\left(L_{1} + L_{2}\\right)}, \\  \\frac{- L_{2} + \\sqrt{- 4 C_{1} L_{1} R^{2} - 4 C_{1} L_{2} R^{2} + L_{2}^{2}}}{2 C_{1} R \\left(L_{1} + L_{2}\\right)}\\right]$"
      ],
      "text/plain": [
       "⎡         _________________________________           ________________________\n",
       "⎢        ╱            2            2     2           ╱            2           \n",
       "⎢-L₂ - ╲╱  - 4⋅C₁⋅L₁⋅R  - 4⋅C₁⋅L₂⋅R  + L₂    -L₂ + ╲╱  - 4⋅C₁⋅L₁⋅R  - 4⋅C₁⋅L₂⋅\n",
       "⎢──────────────────────────────────────────, ─────────────────────────────────\n",
       "⎣             2⋅C₁⋅R⋅(L₁ + L₂)                            2⋅C₁⋅R⋅(L₁ + L₂)    \n",
       "\n",
       "_________⎤\n",
       " 2     2 ⎥\n",
       "R  + L₂  ⎥\n",
       "─────────⎥\n",
       "         ⎦"
      ]
     },
     "execution_count": 487,
     "metadata": {},
     "output_type": "execute_result"
    }
   ],
   "source": [
    "H_zeros = solve(H_sym_num,s)\n",
    "H_zeros"
   ]
  },
  {
   "cell_type": "markdown",
   "id": "f158221a-4837-47ea-9fa3-0006b51f57b8",
   "metadata": {},
   "source": [
    "#### Denominator Polynomial of $H_{sym}(s)$\n",
    "The denominator polynomial is:"
   ]
  },
  {
   "cell_type": "code",
   "execution_count": 488,
   "id": "feec1962-1095-4d35-bb1e-6714d85389ed",
   "metadata": {},
   "outputs": [
    {
     "data": {
      "text/markdown": [
       "$D(s)=C C_{1} L L_{1} R s^{4} + C C_{1} L L_{2} R s^{4} + C C_{1} L_{1} L_{2} R s^{4} + C L L_{1} s^{3} + C L L_{2} s^{3} + C L R s^{2} + C L_{1} L_{2} s^{3} + C L_{1} R s^{2} + C_{1} L_{1} R s^{2} + C_{1} L_{2} R s^{2} + L_{1} s + L_{2} s + R$"
      ],
      "text/plain": [
       "<IPython.core.display.Markdown object>"
      ]
     },
     "execution_count": 488,
     "metadata": {},
     "output_type": "execute_result"
    }
   ],
   "source": [
    "Markdown('$D(s)={:s}$'.format(latex(H_sym_denom)))"
   ]
  },
  {
   "cell_type": "markdown",
   "id": "9fb020d2-5634-4396-a4a9-ece9944e06a6",
   "metadata": {},
   "source": [
    "The coefficients of each Laplace term can be equated to the variables $a_3$, $a_2$, $a_1$ and $a_0$ in the expression: \n",
    "\n",
    "$a_4s^4+a_3s^3+a_2s^2+a_1s+a_0$\n",
    "\n",
    "where $a_4$, $a_3$, $a_2$, $a_1$ and $a_0$ are:"
   ]
  },
  {
   "cell_type": "code",
   "execution_count": 489,
   "id": "07b4848f-49ff-4051-adc4-cb20a0392141",
   "metadata": {},
   "outputs": [
    {
     "data": {
      "text/markdown": [
       "<p>$a_4=C C_{1} L L_{1} R + C C_{1} L L_{2} R + C C_{1} L_{1} L_{2} R$</p><p>$a_3=C L L_{1} + C L L_{2} + C L_{1} L_{2}$</p><p>$a_2=C L R + C L_{1} R + C_{1} L_{1} R + C_{1} L_{2} R$</p><p>$a_1=L_{1} + L_{2}$</p><p>$a_0=R$</p>"
      ],
      "text/plain": [
       "<IPython.core.display.Markdown object>"
      ]
     },
     "execution_count": 489,
     "metadata": {},
     "output_type": "execute_result"
    }
   ],
   "source": [
    "a4 = H_sym_denom.coeff(s**4)\n",
    "a3 = H_sym_denom.coeff(s**3)\n",
    "a2 = H_sym_denom.coeff(s**2)\n",
    "a1 = H_sym_denom.coeff(s**1)\n",
    "a0 = (H_sym_denom - a1*s*1 - a2*s**2 - a3*s**3 - a4*s**4).expand()\n",
    "Markdown('<p>$a_4={:s}$</p><p>$a_3={:s}$</p><p>$a_2={:s}$</p><p>$a_1={:s}$</p><p>$a_0={:s}$</p>'.format(latex(a4),latex(a3),latex(a2),latex(a1),latex(a0)))"
   ]
  },
  {
   "cell_type": "markdown",
   "id": "f41d3b85-1122-46ff-b25c-8678d27e9806",
   "metadata": {},
   "source": [
    "Complicated transfer function ..."
   ]
  },
  {
   "cell_type": "code",
   "execution_count": null,
   "id": "71f45c59-70e8-4eb8-a33e-29c0a0378e08",
   "metadata": {},
   "outputs": [],
   "source": []
  },
  {
   "cell_type": "markdown",
   "id": "ad715dcf-0bec-44ba-9b1e-3d5a0c946d89",
   "metadata": {},
   "source": [
    "### The math works below here\n",
    "\n",
    "Using these substitutions from Ross's presentation.\n",
    "\n",
    "$L_1 = L_2 = L = \\frac {R^2C}{2}$\n",
    "\n",
    "\n",
    "$M = R^2C_1-\\frac {L}{2} = R^2C_1-\\frac {\\frac {R^2C}{2}}{2}$\n",
    "\n",
    "#### Need to work on how these were derived."
   ]
  },
  {
   "cell_type": "code",
   "execution_count": 490,
   "id": "dff9d487-362e-4dd0-a18a-cf260e0b0e8c",
   "metadata": {},
   "outputs": [
    {
     "data": {
      "image/png": "[encoded data removed]",
      "text/latex": [
       "$\\displaystyle \\frac{C R^{2}}{2}$"
      ],
      "text/plain": [
       "   2\n",
       "C⋅R \n",
       "────\n",
       " 2  "
      ]
     },
     "execution_count": 490,
     "metadata": {},
     "output_type": "execute_result"
    }
   ],
   "source": [
    "R**2*C/2"
   ]
  },
  {
   "cell_type": "code",
   "execution_count": 491,
   "id": "8c329511-3ea3-4db2-8b9a-8414c9ebe1cc",
   "metadata": {},
   "outputs": [
    {
     "data": {
      "image/png": "[encoded data removed]",
      "text/latex": [
       "$\\displaystyle C_{1} R^{2} - \\frac{L}{2}$"
      ],
      "text/plain": [
       "    2   L\n",
       "C₁⋅R  - ─\n",
       "        2"
      ]
     },
     "execution_count": 491,
     "metadata": {},
     "output_type": "execute_result"
    }
   ],
   "source": [
    "R**2*C1-L/2"
   ]
  },
  {
   "cell_type": "code",
   "execution_count": 492,
   "id": "3e47c282-97fc-4f5f-87b1-5eee0d995eef",
   "metadata": {},
   "outputs": [
    {
     "data": {
      "image/png": "[encoded data removed]",
      "text/latex": [
       "$\\displaystyle - \\frac{C R^{2}}{4} + C_{1} R^{2}$"
      ],
      "text/plain": [
       "     2        \n",
       "  C⋅R        2\n",
       "- ──── + C₁⋅R \n",
       "   4          "
      ]
     },
     "execution_count": 492,
     "metadata": {},
     "output_type": "execute_result"
    }
   ],
   "source": [
    "R**2*C1-(R**2*C/2)/2"
   ]
  },
  {
   "cell_type": "code",
   "execution_count": 493,
   "id": "706e3db8-876a-442e-8779-4aba588ae654",
   "metadata": {},
   "outputs": [
    {
     "data": {
      "image/png": "[encoded data removed]",
      "text/latex": [
       "$\\displaystyle \\frac{C C_{1} R^{3} s^{2} + \\frac{C R^{2} s}{2} + R}{\\frac{C^{3} C_{1} R^{5} s^{4}}{4} + \\frac{C^{3} R^{4} s^{3}}{4} + C^{2} C_{1} R^{3} s^{4} \\left(- \\frac{C R^{2}}{4} + C_{1} R^{2}\\right) + \\frac{C^{2} R^{3} s^{2}}{2} + C^{2} R^{2} s^{3} \\left(- \\frac{C R^{2}}{4} + C_{1} R^{2}\\right) + C C_{1} R^{3} s^{2} + C R^{2} s + C R s^{2} \\left(- \\frac{C R^{2}}{4} + C_{1} R^{2}\\right) + R}$"
      ],
      "text/plain": [
       "                                                                            2 \n",
       "                                                                  3  2   C⋅R ⋅\n",
       "                                                            C⋅C₁⋅R ⋅s  + ─────\n",
       "                                                                           2  \n",
       "──────────────────────────────────────────────────────────────────────────────\n",
       " 3     5  4    3  4  3               ⎛     2        ⎞    2  3  2            ⎛ \n",
       "C ⋅C₁⋅R ⋅s    C ⋅R ⋅s     2     3  4 ⎜  C⋅R        2⎟   C ⋅R ⋅s     2  2  3 ⎜ \n",
       "─────────── + ──────── + C ⋅C₁⋅R ⋅s ⋅⎜- ──── + C₁⋅R ⎟ + ──────── + C ⋅R ⋅s ⋅⎜-\n",
       "     4           4                   ⎝   4          ⎠      2                ⎝ \n",
       "\n",
       "                                                                  \n",
       "s                                                                 \n",
       "─ + R                                                             \n",
       "                                                                  \n",
       "──────────────────────────────────────────────────────────────────\n",
       "    2        ⎞                                ⎛     2        ⎞    \n",
       " C⋅R        2⎟         3  2      2          2 ⎜  C⋅R        2⎟    \n",
       " ──── + C₁⋅R ⎟ + C⋅C₁⋅R ⋅s  + C⋅R ⋅s + C⋅R⋅s ⋅⎜- ──── + C₁⋅R ⎟ + R\n",
       "  4          ⎠                                ⎝   4          ⎠    "
      ]
     },
     "execution_count": 493,
     "metadata": {},
     "output_type": "execute_result"
    }
   ],
   "source": [
    "H1_sym = H_sym.subs({L1:R**2*C/2, L2:R**2*C/2, L:R**2*C1-(R**2*C/2)/2})\n",
    "H1_sym"
   ]
  },
  {
   "cell_type": "code",
   "execution_count": 494,
   "id": "7bdd2380-9c2b-4cba-adfc-d28d1588cc1c",
   "metadata": {},
   "outputs": [
    {
     "data": {
      "image/png": "[encoded data removed]",
      "text/latex": [
       "$\\displaystyle \\frac{2}{2 C C_{1} R^{2} s^{2} + C R s + 2}$"
      ],
      "text/plain": [
       "           2            \n",
       "────────────────────────\n",
       "        2  2            \n",
       "2⋅C⋅C₁⋅R ⋅s  + C⋅R⋅s + 2"
      ]
     },
     "execution_count": 494,
     "metadata": {},
     "output_type": "execute_result"
    }
   ],
   "source": [
    "H1_sym.simplify()"
   ]
  },
  {
   "cell_type": "code",
   "execution_count": 495,
   "id": "a6ff1d5d-6a09-4e9f-9f69-f730f1297a48",
   "metadata": {
    "tags": []
   },
   "outputs": [],
   "source": [
    "H1_sym_num, H1_sym_denom = fraction(H1_sym.simplify()) #returns numerator and denominator"
   ]
  },
  {
   "cell_type": "code",
   "execution_count": 496,
   "id": "062df72f-4349-4cb1-bcff-9607c5369fca",
   "metadata": {},
   "outputs": [
    {
     "data": {
      "image/png": "[encoded data removed]",
      "text/latex": [
       "$\\displaystyle 2$"
      ],
      "text/plain": [
       "2"
      ]
     },
     "execution_count": 496,
     "metadata": {},
     "output_type": "execute_result"
    }
   ],
   "source": [
    "H1_sym_num.simplify().collect(s)"
   ]
  },
  {
   "cell_type": "code",
   "execution_count": null,
   "id": "5742f297-5c20-4f03-8a52-3cc2124b45b8",
   "metadata": {},
   "outputs": [],
   "source": []
  },
  {
   "cell_type": "code",
   "execution_count": 497,
   "id": "a0af7a34-b2f9-4a3f-92ae-70a50cda1675",
   "metadata": {},
   "outputs": [
    {
     "data": {
      "text/markdown": [
       "<p>$a_4=0$</p><p>$a_3=0$</p><p>$a_2=2 C C_{1} R^{2}$</p><p>$a_1=C R$</p><p>$a_0=2$</p>"
      ],
      "text/plain": [
       "<IPython.core.display.Markdown object>"
      ]
     },
     "execution_count": 497,
     "metadata": {},
     "output_type": "execute_result"
    }
   ],
   "source": [
    "a4 = H1_sym_denom.coeff(s**4)\n",
    "a3 = H1_sym_denom.coeff(s**3)\n",
    "a2 = H1_sym_denom.coeff(s**2)\n",
    "a1 = H1_sym_denom.coeff(s**1)\n",
    "a0 = (H1_sym_denom - a1*s*1 - a2*s**2 - a3*s**3 - a4*s**4).expand()\n",
    "Markdown('<p>$a_4={:s}$</p><p>$a_3={:s}$</p><p>$a_2={:s}$</p><p>$a_1={:s}$</p><p>$a_0={:s}$</p>'.format(latex(a4),latex(a3),latex(a2),latex(a1),latex(a0)))"
   ]
  },
  {
   "cell_type": "markdown",
   "id": "c4d4095f-d596-428f-a701-cee00f555108",
   "metadata": {},
   "source": [
    "Restate demoninator interms of $\\omega_n$ and $\\zeta$. Select $\\zeta$ and solve for component values.\n",
    "\n",
    "## Numerical Example\n",
    "Given a load The load capacitance, design the bridge T-coil circuit. "
   ]
  },
  {
   "cell_type": "code",
   "execution_count": null,
   "id": "20c41500-282c-4c91-aef8-c7f6ed8ff111",
   "metadata": {},
   "outputs": [],
   "source": []
  },
  {
   "cell_type": "code",
   "execution_count": null,
   "id": "5fa87806-e6fd-4c9b-b053-e2e293ffd00c",
   "metadata": {},
   "outputs": [],
   "source": []
  },
  {
   "cell_type": "code",
   "execution_count": null,
   "id": "ce14d389-b977-4ecc-8dd6-23ad18a99114",
   "metadata": {},
   "outputs": [],
   "source": []
  },
  {
   "cell_type": "markdown",
   "id": "65669000-2acd-4168-96c9-2b68d68e2e56",
   "metadata": {},
   "source": [
    "## Continuation\n",
    "\n",
    "\n",
    "* **Dealing with Parasitic Capacitances:** In high-speed integrated circuits (ICs), parasitic capacitances (unwanted capacitances that naturally occur in components and interconnections) can severely limit the circuit's operating frequency. T-coils are incorporated on-chip to counteract these parasitic effects and maintain performance.\n",
    "* **Constant Input Impedance (Constant-R Networks):** Bridged T-coils can be designed to maintain a nearly constant input impedance over a wide frequency range. This is very important for impedance matching, preventing signal reflections, and allowing for cascading of multiple circuits without degradation.\n",
    "* **Electrostatic Discharge (ESD) Protection:** T-coils are also used in ESD protection circuits, as they can effectively match the impedance of ESD devices over a broad band, ensuring robust protection without compromising high-frequency performance.\n",
    "* **Historical Significance:** The concept of the T-coil dates back to 1948 and was famously used by Tektronix engineers in their wideband oscilloscope amplifiers in the 1960s, with design details being guarded as a trade secret for many years due to their significant performance advantage.\n",
    "\n",
    "\n",
    "## Bandwidth Enhancement\n",
    "This is its primary and most significant application. T-coils can extend the signal bandwidth of a circuit by a significantly greater factor than traditional inductive peaking techniques. This is crucial for high-speed data transmission where preserving signal integrity over a wide range of frequencies is essential.\n",
    "\n",
    "\n",
    "## Constant Input Impedance (Constant-R Networks)\n",
    "Bridged T-coils can be designed to maintain a nearly constant input impedance over a wide frequency range. This is very important for impedance matching, preventing signal reflections, and allowing for cascading of multiple circuits without degradation.\n",
    "\n",
    "## Electrostatic Discharge (ESD) Protection\n",
    "T-coils are also used in ESD protection circuits, as they can effectively match the impedance of ESD devices over a broad band, ensuring robust protection without compromising high-frequency performance.\n",
    "\n",
    "\n",
    "\n",
    "![T coil ver 2](T-coil-ver2.png){#fig-t-coil2}  \n",
    "\n",
    "From: @Razavi2015\n",
    "\n",
    "change V1 to current source.\n",
    "\n",
    "\n",
    "```\n",
    "* C:\\users\\jeff64\\My Documents\\T-Coil\\T-Coil-ver2.asc\n",
    "V1 1 0 1\n",
    "L1 2 1 1 Rser=0\n",
    "L2 3 2 1 Rser=0\n",
    "R1 4 3 1\n",
    "C1 3 1 1\n",
    "C2 2 0 1\n",
    "V2 4 0 1\n",
    ".op\n",
    "K1 L1 L2 0.5\n",
    "* ;.ac list 1\n",
    ".backanno\n",
    ".end\n",
    "\n",
    "```"
   ]
  },
  {
   "cell_type": "code",
   "execution_count": null,
   "id": "99f3f00c-c0bd-4553-b44c-ac039d5c4612",
   "metadata": {},
   "outputs": [],
   "source": []
  },
  {
   "cell_type": "markdown",
   "id": "9dbf0f01-77eb-4183-9055-7128ee024e15",
   "metadata": {},
   "source": [
    "### Circuit 3\n",
    "\n",
    "![T coil ver 3](T-coil-ver3.png){#fig-t-coil3}  \n",
    "\n",
    "From: @Razavi2015\n",
    "\n",
    "\n",
    "```\n",
    "* C:\\users\\jeff64\\My Documents\\T-Coil\\T-Coil-ver3.asc\n",
    "V1 1 0 1\n",
    "L1 2 1 1 Rser=0\n",
    "L2 3 2 1 Rser=0\n",
    "C1 2 0 1\n",
    "C2 3 1 1\n",
    "R1 3 0 1\n",
    "K1 L1 L2 0.5\n",
    ".op\n",
    ".backanno\n",
    ".end\n",
    "```"
   ]
  },
  {
   "cell_type": "raw",
   "id": "e1b1ca5f-df7b-4e69-994a-ce7b0dbe8041",
   "metadata": {},
   "source": [
    "NE1_sym.free_symbols"
   ]
  },
  {
   "cell_type": "raw",
   "id": "c801441c-5d2e-43d7-9f4f-6f22a1b840a0",
   "metadata": {},
   "source": [
    "U1_sym.free_symbols"
   ]
  },
  {
   "cell_type": "raw",
   "id": "91e49039-fcea-44d3-9447-ffbe579df0c0",
   "metadata": {},
   "source": [
    "from sympy import *"
   ]
  },
  {
   "cell_type": "raw",
   "id": "d8f1a7c1-544d-4948-9a68-1b757ec2c835",
   "metadata": {},
   "source": [
    "globals().keys()"
   ]
  },
  {
   "cell_type": "raw",
   "id": "3ce590bb-5bad-47cf-914d-c8366ea19ba2",
   "metadata": {},
   "source": [
    "vars()"
   ]
  },
  {
   "cell_type": "raw",
   "id": "13969aeb-42e3-4591-a091-0362f836b14d",
   "metadata": {},
   "source": [
    "for z0 in U1_sym.free_symbols:\n",
    "    del globals()[z0]"
   ]
  },
  {
   "cell_type": "markdown",
   "id": "87b8274f-e362-4264-a189-30b37d067f1a",
   "metadata": {
    "tags": []
   },
   "source": [
    "### Load the netlist\n",
    "The netlist generated by LTSpice is pasted into the cell below and some edits were made to remove the inductor series resistance and the independent sources are set to their DC values."
   ]
  },
  {
   "cell_type": "code",
   "execution_count": 43,
   "id": "cf50fd68-7819-4ffb-b85e-78872f14d1a0",
   "metadata": {},
   "outputs": [],
   "source": [
    "net_list3 = '''\n",
    "V1 1 0 1\n",
    "L1 2 1 1 \n",
    "L2 3 2 1 \n",
    "C1 2 0 1\n",
    "C2 3 1 1\n",
    "R1 3 0 1\n",
    "K1 L1 L2 0.5\n",
    "'''"
   ]
  },
  {
   "cell_type": "markdown",
   "id": "f682706c-4773-4a7e-b4b2-c6829e6a41c1",
   "metadata": {},
   "source": [
    "Generate the network equations."
   ]
  },
  {
   "cell_type": "code",
   "execution_count": 44,
   "id": "1e427289-e8e7-4c7d-bb1c-a5c107af1447",
   "metadata": {},
   "outputs": [],
   "source": [
    "report, network3_df, network3_df2, A, X, Z = SymMNA.smna(net_list3)\n",
    "\n",
    "# Put matricies into SymPy \n",
    "X = Matrix(X)\n",
    "Z = Matrix(Z)\n",
    "\n",
    "NE3_sym = Eq(A*X,Z)"
   ]
  },
  {
   "cell_type": "markdown",
   "id": "d5930afa-defd-4d37-ab40-4aad216fa249",
   "metadata": {},
   "source": [
    "Generate markdown text to display the network equations."
   ]
  },
  {
   "cell_type": "code",
   "execution_count": 45,
   "id": "c58ad5ac-b5d8-42b7-9c99-ab9b7f46333d",
   "metadata": {},
   "outputs": [
    {
     "data": {
      "text/markdown": [
       "$C_{2} s v_{1} - C_{2} s v_{3} - I_{L1} + I_{V1} = 0$<br>$C_{1} s v_{2} + I_{L1} - I_{L2} = 0$<br>$- C_{2} s v_{1} + I_{L2} + v_{3} \\left(C_{2} s + \\frac{1}{R_{1}}\\right) = 0$<br>$v_{1} = V_{1}$<br>$- I_{L1} L_{1} s - I_{L2} M_{1} s - v_{1} + v_{2} = 0$<br>$- I_{L1} M_{1} s - I_{L2} L_{2} s - v_{2} + v_{3} = 0$<br>"
      ],
      "text/plain": [
       "<IPython.core.display.Markdown object>"
      ]
     },
     "execution_count": 45,
     "metadata": {},
     "output_type": "execute_result"
    }
   ],
   "source": [
    "temp = ''\n",
    "for i in range(len(X)):\n",
    "    temp += '${:s}$<br>'.format(latex(Eq((A*X)[i:i+1][0],Z[i])))\n",
    "\n",
    "Markdown(temp)"
   ]
  },
  {
   "cell_type": "markdown",
   "id": "e571f6ad-bfdd-4089-9e0a-97ebe45e61e2",
   "metadata": {},
   "source": [
    "As shown above MNA generated many equations and these would be difficult to solve by hand and a symbolic soultion would take a lot of computing time. The equations are displace in matrix notation."
   ]
  },
  {
   "cell_type": "code",
   "execution_count": 46,
   "id": "3b1a5d9d-8d1c-4ef6-9aec-7baa1a09ae0f",
   "metadata": {},
   "outputs": [
    {
     "data": {
      "text/latex": [
       "$\\displaystyle \\left[\\begin{matrix}C_{2} s v_{1} - C_{2} s v_{3} - I_{L1} + I_{V1}\\\\C_{1} s v_{2} + I_{L1} - I_{L2}\\\\- C_{2} s v_{1} + I_{L2} + v_{3} \\left(C_{2} s + \\frac{1}{R_{1}}\\right)\\\\v_{1}\\\\- I_{L1} L_{1} s - I_{L2} M_{1} s - v_{1} + v_{2}\\\\- I_{L1} M_{1} s - I_{L2} L_{2} s - v_{2} + v_{3}\\end{matrix}\\right] = \\left[\\begin{matrix}0\\\\0\\\\0\\\\V_{1}\\\\0\\\\0\\end{matrix}\\right]$"
      ],
      "text/plain": [
       "⎡C₂⋅s⋅v₁ - C₂⋅s⋅v₃ - I_L1 + I_V1 ⎤       \n",
       "⎢                                ⎥   ⎡0 ⎤\n",
       "⎢     C₁⋅s⋅v₂ + I_L1 - I_L2      ⎥   ⎢  ⎥\n",
       "⎢                                ⎥   ⎢0 ⎥\n",
       "⎢                     ⎛       1 ⎞⎥   ⎢  ⎥\n",
       "⎢-C₂⋅s⋅v₁ + I_L2 + v₃⋅⎜C₂⋅s + ──⎟⎥   ⎢0 ⎥\n",
       "⎢                     ⎝       R₁⎠⎥ = ⎢  ⎥\n",
       "⎢                                ⎥   ⎢V₁⎥\n",
       "⎢               v₁               ⎥   ⎢  ⎥\n",
       "⎢                                ⎥   ⎢0 ⎥\n",
       "⎢-I_L1⋅L₁⋅s - I_L2⋅M₁⋅s - v₁ + v₂⎥   ⎢  ⎥\n",
       "⎢                                ⎥   ⎣0 ⎦\n",
       "⎣-I_L1⋅M₁⋅s - I_L2⋅L₂⋅s - v₂ + v₃⎦       "
      ]
     },
     "execution_count": 46,
     "metadata": {},
     "output_type": "execute_result"
    }
   ],
   "source": [
    "NE3_sym"
   ]
  },
  {
   "cell_type": "markdown",
   "id": "a6c78c2f-6c9a-4833-8aff-daefa9ee1ec1",
   "metadata": {},
   "source": [
    "The symbols generated by the Python code are extraced by the SymPy function free_symbols and then declared as SymPy variables. "
   ]
  },
  {
   "cell_type": "code",
   "execution_count": 47,
   "id": "4e8c47b7-6335-4526-84c0-6fc8a772b71a",
   "metadata": {},
   "outputs": [
    {
     "data": {
      "image/png": "[encoded data removed]",
      "text/latex": [
       "$\\displaystyle \\left( L_{2}, \\  I_{L1}, \\  L_{1}, \\  V_{1}, \\  I_{L2}, \\  M_{1}, \\  R_{1}, \\  C_{1}, \\  v_{1}, \\  I_{V1}, \\  s, \\  v_{2}, \\  v_{3}, \\  C_{2}\\right)$"
      ],
      "text/plain": [
       "(L₂, I_L1, L₁, V₁, I_L2, M₁, R₁, C₁, v₁, I_V1, s, v₂, v₃, C₂)"
      ]
     },
     "execution_count": 47,
     "metadata": {},
     "output_type": "execute_result"
    }
   ],
   "source": [
    "# turn the free symbols into SymPy variables\n",
    "var(str(NE3_sym.free_symbols).replace('{','').replace('}',''))"
   ]
  },
  {
   "cell_type": "markdown",
   "id": "6c9a9a8c-c664-466f-9713-675cb4c53a62",
   "metadata": {},
   "source": [
    "Built a dictionary of element values."
   ]
  },
  {
   "cell_type": "code",
   "execution_count": 48,
   "id": "8316a37d-1af2-4784-99c8-9a30928d5455",
   "metadata": {},
   "outputs": [
    {
     "data": {
      "image/png": "[encoded data removed]",
      "text/latex": [
       "$\\displaystyle \\left\\{ C_{1} : 1.0, \\  C_{2} : 1.0, \\  K_{1} : 0.5, \\  L_{1} : 1.0, \\  L_{2} : 1.0, \\  R_{1} : 1.0, \\  V_{1} : 1.0\\right\\}$"
      ],
      "text/plain": [
       "{C₁: 1.0, C₂: 1.0, K₁: 0.5, L₁: 1.0, L₂: 1.0, R₁: 1.0, V₁: 1.0}"
      ]
     },
     "execution_count": 48,
     "metadata": {},
     "output_type": "execute_result"
    }
   ],
   "source": [
    "element_values = SymMNA.get_part_values(network3_df)\n",
    "element_values"
   ]
  },
  {
   "cell_type": "markdown",
   "id": "682c0fbf-53bb-4bd7-9d8c-5134608ac616",
   "metadata": {},
   "source": [
    "Generate the symbolic solution"
   ]
  },
  {
   "cell_type": "code",
   "execution_count": 49,
   "id": "bd5854f7-5613-4d71-91e2-e33ae4675fcf",
   "metadata": {},
   "outputs": [],
   "source": [
    "U3_sym = solve(NE3_sym,X)"
   ]
  },
  {
   "cell_type": "markdown",
   "id": "8c710b4f-c5e4-4aac-a135-1bbb26a5ff4c",
   "metadata": {},
   "source": [
    "Display the symbolic solution"
   ]
  },
  {
   "cell_type": "code",
   "execution_count": 50,
   "id": "1e8cc778-7944-43d5-98db-66cc241b5985",
   "metadata": {},
   "outputs": [
    {
     "data": {
      "text/markdown": [
       "$v_{1} = V_{1}$<br>$v_{2} = \\frac{C_{2} L_{1} R_{1} V_{1} s^{2} + C_{2} L_{2} R_{1} V_{1} s^{2} + 2 C_{2} M_{1} R_{1} V_{1} s^{2} + L_{2} V_{1} s + M_{1} V_{1} s + R_{1} V_{1}}{C_{1} C_{2} L_{1} L_{2} R_{1} s^{4} - C_{1} C_{2} M_{1}^{2} R_{1} s^{4} + C_{1} L_{1} L_{2} s^{3} + C_{1} L_{1} R_{1} s^{2} - C_{1} M_{1}^{2} s^{3} + C_{2} L_{1} R_{1} s^{2} + C_{2} L_{2} R_{1} s^{2} + 2 C_{2} M_{1} R_{1} s^{2} + L_{1} s + L_{2} s + 2 M_{1} s + R_{1}}$<br>$v_{3} = \\frac{C_{1} C_{2} L_{1} L_{2} R_{1} V_{1} s^{4} - C_{1} C_{2} M_{1}^{2} R_{1} V_{1} s^{4} - C_{1} M_{1} R_{1} V_{1} s^{2} + C_{2} L_{1} R_{1} V_{1} s^{2} + C_{2} L_{2} R_{1} V_{1} s^{2} + 2 C_{2} M_{1} R_{1} V_{1} s^{2} + R_{1} V_{1}}{C_{1} C_{2} L_{1} L_{2} R_{1} s^{4} - C_{1} C_{2} M_{1}^{2} R_{1} s^{4} + C_{1} L_{1} L_{2} s^{3} + C_{1} L_{1} R_{1} s^{2} - C_{1} M_{1}^{2} s^{3} + C_{2} L_{1} R_{1} s^{2} + C_{2} L_{2} R_{1} s^{2} + 2 C_{2} M_{1} R_{1} s^{2} + L_{1} s + L_{2} s + 2 M_{1} s + R_{1}}$<br>$I_{V1} = \\frac{- C_{1} C_{2} L_{1} L_{2} V_{1} s^{4} - C_{1} C_{2} L_{1} R_{1} V_{1} s^{3} - C_{1} C_{2} L_{2} R_{1} V_{1} s^{3} + C_{1} C_{2} M_{1}^{2} V_{1} s^{4} - 2 C_{1} C_{2} M_{1} R_{1} V_{1} s^{3} - C_{1} L_{2} V_{1} s^{2} - C_{1} R_{1} V_{1} s - C_{2} L_{1} V_{1} s^{2} - C_{2} L_{2} V_{1} s^{2} - 2 C_{2} M_{1} V_{1} s^{2} - V_{1}}{C_{1} C_{2} L_{1} L_{2} R_{1} s^{4} - C_{1} C_{2} M_{1}^{2} R_{1} s^{4} + C_{1} L_{1} L_{2} s^{3} + C_{1} L_{1} R_{1} s^{2} - C_{1} M_{1}^{2} s^{3} + C_{2} L_{1} R_{1} s^{2} + C_{2} L_{2} R_{1} s^{2} + 2 C_{2} M_{1} R_{1} s^{2} + L_{1} s + L_{2} s + 2 M_{1} s + R_{1}}$<br>$I_{L1} = \\frac{- C_{1} C_{2} L_{2} R_{1} V_{1} s^{3} - C_{1} C_{2} M_{1} R_{1} V_{1} s^{3} - C_{1} L_{2} V_{1} s^{2} - C_{1} R_{1} V_{1} s - V_{1}}{C_{1} C_{2} L_{1} L_{2} R_{1} s^{4} - C_{1} C_{2} M_{1}^{2} R_{1} s^{4} + C_{1} L_{1} L_{2} s^{3} + C_{1} L_{1} R_{1} s^{2} - C_{1} M_{1}^{2} s^{3} + C_{2} L_{1} R_{1} s^{2} + C_{2} L_{2} R_{1} s^{2} + 2 C_{2} M_{1} R_{1} s^{2} + L_{1} s + L_{2} s + 2 M_{1} s + R_{1}}$<br>$I_{L2} = \\frac{C_{1} C_{2} L_{1} R_{1} V_{1} s^{3} + C_{1} C_{2} M_{1} R_{1} V_{1} s^{3} + C_{1} M_{1} V_{1} s^{2} - V_{1}}{C_{1} C_{2} L_{1} L_{2} R_{1} s^{4} - C_{1} C_{2} M_{1}^{2} R_{1} s^{4} + C_{1} L_{1} L_{2} s^{3} + C_{1} L_{1} R_{1} s^{2} - C_{1} M_{1}^{2} s^{3} + C_{2} L_{1} R_{1} s^{2} + C_{2} L_{2} R_{1} s^{2} + 2 C_{2} M_{1} R_{1} s^{2} + L_{1} s + L_{2} s + 2 M_{1} s + R_{1}}$<br>"
      ],
      "text/plain": [
       "<IPython.core.display.Markdown object>"
      ]
     },
     "execution_count": 50,
     "metadata": {},
     "output_type": "execute_result"
    }
   ],
   "source": [
    "temp = ''\n",
    "for i in U3_sym.keys():\n",
    "    temp += '${:s} = {:s}$<br>'.format(latex(i),latex(U3_sym[i]))\n",
    "\n",
    "Markdown(temp)"
   ]
  },
  {
   "cell_type": "code",
   "execution_count": 51,
   "id": "8004e2f9-6db5-43c0-a0bc-a4bd09f47e5d",
   "metadata": {},
   "outputs": [],
   "source": [
    "H3_sym = (U3_sym[v3]/U3_sym[v1]).simplify()"
   ]
  },
  {
   "cell_type": "code",
   "execution_count": 52,
   "id": "d267042b-f638-42f3-9304-b71038222f7c",
   "metadata": {},
   "outputs": [
    {
     "data": {
      "image/png": "[encoded data removed]",
      "text/latex": [
       "$\\displaystyle \\frac{R_{1} + s^{4} \\left(C_{1} C_{2} L_{1} L_{2} R_{1} - C_{1} C_{2} M_{1}^{2} R_{1}\\right) + s^{2} \\left(- C_{1} M_{1} R_{1} + C_{2} L_{1} R_{1} + C_{2} L_{2} R_{1} + 2 C_{2} M_{1} R_{1}\\right)}{R_{1} + s^{4} \\left(C_{1} C_{2} L_{1} L_{2} R_{1} - C_{1} C_{2} M_{1}^{2} R_{1}\\right) + s^{3} \\left(C_{1} L_{1} L_{2} - C_{1} M_{1}^{2}\\right) + s^{2} \\left(C_{1} L_{1} R_{1} + C_{2} L_{1} R_{1} + C_{2} L_{2} R_{1} + 2 C_{2} M_{1} R_{1}\\right) + s \\left(L_{1} + L_{2} + 2 M_{1}\\right)}$"
      ],
      "text/plain": [
       "                            4 ⎛                         2   ⎞    2            \n",
       "                      R₁ + s ⋅⎝C₁⋅C₂⋅L₁⋅L₂⋅R₁ - C₁⋅C₂⋅M₁ ⋅R₁⎠ + s ⋅(-C₁⋅M₁⋅R₁ \n",
       "──────────────────────────────────────────────────────────────────────────────\n",
       "      4 ⎛                         2   ⎞    3 ⎛                2⎞    2         \n",
       "R₁ + s ⋅⎝C₁⋅C₂⋅L₁⋅L₂⋅R₁ - C₁⋅C₂⋅M₁ ⋅R₁⎠ + s ⋅⎝C₁⋅L₁⋅L₂ - C₁⋅M₁ ⎠ + s ⋅(C₁⋅L₁⋅R\n",
       "\n",
       "                                                          \n",
       "+ C₂⋅L₁⋅R₁ + C₂⋅L₂⋅R₁ + 2⋅C₂⋅M₁⋅R₁)                       \n",
       "──────────────────────────────────────────────────────────\n",
       "                                                          \n",
       "₁ + C₂⋅L₁⋅R₁ + C₂⋅L₂⋅R₁ + 2⋅C₂⋅M₁⋅R₁) + s⋅(L₁ + L₂ + 2⋅M₁)"
      ]
     },
     "execution_count": 52,
     "metadata": {},
     "output_type": "execute_result"
    }
   ],
   "source": [
    "cancel(H3_sym,s)"
   ]
  },
  {
   "cell_type": "code",
   "execution_count": 53,
   "id": "a230237c-980c-42c0-a84a-2595c42ddbaf",
   "metadata": {
    "tags": []
   },
   "outputs": [],
   "source": [
    "sym3_num, sym3_denom = fraction(H3_sym,s) #returns numerator and denominator"
   ]
  },
  {
   "cell_type": "code",
   "execution_count": 61,
   "id": "4352fb4d-6ba0-4d28-8592-d5279d72a557",
   "metadata": {},
   "outputs": [
    {
     "data": {
      "image/png": "[encoded data removed]",
      "text/latex": [
       "$\\displaystyle R_{1} + s^{4} \\left(C_{1} C_{2} L_{1} L_{2} R_{1} - C_{1} C_{2} M_{1}^{2} R_{1}\\right) + s^{2} \\left(- C_{1} M_{1} R_{1} + C_{2} L_{1} R_{1} + C_{2} L_{2} R_{1} + 2 C_{2} M_{1} R_{1}\\right)$"
      ],
      "text/plain": [
       "      4 ⎛                         2   ⎞    2                                  \n",
       "R₁ + s ⋅⎝C₁⋅C₂⋅L₁⋅L₂⋅R₁ - C₁⋅C₂⋅M₁ ⋅R₁⎠ + s ⋅(-C₁⋅M₁⋅R₁ + C₂⋅L₁⋅R₁ + C₂⋅L₂⋅R₁ \n",
       "\n",
       "             \n",
       "+ 2⋅C₂⋅M₁⋅R₁)"
      ]
     },
     "execution_count": 61,
     "metadata": {},
     "output_type": "execute_result"
    }
   ],
   "source": [
    "cancel(sym3_num,s)"
   ]
  },
  {
   "cell_type": "code",
   "execution_count": 62,
   "id": "e8d6f784-9a47-4a1c-a41b-5ebd85656ac6",
   "metadata": {},
   "outputs": [
    {
     "data": {
      "image/png": "[encoded data removed]",
      "text/latex": [
       "$\\displaystyle R_{1} + s^{4} \\left(C_{1} C_{2} L_{1} L_{2} R_{1} - C_{1} C_{2} M_{1}^{2} R_{1}\\right) + s^{3} \\left(C_{1} L_{1} L_{2} - C_{1} M_{1}^{2}\\right) + s^{2} \\left(C_{1} L_{1} R_{1} + C_{2} L_{1} R_{1} + C_{2} L_{2} R_{1} + 2 C_{2} M_{1} R_{1}\\right) + s \\left(L_{1} + L_{2} + 2 M_{1}\\right)$"
      ],
      "text/plain": [
       "      4 ⎛                         2   ⎞    3 ⎛                2⎞    2         \n",
       "R₁ + s ⋅⎝C₁⋅C₂⋅L₁⋅L₂⋅R₁ - C₁⋅C₂⋅M₁ ⋅R₁⎠ + s ⋅⎝C₁⋅L₁⋅L₂ - C₁⋅M₁ ⎠ + s ⋅(C₁⋅L₁⋅R\n",
       "\n",
       "                                                          \n",
       "₁ + C₂⋅L₁⋅R₁ + C₂⋅L₂⋅R₁ + 2⋅C₂⋅M₁⋅R₁) + s⋅(L₁ + L₂ + 2⋅M₁)"
      ]
     },
     "execution_count": 62,
     "metadata": {},
     "output_type": "execute_result"
    }
   ],
   "source": [
    "cancel(sym3_denom,s)"
   ]
  },
  {
   "cell_type": "code",
   "execution_count": null,
   "id": "c09b80a2-258f-4adb-aac7-69be0877368f",
   "metadata": {},
   "outputs": [],
   "source": []
  },
  {
   "cell_type": "code",
   "execution_count": null,
   "id": "04514fbb-f4be-4e2a-a40e-b3593f805b57",
   "metadata": {},
   "outputs": [],
   "source": []
  },
  {
   "cell_type": "code",
   "execution_count": null,
   "id": "6a80053d-0476-448f-8936-a4f7728cf311",
   "metadata": {},
   "outputs": [],
   "source": []
  },
  {
   "cell_type": "markdown",
   "id": "52fac291-d388-493a-bbb4-bae3d71a34c9",
   "metadata": {},
   "source": [
    "### Circuit 4\n",
    "\n",
    "![T coil ver 4](T-coil-ver4.png){#fig-t-coil4}  \n",
    "\n",
    "From: @Razavi2015\n",
    "\n",
    "\n",
    "```\n",
    "* C:\\users\\jeff64\\My Documents\\T-Coil\\T-Coil-ver4.asc\n",
    "L1 1 2 1 Rser=0\n",
    "L2 3 1 1 Rser=0\n",
    "R1 4 3 1\n",
    "C1 3 2 1\n",
    "V2 4 0 1\n",
    "I1 1 0 1\n",
    "R2 2 0 1\n",
    "C2 1 0 1\n",
    ".op\n",
    "K1 L1 L2 0.5\n",
    "* ;.ac list 1\n",
    ".backanno\n",
    ".end\n",
    "\n",
    "```"
   ]
  },
  {
   "cell_type": "code",
   "execution_count": null,
   "id": "05b29303-6790-47a4-b2e0-c60eb88e64a6",
   "metadata": {},
   "outputs": [],
   "source": []
  },
  {
   "cell_type": "code",
   "execution_count": null,
   "id": "4c65d64d-8a1f-4a6e-96ef-11565019a2c7",
   "metadata": {},
   "outputs": [],
   "source": []
  },
  {
   "cell_type": "markdown",
   "id": "8786bd06-1549-477c-96ab-b93a7cac01d0",
   "metadata": {},
   "source": [
    "## Summary\n",
    "  "
   ]
  },
  {
   "cell_type": "code",
   "execution_count": null,
   "id": "7f15a8d5-4b11-4f2a-9a68-38dc9e03e9a7",
   "metadata": {},
   "outputs": [],
   "source": []
  }
 ],
 "metadata": {
  "kernelspec": {
   "display_name": "Python 3 (ipykernel)",
   "language": "python",
   "name": "python3"
  },
  "language_info": {
   "codemirror_mode": {
    "name": "ipython",
    "version": 3
   },
   "file_extension": ".py",
   "mimetype": "text/x-python",
   "name": "python",
   "nbconvert_exporter": "python",
   "pygments_lexer": "ipython3",
   "version": "3.10.9"
  }
 },
 "nbformat": 4,
 "nbformat_minor": 5
}
