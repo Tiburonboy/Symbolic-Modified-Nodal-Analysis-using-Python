{
 "cells": [
  {
   "cell_type": "raw",
   "metadata": {},
   "source": [
    "---\n",
    "title: Chua’s circuit\n",
    "format: \n",
    "    html:\n",
    "        code-fold: false\n",
    "        embed-resources: true\n",
    "        code-tools: true\n",
    "jupyter: python3\n",
    "---"
   ]
  },
  {
   "cell_type": "markdown",
   "metadata": {},
   "source": [
    ":::{.callout-note}\n",
    "Last update: 3 Jan 2024  \n",
    "This page is a test post. The Jupyter notebook is a rough draft. This post is for testing only. Grammar and spelling checks have not been done.  \n",
    ":::"
   ]
  },
  {
   "cell_type": "markdown",
   "metadata": {},
   "source": [
    "# Chua’s circuit\n",
    "\n",
    "ToDo:  \n",
    "\n",
    "- fix folder and make LTSpice file  \n",
    "- fix this write up  \n",
    "- get research materials  \n",
    "\n",
    "Sections  \n",
    "\n",
    "- Abstract  \n",
    "- Intro  \n",
    "  - what is a [Chua's circuit](https://en.wikipedia.org/wiki/Chua's_circuit)?  \n",
    "\n",
    "[Leon O. Chua](https://en.wikipedia.org/wiki/Leon_O._Chua)  \n",
    "\n",
    "[Leon O. Chua](https://people.eecs.berkeley.edu/~chua/)  \n",
    "\n",
    "[Memristor](https://en.wikipedia.org/wiki/Memristor)\n",
    "\n",
    "get VI curve from /home/jeff32/Documents/Solving Electrical Engineering Problems with Python Blog/MNA Problem Circuits/Chua's circuit/Chua NL element part 1.asc\n",
    "\n",
    "get the data file and do a curve fit. \n"
   ]
  },
  {
   "cell_type": "code",
   "execution_count": 1,
   "metadata": {
    "collapsed": false,
    "jupyter": {
     "outputs_hidden": false
    }
   },
   "outputs": [],
   "source": [
    "import numpy as np\n",
    "from sympy import *\n",
    "from scipy import signal\n",
    "import matplotlib.pyplot as plt\n",
    "init_printing()"
   ]
  },
  {
   "cell_type": "markdown",
   "metadata": {},
   "source": [
    "## Circuit with elements only\n",
    "\n",
    "This schematic is chua1 at /home/jeff32/Documents/Solving Electrical Engineering Problems with Python Blog/MNA Problem Circuits/Chua's circuit/Chua1.asc"
   ]
  },
  {
   "cell_type": "markdown",
   "metadata": {},
   "source": [
    "![schematic](Chua's-circuit.png)"
   ]
  },
  {
   "cell_type": "markdown",
   "metadata": {},
   "source": [
    "~~~\n",
    "* Chua1.asc\n",
    "L1 1 0 18e-3\n",
    "C1 1 0 100e-9\n",
    "C2 2 0 10e-9\n",
    "R1 1 2 1770\n",
    "R2 2 0 1\n",
    "~~~\n",
    "\n",
    "$I_{L1} + v_{1} \\left(C_{1} s + \\frac{1}{R_{1}}\\right) - \\frac{v_{2}}{R_{1}} = 0$  \n",
    "$v_{2} \\left(C_{2} s + \\frac{1}{R_{2}} + \\frac{1}{R_{1}}\\right) - \\frac{v_{1}}{R_{1}} = 0$  \n",
    "$- I_{L1} L_{1} s + v_{1} = 0$  \n"
   ]
  },
  {
   "cell_type": "code",
   "execution_count": 50,
   "metadata": {},
   "outputs": [],
   "source": [
    "R1, R2, L1, C2, C1, v3, V1, I_L1, I_V1, v2, s, v1 = symbols(' R1  R2  L1  C2  C1  v3  V1  I_L1  I_V1  v2  s  v1 ')\n",
    "A = Matrix([[C1*s + 1/R1, -1/R1, 0, 0, 1], [-1/R1, C2*s + 1/R2 + 1/R1, -1/R2, 0, 0], [0, -1/R2, 1/R2, 1, 0], [0, 0, 1, 0, 0], [1, 0, 0, 0, -L1*s]])\n",
    "X = Matrix( [v1, v2, v3, I_V1, I_L1] )\n",
    "Z = Matrix( [0, 0, 0, V1, 0] )\n",
    "\n",
    "equ = Eq(A*X,Z)"
   ]
  },
  {
   "cell_type": "code",
   "execution_count": 51,
   "metadata": {},
   "outputs": [
    {
     "data": {
      "text/latex": [
       "$\\displaystyle \\left[\\begin{matrix}I_{L1} + v_{1} \\left(C_{1} s + \\frac{1}{R_{1}}\\right) - \\frac{v_{2}}{R_{1}}\\\\v_{2} \\left(C_{2} s + \\frac{1}{R_{2}} + \\frac{1}{R_{1}}\\right) - \\frac{v_{3}}{R_{2}} - \\frac{v_{1}}{R_{1}}\\\\I_{V1} - \\frac{v_{2}}{R_{2}} + \\frac{v_{3}}{R_{2}}\\\\v_{3}\\\\- I_{L1} L_{1} s + v_{1}\\end{matrix}\\right] = \\left[\\begin{matrix}0\\\\0\\\\0\\\\V_{1}\\\\0\\end{matrix}\\right]$"
      ],
      "text/plain": [
       "⎡           ⎛       1 ⎞   v₂  ⎤       \n",
       "⎢ I_L1 + v₁⋅⎜C₁⋅s + ──⎟ - ──  ⎥       \n",
       "⎢           ⎝       R₁⎠   R₁  ⎥       \n",
       "⎢                             ⎥   ⎡0 ⎤\n",
       "⎢   ⎛       1    1 ⎞   v₃   v₁⎥   ⎢  ⎥\n",
       "⎢v₂⋅⎜C₂⋅s + ── + ──⎟ - ── - ──⎥   ⎢0 ⎥\n",
       "⎢   ⎝       R₂   R₁⎠   R₂   R₁⎥   ⎢  ⎥\n",
       "⎢                             ⎥ = ⎢0 ⎥\n",
       "⎢              v₂   v₃        ⎥   ⎢  ⎥\n",
       "⎢       I_V1 - ── + ──        ⎥   ⎢V₁⎥\n",
       "⎢              R₂   R₂        ⎥   ⎢  ⎥\n",
       "⎢                             ⎥   ⎣0 ⎦\n",
       "⎢             v₃              ⎥       \n",
       "⎢                             ⎥       \n",
       "⎣       -I_L1⋅L₁⋅s + v₁       ⎦       "
      ]
     },
     "execution_count": 51,
     "metadata": {},
     "output_type": "execute_result"
    }
   ],
   "source": [
    "equ"
   ]
  },
  {
   "cell_type": "code",
   "execution_count": 52,
   "metadata": {},
   "outputs": [
    {
     "data": {
      "image/png": "[encoded data removed]",
      "text/latex": [
       "$\\displaystyle \\left\\{ I_{L1} : \\frac{V_{1}}{C_{1} C_{2} L_{1} R_{1} R_{2} s^{3} + C_{1} L_{1} R_{1} s^{2} + C_{1} L_{1} R_{2} s^{2} + C_{2} L_{1} R_{2} s^{2} + C_{2} R_{1} R_{2} s + L_{1} s + R_{1} + R_{2}}, \\  I_{V1} : \\frac{- C_{1} C_{2} L_{1} R_{1} V_{1} s^{3} - C_{1} L_{1} V_{1} s^{2} - C_{2} L_{1} V_{1} s^{2} - C_{2} R_{1} V_{1} s - V_{1}}{C_{1} C_{2} L_{1} R_{1} R_{2} s^{3} + C_{1} L_{1} R_{1} s^{2} + C_{1} L_{1} R_{2} s^{2} + C_{2} L_{1} R_{2} s^{2} + C_{2} R_{1} R_{2} s + L_{1} s + R_{1} + R_{2}}, \\  v_{1} : \\frac{L_{1} V_{1} s}{C_{1} C_{2} L_{1} R_{1} R_{2} s^{3} + C_{1} L_{1} R_{1} s^{2} + C_{1} L_{1} R_{2} s^{2} + C_{2} L_{1} R_{2} s^{2} + C_{2} R_{1} R_{2} s + L_{1} s + R_{1} + R_{2}}, \\  v_{2} : \\frac{C_{1} L_{1} R_{1} V_{1} s^{2} + L_{1} V_{1} s + R_{1} V_{1}}{C_{1} C_{2} L_{1} R_{1} R_{2} s^{3} + C_{1} L_{1} R_{1} s^{2} + C_{1} L_{1} R_{2} s^{2} + C_{2} L_{1} R_{2} s^{2} + C_{2} R_{1} R_{2} s + L_{1} s + R_{1} + R_{2}}, \\  v_{3} : V_{1}\\right\\}$"
      ],
      "text/plain": [
       "⎧                                                                             \n",
       "⎪                                                  V₁                         \n",
       "⎨I_L1: ───────────────────────────────────────────────────────────────────────\n",
       "⎪                      3             2             2             2            \n",
       "⎩      C₁⋅C₂⋅L₁⋅R₁⋅R₂⋅s  + C₁⋅L₁⋅R₁⋅s  + C₁⋅L₁⋅R₂⋅s  + C₂⋅L₁⋅R₂⋅s  + C₂⋅R₁⋅R₂⋅\n",
       "\n",
       "                                                        3             2       \n",
       "                                      - C₁⋅C₂⋅L₁⋅R₁⋅V₁⋅s  - C₁⋅L₁⋅V₁⋅s  - C₂⋅L\n",
       "──────────────────, I_V1: ────────────────────────────────────────────────────\n",
       "                                          3             2             2       \n",
       "s + L₁⋅s + R₁ + R₂        C₁⋅C₂⋅L₁⋅R₁⋅R₂⋅s  + C₁⋅L₁⋅R₁⋅s  + C₁⋅L₁⋅R₂⋅s  + C₂⋅L\n",
       "\n",
       "      2                                                                       \n",
       "₁⋅V₁⋅s  - C₂⋅R₁⋅V₁⋅s - V₁                                                     \n",
       "─────────────────────────────────────, v₁: ───────────────────────────────────\n",
       "      2                                                    3             2    \n",
       "₁⋅R₂⋅s  + C₂⋅R₁⋅R₂⋅s + L₁⋅s + R₁ + R₂      C₁⋅C₂⋅L₁⋅R₁⋅R₂⋅s  + C₁⋅L₁⋅R₁⋅s  + C\n",
       "\n",
       "                                                                              \n",
       "      L₁⋅V₁⋅s                                                                 \n",
       "──────────────────────────────────────────────────────, v₂: ──────────────────\n",
       "         2             2                                                    3 \n",
       "₁⋅L₁⋅R₂⋅s  + C₂⋅L₁⋅R₂⋅s  + C₂⋅R₁⋅R₂⋅s + L₁⋅s + R₁ + R₂      C₁⋅C₂⋅L₁⋅R₁⋅R₂⋅s  \n",
       "\n",
       "                        2                                                     \n",
       "           C₁⋅L₁⋅R₁⋅V₁⋅s  + L₁⋅V₁⋅s + R₁⋅V₁                                   \n",
       "───────────────────────────────────────────────────────────────────────, v₃: V\n",
       "            2             2             2                                     \n",
       "+ C₁⋅L₁⋅R₁⋅s  + C₁⋅L₁⋅R₂⋅s  + C₂⋅L₁⋅R₂⋅s  + C₂⋅R₁⋅R₂⋅s + L₁⋅s + R₁ + R₂       \n",
       "\n",
       " ⎫\n",
       " ⎪\n",
       "₁⎬\n",
       " ⎪\n",
       " ⎭"
      ]
     },
     "execution_count": 52,
     "metadata": {},
     "output_type": "execute_result"
    }
   ],
   "source": [
    "solve(equ,X)"
   ]
  },
  {
   "cell_type": "code",
   "execution_count": 53,
   "metadata": {},
   "outputs": [],
   "source": [
    "component_value = {\n",
    "V1:0.0000e+00,\n",
    "L1:1.8000e-02,\n",
    "C1:1.0000e-07,\n",
    "C2:1.0000e-08,\n",
    "R2:1.0000e+00\n",
    "}"
   ]
  },
  {
   "cell_type": "code",
   "execution_count": 54,
   "metadata": {},
   "outputs": [
    {
     "data": {
      "text/latex": [
       "$\\displaystyle \\left[\\begin{matrix}I_{L1} + v_{1} \\cdot \\left(1.0 \\cdot 10^{-7} s + \\frac{1}{R_{1}}\\right) - \\frac{v_{2}}{R_{1}}\\\\v_{2} \\cdot \\left(1.0 \\cdot 10^{-8} s + 1.0 + \\frac{1}{R_{1}}\\right) - 1.0 v_{3} - \\frac{v_{1}}{R_{1}}\\\\I_{V1} - 1.0 v_{2} + 1.0 v_{3}\\\\v_{3}\\\\- 0.018 I_{L1} s + v_{1}\\end{matrix}\\right] = \\left[\\begin{matrix}0\\\\0\\\\0\\\\0\\\\0\\end{matrix}\\right]$"
      ],
      "text/plain": [
       "⎡            ⎛           1 ⎞   v₂  ⎤      \n",
       "⎢  I_L1 + v₁⋅⎜1.0e-7⋅s + ──⎟ - ──  ⎥      \n",
       "⎢            ⎝           R₁⎠   R₁  ⎥   ⎡0⎤\n",
       "⎢                                  ⎥   ⎢ ⎥\n",
       "⎢   ⎛                 1 ⎞        v₁⎥   ⎢0⎥\n",
       "⎢v₂⋅⎜1.0e-8⋅s + 1.0 + ──⎟ - v₃ - ──⎥   ⎢ ⎥\n",
       "⎢   ⎝                 R₁⎠        R₁⎥ = ⎢0⎥\n",
       "⎢                                  ⎥   ⎢ ⎥\n",
       "⎢        I_V1 - v₂ + 1.0⋅v₃        ⎥   ⎢0⎥\n",
       "⎢                                  ⎥   ⎢ ⎥\n",
       "⎢                v₃                ⎥   ⎣0⎦\n",
       "⎢                                  ⎥      \n",
       "⎣        -0.018⋅I_L1⋅s + v₁        ⎦      "
      ]
     },
     "execution_count": 54,
     "metadata": {},
     "output_type": "execute_result"
    }
   ],
   "source": [
    "equ1 = equ.subs(component_value)\n",
    "equ1"
   ]
  },
  {
   "cell_type": "code",
   "execution_count": 55,
   "metadata": {},
   "outputs": [
    {
     "data": {
      "image/png": "[encoded data removed]",
      "text/latex": [
       "$\\displaystyle \\left\\{ I_{L1} : 0.0, \\  I_{V1} : 0.0, \\  v_{1} : 0.0, \\  v_{2} : 0.0, \\  v_{3} : 0.0\\right\\}$"
      ],
      "text/plain": [
       "{I_L1: 0.0, I_V1: 0.0, v₁: 0.0, v₂: 0.0, v₃: 0.0}"
      ]
     },
     "execution_count": 55,
     "metadata": {},
     "output_type": "execute_result"
    }
   ],
   "source": [
    "U = solve(equ1,X)\n",
    "U"
   ]
  },
  {
   "cell_type": "code",
   "execution_count": 49,
   "metadata": {},
   "outputs": [
    {
     "data": {
      "image/png": "[encoded data removed]",
      "text/latex": [
       "$\\displaystyle \\frac{- 9.0 \\cdot 10^{19} I_{1} s^{2} - 5.08474576271186 \\cdot 10^{23} I_{1} s - 5.0 \\cdot 10^{28} I_{1}}{900000000000.0 s^{3} + 5.59322033898305 \\cdot 10^{16} s^{2} + 5.0 \\cdot 10^{20} s + 2.82485875706215 \\cdot 10^{25}}$"
      ],
      "text/plain": [
       "                         2                                                    \n",
       "           - 9.0e+19⋅I₁⋅s  - 5.08474576271186e+23⋅I₁⋅s - 5.0e+28⋅I₁           \n",
       "──────────────────────────────────────────────────────────────────────────────\n",
       "                3                         2                                   \n",
       "900000000000.0⋅s  + 5.59322033898305e+16⋅s  + 5.0e+20⋅s + 2.82485875706215e+25"
      ]
     },
     "execution_count": 49,
     "metadata": {},
     "output_type": "execute_result"
    }
   ],
   "source": [
    "U[v2]"
   ]
  },
  {
   "cell_type": "code",
   "execution_count": null,
   "metadata": {},
   "outputs": [],
   "source": []
  },
  {
   "cell_type": "code",
   "execution_count": null,
   "metadata": {},
   "outputs": [],
   "source": []
  },
  {
   "cell_type": "code",
   "execution_count": 17,
   "metadata": {},
   "outputs": [],
   "source": [
    "s = symbols('s')\n",
    "t = symbols('t',positive=True)  # t > 0"
   ]
  },
  {
   "cell_type": "code",
   "execution_count": 48,
   "metadata": {},
   "outputs": [
    {
     "ename": "PolynomialError",
     "evalue": "RisingFactorial(_t + 1, 1.0) contains an element of the set of generators.",
     "output_type": "error",
     "traceback": [
      "\u001b[0;31m---------------------------------------------------------------------------\u001b[0m",
      "\u001b[0;31mKeyError\u001b[0m                                  Traceback (most recent call last)",
      "File \u001b[0;32m~/anaconda3/lib/python3.10/site-packages/sympy/polys/polyutils.py:211\u001b[0m, in \u001b[0;36m_parallel_dict_from_expr_if_gens\u001b[0;34m(exprs, opt)\u001b[0m\n\u001b[1;32m    209\u001b[0m         base, exp \u001b[38;5;241m=\u001b[39m decompose_power_rat(factor)\n\u001b[0;32m--> 211\u001b[0m     monom[\u001b[43mindices\u001b[49m\u001b[43m[\u001b[49m\u001b[43mbase\u001b[49m\u001b[43m]\u001b[49m] \u001b[38;5;241m=\u001b[39m exp\n\u001b[1;32m    212\u001b[0m \u001b[38;5;28;01mexcept\u001b[39;00m \u001b[38;5;167;01mKeyError\u001b[39;00m:\n",
      "\u001b[0;31mKeyError\u001b[0m: RisingFactorial(_t + 1, 1.0)",
      "\nDuring handling of the above exception, another exception occurred:\n",
      "\u001b[0;31mPolynomialError\u001b[0m                           Traceback (most recent call last)",
      "File \u001b[0;32m~/anaconda3/lib/python3.10/site-packages/sympy/polys/partfrac.py:81\u001b[0m, in \u001b[0;36mapart\u001b[0;34m(f, x, full, **options)\u001b[0m\n\u001b[1;32m     80\u001b[0m \u001b[38;5;28;01mtry\u001b[39;00m:\n\u001b[0;32m---> 81\u001b[0m     (P, Q), opt \u001b[38;5;241m=\u001b[39m \u001b[43mparallel_poly_from_expr\u001b[49m\u001b[43m(\u001b[49m\u001b[43m(\u001b[49m\u001b[43mP\u001b[49m\u001b[43m,\u001b[49m\u001b[43m \u001b[49m\u001b[43mQ\u001b[49m\u001b[43m)\u001b[49m\u001b[43m,\u001b[49m\u001b[43m \u001b[49m\u001b[43mx\u001b[49m\u001b[43m,\u001b[49m\u001b[43m \u001b[49m\u001b[38;5;241;43m*\u001b[39;49m\u001b[38;5;241;43m*\u001b[39;49m\u001b[43moptions\u001b[49m\u001b[43m)\u001b[49m\n\u001b[1;32m     82\u001b[0m \u001b[38;5;28;01mexcept\u001b[39;00m PolynomialError \u001b[38;5;28;01mas\u001b[39;00m msg:\n",
      "File \u001b[0;32m~/anaconda3/lib/python3.10/site-packages/sympy/polys/polytools.py:4411\u001b[0m, in \u001b[0;36mparallel_poly_from_expr\u001b[0;34m(exprs, *gens, **args)\u001b[0m\n\u001b[1;32m   4410\u001b[0m opt \u001b[38;5;241m=\u001b[39m options\u001b[38;5;241m.\u001b[39mbuild_options(gens, args)\n\u001b[0;32m-> 4411\u001b[0m \u001b[38;5;28;01mreturn\u001b[39;00m \u001b[43m_parallel_poly_from_expr\u001b[49m\u001b[43m(\u001b[49m\u001b[43mexprs\u001b[49m\u001b[43m,\u001b[49m\u001b[43m \u001b[49m\u001b[43mopt\u001b[49m\u001b[43m)\u001b[49m\n",
      "File \u001b[0;32m~/anaconda3/lib/python3.10/site-packages/sympy/polys/polytools.py:4462\u001b[0m, in \u001b[0;36m_parallel_poly_from_expr\u001b[0;34m(exprs, opt)\u001b[0m\n\u001b[1;32m   4460\u001b[0m         exprs[i] \u001b[38;5;241m=\u001b[39m exprs[i]\u001b[38;5;241m.\u001b[39mas_expr()\n\u001b[0;32m-> 4462\u001b[0m reps, opt \u001b[38;5;241m=\u001b[39m \u001b[43m_parallel_dict_from_expr\u001b[49m\u001b[43m(\u001b[49m\u001b[43mexprs\u001b[49m\u001b[43m,\u001b[49m\u001b[43m \u001b[49m\u001b[43mopt\u001b[49m\u001b[43m)\u001b[49m\n\u001b[1;32m   4463\u001b[0m \u001b[38;5;28;01mif\u001b[39;00m \u001b[38;5;129;01mnot\u001b[39;00m opt\u001b[38;5;241m.\u001b[39mgens:\n",
      "File \u001b[0;32m~/anaconda3/lib/python3.10/site-packages/sympy/polys/polyutils.py:332\u001b[0m, in \u001b[0;36m_parallel_dict_from_expr\u001b[0;34m(exprs, opt)\u001b[0m\n\u001b[1;32m    331\u001b[0m \u001b[38;5;28;01mif\u001b[39;00m opt\u001b[38;5;241m.\u001b[39mgens:\n\u001b[0;32m--> 332\u001b[0m     reps, gens \u001b[38;5;241m=\u001b[39m \u001b[43m_parallel_dict_from_expr_if_gens\u001b[49m\u001b[43m(\u001b[49m\u001b[43mexprs\u001b[49m\u001b[43m,\u001b[49m\u001b[43m \u001b[49m\u001b[43mopt\u001b[49m\u001b[43m)\u001b[49m\n\u001b[1;32m    333\u001b[0m \u001b[38;5;28;01melse\u001b[39;00m:\n",
      "File \u001b[0;32m~/anaconda3/lib/python3.10/site-packages/sympy/polys/polyutils.py:216\u001b[0m, in \u001b[0;36m_parallel_dict_from_expr_if_gens\u001b[0;34m(exprs, opt)\u001b[0m\n\u001b[1;32m    215\u001b[0m             \u001b[38;5;28;01melse\u001b[39;00m:\n\u001b[0;32m--> 216\u001b[0m                 \u001b[38;5;28;01mraise\u001b[39;00m PolynomialError(\u001b[38;5;124m\"\u001b[39m\u001b[38;5;132;01m%s\u001b[39;00m\u001b[38;5;124m contains an element of \u001b[39m\u001b[38;5;124m\"\u001b[39m\n\u001b[1;32m    217\u001b[0m                                       \u001b[38;5;124m\"\u001b[39m\u001b[38;5;124mthe set of generators.\u001b[39m\u001b[38;5;124m\"\u001b[39m \u001b[38;5;241m%\u001b[39m factor)\n\u001b[1;32m    219\u001b[0m monom \u001b[38;5;241m=\u001b[39m \u001b[38;5;28mtuple\u001b[39m(monom)\n",
      "\u001b[0;31mPolynomialError\u001b[0m: RisingFactorial(_t + 1, 1.0) contains an element of the set of generators.",
      "\nDuring handling of the above exception, another exception occurred:\n",
      "\u001b[0;31mPolynomialError\u001b[0m                           Traceback (most recent call last)",
      "Cell \u001b[0;32mIn[48], line 1\u001b[0m\n\u001b[0;32m----> 1\u001b[0m \u001b[43minverse_laplace_transform\u001b[49m\u001b[43m(\u001b[49m\u001b[43mU\u001b[49m\u001b[43m[\u001b[49m\u001b[43mv2\u001b[49m\u001b[43m]\u001b[49m\u001b[43m,\u001b[49m\u001b[43m \u001b[49m\u001b[43ms\u001b[49m\u001b[43m,\u001b[49m\u001b[43m \u001b[49m\u001b[43mt\u001b[49m\u001b[43m)\u001b[49m\n",
      "File \u001b[0;32m~/anaconda3/lib/python3.10/site-packages/sympy/integrals/transforms.py:2097\u001b[0m, in \u001b[0;36minverse_laplace_transform\u001b[0;34m(F, s, t, plane, **hints)\u001b[0m\n\u001b[1;32m   2095\u001b[0m \u001b[38;5;28;01mif\u001b[39;00m \u001b[38;5;28misinstance\u001b[39m(F, MatrixBase) \u001b[38;5;129;01mand\u001b[39;00m \u001b[38;5;28mhasattr\u001b[39m(F, \u001b[38;5;124m'\u001b[39m\u001b[38;5;124mapplyfunc\u001b[39m\u001b[38;5;124m'\u001b[39m):\n\u001b[1;32m   2096\u001b[0m     \u001b[38;5;28;01mreturn\u001b[39;00m F\u001b[38;5;241m.\u001b[39mapplyfunc(\u001b[38;5;28;01mlambda\u001b[39;00m Fij: inverse_laplace_transform(Fij, s, t, plane, \u001b[38;5;241m*\u001b[39m\u001b[38;5;241m*\u001b[39mhints))\n\u001b[0;32m-> 2097\u001b[0m \u001b[38;5;28;01mreturn\u001b[39;00m \u001b[43mInverseLaplaceTransform\u001b[49m\u001b[43m(\u001b[49m\u001b[43mF\u001b[49m\u001b[43m,\u001b[49m\u001b[43m \u001b[49m\u001b[43ms\u001b[49m\u001b[43m,\u001b[49m\u001b[43m \u001b[49m\u001b[43mt\u001b[49m\u001b[43m,\u001b[49m\u001b[43m \u001b[49m\u001b[43mplane\u001b[49m\u001b[43m)\u001b[49m\u001b[38;5;241;43m.\u001b[39;49m\u001b[43mdoit\u001b[49m\u001b[43m(\u001b[49m\u001b[38;5;241;43m*\u001b[39;49m\u001b[38;5;241;43m*\u001b[39;49m\u001b[43mhints\u001b[49m\u001b[43m)\u001b[49m\n",
      "File \u001b[0;32m~/anaconda3/lib/python3.10/site-packages/sympy/integrals/transforms.py:171\u001b[0m, in \u001b[0;36mIntegralTransform.doit\u001b[0;34m(self, **hints)\u001b[0m\n\u001b[1;32m    168\u001b[0m simplify \u001b[38;5;241m=\u001b[39m hints\u001b[38;5;241m.\u001b[39mpop(\u001b[38;5;124m'\u001b[39m\u001b[38;5;124msimplify\u001b[39m\u001b[38;5;124m'\u001b[39m, \u001b[38;5;28;01mTrue\u001b[39;00m)\n\u001b[1;32m    169\u001b[0m hints[\u001b[38;5;124m'\u001b[39m\u001b[38;5;124msimplify\u001b[39m\u001b[38;5;124m'\u001b[39m] \u001b[38;5;241m=\u001b[39m simplify\n\u001b[0;32m--> 171\u001b[0m fn, T \u001b[38;5;241m=\u001b[39m \u001b[38;5;28;43mself\u001b[39;49m\u001b[38;5;241;43m.\u001b[39;49m\u001b[43m_try_directly\u001b[49m\u001b[43m(\u001b[49m\u001b[38;5;241;43m*\u001b[39;49m\u001b[38;5;241;43m*\u001b[39;49m\u001b[43mhints\u001b[49m\u001b[43m)\u001b[49m\n\u001b[1;32m    173\u001b[0m \u001b[38;5;28;01mif\u001b[39;00m T \u001b[38;5;129;01mis\u001b[39;00m \u001b[38;5;129;01mnot\u001b[39;00m \u001b[38;5;28;01mNone\u001b[39;00m:\n\u001b[1;32m    174\u001b[0m     \u001b[38;5;28;01mreturn\u001b[39;00m T\n",
      "File \u001b[0;32m~/anaconda3/lib/python3.10/site-packages/sympy/integrals/transforms.py:135\u001b[0m, in \u001b[0;36mIntegralTransform._try_directly\u001b[0;34m(self, **hints)\u001b[0m\n\u001b[1;32m    133\u001b[0m \u001b[38;5;28;01mif\u001b[39;00m try_directly:\n\u001b[1;32m    134\u001b[0m     \u001b[38;5;28;01mtry\u001b[39;00m:\n\u001b[0;32m--> 135\u001b[0m         T \u001b[38;5;241m=\u001b[39m \u001b[38;5;28;43mself\u001b[39;49m\u001b[38;5;241;43m.\u001b[39;49m\u001b[43m_compute_transform\u001b[49m\u001b[43m(\u001b[49m\u001b[38;5;28;43mself\u001b[39;49m\u001b[38;5;241;43m.\u001b[39;49m\u001b[43mfunction\u001b[49m\u001b[43m,\u001b[49m\n\u001b[1;32m    136\u001b[0m \u001b[43m            \u001b[49m\u001b[38;5;28;43mself\u001b[39;49m\u001b[38;5;241;43m.\u001b[39;49m\u001b[43mfunction_variable\u001b[49m\u001b[43m,\u001b[49m\u001b[43m \u001b[49m\u001b[38;5;28;43mself\u001b[39;49m\u001b[38;5;241;43m.\u001b[39;49m\u001b[43mtransform_variable\u001b[49m\u001b[43m,\u001b[49m\u001b[43m \u001b[49m\u001b[38;5;241;43m*\u001b[39;49m\u001b[38;5;241;43m*\u001b[39;49m\u001b[43mhints\u001b[49m\u001b[43m)\u001b[49m\n\u001b[1;32m    137\u001b[0m     \u001b[38;5;28;01mexcept\u001b[39;00m IntegralTransformError:\n\u001b[1;32m    138\u001b[0m         T \u001b[38;5;241m=\u001b[39m \u001b[38;5;28;01mNone\u001b[39;00m\n",
      "File \u001b[0;32m~/anaconda3/lib/python3.10/site-packages/sympy/integrals/transforms.py:2044\u001b[0m, in \u001b[0;36mInverseLaplaceTransform._compute_transform\u001b[0;34m(self, F, s, t, **hints)\u001b[0m\n\u001b[1;32m   2043\u001b[0m \u001b[38;5;28;01mdef\u001b[39;00m \u001b[38;5;21m_compute_transform\u001b[39m(\u001b[38;5;28mself\u001b[39m, F, s, t, \u001b[38;5;241m*\u001b[39m\u001b[38;5;241m*\u001b[39mhints):\n\u001b[0;32m-> 2044\u001b[0m     \u001b[38;5;28;01mreturn\u001b[39;00m \u001b[43m_inverse_laplace_transform\u001b[49m\u001b[43m(\u001b[49m\u001b[43mF\u001b[49m\u001b[43m,\u001b[49m\u001b[43m \u001b[49m\u001b[43ms\u001b[49m\u001b[43m,\u001b[49m\u001b[43m \u001b[49m\u001b[43mt\u001b[49m\u001b[43m,\u001b[49m\u001b[43m \u001b[49m\u001b[38;5;28;43mself\u001b[39;49m\u001b[38;5;241;43m.\u001b[39;49m\u001b[43mfundamental_plane\u001b[49m\u001b[43m,\u001b[49m\u001b[43m \u001b[49m\u001b[38;5;241;43m*\u001b[39;49m\u001b[38;5;241;43m*\u001b[39;49m\u001b[43mhints\u001b[49m\u001b[43m)\u001b[49m\n",
      "File \u001b[0;32m~/anaconda3/lib/python3.10/site-packages/sympy/integrals/transforms.py:255\u001b[0m, in \u001b[0;36m_noconds_.<locals>.make_wrapper.<locals>.wrapper\u001b[0;34m(noconds, *args, **kwargs)\u001b[0m\n\u001b[1;32m    253\u001b[0m \u001b[38;5;129m@wraps\u001b[39m(func)\n\u001b[1;32m    254\u001b[0m \u001b[38;5;28;01mdef\u001b[39;00m \u001b[38;5;21mwrapper\u001b[39m(\u001b[38;5;241m*\u001b[39margs, noconds\u001b[38;5;241m=\u001b[39mdefault, \u001b[38;5;241m*\u001b[39m\u001b[38;5;241m*\u001b[39mkwargs):\n\u001b[0;32m--> 255\u001b[0m     res \u001b[38;5;241m=\u001b[39m \u001b[43mfunc\u001b[49m\u001b[43m(\u001b[49m\u001b[38;5;241;43m*\u001b[39;49m\u001b[43margs\u001b[49m\u001b[43m,\u001b[49m\u001b[43m \u001b[49m\u001b[38;5;241;43m*\u001b[39;49m\u001b[38;5;241;43m*\u001b[39;49m\u001b[43mkwargs\u001b[49m\u001b[43m)\u001b[49m\n\u001b[1;32m    256\u001b[0m     \u001b[38;5;28;01mif\u001b[39;00m noconds:\n\u001b[1;32m    257\u001b[0m         \u001b[38;5;28;01mreturn\u001b[39;00m res[\u001b[38;5;241m0\u001b[39m]\n",
      "File \u001b[0;32m~/anaconda3/lib/python3.10/site-packages/sympy/integrals/transforms.py:1967\u001b[0m, in \u001b[0;36m_inverse_laplace_transform\u001b[0;34m(F, s, t_, plane, simplify)\u001b[0m\n\u001b[1;32m   1964\u001b[0m     \u001b[38;5;28;01mreturn\u001b[39;00m _simplify(f\u001b[38;5;241m.\u001b[39msubs(t, t_), simplify), \u001b[38;5;28;01mTrue\u001b[39;00m\n\u001b[1;32m   1966\u001b[0m \u001b[38;5;28;01mtry\u001b[39;00m:\n\u001b[0;32m-> 1967\u001b[0m     f, cond \u001b[38;5;241m=\u001b[39m \u001b[43minverse_mellin_transform\u001b[49m\u001b[43m(\u001b[49m\u001b[43mF\u001b[49m\u001b[43m,\u001b[49m\u001b[43m \u001b[49m\u001b[43ms\u001b[49m\u001b[43m,\u001b[49m\u001b[43m \u001b[49m\u001b[43mexp\u001b[49m\u001b[43m(\u001b[49m\u001b[38;5;241;43m-\u001b[39;49m\u001b[43mt\u001b[49m\u001b[43m)\u001b[49m\u001b[43m,\u001b[49m\u001b[43m \u001b[49m\u001b[43m(\u001b[49m\u001b[38;5;28;43;01mNone\u001b[39;49;00m\u001b[43m,\u001b[49m\u001b[43m \u001b[49m\u001b[43mS\u001b[49m\u001b[38;5;241;43m.\u001b[39;49m\u001b[43mInfinity\u001b[49m\u001b[43m)\u001b[49m\u001b[43m,\u001b[49m\n\u001b[1;32m   1968\u001b[0m \u001b[43m                                       \u001b[49m\u001b[43mneedeval\u001b[49m\u001b[38;5;241;43m=\u001b[39;49m\u001b[38;5;28;43;01mTrue\u001b[39;49;00m\u001b[43m,\u001b[49m\u001b[43m \u001b[49m\u001b[43mnoconds\u001b[49m\u001b[38;5;241;43m=\u001b[39;49m\u001b[38;5;28;43;01mFalse\u001b[39;49;00m\u001b[43m)\u001b[49m\n\u001b[1;32m   1969\u001b[0m \u001b[38;5;28;01mexcept\u001b[39;00m IntegralTransformError:\n\u001b[1;32m   1970\u001b[0m     f \u001b[38;5;241m=\u001b[39m \u001b[38;5;28;01mNone\u001b[39;00m\n",
      "File \u001b[0;32m~/anaconda3/lib/python3.10/site-packages/sympy/integrals/transforms.py:936\u001b[0m, in \u001b[0;36minverse_mellin_transform\u001b[0;34m(F, s, x, strip, **hints)\u001b[0m\n\u001b[1;32m    883\u001b[0m \u001b[38;5;28;01mdef\u001b[39;00m \u001b[38;5;21minverse_mellin_transform\u001b[39m(F, s, x, strip, \u001b[38;5;241m*\u001b[39m\u001b[38;5;241m*\u001b[39mhints):\n\u001b[1;32m    884\u001b[0m     \u001b[38;5;124mr\u001b[39m\u001b[38;5;124;03m\"\"\"\u001b[39;00m\n\u001b[1;32m    885\u001b[0m \u001b[38;5;124;03m    Compute the inverse Mellin transform of `F(s)` over the fundamental\u001b[39;00m\n\u001b[1;32m    886\u001b[0m \u001b[38;5;124;03m    strip given by ``strip=(a, b)``.\u001b[39;00m\n\u001b[0;32m   (...)\u001b[0m\n\u001b[1;32m    934\u001b[0m \u001b[38;5;124;03m    hankel_transform, inverse_hankel_transform\u001b[39;00m\n\u001b[1;32m    935\u001b[0m \u001b[38;5;124;03m    \"\"\"\u001b[39;00m\n\u001b[0;32m--> 936\u001b[0m     \u001b[38;5;28;01mreturn\u001b[39;00m \u001b[43mInverseMellinTransform\u001b[49m\u001b[43m(\u001b[49m\u001b[43mF\u001b[49m\u001b[43m,\u001b[49m\u001b[43m \u001b[49m\u001b[43ms\u001b[49m\u001b[43m,\u001b[49m\u001b[43m \u001b[49m\u001b[43mx\u001b[49m\u001b[43m,\u001b[49m\u001b[43m \u001b[49m\u001b[43mstrip\u001b[49m\u001b[43m[\u001b[49m\u001b[38;5;241;43m0\u001b[39;49m\u001b[43m]\u001b[49m\u001b[43m,\u001b[49m\u001b[43m \u001b[49m\u001b[43mstrip\u001b[49m\u001b[43m[\u001b[49m\u001b[38;5;241;43m1\u001b[39;49m\u001b[43m]\u001b[49m\u001b[43m)\u001b[49m\u001b[38;5;241;43m.\u001b[39;49m\u001b[43mdoit\u001b[49m\u001b[43m(\u001b[49m\u001b[38;5;241;43m*\u001b[39;49m\u001b[38;5;241;43m*\u001b[39;49m\u001b[43mhints\u001b[49m\u001b[43m)\u001b[49m\n",
      "File \u001b[0;32m~/anaconda3/lib/python3.10/site-packages/sympy/integrals/transforms.py:171\u001b[0m, in \u001b[0;36mIntegralTransform.doit\u001b[0;34m(self, **hints)\u001b[0m\n\u001b[1;32m    168\u001b[0m simplify \u001b[38;5;241m=\u001b[39m hints\u001b[38;5;241m.\u001b[39mpop(\u001b[38;5;124m'\u001b[39m\u001b[38;5;124msimplify\u001b[39m\u001b[38;5;124m'\u001b[39m, \u001b[38;5;28;01mTrue\u001b[39;00m)\n\u001b[1;32m    169\u001b[0m hints[\u001b[38;5;124m'\u001b[39m\u001b[38;5;124msimplify\u001b[39m\u001b[38;5;124m'\u001b[39m] \u001b[38;5;241m=\u001b[39m simplify\n\u001b[0;32m--> 171\u001b[0m fn, T \u001b[38;5;241m=\u001b[39m \u001b[38;5;28;43mself\u001b[39;49m\u001b[38;5;241;43m.\u001b[39;49m\u001b[43m_try_directly\u001b[49m\u001b[43m(\u001b[49m\u001b[38;5;241;43m*\u001b[39;49m\u001b[38;5;241;43m*\u001b[39;49m\u001b[43mhints\u001b[49m\u001b[43m)\u001b[49m\n\u001b[1;32m    173\u001b[0m \u001b[38;5;28;01mif\u001b[39;00m T \u001b[38;5;129;01mis\u001b[39;00m \u001b[38;5;129;01mnot\u001b[39;00m \u001b[38;5;28;01mNone\u001b[39;00m:\n\u001b[1;32m    174\u001b[0m     \u001b[38;5;28;01mreturn\u001b[39;00m T\n",
      "File \u001b[0;32m~/anaconda3/lib/python3.10/site-packages/sympy/integrals/transforms.py:135\u001b[0m, in \u001b[0;36mIntegralTransform._try_directly\u001b[0;34m(self, **hints)\u001b[0m\n\u001b[1;32m    133\u001b[0m \u001b[38;5;28;01mif\u001b[39;00m try_directly:\n\u001b[1;32m    134\u001b[0m     \u001b[38;5;28;01mtry\u001b[39;00m:\n\u001b[0;32m--> 135\u001b[0m         T \u001b[38;5;241m=\u001b[39m \u001b[38;5;28;43mself\u001b[39;49m\u001b[38;5;241;43m.\u001b[39;49m\u001b[43m_compute_transform\u001b[49m\u001b[43m(\u001b[49m\u001b[38;5;28;43mself\u001b[39;49m\u001b[38;5;241;43m.\u001b[39;49m\u001b[43mfunction\u001b[49m\u001b[43m,\u001b[49m\n\u001b[1;32m    136\u001b[0m \u001b[43m            \u001b[49m\u001b[38;5;28;43mself\u001b[39;49m\u001b[38;5;241;43m.\u001b[39;49m\u001b[43mfunction_variable\u001b[49m\u001b[43m,\u001b[49m\u001b[43m \u001b[49m\u001b[38;5;28;43mself\u001b[39;49m\u001b[38;5;241;43m.\u001b[39;49m\u001b[43mtransform_variable\u001b[49m\u001b[43m,\u001b[49m\u001b[43m \u001b[49m\u001b[38;5;241;43m*\u001b[39;49m\u001b[38;5;241;43m*\u001b[39;49m\u001b[43mhints\u001b[49m\u001b[43m)\u001b[49m\n\u001b[1;32m    137\u001b[0m     \u001b[38;5;28;01mexcept\u001b[39;00m IntegralTransformError:\n\u001b[1;32m    138\u001b[0m         T \u001b[38;5;241m=\u001b[39m \u001b[38;5;28;01mNone\u001b[39;00m\n",
      "File \u001b[0;32m~/anaconda3/lib/python3.10/site-packages/sympy/integrals/transforms.py:875\u001b[0m, in \u001b[0;36mInverseMellinTransform._compute_transform\u001b[0;34m(self, F, s, x, **hints)\u001b[0m\n\u001b[1;32m    872\u001b[0m         \u001b[38;5;28;01mraise\u001b[39;00m IntegralTransformError(\u001b[38;5;124m'\u001b[39m\u001b[38;5;124mInverse Mellin\u001b[39m\u001b[38;5;124m'\u001b[39m, F,\n\u001b[1;32m    873\u001b[0m                              \u001b[38;5;124m'\u001b[39m\u001b[38;5;124mComponent \u001b[39m\u001b[38;5;132;01m%s\u001b[39;00m\u001b[38;5;124m not recognised.\u001b[39m\u001b[38;5;124m'\u001b[39m \u001b[38;5;241m%\u001b[39m f)\n\u001b[1;32m    874\u001b[0m strip \u001b[38;5;241m=\u001b[39m \u001b[38;5;28mself\u001b[39m\u001b[38;5;241m.\u001b[39mfundamental_strip\n\u001b[0;32m--> 875\u001b[0m \u001b[38;5;28;01mreturn\u001b[39;00m \u001b[43m_inverse_mellin_transform\u001b[49m\u001b[43m(\u001b[49m\u001b[43mF\u001b[49m\u001b[43m,\u001b[49m\u001b[43m \u001b[49m\u001b[43ms\u001b[49m\u001b[43m,\u001b[49m\u001b[43m \u001b[49m\u001b[43mx\u001b[49m\u001b[43m,\u001b[49m\u001b[43m \u001b[49m\u001b[43mstrip\u001b[49m\u001b[43m,\u001b[49m\u001b[43m \u001b[49m\u001b[38;5;241;43m*\u001b[39;49m\u001b[38;5;241;43m*\u001b[39;49m\u001b[43mhints\u001b[49m\u001b[43m)\u001b[49m\n",
      "File \u001b[0;32m~/anaconda3/lib/python3.10/site-packages/sympy/integrals/transforms.py:255\u001b[0m, in \u001b[0;36m_noconds_.<locals>.make_wrapper.<locals>.wrapper\u001b[0;34m(noconds, *args, **kwargs)\u001b[0m\n\u001b[1;32m    253\u001b[0m \u001b[38;5;129m@wraps\u001b[39m(func)\n\u001b[1;32m    254\u001b[0m \u001b[38;5;28;01mdef\u001b[39;00m \u001b[38;5;21mwrapper\u001b[39m(\u001b[38;5;241m*\u001b[39margs, noconds\u001b[38;5;241m=\u001b[39mdefault, \u001b[38;5;241m*\u001b[39m\u001b[38;5;241m*\u001b[39mkwargs):\n\u001b[0;32m--> 255\u001b[0m     res \u001b[38;5;241m=\u001b[39m \u001b[43mfunc\u001b[49m\u001b[43m(\u001b[49m\u001b[38;5;241;43m*\u001b[39;49m\u001b[43margs\u001b[49m\u001b[43m,\u001b[49m\u001b[43m \u001b[49m\u001b[38;5;241;43m*\u001b[39;49m\u001b[38;5;241;43m*\u001b[39;49m\u001b[43mkwargs\u001b[49m\u001b[43m)\u001b[49m\n\u001b[1;32m    256\u001b[0m     \u001b[38;5;28;01mif\u001b[39;00m noconds:\n\u001b[1;32m    257\u001b[0m         \u001b[38;5;28;01mreturn\u001b[39;00m res[\u001b[38;5;241m0\u001b[39m]\n",
      "File \u001b[0;32m~/anaconda3/lib/python3.10/site-packages/sympy/integrals/transforms.py:803\u001b[0m, in \u001b[0;36m_inverse_mellin_transform\u001b[0;34m(F, s, x_, strip, as_meijerg)\u001b[0m\n\u001b[1;32m    801\u001b[0m \u001b[38;5;28;01mtry\u001b[39;00m:\n\u001b[1;32m    802\u001b[0m     \u001b[38;5;28;01mfrom\u001b[39;00m \u001b[38;5;21;01msympy\u001b[39;00m\u001b[38;5;21;01m.\u001b[39;00m\u001b[38;5;21;01msimplify\u001b[39;00m \u001b[38;5;28;01mimport\u001b[39;00m hyperexpand\n\u001b[0;32m--> 803\u001b[0m     h \u001b[38;5;241m=\u001b[39m \u001b[43mhyperexpand\u001b[49m\u001b[43m(\u001b[49m\u001b[43mG\u001b[49m\u001b[43m)\u001b[49m\n\u001b[1;32m    804\u001b[0m \u001b[38;5;28;01mexcept\u001b[39;00m \u001b[38;5;167;01mNotImplementedError\u001b[39;00m:\n\u001b[1;32m    805\u001b[0m     \u001b[38;5;28;01mraise\u001b[39;00m IntegralTransformError(\n\u001b[1;32m    806\u001b[0m         \u001b[38;5;124m'\u001b[39m\u001b[38;5;124mInverse Mellin\u001b[39m\u001b[38;5;124m'\u001b[39m, F, \u001b[38;5;124m'\u001b[39m\u001b[38;5;124mCould not calculate integral\u001b[39m\u001b[38;5;124m'\u001b[39m)\n",
      "File \u001b[0;32m~/anaconda3/lib/python3.10/site-packages/sympy/simplify/hyperexpand.py:2494\u001b[0m, in \u001b[0;36mhyperexpand\u001b[0;34m(f, allow_hyper, rewrite, place)\u001b[0m\n\u001b[1;32m   2492\u001b[0m     \u001b[38;5;28;01mif\u001b[39;00m \u001b[38;5;129;01mnot\u001b[39;00m r\u001b[38;5;241m.\u001b[39mhas(nan, zoo, oo, \u001b[38;5;241m-\u001b[39moo):\n\u001b[1;32m   2493\u001b[0m         \u001b[38;5;28;01mreturn\u001b[39;00m r\n\u001b[0;32m-> 2494\u001b[0m \u001b[38;5;28;01mreturn\u001b[39;00m \u001b[43mf\u001b[49m\u001b[38;5;241;43m.\u001b[39;49m\u001b[43mreplace\u001b[49m\u001b[43m(\u001b[49m\u001b[43mhyper\u001b[49m\u001b[43m,\u001b[49m\u001b[43m \u001b[49m\u001b[43mdo_replace\u001b[49m\u001b[43m)\u001b[49m\u001b[38;5;241;43m.\u001b[39;49m\u001b[43mreplace\u001b[49m\u001b[43m(\u001b[49m\u001b[43mmeijerg\u001b[49m\u001b[43m,\u001b[49m\u001b[43m \u001b[49m\u001b[43mdo_meijer\u001b[49m\u001b[43m)\u001b[49m\n",
      "File \u001b[0;32m~/anaconda3/lib/python3.10/site-packages/sympy/core/basic.py:1581\u001b[0m, in \u001b[0;36mBasic.replace\u001b[0;34m(self, query, value, map, simultaneous, exact)\u001b[0m\n\u001b[1;32m   1578\u001b[0m             expr \u001b[38;5;241m=\u001b[39m v\n\u001b[1;32m   1579\u001b[0m     \u001b[38;5;28;01mreturn\u001b[39;00m expr\n\u001b[0;32m-> 1581\u001b[0m rv \u001b[38;5;241m=\u001b[39m \u001b[43mwalk\u001b[49m\u001b[43m(\u001b[49m\u001b[38;5;28;43mself\u001b[39;49m\u001b[43m,\u001b[49m\u001b[43m \u001b[49m\u001b[43mrec_replace\u001b[49m\u001b[43m)\u001b[49m\n\u001b[1;32m   1582\u001b[0m \u001b[38;5;28;01mreturn\u001b[39;00m (rv, mapping) \u001b[38;5;28;01mif\u001b[39;00m \u001b[38;5;28mmap\u001b[39m \u001b[38;5;28;01melse\u001b[39;00m rv\n",
      "File \u001b[0;32m~/anaconda3/lib/python3.10/site-packages/sympy/core/basic.py:1566\u001b[0m, in \u001b[0;36mBasic.replace.<locals>.walk\u001b[0;34m(rv, F)\u001b[0m\n\u001b[1;32m   1564\u001b[0m                     \u001b[38;5;28;01mif\u001b[39;00m rv \u001b[38;5;241m==\u001b[39m e \u001b[38;5;129;01mand\u001b[39;00m e \u001b[38;5;241m!=\u001b[39m newargs[i]:\n\u001b[1;32m   1565\u001b[0m                         \u001b[38;5;28;01mreturn\u001b[39;00m rv\n\u001b[0;32m-> 1566\u001b[0m     rv \u001b[38;5;241m=\u001b[39m \u001b[43mF\u001b[49m\u001b[43m(\u001b[49m\u001b[43mrv\u001b[49m\u001b[43m)\u001b[49m\n\u001b[1;32m   1567\u001b[0m \u001b[38;5;28;01mreturn\u001b[39;00m rv\n",
      "File \u001b[0;32m~/anaconda3/lib/python3.10/site-packages/sympy/core/basic.py:1574\u001b[0m, in \u001b[0;36mBasic.replace.<locals>.rec_replace\u001b[0;34m(expr)\u001b[0m\n\u001b[1;32m   1572\u001b[0m result \u001b[38;5;241m=\u001b[39m _query(expr)\n\u001b[1;32m   1573\u001b[0m \u001b[38;5;28;01mif\u001b[39;00m result \u001b[38;5;129;01mor\u001b[39;00m result \u001b[38;5;241m==\u001b[39m {}:\n\u001b[0;32m-> 1574\u001b[0m     v \u001b[38;5;241m=\u001b[39m \u001b[43m_value\u001b[49m\u001b[43m(\u001b[49m\u001b[43mexpr\u001b[49m\u001b[43m,\u001b[49m\u001b[43m \u001b[49m\u001b[43mresult\u001b[49m\u001b[43m)\u001b[49m\n\u001b[1;32m   1575\u001b[0m     \u001b[38;5;28;01mif\u001b[39;00m v \u001b[38;5;129;01mis\u001b[39;00m \u001b[38;5;129;01mnot\u001b[39;00m \u001b[38;5;28;01mNone\u001b[39;00m \u001b[38;5;129;01mand\u001b[39;00m v \u001b[38;5;241m!=\u001b[39m expr:\n\u001b[1;32m   1576\u001b[0m         \u001b[38;5;28;01mif\u001b[39;00m \u001b[38;5;28mmap\u001b[39m:\n",
      "File \u001b[0;32m~/anaconda3/lib/python3.10/site-packages/sympy/core/basic.py:1503\u001b[0m, in \u001b[0;36mBasic.replace.<locals>.<lambda>\u001b[0;34m(expr, result)\u001b[0m\n\u001b[1;32m   1501\u001b[0m     _value \u001b[38;5;241m=\u001b[39m \u001b[38;5;28;01mlambda\u001b[39;00m expr, result: value(\u001b[38;5;241m*\u001b[39mexpr\u001b[38;5;241m.\u001b[39margs)\n\u001b[1;32m   1502\u001b[0m \u001b[38;5;28;01melif\u001b[39;00m callable(value):\n\u001b[0;32m-> 1503\u001b[0m     _value \u001b[38;5;241m=\u001b[39m \u001b[38;5;28;01mlambda\u001b[39;00m expr, result: \u001b[43mvalue\u001b[49m\u001b[43m(\u001b[49m\u001b[38;5;241;43m*\u001b[39;49m\u001b[43mexpr\u001b[49m\u001b[38;5;241;43m.\u001b[39;49m\u001b[43margs\u001b[49m\u001b[43m)\u001b[49m\n\u001b[1;32m   1504\u001b[0m \u001b[38;5;28;01melse\u001b[39;00m:\n\u001b[1;32m   1505\u001b[0m     \u001b[38;5;28;01mraise\u001b[39;00m \u001b[38;5;167;01mTypeError\u001b[39;00m(\n\u001b[1;32m   1506\u001b[0m         \u001b[38;5;124m\"\u001b[39m\u001b[38;5;124mgiven a type, replace() expects another \u001b[39m\u001b[38;5;124m\"\u001b[39m\n\u001b[1;32m   1507\u001b[0m         \u001b[38;5;124m\"\u001b[39m\u001b[38;5;124mtype or a callable\u001b[39m\u001b[38;5;124m\"\u001b[39m)\n",
      "File \u001b[0;32m~/anaconda3/lib/python3.10/site-packages/sympy/simplify/hyperexpand.py:2490\u001b[0m, in \u001b[0;36mhyperexpand.<locals>.do_meijer\u001b[0;34m(ap, bq, z)\u001b[0m\n\u001b[1;32m   2489\u001b[0m \u001b[38;5;28;01mdef\u001b[39;00m \u001b[38;5;21mdo_meijer\u001b[39m(ap, bq, z):\n\u001b[0;32m-> 2490\u001b[0m     r \u001b[38;5;241m=\u001b[39m \u001b[43m_meijergexpand\u001b[49m\u001b[43m(\u001b[49m\u001b[43mG_Function\u001b[49m\u001b[43m(\u001b[49m\u001b[43map\u001b[49m\u001b[43m[\u001b[49m\u001b[38;5;241;43m0\u001b[39;49m\u001b[43m]\u001b[49m\u001b[43m,\u001b[49m\u001b[43m \u001b[49m\u001b[43map\u001b[49m\u001b[43m[\u001b[49m\u001b[38;5;241;43m1\u001b[39;49m\u001b[43m]\u001b[49m\u001b[43m,\u001b[49m\u001b[43m \u001b[49m\u001b[43mbq\u001b[49m\u001b[43m[\u001b[49m\u001b[38;5;241;43m0\u001b[39;49m\u001b[43m]\u001b[49m\u001b[43m,\u001b[49m\u001b[43m \u001b[49m\u001b[43mbq\u001b[49m\u001b[43m[\u001b[49m\u001b[38;5;241;43m1\u001b[39;49m\u001b[43m]\u001b[49m\u001b[43m)\u001b[49m\u001b[43m,\u001b[49m\u001b[43m \u001b[49m\u001b[43mz\u001b[49m\u001b[43m,\u001b[49m\n\u001b[1;32m   2491\u001b[0m \u001b[43m               \u001b[49m\u001b[43mallow_hyper\u001b[49m\u001b[43m,\u001b[49m\u001b[43m \u001b[49m\u001b[43mrewrite\u001b[49m\u001b[38;5;241;43m=\u001b[39;49m\u001b[43mrewrite\u001b[49m\u001b[43m,\u001b[49m\u001b[43m \u001b[49m\u001b[43mplace\u001b[49m\u001b[38;5;241;43m=\u001b[39;49m\u001b[43mplace\u001b[49m\u001b[43m)\u001b[49m\n\u001b[1;32m   2492\u001b[0m     \u001b[38;5;28;01mif\u001b[39;00m \u001b[38;5;129;01mnot\u001b[39;00m r\u001b[38;5;241m.\u001b[39mhas(nan, zoo, oo, \u001b[38;5;241m-\u001b[39moo):\n\u001b[1;32m   2493\u001b[0m         \u001b[38;5;28;01mreturn\u001b[39;00m r\n",
      "File \u001b[0;32m~/anaconda3/lib/python3.10/site-packages/sympy/simplify/hyperexpand.py:2375\u001b[0m, in \u001b[0;36m_meijergexpand\u001b[0;34m(func, z0, allow_hyper, rewrite, place)\u001b[0m\n\u001b[1;32m   2373\u001b[0m \u001b[38;5;28;01mfor\u001b[39;00m op \u001b[38;5;129;01min\u001b[39;00m ops:\n\u001b[1;32m   2374\u001b[0m     op\u001b[38;5;241m.\u001b[39m_poly \u001b[38;5;241m=\u001b[39m Poly(op\u001b[38;5;241m.\u001b[39m_poly\u001b[38;5;241m.\u001b[39msubs({z: \u001b[38;5;241m1\u001b[39m\u001b[38;5;241m/\u001b[39mt, _x: \u001b[38;5;241m-\u001b[39m_x}), _x)\n\u001b[0;32m-> 2375\u001b[0m slater2, cond2 \u001b[38;5;241m=\u001b[39m \u001b[43mdo_slater\u001b[49m\u001b[43m(\u001b[49m\u001b[43mtr\u001b[49m\u001b[43m(\u001b[49m\u001b[43mfunc\u001b[49m\u001b[38;5;241;43m.\u001b[39;49m\u001b[43mbm\u001b[49m\u001b[43m)\u001b[49m\u001b[43m,\u001b[49m\u001b[43m \u001b[49m\u001b[43mtr\u001b[49m\u001b[43m(\u001b[49m\u001b[43mfunc\u001b[49m\u001b[38;5;241;43m.\u001b[39;49m\u001b[43man\u001b[49m\u001b[43m)\u001b[49m\u001b[43m,\u001b[49m\u001b[43m \u001b[49m\u001b[43mtr\u001b[49m\u001b[43m(\u001b[49m\u001b[43mfunc\u001b[49m\u001b[38;5;241;43m.\u001b[39;49m\u001b[43mbq\u001b[49m\u001b[43m)\u001b[49m\u001b[43m,\u001b[49m\u001b[43m \u001b[49m\u001b[43mtr\u001b[49m\u001b[43m(\u001b[49m\u001b[43mfunc\u001b[49m\u001b[38;5;241;43m.\u001b[39;49m\u001b[43map\u001b[49m\u001b[43m)\u001b[49m\u001b[43m,\u001b[49m\n\u001b[1;32m   2376\u001b[0m \u001b[43m                           \u001b[49m\u001b[43mt\u001b[49m\u001b[43m,\u001b[49m\u001b[43m \u001b[49m\u001b[38;5;241;43m1\u001b[39;49m\u001b[38;5;241;43m/\u001b[39;49m\u001b[43mz0\u001b[49m\u001b[43m)\u001b[49m\n\u001b[1;32m   2378\u001b[0m slater1 \u001b[38;5;241m=\u001b[39m powdenest(slater1\u001b[38;5;241m.\u001b[39msubs(z, z0), polar\u001b[38;5;241m=\u001b[39m\u001b[38;5;28;01mTrue\u001b[39;00m)\n\u001b[1;32m   2379\u001b[0m slater2 \u001b[38;5;241m=\u001b[39m powdenest(slater2\u001b[38;5;241m.\u001b[39msubs(t, \u001b[38;5;241m1\u001b[39m\u001b[38;5;241m/\u001b[39mz0), polar\u001b[38;5;241m=\u001b[39m\u001b[38;5;28;01mTrue\u001b[39;00m)\n",
      "File \u001b[0;32m~/anaconda3/lib/python3.10/site-packages/sympy/simplify/hyperexpand.py:2301\u001b[0m, in \u001b[0;36m_meijergexpand.<locals>.do_slater\u001b[0;34m(an, bm, ap, bq, z, zfinal)\u001b[0m\n\u001b[1;32m   2298\u001b[0m     \u001b[38;5;66;03m# NOTE even though k \"is\" +-1, this has to be t/k instead of\u001b[39;00m\n\u001b[1;32m   2299\u001b[0m     \u001b[38;5;66;03m#      t*k ... we are using polar numbers for consistency!\u001b[39;00m\n\u001b[1;32m   2300\u001b[0m     premult \u001b[38;5;241m=\u001b[39m (t\u001b[38;5;241m/\u001b[39mk)\u001b[38;5;241m*\u001b[39m\u001b[38;5;241m*\u001b[39mbh\n\u001b[0;32m-> 2301\u001b[0m     hyp \u001b[38;5;241m=\u001b[39m \u001b[43m_hyperexpand\u001b[49m\u001b[43m(\u001b[49m\u001b[43mHyper_Function\u001b[49m\u001b[43m(\u001b[49m\u001b[43mnap\u001b[49m\u001b[43m,\u001b[49m\u001b[43m \u001b[49m\u001b[43mnbq\u001b[49m\u001b[43m)\u001b[49m\u001b[43m,\u001b[49m\u001b[43m \u001b[49m\u001b[43mharg\u001b[49m\u001b[43m,\u001b[49m\u001b[43m \u001b[49m\u001b[43mops\u001b[49m\u001b[43m,\u001b[49m\n\u001b[1;32m   2302\u001b[0m \u001b[43m                       \u001b[49m\u001b[43mt\u001b[49m\u001b[43m,\u001b[49m\u001b[43m \u001b[49m\u001b[43mpremult\u001b[49m\u001b[43m,\u001b[49m\u001b[43m \u001b[49m\u001b[43mbh\u001b[49m\u001b[43m,\u001b[49m\u001b[43m \u001b[49m\u001b[43mrewrite\u001b[49m\u001b[38;5;241;43m=\u001b[39;49m\u001b[38;5;28;43;01mNone\u001b[39;49;00m\u001b[43m)\u001b[49m\n\u001b[1;32m   2303\u001b[0m     res \u001b[38;5;241m+\u001b[39m\u001b[38;5;241m=\u001b[39m fac \u001b[38;5;241m*\u001b[39m hyp\n\u001b[1;32m   2304\u001b[0m \u001b[38;5;28;01melse\u001b[39;00m:\n",
      "File \u001b[0;32m~/anaconda3/lib/python3.10/site-packages/sympy/simplify/hyperexpand.py:2042\u001b[0m, in \u001b[0;36m_hyperexpand\u001b[0;34m(func, z, ops0, z0, premult, prem, rewrite)\u001b[0m\n\u001b[1;32m   2040\u001b[0m \u001b[38;5;66;03m# Now try a lerch phi formula\u001b[39;00m\n\u001b[1;32m   2041\u001b[0m \u001b[38;5;28;01mif\u001b[39;00m formula \u001b[38;5;129;01mis\u001b[39;00m \u001b[38;5;28;01mNone\u001b[39;00m:\n\u001b[0;32m-> 2042\u001b[0m     formula \u001b[38;5;241m=\u001b[39m \u001b[43mtry_lerchphi\u001b[49m\u001b[43m(\u001b[49m\u001b[43mfunc\u001b[49m\u001b[43m)\u001b[49m\n\u001b[1;32m   2044\u001b[0m \u001b[38;5;28;01mif\u001b[39;00m formula \u001b[38;5;129;01mis\u001b[39;00m \u001b[38;5;28;01mNone\u001b[39;00m:\n\u001b[1;32m   2045\u001b[0m     debug(\u001b[38;5;124m'\u001b[39m\u001b[38;5;124m  Could not find an origin. \u001b[39m\u001b[38;5;124m'\u001b[39m,\n\u001b[1;32m   2046\u001b[0m           \u001b[38;5;124m'\u001b[39m\u001b[38;5;124mWill return answer in terms of \u001b[39m\u001b[38;5;124m'\u001b[39m\n\u001b[1;32m   2047\u001b[0m           \u001b[38;5;124m'\u001b[39m\u001b[38;5;124msimpler hypergeometric functions.\u001b[39m\u001b[38;5;124m'\u001b[39m)\n",
      "File \u001b[0;32m~/anaconda3/lib/python3.10/site-packages/sympy/simplify/hyperexpand.py:1779\u001b[0m, in \u001b[0;36mtry_lerchphi\u001b[0;34m(func)\u001b[0m\n\u001b[1;32m   1773\u001b[0m             denom \u001b[38;5;241m*\u001b[39m\u001b[38;5;241m=\u001b[39m rf(a \u001b[38;5;241m+\u001b[39m t, k)\n\u001b[1;32m   1775\u001b[0m \u001b[38;5;66;03m# Now do a partial fraction decomposition.\u001b[39;00m\n\u001b[1;32m   1776\u001b[0m \u001b[38;5;66;03m# We assemble two structures: a list monomials of pairs (a, b) representing\u001b[39;00m\n\u001b[1;32m   1777\u001b[0m \u001b[38;5;66;03m# a*t**b (b a non-negative integer), and a dict terms, where\u001b[39;00m\n\u001b[1;32m   1778\u001b[0m \u001b[38;5;66;03m# terms[a] = [(b, c)] means that there is a term b/(t-a)**c.\u001b[39;00m\n\u001b[0;32m-> 1779\u001b[0m part \u001b[38;5;241m=\u001b[39m \u001b[43mapart\u001b[49m\u001b[43m(\u001b[49m\u001b[43mnumer\u001b[49m\u001b[38;5;241;43m/\u001b[39;49m\u001b[43mdenom\u001b[49m\u001b[43m,\u001b[49m\u001b[43m \u001b[49m\u001b[43mt\u001b[49m\u001b[43m)\u001b[49m\n\u001b[1;32m   1780\u001b[0m args \u001b[38;5;241m=\u001b[39m Add\u001b[38;5;241m.\u001b[39mmake_args(part)\n\u001b[1;32m   1781\u001b[0m monomials \u001b[38;5;241m=\u001b[39m []\n",
      "File \u001b[0;32m~/anaconda3/lib/python3.10/site-packages/sympy/utilities/decorator.py:35\u001b[0m, in \u001b[0;36mthreaded_factory.<locals>.threaded_func\u001b[0;34m(expr, *args, **kwargs)\u001b[0m\n\u001b[1;32m     32\u001b[0m     \u001b[38;5;28;01mreturn\u001b[39;00m expr\u001b[38;5;241m.\u001b[39m\u001b[38;5;18m__class__\u001b[39m(func(expr\u001b[38;5;241m.\u001b[39mlhs, \u001b[38;5;241m*\u001b[39margs, \u001b[38;5;241m*\u001b[39m\u001b[38;5;241m*\u001b[39mkwargs),\n\u001b[1;32m     33\u001b[0m                           func(expr\u001b[38;5;241m.\u001b[39mrhs, \u001b[38;5;241m*\u001b[39margs, \u001b[38;5;241m*\u001b[39m\u001b[38;5;241m*\u001b[39mkwargs))\n\u001b[1;32m     34\u001b[0m \u001b[38;5;28;01melse\u001b[39;00m:\n\u001b[0;32m---> 35\u001b[0m     \u001b[38;5;28;01mreturn\u001b[39;00m \u001b[43mfunc\u001b[49m\u001b[43m(\u001b[49m\u001b[43mexpr\u001b[49m\u001b[43m,\u001b[49m\u001b[43m \u001b[49m\u001b[38;5;241;43m*\u001b[39;49m\u001b[43margs\u001b[49m\u001b[43m,\u001b[49m\u001b[43m \u001b[49m\u001b[38;5;241;43m*\u001b[39;49m\u001b[38;5;241;43m*\u001b[39;49m\u001b[43mkwargs\u001b[49m\u001b[43m)\u001b[49m\n",
      "File \u001b[0;32m~/anaconda3/lib/python3.10/site-packages/sympy/polys/partfrac.py:84\u001b[0m, in \u001b[0;36mapart\u001b[0;34m(f, x, full, **options)\u001b[0m\n\u001b[1;32m     82\u001b[0m \u001b[38;5;28;01mexcept\u001b[39;00m PolynomialError \u001b[38;5;28;01mas\u001b[39;00m msg:\n\u001b[1;32m     83\u001b[0m     \u001b[38;5;28;01mif\u001b[39;00m f\u001b[38;5;241m.\u001b[39mis_commutative:\n\u001b[0;32m---> 84\u001b[0m         \u001b[38;5;28;01mraise\u001b[39;00m PolynomialError(msg)\n\u001b[1;32m     85\u001b[0m     \u001b[38;5;66;03m# non-commutative\u001b[39;00m\n\u001b[1;32m     86\u001b[0m     \u001b[38;5;28;01mif\u001b[39;00m f\u001b[38;5;241m.\u001b[39mis_Mul:\n",
      "\u001b[0;31mPolynomialError\u001b[0m: RisingFactorial(_t + 1, 1.0) contains an element of the set of generators."
     ]
    }
   ],
   "source": [
    "inverse_laplace_transform(U[v2], s, t)"
   ]
  },
  {
   "cell_type": "code",
   "execution_count": null,
   "metadata": {},
   "outputs": [],
   "source": []
  },
  {
   "cell_type": "code",
   "execution_count": null,
   "metadata": {},
   "outputs": [],
   "source": [
    "stop"
   ]
  },
  {
   "cell_type": "code",
   "execution_count": 5,
   "metadata": {},
   "outputs": [
    {
     "data": {
      "text/latex": [
       "$$\\left[\\begin{matrix}- I_{L1} + v_{1} \\left(C_{1} s + \\frac{1}{R_{1}}\\right) - \\frac{v_{2}}{R_{1}} = 0\\\\v_{2} \\left(C_{2} s + \\frac{1}{R_{2}} + \\frac{1}{R_{1}}\\right) - \\frac{v_{1}}{R_{1}} = 0\\end{matrix}\\right]$$"
      ],
      "text/plain": [
       "⎡           ⎛       1 ⎞   v₂    ⎤\n",
       "⎢-I_L1 + v₁⋅⎜C₁⋅s + ──⎟ - ── = 0⎥\n",
       "⎢           ⎝       R₁⎠   R₁    ⎥\n",
       "⎢                               ⎥\n",
       "⎢    ⎛       1    1 ⎞   v₁      ⎥\n",
       "⎢ v₂⋅⎜C₂⋅s + ── + ──⎟ - ── = 0  ⎥\n",
       "⎣    ⎝       R₂   R₁⎠   R₁      ⎦"
      ]
     },
     "execution_count": 5,
     "metadata": {},
     "output_type": "execute_result"
    }
   ],
   "source": [
    "# declare the following symbols\n",
    "v2, R1, I_L1, C1, v1, C2, s, R2 = symbols('v2 R1 I_L1 C1 v1 C2 s R2')\n",
    "\n",
    "# use the equations generated by nodal analysis\n",
    "equ_p1 = Matrix(\n",
    "    [[Eq(-I_L1 + v1*(C1*s + 1/R1) - v2/R1, 0)],\n",
    "    [Eq(v2*(C2*s + 1/R2 + 1/R1) - v1/R1, 0)]])\n",
    "equ_p1"
   ]
  },
  {
   "cell_type": "code",
   "execution_count": 6,
   "metadata": {},
   "outputs": [
    {
     "data": {
      "image/png": "[encoded data removed]",
      "text/latex": [
       "$$\\left \\{ v_{1} : - \\frac{I_{L1} R_{1} \\left(C_{2} R_{1} R_{2} s + R_{1} + R_{2}\\right)}{R_{2} - \\left(C_{1} R_{1} s + 1\\right) \\left(C_{2} R_{1} R_{2} s + R_{1} + R_{2}\\right)}, \\quad v_{2} : - \\frac{I_{L1} R_{1} R_{2}}{R_{2} - \\left(C_{1} R_{1} s + 1\\right) \\left(C_{2} R_{1} R_{2} s + R_{1} + R_{2}\\right)}\\right \\}$$"
      ],
      "text/plain": [
       "⎧         -I_L1⋅R₁⋅(C₂⋅R₁⋅R₂⋅s + R₁ + R₂)                          -I_L1⋅R₁⋅R₂\n",
       "⎨v₁: ─────────────────────────────────────────, v₂: ──────────────────────────\n",
       "⎩    R₂ - (C₁⋅R₁⋅s + 1)⋅(C₂⋅R₁⋅R₂⋅s + R₁ + R₂)      R₂ - (C₁⋅R₁⋅s + 1)⋅(C₂⋅R₁⋅\n",
       "\n",
       "               ⎫\n",
       "───────────────⎬\n",
       "R₂⋅s + R₁ + R₂)⎭"
      ]
     },
     "execution_count": 6,
     "metadata": {},
     "output_type": "execute_result"
    }
   ],
   "source": [
    "# find symbolic solution\n",
    "u = solve(equ_p1,[v1, v2, I_L1])\n",
    "u"
   ]
  },
  {
   "cell_type": "code",
   "execution_count": null,
   "metadata": {},
   "outputs": [],
   "source": []
  },
  {
   "cell_type": "code",
   "execution_count": null,
   "metadata": {},
   "outputs": [],
   "source": []
  },
  {
   "cell_type": "markdown",
   "metadata": {},
   "source": [
    "## Circuit with voltage source\n",
    "\n",
    "![schematic](sch_Chua’s_circuit_w_source.png)\n",
    "\n",
    "https://easyeda.com/editor#mode=sim,id=|6b1460bfe8ec4872b7d7fd3038f38331|82658727399e487c94ebe177746e0ba0|ea67be55cc5c49f288edfa4ed837b1f0|8ea3b89798114238a453a1c678008c07\n",
    "\n",
    "\n",
    "\n",
    "~~~\n",
    "V1 3 0 1\n",
    "L1 0 1 8.5e-3\n",
    "C1 0 1 47e-9\n",
    "C2 0 2 4.7e-9\n",
    "R1 1 2 1.6e3\n",
    "R2 3 2 1\n",
    "\n",
    "\n",
    "str(equ)\n",
    "'Matrix(\n",
    "[[Eq(-I_L1 + v1*(C1*s + 1/R1) - v2/R1, 0)],\n",
    "[Eq(v2*(C2*s + 1/R2 + 1/R1) - v3/R2 - v1/R1, 0)],\n",
    "[Eq(I_V1 - v2/R2 + v3/R2, 0)],\n",
    "[Eq(v3, V1)],\n",
    "[Eq(-I_L1*L1*s - v1, 0)]]\n",
    "\n",
    ")'\n",
    "str(equ.free_symbols)\n",
    "'{I_V1, V1, s, v2, R1, I_L1, v3, v1, C1, L1, C2, R2}'\n",
    "str(X)\n",
    "'[v1, v2, v3, I_V1, I_L1]'\n",
    "\n",
    "\n",
    "\n",
    "\n",
    "str(equ.free_symbols)\n",
    "'{I_V1, V1, s, v2, R1, I_L1, v3, v1, C1, L1, C2, R2}'\n",
    "str(X)\n",
    "'[v1, v2, v3, I_L1, I_V1]'\n",
    "\n",
    "~~~"
   ]
  },
  {
   "cell_type": "code",
   "execution_count": 6,
   "metadata": {},
   "outputs": [
    {
     "data": {
      "text/latex": [
       "$$\\left[\\begin{matrix}- I_{L1} + v_{1} \\left(C_{1} s + \\frac{1}{R_{1}}\\right) - \\frac{v_{2}}{R_{1}} = 0\\\\v_{2} \\left(C_{2} s + \\frac{1}{R_{2}} + \\frac{1}{R_{1}}\\right) - \\frac{v_{3}}{R_{2}} - \\frac{v_{1}}{R_{1}} = 0\\\\I_{V1} - \\frac{v_{2}}{R_{2}} + \\frac{v_{3}}{R_{2}} = 0\\\\v_{3} = V_{1}\\\\- I_{L1} L_{1} s - v_{1} = 0\\end{matrix}\\right]$$"
      ],
      "text/plain": [
       "⎡            ⎛       1 ⎞   v₂     ⎤\n",
       "⎢ -I_L1 + v₁⋅⎜C₁⋅s + ──⎟ - ── = 0 ⎥\n",
       "⎢            ⎝       R₁⎠   R₁     ⎥\n",
       "⎢                                 ⎥\n",
       "⎢   ⎛       1    1 ⎞   v₃   v₁    ⎥\n",
       "⎢v₂⋅⎜C₂⋅s + ── + ──⎟ - ── - ── = 0⎥\n",
       "⎢   ⎝       R₂   R₁⎠   R₂   R₁    ⎥\n",
       "⎢                                 ⎥\n",
       "⎢              v₂   v₃            ⎥\n",
       "⎢       I_V1 - ── + ── = 0        ⎥\n",
       "⎢              R₂   R₂            ⎥\n",
       "⎢                                 ⎥\n",
       "⎢             v₃ = V₁             ⎥\n",
       "⎢                                 ⎥\n",
       "⎣       -I_L1⋅L₁⋅s - v₁ = 0       ⎦"
      ]
     },
     "execution_count": 6,
     "metadata": {},
     "output_type": "execute_result"
    }
   ],
   "source": [
    "# declare the following symbols\n",
    "I_V1, V1, s, v2, R1, I_L1, v3, v1, C1, L1, C2, R2 = symbols('I_V1 V1 s v2 R1 I_L1 v3 v1 C1 L1 C2 R2')\n",
    "\n",
    "# use the equations generated by nodal analysis\n",
    "equ_p1 = Matrix(\n",
    "    [[Eq(-I_L1 + v1*(C1*s + 1/R1) - v2/R1, 0)],\n",
    "    [Eq(v2*(C2*s + 1/R2 + 1/R1) - v3/R2 - v1/R1, 0)],\n",
    "    [Eq(I_V1 - v2/R2 + v3/R2, 0)],\n",
    "    [Eq(v3, V1)],\n",
    "    [Eq(-I_L1*L1*s - v1, 0)]])\n",
    "equ_p1"
   ]
  },
  {
   "cell_type": "code",
   "execution_count": 7,
   "metadata": {},
   "outputs": [
    {
     "data": {
      "image/png": "[encoded data removed]",
      "text/latex": [
       "$$\\left \\{ I_{L1} : - \\frac{R_{1} V_{1}}{- L_{1} R_{2} s + L_{1} s \\left(C_{1} R_{1} s + 1\\right) \\left(C_{2} R_{1} R_{2} s + R_{1} + R_{2}\\right) + R_{1} \\left(C_{2} R_{1} R_{2} s + R_{1} + R_{2}\\right)}, \\quad I_{V1} : - \\frac{V_{1} \\left(C_{1} C_{2} L_{1} R_{1} s^{3} + C_{1} L_{1} s^{2} + C_{2} L_{1} s^{2} + C_{2} R_{1} s + 1\\right)}{C_{1} C_{2} L_{1} R_{1} R_{2} s^{3} + C_{1} L_{1} R_{1} s^{2} + C_{1} L_{1} R_{2} s^{2} + C_{2} L_{1} R_{2} s^{2} + C_{2} R_{1} R_{2} s + L_{1} s + R_{1} + R_{2}}, \\quad v_{1} : \\frac{L_{1} R_{1} V_{1} s}{- L_{1} R_{2} s + L_{1} s \\left(C_{1} R_{1} s + 1\\right) \\left(C_{2} R_{1} R_{2} s + R_{1} + R_{2}\\right) + R_{1} \\left(C_{2} R_{1} R_{2} s + R_{1} + R_{2}\\right)}, \\quad v_{2} : \\frac{R_{1} V_{1} \\left(L_{1} s \\left(C_{1} R_{1} s + 1\\right) + R_{1}\\right)}{- L_{1} R_{2} s + L_{1} s \\left(C_{1} R_{1} s + 1\\right) \\left(C_{2} R_{1} R_{2} s + R_{1} + R_{2}\\right) + R_{1} \\left(C_{2} R_{1} R_{2} s + R_{1} + R_{2}\\right)}, \\quad v_{3} : V_{1}\\right \\}$$"
      ],
      "text/plain": [
       "⎧                                                                             \n",
       "⎪                                          -R₁⋅V₁                             \n",
       "⎨I_L1: ───────────────────────────────────────────────────────────────────────\n",
       "⎪      -L₁⋅R₂⋅s + L₁⋅s⋅(C₁⋅R₁⋅s + 1)⋅(C₂⋅R₁⋅R₂⋅s + R₁ + R₂) + R₁⋅(C₂⋅R₁⋅R₂⋅s +\n",
       "⎩                                                                             \n",
       "\n",
       "                                     ⎛             3          2          2    \n",
       "                                 -V₁⋅⎝C₁⋅C₂⋅L₁⋅R₁⋅s  + C₁⋅L₁⋅s  + C₂⋅L₁⋅s  + C\n",
       "─────────, I_V1: ─────────────────────────────────────────────────────────────\n",
       " R₁ + R₂)                        3             2             2             2  \n",
       "                 C₁⋅C₂⋅L₁⋅R₁⋅R₂⋅s  + C₁⋅L₁⋅R₁⋅s  + C₁⋅L₁⋅R₂⋅s  + C₂⋅L₁⋅R₂⋅s  +\n",
       "\n",
       "          ⎞                                                                   \n",
       "₂⋅R₁⋅s + 1⎠                                                          L₁⋅R₁⋅V₁⋅\n",
       "────────────────────────────, v₁: ────────────────────────────────────────────\n",
       "                                  -L₁⋅R₂⋅s + L₁⋅s⋅(C₁⋅R₁⋅s + 1)⋅(C₂⋅R₁⋅R₂⋅s + \n",
       " C₂⋅R₁⋅R₂⋅s + L₁⋅s + R₁ + R₂                                                  \n",
       "\n",
       "                                                                              \n",
       "s                                                                 R₁⋅V₁⋅(L₁⋅s⋅\n",
       "────────────────────────────────────, v₂: ────────────────────────────────────\n",
       "R₁ + R₂) + R₁⋅(C₂⋅R₁⋅R₂⋅s + R₁ + R₂)      -L₁⋅R₂⋅s + L₁⋅s⋅(C₁⋅R₁⋅s + 1)⋅(C₂⋅R₁\n",
       "                                                                              \n",
       "\n",
       "                                                    ⎫\n",
       "(C₁⋅R₁⋅s + 1) + R₁)                                 ⎪\n",
       "────────────────────────────────────────────, v₃: V₁⎬\n",
       "⋅R₂⋅s + R₁ + R₂) + R₁⋅(C₂⋅R₁⋅R₂⋅s + R₁ + R₂)        ⎪\n",
       "                                                    ⎭"
      ]
     },
     "execution_count": 7,
     "metadata": {},
     "output_type": "execute_result"
    }
   ],
   "source": [
    "# find symbolic solution\n",
    "u = solve(equ_p1,[v1, v2, v3, I_L1, I_V1])\n",
    "u"
   ]
  },
  {
   "cell_type": "code",
   "execution_count": null,
   "metadata": {},
   "outputs": [],
   "source": []
  },
  {
   "cell_type": "code",
   "execution_count": null,
   "metadata": {},
   "outputs": [],
   "source": []
  },
  {
   "cell_type": "code",
   "execution_count": null,
   "metadata": {},
   "outputs": [],
   "source": []
  }
 ],
 "metadata": {
  "kernelspec": {
   "display_name": "Python 3 (ipykernel)",
   "language": "python",
   "name": "python3"
  },
  "language_info": {
   "codemirror_mode": {
    "name": "ipython",
    "version": 3
   },
   "file_extension": ".py",
   "mimetype": "text/x-python",
   "name": "python",
   "nbconvert_exporter": "python",
   "pygments_lexer": "ipython3",
   "version": "3.10.9"
  }
 },
 "nbformat": 4,
 "nbformat_minor": 4
}
