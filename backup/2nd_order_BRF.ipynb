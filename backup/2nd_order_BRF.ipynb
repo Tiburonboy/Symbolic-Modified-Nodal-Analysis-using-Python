{
 "cells": [
  {
   "cell_type": "raw",
   "metadata": {},
   "source": [
    "---\n",
    "title:\n",
    "format: \n",
    "    html:\n",
    "        code-fold: false\n",
    "        embed-resources: false\n",
    "        code-tools: true\n",
    "        number-sections: true\n",
    "jupyter: python3\n",
    "---"
   ]
  },
  {
   "cell_type": "markdown",
   "metadata": {
    "tags": []
   },
   "source": [
    "# 2nd Order BRF {#sec-2nd-order-brf}\n",
    "\n",
    "## Abstract {.unnumbered}\n",
    "\n",
    "## Introduction\n",
    "This notebook walks through the Python code used to generate and solve the circuit network equations. The example starts with a net list for the circuit shown below. \n",
    "\n",
    "![](2nd_order_BRF.png)\n",
    "\n",
    "\n",
    "## Circuit description\n",
    "The circuit below is a 2nd order band reject filter, problem 13-20 from @Budak1974. The schematic of the circuit is shown below with each node explicity annotated. The problem asks to obtain: $\\frac {V_o} {V_i}$, which according to the way I have labled the nodes, is $\\frac {V_2} {V_1}$.\n",
    "\n",
    "<!--\n",
    "<img src=\"2nd_order_BRF.png\" width=\"700\">  \n",
    "-->\n",
    "\n",
    "\n",
    "The net list for this circuit is:\n",
    "```\n",
    "* 2nd order BRF\n",
    "O1 2 5 2 \n",
    "V1 1 0 1\n",
    "C3 3 0 2\n",
    "C1 4 1 1\n",
    "C2 5 4 1\n",
    "R1 2 4 0.5\n",
    "R2 3 1 1\n",
    "R3 5 3 1\n",
    "```\n",
    "Reference:   \n",
    "1. Aram Budak, [Passive and Active Network Analysis and Synthesis](https://www.amazon.com/Passive-Active-Network-Analysis-Synthesis/dp/0881336254), Houghton Mifflin Comp. 1974"
   ]
  },
  {
   "cell_type": "code",
   "execution_count": 1,
   "metadata": {
    "collapsed": false,
    "jupyter": {
     "outputs_hidden": false
    }
   },
   "outputs": [],
   "source": [
    "import os\n",
    "from sympy import *\n",
    "import numpy as np\n",
    "from scipy import signal\n",
    "import matplotlib.pyplot as plt\n",
    "import pandas as pd\n",
    "import SymMNA\n",
    "init_printing()"
   ]
  },
  {
   "cell_type": "markdown",
   "metadata": {
    "tags": []
   },
   "source": [
    "## Load the net list\n",
    "independent sources have their values set to the DC value."
   ]
  },
  {
   "cell_type": "code",
   "execution_count": 2,
   "metadata": {},
   "outputs": [],
   "source": [
    "example_net_list = '''\n",
    "O1 2 5 2 \n",
    "V1 1 0 1\n",
    "C3 3 0 2\n",
    "C1 4 1 1\n",
    "C2 5 4 1\n",
    "R1 2 4 0.5\n",
    "R2 3 1 1\n",
    "R3 5 3 1\n",
    "'''"
   ]
  },
  {
   "cell_type": "code",
   "execution_count": 3,
   "metadata": {},
   "outputs": [],
   "source": [
    "report, df, df2, A, X, Z = SymMNA.smna(example_net_list)"
   ]
  },
  {
   "cell_type": "code",
   "execution_count": 4,
   "metadata": {},
   "outputs": [
    {
     "name": "stdout",
     "output_type": "stream",
     "text": [
      "Net list report\n",
      "number of lines in netlist: 8\n",
      "number of branches: 7\n",
      "number of nodes: 5\n",
      "number of unknown currents: 2\n",
      "number of RLC (passive components): 6\n",
      "number of inductors: 0\n",
      "number of independent voltage sources: 1\n",
      "number of independent current sources: 0\n",
      "number of op amps: 1\n",
      "number of E - VCVS: 0\n",
      "number of G - VCCS: 0\n",
      "number of F - CCCS: 0\n",
      "number of H - CCVS: 0\n",
      "number of K - Coupled inductors: 0\n",
      "\n"
     ]
    }
   ],
   "source": [
    "print(report)"
   ]
  },
  {
   "cell_type": "code",
   "execution_count": 5,
   "metadata": {},
   "outputs": [],
   "source": [
    "# Put matricies into SymPy \n",
    "X = Matrix(X)\n",
    "Z = Matrix(Z)"
   ]
  },
  {
   "cell_type": "code",
   "execution_count": 6,
   "metadata": {},
   "outputs": [
    {
     "data": {
      "text/latex": [
       "$\\displaystyle \\left[\\begin{matrix}v_{1}\\\\v_{2}\\\\v_{3}\\\\v_{4}\\\\v_{5}\\\\I_{V1}\\\\I_{O1}\\end{matrix}\\right]$"
      ],
      "text/plain": [
       "⎡ v₁ ⎤\n",
       "⎢    ⎥\n",
       "⎢ v₂ ⎥\n",
       "⎢    ⎥\n",
       "⎢ v₃ ⎥\n",
       "⎢    ⎥\n",
       "⎢ v₄ ⎥\n",
       "⎢    ⎥\n",
       "⎢ v₅ ⎥\n",
       "⎢    ⎥\n",
       "⎢I_V1⎥\n",
       "⎢    ⎥\n",
       "⎣I_O1⎦"
      ]
     },
     "execution_count": 6,
     "metadata": {},
     "output_type": "execute_result"
    }
   ],
   "source": [
    "X"
   ]
  },
  {
   "cell_type": "code",
   "execution_count": 7,
   "metadata": {},
   "outputs": [
    {
     "data": {
      "text/latex": [
       "$\\displaystyle \\left[\\begin{matrix}0\\\\0\\\\0\\\\0\\\\0\\\\V_{1}\\\\0\\end{matrix}\\right]$"
      ],
      "text/plain": [
       "⎡0 ⎤\n",
       "⎢  ⎥\n",
       "⎢0 ⎥\n",
       "⎢  ⎥\n",
       "⎢0 ⎥\n",
       "⎢  ⎥\n",
       "⎢0 ⎥\n",
       "⎢  ⎥\n",
       "⎢0 ⎥\n",
       "⎢  ⎥\n",
       "⎢V₁⎥\n",
       "⎢  ⎥\n",
       "⎣0 ⎦"
      ]
     },
     "execution_count": 7,
     "metadata": {},
     "output_type": "execute_result"
    }
   ],
   "source": [
    "Z"
   ]
  },
  {
   "cell_type": "code",
   "execution_count": 8,
   "metadata": {},
   "outputs": [],
   "source": [
    "equ = Eq(A*X,Z)"
   ]
  },
  {
   "cell_type": "code",
   "execution_count": 9,
   "metadata": {},
   "outputs": [
    {
     "data": {
      "text/latex": [
       "$\\displaystyle \\left[\\begin{matrix}- C_{1} s v_{4} + I_{V1} + v_{1} \\left(C_{1} s + \\frac{1}{R_{2}}\\right) - \\frac{v_{3}}{R_{2}}\\\\I_{O1} + \\frac{v_{2}}{R_{1}} - \\frac{v_{4}}{R_{1}}\\\\v_{3} \\left(C_{3} s + \\frac{1}{R_{3}} + \\frac{1}{R_{2}}\\right) - \\frac{v_{5}}{R_{3}} - \\frac{v_{1}}{R_{2}}\\\\- C_{1} s v_{1} - C_{2} s v_{5} + v_{4} \\left(C_{1} s + C_{2} s + \\frac{1}{R_{1}}\\right) - \\frac{v_{2}}{R_{1}}\\\\- C_{2} s v_{4} + v_{5} \\left(C_{2} s + \\frac{1}{R_{3}}\\right) - \\frac{v_{3}}{R_{3}}\\\\v_{1}\\\\v_{2} - v_{5}\\end{matrix}\\right] = \\left[\\begin{matrix}0\\\\0\\\\0\\\\0\\\\0\\\\V_{1}\\\\0\\end{matrix}\\right]$"
      ],
      "text/plain": [
       "⎡                          ⎛       1 ⎞   v₃     ⎤       \n",
       "⎢     -C₁⋅s⋅v₄ + I_V1 + v₁⋅⎜C₁⋅s + ──⎟ - ──     ⎥       \n",
       "⎢                          ⎝       R₂⎠   R₂     ⎥       \n",
       "⎢                                               ⎥       \n",
       "⎢                       v₂   v₄                 ⎥       \n",
       "⎢                I_O1 + ── - ──                 ⎥   ⎡0 ⎤\n",
       "⎢                       R₁   R₁                 ⎥   ⎢  ⎥\n",
       "⎢                                               ⎥   ⎢0 ⎥\n",
       "⎢            ⎛       1    1 ⎞   v₅   v₁         ⎥   ⎢  ⎥\n",
       "⎢         v₃⋅⎜C₃⋅s + ── + ──⎟ - ── - ──         ⎥   ⎢0 ⎥\n",
       "⎢            ⎝       R₃   R₂⎠   R₃   R₂         ⎥   ⎢  ⎥\n",
       "⎢                                               ⎥ = ⎢0 ⎥\n",
       "⎢                        ⎛              1 ⎞   v₂⎥   ⎢  ⎥\n",
       "⎢-C₁⋅s⋅v₁ - C₂⋅s⋅v₅ + v₄⋅⎜C₁⋅s + C₂⋅s + ──⎟ - ──⎥   ⎢0 ⎥\n",
       "⎢                        ⎝              R₁⎠   R₁⎥   ⎢  ⎥\n",
       "⎢                                               ⎥   ⎢V₁⎥\n",
       "⎢                      ⎛       1 ⎞   v₃         ⎥   ⎢  ⎥\n",
       "⎢        -C₂⋅s⋅v₄ + v₅⋅⎜C₂⋅s + ──⎟ - ──         ⎥   ⎣0 ⎦\n",
       "⎢                      ⎝       R₃⎠   R₃         ⎥       \n",
       "⎢                                               ⎥       \n",
       "⎢                      v₁                       ⎥       \n",
       "⎢                                               ⎥       \n",
       "⎣                    v₂ - v₅                    ⎦       "
      ]
     },
     "execution_count": 9,
     "metadata": {},
     "output_type": "execute_result"
    }
   ],
   "source": [
    "equ"
   ]
  },
  {
   "cell_type": "code",
   "execution_count": 10,
   "metadata": {},
   "outputs": [
    {
     "data": {
      "image/png": "[encoded data removed]",
      "text/latex": [
       "$\\displaystyle \\left( s, \\  v_{4}, \\  v_{5}, \\  v_{2}, \\  I_{O1}, \\  V_{1}, \\  R_{2}, \\  R_{1}, \\  C_{3}, \\  I_{V1}, \\  R_{3}, \\  v_{1}, \\  C_{1}, \\  C_{2}, \\  v_{3}\\right)$"
      ],
      "text/plain": [
       "(s, v₄, v₅, v₂, I_O1, V₁, R₂, R₁, C₃, I_V1, R₃, v₁, C₁, C₂, v₃)"
      ]
     },
     "execution_count": 10,
     "metadata": {},
     "output_type": "execute_result"
    }
   ],
   "source": [
    "# turn the free symbols into SymPy variables\n",
    "var(str(equ.free_symbols).replace('{','').replace('}',''))"
   ]
  },
  {
   "cell_type": "code",
   "execution_count": null,
   "metadata": {},
   "outputs": [],
   "source": []
  },
  {
   "cell_type": "markdown",
   "metadata": {},
   "source": [
    "## Symbolic MNA code "
   ]
  },
  {
   "cell_type": "code",
   "execution_count": 11,
   "metadata": {
    "collapsed": false,
    "jupyter": {
     "outputs_hidden": false
    }
   },
   "outputs": [],
   "source": [
    "# initialize variables\n",
    "num_rlc = 0 # number of passive elements\n",
    "num_ind = 0 # number of inductors\n",
    "num_v = 0    # number of independent voltage sources\n",
    "num_i = 0    # number of independent current sources\n",
    "i_unk = 0  # number of current unknowns\n",
    "num_opamps = 0   # number of op amps\n",
    "num_vcvs = 0     # number of controlled sources of various types\n",
    "num_vccs = 0\n",
    "num_cccs = 0\n",
    "num_ccvs = 0\n",
    "num_cpld_ind = 0 # number of coupled inductors"
   ]
  },
  {
   "cell_type": "markdown",
   "metadata": {
    "tags": []
   },
   "source": [
    "## Read the net list and preprocess it\n",
    "The following steps are performed:   \n",
    "\n",
    "- remove blank lines and comments  \n",
    "- convert first letter of element name to upper case  \n",
    "- removes extra spaces between entries  \n",
    "- count number of entries on each line, make sure the count is correct, count each element type  "
   ]
  },
  {
   "cell_type": "code",
   "execution_count": 12,
   "metadata": {},
   "outputs": [],
   "source": [
    "example_net_list = '''O1 2 5 2 \n",
    "V1 1 0 1\n",
    "C3 3 0 2\n",
    "C1 4 1 1\n",
    "C2 5 4 1\n",
    "R1 2 4 0.5\n",
    "R2 3 1 1\n",
    "R3 5 3 1'''"
   ]
  },
  {
   "cell_type": "code",
   "execution_count": 13,
   "metadata": {
    "tags": []
   },
   "outputs": [],
   "source": [
    "content = example_net_list.splitlines()\n",
    "\n",
    "content = [x.strip() for x in content]  #remove leading and trailing white space\n",
    "# remove empty lines\n",
    "while '' in content:\n",
    "    content.pop(content.index(''))\n",
    "\n",
    "# remove comment lines, these start with a asterisk *\n",
    "content = [n for n in content if not n.startswith('*')]\n",
    "# remove other comment lines, these start with a semicolon ;\n",
    "content = [n for n in content if not n.startswith(';')]\n",
    "# remove spice directives, these start with a period, .\n",
    "content = [n for n in content if not n.startswith('.')]\n",
    "# converts 1st letter to upper case\n",
    "#content = [x.upper() for x in content] <- this converts all to upper case\n",
    "content = [x.capitalize() for x in content]\n",
    "# removes extra spaces between entries\n",
    "content = [' '.join(x.split()) for x in content]"
   ]
  },
  {
   "cell_type": "code",
   "execution_count": 14,
   "metadata": {},
   "outputs": [
    {
     "name": "stdout",
     "output_type": "stream",
     "text": [
      "O1 2 5 2\n",
      "V1 1 0 1\n",
      "C3 3 0 2\n",
      "C1 4 1 1\n",
      "C2 5 4 1\n",
      "R1 2 4 0.5\n",
      "R2 3 1 1\n",
      "R3 5 3 1\n"
     ]
    }
   ],
   "source": [
    "for i in content:\n",
    "    print(i)"
   ]
  },
  {
   "cell_type": "code",
   "execution_count": 15,
   "metadata": {
    "tags": []
   },
   "outputs": [],
   "source": [
    "line_cnt = len(content) # number of lines in the netlist\n",
    "branch_cnt = 0  # number of branches in the netlist\n",
    "# check number of entries on each line, count each element type\n",
    "for i in range(line_cnt):\n",
    "    x = content[i][0]\n",
    "    tk_cnt = len(content[i].split()) # split the line into a list of words\n",
    "\n",
    "    if (x == 'R') or (x == 'L') or (x == 'C'):\n",
    "        if tk_cnt != 4:\n",
    "            print(\"branch {:d} not formatted correctly, {:s}\".format(i,content[i]))\n",
    "            print(\"had {:d} items and should only be 4\".format(tk_cnt))\n",
    "        num_rlc += 1\n",
    "        branch_cnt += 1\n",
    "        if x == 'L':\n",
    "            num_ind += 1\n",
    "    elif x == 'V':\n",
    "        if tk_cnt != 4:\n",
    "            print(\"branch {:d} not formatted correctly, {:s}\".format(i,content[i]))\n",
    "            print(\"had {:d} items and should only be 4\".format(tk_cnt))\n",
    "        num_v += 1\n",
    "        branch_cnt += 1\n",
    "    elif x == 'I':\n",
    "        if tk_cnt != 4:\n",
    "            print(\"branch {:d} not formatted correctly, {:s}\".format(i,content[i]))\n",
    "            print(\"had {:d} items and should only be 4\".format(tk_cnt))\n",
    "        num_i += 1\n",
    "        branch_cnt += 1\n",
    "    elif x == 'O':\n",
    "        if tk_cnt != 4:\n",
    "            print(\"branch {:d} not formatted correctly, {:s}\".format(i,content[i]))\n",
    "            print(\"had {:d} items and should only be 4\".format(tk_cnt))\n",
    "        num_opamps += 1\n",
    "    elif x == 'E':\n",
    "        if (tk_cnt != 6):\n",
    "            print(\"branch {:d} not formatted correctly, {:s}\".format(i,content[i]))\n",
    "            print(\"had {:d} items and should only be 6\".format(tk_cnt))\n",
    "        num_vcvs += 1\n",
    "        branch_cnt += 1\n",
    "    elif x == 'G':\n",
    "        if (tk_cnt != 6):\n",
    "            print(\"branch {:d} not formatted correctly, {:s}\".format(i,content[i]))\n",
    "            print(\"had {:d} items and should only be 6\".format(tk_cnt))\n",
    "        num_vccs += 1\n",
    "        branch_cnt += 1\n",
    "    elif x == 'F':\n",
    "        if (tk_cnt != 5):\n",
    "            print(\"branch {:d} not formatted correctly, {:s}\".format(i,content[i]))\n",
    "            print(\"had {:d} items and should only be 5\".format(tk_cnt))\n",
    "        num_cccs += 1\n",
    "        branch_cnt += 1\n",
    "    elif x == 'H':\n",
    "        if (tk_cnt != 5):\n",
    "            print(\"branch {:d} not formatted correctly, {:s}\".format(i,content[i]))\n",
    "            print(\"had {:d} items and should only be 5\".format(tk_cnt))\n",
    "        num_ccvs += 1\n",
    "        branch_cnt += 1\n",
    "    elif x == 'K':\n",
    "        if (tk_cnt != 4):\n",
    "            print(\"branch {:d} not formatted correctly, {:s}\".format(i,content[i]))\n",
    "            print(\"had {:d} items and should only be 4\".format(tk_cnt))\n",
    "        num_cpld_ind += 1\n",
    "    else:\n",
    "        print(\"unknown element type in branch {:d}, {:s}\".format(i,content[i]))"
   ]
  },
  {
   "cell_type": "markdown",
   "metadata": {},
   "source": [
    "## Parser\n",
    "The parser performs the following operations.\n",
    "\n",
    "1. puts branch elements into data frame  \n",
    "2. counts number of nodes  \n",
    "\n",
    "data frame labels:  \n",
    "\n",
    "- element: type of element  \n",
    "- p node: positive node  \n",
    "- n node: negative node, for a current source, the arrow point terminal, LTspice puts the inductor phasing dot on this terminal  \n",
    "- cp node: controlling positive node of branch  \n",
    "- cn node: controlling negative node of branch  \n",
    "- Vout: opamp output node  \n",
    "- value: value of element or voltage  \n",
    "- Vname: voltage source through which the controlling current flows. Need to add a zero volt voltage source to the controlling branch.  \n",
    "- Lname1: name of coupled inductor 1  \n",
    "- Lname2: name of coupled inductor 2  "
   ]
  },
  {
   "cell_type": "code",
   "execution_count": 16,
   "metadata": {
    "tags": []
   },
   "outputs": [],
   "source": [
    "# build the pandas data frame\n",
    "df = pd.DataFrame(columns=['element','p node','n node','cp node','cn node',\n",
    "    'Vout','value','Vname','Lname1','Lname2'])\n",
    "\n",
    "# this data frame is for branches with unknown currents\n",
    "df2 = pd.DataFrame(columns=['element','p node','n node'])"
   ]
  },
  {
   "cell_type": "markdown",
   "metadata": {},
   "source": [
    "### Functions to load branch elements into data frame and check for gaps in node numbering"
   ]
  },
  {
   "cell_type": "code",
   "execution_count": 17,
   "metadata": {
    "collapsed": false,
    "jupyter": {
     "outputs_hidden": false
    }
   },
   "outputs": [],
   "source": [
    "# loads voltage or current sources into branch structure\n",
    "def indep_source(line_nu):\n",
    "    tk = content[line_nu].split()\n",
    "    df.loc[line_nu,'element'] = tk[0]\n",
    "    df.loc[line_nu,'p node'] = int(tk[1])\n",
    "    df.loc[line_nu,'n node'] = int(tk[2])\n",
    "    df.loc[line_nu,'value'] = float(tk[3])\n",
    "\n",
    "# loads passive elements into branch structure\n",
    "def rlc_element(line_nu):\n",
    "    tk = content[line_nu].split()\n",
    "    df.loc[line_nu,'element'] = tk[0]\n",
    "    df.loc[line_nu,'p node'] = int(tk[1])\n",
    "    df.loc[line_nu,'n node'] = int(tk[2])\n",
    "    df.loc[line_nu,'value'] = float(tk[3])\n",
    "\n",
    "# loads multi-terminal elements into branch structure\n",
    "# O - Op Amps\n",
    "def opamp_sub_network(line_nu):\n",
    "    tk = content[line_nu].split()\n",
    "    df.loc[line_nu,'element'] = tk[0]\n",
    "    df.loc[line_nu,'p node'] = int(tk[1])\n",
    "    df.loc[line_nu,'n node'] = int(tk[2])\n",
    "    df.loc[line_nu,'Vout'] = int(tk[3])\n",
    "\n",
    "# G - VCCS\n",
    "def vccs_sub_network(line_nu):\n",
    "    tk = content[line_nu].split()\n",
    "    df.loc[line_nu,'element'] = tk[0]\n",
    "    df.loc[line_nu,'p node'] = int(tk[1])\n",
    "    df.loc[line_nu,'n node'] = int(tk[2])\n",
    "    df.loc[line_nu,'cp node'] = int(tk[3])\n",
    "    df.loc[line_nu,'cn node'] = int(tk[4])\n",
    "    df.loc[line_nu,'value'] = float(tk[5])\n",
    "\n",
    "# E - VCVS\n",
    "# in sympy E is the number 2.718, replacing E with Ea otherwise, sympify() errors out\n",
    "def vcvs_sub_network(line_nu):\n",
    "    tk = content[line_nu].split()\n",
    "    df.loc[line_nu,'element'] = tk[0].replace('E', 'Ea')\n",
    "    df.loc[line_nu,'p node'] = int(tk[1])\n",
    "    df.loc[line_nu,'n node'] = int(tk[2])\n",
    "    df.loc[line_nu,'cp node'] = int(tk[3])\n",
    "    df.loc[line_nu,'cn node'] = int(tk[4])\n",
    "    df.loc[line_nu,'value'] = float(tk[5])\n",
    "\n",
    "# F - CCCS\n",
    "def cccs_sub_network(line_nu):\n",
    "    tk = content[line_nu].split()\n",
    "    df.loc[line_nu,'element'] = tk[0]\n",
    "    df.loc[line_nu,'p node'] = int(tk[1])\n",
    "    df.loc[line_nu,'n node'] = int(tk[2])\n",
    "    df.loc[line_nu,'Vname'] = tk[3].capitalize()\n",
    "    df.loc[line_nu,'value'] = float(tk[4])\n",
    "\n",
    "# H - CCVS\n",
    "def ccvs_sub_network(line_nu):\n",
    "    tk = content[line_nu].split()\n",
    "    df.loc[line_nu,'element'] = tk[0]\n",
    "    df.loc[line_nu,'p node'] = int(tk[1])\n",
    "    df.loc[line_nu,'n node'] = int(tk[2])\n",
    "    df.loc[line_nu,'Vname'] = tk[3].capitalize()\n",
    "    df.loc[line_nu,'value'] = float(tk[4])\n",
    "\n",
    "# K - Coupled inductors\n",
    "def cpld_ind_sub_network(line_nu):\n",
    "    tk = content[line_nu].split()\n",
    "    df.loc[line_nu,'element'] = tk[0]\n",
    "    df.loc[line_nu,'Lname1'] = tk[1].capitalize()\n",
    "    df.loc[line_nu,'Lname2'] = tk[2].capitalize()\n",
    "    df.loc[line_nu,'value'] = float(tk[3])\n",
    "\n",
    "# function to scan df and get largest node number\n",
    "def count_nodes():\n",
    "    # need to check that nodes are consecutive\n",
    "    # fill array with node numbers\n",
    "    p = np.zeros(line_cnt+1)\n",
    "    for i in range(line_cnt):\n",
    "        # need to skip coupled inductor 'K' statements\n",
    "        if df.loc[i,'element'][0] != 'K': #get 1st letter of element name\n",
    "            p[df['p node'][i]] = df['p node'][i]\n",
    "            p[df['n node'][i]] = df['n node'][i]\n",
    "\n",
    "    # find the largest node number\n",
    "    if df['n node'].max() > df['p node'].max():\n",
    "        largest = df['n node'].max()\n",
    "    else:\n",
    "        largest =  df['p node'].max()\n",
    "\n",
    "    largest = int(largest)\n",
    "    # check for unfilled elements, skip node 0\n",
    "    for i in range(1,largest):\n",
    "        if p[i] == 0:\n",
    "            print('nodes not in continuous order, node {:.0f} is missing'.format(p[i-1]+1))\n",
    "\n",
    "    return largest"
   ]
  },
  {
   "cell_type": "markdown",
   "metadata": {},
   "source": [
    "### Load circuit netlist into the data frames"
   ]
  },
  {
   "cell_type": "code",
   "execution_count": 18,
   "metadata": {
    "collapsed": false,
    "jupyter": {
     "outputs_hidden": false
    }
   },
   "outputs": [],
   "source": [
    "# load branch info into data frame\n",
    "for i in range(line_cnt):\n",
    "    x = content[i][0]\n",
    "\n",
    "    if (x == 'R') or (x == 'L') or (x == 'C'):\n",
    "        rlc_element(i)\n",
    "    elif (x == 'V') or (x == 'I'):\n",
    "        indep_source(i)\n",
    "    elif x == 'O':\n",
    "        opamp_sub_network(i)\n",
    "    elif x == 'E':\n",
    "        vcvs_sub_network(i)\n",
    "    elif x == 'G':\n",
    "        vccs_sub_network(i)\n",
    "    elif x == 'F':\n",
    "        cccs_sub_network(i)\n",
    "    elif x == 'H':\n",
    "        ccvs_sub_network(i)\n",
    "    elif x == 'K':\n",
    "        cpld_ind_sub_network(i)\n",
    "    else:\n",
    "        print(\"unknown element type in branch {:d}, {:s}\".format(i,content[i]))"
   ]
  },
  {
   "cell_type": "markdown",
   "metadata": {},
   "source": [
    "29 Nov 2023:  When the D matrix is built, independent voltage sources are processed in the data frame order when building the D matrix. If the voltage source followed element L, H, F, K types in the netlist, a row was inserted that put the voltage source in a different row in relation to its position in the Ev matrix. This would cause the node attached to the terminal of the voltage source to be zero volts.  \n",
    "Solution - The following block of code was added to move voltage source types to the beginning of the net list dataframe before any calculations are performed. "
   ]
  },
  {
   "cell_type": "code",
   "execution_count": 19,
   "metadata": {},
   "outputs": [],
   "source": [
    "# Check for position of voltages sources in the dataframe.\n",
    "source_index = [] # keep track of voltage source row number\n",
    "other_index = [] # make a list of all other types\n",
    "for i in range(len(df)):\n",
    "    # process all the elements creating unknown currents\n",
    "    x = df.loc[i,'element'][0]   #get 1st letter of element name\n",
    "    if (x == 'V'):\n",
    "        source_index.append(i)\n",
    "    else:\n",
    "        other_index.append(i)\n",
    "\n",
    "df = df.reindex(source_index+other_index,copy=True) # re-order the data frame\n",
    "df.reset_index(drop=True, inplace=True) # renumber the index"
   ]
  },
  {
   "cell_type": "code",
   "execution_count": 20,
   "metadata": {
    "collapsed": false,
    "jupyter": {
     "outputs_hidden": false
    }
   },
   "outputs": [],
   "source": [
    "# count number of nodes\n",
    "num_nodes = count_nodes()\n",
    "\n",
    "# Build df2: consists of branches with current unknowns, used for C & D matrices\n",
    "# walk through data frame and find these parameters\n",
    "count = 0\n",
    "for i in range(len(df)):\n",
    "    # process all the elements creating unknown currents\n",
    "    x = df.loc[i,'element'][0]   #get 1st letter of element name\n",
    "    if (x == 'L') or (x == 'V') or (x == 'O') or (x == 'E') or (x == 'H') or (x == 'F'):\n",
    "        df2.loc[count,'element'] = df.loc[i,'element']\n",
    "        df2.loc[count,'p node'] = df.loc[i,'p node']\n",
    "        df2.loc[count,'n node'] = df.loc[i,'n node']\n",
    "        count += 1"
   ]
  },
  {
   "cell_type": "markdown",
   "metadata": {},
   "source": [
    "## Print net list report"
   ]
  },
  {
   "cell_type": "code",
   "execution_count": 21,
   "metadata": {
    "tags": []
   },
   "outputs": [
    {
     "name": "stdout",
     "output_type": "stream",
     "text": [
      "Net list report\n",
      "number of lines in netlist: 8\n",
      "number of branches: 7\n",
      "number of nodes: 5\n",
      "number of unknown currents: 2\n",
      "number of RLC (passive components): 6\n",
      "number of inductors: 0\n",
      "number of independent voltage sources: 1\n",
      "number of independent current sources: 0\n",
      "number of op amps: 1\n",
      "number of E - VCVS: 0\n",
      "number of G - VCCS: 0\n",
      "number of F - CCCS: 0\n",
      "number of H - CCVS: 0\n",
      "number of K - Coupled inductors: 0\n"
     ]
    }
   ],
   "source": [
    "# print a report\n",
    "print('Net list report')\n",
    "print('number of lines in netlist: {:d}'.format(line_cnt))\n",
    "print('number of branches: {:d}'.format(branch_cnt))\n",
    "print('number of nodes: {:d}'.format(num_nodes))\n",
    "# count the number of element types that affect the size of the B, C, D, E and J arrays\n",
    "# these are current unknows\n",
    "i_unk = num_v+num_opamps+num_vcvs+num_ccvs+num_cccs+num_ind\n",
    "print('number of unknown currents: {:d}'.format(i_unk))\n",
    "print('number of RLC (passive components): {:d}'.format(num_rlc))\n",
    "print('number of inductors: {:d}'.format(num_ind))\n",
    "print('number of independent voltage sources: {:d}'.format(num_v))\n",
    "print('number of independent current sources: {:d}'.format(num_i))\n",
    "print('number of op amps: {:d}'.format(num_opamps))\n",
    "print('number of E - VCVS: {:d}'.format(num_vcvs))\n",
    "print('number of G - VCCS: {:d}'.format(num_vccs))\n",
    "print('number of F - CCCS: {:d}'.format(num_cccs))\n",
    "print('number of H - CCVS: {:d}'.format(num_ccvs))\n",
    "print('number of K - Coupled inductors: {:d}'.format(num_cpld_ind))"
   ]
  },
  {
   "cell_type": "code",
   "execution_count": 22,
   "metadata": {
    "collapsed": false,
    "jupyter": {
     "outputs_hidden": false
    }
   },
   "outputs": [
    {
     "data": {
      "text/html": [
       "<div>\n",
       "<style scoped>\n",
       "    .dataframe tbody tr th:only-of-type {\n",
       "        vertical-align: middle;\n",
       "    }\n",
       "\n",
       "    .dataframe tbody tr th {\n",
       "        vertical-align: top;\n",
       "    }\n",
       "\n",
       "    .dataframe thead th {\n",
       "        text-align: right;\n",
       "    }\n",
       "</style>\n",
       "<table border=\"1\" class=\"dataframe\">\n",
       "  <thead>\n",
       "    <tr style=\"text-align: right;\">\n",
       "      <th></th>\n",
       "      <th>element</th>\n",
       "      <th>p node</th>\n",
       "      <th>n node</th>\n",
       "      <th>cp node</th>\n",
       "      <th>cn node</th>\n",
       "      <th>Vout</th>\n",
       "      <th>value</th>\n",
       "      <th>Vname</th>\n",
       "      <th>Lname1</th>\n",
       "      <th>Lname2</th>\n",
       "    </tr>\n",
       "  </thead>\n",
       "  <tbody>\n",
       "    <tr>\n",
       "      <th>0</th>\n",
       "      <td>V1</td>\n",
       "      <td>1</td>\n",
       "      <td>0</td>\n",
       "      <td>NaN</td>\n",
       "      <td>NaN</td>\n",
       "      <td>NaN</td>\n",
       "      <td>1.0</td>\n",
       "      <td>NaN</td>\n",
       "      <td>NaN</td>\n",
       "      <td>NaN</td>\n",
       "    </tr>\n",
       "    <tr>\n",
       "      <th>1</th>\n",
       "      <td>O1</td>\n",
       "      <td>2</td>\n",
       "      <td>5</td>\n",
       "      <td>NaN</td>\n",
       "      <td>NaN</td>\n",
       "      <td>2</td>\n",
       "      <td>NaN</td>\n",
       "      <td>NaN</td>\n",
       "      <td>NaN</td>\n",
       "      <td>NaN</td>\n",
       "    </tr>\n",
       "    <tr>\n",
       "      <th>2</th>\n",
       "      <td>C3</td>\n",
       "      <td>3</td>\n",
       "      <td>0</td>\n",
       "      <td>NaN</td>\n",
       "      <td>NaN</td>\n",
       "      <td>NaN</td>\n",
       "      <td>2.0</td>\n",
       "      <td>NaN</td>\n",
       "      <td>NaN</td>\n",
       "      <td>NaN</td>\n",
       "    </tr>\n",
       "    <tr>\n",
       "      <th>3</th>\n",
       "      <td>C1</td>\n",
       "      <td>4</td>\n",
       "      <td>1</td>\n",
       "      <td>NaN</td>\n",
       "      <td>NaN</td>\n",
       "      <td>NaN</td>\n",
       "      <td>1.0</td>\n",
       "      <td>NaN</td>\n",
       "      <td>NaN</td>\n",
       "      <td>NaN</td>\n",
       "    </tr>\n",
       "    <tr>\n",
       "      <th>4</th>\n",
       "      <td>C2</td>\n",
       "      <td>5</td>\n",
       "      <td>4</td>\n",
       "      <td>NaN</td>\n",
       "      <td>NaN</td>\n",
       "      <td>NaN</td>\n",
       "      <td>1.0</td>\n",
       "      <td>NaN</td>\n",
       "      <td>NaN</td>\n",
       "      <td>NaN</td>\n",
       "    </tr>\n",
       "    <tr>\n",
       "      <th>5</th>\n",
       "      <td>R1</td>\n",
       "      <td>2</td>\n",
       "      <td>4</td>\n",
       "      <td>NaN</td>\n",
       "      <td>NaN</td>\n",
       "      <td>NaN</td>\n",
       "      <td>0.5</td>\n",
       "      <td>NaN</td>\n",
       "      <td>NaN</td>\n",
       "      <td>NaN</td>\n",
       "    </tr>\n",
       "    <tr>\n",
       "      <th>6</th>\n",
       "      <td>R2</td>\n",
       "      <td>3</td>\n",
       "      <td>1</td>\n",
       "      <td>NaN</td>\n",
       "      <td>NaN</td>\n",
       "      <td>NaN</td>\n",
       "      <td>1.0</td>\n",
       "      <td>NaN</td>\n",
       "      <td>NaN</td>\n",
       "      <td>NaN</td>\n",
       "    </tr>\n",
       "    <tr>\n",
       "      <th>7</th>\n",
       "      <td>R3</td>\n",
       "      <td>5</td>\n",
       "      <td>3</td>\n",
       "      <td>NaN</td>\n",
       "      <td>NaN</td>\n",
       "      <td>NaN</td>\n",
       "      <td>1.0</td>\n",
       "      <td>NaN</td>\n",
       "      <td>NaN</td>\n",
       "      <td>NaN</td>\n",
       "    </tr>\n",
       "  </tbody>\n",
       "</table>\n",
       "</div>"
      ],
      "text/plain": [
       "  element p node n node cp node cn node Vout value Vname Lname1 Lname2\n",
       "0      V1      1      0     NaN     NaN  NaN   1.0   NaN    NaN    NaN\n",
       "1      O1      2      5     NaN     NaN    2   NaN   NaN    NaN    NaN\n",
       "2      C3      3      0     NaN     NaN  NaN   2.0   NaN    NaN    NaN\n",
       "3      C1      4      1     NaN     NaN  NaN   1.0   NaN    NaN    NaN\n",
       "4      C2      5      4     NaN     NaN  NaN   1.0   NaN    NaN    NaN\n",
       "5      R1      2      4     NaN     NaN  NaN   0.5   NaN    NaN    NaN\n",
       "6      R2      3      1     NaN     NaN  NaN   1.0   NaN    NaN    NaN\n",
       "7      R3      5      3     NaN     NaN  NaN   1.0   NaN    NaN    NaN"
      ]
     },
     "execution_count": 22,
     "metadata": {},
     "output_type": "execute_result"
    }
   ],
   "source": [
    "df"
   ]
  },
  {
   "cell_type": "code",
   "execution_count": 23,
   "metadata": {
    "collapsed": false,
    "jupyter": {
     "outputs_hidden": false
    }
   },
   "outputs": [
    {
     "data": {
      "text/html": [
       "<div>\n",
       "<style scoped>\n",
       "    .dataframe tbody tr th:only-of-type {\n",
       "        vertical-align: middle;\n",
       "    }\n",
       "\n",
       "    .dataframe tbody tr th {\n",
       "        vertical-align: top;\n",
       "    }\n",
       "\n",
       "    .dataframe thead th {\n",
       "        text-align: right;\n",
       "    }\n",
       "</style>\n",
       "<table border=\"1\" class=\"dataframe\">\n",
       "  <thead>\n",
       "    <tr style=\"text-align: right;\">\n",
       "      <th></th>\n",
       "      <th>element</th>\n",
       "      <th>p node</th>\n",
       "      <th>n node</th>\n",
       "    </tr>\n",
       "  </thead>\n",
       "  <tbody>\n",
       "    <tr>\n",
       "      <th>0</th>\n",
       "      <td>V1</td>\n",
       "      <td>1</td>\n",
       "      <td>0</td>\n",
       "    </tr>\n",
       "    <tr>\n",
       "      <th>1</th>\n",
       "      <td>O1</td>\n",
       "      <td>2</td>\n",
       "      <td>5</td>\n",
       "    </tr>\n",
       "  </tbody>\n",
       "</table>\n",
       "</div>"
      ],
      "text/plain": [
       "  element p node n node\n",
       "0      V1      1      0\n",
       "1      O1      2      5"
      ]
     },
     "execution_count": 23,
     "metadata": {},
     "output_type": "execute_result"
    }
   ],
   "source": [
    "df2"
   ]
  },
  {
   "cell_type": "code",
   "execution_count": 24,
   "metadata": {
    "collapsed": false,
    "jupyter": {
     "outputs_hidden": false
    }
   },
   "outputs": [],
   "source": [
    "# store the data frame as a pickle file\n",
    "# df.to_pickle(fn+'.pkl')  # <- uncomment if needed"
   ]
  },
  {
   "cell_type": "code",
   "execution_count": 25,
   "metadata": {
    "collapsed": false,
    "jupyter": {
     "outputs_hidden": false
    }
   },
   "outputs": [],
   "source": [
    "# initialize some symbolic matrix with zeros\n",
    "# A is formed by [[G, C] [B, D]]\n",
    "# Z = [I,E]\n",
    "# X = [V, J]\n",
    "V = zeros(num_nodes,1)\n",
    "I = zeros(num_nodes,1)\n",
    "G = zeros(num_nodes,num_nodes)  # also called Yr, the reduced nodal matrix\n",
    "s = Symbol('s')  # the Laplace variable\n",
    "\n",
    "# count the number of element types that affect the size of the B, C, D, E and J arrays\n",
    "# these are element types that have unknown currents\n",
    "i_unk = num_v+num_opamps+num_vcvs+num_ccvs+num_ind+num_cccs\n",
    "# if i_unk == 0, just generate empty arrays\n",
    "B = zeros(num_nodes,i_unk)\n",
    "C = zeros(i_unk,num_nodes)\n",
    "D = zeros(i_unk,i_unk)\n",
    "Ev = zeros(i_unk,1)\n",
    "J = zeros(i_unk,1)"
   ]
  },
  {
   "cell_type": "markdown",
   "metadata": {},
   "source": [
    "#### some debugging notes:\n",
    "Is it possible to have i_unk == 0 ?, what about a network with only current sources?  This would make B = 0 for example. Did one test, need to run others   \n",
    "Is there a valid op amp case where B is n by 1?"
   ]
  },
  {
   "cell_type": "markdown",
   "metadata": {},
   "source": [
    "## G matrix\n",
    "The G matrix is n by n, where n is the number of nodes. The matrix is formed by the interconnections between the resistors, capacitors and VCCS type elements.  In the original paper G is called Yr, where Yr is a reduced form of the nodal matrix excluding the contributions due to voltage sources, current controlling elements, etc.  In python row and columns are: G[row, column]\n"
   ]
  },
  {
   "cell_type": "code",
   "execution_count": 26,
   "metadata": {
    "collapsed": false,
    "jupyter": {
     "outputs_hidden": false
    }
   },
   "outputs": [
    {
     "data": {
      "text/latex": [
       "$\\displaystyle \\left[\\begin{matrix}C_{1} s + \\frac{1}{R_{2}} & 0 & - \\frac{1}{R_{2}} & - C_{1} s & 0\\\\0 & \\frac{1}{R_{1}} & 0 & - \\frac{1}{R_{1}} & 0\\\\- \\frac{1}{R_{2}} & 0 & C_{3} s + \\frac{1}{R_{3}} + \\frac{1}{R_{2}} & 0 & - \\frac{1}{R_{3}}\\\\- C_{1} s & - \\frac{1}{R_{1}} & 0 & C_{1} s + C_{2} s + \\frac{1}{R_{1}} & - C_{2} s\\\\0 & 0 & - \\frac{1}{R_{3}} & - C_{2} s & C_{2} s + \\frac{1}{R_{3}}\\end{matrix}\\right]$"
      ],
      "text/plain": [
       "⎡       1             -1                                    ⎤\n",
       "⎢C₁⋅s + ──   0        ───             -C₁⋅s            0    ⎥\n",
       "⎢       R₂             R₂                                   ⎥\n",
       "⎢                                                           ⎥\n",
       "⎢           1                          -1                   ⎥\n",
       "⎢    0      ──         0               ───             0    ⎥\n",
       "⎢           R₁                          R₁                  ⎥\n",
       "⎢                                                           ⎥\n",
       "⎢   -1                  1    1                        -1    ⎥\n",
       "⎢   ───      0   C₃⋅s + ── + ──         0             ───   ⎥\n",
       "⎢    R₂                 R₃   R₂                        R₃   ⎥\n",
       "⎢                                                           ⎥\n",
       "⎢           -1                                 1            ⎥\n",
       "⎢  -C₁⋅s    ───        0         C₁⋅s + C₂⋅s + ──    -C₂⋅s  ⎥\n",
       "⎢            R₁                                R₁           ⎥\n",
       "⎢                                                           ⎥\n",
       "⎢                     -1                                  1 ⎥\n",
       "⎢    0       0        ───             -C₂⋅s        C₂⋅s + ──⎥\n",
       "⎣                      R₃                                 R₃⎦"
      ]
     },
     "execution_count": 26,
     "metadata": {},
     "output_type": "execute_result"
    }
   ],
   "source": [
    "# G matrix\n",
    "for i in range(len(df)):  # process each row in the data frame\n",
    "    n1 = df.loc[i,'p node']\n",
    "    n2 = df.loc[i,'n node']\n",
    "    cn1 = df.loc[i,'cp node']\n",
    "    cn2 = df.loc[i,'cn node']\n",
    "    # process all the passive elements, save conductance to temp value\n",
    "    x = df.loc[i,'element'][0]   #get 1st letter of element name\n",
    "    if x == 'R':\n",
    "        g = 1/sympify(df.loc[i,'element'])\n",
    "    if x == 'C':\n",
    "        g = s*sympify(df.loc[i,'element'])\n",
    "    if x == 'G':   #vccs type element\n",
    "        g = sympify(df.loc[i,'element'].lower())  # use a symbol for gain value\n",
    "\n",
    "    if (x == 'R') or (x == 'C'):\n",
    "        # If neither side of the element is connected to ground\n",
    "        # then subtract it from the appropriate location in the matrix.\n",
    "        if (n1 != 0) and (n2 != 0):\n",
    "            G[n1-1,n2-1] += -g\n",
    "            G[n2-1,n1-1] += -g\n",
    "\n",
    "        # If node 1 is connected to ground, add element to diagonal of matrix\n",
    "        if n1 != 0:\n",
    "            G[n1-1,n1-1] += g\n",
    "\n",
    "        # same for for node 2\n",
    "        if n2 != 0:\n",
    "            G[n2-1,n2-1] += g\n",
    "\n",
    "    if x == 'G':    #vccs type element\n",
    "        # check to see if any terminal is grounded\n",
    "        # then stamp the matrix\n",
    "        if n1 != 0 and cn1 != 0:\n",
    "            G[n1-1,cn1-1] += g\n",
    "\n",
    "        if n2 != 0 and cn2 != 0:\n",
    "            G[n2-1,cn2-1] += g\n",
    "\n",
    "        if n1 != 0 and cn2 != 0:\n",
    "            G[n1-1,cn2-1] -= g\n",
    "\n",
    "        if n2 != 0 and cn1 != 0:\n",
    "            G[n2-1,cn1-1] -= g\n",
    "\n",
    "G  # display the G matrix"
   ]
  },
  {
   "cell_type": "markdown",
   "metadata": {},
   "source": [
    "## B Matrix\n",
    "The B matrix is an n by m matrix with only 0, 1 and -1 elements, where n = number of nodes and m is the number of current unknowns, i_unk. There is one column for each unknown current. The code loop through all the branches and process elements that have stamps for the B matrix:   \n",
    "\n",
    "- Voltage sources (V)  \n",
    "- Opamps (O)  \n",
    "- CCVS (H)  \n",
    "- CCCS (F)  \n",
    "- VCVS (E)  \n",
    "- Inductors (L)    \n",
    "\n",
    "The order of the columns is as they appear in the netlist.  CCCS (F) does not get its own column because the controlling current is through a zero volt voltage source, called Vname and is already in the net list."
   ]
  },
  {
   "cell_type": "code",
   "execution_count": 27,
   "metadata": {
    "collapsed": false,
    "jupyter": {
     "outputs_hidden": false
    }
   },
   "outputs": [
    {
     "data": {
      "text/latex": [
       "$\\displaystyle \\left[\\begin{matrix}1 & 0\\\\0 & 1\\\\0 & 0\\\\0 & 0\\\\0 & 0\\end{matrix}\\right]$"
      ],
      "text/plain": [
       "⎡1  0⎤\n",
       "⎢    ⎥\n",
       "⎢0  1⎥\n",
       "⎢    ⎥\n",
       "⎢0  0⎥\n",
       "⎢    ⎥\n",
       "⎢0  0⎥\n",
       "⎢    ⎥\n",
       "⎣0  0⎦"
      ]
     },
     "execution_count": 27,
     "metadata": {},
     "output_type": "execute_result"
    }
   ],
   "source": [
    "# generate the B Matrix\n",
    "sn = 0   # count source number as code walks through the data frame\n",
    "for i in range(len(df)):\n",
    "    n1 = df.loc[i,'p node']\n",
    "    n2 = df.loc[i,'n node']\n",
    "    n_vout = df.loc[i,'Vout'] # node connected to op amp output\n",
    "\n",
    "    # process elements with input to B matrix\n",
    "    x = df.loc[i,'element'][0]   #get 1st letter of element name\n",
    "    if x == 'V':\n",
    "        if i_unk > 1:  #is B greater than 1 by n?, V\n",
    "            if n1 != 0:\n",
    "                B[n1-1,sn] = 1\n",
    "            if n2 != 0:\n",
    "                B[n2-1,sn] = -1\n",
    "        else:\n",
    "            if n1 != 0:\n",
    "                B[n1-1] = 1\n",
    "            if n2 != 0:\n",
    "                B[n2-1] = -1\n",
    "        sn += 1   #increment source count\n",
    "    if x == 'O':  # op amp type, output connection of the opamp goes in the B matrix\n",
    "        B[n_vout-1,sn] = 1\n",
    "        sn += 1   # increment source count\n",
    "    if (x == 'H') or (x == 'F'):  # H: ccvs, F: cccs,\n",
    "        if i_unk > 1:  #is B greater than 1 by n?, H, F\n",
    "            # check to see if any terminal is grounded\n",
    "            # then stamp the matrix\n",
    "            if n1 != 0:\n",
    "                B[n1-1,sn] = 1\n",
    "            if n2 != 0:\n",
    "                B[n2-1,sn] = -1\n",
    "        else:\n",
    "            if n1 != 0:\n",
    "                B[n1-1] = 1\n",
    "            if n2 != 0:\n",
    "                B[n2-1] = -1\n",
    "        sn += 1   #increment source count\n",
    "    if x == 'E':   # vcvs type, only ik column is altered at n1 and n2\n",
    "        if i_unk > 1:  #is B greater than 1 by n?, E\n",
    "            if n1 != 0:\n",
    "                B[n1-1,sn] = 1\n",
    "            if n2 != 0:\n",
    "                B[n2-1,sn] = -1\n",
    "        else:\n",
    "            if n1 != 0:\n",
    "                B[n1-1] = 1\n",
    "            if n2 != 0:\n",
    "                B[n2-1] = -1\n",
    "        sn += 1   #increment source count\n",
    "    if x == 'L':\n",
    "        if i_unk > 1:  #is B greater than 1 by n?, L\n",
    "            if n1 != 0:\n",
    "                B[n1-1,sn] = 1\n",
    "            if n2 != 0:\n",
    "                B[n2-1,sn] = -1\n",
    "        else:\n",
    "            if n1 != 0:\n",
    "                B[n1-1] = 1\n",
    "            if n2 != 0:\n",
    "                B[n2-1] = -1\n",
    "        sn += 1   #increment source count\n",
    "\n",
    "# check source count\n",
    "if sn != i_unk:\n",
    "    print('source number, sn={:d} not equal to i_unk={:d} in matrix B'.format(sn,i_unk))\n",
    "\n",
    "B   # display the B matrix"
   ]
  },
  {
   "cell_type": "markdown",
   "metadata": {},
   "source": [
    "## C matrix\n",
    "The C matrix is an m by n matrix with only 0, 1 and -1 elements (except for controlled sources).  The code is similar to the B matrix code, except the indices are swapped.   The code loops through all the branches and process elements that have stamps for the C matrix:  \n",
    "\n",
    "- Voltage sources (V)  \n",
    "- Opamps (O)  \n",
    "- CCVS (H)  \n",
    "- CCCS (F)  \n",
    "- VCVS (E)  \n",
    "- Inductors (L)  \n",
    "\n",
    "### Op Amp elements\n",
    "The op amp element is assumed to be an ideal op amp and use of this component is valid only when used in circuits with a DC path (a short or a resistor) from the output terminal to the negative input terminal of the op amp. No error checking is provided and if the condition is violated, the results likely will be erroneous.   \n",
    "\n",
    "References use in the debugging of the opamp stamp:   \n",
    "\n",
    "1. Design of Analog Circuits Through Symbolic Analysis, edited by Mourad Fakhfakh, Esteban Tlelo-Cuautle, Francisco V. Fernández   \n",
    "2. Computer Aided Design and Design Automation, edited by Wai-Kai Chen  \n"
   ]
  },
  {
   "cell_type": "code",
   "execution_count": 28,
   "metadata": {
    "collapsed": false,
    "jupyter": {
     "outputs_hidden": false
    }
   },
   "outputs": [],
   "source": [
    "# find the the column position in the C and D matrix for controlled sources\n",
    "# needs to return the node numbers and branch number of controlling branch\n",
    "def find_vname(name):\n",
    "    # need to walk through data frame and find these parameters\n",
    "    for i in range(len(df2)):\n",
    "        # process all the elements creating unknown currents\n",
    "        if name == df2.loc[i,'element']:\n",
    "            n1 = df2.loc[i,'p node']\n",
    "            n2 = df2.loc[i,'n node']\n",
    "            return n1, n2, i  # n1, n2 & col_num are from the branch of the controlling element\n",
    "\n",
    "    print('failed to find matching branch element in find_vname')"
   ]
  },
  {
   "cell_type": "code",
   "execution_count": 29,
   "metadata": {
    "collapsed": false,
    "jupyter": {
     "outputs_hidden": false
    }
   },
   "outputs": [
    {
     "data": {
      "text/latex": [
       "$\\displaystyle \\left[\\begin{matrix}1 & 0 & 0 & 0 & 0\\\\0 & 1 & 0 & 0 & -1\\end{matrix}\\right]$"
      ],
      "text/plain": [
       "⎡1  0  0  0  0 ⎤\n",
       "⎢              ⎥\n",
       "⎣0  1  0  0  -1⎦"
      ]
     },
     "execution_count": 29,
     "metadata": {},
     "output_type": "execute_result"
    }
   ],
   "source": [
    "# generate the C Matrix\n",
    "sn = 0   # count source number as code walks through the data frame\n",
    "for i in range(len(df)):\n",
    "    n1 = df.loc[i,'p node']\n",
    "    n2 = df.loc[i,'n node']\n",
    "    cn1 = df.loc[i,'cp node'] # nodes for controlled sources\n",
    "    cn2 = df.loc[i,'cn node']\n",
    "    n_vout = df.loc[i,'Vout'] # node connected to op amp output\n",
    "\n",
    "    # process elements with input to B matrix\n",
    "    x = df.loc[i,'element'][0]   #get 1st letter of element name\n",
    "    if x == 'V':\n",
    "        if i_unk > 1:  #is B greater than 1 by n?, V\n",
    "            if n1 != 0:\n",
    "                C[sn,n1-1] = 1\n",
    "            if n2 != 0:\n",
    "                C[sn,n2-1] = -1\n",
    "        else:\n",
    "            if n1 != 0:\n",
    "                C[n1-1] = 1\n",
    "            if n2 != 0:\n",
    "                C[n2-1] = -1\n",
    "        sn += 1   #increment source count\n",
    "\n",
    "    if x == 'O':  # op amp type, input connections of the opamp go into the C matrix\n",
    "        # C[sn,n_vout-1] = 1\n",
    "        if i_unk > 1:  #is B greater than 1 by n?, O\n",
    "            # check to see if any terminal is grounded\n",
    "            # then stamp the matrix\n",
    "            if n1 != 0:\n",
    "                C[sn,n1-1] = 1\n",
    "            if n2 != 0:\n",
    "                C[sn,n2-1] = -1\n",
    "        else:\n",
    "            if n1 != 0:\n",
    "                C[n1-1] = 1\n",
    "            if n2 != 0:\n",
    "                C[n2-1] = -1\n",
    "        sn += 1   # increment source count\n",
    "\n",
    "    if x == 'F':  # need to count F (cccs) types\n",
    "        sn += 1   #increment source count\n",
    "    if x == 'H':  # H: ccvs\n",
    "        if i_unk > 1:  #is B greater than 1 by n?, H\n",
    "            # check to see if any terminal is grounded\n",
    "            # then stamp the matrix\n",
    "            if n1 != 0:\n",
    "                C[sn,n1-1] = 1\n",
    "            if n2 != 0:\n",
    "                C[sn,n2-1] = -1\n",
    "        else:\n",
    "            if n1 != 0:\n",
    "                C[n1-1] = 1\n",
    "            if n2 != 0:\n",
    "                C[n2-1] = -1\n",
    "        sn += 1   #increment source count\n",
    "    if x == 'E':   # vcvs type, ik column is altered at n1 and n2, cn1 & cn2 get value\n",
    "        if i_unk > 1:  #is B greater than 1 by n?, E\n",
    "            if n1 != 0:\n",
    "                C[sn,n1-1] = 1\n",
    "            if n2 != 0:\n",
    "                C[sn,n2-1] = -1\n",
    "            # add entry for cp and cn of the controlling voltage\n",
    "            if cn1 != 0:\n",
    "                C[sn,cn1-1] = -sympify(df.loc[i,'element'].lower())\n",
    "            if cn2 != 0:\n",
    "                C[sn,cn2-1] = sympify(df.loc[i,'element'].lower())\n",
    "        else:\n",
    "            if n1 != 0:\n",
    "                C[n1-1] = 1\n",
    "            if n2 != 0:\n",
    "                C[n2-1] = -1\n",
    "            vn1, vn2, df2_index = find_vname(df.loc[i,'Vname'])\n",
    "            if vn1 != 0:\n",
    "                C[vn1-1] = -sympify(df.loc[i,'element'].lower())\n",
    "            if vn2 != 0:\n",
    "                C[vn2-1] = sympify(df.loc[i,'element'].lower())\n",
    "        sn += 1   #increment source count\n",
    "\n",
    "    if x == 'L':\n",
    "        if i_unk > 1:  #is B greater than 1 by n?, L\n",
    "            if n1 != 0:\n",
    "                C[sn,n1-1] = 1\n",
    "            if n2 != 0:\n",
    "                C[sn,n2-1] = -1\n",
    "        else:\n",
    "            if n1 != 0:\n",
    "                C[n1-1] = 1\n",
    "            if n2 != 0:\n",
    "                C[n2-1] = -1\n",
    "        sn += 1   #increment source count\n",
    "\n",
    "# check source count\n",
    "if sn != i_unk:\n",
    "    print('source number, sn={:d} not equal to i_unk={:d} in matrix C'.format(sn,i_unk))\n",
    "\n",
    "C   # display the C matrix"
   ]
  },
  {
   "cell_type": "markdown",
   "metadata": {},
   "source": [
    "## D matrix\n",
    "The D matrix is an m by m matrix, where m is the number of unknown currents.  \n",
    "> m = i_unk = num_v+num_opamps+num_vcvs+num_ccvs+num_ind+num_cccs\n",
    "\n",
    "Stamps that affect the D matrix are: inductor, ccvs and cccs  \n",
    "inductors: minus sign added to keep current flow convention consistent  \n",
    "\n",
    "Coupled inductors notes:  \n",
    "Can the K statement be anywhere in the net list, even before Lx and Ly?   \n",
    "12/6/2017 doing some debugging on with coupled inductors  \n",
    "LTspice seems to put the phasing dot on the neg node when it generates the netlist   \n",
    "This code uses M for mutual inductance, LTspice uses k for the coupling coefficient.  "
   ]
  },
  {
   "cell_type": "code",
   "execution_count": 30,
   "metadata": {
    "collapsed": false,
    "jupyter": {
     "outputs_hidden": false
    }
   },
   "outputs": [
    {
     "data": {
      "text/latex": [
       "$\\displaystyle \\left[\\begin{matrix}0 & 0\\\\0 & 0\\end{matrix}\\right]$"
      ],
      "text/plain": [
       "⎡0  0⎤\n",
       "⎢    ⎥\n",
       "⎣0  0⎦"
      ]
     },
     "execution_count": 30,
     "metadata": {},
     "output_type": "execute_result"
    }
   ],
   "source": [
    "# generate the D Matrix\n",
    "sn = 0   # count source number as code walks through the data frame\n",
    "for i in range(len(df)):\n",
    "    n1 = df.loc[i,'p node']\n",
    "    n2 = df.loc[i,'n node']\n",
    "    #cn1 = df.loc[i,'cp node'] # nodes for controlled sources\n",
    "    #cn2 = df.loc[i,'cn node']\n",
    "    #n_vout = df.loc[i,'Vout'] # node connected to op amp output\n",
    "\n",
    "    # process elements with input to D matrix\n",
    "    x = df.loc[i,'element'][0]   #get 1st letter of element name\n",
    "    if (x == 'V') or (x == 'O') or (x == 'E'):  # need to count V, E & O types\n",
    "        sn += 1   #increment source count\n",
    "\n",
    "    if x == 'L':\n",
    "        if i_unk > 1:  #is D greater than 1 by 1?\n",
    "            D[sn,sn] += -s*sympify(df.loc[i,'element'])\n",
    "        else:\n",
    "            D[sn] += -s*sympify(df.loc[i,'element'])\n",
    "        sn += 1   #increment source count\n",
    "\n",
    "    if x == 'H':  # H: ccvs\n",
    "        # if there is a H type, D is m by m\n",
    "        # need to find the vn for Vname\n",
    "        # then stamp the matrix\n",
    "        vn1, vn2, df2_index = find_vname(df.loc[i,'Vname'])\n",
    "        D[sn,df2_index] += -sympify(df.loc[i,'element'].lower())\n",
    "        sn += 1   #increment source count\n",
    "\n",
    "    if x == 'F':  # F: cccs\n",
    "        # if there is a F type, D is m by m\n",
    "        # need to find the vn for Vname\n",
    "        # then stamp the matrix\n",
    "        vn1, vn2, df2_index = find_vname(df.loc[i,'Vname'])\n",
    "        D[sn,df2_index] += -sympify(df.loc[i,'element'].lower())\n",
    "        D[sn,sn] = 1\n",
    "        sn += 1   #increment source count\n",
    "\n",
    "    if x == 'K':  # K: coupled inductors, KXX LYY LZZ value\n",
    "        # if there is a K type, D is m by m\n",
    "        vn1, vn2, ind1_index = find_vname(df.loc[i,'Lname1'])  # get i_unk position for Lx\n",
    "        vn1, vn2, ind2_index = find_vname(df.loc[i,'Lname2'])  # get i_unk position for Ly\n",
    "        # enter sM on diagonals = value*sqrt(LXX*LZZ)\n",
    "\n",
    "        D[ind1_index,ind2_index] += -s*sympify('M{:s}'.format(df.loc[i,'element'].lower()[1:]))  # s*Mxx\n",
    "        D[ind2_index,ind1_index] += -s*sympify('M{:s}'.format(df.loc[i,'element'].lower()[1:]))  # -s*Mxx\n",
    "\n",
    "# display the The D matrix\n",
    "D"
   ]
  },
  {
   "cell_type": "markdown",
   "metadata": {},
   "source": [
    "## V matrix\n",
    "The V matrix is an n by 1 matrix formed of the node voltages, where n is the number of nodes. Each element in V corresponds to the voltage at the node.  \n",
    "\n",
    "Maybe make small v's v_1 so as not to confuse v1 with V1."
   ]
  },
  {
   "cell_type": "code",
   "execution_count": 31,
   "metadata": {
    "collapsed": false,
    "jupyter": {
     "outputs_hidden": false
    }
   },
   "outputs": [
    {
     "data": {
      "text/latex": [
       "$\\displaystyle \\left[\\begin{matrix}v_{1}\\\\v_{2}\\\\v_{3}\\\\v_{4}\\\\v_{5}\\end{matrix}\\right]$"
      ],
      "text/plain": [
       "⎡v₁⎤\n",
       "⎢  ⎥\n",
       "⎢v₂⎥\n",
       "⎢  ⎥\n",
       "⎢v₃⎥\n",
       "⎢  ⎥\n",
       "⎢v₄⎥\n",
       "⎢  ⎥\n",
       "⎣v₅⎦"
      ]
     },
     "execution_count": 31,
     "metadata": {},
     "output_type": "execute_result"
    }
   ],
   "source": [
    "# generate the V matrix\n",
    "for i in range(num_nodes):\n",
    "    V[i] = sympify('v{:d}'.format(i+1))\n",
    "\n",
    "V  # display the V matrix"
   ]
  },
  {
   "cell_type": "markdown",
   "metadata": {},
   "source": [
    "## J matrix\n",
    "The J matrix is an m by 1 matrix, where m is the number of unknown currents.\n",
    ">i_unk = num_v+num_opamps+num_vcvs+num_ccvs+num_ind+num_cccs"
   ]
  },
  {
   "cell_type": "code",
   "execution_count": 32,
   "metadata": {
    "collapsed": false,
    "jupyter": {
     "outputs_hidden": false
    }
   },
   "outputs": [
    {
     "data": {
      "text/latex": [
       "$\\displaystyle \\left[\\begin{matrix}I_{V1}\\\\I_{O1}\\end{matrix}\\right]$"
      ],
      "text/plain": [
       "⎡I_V1⎤\n",
       "⎢    ⎥\n",
       "⎣I_O1⎦"
      ]
     },
     "execution_count": 32,
     "metadata": {},
     "output_type": "execute_result"
    }
   ],
   "source": [
    "# The J matrix is an mx1 matrix, with one entry for each i_unk from a source\n",
    "#sn = 0   # count i_unk source number\n",
    "#oan = 0   #count op amp number\n",
    "for i in range(len(df2)):\n",
    "    # process all the unknown currents\n",
    "    J[i] = sympify('I_{:s}'.format(df2.loc[i,'element']))\n",
    "\n",
    "J  # diplay the J matrix"
   ]
  },
  {
   "cell_type": "markdown",
   "metadata": {},
   "source": [
    "## I matrix\n",
    "The I matrix is an n by 1 matrix, where n is the number of nodes. The value of each element of I is determined by the sum of current sources into the corresponding node. If there are no current sources connected to the node, the value is zero."
   ]
  },
  {
   "cell_type": "code",
   "execution_count": 33,
   "metadata": {
    "collapsed": false,
    "jupyter": {
     "outputs_hidden": false
    }
   },
   "outputs": [
    {
     "data": {
      "text/latex": [
       "$\\displaystyle \\left[\\begin{matrix}0\\\\0\\\\0\\\\0\\\\0\\end{matrix}\\right]$"
      ],
      "text/plain": [
       "⎡0⎤\n",
       "⎢ ⎥\n",
       "⎢0⎥\n",
       "⎢ ⎥\n",
       "⎢0⎥\n",
       "⎢ ⎥\n",
       "⎢0⎥\n",
       "⎢ ⎥\n",
       "⎣0⎦"
      ]
     },
     "execution_count": 33,
     "metadata": {},
     "output_type": "execute_result"
    }
   ],
   "source": [
    "# generate the I matrix, current sources have n2 = arrow end of the element\n",
    "for i in range(len(df)):\n",
    "    n1 = df.loc[i,'p node']\n",
    "    n2 = df.loc[i,'n node']\n",
    "    # process all the passive elements, save conductance to temp value\n",
    "    x = df.loc[i,'element'][0]   #get 1st letter of element name\n",
    "    if x == 'I':\n",
    "        g = sympify(df.loc[i,'element'])\n",
    "        # sum the current into each node\n",
    "        if n1 != 0:\n",
    "            I[n1-1] -= g\n",
    "        if n2 != 0:\n",
    "            I[n2-1] += g\n",
    "\n",
    "I  # display the I matrix"
   ]
  },
  {
   "cell_type": "markdown",
   "metadata": {},
   "source": [
    "## Ev matrix\n",
    "The Ev matrix is mx1 and holds the values of the independent voltage sources."
   ]
  },
  {
   "cell_type": "code",
   "execution_count": 34,
   "metadata": {
    "collapsed": false,
    "jupyter": {
     "outputs_hidden": false
    }
   },
   "outputs": [
    {
     "data": {
      "text/latex": [
       "$\\displaystyle \\left[\\begin{matrix}V_{1}\\\\0\\end{matrix}\\right]$"
      ],
      "text/plain": [
       "⎡V₁⎤\n",
       "⎢  ⎥\n",
       "⎣0 ⎦"
      ]
     },
     "execution_count": 34,
     "metadata": {},
     "output_type": "execute_result"
    }
   ],
   "source": [
    "# generate the E matrix\n",
    "sn = 0   # count source number\n",
    "for i in range(len(df)):\n",
    "    # process all the passive elements\n",
    "    x = df.loc[i,'element'][0]   #get 1st letter of element name\n",
    "    if x == 'V':\n",
    "        Ev[sn] = sympify(df.loc[i,'element'])\n",
    "        sn += 1\n",
    "\n",
    "Ev   # display the E matrix"
   ]
  },
  {
   "cell_type": "markdown",
   "metadata": {},
   "source": [
    "## Z matrix\n",
    "The Z matrix holds the independent voltage and current sources and is the combination of 2 smaller matrices I and Ev. The Z matrix is (m+n) by 1, n is the number of nodes, and m is the number of independent voltage sources. The I matrix is n by 1 and contains the sum of the currents through the passive elements into the corresponding node (either zero, or the sum of independent current sources). The Ev matrix is m by 1 and holds the values of the independent voltage sources."
   ]
  },
  {
   "cell_type": "code",
   "execution_count": 35,
   "metadata": {
    "collapsed": false,
    "jupyter": {
     "outputs_hidden": false
    }
   },
   "outputs": [
    {
     "data": {
      "image/png": "[encoded data removed]",
      "text/latex": [
       "$\\displaystyle \\left[ 0, \\  0, \\  0, \\  0, \\  0, \\  V_{1}, \\  0\\right]$"
      ],
      "text/plain": [
       "[0, 0, 0, 0, 0, V₁, 0]"
      ]
     },
     "execution_count": 35,
     "metadata": {},
     "output_type": "execute_result"
    }
   ],
   "source": [
    "Z = I[:] + Ev[:]  # the + operator in python concatenates the lists\n",
    "Z  # display the Z matrix"
   ]
  },
  {
   "cell_type": "markdown",
   "metadata": {},
   "source": [
    "## X matrix\n",
    "The X matrix is an (n+m) by 1 vector that holds the unknown quantities (node voltages and the currents through the independent voltage sources). The top n elements are the n node voltages. The bottom m elements represent the currents through the m independent voltage sources in the circuit. The V matrix is n by 1 and holds the unknown voltages. The J matrix is m by 1 and holds the unknown currents through the voltage sources"
   ]
  },
  {
   "cell_type": "code",
   "execution_count": 36,
   "metadata": {
    "collapsed": false,
    "jupyter": {
     "outputs_hidden": false
    }
   },
   "outputs": [
    {
     "data": {
      "image/png": "[encoded data removed]",
      "text/latex": [
       "$\\displaystyle \\left[ v_{1}, \\  v_{2}, \\  v_{3}, \\  v_{4}, \\  v_{5}, \\  I_{V1}, \\  I_{O1}\\right]$"
      ],
      "text/plain": [
       "[v₁, v₂, v₃, v₄, v₅, I_V1, I_O1]"
      ]
     },
     "execution_count": 36,
     "metadata": {},
     "output_type": "execute_result"
    }
   ],
   "source": [
    "X = V[:] + J[:]  # the + operator in python concatenates the lists\n",
    "X  # display the X matrix"
   ]
  },
  {
   "cell_type": "markdown",
   "metadata": {},
   "source": [
    "## A matrix\n",
    "The A matrix is (m+n) by (m+n) and will be developed as the combination of 4 smaller matrices, G, B, C, and D."
   ]
  },
  {
   "cell_type": "code",
   "execution_count": 37,
   "metadata": {
    "collapsed": false,
    "jupyter": {
     "outputs_hidden": false
    }
   },
   "outputs": [
    {
     "data": {
      "text/latex": [
       "$\\displaystyle \\left[\\begin{matrix}C_{1} s + \\frac{1}{R_{2}} & 0 & - \\frac{1}{R_{2}} & - C_{1} s & 0 & 1 & 0\\\\0 & \\frac{1}{R_{1}} & 0 & - \\frac{1}{R_{1}} & 0 & 0 & 1\\\\- \\frac{1}{R_{2}} & 0 & C_{3} s + \\frac{1}{R_{3}} + \\frac{1}{R_{2}} & 0 & - \\frac{1}{R_{3}} & 0 & 0\\\\- C_{1} s & - \\frac{1}{R_{1}} & 0 & C_{1} s + C_{2} s + \\frac{1}{R_{1}} & - C_{2} s & 0 & 0\\\\0 & 0 & - \\frac{1}{R_{3}} & - C_{2} s & C_{2} s + \\frac{1}{R_{3}} & 0 & 0\\\\1 & 0 & 0 & 0 & 0 & 0 & 0\\\\0 & 1 & 0 & 0 & -1 & 0 & 0\\end{matrix}\\right]$"
      ],
      "text/plain": [
       "⎡       1             -1                                          ⎤\n",
       "⎢C₁⋅s + ──   0        ───             -C₁⋅s            0      1  0⎥\n",
       "⎢       R₂             R₂                                         ⎥\n",
       "⎢                                                                 ⎥\n",
       "⎢           1                          -1                         ⎥\n",
       "⎢    0      ──         0               ───             0      0  1⎥\n",
       "⎢           R₁                          R₁                        ⎥\n",
       "⎢                                                                 ⎥\n",
       "⎢   -1                  1    1                        -1          ⎥\n",
       "⎢   ───      0   C₃⋅s + ── + ──         0             ───     0  0⎥\n",
       "⎢    R₂                 R₃   R₂                        R₃         ⎥\n",
       "⎢                                                                 ⎥\n",
       "⎢           -1                                 1                  ⎥\n",
       "⎢  -C₁⋅s    ───        0         C₁⋅s + C₂⋅s + ──    -C₂⋅s    0  0⎥\n",
       "⎢            R₁                                R₁                 ⎥\n",
       "⎢                                                                 ⎥\n",
       "⎢                     -1                                  1       ⎥\n",
       "⎢    0       0        ───             -C₂⋅s        C₂⋅s + ──  0  0⎥\n",
       "⎢                      R₃                                 R₃      ⎥\n",
       "⎢                                                                 ⎥\n",
       "⎢    1       0         0                0              0      0  0⎥\n",
       "⎢                                                                 ⎥\n",
       "⎣    0       1         0                0             -1      0  0⎦"
      ]
     },
     "execution_count": 37,
     "metadata": {},
     "output_type": "execute_result"
    }
   ],
   "source": [
    "n = num_nodes\n",
    "m = i_unk\n",
    "A = zeros(m+n,m+n)\n",
    "for i in range(n):\n",
    "    for j in range(n):\n",
    "        A[i,j] = G[i,j]\n",
    "\n",
    "if i_unk > 1:\n",
    "    for i in range(n):\n",
    "        for j in range(m):\n",
    "            A[i,n+j] = B[i,j]\n",
    "            A[n+j,i] = C[j,i]\n",
    "\n",
    "    for i in range(m):\n",
    "        for j in range(m):\n",
    "            A[n+i,n+j] = D[i,j]\n",
    "\n",
    "if i_unk == 1:\n",
    "    for i in range(n):\n",
    "        A[i,n] = B[i]\n",
    "        A[n,i] = C[i]\n",
    "    A[n,n] = D[0] # added 1/7/2024 while debugging source free circuit with one inductor\n",
    "\n",
    "A  # display the A matrix"
   ]
  },
  {
   "cell_type": "markdown",
   "metadata": {},
   "source": [
    "## generate the circuit equations"
   ]
  },
  {
   "cell_type": "code",
   "execution_count": 38,
   "metadata": {},
   "outputs": [
    {
     "data": {
      "text/latex": [
       "$\\displaystyle \\left[\\begin{matrix}- C_{1} s v_{4} + I_{V1} + v_{1} \\left(C_{1} s + \\frac{1}{R_{2}}\\right) - \\frac{v_{3}}{R_{2}}\\\\I_{O1} + \\frac{v_{2}}{R_{1}} - \\frac{v_{4}}{R_{1}}\\\\v_{3} \\left(C_{3} s + \\frac{1}{R_{3}} + \\frac{1}{R_{2}}\\right) - \\frac{v_{5}}{R_{3}} - \\frac{v_{1}}{R_{2}}\\\\- C_{1} s v_{1} - C_{2} s v_{5} + v_{4} \\left(C_{1} s + C_{2} s + \\frac{1}{R_{1}}\\right) - \\frac{v_{2}}{R_{1}}\\\\- C_{2} s v_{4} + v_{5} \\left(C_{2} s + \\frac{1}{R_{3}}\\right) - \\frac{v_{3}}{R_{3}}\\\\v_{1}\\\\v_{2} - v_{5}\\end{matrix}\\right] = \\left[\\begin{matrix}0\\\\0\\\\0\\\\0\\\\0\\\\V_{1}\\\\0\\end{matrix}\\right]$"
      ],
      "text/plain": [
       "⎡                          ⎛       1 ⎞   v₃     ⎤       \n",
       "⎢     -C₁⋅s⋅v₄ + I_V1 + v₁⋅⎜C₁⋅s + ──⎟ - ──     ⎥       \n",
       "⎢                          ⎝       R₂⎠   R₂     ⎥       \n",
       "⎢                                               ⎥       \n",
       "⎢                       v₂   v₄                 ⎥       \n",
       "⎢                I_O1 + ── - ──                 ⎥   ⎡0 ⎤\n",
       "⎢                       R₁   R₁                 ⎥   ⎢  ⎥\n",
       "⎢                                               ⎥   ⎢0 ⎥\n",
       "⎢            ⎛       1    1 ⎞   v₅   v₁         ⎥   ⎢  ⎥\n",
       "⎢         v₃⋅⎜C₃⋅s + ── + ──⎟ - ── - ──         ⎥   ⎢0 ⎥\n",
       "⎢            ⎝       R₃   R₂⎠   R₃   R₂         ⎥   ⎢  ⎥\n",
       "⎢                                               ⎥ = ⎢0 ⎥\n",
       "⎢                        ⎛              1 ⎞   v₂⎥   ⎢  ⎥\n",
       "⎢-C₁⋅s⋅v₁ - C₂⋅s⋅v₅ + v₄⋅⎜C₁⋅s + C₂⋅s + ──⎟ - ──⎥   ⎢0 ⎥\n",
       "⎢                        ⎝              R₁⎠   R₁⎥   ⎢  ⎥\n",
       "⎢                                               ⎥   ⎢V₁⎥\n",
       "⎢                      ⎛       1 ⎞   v₃         ⎥   ⎢  ⎥\n",
       "⎢        -C₂⋅s⋅v₄ + v₅⋅⎜C₂⋅s + ──⎟ - ──         ⎥   ⎣0 ⎦\n",
       "⎢                      ⎝       R₃⎠   R₃         ⎥       \n",
       "⎢                                               ⎥       \n",
       "⎢                      v₁                       ⎥       \n",
       "⎢                                               ⎥       \n",
       "⎣                    v₂ - v₅                    ⎦       "
      ]
     },
     "execution_count": 38,
     "metadata": {},
     "output_type": "execute_result"
    }
   ],
   "source": [
    "equ = Eq(A*Matrix(X),Matrix(Z))\n",
    "equ"
   ]
  },
  {
   "cell_type": "markdown",
   "metadata": {},
   "source": [
    "## Symbolic solution"
   ]
  },
  {
   "cell_type": "code",
   "execution_count": 39,
   "metadata": {},
   "outputs": [],
   "source": [
    "v1, v2, v3, v4, v5, I_V1, I_O = symbols('v1 v2 v3 v4 v5 I_V1 I_O')"
   ]
  },
  {
   "cell_type": "code",
   "execution_count": 40,
   "metadata": {},
   "outputs": [],
   "source": [
    "symbolic_solution = solve(equ,X)"
   ]
  },
  {
   "cell_type": "code",
   "execution_count": 41,
   "metadata": {},
   "outputs": [
    {
     "data": {
      "image/png": "[encoded data removed]",
      "text/latex": [
       "$\\displaystyle \\left\\{ I_{O1} : \\frac{C_{1} C_{3} R_{2} V_{1} s^{2}}{C_{1} C_{2} C_{3} R_{1} R_{2} R_{3} s^{3} + C_{1} C_{2} R_{1} R_{2} s^{2} + C_{1} C_{2} R_{1} R_{3} s^{2} + C_{1} C_{3} R_{1} R_{2} s^{2} + C_{1} R_{1} s + C_{2} C_{3} R_{1} R_{2} s^{2} + C_{2} R_{1} s + C_{3} R_{2} s + 1}, \\  I_{V1} : \\frac{- C_{1} C_{2} C_{3} R_{1} R_{2} V_{1} s^{3} - C_{1} C_{2} C_{3} R_{1} R_{3} V_{1} s^{3} - C_{1} C_{3} R_{1} V_{1} s^{2} - C_{1} C_{3} R_{2} V_{1} s^{2} - C_{2} C_{3} R_{1} V_{1} s^{2} - C_{3} V_{1} s}{C_{1} C_{2} C_{3} R_{1} R_{2} R_{3} s^{3} + C_{1} C_{2} R_{1} R_{2} s^{2} + C_{1} C_{2} R_{1} R_{3} s^{2} + C_{1} C_{3} R_{1} R_{2} s^{2} + C_{1} R_{1} s + C_{2} C_{3} R_{1} R_{2} s^{2} + C_{2} R_{1} s + C_{3} R_{2} s + 1}, \\  v_{1} : V_{1}, \\  v_{2} : \\frac{C_{1} C_{2} C_{3} R_{1} R_{2} R_{3} V_{1} s^{3} + C_{1} C_{2} R_{1} R_{2} V_{1} s^{2} + C_{1} C_{2} R_{1} R_{3} V_{1} s^{2} + C_{1} R_{1} V_{1} s + C_{2} R_{1} V_{1} s + V_{1}}{C_{1} C_{2} C_{3} R_{1} R_{2} R_{3} s^{3} + C_{1} C_{2} R_{1} R_{2} s^{2} + C_{1} C_{2} R_{1} R_{3} s^{2} + C_{1} C_{3} R_{1} R_{2} s^{2} + C_{1} R_{1} s + C_{2} C_{3} R_{1} R_{2} s^{2} + C_{2} R_{1} s + C_{3} R_{2} s + 1}, \\  v_{3} : \\frac{C_{1} C_{2} R_{1} R_{2} V_{1} s^{2} + C_{1} C_{2} R_{1} R_{3} V_{1} s^{2} + C_{1} R_{1} V_{1} s + C_{2} R_{1} V_{1} s + V_{1}}{C_{1} C_{2} C_{3} R_{1} R_{2} R_{3} s^{3} + C_{1} C_{2} R_{1} R_{2} s^{2} + C_{1} C_{2} R_{1} R_{3} s^{2} + C_{1} C_{3} R_{1} R_{2} s^{2} + C_{1} R_{1} s + C_{2} C_{3} R_{1} R_{2} s^{2} + C_{2} R_{1} s + C_{3} R_{2} s + 1}, \\  v_{4} : \\frac{C_{1} C_{2} C_{3} R_{1} R_{2} R_{3} V_{1} s^{3} + C_{1} C_{2} R_{1} R_{2} V_{1} s^{2} + C_{1} C_{2} R_{1} R_{3} V_{1} s^{2} + C_{1} C_{3} R_{1} R_{2} V_{1} s^{2} + C_{1} R_{1} V_{1} s + C_{2} R_{1} V_{1} s + V_{1}}{C_{1} C_{2} C_{3} R_{1} R_{2} R_{3} s^{3} + C_{1} C_{2} R_{1} R_{2} s^{2} + C_{1} C_{2} R_{1} R_{3} s^{2} + C_{1} C_{3} R_{1} R_{2} s^{2} + C_{1} R_{1} s + C_{2} C_{3} R_{1} R_{2} s^{2} + C_{2} R_{1} s + C_{3} R_{2} s + 1}, \\  v_{5} : \\frac{C_{1} C_{2} C_{3} R_{1} R_{2} R_{3} V_{1} s^{3} + C_{1} C_{2} R_{1} R_{2} V_{1} s^{2} + C_{1} C_{2} R_{1} R_{3} V_{1} s^{2} + C_{1} R_{1} V_{1} s + C_{2} R_{1} V_{1} s + V_{1}}{C_{1} C_{2} C_{3} R_{1} R_{2} R_{3} s^{3} + C_{1} C_{2} R_{1} R_{2} s^{2} + C_{1} C_{2} R_{1} R_{3} s^{2} + C_{1} C_{3} R_{1} R_{2} s^{2} + C_{1} R_{1} s + C_{2} C_{3} R_{1} R_{2} s^{2} + C_{2} R_{1} s + C_{3} R_{2} s + 1}\\right\\}$"
      ],
      "text/plain": [
       "⎧                                                                         2   \n",
       "⎪                                                            C₁⋅C₃⋅R₂⋅V₁⋅s    \n",
       "⎨I_O1: ───────────────────────────────────────────────────────────────────────\n",
       "⎪                         3                2                2                2\n",
       "⎩      C₁⋅C₂⋅C₃⋅R₁⋅R₂⋅R₃⋅s  + C₁⋅C₂⋅R₁⋅R₂⋅s  + C₁⋅C₂⋅R₁⋅R₃⋅s  + C₁⋅C₃⋅R₁⋅R₂⋅s \n",
       "\n",
       "                                                                              \n",
       "                                                                   - C₁⋅C₂⋅C₃⋅\n",
       "───────────────────────────────────────────────────, I_V1: ───────────────────\n",
       "                          2                                                   \n",
       " + C₁⋅R₁⋅s + C₂⋅C₃⋅R₁⋅R₂⋅s  + C₂⋅R₁⋅s + C₃⋅R₂⋅s + 1        C₁⋅C₂⋅C₃⋅R₁⋅R₂⋅R₃⋅s\n",
       "\n",
       "          3                      3                2                2          \n",
       "R₁⋅R₂⋅V₁⋅s  - C₁⋅C₂⋅C₃⋅R₁⋅R₃⋅V₁⋅s  - C₁⋅C₃⋅R₁⋅V₁⋅s  - C₁⋅C₃⋅R₂⋅V₁⋅s  - C₂⋅C₃⋅R\n",
       "──────────────────────────────────────────────────────────────────────────────\n",
       "3                2                2                2                          \n",
       "  + C₁⋅C₂⋅R₁⋅R₂⋅s  + C₁⋅C₂⋅R₁⋅R₃⋅s  + C₁⋅C₃⋅R₁⋅R₂⋅s  + C₁⋅R₁⋅s + C₂⋅C₃⋅R₁⋅R₂⋅s\n",
       "\n",
       "      2                                                                    3  \n",
       "₁⋅V₁⋅s  - C₃⋅V₁⋅s                                    C₁⋅C₂⋅C₃⋅R₁⋅R₂⋅R₃⋅V₁⋅s  +\n",
       "─────────────────────────, v₁: V₁, v₂: ───────────────────────────────────────\n",
       "2                                                         3                2  \n",
       "  + C₂⋅R₁⋅s + C₃⋅R₂⋅s + 1              C₁⋅C₂⋅C₃⋅R₁⋅R₂⋅R₃⋅s  + C₁⋅C₂⋅R₁⋅R₂⋅s  +\n",
       "\n",
       "                 2                   2                                        \n",
       " C₁⋅C₂⋅R₁⋅R₂⋅V₁⋅s  + C₁⋅C₂⋅R₁⋅R₃⋅V₁⋅s  + C₁⋅R₁⋅V₁⋅s + C₂⋅R₁⋅V₁⋅s + V₁         \n",
       "──────────────────────────────────────────────────────────────────────────────\n",
       "              2                2                          2                   \n",
       " C₁⋅C₂⋅R₁⋅R₃⋅s  + C₁⋅C₃⋅R₁⋅R₂⋅s  + C₁⋅R₁⋅s + C₂⋅C₃⋅R₁⋅R₂⋅s  + C₂⋅R₁⋅s + C₃⋅R₂⋅\n",
       "\n",
       "                                                      2                   2   \n",
       "                                      C₁⋅C₂⋅R₁⋅R₂⋅V₁⋅s  + C₁⋅C₂⋅R₁⋅R₃⋅V₁⋅s  + \n",
       "─────, v₃: ───────────────────────────────────────────────────────────────────\n",
       "                              3                2                2             \n",
       "s + 1      C₁⋅C₂⋅C₃⋅R₁⋅R₂⋅R₃⋅s  + C₁⋅C₂⋅R₁⋅R₂⋅s  + C₁⋅C₂⋅R₁⋅R₃⋅s  + C₁⋅C₃⋅R₁⋅R\n",
       "\n",
       "                                                                              \n",
       "C₁⋅R₁⋅V₁⋅s + C₂⋅R₁⋅V₁⋅s + V₁                                     C₁⋅C₂⋅C₃⋅R₁⋅R\n",
       "───────────────────────────────────────────────────────, v₄: ─────────────────\n",
       "   2                          2                                               \n",
       "₂⋅s  + C₁⋅R₁⋅s + C₂⋅C₃⋅R₁⋅R₂⋅s  + C₂⋅R₁⋅s + C₃⋅R₂⋅s + 1      C₁⋅C₂⋅C₃⋅R₁⋅R₂⋅R₃\n",
       "\n",
       "         3                   2                   2                   2        \n",
       "₂⋅R₃⋅V₁⋅s  + C₁⋅C₂⋅R₁⋅R₂⋅V₁⋅s  + C₁⋅C₂⋅R₁⋅R₃⋅V₁⋅s  + C₁⋅C₃⋅R₁⋅R₂⋅V₁⋅s  + C₁⋅R₁\n",
       "──────────────────────────────────────────────────────────────────────────────\n",
       "  3                2                2                2                        \n",
       "⋅s  + C₁⋅C₂⋅R₁⋅R₂⋅s  + C₁⋅C₂⋅R₁⋅R₃⋅s  + C₁⋅C₃⋅R₁⋅R₂⋅s  + C₁⋅R₁⋅s + C₂⋅C₃⋅R₁⋅R₂\n",
       "\n",
       "                                                                     3        \n",
       "⋅V₁⋅s + C₂⋅R₁⋅V₁⋅s + V₁                        C₁⋅C₂⋅C₃⋅R₁⋅R₂⋅R₃⋅V₁⋅s  + C₁⋅C₂\n",
       "───────────────────────────, v₅: ─────────────────────────────────────────────\n",
       "  2                                                 3                2        \n",
       "⋅s  + C₂⋅R₁⋅s + C₃⋅R₂⋅s + 1      C₁⋅C₂⋅C₃⋅R₁⋅R₂⋅R₃⋅s  + C₁⋅C₂⋅R₁⋅R₂⋅s  + C₁⋅C₂\n",
       "\n",
       "           2                   2                                             ⎫\n",
       "⋅R₁⋅R₂⋅V₁⋅s  + C₁⋅C₂⋅R₁⋅R₃⋅V₁⋅s  + C₁⋅R₁⋅V₁⋅s + C₂⋅R₁⋅V₁⋅s + V₁              ⎪\n",
       "─────────────────────────────────────────────────────────────────────────────⎬\n",
       "        2                2                          2                        ⎪\n",
       "⋅R₁⋅R₃⋅s  + C₁⋅C₃⋅R₁⋅R₂⋅s  + C₁⋅R₁⋅s + C₂⋅C₃⋅R₁⋅R₂⋅s  + C₂⋅R₁⋅s + C₃⋅R₂⋅s + 1⎭"
      ]
     },
     "execution_count": 41,
     "metadata": {},
     "output_type": "execute_result"
    }
   ],
   "source": [
    "symbolic_solution"
   ]
  },
  {
   "cell_type": "markdown",
   "metadata": {},
   "source": [
    "The symbolic solution for $\\frac {V_o}{V_i}$:"
   ]
  },
  {
   "cell_type": "code",
   "execution_count": 42,
   "metadata": {},
   "outputs": [
    {
     "data": {
      "image/png": "[encoded data removed]",
      "text/latex": [
       "$\\displaystyle \\frac{C_{1} C_{2} C_{3} R_{1} R_{2} R_{3} s^{3} + C_{1} C_{2} R_{1} R_{2} s^{2} + C_{1} C_{2} R_{1} R_{3} s^{2} + C_{1} R_{1} s + C_{2} R_{1} s + 1}{C_{1} C_{2} C_{3} R_{1} R_{2} R_{3} s^{3} + C_{1} C_{2} R_{1} R_{2} s^{2} + C_{1} C_{2} R_{1} R_{3} s^{2} + C_{1} C_{3} R_{1} R_{2} s^{2} + C_{1} R_{1} s + C_{2} C_{3} R_{1} R_{2} s^{2} + C_{2} R_{1} s + C_{3} R_{2} s + 1}$"
      ],
      "text/plain": [
       "                                         3                2                2  \n",
       "                      C₁⋅C₂⋅C₃⋅R₁⋅R₂⋅R₃⋅s  + C₁⋅C₂⋅R₁⋅R₂⋅s  + C₁⋅C₂⋅R₁⋅R₃⋅s  +\n",
       "──────────────────────────────────────────────────────────────────────────────\n",
       "                   3                2                2                2       \n",
       "C₁⋅C₂⋅C₃⋅R₁⋅R₂⋅R₃⋅s  + C₁⋅C₂⋅R₁⋅R₂⋅s  + C₁⋅C₂⋅R₁⋅R₃⋅s  + C₁⋅C₃⋅R₁⋅R₂⋅s  + C₁⋅R\n",
       "\n",
       "                                            \n",
       " C₁⋅R₁⋅s + C₂⋅R₁⋅s + 1                      \n",
       "────────────────────────────────────────────\n",
       "                   2                        \n",
       "₁⋅s + C₂⋅C₃⋅R₁⋅R₂⋅s  + C₂⋅R₁⋅s + C₃⋅R₂⋅s + 1"
      ]
     },
     "execution_count": 42,
     "metadata": {},
     "output_type": "execute_result"
    }
   ],
   "source": [
    "(symbolic_solution[v2]/symbolic_solution[v1]).factor()"
   ]
  },
  {
   "cell_type": "markdown",
   "metadata": {},
   "source": [
    "Built a python dictionary of element values"
   ]
  },
  {
   "cell_type": "code",
   "execution_count": 43,
   "metadata": {},
   "outputs": [],
   "source": [
    "element_value_keys = []\n",
    "element_value_values = []\n",
    "\n",
    "for i in range(len(df)):\n",
    "    if df.iloc[i]['element'][0] == 'F' or df.iloc[i]['element'][0] == 'E' or df.iloc[i]['element'][0] == 'G' or df.iloc[i]['element'][0] == 'H':\n",
    "        element_value_keys.append(var(df.iloc[i]['element'].lower()))\n",
    "        element_value_values.append(df.iloc[i]['value'])\n",
    "        #print('{:s}:{:f},'.format(df.iloc[i]['element'].lower(),df.iloc[i]['value']))\n",
    "    else:\n",
    "        element_value_keys.append(var(df.iloc[i]['element']))\n",
    "        element_value_values.append(df.iloc[i]['value'])\n",
    "        #print('{:s}:{:.4e},'.format(df.iloc[i]['element'],df.iloc[i]['value']))\n",
    "\n",
    "element_values = dict(zip(element_value_keys, element_value_values))"
   ]
  },
  {
   "cell_type": "markdown",
   "metadata": {},
   "source": [
    "## Numeric solution\n",
    "Substitue the element values into the equations and solve for unknown node voltages and currents. Need to set the current source, I1, to zero."
   ]
  },
  {
   "cell_type": "code",
   "execution_count": 44,
   "metadata": {},
   "outputs": [
    {
     "data": {
      "text/latex": [
       "$\\displaystyle \\left[\\begin{matrix}I_{V1} - 1.0 s v_{4} + v_{1} \\cdot \\left(1.0 s + 1.0\\right) - 1.0 v_{3}\\\\I_{O1} + 2.0 v_{2} - 2.0 v_{4}\\\\- 1.0 v_{1} + v_{3} \\cdot \\left(2.0 s + 2.0\\right) - 1.0 v_{5}\\\\- 1.0 s v_{1} - 1.0 s v_{5} - 2.0 v_{2} + v_{4} \\cdot \\left(2.0 s + 2.0\\right)\\\\- 1.0 s v_{4} - 1.0 v_{3} + v_{5} \\cdot \\left(1.0 s + 1.0\\right)\\\\v_{1}\\\\v_{2} - v_{5}\\end{matrix}\\right] = \\left[\\begin{matrix}0\\\\0\\\\0\\\\0\\\\0\\\\1.0\\\\0\\end{matrix}\\right]$"
      ],
      "text/plain": [
       "⎡  I_V1 - s⋅v₄ + v₁⋅(1.0⋅s + 1.0) - v₃   ⎤   ⎡ 0 ⎤\n",
       "⎢                                        ⎥   ⎢   ⎥\n",
       "⎢         I_O1 + 2.0⋅v₂ - 2.0⋅v₄         ⎥   ⎢ 0 ⎥\n",
       "⎢                                        ⎥   ⎢   ⎥\n",
       "⎢      -v₁ + v₃⋅(2.0⋅s + 2.0) - v₅       ⎥   ⎢ 0 ⎥\n",
       "⎢                                        ⎥   ⎢   ⎥\n",
       "⎢-s⋅v₁ - s⋅v₅ - 2.0⋅v₂ + v₄⋅(2.0⋅s + 2.0)⎥ = ⎢ 0 ⎥\n",
       "⎢                                        ⎥   ⎢   ⎥\n",
       "⎢     -s⋅v₄ - v₃ + v₅⋅(1.0⋅s + 1.0)      ⎥   ⎢ 0 ⎥\n",
       "⎢                                        ⎥   ⎢   ⎥\n",
       "⎢                   v₁                   ⎥   ⎢1.0⎥\n",
       "⎢                                        ⎥   ⎢   ⎥\n",
       "⎣                v₂ - v₅                 ⎦   ⎣ 0 ⎦"
      ]
     },
     "execution_count": 44,
     "metadata": {},
     "output_type": "execute_result"
    }
   ],
   "source": [
    "equ1a = equ.subs(element_values)\n",
    "equ1a"
   ]
  },
  {
   "cell_type": "markdown",
   "metadata": {},
   "source": [
    "Solve for voltages and currents in terms of Laplace variable s."
   ]
  },
  {
   "cell_type": "code",
   "execution_count": 45,
   "metadata": {
    "collapsed": false,
    "jupyter": {
     "outputs_hidden": false
    }
   },
   "outputs": [
    {
     "data": {
      "image/png": "[encoded data removed]",
      "text/latex": [
       "$\\displaystyle \\left\\{ I_{O1} : \\frac{2.0 s^{2}}{s^{3} + 3.0 s^{2} + 3.0 s + 1.0}, \\  I_{V1} : - \\frac{2.0 s}{s + 1.0}, \\  v_{1} : 1.0, \\  v_{2} : \\frac{s^{2} + 1.0}{s^{2} + 2.0 s + 1.0}, \\  v_{3} : \\frac{s^{2} + s + 1.0}{s^{3} + 3.0 s^{2} + 3.0 s + 1.0}, \\  v_{4} : \\frac{s^{3} + 2.0 s^{2} + s + 1.0}{s^{3} + 3.0 s^{2} + 3.0 s + 1.0}, \\  v_{5} : \\frac{s^{2} + 1.0}{s^{2} + 2.0 s + 1.0}\\right\\}$"
      ],
      "text/plain": [
       "⎧                     2                                            2          \n",
       "⎪                2.0⋅s                  -2.0⋅s                    s  + 1.0    \n",
       "⎨I_O1: ─────────────────────────, I_V1: ───────, v₁: 1.0, v₂: ────────────────\n",
       "⎪       3        2                      s + 1.0                2              \n",
       "⎩      s  + 3.0⋅s  + 3.0⋅s + 1.0                              s  + 2.0⋅s + 1.0\n",
       "\n",
       "              2                         3        2                       2    \n",
       "             s  + s + 1.0              s  + 2.0⋅s  + s + 1.0            s  + 1\n",
       ", v₃: ─────────────────────────, v₄: ─────────────────────────, v₅: ──────────\n",
       "       3        2                     3        2                     2        \n",
       "      s  + 3.0⋅s  + 3.0⋅s + 1.0      s  + 3.0⋅s  + 3.0⋅s + 1.0      s  + 2.0⋅s\n",
       "\n",
       "      ⎫\n",
       ".0    ⎪\n",
       "──────⎬\n",
       "      ⎪\n",
       " + 1.0⎭"
      ]
     },
     "execution_count": 45,
     "metadata": {},
     "output_type": "execute_result"
    }
   ],
   "source": [
    "u1 = solve(equ1a,X)\n",
    "u1"
   ]
  },
  {
   "cell_type": "markdown",
   "metadata": {},
   "source": [
    "## AC analysis\n",
    "Solve the equations at a frequency of 0.159154 mHz or $\\omega$ equal to 1 radians per second, s = 1."
   ]
  },
  {
   "cell_type": "code",
   "execution_count": 46,
   "metadata": {},
   "outputs": [
    {
     "data": {
      "text/latex": [
       "$\\displaystyle \\left[\\begin{matrix}I_{V1} + v_{1} \\cdot \\left(1.0 + 1.0 i\\right) - 1.0 v_{3} - 1.0 i v_{4}\\\\I_{O1} + 2.0 v_{2} - 2.0 v_{4}\\\\- 1.0 v_{1} + v_{3} \\cdot \\left(2.0 + 2.0 i\\right) - 1.0 v_{5}\\\\- 1.0 i v_{1} - 2.0 v_{2} + v_{4} \\cdot \\left(2.0 + 2.0 i\\right) - 1.0 i v_{5}\\\\- 1.0 v_{3} - 1.0 i v_{4} + v_{5} \\cdot \\left(1.0 + 1.0 i\\right)\\\\v_{1}\\\\v_{2} - v_{5}\\end{matrix}\\right] = \\left[\\begin{matrix}0\\\\0\\\\0\\\\0\\\\0\\\\1.0\\\\0\\end{matrix}\\right]$"
      ],
      "text/plain": [
       "⎡  I_V1 + v₁⋅(1.0 + 1.0⋅ⅈ) - v₃ - ⅈ⋅v₄   ⎤   ⎡ 0 ⎤\n",
       "⎢                                        ⎥   ⎢   ⎥\n",
       "⎢         I_O1 + 2.0⋅v₂ - 2.0⋅v₄         ⎥   ⎢ 0 ⎥\n",
       "⎢                                        ⎥   ⎢   ⎥\n",
       "⎢      -v₁ + v₃⋅(2.0 + 2.0⋅ⅈ) - v₅       ⎥   ⎢ 0 ⎥\n",
       "⎢                                        ⎥   ⎢   ⎥\n",
       "⎢-ⅈ⋅v₁ - 2.0⋅v₂ + v₄⋅(2.0 + 2.0⋅ⅈ) - ⅈ⋅v₅⎥ = ⎢ 0 ⎥\n",
       "⎢                                        ⎥   ⎢   ⎥\n",
       "⎢     -v₃ - ⅈ⋅v₄ + v₅⋅(1.0 + 1.0⋅ⅈ)      ⎥   ⎢ 0 ⎥\n",
       "⎢                                        ⎥   ⎢   ⎥\n",
       "⎢                   v₁                   ⎥   ⎢1.0⎥\n",
       "⎢                                        ⎥   ⎢   ⎥\n",
       "⎣                v₂ - v₅                 ⎦   ⎣ 0 ⎦"
      ]
     },
     "execution_count": 46,
     "metadata": {},
     "output_type": "execute_result"
    }
   ],
   "source": [
    "equ1a_1rad_per_s = equ1a.subs({s:1j})\n",
    "equ1a_1rad_per_s  # display the equations"
   ]
  },
  {
   "cell_type": "code",
   "execution_count": 47,
   "metadata": {},
   "outputs": [
    {
     "data": {
      "image/png": "[encoded data removed]",
      "text/latex": [
       "$\\displaystyle \\left\\{ I_{O1} : 0.5 + 0.5 i, \\  I_{V1} : -1.0 - 1.0 i, \\  v_{1} : 1.0, \\  v_{2} : 0.0, \\  v_{3} : 0.25 - 0.25 i, \\  v_{4} : 0.25 + 0.25 i, \\  v_{5} : 0.0\\right\\}$"
      ],
      "text/plain": [
       "{I_O1: 0.5 + 0.5⋅ⅈ, I_V1: -1.0 - ⅈ, v₁: 1.0, v₂: 0.0, v₃: 0.25 - 0.25⋅ⅈ, v₄: 0\n",
       ".25 + 0.25⋅ⅈ, v₅: 0.0}"
      ]
     },
     "execution_count": 47,
     "metadata": {},
     "output_type": "execute_result"
    }
   ],
   "source": [
    "ans1 = solve(equ1a_1rad_per_s,X)\n",
    "ans1"
   ]
  },
  {
   "cell_type": "code",
   "execution_count": 48,
   "metadata": {},
   "outputs": [
    {
     "name": "stdout",
     "output_type": "stream",
     "text": [
      "v1   : mag:   1.000000 phase:     0.00000 deg\n",
      "v2   : mag:   0.000000 phase:         nan deg\n",
      "v3   : mag:   0.353553 phase:   -45.00000 deg\n",
      "v4   : mag:   0.353553 phase:    45.00000 deg\n",
      "v5   : mag:   0.000000 phase:         nan deg\n",
      "I_V1 : mag:   1.414214 phase:  -135.00000 deg\n",
      "I_O1 : mag:   0.707107 phase:    45.00000 deg\n"
     ]
    }
   ],
   "source": [
    "for name, value in ans1.items():\n",
    "    print('{:5s}: mag: {:10.6f} phase: {:11.5f} deg'.format(str(name),float(abs(value)),float(arg(value)*180/np.pi)))"
   ]
  },
  {
   "cell_type": "markdown",
   "metadata": {},
   "source": [
    "## AC Sweep\n",
    "Looking at node 2 voltage."
   ]
  },
  {
   "cell_type": "code",
   "execution_count": 49,
   "metadata": {
    "collapsed": false,
    "jupyter": {
     "outputs_hidden": false
    }
   },
   "outputs": [
    {
     "data": {
      "image/png": "[encoded data removed]",
      "text/latex": [
       "$\\displaystyle \\frac{s^{2} + 1.0}{s^{2} + 2.0 s + 1.0}$"
      ],
      "text/plain": [
       "     2          \n",
       "    s  + 1.0    \n",
       "────────────────\n",
       " 2              \n",
       "s  + 2.0⋅s + 1.0"
      ]
     },
     "execution_count": 49,
     "metadata": {},
     "output_type": "execute_result"
    }
   ],
   "source": [
    "H = u1[v2]\n",
    "H"
   ]
  },
  {
   "cell_type": "code",
   "execution_count": 50,
   "metadata": {
    "collapsed": false,
    "jupyter": {
     "outputs_hidden": false
    }
   },
   "outputs": [],
   "source": [
    "num, denom = fraction(H) #returns numerator and denominator\n",
    "\n",
    "# convert symbolic to numpy polynomial\n",
    "a = np.array(Poly(num, s).all_coeffs(), dtype=float)\n",
    "b = np.array(Poly(denom, s).all_coeffs(), dtype=float)\n",
    "system = (a, b) # system for circuit"
   ]
  },
  {
   "cell_type": "code",
   "execution_count": 51,
   "metadata": {
    "collapsed": false,
    "jupyter": {
     "outputs_hidden": false
    }
   },
   "outputs": [],
   "source": [
    "x = np.logspace(-1, 0, 500, endpoint=True)*2*np.pi\n",
    "w, mag, phase = signal.bode(system, w=x) # returns: rad/s, mag in dB, phase in deg"
   ]
  },
  {
   "cell_type": "code",
   "execution_count": 52,
   "metadata": {},
   "outputs": [
    {
     "data": {
      "image/png": "[encoded data removed]",
      "text/plain": [
       "<Figure size 640x480 with 2 Axes>"
      ]
     },
     "metadata": {},
     "output_type": "display_data"
    }
   ],
   "source": [
    "fig, ax1 = plt.subplots()\n",
    "ax1.set_ylabel('magnitude, dB')\n",
    "ax1.set_xlabel('frequency, Hz')\n",
    "\n",
    "plt.semilogx(w/(2*np.pi), mag,'-b')    # Bode magnitude plot\n",
    "\n",
    "ax1.tick_params(axis='y')\n",
    "#ax1.set_ylim((-30,20))\n",
    "plt.grid()\n",
    "\n",
    "# instantiate a second y-axes that shares the same x-axis\n",
    "ax2 = ax1.twinx()\n",
    "color = 'tab:blue'\n",
    "\n",
    "#plt.semilogx(frequency, np.angle(voltage)*180/np.pi,':',color=color)  # Bode phase plot\n",
    "plt.semilogx(w/(2*np.pi), phase,':',color='tab:red')  # Bode phase plot\n",
    "\n",
    "ax2.set_ylabel('phase, deg',color=color)\n",
    "ax2.tick_params(axis='y', labelcolor=color)\n",
    "#ax2.set_ylim((-5,25))\n",
    "\n",
    "plt.title('Bode plot')\n",
    "plt.show()"
   ]
  },
  {
   "cell_type": "code",
   "execution_count": 53,
   "metadata": {},
   "outputs": [
    {
     "name": "stdout",
     "output_type": "stream",
     "text": [
      "null: -57.42 dB at 0.159 Hz\n"
     ]
    }
   ],
   "source": [
    "print('null: {:.2f} dB at {:.3f} Hz'.format(mag.min(),w[np.argmin(mag)]/(2*np.pi)))"
   ]
  },
  {
   "cell_type": "code",
   "execution_count": null,
   "metadata": {},
   "outputs": [],
   "source": []
  }
 ],
 "metadata": {
  "kernelspec": {
   "display_name": "Python 3 (ipykernel)",
   "language": "python",
   "name": "python3"
  },
  "language_info": {
   "codemirror_mode": {
    "name": "ipython",
    "version": 3
   },
   "file_extension": ".py",
   "mimetype": "text/x-python",
   "name": "python",
   "nbconvert_exporter": "python",
   "pygments_lexer": "ipython3",
   "version": "3.10.9"
  }
 },
 "nbformat": 4,
 "nbformat_minor": 4
}
