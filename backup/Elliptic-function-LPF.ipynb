{
 "cells": [
  {
   "cell_type": "raw",
   "metadata": {},
   "source": [
    "---\n",
    "title:\n",
    "format: \n",
    "    html:\n",
    "        code-fold: false\n",
    "        embed-resources: false\n",
    "        code-tools: true\n",
    "        number-sections: true\n",
    "jupyter: python3\n",
    "---"
   ]
  },
  {
   "cell_type": "markdown",
   "metadata": {},
   "source": [
    "# Elliptic Function LPF {#sec-elliptic-function}\n",
    "\n",
    "## Abstract {.unnumbered}\n",
    "\n",
    "## Introduction\n",
    "\n",
    "![Elliptic Function LPF](Elliptic-function-VCVS-LPF.png){#fig-elliptic-function-LPF}\n",
    "\n",
    "Netlist\n",
    "```\n",
    "* Elliptic function LPF.asc\n",
    "R3 3 0 4750\n",
    "R4 5 0 73.2k\n",
    "R1 4 1 9530\n",
    "R2 5 4 9530\n",
    "R7 2 7 10k\n",
    "C1 3 1 0.05µ\n",
    "C2 5 3 0.05µ\n",
    "C3 7 4 0.1µ\n",
    "C4 5 0 0.22µ\n",
    "C5 2 0 0.18µ\n",
    "XU1 6 5 7 opamp Aol=100K GBW=10Meg\n",
    "V1 1 0 AC 1\n",
    "R6 7 6 44.2k\n",
    "R5 6 0 10k\n",
    "* ;.ac list 1\n",
    ".lib opamp.sub\n",
    ".ac dec 1000 10 10k\n",
    "* Example 3-26 from Electronic Filter Design Handbook 3rd Edition\n",
    ".backanno\n",
    ".end\n",
    "```\n",
    "\n",
    "## Circuit description\n",
    "\n",
    "\n",
    "See @fig-elliptic-function-LPF\n",
    "\n",
    "The circuit shown below is an elliptic function low pass filter with a cutoff frequency of 100 Hz. The circuit is from @Williams1995, example 3-26.\n",
    "\n",
    "This is the modified net list.\n",
    "\n",
    "```\n",
    "* Elliptic function LPF.asc\n",
    "R3 3 0 4750\n",
    "R4 5 0 73.2e3\n",
    "R1 4 1 9530\n",
    "R2 5 4 9530\n",
    "R7 2 7 10e3\n",
    "C1 3 1 0.05e-6\n",
    "C2 5 3 0.05e-6\n",
    "C3 7 4 0.1e-6\n",
    "C4 5 0 0.22e-6\n",
    "C5 2 0 0.18e-6\n",
    "O1 6 5 7 \n",
    "V1 1 0 1\n",
    "R6 7 6 44.2e3\n",
    "R5 6 0 10e3\n",
    "* ;.ac list 1\n",
    ".lib opamp.sub\n",
    ".ac dec 1000 10 10k\n",
    ".backanno\n",
    ".end\n",
    "```\n",
    "\n"
   ]
  },
  {
   "cell_type": "code",
   "execution_count": 1,
   "metadata": {
    "collapsed": false,
    "jupyter": {
     "outputs_hidden": false
    }
   },
   "outputs": [],
   "source": [
    "#import os\n",
    "from sympy import *\n",
    "import numpy as np\n",
    "from tabulate import tabulate\n",
    "from scipy import signal\n",
    "import matplotlib.pyplot as plt\n",
    "import SymMNA\n",
    "init_printing()"
   ]
  },
  {
   "cell_type": "markdown",
   "metadata": {},
   "source": [
    "## Symbolic MNA code "
   ]
  },
  {
   "cell_type": "markdown",
   "metadata": {
    "tags": []
   },
   "source": [
    "## Load the net list"
   ]
  },
  {
   "cell_type": "code",
   "execution_count": 2,
   "metadata": {},
   "outputs": [],
   "source": [
    "example_net_list = '''\n",
    "* Elliptic function LPF.asc\n",
    "R3 3 0 4750\n",
    "R4 5 0 73.2e3\n",
    "R1 4 1 9530\n",
    "R2 5 4 9530\n",
    "R7 2 7 10e3\n",
    "C1 3 1 0.05e-6\n",
    "C2 5 3 0.05e-6\n",
    "C3 7 4 0.1e-6\n",
    "C4 5 0 0.22e-6\n",
    "C5 2 0 0.18e-6\n",
    "O1 6 5 7 \n",
    "V1 1 0 1\n",
    "R6 7 6 44.2e3\n",
    "R5 6 0 10e3\n",
    "* ;.ac list 1\n",
    ".lib opamp.sub\n",
    ".ac dec 1000 10 10k\n",
    ".backanno\n",
    ".end\n",
    "'''"
   ]
  },
  {
   "cell_type": "code",
   "execution_count": 3,
   "metadata": {},
   "outputs": [],
   "source": [
    "report, df, df2, A, X, Z = SymMNA.smna(example_net_list)"
   ]
  },
  {
   "cell_type": "code",
   "execution_count": 4,
   "metadata": {},
   "outputs": [
    {
     "name": "stdout",
     "output_type": "stream",
     "text": [
      "Net list report\n",
      "number of lines in netlist: 14\n",
      "number of branches: 13\n",
      "number of nodes: 7\n",
      "number of unknown currents: 2\n",
      "number of RLC (passive components): 12\n",
      "number of inductors: 0\n",
      "number of independent voltage sources: 1\n",
      "number of independent current sources: 0\n",
      "number of op amps: 1\n",
      "number of E - VCVS: 0\n",
      "number of G - VCCS: 0\n",
      "number of F - CCCS: 0\n",
      "number of H - CCVS: 0\n",
      "number of K - Coupled inductors: 0\n",
      "\n"
     ]
    }
   ],
   "source": [
    "print(report)"
   ]
  },
  {
   "cell_type": "code",
   "execution_count": 5,
   "metadata": {},
   "outputs": [],
   "source": [
    "# Put matricies into SymPy \n",
    "X = Matrix(X)\n",
    "Z = Matrix(Z)"
   ]
  },
  {
   "cell_type": "code",
   "execution_count": 6,
   "metadata": {},
   "outputs": [],
   "source": [
    "equ = Eq(A*X,Z)"
   ]
  },
  {
   "cell_type": "code",
   "execution_count": 7,
   "metadata": {},
   "outputs": [
    {
     "data": {
      "text/latex": [
       "$\\displaystyle \\left[\\begin{matrix}- C_{1} s v_{3} + I_{V1} + v_{1} \\left(C_{1} s + \\frac{1}{R_{1}}\\right) - \\frac{v_{4}}{R_{1}}\\\\v_{2} \\left(C_{5} s + \\frac{1}{R_{7}}\\right) - \\frac{v_{7}}{R_{7}}\\\\- C_{1} s v_{1} - C_{2} s v_{5} + v_{3} \\left(C_{1} s + C_{2} s + \\frac{1}{R_{3}}\\right)\\\\- C_{3} s v_{7} + v_{4} \\left(C_{3} s + \\frac{1}{R_{2}} + \\frac{1}{R_{1}}\\right) - \\frac{v_{5}}{R_{2}} - \\frac{v_{1}}{R_{1}}\\\\- C_{2} s v_{3} + v_{5} \\left(C_{2} s + C_{4} s + \\frac{1}{R_{4}} + \\frac{1}{R_{2}}\\right) - \\frac{v_{4}}{R_{2}}\\\\v_{6} \\cdot \\left(\\frac{1}{R_{6}} + \\frac{1}{R_{5}}\\right) - \\frac{v_{7}}{R_{6}}\\\\- C_{3} s v_{4} + I_{O1} + v_{7} \\left(C_{3} s + \\frac{1}{R_{7}} + \\frac{1}{R_{6}}\\right) - \\frac{v_{2}}{R_{7}} - \\frac{v_{6}}{R_{6}}\\\\v_{1}\\\\- v_{5} + v_{6}\\end{matrix}\\right] = \\left[\\begin{matrix}0\\\\0\\\\0\\\\0\\\\0\\\\0\\\\0\\\\V_{1}\\\\0\\end{matrix}\\right]$"
      ],
      "text/plain": [
       "⎡                          ⎛       1 ⎞   v₄     ⎤       \n",
       "⎢     -C₁⋅s⋅v₃ + I_V1 + v₁⋅⎜C₁⋅s + ──⎟ - ──     ⎥       \n",
       "⎢                          ⎝       R₁⎠   R₁     ⎥       \n",
       "⎢                                               ⎥       \n",
       "⎢                 ⎛       1 ⎞   v₇              ⎥       \n",
       "⎢              v₂⋅⎜C₅⋅s + ──⎟ - ──              ⎥       \n",
       "⎢                 ⎝       R₇⎠   R₇              ⎥       \n",
       "⎢                                               ⎥   ⎡0 ⎤\n",
       "⎢                          ⎛              1 ⎞   ⎥   ⎢  ⎥\n",
       "⎢  -C₁⋅s⋅v₁ - C₂⋅s⋅v₅ + v₃⋅⎜C₁⋅s + C₂⋅s + ──⎟   ⎥   ⎢0 ⎥\n",
       "⎢                          ⎝              R₃⎠   ⎥   ⎢  ⎥\n",
       "⎢                                               ⎥   ⎢0 ⎥\n",
       "⎢                 ⎛       1    1 ⎞   v₅   v₁    ⎥   ⎢  ⎥\n",
       "⎢   -C₃⋅s⋅v₇ + v₄⋅⎜C₃⋅s + ── + ──⎟ - ── - ──    ⎥   ⎢0 ⎥\n",
       "⎢                 ⎝       R₂   R₁⎠   R₂   R₁    ⎥   ⎢  ⎥\n",
       "⎢                                               ⎥ = ⎢0 ⎥\n",
       "⎢                ⎛              1    1 ⎞   v₄   ⎥   ⎢  ⎥\n",
       "⎢  -C₂⋅s⋅v₃ + v₅⋅⎜C₂⋅s + C₄⋅s + ── + ──⎟ - ──   ⎥   ⎢0 ⎥\n",
       "⎢                ⎝              R₄   R₂⎠   R₂   ⎥   ⎢  ⎥\n",
       "⎢                                               ⎥   ⎢0 ⎥\n",
       "⎢                  ⎛1    1 ⎞   v₇               ⎥   ⎢  ⎥\n",
       "⎢               v₆⋅⎜── + ──⎟ - ──               ⎥   ⎢V₁⎥\n",
       "⎢                  ⎝R₆   R₅⎠   R₆               ⎥   ⎢  ⎥\n",
       "⎢                                               ⎥   ⎣0 ⎦\n",
       "⎢                     ⎛       1    1 ⎞   v₂   v₆⎥       \n",
       "⎢-C₃⋅s⋅v₄ + I_O1 + v₇⋅⎜C₃⋅s + ── + ──⎟ - ── - ──⎥       \n",
       "⎢                     ⎝       R₇   R₆⎠   R₇   R₆⎥       \n",
       "⎢                                               ⎥       \n",
       "⎢                      v₁                       ⎥       \n",
       "⎢                                               ⎥       \n",
       "⎣                   -v₅ + v₆                    ⎦       "
      ]
     },
     "execution_count": 7,
     "metadata": {},
     "output_type": "execute_result"
    }
   ],
   "source": [
    "equ"
   ]
  },
  {
   "cell_type": "code",
   "execution_count": 8,
   "metadata": {},
   "outputs": [
    {
     "data": {
      "image/png": "[encoded data removed]",
      "text/latex": [
       "$\\displaystyle \\left( V_{1}, \\  C_{4}, \\  v_{2}, \\  R_{4}, \\  R_{7}, \\  C_{1}, \\  I_{V1}, \\  R_{1}, \\  I_{O1}, \\  R_{5}, \\  v_{6}, \\  v_{5}, \\  v_{4}, \\  C_{2}, \\  R_{2}, \\  R_{6}, \\  R_{3}, \\  v_{7}, \\  C_{3}, \\  s, \\  v_{1}, \\  C_{5}, \\  v_{3}\\right)$"
      ],
      "text/plain": [
       "(V₁, C₄, v₂, R₄, R₇, C₁, I_V1, R₁, I_O1, R₅, v₆, v₅, v₄, C₂, R₂, R₆, R₃, v₇, C\n",
       "₃, s, v₁, C₅, v₃)"
      ]
     },
     "execution_count": 8,
     "metadata": {},
     "output_type": "execute_result"
    }
   ],
   "source": [
    "# turn the free symbols into SymPy variables\n",
    "var(str(equ.free_symbols).replace('{','').replace('}',''))"
   ]
  },
  {
   "cell_type": "markdown",
   "metadata": {},
   "source": [
    "## Symbolic solution"
   ]
  },
  {
   "cell_type": "markdown",
   "metadata": {},
   "source": [
    "Trying to reducing the complexity"
   ]
  },
  {
   "cell_type": "code",
   "execution_count": 9,
   "metadata": {},
   "outputs": [],
   "source": [
    "C, R = symbols('C R')\n",
    "equ_R = equ.subs({R1:R,R2:R,R3:R/2,C1:C,C2:C,R5:10e3,R6:44.2e3,R7:10e3,C3:0.1e-6,C4:0.22e-6})"
   ]
  },
  {
   "cell_type": "code",
   "execution_count": 10,
   "metadata": {},
   "outputs": [
    {
     "data": {
      "text/latex": [
       "$\\displaystyle \\left[\\begin{matrix}- C s v_{3} + I_{V1} + v_{1} \\left(C s + \\frac{1}{R}\\right) - \\frac{v_{4}}{R}\\\\v_{2} \\left(C_{5} s + 0.0001\\right) - 0.0001 v_{7}\\\\- C s v_{1} - C s v_{5} + v_{3} \\cdot \\left(2 C s + \\frac{2}{R}\\right)\\\\- 1.0 \\cdot 10^{-7} s v_{7} + v_{4} \\cdot \\left(1.0 \\cdot 10^{-7} s + \\frac{2}{R}\\right) - \\frac{v_{1}}{R} - \\frac{v_{5}}{R}\\\\- C s v_{3} + v_{5} \\left(C s + 2.2 \\cdot 10^{-7} s + \\frac{1}{R_{4}} + \\frac{1}{R}\\right) - \\frac{v_{4}}{R}\\\\0.00012262443438914 v_{6} - 2.26244343891403 \\cdot 10^{-5} v_{7}\\\\I_{O1} - 1.0 \\cdot 10^{-7} s v_{4} - 0.0001 v_{2} - 2.26244343891403 \\cdot 10^{-5} v_{6} + v_{7} \\cdot \\left(1.0 \\cdot 10^{-7} s + 0.00012262443438914\\right)\\\\v_{1}\\\\- v_{5} + v_{6}\\end{matrix}\\right] = \\left[\\begin{matrix}0\\\\0\\\\0\\\\0\\\\0\\\\0\\\\0\\\\V_{1}\\\\0\\end{matrix}\\right]$"
      ],
      "text/plain": [
       "⎡                                                 ⎛      1⎞   v₄              \n",
       "⎢                             -C⋅s⋅v₃ + I_V1 + v₁⋅⎜C⋅s + ─⎟ - ──              \n",
       "⎢                                                 ⎝      R⎠   R               \n",
       "⎢                                                                             \n",
       "⎢                               v₂⋅(C₅⋅s + 0.0001) - 0.0001⋅v₇                \n",
       "⎢                                                                             \n",
       "⎢                                                    ⎛        2⎞              \n",
       "⎢                              -C⋅s⋅v₁ - C⋅s⋅v₅ + v₃⋅⎜2⋅C⋅s + ─⎟              \n",
       "⎢                                                    ⎝        R⎠              \n",
       "⎢                                                                             \n",
       "⎢                                           ⎛           2⎞   v₁   v₅          \n",
       "⎢                         -1.0e-7⋅s⋅v₇ + v₄⋅⎜1.0e-7⋅s + ─⎟ - ── - ──          \n",
       "⎢                                           ⎝           R⎠   R    R           \n",
       "⎢                                                                             \n",
       "⎢                                      ⎛                 1    1⎞   v₄         \n",
       "⎢                         -C⋅s⋅v₃ + v₅⋅⎜C⋅s + 2.2e-7⋅s + ── + ─⎟ - ──         \n",
       "⎢                                      ⎝                 R₄   R⎠   R          \n",
       "⎢                                                                             \n",
       "⎢                       0.00012262443438914⋅v₆ - 2.26244343891403e-5⋅v₇       \n",
       "⎢                                                                             \n",
       "⎢I_O1 - 1.0e-7⋅s⋅v₄ - 0.0001⋅v₂ - 2.26244343891403e-5⋅v₆ + v₇⋅(1.0e-7⋅s + 0.00\n",
       "⎢                                                                             \n",
       "⎢                                             v₁                              \n",
       "⎢                                                                             \n",
       "⎣                                          -v₅ + v₆                           \n",
       "\n",
       "                ⎤       \n",
       "                ⎥       \n",
       "                ⎥       \n",
       "                ⎥       \n",
       "                ⎥   ⎡0 ⎤\n",
       "                ⎥   ⎢  ⎥\n",
       "                ⎥   ⎢0 ⎥\n",
       "                ⎥   ⎢  ⎥\n",
       "                ⎥   ⎢0 ⎥\n",
       "                ⎥   ⎢  ⎥\n",
       "                ⎥   ⎢0 ⎥\n",
       "                ⎥   ⎢  ⎥\n",
       "                ⎥ = ⎢0 ⎥\n",
       "                ⎥   ⎢  ⎥\n",
       "                ⎥   ⎢0 ⎥\n",
       "                ⎥   ⎢  ⎥\n",
       "                ⎥   ⎢0 ⎥\n",
       "                ⎥   ⎢  ⎥\n",
       "                ⎥   ⎢V₁⎥\n",
       "                ⎥   ⎢  ⎥\n",
       "012262443438914)⎥   ⎣0 ⎦\n",
       "                ⎥       \n",
       "                ⎥       \n",
       "                ⎥       \n",
       "                ⎦       "
      ]
     },
     "execution_count": 10,
     "metadata": {},
     "output_type": "execute_result"
    }
   ],
   "source": [
    "equ_R"
   ]
  },
  {
   "cell_type": "code",
   "execution_count": 11,
   "metadata": {},
   "outputs": [],
   "source": [
    "U_sym = solve(equ_R,X)"
   ]
  },
  {
   "cell_type": "markdown",
   "metadata": {},
   "source": [
    "### Find the network function $\\frac {v_2(s)}{v_1(s)}$."
   ]
  },
  {
   "cell_type": "code",
   "execution_count": 12,
   "metadata": {},
   "outputs": [
    {
     "data": {
      "image/png": "[encoded data removed]",
      "text/latex": [
       "$\\displaystyle \\frac{3.0656108597285 \\cdot 10^{22} C^{2} R^{3} R_{4} s^{3} + 6.131221719457 \\cdot 10^{29} C^{2} R^{2} R_{4} s^{2} + 6.131221719457 \\cdot 10^{29} C R R_{4} s + 6.131221719457 \\cdot 10^{29} R_{4}}{5.65610859728507 \\cdot 10^{25} C^{2} C_{5} R^{3} R_{4} s^{4} + 1.13122171945701 \\cdot 10^{33} C^{2} C_{5} R^{2} R_{4} s^{3} + 5.65610859728507 \\cdot 10^{21} C^{2} R^{3} R_{4} s^{3} + 1.13122171945702 \\cdot 10^{29} C^{2} R^{2} R_{4} s^{2} + 2.48868778280543 \\cdot 10^{19} C C_{5} R^{3} R_{4} s^{4} + 1.13122171945701 \\cdot 10^{26} C C_{5} R^{3} s^{3} + 1.1085972850679 \\cdot 10^{26} C C_{5} R^{2} R_{4} s^{3} + 2.26244343891403 \\cdot 10^{33} C C_{5} R^{2} s^{2} + 3.39366515837105 \\cdot 10^{33} C C_{5} R R_{4} s^{2} + 2.48868778280543 \\cdot 10^{15} C R^{3} R_{4} s^{3} + 1.13122171945701 \\cdot 10^{22} C R^{3} s^{2} + 1.1085972850679 \\cdot 10^{22} C R^{2} R_{4} s^{2} + 2.26244343891403 \\cdot 10^{29} C R^{2} s + 3.39366515837105 \\cdot 10^{29} C R R_{4} s + 2.48868778280543 \\cdot 10^{19} C_{5} R^{2} R_{4} s^{3} + 1.13122171945701 \\cdot 10^{26} C_{5} R^{2} s^{2} - 2.2624434389119 \\cdot 10^{24} C_{5} R R_{4} s^{2} + 2.26244343891403 \\cdot 10^{33} C_{5} R s + 1.13122171945701 \\cdot 10^{33} C_{5} R_{4} s + 2.48868778280543 \\cdot 10^{15} R^{2} R_{4} s^{2} + 1.13122171945701 \\cdot 10^{22} R^{2} s - 2.2624434389119 \\cdot 10^{20} R R_{4} s + 2.26244343891403 \\cdot 10^{29} R + 1.13122171945702 \\cdot 10^{29} R_{4}}$"
      ],
      "text/plain": [
       "                                                                              \n",
       "                                                                              \n",
       "──────────────────────────────────────────────────────────────────────────────\n",
       "                      2     3     4                         2     2     3     \n",
       "5.65610859728507e+25⋅C ⋅C₅⋅R ⋅R₄⋅s  + 1.13122171945701e+33⋅C ⋅C₅⋅R ⋅R₄⋅s  + 5.\n",
       "\n",
       "                                                                              \n",
       "                                                                              \n",
       "──────────────────────────────────────────────────────────────────────────────\n",
       "                    2  3     3                         2  2     2             \n",
       "65610859728507e+21⋅C ⋅R ⋅R₄⋅s  + 1.13122171945702e+29⋅C ⋅R ⋅R₄⋅s  + 2.48868778\n",
       "\n",
       "                                                                              \n",
       "                                                                              \n",
       "──────────────────────────────────────────────────────────────────────────────\n",
       "                 3     4                              3  3                    \n",
       "280543e+19⋅C⋅C₅⋅R ⋅R₄⋅s  + 1.13122171945701e+26⋅C⋅C₅⋅R ⋅s  + 1.1085972850679e+\n",
       "\n",
       "                                                                              \n",
       "                                                                              \n",
       "──────────────────────────────────────────────────────────────────────────────\n",
       "         2     3                              2  2                            \n",
       "26⋅C⋅C₅⋅R ⋅R₄⋅s  + 2.26244343891403e+33⋅C⋅C₅⋅R ⋅s  + 3.39366515837105e+33⋅C⋅C₅\n",
       "\n",
       "                                         2  3     3                       2  2\n",
       "                    3.0656108597285e+22⋅C ⋅R ⋅R₄⋅s  + 6.131221719457e+29⋅C ⋅R \n",
       "──────────────────────────────────────────────────────────────────────────────\n",
       "       2                           3     3                           3  2     \n",
       "⋅R⋅R₄⋅s  + 2.48868778280543e+15⋅C⋅R ⋅R₄⋅s  + 1.13122171945701e+22⋅C⋅R ⋅s  + 1.\n",
       "\n",
       "     2                                                                        \n",
       "⋅R₄⋅s  + 6.131221719457e+29⋅C⋅R⋅R₄⋅s + 6.131221719457e+29⋅R₄                  \n",
       "──────────────────────────────────────────────────────────────────────────────\n",
       "                     2     2                           2                      \n",
       "1085972850679e+22⋅C⋅R ⋅R₄⋅s  + 2.26244343891403e+29⋅C⋅R ⋅s + 3.39366515837105e\n",
       "\n",
       "                                                                              \n",
       "                                                                              \n",
       "──────────────────────────────────────────────────────────────────────────────\n",
       "                                        2     3                            2  \n",
       "+29⋅C⋅R⋅R₄⋅s + 2.48868778280543e+19⋅C₅⋅R ⋅R₄⋅s  + 1.13122171945701e+26⋅C₅⋅R ⋅s\n",
       "\n",
       "                                                                              \n",
       "                                                                              \n",
       "──────────────────────────────────────────────────────────────────────────────\n",
       "2                                2                                            \n",
       "  - 2.2624434389119e+24⋅C₅⋅R⋅R₄⋅s  + 2.26244343891403e+33⋅C₅⋅R⋅s + 1.131221719\n",
       "\n",
       "                                                                              \n",
       "                                                                              \n",
       "──────────────────────────────────────────────────────────────────────────────\n",
       "                                          2     2                         2   \n",
       "45701e+33⋅C₅⋅R₄⋅s + 2.48868778280543e+15⋅R ⋅R₄⋅s  + 1.13122171945701e+22⋅R ⋅s \n",
       "\n",
       "                                                                              \n",
       "                                                                              \n",
       "──────────────────────────────────────────────────────────────────────────────\n",
       "                                                                              \n",
       "- 2.2624434389119e+20⋅R⋅R₄⋅s + 2.26244343891403e+29⋅R + 1.13122171945702e+29⋅R\n",
       "\n",
       " \n",
       " \n",
       "─\n",
       " \n",
       "₄"
      ]
     },
     "execution_count": 12,
     "metadata": {},
     "output_type": "execute_result"
    }
   ],
   "source": [
    "(U_sym[v2]/U_sym[v1]).cancel()"
   ]
  },
  {
   "cell_type": "code",
   "execution_count": 13,
   "metadata": {},
   "outputs": [
    {
     "data": {
      "image/png": "[encoded data removed]",
      "text/latex": [
       "$\\displaystyle \\frac{3.0656108597285 \\cdot 10^{22} C^{2} R^{3} R_{4} s^{3} + 6.131221719457 \\cdot 10^{29} C^{2} R^{2} R_{4} s^{2} + 6.131221719457 \\cdot 10^{29} C R R_{4} s + 6.131221719457 \\cdot 10^{29} R_{4}}{2.26244343891403 \\cdot 10^{29} R + 1.13122171945702 \\cdot 10^{29} R_{4} + s^{4} \\cdot \\left(5.65610859728507 \\cdot 10^{25} C^{2} C_{5} R^{3} R_{4} + 2.48868778280543 \\cdot 10^{19} C C_{5} R^{3} R_{4}\\right) + s^{3} \\cdot \\left(1.13122171945701 \\cdot 10^{33} C^{2} C_{5} R^{2} R_{4} + 5.65610859728507 \\cdot 10^{21} C^{2} R^{3} R_{4} + 1.13122171945701 \\cdot 10^{26} C C_{5} R^{3} + 1.1085972850679 \\cdot 10^{26} C C_{5} R^{2} R_{4} + 2.48868778280543 \\cdot 10^{15} C R^{3} R_{4} + 2.48868778280543 \\cdot 10^{19} C_{5} R^{2} R_{4}\\right) + s^{2} \\cdot \\left(1.13122171945702 \\cdot 10^{29} C^{2} R^{2} R_{4} + 2.26244343891403 \\cdot 10^{33} C C_{5} R^{2} + 3.39366515837105 \\cdot 10^{33} C C_{5} R R_{4} + 1.13122171945701 \\cdot 10^{22} C R^{3} + 1.1085972850679 \\cdot 10^{22} C R^{2} R_{4} + 1.13122171945701 \\cdot 10^{26} C_{5} R^{2} - 2.2624434389119 \\cdot 10^{24} C_{5} R R_{4} + 2.48868778280543 \\cdot 10^{15} R^{2} R_{4}\\right) + s \\left(2.26244343891403 \\cdot 10^{29} C R^{2} + 3.39366515837105 \\cdot 10^{29} C R R_{4} + 2.26244343891403 \\cdot 10^{33} C_{5} R + 1.13122171945701 \\cdot 10^{33} C_{5} R_{4} + 1.13122171945701 \\cdot 10^{22} R^{2} - 2.2624434389119 \\cdot 10^{20} R R_{4}\\right)}$"
      ],
      "text/plain": [
       "                                                                              \n",
       "                                                                              \n",
       "──────────────────────────────────────────────────────────────────────────────\n",
       "                                                    4 ⎛                      2\n",
       "2.26244343891403e+29⋅R + 1.13122171945702e+29⋅R₄ + s ⋅⎝5.65610859728507e+25⋅C \n",
       "\n",
       "                                                                              \n",
       "                                                                              \n",
       "──────────────────────────────────────────────────────────────────────────────\n",
       "     3                                 3   ⎞    3 ⎛                      2    \n",
       "⋅C₅⋅R ⋅R₄ + 2.48868778280543e+19⋅C⋅C₅⋅R ⋅R₄⎠ + s ⋅⎝1.13122171945701e+33⋅C ⋅C₅⋅\n",
       "\n",
       "                                                                              \n",
       "                                                                              \n",
       "──────────────────────────────────────────────────────────────────────────────\n",
       " 2                            2  3                                 3          \n",
       "R ⋅R₄ + 5.65610859728507e+21⋅C ⋅R ⋅R₄ + 1.13122171945701e+26⋅C⋅C₅⋅R  + 1.10859\n",
       "\n",
       "                                                                              \n",
       "                                                                             3\n",
       "──────────────────────────────────────────────────────────────────────────────\n",
       "                   2                              3                           \n",
       "72850679e+26⋅C⋅C₅⋅R ⋅R₄ + 2.48868778280543e+15⋅C⋅R ⋅R₄ + 2.48868778280543e+19⋅\n",
       "\n",
       "                    2  3     3                       2  2     2               \n",
       ".0656108597285e+22⋅C ⋅R ⋅R₄⋅s  + 6.131221719457e+29⋅C ⋅R ⋅R₄⋅s  + 6.1312217194\n",
       "──────────────────────────────────────────────────────────────────────────────\n",
       "    2   ⎞    2 ⎛                      2  2                                 2  \n",
       "C₅⋅R ⋅R₄⎠ + s ⋅⎝1.13122171945702e+29⋅C ⋅R ⋅R₄ + 2.26244343891403e+33⋅C⋅C₅⋅R  +\n",
       "\n",
       "                                                                              \n",
       "57e+29⋅C⋅R⋅R₄⋅s + 6.131221719457e+29⋅R₄                                       \n",
       "──────────────────────────────────────────────────────────────────────────────\n",
       "                                                          3                   \n",
       " 3.39366515837105e+33⋅C⋅C₅⋅R⋅R₄ + 1.13122171945701e+22⋅C⋅R  + 1.1085972850679e\n",
       "\n",
       "                                                                              \n",
       "                                                                              \n",
       "──────────────────────────────────────────────────────────────────────────────\n",
       "       2                               2                                      \n",
       "+22⋅C⋅R ⋅R₄ + 1.13122171945701e+26⋅C₅⋅R  - 2.2624434389119e+24⋅C₅⋅R⋅R₄ + 2.488\n",
       "\n",
       "                                                                              \n",
       "                                                                              \n",
       "──────────────────────────────────────────────────────────────────────────────\n",
       "                 2   ⎞     ⎛                        2                         \n",
       "68778280543e+15⋅R ⋅R₄⎠ + s⋅⎝2.26244343891403e+29⋅C⋅R  + 3.39366515837105e+29⋅C\n",
       "\n",
       "                                                                              \n",
       "                                                                              \n",
       "──────────────────────────────────────────────────────────────────────────────\n",
       "                                                                              \n",
       "⋅R⋅R₄ + 2.26244343891403e+33⋅C₅⋅R + 1.13122171945701e+33⋅C₅⋅R₄ + 1.13122171945\n",
       "\n",
       "                                      \n",
       "                                      \n",
       "──────────────────────────────────────\n",
       "         2                           ⎞\n",
       "701e+22⋅R  - 2.2624434389119e+20⋅R⋅R₄⎠"
      ]
     },
     "execution_count": 13,
     "metadata": {},
     "output_type": "execute_result"
    }
   ],
   "source": [
    "(U_sym[v2]/U_sym[v1]).cancel().collect(s)"
   ]
  },
  {
   "cell_type": "markdown",
   "metadata": {},
   "source": [
    "The equation above is not very useful, still needs work.\n",
    "\n",
    "Built a python dictionary of element values"
   ]
  },
  {
   "cell_type": "code",
   "execution_count": 14,
   "metadata": {},
   "outputs": [],
   "source": [
    "element_value_keys = []\n",
    "element_value_values = []\n",
    "\n",
    "for i in range(len(df)):\n",
    "    if df.iloc[i]['element'][0] == 'F' or df.iloc[i]['element'][0] == 'E' or df.iloc[i]['element'][0] == 'G' or df.iloc[i]['element'][0] == 'H':\n",
    "        element_value_keys.append(var(df.iloc[i]['element'].lower()))\n",
    "        element_value_values.append(df.iloc[i]['value'])\n",
    "        #print('{:s}:{:f},'.format(df.iloc[i]['element'].lower(),df.iloc[i]['value']))\n",
    "    else:\n",
    "        element_value_keys.append(var(df.iloc[i]['element']))\n",
    "        element_value_values.append(df.iloc[i]['value'])\n",
    "        #print('{:s}:{:.4e},'.format(df.iloc[i]['element'],df.iloc[i]['value']))\n",
    "\n",
    "element_values = dict(zip(element_value_keys, element_value_values))"
   ]
  },
  {
   "cell_type": "code",
   "execution_count": 15,
   "metadata": {},
   "outputs": [
    {
     "data": {
      "text/latex": [
       "$\\displaystyle \\left\\{ C_{1} : 5.0 \\cdot 10^{-8}, \\  C_{2} : 5.0 \\cdot 10^{-8}, \\  C_{3} : 1.0 \\cdot 10^{-7}, \\  C_{4} : 2.2 \\cdot 10^{-7}, \\  C_{5} : 1.8 \\cdot 10^{-7}, \\  O_{1} : \\text{NaN}, \\  R_{1} : 9530.0, \\  R_{2} : 9530.0, \\  R_{3} : 4750.0, \\  R_{4} : 73200.0, \\  R_{5} : 10000.0, \\  R_{6} : 44200.0, \\  R_{7} : 10000.0, \\  V_{1} : 1.0\\right\\}$"
      ],
      "text/plain": [
       "{C₁: 5e-08, C₂: 5e-08, C₃: 1e-07, C₄: 2.2e-07, C₅: 1.8e-07, O₁: nan, R₁: 9530.\n",
       "0, R₂: 9530.0, R₃: 4750.0, R₄: 73200.0, R₅: 10000.0, R₆: 44200.0, R₇: 10000.0,\n",
       " V₁: 1.0}"
      ]
     },
     "execution_count": 15,
     "metadata": {},
     "output_type": "execute_result"
    }
   ],
   "source": [
    "element_values"
   ]
  },
  {
   "cell_type": "markdown",
   "metadata": {},
   "source": [
    "## Numeric solution\n",
    "Substitue the element values into the equations and solve for unknown node voltages and currents. Need to set the current source, I1, to zero."
   ]
  },
  {
   "cell_type": "code",
   "execution_count": 16,
   "metadata": {},
   "outputs": [
    {
     "data": {
      "text/latex": [
       "$\\displaystyle \\left[\\begin{matrix}I_{V1} - 5.0 \\cdot 10^{-8} s v_{3} + v_{1} \\cdot \\left(5.0 \\cdot 10^{-8} s + 0.000104931794333683\\right) - 0.000104931794333683 v_{4}\\\\v_{2} \\cdot \\left(1.8 \\cdot 10^{-7} s + 0.0001\\right) - 0.0001 v_{7}\\\\- 5.0 \\cdot 10^{-8} s v_{1} - 5.0 \\cdot 10^{-8} s v_{5} + v_{3} \\cdot \\left(1.0 \\cdot 10^{-7} s + 0.000210526315789474\\right)\\\\- 1.0 \\cdot 10^{-7} s v_{7} - 0.000104931794333683 v_{1} + v_{4} \\cdot \\left(1.0 \\cdot 10^{-7} s + 0.000209863588667366\\right) - 0.000104931794333683 v_{5}\\\\- 5.0 \\cdot 10^{-8} s v_{3} - 0.000104931794333683 v_{4} + v_{5} \\cdot \\left(2.7 \\cdot 10^{-7} s + 0.000118592996519475\\right)\\\\0.00012262443438914 v_{6} - 2.26244343891403 \\cdot 10^{-5} v_{7}\\\\I_{O1} - 1.0 \\cdot 10^{-7} s v_{4} - 0.0001 v_{2} - 2.26244343891403 \\cdot 10^{-5} v_{6} + v_{7} \\cdot \\left(1.0 \\cdot 10^{-7} s + 0.00012262443438914\\right)\\\\v_{1}\\\\- v_{5} + v_{6}\\end{matrix}\\right] = \\left[\\begin{matrix}0\\\\0\\\\0\\\\0\\\\0\\\\0\\\\0\\\\1.0\\\\0\\end{matrix}\\right]$"
      ],
      "text/plain": [
       "⎡          I_V1 - 5.0e-8⋅s⋅v₃ + v₁⋅(5.0e-8⋅s + 0.000104931794333683) - 0.00010\n",
       "⎢                                                                             \n",
       "⎢                                  v₂⋅(1.8e-7⋅s + 0.0001) - 0.0001⋅v₇         \n",
       "⎢                                                                             \n",
       "⎢                   -5.0e-8⋅s⋅v₁ - 5.0e-8⋅s⋅v₅ + v₃⋅(1.0e-7⋅s + 0.000210526315\n",
       "⎢                                                                             \n",
       "⎢-1.0e-7⋅s⋅v₇ - 0.000104931794333683⋅v₁ + v₄⋅(1.0e-7⋅s + 0.000209863588667366)\n",
       "⎢                                                                             \n",
       "⎢             -5.0e-8⋅s⋅v₃ - 0.000104931794333683⋅v₄ + v₅⋅(2.7e-7⋅s + 0.000118\n",
       "⎢                                                                             \n",
       "⎢                            0.00012262443438914⋅v₆ - 2.26244343891403e-5⋅v₇  \n",
       "⎢                                                                             \n",
       "⎢     I_O1 - 1.0e-7⋅s⋅v₄ - 0.0001⋅v₂ - 2.26244343891403e-5⋅v₆ + v₇⋅(1.0e-7⋅s +\n",
       "⎢                                                                             \n",
       "⎢                                                  v₁                         \n",
       "⎢                                                                             \n",
       "⎣                                               -v₅ + v₆                      \n",
       "\n",
       "4931794333683⋅v₄          ⎤   ⎡ 0 ⎤\n",
       "                          ⎥   ⎢   ⎥\n",
       "                          ⎥   ⎢ 0 ⎥\n",
       "                          ⎥   ⎢   ⎥\n",
       "789474)                   ⎥   ⎢ 0 ⎥\n",
       "                          ⎥   ⎢   ⎥\n",
       " - 0.000104931794333683⋅v₅⎥   ⎢ 0 ⎥\n",
       "                          ⎥   ⎢   ⎥\n",
       "592996519475)             ⎥ = ⎢ 0 ⎥\n",
       "                          ⎥   ⎢   ⎥\n",
       "                          ⎥   ⎢ 0 ⎥\n",
       "                          ⎥   ⎢   ⎥\n",
       " 0.00012262443438914)     ⎥   ⎢ 0 ⎥\n",
       "                          ⎥   ⎢   ⎥\n",
       "                          ⎥   ⎢1.0⎥\n",
       "                          ⎥   ⎢   ⎥\n",
       "                          ⎦   ⎣ 0 ⎦"
      ]
     },
     "execution_count": 16,
     "metadata": {},
     "output_type": "execute_result"
    }
   ],
   "source": [
    "equ_N = equ.subs(element_values)\n",
    "equ_N"
   ]
  },
  {
   "cell_type": "markdown",
   "metadata": {},
   "source": [
    "Solve for voltages and currents in terms of Laplace variable s."
   ]
  },
  {
   "cell_type": "code",
   "execution_count": 17,
   "metadata": {
    "collapsed": false,
    "jupyter": {
     "outputs_hidden": false
    }
   },
   "outputs": [],
   "source": [
    "U = solve(equ_N,X)"
   ]
  },
  {
   "cell_type": "markdown",
   "metadata": {},
   "source": [
    "### Find the network function $\\frac {v_2(s)}{v_1(s)}$."
   ]
  },
  {
   "cell_type": "code",
   "execution_count": 18,
   "metadata": {},
   "outputs": [
    {
     "data": {
      "image/png": "[encoded data removed]",
      "text/latex": [
       "$\\displaystyle \\frac{7.66402714932125 \\cdot 10^{50} s^{3} + 1.60840024120068 \\cdot 10^{54} s^{2} + 3.37544646631832 \\cdot 10^{57} s + 7.10620308698594 \\cdot 10^{60}}{2.49434389140272 \\cdot 10^{48} s^{4} + 7.82471226796141 \\cdot 10^{51} s^{3} + 7.48699036699101 \\cdot 10^{54} s^{2} + 5.1465987346903 \\cdot 10^{57} s + 1.65249706814803 \\cdot 10^{60}}$"
      ],
      "text/plain": [
       "                                  3                         2                 \n",
       "            7.66402714932125e+50⋅s  + 1.60840024120068e+54⋅s  + 3.375446466318\n",
       "──────────────────────────────────────────────────────────────────────────────\n",
       "                      4                         3                         2   \n",
       "2.49434389140272e+48⋅s  + 7.82471226796141e+51⋅s  + 7.48699036699101e+54⋅s  + \n",
       "\n",
       "                                            \n",
       "32e+57⋅s + 7.10620308698594e+60             \n",
       "────────────────────────────────────────────\n",
       "                                            \n",
       "5.1465987346903e+57⋅s + 1.65249706814803e+60"
      ]
     },
     "execution_count": 18,
     "metadata": {},
     "output_type": "execute_result"
    }
   ],
   "source": [
    "H = (U[v2]/U[v1]).cancel()\n",
    "H"
   ]
  },
  {
   "cell_type": "code",
   "execution_count": null,
   "metadata": {},
   "outputs": [],
   "source": []
  },
  {
   "cell_type": "code",
   "execution_count": 19,
   "metadata": {
    "tags": []
   },
   "outputs": [],
   "source": [
    "H_num, H_denom = fraction(H) #returns numerator and denominator"
   ]
  },
  {
   "cell_type": "code",
   "execution_count": 20,
   "metadata": {
    "collapsed": false,
    "jupyter": {
     "outputs_hidden": false
    }
   },
   "outputs": [],
   "source": [
    "# convert symbolic to numpy polynomial\n",
    "a = np.array(Poly(H_num, s).all_coeffs(), dtype=float)\n",
    "b = np.array(Poly(H_denom, s).all_coeffs(), dtype=float)\n",
    "sys = signal.TransferFunction(a,b)"
   ]
  },
  {
   "cell_type": "markdown",
   "metadata": {},
   "source": [
    "### Poles and zeros of the low pass transfer function\n",
    "The poles and zeros of the transfer function can easly be obtained with the following code:"
   ]
  },
  {
   "cell_type": "code",
   "execution_count": 21,
   "metadata": {},
   "outputs": [],
   "source": [
    "sys_zeros = np.roots(sys.num)\n",
    "sys_poles = np.roots(sys.den)"
   ]
  },
  {
   "cell_type": "markdown",
   "metadata": {},
   "source": [
    "#### Low pass filter pole zero plot\n",
    "The poles and zeros of the preamp transfer function are plotted."
   ]
  },
  {
   "cell_type": "code",
   "execution_count": 22,
   "metadata": {},
   "outputs": [
    {
     "data": {
      "image/png": "[encoded data removed]",
      "text/plain": [
       "<Figure size 640x480 with 1 Axes>"
      ]
     },
     "metadata": {},
     "output_type": "display_data"
    }
   ],
   "source": [
    "plt.plot(np.real(sys_zeros), np.imag(sys_zeros), 'ob', markerfacecolor='none')\n",
    "plt.plot(np.real(sys_poles), np.imag(sys_poles), 'xr')\n",
    "plt.legend(['Zeros', 'Poles'], loc=0)\n",
    "plt.title('Pole / Zero Plot')\n",
    "plt.xlabel('real part, \\u03B1')\n",
    "plt.ylabel('imaginary part, j\\u03C9')\n",
    "plt.grid()\n",
    "plt.show()"
   ]
  },
  {
   "cell_type": "markdown",
   "metadata": {},
   "source": [
    "Poles and zeros of the transfer function plotted on the complex plane. The units are in radian frequency.\n",
    "\n",
    "Printing these values in Hz."
   ]
  },
  {
   "cell_type": "code",
   "execution_count": 23,
   "metadata": {},
   "outputs": [
    {
     "name": "stdout",
     "output_type": "stream",
     "text": [
      "number of zeros: 3\n",
      "-334.53+0.00j Hz\n",
      "0.26+334.27j Hz\n",
      "0.26-334.27j Hz\n"
     ]
    }
   ],
   "source": [
    "print('number of zeros: {:d}'.format(len(sys_zeros)))\n",
    "for i in sys_zeros:\n",
    "    print('{:,.2f} Hz'.format(i/(2*np.pi)))"
   ]
  },
  {
   "cell_type": "code",
   "execution_count": 24,
   "metadata": {},
   "outputs": [
    {
     "name": "stdout",
     "output_type": "stream",
     "text": [
      "number of poles: 4\n",
      "-335.18+0.00j Hz\n",
      "-37.83+113.63j Hz\n",
      "-37.83-113.63j Hz\n",
      "-88.42+0.00j Hz\n"
     ]
    }
   ],
   "source": [
    "print('number of poles: {:d}'.format(len(sys_poles)))\n",
    "for i in sys_poles:\n",
    "    print('{:,.2f} Hz'.format(i/(2*np.pi)))"
   ]
  },
  {
   "cell_type": "code",
   "execution_count": null,
   "metadata": {},
   "outputs": [],
   "source": []
  },
  {
   "cell_type": "markdown",
   "metadata": {},
   "source": [
    "## AC analysis\n",
    "Solve equations a frequency of 1.491MHz or $\\omega$ equal to 9.3682292e6 radians per second, s = 9.3682292e6j."
   ]
  },
  {
   "cell_type": "code",
   "execution_count": 25,
   "metadata": {},
   "outputs": [
    {
     "data": {
      "image/png": "[encoded data removed]",
      "text/latex": [
       "$\\displaystyle 628.318530717959$"
      ],
      "text/plain": [
       "628.3185307179587"
      ]
     },
     "execution_count": 25,
     "metadata": {},
     "output_type": "execute_result"
    }
   ],
   "source": [
    "freq_Hz = 100 #Hz\n",
    "w = 2*np.pi*freq_Hz\n",
    "w"
   ]
  },
  {
   "cell_type": "code",
   "execution_count": 26,
   "metadata": {},
   "outputs": [
    {
     "data": {
      "text/latex": [
       "$\\displaystyle \\left[\\begin{matrix}I_{V1} + v_{1} \\cdot \\left(0.000104931794333683 + 3.14159265358979 \\cdot 10^{-5} i\\right) - 3.14159265358979 \\cdot 10^{-5} i v_{3} - 0.000104931794333683 v_{4}\\\\v_{2} \\cdot \\left(0.0001 + 0.000113097335529233 i\\right) - 0.0001 v_{7}\\\\- 3.14159265358979 \\cdot 10^{-5} i v_{1} + v_{3} \\cdot \\left(0.000210526315789474 + 6.28318530717959 \\cdot 10^{-5} i\\right) - 3.14159265358979 \\cdot 10^{-5} i v_{5}\\\\- 0.000104931794333683 v_{1} + v_{4} \\cdot \\left(0.000209863588667366 + 6.28318530717959 \\cdot 10^{-5} i\\right) - 0.000104931794333683 v_{5} - 6.28318530717959 \\cdot 10^{-5} i v_{7}\\\\- 3.14159265358979 \\cdot 10^{-5} i v_{3} - 0.000104931794333683 v_{4} + v_{5} \\cdot \\left(0.000118592996519475 + 0.000169646003293849 i\\right)\\\\0.00012262443438914 v_{6} - 2.26244343891403 \\cdot 10^{-5} v_{7}\\\\I_{O1} - 0.0001 v_{2} - 6.28318530717959 \\cdot 10^{-5} i v_{4} - 2.26244343891403 \\cdot 10^{-5} v_{6} + v_{7} \\cdot \\left(0.00012262443438914 + 6.28318530717959 \\cdot 10^{-5} i\\right)\\\\v_{1}\\\\- v_{5} + v_{6}\\end{matrix}\\right] = \\left[\\begin{matrix}0\\\\0\\\\0\\\\0\\\\0\\\\0\\\\0\\\\1.0\\\\0\\end{matrix}\\right]$"
      ],
      "text/plain": [
       "⎡          I_V1 + v₁⋅(0.000104931794333683 + 3.14159265358979e-5⋅ⅈ) - 3.141592\n",
       "⎢                                                                             \n",
       "⎢                                        v₂⋅(0.0001 + 0.000113097335529233⋅ⅈ) \n",
       "⎢                                                                             \n",
       "⎢            -3.14159265358979e-5⋅ⅈ⋅v₁ + v₃⋅(0.000210526315789474 + 6.28318530\n",
       "⎢                                                                             \n",
       "⎢-0.000104931794333683⋅v₁ + v₄⋅(0.000209863588667366 + 6.28318530717959e-5⋅ⅈ) \n",
       "⎢                                                                             \n",
       "⎢            -3.14159265358979e-5⋅ⅈ⋅v₃ - 0.000104931794333683⋅v₄ + v₅⋅(0.00011\n",
       "⎢                                                                             \n",
       "⎢                                         0.00012262443438914⋅v₆ - 2.262443438\n",
       "⎢                                                                             \n",
       "⎢     I_O1 - 0.0001⋅v₂ - 6.28318530717959e-5⋅ⅈ⋅v₄ - 2.26244343891403e-5⋅v₆ + v\n",
       "⎢                                                                             \n",
       "⎢                                                               v₁            \n",
       "⎢                                                                             \n",
       "⎣                                                            -v₅ + v₆         \n",
       "\n",
       "65358979e-5⋅ⅈ⋅v₃ - 0.000104931794333683⋅v₄          ⎤   ⎡ 0 ⎤\n",
       "                                                    ⎥   ⎢   ⎥\n",
       "- 0.0001⋅v₇                                         ⎥   ⎢ 0 ⎥\n",
       "                                                    ⎥   ⎢   ⎥\n",
       "717959e-5⋅ⅈ) - 3.14159265358979e-5⋅ⅈ⋅v₅             ⎥   ⎢ 0 ⎥\n",
       "                                                    ⎥   ⎢   ⎥\n",
       "- 0.000104931794333683⋅v₅ - 6.28318530717959e-5⋅ⅈ⋅v₇⎥   ⎢ 0 ⎥\n",
       "                                                    ⎥   ⎢   ⎥\n",
       "8592996519475 + 0.000169646003293849⋅ⅈ)             ⎥ = ⎢ 0 ⎥\n",
       "                                                    ⎥   ⎢   ⎥\n",
       "91403e-5⋅v₇                                         ⎥   ⎢ 0 ⎥\n",
       "                                                    ⎥   ⎢   ⎥\n",
       "₇⋅(0.00012262443438914 + 6.28318530717959e-5⋅ⅈ)     ⎥   ⎢ 0 ⎥\n",
       "                                                    ⎥   ⎢   ⎥\n",
       "                                                    ⎥   ⎢1.0⎥\n",
       "                                                    ⎥   ⎢   ⎥\n",
       "                                                    ⎦   ⎣ 0 ⎦"
      ]
     },
     "execution_count": 26,
     "metadata": {},
     "output_type": "execute_result"
    }
   ],
   "source": [
    "equ_Nw = equ.subs(element_values)\n",
    "equ_Nw = equ_Nw.subs({s:1j*w})\n",
    "equ_Nw  # display the equations"
   ]
  },
  {
   "cell_type": "code",
   "execution_count": 27,
   "metadata": {},
   "outputs": [
    {
     "name": "stdout",
     "output_type": "stream",
     "text": [
      "unknown         mag    phase, deg\n",
      "---------  --------  ------------\n",
      "v1         1.000000      0.000000\n",
      "v2         4.264586   -108.662048\n",
      "v3         0.271069     40.463593\n",
      "v4         2.401757     -6.456457\n",
      "v5         1.187844    -60.144973\n",
      "v6         1.187844    -60.144973\n",
      "v7         6.438113    -60.144973\n",
      "I_V1       0.000150    -20.838911\n",
      "I_O1       0.000875    166.380500\n"
     ]
    }
   ],
   "source": [
    "U_Nw = solve(equ_Nw,X)\n",
    "\n",
    "table_header = ['unknown', 'mag','phase, deg']\n",
    "table_row = []\n",
    "\n",
    "for name, value in U_Nw .items():\n",
    "    table_row.append([str(name),float(abs(value)),float(arg(value)*180/np.pi)])\n",
    "\n",
    "print(tabulate(table_row, headers=table_header,colalign = ('left','decimal','decimal'),tablefmt=\"simple\",floatfmt=('5s','.6f','.6f')))"
   ]
  },
  {
   "cell_type": "markdown",
   "metadata": {},
   "source": [
    "## AC Sweep\n",
    "Looking at node 2 voltage."
   ]
  },
  {
   "cell_type": "code",
   "execution_count": 28,
   "metadata": {
    "collapsed": false,
    "jupyter": {
     "outputs_hidden": false
    }
   },
   "outputs": [],
   "source": [
    "num, denom = fraction(H) #returns numerator and denominator\n",
    "\n",
    "# convert symbolic to numpy polynomial\n",
    "a = np.array(Poly(num, s).all_coeffs(), dtype=float)\n",
    "b = np.array(Poly(denom, s).all_coeffs(), dtype=float)\n",
    "system = (a, b) # system for circuit 1"
   ]
  },
  {
   "cell_type": "code",
   "execution_count": 29,
   "metadata": {
    "collapsed": false,
    "jupyter": {
     "outputs_hidden": false
    }
   },
   "outputs": [],
   "source": [
    "x = np.logspace(1, 3, 1000, endpoint=True)*2*np.pi\n",
    "w, mag, phase = signal.bode(system, w=x) # returns: rad/s, mag in dB, phase in deg"
   ]
  },
  {
   "cell_type": "code",
   "execution_count": 30,
   "metadata": {},
   "outputs": [
    {
     "data": {
      "image/png": "[encoded data removed]",
      "text/plain": [
       "<Figure size 640x480 with 2 Axes>"
      ]
     },
     "metadata": {},
     "output_type": "display_data"
    }
   ],
   "source": [
    "fig, ax1 = plt.subplots()\n",
    "ax1.set_ylabel('magnitude, dB')\n",
    "ax1.set_xlabel('frequency, Hz')\n",
    "\n",
    "plt.semilogx(w/(2*np.pi), mag,'-b')    # Bode magnitude plot\n",
    "\n",
    "ax1.tick_params(axis='y')\n",
    "plt.grid()\n",
    "\n",
    "# instantiate a second y-axes that shares the same x-axis\n",
    "ax2 = ax1.twinx()\n",
    "color = 'tab:blue'\n",
    "\n",
    "plt.semilogx(w/(2*np.pi), phase,':',color='tab:red')  # Bode phase plot\n",
    "\n",
    "ax2.set_ylabel('phase, deg',color=color)\n",
    "ax2.tick_params(axis='y', labelcolor=color)\n",
    "\n",
    "plt.title('Bode plot')\n",
    "plt.show()"
   ]
  },
  {
   "cell_type": "markdown",
   "metadata": {},
   "source": [
    "## Summary"
   ]
  },
  {
   "cell_type": "code",
   "execution_count": null,
   "metadata": {},
   "outputs": [],
   "source": []
  }
 ],
 "metadata": {
  "kernelspec": {
   "display_name": "Python 3 (ipykernel)",
   "language": "python",
   "name": "python3"
  },
  "language_info": {
   "codemirror_mode": {
    "name": "ipython",
    "version": 3
   },
   "file_extension": ".py",
   "mimetype": "text/x-python",
   "name": "python",
   "nbconvert_exporter": "python",
   "pygments_lexer": "ipython3",
   "version": "3.10.9"
  }
 },
 "nbformat": 4,
 "nbformat_minor": 4
}
