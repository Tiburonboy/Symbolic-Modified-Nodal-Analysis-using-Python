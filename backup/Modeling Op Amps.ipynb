{
 "cells": [
  {
   "cell_type": "raw",
   "id": "6897e127-71a8-4ad8-a468-0e2a878e67bf",
   "metadata": {},
   "source": [
    "---\n",
    "title:\n",
    "format: \n",
    "    html:\n",
    "        code-fold: false\n",
    "        embed-resources: false\n",
    "        code-tools: true\n",
    "        number-sections: true\n",
    "jupyter: python3\n",
    "---"
   ]
  },
  {
   "cell_type": "markdown",
   "id": "953c4f97-197e-491a-bbf3-7d60e1579396",
   "metadata": {
    "tags": []
   },
   "source": [
    "# Modeling Op Amps {#sec-Modeling_Op_Amps}\n",
    "![Op Amp schematic symbol](ideal-op-amp.png){#fig-ideal-op-amp width=300}  \n",
    "\n",
    "<!--\n",
    "## Abstract {.unnumbered}\n",
    "This notebook examines the Op Amp model used in the Symbolic Modified Analysis python code. Op Amps are a very common componet of electronic circuits and are used extensively in analog signal processing and instrumentation. The Op Amp, within the context of MNA, is modeled as an ideal amplifier with infinite gain and bandwidth. The model assums that circuit surrounding the Op Amp provide a feedback connection from the output termial, $V_{out}$ to the $V_{-}$ input terminal.  \n",
    "-->\n",
    "\n",
    "## Introduction\n",
    "The [Operational Amplifier](https://en.wikipedia.org/wiki/Operational_amplifier) or Op Amp, is type of electronic amplifier that has two input terminals, amplifies the voltage difference between the two input terminals while suppresses any voltage common to the two inputs and is usually operated with negative feedback to control the gain of the amplifier. The amplifier typically has a very high differential mode gain, high input impedance and low output impedance. Today Op Amps are commonly impemnted in an intergrated circuit that can contain hundreds of transistors. The Op Amp is included in my sysmbolic MNA code as one of the element types along with resistors, capacitors, inductors, dependent sources and independednt sources. \n",
    "\n",
    "The schematic symbol for an Op Amp is shown in @fig-ideal-op-amp. The two input terminals are labled $V_{-}$ and $V_{+}$. The $V_{-}$ terminal is called the inverting input and $V_{+}$ is called the non-inverting input. $V_{out}$ is the output terminal of the amplifier. An input on the $V_{+}$ terminal causes an in phase output and an input on the $V_{-}$ terminal causes an out of phase output. Not shown, but implied, are power supply and or ground connections. The datasheet for the particular model of Op Amp will show other connections.\n",
    "\n",
    "Op Amps are very versitile and are used in many types of circuits. A web search will uncover many examples and a few are listed below:\n",
    "\n",
    "- [Operational Amplifier Applications](https://en.wikipedia.org/wiki/Operational_amplifier_applications#Summing_amplifier)\n",
    "- [Amplifier Circuit Collection](https://www.ti.com/lit/an/snla140d/snla140d.pdf)\n",
    "- [Collection of Amp Applications](https://www.analog.com/media/en/technical-documentation/application-notes/28080533an106.pdf)\n",
    "- [Handbook of Operational Amplifier Applications](https://www.ti.com/lit/an/sboa092b/sboa092b.pdf)\n",
    "- [Op Amps for Everyone, Ron Mancini](https://web.mit.edu/6.101/www/reference/op_amps_everyone.pdf)\n",
    "\n",
    "The first mass-produced Op Amp, in 1953, was the vacuum tube-based K2-W from [GAP/R](https://www.sciencedirect.com/topics/engineering/philbrick). The first widely available integrated circuit Op Amp was the Fairchild μA709 operational amplifier, designed by [Bob Widlar](https://en.wikipedia.org/wiki/Bob_Widlar) in 1965. In 1968, the μA709 was replaced by the μA741, which offered better performance while being more stable and easier to setup. A modern version of the μA741 is produced by Texas Instruments, with the part number [LM741](https://www.ti.com/product/LM741). \n",
    "\n",
    "There are more than 30 semiconductor manufactures making general purpose Op Amps priced as low as \\$0.30 each in small quantities. Under the general purpose catagory, there are thousands of part numbers avaliable from distributers such as [Digikey](https://www.digikey.com/en/products/filter/instrumentation-op-amps-buffer-amps/687?s=N4IgjCBcpgbB0QGMoDMCGAbAzgUwDQgD2UA2iAMwCsADACwAcFIAuoQA4AuUIAypwCcAlgDsA5iAC%2BhMAE4GsqKBSQMOAsTIgaraSAC0AJiXIoggK4aSkclV17jN4uwAE6ALbtWhO4i%2BQwDn9DKklJIA). The world wide market for Op Amps is about \\$6 billion dollars.  \n",
    "\n",
    "Op Amps can be configured to operate in circuits without feedback, which is how a [comparitor](https://en.wikipedia.org/wiki/Comparator) works. Some applications configure the Op Amp to have positive feedback and [Schmitt trigger](https://en.wikipedia.org/wiki/Schmitt_trigger) is an example of this type of configureation. When the Op Amp is used without feedback or with positive feedback, the amplifier is operating as a non-linear device and non-linear circuits cannot be analyized with the Python MNA code presented in this book. \n",
    "\n",
    "Only negative feedback Op Amp circuits are supported by the Python MNA code. These circuit configurations typically use resistors to connect the output terminal of the Op Amp to the inverting terminal of the Op Amp. When Op Amps are included in circuits to be analyzed using MNA, the Op Amp model used has negative feed back implied, reguardless of whether such feedback is actually present in the circuit. This is discussed below.  \n",
    "\n",
    "## The ideal Op Amp\n",
    "The concept of an ideal Op Amp is used when performance limitations of real Op Amps are ignored in order to symplify the circuit analysis. Often the performance limitions of real Op Amps have only minor effects on the operation of the circuit and the engineer will use their judgment to decide if the second order effects of these limitions need to be considered. The ideal Op Amp is described by @eq-ideal-op-amp. The Op Amp's inputs consist of a non-inverting input $V_+$ and an inverting input $V_-$, as shown in @fig-ideal-op-amp. The Op Amp amplifies only the difference in voltage between the two inputs, which is called the differential input voltage. The power supply terminals of a real Op Amp are not included in the model of an ideal Op Amp. \n",
    "\n",
    "The output voltage of the Op Amp $V_{out}$ is given by the equation:\n",
    "\n",
    "$$V_{out} = A_{OL}(V_+ - V_-)$$ {#eq-ideal-op-amp}\n",
    "\n",
    "Where $A_{OL}$ is the open-loop gain of the amplifier. The value of the open loop gain in real Op Amps is very large, sometimes on the order of 100 dB. The value of $A_{OL}$ in ideal Op Amps is not needed when the Op Amp is configured with negative feedback. The components in the feedback path determine the gain of the Op Amp circuit independednt of $A_{OL}$.\n",
    "\n",
    "The ideal Op Amp has other charasterics such as:\n",
    "\n",
    "- Infinite gain and bandwidth\n",
    "- Zero output impedance\n",
    "- Infinite input impedance\n",
    "- Zero volts between the two inputs\n",
    "- Infinite output voltage range\n",
    "- Infinite bandwidth with zero phase shift and infinite slew rate\n",
    "- Zero noise\n",
    "- Infinite common-mode rejection ratio\n",
    "\n",
    "## MNA Op Amp stamp\n",
    "MNA is an algorithic procedure for generating network equations. When there is an element type 'O', in the netlist, three connection nodes are required. The first node is the inverting input, the second node is the non inverting input and the third node is the output node. The Python code, then makes entries into the B and C matricies based simply on the node numbers of the Op Amp terminals. This is called stamping the matrix, because for each component type a specific template is used. \n",
    "\n",
    "The B matrix is an n by m matrix with only 0, 1 and -1 elements, where n = number of nodes and m is the number of current unknowns, i_unk. There is one column for each unknown current. The Op Amp model has one unknown current for the output current. In the code that builds the B matrix, a value of 1 is included in the matrix at the index position given by the Op Amp output node number. The snippit of code that performes this operation is shown below.\n",
    "\n",
    "```python\n",
    "# generate the B Matrix\n",
    "sn = 0   # count source number as code walks through the data frame\n",
    "for i in range(len(df)):\n",
    "    n1 = df.loc[i,'p node']\n",
    "    n2 = df.loc[i,'n node']\n",
    "    n_vout = df.loc[i,'Vout'] # node connected to op amp output\n",
    "\n",
    "    # process elements with input to B matrix\n",
    "    x = df.loc[i,'element'][0]   #get 1st letter of element name\n",
    "    :\n",
    "    :\n",
    "    if x == 'O':  # op amp type, output connection of the opamp goes in the B matrix\n",
    "        B[n_vout-1,sn] = 1\n",
    "        sn += 1   # increment source count\n",
    "    :\n",
    "    :\n",
    "```\n",
    "Each Op Amp the entry in the B matrix lines up with an unknown current in the X vector.\n",
    "\n",
    "The C matrix is an m by n matrix with only 0, 1 and -1 elements. The code is similar to the B matrix code, except the indices are swapped. The code loops through all the branches and for Op Amps, a 1 is inserted for the non-inverting node and a -1 for the inverting node, unless the terminal is connected to ground. The code snippit is shown below.\n",
    "\n",
    "```python\n",
    "# generate the C Matrix\n",
    "sn = 0   # count source number as code walks through the data frame\n",
    "for i in range(len(df)):\n",
    "    n1 = df.loc[i,'p node']\n",
    "    n2 = df.loc[i,'n node']\n",
    "    cn1 = df.loc[i,'cp node'] # nodes for controlled sources\n",
    "    cn2 = df.loc[i,'cn node']\n",
    "    n_vout = df.loc[i,'Vout'] # node connected to op amp output\n",
    "\n",
    "    # process elements with input to B matrix\n",
    "    x = df.loc[i,'element'][0]   #get 1st letter of element name\n",
    "    :\n",
    "    :\n",
    "    if x == 'O':  # op amp type, input connections of the opamp go into the C matrix\n",
    "        # C[sn,n_vout-1] = 1\n",
    "        if i_unk > 1:  #is B greater than 1 by n?, O\n",
    "            # check to see if any terminal is grounded\n",
    "            # then stamp the matrix\n",
    "            if n1 != 0:\n",
    "                C[sn,n1-1] = 1\n",
    "            if n2 != 0:\n",
    "                C[sn,n2-1] = -1\n",
    "        else:\n",
    "            if n1 != 0:\n",
    "                C[n1-1] = 1\n",
    "            if n2 != 0:\n",
    "                C[n2-1] = -1\n",
    "        sn += 1   # increment source count\n",
    "    :\n",
    "    :\n",
    "```\n",
    "\n",
    "The above code mathematically equates the voltages at the input input terminals equal to each other, $v_n = v_m$, where n and m are the node numbers. By default, the MNA Op Amp model is operating as if negative feedback is present in the circuit, reguardless of whether such feedback is actually present in the surrounding network. The Python MNA code does not verify that the Op Amp has negative feedback applied by the surrounding network. Consequencely, the Python MNA code is agnostic with reguard to feedback and which input terminal is used. The Python MNA code Op Amp model should be used with some care and the results need to be checked.\n",
    "\n",
    "The [Nullor](https://en.wikipedia.org/wiki/Nullor) is a two port device which can be used to model ideal Op Amps. The Python NMA Op Amp and the Nullor have the same NMA stamp and are equalivent.  \n",
    "\n",
    "<!--\n",
    "Implying that there is negative feedback in the circuit. Doesn't mader which input pin is used for the feedback connection.   \n",
    "\n",
    "#### Op Amp elements\n",
    "The op amp element is assumed to be an ideal op amp and use of this component is valid only when used in circuits with a DC path (a short or a resistor) from the output terminal to the negative input terminal of the op amp. No error checking is provided and if the condition is violated, the results likely will be erroneous.   \n",
    "\n",
    "$\\large{\\color {red} {\\text{Need to fix the references and clean up the description of Op Amps}}}$   \n",
    "References use in the debugging of the opamp stamp:   \n",
    "\n",
    "1. Design of Analog Circuits Through Symbolic Analysis, edited by Mourad Fakhfakh, Esteban Tlelo-Cuautle, Francisco V. Fernández   \n",
    "2. Computer Aided Design and Design Automation, edited by Wai-Kai Chen \n",
    "\n",
    "Lines up with an unknown voltages in the X vector\n",
    "\n",
    "How do the B and C matrices get used?\n",
    "\n",
    "The A matrix describes the connectivity of the resistors, capacitors and G type (VCCS) circuit elements. The column vector X are the unknown node voltages and unknown currents terms from the voltage sources and inductors. The column vector Z is made of the known voltages and currents. The A is formed by four sub matrices, G, B, C and D, which are described below.\n",
    "\n",
    "$A = \\begin{bmatrix}G B\\\\C D\\end{bmatrix}$\n",
    "\n",
    "The matrix G is formed from the coefficients representing the KCL equations for each node.\n",
    "\n",
    "The positive diagonal of $G_{k,k}$ are the conductance terms of the resistor and capacitor elements connected to node k.  The off diagonal terms of $G_{k,j}$ are the resistors and capacitor conductances connecting node k to node j.  G type elements (VCCS) have input to the G matrix at the connection and controlling node positions.\n",
    "\n",
    "The B matrix describes the connectivity of the unknown branch currents.  Independent voltage sources, opamps, H, F and E type elements as well as inductors have inputs to the B matrix.\n",
    "\n",
    "The C matrix describes the connectivity of the unknown branch currents and is mainly the transpose of B the matrix, with the exception of the F type elements (CCCS) and includes the E type value. \n",
    "\n",
    "The D matrix also describes connectivity of the unknown currents.  The D matrix is composed of zeros unless there are controlled sources and inductors in the network.  \n",
    "\n",
    "The X vector is composed of the V and J vectors as shown below.   \n",
    "$X = \\begin{bmatrix}V\\\\J\\end{bmatrix}$  \n",
    "The V vector contains the node voltages which are the voltage unknowns to be solved for.  The J vector contains the unknown currents from each voltage source.\n",
    "\n",
    "The Z vector is composed of the I and Ev vectors as shown below.  \n",
    "$Z = \\begin{bmatrix}I\\\\Ev\\end{bmatrix}$  \n",
    "The I vector contains the known currents and the Ev vector contains the known voltages. Ev is used as the variable because sympy uses e and E sometimes for the constant e=2.71, sometimes called Euler's number [[9]](#ref9). The use of E or e as a symbol was causing some errors when the code was run.  \n",
    "\n",
    "and what does the Op Amp stamp do in the algorithum?\n",
    "\n",
    "The MNA Op Amp model \n",
    "\n",
    "assums that there will be a circuit path from out put to input. This make the circuit linear across all frequencies. The going in assumption with MNA is a linear circuit. No current flow in the input terminals. Where is that defined?\n",
    "\n",
    "with or with out feed back path, B and C matrices get formulated the same, The difference is in the A matrix. Now there is a connection between Op Amp input and Op Amp output.  With resistive DC path between input and output, there is a proper number of knowns and unknowns.\n",
    "\n",
    "Checking with C in feedback path\n",
    "\n",
    "should not have direct L in the feed back path\n",
    "-->\n",
    "\n",
    "## Op Amp feedback test circuit\n",
    "The circuit in @fig-op-amp-test-circuit is used to examine various Op Amp feedback connections. The following Op Amp circuits with various elements in the feedback path are examined below.\n",
    "\n",
    "1. No feedback\n",
    "2. R in the feed back path\n",
    "3. Swap Op Amp input connections\n",
    "4. C in feedback path\n",
    "5. C and R in parallel in feedback path  \n",
    "5a. C and R in series in feedback path\n",
    "6. L in feedback path\n",
    "7. L and R in series in the feedback path\n",
    "8. L and R in parallel in the feedback path\n",
    "\n",
    "The following Python modules are used in this notebook."
   ]
  },
  {
   "cell_type": "raw",
   "id": "576a7c79-23e6-4c46-a94a-4ced32f32986",
   "metadata": {
    "jupyter": {
     "source_hidden": true
    },
    "tags": []
   },
   "source": [
    "<!--\n",
    "\n",
    "Application Report\n",
    "\n",
    "Texas Instruments [AN-31 amplifier circuit collection](https://www.ti.com/lit/an/snla140d/snla140d.pdf)\n",
    "\n",
    "Analog Devices Application note [A Collection of Amp Applications](https://www.analog.com/media/en/technical-documentation/application-notes/28080533an106.pdf)\n",
    "\n",
    "See @sec-voltage-follower\n",
    "\n",
    "MNA Op Amps \n",
    "\n",
    "Op Amps are a big part of modern circuit design and have replaced desicret transistors in many circuit.\n",
    "\n",
    "Does the circuit still work if the Op Amp inputs are switched?\n",
    "\n",
    "creat a test circuit with no DC negative feedback\n",
    "\n",
    "Types of of Op Amp circuits to examine in this notebook\n",
    "\n",
    "Outline\n",
    "\n",
    "- what is an Op Amp\n",
    "    - history \n",
    "- Common usage\n",
    "    - Voltage follower\n",
    "    - Inverting amplifier\n",
    "    - Non-inverting amplifier\n",
    "    - Differential amplifier\n",
    "    - Integrator\n",
    "    - Differentiator\n",
    "    - GIC\n",
    "- models\n",
    "    - ideal Op Amp vs real Op Amps\n",
    "    - SPICE\n",
    "    - MNA\n",
    "- Op Amp stamp\n",
    "    - DC negative feedback is present in the surrounding circuit\n",
    "          - Why is a DC path needed in feedback?\n",
    "    - liminations of the Op Amp models, where does the model work and where doesn’t it work and why. What are the differences between the models.\n",
    "\n",
    "Stamp theory  \n",
    "Op Amps are in the C matrix and the B matrix  \n",
    "\n",
    "### Op Amp elements\n",
    "The op amp element is assumed to be an ideal op amp and use of this component is valid only when used in circuits with a DC path (a short or a resistor) from the output terminal to the negative input terminal of the op amp. No error checking is provided and if the condition is violated, the results likely will be erroneous.   \n",
    "\n",
    "- [Nullor](https://en.wikipedia.org/wiki/Nullor) model vs Op Amp stamp. Nullor has the same stamp if you include the second output\n",
    "\n",
    "https://lpsa.swarthmore.edu/Systems/Electrical/mna/MNA5.html\n",
    "Caveats: The two ideal op-amp assumptions (no input current, no potential difference at inputs) only hold for circuits with negative feedback.  Because of this, the MNA method as applied here can give erroneous results if negative feedback is not present.  This problem actually persists in many commercial circuit simulators -- you can hook up a circuit with the input terminals reversed (so that it would not operate properly in practice due to lack of negative feedback) and the simulation behaves as if there is no problem.  Note also that the output of the op-amp is not limited by any power supply -- this circuit will happily generate hundreds of volts.\n",
    "\n",
    "Resistors, capacitors, inductors and Op Amps are the circuit ements modeled in MNA code. The Op Amps are assimed to be ideal linear amplifiers. \n",
    "\n",
    "most common component used in linear circuits. Of corrse transistors can be bioaded to perate in thheir linear range and Op Amps can be used in non-linear circuits. \n",
    "\n",
    "“Summing Amplifier,” US Patent #2401779, Karl D. Swartzel, Jr., June 1946\n",
    "\n",
    "\n",
    "## Market size\n",
    "\n",
    "https://www.skyquestt.com/report/operational-amplifiers-market\n",
    "\n",
    "https://www.marketresearchfuture.com/reports/operational-amplifier-market-6026\n",
    "\n",
    "https://www.marketresearchfuture.com/reports/operational-amplifier-market-6026\n",
    "\n",
    "Global Operational Amplifiers (Op-Amps) Market Insights\n",
    "https://www.skyquestt.com/report/operational-amplifiers-market\n",
    "\n",
    "Operational Amplifiers (Op-Amps) Market size was valued at USD 7.60 billion in 2021 and is poised to grow from USD 8.11 billion in 2022 to USD 13.62 billion by 2030, at a CAGR of 6.7% during the forecast period (2023-2030).\n",
    "\n",
    "Global Operational Amplifiers (Op-Amps) Market Competitive Landscape\n",
    "\n",
    "The Global Operational Amplifiers (op-amps) Market is highly competitive and fragmented, with the presence of several large and small players. The market is characterized by intense competition, rapid technological advancements, and frequent product launches by key players. To enhance their market presence and broaden their product offerings, some of the leading competitors in the worldwide op-amps market are concentrating on a variety of growth tactics, including mergers and acquisitions, partnerships, and collaborations. The high degree of competition in the market is leading to product differentiation and customization, with manufacturers focusing on delivering products that provide high accuracy, precision, and efficiency.\n",
    "\n",
    "Top Player’s Company Profiles in Operational Amplifiers (Op-Amps) Market\n",
    "\n",
    "\tTexas Instruments Inc. (US)\n",
    "\n",
    "\tAnalog Devices Inc. (US)\n",
    "\n",
    "\tSTMicroelectronics (Switzerland)\n",
    "\n",
    "\tInfineon Technologies AG (Germany)\n",
    "\n",
    "\tMaxim Integrated Products Inc. (US)\n",
    "\n",
    "\tON Semiconductor Corporation (US)\n",
    "\n",
    "\tMicrochip Technology Inc. (US)\n",
    "\n",
    "\tNXP Semiconductors (Netherlands)\n",
    "\n",
    "\tROHM Semiconductor (Japan)\n",
    "\n",
    "\tRenesas Electronics Corporation (Japan)\n",
    "\n",
    "\tIntersil Corporation (US)\n",
    "\n",
    "\tToshiba Corporation (Japan)\n",
    "\n",
    "\tDiodes Incorporated (US)\n",
    "\n",
    "\tFairchild Semiconductor Corporation (US)\n",
    "\n",
    "\tCirrus Logic Inc. (US)\n",
    "\n",
    "\tLinear Technology Corporation (US)\n",
    "\n",
    "\tSilicon Laboratories Inc. (US)\n",
    "\n",
    "\tAllegro Microsystems LLC (US)\n",
    "\n",
    "\tNew Japan Radio Co. Ltd. (Japan)\n",
    "\n",
    "\tMaxim Integrated Products, Inc. (US)\n",
    "\n",
    "Global Operational Amplifier (OP-AMP) Market Overview:\n",
    "https://www.marketresearchfuture.com/reports/operational-amplifier-market-6026\n",
    "\n",
    "Operational Amplifier (OP-AMP) Market Size was valued at USD 5.8 Billion in 2022. The operational amplifier (OP-AMP) market industry is projected to grow from USD 6.06 Billion in 2023 to USD 8.619 Billion by 2032, exhibiting a compound annual growth rate (CAGR) of 4.50% during the forecast period (2023 - 2032). The rise in demand for battery-powered products, the increased use of electronic devices, and the rise in demand for connected devices are the main market drivers that significantly impact the operational amplifiers market growth. During the forecast period, each of these variables is predicted to impact the operational amplifiers market.\n",
    "\n",
    "Operational amplifier demand has increased due to the rising need for automation across the manufacturing and automotive sectors, driving market expansion. The market for operational amplifiers is also growing as battery-powered items become more popular. Automation systems employ OP-AMPs in feedback control loops to regulate and stabilize processes. OP-AMPs are used in PID (Proportional-Integral-Derivative) controllers, analog control systems, and other control circuits to precisely measure and control variables like speed, position, temperature, and pressure. \n",
    "\n",
    "Furthermore, numerous motor types, including DC motors, stepper motors, and servo motors, are frequently used by robots and automated systems. In motor control circuits, OP-AMPs are used to drive and regulate the motor's torque, direction, and speed. OP-AMPs facilitate effective and precise motor control, which enhances the general effectiveness of automation and robotics systems. Automation and robotics significantly rely on sensors for perception and interaction with the environment. OP-AMPs condition and amplify sensor signals in sensor interface circuits, providing precise measurements.\n",
    "\n",
    "Operational Amplifier (op amp) Market Size, Sales Volume, Revenue, Price Analysis Report 2024-2030\n",
    "https://industrytoday.co.uk/market-research-industry-today/operational-amplifier-op-amp-market-size-sales-volume-revenue-price-analysis-report-2024-2030#\n",
    "\n",
    "An operational amplifier is an integrated circuit that operates as a voltage amplifier. Moreover an operational amplifier is known as an instrumentation amplifier. Its greatest use is in Instrumentation as a PID/PI controller and operational amplifier is the basic component in all the instruments due to its versatile applications. The global market for Operational Amplifier (op amp) was estimated to be worth US$ 5294.4 million in 2023 and is forecast to a readjusted size of US$ 6723.5 million by 2030 with a CAGR of 3.4% during the forecast period 2024-2030\n",
    "\n",
    "\n",
    "\n",
    "[Vacuum Tube Op Amps](https://www.sciencedirect.com/topics/engineering/philbrick)\n",
    "\n",
    "George Philbrick and GAP/R\n",
    "\n",
    "After WWII, George Philbrick also continued with op amp development work. Shortly thereafter he formed a company bearing his name, George A. Philbrick Researches, Inc., in 1946 (GAP/R). In many regards, Philbrick's work was instrumental in the development of op amp technology. His company was to see growth over the span of the vacuum tube technology days and well into the solid-state era.\n",
    "\n",
    "Not too long after forming GAP/R, Philbrick introduced the world's first commercially available op amp, known as the K2-W. This modular 8-pin octal plug-in op amp was developed in 1952, and appeared in January 1953 (see Reference 52). A photo and schematic of this $20 op amp are shown in Figure 8-5.\n",
    "\n",
    "The K2-W used two 12AX7 dual triodes, with one of the two tubes operated as a long-tailed pair input stage, which offered fully differential operation at the input. With the K2-W operating on ±300 V supplies, the input stage's 220 KΩ tail resistor was returned to the −300 V supply, fulfilling the long-tailed pair biasing requirement.\n",
    "\n",
    "Half of the remaining 12AX7 dual triode was operated as a second gain stage, which in turn drove the remaining section as a cathode follower output, through a level shifter part 8355037 (typically thyrite devices). Overall gain of the K2-W was enhanced by positive feedback through the 150 kΩ resistor, connected back to the cathode of the second stage. Operating from the ±300 V power supplies @ 4.5 mA, the K2-W was able to achieve a ±50 V rated signal range at both input and output. DC gain was typically 15,000, and the entire circuit was packaged in a convenient, plug-in octal tube-based package.\n",
    "\n",
    "Some vacuum tube op amp manufacturers provided chopper-stabilizer “add-on” units. In the case of GAP/R, this was the GAP/R K2-P. This unit, when used with the K2-W, formed a combination low drift, high gain op amp (see Reference 53).\n",
    "\n",
    "Early on GAP/R set an excellent standard for application information, publishing a popular 1956 manual for the K2-W and related amplifiers which went through at least 10 printings by 1963 (Reference 53). GAP/R not only made available applications literature for their devices; they published a periodical devoted to analog computation, the Lightning Empiricist. It contained technical articles and new product information.\n",
    "\n",
    "GAP/R also published what is now a classic set of reprints, the “Palimpsest” (see Reference 54). Some researchers see George A. Philbrick as a veritable op amp founding father. For example, Roedel, in his “An Introduction to Analog Computors” (Reference 54, again), gives Philbrick and Lovell credit for being the first op amp users.\n",
    "\n",
    "It is also undoubtedly true that the GAP/R organization produced some of the best documentation and application support for op amps, both vacuum tube and solid state.\n",
    "\n",
    "Because of the longevity of so many op amp principles, much of the wisdom imparted in the GAP/R app notes is still as valid today as it was in the 1950s. Although it did not appear until several years later, the best example of this is GAP/R's classic 1965 op amp book edited by Dan Sheingold, Applications Manual for Computing Amplifiers … (see Reference 55).\n",
    "\n",
    "Armed with this book (and perhaps a copy of Korn and Korn's Electronic Analog Computers), the op amp user of the late 1960s was well prepared to face op amp circuit hardships. This was not just with analog computation tasks, but also the growing list of diverse applications into which op amps were finding new homes.\n",
    "\n",
    "Fairchild released the μA709.\n",
    "\n",
    "[The Father of Analog Integrated Circuits: Robert J. Widlar](https://archive.computerhistory.org/resources/access/text/2017/03/102770862-05-01-acc.pdf)\n",
    "\n",
    "At a time when even discrete solid-state op-amps had not yet succeeded in displacing their vacuum tube coun-\n",
    "terparts, and the very value of the integrated circuit idea was still a legitimate topic of debate, Bob Widlar\n",
    "(“wide-lar”) almost single-handedly established the discipline of analog IC design. After receiving his bach-\n",
    "elor’s degree in 1962 from the University of Colorado at Boulder, he took a job with Ball Brothers Research,\n",
    "where his virtuosity at circuit design attracted the attention of engineers at one of their components suppliers.\n",
    "Despite the breach in protocol inherent in aggressively recruiting a customer’s key employee, Fairchild induced\n",
    "Widlar to leave Ball in late 1963. In an amazing debut, abetted by Dave Talbert’s brilliant process engineering,\n",
    "Widlar was able to put the world’s first integrated circuit op-amp into production by 1964. Development of the\n",
    "μA702, as Fairchild called it, proceeded despite a general lack of enthusiasm for the project at the company.\n",
    "\n",
    "The μA709 (1965)\n",
    "\n",
    "Despite its innovations, the 702 was not a commercial success. Its initial price of approximately $150-$300\n",
    "limited potential sales to military and aerospace customers. The relatively low gain and limited output drive\n",
    "capability, the somewhat peculiar power supply voltages (e.g., +12V/-6V), and the uncomfortably small input\n",
    "common-mode range (forced in part by the grounding of the emitters of Q3 and Q4), further constrained the\n",
    "part’s appeal.\n",
    "\n",
    "Widlar responded by developing the first analog IC that was a certified “smash hit.” The 709 op-amp’s generous\n",
    "open-loop gain (~ 60,000), respectable bandwidths (~1MHz) and an input common-mode range that accommo-\n",
    "dates positive voltages, made it a credible competitor to the K2-W in many applications (Figure 3). It was also\n",
    "the first IC op-amp to use the +/-15V supply voltages that had recently emerged as a standard for many discrete\n",
    "solid-state op-amps (e.g., the GAP/R P65).\n",
    "\n",
    "The μA741 followed the μA709,\n",
    "\n",
    "The 741 op amp\n",
    "The 741 is easily the most iconic opamp ever made. Designed by Dave Fullagar at Fairchild as a user-friendly, general-purpose op amp, it became a huge hit with electronic designers. Billions have been produced since its introduction in 1968, by a wide variety of manufacturers. What’s perhaps even more amazing is that it’s still being produced today by TI and ST, despite being hopelessly out of date. Fifty years of development has produced a wide array of opamps that are faster, more accurate, less noisy and less power-hungry than the 741. Yet somehow, this classic part keeps hanging on, basically unchanged for over half a century.\n",
    "\n",
    "https://www.ti.com/product/LM741\n",
    "\n",
    "\n",
    " Chip Hall of Fame: Fairchild Semiconductor μA741 Op-Amp This chip became the de facto standard for analog amplifier ICs. Still in production, it’s available everywhere there are electronics\n",
    "https://spectrum.ieee.org/chip-hall-of-fame-fairchild-semiconductor-a741-opamp\n",
    "\n",
    "\n",
    "The 741 op amp\n",
    "https://www.tinytransistors.net/2020/11/03/the-741-op-amp/\n",
    "\n",
    "\n",
    "The first mass-produced Op Amp was the vacuum tube-based K2-W from GAP/R in January 1953. The first widely available integrated circuit op amp in the late 1960s was the Fairchild μA709 bipolar operational amplifier, created by Bob Widlar in 1965. In 1968, the μA709 was replaced by the μA741, which offered better performance while being more stable and easier to setup.\n",
    "\n",
    "A standard 741 operational amplifier is made up of a circuit containing 20 transistors and 11 resistors. All of them are integrated into a monolithic chip. The below circuit illustrates the internal connections of those components.\n",
    "\n",
    "The TL072 is dual low-noise JFET-Input general-purpose op-amp and it comes in a 8-pin PDIP, SOIC, SOP or TSSOP package. It has a low input bias current of 200 pA with an operating free-air temperature range of 0 °C to 70 °C or -40 °C to 85 °C for the TL07xI. It operates from a single power supply with a range of -0.3 V to 36 V and also supports dual supplies with a range of ±18 V. It has a wide gain-bandwidth of 3 MHz. Suitable for high-fidelity and audio pre-amplifier applications.\n",
    "\n",
    "The OPA2134 is a low distortion, low noise op amp for audio applications that comes in an 8-Pin PDIP or SOIC package. It is specified for operation from 5 V to 36 V (±2.5 V to ±18 V) and it has a high open-loop gain of 120 dB (600 Ω). This FET-Input op-amp with an operating free-air temperature range of 40°C to 85°C has  a wide gain-bandwidth of 8 MHz and a slew rate of 20 V/us. This amplifier is ideal to provide superior sound quality and speed for exceptional audio performance.\n",
    "\n",
    "The OP07 is a ultra-low offset voltage (75 µV max for OP07E) op amp that comes encased in a PDIP-8 or SOIC-8 package type with a low input bias current of ±4 nA and high open-loop gain of 200 V/mV. It typically has a gain-bandwidth of 0.6 MHz and it has an input voltage range of ±13 V. The OP07 is a direct replacement for 725, 108A, and OP05 amplifiers and it is suitable for high gain instrumentation applications.\n",
    "\n",
    "\n",
    "## References and notes\n",
    "\n",
    "What is an Op Amp?\n",
    "\n",
    "Operational Amplifiers, also known as Op-amps, are basically a voltage amplifying device designed to be used with components like capacitors and resistors, between its in/out terminals. They are essentially a core part of analog devices. Feedback components like these are used to determine the operation of the amplifier. The amplifier can perform many different operations (resistive, capacitive, or both), giving it the name Operational Amplifier.\n",
    "\n",
    "The operational amplifier is arguably the most useful single device in analog electronic circuitry. With only a handful of external components, it can be made to perform a wide variety of analog signal processing tasks. It is also quite affordable, most general-purpose amplifiers selling for under a dollar apiece. Modern designs have been engineered with durability in mind as well: several “op-amps” are manufactured that can sustain direct short-circuits on their outputs without damage.\n",
    "\n",
    "One key to the usefulness of these little circuits is in the engineering principle of feedback, particularly negative feedback, which constitutes the foundation of almost all automatic control processes. The principles presented in this section, extend well beyond the immediate scope of electronics. It is well worth the electronics student’s time to learn these principles and learn them well.\n",
    "\n",
    "One great advantage in using an op-amp with negative feedback is that the actual voltage gain of the op-amp doesn’t matter, so long as its very large. If the op-amp’s differential gain were 250,000 instead of 200,000, all it would mean is that the output voltage would hold just a little closer to Vin (less differential voltage needed between inputs to generate the required output). In the circuit just illustrated, the output voltage would still be (for all practical purposes) equal to the non-inverting input voltage. Op-amp gains, therefore, do not have to be precisely set by the factory in order for the circuit designer to build an amplifier circuit with precise gain. Negative feedback makes the system self-correcting. The above circuit as a whole will simply follow the input voltage with a stable gain of 1.\n",
    "\n",
    "[Top 10 fundamental operational amplifier circuits](https://www.arrow.com/en/research-and-events/articles/fundamentals-of-op-amp-circuits)\n",
    "\n",
    "- Voltage follower\n",
    "- Inverting op amp\n",
    "- Non-inverting op amp\n",
    "- Non-inverting summing amplifier\n",
    "- Inverting summing amplifier\n",
    "- Differential amplifier\n",
    "- Integrator\n",
    "- differentiator\n",
    "- Converter current – voltage\n",
    "- Negative resistance\n",
    "\n",
    "This model must be used with great care because it is so simplistic. It is useful as a learning tool for investigating the general operation of an op amp, but should never be considered as part of a true-to-life simulation. This model makes no attempt to consider the many limitations of the op amp. Because this model in no way imposes output signal swing limits, the effects of saturation will go unnoticed. Similarly, no attempt has been made at modeling the frequency response of the op amp. This is of great concern and we will spend considerable time on this subject in later chapters. Many other effects are also ignored. With so many limitations, you might wonder just where such a model may be used. This model is useful for non-critical simulations given low frequency inputs. You must also recognize the onset of saturation (clipping) yourself. Its primary advantage is that the circuit model is small, and thus computationally fast. Because of this, it is very efficient for students who are new to both op amps and circuit simulation. Perhaps of equal importance, is the fact that this model points out the fact that your simulation results can only be as good as the models you use. Many people fall into the trap that “because the simulation came from a computer, it must be correct”. Nothing could be further from the truth. Always remember the old axiom: GIGO (Garbage In = Garbage Out). It can be very instructive to simulate a circuit using differing levels of accuracy and complexity, and then noting how closely the results match the same circuit built in the laboratory.\n",
    "\n",
    "An operational amplifier is, in essence, a multi-stage high gain amplifier treated as a single entity. Normally, op amps have a differential input and a single-ended output. In other words, one input produces an inverted output signal, and the other input produces a noninverted output signal. Often, the op amp is driven from a bipolar power supply (i.e., two supplies, one positive and one negative). Just about any sort of active amplifying device may be used for the individual stages. Op amps can be made entirely from vacuum tubes or discrete bipolar transistors (and of course, they were made that way some years ago). The advances in semiconductor manufacture in the late 1960's and early 1970's eventually made it possible to miniaturize the required components and place the whole affair on a single silicon chip (hence the term, integrated circuit). Through common use, this is what is generally meant by the term op amp today.\n",
    "\n",
    "If we connect the output of an op-amp to its inverting input and apply a voltage signal to the noninverting input, we find that the output voltage of the op-amp closely follows that input voltage (I’ve neglected to draw in the power supply, +V/-V wires, and ground symbol for simplicity):\n",
    "\n",
    "[Operational amplifier](https://en.wikipedia.org/wiki/Operational_amplifier)\n",
    "\n",
    "[Analog Integrators: How to Apply Them for Sensor Interfaces, Signal Generation, and Filtering](https://www.digikey.com/en/articles/analog-integrators-how-to-apply-them-for-sensor-interfaces)\n",
    "\n",
    "Nullors, Gyrators, NICs, Current Conveyors \n",
    "\n",
    "Nullor circuits\n",
    "\n",
    "[Nullor](https://en.wikipedia.org/wiki/Nullor)\n",
    "\n",
    "A nullor is a theoretical two-port network consisting of a nullator at its input and a norator at its output.[1] Nullors represent an ideal amplifier, having infinite current, voltage, transconductance and transimpedance gain.[2] Its transmission parameters are all zero, that is, its input–output behavior is summarized with the matrix equation\n",
    "\n",
    "$$\\begin{pmatrix} v_1\\\\i_1 \\end{pmatrix} = \\begin{pmatrix} 0 & 0 \\\\ 0 & 0 \\end{pmatrix}  \\begin{pmatrix}v_{2} \\\\ i_{2}\\end{pmatrix}$$\n",
    "\n",
    "$\\begin{pmatrix} v_1\\\\i_1 \\end{pmatrix} = \\begin{pmatrix} 0 & 0 \\\\ 0 & 0 \\end{pmatrix}  \\begin{pmatrix}v_{2} \\\\ i_{2}\\end{pmatrix}$\n",
    "\n",
    "In negative-feedback circuits, the circuit surrounding the nullor determines the nullor output in such a way as to force the nullor input to zero. \n",
    "\n",
    "Impedance Converters and Inverters (Gyrators, NICs, Current Conveyors)\n",
    "\n",
    "[Gyrators](https://en.wikipedia.org/wiki/Gyrator)\n",
    "\n",
    "[Negative Impedance Converter circuits](https://en.wikipedia.org/wiki/Negative_impedance_converter)\n",
    "\n",
    "[Current conveyor](https://en.wikipedia.org/wiki/Current_conveyor\n",
    "\n",
    "Frequency dependent negative resistor](https://en.wikipedia.org/wiki/Frequency_dependent_negative_resistor)\n",
    "\n",
    "https://www.allaboutcircuits.com/\n",
    "\n",
    "[Positive Feedback](https://www.allaboutcircuits.com/textbook/semiconductors/chpt-8/positive-feedback/)\n",
    "-->"
   ]
  },
  {
   "cell_type": "code",
   "execution_count": 1,
   "id": "bfc181d7-546f-45fc-a38e-efe43f2550ec",
   "metadata": {
    "collapsed": false,
    "jupyter": {
     "outputs_hidden": false
    }
   },
   "outputs": [],
   "source": [
    "from sympy import *\n",
    "import numpy as np\n",
    "from tabulate import tabulate\n",
    "import pandas as pd\n",
    "from scipy import signal\n",
    "import matplotlib.pyplot as plt\n",
    "import SymMNA\n",
    "from IPython.display import display, Markdown, Math, Latex\n",
    "init_printing()"
   ]
  },
  {
   "cell_type": "markdown",
   "id": "17271080-771a-42d3-a4ae-ad98a1c8aac9",
   "metadata": {},
   "source": [
    "## Op Amp test circuit\n",
    "An Op Amp test circuit, shown below, is used to explore various feedback configurations. A resistor is used to terminate each Op Amp terminal. A DC voltage source, V1, is used as the stimulus to the circuit and all the resistor values are set to one.\n",
    "\n",
    "![Op Amp test circuit](op-amp-test-v1.png){#fig-op-amp-test-circuit}  "
   ]
  },
  {
   "cell_type": "markdown",
   "id": "f2c9ada2-6735-41e7-870b-f93ee82ca49e",
   "metadata": {},
   "source": [
    "## Case 1: No feedback\n",
    "The net list for @fig-op-amp-test-circuit was obtained from LTSpice."
   ]
  },
  {
   "cell_type": "code",
   "execution_count": 2,
   "id": "e85c9495-f94e-4c8f-a933-ea7c2e468222",
   "metadata": {},
   "outputs": [],
   "source": [
    "net_list1 = '''\n",
    "V1 1 0 1\n",
    "O1 3 4 2\n",
    "R1 3 1 1\n",
    "R3 2 0 1\n",
    "R2 4 0 1\n",
    "'''"
   ]
  },
  {
   "cell_type": "markdown",
   "id": "a0af5932-cabe-4b43-a194-788daf71fcb7",
   "metadata": {},
   "source": [
    "Generate the network equations."
   ]
  },
  {
   "cell_type": "code",
   "execution_count": 3,
   "id": "79f04799-86fd-4488-ae9c-07fdbbf9188e",
   "metadata": {},
   "outputs": [],
   "source": [
    "report, network_df, df2, A1, X1, Z1 = SymMNA.smna(net_list1)\n",
    "\n",
    "# Put matricies into SymPy \n",
    "X1 = Matrix(X1)\n",
    "Z1 = Matrix(Z1)\n",
    "\n",
    "NE1_sym = Eq(A1*X1,Z1)"
   ]
  },
  {
   "cell_type": "markdown",
   "id": "df438b5b-ade6-4fb7-a0d0-b1c70de6ba54",
   "metadata": {},
   "source": [
    "Generate markdown text to display the network equations."
   ]
  },
  {
   "cell_type": "code",
   "execution_count": 4,
   "id": "41e03b8e-0ad5-4830-ab79-ab409890c0a8",
   "metadata": {},
   "outputs": [
    {
     "data": {
      "text/markdown": [
       "$I_{V1} + \\frac{v_{1}}{R_{1}} - \\frac{v_{3}}{R_{1}} = 0$<br>$I_{O1} + \\frac{v_{2}}{R_{3}} = 0$<br>$- \\frac{v_{1}}{R_{1}} + \\frac{v_{3}}{R_{1}} = 0$<br>$\\frac{v_{4}}{R_{2}} = 0$<br>$v_{1} = V_{1}$<br>$v_{3} - v_{4} = 0$<br>"
      ],
      "text/plain": [
       "<IPython.core.display.Markdown object>"
      ]
     },
     "execution_count": 4,
     "metadata": {},
     "output_type": "execute_result"
    }
   ],
   "source": [
    "temp = ''\n",
    "for i in range(len(X1)):\n",
    "    temp += '${:s}$<br>'.format(latex(Eq((A1*X1)[i:i+1][0],Z1[i])))\n",
    "\n",
    "Markdown(temp)"
   ]
  },
  {
   "cell_type": "markdown",
   "id": "0da54aff-3246-40ac-9aad-6f3184d6cd88",
   "metadata": {},
   "source": [
    "Shown above are the six equations generatated by NMA. The last three equations are rather simple. \n",
    "\n",
    "The symbols generated by the Python code are extraced by the SymPy function free_symbols and then declared as SymPy variables. "
   ]
  },
  {
   "cell_type": "code",
   "execution_count": 5,
   "id": "1966adbb-01e7-4b18-bc56-02ba5be72f8e",
   "metadata": {},
   "outputs": [
    {
     "data": {
      "image/png": "[encoded data removed]",
      "text/latex": [
       "$\\displaystyle \\left( R_{3}, \\  v_{1}, \\  R_{2}, \\  v_{3}, \\  v_{2}, \\  I_{V1}, \\  V_{1}, \\  R_{1}, \\  v_{4}, \\  I_{O1}\\right)$"
      ],
      "text/plain": [
       "(R₃, v₁, R₂, v₃, v₂, I_V1, V₁, R₁, v₄, I_O1)"
      ]
     },
     "execution_count": 5,
     "metadata": {},
     "output_type": "execute_result"
    }
   ],
   "source": [
    "# turn the free symbols into SymPy variables\n",
    "var(str(NE1_sym.free_symbols).replace('{','').replace('}',''))"
   ]
  },
  {
   "cell_type": "markdown",
   "id": "049b7899-77e1-4b15-a501-838abb125a3b",
   "metadata": {},
   "source": [
    "Attemp to solve the equations."
   ]
  },
  {
   "cell_type": "code",
   "execution_count": 6,
   "id": "3a8530f6-df2b-442a-be66-49506e78eb5a",
   "metadata": {},
   "outputs": [
    {
     "data": {
      "image/png": "[encoded data removed]",
      "text/latex": [
       "$\\displaystyle \\left[ \\right]$"
      ],
      "text/plain": [
       "[]"
      ]
     },
     "execution_count": 6,
     "metadata": {},
     "output_type": "execute_result"
    }
   ],
   "source": [
    "U1_sym = solve(NE1_sym,X1)\n",
    "U1_sym"
   ]
  },
  {
   "cell_type": "markdown",
   "id": "58363b9f-262c-4b04-acac-5a4e9be0c07d",
   "metadata": {},
   "source": [
    "No solution is found. By inspection we can see that there are three equations:\n",
    "\n",
    "$I_{V1} + \\frac{v_{1}}{R_{1}} - \\frac{v_{3}}{R_{1}} = 0$<br>$I_{O1} + \\frac{v_{2}}{R_{3}} = 0$<br>$- \\frac{v_{1}}{R_{1}} + \\frac{v_{3}}{R_{1}} = 0$\n",
    "\n",
    "and four knowns: $v_2$, $v_3$, $I_{V1}$ and $I_{O1}$.\n",
    "\n",
    "So without a connection from node 2 to the rest of the network, the voltage and current at node 2 cannot be solved for. "
   ]
  },
  {
   "cell_type": "markdown",
   "id": "f5222b88-0cdf-4196-afbe-b879825c4a1d",
   "metadata": {},
   "source": [
    "## Case 2: R in the feed back path\n",
    "R added to network between nodes 2 and 3, by manually editing the netlist below. "
   ]
  },
  {
   "cell_type": "code",
   "execution_count": 7,
   "id": "abc9b883-8ddb-440c-9c83-d4902830a1b4",
   "metadata": {},
   "outputs": [],
   "source": [
    "net_list2 = '''\n",
    "V1 1 0 1\n",
    "O1 3 4 2\n",
    "R1 3 1 1\n",
    "R3 2 0 1\n",
    "R2 4 0 1\n",
    "R 2 3 1\n",
    "'''"
   ]
  },
  {
   "cell_type": "markdown",
   "id": "f477dd1a-960f-4a64-b0d8-e3fb2a8ba2f5",
   "metadata": {},
   "source": [
    "Generate the network equations."
   ]
  },
  {
   "cell_type": "code",
   "execution_count": 8,
   "id": "621ae5e3-2aa9-4d69-a957-9aa8866cf5bc",
   "metadata": {},
   "outputs": [],
   "source": [
    "report, network_df, df2, A2, X2, Z2 = SymMNA.smna(net_list2)\n",
    "\n",
    "# Put matricies into SymPy \n",
    "X2 = Matrix(X2)\n",
    "Z2 = Matrix(Z2)\n",
    "\n",
    "NE2_sym = Eq(A2*X2,Z2)"
   ]
  },
  {
   "cell_type": "markdown",
   "id": "5e46ccfd-968c-4d21-b51d-5c3bc121ad7b",
   "metadata": {},
   "source": [
    "Both case 1 and case 2 have a 6 by 6 A matrix, but R shows up in the off diagonal in case 2. "
   ]
  },
  {
   "cell_type": "code",
   "execution_count": 9,
   "id": "6a4a74fc-e024-42a4-9727-ca3e9423c282",
   "metadata": {},
   "outputs": [
    {
     "data": {
      "text/latex": [
       "$\\displaystyle \\left[\\begin{matrix}\\frac{1}{R_{1}} & 0 & - \\frac{1}{R_{1}} & 0 & 1 & 0\\\\0 & \\frac{1}{R_{3}} + \\frac{1}{R} & - \\frac{1}{R} & 0 & 0 & 1\\\\- \\frac{1}{R_{1}} & - \\frac{1}{R} & \\frac{1}{R_{1}} + \\frac{1}{R} & 0 & 0 & 0\\\\0 & 0 & 0 & \\frac{1}{R_{2}} & 0 & 0\\\\1 & 0 & 0 & 0 & 0 & 0\\\\0 & 0 & 1 & -1 & 0 & 0\\end{matrix}\\right]$"
      ],
      "text/plain": [
       "⎡1             -1             ⎤\n",
       "⎢──     0      ───    0   1  0⎥\n",
       "⎢R₁             R₁            ⎥\n",
       "⎢                             ⎥\n",
       "⎢     1    1   -1             ⎥\n",
       "⎢ 0   ── + ─   ───    0   0  1⎥\n",
       "⎢     R₃   R    R             ⎥\n",
       "⎢                             ⎥\n",
       "⎢-1    -1     1    1          ⎥\n",
       "⎢───   ───    ── + ─  0   0  0⎥\n",
       "⎢ R₁    R     R₁   R          ⎥\n",
       "⎢                             ⎥\n",
       "⎢                     1       ⎥\n",
       "⎢ 0     0       0     ──  0  0⎥\n",
       "⎢                     R₂      ⎥\n",
       "⎢                             ⎥\n",
       "⎢ 1     0       0     0   0  0⎥\n",
       "⎢                             ⎥\n",
       "⎣ 0     0       1     -1  0  0⎦"
      ]
     },
     "execution_count": 9,
     "metadata": {},
     "output_type": "execute_result"
    }
   ],
   "source": [
    "A2"
   ]
  },
  {
   "cell_type": "markdown",
   "id": "bd6fe39e-16aa-423e-b5a1-0b47724d2ffa",
   "metadata": {},
   "source": [
    "Generate markdown text to display the network equations."
   ]
  },
  {
   "cell_type": "code",
   "execution_count": 10,
   "id": "9b2d5fb1-d1c3-4e72-a3dd-27a0b1dd5d80",
   "metadata": {},
   "outputs": [
    {
     "data": {
      "text/markdown": [
       "$I_{V1} + \\frac{v_{1}}{R_{1}} - \\frac{v_{3}}{R_{1}} = 0$<br>$I_{O1} + v_{2} \\cdot \\left(\\frac{1}{R_{3}} + \\frac{1}{R}\\right) - \\frac{v_{3}}{R} = 0$<br>$v_{3} \\cdot \\left(\\frac{1}{R_{1}} + \\frac{1}{R}\\right) - \\frac{v_{1}}{R_{1}} - \\frac{v_{2}}{R} = 0$<br>$\\frac{v_{4}}{R_{2}} = 0$<br>$v_{1} = V_{1}$<br>$v_{3} - v_{4} = 0$<br>"
      ],
      "text/plain": [
       "<IPython.core.display.Markdown object>"
      ]
     },
     "execution_count": 10,
     "metadata": {},
     "output_type": "execute_result"
    }
   ],
   "source": [
    "temp = ''\n",
    "for i in range(len(X2)):\n",
    "    temp += '${:s}$<br>'.format(latex(Eq((A2*X2)[i:i+1][0],Z2[i])))\n",
    "\n",
    "Markdown(temp)"
   ]
  },
  {
   "cell_type": "markdown",
   "id": "e0eb154c-cf0f-485c-8759-f0de9124edc9",
   "metadata": {},
   "source": [
    "The symbols generated by the Python code are extraced by the SymPy function free_symbols and then declared as SymPy variables. "
   ]
  },
  {
   "cell_type": "code",
   "execution_count": 11,
   "id": "874d46af-ca2b-49cc-a0da-1e7b19c85149",
   "metadata": {},
   "outputs": [
    {
     "data": {
      "image/png": "[encoded data removed]",
      "text/latex": [
       "$\\displaystyle \\left( R_{3}, \\  v_{1}, \\  R, \\  R_{2}, \\  v_{3}, \\  v_{2}, \\  I_{V1}, \\  V_{1}, \\  R_{1}, \\  v_{4}, \\  I_{O1}\\right)$"
      ],
      "text/plain": [
       "(R₃, v₁, R, R₂, v₃, v₂, I_V1, V₁, R₁, v₄, I_O1)"
      ]
     },
     "execution_count": 11,
     "metadata": {},
     "output_type": "execute_result"
    }
   ],
   "source": [
    "# turn the free symbols into SymPy variables\n",
    "var(str(NE2_sym.free_symbols).replace('{','').replace('}',''))"
   ]
  },
  {
   "cell_type": "markdown",
   "id": "7b655659-119b-4f8f-ba6d-582a7c26007b",
   "metadata": {},
   "source": [
    "Solve the equations and display the results."
   ]
  },
  {
   "cell_type": "code",
   "execution_count": 12,
   "id": "ae329ea2-2c29-49dc-99a7-c899c412aa62",
   "metadata": {},
   "outputs": [
    {
     "data": {
      "text/markdown": [
       "$v_{1} = V_{1}$<br>$v_{2} = - \\frac{R V_{1}}{R_{1}}$<br>$v_{3} = 0$<br>$v_{4} = 0$<br>$I_{V1} = - \\frac{V_{1}}{R_{1}}$<br>$I_{O1} = \\frac{R V_{1} + R_{3} V_{1}}{R_{1} R_{3}}$<br>"
      ],
      "text/plain": [
       "<IPython.core.display.Markdown object>"
      ]
     },
     "execution_count": 12,
     "metadata": {},
     "output_type": "execute_result"
    }
   ],
   "source": [
    "U2_sym = solve(NE2_sym,X2)\n",
    "\n",
    "temp = ''\n",
    "for i in U2_sym.keys():\n",
    "    temp += '${:s} = {:s}$<br>'.format(latex(i),latex(U2_sym[i]))\n",
    "\n",
    "Markdown(temp)"
   ]
  },
  {
   "cell_type": "markdown",
   "id": "bdfcef0a-a982-4709-a519-ffea8867dde1",
   "metadata": {},
   "source": [
    "Notice that $v_3$ and $v_4$ are both zero volts. There is no current flowing into the Op Amp input terminals.\n",
    "\n",
    "Solving for the transfer function at node 2."
   ]
  },
  {
   "cell_type": "code",
   "execution_count": 13,
   "id": "146d1092-0bb3-481a-b967-32bd6a5f9e24",
   "metadata": {},
   "outputs": [
    {
     "data": {
      "image/png": "[encoded data removed]",
      "text/latex": [
       "$\\displaystyle - \\frac{R}{R_{1}}$"
      ],
      "text/plain": [
       "-R \n",
       "───\n",
       " R₁"
      ]
     },
     "execution_count": 13,
     "metadata": {},
     "output_type": "execute_result"
    }
   ],
   "source": [
    "H2_sym = U2_sym[v2]/U2_sym[v1]\n",
    "H2_sym #.simplify()"
   ]
  },
  {
   "cell_type": "markdown",
   "id": "42916d46-d1af-4b93-9030-9f82780f7cc2",
   "metadata": {},
   "source": [
    "## Case 3: Swap Op Amp input connections\n",
    "As discussed above, the MNA code equates the voltages at the Op Amps input terminals. This implies that there is negative feedback present in the circuit. Because the voltage at thes terminal are equal, there is no distinction between the two as far as a mathematical solution to the network equations is concerned. This is illustrated below."
   ]
  },
  {
   "cell_type": "code",
   "execution_count": 14,
   "id": "1df4516e-22ec-494e-882c-ad7d034a6bf7",
   "metadata": {},
   "outputs": [],
   "source": [
    "net_list3 = '''\n",
    "V1 1 0 1\n",
    "*O1 3 4 2\n",
    "O1 4 3 2\n",
    "R1 3 1 1\n",
    "R3 2 0 1\n",
    "R2 4 0 1\n",
    "R 2 3 1\n",
    "'''"
   ]
  },
  {
   "cell_type": "markdown",
   "id": "f6a34535-048a-4159-a1b8-38e5fa106ddc",
   "metadata": {},
   "source": [
    "Generate the network equations."
   ]
  },
  {
   "cell_type": "code",
   "execution_count": 15,
   "id": "e886cddf-cc97-487f-b9a9-ee132d014d78",
   "metadata": {},
   "outputs": [],
   "source": [
    "report, network_df, df2, A3, X3, Z3 = SymMNA.smna(net_list3)\n",
    "\n",
    "# Put matricies into SymPy \n",
    "X3 = Matrix(X3)\n",
    "Z3 = Matrix(Z3)\n",
    "\n",
    "NE3_sym = Eq(A3*X3,Z3)"
   ]
  },
  {
   "cell_type": "markdown",
   "id": "60ff2c9d-0035-420b-ab82-56d09eca7e1d",
   "metadata": {},
   "source": [
    "Generate markdown text to display the network equations."
   ]
  },
  {
   "cell_type": "code",
   "execution_count": 16,
   "id": "041f7dd4-efb5-46b3-8ac6-9a731aa92e4b",
   "metadata": {},
   "outputs": [
    {
     "data": {
      "text/markdown": [
       "$I_{V1} + \\frac{v_{1}}{R_{1}} - \\frac{v_{3}}{R_{1}} = 0$<br>$I_{O1} + v_{2} \\cdot \\left(\\frac{1}{R_{3}} + \\frac{1}{R}\\right) - \\frac{v_{3}}{R} = 0$<br>$v_{3} \\cdot \\left(\\frac{1}{R_{1}} + \\frac{1}{R}\\right) - \\frac{v_{1}}{R_{1}} - \\frac{v_{2}}{R} = 0$<br>$\\frac{v_{4}}{R_{2}} = 0$<br>$v_{1} = V_{1}$<br>$- v_{3} + v_{4} = 0$<br>"
      ],
      "text/plain": [
       "<IPython.core.display.Markdown object>"
      ]
     },
     "execution_count": 16,
     "metadata": {},
     "output_type": "execute_result"
    }
   ],
   "source": [
    "temp = ''\n",
    "for i in range(len(X3)):\n",
    "    temp += '${:s}$<br>'.format(latex(Eq((A3*X3)[i:i+1][0],Z3[i])))\n",
    "\n",
    "Markdown(temp)"
   ]
  },
  {
   "cell_type": "markdown",
   "id": "670176b5-5d5c-429b-92c6-3eb1f397f07c",
   "metadata": {},
   "source": [
    "Last equation,\n",
    "\n",
    "$- v_{3} + v_{4} = 0$\n",
    "\n",
    "is identical anlgebracily to the equation generated in Case 1 above, which is:\n",
    "\n",
    "$v_{3} - v_{4} = 0$\n",
    "\n",
    "This shows that because the Op Amp model defines $V_+$ and $V_-$ to be equal, the terminals of the NMA Op Amp model can be swapped.\n",
    "\n",
    "The symbols generated by the Python code are extraced by the SymPy function free_symbols and then declared as SymPy variables. "
   ]
  },
  {
   "cell_type": "code",
   "execution_count": 17,
   "id": "d3ef5dc8-a840-45a8-88bc-28559ee3ebd7",
   "metadata": {},
   "outputs": [
    {
     "data": {
      "image/png": "[encoded data removed]",
      "text/latex": [
       "$\\displaystyle \\left( R_{3}, \\  v_{1}, \\  R, \\  R_{2}, \\  v_{3}, \\  v_{2}, \\  I_{V1}, \\  V_{1}, \\  R_{1}, \\  v_{4}, \\  I_{O1}\\right)$"
      ],
      "text/plain": [
       "(R₃, v₁, R, R₂, v₃, v₂, I_V1, V₁, R₁, v₄, I_O1)"
      ]
     },
     "execution_count": 17,
     "metadata": {},
     "output_type": "execute_result"
    }
   ],
   "source": [
    "# turn the free symbols into SymPy variables\n",
    "var(str(NE3_sym.free_symbols).replace('{','').replace('}',''))"
   ]
  },
  {
   "cell_type": "markdown",
   "id": "3c4b0b38-244c-40bd-b587-e5c8559eb013",
   "metadata": {},
   "source": [
    "Solve the equations and display the results."
   ]
  },
  {
   "cell_type": "code",
   "execution_count": 18,
   "id": "d5f9d118-1461-44c9-af02-309c6c145dbc",
   "metadata": {},
   "outputs": [
    {
     "data": {
      "text/markdown": [
       "$v_{1} = V_{1}$<br>$v_{2} = - \\frac{R V_{1}}{R_{1}}$<br>$v_{3} = 0$<br>$v_{4} = 0$<br>$I_{V1} = - \\frac{V_{1}}{R_{1}}$<br>$I_{O1} = \\frac{R V_{1} + R_{3} V_{1}}{R_{1} R_{3}}$<br>"
      ],
      "text/plain": [
       "<IPython.core.display.Markdown object>"
      ]
     },
     "execution_count": 18,
     "metadata": {},
     "output_type": "execute_result"
    }
   ],
   "source": [
    "U3_sym = solve(NE3_sym,X3)\n",
    "\n",
    "temp = ''\n",
    "for i in U3_sym.keys():\n",
    "    temp += '${:s} = {:s}$<br>'.format(latex(i),latex(U3_sym[i]))\n",
    "\n",
    "Markdown(temp)"
   ]
  },
  {
   "cell_type": "markdown",
   "id": "956bf992-c43d-4bf0-8e04-e5380aee578e",
   "metadata": {},
   "source": [
    "Notice that $v_3$ and $v_4$ are both zero volts. There is no current flowing into the Op Amp input terminals.\n",
    "\n",
    "Solving for the transfer function at node 2."
   ]
  },
  {
   "cell_type": "code",
   "execution_count": 19,
   "id": "d42d1d33-42bf-49be-9544-7f325806d24f",
   "metadata": {},
   "outputs": [
    {
     "data": {
      "image/png": "[encoded data removed]",
      "text/latex": [
       "$\\displaystyle - \\frac{R}{R_{1}}$"
      ],
      "text/plain": [
       "-R \n",
       "───\n",
       " R₁"
      ]
     },
     "execution_count": 19,
     "metadata": {},
     "output_type": "execute_result"
    }
   ],
   "source": [
    "H3_sym = U3_sym[v2]/U3_sym[v1]\n",
    "H3_sym #.simplify()"
   ]
  },
  {
   "cell_type": "markdown",
   "id": "2557a403-25c0-4a6e-b7a5-33273ffd7131",
   "metadata": {},
   "source": [
    "## Case 4: C in feedback path"
   ]
  },
  {
   "cell_type": "code",
   "execution_count": 20,
   "id": "d208cc59-4845-4f61-8a44-6dab08bdad37",
   "metadata": {},
   "outputs": [],
   "source": [
    "net_list4 = '''\n",
    "V1 1 0 1\n",
    "O1 3 4 2\n",
    "R1 3 1 1\n",
    "R3 2 0 1\n",
    "R2 4 0 1\n",
    "C 2 3 1\n",
    "'''"
   ]
  },
  {
   "cell_type": "markdown",
   "id": "465ef95a-5549-4cd6-b1c0-01c979f8d3ca",
   "metadata": {},
   "source": [
    "Generate the network equations."
   ]
  },
  {
   "cell_type": "code",
   "execution_count": 21,
   "id": "bb75afd2-9855-4ba8-ad7d-ed0626bc60f8",
   "metadata": {},
   "outputs": [],
   "source": [
    "report, network_df, df2, A4, X4, Z4 = SymMNA.smna(net_list4)\n",
    "\n",
    "# Put matricies into SymPy \n",
    "X4 = Matrix(X4)\n",
    "Z4 = Matrix(Z4)\n",
    "\n",
    "NE4_sym = Eq(A4*X4,Z4)"
   ]
  },
  {
   "cell_type": "markdown",
   "id": "f760140d-5c92-4366-9bfe-5fed44edf229",
   "metadata": {},
   "source": [
    "Generate markdown text to display the network equations."
   ]
  },
  {
   "cell_type": "code",
   "execution_count": 22,
   "id": "66a5df6c-9069-45ca-ba33-1b5e988ba5bb",
   "metadata": {},
   "outputs": [
    {
     "data": {
      "text/markdown": [
       "$I_{V1} + \\frac{v_{1}}{R_{1}} - \\frac{v_{3}}{R_{1}} = 0$<br>$- C s v_{3} + I_{O1} + v_{2} \\left(C s + \\frac{1}{R_{3}}\\right) = 0$<br>$- C s v_{2} + v_{3} \\left(C s + \\frac{1}{R_{1}}\\right) - \\frac{v_{1}}{R_{1}} = 0$<br>$\\frac{v_{4}}{R_{2}} = 0$<br>$v_{1} = V_{1}$<br>$v_{3} - v_{4} = 0$<br>"
      ],
      "text/plain": [
       "<IPython.core.display.Markdown object>"
      ]
     },
     "execution_count": 22,
     "metadata": {},
     "output_type": "execute_result"
    }
   ],
   "source": [
    "temp = ''\n",
    "for i in range(len(X4)):\n",
    "    temp += '${:s}$<br>'.format(latex(Eq((A4*X4)[i:i+1][0],Z4[i])))\n",
    "\n",
    "Markdown(temp)"
   ]
  },
  {
   "cell_type": "markdown",
   "id": "3c086d06-9bb3-40d1-a37b-84f892dfc03a",
   "metadata": {},
   "source": [
    "The symbols generated by the Python code are extraced by the SymPy function free_symbols and then declared as SymPy variables. "
   ]
  },
  {
   "cell_type": "code",
   "execution_count": 23,
   "id": "bb418a7e-6347-4d82-9137-2d1afce91661",
   "metadata": {},
   "outputs": [
    {
     "data": {
      "image/png": "[encoded data removed]",
      "text/latex": [
       "$\\displaystyle \\left( s, \\  R_{3}, \\  v_{1}, \\  R_{2}, \\  v_{3}, \\  v_{2}, \\  I_{V1}, \\  V_{1}, \\  C, \\  R_{1}, \\  v_{4}, \\  I_{O1}\\right)$"
      ],
      "text/plain": [
       "(s, R₃, v₁, R₂, v₃, v₂, I_V1, V₁, C, R₁, v₄, I_O1)"
      ]
     },
     "execution_count": 23,
     "metadata": {},
     "output_type": "execute_result"
    }
   ],
   "source": [
    "# turn the free symbols into SymPy variables\n",
    "var(str(NE4_sym.free_symbols).replace('{','').replace('}',''))"
   ]
  },
  {
   "cell_type": "markdown",
   "id": "b9b88632-40f6-448f-b973-b62c3352f119",
   "metadata": {},
   "source": [
    "Solve and display the solution."
   ]
  },
  {
   "cell_type": "code",
   "execution_count": 24,
   "id": "4b35b839-55c3-4593-81c0-3347a75c0916",
   "metadata": {},
   "outputs": [
    {
     "data": {
      "text/markdown": [
       "$v_{1} = V_{1}$<br>$v_{2} = - \\frac{V_{1}}{C R_{1} s}$<br>$v_{3} = 0$<br>$v_{4} = 0$<br>$I_{V1} = - \\frac{V_{1}}{R_{1}}$<br>$I_{O1} = \\frac{C R_{3} V_{1} s + V_{1}}{C R_{1} R_{3} s}$<br>"
      ],
      "text/plain": [
       "<IPython.core.display.Markdown object>"
      ]
     },
     "execution_count": 24,
     "metadata": {},
     "output_type": "execute_result"
    }
   ],
   "source": [
    "U4_sym = solve(NE4_sym,X4)\n",
    "\n",
    "temp = ''\n",
    "for i in U4_sym.keys():\n",
    "    temp += '${:s} = {:s}$<br>'.format(latex(i),latex(U4_sym[i]))\n",
    "\n",
    "Markdown(temp)"
   ]
  },
  {
   "cell_type": "markdown",
   "id": "3be0e8ac-a028-468f-8637-e2b8918e7808",
   "metadata": {},
   "source": [
    "Solving for the transfer function at node 2."
   ]
  },
  {
   "cell_type": "code",
   "execution_count": 25,
   "id": "fdbb1de8-e6ba-48c4-a46d-a44f30312c51",
   "metadata": {},
   "outputs": [
    {
     "data": {
      "image/png": "[encoded data removed]",
      "text/latex": [
       "$\\displaystyle - \\frac{1}{C R_{1} s}$"
      ],
      "text/plain": [
       " -1   \n",
       "──────\n",
       "C⋅R₁⋅s"
      ]
     },
     "execution_count": 25,
     "metadata": {},
     "output_type": "execute_result"
    }
   ],
   "source": [
    "U4_sym[v2]/U4_sym[v1]"
   ]
  },
  {
   "cell_type": "markdown",
   "id": "7daa02fc-d641-4968-bbbb-9aa5461fbb32",
   "metadata": {},
   "source": [
    "Seems correct."
   ]
  },
  {
   "cell_type": "markdown",
   "id": "97f9aaa4-e525-410f-bfe3-8d3110889db2",
   "metadata": {},
   "source": [
    "## Case 5: C and R in parallel in feedback path"
   ]
  },
  {
   "cell_type": "code",
   "execution_count": 26,
   "id": "ecf40542-2ab9-44ec-801d-1a8b8d1e1dfe",
   "metadata": {},
   "outputs": [],
   "source": [
    "net_list5 = '''\n",
    "V1 1 0 1\n",
    "O1 3 4 2\n",
    "R1 3 1 1\n",
    "R3 2 0 1\n",
    "R2 4 0 1\n",
    "C 2 3 1\n",
    "R 2 3 1\n",
    "'''"
   ]
  },
  {
   "cell_type": "markdown",
   "id": "7a261d06-3412-4edd-964e-981745ec4d96",
   "metadata": {},
   "source": [
    "Generate the network equations."
   ]
  },
  {
   "cell_type": "code",
   "execution_count": 27,
   "id": "402527fc-accc-4ed8-bf5c-1c43eecf050c",
   "metadata": {},
   "outputs": [],
   "source": [
    "report, network_df, df2, A5, X5, Z5 = SymMNA.smna(net_list5)\n",
    "\n",
    "# Put matricies into SymPy \n",
    "X5 = Matrix(X5)\n",
    "Z5 = Matrix(Z5)\n",
    "\n",
    "NE5_sym = Eq(A5*X5,Z5)"
   ]
  },
  {
   "cell_type": "markdown",
   "id": "d6a5e9d3-5786-4539-b363-4797b7720aa2",
   "metadata": {},
   "source": [
    "Generate markdown text to display the network equations."
   ]
  },
  {
   "cell_type": "code",
   "execution_count": 28,
   "id": "d9e08adb-4ba0-4119-8ce7-8315a4c070b1",
   "metadata": {},
   "outputs": [
    {
     "data": {
      "text/markdown": [
       "$I_{V1} + \\frac{v_{1}}{R_{1}} - \\frac{v_{3}}{R_{1}} = 0$<br>$I_{O1} + v_{2} \\left(C s + \\frac{1}{R_{3}} + \\frac{1}{R}\\right) + v_{3} \\left(- C s - \\frac{1}{R}\\right) = 0$<br>$v_{2} \\left(- C s - \\frac{1}{R}\\right) + v_{3} \\left(C s + \\frac{1}{R_{1}} + \\frac{1}{R}\\right) - \\frac{v_{1}}{R_{1}} = 0$<br>$\\frac{v_{4}}{R_{2}} = 0$<br>$v_{1} = V_{1}$<br>$v_{3} - v_{4} = 0$<br>"
      ],
      "text/plain": [
       "<IPython.core.display.Markdown object>"
      ]
     },
     "execution_count": 28,
     "metadata": {},
     "output_type": "execute_result"
    }
   ],
   "source": [
    "temp = ''\n",
    "for i in range(len(X5)):\n",
    "    temp += '${:s}$<br>'.format(latex(Eq((A5*X5)[i:i+1][0],Z5[i])))\n",
    "\n",
    "Markdown(temp)"
   ]
  },
  {
   "cell_type": "markdown",
   "id": "8da4a6d4-36da-447f-b8c8-e093e0230b91",
   "metadata": {},
   "source": [
    "The symbols generated by the Python code are extraced by the SymPy function free_symbols and then declared as SymPy variables. "
   ]
  },
  {
   "cell_type": "code",
   "execution_count": 29,
   "id": "2606fb12-4e07-4a73-a9ba-7a5c4f42049b",
   "metadata": {},
   "outputs": [
    {
     "data": {
      "image/png": "[encoded data removed]",
      "text/latex": [
       "$\\displaystyle \\left( s, \\  R_{3}, \\  v_{1}, \\  R, \\  R_{2}, \\  v_{3}, \\  v_{2}, \\  I_{V1}, \\  V_{1}, \\  C, \\  R_{1}, \\  v_{4}, \\  I_{O1}\\right)$"
      ],
      "text/plain": [
       "(s, R₃, v₁, R, R₂, v₃, v₂, I_V1, V₁, C, R₁, v₄, I_O1)"
      ]
     },
     "execution_count": 29,
     "metadata": {},
     "output_type": "execute_result"
    }
   ],
   "source": [
    "# turn the free symbols into SymPy variables\n",
    "var(str(NE5_sym.free_symbols).replace('{','').replace('}',''))"
   ]
  },
  {
   "cell_type": "markdown",
   "id": "6f2f66e6-cbdf-4ed0-b43e-82b4573aaf8f",
   "metadata": {},
   "source": [
    "Solve and display the solution."
   ]
  },
  {
   "cell_type": "code",
   "execution_count": 30,
   "id": "cab247fc-2676-4eb8-8e84-d07396ab6f00",
   "metadata": {},
   "outputs": [
    {
     "data": {
      "text/markdown": [
       "$v_{1} = V_{1}$<br>$v_{2} = - \\frac{R V_{1}}{C R R_{1} s + R_{1}}$<br>$v_{3} = 0$<br>$v_{4} = 0$<br>$I_{V1} = - \\frac{V_{1}}{R_{1}}$<br>$I_{O1} = \\frac{C R R_{3} V_{1} s + R V_{1} + R_{3} V_{1}}{C R R_{1} R_{3} s + R_{1} R_{3}}$<br>"
      ],
      "text/plain": [
       "<IPython.core.display.Markdown object>"
      ]
     },
     "execution_count": 30,
     "metadata": {},
     "output_type": "execute_result"
    }
   ],
   "source": [
    "U5_sym = solve(NE5_sym,X5)\n",
    "\n",
    "temp = ''\n",
    "for i in U5_sym.keys():\n",
    "    temp += '${:s} = {:s}$<br>'.format(latex(i),latex(U5_sym[i]))\n",
    "\n",
    "Markdown(temp)"
   ]
  },
  {
   "cell_type": "markdown",
   "id": "7100721c-7a2d-4d81-b9c5-f077ee9bd1d0",
   "metadata": {},
   "source": [
    "Solving for the transfer function at node 2."
   ]
  },
  {
   "cell_type": "code",
   "execution_count": 31,
   "id": "b80e734b-a232-4b49-b208-b3fc81e80110",
   "metadata": {},
   "outputs": [
    {
     "data": {
      "image/png": "[encoded data removed]",
      "text/latex": [
       "$\\displaystyle - \\frac{R}{C R R_{1} s + R_{1}}$"
      ],
      "text/plain": [
       "     -R      \n",
       "─────────────\n",
       "C⋅R⋅R₁⋅s + R₁"
      ]
     },
     "execution_count": 31,
     "metadata": {},
     "output_type": "execute_result"
    }
   ],
   "source": [
    "U5_sym[v2]/U5_sym[v1]"
   ]
  },
  {
   "cell_type": "markdown",
   "id": "b0011c31-72e1-4a39-ba4f-1e909795f8f1",
   "metadata": {},
   "source": [
    "At $s=0$ the transfer function reduces correctly to the DC case. For $s=\\infty$, the capacitor is a short and equation is not correct, but then the circuit now has a short accross R and this is not reflected in the netlist. So at $s=\\infty$, the solution needs some interperation and maybe the netlist needs to edited to correctly reflect the value of $Z_c$ at $\\infty$.\n",
    "\n",
    "The result seems correct for $s \\ne \\infty$."
   ]
  },
  {
   "cell_type": "markdown",
   "id": "8c19bf56-80cb-472d-8c3f-03c0c5ab1259",
   "metadata": {},
   "source": [
    "## Case 5a: C and R in series in feedback path"
   ]
  },
  {
   "cell_type": "code",
   "execution_count": 32,
   "id": "83697af5-b2da-4c1a-a405-02272e9c86f3",
   "metadata": {},
   "outputs": [],
   "source": [
    "net_list5a = '''\n",
    "V1 1 0 1\n",
    "O1 3 4 2\n",
    "R1 3 1 1\n",
    "R3 2 0 1\n",
    "R2 4 0 1\n",
    "C 2 5 1\n",
    "R 3 5 1\n",
    "'''"
   ]
  },
  {
   "cell_type": "markdown",
   "id": "297cf1a4-3f63-48d6-bac0-ac27f88a1b1e",
   "metadata": {},
   "source": [
    "Generate the network equations."
   ]
  },
  {
   "cell_type": "code",
   "execution_count": 33,
   "id": "940dff29-bd70-424e-80b2-ca65cbf1308f",
   "metadata": {},
   "outputs": [],
   "source": [
    "report, network_df, df2, A5a, X5a, Z5a = SymMNA.smna(net_list5a)\n",
    "\n",
    "# Put matricies into SymPy \n",
    "X5a = Matrix(X5a)\n",
    "Z5a = Matrix(Z5a)\n",
    "\n",
    "NE5a_sym = Eq(A5a*X5a,Z5a)"
   ]
  },
  {
   "cell_type": "markdown",
   "id": "e4b05538-528d-4540-bb79-70838b41d476",
   "metadata": {},
   "source": [
    "Generate markdown text to display the network equations."
   ]
  },
  {
   "cell_type": "code",
   "execution_count": 34,
   "id": "630c106a-0923-47be-92a7-fcf1d6c51352",
   "metadata": {},
   "outputs": [
    {
     "data": {
      "text/markdown": [
       "$I_{V1} + \\frac{v_{1}}{R_{1}} - \\frac{v_{3}}{R_{1}} = 0$<br>$- C s v_{5} + I_{O1} + v_{2} \\left(C s + \\frac{1}{R_{3}}\\right) = 0$<br>$v_{3} \\cdot \\left(\\frac{1}{R_{1}} + \\frac{1}{R}\\right) - \\frac{v_{1}}{R_{1}} - \\frac{v_{5}}{R} = 0$<br>$\\frac{v_{4}}{R_{2}} = 0$<br>$- C s v_{2} + v_{5} \\left(C s + \\frac{1}{R}\\right) - \\frac{v_{3}}{R} = 0$<br>$v_{1} = V_{1}$<br>$v_{3} - v_{4} = 0$<br>"
      ],
      "text/plain": [
       "<IPython.core.display.Markdown object>"
      ]
     },
     "execution_count": 34,
     "metadata": {},
     "output_type": "execute_result"
    }
   ],
   "source": [
    "temp = ''\n",
    "for i in range(len(X5a)):\n",
    "    temp += '${:s}$<br>'.format(latex(Eq((A5a*X5a)[i:i+1][0],Z5a[i])))\n",
    "\n",
    "Markdown(temp)"
   ]
  },
  {
   "cell_type": "markdown",
   "id": "6007cea1-f1bd-45e2-860d-60a1948fe718",
   "metadata": {},
   "source": [
    "The symbols generated by the Python code are extraced by the SymPy function free_symbols and then declared as SymPy variables. "
   ]
  },
  {
   "cell_type": "code",
   "execution_count": 35,
   "id": "ac58a6d5-eb4f-40ff-a81f-68ffc59ebd4f",
   "metadata": {},
   "outputs": [
    {
     "data": {
      "image/png": "[encoded data removed]",
      "text/latex": [
       "$\\displaystyle \\left( s, \\  R_{3}, \\  v_{1}, \\  R, \\  R_{2}, \\  v_{3}, \\  v_{2}, \\  I_{V1}, \\  v_{4}, \\  V_{1}, \\  C, \\  R_{1}, \\  v_{5}, \\  I_{O1}\\right)$"
      ],
      "text/plain": [
       "(s, R₃, v₁, R, R₂, v₃, v₂, I_V1, v₄, V₁, C, R₁, v₅, I_O1)"
      ]
     },
     "execution_count": 35,
     "metadata": {},
     "output_type": "execute_result"
    }
   ],
   "source": [
    "# turn the free symbols into SymPy variables\n",
    "var(str(NE5a_sym.free_symbols).replace('{','').replace('}',''))"
   ]
  },
  {
   "cell_type": "markdown",
   "id": "0865cfa9-e2cd-4d46-be8a-c76a161e7452",
   "metadata": {},
   "source": [
    "Solve and display the solution."
   ]
  },
  {
   "cell_type": "code",
   "execution_count": 36,
   "id": "c1c9e066-3a3f-47db-8070-79df28a11657",
   "metadata": {},
   "outputs": [
    {
     "data": {
      "text/markdown": [
       "$v_{1} = V_{1}$<br>$v_{2} = \\frac{- C R V_{1} s - V_{1}}{C R_{1} s}$<br>$v_{3} = 0$<br>$v_{4} = 0$<br>$v_{5} = - \\frac{R V_{1}}{R_{1}}$<br>$I_{V1} = - \\frac{V_{1}}{R_{1}}$<br>$I_{O1} = \\frac{C R V_{1} s + C R_{3} V_{1} s + V_{1}}{C R_{1} R_{3} s}$<br>"
      ],
      "text/plain": [
       "<IPython.core.display.Markdown object>"
      ]
     },
     "execution_count": 36,
     "metadata": {},
     "output_type": "execute_result"
    }
   ],
   "source": [
    "U5a_sym = solve(NE5a_sym,X5a)\n",
    "\n",
    "temp = ''\n",
    "for i in U5a_sym.keys():\n",
    "    temp += '${:s} = {:s}$<br>'.format(latex(i),latex(U5a_sym[i]))\n",
    "\n",
    "Markdown(temp)"
   ]
  },
  {
   "cell_type": "markdown",
   "id": "12950e2a-f8fc-43fd-8e0c-58760733fa3c",
   "metadata": {},
   "source": [
    "Solving for the transfer function at node 2."
   ]
  },
  {
   "cell_type": "code",
   "execution_count": 37,
   "id": "adafd683-08ef-4c51-8860-03efe8a80345",
   "metadata": {},
   "outputs": [
    {
     "data": {
      "image/png": "[encoded data removed]",
      "text/latex": [
       "$\\displaystyle - \\frac{R}{R_{1}} - \\frac{1}{C R_{1} s}$"
      ],
      "text/plain": [
       "  R      1   \n",
       "- ── - ──────\n",
       "  R₁   C⋅R₁⋅s"
      ]
     },
     "execution_count": 37,
     "metadata": {},
     "output_type": "execute_result"
    }
   ],
   "source": [
    "(U5a_sym[v2]/U5a_sym[v1]).simplify()"
   ]
  },
  {
   "cell_type": "markdown",
   "id": "1771c0b3-71f7-4c32-ac6d-3230037444d4",
   "metadata": {},
   "source": [
    "The result seems correct."
   ]
  },
  {
   "cell_type": "markdown",
   "id": "e06f378e-2631-4ba0-9b99-f084035c10b1",
   "metadata": {},
   "source": [
    "## Case 6: L in feedback path"
   ]
  },
  {
   "cell_type": "code",
   "execution_count": 38,
   "id": "6cf6101f-0511-4337-9d5d-650eaeb7abed",
   "metadata": {},
   "outputs": [],
   "source": [
    "net_list6 = '''\n",
    "V1 1 0 1\n",
    "O1 3 4 2\n",
    "R1 3 1 1\n",
    "R3 2 0 1\n",
    "R2 4 0 1\n",
    "L 2 3 1\n",
    "'''"
   ]
  },
  {
   "cell_type": "markdown",
   "id": "f1c3163a-948f-499a-bfbe-0eed85c6a9fc",
   "metadata": {},
   "source": [
    "Generate the network equations."
   ]
  },
  {
   "cell_type": "code",
   "execution_count": 39,
   "id": "a17ac438-e799-440d-a842-b998b30b5b33",
   "metadata": {},
   "outputs": [],
   "source": [
    "report, network_df, df2, A6, X6, Z6 = SymMNA.smna(net_list6)\n",
    "\n",
    "# Put matricies into SymPy \n",
    "X6 = Matrix(X6)\n",
    "Z6 = Matrix(Z6)\n",
    "\n",
    "NE6_sym = Eq(A6*X6,Z6)"
   ]
  },
  {
   "cell_type": "markdown",
   "id": "62073378-1105-4d7b-91f7-3dd14ded6da7",
   "metadata": {},
   "source": [
    "Generate markdown text to display the network equations."
   ]
  },
  {
   "cell_type": "code",
   "execution_count": 40,
   "id": "488cb2c9-569e-42a8-8500-bc5fc61730b5",
   "metadata": {},
   "outputs": [
    {
     "data": {
      "text/markdown": [
       "$I_{V1} + \\frac{v_{1}}{R_{1}} - \\frac{v_{3}}{R_{1}} = 0$<br>$I_{L} + I_{O1} + \\frac{v_{2}}{R_{3}} = 0$<br>$- I_{L} - \\frac{v_{1}}{R_{1}} + \\frac{v_{3}}{R_{1}} = 0$<br>$\\frac{v_{4}}{R_{2}} = 0$<br>$v_{1} = V_{1}$<br>$v_{3} - v_{4} = 0$<br>$- I_{L} L s + v_{2} - v_{3} = 0$<br>"
      ],
      "text/plain": [
       "<IPython.core.display.Markdown object>"
      ]
     },
     "execution_count": 40,
     "metadata": {},
     "output_type": "execute_result"
    }
   ],
   "source": [
    "temp = ''\n",
    "for i in range(len(X6)):\n",
    "    temp += '${:s}$<br>'.format(latex(Eq((A6*X6)[i:i+1][0],Z6[i])))\n",
    "\n",
    "Markdown(temp)"
   ]
  },
  {
   "cell_type": "markdown",
   "id": "f377ce98-c497-4ed0-934f-7afaf7dfc7c0",
   "metadata": {},
   "source": [
    "The symbols generated by the Python code are extraced by the SymPy function free_symbols and then declared as SymPy variables. "
   ]
  },
  {
   "cell_type": "code",
   "execution_count": 41,
   "id": "d582ed9b-dc12-4dd4-92e7-0f2309cc28a5",
   "metadata": {},
   "outputs": [
    {
     "data": {
      "image/png": "[encoded data removed]",
      "text/latex": [
       "$\\displaystyle \\left( s, \\  R_{3}, \\  v_{1}, \\  R_{2}, \\  L, \\  I_{L}, \\  v_{3}, \\  v_{2}, \\  I_{V1}, \\  V_{1}, \\  R_{1}, \\  v_{4}, \\  I_{O1}\\right)$"
      ],
      "text/plain": [
       "(s, R₃, v₁, R₂, L, I_L, v₃, v₂, I_V1, V₁, R₁, v₄, I_O1)"
      ]
     },
     "execution_count": 41,
     "metadata": {},
     "output_type": "execute_result"
    }
   ],
   "source": [
    "# turn the free symbols into SymPy variables\n",
    "var(str(NE6_sym.free_symbols).replace('{','').replace('}',''))"
   ]
  },
  {
   "cell_type": "markdown",
   "id": "1ef7d79d-a724-40c9-aeae-6ed345300dfc",
   "metadata": {},
   "source": [
    "Solve and display the solution."
   ]
  },
  {
   "cell_type": "code",
   "execution_count": 42,
   "id": "1ae403b7-c802-4f4e-ad39-74aa5c15361a",
   "metadata": {},
   "outputs": [
    {
     "data": {
      "text/markdown": [
       "$v_{1} = V_{1}$<br>$v_{2} = - \\frac{L V_{1} s}{R_{1}}$<br>$v_{3} = 0$<br>$v_{4} = 0$<br>$I_{V1} = - \\frac{V_{1}}{R_{1}}$<br>$I_{O1} = \\frac{L V_{1} s + R_{3} V_{1}}{R_{1} R_{3}}$<br>$I_{L} = - \\frac{V_{1}}{R_{1}}$<br>"
      ],
      "text/plain": [
       "<IPython.core.display.Markdown object>"
      ]
     },
     "execution_count": 42,
     "metadata": {},
     "output_type": "execute_result"
    }
   ],
   "source": [
    "U6_sym = solve(NE6_sym,X6)\n",
    "\n",
    "temp = ''\n",
    "for i in U6_sym.keys():\n",
    "    temp += '${:s} = {:s}$<br>'.format(latex(i),latex(U6_sym[i]))\n",
    "\n",
    "Markdown(temp)"
   ]
  },
  {
   "cell_type": "markdown",
   "id": "600dc85a-9d3d-4960-b8a3-d67d126facfb",
   "metadata": {},
   "source": [
    "Solving for the transfer function at node 2."
   ]
  },
  {
   "cell_type": "code",
   "execution_count": 43,
   "id": "b1f75254-f654-4a31-90ec-8daa48133f73",
   "metadata": {},
   "outputs": [
    {
     "data": {
      "image/png": "[encoded data removed]",
      "text/latex": [
       "$\\displaystyle - \\frac{L s}{R_{1}}$"
      ],
      "text/plain": [
       "-L⋅s \n",
       "─────\n",
       "  R₁ "
      ]
     },
     "execution_count": 43,
     "metadata": {},
     "output_type": "execute_result"
    }
   ],
   "source": [
    "U6_sym[v2]/U6_sym[v1]"
   ]
  },
  {
   "cell_type": "markdown",
   "id": "4ed3775f-3a4a-4b7e-aa37-0fb63c08948e",
   "metadata": {},
   "source": [
    "At $s=0$ the transfer function does not reduce correctly to the DC case. For $s=\\infty$, the inductor is an open and equation is correct.\n",
    "\n",
    "The result seems correct for $s \\ne 0$."
   ]
  },
  {
   "cell_type": "markdown",
   "id": "d1af4cd9-d056-439b-adce-ed7d14cb9ca6",
   "metadata": {},
   "source": [
    "## Case 7: L and R in series in the feedback path"
   ]
  },
  {
   "cell_type": "code",
   "execution_count": 44,
   "id": "0da25bc0-781c-4f1f-9b51-d7486b032149",
   "metadata": {},
   "outputs": [],
   "source": [
    "net_list7 = '''\n",
    "V1 1 0 1\n",
    "O1 3 4 2\n",
    "R1 3 1 1\n",
    "R3 2 0 1\n",
    "R2 4 0 1\n",
    "L 2 5 1\n",
    "R 3 5 1\n",
    "'''"
   ]
  },
  {
   "cell_type": "markdown",
   "id": "a78cd1f5-4e65-4792-a123-20b92d9ef122",
   "metadata": {},
   "source": [
    "Generate the network equations."
   ]
  },
  {
   "cell_type": "code",
   "execution_count": 45,
   "id": "e77ff146-b430-4311-b779-1518bcc85c0b",
   "metadata": {},
   "outputs": [],
   "source": [
    "report, network_df, df2, A7, X7, Z7 = SymMNA.smna(net_list7)\n",
    "\n",
    "# Put matricies into SymPy \n",
    "X7 = Matrix(X7)\n",
    "Z7 = Matrix(Z7)\n",
    "\n",
    "NE7_sym = Eq(A7*X7,Z7)"
   ]
  },
  {
   "cell_type": "markdown",
   "id": "a389cf15-beb6-4511-925c-8d32a8998686",
   "metadata": {},
   "source": [
    "Generate markdown text to display the network equations."
   ]
  },
  {
   "cell_type": "code",
   "execution_count": 46,
   "id": "293b0641-3d15-4019-ab7c-4408746c27b7",
   "metadata": {},
   "outputs": [
    {
     "data": {
      "text/markdown": [
       "$I_{V1} + \\frac{v_{1}}{R_{1}} - \\frac{v_{3}}{R_{1}} = 0$<br>$I_{L} + I_{O1} + \\frac{v_{2}}{R_{3}} = 0$<br>$v_{3} \\cdot \\left(\\frac{1}{R_{1}} + \\frac{1}{R}\\right) - \\frac{v_{1}}{R_{1}} - \\frac{v_{5}}{R} = 0$<br>$\\frac{v_{4}}{R_{2}} = 0$<br>$- I_{L} - \\frac{v_{3}}{R} + \\frac{v_{5}}{R} = 0$<br>$v_{1} = V_{1}$<br>$v_{3} - v_{4} = 0$<br>$- I_{L} L s + v_{2} - v_{5} = 0$<br>"
      ],
      "text/plain": [
       "<IPython.core.display.Markdown object>"
      ]
     },
     "execution_count": 46,
     "metadata": {},
     "output_type": "execute_result"
    }
   ],
   "source": [
    "temp = ''\n",
    "for i in range(len(X7)):\n",
    "    temp += '${:s}$<br>'.format(latex(Eq((A7*X7)[i:i+1][0],Z7[i])))\n",
    "\n",
    "Markdown(temp)"
   ]
  },
  {
   "cell_type": "markdown",
   "id": "d5a79aab-5413-4cc4-a501-2507f27f8512",
   "metadata": {},
   "source": [
    "The symbols generated by the Python code are extraced by the SymPy function free_symbols and then declared as SymPy variables. "
   ]
  },
  {
   "cell_type": "code",
   "execution_count": 47,
   "id": "baa0d920-2ba1-460b-943b-45ff698d3779",
   "metadata": {},
   "outputs": [
    {
     "data": {
      "image/png": "[encoded data removed]",
      "text/latex": [
       "$\\displaystyle \\left( s, \\  R_{3}, \\  v_{1}, \\  R, \\  R_{2}, \\  L, \\  I_{L}, \\  v_{3}, \\  v_{2}, \\  I_{V1}, \\  v_{4}, \\  V_{1}, \\  R_{1}, \\  v_{5}, \\  I_{O1}\\right)$"
      ],
      "text/plain": [
       "(s, R₃, v₁, R, R₂, L, I_L, v₃, v₂, I_V1, v₄, V₁, R₁, v₅, I_O1)"
      ]
     },
     "execution_count": 47,
     "metadata": {},
     "output_type": "execute_result"
    }
   ],
   "source": [
    "# turn the free symbols into SymPy variables\n",
    "var(str(NE7_sym.free_symbols).replace('{','').replace('}',''))"
   ]
  },
  {
   "cell_type": "markdown",
   "id": "db3380d6-b0c0-4bda-8294-6322aaad07d5",
   "metadata": {},
   "source": [
    "Solve and display the solution."
   ]
  },
  {
   "cell_type": "code",
   "execution_count": 48,
   "id": "8a738a1f-c229-4b7c-b623-848a02282648",
   "metadata": {},
   "outputs": [
    {
     "data": {
      "text/markdown": [
       "$v_{1} = V_{1}$<br>$v_{2} = \\frac{- L V_{1} s - R V_{1}}{R_{1}}$<br>$v_{3} = 0$<br>$v_{4} = 0$<br>$v_{5} = - \\frac{R V_{1}}{R_{1}}$<br>$I_{V1} = - \\frac{V_{1}}{R_{1}}$<br>$I_{O1} = \\frac{L V_{1} s + R V_{1} + R_{3} V_{1}}{R_{1} R_{3}}$<br>$I_{L} = - \\frac{V_{1}}{R_{1}}$<br>"
      ],
      "text/plain": [
       "<IPython.core.display.Markdown object>"
      ]
     },
     "execution_count": 48,
     "metadata": {},
     "output_type": "execute_result"
    }
   ],
   "source": [
    "U7_sym = solve(NE7_sym,X7)\n",
    "\n",
    "temp = ''\n",
    "for i in U7_sym.keys():\n",
    "    temp += '${:s} = {:s}$<br>'.format(latex(i),latex(U7_sym[i]))\n",
    "\n",
    "Markdown(temp)"
   ]
  },
  {
   "cell_type": "markdown",
   "id": "289f41b4-8f81-4aec-8b19-b80d0cbece9e",
   "metadata": {},
   "source": [
    "Solving for the transfer function at node 2."
   ]
  },
  {
   "cell_type": "code",
   "execution_count": 49,
   "id": "b880d0b9-8d0a-43c5-a5c0-b1d5d7f1107b",
   "metadata": {},
   "outputs": [
    {
     "data": {
      "image/png": "[encoded data removed]",
      "text/latex": [
       "$\\displaystyle \\frac{- L s - R}{R_{1}}$"
      ],
      "text/plain": [
       "-L⋅s - R\n",
       "────────\n",
       "   R₁   "
      ]
     },
     "execution_count": 49,
     "metadata": {},
     "output_type": "execute_result"
    }
   ],
   "source": [
    "(U7_sym[v2]/U7_sym[v1]).simplify()"
   ]
  },
  {
   "cell_type": "markdown",
   "id": "c376550e-4e3d-49f7-8d96-356bdf975759",
   "metadata": {},
   "source": [
    "The result seems correct for $s \\ne \\infty$."
   ]
  },
  {
   "cell_type": "markdown",
   "id": "df8ecc19-27cc-46d0-9339-8e39a20a18b3",
   "metadata": {
    "tags": []
   },
   "source": [
    "## Case 8: L and R in parallel in the feedback path"
   ]
  },
  {
   "cell_type": "code",
   "execution_count": 50,
   "id": "c6e33d5d-24ba-4e91-902d-d07575b11732",
   "metadata": {},
   "outputs": [],
   "source": [
    "net_list8 = '''\n",
    "V1 1 0 1\n",
    "O1 3 4 2\n",
    "R1 3 1 1\n",
    "R3 2 0 1\n",
    "R2 4 0 1\n",
    "L 2 3 1\n",
    "R 2 3 1\n",
    "'''"
   ]
  },
  {
   "cell_type": "markdown",
   "id": "d222891b-876e-4de5-b13c-30ea38aabce1",
   "metadata": {},
   "source": [
    "Generate the network equations."
   ]
  },
  {
   "cell_type": "code",
   "execution_count": 51,
   "id": "5af382e3-d9b7-48ec-8849-60736584d451",
   "metadata": {},
   "outputs": [],
   "source": [
    "report, network_df, df2, A8, X8, Z8 = SymMNA.smna(net_list8)\n",
    "\n",
    "# Put matricies into SymPy \n",
    "X8 = Matrix(X8)\n",
    "Z8 = Matrix(Z8)\n",
    "\n",
    "NE8_sym = Eq(A8*X8,Z8)"
   ]
  },
  {
   "cell_type": "markdown",
   "id": "1e4e992d-f6d7-4c7f-9e87-fa92d3a52b51",
   "metadata": {},
   "source": [
    "Generate markdown text to display the network equations."
   ]
  },
  {
   "cell_type": "code",
   "execution_count": 52,
   "id": "67310a06-1680-430b-94e3-336c4f3f2e47",
   "metadata": {},
   "outputs": [
    {
     "data": {
      "text/markdown": [
       "$I_{V1} + \\frac{v_{1}}{R_{1}} - \\frac{v_{3}}{R_{1}} = 0$<br>$I_{L} + I_{O1} + v_{2} \\cdot \\left(\\frac{1}{R_{3}} + \\frac{1}{R}\\right) - \\frac{v_{3}}{R} = 0$<br>$- I_{L} + v_{3} \\cdot \\left(\\frac{1}{R_{1}} + \\frac{1}{R}\\right) - \\frac{v_{1}}{R_{1}} - \\frac{v_{2}}{R} = 0$<br>$\\frac{v_{4}}{R_{2}} = 0$<br>$v_{1} = V_{1}$<br>$v_{3} - v_{4} = 0$<br>$- I_{L} L s + v_{2} - v_{3} = 0$<br>"
      ],
      "text/plain": [
       "<IPython.core.display.Markdown object>"
      ]
     },
     "execution_count": 52,
     "metadata": {},
     "output_type": "execute_result"
    }
   ],
   "source": [
    "temp = ''\n",
    "for i in range(len(X8)):\n",
    "    temp += '${:s}$<br>'.format(latex(Eq((A8*X8)[i:i+1][0],Z8[i])))\n",
    "\n",
    "Markdown(temp)"
   ]
  },
  {
   "cell_type": "markdown",
   "id": "e54509db-b4a9-49cb-b4d8-5f59407ebaa7",
   "metadata": {},
   "source": [
    "The symbols generated by the Python code are extraced by the SymPy function free_symbols and then declared as SymPy variables. "
   ]
  },
  {
   "cell_type": "code",
   "execution_count": 53,
   "id": "041c99ab-f350-45f5-9304-e4ba32054378",
   "metadata": {},
   "outputs": [
    {
     "data": {
      "image/png": "[encoded data removed]",
      "text/latex": [
       "$\\displaystyle \\left( s, \\  R_{3}, \\  v_{1}, \\  R, \\  R_{2}, \\  L, \\  I_{L}, \\  v_{3}, \\  v_{2}, \\  I_{V1}, \\  V_{1}, \\  R_{1}, \\  v_{4}, \\  I_{O1}\\right)$"
      ],
      "text/plain": [
       "(s, R₃, v₁, R, R₂, L, I_L, v₃, v₂, I_V1, V₁, R₁, v₄, I_O1)"
      ]
     },
     "execution_count": 53,
     "metadata": {},
     "output_type": "execute_result"
    }
   ],
   "source": [
    "# turn the free symbols into SymPy variables\n",
    "var(str(NE8_sym.free_symbols).replace('{','').replace('}',''))"
   ]
  },
  {
   "cell_type": "markdown",
   "id": "5f9d8fa8-b6f9-4d1c-8831-e54e7ac83f35",
   "metadata": {},
   "source": [
    "Solve the equations."
   ]
  },
  {
   "cell_type": "code",
   "execution_count": 54,
   "id": "566b4a37-4ecd-4d55-8911-586b13fc83ea",
   "metadata": {},
   "outputs": [
    {
     "data": {
      "text/markdown": [
       "$v_{1} = V_{1}$<br>$v_{2} = - \\frac{L R V_{1} s}{L R_{1} s + R R_{1}}$<br>$v_{3} = 0$<br>$v_{4} = 0$<br>$I_{V1} = - \\frac{V_{1}}{R_{1}}$<br>$I_{O1} = \\frac{L R V_{1} s + L R_{3} V_{1} s + R R_{3} V_{1}}{L R_{1} R_{3} s + R R_{1} R_{3}}$<br>$I_{L} = - \\frac{R V_{1}}{L R_{1} s + R R_{1}}$<br>"
      ],
      "text/plain": [
       "<IPython.core.display.Markdown object>"
      ]
     },
     "execution_count": 54,
     "metadata": {},
     "output_type": "execute_result"
    }
   ],
   "source": [
    "U8_sym = solve(NE8_sym,X8)\n",
    "\n",
    "temp = ''\n",
    "for i in U8_sym.keys():\n",
    "    temp += '${:s} = {:s}$<br>'.format(latex(i),latex(U8_sym[i]))\n",
    "\n",
    "Markdown(temp)"
   ]
  },
  {
   "cell_type": "markdown",
   "id": "d8439549-71f6-47d4-82a6-127dc636c84d",
   "metadata": {},
   "source": [
    "Solving for the transfer function at node 2."
   ]
  },
  {
   "cell_type": "code",
   "execution_count": 55,
   "id": "6297b6f7-bb65-41f0-ba36-6109daa808bf",
   "metadata": {},
   "outputs": [
    {
     "data": {
      "image/png": "[encoded data removed]",
      "text/latex": [
       "$\\displaystyle - \\frac{L R s}{R_{1} \\left(L s + R\\right)}$"
      ],
      "text/plain": [
       "  -L⋅R⋅s    \n",
       "────────────\n",
       "R₁⋅(L⋅s + R)"
      ]
     },
     "execution_count": 55,
     "metadata": {},
     "output_type": "execute_result"
    }
   ],
   "source": [
    "(U8_sym[v2]/U8_sym[v1]).simplify()"
   ]
  },
  {
   "cell_type": "markdown",
   "id": "468c1746-5a25-4d30-9382-36f21da46fbf",
   "metadata": {},
   "source": [
    "The result seems correct for $s \\ne \\infty$ or $s \\ne 0$."
   ]
  },
  {
   "cell_type": "markdown",
   "id": "c1110813-31a3-49ad-ad42-6359fbf7f439",
   "metadata": {
    "tags": []
   },
   "source": [
    "## Summary\n",
    "\n",
    "- Resistors in the feedback path seem to give the correct results\n",
    "- Inductors and capacitors in the feedback path seem to work as long as $s \\ne \\infty \\space \\text {or} \\space \\ne 0$. \n",
    "- If a solution is only desired for non-zero or non-infinit requencies, then the results seem correct."
   ]
  },
  {
   "cell_type": "code",
   "execution_count": null,
   "id": "94a2660f-e2c0-4218-ad50-67baf08b0d74",
   "metadata": {},
   "outputs": [],
   "source": []
  }
 ],
 "metadata": {
  "kernelspec": {
   "display_name": "Python 3 (ipykernel)",
   "language": "python",
   "name": "python3"
  },
  "language_info": {
   "codemirror_mode": {
    "name": "ipython",
    "version": 3
   },
   "file_extension": ".py",
   "mimetype": "text/x-python",
   "name": "python",
   "nbconvert_exporter": "python",
   "pygments_lexer": "ipython3",
   "version": "3.10.9"
  }
 },
 "nbformat": 4,
 "nbformat_minor": 5
}
