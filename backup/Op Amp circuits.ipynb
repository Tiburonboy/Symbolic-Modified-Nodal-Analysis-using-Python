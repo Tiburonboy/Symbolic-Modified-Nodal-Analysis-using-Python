{
 "cells": [
  {
   "cell_type": "raw",
   "id": "6897e127-71a8-4ad8-a468-0e2a878e67bf",
   "metadata": {},
   "source": [
    "---\n",
    "title:\n",
    "format: \n",
    "    html:\n",
    "        code-fold: false\n",
    "        embed-resources: false\n",
    "        code-tools: true\n",
    "        number-sections: true\n",
    "jupyter: python3\n",
    "---"
   ]
  },
  {
   "cell_type": "markdown",
   "id": "bfd9a62e-37ad-40f4-ad5f-c212f9af580d",
   "metadata": {
    "tags": []
   },
   "source": [
    "# Op Amp circuits {#sec-Op_Amp_circuits}\n",
    "<!--\n",
    "## Abstract {.unnumbered}\n",
    "Some typical Op Amp circuits are presented to explore the use of the Op Amp element type using sumbolic MNA. These examples represent some very common applications of Op Amps ranging from a buffer amplifier to a dual Op Amp active band pass filter. \n",
    "-->\n",
    "\n",
    "## Introduction\n",
    "Some typical Op Amp circuits are presented to explore the use of the Op Amp element type using symbolic MNA. These examples represent some very common applications of Op Amps ranging from a buffer amplifier to a dual Op Amp active band pass filter. The following Op Amp circuits are discussed below.\n",
    "\n",
    "- Voltage follower\n",
    "- Non-inverting amplifier\n",
    "- Inverting amplifier\n",
    "- Differential amplifier\n",
    "- Integrator\n",
    "- Differentiator\n",
    "- Generalized Impedance Converter\n",
    "- Generalized Impedance Converter Filter\n",
    "- Dual amplifier band pass filter\n",
    "\n",
    "\n",
    "also see @Stout1976, @Franco2002"
   ]
  },
  {
   "cell_type": "raw",
   "id": "db071da7-2138-4ddc-a0b3-9e357fefbd95",
   "metadata": {
    "tags": []
   },
   "source": [
    "<!--\n",
    "## References and notes\n",
    "\n",
    "Op-Amp Circuits, Configurations, and Schematics\n",
    "https://www.edn.com/common-op-amp-circuits/\n",
    "\n",
    "Operational amplifiers (commonly called op amps) are a ubiquitous building block for designing electronic circuits. Today, these devices are fabricated as small integrated circuits, but the concept started long ago using vacuum tubes. There is a 1946 patent for an early use of op amp concepts (Reference 1), although that name was not used at the time. Raggazinni is often credited with coining the term “operational amplifier” in 1947 (Reference 2).\n",
    "\n",
    "I encountered op amps back in the 20th century while taking a college lab course in analog computing. Analog circuitry was used to simulate systems by connecting summing amplifiers, differentiators, and integrators via complex patch panels. The use of analog computing was on the way out, being displaced by digital computers, so I can’t say I got much out of the computing part of the class. I did learn a lot about op amp circuits and control systems, though, which are still valuable today.\n",
    "\n",
    "\n",
    "What is an Op Amp?\n",
    "\n",
    "Operational Amplifiers, also known as Op-amps, are basically a voltage amplifying device designed to be used with components like capacitors and resistors, between its in/out terminals. They are essentially a core part of analog devices. Feedback components like these are used to determine the operation of the amplifier. The amplifier can perform many different operations (resistive, capacitive, or both), giving it the name Operational Amplifier.\n",
    "\n",
    "The operational amplifier is arguably the most useful single device in analog electronic circuitry. With only a handful of external components, it can be made to perform a wide variety of analog signal processing tasks. It is also quite affordable, most general-purpose amplifiers selling for under a dollar apiece. Modern designs have been engineered with durability in mind as well: several “op-amps” are manufactured that can sustain direct short-circuits on their outputs without damage.\n",
    "\n",
    "One key to the usefulness of these little circuits is in the engineering principle of feedback, particularly negative feedback, which constitutes the foundation of almost all automatic control processes. The principles presented in this section, extend well beyond the immediate scope of electronics. It is well worth the electronics student’s time to learn these principles and learn them well.\n",
    "\n",
    "One great advantage in using an op-amp with negative feedback is that the actual voltage gain of the op-amp doesn’t matter, so long as its very large. If the op-amp’s differential gain were 250,000 instead of 200,000, all it would mean is that the output voltage would hold just a little closer to Vin (less differential voltage needed between inputs to generate the required output). In the circuit just illustrated, the output voltage would still be (for all practical purposes) equal to the non-inverting input voltage. Op-amp gains, therefore, do not have to be precisely set by the factory in order for the circuit designer to build an amplifier circuit with precise gain. Negative feedback makes the system self-correcting. The above circuit as a whole will simply follow the input voltage with a stable gain of 1.\n",
    "\n",
    "[Top 10 fundamental operational amplifier circuits](https://www.arrow.com/en/research-and-events/articles/fundamentals-of-op-amp-circuits)\n",
    "\n",
    "- Voltage follower\n",
    "- Inverting op amp\n",
    "- Non-inverting op amp\n",
    "- Non-inverting summing amplifier\n",
    "- Inverting summing amplifier\n",
    "- Differential amplifier\n",
    "- Integrator\n",
    "- differentiator\n",
    "- Converter current – voltage\n",
    "- Negative resistance\n",
    "\n",
    "This model must be used with great care because it is so simplistic. It is useful as a learning tool for investigating the general operation of an op amp, but should never be considered as part of a true-to-life simulation. This model makes no attempt to consider the many limitations of the op amp. Because this model in no way imposes output signal swing limits, the effects of saturation will go unnoticed. Similarly, no attempt has been made at modeling the frequency response of the op amp. This is of great concern and we will spend considerable time on this subject in later chapters. Many other effects are also ignored. With so many limitations, you might wonder just where such a model may be used. This model is useful for non-critical simulations given low frequency inputs. You must also recognize the onset of saturation (clipping) yourself. Its primary advantage is that the circuit model is small, and thus computationally fast. Because of this, it is very efficient for students who are new to both op amps and circuit simulation. Perhaps of equal importance, is the fact that this model points out the fact that your simulation results can only be as good as the models you use. Many people fall into the trap that “because the simulation came from a computer, it must be correct”. Nothing could be further from the truth. Always remember the old axiom: GIGO (Garbage In = Garbage Out). It can be very instructive to simulate a circuit using differing levels of accuracy and complexity, and then noting how closely the results match the same circuit built in the laboratory.\n",
    "\n",
    "An operational amplifier is, in essence, a multi-stage high gain amplifier treated as a single entity. Normally, op amps have a differential input and a single-ended output. In other words, one input produces an inverted output signal, and the other input produces a noninverted output signal. Often, the op amp is driven from a bipolar power supply (i.e., two supplies, one positive and one negative). Just about any sort of active amplifying device may be used for the individual stages. Op amps can be made entirely from vacuum tubes or discrete bipolar transistors (and of course, they were made that way some years ago). The advances in semiconductor manufacture in the late 1960's and early 1970's eventually made it possible to miniaturize the required components and place the whole affair on a single silicon chip (hence the term, integrated circuit). Through common use, this is what is generally meant by the term op amp today.\n",
    "\n",
    "If we connect the output of an op-amp to its inverting input and apply a voltage signal to the noninverting input, we find that the output voltage of the op-amp closely follows that input voltage (I’ve neglected to draw in the power supply, +V/-V wires, and ground symbol for simplicity):\n",
    "\n",
    "[Operational amplifier](https://en.wikipedia.org/wiki/Operational_amplifier)\n",
    "\n",
    "[Analog Integrators: How to Apply Them for Sensor Interfaces, Signal Generation, and Filtering](https://www.digikey.com/en/articles/analog-integrators-how-to-apply-them-for-sensor-interfaces)\n",
    "\n",
    "Nullors, Gyrators, NICs, Current Conveyors \n",
    "\n",
    "Nullor circuits\n",
    "\n",
    "[Nullor](https://en.wikipedia.org/wiki/Nullor)\n",
    "\n",
    "A nullor is a theoretical two-port network consisting of a nullator at its input and a norator at its output.[1] Nullors represent an ideal amplifier, having infinite current, voltage, transconductance and transimpedance gain.[2] Its transmission parameters are all zero, that is, its input–output behavior is summarized with the matrix equation\n",
    "\n",
    "$$\\begin{pmatrix} v_1\\\\i_1 \\end{pmatrix} = \\begin{pmatrix} 0 & 0 \\\\ 0 & 0 \\end{pmatrix}  \\begin{pmatrix}v_{2} \\\\ i_{2}\\end{pmatrix}$$\n",
    "\n",
    "$\\begin{pmatrix} v_1\\\\i_1 \\end{pmatrix} = \\begin{pmatrix} 0 & 0 \\\\ 0 & 0 \\end{pmatrix}  \\begin{pmatrix}v_{2} \\\\ i_{2}\\end{pmatrix}$\n",
    "\n",
    "In negative-feedback circuits, the circuit surrounding the nullor determines the nullor output in such a way as to force the nullor input to zero. \n",
    "\n",
    "Impedance Converters and Inverters (Gyrators, NICs, Current Conveyors)\n",
    "\n",
    "[Gyrators](https://en.wikipedia.org/wiki/Gyrator)\n",
    "\n",
    "[Negative Impedance Converter circuits](https://en.wikipedia.org/wiki/Negative_impedance_converter)\n",
    "\n",
    "[Current conveyor](https://en.wikipedia.org/wiki/Current_conveyor\n",
    "\n",
    "Frequency dependent negative resistor](https://en.wikipedia.org/wiki/Frequency_dependent_negative_resistor)\n",
    "\n",
    "https://www.allaboutcircuits.com/\n",
    "\n",
    "[Positive Feedback](https://www.allaboutcircuits.com/textbook/semiconductors/chpt-8/positive-feedback/)\n",
    "-->"
   ]
  },
  {
   "cell_type": "code",
   "execution_count": 2,
   "id": "bfc181d7-546f-45fc-a38e-efe43f2550ec",
   "metadata": {
    "collapsed": false,
    "jupyter": {
     "outputs_hidden": false
    }
   },
   "outputs": [],
   "source": [
    "from sympy import *\n",
    "import numpy as np\n",
    "from tabulate import tabulate\n",
    "import pandas as pd\n",
    "from scipy import signal\n",
    "import matplotlib.pyplot as plt\n",
    "import SymMNA\n",
    "from IPython.display import display, Markdown, Math, Latex\n",
    "init_printing()"
   ]
  },
  {
   "cell_type": "markdown",
   "id": "1351e407-6d96-466d-91b5-b44fcd2da5c5",
   "metadata": {
    "tags": []
   },
   "source": [
    "## Voltage follower\n",
    "![Op Amp voltage follower](Voltage-follower.png){#fig-voltage-follower width=300}  \n",
    "\n",
    "The Op Amp configured as a voltage follower is shown above, in @fig-voltage-follower. The output of the output Op Amp is connected to the negative input of the Op Amp. This causes the output voltage to be equal to the input voltage and this arrangement is called a voltage follower because the out put voltage follows the input voltage. In this configuration, the Op Amp is used to as buffer amplifier or isolation amplifier since the amplifier provids a high input impedance and a low out put impedance. The gain of the amplifier is one. The circuit contains one component, the Op Amp. \n",
    "\n",
    "$\\large{\\color {red} {\\text{describe circuit operation}}}$  \n",
    "\n",
    "<!--\n",
    "Due to the strong (i.e., unity gain) feedback and certain non-ideal characteristics of real operational amplifiers, this feedback system is prone to have poor stability margins. Consequently, the system may be unstable when connected to large capacitive loads. In these cases, a lag compensation network (e.g., connecting the load to the voltage follower through a resistor) can be used to restore stability. The manufacturer data sheet for the operational amplifier may provide guidance for the selection of components in external compensation networks. Alternatively, another operational amplifier can be chosen that has more appropriate internal compensation. \n",
    "\n",
    "The circuit in figure 12 demonstrates how the addition of a simple feedback loop to the open\n",
    "loop amplifier converts it from a device of no usefulness to one with many practical applications.\n",
    "Analyzing this circuit, we see that the voltage at the non-inverting input is EI, the voltage at the\n",
    "inverting input approaches the voltage at the non-inverting input, and the output is at the same\n",
    "voltage as the inverting input. Hence, EO = EI, and our analysis is complete. The simplicity of our\n",
    "analysis is evidence of the power and utility of the summing point restraints we derived and have\n",
    "at our disposal.\n",
    "\n",
    "Our result also may be verified by mathematical analysis very simply. Since no current flows at\n",
    "the non-inverting input, the input impedance of the voltage follower is infinite. The output\n",
    "impedance is just that of the ideal operational amplifier itself, i.e. zero. Note also that no current\n",
    "flows through the feedback loop, so any arbitrary (but finite) resistance may be placed in the\n",
    "feedback loop without changing the properties of the ideal circuit, shown in figure 13. No voltage\n",
    "would appear across the feedback element and the same mathematical analysis would hold\n",
    "\n",
    "The feedback resistor is of particular importance if the op amp selected is a current-feedback\n",
    "type. The stability of current-feedback op amps is dependent entirely on the value of feedback\n",
    "resistor selected, and the designer should use the value recommended on the data sheet for the\n",
    "device.\n",
    "\n",
    "Unity gain circuits are used as electrical buffers to isolate circuits or devices from one another\n",
    "and prevent undesired interaction. As a voltage following power amplifier, this circuit will allow a\n",
    "source with low current capabilities to drive a heavy load.\n",
    "The gain of the voltage follower with the feedback loop closed (closed loop gain) is unity. The\n",
    "gain of the ideal operational amplifier without a feedback loop (open loop gain) is infinity. Thus,\n",
    "we have traded gain for control by adding feedback. Such a severe sacrifice of gain - from\n",
    "infinity to unity - is not necessary in most circuits. The rest of the ideal circuits to be studied will\n",
    "give any (finite) closed loop gain desired while maintaining control through feedback\n",
    "-->\n",
    "The netlist for @fig-voltage-follower was obtained from LTSpice:\n",
    "\n",
    "```\n",
    "V1 1 0 1\n",
    "XU1 2 1 2\n",
    "```\n",
    "The reference designaltor was changed from XU1 to O1."
   ]
  },
  {
   "cell_type": "code",
   "execution_count": 3,
   "id": "2a125afe-3a4a-47ef-833f-5ee609535870",
   "metadata": {},
   "outputs": [],
   "source": [
    "net_list = '''\n",
    "V1 1 0 1\n",
    "O1 2 1 2 \n",
    "'''"
   ]
  },
  {
   "cell_type": "markdown",
   "id": "93c0cf2b-397d-4e08-b568-996e87daae14",
   "metadata": {},
   "source": [
    "Generate the network equations."
   ]
  },
  {
   "cell_type": "code",
   "execution_count": 4,
   "id": "1f1032d6-6f5c-4dc4-9dd9-8516513cbdc4",
   "metadata": {},
   "outputs": [],
   "source": [
    "report, network_df, df2, A, X, Z = SymMNA.smna(net_list)\n",
    "\n",
    "# Put matricies into SymPy \n",
    "X = Matrix(X)\n",
    "Z = Matrix(Z)\n",
    "\n",
    "NE_sym = Eq(A*X,Z)"
   ]
  },
  {
   "cell_type": "markdown",
   "id": "407db022-e2b0-48da-b594-2a6e6674aee4",
   "metadata": {},
   "source": [
    "Generate markdown text to display the network equations."
   ]
  },
  {
   "cell_type": "code",
   "execution_count": 5,
   "id": "c111b3f4-c6ec-4bbe-ac62-8014e9ba1ca3",
   "metadata": {},
   "outputs": [
    {
     "data": {
      "text/markdown": [
       "$I_{V1} = 0$<br>$I_{O1} = 0$<br>$v_{1} = V_{1}$<br>$- v_{1} + v_{2} = 0$<br>"
      ],
      "text/plain": [
       "<IPython.core.display.Markdown object>"
      ]
     },
     "execution_count": 5,
     "metadata": {},
     "output_type": "execute_result"
    }
   ],
   "source": [
    "temp = ''\n",
    "for i in range(len(X)):\n",
    "    temp += '${:s}$<br>'.format(latex(Eq((A*X)[i:i+1][0],Z[i])))\n",
    "\n",
    "Markdown(temp)"
   ]
  },
  {
   "cell_type": "markdown",
   "id": "8aaf93ae-3421-480f-bbf0-3cae3065629f",
   "metadata": {},
   "source": [
    "The symbols generated by the Python code are extraced by the SymPy function free_symbols and then declared as SymPy variables. "
   ]
  },
  {
   "cell_type": "code",
   "execution_count": 6,
   "id": "47bec077-367a-40fe-ab25-88f9a19878d0",
   "metadata": {},
   "outputs": [
    {
     "data": {
      "image/png": "[encoded data removed]",
      "text/latex": [
       "$\\displaystyle \\left( I_{V1}, \\  V_{1}, \\  v_{2}, \\  I_{O1}, \\  v_{1}\\right)$"
      ],
      "text/plain": [
       "(I_V1, V₁, v₂, I_O1, v₁)"
      ]
     },
     "execution_count": 6,
     "metadata": {},
     "output_type": "execute_result"
    }
   ],
   "source": [
    "# turn the free symbols into SymPy variables\n",
    "var(str(NE_sym.free_symbols).replace('{','').replace('}',''))"
   ]
  },
  {
   "cell_type": "markdown",
   "id": "246722e6-c471-4bbf-a179-0f927f6151ed",
   "metadata": {},
   "source": [
    "Solve the equations and display the results."
   ]
  },
  {
   "cell_type": "code",
   "execution_count": 7,
   "id": "ff8bc320-f5ac-4556-a2b1-e88bf1c4b00b",
   "metadata": {},
   "outputs": [
    {
     "data": {
      "text/markdown": [
       "$I_{V1} = 0$<br>$I_{O1} = 0$<br>$v_{1} = V_{1}$<br>$v_{2} = V_{1}$<br>"
      ],
      "text/plain": [
       "<IPython.core.display.Markdown object>"
      ]
     },
     "execution_count": 7,
     "metadata": {},
     "output_type": "execute_result"
    }
   ],
   "source": [
    "U_sym = solve(NE_sym,X)\n",
    "\n",
    "temp = ''\n",
    "for i in U_sym.keys():\n",
    "    temp += '${:s} = {:s}$<br>'.format(latex(i),latex(U_sym[i]))\n",
    "\n",
    "Markdown(temp)"
   ]
  },
  {
   "cell_type": "markdown",
   "id": "6eedb022-7d10-4a9f-8a3c-38f3b61a9e38",
   "metadata": {},
   "source": [
    "The voltage at node 2 is simply equal to the inout voltage."
   ]
  },
  {
   "cell_type": "code",
   "execution_count": 8,
   "id": "ed919d2c-1a80-4158-9058-4196f4dbc28a",
   "metadata": {},
   "outputs": [
    {
     "data": {
      "image/png": "[encoded data removed]",
      "text/latex": [
       "$\\displaystyle V_{1}$"
      ],
      "text/plain": [
       "V₁"
      ]
     },
     "execution_count": 8,
     "metadata": {},
     "output_type": "execute_result"
    }
   ],
   "source": [
    "U_sym[v2]"
   ]
  },
  {
   "cell_type": "markdown",
   "id": "b6e821a0-33e7-4be1-a04d-1ba41c85ee9c",
   "metadata": {
    "tags": []
   },
   "source": [
    "## Non-inverting amplifier\n",
    "![non inverting amp](non-inverting-amp.png){#fig-non-inverting-amp width=300}  "
   ]
  },
  {
   "cell_type": "markdown",
   "id": "3a7b8992-57f6-44e2-a966-c57cfe20280c",
   "metadata": {
    "tags": []
   },
   "source": [
    "@fig-non-inverting-amp shows the configuration of a non-inverting amplifier. Resistors Rf and R1 form a voltage divider circuit from the Op Amp out put terminal to the inverting input termial at node 4. Resistor Rp is some times included in Op Amp circuits as an impedance maching termination that matches the source impedance from the driving circuit, and in case, V1 and Rs.  \n",
    "\n",
    "$\\large{\\color {red} {\\text{describe circuit operation}}}$  \n",
    "\n",
    "describe what each component does in the circuit and the overall operation of the circuit. \n",
    "\n",
    "- RS\n",
    "- Rp\n",
    "- R1\n",
    "- Rf\n",
    "- V1\n",
    "- U1\n",
    "\n",
    "\n",
    "The circuit was entered into LTSpice and the netlist was generated.\n",
    "\n",
    "```\n",
    "V1 1 0 1\n",
    "XU1 4 3 2 opamp Aol=100K GBW=10Meg\n",
    "Rs 3 1 100\n",
    "R1 0 5 2k\n",
    "Rf 2 5 2k\n",
    "Rp 4 5 100\n",
    "```\n",
    "As shown below, some edits were made to the netlist."
   ]
  },
  {
   "cell_type": "code",
   "execution_count": 9,
   "id": "67609363-b664-4298-ac9c-e474fc7183c5",
   "metadata": {},
   "outputs": [],
   "source": [
    "net_list = '''\n",
    "V1 1 0 1\n",
    "O1 4 3 2 \n",
    "Rs 3 1 100\n",
    "R1 0 5 2e3\n",
    "Rf 2 5 2e3\n",
    "Rp 4 5 100\n",
    "'''"
   ]
  },
  {
   "cell_type": "markdown",
   "id": "0910f098-f07a-439a-932b-70a4c6f3b7b4",
   "metadata": {},
   "source": [
    "Generate the network equations."
   ]
  },
  {
   "cell_type": "code",
   "execution_count": 10,
   "id": "9db7477e-35a5-43d2-829f-9aba76d4d66e",
   "metadata": {},
   "outputs": [],
   "source": [
    "report, network_df, df2, A, X, Z = SymMNA.smna(net_list)\n",
    "\n",
    "# Put matricies into SymPy \n",
    "X = Matrix(X)\n",
    "Z = Matrix(Z)\n",
    "\n",
    "NE_sym = Eq(A*X,Z)"
   ]
  },
  {
   "cell_type": "markdown",
   "id": "49ea2810-2481-43cf-af23-30c30a3b677f",
   "metadata": {},
   "source": [
    "Generate markdown text to display the network equations."
   ]
  },
  {
   "cell_type": "code",
   "execution_count": 11,
   "id": "9bc0794b-df84-4807-96c5-a3eab5e8aad6",
   "metadata": {},
   "outputs": [
    {
     "data": {
      "text/markdown": [
       "$I_{V1} + \\frac{v_{1}}{Rs} - \\frac{v_{3}}{Rs} = 0$<br>$I_{O1} + \\frac{v_{2}}{Rf} - \\frac{v_{5}}{Rf} = 0$<br>$- \\frac{v_{1}}{Rs} + \\frac{v_{3}}{Rs} = 0$<br>$\\frac{v_{4}}{Rp} - \\frac{v_{5}}{Rp} = 0$<br>$v_{5} \\cdot \\left(\\frac{1}{Rp} + \\frac{1}{Rf} + \\frac{1}{R_{1}}\\right) - \\frac{v_{4}}{Rp} - \\frac{v_{2}}{Rf} = 0$<br>$v_{1} = V_{1}$<br>$- v_{3} + v_{4} = 0$<br>"
      ],
      "text/plain": [
       "<IPython.core.display.Markdown object>"
      ]
     },
     "execution_count": 11,
     "metadata": {},
     "output_type": "execute_result"
    }
   ],
   "source": [
    "temp = ''\n",
    "for i in range(len(X)):\n",
    "    temp += '${:s}$<br>'.format(latex(Eq((A*X)[i:i+1][0],Z[i])))\n",
    "\n",
    "Markdown(temp)"
   ]
  },
  {
   "cell_type": "markdown",
   "id": "c33973df-58d4-43dc-b636-2a529045bfde",
   "metadata": {},
   "source": [
    "The symbols generated by the Python code are extraced by the SymPy function free_symbols and then declared as SymPy variables. "
   ]
  },
  {
   "cell_type": "code",
   "execution_count": 12,
   "id": "2feccbf2-5c1b-429c-8965-7c32c39b8812",
   "metadata": {},
   "outputs": [
    {
     "data": {
      "image/png": "[encoded data removed]",
      "text/latex": [
       "$\\displaystyle \\left( I_{V1}, \\  v_{5}, \\  R_{1}, \\  V_{1}, \\  Rs, \\  v_{2}, \\  Rp, \\  Rf, \\  v_{3}, \\  I_{O1}, \\  v_{1}, \\  v_{4}\\right)$"
      ],
      "text/plain": [
       "(I_V1, v₅, R₁, V₁, Rs, v₂, Rp, Rf, v₃, I_O1, v₁, v₄)"
      ]
     },
     "execution_count": 12,
     "metadata": {},
     "output_type": "execute_result"
    }
   ],
   "source": [
    "# turn the free symbols into SymPy variables\n",
    "var(str(NE_sym.free_symbols).replace('{','').replace('}',''))"
   ]
  },
  {
   "cell_type": "markdown",
   "id": "587f037c-2931-433c-aa18-0eb8e1422b67",
   "metadata": {},
   "source": [
    "Solve the equations and display the results."
   ]
  },
  {
   "cell_type": "code",
   "execution_count": 13,
   "id": "e8dfae2d-7f4e-40e0-9afc-fd707d5f79b2",
   "metadata": {},
   "outputs": [
    {
     "data": {
      "text/markdown": [
       "$v_{1} = V_{1}$<br>$v_{2} = \\frac{R_{1} V_{1} + Rf V_{1}}{R_{1}}$<br>$v_{3} = V_{1}$<br>$v_{4} = V_{1}$<br>$v_{5} = V_{1}$<br>$I_{V1} = 0$<br>$I_{O1} = - \\frac{V_{1}}{R_{1}}$<br>"
      ],
      "text/plain": [
       "<IPython.core.display.Markdown object>"
      ]
     },
     "execution_count": 13,
     "metadata": {},
     "output_type": "execute_result"
    }
   ],
   "source": [
    "U_sym = solve(NE_sym,X)\n",
    "\n",
    "temp = ''\n",
    "for i in U_sym.keys():\n",
    "    temp += '${:s} = {:s}$<br>'.format(latex(i),latex(U_sym[i]))\n",
    "\n",
    "Markdown(temp)"
   ]
  },
  {
   "cell_type": "markdown",
   "id": "4a712417-d411-4b18-804d-258e9bad00cc",
   "metadata": {},
   "source": [
    "Solving for the transfer function at node 2."
   ]
  },
  {
   "cell_type": "code",
   "execution_count": 14,
   "id": "2dd4dff5-425b-4196-a403-edda775baab9",
   "metadata": {},
   "outputs": [
    {
     "data": {
      "image/png": "[encoded data removed]",
      "text/latex": [
       "$\\displaystyle \\frac{R_{1} + Rf}{R_{1}}$"
      ],
      "text/plain": [
       "R₁ + Rf\n",
       "───────\n",
       "   R₁  "
      ]
     },
     "execution_count": 14,
     "metadata": {},
     "output_type": "execute_result"
    }
   ],
   "source": [
    "H_sym = U_sym[v2]/U_sym[v1]\n",
    "H_sym.simplify()"
   ]
  },
  {
   "cell_type": "markdown",
   "id": "239e63e9-e85d-4659-95eb-02846b50995f",
   "metadata": {},
   "source": [
    "Usually written in text books as:"
   ]
  },
  {
   "cell_type": "code",
   "execution_count": 15,
   "id": "75f72d04-d9bd-4733-9a04-f7ee51ca4304",
   "metadata": {},
   "outputs": [
    {
     "data": {
      "image/png": "[encoded data removed]",
      "text/latex": [
       "$\\displaystyle 1 + \\frac{Rf}{R_{1}}$"
      ],
      "text/plain": [
       "    Rf\n",
       "1 + ──\n",
       "    R₁"
      ]
     },
     "execution_count": 15,
     "metadata": {},
     "output_type": "execute_result"
    }
   ],
   "source": [
    "H_sym.expand()"
   ]
  },
  {
   "cell_type": "code",
   "execution_count": null,
   "id": "bd8c7df3-8529-4c7b-916f-10669e9fbd72",
   "metadata": {},
   "outputs": [],
   "source": []
  },
  {
   "cell_type": "markdown",
   "id": "7a2e7adb-1033-4357-95ca-ea09666b8b6b",
   "metadata": {
    "tags": []
   },
   "source": [
    "## Inverting amplifier\n",
    "![inverting amp](inverting-amp.png){#fig-inverting-amp width=300}  "
   ]
  },
  {
   "cell_type": "markdown",
   "id": "be0bf9ca-e2ef-4fd2-94d1-290a2d28f0d0",
   "metadata": {
    "tags": []
   },
   "source": [
    "@fig-inverting-amp shows the typical connection for an inverting amplifier. This configuratin is called an inverting amplifier since the output signal is inverted with respect to the inout signal. Resistors Rf and R1 set the gain of the amplifier. Resistor Rp is sometime used to balance the impedance as seen from the Op Amps two inputs. Usually the value of Rp is chosen to be equal to the paralled combination of R1 and Rf.\n",
    "\n",
    "$\\large{\\color {red} {\\text{describe circuit operation}}}$  \n",
    "\n",
    "describe what each component does in the circuit and the overall operation of the circuit. \n",
    "\n",
    "- Rp\n",
    "- R1\n",
    "- Rf\n",
    "- V1\n",
    "- U1\n",
    "\n",
    "\n",
    "The schematic for the circuit was entered into LTSpice and the following netlist was generated.\n",
    "```\n",
    "V1 1 0 1\n",
    "XU1 3 4 2 opamp Aol=100K GBW=10Meg\n",
    "R1 3 1 2k\n",
    "Rp 0 4 1k\n",
    "Rf 3 2 2k\n",
    "```\n",
    "A few edits were made to the netlist."
   ]
  },
  {
   "cell_type": "code",
   "execution_count": 16,
   "id": "9eb549eb-d0dc-4fbd-b900-c745339ed086",
   "metadata": {},
   "outputs": [],
   "source": [
    "net_list = '''\n",
    "V1 1 0 1\n",
    "O1 3 4 2 \n",
    "R1 3 1 2e3\n",
    "Rp 0 4 1e3\n",
    "Rf 3 2 2e3\n",
    "'''"
   ]
  },
  {
   "cell_type": "markdown",
   "id": "2ff78e5f-151b-4427-973a-07c10bbf713d",
   "metadata": {},
   "source": [
    "Generate the network equations."
   ]
  },
  {
   "cell_type": "code",
   "execution_count": 17,
   "id": "d0f43199-1cd3-4948-89bd-9d7917d71eb1",
   "metadata": {},
   "outputs": [],
   "source": [
    "report, network_df, df2, A, X, Z = SymMNA.smna(net_list)\n",
    "\n",
    "# Put matricies into SymPy \n",
    "X = Matrix(X)\n",
    "Z = Matrix(Z)\n",
    "\n",
    "NE_sym = Eq(A*X,Z)"
   ]
  },
  {
   "cell_type": "markdown",
   "id": "d4fcdf87-2b49-4a40-9f1b-34d94f967218",
   "metadata": {},
   "source": [
    "Generate markdown text to display the network equations."
   ]
  },
  {
   "cell_type": "code",
   "execution_count": 18,
   "id": "544859d6-6f3e-4831-a4c6-c3006000e7be",
   "metadata": {},
   "outputs": [
    {
     "data": {
      "text/markdown": [
       "$I_{V1} + \\frac{v_{1}}{R_{1}} - \\frac{v_{3}}{R_{1}} = 0$<br>$I_{O1} + \\frac{v_{2}}{Rf} - \\frac{v_{3}}{Rf} = 0$<br>$v_{3} \\cdot \\left(\\frac{1}{Rf} + \\frac{1}{R_{1}}\\right) - \\frac{v_{2}}{Rf} - \\frac{v_{1}}{R_{1}} = 0$<br>$\\frac{v_{4}}{Rp} = 0$<br>$v_{1} = V_{1}$<br>$v_{3} - v_{4} = 0$<br>"
      ],
      "text/plain": [
       "<IPython.core.display.Markdown object>"
      ]
     },
     "execution_count": 18,
     "metadata": {},
     "output_type": "execute_result"
    }
   ],
   "source": [
    "temp = ''\n",
    "for i in range(len(X)):\n",
    "    temp += '${:s}$<br>'.format(latex(Eq((A*X)[i:i+1][0],Z[i])))\n",
    "\n",
    "Markdown(temp)"
   ]
  },
  {
   "cell_type": "markdown",
   "id": "d3375b51-4fea-4954-bf60-256bdd7fe8ad",
   "metadata": {},
   "source": [
    "The symbols generated by the Python code are extraced by the SymPy function free_symbols and then declared as SymPy variables. "
   ]
  },
  {
   "cell_type": "code",
   "execution_count": 19,
   "id": "42ca055f-f0d0-461b-8c3a-3f2fee371861",
   "metadata": {},
   "outputs": [
    {
     "data": {
      "image/png": "[encoded data removed]",
      "text/latex": [
       "$\\displaystyle \\left( I_{V1}, \\  V_{1}, \\  v_{2}, \\  v_{1}, \\  Rp, \\  Rf, \\  v_{3}, \\  I_{O1}, \\  R_{1}, \\  v_{4}\\right)$"
      ],
      "text/plain": [
       "(I_V1, V₁, v₂, v₁, Rp, Rf, v₃, I_O1, R₁, v₄)"
      ]
     },
     "execution_count": 19,
     "metadata": {},
     "output_type": "execute_result"
    }
   ],
   "source": [
    "# turn the free symbols into SymPy variables\n",
    "var(str(NE_sym.free_symbols).replace('{','').replace('}',''))"
   ]
  },
  {
   "cell_type": "markdown",
   "id": "36f5c934-2880-47ab-8f2e-d97c119d29eb",
   "metadata": {},
   "source": [
    "Solve the equations."
   ]
  },
  {
   "cell_type": "code",
   "execution_count": 20,
   "id": "b6e31854-8690-4c6c-9263-e8effdf0d2be",
   "metadata": {},
   "outputs": [
    {
     "data": {
      "text/markdown": [
       "$v_{1} = V_{1}$<br>$v_{2} = - \\frac{Rf V_{1}}{R_{1}}$<br>$v_{3} = 0$<br>$v_{4} = 0$<br>$I_{V1} = - \\frac{V_{1}}{R_{1}}$<br>$I_{O1} = \\frac{V_{1}}{R_{1}}$<br>"
      ],
      "text/plain": [
       "<IPython.core.display.Markdown object>"
      ]
     },
     "execution_count": 20,
     "metadata": {},
     "output_type": "execute_result"
    }
   ],
   "source": [
    "U_sym = solve(NE_sym,X)\n",
    "\n",
    "temp = ''\n",
    "for i in U_sym.keys():\n",
    "    temp += '${:s} = {:s}$<br>'.format(latex(i),latex(U_sym[i]))\n",
    "\n",
    "Markdown(temp)"
   ]
  },
  {
   "cell_type": "markdown",
   "id": "50deeab4-7c6c-48db-a851-1d5139665fd7",
   "metadata": {},
   "source": [
    "Solving for the transfer function at node 2."
   ]
  },
  {
   "cell_type": "code",
   "execution_count": 21,
   "id": "81bf2278-8c60-48cf-9921-c58f98d37df6",
   "metadata": {},
   "outputs": [
    {
     "data": {
      "image/png": "[encoded data removed]",
      "text/latex": [
       "$\\displaystyle - \\frac{Rf}{R_{1}}$"
      ],
      "text/plain": [
       "-Rf \n",
       "────\n",
       " R₁ "
      ]
     },
     "execution_count": 21,
     "metadata": {},
     "output_type": "execute_result"
    }
   ],
   "source": [
    "H_sym = U_sym[v2]/U_sym[v1]\n",
    "H_sym.simplify()"
   ]
  },
  {
   "cell_type": "code",
   "execution_count": null,
   "id": "0b05b7a4-9c8c-4711-9121-ae0562a65b0c",
   "metadata": {},
   "outputs": [],
   "source": []
  },
  {
   "cell_type": "markdown",
   "id": "ee4dd7f8-94b1-4ced-8208-553dca689cff",
   "metadata": {
    "tags": []
   },
   "source": [
    "## Differential amplifier\n",
    "![differential amp](differential-amp.png){#fig-differential-amp width=400}  "
   ]
  },
  {
   "cell_type": "markdown",
   "id": "be0418a3-eb68-49b0-8695-add04c632674",
   "metadata": {
    "tags": []
   },
   "source": [
    "$\\large{\\color {red} {\\text{describe circuit operation}}}$  \n",
    "\n",
    "describe what each component does in the circuit and the overall operation of the circuit. \n",
    "\n",
    "- R1\n",
    "- R2\n",
    "- R3\n",
    "- R4\n",
    "- V1\n",
    "- U1\n",
    "\n",
    "include comments about summing amp configuration\n",
    "\n",
    "\n",
    "```\n",
    "XU1 4 5 2 opamp Aol=100K GBW=10Meg\n",
    "V1 1 6 1\n",
    "R1 4 1 1k\n",
    "R3 2 4 1k\n",
    "R4 0 5 1k\n",
    "R2 5 3 1k\n",
    "V2 3 6 3\n",
    "V3 6 0 10\n",
    "```\n"
   ]
  },
  {
   "cell_type": "code",
   "execution_count": 22,
   "id": "bc15d672-b7eb-4af5-a189-fc10fa2b70e3",
   "metadata": {},
   "outputs": [],
   "source": [
    "net_list = '''\n",
    "O1 4 5 2\n",
    "V1 1 6 1\n",
    "R1 4 1 1e3\n",
    "R3 2 4 1e3\n",
    "R4 0 5 1e3\n",
    "R2 5 3 1e3\n",
    "V2 3 6 3\n",
    "V3 6 0 100\n",
    "'''"
   ]
  },
  {
   "cell_type": "markdown",
   "id": "967aafd1-e727-4e8f-9a08-faff653fe5d4",
   "metadata": {},
   "source": [
    "Generate the network equations."
   ]
  },
  {
   "cell_type": "code",
   "execution_count": 23,
   "id": "88cc0f25-f895-4605-bb28-cad237f36996",
   "metadata": {},
   "outputs": [],
   "source": [
    "report, network_df, df2, A, X, Z = SymMNA.smna(net_list)\n",
    "\n",
    "# Put matricies into SymPy \n",
    "X = Matrix(X)\n",
    "Z = Matrix(Z)\n",
    "\n",
    "NE_sym = Eq(A*X,Z)"
   ]
  },
  {
   "cell_type": "markdown",
   "id": "5a9219d1-1811-4b58-925e-5e207199081e",
   "metadata": {},
   "source": [
    "Generate markdown text to display the network equations."
   ]
  },
  {
   "cell_type": "code",
   "execution_count": 24,
   "id": "cff337ec-c4b6-4bc1-9871-a65035b3fc29",
   "metadata": {},
   "outputs": [
    {
     "data": {
      "text/markdown": [
       "$I_{V1} + \\frac{v_{1}}{R_{1}} - \\frac{v_{4}}{R_{1}} = 0$<br>$I_{O1} + \\frac{v_{2}}{R_{3}} - \\frac{v_{4}}{R_{3}} = 0$<br>$I_{V2} + \\frac{v_{3}}{R_{2}} - \\frac{v_{5}}{R_{2}} = 0$<br>$v_{4} \\cdot \\left(\\frac{1}{R_{3}} + \\frac{1}{R_{1}}\\right) - \\frac{v_{2}}{R_{3}} - \\frac{v_{1}}{R_{1}} = 0$<br>$v_{5} \\cdot \\left(\\frac{1}{R_{4}} + \\frac{1}{R_{2}}\\right) - \\frac{v_{3}}{R_{2}} = 0$<br>$- I_{V1} - I_{V2} + I_{V3} = 0$<br>$v_{1} - v_{6} = V_{1}$<br>$v_{3} - v_{6} = V_{2}$<br>$v_{6} = V_{3}$<br>$v_{4} - v_{5} = 0$<br>"
      ],
      "text/plain": [
       "<IPython.core.display.Markdown object>"
      ]
     },
     "execution_count": 24,
     "metadata": {},
     "output_type": "execute_result"
    }
   ],
   "source": [
    "temp = ''\n",
    "for i in range(len(X)):\n",
    "    temp += '${:s}$<br>'.format(latex(Eq((A*X)[i:i+1][0],Z[i])))\n",
    "\n",
    "Markdown(temp)"
   ]
  },
  {
   "cell_type": "markdown",
   "id": "805d0303-8477-4def-952c-2ed3a11d9c5b",
   "metadata": {},
   "source": [
    "The symbols generated by the Python code are extraced by the SymPy function free_symbols and then declared as SymPy variables. "
   ]
  },
  {
   "cell_type": "code",
   "execution_count": 25,
   "id": "def00601-aae2-4275-a37c-6699d9381bd4",
   "metadata": {},
   "outputs": [
    {
     "data": {
      "image/png": "[encoded data removed]",
      "text/latex": [
       "$\\displaystyle \\left( I_{V1}, \\  R_{1}, \\  v_{5}, \\  v_{6}, \\  V_{1}, \\  V_{2}, \\  v_{2}, \\  R_{4}, \\  I_{V3}, \\  v_{3}, \\  V_{3}, \\  R_{3}, \\  R_{2}, \\  I_{V2}, \\  I_{O1}, \\  v_{1}, \\  v_{4}\\right)$"
      ],
      "text/plain": [
       "(I_V1, R₁, v₅, v₆, V₁, V₂, v₂, R₄, I_V3, v₃, V₃, R₃, R₂, I_V2, I_O1, v₁, v₄)"
      ]
     },
     "execution_count": 25,
     "metadata": {},
     "output_type": "execute_result"
    }
   ],
   "source": [
    "# turn the free symbols into SymPy variables\n",
    "var(str(NE_sym.free_symbols).replace('{','').replace('}',''))"
   ]
  },
  {
   "cell_type": "markdown",
   "id": "8741f97f-0d5f-44bb-8093-559b9d00e556",
   "metadata": {},
   "source": [
    "Solve the equations."
   ]
  },
  {
   "cell_type": "code",
   "execution_count": 26,
   "id": "cf06d7ca-69bb-41d5-8627-ffe14cb83019",
   "metadata": {},
   "outputs": [
    {
     "data": {
      "text/markdown": [
       "$v_{1} = V_{1} + V_{3}$<br>$v_{2} = \\frac{R_{1} R_{4} V_{2} + R_{1} R_{4} V_{3} - R_{2} R_{3} V_{1} - R_{2} R_{3} V_{3} - R_{3} R_{4} V_{1} + R_{3} R_{4} V_{2}}{R_{1} R_{2} + R_{1} R_{4}}$<br>$v_{3} = V_{2} + V_{3}$<br>$v_{4} = \\frac{R_{4} V_{2} + R_{4} V_{3}}{R_{2} + R_{4}}$<br>$v_{5} = \\frac{R_{4} V_{2} + R_{4} V_{3}}{R_{2} + R_{4}}$<br>$v_{6} = V_{3}$<br>$I_{V1} = \\frac{- R_{2} V_{1} - R_{2} V_{3} - R_{4} V_{1} + R_{4} V_{2}}{R_{1} R_{2} + R_{1} R_{4}}$<br>$I_{V2} = \\frac{- V_{2} - V_{3}}{R_{2} + R_{4}}$<br>$I_{V3} = \\frac{- R_{1} V_{2} - R_{1} V_{3} - R_{2} V_{1} - R_{2} V_{3} - R_{4} V_{1} + R_{4} V_{2}}{R_{1} R_{2} + R_{1} R_{4}}$<br>$I_{O1} = \\frac{R_{2} V_{1} + R_{2} V_{3} + R_{4} V_{1} - R_{4} V_{2}}{R_{1} R_{2} + R_{1} R_{4}}$<br>"
      ],
      "text/plain": [
       "<IPython.core.display.Markdown object>"
      ]
     },
     "execution_count": 26,
     "metadata": {},
     "output_type": "execute_result"
    }
   ],
   "source": [
    "U_sym = solve(NE_sym,X)\n",
    "\n",
    "temp = ''\n",
    "for i in U_sym.keys():\n",
    "    temp += '${:s} = {:s}$<br>'.format(latex(i),latex(U_sym[i]))\n",
    "\n",
    "Markdown(temp)"
   ]
  },
  {
   "cell_type": "code",
   "execution_count": 27,
   "id": "4c442015-2d59-41d3-94e1-cfeed4e404e8",
   "metadata": {},
   "outputs": [
    {
     "data": {
      "image/png": "[encoded data removed]",
      "text/latex": [
       "$\\displaystyle \\frac{R_{1} R_{4} V_{2} + R_{1} R_{4} V_{3} - R_{2} R_{3} V_{1} - R_{2} R_{3} V_{3} - R_{3} R_{4} V_{1} + R_{3} R_{4} V_{2}}{R_{1} R_{2} + R_{1} R_{4}}$"
      ],
      "text/plain": [
       "R₁⋅R₄⋅V₂ + R₁⋅R₄⋅V₃ - R₂⋅R₃⋅V₁ - R₂⋅R₃⋅V₃ - R₃⋅R₄⋅V₁ + R₃⋅R₄⋅V₂\n",
       "───────────────────────────────────────────────────────────────\n",
       "                         R₁⋅R₂ + R₁⋅R₄                         "
      ]
     },
     "execution_count": 27,
     "metadata": {},
     "output_type": "execute_result"
    }
   ],
   "source": [
    "U_sym[v2]"
   ]
  },
  {
   "cell_type": "code",
   "execution_count": 28,
   "id": "ed5fa760-0875-459e-85fe-cc69988259a0",
   "metadata": {},
   "outputs": [
    {
     "data": {
      "image/png": "[encoded data removed]",
      "text/latex": [
       "$\\displaystyle - 1.0 V_{1} + 1.0 V_{2}$"
      ],
      "text/plain": [
       "-V₁ + 1.0⋅V₂"
      ]
     },
     "execution_count": 28,
     "metadata": {},
     "output_type": "execute_result"
    }
   ],
   "source": [
    "U_sym[v2].subs({R1:1e3,R2:1e3,R3:1e3,R4:1e3})"
   ]
  },
  {
   "cell_type": "code",
   "execution_count": null,
   "id": "e86e61c6-9a7d-4bb5-a22d-fdae49492b6d",
   "metadata": {},
   "outputs": [],
   "source": []
  },
  {
   "cell_type": "code",
   "execution_count": null,
   "id": "b8ecc67f-14ee-4dbe-b9f8-2471948a7ee2",
   "metadata": {},
   "outputs": [],
   "source": []
  },
  {
   "cell_type": "markdown",
   "id": "f52b616d-3956-4487-b466-a3be11bec487",
   "metadata": {
    "tags": []
   },
   "source": [
    "## Summing amplifier\n",
    "\n",
    "https://the-analog-thing.org/docs/dirhtml/rst/computing_elements/THAT_elements/summer/\n",
    "\n"
   ]
  },
  {
   "cell_type": "markdown",
   "id": "b916bfd1-4772-4605-a33d-3dfd80686d5a",
   "metadata": {
    "tags": []
   },
   "source": [
    "## Integrator\n",
    "![integrator](integrator.png){#fig-integrator width=400}  "
   ]
  },
  {
   "cell_type": "markdown",
   "id": "160a5a24-9479-4cbb-9756-6d09c3d2b336",
   "metadata": {
    "tags": []
   },
   "source": [
    "The circuit above is an example of an Op Amp integrator. An produces an output voltage which is proportional to the integral of the input voltage, that is, the output is proportional to the product of the amplitude and duration of the input. The configuration is essenctally a low pass filter. The circuit is from @Stout1976 (Op Amp Handbook, by Stout, Fig 15.1), chapter 15. \n",
    "\n",
    "$\\large{\\color {red} {\\text{describe circuit operation}}}$  \n",
    "\n",
    "describe what each component does in the circuit and the overall operation of the circuit. \n",
    "\n",
    "- R1\n",
    "- R2\n",
    "- Rp\n",
    "- Rf\n",
    "- Cf\n",
    "- Cp\n",
    "- V1\n",
    "- U1\n",
    "\n",
    "\n",
    "https://the-analog-thing.org/docs/dirhtml/rst/computing_elements/THAT_elements/integrator/\n",
    "\n",
    "\n",
    "<!--\n",
    "15.2 INTEGRATOR\n",
    "\n",
    "INTRODUCTION\n",
    "An integrator is a low-pass filter, and a differentiator is a high-pass filter. Each of these two circuits therefore performs a mathematical function which is the inverse of the other. Even though these circuits are related mathematically, the practical problems associated with each are completely different. The prime differentiator problems are noise and instability. The integrator is prone to de drift and offset.\n",
    "\n",
    "ALTERNATE NAMES Integrating amplifier, integral amplifier, definite- integral circuit, analog integrator, low-pass filter.\n",
    "\n",
    "EXPLANATION OF OPERATION \n",
    "\n",
    "An ideal integrator produces an output voltage which is proportional to the integral of the input voltage. In other words, the output is proportional to the product of the amplitude and duration of the input. The integrator performs this mathematical operation on an instantaneous basis, producing an output proportional to the sum of the products of instantaneous voltages and vanishingly small increments of time. The result is an output exactly proportional to the area under a waveform.\n",
    "\n",
    "The circuit shown in Fig. 15.3 performs integration by using an op amp to force the same current through both R1 and Cf. The voltage across the feed- back capacitor is related to capacitor current by\n",
    "\n",
    "1\n",
    "Cf\n",
    "fi,dt\n",
    "\n",
    "Since the circuit causes i, to equal the input current (i; = v2/R1),\n",
    "\n",
    "Vc = vo\n",
    "1\n",
    "RC, fodt\n",
    "Ꭱ\n",
    "\n",
    "The gain of the circuit is given by -1/R1Cf. Thus the output voltage will change by -1/R1Cf V/s for each volt of input. Numerically, the circuit performs integration in the following manner. For a start, assume v1 = v = 0, R1 = 10 k ohms, and Cf = 1 μF. Under these conditions no current will flow through R1 or Cf. If a -1 V dc level is suddenly applied to v1, a current of v1/R1 = -1/10^4 = -100 μA will immediately flow in R1. If we assume the op amp draws no current, 100 μA must also immediately flow through Cf. To obtain a dc current of 100 μA through Cf, we require a linear positive ramp at v. The current through the capacitor must satisfy i, C,(dv,/dt). The ramp at v, will therefore have a slope of\n",
    "\n",
    "dv。\n",
    "is _ —Vi.\n",
    "dt\n",
    "C\n",
    "RC,\n",
    "-(-1) 104 × 10-6\n",
    "100 V/s\n",
    "\n",
    "This is equivalent to saying\n",
    "\n",
    "1\n",
    "R1Cf\n",
    "Jo,dt = 100t\n",
    "\n",
    "Since the input waveform can be sinusoidal or nonlinear, we have used the lowercase generalized nomenclature. The uppercase nomenclature is only for sinusoidal ac operations or dc parameters.\n",
    "io\n",
    "\n",
    "The op amp input offset voltage Vio and input offset current Io add errors to the above equations. If R, is not included in the circuit, the error caused by L is replaced by a larger error due to input bias current I. The output voltage with these errors included is\n",
    "1\n",
    "+\n",
    "+\n",
    "RC (v,dt ± [V1dt) = [1,dt ± Vio\n",
    "R,C,\n",
    "C\n",
    "\n",
    "Note that Vio causes a small step voltage ±Vio and a ± ramp with a gain of 1/R,C,. However, I causes a ramp with a gain of 1/C,. This latter error source may be reduced if the designer has the option available to increase C, and lower R1. If this is done, one must realize that the input resistance is lowered and the leakage component of C, will probably be increased. The leakage current through Cf must be less than Ib.\n",
    "-->\n",
    "\n",
    "The schematic for the integrator was entered into LTSpice and the netlist was was obtained.\n",
    "```\n",
    "* C:\\users\\jeff64\\My Documents\\Modeling Op Amps\\integrator.asc\n",
    "V1 1 0 AC 1\n",
    "XU1 4 5 2 opamp Aol=100K GBW=10Meg\n",
    "R1 3 1 1.129k\n",
    "R2 4 3 1k\n",
    "Rp 0 5 1k\n",
    "Rf 3 2 20k\n",
    "Cf 2 3 0.005µ\n",
    "Cp 5 0 0.05µ\n",
    ".lib opamp.sub\n",
    ".ac dec 100 1 100e3\n",
    "* Integrator\n",
    ".backanno\n",
    ".end\n",
    "```\n",
    "A few edits were made and the netlist is assigned to the net_list variable."
   ]
  },
  {
   "cell_type": "code",
   "execution_count": 61,
   "id": "41646491-a65c-4cb4-b415-6a2710df6636",
   "metadata": {},
   "outputs": [],
   "source": [
    "net_list = '''\n",
    "V1 1 0 1\n",
    "O1 4 5 2 \n",
    "R1 3 1 1.129e3\n",
    "R2 4 3 1e3\n",
    "Rp 0 5 1e3\n",
    "Rf 3 2 20e3\n",
    "Cf 2 3 0.005e-6\n",
    "Cp 5 0 0.05e-6\n",
    "'''"
   ]
  },
  {
   "cell_type": "markdown",
   "id": "ed2ffaf4-a298-46f8-903a-1007a71919ab",
   "metadata": {},
   "source": [
    "Generate the network equations."
   ]
  },
  {
   "cell_type": "code",
   "execution_count": 62,
   "id": "1f12a30c-6c79-4b69-b850-641c1165201e",
   "metadata": {},
   "outputs": [],
   "source": [
    "report, network_df, df2, A, X, Z = SymMNA.smna(net_list)\n",
    "\n",
    "# Put matricies into SymPy \n",
    "X = Matrix(X)\n",
    "Z = Matrix(Z)\n",
    "\n",
    "NE_sym = Eq(A*X,Z)"
   ]
  },
  {
   "cell_type": "markdown",
   "id": "137b5a55-d4de-487d-bccf-616558f5cd21",
   "metadata": {},
   "source": [
    "Generate markdown text to display the network equations."
   ]
  },
  {
   "cell_type": "code",
   "execution_count": 63,
   "id": "6324acc3-89df-49fb-9a4f-c5ca17fdc02c",
   "metadata": {},
   "outputs": [
    {
     "data": {
      "text/markdown": [
       "$I_{V1} + \\frac{v_{1}}{R_{1}} - \\frac{v_{3}}{R_{1}} = 0$<br>$I_{O1} + v_{2} \\left(Cf s + \\frac{1}{Rf}\\right) + v_{3} \\left(- Cf s - \\frac{1}{Rf}\\right) = 0$<br>$v_{2} \\left(- Cf s - \\frac{1}{Rf}\\right) + v_{3} \\left(Cf s + \\frac{1}{Rf} + \\frac{1}{R_{2}} + \\frac{1}{R_{1}}\\right) - \\frac{v_{4}}{R_{2}} - \\frac{v_{1}}{R_{1}} = 0$<br>$- \\frac{v_{3}}{R_{2}} + \\frac{v_{4}}{R_{2}} = 0$<br>$v_{5} \\left(Cp s + \\frac{1}{Rp}\\right) = 0$<br>$v_{1} = V_{1}$<br>$v_{4} - v_{5} = 0$<br>"
      ],
      "text/plain": [
       "<IPython.core.display.Markdown object>"
      ]
     },
     "execution_count": 63,
     "metadata": {},
     "output_type": "execute_result"
    }
   ],
   "source": [
    "temp = ''\n",
    "for i in range(len(X)):\n",
    "    temp += '${:s}$<br>'.format(latex(Eq((A*X)[i:i+1][0],Z[i])))\n",
    "\n",
    "Markdown(temp)"
   ]
  },
  {
   "cell_type": "markdown",
   "id": "1bf3de01-ac6b-4795-a468-bfc9f50a99be",
   "metadata": {},
   "source": [
    "The symbols generated by the Python code are extraced by the SymPy function free_symbols and then declared as SymPy variables. "
   ]
  },
  {
   "cell_type": "code",
   "execution_count": 64,
   "id": "4fa57696-be5d-42b3-afb0-7aeffc77f336",
   "metadata": {},
   "outputs": [
    {
     "data": {
      "image/png": "[encoded data removed]",
      "text/latex": [
       "$\\displaystyle \\left( I_{V1}, \\  Cf, \\  v_{5}, \\  V_{1}, \\  v_{2}, \\  v_{1}, \\  s, \\  Rf, \\  v_{3}, \\  Rp, \\  Cp, \\  R_{2}, \\  I_{O1}, \\  R_{1}, \\  v_{4}\\right)$"
      ],
      "text/plain": [
       "(I_V1, Cf, v₅, V₁, v₂, v₁, s, Rf, v₃, Rp, Cp, R₂, I_O1, R₁, v₄)"
      ]
     },
     "execution_count": 64,
     "metadata": {},
     "output_type": "execute_result"
    }
   ],
   "source": [
    "# turn the free symbols into SymPy variables\n",
    "var(str(NE_sym.free_symbols).replace('{','').replace('}',''))"
   ]
  },
  {
   "cell_type": "markdown",
   "id": "705eb41c-f7d2-4c10-8696-77b9d187e87f",
   "metadata": {},
   "source": [
    "Solve the equations."
   ]
  },
  {
   "cell_type": "code",
   "execution_count": 65,
   "id": "1762400b-2b69-476f-8961-b5f448888448",
   "metadata": {},
   "outputs": [
    {
     "data": {
      "text/markdown": [
       "$v_{1} = V_{1}$<br>$v_{2} = - \\frac{Rf V_{1}}{Cf R_{1} Rf s + R_{1}}$<br>$v_{3} = 0$<br>$v_{4} = 0$<br>$v_{5} = 0$<br>$I_{V1} = - \\frac{V_{1}}{R_{1}}$<br>$I_{O1} = \\frac{V_{1}}{R_{1}}$<br>"
      ],
      "text/plain": [
       "<IPython.core.display.Markdown object>"
      ]
     },
     "execution_count": 65,
     "metadata": {},
     "output_type": "execute_result"
    }
   ],
   "source": [
    "U_sym = solve(NE_sym,X)\n",
    "\n",
    "temp = ''\n",
    "for i in U_sym.keys():\n",
    "    temp += '${:s} = {:s}$<br>'.format(latex(i),latex(U_sym[i]))\n",
    "\n",
    "Markdown(temp)"
   ]
  },
  {
   "cell_type": "code",
   "execution_count": 66,
   "id": "f5bcbbd3-8b03-4053-bb57-15b84988a649",
   "metadata": {},
   "outputs": [
    {
     "data": {
      "image/png": "[encoded data removed]",
      "text/latex": [
       "$\\displaystyle - \\frac{Rf V_{1}}{Cf R_{1} Rf s + R_{1}}$"
      ],
      "text/plain": [
       "    -Rf⋅V₁     \n",
       "───────────────\n",
       "Cf⋅R₁⋅Rf⋅s + R₁"
      ]
     },
     "execution_count": 66,
     "metadata": {},
     "output_type": "execute_result"
    }
   ],
   "source": [
    "U_sym[v2]"
   ]
  },
  {
   "cell_type": "code",
   "execution_count": 67,
   "id": "25a02e40-3bba-4ae0-94d6-f662baa7acb8",
   "metadata": {},
   "outputs": [],
   "source": [
    "t = symbols('t',positive=True)  # t > 0"
   ]
  },
  {
   "cell_type": "code",
   "execution_count": 68,
   "id": "43dfd1a2-a70a-4753-9b2d-76267e747818",
   "metadata": {},
   "outputs": [
    {
     "data": {
      "image/png": "[encoded data removed]",
      "text/latex": [
       "$\\displaystyle - \\frac{V_{1} e^{- \\frac{t \\left(\\operatorname{re}{\\left(Cf\\right)} \\operatorname{re}{\\left(Rf\\right)} - \\operatorname{im}{\\left(Cf\\right)} \\operatorname{im}{\\left(Rf\\right)}\\right)}{\\left(\\left(\\operatorname{re}{\\left(Cf\\right)}\\right)^{2} + \\left(\\operatorname{im}{\\left(Cf\\right)}\\right)^{2}\\right) \\left(\\left(\\operatorname{re}{\\left(Rf\\right)}\\right)^{2} + \\left(\\operatorname{im}{\\left(Rf\\right)}\\right)^{2}\\right)} + \\frac{i t \\left(\\operatorname{re}{\\left(Cf\\right)} \\operatorname{im}{\\left(Rf\\right)} + \\operatorname{re}{\\left(Rf\\right)} \\operatorname{im}{\\left(Cf\\right)}\\right)}{\\left(\\left(\\operatorname{re}{\\left(Cf\\right)}\\right)^{2} + \\left(\\operatorname{im}{\\left(Cf\\right)}\\right)^{2}\\right) \\left(\\left(\\operatorname{re}{\\left(Rf\\right)}\\right)^{2} + \\left(\\operatorname{im}{\\left(Rf\\right)}\\right)^{2}\\right)}}}{Cf R_{1}}$"
      ],
      "text/plain": [
       "          t⋅(re(Cf)⋅re(Rf) - im(Cf)⋅im(Rf))        ⅈ⋅t⋅(re(Cf)⋅im(Rf) + re(Rf)\n",
       "     - ─────────────────────────────────────── + ─────────────────────────────\n",
       "       ⎛  2         2    ⎞ ⎛  2         2    ⎞   ⎛  2         2    ⎞ ⎛  2     \n",
       "       ⎝re (Cf) + im (Cf)⎠⋅⎝re (Rf) + im (Rf)⎠   ⎝re (Cf) + im (Cf)⎠⋅⎝re (Rf) \n",
       "-V₁⋅ℯ                                                                         \n",
       "──────────────────────────────────────────────────────────────────────────────\n",
       "                                          Cf⋅R₁                               \n",
       "\n",
       "⋅im(Cf))   \n",
       "────────── \n",
       "    2    ⎞ \n",
       "+ im (Rf)⎠ \n",
       "           \n",
       "───────────\n",
       "           "
      ]
     },
     "execution_count": 68,
     "metadata": {},
     "output_type": "execute_result"
    }
   ],
   "source": [
    "inverse_laplace_transform(U_sym[v2], s, t)"
   ]
  },
  {
   "cell_type": "markdown",
   "id": "084de057-e789-4a99-b07d-6b7d302b0652",
   "metadata": {},
   "source": [
    "### Transfer function\n",
    "Solving for the transfer function at node 2. Transfer functions are normally presented in the frequency domain and are steady state responses."
   ]
  },
  {
   "cell_type": "code",
   "execution_count": 69,
   "id": "32bc59a4-0c78-4abc-afa7-13a45219e529",
   "metadata": {},
   "outputs": [
    {
     "data": {
      "image/png": "[encoded data removed]",
      "text/latex": [
       "$\\displaystyle - \\frac{Rf}{R_{1} \\left(Cf Rf s + 1\\right)}$"
      ],
      "text/plain": [
       "      -Rf       \n",
       "────────────────\n",
       "R₁⋅(Cf⋅Rf⋅s + 1)"
      ]
     },
     "execution_count": 69,
     "metadata": {},
     "output_type": "execute_result"
    }
   ],
   "source": [
    "H_sym = U_sym[v2]/U_sym[v1]\n",
    "H_sym.simplify()"
   ]
  },
  {
   "cell_type": "code",
   "execution_count": null,
   "id": "cf88158b-696c-4e9c-98e3-67bf4a3dc0c0",
   "metadata": {},
   "outputs": [],
   "source": []
  },
  {
   "cell_type": "code",
   "execution_count": 70,
   "id": "bb4aa61c-e2d6-4b6c-913b-16d8ec6c9c32",
   "metadata": {},
   "outputs": [
    {
     "data": {
      "text/latex": [
       "$\\displaystyle \\left\\{ Cf : 5.0 \\cdot 10^{-9}, \\  Cp : 5.0 \\cdot 10^{-8}, \\  O_{1} : \\text{NaN}, \\  R_{1} : 1129.0, \\  R_{2} : 1000.0, \\  Rf : 20000.0, \\  Rp : 1000.0, \\  V_{1} : 1.0\\right\\}$"
      ],
      "text/plain": [
       "{Cf: 5e-09, Cp: 5e-08, O₁: nan, R₁: 1129.0, R₂: 1000.0, Rf: 20000.0, Rp: 1000.\n",
       "0, V₁: 1.0}"
      ]
     },
     "execution_count": 70,
     "metadata": {},
     "output_type": "execute_result"
    }
   ],
   "source": [
    "element_values = SymMNA.get_part_values(network_df)\n",
    "element_values"
   ]
  },
  {
   "cell_type": "code",
   "execution_count": 71,
   "id": "783cbee6-460f-47bb-9b5c-59a21e65ca59",
   "metadata": {},
   "outputs": [
    {
     "data": {
      "text/latex": [
       "$\\displaystyle \\left[\\begin{matrix}I_{V1} + 0.000885739592559787 v_{1} - 0.000885739592559787 v_{3}\\\\I_{O1} + v_{2} \\cdot \\left(5.0 \\cdot 10^{-9} s + 5.0 \\cdot 10^{-5}\\right) + v_{3} \\left(- 5.0 \\cdot 10^{-9} s - 5.0 \\cdot 10^{-5}\\right)\\\\- 0.000885739592559787 v_{1} + v_{2} \\left(- 5.0 \\cdot 10^{-9} s - 5.0 \\cdot 10^{-5}\\right) + v_{3} \\cdot \\left(5.0 \\cdot 10^{-9} s + 0.00193573959255979\\right) - 0.001 v_{4}\\\\- 0.001 v_{3} + 0.001 v_{4}\\\\v_{5} \\cdot \\left(5.0 \\cdot 10^{-8} s + 0.001\\right)\\\\v_{1}\\\\v_{4} - v_{5}\\end{matrix}\\right] = \\left[\\begin{matrix}0\\\\0\\\\0\\\\0\\\\0\\\\\\frac{1}{s}\\\\0\\end{matrix}\\right]$"
      ],
      "text/plain": [
       "                                                                              \n",
       "⎡                     I_V1 + 0.000885739592559787⋅v₁ - 0.000885739592559787⋅v₃\n",
       "⎢                                                                             \n",
       "⎢                      I_O1 + v₂⋅(5.0e-9⋅s + 5.0e-5) + v₃⋅(-5.0e-9⋅s - 5.0e-5)\n",
       "⎢                                                                             \n",
       "⎢-0.000885739592559787⋅v₁ + v₂⋅(-5.0e-9⋅s - 5.0e-5) + v₃⋅(5.0e-9⋅s + 0.0019357\n",
       "⎢                                                                             \n",
       "⎢                                       -0.001⋅v₃ + 0.001⋅v₄                  \n",
       "⎢                                                                             \n",
       "⎢                                       v₅⋅(5.0e-8⋅s + 0.001)                 \n",
       "⎢                                                                             \n",
       "⎢                                                v₁                           \n",
       "⎢                                                                             \n",
       "⎣                                              v₄ - v₅                        \n",
       "                                                                              \n",
       "\n",
       "                          ⎡0⎤\n",
       "                      ⎤   ⎢ ⎥\n",
       "                      ⎥   ⎢0⎥\n",
       "                      ⎥   ⎢ ⎥\n",
       "                      ⎥   ⎢0⎥\n",
       "3959255979) - 0.001⋅v₄⎥   ⎢ ⎥\n",
       "                      ⎥   ⎢0⎥\n",
       "                      ⎥ = ⎢ ⎥\n",
       "                      ⎥   ⎢0⎥\n",
       "                      ⎥   ⎢ ⎥\n",
       "                      ⎥   ⎢1⎥\n",
       "                      ⎥   ⎢─⎥\n",
       "                      ⎥   ⎢s⎥\n",
       "                      ⎦   ⎢ ⎥\n",
       "                          ⎣0⎦"
      ]
     },
     "execution_count": 71,
     "metadata": {},
     "output_type": "execute_result"
    }
   ],
   "source": [
    "element_values[V1] = laplace_transform(1*Heaviside(t), t, s)[0] # step function as a test\n",
    "#element_values[V1] = laplace_transform(400*exp(-0.1*t)*sin(4*t), t, s)[0] # driving function in example\n",
    "NE = NE_sym.subs(element_values)\n",
    "NE"
   ]
  },
  {
   "cell_type": "code",
   "execution_count": 72,
   "id": "993d068c-8aa4-466d-9549-74a5b19f1403",
   "metadata": {},
   "outputs": [
    {
     "data": {
      "text/markdown": [
       "$v_{1} = \\frac{1}{s}$<br>$v_{2} = - \\frac{885739592559787.0}{5000000000.0 s^{2} + 50000000000000.0 s}$<br>$v_{3} = 0.0$<br>$v_{4} = 0.0$<br>$v_{5} = 0.0$<br>$I_{V1} = - \\frac{0.000885739592559787}{s}$<br>$I_{O1} = \\frac{0.000885739592559787}{s}$<br>"
      ],
      "text/plain": [
       "<IPython.core.display.Markdown object>"
      ]
     },
     "execution_count": 72,
     "metadata": {},
     "output_type": "execute_result"
    }
   ],
   "source": [
    "U = solve(NE,X)\n",
    "\n",
    "temp = ''\n",
    "for i in U.keys():\n",
    "    temp += '${:s} = {:s}$<br>'.format(latex(i),latex(U[i]))\n",
    "\n",
    "Markdown(temp)"
   ]
  },
  {
   "cell_type": "code",
   "execution_count": 73,
   "id": "3ff2ea5b-3a63-47e1-a916-136ee4e46e0a",
   "metadata": {},
   "outputs": [
    {
     "data": {
      "image/png": "[encoded data removed]",
      "text/latex": [
       "$\\displaystyle -17.7147918511957 + 17.7147918511957 e^{- 10000.0 t}$"
      ],
      "text/plain": [
       "                                      -10000.0⋅t\n",
       "-17.7147918511957 + 17.7147918511957⋅ℯ          "
      ]
     },
     "execution_count": 73,
     "metadata": {},
     "output_type": "execute_result"
    }
   ],
   "source": [
    "inverse_laplace_transform(U[v2], s, t)"
   ]
  },
  {
   "cell_type": "code",
   "execution_count": null,
   "id": "13225a00-7b92-4867-9ee5-33b829a51c96",
   "metadata": {},
   "outputs": [],
   "source": []
  },
  {
   "cell_type": "code",
   "execution_count": null,
   "id": "a0a809d1-59a9-4e08-8b3f-cccb5d4a76ed",
   "metadata": {},
   "outputs": [],
   "source": []
  },
  {
   "cell_type": "markdown",
   "id": "c4466203-0517-4b5b-8feb-b055884726eb",
   "metadata": {
    "tags": []
   },
   "source": [
    "## Differentiator\n",
    "![differentiator](differentiator.png){#fig-differentiator width=400}  "
   ]
  },
  {
   "cell_type": "markdown",
   "id": "9e725a4f-a213-4a28-95dd-0584cd285bfc",
   "metadata": {
    "jupyter": {
     "source_hidden": true
    },
    "tags": []
   },
   "source": [
    "@fig-differentiator implements a circuit which produces an output proporational to the derivative of the input voltage. The circuit is from (Op Amp Handbook, by Stout, Fig 15.1), chapter 15. C1 and Rf togather with the Op Amp implement the differentiator function. R1 and Cf stabalized the feedback loop. Rp prevents Ib from producing a dc offset at the op amp output. Capacitor Cp is required to bypass the thermal noise of Rp to ground and to maintain loop stability. A more compresive description of the circuit can be found in the referenced hadbook.\n",
    "\n",
    "$\\large{\\color {red} {\\text{describe circuit operation}}}$  \n",
    "\n",
    "describe what each component does in the circuit and the overall operation of the circuit. \n",
    "\n",
    "- R1\n",
    "- C1\n",
    "- R2\n",
    "- Rp\n",
    "- Rf\n",
    "- Cf\n",
    "- Cp\n",
    "- V1\n",
    "- U1\n",
    "\n",
    "<!--\n",
    "The basic circuit which will perform this function requires the op amp, C1, and Rf in Fig. 15.1. The other parts (R1, Cf, Rp and Cp) have been added for reasons to be explained below. R1 and Cf, if properly sized, will stabilize the feedback loop, which is inherently unstable in the basic differentiator circuit. Referring to Fig. 15.2, if R1 is not present, the open- and closed-loop frequency responses of the circuit inter- sect at 40 dB/decade (12 dB/octave). As shown in Chap. 3, the intersection should be 20 dB/decade (6 dB/octave) or less to provide absolute stability. \n",
    "\n",
    "Most op amps have another open-loop pole near fu which leads to more instability. Cf does not allow the closed-loop gain curve to intersect the open-loop curve until the unity-gain crossover frequency has been exceeded. This provides an additional measure of stability.\n",
    "\n",
    "Rp prevents Ib from producing a dc offset at the op amp output. Rp can be made adjustable from <Rf to >Rf to cancel out the effects of both Ib and Iio \n",
    "\n",
    "Capacitor Cp is required to bypass the thermal noise of Rp to ground and to maintain loop stability. It is added only if R, is greater than 5 or 10 k ohms. Cp is chosen so that its reactance is less than one-tenth Rp for all frequencies down to fd, if possible. See Chap. 3 for a discussion of the feedback-stability aspects of Cp and Rp.\n",
    "\n",
    "INTRODUCTION\n",
    "An integrator is a low-pass filter, and a differentiator is a high-pass filter. Each of these two circuits therefore performs a mathematical function which is the inverse of the other. Even though these circuits are related mathematically, the practical problems associated with each are completely different. The prime differentiator problems are noise and instability. The integrator is prone to de drift and offset.\n",
    "\n",
    "15.1 DIFFERENTIATOR\n",
    "\n",
    "ALTERNATE NAMES First-derivative circuit, differentiating amplifier, high- pass filter.\n",
    "\n",
    "EXPLANATION OF OPERATION \n",
    "An ideal differentiator produces an instantane- ous output voltage which is precisely proportional to the instantaneous derivative of the input voltage. The basic circuit which will perform this function requires the op amp, C1, and Rf in Fig. 15.1. The other parts (R1, Cf, Rp and Cp) have been added for reasons to be explained below. R1 and Cf, if properly sized, will stabilize the feedback loop, which is inherently unstable in the basic differentiator circuit. Referring to Fig. 15.2, if R1 is not present, the open- and closed-loop frequency responses of the circuit inter- sect at 40 dB/decade (12 dB/octave). As shown in Chap. 3, the intersection should be 20 dB/decade (6 dB/octave) or less to provide absolute stability. \n",
    "\n",
    "Most op amps have another open-loop pole near fu which leads to more instability. Cf does not allow the closed-loop gain curve to intersect the open-loop curve until the unity-gain crossover frequency has been exceeded. This provides an additional measure of stability.\n",
    "\n",
    "Rp prevents Ib from producing a dc offset at the op amp output. Rp can be made adjustable from <Rf to >Rf to cancel out the effects of both Ib and Iio \n",
    "\n",
    "Capacitor Cp is required to bypass the thermal noise of Rp to ground and to maintain loop stability. It is added only if R, is greater than 5 or 10 k ohms. Cp is chosen so that its reactance is less than one-tenth Rp for all frequencies down to fd, if possible. See Chap. 3 for a discussion of the feedback-stability aspects of Cp and Rp.\n",
    "\n",
    "Since this circuit is sensitive to the slope of the input signal, the designer must be aware of the relation between maximum input slope and maximum output voltage:\n",
    "\n",
    "$v_o(max) = R_fC_1 \\frac {\\mathrm d v_i}{\\mathrm d t} (max)$\n",
    "\n",
    "If the possibility exists that input slopes steeper than the above maximum slope may be present, the zener-diode clamp is recommended. These zeners will prevent C1 from acquiring a charge when unipolar noise bursts occur. This avoids a temporary paralysis of the input which could possibly last for a period of time after the burst.\n",
    "\n",
    "True differentiation will occur for frequencies below fcp1. Beyond this frequency the circuit behaves as a voltage amplifier with progressively lower gain at higher frequencies.\n",
    "    \n",
    "DESIGN EXAMPLE As a practical example suppose we need to generate a rectangular waveform from a sawtooth waveform. The maximum input slope is given to be ±0.1 V/us. The resulting maximum output voltage should be +10 V.\n",
    "    \n",
    "```\n",
    "Device Data (108 op amp)\n",
    "Vio = 2 mV max at +25°C\n",
    "Iio = 0.2 nA max at +25°C \n",
    "Vn = 50 nV/Hz1/2\n",
    "In (not specified for 108)\n",
    "fop1 = 20 Hz (minimum compensation) \n",
    "fop2 = 2 MHz (minimum compensation) \n",
    "fu= 3 MHz (minimum compensation) \n",
    "Rid = 3 × 10^7 ohms\n",
    "```\n",
    "Also see LTSpice circuits folder for OCR of pages\n",
    "\n",
    "-->\n",
    "\n",
    "The schamitic for the circuit was entered into LTSpice and the netlist was exported.\n",
    "\n",
    "```\n",
    "XU1 5 4 2 opamp Aol=100K GBW=10Meg\n",
    "V1 1 0 AC 1\n",
    "R1 3 1 1.129k\n",
    "Rf 2 5 20k\n",
    "Rp 0 4 20k\n",
    "C1 5 3 0.005µ\n",
    "Cf 2 5 70p\n",
    "Cp 0 4 0.05µ\n",
    "```\n",
    "The netlist was editited as shown below."
   ]
  },
  {
   "cell_type": "code",
   "execution_count": 74,
   "id": "cddf102e-2386-4c85-a025-ec986d78ddb0",
   "metadata": {},
   "outputs": [],
   "source": [
    "net_list = '''\n",
    "O1 5 4 2 \n",
    "V1 1 0 1\n",
    "R1 3 1 1.129e3\n",
    "Rf 2 5 20e3\n",
    "Rp 0 4 20e3\n",
    "C1 5 3 0.005e-6\n",
    "Cf 2 5 70e-12\n",
    "Cp 0 4 0.05e-6\n",
    "'''"
   ]
  },
  {
   "cell_type": "markdown",
   "id": "929db52b-c80f-4c97-a342-b558907ad968",
   "metadata": {},
   "source": [
    "Generate the network equations."
   ]
  },
  {
   "cell_type": "code",
   "execution_count": 75,
   "id": "9ca75a68-5fcd-4dfc-a70a-89eff746727b",
   "metadata": {},
   "outputs": [],
   "source": [
    "report, network_df, df2, A, X, Z = SymMNA.smna(net_list)\n",
    "\n",
    "# Put matricies into SymPy \n",
    "X = Matrix(X)\n",
    "Z = Matrix(Z)\n",
    "\n",
    "NE_sym = Eq(A*X,Z)"
   ]
  },
  {
   "cell_type": "markdown",
   "id": "8dcd9cfa-f4ff-46b2-abf4-054f4ea91633",
   "metadata": {},
   "source": [
    "Generate markdown text to display the network equations."
   ]
  },
  {
   "cell_type": "code",
   "execution_count": 76,
   "id": "2b1c5031-28c9-4867-a5fb-09865077bbe5",
   "metadata": {},
   "outputs": [
    {
     "data": {
      "text/markdown": [
       "$I_{V1} + \\frac{v_{1}}{R_{1}} - \\frac{v_{3}}{R_{1}} = 0$<br>$I_{O1} + v_{2} \\left(Cf s + \\frac{1}{Rf}\\right) + v_{5} \\left(- Cf s - \\frac{1}{Rf}\\right) = 0$<br>$- C_{1} s v_{5} + v_{3} \\left(C_{1} s + \\frac{1}{R_{1}}\\right) - \\frac{v_{1}}{R_{1}} = 0$<br>$v_{4} \\left(Cp s + \\frac{1}{Rp}\\right) = 0$<br>$- C_{1} s v_{3} + v_{2} \\left(- Cf s - \\frac{1}{Rf}\\right) + v_{5} \\left(C_{1} s + Cf s + \\frac{1}{Rf}\\right) = 0$<br>$v_{1} = V_{1}$<br>$- v_{4} + v_{5} = 0$<br>"
      ],
      "text/plain": [
       "<IPython.core.display.Markdown object>"
      ]
     },
     "execution_count": 76,
     "metadata": {},
     "output_type": "execute_result"
    }
   ],
   "source": [
    "temp = ''\n",
    "for i in range(len(X)):\n",
    "    temp += '${:s}$<br>'.format(latex(Eq((A*X)[i:i+1][0],Z[i])))\n",
    "\n",
    "Markdown(temp)"
   ]
  },
  {
   "cell_type": "markdown",
   "id": "01cf0ccf-a48e-4696-a4c2-ed25bd05af7e",
   "metadata": {},
   "source": [
    "The symbols generated by the Python code are extraced by the SymPy function free_symbols and then declared as SymPy variables. "
   ]
  },
  {
   "cell_type": "code",
   "execution_count": 77,
   "id": "35c401e0-493d-4cec-a912-1d85d8488366",
   "metadata": {},
   "outputs": [
    {
     "data": {
      "image/png": "[encoded data removed]",
      "text/latex": [
       "$\\displaystyle \\left( I_{V1}, \\  Cf, \\  v_{5}, \\  V_{1}, \\  v_{2}, \\  v_{1}, \\  C_{1}, \\  s, \\  Rf, \\  v_{3}, \\  Rp, \\  Cp, \\  I_{O1}, \\  R_{1}, \\  v_{4}\\right)$"
      ],
      "text/plain": [
       "(I_V1, Cf, v₅, V₁, v₂, v₁, C₁, s, Rf, v₃, Rp, Cp, I_O1, R₁, v₄)"
      ]
     },
     "execution_count": 77,
     "metadata": {},
     "output_type": "execute_result"
    }
   ],
   "source": [
    "# turn the free symbols into SymPy variables\n",
    "var(str(NE_sym.free_symbols).replace('{','').replace('}',''))"
   ]
  },
  {
   "cell_type": "markdown",
   "id": "c697755d-1b1a-4105-82fc-dd873c71dc78",
   "metadata": {},
   "source": [
    "Solve the equations."
   ]
  },
  {
   "cell_type": "code",
   "execution_count": 78,
   "id": "dbdc9a94-4f92-4a4b-a191-007d29f4e08e",
   "metadata": {},
   "outputs": [
    {
     "data": {
      "text/markdown": [
       "$v_{1} = V_{1}$<br>$v_{2} = - \\frac{C_{1} Rf V_{1} s}{C_{1} Cf R_{1} Rf s^{2} + C_{1} R_{1} s + Cf Rf s + 1}$<br>$v_{3} = \\frac{V_{1}}{C_{1} R_{1} s + 1}$<br>$v_{4} = 0$<br>$v_{5} = 0$<br>$I_{V1} = - \\frac{C_{1} V_{1} s}{C_{1} R_{1} s + 1}$<br>$I_{O1} = \\frac{C_{1} V_{1} s}{C_{1} R_{1} s + 1}$<br>"
      ],
      "text/plain": [
       "<IPython.core.display.Markdown object>"
      ]
     },
     "execution_count": 78,
     "metadata": {},
     "output_type": "execute_result"
    }
   ],
   "source": [
    "U_sym = solve(NE_sym,X)\n",
    "\n",
    "temp = ''\n",
    "for i in U_sym.keys():\n",
    "    temp += '${:s} = {:s}$<br>'.format(latex(i),latex(U_sym[i]))\n",
    "\n",
    "Markdown(temp)"
   ]
  },
  {
   "cell_type": "markdown",
   "id": "81492fff-b84d-4bf3-8d12-c30dac6ce507",
   "metadata": {},
   "source": [
    "Solving for the transfer function at node 2."
   ]
  },
  {
   "cell_type": "code",
   "execution_count": 79,
   "id": "c2e0de53-0a4c-49e5-80cd-db04a6a2c3c9",
   "metadata": {},
   "outputs": [
    {
     "data": {
      "image/png": "[encoded data removed]",
      "text/latex": [
       "$\\displaystyle - \\frac{C_{1} Rf s}{C_{1} Cf R_{1} Rf s^{2} + C_{1} R_{1} s + Cf Rf s + 1}$"
      ],
      "text/plain": [
       "              -C₁⋅Rf⋅s                \n",
       "──────────────────────────────────────\n",
       "             2                        \n",
       "C₁⋅Cf⋅R₁⋅Rf⋅s  + C₁⋅R₁⋅s + Cf⋅Rf⋅s + 1"
      ]
     },
     "execution_count": 79,
     "metadata": {},
     "output_type": "execute_result"
    }
   ],
   "source": [
    "H_sym = U_sym[v2]/U_sym[v1]\n",
    "H_sym.simplify()"
   ]
  },
  {
   "cell_type": "code",
   "execution_count": null,
   "id": "98b4c29e-abee-4736-b15d-f411eee9b3c0",
   "metadata": {},
   "outputs": [],
   "source": []
  },
  {
   "cell_type": "code",
   "execution_count": 80,
   "id": "2cd26dfc-b6fe-40ed-b557-f8b8241d4033",
   "metadata": {},
   "outputs": [
    {
     "data": {
      "image/png": "[encoded data removed]",
      "text/latex": [
       "$\\displaystyle - \\frac{C_{1} Rf V_{1} s}{C_{1} Cf R_{1} Rf s^{2} + C_{1} R_{1} s + Cf Rf s + 1}$"
      ],
      "text/plain": [
       "             -C₁⋅Rf⋅V₁⋅s              \n",
       "──────────────────────────────────────\n",
       "             2                        \n",
       "C₁⋅Cf⋅R₁⋅Rf⋅s  + C₁⋅R₁⋅s + Cf⋅Rf⋅s + 1"
      ]
     },
     "execution_count": 80,
     "metadata": {},
     "output_type": "execute_result"
    }
   ],
   "source": [
    "U_sym[v2]"
   ]
  },
  {
   "cell_type": "code",
   "execution_count": 81,
   "id": "b2639d99-d9c8-413a-a6aa-e57f109fc936",
   "metadata": {},
   "outputs": [
    {
     "data": {
      "image/png": "[encoded data removed]",
      "text/latex": [
       "$\\displaystyle \\frac{V_{1} \\left(- C_{1} R_{1} e^{\\frac{t \\left(i \\left(\\operatorname{re}{\\left(Cf\\right)} \\operatorname{im}{\\left(Rf\\right)} + \\operatorname{re}{\\left(Rf\\right)} \\operatorname{im}{\\left(Cf\\right)}\\right) - \\operatorname{re}{\\left(Cf\\right)} \\operatorname{re}{\\left(Rf\\right)} + \\operatorname{im}{\\left(Cf\\right)} \\operatorname{im}{\\left(Rf\\right)}\\right)}{\\left(\\left(\\operatorname{re}{\\left(Cf\\right)}\\right)^{2} + \\left(\\operatorname{im}{\\left(Cf\\right)}\\right)^{2}\\right) \\left(\\left(\\operatorname{re}{\\left(Rf\\right)}\\right)^{2} + \\left(\\operatorname{im}{\\left(Rf\\right)}\\right)^{2}\\right)}} + Cf Rf e^{\\frac{t \\left(i \\left(\\operatorname{re}{\\left(C_{1}\\right)} \\operatorname{im}{\\left(R_{1}\\right)} + \\operatorname{re}{\\left(R_{1}\\right)} \\operatorname{im}{\\left(C_{1}\\right)}\\right) - \\operatorname{re}{\\left(C_{1}\\right)} \\operatorname{re}{\\left(R_{1}\\right)} + \\operatorname{im}{\\left(C_{1}\\right)} \\operatorname{im}{\\left(R_{1}\\right)}\\right)}{\\left(\\left(\\operatorname{re}{\\left(C_{1}\\right)}\\right)^{2} + \\left(\\operatorname{im}{\\left(C_{1}\\right)}\\right)^{2}\\right) \\left(\\left(\\operatorname{re}{\\left(R_{1}\\right)}\\right)^{2} + \\left(\\operatorname{im}{\\left(R_{1}\\right)}\\right)^{2}\\right)}}\\right)}{Cf R_{1} \\left(C_{1} R_{1} - Cf Rf\\right)}$"
      ],
      "text/plain": [
       "   ⎛         t⋅(ⅈ⋅(re(Cf)⋅im(Rf) + re(Rf)⋅im(Cf)) - re(Cf)⋅re(Rf) + im(Cf)⋅im(\n",
       "   ⎜         ─────────────────────────────────────────────────────────────────\n",
       "   ⎜                        ⎛  2         2    ⎞ ⎛  2         2    ⎞           \n",
       "   ⎜                        ⎝re (Cf) + im (Cf)⎠⋅⎝re (Rf) + im (Rf)⎠           \n",
       "V₁⋅⎝- C₁⋅R₁⋅ℯ                                                                 \n",
       "──────────────────────────────────────────────────────────────────────────────\n",
       "                                                                      Cf⋅R₁⋅(C\n",
       "\n",
       "Rf))          t⋅(ⅈ⋅(re(C₁)⋅im(R₁) + re(R₁)⋅im(C₁)) - re(C₁)⋅re(R₁) + im(C₁)⋅im\n",
       "────          ────────────────────────────────────────────────────────────────\n",
       "                             ⎛  2         2    ⎞ ⎛  2         2    ⎞          \n",
       "                             ⎝re (C₁) + im (C₁)⎠⋅⎝re (R₁) + im (R₁)⎠          \n",
       "     + Cf⋅Rf⋅ℯ                                                                \n",
       "──────────────────────────────────────────────────────────────────────────────\n",
       "₁⋅R₁ - Cf⋅Rf)                                                                 \n",
       "\n",
       "(R₁))⎞\n",
       "─────⎟\n",
       "     ⎟\n",
       "     ⎟\n",
       "     ⎠\n",
       "──────\n",
       "      "
      ]
     },
     "execution_count": 81,
     "metadata": {},
     "output_type": "execute_result"
    }
   ],
   "source": [
    "inverse_laplace_transform(U_sym[v2], s, t)"
   ]
  },
  {
   "cell_type": "code",
   "execution_count": null,
   "id": "016ef732-db9e-4ab6-8b72-84f8aabe341e",
   "metadata": {},
   "outputs": [],
   "source": []
  },
  {
   "cell_type": "code",
   "execution_count": 82,
   "id": "2bfef562-f4ed-48ab-8fe1-041340fa48c5",
   "metadata": {},
   "outputs": [
    {
     "data": {
      "text/latex": [
       "$\\displaystyle \\left\\{ C_{1} : 5.0 \\cdot 10^{-9}, \\  Cf : 7.0 \\cdot 10^{-11}, \\  Cp : 5.0 \\cdot 10^{-8}, \\  O_{1} : \\text{NaN}, \\  R_{1} : 1129.0, \\  Rf : 20000.0, \\  Rp : 20000.0, \\  V_{1} : 1.0\\right\\}$"
      ],
      "text/plain": [
       "{C₁: 5e-09, Cf: 7e-11, Cp: 5e-08, O₁: nan, R₁: 1129.0, Rf: 20000.0, Rp: 20000.\n",
       "0, V₁: 1.0}"
      ]
     },
     "execution_count": 82,
     "metadata": {},
     "output_type": "execute_result"
    }
   ],
   "source": [
    "element_values = SymMNA.get_part_values(network_df)\n",
    "element_values"
   ]
  },
  {
   "cell_type": "code",
   "execution_count": 83,
   "id": "157b6d9c-8015-42cf-85a2-a395d8d965a1",
   "metadata": {},
   "outputs": [
    {
     "data": {
      "text/latex": [
       "$\\displaystyle \\left[\\begin{matrix}I_{V1} + 0.000885739592559787 v_{1} - 0.000885739592559787 v_{3}\\\\I_{O1} + v_{2} \\cdot \\left(7.0 \\cdot 10^{-11} s + 5.0 \\cdot 10^{-5}\\right) + v_{5} \\left(- 7.0 \\cdot 10^{-11} s - 5.0 \\cdot 10^{-5}\\right)\\\\- 5.0 \\cdot 10^{-9} s v_{5} - 0.000885739592559787 v_{1} + v_{3} \\cdot \\left(5.0 \\cdot 10^{-9} s + 0.000885739592559787\\right)\\\\v_{4} \\cdot \\left(5.0 \\cdot 10^{-8} s + 5.0 \\cdot 10^{-5}\\right)\\\\- 5.0 \\cdot 10^{-9} s v_{3} + v_{2} \\left(- 7.0 \\cdot 10^{-11} s - 5.0 \\cdot 10^{-5}\\right) + v_{5} \\cdot \\left(5.07 \\cdot 10^{-9} s + 5.0 \\cdot 10^{-5}\\right)\\\\v_{1}\\\\- v_{4} + v_{5}\\end{matrix}\\right] = \\left[\\begin{matrix}0\\\\0\\\\0\\\\0\\\\0\\\\\\frac{1}{s}\\\\0\\end{matrix}\\right]$"
      ],
      "text/plain": [
       "                                                                              \n",
       "⎡          I_V1 + 0.000885739592559787⋅v₁ - 0.000885739592559787⋅v₃           \n",
       "⎢                                                                             \n",
       "⎢          I_O1 + v₂⋅(7.0e-11⋅s + 5.0e-5) + v₅⋅(-7.0e-11⋅s - 5.0e-5)          \n",
       "⎢                                                                             \n",
       "⎢-5.0e-9⋅s⋅v₅ - 0.000885739592559787⋅v₁ + v₃⋅(5.0e-9⋅s + 0.000885739592559787)\n",
       "⎢                                                                             \n",
       "⎢                           v₄⋅(5.0e-8⋅s + 5.0e-5)                            \n",
       "⎢                                                                             \n",
       "⎢      -5.0e-9⋅s⋅v₃ + v₂⋅(-7.0e-11⋅s - 5.0e-5) + v₅⋅(5.07e-9⋅s + 5.0e-5)      \n",
       "⎢                                                                             \n",
       "⎢                                     v₁                                      \n",
       "⎢                                                                             \n",
       "⎣                                  -v₄ + v₅                                   \n",
       "                                                                              \n",
       "\n",
       "    ⎡0⎤\n",
       "⎤   ⎢ ⎥\n",
       "⎥   ⎢0⎥\n",
       "⎥   ⎢ ⎥\n",
       "⎥   ⎢0⎥\n",
       "⎥   ⎢ ⎥\n",
       "⎥   ⎢0⎥\n",
       "⎥ = ⎢ ⎥\n",
       "⎥   ⎢0⎥\n",
       "⎥   ⎢ ⎥\n",
       "⎥   ⎢1⎥\n",
       "⎥   ⎢─⎥\n",
       "⎥   ⎢s⎥\n",
       "⎦   ⎢ ⎥\n",
       "    ⎣0⎦"
      ]
     },
     "execution_count": 83,
     "metadata": {},
     "output_type": "execute_result"
    }
   ],
   "source": [
    "element_values[V1] = laplace_transform(1*Heaviside(t), t, s)[0] # step function as a test\n",
    "#element_values[V1] = laplace_transform(400*exp(-0.1*t)*sin(4*t), t, s)[0] # driving function in example\n",
    "NE = NE_sym.subs(element_values)\n",
    "NE"
   ]
  },
  {
   "cell_type": "code",
   "execution_count": 84,
   "id": "5100de7e-dea8-4cca-a772-ddfdc3e5cee4",
   "metadata": {},
   "outputs": [
    {
     "data": {
      "text/markdown": [
       "$v_{1} = \\frac{1}{s}$<br>$v_{2} = - \\frac{4.42869796279894 \\cdot 10^{17}}{35000000000.0 s^{2} + 3.12001771479185 \\cdot 10^{16} s + 4.42869796279894 \\cdot 10^{21}}$<br>$v_{3} = \\frac{885739592559787.0}{5000000000.0 s^{2} + 885739592559787.0 s}$<br>$v_{4} = 0.0$<br>$v_{5} = 0.0$<br>$I_{V1} = - \\frac{885739592559787.0}{1.0 \\cdot 10^{18} s + 1.77147918511957 \\cdot 10^{23}}$<br>$I_{O1} = \\frac{885739592559787.0}{1.0 \\cdot 10^{18} s + 1.77147918511957 \\cdot 10^{23}}$<br>"
      ],
      "text/plain": [
       "<IPython.core.display.Markdown object>"
      ]
     },
     "execution_count": 84,
     "metadata": {},
     "output_type": "execute_result"
    }
   ],
   "source": [
    "U = solve(NE,X)\n",
    "\n",
    "temp = ''\n",
    "for i in U.keys():\n",
    "    temp += '${:s} = {:s}$<br>'.format(latex(i),latex(U[i]))\n",
    "\n",
    "Markdown(temp)"
   ]
  },
  {
   "cell_type": "code",
   "execution_count": 85,
   "id": "a78fe580-a0c7-441c-aed4-23a8f9503488",
   "metadata": {},
   "outputs": [
    {
     "data": {
      "image/png": "[encoded data removed]",
      "text/latex": [
       "$\\displaystyle 23.5571260306243 e^{- 714285.714285714 t} - 23.5571260306243 e^{- 177147.918511957 t}$"
      ],
      "text/plain": [
       "                  -714285.714285714⋅t                     -177147.918511957⋅t\n",
       "23.5571260306243⋅ℯ                    - 23.5571260306243⋅ℯ                   "
      ]
     },
     "execution_count": 85,
     "metadata": {},
     "output_type": "execute_result"
    }
   ],
   "source": [
    "inverse_laplace_transform(U[v2], s, t)"
   ]
  },
  {
   "cell_type": "code",
   "execution_count": null,
   "id": "ec19df0a-4fb9-4233-b9b4-fec64a137c62",
   "metadata": {},
   "outputs": [],
   "source": []
  },
  {
   "cell_type": "markdown",
   "id": "bcae174c-afdd-4d02-ae16-79318eff09e7",
   "metadata": {
    "tags": []
   },
   "source": [
    "## Generalized Impedance Converter (GIC) circuit\n",
    "![GIC circuit](GIC-circuit.png){#fig-GIC-circuit width=400}  "
   ]
  },
  {
   "cell_type": "markdown",
   "id": "5c276a22-1589-4b09-b794-86e45a20f726",
   "metadata": {
    "tags": []
   },
   "source": [
    "See @Williams1995\n",
    "\n",
    "The circuit of figure 3-31 is known as a generalized impedance converter (GIC), The driving-point impedance can be expressed as\n",
    " \n",
    "By substituting RC combinations of up to two capacitors for Z1 through Zs, a variety of impedances can be simulated. If, for instance, Z4 consists of a capacitor having an impedance 1/sC, where s = jo and all other elements are resistors, the driving-point impedance is given by\n",
    "\n",
    "The impedance is proportional to frequency and is therefore identical to an\n",
    "inductor having a value of\n",
    "\n",
    "See @Bruton1978\n",
    "\n",
    "$\\large{\\color {red} {\\text{describe circuit operation}}}$  \n",
    "\n",
    "describe what each component does in the circuit and the overall operation of the circuit. \n",
    "\n",
    "- R1 through R5\n",
    "- V1\n",
    "- U1, U2\n",
    "\n",
    "\n",
    "[Gee, I see! The Ins and Outs of Generalized Impedance Converters](https://www.planetanalog.com/gee-i-see-the-ins-and-outs-of-generalized-impedance-converters/)\n",
    "\n",
    "[Lowpass Filters That Don’t: A Tale of Leakage Current](https://www.planetanalog.com/lowpass-filters-that-dont-a-tale-of-leakage-current/)\n",
    "\n",
    "[Filter DC Voltages Outside Your Supply Rails](https://www.planetanalog.com/filter-dc-voltages-outside-your-supply-rails/)\n",
    "\n",
    "\n",
    "Negative impedance converter\n",
    "https://en.wikipedia.org/wiki/Negative_impedance_converter\n",
    "\n",
    "```\n",
    "If two capacitors are introduced for Z, and Z3 and Z2, Z4, and Zs are resistors, the resulting driving-point impedance expression can be expressed in the form of\n",
    "Rs\n",
    "Z11=\n",
    "s2C2R2R4\n",
    "(3-62)\n",
    "An impedance proportional to 1/s2 is called a D element, whose driving-point impedance is given by\n",
    "Z11=\n",
    "17123\n",
    "Equation (3-62) therefore defines a D element having the value\n",
    "D=\n",
    "C2R2R4 Rs\n",
    "(3-63)\n",
    "(3-64)\n",
    "If we let C = 1 F, R2 = Rs = 122, and R4 = R, equation (3-64) simplifies to D = R. In order to gain some insight into the nature of this element, let us substitute s=jo into equation (3-62). The resulting expression is\n",
    "Z11=\n",
    "R5 w2C2R2R4\n",
    "(3-65)\n",
    "Equation (3-65) corresponds to a frequency-dependent negative resistor (FDNR).\n",
    "A GIC in the form of a normalized D element and its schematic designation are shown in figure 3-33. Bruton (see bibliography) has shown how the FDNR or D ele- ment can be used to generate active filters directly from the LC normalized low-pass prototype values. This technique will now be described.\n",
    "\n",
    "The 1/s Transformation. If all the impedances of an LC filter network are multi- plied by 1/s, the transfer function remains unchanged. This operation is equivalent to\n",
    "\n",
    "```\n",
    "\n",
    "```\n",
    "* C:\\users\\jeff64\\My Documents\\Modeling Op Amps\\GIC circuit.asc\n",
    "XU2 3 1 4 opamp Aol=100K GBW=10Meg\n",
    "V1 1 0 1\n",
    "XU1 3 5 2 opamp Aol=100K GBW=10Meg\n",
    "R2 2 3 1\n",
    "R4 4 5 1\n",
    "R5 5 0 1\n",
    "R1 1 2 1\n",
    "R3 3 4 1\n",
    ".lib opamp.sub\n",
    "* GIC Fig 3-31\n",
    ";ac dec 100 0.01 10\n",
    ".op\n",
    ".backanno\n",
    ".end\n",
    "```"
   ]
  },
  {
   "cell_type": "markdown",
   "id": "730b7328-f70b-47fc-b4a8-80d78f26b996",
   "metadata": {},
   "source": [
    "### Basic GIC"
   ]
  },
  {
   "cell_type": "code",
   "execution_count": 41,
   "id": "9e44a465-b947-4508-adea-e85764e5f656",
   "metadata": {},
   "outputs": [],
   "source": [
    "# basic\n",
    "net_list = '''\n",
    "O2 3 1 4 \n",
    "V1 1 0 1\n",
    "O1 3 5 2\n",
    "R1 1 2 1\n",
    "R2 2 3 1\n",
    "R3 3 4 1\n",
    "R4 4 5 1\n",
    "R5 5 0 1\n",
    "'''"
   ]
  },
  {
   "cell_type": "code",
   "execution_count": 42,
   "id": "5616baa0-2d25-4e5b-b7ec-83d85049283e",
   "metadata": {},
   "outputs": [],
   "source": [
    "report, network_df, df2, A, X, Z = SymMNA.smna(net_list)\n",
    "\n",
    "# Put matricies into SymPy \n",
    "X = Matrix(X)\n",
    "Z = Matrix(Z)\n",
    "\n",
    "NE_sym = Eq(A*X,Z)"
   ]
  },
  {
   "cell_type": "code",
   "execution_count": 43,
   "id": "c25c1707-1e40-4781-a69a-2546cc8440f3",
   "metadata": {},
   "outputs": [
    {
     "data": {
      "text/markdown": [
       "$I_{V1} + \\frac{v_{1}}{R_{1}} - \\frac{v_{2}}{R_{1}} = 0$<br>$I_{O1} + v_{2} \\cdot \\left(\\frac{1}{R_{2}} + \\frac{1}{R_{1}}\\right) - \\frac{v_{3}}{R_{2}} - \\frac{v_{1}}{R_{1}} = 0$<br>$v_{3} \\cdot \\left(\\frac{1}{R_{3}} + \\frac{1}{R_{2}}\\right) - \\frac{v_{4}}{R_{3}} - \\frac{v_{2}}{R_{2}} = 0$<br>$I_{O2} + v_{4} \\cdot \\left(\\frac{1}{R_{4}} + \\frac{1}{R_{3}}\\right) - \\frac{v_{5}}{R_{4}} - \\frac{v_{3}}{R_{3}} = 0$<br>$v_{5} \\cdot \\left(\\frac{1}{R_{5}} + \\frac{1}{R_{4}}\\right) - \\frac{v_{4}}{R_{4}} = 0$<br>$v_{1} = V_{1}$<br>$- v_{1} + v_{3} = 0$<br>$v_{3} - v_{5} = 0$<br>"
      ],
      "text/plain": [
       "<IPython.core.display.Markdown object>"
      ]
     },
     "execution_count": 43,
     "metadata": {},
     "output_type": "execute_result"
    }
   ],
   "source": [
    "temp = ''\n",
    "for i in range(len(X)):\n",
    "    temp += '${:s}$<br>'.format(latex(Eq((A*X)[i:i+1][0],Z[i])))\n",
    "\n",
    "Markdown(temp)"
   ]
  },
  {
   "cell_type": "markdown",
   "id": "1c1b521a-a0f5-4455-bf25-989e3364972d",
   "metadata": {},
   "source": [
    "The symbols generated by the Python code are extraced by the SymPy function free_symbols and then declared as SymPy variables. "
   ]
  },
  {
   "cell_type": "code",
   "execution_count": 44,
   "id": "dd6fd36c-7c1e-4c34-8f28-bf3dcf207aa4",
   "metadata": {},
   "outputs": [
    {
     "data": {
      "image/png": "[encoded data removed]",
      "text/latex": [
       "$\\displaystyle \\left( R_{1}, \\  v_{2}, \\  I_{O1}, \\  I_{O2}, \\  V_{1}, \\  R_{4}, \\  R_{3}, \\  I_{V1}, \\  R_{2}, \\  v_{3}, \\  v_{5}, \\  R_{5}, \\  v_{4}, \\  v_{1}\\right)$"
      ],
      "text/plain": [
       "(R₁, v₂, I_O1, I_O2, V₁, R₄, R₃, I_V1, R₂, v₃, v₅, R₅, v₄, v₁)"
      ]
     },
     "execution_count": 44,
     "metadata": {},
     "output_type": "execute_result"
    }
   ],
   "source": [
    "# turn the free symbols into SymPy variables\n",
    "var(str(NE_sym.free_symbols).replace('{','').replace('}',''))"
   ]
  },
  {
   "cell_type": "markdown",
   "id": "eff3b487-29bf-4b2f-860a-9e295a9cfc10",
   "metadata": {},
   "source": [
    "Solve the equations and display the results."
   ]
  },
  {
   "cell_type": "code",
   "execution_count": 45,
   "id": "75287814-4e54-4c7b-a69a-72a45e89e2fb",
   "metadata": {},
   "outputs": [
    {
     "data": {
      "text/markdown": [
       "$v_{1} = V_{1}$<br>$v_{2} = \\frac{- R_{2} R_{4} V_{1} + R_{3} R_{5} V_{1}}{R_{3} R_{5}}$<br>$v_{3} = V_{1}$<br>$v_{4} = \\frac{R_{4} V_{1} + R_{5} V_{1}}{R_{5}}$<br>$v_{5} = V_{1}$<br>$I_{V1} = - \\frac{R_{2} R_{4} V_{1}}{R_{1} R_{3} R_{5}}$<br>$I_{O2} = \\frac{- R_{3} V_{1} - R_{4} V_{1}}{R_{3} R_{5}}$<br>$I_{O1} = \\frac{R_{1} R_{4} V_{1} + R_{2} R_{4} V_{1}}{R_{1} R_{3} R_{5}}$<br>"
      ],
      "text/plain": [
       "<IPython.core.display.Markdown object>"
      ]
     },
     "execution_count": 45,
     "metadata": {},
     "output_type": "execute_result"
    }
   ],
   "source": [
    "U_sym = solve(NE_sym,X)\n",
    "\n",
    "temp = ''\n",
    "for i in U_sym.keys():\n",
    "    temp += '${:s} = {:s}$<br>'.format(latex(i),latex(U_sym[i]))\n",
    "\n",
    "Markdown(temp)"
   ]
  },
  {
   "cell_type": "markdown",
   "id": "2499554c-15a6-497e-8f40-cdd12fc79d2e",
   "metadata": {},
   "source": [
    "Solving for the impedance at node 1."
   ]
  },
  {
   "cell_type": "code",
   "execution_count": 46,
   "id": "8045e64a-90eb-4571-8dd4-2de47192d985",
   "metadata": {},
   "outputs": [
    {
     "data": {
      "image/png": "[encoded data removed]",
      "text/latex": [
       "$\\displaystyle \\frac{R_{1} R_{3} R_{5}}{R_{2} R_{4}}$"
      ],
      "text/plain": [
       "R₁⋅R₃⋅R₅\n",
       "────────\n",
       " R₂⋅R₄  "
      ]
     },
     "execution_count": 46,
     "metadata": {},
     "output_type": "execute_result"
    }
   ],
   "source": [
    "Z_sym = U_sym[v1]/(-U_sym[I_V1])\n",
    "Z_sym #.simplify()"
   ]
  },
  {
   "cell_type": "code",
   "execution_count": null,
   "id": "8257cfad-420a-4dde-bd7a-45134aabd865",
   "metadata": {},
   "outputs": [],
   "source": []
  },
  {
   "cell_type": "markdown",
   "id": "2bcf96a8-41b1-45d5-87bb-df899f38a088",
   "metadata": {},
   "source": [
    "### Inductor"
   ]
  },
  {
   "cell_type": "code",
   "execution_count": 47,
   "id": "87ca308d-e8ac-486c-b702-e35be4116ca4",
   "metadata": {},
   "outputs": [],
   "source": [
    "# inductor\n",
    "net_list = '''\n",
    "O2 3 1 4 \n",
    "V1 1 0 1\n",
    "O1 3 5 2\n",
    "R1 1 2 1\n",
    "R2 2 3 1\n",
    "R3 3 4 1\n",
    "*R4 4 5 1\n",
    "C 4 5 1\n",
    "R5 5 0 1\n",
    "'''"
   ]
  },
  {
   "cell_type": "code",
   "execution_count": 48,
   "id": "989cebe5-c364-4602-9837-f4fabe1b4461",
   "metadata": {},
   "outputs": [],
   "source": [
    "report, network_df, df2, A, X, Z = SymMNA.smna(net_list)\n",
    "\n",
    "# Put matricies into SymPy \n",
    "X = Matrix(X)\n",
    "Z = Matrix(Z)\n",
    "\n",
    "NE_sym = Eq(A*X,Z)"
   ]
  },
  {
   "cell_type": "code",
   "execution_count": 49,
   "id": "376744ce-5f66-4ecc-95cc-15c59c030c98",
   "metadata": {},
   "outputs": [
    {
     "data": {
      "text/markdown": [
       "$I_{V1} + \\frac{v_{1}}{R_{1}} - \\frac{v_{2}}{R_{1}} = 0$<br>$I_{O1} + v_{2} \\cdot \\left(\\frac{1}{R_{2}} + \\frac{1}{R_{1}}\\right) - \\frac{v_{3}}{R_{2}} - \\frac{v_{1}}{R_{1}} = 0$<br>$v_{3} \\cdot \\left(\\frac{1}{R_{3}} + \\frac{1}{R_{2}}\\right) - \\frac{v_{4}}{R_{3}} - \\frac{v_{2}}{R_{2}} = 0$<br>$- C s v_{5} + I_{O2} + v_{4} \\left(C s + \\frac{1}{R_{3}}\\right) - \\frac{v_{3}}{R_{3}} = 0$<br>$- C s v_{4} + v_{5} \\left(C s + \\frac{1}{R_{5}}\\right) = 0$<br>$v_{1} = V_{1}$<br>$- v_{1} + v_{3} = 0$<br>$v_{3} - v_{5} = 0$<br>"
      ],
      "text/plain": [
       "<IPython.core.display.Markdown object>"
      ]
     },
     "execution_count": 49,
     "metadata": {},
     "output_type": "execute_result"
    }
   ],
   "source": [
    "temp = ''\n",
    "for i in range(len(X)):\n",
    "    temp += '${:s}$<br>'.format(latex(Eq((A*X)[i:i+1][0],Z[i])))\n",
    "\n",
    "Markdown(temp)"
   ]
  },
  {
   "cell_type": "markdown",
   "id": "bfb5e44e-24ef-446e-9f30-dd6e57adfaa3",
   "metadata": {},
   "source": [
    "The symbols generated by the Python code are extraced by the SymPy function free_symbols and then declared as SymPy variables. "
   ]
  },
  {
   "cell_type": "code",
   "execution_count": 50,
   "id": "729cc024-1c3f-4646-8540-79e3fb3454b7",
   "metadata": {},
   "outputs": [
    {
     "data": {
      "image/png": "[encoded data removed]",
      "text/latex": [
       "$\\displaystyle \\left( R_{1}, \\  C, \\  v_{2}, \\  I_{O1}, \\  I_{O2}, \\  V_{1}, \\  s, \\  R_{3}, \\  I_{V1}, \\  R_{2}, \\  v_{3}, \\  v_{5}, \\  R_{5}, \\  v_{4}, \\  v_{1}\\right)$"
      ],
      "text/plain": [
       "(R₁, C, v₂, I_O1, I_O2, V₁, s, R₃, I_V1, R₂, v₃, v₅, R₅, v₄, v₁)"
      ]
     },
     "execution_count": 50,
     "metadata": {},
     "output_type": "execute_result"
    }
   ],
   "source": [
    "# turn the free symbols into SymPy variables\n",
    "var(str(NE_sym.free_symbols).replace('{','').replace('}',''))"
   ]
  },
  {
   "cell_type": "markdown",
   "id": "c2389f98-dedb-4dda-966d-3f0ec241e2e1",
   "metadata": {},
   "source": [
    "Solve the equations and display the results."
   ]
  },
  {
   "cell_type": "code",
   "execution_count": 51,
   "id": "0707cb71-9671-4218-b9e1-0f2298124f0f",
   "metadata": {},
   "outputs": [
    {
     "data": {
      "text/markdown": [
       "$v_{1} = V_{1}$<br>$v_{2} = \\frac{C R_{3} R_{5} V_{1} s - R_{2} V_{1}}{C R_{3} R_{5} s}$<br>$v_{3} = V_{1}$<br>$v_{4} = \\frac{C R_{5} V_{1} s + V_{1}}{C R_{5} s}$<br>$v_{5} = V_{1}$<br>$I_{V1} = - \\frac{R_{2} V_{1}}{C R_{1} R_{3} R_{5} s}$<br>$I_{O2} = \\frac{- C R_{3} V_{1} s - V_{1}}{C R_{3} R_{5} s}$<br>$I_{O1} = \\frac{R_{1} V_{1} + R_{2} V_{1}}{C R_{1} R_{3} R_{5} s}$<br>"
      ],
      "text/plain": [
       "<IPython.core.display.Markdown object>"
      ]
     },
     "execution_count": 51,
     "metadata": {},
     "output_type": "execute_result"
    }
   ],
   "source": [
    "U_sym = solve(NE_sym,X)\n",
    "\n",
    "temp = ''\n",
    "for i in U_sym.keys():\n",
    "    temp += '${:s} = {:s}$<br>'.format(latex(i),latex(U_sym[i]))\n",
    "\n",
    "Markdown(temp)"
   ]
  },
  {
   "cell_type": "markdown",
   "id": "1e4d23f9-7a85-4200-941a-99644fb1acb1",
   "metadata": {},
   "source": [
    "Solving for the impedance at node 1."
   ]
  },
  {
   "cell_type": "code",
   "execution_count": 52,
   "id": "eca4cef3-b2a5-4384-be2f-c99479d6e2dc",
   "metadata": {},
   "outputs": [
    {
     "data": {
      "image/png": "[encoded data removed]",
      "text/latex": [
       "$\\displaystyle \\frac{C R_{1} R_{3} R_{5} s}{R_{2}}$"
      ],
      "text/plain": [
       "C⋅R₁⋅R₃⋅R₅⋅s\n",
       "────────────\n",
       "     R₂     "
      ]
     },
     "execution_count": 52,
     "metadata": {},
     "output_type": "execute_result"
    }
   ],
   "source": [
    "Z_sym = U_sym[v1]/(-U_sym[I_V1])\n",
    "Z_sym #.simplify()"
   ]
  },
  {
   "cell_type": "code",
   "execution_count": null,
   "id": "1d6a2dd7-a4e6-420c-b528-b566dab18a59",
   "metadata": {},
   "outputs": [],
   "source": []
  },
  {
   "cell_type": "markdown",
   "id": "e9cc2bc5-572b-48a9-b41f-0902f3d2ac71",
   "metadata": {},
   "source": [
    "### D element - frequency dependent negative resistor\n",
    "\n",
    "[Frequency-dependent negative resistor](https://en.wikipedia.org/wiki/Frequency-dependent_negative_resistor)"
   ]
  },
  {
   "cell_type": "code",
   "execution_count": 53,
   "id": "6917cf92-186c-495c-8b20-404b9fdb0eaa",
   "metadata": {},
   "outputs": [],
   "source": [
    "# D element - frequency dependent negative resistor\n",
    "net_list = '''\n",
    "O2 3 1 4 \n",
    "V1 1 0 1\n",
    "O1 3 5 2\n",
    "*R1 1 2 1\n",
    "C1 1 2 1\n",
    "R2 2 3 1\n",
    "*R3 3 4 1\n",
    "C3 3 4 1\n",
    "R4 4 5 1\n",
    "R5 5 0 1\n",
    "'''"
   ]
  },
  {
   "cell_type": "code",
   "execution_count": 54,
   "id": "4177a034-a6c2-4c31-8853-2f5851f8ac36",
   "metadata": {},
   "outputs": [],
   "source": [
    "report, network_df, df2, A, X, Z = SymMNA.smna(net_list)\n",
    "\n",
    "# Put matricies into SymPy \n",
    "X = Matrix(X)\n",
    "Z = Matrix(Z)\n",
    "\n",
    "NE_sym = Eq(A*X,Z)"
   ]
  },
  {
   "cell_type": "code",
   "execution_count": 55,
   "id": "c3f4207b-c2f1-417d-ad34-6ddb49e7b541",
   "metadata": {},
   "outputs": [
    {
     "data": {
      "text/markdown": [
       "$C_{1} s v_{1} - C_{1} s v_{2} + I_{V1} = 0$<br>$- C_{1} s v_{1} + I_{O1} + v_{2} \\left(C_{1} s + \\frac{1}{R_{2}}\\right) - \\frac{v_{3}}{R_{2}} = 0$<br>$- C_{3} s v_{4} + v_{3} \\left(C_{3} s + \\frac{1}{R_{2}}\\right) - \\frac{v_{2}}{R_{2}} = 0$<br>$- C_{3} s v_{3} + I_{O2} + v_{4} \\left(C_{3} s + \\frac{1}{R_{4}}\\right) - \\frac{v_{5}}{R_{4}} = 0$<br>$v_{5} \\cdot \\left(\\frac{1}{R_{5}} + \\frac{1}{R_{4}}\\right) - \\frac{v_{4}}{R_{4}} = 0$<br>$v_{1} = V_{1}$<br>$- v_{1} + v_{3} = 0$<br>$v_{3} - v_{5} = 0$<br>"
      ],
      "text/plain": [
       "<IPython.core.display.Markdown object>"
      ]
     },
     "execution_count": 55,
     "metadata": {},
     "output_type": "execute_result"
    }
   ],
   "source": [
    "temp = ''\n",
    "for i in range(len(X)):\n",
    "    temp += '${:s}$<br>'.format(latex(Eq((A*X)[i:i+1][0],Z[i])))\n",
    "\n",
    "Markdown(temp)"
   ]
  },
  {
   "cell_type": "markdown",
   "id": "e6ac2990-1276-4531-a165-d2829904d349",
   "metadata": {},
   "source": [
    "The symbols generated by the Python code are extraced by the SymPy function free_symbols and then declared as SymPy variables. "
   ]
  },
  {
   "cell_type": "code",
   "execution_count": 56,
   "id": "0aca3cb5-398a-4e7f-ac34-638ed86cfe5b",
   "metadata": {},
   "outputs": [
    {
     "data": {
      "image/png": "[encoded data removed]",
      "text/latex": [
       "$\\displaystyle \\left( v_{2}, \\  I_{O1}, \\  I_{O2}, \\  V_{1}, \\  s, \\  R_{4}, \\  I_{V1}, \\  R_{2}, \\  v_{3}, \\  C_{3}, \\  v_{5}, \\  R_{5}, \\  C_{1}, \\  v_{4}, \\  v_{1}\\right)$"
      ],
      "text/plain": [
       "(v₂, I_O1, I_O2, V₁, s, R₄, I_V1, R₂, v₃, C₃, v₅, R₅, C₁, v₄, v₁)"
      ]
     },
     "execution_count": 56,
     "metadata": {},
     "output_type": "execute_result"
    }
   ],
   "source": [
    "# turn the free symbols into SymPy variables\n",
    "var(str(NE_sym.free_symbols).replace('{','').replace('}',''))"
   ]
  },
  {
   "cell_type": "markdown",
   "id": "fbe5441a-491b-48f3-9476-e3119db965f2",
   "metadata": {},
   "source": [
    "Solve the equations and display the results."
   ]
  },
  {
   "cell_type": "code",
   "execution_count": 57,
   "id": "f59612db-166b-420a-a0be-9e25076f00e8",
   "metadata": {},
   "outputs": [
    {
     "data": {
      "text/markdown": [
       "$v_{1} = V_{1}$<br>$v_{2} = \\frac{- C_{3} R_{2} R_{4} V_{1} s + R_{5} V_{1}}{R_{5}}$<br>$v_{3} = V_{1}$<br>$v_{4} = \\frac{R_{4} V_{1} + R_{5} V_{1}}{R_{5}}$<br>$v_{5} = V_{1}$<br>$I_{V1} = - \\frac{C_{1} C_{3} R_{2} R_{4} V_{1} s^{2}}{R_{5}}$<br>$I_{O2} = \\frac{- C_{3} R_{4} V_{1} s - V_{1}}{R_{5}}$<br>$I_{O1} = \\frac{C_{1} C_{3} R_{2} R_{4} V_{1} s^{2} + C_{3} R_{4} V_{1} s}{R_{5}}$<br>"
      ],
      "text/plain": [
       "<IPython.core.display.Markdown object>"
      ]
     },
     "execution_count": 57,
     "metadata": {},
     "output_type": "execute_result"
    }
   ],
   "source": [
    "U_sym = solve(NE_sym,X)\n",
    "\n",
    "temp = ''\n",
    "for i in U_sym.keys():\n",
    "    temp += '${:s} = {:s}$<br>'.format(latex(i),latex(U_sym[i]))\n",
    "\n",
    "Markdown(temp)"
   ]
  },
  {
   "cell_type": "markdown",
   "id": "4b91586e-b4fb-4643-ab0e-72e9af50d175",
   "metadata": {},
   "source": [
    "Solving for the impedance at node 1."
   ]
  },
  {
   "cell_type": "code",
   "execution_count": 58,
   "id": "32e3fb9e-dbea-4908-b833-85cc88f67b72",
   "metadata": {},
   "outputs": [
    {
     "data": {
      "image/png": "[encoded data removed]",
      "text/latex": [
       "$\\displaystyle \\frac{R_{5}}{C_{1} C_{3} R_{2} R_{4} s^{2}}$"
      ],
      "text/plain": [
       "      R₅      \n",
       "──────────────\n",
       "             2\n",
       "C₁⋅C₃⋅R₂⋅R₄⋅s "
      ]
     },
     "execution_count": 58,
     "metadata": {},
     "output_type": "execute_result"
    }
   ],
   "source": [
    "Z_sym = U_sym[v1]/(-U_sym[I_V1])\n",
    "Z_sym #.simplify()"
   ]
  },
  {
   "cell_type": "code",
   "execution_count": null,
   "id": "87aa8749-7fda-4a09-b2f1-589fa489e870",
   "metadata": {},
   "outputs": [],
   "source": []
  },
  {
   "cell_type": "markdown",
   "id": "64e82e3c-5c6b-4335-a633-f916288d8310",
   "metadata": {
    "tags": []
   },
   "source": [
    "## Generalized Impedance Converter Filter\n",
    "![GIC-LP-filter](GIC-LP-filter.png){#fig-GIC-LP-filter width=500}  "
   ]
  },
  {
   "cell_type": "markdown",
   "id": "7884e5b1-21a2-4ff2-ab46-41214fb697d1",
   "metadata": {
    "tags": []
   },
   "source": [
    "The design method proceeds by first selecting a normalized low-pass LC filter. All capacitors must be restricted to the shunt arms only, since they will be trans- formed into D elements which are connected to ground. The dual LC filter defined by the lower schematic in the tables of chapter 11 is usually chosen to be trans- formed. The circuit elements are modified by the 1/s transformation, and the D elements are realized using the normalized GIC circuit of figure 3-33. The transformed filter is then frequency- and impedance-scaled in the conventional manner. The fol- lowing example demonstrates the design of an all-pole active low-pass filter using the 1/s impedance transformation and the GIC.\n",
    "\n",
    "If all the impedances (including the source and load impedances) of a passive ladder filter are divided by sk, the transfer function is not changed. The effect of this division is to transform resistors into capacitors, inductors into resistors and capacitors into FDNRs. The purpose of this transformation is to eliminate inductors which are often problematic components. This technique is especially useful when all the capacitors are grounded. If the technique is applied to capacitors that are not grounded, the resulting FDNRs are floating (neither end is grounded), which in practice, can be difficult to stabilize. \n",
    "\n",
    "The resulting circuit has two problems. Practical FDNRs require a DC path to ground. The DC transfer function has a value of (R6)/(R1 + R6). The transformed ladder filter realizes the DC transfer gain as the ratio of two capacitors. In the ideal case, this is valid, but in the practical case there is always some, usually unpredictable, finite resistance across the capacitors so that the DC performance of the transformed ladder is unpredictable. Ra and Rb are added to the circuit to mitigate these problems. If Rb/(Ra + Rb + L3/k + L5/k) = (R6)/(R1 + R6) then the DC gain of the transformed circuit is the same as the predecessor circuit. Finally, if Ra and Rb are large with respect to the other resistors there is little effect on the filter's transition band and high frequency behavior.[3]: 292 \n",
    "\n",
    "\n",
    "$\\large{\\color {red} {\\text{describe circuit operation}}}$  \n",
    "\n",
    "describe what each component does in the circuit and the overall operation of the circuit. \n",
    "\n",
    "- R1 through R5\n",
    "- V1\n",
    "- U1, U2\n",
    "\n",
    "```\n",
    "EXAMPLE 3-16\n",
    "REQUIRED:\n",
    "Active low-pass filter 3 dB to 400 Hz\n",
    "20 dB minimum at 1200 Hz Minimal ringing and overshoot\n",
    "RESULT:\n",
    "(a) Compute the steepness factor.\n",
    "\n",
    "(b) Since low transient distortion is desired, a linear phase filter with a phase error of 0.5° will be selected. The curves of figure 2-62 indicate that a filter complexity of n = 3 provides over 20 dB of attenuation at 3 rad/s.\n",
    "The 1/s transformation and a GIC realization will be used.\n",
    "(c) The normalized LC low-pass filter from table 11-47 corresponding to n = 3 is shown in figure 3-34a. The dual circuit has been selected so that only a single D element will be required.\n",
    "(d) The normalized filter is transformed in accordance with table 3-1, resulting in the cir- cuit of figure 3-34b. The D element is realized using the normalized GIC configura- tion of figure 3-33, as shown in figure 3-34c.\n",
    "(e) Since all normalized capacitors are 1 F, it would be desirable if they were all denor- malized to a standard value such as 0.01 μF. Using an FSF of 2rf, or 2513 and a C'of 0.01 uF, the required impedance-scaling factor can be found by solving equation (2-10) for Z as follows:\n",
    "Z=\n",
    "C\n",
    "1\n",
    "FSFX C' 2513 x 0.01 x 10-6\n",
    "```\n",
    "\n",
    "```\n",
    "* C:\\users\\jeff64\\My Documents\\Modeling Op Amps\\GIC-LP-Filter.asc\n",
    "XU2 6 4 7 opamp Aol=100K GBW=10Meg\n",
    "V1 1 0 AC 1\n",
    "XU1 6 8 5 opamp Aol=100K GBW=10Meg\n",
    "C1 3 1 1\n",
    "C2 5 4 1\n",
    "C3 7 6 1\n",
    "C4 0 2 1\n",
    "R2 5 6 1\n",
    "R3 7 8 1.0218\n",
    "R4 8 0 1\n",
    "R1 4 3 0.5534\n",
    "R5 2 4 2.425\n",
    "Rb 2 0 10Meg\n",
    "Ra 3 1 10Meg\n",
    ".lib opamp.sub\n",
    "* Filter Handbook Fig. 3-34c\n",
    ".ac dec 100 0.01 10\n",
    ".backanno\n",
    ".end\n",
    "```"
   ]
  },
  {
   "cell_type": "markdown",
   "id": "0bd9a62f-25f1-4e84-8f28-765ee9ed1ecd",
   "metadata": {
    "tags": []
   },
   "source": [
    "The netlist for @fig-GIC-LP-filter is pasted into the cell below.\n",
    "\n",
    "Ra and Rb are commented out. Why?"
   ]
  },
  {
   "cell_type": "code",
   "execution_count": 59,
   "id": "1f94b0ce-c75e-4950-8033-7a2c117aa625",
   "metadata": {},
   "outputs": [],
   "source": [
    "net_list = '''\n",
    "O2 6 4 7 \n",
    "V1 1 0 1\n",
    "O1 6 8 5 \n",
    "C1 3 1 1\n",
    "C2 5 4 1\n",
    "C3 7 6 1\n",
    "C4 0 2 1\n",
    "R2 5 6 1\n",
    "R3 7 8 1.0218\n",
    "R4 8 0 1\n",
    "R1 4 3 0.5534\n",
    "R5 2 4 2.425\n",
    "*Rb 2 0 10e6\n",
    "*Ra 3 1 10e6\n",
    "'''"
   ]
  },
  {
   "cell_type": "markdown",
   "id": "c347f4cd-df5f-47a8-bc6a-812f87f5f749",
   "metadata": {},
   "source": [
    "Generate the network equations.\n",
    "\n",
    "Generate markdown text to display the network equations."
   ]
  },
  {
   "cell_type": "code",
   "execution_count": 60,
   "id": "7a903b6c-7221-4d83-8d45-a50602a64074",
   "metadata": {},
   "outputs": [
    {
     "data": {
      "text/markdown": [
       "$C_{1} s v_{1} - C_{1} s v_{3} + I_{V1} = 0$<br>$v_{2} \\left(C_{4} s + \\frac{1}{R_{5}}\\right) - \\frac{v_{4}}{R_{5}} = 0$<br>$- C_{1} s v_{1} + v_{3} \\left(C_{1} s + \\frac{1}{R_{1}}\\right) - \\frac{v_{4}}{R_{1}} = 0$<br>$- C_{2} s v_{5} + v_{4} \\left(C_{2} s + \\frac{1}{R_{5}} + \\frac{1}{R_{1}}\\right) - \\frac{v_{2}}{R_{5}} - \\frac{v_{3}}{R_{1}} = 0$<br>$- C_{2} s v_{4} + I_{O1} + v_{5} \\left(C_{2} s + \\frac{1}{R_{2}}\\right) - \\frac{v_{6}}{R_{2}} = 0$<br>$- C_{3} s v_{7} + v_{6} \\left(C_{3} s + \\frac{1}{R_{2}}\\right) - \\frac{v_{5}}{R_{2}} = 0$<br>$- C_{3} s v_{6} + I_{O2} + v_{7} \\left(C_{3} s + \\frac{1}{R_{3}}\\right) - \\frac{v_{8}}{R_{3}} = 0$<br>$v_{8} \\cdot \\left(\\frac{1}{R_{4}} + \\frac{1}{R_{3}}\\right) - \\frac{v_{7}}{R_{3}} = 0$<br>$v_{1} = V_{1}$<br>$- v_{4} + v_{6} = 0$<br>$v_{6} - v_{8} = 0$<br>"
      ],
      "text/plain": [
       "<IPython.core.display.Markdown object>"
      ]
     },
     "execution_count": 60,
     "metadata": {},
     "output_type": "execute_result"
    }
   ],
   "source": [
    "report, network_df, df2, A, X, Z = SymMNA.smna(net_list)\n",
    "\n",
    "# Put matricies into SymPy \n",
    "X = Matrix(X)\n",
    "Z = Matrix(Z)\n",
    "\n",
    "NE_sym = Eq(A*X,Z)\n",
    "\n",
    "temp = ''\n",
    "for i in range(len(X)):\n",
    "    temp += '${:s}$<br>'.format(latex(Eq((A*X)[i:i+1][0],Z[i])))\n",
    "\n",
    "Markdown(temp)"
   ]
  },
  {
   "cell_type": "markdown",
   "id": "fbaba96b-ac8c-41ca-b4f6-34f326dfc301",
   "metadata": {},
   "source": [
    "The symbols generated by the Python code are extraced by the SymPy function free_symbols and then declared as SymPy variables. "
   ]
  },
  {
   "cell_type": "code",
   "execution_count": 61,
   "id": "0a2d8c64-86bc-4811-8ec2-75026962ff0a",
   "metadata": {},
   "outputs": [
    {
     "data": {
      "image/png": "[encoded data removed]",
      "text/latex": [
       "$\\displaystyle \\left( I_{O2}, \\  s, \\  R_{3}, \\  R_{4}, \\  C_{2}, \\  R_{2}, \\  v_{8}, \\  R_{5}, \\  v_{4}, \\  v_{1}, \\  R_{1}, \\  v_{2}, \\  I_{O1}, \\  V_{1}, \\  v_{6}, \\  C_{4}, \\  I_{V1}, \\  v_{3}, \\  v_{5}, \\  C_{3}, \\  C_{1}, \\  v_{7}\\right)$"
      ],
      "text/plain": [
       "(I_O2, s, R₃, R₄, C₂, R₂, v₈, R₅, v₄, v₁, R₁, v₂, I_O1, V₁, v₆, C₄, I_V1, v₃, \n",
       "v₅, C₃, C₁, v₇)"
      ]
     },
     "execution_count": 61,
     "metadata": {},
     "output_type": "execute_result"
    }
   ],
   "source": [
    "# turn the free symbols into SymPy variables\n",
    "var(str(NE_sym.free_symbols).replace('{','').replace('}',''))"
   ]
  },
  {
   "cell_type": "markdown",
   "id": "de1dadad-bf3c-42c5-8c6b-f213be52ce5b",
   "metadata": {},
   "source": [
    "### Symbolic transfer function\n",
    "Solving for the transfer function at node 2."
   ]
  },
  {
   "cell_type": "code",
   "execution_count": 62,
   "id": "5b2f5107-2e4f-4ab9-8ed4-e30b8122b40b",
   "metadata": {},
   "outputs": [
    {
     "data": {
      "image/png": "[encoded data removed]",
      "text/latex": [
       "$\\displaystyle \\frac{C_{1} R_{4}}{C_{1} C_{2} C_{3} C_{4} R_{1} R_{2} R_{3} R_{5} s^{3} + C_{1} C_{2} C_{3} R_{1} R_{2} R_{3} s^{2} + C_{1} C_{4} R_{1} R_{4} s + C_{1} C_{4} R_{4} R_{5} s + C_{1} R_{4} + C_{2} C_{3} C_{4} R_{2} R_{3} R_{5} s^{2} + C_{2} C_{3} R_{2} R_{3} s + C_{4} R_{4}}$"
      ],
      "text/plain": [
       "                                                                 C₁⋅R₄        \n",
       "──────────────────────────────────────────────────────────────────────────────\n",
       "                         3                      2                             \n",
       "C₁⋅C₂⋅C₃⋅C₄⋅R₁⋅R₂⋅R₃⋅R₅⋅s  + C₁⋅C₂⋅C₃⋅R₁⋅R₂⋅R₃⋅s  + C₁⋅C₄⋅R₁⋅R₄⋅s + C₁⋅C₄⋅R₄⋅R\n",
       "\n",
       "                                                          \n",
       "──────────────────────────────────────────────────────────\n",
       "                                 2                        \n",
       "₅⋅s + C₁⋅R₄ + C₂⋅C₃⋅C₄⋅R₂⋅R₃⋅R₅⋅s  + C₂⋅C₃⋅R₂⋅R₃⋅s + C₄⋅R₄"
      ]
     },
     "execution_count": 62,
     "metadata": {},
     "output_type": "execute_result"
    }
   ],
   "source": [
    "U_sym = solve(NE_sym,X)\n",
    "\n",
    "H_sym = U_sym[v2]/U_sym[v1]\n",
    "H_sym"
   ]
  },
  {
   "cell_type": "code",
   "execution_count": 63,
   "id": "fb862378-c58a-48b5-96ce-921a5b9ab74b",
   "metadata": {},
   "outputs": [],
   "source": [
    "num, den = fraction(H_sym)"
   ]
  },
  {
   "cell_type": "code",
   "execution_count": 64,
   "id": "a81a6df9-e25a-4bc1-a203-d0c9efe9aa63",
   "metadata": {},
   "outputs": [
    {
     "data": {
      "image/png": "[encoded data removed]",
      "text/latex": [
       "$\\displaystyle C_{1} R_{4}$"
      ],
      "text/plain": [
       "C₁⋅R₄"
      ]
     },
     "execution_count": 64,
     "metadata": {},
     "output_type": "execute_result"
    }
   ],
   "source": [
    "num"
   ]
  },
  {
   "cell_type": "code",
   "execution_count": 65,
   "id": "388c313a-5606-4280-bd60-198d4b950d9b",
   "metadata": {},
   "outputs": [
    {
     "data": {
      "image/png": "[encoded data removed]",
      "text/latex": [
       "$\\displaystyle C_{1} C_{2} C_{3} C_{4} R_{1} R_{2} R_{3} R_{5} s^{3} + C_{1} C_{2} C_{3} R_{1} R_{2} R_{3} s^{2} + C_{1} C_{4} R_{1} R_{4} s + C_{1} C_{4} R_{4} R_{5} s + C_{1} R_{4} + C_{2} C_{3} C_{4} R_{2} R_{3} R_{5} s^{2} + C_{2} C_{3} R_{2} R_{3} s + C_{4} R_{4}$"
      ],
      "text/plain": [
       "                         3                      2                             \n",
       "C₁⋅C₂⋅C₃⋅C₄⋅R₁⋅R₂⋅R₃⋅R₅⋅s  + C₁⋅C₂⋅C₃⋅R₁⋅R₂⋅R₃⋅s  + C₁⋅C₄⋅R₁⋅R₄⋅s + C₁⋅C₄⋅R₄⋅R\n",
       "\n",
       "                                 2                        \n",
       "₅⋅s + C₁⋅R₄ + C₂⋅C₃⋅C₄⋅R₂⋅R₃⋅R₅⋅s  + C₂⋅C₃⋅R₂⋅R₃⋅s + C₄⋅R₄"
      ]
     },
     "execution_count": 65,
     "metadata": {},
     "output_type": "execute_result"
    }
   ],
   "source": [
    "den"
   ]
  },
  {
   "cell_type": "code",
   "execution_count": 66,
   "id": "cdb43ebe-46f9-4cfd-bb6a-eb0053a4eda2",
   "metadata": {},
   "outputs": [],
   "source": [
    "p = solve(den,s)"
   ]
  },
  {
   "cell_type": "code",
   "execution_count": 67,
   "id": "3d9cc829-a37e-4c3e-92c8-ff5be1710657",
   "metadata": {},
   "outputs": [
    {
     "data": {
      "image/png": "[encoded data removed]",
      "text/latex": [
       "$\\displaystyle 3$"
      ],
      "text/plain": [
       "3"
      ]
     },
     "execution_count": 67,
     "metadata": {},
     "output_type": "execute_result"
    }
   ],
   "source": [
    "len(p)"
   ]
  },
  {
   "cell_type": "code",
   "execution_count": 68,
   "id": "9479a145-ba09-4675-a29f-1886524b6fb0",
   "metadata": {},
   "outputs": [
    {
     "data": {
      "image/png": "[encoded data removed]",
      "text/latex": [
       "$\\displaystyle - \\frac{- \\frac{3 \\left(C_{1} C_{4} R_{1} R_{4} + C_{1} C_{4} R_{4} R_{5} + C_{2} C_{3} R_{2} R_{3}\\right)}{C_{1} C_{2} C_{3} C_{4} R_{1} R_{2} R_{3} R_{5}} + \\frac{\\left(C_{1} R_{1} + C_{4} R_{5}\\right)^{2}}{C_{1}^{2} C_{4}^{2} R_{1}^{2} R_{5}^{2}}}{3 \\sqrt[3]{\\frac{\\sqrt{- 4 \\left(- \\frac{3 \\left(C_{1} C_{4} R_{1} R_{4} + C_{1} C_{4} R_{4} R_{5} + C_{2} C_{3} R_{2} R_{3}\\right)}{C_{1} C_{2} C_{3} C_{4} R_{1} R_{2} R_{3} R_{5}} + \\frac{\\left(C_{1} R_{1} + C_{4} R_{5}\\right)^{2}}{C_{1}^{2} C_{4}^{2} R_{1}^{2} R_{5}^{2}}\\right)^{3} + \\left(\\frac{27 \\left(C_{1} R_{4} + C_{4} R_{4}\\right)}{C_{1} C_{2} C_{3} C_{4} R_{1} R_{2} R_{3} R_{5}} - \\frac{9 \\left(C_{1} R_{1} + C_{4} R_{5}\\right) \\left(C_{1} C_{4} R_{1} R_{4} + C_{1} C_{4} R_{4} R_{5} + C_{2} C_{3} R_{2} R_{3}\\right)}{C_{1}^{2} C_{2} C_{3} C_{4}^{2} R_{1}^{2} R_{2} R_{3} R_{5}^{2}} + \\frac{2 \\left(C_{1} R_{1} + C_{4} R_{5}\\right)^{3}}{C_{1}^{3} C_{4}^{3} R_{1}^{3} R_{5}^{3}}\\right)^{2}}}{2} + \\frac{27 \\left(C_{1} R_{4} + C_{4} R_{4}\\right)}{2 C_{1} C_{2} C_{3} C_{4} R_{1} R_{2} R_{3} R_{5}} - \\frac{9 \\left(C_{1} R_{1} + C_{4} R_{5}\\right) \\left(C_{1} C_{4} R_{1} R_{4} + C_{1} C_{4} R_{4} R_{5} + C_{2} C_{3} R_{2} R_{3}\\right)}{2 C_{1}^{2} C_{2} C_{3} C_{4}^{2} R_{1}^{2} R_{2} R_{3} R_{5}^{2}} + \\frac{\\left(C_{1} R_{1} + C_{4} R_{5}\\right)^{3}}{C_{1}^{3} C_{4}^{3} R_{1}^{3} R_{5}^{3}}}} - \\frac{\\sqrt[3]{\\frac{\\sqrt{- 4 \\left(- \\frac{3 \\left(C_{1} C_{4} R_{1} R_{4} + C_{1} C_{4} R_{4} R_{5} + C_{2} C_{3} R_{2} R_{3}\\right)}{C_{1} C_{2} C_{3} C_{4} R_{1} R_{2} R_{3} R_{5}} + \\frac{\\left(C_{1} R_{1} + C_{4} R_{5}\\right)^{2}}{C_{1}^{2} C_{4}^{2} R_{1}^{2} R_{5}^{2}}\\right)^{3} + \\left(\\frac{27 \\left(C_{1} R_{4} + C_{4} R_{4}\\right)}{C_{1} C_{2} C_{3} C_{4} R_{1} R_{2} R_{3} R_{5}} - \\frac{9 \\left(C_{1} R_{1} + C_{4} R_{5}\\right) \\left(C_{1} C_{4} R_{1} R_{4} + C_{1} C_{4} R_{4} R_{5} + C_{2} C_{3} R_{2} R_{3}\\right)}{C_{1}^{2} C_{2} C_{3} C_{4}^{2} R_{1}^{2} R_{2} R_{3} R_{5}^{2}} + \\frac{2 \\left(C_{1} R_{1} + C_{4} R_{5}\\right)^{3}}{C_{1}^{3} C_{4}^{3} R_{1}^{3} R_{5}^{3}}\\right)^{2}}}{2} + \\frac{27 \\left(C_{1} R_{4} + C_{4} R_{4}\\right)}{2 C_{1} C_{2} C_{3} C_{4} R_{1} R_{2} R_{3} R_{5}} - \\frac{9 \\left(C_{1} R_{1} + C_{4} R_{5}\\right) \\left(C_{1} C_{4} R_{1} R_{4} + C_{1} C_{4} R_{4} R_{5} + C_{2} C_{3} R_{2} R_{3}\\right)}{2 C_{1}^{2} C_{2} C_{3} C_{4}^{2} R_{1}^{2} R_{2} R_{3} R_{5}^{2}} + \\frac{\\left(C_{1} R_{1} + C_{4} R_{5}\\right)^{3}}{C_{1}^{3} C_{4}^{3} R_{1}^{3} R_{5}^{3}}}}{3} - \\frac{C_{1} R_{1} + C_{4} R_{5}}{3 C_{1} C_{4} R_{1} R_{5}}$"
      ],
      "text/plain": [
       "                                                                              \n",
       "                                                                              \n",
       "                                                                              \n",
       "                                                                              \n",
       "                                                                              \n",
       "                                                                              \n",
       "                                                                              \n",
       "                                                                              \n",
       "                                                                              \n",
       "                                                                              \n",
       "                                                                              \n",
       "- ────────────────────────────────────────────────────────────────────────────\n",
       "               _______________________________________________________________\n",
       "              ╱        _______________________________________________________\n",
       "             ╱        ╱                                                       \n",
       "            ╱        ╱      ⎛                                                 \n",
       "           ╱        ╱       ⎜  3⋅(C₁⋅C₄⋅R₁⋅R₄ + C₁⋅C₄⋅R₄⋅R₅ + C₂⋅C₃⋅R₂⋅R₃)   (\n",
       "          ╱        ╱    - 4⋅⎜- ─────────────────────────────────────────── + ─\n",
       "         ╱        ╱         ⎜            C₁⋅C₂⋅C₃⋅C₄⋅R₁⋅R₂⋅R₃⋅R₅              \n",
       "        ╱       ╲╱          ⎝                                                C\n",
       "  3⋅   ╱        ──────────────────────────────────────────────────────────────\n",
       "    3 ╱                                                                       \n",
       "    ╲╱                                                                        \n",
       "\n",
       "                                                                              \n",
       "                                                                              \n",
       "                                                                              \n",
       "                                                                              \n",
       "                                                                              \n",
       "                                                                              \n",
       "                                                                              \n",
       "                                                    3⋅(C₁⋅C₄⋅R₁⋅R₄ + C₁⋅C₄⋅R₄⋅\n",
       "                                                  - ──────────────────────────\n",
       "                                                              C₁⋅C₂⋅C₃⋅C₄⋅R₁⋅R\n",
       "                                                                              \n",
       "──────────────────────────────────────────────────────────────────────────────\n",
       "______________________________________________________________________________\n",
       "______________________________________________________________________________\n",
       "                3                                                             \n",
       "              2⎞    ⎛                                                         \n",
       "C₁⋅R₁ + C₄⋅R₅) ⎟    ⎜   27⋅(C₁⋅R₄ + C₄⋅R₄)     9⋅(C₁⋅R₁ + C₄⋅R₅)⋅(C₁⋅C₄⋅R₁⋅R₄ \n",
       "───────────────⎟  + ⎜─────────────────────── - ───────────────────────────────\n",
       " 2   2   2   2 ⎟    ⎜C₁⋅C₂⋅C₃⋅C₄⋅R₁⋅R₂⋅R₃⋅R₅                     2         2  \n",
       "₁ ⋅C₄ ⋅R₁ ⋅R₅  ⎠    ⎝                                          C₁ ⋅C₂⋅C₃⋅C₄ ⋅R\n",
       "──────────────────────────────────────────────────────────────────────────────\n",
       "                                 2                                            \n",
       "                                                                              \n",
       "\n",
       "                                                                              \n",
       "                                                                              \n",
       "                                                                              \n",
       "                                                                              \n",
       "                                                                              \n",
       "                                                                              \n",
       "                                   2                                          \n",
       "R₅ + C₂⋅C₃⋅R₂⋅R₃)   (C₁⋅R₁ + C₄⋅R₅)                                           \n",
       "───────────────── + ────────────────                                          \n",
       "₂⋅R₃⋅R₅               2   2   2   2                                           \n",
       "                    C₁ ⋅C₄ ⋅R₁ ⋅R₅                                            \n",
       "──────────────────────────────────────────────────────────────────────────────\n",
       "______________________________________________________________________________\n",
       "____________________________________________________                          \n",
       "                                                  2                           \n",
       "                                                3⎞                            \n",
       "+ C₁⋅C₄⋅R₄⋅R₅ + C₂⋅C₃⋅R₂⋅R₃)   2⋅(C₁⋅R₁ + C₄⋅R₅) ⎟                            \n",
       "──────────────────────────── + ──────────────────⎟                            \n",
       " 2         2                      3   3   3   3  ⎟                            \n",
       "₁ ⋅R₂⋅R₃⋅R₅                     C₁ ⋅C₄ ⋅R₁ ⋅R₅   ⎠         27⋅(C₁⋅R₄ + C₄⋅R₄) \n",
       "──────────────────────────────────────────────────── + ───────────────────────\n",
       "                                                       2⋅C₁⋅C₂⋅C₃⋅C₄⋅R₁⋅R₂⋅R₃⋅\n",
       "                                                                              \n",
       "\n",
       "                                                                              \n",
       "                                                                              \n",
       "                                                                              \n",
       "                                                                              \n",
       "                                                                              \n",
       "                                                                              \n",
       "                                                                              \n",
       "                                                                              \n",
       "                                                                              \n",
       "                                                                              \n",
       "                                                                              \n",
       "──────────────────────────────────────────────────────────────────────────────\n",
       "______________________________________________________________________________\n",
       "                                                                              \n",
       "                                                                              \n",
       "                                                                              \n",
       "                                                                              \n",
       "                                                                              \n",
       "                                                                              \n",
       "     9⋅(C₁⋅R₁ + C₄⋅R₅)⋅(C₁⋅C₄⋅R₁⋅R₄ + C₁⋅C₄⋅R₄⋅R₅ + C₂⋅C₃⋅R₂⋅R₃)   (C₁⋅R₁ + C₄\n",
       "── - ─────────────────────────────────────────────────────────── + ───────────\n",
       "R₅                      2         2   2         2                    3   3   3\n",
       "                    2⋅C₁ ⋅C₂⋅C₃⋅C₄ ⋅R₁ ⋅R₂⋅R₃⋅R₅                   C₁ ⋅C₄ ⋅R₁ \n",
       "\n",
       "                    __________________________________________________________\n",
       "                   ╱        __________________________________________________\n",
       "                  ╱        ╱                                                  \n",
       "                 ╱        ╱      ⎛                                            \n",
       "                ╱        ╱       ⎜  3⋅(C₁⋅C₄⋅R₁⋅R₄ + C₁⋅C₄⋅R₄⋅R₅ + C₂⋅C₃⋅R₂⋅R₃\n",
       "               ╱        ╱    - 4⋅⎜- ──────────────────────────────────────────\n",
       "              ╱        ╱         ⎜            C₁⋅C₂⋅C₃⋅C₄⋅R₁⋅R₂⋅R₃⋅R₅         \n",
       "             ╱       ╲╱          ⎝                                            \n",
       "            ╱        ─────────────────────────────────────────────────────────\n",
       "         3 ╱                                                                  \n",
       "         ╲╱                                                                   \n",
       "────── - ─────────────────────────────────────────────────────────────────────\n",
       "______                                                                        \n",
       "                                                                              \n",
       "                                                                              \n",
       "                                                                              \n",
       "                                                                              \n",
       "                                                                              \n",
       "    3                                                                         \n",
       "⋅R₅)                                                                          \n",
       "─────                                                                         \n",
       "   3                                                                          \n",
       "⋅R₅                                                                           \n",
       "\n",
       "______________________________________________________________________________\n",
       "______________________________________________________________________________\n",
       "                     3                                                        \n",
       "                   2⎞    ⎛                                                    \n",
       ")   (C₁⋅R₁ + C₄⋅R₅) ⎟    ⎜   27⋅(C₁⋅R₄ + C₄⋅R₄)     9⋅(C₁⋅R₁ + C₄⋅R₅)⋅(C₁⋅C₄⋅R\n",
       "─ + ────────────────⎟  + ⎜─────────────────────── - ──────────────────────────\n",
       "      2   2   2   2 ⎟    ⎜C₁⋅C₂⋅C₃⋅C₄⋅R₁⋅R₂⋅R₃⋅R₅                     2       \n",
       "    C₁ ⋅C₄ ⋅R₁ ⋅R₅  ⎠    ⎝                                          C₁ ⋅C₂⋅C₃⋅\n",
       "──────────────────────────────────────────────────────────────────────────────\n",
       "                                      2                                       \n",
       "                                                                              \n",
       "──────────────────────────────────────────────────────────────────────────────\n",
       "                                                                              \n",
       "                                                                              \n",
       "                                                                              \n",
       "                                                                              \n",
       "                                                                              \n",
       "                                                                              \n",
       "                                                                              \n",
       "                                                                              \n",
       "                                                                              \n",
       "                                                                              \n",
       "                                                                              \n",
       "\n",
       "______________________________________________________________________________\n",
       "_________________________________________________________                     \n",
       "                                                       2                      \n",
       "                                                     3⎞                       \n",
       "₁⋅R₄ + C₁⋅C₄⋅R₄⋅R₅ + C₂⋅C₃⋅R₂⋅R₃)   2⋅(C₁⋅R₁ + C₄⋅R₅) ⎟                       \n",
       "───────────────────────────────── + ──────────────────⎟                       \n",
       "  2   2         2                      3   3   3   3  ⎟                       \n",
       "C₄ ⋅R₁ ⋅R₂⋅R₃⋅R₅                     C₁ ⋅C₄ ⋅R₁ ⋅R₅   ⎠         27⋅(C₁⋅R₄ + C₄\n",
       "───────────────────────────────────────────────────────── + ──────────────────\n",
       "                                                            2⋅C₁⋅C₂⋅C₃⋅C₄⋅R₁⋅R\n",
       "                                                                              \n",
       "──────────────────────────────────────────────────────────────────────────────\n",
       "         3                                                                    \n",
       "                                                                              \n",
       "                                                                              \n",
       "                                                                              \n",
       "                                                                              \n",
       "                                                                              \n",
       "                                                                              \n",
       "                                                                              \n",
       "                                                                              \n",
       "                                                                              \n",
       "                                                                              \n",
       "\n",
       "______________________________________________________________________________\n",
       "                                                                              \n",
       "                                                                              \n",
       "                                                                              \n",
       "                                                                              \n",
       "                                                                              \n",
       "                                                                              \n",
       "⋅R₄)      9⋅(C₁⋅R₁ + C₄⋅R₅)⋅(C₁⋅C₄⋅R₁⋅R₄ + C₁⋅C₄⋅R₄⋅R₅ + C₂⋅C₃⋅R₂⋅R₃)   (C₁⋅R₁\n",
       "─────── - ─────────────────────────────────────────────────────────── + ──────\n",
       "₂⋅R₃⋅R₅                      2         2   2         2                    3   \n",
       "                         2⋅C₁ ⋅C₂⋅C₃⋅C₄ ⋅R₁ ⋅R₂⋅R₃⋅R₅                   C₁ ⋅C₄\n",
       "──────────────────────────────────────────────────────────────────────────────\n",
       "                                                                              \n",
       "                                                                              \n",
       "                                                                              \n",
       "                                                                              \n",
       "                                                                              \n",
       "                                                                              \n",
       "                                                                              \n",
       "                                                                              \n",
       "                                                                              \n",
       "                                                                              \n",
       "                                                                              \n",
       "\n",
       "___________                \n",
       "                           \n",
       "                           \n",
       "                           \n",
       "                           \n",
       "                           \n",
       "         3                 \n",
       " + C₄⋅R₅)                  \n",
       "──────────                 \n",
       "3   3   3                  \n",
       " ⋅R₁ ⋅R₅      C₁⋅R₁ + C₄⋅R₅\n",
       "─────────── - ─────────────\n",
       "              3⋅C₁⋅C₄⋅R₁⋅R₅\n",
       "                           \n",
       "                           \n",
       "                           \n",
       "                           \n",
       "                           \n",
       "                           \n",
       "                           \n",
       "                           \n",
       "                           \n",
       "                           "
      ]
     },
     "execution_count": 68,
     "metadata": {},
     "output_type": "execute_result"
    }
   ],
   "source": [
    "p[0]"
   ]
  },
  {
   "cell_type": "code",
   "execution_count": 69,
   "id": "34ebc776-f6d0-4899-a9bd-b79b0156e281",
   "metadata": {},
   "outputs": [
    {
     "data": {
      "image/png": "[encoded data removed]",
      "text/latex": [
       "$\\displaystyle - \\frac{- \\frac{3 \\left(C_{1} C_{4} R_{1} R_{4} + C_{1} C_{4} R_{4} R_{5} + C_{2} C_{3} R_{2} R_{3}\\right)}{C_{1} C_{2} C_{3} C_{4} R_{1} R_{2} R_{3} R_{5}} + \\frac{\\left(C_{1} R_{1} + C_{4} R_{5}\\right)^{2}}{C_{1}^{2} C_{4}^{2} R_{1}^{2} R_{5}^{2}}}{3 \\left(- \\frac{1}{2} - \\frac{\\sqrt{3} i}{2}\\right) \\sqrt[3]{\\frac{\\sqrt{- 4 \\left(- \\frac{3 \\left(C_{1} C_{4} R_{1} R_{4} + C_{1} C_{4} R_{4} R_{5} + C_{2} C_{3} R_{2} R_{3}\\right)}{C_{1} C_{2} C_{3} C_{4} R_{1} R_{2} R_{3} R_{5}} + \\frac{\\left(C_{1} R_{1} + C_{4} R_{5}\\right)^{2}}{C_{1}^{2} C_{4}^{2} R_{1}^{2} R_{5}^{2}}\\right)^{3} + \\left(\\frac{27 \\left(C_{1} R_{4} + C_{4} R_{4}\\right)}{C_{1} C_{2} C_{3} C_{4} R_{1} R_{2} R_{3} R_{5}} - \\frac{9 \\left(C_{1} R_{1} + C_{4} R_{5}\\right) \\left(C_{1} C_{4} R_{1} R_{4} + C_{1} C_{4} R_{4} R_{5} + C_{2} C_{3} R_{2} R_{3}\\right)}{C_{1}^{2} C_{2} C_{3} C_{4}^{2} R_{1}^{2} R_{2} R_{3} R_{5}^{2}} + \\frac{2 \\left(C_{1} R_{1} + C_{4} R_{5}\\right)^{3}}{C_{1}^{3} C_{4}^{3} R_{1}^{3} R_{5}^{3}}\\right)^{2}}}{2} + \\frac{27 \\left(C_{1} R_{4} + C_{4} R_{4}\\right)}{2 C_{1} C_{2} C_{3} C_{4} R_{1} R_{2} R_{3} R_{5}} - \\frac{9 \\left(C_{1} R_{1} + C_{4} R_{5}\\right) \\left(C_{1} C_{4} R_{1} R_{4} + C_{1} C_{4} R_{4} R_{5} + C_{2} C_{3} R_{2} R_{3}\\right)}{2 C_{1}^{2} C_{2} C_{3} C_{4}^{2} R_{1}^{2} R_{2} R_{3} R_{5}^{2}} + \\frac{\\left(C_{1} R_{1} + C_{4} R_{5}\\right)^{3}}{C_{1}^{3} C_{4}^{3} R_{1}^{3} R_{5}^{3}}}} - \\frac{\\left(- \\frac{1}{2} - \\frac{\\sqrt{3} i}{2}\\right) \\sqrt[3]{\\frac{\\sqrt{- 4 \\left(- \\frac{3 \\left(C_{1} C_{4} R_{1} R_{4} + C_{1} C_{4} R_{4} R_{5} + C_{2} C_{3} R_{2} R_{3}\\right)}{C_{1} C_{2} C_{3} C_{4} R_{1} R_{2} R_{3} R_{5}} + \\frac{\\left(C_{1} R_{1} + C_{4} R_{5}\\right)^{2}}{C_{1}^{2} C_{4}^{2} R_{1}^{2} R_{5}^{2}}\\right)^{3} + \\left(\\frac{27 \\left(C_{1} R_{4} + C_{4} R_{4}\\right)}{C_{1} C_{2} C_{3} C_{4} R_{1} R_{2} R_{3} R_{5}} - \\frac{9 \\left(C_{1} R_{1} + C_{4} R_{5}\\right) \\left(C_{1} C_{4} R_{1} R_{4} + C_{1} C_{4} R_{4} R_{5} + C_{2} C_{3} R_{2} R_{3}\\right)}{C_{1}^{2} C_{2} C_{3} C_{4}^{2} R_{1}^{2} R_{2} R_{3} R_{5}^{2}} + \\frac{2 \\left(C_{1} R_{1} + C_{4} R_{5}\\right)^{3}}{C_{1}^{3} C_{4}^{3} R_{1}^{3} R_{5}^{3}}\\right)^{2}}}{2} + \\frac{27 \\left(C_{1} R_{4} + C_{4} R_{4}\\right)}{2 C_{1} C_{2} C_{3} C_{4} R_{1} R_{2} R_{3} R_{5}} - \\frac{9 \\left(C_{1} R_{1} + C_{4} R_{5}\\right) \\left(C_{1} C_{4} R_{1} R_{4} + C_{1} C_{4} R_{4} R_{5} + C_{2} C_{3} R_{2} R_{3}\\right)}{2 C_{1}^{2} C_{2} C_{3} C_{4}^{2} R_{1}^{2} R_{2} R_{3} R_{5}^{2}} + \\frac{\\left(C_{1} R_{1} + C_{4} R_{5}\\right)^{3}}{C_{1}^{3} C_{4}^{3} R_{1}^{3} R_{5}^{3}}}}{3} - \\frac{C_{1} R_{1} + C_{4} R_{5}}{3 C_{1} C_{4} R_{1} R_{5}}$"
      ],
      "text/plain": [
       "                                                                              \n",
       "                                                                              \n",
       "                                                                              \n",
       "                                                                              \n",
       "                                                                              \n",
       "                                                                              \n",
       "                                                                              \n",
       "                                                                              \n",
       "                                                                              \n",
       "                                                                              \n",
       "                                                                              \n",
       "- ────────────────────────────────────────────────────────────────────────────\n",
       "                            __________________________________________________\n",
       "                           ╱        __________________________________________\n",
       "                          ╱        ╱                                          \n",
       "                         ╱        ╱      ⎛                                    \n",
       "                        ╱        ╱       ⎜  3⋅(C₁⋅C₄⋅R₁⋅R₄ + C₁⋅C₄⋅R₄⋅R₅ + C₂⋅\n",
       "                       ╱        ╱    - 4⋅⎜- ──────────────────────────────────\n",
       "                      ╱        ╱         ⎜            C₁⋅C₂⋅C₃⋅C₄⋅R₁⋅R₂⋅R₃⋅R₅ \n",
       "    ⎛  1   √3⋅ⅈ⎞     ╱       ╲╱          ⎝                                    \n",
       "  3⋅⎜- ─ - ────⎟⋅   ╱        ─────────────────────────────────────────────────\n",
       "    ⎝  2    2  ⎠ 3 ╱                                                          \n",
       "                 ╲╱                                                           \n",
       "\n",
       "                                                                              \n",
       "                                                                              \n",
       "                                                                              \n",
       "                                                                              \n",
       "                                                                              \n",
       "                                                                              \n",
       "                                                                              \n",
       "                                                           3⋅(C₁⋅C₄⋅R₁⋅R₄ + C₁\n",
       "                                                         - ───────────────────\n",
       "                                                                     C₁⋅C₂⋅C₃⋅\n",
       "                                                                              \n",
       "──────────────────────────────────────────────────────────────────────────────\n",
       "______________________________________________________________________________\n",
       "______________________________________________________________________________\n",
       "                             3                                                \n",
       "                           2⎞    ⎛                                            \n",
       "C₃⋅R₂⋅R₃)   (C₁⋅R₁ + C₄⋅R₅) ⎟    ⎜   27⋅(C₁⋅R₄ + C₄⋅R₄)     9⋅(C₁⋅R₁ + C₄⋅R₅)⋅\n",
       "───────── + ────────────────⎟  + ⎜─────────────────────── - ──────────────────\n",
       "              2   2   2   2 ⎟    ⎜C₁⋅C₂⋅C₃⋅C₄⋅R₁⋅R₂⋅R₃⋅R₅                     \n",
       "            C₁ ⋅C₄ ⋅R₁ ⋅R₅  ⎠    ⎝                                          C₁\n",
       "──────────────────────────────────────────────────────────────────────────────\n",
       "                                              2                               \n",
       "                                                                              \n",
       "\n",
       "                                                                              \n",
       "                                                                              \n",
       "                                                                              \n",
       "                                                                              \n",
       "                                                                              \n",
       "                                                                              \n",
       "                                          2                                   \n",
       "⋅C₄⋅R₄⋅R₅ + C₂⋅C₃⋅R₂⋅R₃)   (C₁⋅R₁ + C₄⋅R₅)                                    \n",
       "──────────────────────── + ────────────────                                   \n",
       "C₄⋅R₁⋅R₂⋅R₃⋅R₅               2   2   2   2                                    \n",
       "                           C₁ ⋅C₄ ⋅R₁ ⋅R₅                                     \n",
       "──────────────────────────────────────────────────────────────────────────────\n",
       "______________________________________________________________________________\n",
       "_________________________________________________________________             \n",
       "                                                               2              \n",
       "                                                             3⎞               \n",
       "(C₁⋅C₄⋅R₁⋅R₄ + C₁⋅C₄⋅R₄⋅R₅ + C₂⋅C₃⋅R₂⋅R₃)   2⋅(C₁⋅R₁ + C₄⋅R₅) ⎟               \n",
       "───────────────────────────────────────── + ──────────────────⎟               \n",
       "2         2   2         2                      3   3   3   3  ⎟               \n",
       " ⋅C₂⋅C₃⋅C₄ ⋅R₁ ⋅R₂⋅R₃⋅R₅                     C₁ ⋅C₄ ⋅R₁ ⋅R₅   ⎠         27⋅(C₁\n",
       "───────────────────────────────────────────────────────────────── + ──────────\n",
       "                                                                    2⋅C₁⋅C₂⋅C₃\n",
       "                                                                              \n",
       "\n",
       "                                                                              \n",
       "                                                                              \n",
       "                                                                              \n",
       "                                                                              \n",
       "                                                                              \n",
       "                                                                              \n",
       "                                                                              \n",
       "                                                                              \n",
       "                                                                              \n",
       "                                                                              \n",
       "                                                                              \n",
       "──────────────────────────────────────────────────────────────────────────────\n",
       "______________________________________________________________________________\n",
       "                                                                              \n",
       "                                                                              \n",
       "                                                                              \n",
       "                                                                              \n",
       "                                                                              \n",
       "                                                                              \n",
       "⋅R₄ + C₄⋅R₄)      9⋅(C₁⋅R₁ + C₄⋅R₅)⋅(C₁⋅C₄⋅R₁⋅R₄ + C₁⋅C₄⋅R₄⋅R₅ + C₂⋅C₃⋅R₂⋅R₃) \n",
       "─────────────── - ─────────────────────────────────────────────────────────── \n",
       "⋅C₄⋅R₁⋅R₂⋅R₃⋅R₅                      2         2   2         2                \n",
       "                                 2⋅C₁ ⋅C₂⋅C₃⋅C₄ ⋅R₁ ⋅R₂⋅R₃⋅R₅                 \n",
       "\n",
       "                                              ________________________________\n",
       "                                             ╱        ________________________\n",
       "                                            ╱        ╱                        \n",
       "                                           ╱        ╱      ⎛                  \n",
       "                                          ╱        ╱       ⎜  3⋅(C₁⋅C₄⋅R₁⋅R₄ +\n",
       "                                         ╱        ╱    - 4⋅⎜- ────────────────\n",
       "                                        ╱        ╱         ⎜            C₁⋅C₂⋅\n",
       "                      ⎛  1   √3⋅ⅈ⎞     ╱       ╲╱          ⎝                  \n",
       "                      ⎜- ─ - ────⎟⋅   ╱        ───────────────────────────────\n",
       "                      ⎝  2    2  ⎠ 3 ╱                                        \n",
       "                                   ╲╱                                         \n",
       "─────────────────── - ────────────────────────────────────────────────────────\n",
       "___________________                                                           \n",
       "                                                                              \n",
       "                                                                              \n",
       "                                                                              \n",
       "                                                                              \n",
       "                                                                              \n",
       "                 3                                                            \n",
       "  (C₁⋅R₁ + C₄⋅R₅)                                                             \n",
       "+ ────────────────                                                            \n",
       "    3   3   3   3                                                             \n",
       "  C₁ ⋅C₄ ⋅R₁ ⋅R₅                                                              \n",
       "\n",
       "______________________________________________________________________________\n",
       "______________________________________________________________________________\n",
       "                                               3                              \n",
       "                                             2⎞    ⎛                          \n",
       " C₁⋅C₄⋅R₄⋅R₅ + C₂⋅C₃⋅R₂⋅R₃)   (C₁⋅R₁ + C₄⋅R₅) ⎟    ⎜   27⋅(C₁⋅R₄ + C₄⋅R₄)     \n",
       "─────────────────────────── + ────────────────⎟  + ⎜─────────────────────── - \n",
       "C₃⋅C₄⋅R₁⋅R₂⋅R₃⋅R₅               2   2   2   2 ⎟    ⎜C₁⋅C₂⋅C₃⋅C₄⋅R₁⋅R₂⋅R₃⋅R₅   \n",
       "                              C₁ ⋅C₄ ⋅R₁ ⋅R₅  ⎠    ⎝                          \n",
       "──────────────────────────────────────────────────────────────────────────────\n",
       "                                                                2             \n",
       "                                                                              \n",
       "──────────────────────────────────────────────────────────────────────────────\n",
       "                                                                              \n",
       "                                                                              \n",
       "                                                                              \n",
       "                                                                              \n",
       "                                                                              \n",
       "                                                                              \n",
       "                                                                              \n",
       "                                                                              \n",
       "                                                                              \n",
       "                                                                              \n",
       "                                                                              \n",
       "\n",
       "______________________________________________________________________________\n",
       "______________________________________________________________________________\n",
       "                                                                              \n",
       "                                                                              \n",
       "9⋅(C₁⋅R₁ + C₄⋅R₅)⋅(C₁⋅C₄⋅R₁⋅R₄ + C₁⋅C₄⋅R₄⋅R₅ + C₂⋅C₃⋅R₂⋅R₃)   2⋅(C₁⋅R₁ + C₄⋅R₅\n",
       "─────────────────────────────────────────────────────────── + ────────────────\n",
       "                  2         2   2         2                      3   3   3   3\n",
       "                C₁ ⋅C₂⋅C₃⋅C₄ ⋅R₁ ⋅R₂⋅R₃⋅R₅                     C₁ ⋅C₄ ⋅R₁ ⋅R₅ \n",
       "──────────────────────────────────────────────────────────────────────────────\n",
       "                                                                              \n",
       "                                                                              \n",
       "──────────────────────────────────────────────────────────────────────────────\n",
       "                             3                                                \n",
       "                                                                              \n",
       "                                                                              \n",
       "                                                                              \n",
       "                                                                              \n",
       "                                                                              \n",
       "                                                                              \n",
       "                                                                              \n",
       "                                                                              \n",
       "                                                                              \n",
       "                                                                              \n",
       "\n",
       "______________________________________________________________________________\n",
       "_____                                                                         \n",
       "   2                                                                          \n",
       " 3⎞                                                                           \n",
       ") ⎟                                                                           \n",
       "──⎟                                                                           \n",
       "  ⎟                                                                           \n",
       "  ⎠         27⋅(C₁⋅R₄ + C₄⋅R₄)      9⋅(C₁⋅R₁ + C₄⋅R₅)⋅(C₁⋅C₄⋅R₁⋅R₄ + C₁⋅C₄⋅R₄⋅\n",
       "───── + ───────────────────────── - ──────────────────────────────────────────\n",
       "        2⋅C₁⋅C₂⋅C₃⋅C₄⋅R₁⋅R₂⋅R₃⋅R₅                      2         2   2        \n",
       "                                                   2⋅C₁ ⋅C₂⋅C₃⋅C₄ ⋅R₁ ⋅R₂⋅R₃⋅R\n",
       "──────────────────────────────────────────────────────────────────────────────\n",
       "                                                                              \n",
       "                                                                              \n",
       "                                                                              \n",
       "                                                                              \n",
       "                                                                              \n",
       "                                                                              \n",
       "                                                                              \n",
       "                                                                              \n",
       "                                                                              \n",
       "                                                                              \n",
       "                                                                              \n",
       "\n",
       "_____________________________________                \n",
       "                                                     \n",
       "                                                     \n",
       "                                                     \n",
       "                                                     \n",
       "                                                     \n",
       "                                   3                 \n",
       "R₅ + C₂⋅C₃⋅R₂⋅R₃)   (C₁⋅R₁ + C₄⋅R₅)                  \n",
       "───────────────── + ────────────────                 \n",
       " 2                    3   3   3   3                  \n",
       "₅                   C₁ ⋅C₄ ⋅R₁ ⋅R₅      C₁⋅R₁ + C₄⋅R₅\n",
       "───────────────────────────────────── - ─────────────\n",
       "                                        3⋅C₁⋅C₄⋅R₁⋅R₅\n",
       "                                                     \n",
       "                                                     \n",
       "                                                     \n",
       "                                                     \n",
       "                                                     \n",
       "                                                     \n",
       "                                                     \n",
       "                                                     \n",
       "                                                     \n",
       "                                                     "
      ]
     },
     "execution_count": 69,
     "metadata": {},
     "output_type": "execute_result"
    }
   ],
   "source": [
    "p[1]"
   ]
  },
  {
   "cell_type": "code",
   "execution_count": 70,
   "id": "3bcfb987-c6a6-4d94-9c75-09ad64a5ac27",
   "metadata": {},
   "outputs": [
    {
     "data": {
      "image/png": "[encoded data removed]",
      "text/latex": [
       "$\\displaystyle - \\frac{- \\frac{3 \\left(C_{1} C_{4} R_{1} R_{4} + C_{1} C_{4} R_{4} R_{5} + C_{2} C_{3} R_{2} R_{3}\\right)}{C_{1} C_{2} C_{3} C_{4} R_{1} R_{2} R_{3} R_{5}} + \\frac{\\left(C_{1} R_{1} + C_{4} R_{5}\\right)^{2}}{C_{1}^{2} C_{4}^{2} R_{1}^{2} R_{5}^{2}}}{3 \\left(- \\frac{1}{2} + \\frac{\\sqrt{3} i}{2}\\right) \\sqrt[3]{\\frac{\\sqrt{- 4 \\left(- \\frac{3 \\left(C_{1} C_{4} R_{1} R_{4} + C_{1} C_{4} R_{4} R_{5} + C_{2} C_{3} R_{2} R_{3}\\right)}{C_{1} C_{2} C_{3} C_{4} R_{1} R_{2} R_{3} R_{5}} + \\frac{\\left(C_{1} R_{1} + C_{4} R_{5}\\right)^{2}}{C_{1}^{2} C_{4}^{2} R_{1}^{2} R_{5}^{2}}\\right)^{3} + \\left(\\frac{27 \\left(C_{1} R_{4} + C_{4} R_{4}\\right)}{C_{1} C_{2} C_{3} C_{4} R_{1} R_{2} R_{3} R_{5}} - \\frac{9 \\left(C_{1} R_{1} + C_{4} R_{5}\\right) \\left(C_{1} C_{4} R_{1} R_{4} + C_{1} C_{4} R_{4} R_{5} + C_{2} C_{3} R_{2} R_{3}\\right)}{C_{1}^{2} C_{2} C_{3} C_{4}^{2} R_{1}^{2} R_{2} R_{3} R_{5}^{2}} + \\frac{2 \\left(C_{1} R_{1} + C_{4} R_{5}\\right)^{3}}{C_{1}^{3} C_{4}^{3} R_{1}^{3} R_{5}^{3}}\\right)^{2}}}{2} + \\frac{27 \\left(C_{1} R_{4} + C_{4} R_{4}\\right)}{2 C_{1} C_{2} C_{3} C_{4} R_{1} R_{2} R_{3} R_{5}} - \\frac{9 \\left(C_{1} R_{1} + C_{4} R_{5}\\right) \\left(C_{1} C_{4} R_{1} R_{4} + C_{1} C_{4} R_{4} R_{5} + C_{2} C_{3} R_{2} R_{3}\\right)}{2 C_{1}^{2} C_{2} C_{3} C_{4}^{2} R_{1}^{2} R_{2} R_{3} R_{5}^{2}} + \\frac{\\left(C_{1} R_{1} + C_{4} R_{5}\\right)^{3}}{C_{1}^{3} C_{4}^{3} R_{1}^{3} R_{5}^{3}}}} - \\frac{\\left(- \\frac{1}{2} + \\frac{\\sqrt{3} i}{2}\\right) \\sqrt[3]{\\frac{\\sqrt{- 4 \\left(- \\frac{3 \\left(C_{1} C_{4} R_{1} R_{4} + C_{1} C_{4} R_{4} R_{5} + C_{2} C_{3} R_{2} R_{3}\\right)}{C_{1} C_{2} C_{3} C_{4} R_{1} R_{2} R_{3} R_{5}} + \\frac{\\left(C_{1} R_{1} + C_{4} R_{5}\\right)^{2}}{C_{1}^{2} C_{4}^{2} R_{1}^{2} R_{5}^{2}}\\right)^{3} + \\left(\\frac{27 \\left(C_{1} R_{4} + C_{4} R_{4}\\right)}{C_{1} C_{2} C_{3} C_{4} R_{1} R_{2} R_{3} R_{5}} - \\frac{9 \\left(C_{1} R_{1} + C_{4} R_{5}\\right) \\left(C_{1} C_{4} R_{1} R_{4} + C_{1} C_{4} R_{4} R_{5} + C_{2} C_{3} R_{2} R_{3}\\right)}{C_{1}^{2} C_{2} C_{3} C_{4}^{2} R_{1}^{2} R_{2} R_{3} R_{5}^{2}} + \\frac{2 \\left(C_{1} R_{1} + C_{4} R_{5}\\right)^{3}}{C_{1}^{3} C_{4}^{3} R_{1}^{3} R_{5}^{3}}\\right)^{2}}}{2} + \\frac{27 \\left(C_{1} R_{4} + C_{4} R_{4}\\right)}{2 C_{1} C_{2} C_{3} C_{4} R_{1} R_{2} R_{3} R_{5}} - \\frac{9 \\left(C_{1} R_{1} + C_{4} R_{5}\\right) \\left(C_{1} C_{4} R_{1} R_{4} + C_{1} C_{4} R_{4} R_{5} + C_{2} C_{3} R_{2} R_{3}\\right)}{2 C_{1}^{2} C_{2} C_{3} C_{4}^{2} R_{1}^{2} R_{2} R_{3} R_{5}^{2}} + \\frac{\\left(C_{1} R_{1} + C_{4} R_{5}\\right)^{3}}{C_{1}^{3} C_{4}^{3} R_{1}^{3} R_{5}^{3}}}}{3} - \\frac{C_{1} R_{1} + C_{4} R_{5}}{3 C_{1} C_{4} R_{1} R_{5}}$"
      ],
      "text/plain": [
       "                                                                              \n",
       "                                                                              \n",
       "                                                                              \n",
       "                                                                              \n",
       "                                                                              \n",
       "                                                                              \n",
       "                                                                              \n",
       "                                                                              \n",
       "                                                                              \n",
       "                                                                              \n",
       "                                                                              \n",
       "- ────────────────────────────────────────────────────────────────────────────\n",
       "                            __________________________________________________\n",
       "                           ╱        __________________________________________\n",
       "                          ╱        ╱                                          \n",
       "                         ╱        ╱      ⎛                                    \n",
       "                        ╱        ╱       ⎜  3⋅(C₁⋅C₄⋅R₁⋅R₄ + C₁⋅C₄⋅R₄⋅R₅ + C₂⋅\n",
       "                       ╱        ╱    - 4⋅⎜- ──────────────────────────────────\n",
       "                      ╱        ╱         ⎜            C₁⋅C₂⋅C₃⋅C₄⋅R₁⋅R₂⋅R₃⋅R₅ \n",
       "    ⎛  1   √3⋅ⅈ⎞     ╱       ╲╱          ⎝                                    \n",
       "  3⋅⎜- ─ + ────⎟⋅   ╱        ─────────────────────────────────────────────────\n",
       "    ⎝  2    2  ⎠ 3 ╱                                                          \n",
       "                 ╲╱                                                           \n",
       "\n",
       "                                                                              \n",
       "                                                                              \n",
       "                                                                              \n",
       "                                                                              \n",
       "                                                                              \n",
       "                                                                              \n",
       "                                                                              \n",
       "                                                           3⋅(C₁⋅C₄⋅R₁⋅R₄ + C₁\n",
       "                                                         - ───────────────────\n",
       "                                                                     C₁⋅C₂⋅C₃⋅\n",
       "                                                                              \n",
       "──────────────────────────────────────────────────────────────────────────────\n",
       "______________________________________________________________________________\n",
       "______________________________________________________________________________\n",
       "                             3                                                \n",
       "                           2⎞    ⎛                                            \n",
       "C₃⋅R₂⋅R₃)   (C₁⋅R₁ + C₄⋅R₅) ⎟    ⎜   27⋅(C₁⋅R₄ + C₄⋅R₄)     9⋅(C₁⋅R₁ + C₄⋅R₅)⋅\n",
       "───────── + ────────────────⎟  + ⎜─────────────────────── - ──────────────────\n",
       "              2   2   2   2 ⎟    ⎜C₁⋅C₂⋅C₃⋅C₄⋅R₁⋅R₂⋅R₃⋅R₅                     \n",
       "            C₁ ⋅C₄ ⋅R₁ ⋅R₅  ⎠    ⎝                                          C₁\n",
       "──────────────────────────────────────────────────────────────────────────────\n",
       "                                              2                               \n",
       "                                                                              \n",
       "\n",
       "                                                                              \n",
       "                                                                              \n",
       "                                                                              \n",
       "                                                                              \n",
       "                                                                              \n",
       "                                                                              \n",
       "                                          2                                   \n",
       "⋅C₄⋅R₄⋅R₅ + C₂⋅C₃⋅R₂⋅R₃)   (C₁⋅R₁ + C₄⋅R₅)                                    \n",
       "──────────────────────── + ────────────────                                   \n",
       "C₄⋅R₁⋅R₂⋅R₃⋅R₅               2   2   2   2                                    \n",
       "                           C₁ ⋅C₄ ⋅R₁ ⋅R₅                                     \n",
       "──────────────────────────────────────────────────────────────────────────────\n",
       "______________________________________________________________________________\n",
       "_________________________________________________________________             \n",
       "                                                               2              \n",
       "                                                             3⎞               \n",
       "(C₁⋅C₄⋅R₁⋅R₄ + C₁⋅C₄⋅R₄⋅R₅ + C₂⋅C₃⋅R₂⋅R₃)   2⋅(C₁⋅R₁ + C₄⋅R₅) ⎟               \n",
       "───────────────────────────────────────── + ──────────────────⎟               \n",
       "2         2   2         2                      3   3   3   3  ⎟               \n",
       " ⋅C₂⋅C₃⋅C₄ ⋅R₁ ⋅R₂⋅R₃⋅R₅                     C₁ ⋅C₄ ⋅R₁ ⋅R₅   ⎠         27⋅(C₁\n",
       "───────────────────────────────────────────────────────────────── + ──────────\n",
       "                                                                    2⋅C₁⋅C₂⋅C₃\n",
       "                                                                              \n",
       "\n",
       "                                                                              \n",
       "                                                                              \n",
       "                                                                              \n",
       "                                                                              \n",
       "                                                                              \n",
       "                                                                              \n",
       "                                                                              \n",
       "                                                                              \n",
       "                                                                              \n",
       "                                                                              \n",
       "                                                                              \n",
       "──────────────────────────────────────────────────────────────────────────────\n",
       "______________________________________________________________________________\n",
       "                                                                              \n",
       "                                                                              \n",
       "                                                                              \n",
       "                                                                              \n",
       "                                                                              \n",
       "                                                                              \n",
       "⋅R₄ + C₄⋅R₄)      9⋅(C₁⋅R₁ + C₄⋅R₅)⋅(C₁⋅C₄⋅R₁⋅R₄ + C₁⋅C₄⋅R₄⋅R₅ + C₂⋅C₃⋅R₂⋅R₃) \n",
       "─────────────── - ─────────────────────────────────────────────────────────── \n",
       "⋅C₄⋅R₁⋅R₂⋅R₃⋅R₅                      2         2   2         2                \n",
       "                                 2⋅C₁ ⋅C₂⋅C₃⋅C₄ ⋅R₁ ⋅R₂⋅R₃⋅R₅                 \n",
       "\n",
       "                                              ________________________________\n",
       "                                             ╱        ________________________\n",
       "                                            ╱        ╱                        \n",
       "                                           ╱        ╱      ⎛                  \n",
       "                                          ╱        ╱       ⎜  3⋅(C₁⋅C₄⋅R₁⋅R₄ +\n",
       "                                         ╱        ╱    - 4⋅⎜- ────────────────\n",
       "                                        ╱        ╱         ⎜            C₁⋅C₂⋅\n",
       "                      ⎛  1   √3⋅ⅈ⎞     ╱       ╲╱          ⎝                  \n",
       "                      ⎜- ─ + ────⎟⋅   ╱        ───────────────────────────────\n",
       "                      ⎝  2    2  ⎠ 3 ╱                                        \n",
       "                                   ╲╱                                         \n",
       "─────────────────── - ────────────────────────────────────────────────────────\n",
       "___________________                                                           \n",
       "                                                                              \n",
       "                                                                              \n",
       "                                                                              \n",
       "                                                                              \n",
       "                                                                              \n",
       "                 3                                                            \n",
       "  (C₁⋅R₁ + C₄⋅R₅)                                                             \n",
       "+ ────────────────                                                            \n",
       "    3   3   3   3                                                             \n",
       "  C₁ ⋅C₄ ⋅R₁ ⋅R₅                                                              \n",
       "\n",
       "______________________________________________________________________________\n",
       "______________________________________________________________________________\n",
       "                                               3                              \n",
       "                                             2⎞    ⎛                          \n",
       " C₁⋅C₄⋅R₄⋅R₅ + C₂⋅C₃⋅R₂⋅R₃)   (C₁⋅R₁ + C₄⋅R₅) ⎟    ⎜   27⋅(C₁⋅R₄ + C₄⋅R₄)     \n",
       "─────────────────────────── + ────────────────⎟  + ⎜─────────────────────── - \n",
       "C₃⋅C₄⋅R₁⋅R₂⋅R₃⋅R₅               2   2   2   2 ⎟    ⎜C₁⋅C₂⋅C₃⋅C₄⋅R₁⋅R₂⋅R₃⋅R₅   \n",
       "                              C₁ ⋅C₄ ⋅R₁ ⋅R₅  ⎠    ⎝                          \n",
       "──────────────────────────────────────────────────────────────────────────────\n",
       "                                                                2             \n",
       "                                                                              \n",
       "──────────────────────────────────────────────────────────────────────────────\n",
       "                                                                              \n",
       "                                                                              \n",
       "                                                                              \n",
       "                                                                              \n",
       "                                                                              \n",
       "                                                                              \n",
       "                                                                              \n",
       "                                                                              \n",
       "                                                                              \n",
       "                                                                              \n",
       "                                                                              \n",
       "\n",
       "______________________________________________________________________________\n",
       "______________________________________________________________________________\n",
       "                                                                              \n",
       "                                                                              \n",
       "9⋅(C₁⋅R₁ + C₄⋅R₅)⋅(C₁⋅C₄⋅R₁⋅R₄ + C₁⋅C₄⋅R₄⋅R₅ + C₂⋅C₃⋅R₂⋅R₃)   2⋅(C₁⋅R₁ + C₄⋅R₅\n",
       "─────────────────────────────────────────────────────────── + ────────────────\n",
       "                  2         2   2         2                      3   3   3   3\n",
       "                C₁ ⋅C₂⋅C₃⋅C₄ ⋅R₁ ⋅R₂⋅R₃⋅R₅                     C₁ ⋅C₄ ⋅R₁ ⋅R₅ \n",
       "──────────────────────────────────────────────────────────────────────────────\n",
       "                                                                              \n",
       "                                                                              \n",
       "──────────────────────────────────────────────────────────────────────────────\n",
       "                             3                                                \n",
       "                                                                              \n",
       "                                                                              \n",
       "                                                                              \n",
       "                                                                              \n",
       "                                                                              \n",
       "                                                                              \n",
       "                                                                              \n",
       "                                                                              \n",
       "                                                                              \n",
       "                                                                              \n",
       "\n",
       "______________________________________________________________________________\n",
       "_____                                                                         \n",
       "   2                                                                          \n",
       " 3⎞                                                                           \n",
       ") ⎟                                                                           \n",
       "──⎟                                                                           \n",
       "  ⎟                                                                           \n",
       "  ⎠         27⋅(C₁⋅R₄ + C₄⋅R₄)      9⋅(C₁⋅R₁ + C₄⋅R₅)⋅(C₁⋅C₄⋅R₁⋅R₄ + C₁⋅C₄⋅R₄⋅\n",
       "───── + ───────────────────────── - ──────────────────────────────────────────\n",
       "        2⋅C₁⋅C₂⋅C₃⋅C₄⋅R₁⋅R₂⋅R₃⋅R₅                      2         2   2        \n",
       "                                                   2⋅C₁ ⋅C₂⋅C₃⋅C₄ ⋅R₁ ⋅R₂⋅R₃⋅R\n",
       "──────────────────────────────────────────────────────────────────────────────\n",
       "                                                                              \n",
       "                                                                              \n",
       "                                                                              \n",
       "                                                                              \n",
       "                                                                              \n",
       "                                                                              \n",
       "                                                                              \n",
       "                                                                              \n",
       "                                                                              \n",
       "                                                                              \n",
       "                                                                              \n",
       "\n",
       "_____________________________________                \n",
       "                                                     \n",
       "                                                     \n",
       "                                                     \n",
       "                                                     \n",
       "                                                     \n",
       "                                   3                 \n",
       "R₅ + C₂⋅C₃⋅R₂⋅R₃)   (C₁⋅R₁ + C₄⋅R₅)                  \n",
       "───────────────── + ────────────────                 \n",
       " 2                    3   3   3   3                  \n",
       "₅                   C₁ ⋅C₄ ⋅R₁ ⋅R₅      C₁⋅R₁ + C₄⋅R₅\n",
       "───────────────────────────────────── - ─────────────\n",
       "                                        3⋅C₁⋅C₄⋅R₁⋅R₅\n",
       "                                                     \n",
       "                                                     \n",
       "                                                     \n",
       "                                                     \n",
       "                                                     \n",
       "                                                     \n",
       "                                                     \n",
       "                                                     \n",
       "                                                     \n",
       "                                                     "
      ]
     },
     "execution_count": 70,
     "metadata": {},
     "output_type": "execute_result"
    }
   ],
   "source": [
    "p[2]"
   ]
  },
  {
   "cell_type": "code",
   "execution_count": null,
   "id": "870ed4f5-4a23-4be2-a979-91df30e42606",
   "metadata": {},
   "outputs": [],
   "source": []
  },
  {
   "cell_type": "markdown",
   "id": "1ed24095-f67e-4313-8a41-6e688523e560",
   "metadata": {
    "tags": []
   },
   "source": [
    "### Numerical solution\n",
    "Ra and Rb are back"
   ]
  },
  {
   "cell_type": "code",
   "execution_count": 71,
   "id": "aba2be77-dce1-4d57-9e1b-61972df57fb1",
   "metadata": {},
   "outputs": [],
   "source": [
    "net_list = '''\n",
    "O2 6 4 7 \n",
    "V1 1 0 1\n",
    "O1 6 8 5 \n",
    "C1 3 1 1\n",
    "C2 5 4 1\n",
    "C3 7 6 1\n",
    "C4 0 2 1\n",
    "R2 5 6 1\n",
    "R3 7 8 1.0218\n",
    "R4 8 0 1\n",
    "R1 4 3 0.5534\n",
    "R5 2 4 2.425\n",
    "Rb 2 0 10e6\n",
    "Ra 3 1 10e6\n",
    "'''"
   ]
  },
  {
   "cell_type": "code",
   "execution_count": 72,
   "id": "46d8fd45-b94a-4c26-a85f-0bfdaab6bb55",
   "metadata": {},
   "outputs": [
    {
     "data": {
      "text/markdown": [
       "$I_{V1} + v_{1} \\left(C_{1} s + \\frac{1}{Ra}\\right) + v_{3} \\left(- C_{1} s - \\frac{1}{Ra}\\right) = 0$<br>$v_{2} \\left(C_{4} s + \\frac{1}{Rb} + \\frac{1}{R_{5}}\\right) - \\frac{v_{4}}{R_{5}} = 0$<br>$v_{1} \\left(- C_{1} s - \\frac{1}{Ra}\\right) + v_{3} \\left(C_{1} s + \\frac{1}{Ra} + \\frac{1}{R_{1}}\\right) - \\frac{v_{4}}{R_{1}} = 0$<br>$- C_{2} s v_{5} + v_{4} \\left(C_{2} s + \\frac{1}{R_{5}} + \\frac{1}{R_{1}}\\right) - \\frac{v_{2}}{R_{5}} - \\frac{v_{3}}{R_{1}} = 0$<br>$- C_{2} s v_{4} + I_{O1} + v_{5} \\left(C_{2} s + \\frac{1}{R_{2}}\\right) - \\frac{v_{6}}{R_{2}} = 0$<br>$- C_{3} s v_{7} + v_{6} \\left(C_{3} s + \\frac{1}{R_{2}}\\right) - \\frac{v_{5}}{R_{2}} = 0$<br>$- C_{3} s v_{6} + I_{O2} + v_{7} \\left(C_{3} s + \\frac{1}{R_{3}}\\right) - \\frac{v_{8}}{R_{3}} = 0$<br>$v_{8} \\cdot \\left(\\frac{1}{R_{4}} + \\frac{1}{R_{3}}\\right) - \\frac{v_{7}}{R_{3}} = 0$<br>$v_{1} = V_{1}$<br>$- v_{4} + v_{6} = 0$<br>$v_{6} - v_{8} = 0$<br>"
      ],
      "text/plain": [
       "<IPython.core.display.Markdown object>"
      ]
     },
     "execution_count": 72,
     "metadata": {},
     "output_type": "execute_result"
    }
   ],
   "source": [
    "report, network_df, df2, A, X, Z = SymMNA.smna(net_list)\n",
    "\n",
    "# Put matricies into SymPy \n",
    "X = Matrix(X)\n",
    "Z = Matrix(Z)\n",
    "\n",
    "NE_sym = Eq(A*X,Z)\n",
    "\n",
    "temp = ''\n",
    "for i in range(len(X)):\n",
    "    temp += '${:s}$<br>'.format(latex(Eq((A*X)[i:i+1][0],Z[i])))\n",
    "\n",
    "Markdown(temp)"
   ]
  },
  {
   "cell_type": "markdown",
   "id": "ad3f6947-ea59-43f3-994b-7a608b39653f",
   "metadata": {},
   "source": [
    "The symbols generated by the Python code are extraced by the SymPy function free_symbols and then declared as SymPy variables. "
   ]
  },
  {
   "cell_type": "code",
   "execution_count": 73,
   "id": "1728206a-2d88-4b65-bfff-f81d7d41b934",
   "metadata": {},
   "outputs": [
    {
     "data": {
      "image/png": "[encoded data removed]",
      "text/latex": [
       "$\\displaystyle \\left( I_{O2}, \\  s, \\  R_{3}, \\  R_{4}, \\  Rb, \\  C_{2}, \\  R_{2}, \\  v_{8}, \\  R_{5}, \\  v_{4}, \\  v_{1}, \\  Ra, \\  R_{1}, \\  v_{2}, \\  I_{O1}, \\  V_{1}, \\  v_{6}, \\  C_{4}, \\  I_{V1}, \\  v_{3}, \\  v_{5}, \\  C_{3}, \\  C_{1}, \\  v_{7}\\right)$"
      ],
      "text/plain": [
       "(I_O2, s, R₃, R₄, Rb, C₂, R₂, v₈, R₅, v₄, v₁, Ra, R₁, v₂, I_O1, V₁, v₆, C₄, I_\n",
       "V1, v₃, v₅, C₃, C₁, v₇)"
      ]
     },
     "execution_count": 73,
     "metadata": {},
     "output_type": "execute_result"
    }
   ],
   "source": [
    "# turn the free symbols into SymPy variables\n",
    "var(str(NE_sym.free_symbols).replace('{','').replace('}',''))"
   ]
  },
  {
   "cell_type": "code",
   "execution_count": 74,
   "id": "cc765516-467b-4467-b5e4-21408d049112",
   "metadata": {},
   "outputs": [
    {
     "data": {
      "text/latex": [
       "$\\displaystyle \\left\\{ C_{1} : 1.0, \\  C_{2} : 1.0, \\  C_{3} : 1.0, \\  C_{4} : 1.0, \\  O_{1} : \\text{NaN}, \\  O_{2} : \\text{NaN}, \\  R_{1} : 0.5534, \\  R_{2} : 1.0, \\  R_{3} : 1.0218, \\  R_{4} : 1.0, \\  R_{5} : 2.425, \\  Ra : 10000000.0, \\  Rb : 10000000.0, \\  V_{1} : 1.0\\right\\}$"
      ],
      "text/plain": [
       "{C₁: 1.0, C₂: 1.0, C₃: 1.0, C₄: 1.0, O₁: nan, O₂: nan, R₁: 0.5534, R₂: 1.0, R₃\n",
       ": 1.0218, R₄: 1.0, R₅: 2.425, Ra: 10000000.0, Rb: 10000000.0, V₁: 1.0}"
      ]
     },
     "execution_count": 74,
     "metadata": {},
     "output_type": "execute_result"
    }
   ],
   "source": [
    "element_values = SymMNA.get_part_values(network_df)\n",
    "element_values"
   ]
  },
  {
   "cell_type": "code",
   "execution_count": 75,
   "id": "971a848d-3aa0-41f3-8cc6-07cbc24544f1",
   "metadata": {},
   "outputs": [
    {
     "data": {
      "text/latex": [
       "$\\displaystyle \\left[\\begin{matrix}I_{V1} + v_{1} \\cdot \\left(1.0 s + 1.0 \\cdot 10^{-7}\\right) + v_{3} \\left(- 1.0 s - 1.0 \\cdot 10^{-7}\\right)\\\\v_{2} \\cdot \\left(1.0 s + 0.412371234020619\\right) - 0.412371134020619 v_{4}\\\\v_{1} \\left(- 1.0 s - 1.0 \\cdot 10^{-7}\\right) + v_{3} \\cdot \\left(1.0 s + 1.80701130346946\\right) - 1.80701120346946 v_{4}\\\\- 1.0 s v_{5} - 0.412371134020619 v_{2} - 1.80701120346946 v_{3} + v_{4} \\cdot \\left(1.0 s + 2.21938233749008\\right)\\\\I_{O1} - 1.0 s v_{4} + v_{5} \\cdot \\left(1.0 s + 1.0\\right) - 1.0 v_{6}\\\\- 1.0 s v_{7} - 1.0 v_{5} + v_{6} \\cdot \\left(1.0 s + 1.0\\right)\\\\I_{O2} - 1.0 s v_{6} + v_{7} \\cdot \\left(1.0 s + 0.978665100802505\\right) - 0.978665100802505 v_{8}\\\\- 0.978665100802505 v_{7} + 1.97866510080251 v_{8}\\\\v_{1}\\\\- v_{4} + v_{6}\\\\v_{6} - v_{8}\\end{matrix}\\right] = \\left[\\begin{matrix}0\\\\0\\\\0\\\\0\\\\0\\\\0\\\\0\\\\0\\\\1.0\\\\0\\\\0\\end{matrix}\\right]$"
      ],
      "text/plain": [
       "⎡                  I_V1 + v₁⋅(1.0⋅s + 1.0e-7) + v₃⋅(-s - 1.0e-7)              \n",
       "⎢                                                                             \n",
       "⎢              v₂⋅(1.0⋅s + 0.412371234020619) - 0.412371134020619⋅v₄          \n",
       "⎢                                                                             \n",
       "⎢      v₁⋅(-s - 1.0e-7) + v₃⋅(1.0⋅s + 1.80701130346946) - 1.80701120346946⋅v₄ \n",
       "⎢                                                                             \n",
       "⎢-s⋅v₅ - 0.412371134020619⋅v₂ - 1.80701120346946⋅v₃ + v₄⋅(1.0⋅s + 2.2193823374\n",
       "⎢                                                                             \n",
       "⎢                       I_O1 - s⋅v₄ + v₅⋅(1.0⋅s + 1.0) - v₆                   \n",
       "⎢                                                                             \n",
       "⎢                          -s⋅v₇ - v₅ + v₆⋅(1.0⋅s + 1.0)                      \n",
       "⎢                                                                             \n",
       "⎢       I_O2 - s⋅v₆ + v₇⋅(1.0⋅s + 0.978665100802505) - 0.978665100802505⋅v₈   \n",
       "⎢                                                                             \n",
       "⎢                   -0.978665100802505⋅v₇ + 1.97866510080251⋅v₈               \n",
       "⎢                                                                             \n",
       "⎢                                        v₁                                   \n",
       "⎢                                                                             \n",
       "⎢                                     -v₄ + v₆                                \n",
       "⎢                                                                             \n",
       "⎣                                     v₆ - v₈                                 \n",
       "\n",
       "     ⎤   ⎡ 0 ⎤\n",
       "     ⎥   ⎢   ⎥\n",
       "     ⎥   ⎢ 0 ⎥\n",
       "     ⎥   ⎢   ⎥\n",
       "     ⎥   ⎢ 0 ⎥\n",
       "     ⎥   ⎢   ⎥\n",
       "9008)⎥   ⎢ 0 ⎥\n",
       "     ⎥   ⎢   ⎥\n",
       "     ⎥   ⎢ 0 ⎥\n",
       "     ⎥   ⎢   ⎥\n",
       "     ⎥ = ⎢ 0 ⎥\n",
       "     ⎥   ⎢   ⎥\n",
       "     ⎥   ⎢ 0 ⎥\n",
       "     ⎥   ⎢   ⎥\n",
       "     ⎥   ⎢ 0 ⎥\n",
       "     ⎥   ⎢   ⎥\n",
       "     ⎥   ⎢1.0⎥\n",
       "     ⎥   ⎢   ⎥\n",
       "     ⎥   ⎢ 0 ⎥\n",
       "     ⎥   ⎢   ⎥\n",
       "     ⎦   ⎣ 0 ⎦"
      ]
     },
     "execution_count": 75,
     "metadata": {},
     "output_type": "execute_result"
    }
   ],
   "source": [
    "NE = NE_sym.subs(element_values)\n",
    "NE"
   ]
  },
  {
   "cell_type": "code",
   "execution_count": 76,
   "id": "fb974f43-f923-4989-a425-ed8cf3fef29c",
   "metadata": {},
   "outputs": [
    {
     "data": {
      "text/markdown": [
       "$v_{1} = 1.0$<br>$v_{2} = \\frac{3.43081007509371 \\cdot 10^{60} s + 3.43081007509371 \\cdot 10^{53}}{4.70450000000002 \\cdot 10^{60} s^{4} + 1.04410851476221 \\cdot 10^{61} s^{3} + 1.37239275064983 \\cdot 10^{61} s^{2} + 6.86162219385238 \\cdot 10^{60} s + 6.8616212367455 \\cdot 10^{53}}$<br>$v_{3} = \\frac{4.70450000000002 \\cdot 10^{60} s^{4} + 1.94000094090001 \\cdot 10^{60} s^{3} + 1.02183249216592 \\cdot 10^{61} s^{2} + 3.43081211875866 \\cdot 10^{60} s + 3.43081109692619 \\cdot 10^{53}}{4.70450000000002 \\cdot 10^{60} s^{4} + 1.04410851476221 \\cdot 10^{61} s^{3} + 1.37239275064983 \\cdot 10^{61} s^{2} + 6.86162219385238 \\cdot 10^{60} s + 6.8616212367455 \\cdot 10^{53}}$<br>$v_{4} = \\frac{8.31971443210224 \\cdot 10^{60} s^{2} + 3.4308117390366 \\cdot 10^{60} s + 3.43081090706516 \\cdot 10^{53}}{4.70450000000002 \\cdot 10^{60} s^{4} + 1.04410851476221 \\cdot 10^{61} s^{3} + 1.37239275064983 \\cdot 10^{61} s^{2} + 6.86162219385238 \\cdot 10^{60} s + 6.8616212367455 \\cdot 10^{53}}$<br>$v_{5} = \\frac{- 8.50108420672212 \\cdot 10^{60} s^{3} + 4.81411099715463 \\cdot 10^{60} s^{2} + 3.43081138847634 \\cdot 10^{60} s + 3.43081090706516 \\cdot 10^{53}}{4.70450000000002 \\cdot 10^{60} s^{4} + 1.04410851476221 \\cdot 10^{61} s^{3} + 1.37239275064983 \\cdot 10^{61} s^{2} + 6.86162219385238 \\cdot 10^{60} s + 6.8616212367455 \\cdot 10^{53}}$<br>$v_{6} = \\frac{8.31971443210224 \\cdot 10^{60} s^{2} + 3.4308117390366 \\cdot 10^{60} s + 3.43081090706516 \\cdot 10^{53}}{4.70450000000002 \\cdot 10^{60} s^{4} + 1.04410851476221 \\cdot 10^{61} s^{3} + 1.37239275064983 \\cdot 10^{61} s^{2} + 6.86162219385238 \\cdot 10^{60} s + 6.8616212367455 \\cdot 10^{53}}$<br>$v_{7} = \\frac{1.68207986388244 \\cdot 10^{61} s^{2} + 6.93641517398421 \\cdot 10^{60} s + 6.93641349190435 \\cdot 10^{53}}{4.70450000000002 \\cdot 10^{60} s^{4} + 1.04410851476221 \\cdot 10^{61} s^{3} + 1.37239275064983 \\cdot 10^{61} s^{2} + 6.86162219385238 \\cdot 10^{60} s + 6.8616212367455 \\cdot 10^{53}}$<br>$v_{8} = \\frac{8.31971443210224 \\cdot 10^{60} s^{2} + 3.4308117390366 \\cdot 10^{60} s + 3.43081090706516 \\cdot 10^{53}}{4.70450000000002 \\cdot 10^{60} s^{4} + 1.04410851476221 \\cdot 10^{61} s^{3} + 1.37239275064983 \\cdot 10^{61} s^{2} + 6.86162219385238 \\cdot 10^{60} s + 6.8616212367455 \\cdot 10^{53}}$<br>$I_{V1} = \\frac{- 8.50108420672212 \\cdot 10^{67} s^{4} - 3.50560343494762 \\cdot 10^{67} s^{3} - 3.43081042565398 \\cdot 10^{67} s^{2} - 6.86162021491303 \\cdot 10^{60} s - 3.43081013981931 \\cdot 10^{53}}{4.70450000000002 \\cdot 10^{67} s^{4} + 1.04410851476221 \\cdot 10^{68} s^{3} + 1.37239275064983 \\cdot 10^{68} s^{2} + 6.86162219385238 \\cdot 10^{67} s + 6.8616212367455 \\cdot 10^{60}}$<br>$I_{O2} = \\frac{- 3.40043368268885 \\cdot 10^{68} s^{3} - 4.73012714681996 \\cdot 10^{68} s^{2} - 1.37232483583875 \\cdot 10^{68} s - 1.37232436282607 \\cdot 10^{61}}{1.88180000000001 \\cdot 10^{68} s^{4} + 4.17643405904885 \\cdot 10^{68} s^{3} + 5.48957100259934 \\cdot 10^{68} s^{2} + 2.74464887754095 \\cdot 10^{68} s + 2.7446484946982 \\cdot 10^{61}}$<br>$I_{O1} = \\frac{8.50108420672212 \\cdot 10^{60} s^{4} + 1.20066876416697 \\cdot 10^{61} s^{3} + 3.50560378550787 \\cdot 10^{60} s^{2} + 3.50560258483919 \\cdot 10^{53} s}{4.70450000000002 \\cdot 10^{60} s^{4} + 1.04410851476221 \\cdot 10^{61} s^{3} + 1.37239275064983 \\cdot 10^{61} s^{2} + 6.86162219385238 \\cdot 10^{60} s + 6.8616212367455 \\cdot 10^{53}}$<br>"
      ],
      "text/plain": [
       "<IPython.core.display.Markdown object>"
      ]
     },
     "execution_count": 76,
     "metadata": {},
     "output_type": "execute_result"
    }
   ],
   "source": [
    "U = solve(NE,X)\n",
    "\n",
    "temp = ''\n",
    "for i in U.keys():\n",
    "    temp += '${:s} = {:s}$<br>'.format(latex(i),latex(U[i]))\n",
    "\n",
    "Markdown(temp)"
   ]
  },
  {
   "cell_type": "code",
   "execution_count": 77,
   "id": "79ed2014-28f0-4e72-9325-27b51c473d50",
   "metadata": {},
   "outputs": [
    {
     "data": {
      "image/png": "[encoded data removed]",
      "text/latex": [
       "$\\displaystyle \\frac{343081007509371 \\cdot \\left(10000000 s + 1\\right)}{50 \\cdot \\left(94090000000000400000 s^{4} + 208821702952442000000 s^{3} + 274478550129968000000 s^{2} + 137232443877047600000 s + 13723242473491\\right)}$"
      ],
      "text/plain": [
       "                                               343081007509371⋅(10000000⋅s + 1\n",
       "──────────────────────────────────────────────────────────────────────────────\n",
       "   ⎛                      4                          3                        \n",
       "50⋅⎝94090000000000400000⋅s  + 208821702952442000000⋅s  + 274478550129968000000\n",
       "\n",
       ")                                              \n",
       "───────────────────────────────────────────────\n",
       "  2                                           ⎞\n",
       "⋅s  + 137232443877047600000⋅s + 13723242473491⎠"
      ]
     },
     "execution_count": 77,
     "metadata": {},
     "output_type": "execute_result"
    }
   ],
   "source": [
    "H = (U[v2]/U[v1]).nsimplify().simplify().expand().together()\n",
    "H"
   ]
  },
  {
   "cell_type": "markdown",
   "id": "29748291-9d9e-4f21-ba05-58b5f4158568",
   "metadata": {},
   "source": [
    "#### Convert transfer function to SciPy system\n",
    "In this section we convert the SymPy equations into Numpy format.  \n",
    "\n",
    "Extract the numerator and denominator polynomials so that the system can be defined in SciPy."
   ]
  },
  {
   "cell_type": "code",
   "execution_count": 78,
   "id": "4e76ce6b-2bb5-4fcc-8c1c-9e3ed0188103",
   "metadata": {
    "tags": []
   },
   "outputs": [],
   "source": [
    "H_num, H_denom = fraction(H) #returns numerator and denominator"
   ]
  },
  {
   "cell_type": "markdown",
   "id": "d0e61c07-460b-44a5-b82c-3a5cd87c3311",
   "metadata": {},
   "source": [
    "The SciPy function, TransferFunction, represents the system as the continuous-time transfer function and takes as inputs the coeeficients of the numerator and denominator polynominals."
   ]
  },
  {
   "cell_type": "code",
   "execution_count": 79,
   "id": "e27351c4-6121-4f2f-b696-4a2bfaf02acd",
   "metadata": {
    "collapsed": false,
    "jupyter": {
     "outputs_hidden": false
    }
   },
   "outputs": [],
   "source": [
    "# convert symbolic to numpy polynomial\n",
    "a = np.array(Poly(H_num, s).all_coeffs(), dtype=float)\n",
    "b = np.array(Poly(H_denom, s).all_coeffs(), dtype=float)\n",
    "sys = signal.TransferFunction(a,b)"
   ]
  },
  {
   "cell_type": "markdown",
   "id": "294cc746-c622-47a7-ac65-08a212022241",
   "metadata": {},
   "source": [
    "### Poles and zeros of the low pass transfer function\n",
    "The poles and zeros of the transfer function can easly be obtained with the following code:"
   ]
  },
  {
   "cell_type": "code",
   "execution_count": 80,
   "id": "048a358c-ff6e-4db7-9f35-95437c96bd06",
   "metadata": {},
   "outputs": [],
   "source": [
    "sys_zeros = np.roots(sys.num)\n",
    "sys_poles = np.roots(sys.den)"
   ]
  },
  {
   "cell_type": "markdown",
   "id": "16a96130-9327-4c6c-891a-5873ae181f17",
   "metadata": {},
   "source": [
    "#### Low pass filter pole zero plot\n",
    "The poles and zeros of the preamp transfer function are plotted."
   ]
  },
  {
   "cell_type": "code",
   "execution_count": 81,
   "id": "4940e6bf-c50e-44f8-8d5d-f815e71e9369",
   "metadata": {},
   "outputs": [
    {
     "data": {
      "image/png": "[encoded data removed]",
      "text/plain": [
       "<Figure size 640x480 with 1 Axes>"
      ]
     },
     "metadata": {},
     "output_type": "display_data"
    }
   ],
   "source": [
    "plt.plot(np.real(sys_zeros), np.imag(sys_zeros), 'ob', markerfacecolor='none')\n",
    "plt.plot(np.real(sys_poles), np.imag(sys_poles), 'xr')\n",
    "plt.legend(['Zeros', 'Poles'], loc=1)\n",
    "plt.title('Pole / Zero Plot')\n",
    "plt.xlabel('real part, \\u03B1')\n",
    "plt.ylabel('imaginary part, j\\u03C9')\n",
    "plt.grid()\n",
    "plt.show()"
   ]
  },
  {
   "cell_type": "markdown",
   "id": "91b292a2-40fd-4578-9184-f7de5b42d332",
   "metadata": {},
   "source": [
    "Poles and zeros of the transfer function plotted on the complex plane. The units are in radian frequency.\n",
    "\n",
    "Printing these values in Hz."
   ]
  },
  {
   "cell_type": "code",
   "execution_count": 82,
   "id": "d2864fb1-0a7d-43b4-b9df-90c522fbd270",
   "metadata": {},
   "outputs": [
    {
     "name": "stdout",
     "output_type": "stream",
     "text": [
      "number of zeros: 1\n",
      "-0.00 Hz\n"
     ]
    }
   ],
   "source": [
    "print('number of zeros: {:d}'.format(len(sys_zeros)))\n",
    "for i in sys_zeros:\n",
    "    print('{:,.2f} Hz'.format(i/(2*np.pi)))"
   ]
  },
  {
   "cell_type": "code",
   "execution_count": 83,
   "id": "4ed6ae13-3ab6-4953-95f2-6c3dcf385fea",
   "metadata": {},
   "outputs": [
    {
     "name": "stdout",
     "output_type": "stream",
     "text": [
      "number of poles: 4\n",
      "-0.11+0.18j Hz\n",
      "-0.11-0.18j Hz\n",
      "-0.13+0.00j Hz\n",
      "-0.00+0.00j Hz\n"
     ]
    }
   ],
   "source": [
    "print('number of poles: {:d}'.format(len(sys_poles)))\n",
    "for i in sys_poles:\n",
    "    print('{:,.2f} Hz'.format(i/(2*np.pi)))"
   ]
  },
  {
   "cell_type": "markdown",
   "id": "2ec5203a-b9a0-414d-b0ed-a111815efe60",
   "metadata": {
    "tags": []
   },
   "source": [
    "### Bode plot\n",
    "Use the SciPy function [bode](https://docs.scipy.org/doc/scipy/reference/generated/scipy.signal.bode.html) to plot the magnitude and phase of the filter. In electrical engineering, a [Bode plot](https://en.wikipedia.org/wiki/Bode_plot) is a graph of the frequency response of a system. It is usually a combination of the magnitude (usually in decibels) of the frequency response and the phase shift. As originally conceived by Hendrik Wade Bode in the 1930s, the plot is an asymptotic approximation of the frequency response, using straight line segments. Bode plots are used to assess the stability of systems by finding the gain and phase margins."
   ]
  },
  {
   "cell_type": "code",
   "execution_count": 84,
   "id": "e7397450-c0a7-4361-bd2e-c605837090b8",
   "metadata": {},
   "outputs": [
    {
     "data": {
      "image/png": "[encoded data removed]",
      "text/plain": [
       "<Figure size 640x480 with 2 Axes>"
      ]
     },
     "metadata": {},
     "output_type": "display_data"
    }
   ],
   "source": [
    "x = np.logspace(-2, 1, 200, endpoint=False)*2*np.pi\n",
    "w, mag, phase = signal.bode(sys, w=x) # returns: rad/s, mag in dB, phase in deg\n",
    "\n",
    "fig, ax1 = plt.subplots()\n",
    "ax1.set_ylabel('magnitude, dB')\n",
    "ax1.set_xlabel('frequency, Hz')\n",
    "\n",
    "plt.semilogx(w/(2*np.pi), mag,'-b')    # Bode magnitude plot\n",
    "\n",
    "ax1.tick_params(axis='y')\n",
    "#ax1.set_ylim((-30,20))\n",
    "plt.grid()\n",
    "\n",
    "# instantiate a second y-axes that shares the same x-axis\n",
    "ax2 = ax1.twinx()\n",
    "color = 'tab:blue'\n",
    "\n",
    "plt.semilogx(w/(2*np.pi), phase,':',color='tab:red')  # Bode phase plot\n",
    "\n",
    "ax2.set_ylabel('phase, deg',color=color)\n",
    "ax2.tick_params(axis='y', labelcolor=color)\n",
    "#ax2.set_ylim((-5,25))\n",
    "\n",
    "plt.title('Magnitude and phase response')\n",
    "plt.show()"
   ]
  },
  {
   "cell_type": "markdown",
   "id": "e75647c2-5d35-409a-b9eb-da15086b8477",
   "metadata": {
    "tags": []
   },
   "source": [
    "### Filter impulse and step response\n",
    "Use the SciPy functions [impulse2](https://docs.scipy.org/doc/scipy/reference/generated/scipy.signal.impulse2.html) and [step2](https://docs.scipy.org/doc/scipy/reference/generated/scipy.signal.step2.html) to plot the impulse and step response of the system.\n",
    "\n",
    "The [impulse](https://en.wikipedia.org/wiki/Impulse_response) and [step response](https://en.wikipedia.org/wiki/Step_response) of the filter are plotted below. Any linear, time-invariant is completely characterized by its impulse response. The transfer function is the Laplace transform of the impulse response. The impulse response defines the response of a linear time-invariant system for all frequencies.\n",
    "\n",
    "In electronic engineering and control theory, step response is the time behavior of the outputs of a general system when its inputs change from zero to one in a very short time."
   ]
  },
  {
   "cell_type": "code",
   "execution_count": 85,
   "id": "c69a2de3-25a2-4d4d-9714-16fcc7beac8a",
   "metadata": {},
   "outputs": [
    {
     "data": {
      "image/png": "[encoded data removed]",
      "text/plain": [
       "<Figure size 1500x500 with 2 Axes>"
      ]
     },
     "metadata": {},
     "output_type": "display_data"
    }
   ],
   "source": [
    "plt.subplots(1,2,figsize=(15, 5))\n",
    "\n",
    "# using subplot function and creating\n",
    "# plot one\n",
    "plt.subplot(1, 2, 1)\n",
    "\n",
    "# impulse response\n",
    "t, y = signal.impulse2(sys,N=500)\n",
    "plt.plot(t/1e-3, y)\n",
    "plt.title('Impulse response')\n",
    "plt.ylabel('volts')\n",
    "plt.xlabel('time, msec')\n",
    "plt.grid()\n",
    "\n",
    "# using subplot function and creating plot two\n",
    "plt.subplot(1, 2, 2)\n",
    "\n",
    "t, y = signal.step2(sys,N=500)\n",
    "plt.plot(t/1e-3, y)\n",
    "plt.title('Step response')\n",
    "plt.ylabel('volts')\n",
    "plt.xlabel('time, msec')\n",
    "plt.grid()\n",
    "\n",
    "# show plot\n",
    "plt.show()"
   ]
  },
  {
   "cell_type": "markdown",
   "id": "0ae4dec9-b32c-46b4-8286-21c10d1e3f87",
   "metadata": {},
   "source": [
    "### Low pass filter group delay\n",
    "The following python code calculates and plots [group delay](https://en.wikipedia.org/wiki/Group_delay_and_phase_delay#). Frequency components of a signal are delayed when passed through a circuit and the signal delay will be different for the various frequencies unless the circuit has the property of being linear phase. The delay variation means that signals consisting of multiple frequency components will suffer distortion because these components are not delayed by the same amount of time at the output of the device.\n",
    "\n",
    "Group delay: $\\tau _{g}(\\omega )=-\\frac  {d\\phi (\\omega )}{d\\omega }$"
   ]
  },
  {
   "cell_type": "code",
   "execution_count": 86,
   "id": "fa874f7c-7fa0-4067-97d0-98245f7a30b2",
   "metadata": {},
   "outputs": [
    {
     "data": {
      "image/png": "[encoded data removed]",
      "text/plain": [
       "<Figure size 640x480 with 1 Axes>"
      ]
     },
     "metadata": {},
     "output_type": "display_data"
    }
   ],
   "source": [
    "#w_preamp, mag_preamp, phase_preamp = bp_sys.bode(w=x_axis_range)\n",
    "\n",
    "plt.title('group delay')\n",
    "plt.semilogx(w/(2*np.pi), -np.gradient(phase*np.pi/180)/np.gradient(w),'-',label='group delay')\n",
    "\n",
    "plt.ylabel('Group delay, sec')\n",
    "plt.xlabel('Frequency, Hz')\n",
    "plt.legend()\n",
    "plt.grid()\n",
    "plt.show()"
   ]
  },
  {
   "cell_type": "code",
   "execution_count": null,
   "id": "b41e1738-821f-4f57-ba9b-950f22470e0e",
   "metadata": {},
   "outputs": [],
   "source": []
  },
  {
   "cell_type": "markdown",
   "id": "3beab0d5-4de3-47bc-866c-dd75446f5cdc",
   "metadata": {
    "tags": []
   },
   "source": [
    "## Dual amplifier band pass filter\n",
    "![Dual amplifier band pass filter with compoenet values set to 1](DABP.png){#fig-DABP width=400}  \n",
    "\n",
    "The Dual Amplifier Bandpass (DABP) filter shown above is from @Williams1995, Figure 5-27. The filter was first described by @Sedra1975. The filter uses two Op Amps and has eight branches and 6 nodes. The DABP configuration has been found very useful for designs covering a wide range of Qs and frequencies. Component sensitivity is small, resonant frequency and Q are easily adjustable, and the element spread is low. \n",
    "\n",
    "$\\large{\\color {red} {\\text{describe circuit operation}}}$  \n",
    "\n",
    "describe what each component does in the circuit and the overall operation of the circuit. \n",
    "\n",
    "- V1\n",
    "- U1, U2\n",
    "\n",
    "The schematic was entered into LTSpice and the netlist was exported as shown below."
   ]
  },
  {
   "cell_type": "raw",
   "id": "ed97f717-daf8-45be-852a-dc903cb3e126",
   "metadata": {
    "jupyter": {
     "source_hidden": true
    },
    "tags": []
   },
   "source": [
    "<!--\n",
    "[Fainting in Coils](https://www.planetanalog.com/fainting-in-coils/)\n",
    "\n",
    "The required selectivity implied four-pole filters with about 10% bandwidth (passband width about 10% of the centre frequency). There is no shortage of ways to design this fairly basic spec as an active filter. There was just one leetle catch here though – the power budget. At least one of these filters is permanently on, and the maximum permissible system idle current, including the average current of all the associated digital clockwork, was down in the 30 uA region. Alarm bells rang straight away, as I saw in my mind’s eye the number of feasible op-amps on which I could build this filter count rapidly down to zero (in a John Connor, get-the-code-number kind of way). Low amplifier quiescent currents and high frequencies don’t mix, and the reason is simple. The lower the quiescent current, the lower the open-loop bandwidth of the amplifier. And the smaller the ratio of the open-loop bandwidth to the filter centre frequency, the more trouble you are going to get into.\n",
    "\n",
    "It’s only a rule of thumb, but it’s useful to look at the ‘f0 *Q’ product when judging this, and relate it to the gain bandwidth product of the amplifier. Let’s say we were building a filter with a centre frequency of 40kHz and a bandwidth of 10%, so a Q in the region of 10. The f0 Q product would be 400 kHz (Q is dimensionless). Now divide this into the GBW of the amplifier to get a figure of merit. The rule of thumb is: if that ratio is less than ten, there may be trouble ahead. Meaning a 4 MHz GBW requirement in that instance.\n",
    "\n",
    "```\n",
    "Dual-Amplifier Bandpass (DABP) Structure. The bandpass circuit of figure 5-27 was first introduced by Sedra and Espinoza (see bibliography). Truly remarkable performance in terms of available Q, low sensitivity, and flexibility can be obtained in comparison with alternate schemes involving two amplifiers.\n",
    "\n",
    "The transfer function is given by\n",
    "T(s) =\n",
    "$2/R1C s2+s1/R,C+1/R2R3C2\n",
    "(5-78)\n",
    "If we compare this expression with the general bandpass transfer function of equa- tion (5-48) and let R2 R3 = R2, the following design equations for the element values\n",
    "can be obtained.\n",
    "\n",
    "Ria A,\n",
    "R1b\n",
    "=\n",
    "2-A,\n",
    "and\n",
    "where A, is the desired gain at resonance.\n",
    "(5-86)\n",
    "to 4Q2. In comparison this circuit has a ratio of resistances determined by Q; so the The spread of element values of the MFBP section previously discussed is equal\n",
    "spread is much less.\n",
    "The DABP configuration has been found very useful for designs covering a wide range of Qs and frequencies. Component sensitivity is small, resonant frequency and Q are easily adjustable, and the element spread is low. The following example illus\n",
    "trates the use of this circuit.\n",
    "EXAMPLE 5-13\n",
    "REQUIRED: Design an active bandpass filter to meet the following specifications:\n",
    "Center frequency of 3000 Hz\n",
    "3 dB at ±30 Hz\n",
    "20 dB minimum at ±120 Hz\n",
    "RESULT:\n",
    "(a) If we consider the requirement as being arithmetically symmetrical, the bandpass steepness factor becomes\n",
    "A1 =\n",
    "stopband bandwidth passband bandwidth\n",
    "240 Hz = 4 60 Hz\n",
    "(2-19)\n",
    "We can determine from the curve of figure 2-34 that a second-order Butterworth low-pass filter provides over 20 dB of rejection within a frequency ratio of 4:1. The corresponding poles of the normalized low-pass filter are found in table 11-1 and are\n",
    "as follows:\n",
    "-0.7071j0.7071\n",
    "(b) To convert these poles to the bandpass form, first compute:\n",
    "Qbp\n",
    "fo\n",
    "=\n",
    "BW 3 dB\n",
    "3000 Hz = 50 60 Hz\n",
    "(2-16)\n",
    "\n",
    "where C is arbitrary. The value of R' in figure 5-27 can also be chosen at any conve- nient value. Circuit gain at f, is equal to 2.\n",
    "The following sensitivities can be derived:\n",
    "(41-5)\n",
    "S1 = 1\n",
    "R2\n",
    "R3\n",
    "Sk2 = Sk12 = Sk1 = str = -1/\n",
    "= 1/2\n",
    "(5-82)\n",
    "(5-83)\n",
    "(5-84)\n",
    "An interesting result of sensitivity studies is that if the bandwidths of both ampli- fiers are nearly equivalent, extremely small deviations of Q from the design values will occur. This is especially advantageous at higher frequencies where the amplifier poles have to be taken into account. It is then suggested that a dual-type amplifier be used for each filter section, since both amplifier halves will be closely matched to\n",
    "each other.\n",
    "A useful feature of this circuit is that resonant frequency and Q can be indepen- dently adjusted. Alignment can be accomplished by first adjusting R, for resonance at fr. Resistor R1 can then be adjusted for the desired Q without affecting the reso-\n",
    "nant frequency.\n",
    "Since each section provides a fixed gain of 2 at fr, a composite filter may require an additional amplification stage if higher gains are required. If a gain reduction i desired, resistor R1 can be split into two resistors to form a voltage divider in the same manner as in figure 5-25b. The resulting values are\n",
    "Ria\n",
    "=\n",
    "2R1\n",
    "Ar\n",
    "(5-85)\n",
    "-->"
   ]
  },
  {
   "cell_type": "raw",
   "id": "f0cbc49f-86aa-4218-a630-2e1988dc9d13",
   "metadata": {
    "jupyter": {
     "source_hidden": true
    },
    "tags": []
   },
   "source": [
    "<!--\n",
    "@ARTICLE{Sedra1975,\n",
    "  author={Sedra, A. and Espinoza, J.},\n",
    "  journal={IEEE Transactions on Circuits and Systems}, \n",
    "  title={Sensitivity and frequency limitations of biquadratic active filters}, \n",
    "  year={1975}\n",
    "}\n",
    "-->"
   ]
  },
  {
   "cell_type": "markdown",
   "id": "d2dadbe7-0bec-42d6-9ce9-72d2984fb37d",
   "metadata": {},
   "source": [
    "The netlist was modified and equated to the net list variable shown below."
   ]
  },
  {
   "cell_type": "code",
   "execution_count": 87,
   "id": "98e2c3d3-07b2-4f3b-a269-8f459fa82896",
   "metadata": {},
   "outputs": [],
   "source": [
    "net_list = '''\n",
    "O1 5 4 2\n",
    "O2 5 6 3\n",
    "R1 4 1 1\n",
    "R2 4 3 1\n",
    "R3 5 2 1\n",
    "R5 6 2 1\n",
    "R4 6 0 1\n",
    "C2 5 3 1\n",
    "C1 0 4 1\n",
    "V1 1 0 1\n",
    "'''"
   ]
  },
  {
   "cell_type": "markdown",
   "id": "f4e3fc07-cc0a-47fe-901e-f19fef9f10f5",
   "metadata": {},
   "source": [
    "Generate and display the network equations."
   ]
  },
  {
   "cell_type": "code",
   "execution_count": 88,
   "id": "6aec4605-6239-4e5c-9e28-5df815fbda01",
   "metadata": {},
   "outputs": [
    {
     "data": {
      "text/markdown": [
       "$I_{V1} + \\frac{v_{1}}{R_{1}} - \\frac{v_{4}}{R_{1}} = 0$<br>$I_{O1} + v_{2} \\cdot \\left(\\frac{1}{R_{5}} + \\frac{1}{R_{3}}\\right) - \\frac{v_{6}}{R_{5}} - \\frac{v_{5}}{R_{3}} = 0$<br>$- C_{2} s v_{5} + I_{O2} + v_{3} \\left(C_{2} s + \\frac{1}{R_{2}}\\right) - \\frac{v_{4}}{R_{2}} = 0$<br>$v_{4} \\left(C_{1} s + \\frac{1}{R_{2}} + \\frac{1}{R_{1}}\\right) - \\frac{v_{3}}{R_{2}} - \\frac{v_{1}}{R_{1}} = 0$<br>$- C_{2} s v_{3} + v_{5} \\left(C_{2} s + \\frac{1}{R_{3}}\\right) - \\frac{v_{2}}{R_{3}} = 0$<br>$v_{6} \\cdot \\left(\\frac{1}{R_{5}} + \\frac{1}{R_{4}}\\right) - \\frac{v_{2}}{R_{5}} = 0$<br>$v_{1} = V_{1}$<br>$- v_{4} + v_{5} = 0$<br>$v_{5} - v_{6} = 0$<br>"
      ],
      "text/plain": [
       "<IPython.core.display.Markdown object>"
      ]
     },
     "execution_count": 88,
     "metadata": {},
     "output_type": "execute_result"
    }
   ],
   "source": [
    "report, network_df, df2, A, X, Z = SymMNA.smna(net_list)\n",
    "\n",
    "# Put matricies into SymPy \n",
    "X = Matrix(X)\n",
    "Z = Matrix(Z)\n",
    "\n",
    "NE_sym = Eq(A*X,Z)\n",
    "\n",
    "temp = ''\n",
    "for i in range(len(X)):\n",
    "    temp += '${:s}$<br>'.format(latex(Eq((A*X)[i:i+1][0],Z[i])))\n",
    "\n",
    "Markdown(temp)"
   ]
  },
  {
   "cell_type": "markdown",
   "id": "18a0f1dc-8d34-4fe6-9fbb-559366995851",
   "metadata": {},
   "source": [
    "The symbols generated by the Python code are extraced by the SymPy function free_symbols and then declared as SymPy variables. "
   ]
  },
  {
   "cell_type": "code",
   "execution_count": 89,
   "id": "057bf98d-86b5-453c-93cc-3a71394e1189",
   "metadata": {},
   "outputs": [
    {
     "data": {
      "image/png": "[encoded data removed]",
      "text/latex": [
       "$\\displaystyle \\left( I_{O2}, \\  s, \\  R_{3}, \\  R_{4}, \\  R_{2}, \\  C_{2}, \\  R_{5}, \\  v_{4}, \\  v_{1}, \\  R_{1}, \\  v_{2}, \\  I_{O1}, \\  V_{1}, \\  v_{6}, \\  I_{V1}, \\  v_{5}, \\  v_{3}, \\  C_{1}\\right)$"
      ],
      "text/plain": [
       "(I_O2, s, R₃, R₄, R₂, C₂, R₅, v₄, v₁, R₁, v₂, I_O1, V₁, v₆, I_V1, v₅, v₃, C₁)"
      ]
     },
     "execution_count": 89,
     "metadata": {},
     "output_type": "execute_result"
    }
   ],
   "source": [
    "# turn the free symbols into SymPy variables\n",
    "var(str(NE_sym.free_symbols).replace('{','').replace('}',''))"
   ]
  },
  {
   "cell_type": "markdown",
   "id": "772b536f-21b8-4356-af31-d9373babdf52",
   "metadata": {},
   "source": [
    "Solve the network equations for the unknown node voltages and currents."
   ]
  },
  {
   "cell_type": "code",
   "execution_count": 90,
   "id": "217a0bf1-e8dc-48b3-a1d5-777688a60dee",
   "metadata": {},
   "outputs": [
    {
     "data": {
      "text/markdown": [
       "$v_{1} = V_{1}$<br>$v_{2} = \\frac{C_{2} R_{2} R_{3} R_{4} V_{1} s + C_{2} R_{2} R_{3} R_{5} V_{1} s}{C_{1} C_{2} R_{1} R_{2} R_{3} R_{4} s^{2} + C_{2} R_{2} R_{3} R_{4} s + R_{1} R_{5}}$<br>$v_{3} = \\frac{C_{2} R_{2} R_{3} R_{4} V_{1} s - R_{2} R_{5} V_{1}}{C_{1} C_{2} R_{1} R_{2} R_{3} R_{4} s^{2} + C_{2} R_{2} R_{3} R_{4} s + R_{1} R_{5}}$<br>$v_{4} = \\frac{C_{2} R_{2} R_{3} R_{4} V_{1} s}{C_{1} C_{2} R_{1} R_{2} R_{3} R_{4} s^{2} + C_{2} R_{2} R_{3} R_{4} s + R_{1} R_{5}}$<br>$v_{5} = \\frac{C_{2} R_{2} R_{3} R_{4} V_{1} s}{C_{1} C_{2} R_{1} R_{2} R_{3} R_{4} s^{2} + C_{2} R_{2} R_{3} R_{4} s + R_{1} R_{5}}$<br>$v_{6} = \\frac{C_{2} R_{2} R_{3} R_{4} V_{1} s}{C_{1} C_{2} R_{1} R_{2} R_{3} R_{4} s^{2} + C_{2} R_{2} R_{3} R_{4} s + R_{1} R_{5}}$<br>$I_{V1} = \\frac{- C_{1} C_{2} R_{2} R_{3} R_{4} V_{1} s^{2} - R_{5} V_{1}}{C_{1} C_{2} R_{1} R_{2} R_{3} R_{4} s^{2} + C_{2} R_{2} R_{3} R_{4} s + R_{1} R_{5}}$<br>$I_{O1} = \\frac{- C_{2} R_{2} R_{3} V_{1} s - C_{2} R_{2} R_{5} V_{1} s}{C_{1} C_{2} R_{1} R_{2} R_{3} R_{4} s^{2} + C_{2} R_{2} R_{3} R_{4} s + R_{1} R_{5}}$<br>$I_{O2} = \\frac{C_{2} R_{2} R_{5} V_{1} s + R_{5} V_{1}}{C_{1} C_{2} R_{1} R_{2} R_{3} R_{4} s^{2} + C_{2} R_{2} R_{3} R_{4} s + R_{1} R_{5}}$<br>"
      ],
      "text/plain": [
       "<IPython.core.display.Markdown object>"
      ]
     },
     "execution_count": 90,
     "metadata": {},
     "output_type": "execute_result"
    }
   ],
   "source": [
    "U_sym = solve(NE_sym,X)\n",
    "\n",
    "temp = ''\n",
    "for i in U_sym.keys():\n",
    "    temp += '${:s} = {:s}$<br>'.format(latex(i),latex(U_sym[i]))\n",
    "\n",
    "Markdown(temp)"
   ]
  },
  {
   "cell_type": "markdown",
   "id": "71bdec85-0b66-4a13-9ca8-aed5e64e3d9c",
   "metadata": {},
   "source": [
    "Solving for the transfer function at node 2."
   ]
  },
  {
   "cell_type": "code",
   "execution_count": 91,
   "id": "c480f6ab-3a4e-4929-9226-ecb842e92a1d",
   "metadata": {},
   "outputs": [
    {
     "data": {
      "image/png": "[encoded data removed]",
      "text/latex": [
       "$\\displaystyle \\frac{C_{2} R_{2} R_{3} R_{4} s + C_{2} R_{2} R_{3} R_{5} s}{C_{1} C_{2} R_{1} R_{2} R_{3} R_{4} s^{2} + C_{2} R_{2} R_{3} R_{4} s + R_{1} R_{5}}$"
      ],
      "text/plain": [
       "       C₂⋅R₂⋅R₃⋅R₄⋅s + C₂⋅R₂⋅R₃⋅R₅⋅s        \n",
       "────────────────────────────────────────────\n",
       "                   2                        \n",
       "C₁⋅C₂⋅R₁⋅R₂⋅R₃⋅R₄⋅s  + C₂⋅R₂⋅R₃⋅R₄⋅s + R₁⋅R₅"
      ]
     },
     "execution_count": 91,
     "metadata": {},
     "output_type": "execute_result"
    }
   ],
   "source": [
    "H_sym = U_sym[v2]/U_sym[v1]\n",
    "H_sym.cancel()"
   ]
  },
  {
   "cell_type": "markdown",
   "id": "1761bc85-1f3e-4b5a-b61e-d6a2f8f46be3",
   "metadata": {},
   "source": [
    "Using the function fraction() extract the numerator and denomiator of the transferfunction."
   ]
  },
  {
   "cell_type": "code",
   "execution_count": 92,
   "id": "7d69691a-98e8-4518-ae15-5197d3b47bbc",
   "metadata": {},
   "outputs": [],
   "source": [
    "num, den = fraction(H_sym.cancel())"
   ]
  },
  {
   "cell_type": "markdown",
   "id": "33625394-7ba7-4485-8f58-d500af2e3381",
   "metadata": {},
   "source": [
    "The denominator is a second order function of the Laplace variable s shown below."
   ]
  },
  {
   "cell_type": "code",
   "execution_count": 93,
   "id": "c3fa4511-f9b4-4a00-96cf-24d532edb5ab",
   "metadata": {},
   "outputs": [
    {
     "data": {
      "image/png": "[encoded data removed]",
      "text/latex": [
       "$\\displaystyle C_{1} C_{2} R_{1} R_{2} R_{3} R_{4} s^{2} + C_{2} R_{2} R_{3} R_{4} s + R_{1} R_{5}$"
      ],
      "text/plain": [
       "                   2                        \n",
       "C₁⋅C₂⋅R₁⋅R₂⋅R₃⋅R₄⋅s  + C₂⋅R₂⋅R₃⋅R₄⋅s + R₁⋅R₅"
      ]
     },
     "execution_count": 93,
     "metadata": {},
     "output_type": "execute_result"
    }
   ],
   "source": [
    "den"
   ]
  },
  {
   "cell_type": "markdown",
   "id": "5eba0fc8-39d7-48f7-b3a3-4b1a2b5bc410",
   "metadata": {},
   "source": [
    "The following code extracts the coefficients of s and these are assigned to variables, a, b and c."
   ]
  },
  {
   "cell_type": "code",
   "execution_count": 94,
   "id": "16c299db-c1ba-42cc-a70c-9cf9222c0deb",
   "metadata": {},
   "outputs": [],
   "source": [
    "p = Poly(den, s)\n",
    "a, b, c, = p.coeffs()"
   ]
  },
  {
   "cell_type": "markdown",
   "id": "957658df-8cec-43be-963c-14b98ef12063",
   "metadata": {},
   "source": [
    "Omega, $\\omega$, is the natural freguency of system and is determined by the following expression: "
   ]
  },
  {
   "cell_type": "code",
   "execution_count": 95,
   "id": "abe4c1cc-7c93-4894-8013-69d6577eed8e",
   "metadata": {},
   "outputs": [
    {
     "data": {
      "image/png": "[encoded data removed]",
      "text/latex": [
       "$\\displaystyle \\sqrt{\\frac{R_{5}}{C_{1} C_{2} R_{2} R_{3} R_{4}}}$"
      ],
      "text/plain": [
       "    ________________\n",
       "   ╱       R₅       \n",
       "  ╱  ────────────── \n",
       "╲╱   C₁⋅C₂⋅R₂⋅R₃⋅R₄ "
      ]
     },
     "execution_count": 95,
     "metadata": {},
     "output_type": "execute_result"
    }
   ],
   "source": [
    "omega = sqrt(c/a)\n",
    "omega"
   ]
  },
  {
   "cell_type": "markdown",
   "id": "fc84458e-acf9-4712-aefe-e20307a7c2b7",
   "metadata": {},
   "source": [
    "Q is a parameter that relates the damping ratio to the natural frequency. "
   ]
  },
  {
   "cell_type": "code",
   "execution_count": 96,
   "id": "46080b18-73fd-417a-8657-3e46cacc5d08",
   "metadata": {},
   "outputs": [
    {
     "data": {
      "image/png": "[encoded data removed]",
      "text/latex": [
       "$\\displaystyle C_{1} R_{1} \\sqrt{\\frac{R_{5}}{C_{1} C_{2} R_{2} R_{3} R_{4}}}$"
      ],
      "text/plain": [
       "          ________________\n",
       "         ╱       R₅       \n",
       "C₁⋅R₁⋅  ╱  ────────────── \n",
       "      ╲╱   C₁⋅C₂⋅R₂⋅R₃⋅R₄ "
      ]
     },
     "execution_count": 96,
     "metadata": {},
     "output_type": "execute_result"
    }
   ],
   "source": [
    "Q = omega/(b/a)\n",
    "Q"
   ]
  },
  {
   "cell_type": "markdown",
   "id": "d38cec84-3967-476b-94ea-a1cf261ce2e3",
   "metadata": {},
   "source": [
    "The design of a band pass filter can be accomplished by letting $C1 = C2 = Cn = 0.1\\mu$F, $R4 = R5 = Rp = 10$k and $R2 = R3 = R$. We can then solve for R at the desired $\\omega$ and $\\zeta$. For example, if we desire a band pass filter with a center frequency of 10 Hz, $\\omega = 2 \\pi 10$ and a damping ratio of $\\zeta = 0.5$, we can solve for the value of R that gives an $\\omega = 2 \\pi 10$ "
   ]
  },
  {
   "cell_type": "code",
   "execution_count": 97,
   "id": "76186404-628b-42d9-a6e8-08ffb64bb262",
   "metadata": {},
   "outputs": [
    {
     "data": {
      "image/png": "[encoded data removed]",
      "text/latex": [
       "$\\displaystyle 10000000.0 \\sqrt{\\frac{1}{R^{2}}}$"
      ],
      "text/plain": [
       "                ____\n",
       "               ╱ 1  \n",
       "10000000.0⋅   ╱  ── \n",
       "             ╱    2 \n",
       "           ╲╱    R  "
      ]
     },
     "execution_count": 97,
     "metadata": {},
     "output_type": "execute_result"
    }
   ],
   "source": [
    "R = Symbol('R')\n",
    "freq = 10 #Hz\n",
    "Cn = 0.1e-6\n",
    "Rp = 10e3\n",
    "omega_n = omega.subs({R2:R,R3:R,C1:Cn,C2:Cn,R5:Rp,R4:Rp})\n",
    "omega_n"
   ]
  },
  {
   "cell_type": "markdown",
   "id": "e80a0c2e-9464-42f1-bfd8-87db3cac7257",
   "metadata": {},
   "source": [
    "Solve for R with $\\omega = 10$Hz."
   ]
  },
  {
   "cell_type": "code",
   "execution_count": 98,
   "id": "646488ec-b53e-4b30-861d-ef2f13d062d3",
   "metadata": {},
   "outputs": [
    {
     "data": {
      "image/png": "[encoded data removed]",
      "text/latex": [
       "$\\displaystyle 159154.943091895$"
      ],
      "text/plain": [
       "159154.94309189534"
      ]
     },
     "execution_count": 98,
     "metadata": {},
     "output_type": "execute_result"
    }
   ],
   "source": [
    "Rn = solve(omega_n-freq*2*pi,R)\n",
    "Rn = float(Rn[1])\n",
    "Rn"
   ]
  },
  {
   "cell_type": "markdown",
   "id": "cff2927c-4769-4f86-ac55-6d385ededf05",
   "metadata": {},
   "source": [
    "Solve for R with $R2=R3=Rn$,"
   ]
  },
  {
   "cell_type": "code",
   "execution_count": 99,
   "id": "b1fa4c61-2236-4b1e-ac28-9272a81b7930",
   "metadata": {},
   "outputs": [
    {
     "data": {
      "image/png": "[encoded data removed]",
      "text/latex": [
       "$\\displaystyle 6.28318530717959 \\cdot 10^{-6} R_{1}$"
      ],
      "text/plain": [
       "6.28318530717959e-6⋅R₁"
      ]
     },
     "execution_count": 99,
     "metadata": {},
     "output_type": "execute_result"
    }
   ],
   "source": [
    "Q_n = Q.subs({R2:Rn,R3:Rn,C1:Cn,C2:Cn,R5:Rp,R4:Rp})\n",
    "Q_n"
   ]
  },
  {
   "cell_type": "markdown",
   "id": "136e10f3-b48b-4547-b730-7440c4caebe2",
   "metadata": {},
   "source": [
    "The damping ratio is a system parameter, denoted by $\\zeta$\n",
    "\n",
    "- underdamped: $\\zeta \\gt 1$, roots of the demoninator are real\n",
    "- critically damped: $\\zeta = 1$\n",
    "- overdamped: $\\zeta \\lt 1$, roots of the demoninator are complex \n",
    "\n",
    "Q factor is another non-dimensional characterization of the amount of damping; high Q indicates slow damping relative to the oscillation.\n",
    "\n",
    "$Q = \\frac {1}{2 \\zeta}$"
   ]
  },
  {
   "cell_type": "code",
   "execution_count": 100,
   "id": "6740c529-a6c0-4ac7-bf14-a01a8844b4e5",
   "metadata": {},
   "outputs": [
    {
     "data": {
      "image/png": "[encoded data removed]",
      "text/latex": [
       "$\\displaystyle 159154.943091895$"
      ],
      "text/plain": [
       "159154.94309189526"
      ]
     },
     "execution_count": 100,
     "metadata": {},
     "output_type": "execute_result"
    }
   ],
   "source": [
    "zeta = 0.5\n",
    "q_factor = 1/(2*zeta)\n",
    "R1n = solve(Q_n - q_factor,R1)\n",
    "R1n = float(R1n[0])\n",
    "R1n"
   ]
  },
  {
   "cell_type": "markdown",
   "id": "ac10976e-40fe-481e-aefb-6a110e4b3652",
   "metadata": {
    "tags": []
   },
   "source": [
    "Using the component values calculated above, these are substituted into the network equations. "
   ]
  },
  {
   "cell_type": "code",
   "execution_count": 101,
   "id": "02663f28-57a3-4e60-8393-3c076f536bf2",
   "metadata": {},
   "outputs": [],
   "source": [
    "NE = NE_sym.subs({V1:1.0, R1:R1n, R2:Rn, R3:Rn, R5:Rp, R4:Rp, C2:Cn, C1:Cn})"
   ]
  },
  {
   "cell_type": "markdown",
   "id": "564adf01-07e4-4cd3-b317-0128385d6f99",
   "metadata": {},
   "source": [
    "The equations are quickly solved by SymPy and the solution is displayed."
   ]
  },
  {
   "cell_type": "code",
   "execution_count": 102,
   "id": "8a41df67-80b7-4b95-aa0f-4f3f0f1d8ed6",
   "metadata": {},
   "outputs": [
    {
     "data": {
      "text/markdown": [
       "$v_{1} = 1.0$<br>$v_{2} = \\frac{1.25663706143592 \\cdot 10^{28} s}{1.0 \\cdot 10^{26} s^{2} + 6.28318530717961 \\cdot 10^{27} s + 3.94784176043575 \\cdot 10^{29}}$<br>$v_{3} = \\frac{6.28318530717959 \\cdot 10^{27} s - 3.94784176043575 \\cdot 10^{29}}{1.0 \\cdot 10^{26} s^{2} + 6.28318530717961 \\cdot 10^{27} s + 3.94784176043575 \\cdot 10^{29}}$<br>$v_{4} = \\frac{6.28318530717959 \\cdot 10^{27} s}{1.0 \\cdot 10^{26} s^{2} + 6.28318530717961 \\cdot 10^{27} s + 3.94784176043575 \\cdot 10^{29}}$<br>$v_{5} = \\frac{6.28318530717959 \\cdot 10^{27} s}{1.0 \\cdot 10^{26} s^{2} + 6.28318530717961 \\cdot 10^{27} s + 3.94784176043575 \\cdot 10^{29}}$<br>$v_{6} = \\frac{6.28318530717959 \\cdot 10^{27} s}{1.0 \\cdot 10^{26} s^{2} + 6.28318530717961 \\cdot 10^{27} s + 3.94784176043575 \\cdot 10^{29}}$<br>$I_{V1} = \\frac{- 6.28318530717959 \\cdot 10^{40} s^{2} - 1.25663706143592 \\cdot 10^{28} s - 2.48050213442399 \\cdot 10^{44}}{1.0 \\cdot 10^{46} s^{2} + 6.28318530717961 \\cdot 10^{47} s + 3.94784176043575 \\cdot 10^{49}}$<br>$I_{O1} = - \\frac{6.67796948322322 \\cdot 10^{30} s}{1.0 \\cdot 10^{33} s^{2} + 6.28318530717961 \\cdot 10^{34} s + 3.94784176043575 \\cdot 10^{36}}$<br>$I_{O2} = \\frac{3.94784176043575 \\cdot 10^{42} s + 2.48050213442399 \\cdot 10^{44}}{1.0 \\cdot 10^{46} s^{2} + 6.28318530717961 \\cdot 10^{47} s + 3.94784176043575 \\cdot 10^{49}}$<br>"
      ],
      "text/plain": [
       "<IPython.core.display.Markdown object>"
      ]
     },
     "execution_count": 102,
     "metadata": {},
     "output_type": "execute_result"
    }
   ],
   "source": [
    "U = solve(NE,X)\n",
    "\n",
    "temp = ''\n",
    "for i in U.keys():\n",
    "    temp += '${:s} = {:s}$<br>'.format(latex(i),latex(U[i]))\n",
    "\n",
    "Markdown(temp)"
   ]
  },
  {
   "cell_type": "markdown",
   "id": "4bbcbcc3-e937-4392-a3f3-214a7cbe3b1b",
   "metadata": {},
   "source": [
    "The transfer function is v2/v1 and some simplication is performed by the operations of nsimplify().simplify().expand().together()."
   ]
  },
  {
   "cell_type": "code",
   "execution_count": 103,
   "id": "3dd4bd3f-4ad9-43e8-a945-479cf76d49ee",
   "metadata": {},
   "outputs": [
    {
     "data": {
      "image/png": "[encoded data removed]",
      "text/latex": [
       "$\\displaystyle \\frac{1256637061435920 s}{10000000000000 s^{2} + 628318530717961 s + 39478417604357500}$"
      ],
      "text/plain": [
       "                    1256637061435920⋅s                   \n",
       "─────────────────────────────────────────────────────────\n",
       "                2                                        \n",
       "10000000000000⋅s  + 628318530717961⋅s + 39478417604357500"
      ]
     },
     "execution_count": 103,
     "metadata": {},
     "output_type": "execute_result"
    }
   ],
   "source": [
    "H = (U[v2]/U[v1]).nsimplify().simplify().expand().together()\n",
    "H"
   ]
  },
  {
   "cell_type": "markdown",
   "id": "5c79ba7f-fed4-4074-9a32-13ba65f89207",
   "metadata": {},
   "source": [
    "#### Convert transfer function to SciPy system\n",
    "In this section we convert the SymPy equations into Numpy format.  \n",
    "\n",
    "Extract the numerator and denominator polynomials so that the system can be defined in SciPy."
   ]
  },
  {
   "cell_type": "code",
   "execution_count": 104,
   "id": "3e1b6e0d-cc6d-4df7-a504-9f4ec1d2f9c4",
   "metadata": {
    "tags": []
   },
   "outputs": [],
   "source": [
    "H_num, H_denom = fraction(H) #returns numerator and denominator"
   ]
  },
  {
   "cell_type": "markdown",
   "id": "70e840f7-88e2-431e-b1e7-fbaf47b42dfe",
   "metadata": {},
   "source": [
    "The SciPy function, TransferFunction, represents the system as the continuous-time transfer function and takes as inputs the coeeficients of the numerator and denominator polynominals."
   ]
  },
  {
   "cell_type": "code",
   "execution_count": 105,
   "id": "6303e98b-dc11-4ff4-a7e8-53b28076aed0",
   "metadata": {
    "collapsed": false,
    "jupyter": {
     "outputs_hidden": false
    }
   },
   "outputs": [],
   "source": [
    "# convert symbolic to numpy polynomial\n",
    "a = np.array(Poly(H_num, s).all_coeffs(), dtype=float)\n",
    "b = np.array(Poly(H_denom, s).all_coeffs(), dtype=float)\n",
    "sys = signal.TransferFunction(a,b)"
   ]
  },
  {
   "cell_type": "raw",
   "id": "6da849a2-599b-4a21-a936-e5fc553a0f65",
   "metadata": {},
   "source": [
    "The poles and zeros of the transfer function can easly be obtained with the following code:"
   ]
  },
  {
   "cell_type": "code",
   "execution_count": 106,
   "id": "82b8930d-1140-4353-92cb-4313c1867b72",
   "metadata": {},
   "outputs": [],
   "source": [
    "sys_zeros = np.roots(sys.num)\n",
    "sys_poles = np.roots(sys.den)"
   ]
  },
  {
   "cell_type": "markdown",
   "id": "b10a5bcc-2a4e-43b7-ad93-20d40f97365d",
   "metadata": {},
   "source": [
    "The poles and zeros of the preamp transfer function are plotted."
   ]
  },
  {
   "cell_type": "code",
   "execution_count": 107,
   "id": "072136f7-a968-4748-aeb2-d0860e6112f7",
   "metadata": {},
   "outputs": [
    {
     "data": {
      "image/png": "[encoded data removed]",
      "text/plain": [
       "<Figure size 640x480 with 1 Axes>"
      ]
     },
     "metadata": {},
     "output_type": "display_data"
    }
   ],
   "source": [
    "plt.plot(np.real(sys_zeros), np.imag(sys_zeros), 'ob', markerfacecolor='none')\n",
    "plt.plot(np.real(sys_poles), np.imag(sys_poles), 'xr')\n",
    "plt.legend(['Zeros', 'Poles'], loc=0)\n",
    "plt.title('Pole / Zero Plot')\n",
    "plt.xlabel('real part, \\u03B1')\n",
    "plt.ylabel('imaginary part, j\\u03C9')\n",
    "plt.grid()\n",
    "plt.show()"
   ]
  },
  {
   "cell_type": "markdown",
   "id": "47616cc6-b14d-4e16-9fbb-51e1760f3397",
   "metadata": {},
   "source": [
    "Poles and zeros of the transfer function plotted on the complex plane. The units are in radian frequency.\n",
    "\n",
    "Printing these values units in Hz."
   ]
  },
  {
   "cell_type": "code",
   "execution_count": 108,
   "id": "b3925f62-43ca-47df-bbb1-410a22d80504",
   "metadata": {},
   "outputs": [
    {
     "name": "stdout",
     "output_type": "stream",
     "text": [
      "number of zeros: 1\n",
      "0.00 Hz\n"
     ]
    }
   ],
   "source": [
    "print('number of zeros: {:d}'.format(len(sys_zeros)))\n",
    "for i in sys_zeros:\n",
    "    print('{:,.2f} Hz'.format(i/(2*np.pi)))"
   ]
  },
  {
   "cell_type": "code",
   "execution_count": 109,
   "id": "4050ea73-54ae-449c-b518-7df8283d9388",
   "metadata": {},
   "outputs": [
    {
     "name": "stdout",
     "output_type": "stream",
     "text": [
      "number of poles: 2\n",
      "-5.00+8.66j Hz\n",
      "-5.00-8.66j Hz\n"
     ]
    }
   ],
   "source": [
    "print('number of poles: {:d}'.format(len(sys_poles)))\n",
    "for i in sys_poles:\n",
    "    print('{:,.2f} Hz'.format(i/(2*np.pi)))"
   ]
  },
  {
   "cell_type": "markdown",
   "id": "0bbf2e80-f416-4f36-87ea-b354f99d949c",
   "metadata": {
    "tags": []
   },
   "source": [
    "Use the SciPy function [bode](https://docs.scipy.org/doc/scipy/reference/generated/scipy.signal.bode.html) to plot the magnitude and phase of the filter. In electrical engineering, a [Bode plot](https://en.wikipedia.org/wiki/Bode_plot) is a graph of the frequency response of a system. It is usually a combination of the magnitude (usually in decibels) of the frequency response and the phase shift. As originally conceived by Hendrik Wade Bode in the 1930s, the plot is an asymptotic approximation of the frequency response, using straight line segments. Bode plots are used to assess the stability of systems by finding the gain and phase margins."
   ]
  },
  {
   "cell_type": "code",
   "execution_count": 110,
   "id": "7206cfd9-31d8-44e1-b85e-3edc2163208a",
   "metadata": {},
   "outputs": [
    {
     "data": {
      "image/png": "[encoded data removed]",
      "text/plain": [
       "<Figure size 640x480 with 2 Axes>"
      ]
     },
     "metadata": {},
     "output_type": "display_data"
    }
   ],
   "source": [
    "x = np.logspace(-2, 4, 200, endpoint=False)*2*np.pi\n",
    "w, mag, phase = signal.bode(sys, w=x) # returns: rad/s, mag in dB, phase in deg\n",
    "\n",
    "fig, ax1 = plt.subplots()\n",
    "ax1.set_ylabel('magnitude, dB')\n",
    "ax1.set_xlabel('frequency, Hz')\n",
    "\n",
    "plt.semilogx(w/(2*np.pi), mag,'-b')    # Bode magnitude plot\n",
    "\n",
    "ax1.tick_params(axis='y')\n",
    "#ax1.set_ylim((-30,20))\n",
    "plt.grid()\n",
    "\n",
    "# instantiate a second y-axes that shares the same x-axis\n",
    "ax2 = ax1.twinx()\n",
    "color = 'tab:blue'\n",
    "\n",
    "plt.semilogx(w/(2*np.pi), phase,':',color='tab:red')  # Bode phase plot\n",
    "\n",
    "ax2.set_ylabel('phase, deg',color=color)\n",
    "ax2.tick_params(axis='y', labelcolor=color)\n",
    "#ax2.set_ylim((-5,25))\n",
    "\n",
    "plt.title('Magnitude and phase response')\n",
    "plt.show()"
   ]
  },
  {
   "cell_type": "markdown",
   "id": "d8b75cb1-acf0-4d11-bbb7-3ed39441ea33",
   "metadata": {
    "tags": []
   },
   "source": [
    "Use the SciPy functions [impulse2](https://docs.scipy.org/doc/scipy/reference/generated/scipy.signal.impulse2.html) and [step2](https://docs.scipy.org/doc/scipy/reference/generated/scipy.signal.step2.html) to plot the impulse and step response of the system.\n",
    "\n",
    "The [impulse](https://en.wikipedia.org/wiki/Impulse_response) and [step response](https://en.wikipedia.org/wiki/Step_response) of the filter are plotted below. Any linear, time-invariant is completely characterized by its impulse response. The transfer function is the Laplace transform of the impulse response. The impulse response defines the response of a linear time-invariant system for all frequencies.\n",
    "\n",
    "In electronic engineering and control theory, step response is the time behavior of the outputs of a general system when its inputs change from zero to one in a very short time."
   ]
  },
  {
   "cell_type": "code",
   "execution_count": 111,
   "id": "7592407e-b5db-4009-8105-63777743b5e9",
   "metadata": {},
   "outputs": [
    {
     "data": {
      "image/png": "[encoded data removed]",
      "text/plain": [
       "<Figure size 1500x500 with 2 Axes>"
      ]
     },
     "metadata": {},
     "output_type": "display_data"
    }
   ],
   "source": [
    "plt.subplots(1,2,figsize=(15, 5))\n",
    "\n",
    "# using subplot function and creating\n",
    "# plot one\n",
    "plt.subplot(1, 2, 1)\n",
    "\n",
    "# impulse response\n",
    "t, y = signal.impulse2(sys,N=500)\n",
    "plt.plot(t/1e-3, y)\n",
    "plt.title('Impulse response')\n",
    "plt.ylabel('volts')\n",
    "plt.xlabel('time, msec')\n",
    "plt.grid()\n",
    "\n",
    "# using subplot function and creating plot two\n",
    "plt.subplot(1, 2, 2)\n",
    "\n",
    "t, y = signal.step2(sys,N=500)\n",
    "plt.plot(t/1e-3, y)\n",
    "plt.title('Step response')\n",
    "plt.ylabel('volts')\n",
    "plt.xlabel('time, msec')\n",
    "plt.grid()\n",
    "\n",
    "# show plot\n",
    "plt.show()"
   ]
  },
  {
   "cell_type": "markdown",
   "id": "f35d727c-d984-417d-8102-329691d16e2c",
   "metadata": {},
   "source": [
    "The following python code calculates and plots [group delay](https://en.wikipedia.org/wiki/Group_delay_and_phase_delay#). Frequency components of a signal are delayed when passed through a circuit and the signal delay will be different for the various frequencies unless the circuit has the property of being linear phase. The delay variation means that signals consisting of multiple frequency components will suffer distortion because these components are not delayed by the same amount of time at the output of the device.\n",
    "\n",
    "Group delay: $\\tau _{g}(\\omega )=-\\frac  {d\\phi (\\omega )}{d\\omega }$"
   ]
  },
  {
   "cell_type": "code",
   "execution_count": 112,
   "id": "9b53f3bc-b9bd-4675-addd-1d4a2a2ebe88",
   "metadata": {},
   "outputs": [
    {
     "data": {
      "image/png": "[encoded data removed]",
      "text/plain": [
       "<Figure size 640x480 with 1 Axes>"
      ]
     },
     "metadata": {},
     "output_type": "display_data"
    }
   ],
   "source": [
    "#w_preamp, mag_preamp, phase_preamp = bp_sys.bode(w=x_axis_range)\n",
    "\n",
    "plt.title('group delay')\n",
    "plt.semilogx(w/(2*np.pi), -np.gradient(phase*np.pi/180)/np.gradient(w),'-',label='group delay')\n",
    "\n",
    "plt.ylabel('Group delay, sec')\n",
    "plt.xlabel('Frequency, Hz')\n",
    "plt.legend()\n",
    "plt.grid()\n",
    "plt.show()"
   ]
  },
  {
   "cell_type": "markdown",
   "id": "c1110813-31a3-49ad-ad42-6359fbf7f439",
   "metadata": {
    "tags": []
   },
   "source": [
    "## Summary\n",
    "\n",
    "\n",
    "$\\large{\\color {red} {\\text{comment}}}$  "
   ]
  },
  {
   "cell_type": "code",
   "execution_count": null,
   "id": "94a2660f-e2c0-4218-ad50-67baf08b0d74",
   "metadata": {},
   "outputs": [],
   "source": []
  }
 ],
 "metadata": {
  "kernelspec": {
   "display_name": "Python 3 (ipykernel)",
   "language": "python",
   "name": "python3"
  },
  "language_info": {
   "codemirror_mode": {
    "name": "ipython",
    "version": 3
   },
   "file_extension": ".py",
   "mimetype": "text/x-python",
   "name": "python",
   "nbconvert_exporter": "python",
   "pygments_lexer": "ipython3",
   "version": "3.10.9"
  }
 },
 "nbformat": 4,
 "nbformat_minor": 5
}
