{
 "cells": [
  {
   "cell_type": "raw",
   "id": "002cae08-875b-47b6-af47-8c2e6dde9c52",
   "metadata": {},
   "source": [
    "---\n",
    "title:\n",
    "format: \n",
    "    html:\n",
    "        code-fold: false\n",
    "        embed-resources: false\n",
    "        code-tools: true\n",
    "        number-sections: true\n",
    "jupyter: python3\n",
    "---"
   ]
  },
  {
   "cell_type": "markdown",
   "id": "261c7c3c-7d5a-4d67-b87f-8f5470e74202",
   "metadata": {},
   "source": [
    "# Pi Filter\n",
    "\n",
    "![Pi filter schematic](Pi-Filter.png){#fig-pi-filter}  \n",
    "\n",
    "## Introduction\n",
    "A question posted on [Electronics Stackexchange](https://electronics.stackexchange.com/questions/681002/how-to-find-transfer-function-for-this-pi-filter-using-facts-method-with-6-react/681087#681087) by @user15174 looked interesting, he asked: \n",
    "\n",
    ">Am trying to apply the FACTS method to find out the transfer function for this circuit as shown below. This is a Pi-filter circuit with all its component parasitics and also including the source and load resistances. I would like to find out the transfer function of this circuit and match its plot from Mathcad with simulation.\n",
    "\n",
    ">First, to find out the zeros of the this transfer function by inspection, I placed all circuit elements in its high frequency state. I can observe the response Vout is still present. In that case, can I assume that this circuit has 6 zeros associated with it?\n",
    "\n",
    ">But as per the answer provided in this link, we have to place the other associated circuit element in its DC state and observe if the response is still present. Since this circuit has around 6 reactive elements, how do I decide which circuit element should be in DC State and which circuit element should be in high frequency state?\n",
    "\n",
    ">I was able to follow some examples done based on 2nd and 3rd order circuits shared in the above links. But with this circuit configuration and so many reactive elements, frankly am lost.\n",
    "It would be great if you could share some insight on how to derive the transfer function for this circuit including its poles and zeros.\n",
    "\n",
    "The FACTS (Fast Analytical Circuits Techniques) method refers to a circuit analysis technique that enables engineers to obtain the transfer functions and input and output impedances of a circuit by inspection without resorting to too much algebra. The circuits offered as illustrations of the technique are small with one or two branches. I was able to find several references on-line describing the FACTS method. \n",
    "\n",
    "@Middlebrook1991 seems to have been the first proponent of the method and describes what he calls design orientated analysis. He talks about low entropy equations, in which the terms and elements are ordered or grouped in such a way that their physical orgin, where they come from in the circuit, what part of the circuit contributes to this part of the final expression becomes obious. The method is also described in @Middlebrook1992. \n",
    "\n",
    "@basso2016 introduces the topic at a conference and has written a book on the subject. The method involves looking at time constants for branches with L's or C's. The advantage is that only pencil and paper are needed. "
   ]
  },
  {
   "cell_type": "raw",
   "id": "abed070b-09e9-47af-947a-ef485d3b8c34",
   "metadata": {
    "tags": []
   },
   "source": [
    "<!--\n",
    "\n",
    "@basso2016, Introduction to Fast Analytical Techniques: Application to Small-Signal Modeling\n",
    "\n",
    "- Time Constants and Poles\n",
    "- Identifying the Zeros\n",
    "\n",
    "Involves looking at time constants for branches with L's or C's.   \n",
    "requires learning the technique, advantage is that only pencil and paper are needed. But are the results accurate?\n",
    "\n",
    "@Middlebrook1991, Low-entropy expressions: the key to design-oriented analysis\n",
    "\n",
    "- Design is the reverse of analysis\n",
    "- doing the algebra on the circuit diagram\n",
    "- gives a simple example, \n",
    "\n",
    "A low entropy equation is one in which the terms and elements are ordered or grouped in such a way that their physical orgin, where they come from in the circuit, what part of the circuit contributes to this part of the final expression becomes obious.\n",
    "\n",
    "conventional algebra leads to high entropy equations\n",
    "\n",
    "Look at his equations 1 and 2 and the way the terms are rearanged - are thses two equaliventy? \n",
    "\n",
    "@Middlebrook1992, Methods of design orientated analysis: the quadratic equation revisited\n",
    "\n",
    "Need to know the intent of purpose of the circuit (specifiction or requirements)\n",
    "\n",
    "What did the community provide as answers? and what did the answers say relative to the FACTS method.\n",
    "\n",
    "@basso2016, Introduction to Fast Analytical Techniques: Application to Small-Signal Modeling\n",
    "\n",
    "- Time Constants and Poles\n",
    "- Identifying the Zeros\n",
    "\n",
    "Involves looking at time constants for branches with L's or C's.   \n",
    "requires learning the technique, advantage is that only pencil and paper are needed. But are the results accurate?\n",
    "-->\n",
    "\n",
    "<!--\n",
    "The FACTS reference is from @basso2016\n",
    "\n",
    "https://electronics.stackexchange.com/questions/681002/how-to-find-transfer-function-for-this-pi-filter-using-facts-method-with-6-react/681087#681087\n",
    "\n",
    "Get a list of references.\n",
    "\n",
    "What is the FACTS method?  See presentation for somewhat of an explination\n",
    "\n",
    "- Brute-force algebra complicates analysis  \n",
    "- More energy is needed to unveil these terms  \n",
    "- factor and rearrange coefficients  \n",
    "- simplify numerator and denominator  \n",
    "- Don’t make mistakes!  \n",
    "\n",
    "This is a high-entropy expression  \n",
    "\n",
    "- What if you could write the expression in one shot?  \n",
    "- Naturally reading gains, poles and zeros...  \n",
    "- This is a low-entropy expression  \n",
    "\n",
    "- Fast Analytical Techniques at a Glance  \n",
    "- Look at the circuit for s = 0  \n",
    "- Capacitor are open circuited  \n",
    "- Inductors are short circuited  \n",
    "- SPICE operating point calculation  \n",
    "- Determine the gain in this condition\n",
    "\n",
    "\n",
    "- Plotting a transfer function is easy with nowadays tools\n",
    "- You have no insight on what affects poles or zeros\n",
    "- Analytical analysis is important but the form matters\n",
    "- A low-entropy expression unveils contributors to poles/zeros\n",
    "- FACTs naturally lead to low-entropy expressions\n",
    "- Break the circuit into simple schematics\n",
    "- Determine time constants in each configuration\n",
    "- Small-signal analysis makes extensive use of FACTs\n",
    "- SPICE and Mathcad are useful instruments to track errors\n",
    "- Becoming skilled with FACT requires practice and tenacity!\n",
    "\n",
    "@fig-pi-filter\n",
    "\n",
    "- why this circuit?\n",
    "- what if parisidic elements are set to zero?\n",
    "\n",
    "-->"
   ]
  },
  {
   "cell_type": "markdown",
   "id": "822cd7e9-a9fe-4fc9-8d98-de88af92efd4",
   "metadata": {},
   "source": [
    "## Community answers\n",
    "There were two answers provided by the community. User @user347817 provided a detailed solution based on reducing the circuit to Z1, Z2 and Z3 as shown in @fig-pi-filter-franc and then substituting back into the transfer function the impedances for each of the Z's. User Telsa23 provided a shorter answer, also based on reducing the circuit to Z1, Z2 and Z3, but where a different expression for the transfer function was obtained. Neither of these answers follow the FACTS method.\n",
    "\n",
    "## Circuit description\n",
    "@fig-pi-filter shows the schematic as I re-drew it in LTSpice with all the values set to one. I numbered each of the nodes and made some changes to the reference designators. In the orginal question, no component values were provided. @user15174 stated that component parasitics are inclued, but he didn't indicate which circuit elements he considered parasitic. I'm going to consider C1, L3 and C2 as the main components of the Pi-Filter. $R_{in}$ and $R_{out}$ are the source and load impedances. All other elements in the schematic are parasitic and the values will be assigned later in the analysis.\n",
    " \n",
    "With C1, L3 and C2 being considerd as the main components, the circuit is a three section low pass filter, sometimes called a Pi filter because the connection represent the greek letter $\\pi$. The schematic in @fig-pi-filter has 13 branches and 8 nodes.  \n",
    "\n",
    "## Circuit analysis\n",
    "@user15174 asked for a FACTS analysis. However, I think the circuit is too complicated for a FACTS analsysis since this is a 6th order circuit. Following my review of FACTS, I present a 'brute force' analysis followed by a rework of @user347817's solution. A MNA of the filter with the parasitic components removed is presented. This is a third order circuit and SymPy can obtain solutions for the poles of the transfer function. \n",
    "\n",
    "## FACTS\n",
    "FACTS is a circuit analysis method where the transfer function is determined by some simple techniques and the poles and zeros of the transfer function are relatable to parts of the circuit and thereby some insight is gained into the operation of the circuit. The FACTS technique does take some practice and proficiency to master. The main advantage seems to be is the analysis technique can be quickly done without using a computer to find the DC gain of the network, the time constants of the  poles and zeros which can be directly written out as the system transfer function. The examples available on line use simple circuits of low order. Presummanlbly more detailed and complicated examples are available in [Fast Analytical Techniques for Electrical and Electronic Circuits](https://www.youtube.com/watch?v=uir9Js1l_r8), @basso2016 and @Vorpérian2020.\n",
    "\n",
    "According to the open source FACTS liturature:\n",
    "\n",
    ">The well-known and widely used methods of nodal or loop analysis, while effective for obtaining numerical solutions, are largely ineffective for deriving analytical solutions in symbolic form, except for simple circuits. Attempting to invert a matrix with symbolic entries, even for low-order matrices, results in tedious algebra and complex, high-entropy expressions that provide little meaningful insight.\n",
    "\n",
    "I don't agree with this assurtion. Simple circiuts are easily analyzied by hand or by inspection. Second order and lower lower circuits are ameaniable to FACTS or traditional nodal analysis, and I don't see the advantage of learning a new technique, which is limited to simple circuits. Symbolic MNA can easily handle higher order circuits beyond 2nd order. \n",
    "\n",
    "The circuit in question is a 6th order network and much too difficult to analysze by hand or with the FACTS method. \n",
    "\n",
    "FACTS procedure for determining a transfer function\n",
    "\n",
    "1. Identify the circuit's order\n",
    "2. Determine the DC Gain\n",
    "3. Find the Time Constants\n",
    "4. Identify the Zeros\n",
    "5. Form the Transfer Function\n",
    "6. Verification - It's recommended to use simulation tools like SPICE or mathematical software like Mathcad to verify the derived transfer function and ensure its accuracy\n",
    "\n",
    "I think the key to successfully using the FACTS method is to apply low order circuits where some an analyitical expression is desired. But the symbolic MNA code presented in this notebook can easily yeild simular results without learing a new technique. "
   ]
  },
  {
   "cell_type": "raw",
   "id": "a31ee459-7b42-45c5-a402-106b6411bc4f",
   "metadata": {},
   "source": [
    "<!--\n",
    "\n",
    "This approach often leads to algebraic paralysis, particularly when dealing with the intricate circuit designs encountered in real-world applications.\n",
    "\n",
    "or calculator to solve several equations to find the node voltages. \n",
    "\n",
    "- remove the parasitics, the analysis above used large values for the parasitics, might want to reduce paracitics to one tenth of component value, to keep problems the same.\n",
    "- follow the FACTS procedure\n",
    "- how does MNA of circuit w/o parasitics look in terms of complexity and/or reduction to just Z's?\n",
    "\n",
    "small circuits\n",
    "3 loops, less than 10 elements\n",
    "\n",
    "goal is to construct the transfer function and get expressions for poles and zeros in terms of the symbols. \n",
    "\n",
    "\n",
    "Understanding the Limitations of Traditional Circuit Analysis\n",
    "\n",
    "Traditional circuit analysis methods fall short when it comes to Design-Oriented Analysis. \n",
    "\n",
    "Since design is the reverse of analysis, the analysis process must be structured in a way that can be easily inverted for design. This means the resulting equations need to provide clear insights into the relationships between circuit elements and the overall circuit behavior.\n",
    "\n",
    "\n",
    "- Brute-force algebra complicates analysis, This is a high-entropy expression\n",
    "- Naturally reading gains, poles and zeros\n",
    "- Determine the gain at s=0\n",
    "- get circuit time constants\n",
    "- Rearrange the equation to unveil a pole and a zero\n",
    "\n",
    "\n",
    "Involves looking at time constants for branches with L's or C's.   \n",
    "requires learning the technique, advantage is that only pencil and paper are needed. But are the results accurate?\n",
    "\n",
    "@Middlebrook1991, Low-entropy expressions: the key to design-oriented analysis\n",
    "\n",
    "- Design is the reverse of analysis\n",
    "- doing the algebra on the circuit diagram\n",
    "- gives a simple example, \n",
    "\n",
    "A low entropy equation is one in which the terms and elements are ordered or grouped in such a way that their physical orgin, where they come from in the circuit, what part of the circuit contributes to this part of the final expression becomes obious.\n",
    "\n",
    "- Plotting a transfer function is easy with nowadays tools\n",
    "- You have no insight on what affects poles or zeros\n",
    "- Analytical analysis is important but the form matters\n",
    "- A low-entropy expression unveils contributors to poles/zeros\n",
    "- FACTs naturally lead to low-entropy expressions\n",
    "- Break the circuit into simple schematics\n",
    "- Determine time constants in each configuration\n",
    "- Small-signal analysis makes extensive use of FACTs\n",
    "- SPICE and Mathcad are useful instruments to track errors\n",
    "- Becoming skilled with FACT requires practice and tenacity!\n",
    "\n",
    "The assurtion made by the proponents of FACTS, is that brute force circuit analysis is complicated and error prone. The results of the brute force analysis are what the authors call high entropy expressions that offer little insight into the operation of the circuit. A low entropy expression allows one to naturally read the gains, poles and zeros of the expression, which is what FACTS aims to provide.   \n",
    "\n",
    "@user15174 stated that the Pi-filter circuit is drawn with the component parasitics. Including the component parasitics complicates the analysis and doesn't fit the FACTS paradigm of generating low entropy circuit equations.\n",
    "-->"
   ]
  },
  {
   "cell_type": "raw",
   "id": "650ed284-8e6b-486d-ad11-57ec8663cbf8",
   "metadata": {
    "tags": []
   },
   "source": [
    "<!--\n",
    "Notes from reference material\n",
    "1) @Middlebrook1991, Low-entropy expressions: the key to design-oriented analysis\n",
    "- Design is the reverse of analysis\n",
    "- doing the algebra on the circuit diagram\n",
    "- gives a simple example, \n",
    "\n",
    "A low entropy equation is one in which the terms and elements are ordered or grouped in such a way that their physical orgin, where they come from in the circuit, what part of the circuit contributes to this part of the final expression becomes obious.\n",
    "\n",
    "conventional algebra leads to high entropy equations\n",
    "\n",
    "Look at his equations 1 and 2 and the way the terms are rearanged - are thses two equaliventy? \n",
    "\n",
    "2) @Middlebrook1992, Methods of design orientated analysis: the quadratic equation revisited\n",
    "\n",
    "Need to know the intent of purpose of the circuit (specifiction or requirements)\n",
    "\n",
    "What did the community provide as answers? and what did the answers say relative to the FACTS method.\n",
    "\n",
    "3) @basso2016, Introduction to Fast Analytical Techniques: Application to Small-Signal Modeling\n",
    "- Time Constants and Poles\n",
    "- Identifying the Zeros\n",
    "\n",
    "Involves looking at time constants for branches with L's or C's.   \n",
    "requires learning the technique, advantage is that only pencil and paper are needed. But are the results accurate?\n",
    "\n",
    "4) Book: Fast analytical techniques for electrical and electronic circuits\n",
    "only have TOC\n",
    "- Today, the only method of circuit analysis known to most engineers and students is nodal or loop analysis. Although this works well for obtaining numerical solutions, it is almost useless for obtaining analytical solutions in all but the simplest cases.\n",
    "\n",
    "Not true - symbolic NMA is available\n",
    "\n",
    "- use less algebra and do most of it directly on the circuit diagram,\n",
    "- obtain meaningful analytical solutions to complex circuits with reactive elements and dependent sources by reducing them to a set of simple and purely resistive circuits which can be analyzed by inspection,\n",
    "- analyze feedback amplifiers easily using the simplest and most natural formulation,\n",
    "- analyze PWM converters easily using the model of the PWM switch.\n",
    "\n",
    "\n",
    "6) Linear Circuit Transfer Functions: An Introduction to Fast Analytical Techniques (IEEE Press) 1st Edition\n",
    "by Christophe P. Basso (Author)\n",
    "https://www.amazon.com/dp/1119236371\n",
    "\n",
    "Linear Circuit Transfer Functions: An introduction to Fast Analytical Techniques teaches readers how to determine transfer functions of linear passive and active circuits by applying Fast Analytical Circuits Techniques. Building on their existing knowledge of classical loop/nodal analysis, the book improves and expands their skills to unveil transfer functions in a swift and efficient manner.\n",
    "\n",
    "Starting with simple examples, the author explains step-by-step how expressing circuits time constants in different configurations leads to writing transfer functions in a compact and insightful way. By learning how to organize numerators and denominators in the fastest possible way, readers will speed-up analysis and predict the frequency response of simple to complex circuits. In some cases, they will be able to derive the final expression by inspection, without writing a line of algebra.\n",
    "\n",
    "Key features:\n",
    "\n",
    "- Emphasizes analysis through employing time constant-based methods discussed in other text books but not widely used or explained.\n",
    "- Develops current techniques on transfer functions, to fast analytical techniques leading to low-entropy transfer functions immediately exploitable for analysis purposes.\n",
    "- Covers calculation techniques pertinent to different fields, electrical, electronics, signal processing etc.\n",
    "- Describes how a technique is applied and demonstrates this through real design examples.\n",
    "- All Mathcad® files used in examples and problems are freely available for download.\n",
    "\n",
    "An ideal reference for electronics or electrical engineering professionals as well as BSEE and MSEE students, this book will help teach them how to: become skilled in the art of determining transfer function by using less algebra and obtaining results in a more effectual way; gain insight into a circuit’s operation by understanding how time constants rule dynamic responses; apply Fast Analytical Techniques to simple and complicated circuits, passive or active and be more efficient at solving problems.\n",
    "\n",
    "Of the skills needed to be an analog circuit engineer, one of them is the ability to construct from a circuit diagram a representation of the behavior of the circuit. For linear circuits, the well-established general scheme has been to express behavior in the complex frequency or s-domain. The cause-effect, or input-output behavior of a circuit is its transfer function, and when expressed as a function of s, essentially all that circuit engineers are interested in can be found from it (including the time-domain response) - hence the importance of transfer functions expressed in the s-domain. \n",
    "\n",
    "Circuits can often be compartmentalized into stages with only one or two reactances in each stage. These circuits can be formidable to analyze for engineers unaccustomed to using much math, yet Basso’s book presents higher-level circuit theorems or methods that reduce their apparent complexity. Chapter one starts easy, explaining basic concepts such as a port, the four possible transfer functions (input-output combinations of voltage and current), voltage dividers, Thevenin’s and Norton’s theorems, and how by shorting and opening circuits at the reactances, time constants can be found. These concepts form the “building blocks” for finding the three parameters of greatest interest: the transfer functions and input and output impedances. \n",
    "\n",
    "\n",
    "New outline:\n",
    "\n",
    "- rewrite description of FACTS\n",
    "    review notebookLM at https://notebooklm.google.com/notebook/d75967db-4b6d-4754-a54d-bf2491ab16bb?original_referer=https:%2F%2Fduckduckgo.com%23&pli=1\n",
    "- circuit analysis\n",
    "  - brute force, SMNA\n",
    "    - find the circuit time constants\n",
    "  - re-work of Franc's answer and my SymPy walk through of the same procedure\n",
    "    - rename variables\n",
    "    - find the circuit time constants\n",
    "  - FACTS solution w/ parasitices\n",
    "    - find the circuit time constants\n",
    "  - FACTS solution w/o parasitices \n",
    "    - find the circuit time constants\n",
    "- comparison of results\n",
    "  - compare time constants\n",
    "  \n",
    "-->"
   ]
  },
  {
   "cell_type": "markdown",
   "id": "3dd0fa9d-73bd-4f3b-a288-b59fa39f10a3",
   "metadata": {},
   "source": [
    "## 'Brute Force' MNA procedure\n",
    "Doing a so called brute force analysis. The goal is to get the transfer function, $H(s)=\\frac {V_2}{V_8}$ and the poles and zeros of $H(s)$. SymPy will be used to 'brute force' analyze the circuit and solve for the transfer function and find the poles and zeros. \n",
    "\n",
    "The net list for the filter is:\n",
    "```\n",
    "V1 8 0 1\n",
    "R_in 1 8 1\n",
    "R1 1 4 1\n",
    "Ra 3 1 1\n",
    "R2 2 3 1\n",
    "R3 2 6 1\n",
    "R_out 2 0 1\n",
    "L1 4 5 1 Rser=0\n",
    "L2 3 2 1 Rser=0\n",
    "L3 6 7 1 Rser=0\n",
    "C1 5 0 1\n",
    "C2 2 3 1\n",
    "C3 7 0 1\n",
    "```\n",
    "\n",
    "The following Python modules are used in this notebook."
   ]
  },
  {
   "cell_type": "code",
   "execution_count": 1,
   "id": "82d2408a-1ab4-42fa-8f0b-f7b5f7d9a9e3",
   "metadata": {
    "collapsed": false,
    "jupyter": {
     "outputs_hidden": false
    }
   },
   "outputs": [],
   "source": [
    "from sympy import *\n",
    "import numpy as np\n",
    "from tabulate import tabulate\n",
    "import pandas as pd\n",
    "from scipy import signal\n",
    "import matplotlib.pyplot as plt\n",
    "import SymMNA\n",
    "from IPython.display import display, Markdown, Math, Latex\n",
    "init_printing()"
   ]
  },
  {
   "cell_type": "markdown",
   "id": "059e489f-1897-4e0a-84fa-371c8d2dadb8",
   "metadata": {
    "tags": []
   },
   "source": [
    "Load the netlist generated from @fig-pi-filter."
   ]
  },
  {
   "cell_type": "code",
   "execution_count": 2,
   "id": "b1a234ff-9126-4b32-bf7d-5a904b0921a1",
   "metadata": {},
   "outputs": [],
   "source": [
    "net_list = '''\n",
    "V1 8 0 1\n",
    "R_in 1 8 1\n",
    "R1 1 4 1\n",
    "Ra 3 1 1\n",
    "R2 2 3 1\n",
    "R3 2 6 1\n",
    "R_out 2 0 1\n",
    "L1 4 5 1 \n",
    "L2 3 2 1 \n",
    "L3 6 7 1\n",
    "C1 5 0 1\n",
    "C2 2 3 1\n",
    "C3 7 0 1\n",
    "'''"
   ]
  },
  {
   "cell_type": "markdown",
   "id": "4d1a7371-adb8-44e0-80c8-42911538f2c6",
   "metadata": {},
   "source": [
    "Generate the network equations."
   ]
  },
  {
   "cell_type": "code",
   "execution_count": 3,
   "id": "5d1a8651-afae-40cc-905b-ed11b4a7b505",
   "metadata": {},
   "outputs": [
    {
     "data": {
      "text/markdown": [
       "$v_{1} \\cdot \\left(\\frac{1}{Ra} + \\frac{1}{R_{in}} + \\frac{1}{R_{1}}\\right) - \\frac{v_{3}}{Ra} - \\frac{v_{8}}{R_{in}} - \\frac{v_{4}}{R_{1}} = 0$<br>$- I_{L2} + v_{2} \\left(C_{2} s + \\frac{1}{R_{out}} + \\frac{1}{R_{3}} + \\frac{1}{R_{2}}\\right) + v_{3} \\left(- C_{2} s - \\frac{1}{R_{2}}\\right) - \\frac{v_{6}}{R_{3}} = 0$<br>$I_{L2} + v_{2} \\left(- C_{2} s - \\frac{1}{R_{2}}\\right) + v_{3} \\left(C_{2} s + \\frac{1}{Ra} + \\frac{1}{R_{2}}\\right) - \\frac{v_{1}}{Ra} = 0$<br>$I_{L1} - \\frac{v_{1}}{R_{1}} + \\frac{v_{4}}{R_{1}} = 0$<br>$C_{1} s v_{5} - I_{L1} = 0$<br>$I_{L3} - \\frac{v_{2}}{R_{3}} + \\frac{v_{6}}{R_{3}} = 0$<br>$C_{3} s v_{7} - I_{L3} = 0$<br>$I_{V1} - \\frac{v_{1}}{R_{in}} + \\frac{v_{8}}{R_{in}} = 0$<br>$v_{8} = V_{1}$<br>$- I_{L1} L_{1} s + v_{4} - v_{5} = 0$<br>$- I_{L2} L_{2} s - v_{2} + v_{3} = 0$<br>$- I_{L3} L_{3} s + v_{6} - v_{7} = 0$<br>"
      ],
      "text/plain": [
       "<IPython.core.display.Markdown object>"
      ]
     },
     "execution_count": 3,
     "metadata": {},
     "output_type": "execute_result"
    }
   ],
   "source": [
    "report, network_df, df2, A, X, Z = SymMNA.smna(net_list)\n",
    "\n",
    "# Put matricies into SymPy \n",
    "X = Matrix(X)\n",
    "Z = Matrix(Z)\n",
    "\n",
    "NE_sym = Eq(A*X,Z)\n",
    "\n",
    "# generate markdown text to display the network equations.\n",
    "temp = ''\n",
    "for i in range(len(X)):\n",
    "    temp += '${:s}$<br>'.format(latex(Eq((A*X)[i:i+1][0],Z[i])))\n",
    "\n",
    "Markdown(temp)"
   ]
  },
  {
   "cell_type": "markdown",
   "id": "011de790-2fe5-4406-9729-8227b434c78a",
   "metadata": {},
   "source": [
    "As shown above, MNA generated many equations and these would be difficult to solve by hand and a symbolic soultion would take a lot of computing time.\n",
    "\n",
    "The equations displayed in matrix notation are:"
   ]
  },
  {
   "cell_type": "code",
   "execution_count": 4,
   "id": "7a5b187a-0236-4159-9603-3f057665309d",
   "metadata": {},
   "outputs": [
    {
     "data": {
      "text/latex": [
       "$\\displaystyle \\left[\\begin{matrix}v_{1} \\cdot \\left(\\frac{1}{Ra} + \\frac{1}{R_{in}} + \\frac{1}{R_{1}}\\right) - \\frac{v_{3}}{Ra} - \\frac{v_{8}}{R_{in}} - \\frac{v_{4}}{R_{1}}\\\\- I_{L2} + v_{2} \\left(C_{2} s + \\frac{1}{R_{out}} + \\frac{1}{R_{3}} + \\frac{1}{R_{2}}\\right) + v_{3} \\left(- C_{2} s - \\frac{1}{R_{2}}\\right) - \\frac{v_{6}}{R_{3}}\\\\I_{L2} + v_{2} \\left(- C_{2} s - \\frac{1}{R_{2}}\\right) + v_{3} \\left(C_{2} s + \\frac{1}{Ra} + \\frac{1}{R_{2}}\\right) - \\frac{v_{1}}{Ra}\\\\I_{L1} - \\frac{v_{1}}{R_{1}} + \\frac{v_{4}}{R_{1}}\\\\C_{1} s v_{5} - I_{L1}\\\\I_{L3} - \\frac{v_{2}}{R_{3}} + \\frac{v_{6}}{R_{3}}\\\\C_{3} s v_{7} - I_{L3}\\\\I_{V1} - \\frac{v_{1}}{R_{in}} + \\frac{v_{8}}{R_{in}}\\\\v_{8}\\\\- I_{L1} L_{1} s + v_{4} - v_{5}\\\\- I_{L2} L_{2} s - v_{2} + v_{3}\\\\- I_{L3} L_{3} s + v_{6} - v_{7}\\end{matrix}\\right] = \\left[\\begin{matrix}0\\\\0\\\\0\\\\0\\\\0\\\\0\\\\0\\\\0\\\\V_{1}\\\\0\\\\0\\\\0\\end{matrix}\\right]$"
      ],
      "text/plain": [
       "⎡              ⎛1     1    1 ⎞   v₃    v₈   v₄            ⎤       \n",
       "⎢           v₁⋅⎜── + ─── + ──⎟ - ── - ─── - ──            ⎥       \n",
       "⎢              ⎝Ra   Rᵢₙ   R₁⎠   Ra   Rᵢₙ   R₁            ⎥       \n",
       "⎢                                                         ⎥       \n",
       "⎢           ⎛        1     1    1 ⎞      ⎛        1 ⎞   v₆⎥       \n",
       "⎢-I_L2 + v₂⋅⎜C₂⋅s + ──── + ── + ──⎟ + v₃⋅⎜-C₂⋅s - ──⎟ - ──⎥       \n",
       "⎢           ⎝       Rₒᵤₜ   R₃   R₂⎠      ⎝        R₂⎠   R₃⎥   ⎡0 ⎤\n",
       "⎢                                                         ⎥   ⎢  ⎥\n",
       "⎢              ⎛        1 ⎞      ⎛       1    1 ⎞   v₁    ⎥   ⎢0 ⎥\n",
       "⎢    I_L2 + v₂⋅⎜-C₂⋅s - ──⎟ + v₃⋅⎜C₂⋅s + ── + ──⎟ - ──    ⎥   ⎢  ⎥\n",
       "⎢              ⎝        R₂⎠      ⎝       Ra   R₂⎠   Ra    ⎥   ⎢0 ⎥\n",
       "⎢                                                         ⎥   ⎢  ⎥\n",
       "⎢                            v₁   v₄                      ⎥   ⎢0 ⎥\n",
       "⎢                     I_L1 - ── + ──                      ⎥   ⎢  ⎥\n",
       "⎢                            R₁   R₁                      ⎥   ⎢0 ⎥\n",
       "⎢                                                         ⎥   ⎢  ⎥\n",
       "⎢                     C₁⋅s⋅v₅ - I_L1                      ⎥   ⎢0 ⎥\n",
       "⎢                                                         ⎥ = ⎢  ⎥\n",
       "⎢                            v₂   v₆                      ⎥   ⎢0 ⎥\n",
       "⎢                     I_L3 - ── + ──                      ⎥   ⎢  ⎥\n",
       "⎢                            R₃   R₃                      ⎥   ⎢0 ⎥\n",
       "⎢                                                         ⎥   ⎢  ⎥\n",
       "⎢                     C₃⋅s⋅v₇ - I_L3                      ⎥   ⎢V₁⎥\n",
       "⎢                                                         ⎥   ⎢  ⎥\n",
       "⎢                            v₁    v₈                     ⎥   ⎢0 ⎥\n",
       "⎢                    I_V1 - ─── + ───                     ⎥   ⎢  ⎥\n",
       "⎢                           Rᵢₙ   Rᵢₙ                     ⎥   ⎢0 ⎥\n",
       "⎢                                                         ⎥   ⎢  ⎥\n",
       "⎢                           v₈                            ⎥   ⎣0 ⎦\n",
       "⎢                                                         ⎥       \n",
       "⎢                  -I_L1⋅L₁⋅s + v₄ - v₅                   ⎥       \n",
       "⎢                                                         ⎥       \n",
       "⎢                  -I_L2⋅L₂⋅s - v₂ + v₃                   ⎥       \n",
       "⎢                                                         ⎥       \n",
       "⎣                  -I_L3⋅L₃⋅s + v₆ - v₇                   ⎦       "
      ]
     },
     "execution_count": 4,
     "metadata": {},
     "output_type": "execute_result"
    }
   ],
   "source": [
    "NE_sym"
   ]
  },
  {
   "cell_type": "markdown",
   "id": "628e3d8a-1f91-463e-81f2-daded878ba4d",
   "metadata": {},
   "source": [
    "The symbols generated by the Python code are extraced by the SymPy function free_symbols and then declared as SymPy variables. "
   ]
  },
  {
   "cell_type": "code",
   "execution_count": 5,
   "id": "07318984-f763-4bb7-b0b4-197296e0a265",
   "metadata": {},
   "outputs": [
    {
     "data": {
      "image/png": "[encoded data removed]",
      "text/latex": [
       "$\\displaystyle \\left( v_{1}, \\  v_{8}, \\  R_{3}, \\  R_{in}, \\  L_{2}, \\  L_{3}, \\  I_{L1}, \\  R_{2}, \\  v_{6}, \\  C_{1}, \\  v_{7}, \\  L_{1}, \\  R_{1}, \\  v_{4}, \\  I_{L2}, \\  C_{3}, \\  v_{2}, \\  s, \\  I_{V1}, \\  I_{L3}, \\  Ra, \\  R_{out}, \\  v_{5}, \\  V_{1}, \\  C_{2}, \\  v_{3}\\right)$"
      ],
      "text/plain": [
       "(v₁, v₈, R₃, Rᵢₙ, L₂, L₃, I_L1, R₂, v₆, C₁, v₇, L₁, R₁, v₄, I_L2, C₃, v₂, s, I\n",
       "_V1, I_L3, Ra, Rₒᵤₜ, v₅, V₁, C₂, v₃)"
      ]
     },
     "execution_count": 5,
     "metadata": {},
     "output_type": "execute_result"
    }
   ],
   "source": [
    "# turn the free symbols into SymPy variables\n",
    "var(str(NE_sym.free_symbols).replace('{','').replace('}',''))"
   ]
  },
  {
   "cell_type": "markdown",
   "id": "75bc3a00-00ec-434e-8aca-14c5cf7e2897",
   "metadata": {},
   "source": [
    "Generate the symbolic solution, which takes a couple of minutes on my laptop's Intel i3-8130U CPU @ 2.20GHz."
   ]
  },
  {
   "cell_type": "code",
   "execution_count": 6,
   "id": "7cc274d3-16cc-40a8-bd6b-20dabbdf17f2",
   "metadata": {},
   "outputs": [],
   "source": [
    "U_sym = solve(NE_sym,X)"
   ]
  },
  {
   "cell_type": "markdown",
   "id": "04880fec-c82a-4124-9716-94c05d856a96",
   "metadata": {},
   "source": [
    "The solution to the network equations in symbolic form are long, so the code to display them is commented out."
   ]
  },
  {
   "cell_type": "code",
   "execution_count": 7,
   "id": "8346e8f5-f733-482a-9a02-bf111ab02365",
   "metadata": {},
   "outputs": [],
   "source": [
    "#temp = ''\n",
    "#for i in U_sym.keys():\n",
    "#    temp += '${:s} = {:s}$<br>'.format(latex(i),latex(U_sym[i]))\n",
    "\n",
    "#Markdown(temp)"
   ]
  },
  {
   "cell_type": "markdown",
   "id": "a953d16f-1abd-4f4f-988a-6751231263d5",
   "metadata": {},
   "source": [
    "Solve for the transfer function $H(s)=\\frac {V_2}{V_8}$ in symbolic form. As you can see the expression is long. "
   ]
  },
  {
   "cell_type": "code",
   "execution_count": 8,
   "id": "0116f0ae-2071-417f-9193-ec954fbc974b",
   "metadata": {},
   "outputs": [
    {
     "data": {
      "image/png": "[encoded data removed]",
      "text/latex": [
       "$\\displaystyle \\frac{R_{out} \\left(C_{1} C_{2} C_{3} L_{1} L_{2} L_{3} R_{2} s^{6} + C_{1} C_{2} C_{3} L_{1} L_{2} R_{2} R_{3} s^{5} + C_{1} C_{2} C_{3} L_{2} L_{3} R_{1} R_{2} s^{5} + C_{1} C_{2} C_{3} L_{2} R_{1} R_{2} R_{3} s^{4} + C_{1} C_{2} L_{1} L_{2} R_{2} s^{4} + C_{1} C_{2} L_{2} R_{1} R_{2} s^{3} + C_{1} C_{3} L_{1} L_{2} L_{3} s^{5} + C_{1} C_{3} L_{1} L_{2} R_{3} s^{4} + C_{1} C_{3} L_{1} L_{3} R_{2} s^{4} + C_{1} C_{3} L_{1} R_{2} R_{3} s^{3} + C_{1} C_{3} L_{2} L_{3} R_{1} s^{4} + C_{1} C_{3} L_{2} R_{1} R_{3} s^{3} + C_{1} C_{3} L_{3} R_{1} R_{2} s^{3} + C_{1} C_{3} R_{1} R_{2} R_{3} s^{2} + C_{1} L_{1} L_{2} s^{3} + C_{1} L_{1} R_{2} s^{2} + C_{1} L_{2} R_{1} s^{2} + C_{1} R_{1} R_{2} s + C_{2} C_{3} L_{2} L_{3} R_{2} s^{4} + C_{2} C_{3} L_{2} R_{2} R_{3} s^{3} + C_{2} L_{2} R_{2} s^{2} + C_{3} L_{2} L_{3} s^{3} + C_{3} L_{2} R_{3} s^{2} + C_{3} L_{3} R_{2} s^{2} + C_{3} R_{2} R_{3} s + L_{2} s + R_{2}\\right)}{C_{1} C_{2} C_{3} L_{1} L_{2} L_{3} R_{2} R_{in} s^{6} + C_{1} C_{2} C_{3} L_{1} L_{2} L_{3} R_{2} R_{out} s^{6} + C_{1} C_{2} C_{3} L_{1} L_{2} L_{3} R_{2} Ra s^{6} + C_{1} C_{2} C_{3} L_{1} L_{2} R_{2} R_{3} R_{in} s^{5} + C_{1} C_{2} C_{3} L_{1} L_{2} R_{2} R_{3} R_{out} s^{5} + C_{1} C_{2} C_{3} L_{1} L_{2} R_{2} R_{3} Ra s^{5} + C_{1} C_{2} C_{3} L_{1} L_{2} R_{2} R_{in} R_{out} s^{5} + C_{1} C_{2} C_{3} L_{1} L_{2} R_{2} R_{out} Ra s^{5} + C_{1} C_{2} C_{3} L_{2} L_{3} R_{1} R_{2} R_{in} s^{5} + C_{1} C_{2} C_{3} L_{2} L_{3} R_{1} R_{2} R_{out} s^{5} + C_{1} C_{2} C_{3} L_{2} L_{3} R_{1} R_{2} Ra s^{5} + C_{1} C_{2} C_{3} L_{2} L_{3} R_{2} R_{in} R_{out} s^{5} + C_{1} C_{2} C_{3} L_{2} L_{3} R_{2} R_{in} Ra s^{5} + C_{1} C_{2} C_{3} L_{2} R_{1} R_{2} R_{3} R_{in} s^{4} + C_{1} C_{2} C_{3} L_{2} R_{1} R_{2} R_{3} R_{out} s^{4} + C_{1} C_{2} C_{3} L_{2} R_{1} R_{2} R_{3} Ra s^{4} + C_{1} C_{2} C_{3} L_{2} R_{1} R_{2} R_{in} R_{out} s^{4} + C_{1} C_{2} C_{3} L_{2} R_{1} R_{2} R_{out} Ra s^{4} + C_{1} C_{2} C_{3} L_{2} R_{2} R_{3} R_{in} R_{out} s^{4} + C_{1} C_{2} C_{3} L_{2} R_{2} R_{3} R_{in} Ra s^{4} + C_{1} C_{2} C_{3} L_{2} R_{2} R_{in} R_{out} Ra s^{4} + C_{1} C_{2} L_{1} L_{2} R_{2} R_{in} s^{4} + C_{1} C_{2} L_{1} L_{2} R_{2} R_{out} s^{4} + C_{1} C_{2} L_{1} L_{2} R_{2} Ra s^{4} + C_{1} C_{2} L_{2} R_{1} R_{2} R_{in} s^{3} + C_{1} C_{2} L_{2} R_{1} R_{2} R_{out} s^{3} + C_{1} C_{2} L_{2} R_{1} R_{2} Ra s^{3} + C_{1} C_{2} L_{2} R_{2} R_{in} R_{out} s^{3} + C_{1} C_{2} L_{2} R_{2} R_{in} Ra s^{3} + C_{1} C_{3} L_{1} L_{2} L_{3} R_{2} s^{5} + C_{1} C_{3} L_{1} L_{2} L_{3} R_{in} s^{5} + C_{1} C_{3} L_{1} L_{2} L_{3} R_{out} s^{5} + C_{1} C_{3} L_{1} L_{2} L_{3} Ra s^{5} + C_{1} C_{3} L_{1} L_{2} R_{2} R_{3} s^{4} + C_{1} C_{3} L_{1} L_{2} R_{2} R_{out} s^{4} + C_{1} C_{3} L_{1} L_{2} R_{3} R_{in} s^{4} + C_{1} C_{3} L_{1} L_{2} R_{3} R_{out} s^{4} + C_{1} C_{3} L_{1} L_{2} R_{3} Ra s^{4} + C_{1} C_{3} L_{1} L_{2} R_{in} R_{out} s^{4} + C_{1} C_{3} L_{1} L_{2} R_{out} Ra s^{4} + C_{1} C_{3} L_{1} L_{3} R_{2} R_{in} s^{4} + C_{1} C_{3} L_{1} L_{3} R_{2} R_{out} s^{4} + C_{1} C_{3} L_{1} L_{3} R_{2} Ra s^{4} + C_{1} C_{3} L_{1} R_{2} R_{3} R_{in} s^{3} + C_{1} C_{3} L_{1} R_{2} R_{3} R_{out} s^{3} + C_{1} C_{3} L_{1} R_{2} R_{3} Ra s^{3} + C_{1} C_{3} L_{1} R_{2} R_{in} R_{out} s^{3} + C_{1} C_{3} L_{1} R_{2} R_{out} Ra s^{3} + C_{1} C_{3} L_{2} L_{3} R_{1} R_{2} s^{4} + C_{1} C_{3} L_{2} L_{3} R_{1} R_{in} s^{4} + C_{1} C_{3} L_{2} L_{3} R_{1} R_{out} s^{4} + C_{1} C_{3} L_{2} L_{3} R_{1} Ra s^{4} + C_{1} C_{3} L_{2} L_{3} R_{2} R_{in} s^{4} + C_{1} C_{3} L_{2} L_{3} R_{in} R_{out} s^{4} + C_{1} C_{3} L_{2} L_{3} R_{in} Ra s^{4} + C_{1} C_{3} L_{2} R_{1} R_{2} R_{3} s^{3} + C_{1} C_{3} L_{2} R_{1} R_{2} R_{out} s^{3} + C_{1} C_{3} L_{2} R_{1} R_{3} R_{in} s^{3} + C_{1} C_{3} L_{2} R_{1} R_{3} R_{out} s^{3} + C_{1} C_{3} L_{2} R_{1} R_{3} Ra s^{3} + C_{1} C_{3} L_{2} R_{1} R_{in} R_{out} s^{3} + C_{1} C_{3} L_{2} R_{1} R_{out} Ra s^{3} + C_{1} C_{3} L_{2} R_{2} R_{3} R_{in} s^{3} + C_{1} C_{3} L_{2} R_{2} R_{in} R_{out} s^{3} + C_{1} C_{3} L_{2} R_{3} R_{in} R_{out} s^{3} + C_{1} C_{3} L_{2} R_{3} R_{in} Ra s^{3} + C_{1} C_{3} L_{2} R_{in} R_{out} Ra s^{3} + C_{1} C_{3} L_{3} R_{1} R_{2} R_{in} s^{3} + C_{1} C_{3} L_{3} R_{1} R_{2} R_{out} s^{3} + C_{1} C_{3} L_{3} R_{1} R_{2} Ra s^{3} + C_{1} C_{3} L_{3} R_{2} R_{in} R_{out} s^{3} + C_{1} C_{3} L_{3} R_{2} R_{in} Ra s^{3} + C_{1} C_{3} R_{1} R_{2} R_{3} R_{in} s^{2} + C_{1} C_{3} R_{1} R_{2} R_{3} R_{out} s^{2} + C_{1} C_{3} R_{1} R_{2} R_{3} Ra s^{2} + C_{1} C_{3} R_{1} R_{2} R_{in} R_{out} s^{2} + C_{1} C_{3} R_{1} R_{2} R_{out} Ra s^{2} + C_{1} C_{3} R_{2} R_{3} R_{in} R_{out} s^{2} + C_{1} C_{3} R_{2} R_{3} R_{in} Ra s^{2} + C_{1} C_{3} R_{2} R_{in} R_{out} Ra s^{2} + C_{1} L_{1} L_{2} R_{2} s^{3} + C_{1} L_{1} L_{2} R_{in} s^{3} + C_{1} L_{1} L_{2} R_{out} s^{3} + C_{1} L_{1} L_{2} Ra s^{3} + C_{1} L_{1} R_{2} R_{in} s^{2} + C_{1} L_{1} R_{2} R_{out} s^{2} + C_{1} L_{1} R_{2} Ra s^{2} + C_{1} L_{2} R_{1} R_{2} s^{2} + C_{1} L_{2} R_{1} R_{in} s^{2} + C_{1} L_{2} R_{1} R_{out} s^{2} + C_{1} L_{2} R_{1} Ra s^{2} + C_{1} L_{2} R_{2} R_{in} s^{2} + C_{1} L_{2} R_{in} R_{out} s^{2} + C_{1} L_{2} R_{in} Ra s^{2} + C_{1} R_{1} R_{2} R_{in} s + C_{1} R_{1} R_{2} R_{out} s + C_{1} R_{1} R_{2} Ra s + C_{1} R_{2} R_{in} R_{out} s + C_{1} R_{2} R_{in} Ra s + C_{2} C_{3} L_{2} L_{3} R_{2} R_{in} s^{4} + C_{2} C_{3} L_{2} L_{3} R_{2} R_{out} s^{4} + C_{2} C_{3} L_{2} L_{3} R_{2} Ra s^{4} + C_{2} C_{3} L_{2} R_{2} R_{3} R_{in} s^{3} + C_{2} C_{3} L_{2} R_{2} R_{3} R_{out} s^{3} + C_{2} C_{3} L_{2} R_{2} R_{3} Ra s^{3} + C_{2} C_{3} L_{2} R_{2} R_{in} R_{out} s^{3} + C_{2} C_{3} L_{2} R_{2} R_{out} Ra s^{3} + C_{2} L_{2} R_{2} R_{in} s^{2} + C_{2} L_{2} R_{2} R_{out} s^{2} + C_{2} L_{2} R_{2} Ra s^{2} + C_{3} L_{2} L_{3} R_{2} s^{3} + C_{3} L_{2} L_{3} R_{in} s^{3} + C_{3} L_{2} L_{3} R_{out} s^{3} + C_{3} L_{2} L_{3} Ra s^{3} + C_{3} L_{2} R_{2} R_{3} s^{2} + C_{3} L_{2} R_{2} R_{out} s^{2} + C_{3} L_{2} R_{3} R_{in} s^{2} + C_{3} L_{2} R_{3} R_{out} s^{2} + C_{3} L_{2} R_{3} Ra s^{2} + C_{3} L_{2} R_{in} R_{out} s^{2} + C_{3} L_{2} R_{out} Ra s^{2} + C_{3} L_{3} R_{2} R_{in} s^{2} + C_{3} L_{3} R_{2} R_{out} s^{2} + C_{3} L_{3} R_{2} Ra s^{2} + C_{3} R_{2} R_{3} R_{in} s + C_{3} R_{2} R_{3} R_{out} s + C_{3} R_{2} R_{3} Ra s + C_{3} R_{2} R_{in} R_{out} s + C_{3} R_{2} R_{out} Ra s + L_{2} R_{2} s + L_{2} R_{in} s + L_{2} R_{out} s + L_{2} Ra s + R_{2} R_{in} + R_{2} R_{out} + R_{2} Ra}$"
      ],
      "text/plain": [
       "                                                                              \n",
       "                                                                              \n",
       "──────────────────────────────────────────────────────────────────────────────\n",
       "                          6                              6                    \n",
       "C₁⋅C₂⋅C₃⋅L₁⋅L₂⋅L₃⋅R₂⋅Rᵢₙ⋅s  + C₁⋅C₂⋅C₃⋅L₁⋅L₂⋅L₃⋅R₂⋅Rₒᵤₜ⋅s  + C₁⋅C₂⋅C₃⋅L₁⋅L₂⋅L₃\n",
       "\n",
       "                                                                              \n",
       "                                                                              \n",
       "──────────────────────────────────────────────────────────────────────────────\n",
       "        6                             5                              5        \n",
       "⋅R₂⋅Ra⋅s  + C₁⋅C₂⋅C₃⋅L₁⋅L₂⋅R₂⋅R₃⋅Rᵢₙ⋅s  + C₁⋅C₂⋅C₃⋅L₁⋅L₂⋅R₂⋅R₃⋅Rₒᵤₜ⋅s  + C₁⋅C₂\n",
       "\n",
       "                                                                              \n",
       "                                                                              \n",
       "──────────────────────────────────────────────────────────────────────────────\n",
       "                    5                               5                         \n",
       "⋅C₃⋅L₁⋅L₂⋅R₂⋅R₃⋅Ra⋅s  + C₁⋅C₂⋅C₃⋅L₁⋅L₂⋅R₂⋅Rᵢₙ⋅Rₒᵤₜ⋅s  + C₁⋅C₂⋅C₃⋅L₁⋅L₂⋅R₂⋅Rₒᵤₜ\n",
       "\n",
       "                                                                              \n",
       "                                                                              \n",
       "──────────────────────────────────────────────────────────────────────────────\n",
       "     5                             5                              5           \n",
       "⋅Ra⋅s  + C₁⋅C₂⋅C₃⋅L₂⋅L₃⋅R₁⋅R₂⋅Rᵢₙ⋅s  + C₁⋅C₂⋅C₃⋅L₂⋅L₃⋅R₁⋅R₂⋅Rₒᵤₜ⋅s  + C₁⋅C₂⋅C₃\n",
       "\n",
       "                                                                              \n",
       "                                                                              \n",
       "──────────────────────────────────────────────────────────────────────────────\n",
       "                 5                               5                            \n",
       "⋅L₂⋅L₃⋅R₁⋅R₂⋅Ra⋅s  + C₁⋅C₂⋅C₃⋅L₂⋅L₃⋅R₂⋅Rᵢₙ⋅Rₒᵤₜ⋅s  + C₁⋅C₂⋅C₃⋅L₂⋅L₃⋅R₂⋅Rᵢₙ⋅Ra⋅\n",
       "\n",
       "                                                                              \n",
       "                                                                              \n",
       "──────────────────────────────────────────────────────────────────────────────\n",
       " 5                             4                              4               \n",
       "s  + C₁⋅C₂⋅C₃⋅L₂⋅R₁⋅R₂⋅R₃⋅Rᵢₙ⋅s  + C₁⋅C₂⋅C₃⋅L₂⋅R₁⋅R₂⋅R₃⋅Rₒᵤₜ⋅s  + C₁⋅C₂⋅C₃⋅L₂⋅\n",
       "\n",
       "                                                                              \n",
       "                                                                              \n",
       "──────────────────────────────────────────────────────────────────────────────\n",
       "             4                               4                              4 \n",
       "R₁⋅R₂⋅R₃⋅Ra⋅s  + C₁⋅C₂⋅C₃⋅L₂⋅R₁⋅R₂⋅Rᵢₙ⋅Rₒᵤₜ⋅s  + C₁⋅C₂⋅C₃⋅L₂⋅R₁⋅R₂⋅Rₒᵤₜ⋅Ra⋅s  \n",
       "\n",
       "                                                                              \n",
       "                                                                              \n",
       "──────────────────────────────────────────────────────────────────────────────\n",
       "                              4                             4                 \n",
       "+ C₁⋅C₂⋅C₃⋅L₂⋅R₂⋅R₃⋅Rᵢₙ⋅Rₒᵤₜ⋅s  + C₁⋅C₂⋅C₃⋅L₂⋅R₂⋅R₃⋅Rᵢₙ⋅Ra⋅s  + C₁⋅C₂⋅C₃⋅L₂⋅R₂\n",
       "\n",
       "                                                                              \n",
       "                                                                              \n",
       "──────────────────────────────────────────────────────────────────────────────\n",
       "              4                       4                        4              \n",
       "⋅Rᵢₙ⋅Rₒᵤₜ⋅Ra⋅s  + C₁⋅C₂⋅L₁⋅L₂⋅R₂⋅Rᵢₙ⋅s  + C₁⋅C₂⋅L₁⋅L₂⋅R₂⋅Rₒᵤₜ⋅s  + C₁⋅C₂⋅L₁⋅L₂\n",
       "\n",
       "                                                                              \n",
       "                                                                              \n",
       "──────────────────────────────────────────────────────────────────────────────\n",
       "        4                       3                        3                    \n",
       "⋅R₂⋅Ra⋅s  + C₁⋅C₂⋅L₂⋅R₁⋅R₂⋅Rᵢₙ⋅s  + C₁⋅C₂⋅L₂⋅R₁⋅R₂⋅Rₒᵤₜ⋅s  + C₁⋅C₂⋅L₂⋅R₁⋅R₂⋅Ra\n",
       "\n",
       "                                                                              \n",
       "                                                                              \n",
       "──────────────────────────────────────────────────────────────────────────────\n",
       "  3                         3                       3                      5  \n",
       "⋅s  + C₁⋅C₂⋅L₂⋅R₂⋅Rᵢₙ⋅Rₒᵤₜ⋅s  + C₁⋅C₂⋅L₂⋅R₂⋅Rᵢₙ⋅Ra⋅s  + C₁⋅C₃⋅L₁⋅L₂⋅L₃⋅R₂⋅s  +\n",
       "\n",
       "                                                                              \n",
       "                                                                              \n",
       "──────────────────────────────────────────────────────────────────────────────\n",
       "                     5                        5                      5        \n",
       " C₁⋅C₃⋅L₁⋅L₂⋅L₃⋅Rᵢₙ⋅s  + C₁⋅C₃⋅L₁⋅L₂⋅L₃⋅Rₒᵤₜ⋅s  + C₁⋅C₃⋅L₁⋅L₂⋅L₃⋅Ra⋅s  + C₁⋅C₃\n",
       "\n",
       "                                                                              \n",
       "                                                                              \n",
       "──────────────────────────────────────────────────────────────────────────────\n",
       "              4                        4                       4              \n",
       "⋅L₁⋅L₂⋅R₂⋅R₃⋅s  + C₁⋅C₃⋅L₁⋅L₂⋅R₂⋅Rₒᵤₜ⋅s  + C₁⋅C₃⋅L₁⋅L₂⋅R₃⋅Rᵢₙ⋅s  + C₁⋅C₃⋅L₁⋅L₂\n",
       "\n",
       "                                                                              \n",
       "                                                                              \n",
       "──────────────────────────────────────────────────────────────────────────────\n",
       "          4                      4                         4                  \n",
       "⋅R₃⋅Rₒᵤₜ⋅s  + C₁⋅C₃⋅L₁⋅L₂⋅R₃⋅Ra⋅s  + C₁⋅C₃⋅L₁⋅L₂⋅Rᵢₙ⋅Rₒᵤₜ⋅s  + C₁⋅C₃⋅L₁⋅L₂⋅Rₒᵤ\n",
       "\n",
       "                                                                              \n",
       "                                                                              \n",
       "──────────────────────────────────────────────────────────────────────────────\n",
       "      4                       4                        4                      \n",
       "ₜ⋅Ra⋅s  + C₁⋅C₃⋅L₁⋅L₃⋅R₂⋅Rᵢₙ⋅s  + C₁⋅C₃⋅L₁⋅L₃⋅R₂⋅Rₒᵤₜ⋅s  + C₁⋅C₃⋅L₁⋅L₃⋅R₂⋅Ra⋅s\n",
       "\n",
       "                                                                              \n",
       "                                                                              \n",
       "──────────────────────────────────────────────────────────────────────────────\n",
       "4                       3                        3                      3     \n",
       "  + C₁⋅C₃⋅L₁⋅R₂⋅R₃⋅Rᵢₙ⋅s  + C₁⋅C₃⋅L₁⋅R₂⋅R₃⋅Rₒᵤₜ⋅s  + C₁⋅C₃⋅L₁⋅R₂⋅R₃⋅Ra⋅s  + C₁\n",
       "\n",
       "                                                        ⎛                     \n",
       "                                                   Rₒᵤₜ⋅⎝C₁⋅C₂⋅C₃⋅L₁⋅L₂⋅L₃⋅R₂⋅\n",
       "──────────────────────────────────────────────────────────────────────────────\n",
       "                    3                        3                      4         \n",
       "⋅C₃⋅L₁⋅R₂⋅Rᵢₙ⋅Rₒᵤₜ⋅s  + C₁⋅C₃⋅L₁⋅R₂⋅Rₒᵤₜ⋅Ra⋅s  + C₁⋅C₃⋅L₂⋅L₃⋅R₁⋅R₂⋅s  + C₁⋅C₃⋅\n",
       "\n",
       " 6                         5                         5                        \n",
       "s  + C₁⋅C₂⋅C₃⋅L₁⋅L₂⋅R₂⋅R₃⋅s  + C₁⋅C₂⋅C₃⋅L₂⋅L₃⋅R₁⋅R₂⋅s  + C₁⋅C₂⋅C₃⋅L₂⋅R₁⋅R₂⋅R₃⋅\n",
       "──────────────────────────────────────────────────────────────────────────────\n",
       "              4                        4                      4               \n",
       "L₂⋅L₃⋅R₁⋅Rᵢₙ⋅s  + C₁⋅C₃⋅L₂⋅L₃⋅R₁⋅Rₒᵤₜ⋅s  + C₁⋅C₃⋅L₂⋅L₃⋅R₁⋅Ra⋅s  + C₁⋅C₃⋅L₂⋅L₃⋅\n",
       "\n",
       " 4                   4                   3                   5                \n",
       "s  + C₁⋅C₂⋅L₁⋅L₂⋅R₂⋅s  + C₁⋅C₂⋅L₂⋅R₁⋅R₂⋅s  + C₁⋅C₃⋅L₁⋅L₂⋅L₃⋅s  + C₁⋅C₃⋅L₁⋅L₂⋅R\n",
       "──────────────────────────────────────────────────────────────────────────────\n",
       "        4                         4                       4                   \n",
       "R₂⋅Rᵢₙ⋅s  + C₁⋅C₃⋅L₂⋅L₃⋅Rᵢₙ⋅Rₒᵤₜ⋅s  + C₁⋅C₃⋅L₂⋅L₃⋅Rᵢₙ⋅Ra⋅s  + C₁⋅C₃⋅L₂⋅R₁⋅R₂⋅R\n",
       "\n",
       "   4                   4                   3                   4              \n",
       "₃⋅s  + C₁⋅C₃⋅L₁⋅L₃⋅R₂⋅s  + C₁⋅C₃⋅L₁⋅R₂⋅R₃⋅s  + C₁⋅C₃⋅L₂⋅L₃⋅R₁⋅s  + C₁⋅C₃⋅L₂⋅R₁\n",
       "──────────────────────────────────────────────────────────────────────────────\n",
       "   3                        3                       3                        3\n",
       "₃⋅s  + C₁⋅C₃⋅L₂⋅R₁⋅R₂⋅Rₒᵤₜ⋅s  + C₁⋅C₃⋅L₂⋅R₁⋅R₃⋅Rᵢₙ⋅s  + C₁⋅C₃⋅L₂⋅R₁⋅R₃⋅Rₒᵤₜ⋅s \n",
       "\n",
       "     3                   3                   2             3             2    \n",
       "⋅R₃⋅s  + C₁⋅C₃⋅L₃⋅R₁⋅R₂⋅s  + C₁⋅C₃⋅R₁⋅R₂⋅R₃⋅s  + C₁⋅L₁⋅L₂⋅s  + C₁⋅L₁⋅R₂⋅s  + C\n",
       "──────────────────────────────────────────────────────────────────────────────\n",
       "                      3                         3                        3    \n",
       " + C₁⋅C₃⋅L₂⋅R₁⋅R₃⋅Ra⋅s  + C₁⋅C₃⋅L₂⋅R₁⋅Rᵢₙ⋅Rₒᵤₜ⋅s  + C₁⋅C₃⋅L₂⋅R₁⋅Rₒᵤₜ⋅Ra⋅s  + C\n",
       "\n",
       "         2                                4                   3             2 \n",
       "₁⋅L₂⋅R₁⋅s  + C₁⋅R₁⋅R₂⋅s + C₂⋅C₃⋅L₂⋅L₃⋅R₂⋅s  + C₂⋅C₃⋅L₂⋅R₂⋅R₃⋅s  + C₂⋅L₂⋅R₂⋅s  \n",
       "──────────────────────────────────────────────────────────────────────────────\n",
       "                   3                         3                         3      \n",
       "₁⋅C₃⋅L₂⋅R₂⋅R₃⋅Rᵢₙ⋅s  + C₁⋅C₃⋅L₂⋅R₂⋅Rᵢₙ⋅Rₒᵤₜ⋅s  + C₁⋅C₃⋅L₂⋅R₃⋅Rᵢₙ⋅Rₒᵤₜ⋅s  + C₁⋅\n",
       "\n",
       "            3             2             2                         ⎞           \n",
       "+ C₃⋅L₂⋅L₃⋅s  + C₃⋅L₂⋅R₃⋅s  + C₃⋅L₃⋅R₂⋅s  + C₃⋅R₂⋅R₃⋅s + L₂⋅s + R₂⎠           \n",
       "──────────────────────────────────────────────────────────────────────────────\n",
       "                 3                         3                       3          \n",
       "C₃⋅L₂⋅R₃⋅Rᵢₙ⋅Ra⋅s  + C₁⋅C₃⋅L₂⋅Rᵢₙ⋅Rₒᵤₜ⋅Ra⋅s  + C₁⋅C₃⋅L₃⋅R₁⋅R₂⋅Rᵢₙ⋅s  + C₁⋅C₃⋅L\n",
       "\n",
       "                                                                              \n",
       "                                                                              \n",
       "──────────────────────────────────────────────────────────────────────────────\n",
       "              3                      3                         3              \n",
       "₃⋅R₁⋅R₂⋅Rₒᵤₜ⋅s  + C₁⋅C₃⋅L₃⋅R₁⋅R₂⋅Ra⋅s  + C₁⋅C₃⋅L₃⋅R₂⋅Rᵢₙ⋅Rₒᵤₜ⋅s  + C₁⋅C₃⋅L₃⋅R₂\n",
       "\n",
       "                                                                              \n",
       "                                                                              \n",
       "──────────────────────────────────────────────────────────────────────────────\n",
       "         3                       2                        2                   \n",
       "⋅Rᵢₙ⋅Ra⋅s  + C₁⋅C₃⋅R₁⋅R₂⋅R₃⋅Rᵢₙ⋅s  + C₁⋅C₃⋅R₁⋅R₂⋅R₃⋅Rₒᵤₜ⋅s  + C₁⋅C₃⋅R₁⋅R₂⋅R₃⋅R\n",
       "\n",
       "                                                                              \n",
       "                                                                              \n",
       "──────────────────────────────────────────────────────────────────────────────\n",
       "   2                         2                        2                       \n",
       "a⋅s  + C₁⋅C₃⋅R₁⋅R₂⋅Rᵢₙ⋅Rₒᵤₜ⋅s  + C₁⋅C₃⋅R₁⋅R₂⋅Rₒᵤₜ⋅Ra⋅s  + C₁⋅C₃⋅R₂⋅R₃⋅Rᵢₙ⋅Rₒᵤₜ\n",
       "\n",
       "                                                                              \n",
       "                                                                              \n",
       "──────────────────────────────────────────────────────────────────────────────\n",
       "  2                       2                         2                3        \n",
       "⋅s  + C₁⋅C₃⋅R₂⋅R₃⋅Rᵢₙ⋅Ra⋅s  + C₁⋅C₃⋅R₂⋅Rᵢₙ⋅Rₒᵤₜ⋅Ra⋅s  + C₁⋅L₁⋅L₂⋅R₂⋅s  + C₁⋅L₁\n",
       "\n",
       "                                                                              \n",
       "                                                                              \n",
       "──────────────────────────────────────────────────────────────────────────────\n",
       "         3                  3                3                 2              \n",
       "⋅L₂⋅Rᵢₙ⋅s  + C₁⋅L₁⋅L₂⋅Rₒᵤₜ⋅s  + C₁⋅L₁⋅L₂⋅Ra⋅s  + C₁⋅L₁⋅R₂⋅Rᵢₙ⋅s  + C₁⋅L₁⋅R₂⋅Rₒ\n",
       "\n",
       "                                                                              \n",
       "                                                                              \n",
       "──────────────────────────────────────────────────────────────────────────────\n",
       "    2                2                2                 2                  2  \n",
       "ᵤₜ⋅s  + C₁⋅L₁⋅R₂⋅Ra⋅s  + C₁⋅L₂⋅R₁⋅R₂⋅s  + C₁⋅L₂⋅R₁⋅Rᵢₙ⋅s  + C₁⋅L₂⋅R₁⋅Rₒᵤₜ⋅s  +\n",
       "\n",
       "                                                                              \n",
       "                                                                              \n",
       "──────────────────────────────────────────────────────────────────────────────\n",
       "              2                 2                   2                 2       \n",
       " C₁⋅L₂⋅R₁⋅Ra⋅s  + C₁⋅L₂⋅R₂⋅Rᵢₙ⋅s  + C₁⋅L₂⋅Rᵢₙ⋅Rₒᵤₜ⋅s  + C₁⋅L₂⋅Rᵢₙ⋅Ra⋅s  + C₁⋅R\n",
       "\n",
       "                                                                              \n",
       "                                                                              \n",
       "──────────────────────────────────────────────────────────────────────────────\n",
       "                                                                              \n",
       "₁⋅R₂⋅Rᵢₙ⋅s + C₁⋅R₁⋅R₂⋅Rₒᵤₜ⋅s + C₁⋅R₁⋅R₂⋅Ra⋅s + C₁⋅R₂⋅Rᵢₙ⋅Rₒᵤₜ⋅s + C₁⋅R₂⋅Rᵢₙ⋅Ra\n",
       "\n",
       "                                                                              \n",
       "                                                                              \n",
       "──────────────────────────────────────────────────────────────────────────────\n",
       "                         4                        4                      4    \n",
       "⋅s + C₂⋅C₃⋅L₂⋅L₃⋅R₂⋅Rᵢₙ⋅s  + C₂⋅C₃⋅L₂⋅L₃⋅R₂⋅Rₒᵤₜ⋅s  + C₂⋅C₃⋅L₂⋅L₃⋅R₂⋅Ra⋅s  + C\n",
       "\n",
       "                                                                              \n",
       "                                                                              \n",
       "──────────────────────────────────────────────────────────────────────────────\n",
       "                   3                        3                      3          \n",
       "₂⋅C₃⋅L₂⋅R₂⋅R₃⋅Rᵢₙ⋅s  + C₂⋅C₃⋅L₂⋅R₂⋅R₃⋅Rₒᵤₜ⋅s  + C₂⋅C₃⋅L₂⋅R₂⋅R₃⋅Ra⋅s  + C₂⋅C₃⋅L\n",
       "\n",
       "                                                                              \n",
       "                                                                              \n",
       "──────────────────────────────────────────────────────────────────────────────\n",
       "               3                        3                 2                  2\n",
       "₂⋅R₂⋅Rᵢₙ⋅Rₒᵤₜ⋅s  + C₂⋅C₃⋅L₂⋅R₂⋅Rₒᵤₜ⋅Ra⋅s  + C₂⋅L₂⋅R₂⋅Rᵢₙ⋅s  + C₂⋅L₂⋅R₂⋅Rₒᵤₜ⋅s \n",
       "\n",
       "                                                                              \n",
       "                                                                              \n",
       "──────────────────────────────────────────────────────────────────────────────\n",
       "                2                3                 3                  3       \n",
       " + C₂⋅L₂⋅R₂⋅Ra⋅s  + C₃⋅L₂⋅L₃⋅R₂⋅s  + C₃⋅L₂⋅L₃⋅Rᵢₙ⋅s  + C₃⋅L₂⋅L₃⋅Rₒᵤₜ⋅s  + C₃⋅L\n",
       "\n",
       "                                                                              \n",
       "                                                                              \n",
       "──────────────────────────────────────────────────────────────────────────────\n",
       "         3                2                  2                 2              \n",
       "₂⋅L₃⋅Ra⋅s  + C₃⋅L₂⋅R₂⋅R₃⋅s  + C₃⋅L₂⋅R₂⋅Rₒᵤₜ⋅s  + C₃⋅L₂⋅R₃⋅Rᵢₙ⋅s  + C₃⋅L₂⋅R₃⋅Rₒ\n",
       "\n",
       "                                                                              \n",
       "                                                                              \n",
       "──────────────────────────────────────────────────────────────────────────────\n",
       "    2                2                   2                  2                 \n",
       "ᵤₜ⋅s  + C₃⋅L₂⋅R₃⋅Ra⋅s  + C₃⋅L₂⋅Rᵢₙ⋅Rₒᵤₜ⋅s  + C₃⋅L₂⋅Rₒᵤₜ⋅Ra⋅s  + C₃⋅L₃⋅R₂⋅Rᵢₙ⋅s\n",
       "\n",
       "                                                                              \n",
       "                                                                              \n",
       "──────────────────────────────────────────────────────────────────────────────\n",
       "2                  2                2                                         \n",
       "  + C₃⋅L₃⋅R₂⋅Rₒᵤₜ⋅s  + C₃⋅L₃⋅R₂⋅Ra⋅s  + C₃⋅R₂⋅R₃⋅Rᵢₙ⋅s + C₃⋅R₂⋅R₃⋅Rₒᵤₜ⋅s + C₃⋅\n",
       "\n",
       "                                                                              \n",
       "                                                                              \n",
       "──────────────────────────────────────────────────────────────────────────────\n",
       "                                                                              \n",
       "R₂⋅R₃⋅Ra⋅s + C₃⋅R₂⋅Rᵢₙ⋅Rₒᵤₜ⋅s + C₃⋅R₂⋅Rₒᵤₜ⋅Ra⋅s + L₂⋅R₂⋅s + L₂⋅Rᵢₙ⋅s + L₂⋅Rₒᵤₜ\n",
       "\n",
       "                                       \n",
       "                                       \n",
       "───────────────────────────────────────\n",
       "                                       \n",
       "⋅s + L₂⋅Ra⋅s + R₂⋅Rᵢₙ + R₂⋅Rₒᵤₜ + R₂⋅Ra"
      ]
     },
     "execution_count": 8,
     "metadata": {},
     "output_type": "execute_result"
    }
   ],
   "source": [
    "H_sym = (U_sym[v2]/U_sym[v8]).simplify()\n",
    "H_sym"
   ]
  },
  {
   "cell_type": "markdown",
   "id": "72acee28-f68e-4b5b-925d-b066afe55c40",
   "metadata": {},
   "source": [
    "As shown above the symbolic solution is long. The FACTS method is supposed to reveal aspects of the circuit operation that get hidden by the algebra. I think the Pi Filter with parasitic elements included is too complex. The FACTS method attempts to expose the poles and zeros in terms of the network components. It is possible that some simplification could be done and a more meaningful analyis could be performed. \n",
    "\n",
    "The numerator and denominator of the transfer function can be extracted for analysis. "
   ]
  },
  {
   "cell_type": "raw",
   "id": "4fe1d533-f8e4-4d15-8b4c-f4d3def781c6",
   "metadata": {
    "tags": []
   },
   "source": [
    "<!--\n",
    "\n",
    "H_num, H_denom = fraction(H_sym)\n",
    "\n",
    "expand\n",
    "\n",
    "expand() is one of the most common simplification functions in SymPy. Although it has a lot of scopes, for now, we will consider its function in expanding polynomial expressions. For example:\n",
    "\n",
    "Given a polynomial, expand() will put it into a canonical form of a sum of monomials.\n",
    "\n",
    "expand() may not sound like a simplification function. After all, by its very name, it makes expressions bigger, not smaller. Usually this is the case, but often an expression will become smaller upon calling expand() on it due to cancellation.\n",
    "\n",
    "cancel\n",
    "\n",
    "cancel() will take any rational function and put it into the standard canonical form,\n",
    ", where and are expanded polynomials with no common factors, and the leading coefficients of and do not have denominators (i.e., are integers).\n",
    "\n",
    "\n",
    "Note that since factor() will completely factorize both the numerator and the denominator of an expression, it can also be used to do the same thing:\n",
    "\n",
    "The voltage on node N is symplified with the chain of operators applied to the expression; [nsimplify()](https://docs.sympy.org/latest/modules/simplify/simplify.html#sympy.simplify.simplify.nsimplify), [simplify()](https://docs.sympy.org/latest/modules/simplify/simplify.html#simplify), [expand()](https://docs.sympy.org/latest/modules/core.html#sympy.core.function.expand) and [together()](https://docs.sympy.org/latest/modules/polys/reference.html#sympy.polys.rationaltools.together). This helps SymPy solve the inverse Laplace transform.\n",
    "\n",
    "-->"
   ]
  },
  {
   "cell_type": "code",
   "execution_count": 9,
   "id": "2cb18b4a-37b8-4cd0-9102-170183665bda",
   "metadata": {},
   "outputs": [
    {
     "data": {
      "text/plain": [
       "'numerator'"
      ]
     },
     "metadata": {},
     "output_type": "display_data"
    },
    {
     "data": {
      "image/png": "[encoded data removed]",
      "text/latex": [
       "$\\displaystyle R_{out} \\left(C_{1} C_{2} C_{3} L_{1} L_{2} L_{3} R_{2} s^{6} + C_{1} C_{2} C_{3} L_{1} L_{2} R_{2} R_{3} s^{5} + C_{1} C_{2} C_{3} L_{2} L_{3} R_{1} R_{2} s^{5} + C_{1} C_{2} C_{3} L_{2} R_{1} R_{2} R_{3} s^{4} + C_{1} C_{2} L_{1} L_{2} R_{2} s^{4} + C_{1} C_{2} L_{2} R_{1} R_{2} s^{3} + C_{1} C_{3} L_{1} L_{2} L_{3} s^{5} + C_{1} C_{3} L_{1} L_{2} R_{3} s^{4} + C_{1} C_{3} L_{1} L_{3} R_{2} s^{4} + C_{1} C_{3} L_{1} R_{2} R_{3} s^{3} + C_{1} C_{3} L_{2} L_{3} R_{1} s^{4} + C_{1} C_{3} L_{2} R_{1} R_{3} s^{3} + C_{1} C_{3} L_{3} R_{1} R_{2} s^{3} + C_{1} C_{3} R_{1} R_{2} R_{3} s^{2} + C_{1} L_{1} L_{2} s^{3} + C_{1} L_{1} R_{2} s^{2} + C_{1} L_{2} R_{1} s^{2} + C_{1} R_{1} R_{2} s + C_{2} C_{3} L_{2} L_{3} R_{2} s^{4} + C_{2} C_{3} L_{2} R_{2} R_{3} s^{3} + C_{2} L_{2} R_{2} s^{2} + C_{3} L_{2} L_{3} s^{3} + C_{3} L_{2} R_{3} s^{2} + C_{3} L_{3} R_{2} s^{2} + C_{3} R_{2} R_{3} s + L_{2} s + R_{2}\\right)$"
      ],
      "text/plain": [
       "     ⎛                      6                         5                       \n",
       "Rₒᵤₜ⋅⎝C₁⋅C₂⋅C₃⋅L₁⋅L₂⋅L₃⋅R₂⋅s  + C₁⋅C₂⋅C₃⋅L₁⋅L₂⋅R₂⋅R₃⋅s  + C₁⋅C₂⋅C₃⋅L₂⋅L₃⋅R₁⋅R₂\n",
       "\n",
       "  5                         4                   4                   3         \n",
       "⋅s  + C₁⋅C₂⋅C₃⋅L₂⋅R₁⋅R₂⋅R₃⋅s  + C₁⋅C₂⋅L₁⋅L₂⋅R₂⋅s  + C₁⋅C₂⋅L₂⋅R₁⋅R₂⋅s  + C₁⋅C₃⋅\n",
       "\n",
       "          5                   4                   4                   3       \n",
       "L₁⋅L₂⋅L₃⋅s  + C₁⋅C₃⋅L₁⋅L₂⋅R₃⋅s  + C₁⋅C₃⋅L₁⋅L₃⋅R₂⋅s  + C₁⋅C₃⋅L₁⋅R₂⋅R₃⋅s  + C₁⋅C\n",
       "\n",
       "            4                   3                   3                   2     \n",
       "₃⋅L₂⋅L₃⋅R₁⋅s  + C₁⋅C₃⋅L₂⋅R₁⋅R₃⋅s  + C₁⋅C₃⋅L₃⋅R₁⋅R₂⋅s  + C₁⋅C₃⋅R₁⋅R₂⋅R₃⋅s  + C₁\n",
       "\n",
       "        3             2             2                                4        \n",
       "⋅L₁⋅L₂⋅s  + C₁⋅L₁⋅R₂⋅s  + C₁⋅L₂⋅R₁⋅s  + C₁⋅R₁⋅R₂⋅s + C₂⋅C₃⋅L₂⋅L₃⋅R₂⋅s  + C₂⋅C₃\n",
       "\n",
       "           3             2             3             2             2          \n",
       "⋅L₂⋅R₂⋅R₃⋅s  + C₂⋅L₂⋅R₂⋅s  + C₃⋅L₂⋅L₃⋅s  + C₃⋅L₂⋅R₃⋅s  + C₃⋅L₃⋅R₂⋅s  + C₃⋅R₂⋅R\n",
       "\n",
       "               ⎞\n",
       "₃⋅s + L₂⋅s + R₂⎠"
      ]
     },
     "metadata": {},
     "output_type": "display_data"
    },
    {
     "data": {
      "text/plain": [
       "'denominator'"
      ]
     },
     "metadata": {},
     "output_type": "display_data"
    },
    {
     "data": {
      "image/png": "[encoded data removed]",
      "text/latex": [
       "$\\displaystyle C_{1} C_{2} C_{3} L_{1} L_{2} L_{3} R_{2} R_{in} s^{6} + C_{1} C_{2} C_{3} L_{1} L_{2} L_{3} R_{2} R_{out} s^{6} + C_{1} C_{2} C_{3} L_{1} L_{2} L_{3} R_{2} Ra s^{6} + C_{1} C_{2} C_{3} L_{1} L_{2} R_{2} R_{3} R_{in} s^{5} + C_{1} C_{2} C_{3} L_{1} L_{2} R_{2} R_{3} R_{out} s^{5} + C_{1} C_{2} C_{3} L_{1} L_{2} R_{2} R_{3} Ra s^{5} + C_{1} C_{2} C_{3} L_{1} L_{2} R_{2} R_{in} R_{out} s^{5} + C_{1} C_{2} C_{3} L_{1} L_{2} R_{2} R_{out} Ra s^{5} + C_{1} C_{2} C_{3} L_{2} L_{3} R_{1} R_{2} R_{in} s^{5} + C_{1} C_{2} C_{3} L_{2} L_{3} R_{1} R_{2} R_{out} s^{5} + C_{1} C_{2} C_{3} L_{2} L_{3} R_{1} R_{2} Ra s^{5} + C_{1} C_{2} C_{3} L_{2} L_{3} R_{2} R_{in} R_{out} s^{5} + C_{1} C_{2} C_{3} L_{2} L_{3} R_{2} R_{in} Ra s^{5} + C_{1} C_{2} C_{3} L_{2} R_{1} R_{2} R_{3} R_{in} s^{4} + C_{1} C_{2} C_{3} L_{2} R_{1} R_{2} R_{3} R_{out} s^{4} + C_{1} C_{2} C_{3} L_{2} R_{1} R_{2} R_{3} Ra s^{4} + C_{1} C_{2} C_{3} L_{2} R_{1} R_{2} R_{in} R_{out} s^{4} + C_{1} C_{2} C_{3} L_{2} R_{1} R_{2} R_{out} Ra s^{4} + C_{1} C_{2} C_{3} L_{2} R_{2} R_{3} R_{in} R_{out} s^{4} + C_{1} C_{2} C_{3} L_{2} R_{2} R_{3} R_{in} Ra s^{4} + C_{1} C_{2} C_{3} L_{2} R_{2} R_{in} R_{out} Ra s^{4} + C_{1} C_{2} L_{1} L_{2} R_{2} R_{in} s^{4} + C_{1} C_{2} L_{1} L_{2} R_{2} R_{out} s^{4} + C_{1} C_{2} L_{1} L_{2} R_{2} Ra s^{4} + C_{1} C_{2} L_{2} R_{1} R_{2} R_{in} s^{3} + C_{1} C_{2} L_{2} R_{1} R_{2} R_{out} s^{3} + C_{1} C_{2} L_{2} R_{1} R_{2} Ra s^{3} + C_{1} C_{2} L_{2} R_{2} R_{in} R_{out} s^{3} + C_{1} C_{2} L_{2} R_{2} R_{in} Ra s^{3} + C_{1} C_{3} L_{1} L_{2} L_{3} R_{2} s^{5} + C_{1} C_{3} L_{1} L_{2} L_{3} R_{in} s^{5} + C_{1} C_{3} L_{1} L_{2} L_{3} R_{out} s^{5} + C_{1} C_{3} L_{1} L_{2} L_{3} Ra s^{5} + C_{1} C_{3} L_{1} L_{2} R_{2} R_{3} s^{4} + C_{1} C_{3} L_{1} L_{2} R_{2} R_{out} s^{4} + C_{1} C_{3} L_{1} L_{2} R_{3} R_{in} s^{4} + C_{1} C_{3} L_{1} L_{2} R_{3} R_{out} s^{4} + C_{1} C_{3} L_{1} L_{2} R_{3} Ra s^{4} + C_{1} C_{3} L_{1} L_{2} R_{in} R_{out} s^{4} + C_{1} C_{3} L_{1} L_{2} R_{out} Ra s^{4} + C_{1} C_{3} L_{1} L_{3} R_{2} R_{in} s^{4} + C_{1} C_{3} L_{1} L_{3} R_{2} R_{out} s^{4} + C_{1} C_{3} L_{1} L_{3} R_{2} Ra s^{4} + C_{1} C_{3} L_{1} R_{2} R_{3} R_{in} s^{3} + C_{1} C_{3} L_{1} R_{2} R_{3} R_{out} s^{3} + C_{1} C_{3} L_{1} R_{2} R_{3} Ra s^{3} + C_{1} C_{3} L_{1} R_{2} R_{in} R_{out} s^{3} + C_{1} C_{3} L_{1} R_{2} R_{out} Ra s^{3} + C_{1} C_{3} L_{2} L_{3} R_{1} R_{2} s^{4} + C_{1} C_{3} L_{2} L_{3} R_{1} R_{in} s^{4} + C_{1} C_{3} L_{2} L_{3} R_{1} R_{out} s^{4} + C_{1} C_{3} L_{2} L_{3} R_{1} Ra s^{4} + C_{1} C_{3} L_{2} L_{3} R_{2} R_{in} s^{4} + C_{1} C_{3} L_{2} L_{3} R_{in} R_{out} s^{4} + C_{1} C_{3} L_{2} L_{3} R_{in} Ra s^{4} + C_{1} C_{3} L_{2} R_{1} R_{2} R_{3} s^{3} + C_{1} C_{3} L_{2} R_{1} R_{2} R_{out} s^{3} + C_{1} C_{3} L_{2} R_{1} R_{3} R_{in} s^{3} + C_{1} C_{3} L_{2} R_{1} R_{3} R_{out} s^{3} + C_{1} C_{3} L_{2} R_{1} R_{3} Ra s^{3} + C_{1} C_{3} L_{2} R_{1} R_{in} R_{out} s^{3} + C_{1} C_{3} L_{2} R_{1} R_{out} Ra s^{3} + C_{1} C_{3} L_{2} R_{2} R_{3} R_{in} s^{3} + C_{1} C_{3} L_{2} R_{2} R_{in} R_{out} s^{3} + C_{1} C_{3} L_{2} R_{3} R_{in} R_{out} s^{3} + C_{1} C_{3} L_{2} R_{3} R_{in} Ra s^{3} + C_{1} C_{3} L_{2} R_{in} R_{out} Ra s^{3} + C_{1} C_{3} L_{3} R_{1} R_{2} R_{in} s^{3} + C_{1} C_{3} L_{3} R_{1} R_{2} R_{out} s^{3} + C_{1} C_{3} L_{3} R_{1} R_{2} Ra s^{3} + C_{1} C_{3} L_{3} R_{2} R_{in} R_{out} s^{3} + C_{1} C_{3} L_{3} R_{2} R_{in} Ra s^{3} + C_{1} C_{3} R_{1} R_{2} R_{3} R_{in} s^{2} + C_{1} C_{3} R_{1} R_{2} R_{3} R_{out} s^{2} + C_{1} C_{3} R_{1} R_{2} R_{3} Ra s^{2} + C_{1} C_{3} R_{1} R_{2} R_{in} R_{out} s^{2} + C_{1} C_{3} R_{1} R_{2} R_{out} Ra s^{2} + C_{1} C_{3} R_{2} R_{3} R_{in} R_{out} s^{2} + C_{1} C_{3} R_{2} R_{3} R_{in} Ra s^{2} + C_{1} C_{3} R_{2} R_{in} R_{out} Ra s^{2} + C_{1} L_{1} L_{2} R_{2} s^{3} + C_{1} L_{1} L_{2} R_{in} s^{3} + C_{1} L_{1} L_{2} R_{out} s^{3} + C_{1} L_{1} L_{2} Ra s^{3} + C_{1} L_{1} R_{2} R_{in} s^{2} + C_{1} L_{1} R_{2} R_{out} s^{2} + C_{1} L_{1} R_{2} Ra s^{2} + C_{1} L_{2} R_{1} R_{2} s^{2} + C_{1} L_{2} R_{1} R_{in} s^{2} + C_{1} L_{2} R_{1} R_{out} s^{2} + C_{1} L_{2} R_{1} Ra s^{2} + C_{1} L_{2} R_{2} R_{in} s^{2} + C_{1} L_{2} R_{in} R_{out} s^{2} + C_{1} L_{2} R_{in} Ra s^{2} + C_{1} R_{1} R_{2} R_{in} s + C_{1} R_{1} R_{2} R_{out} s + C_{1} R_{1} R_{2} Ra s + C_{1} R_{2} R_{in} R_{out} s + C_{1} R_{2} R_{in} Ra s + C_{2} C_{3} L_{2} L_{3} R_{2} R_{in} s^{4} + C_{2} C_{3} L_{2} L_{3} R_{2} R_{out} s^{4} + C_{2} C_{3} L_{2} L_{3} R_{2} Ra s^{4} + C_{2} C_{3} L_{2} R_{2} R_{3} R_{in} s^{3} + C_{2} C_{3} L_{2} R_{2} R_{3} R_{out} s^{3} + C_{2} C_{3} L_{2} R_{2} R_{3} Ra s^{3} + C_{2} C_{3} L_{2} R_{2} R_{in} R_{out} s^{3} + C_{2} C_{3} L_{2} R_{2} R_{out} Ra s^{3} + C_{2} L_{2} R_{2} R_{in} s^{2} + C_{2} L_{2} R_{2} R_{out} s^{2} + C_{2} L_{2} R_{2} Ra s^{2} + C_{3} L_{2} L_{3} R_{2} s^{3} + C_{3} L_{2} L_{3} R_{in} s^{3} + C_{3} L_{2} L_{3} R_{out} s^{3} + C_{3} L_{2} L_{3} Ra s^{3} + C_{3} L_{2} R_{2} R_{3} s^{2} + C_{3} L_{2} R_{2} R_{out} s^{2} + C_{3} L_{2} R_{3} R_{in} s^{2} + C_{3} L_{2} R_{3} R_{out} s^{2} + C_{3} L_{2} R_{3} Ra s^{2} + C_{3} L_{2} R_{in} R_{out} s^{2} + C_{3} L_{2} R_{out} Ra s^{2} + C_{3} L_{3} R_{2} R_{in} s^{2} + C_{3} L_{3} R_{2} R_{out} s^{2} + C_{3} L_{3} R_{2} Ra s^{2} + C_{3} R_{2} R_{3} R_{in} s + C_{3} R_{2} R_{3} R_{out} s + C_{3} R_{2} R_{3} Ra s + C_{3} R_{2} R_{in} R_{out} s + C_{3} R_{2} R_{out} Ra s + L_{2} R_{2} s + L_{2} R_{in} s + L_{2} R_{out} s + L_{2} Ra s + R_{2} R_{in} + R_{2} R_{out} + R_{2} Ra$"
      ],
      "text/plain": [
       "                          6                              6                    \n",
       "C₁⋅C₂⋅C₃⋅L₁⋅L₂⋅L₃⋅R₂⋅Rᵢₙ⋅s  + C₁⋅C₂⋅C₃⋅L₁⋅L₂⋅L₃⋅R₂⋅Rₒᵤₜ⋅s  + C₁⋅C₂⋅C₃⋅L₁⋅L₂⋅L₃\n",
       "\n",
       "        6                             5                              5        \n",
       "⋅R₂⋅Ra⋅s  + C₁⋅C₂⋅C₃⋅L₁⋅L₂⋅R₂⋅R₃⋅Rᵢₙ⋅s  + C₁⋅C₂⋅C₃⋅L₁⋅L₂⋅R₂⋅R₃⋅Rₒᵤₜ⋅s  + C₁⋅C₂\n",
       "\n",
       "                    5                               5                         \n",
       "⋅C₃⋅L₁⋅L₂⋅R₂⋅R₃⋅Ra⋅s  + C₁⋅C₂⋅C₃⋅L₁⋅L₂⋅R₂⋅Rᵢₙ⋅Rₒᵤₜ⋅s  + C₁⋅C₂⋅C₃⋅L₁⋅L₂⋅R₂⋅Rₒᵤₜ\n",
       "\n",
       "     5                             5                              5           \n",
       "⋅Ra⋅s  + C₁⋅C₂⋅C₃⋅L₂⋅L₃⋅R₁⋅R₂⋅Rᵢₙ⋅s  + C₁⋅C₂⋅C₃⋅L₂⋅L₃⋅R₁⋅R₂⋅Rₒᵤₜ⋅s  + C₁⋅C₂⋅C₃\n",
       "\n",
       "                 5                               5                            \n",
       "⋅L₂⋅L₃⋅R₁⋅R₂⋅Ra⋅s  + C₁⋅C₂⋅C₃⋅L₂⋅L₃⋅R₂⋅Rᵢₙ⋅Rₒᵤₜ⋅s  + C₁⋅C₂⋅C₃⋅L₂⋅L₃⋅R₂⋅Rᵢₙ⋅Ra⋅\n",
       "\n",
       " 5                             4                              4               \n",
       "s  + C₁⋅C₂⋅C₃⋅L₂⋅R₁⋅R₂⋅R₃⋅Rᵢₙ⋅s  + C₁⋅C₂⋅C₃⋅L₂⋅R₁⋅R₂⋅R₃⋅Rₒᵤₜ⋅s  + C₁⋅C₂⋅C₃⋅L₂⋅\n",
       "\n",
       "             4                               4                              4 \n",
       "R₁⋅R₂⋅R₃⋅Ra⋅s  + C₁⋅C₂⋅C₃⋅L₂⋅R₁⋅R₂⋅Rᵢₙ⋅Rₒᵤₜ⋅s  + C₁⋅C₂⋅C₃⋅L₂⋅R₁⋅R₂⋅Rₒᵤₜ⋅Ra⋅s  \n",
       "\n",
       "                              4                             4                 \n",
       "+ C₁⋅C₂⋅C₃⋅L₂⋅R₂⋅R₃⋅Rᵢₙ⋅Rₒᵤₜ⋅s  + C₁⋅C₂⋅C₃⋅L₂⋅R₂⋅R₃⋅Rᵢₙ⋅Ra⋅s  + C₁⋅C₂⋅C₃⋅L₂⋅R₂\n",
       "\n",
       "              4                       4                        4              \n",
       "⋅Rᵢₙ⋅Rₒᵤₜ⋅Ra⋅s  + C₁⋅C₂⋅L₁⋅L₂⋅R₂⋅Rᵢₙ⋅s  + C₁⋅C₂⋅L₁⋅L₂⋅R₂⋅Rₒᵤₜ⋅s  + C₁⋅C₂⋅L₁⋅L₂\n",
       "\n",
       "        4                       3                        3                    \n",
       "⋅R₂⋅Ra⋅s  + C₁⋅C₂⋅L₂⋅R₁⋅R₂⋅Rᵢₙ⋅s  + C₁⋅C₂⋅L₂⋅R₁⋅R₂⋅Rₒᵤₜ⋅s  + C₁⋅C₂⋅L₂⋅R₁⋅R₂⋅Ra\n",
       "\n",
       "  3                         3                       3                      5  \n",
       "⋅s  + C₁⋅C₂⋅L₂⋅R₂⋅Rᵢₙ⋅Rₒᵤₜ⋅s  + C₁⋅C₂⋅L₂⋅R₂⋅Rᵢₙ⋅Ra⋅s  + C₁⋅C₃⋅L₁⋅L₂⋅L₃⋅R₂⋅s  +\n",
       "\n",
       "                     5                        5                      5        \n",
       " C₁⋅C₃⋅L₁⋅L₂⋅L₃⋅Rᵢₙ⋅s  + C₁⋅C₃⋅L₁⋅L₂⋅L₃⋅Rₒᵤₜ⋅s  + C₁⋅C₃⋅L₁⋅L₂⋅L₃⋅Ra⋅s  + C₁⋅C₃\n",
       "\n",
       "              4                        4                       4              \n",
       "⋅L₁⋅L₂⋅R₂⋅R₃⋅s  + C₁⋅C₃⋅L₁⋅L₂⋅R₂⋅Rₒᵤₜ⋅s  + C₁⋅C₃⋅L₁⋅L₂⋅R₃⋅Rᵢₙ⋅s  + C₁⋅C₃⋅L₁⋅L₂\n",
       "\n",
       "          4                      4                         4                  \n",
       "⋅R₃⋅Rₒᵤₜ⋅s  + C₁⋅C₃⋅L₁⋅L₂⋅R₃⋅Ra⋅s  + C₁⋅C₃⋅L₁⋅L₂⋅Rᵢₙ⋅Rₒᵤₜ⋅s  + C₁⋅C₃⋅L₁⋅L₂⋅Rₒᵤ\n",
       "\n",
       "      4                       4                        4                      \n",
       "ₜ⋅Ra⋅s  + C₁⋅C₃⋅L₁⋅L₃⋅R₂⋅Rᵢₙ⋅s  + C₁⋅C₃⋅L₁⋅L₃⋅R₂⋅Rₒᵤₜ⋅s  + C₁⋅C₃⋅L₁⋅L₃⋅R₂⋅Ra⋅s\n",
       "\n",
       "4                       3                        3                      3     \n",
       "  + C₁⋅C₃⋅L₁⋅R₂⋅R₃⋅Rᵢₙ⋅s  + C₁⋅C₃⋅L₁⋅R₂⋅R₃⋅Rₒᵤₜ⋅s  + C₁⋅C₃⋅L₁⋅R₂⋅R₃⋅Ra⋅s  + C₁\n",
       "\n",
       "                    3                        3                      4         \n",
       "⋅C₃⋅L₁⋅R₂⋅Rᵢₙ⋅Rₒᵤₜ⋅s  + C₁⋅C₃⋅L₁⋅R₂⋅Rₒᵤₜ⋅Ra⋅s  + C₁⋅C₃⋅L₂⋅L₃⋅R₁⋅R₂⋅s  + C₁⋅C₃⋅\n",
       "\n",
       "              4                        4                      4               \n",
       "L₂⋅L₃⋅R₁⋅Rᵢₙ⋅s  + C₁⋅C₃⋅L₂⋅L₃⋅R₁⋅Rₒᵤₜ⋅s  + C₁⋅C₃⋅L₂⋅L₃⋅R₁⋅Ra⋅s  + C₁⋅C₃⋅L₂⋅L₃⋅\n",
       "\n",
       "        4                         4                       4                   \n",
       "R₂⋅Rᵢₙ⋅s  + C₁⋅C₃⋅L₂⋅L₃⋅Rᵢₙ⋅Rₒᵤₜ⋅s  + C₁⋅C₃⋅L₂⋅L₃⋅Rᵢₙ⋅Ra⋅s  + C₁⋅C₃⋅L₂⋅R₁⋅R₂⋅R\n",
       "\n",
       "   3                        3                       3                        3\n",
       "₃⋅s  + C₁⋅C₃⋅L₂⋅R₁⋅R₂⋅Rₒᵤₜ⋅s  + C₁⋅C₃⋅L₂⋅R₁⋅R₃⋅Rᵢₙ⋅s  + C₁⋅C₃⋅L₂⋅R₁⋅R₃⋅Rₒᵤₜ⋅s \n",
       "\n",
       "                      3                         3                        3    \n",
       " + C₁⋅C₃⋅L₂⋅R₁⋅R₃⋅Ra⋅s  + C₁⋅C₃⋅L₂⋅R₁⋅Rᵢₙ⋅Rₒᵤₜ⋅s  + C₁⋅C₃⋅L₂⋅R₁⋅Rₒᵤₜ⋅Ra⋅s  + C\n",
       "\n",
       "                   3                         3                         3      \n",
       "₁⋅C₃⋅L₂⋅R₂⋅R₃⋅Rᵢₙ⋅s  + C₁⋅C₃⋅L₂⋅R₂⋅Rᵢₙ⋅Rₒᵤₜ⋅s  + C₁⋅C₃⋅L₂⋅R₃⋅Rᵢₙ⋅Rₒᵤₜ⋅s  + C₁⋅\n",
       "\n",
       "                 3                         3                       3          \n",
       "C₃⋅L₂⋅R₃⋅Rᵢₙ⋅Ra⋅s  + C₁⋅C₃⋅L₂⋅Rᵢₙ⋅Rₒᵤₜ⋅Ra⋅s  + C₁⋅C₃⋅L₃⋅R₁⋅R₂⋅Rᵢₙ⋅s  + C₁⋅C₃⋅L\n",
       "\n",
       "              3                      3                         3              \n",
       "₃⋅R₁⋅R₂⋅Rₒᵤₜ⋅s  + C₁⋅C₃⋅L₃⋅R₁⋅R₂⋅Ra⋅s  + C₁⋅C₃⋅L₃⋅R₂⋅Rᵢₙ⋅Rₒᵤₜ⋅s  + C₁⋅C₃⋅L₃⋅R₂\n",
       "\n",
       "         3                       2                        2                   \n",
       "⋅Rᵢₙ⋅Ra⋅s  + C₁⋅C₃⋅R₁⋅R₂⋅R₃⋅Rᵢₙ⋅s  + C₁⋅C₃⋅R₁⋅R₂⋅R₃⋅Rₒᵤₜ⋅s  + C₁⋅C₃⋅R₁⋅R₂⋅R₃⋅R\n",
       "\n",
       "   2                         2                        2                       \n",
       "a⋅s  + C₁⋅C₃⋅R₁⋅R₂⋅Rᵢₙ⋅Rₒᵤₜ⋅s  + C₁⋅C₃⋅R₁⋅R₂⋅Rₒᵤₜ⋅Ra⋅s  + C₁⋅C₃⋅R₂⋅R₃⋅Rᵢₙ⋅Rₒᵤₜ\n",
       "\n",
       "  2                       2                         2                3        \n",
       "⋅s  + C₁⋅C₃⋅R₂⋅R₃⋅Rᵢₙ⋅Ra⋅s  + C₁⋅C₃⋅R₂⋅Rᵢₙ⋅Rₒᵤₜ⋅Ra⋅s  + C₁⋅L₁⋅L₂⋅R₂⋅s  + C₁⋅L₁\n",
       "\n",
       "         3                  3                3                 2              \n",
       "⋅L₂⋅Rᵢₙ⋅s  + C₁⋅L₁⋅L₂⋅Rₒᵤₜ⋅s  + C₁⋅L₁⋅L₂⋅Ra⋅s  + C₁⋅L₁⋅R₂⋅Rᵢₙ⋅s  + C₁⋅L₁⋅R₂⋅Rₒ\n",
       "\n",
       "    2                2                2                 2                  2  \n",
       "ᵤₜ⋅s  + C₁⋅L₁⋅R₂⋅Ra⋅s  + C₁⋅L₂⋅R₁⋅R₂⋅s  + C₁⋅L₂⋅R₁⋅Rᵢₙ⋅s  + C₁⋅L₂⋅R₁⋅Rₒᵤₜ⋅s  +\n",
       "\n",
       "              2                 2                   2                 2       \n",
       " C₁⋅L₂⋅R₁⋅Ra⋅s  + C₁⋅L₂⋅R₂⋅Rᵢₙ⋅s  + C₁⋅L₂⋅Rᵢₙ⋅Rₒᵤₜ⋅s  + C₁⋅L₂⋅Rᵢₙ⋅Ra⋅s  + C₁⋅R\n",
       "\n",
       "                                                                              \n",
       "₁⋅R₂⋅Rᵢₙ⋅s + C₁⋅R₁⋅R₂⋅Rₒᵤₜ⋅s + C₁⋅R₁⋅R₂⋅Ra⋅s + C₁⋅R₂⋅Rᵢₙ⋅Rₒᵤₜ⋅s + C₁⋅R₂⋅Rᵢₙ⋅Ra\n",
       "\n",
       "                         4                        4                      4    \n",
       "⋅s + C₂⋅C₃⋅L₂⋅L₃⋅R₂⋅Rᵢₙ⋅s  + C₂⋅C₃⋅L₂⋅L₃⋅R₂⋅Rₒᵤₜ⋅s  + C₂⋅C₃⋅L₂⋅L₃⋅R₂⋅Ra⋅s  + C\n",
       "\n",
       "                   3                        3                      3          \n",
       "₂⋅C₃⋅L₂⋅R₂⋅R₃⋅Rᵢₙ⋅s  + C₂⋅C₃⋅L₂⋅R₂⋅R₃⋅Rₒᵤₜ⋅s  + C₂⋅C₃⋅L₂⋅R₂⋅R₃⋅Ra⋅s  + C₂⋅C₃⋅L\n",
       "\n",
       "               3                        3                 2                  2\n",
       "₂⋅R₂⋅Rᵢₙ⋅Rₒᵤₜ⋅s  + C₂⋅C₃⋅L₂⋅R₂⋅Rₒᵤₜ⋅Ra⋅s  + C₂⋅L₂⋅R₂⋅Rᵢₙ⋅s  + C₂⋅L₂⋅R₂⋅Rₒᵤₜ⋅s \n",
       "\n",
       "                2                3                 3                  3       \n",
       " + C₂⋅L₂⋅R₂⋅Ra⋅s  + C₃⋅L₂⋅L₃⋅R₂⋅s  + C₃⋅L₂⋅L₃⋅Rᵢₙ⋅s  + C₃⋅L₂⋅L₃⋅Rₒᵤₜ⋅s  + C₃⋅L\n",
       "\n",
       "         3                2                  2                 2              \n",
       "₂⋅L₃⋅Ra⋅s  + C₃⋅L₂⋅R₂⋅R₃⋅s  + C₃⋅L₂⋅R₂⋅Rₒᵤₜ⋅s  + C₃⋅L₂⋅R₃⋅Rᵢₙ⋅s  + C₃⋅L₂⋅R₃⋅Rₒ\n",
       "\n",
       "    2                2                   2                  2                 \n",
       "ᵤₜ⋅s  + C₃⋅L₂⋅R₃⋅Ra⋅s  + C₃⋅L₂⋅Rᵢₙ⋅Rₒᵤₜ⋅s  + C₃⋅L₂⋅Rₒᵤₜ⋅Ra⋅s  + C₃⋅L₃⋅R₂⋅Rᵢₙ⋅s\n",
       "\n",
       "2                  2                2                                         \n",
       "  + C₃⋅L₃⋅R₂⋅Rₒᵤₜ⋅s  + C₃⋅L₃⋅R₂⋅Ra⋅s  + C₃⋅R₂⋅R₃⋅Rᵢₙ⋅s + C₃⋅R₂⋅R₃⋅Rₒᵤₜ⋅s + C₃⋅\n",
       "\n",
       "                                                                              \n",
       "R₂⋅R₃⋅Ra⋅s + C₃⋅R₂⋅Rᵢₙ⋅Rₒᵤₜ⋅s + C₃⋅R₂⋅Rₒᵤₜ⋅Ra⋅s + L₂⋅R₂⋅s + L₂⋅Rᵢₙ⋅s + L₂⋅Rₒᵤₜ\n",
       "\n",
       "                                       \n",
       "⋅s + L₂⋅Ra⋅s + R₂⋅Rᵢₙ + R₂⋅Rₒᵤₜ + R₂⋅Ra"
      ]
     },
     "metadata": {},
     "output_type": "display_data"
    }
   ],
   "source": [
    "n, d = fraction(H_sym)\n",
    "display('numerator', n, 'denominator', d)"
   ]
  },
  {
   "cell_type": "markdown",
   "id": "191ebcbc-04be-4de9-84c9-629e267cd596",
   "metadata": {},
   "source": [
    "Solve for the roots of the numerator."
   ]
  },
  {
   "cell_type": "code",
   "execution_count": 10,
   "id": "063625b9-8e64-47aa-90a4-968dc7678cc1",
   "metadata": {},
   "outputs": [
    {
     "data": {
      "image/png": "[encoded data removed]",
      "text/latex": [
       "$\\displaystyle \\left[ \\frac{- C_{1} R_{1} - \\sqrt{C_{1}^{2} R_{1}^{2} - 4 C_{1} L_{1}}}{2 C_{1} L_{1}}, \\  \\frac{- C_{1} R_{1} + \\sqrt{C_{1}^{2} R_{1}^{2} - 4 C_{1} L_{1}}}{2 C_{1} L_{1}}, \\  \\frac{- C_{3} R_{3} - \\sqrt{C_{3}^{2} R_{3}^{2} - 4 C_{3} L_{3}}}{2 C_{3} L_{3}}, \\  \\frac{- C_{3} R_{3} + \\sqrt{C_{3}^{2} R_{3}^{2} - 4 C_{3} L_{3}}}{2 C_{3} L_{3}}, \\  \\frac{- L_{2} - \\sqrt{- 4 C_{2} L_{2} R_{2}^{2} + L_{2}^{2}}}{2 C_{2} L_{2} R_{2}}, \\  \\frac{- L_{2} + \\sqrt{- 4 C_{2} L_{2} R_{2}^{2} + L_{2}^{2}}}{2 C_{2} L_{2} R_{2}}\\right]$"
      ],
      "text/plain": [
       "⎡            ___________________              ___________________             \n",
       "⎢           ╱   2   2                        ╱   2   2                        \n",
       "⎢-C₁⋅R₁ - ╲╱  C₁ ⋅R₁  - 4⋅C₁⋅L₁   -C₁⋅R₁ + ╲╱  C₁ ⋅R₁  - 4⋅C₁⋅L₁   -C₃⋅R₃ - ╲╱\n",
       "⎢───────────────────────────────, ───────────────────────────────, ───────────\n",
       "⎣            2⋅C₁⋅L₁                          2⋅C₁⋅L₁                         \n",
       "\n",
       " ___________________              ___________________           ______________\n",
       "╱   2   2                        ╱   2   2                     ╱             2\n",
       "  C₃ ⋅R₃  - 4⋅C₃⋅L₃   -C₃⋅R₃ + ╲╱  C₃ ⋅R₃  - 4⋅C₃⋅L₃   -L₂ - ╲╱  - 4⋅C₂⋅L₂⋅R₂ \n",
       "────────────────────, ───────────────────────────────, ───────────────────────\n",
       " 2⋅C₃⋅L₃                          2⋅C₃⋅L₃                        2⋅C₂⋅L₂⋅R₂   \n",
       "\n",
       "_______           _____________________⎤\n",
       "     2           ╱             2     2 ⎥\n",
       " + L₂    -L₂ + ╲╱  - 4⋅C₂⋅L₂⋅R₂  + L₂  ⎥\n",
       "───────, ──────────────────────────────⎥\n",
       "                   2⋅C₂⋅L₂⋅R₂          ⎦"
      ]
     },
     "execution_count": 10,
     "metadata": {},
     "output_type": "execute_result"
    }
   ],
   "source": [
    "solve(n,s)"
   ]
  },
  {
   "cell_type": "markdown",
   "id": "474462ea-60dc-4f79-8cf8-59c25cc8ecb6",
   "metadata": {},
   "source": [
    "We can see that there are six zeros in the transfer function. Here can see what components are influncing the zeros. One of the gaols of the FACTS method was to determine the zeros of the network and express them in terms of the components.\n",
    "\n",
    "Solve for the roots of the denominator"
   ]
  },
  {
   "cell_type": "code",
   "execution_count": 11,
   "id": "74ef0cc3-da02-41e1-8d17-554cafd95abe",
   "metadata": {},
   "outputs": [],
   "source": [
    "#solve(d,s)"
   ]
  },
  {
   "cell_type": "markdown",
   "id": "93467124-d019-4c56-ac2a-e3b79240ace9",
   "metadata": {},
   "source": [
    "SymPy could not find a solution for roots of denominator.\n",
    "\n",
    "### Use numerical values for components"
   ]
  },
  {
   "cell_type": "markdown",
   "id": "dda3c39a-ecd6-4338-ad79-6f68c3c5c468",
   "metadata": {},
   "source": [
    "Built a dictionary of element values. The LTSpice schematic had all the component values set to one."
   ]
  },
  {
   "cell_type": "code",
   "execution_count": 12,
   "id": "bc03a675-9dfc-499e-bd47-e6036758ffe6",
   "metadata": {},
   "outputs": [
    {
     "data": {
      "image/png": "[encoded data removed]",
      "text/latex": [
       "$\\displaystyle \\left\\{ C_{1} : 1.0, \\  C_{2} : 1.0, \\  C_{3} : 1.0, \\  L_{1} : 1.0, \\  L_{2} : 1.0, \\  L_{3} : 1.0, \\  R_{1} : 1.0, \\  R_{2} : 1.0, \\  R_{3} : 1.0, \\  R_{in} : 1.0, \\  R_{out} : 1.0, \\  Ra : 1.0, \\  V_{1} : 1.0\\right\\}$"
      ],
      "text/plain": [
       "{C₁: 1.0, C₂: 1.0, C₃: 1.0, L₁: 1.0, L₂: 1.0, L₃: 1.0, R₁: 1.0, R₂: 1.0, R₃: 1\n",
       ".0, Rᵢₙ: 1.0, Rₒᵤₜ: 1.0, Ra: 1.0, V₁: 1.0}"
      ]
     },
     "execution_count": 12,
     "metadata": {},
     "output_type": "execute_result"
    }
   ],
   "source": [
    "element_values = SymMNA.get_part_values(network_df)\n",
    "element_values"
   ]
  },
  {
   "cell_type": "markdown",
   "id": "21e6148a-74db-49b2-9f30-d3d8106a94d9",
   "metadata": {},
   "source": [
    "In this analysis, we are going to assum that the circuit is a low pass filter and the parasitics component values are scalled by 1000 from the value of the main components."
   ]
  },
  {
   "cell_type": "code",
   "execution_count": 13,
   "id": "ca96712f-cb45-4285-a98d-c69577cdf6d9",
   "metadata": {},
   "outputs": [
    {
     "data": {
      "image/png": "[encoded data removed]",
      "text/latex": [
       "$\\displaystyle \\left\\{ C_{1} : 1, \\  C_{2} : 0.002, \\  C_{3} : 1, \\  L_{1} : 0.001, \\  L_{2} : 2, \\  L_{3} : 0.001, \\  R_{1} : 0.001, \\  R_{2} : 2000.0, \\  R_{3} : 0.001, \\  R_{in} : 1.0, \\  R_{out} : 1.0, \\  Ra : 0.002, \\  V_{1} : 1.0\\right\\}$"
      ],
      "text/plain": [
       "{C₁: 1, C₂: 0.002, C₃: 1, L₁: 0.001, L₂: 2, L₃: 0.001, R₁: 0.001, R₂: 2000.0, \n",
       "R₃: 0.001, Rᵢₙ: 1.0, Rₒᵤₜ: 1.0, Ra: 0.002, V₁: 1.0}"
      ]
     },
     "execution_count": 13,
     "metadata": {},
     "output_type": "execute_result"
    }
   ],
   "source": [
    "# the values of the main components \n",
    "Ca = 1 \n",
    "Cb = 1\n",
    "La = 2\n",
    "sf = 1e3 # parasitic scale factor\n",
    "\n",
    "element_values[R1] = Ca/sf\n",
    "element_values[Ra] = La/sf\n",
    "element_values[R2] = La*sf\n",
    "element_values[R3] = Cb/sf\n",
    "\n",
    "element_values[L1] = Ca/sf\n",
    "element_values[L2] = La\n",
    "element_values[L3] = Cb/sf\n",
    "element_values[C1] = Ca\n",
    "element_values[C2] = La/sf\n",
    "element_values[C3] = Cb\n",
    "\n",
    "element_values"
   ]
  },
  {
   "cell_type": "markdown",
   "id": "7b6b3a7a-241c-4f4b-9ce8-e6bfdb29891a",
   "metadata": {
    "tags": []
   },
   "source": [
    "### Numerical solution"
   ]
  },
  {
   "cell_type": "code",
   "execution_count": 15,
   "id": "971a848d-3aa0-41f3-8cc6-07cbc24544f1",
   "metadata": {},
   "outputs": [
    {
     "data": {
      "text/latex": [
       "$\\displaystyle \\left[\\begin{matrix}1501.0 v_{1} - 500.0 v_{3} - 1000.0 v_{4} - 1.0 v_{8}\\\\- I_{L2} + v_{2} \\cdot \\left(0.002 s + 1001.0005\\right) + v_{3} \\left(- 0.002 s - 0.0005\\right) - 1000.0 v_{6}\\\\I_{L2} - 500.0 v_{1} + v_{2} \\left(- 0.002 s - 0.0005\\right) + v_{3} \\cdot \\left(0.002 s + 500.0005\\right)\\\\I_{L1} - 1000.0 v_{1} + 1000.0 v_{4}\\\\- I_{L1} + s v_{5}\\\\I_{L3} - 1000.0 v_{2} + 1000.0 v_{6}\\\\- I_{L3} + s v_{7}\\\\I_{V1} - 1.0 v_{1} + 1.0 v_{8}\\\\v_{8}\\\\- 0.001 I_{L1} s + v_{4} - v_{5}\\\\- 2 I_{L2} s - v_{2} + v_{3}\\\\- 0.001 I_{L3} s + v_{6} - v_{7}\\end{matrix}\\right] = \\left[\\begin{matrix}0\\\\0\\\\0\\\\0\\\\0\\\\0\\\\0\\\\0\\\\1.0\\\\0\\\\0\\\\0\\end{matrix}\\right]$"
      ],
      "text/plain": [
       "⎡                1501.0⋅v₁ - 500.0⋅v₃ - 1000.0⋅v₄ - v₈                ⎤   ⎡ 0 \n",
       "⎢                                                                     ⎥   ⎢   \n",
       "⎢-I_L2 + v₂⋅(0.002⋅s + 1001.0005) + v₃⋅(-0.002⋅s - 0.0005) - 1000.0⋅v₆⎥   ⎢ 0 \n",
       "⎢                                                                     ⎥   ⎢   \n",
       "⎢ I_L2 - 500.0⋅v₁ + v₂⋅(-0.002⋅s - 0.0005) + v₃⋅(0.002⋅s + 500.0005)  ⎥   ⎢ 0 \n",
       "⎢                                                                     ⎥   ⎢   \n",
       "⎢                    I_L1 - 1000.0⋅v₁ + 1000.0⋅v₄                     ⎥   ⎢ 0 \n",
       "⎢                                                                     ⎥   ⎢   \n",
       "⎢                            -I_L1 + s⋅v₅                             ⎥   ⎢ 0 \n",
       "⎢                                                                     ⎥   ⎢   \n",
       "⎢                    I_L3 - 1000.0⋅v₂ + 1000.0⋅v₆                     ⎥   ⎢ 0 \n",
       "⎢                                                                     ⎥ = ⎢   \n",
       "⎢                            -I_L3 + s⋅v₇                             ⎥   ⎢ 0 \n",
       "⎢                                                                     ⎥   ⎢   \n",
       "⎢                         I_V1 - v₁ + 1.0⋅v₈                          ⎥   ⎢ 0 \n",
       "⎢                                                                     ⎥   ⎢   \n",
       "⎢                                 v₈                                  ⎥   ⎢1.0\n",
       "⎢                                                                     ⎥   ⎢   \n",
       "⎢                       -0.001⋅I_L1⋅s + v₄ - v₅                       ⎥   ⎢ 0 \n",
       "⎢                                                                     ⎥   ⎢   \n",
       "⎢                         -2⋅I_L2⋅s - v₂ + v₃                         ⎥   ⎢ 0 \n",
       "⎢                                                                     ⎥   ⎢   \n",
       "⎣                       -0.001⋅I_L3⋅s + v₆ - v₇                       ⎦   ⎣ 0 \n",
       "\n",
       "⎤\n",
       "⎥\n",
       "⎥\n",
       "⎥\n",
       "⎥\n",
       "⎥\n",
       "⎥\n",
       "⎥\n",
       "⎥\n",
       "⎥\n",
       "⎥\n",
       "⎥\n",
       "⎥\n",
       "⎥\n",
       "⎥\n",
       "⎥\n",
       "⎥\n",
       "⎥\n",
       "⎥\n",
       "⎥\n",
       "⎥\n",
       "⎥\n",
       "⎦"
      ]
     },
     "execution_count": 15,
     "metadata": {},
     "output_type": "execute_result"
    }
   ],
   "source": [
    "NE = NE_sym.subs(element_values)\n",
    "NE"
   ]
  },
  {
   "cell_type": "code",
   "execution_count": 16,
   "id": "9cfa268e-204a-4eaf-90cc-11a0d71589c8",
   "metadata": {},
   "outputs": [
    {
     "data": {
      "text/markdown": [
       "$v_{1} = \\frac{2004.0 s^{6} + 1008509.0 s^{5} + 1006517006.0 s^{4} + 3012013501.0 s^{3} + 1005009503000.0 s^{2} + 1002503000000.0 s + 501000000000.0}{4004.0 s^{6} + 5017009.0 s^{5} + 2020025006.0 s^{4} + 1009025015001.0 s^{3} + 2011013003000.0 s^{2} + 2005003000000.0 s + 1001000000000.0}$<br>$v_{2} = \\frac{2000.0 s^{6} + 4500.0 s^{5} + 4503000.0 s^{4} + 6000500.0 s^{3} + 3001500000.0 s^{2} + 1500000000.0 s + 500000000000.0}{4004.0 s^{6} + 5017009.0 s^{5} + 2020025006.0 s^{4} + 1009025015001.0 s^{3} + 2011013003000.0 s^{2} + 2005003000000.0 s + 1001000000000.0}$<br>$v_{3} = \\frac{2000.0 s^{6} + 1004500.0 s^{5} + 1006503000.0 s^{4} + 3007000500.0 s^{3} + 1005001500000.0 s^{2} + 1001500000000.0 s + 500000000000.0}{4004.0 s^{6} + 5017009.0 s^{5} + 2020025006.0 s^{4} + 1009025015001.0 s^{3} + 2011013003000.0 s^{2} + 2005003000000.0 s + 1001000000000.0}$<br>$v_{4} = \\frac{2004.0 s^{6} + 1006505.0 s^{5} + 1005510501.0 s^{4} + 2008507000.0 s^{3} + 1004007501000.0 s^{2} + 1002002000000.0 s + 501000000000.0}{4004.0 s^{6} + 5017009.0 s^{5} + 2020025006.0 s^{4} + 1009025015001.0 s^{3} + 2011013003000.0 s^{2} + 2005003000000.0 s + 1001000000000.0}$<br>$v_{5} = \\frac{2004000.0 s^{4} + 1006505000.0 s^{3} + 1003506501000.0 s^{2} + 1002002000000.0 s + 501000000000.0}{4004.0 s^{6} + 5017009.0 s^{5} + 2020025006.0 s^{4} + 1009025015001.0 s^{3} + 2011013003000.0 s^{2} + 2005003000000.0 s + 1001000000000.0}$<br>$v_{6} = \\frac{2000.0 s^{6} + 2500.0 s^{5} + 4500500.0 s^{4} + 3500000.0 s^{3} + 3000500000.0 s^{2} + 1000000000.0 s + 500000000000.0}{4004.0 s^{6} + 5017009.0 s^{5} + 2020025006.0 s^{4} + 1009025015001.0 s^{3} + 2011013003000.0 s^{2} + 2005003000000.0 s + 1001000000000.0}$<br>$v_{7} = \\frac{2000000.0 s^{4} + 2500000.0 s^{3} + 2500500000.0 s^{2} + 1000000000.0 s + 500000000000.0}{4004.0 s^{6} + 5017009.0 s^{5} + 2020025006.0 s^{4} + 1009025015001.0 s^{3} + 2011013003000.0 s^{2} + 2005003000000.0 s + 1001000000000.0}$<br>$v_{8} = 1.0$<br>$I_{V1} = \\frac{- 2000.0 s^{6} - 4008500.0 s^{5} - 1013508000.0 s^{4} - 1006013001500.0 s^{3} - 1006003500000.0 s^{2} - 1002500000000.0 s - 500000000000.0}{4004.0 s^{6} + 5017009.0 s^{5} + 2020025006.0 s^{4} + 1009025015001.0 s^{3} + 2011013003000.0 s^{2} + 2005003000000.0 s + 1001000000000.0}$<br>$I_{L1} = \\frac{2004000.0 s^{5} + 1006505000.0 s^{4} + 1003506501000.0 s^{3} + 1002002000000.0 s^{2} + 501000000000.0 s}{4004.0 s^{6} + 5017009.0 s^{5} + 2020025006.0 s^{4} + 1009025015001.0 s^{3} + 2011013003000.0 s^{2} + 2005003000000.0 s + 1001000000000.0}$<br>$I_{L2} = \\frac{500000.0 s^{2} + 500000.0 s + 500000000.0}{4004.0 s^{4} + 1009005.0 s^{3} + 1006007001.0 s^{2} + 1003002000.0 s + 1001000000.0}$<br>$I_{L3} = \\frac{2000000.0 s^{5} + 2500000.0 s^{4} + 2500500000.0 s^{3} + 1000000000.0 s^{2} + 500000000000.0 s}{4004.0 s^{6} + 5017009.0 s^{5} + 2020025006.0 s^{4} + 1009025015001.0 s^{3} + 2011013003000.0 s^{2} + 2005003000000.0 s + 1001000000000.0}$<br>"
      ],
      "text/plain": [
       "<IPython.core.display.Markdown object>"
      ]
     },
     "execution_count": 16,
     "metadata": {},
     "output_type": "execute_result"
    }
   ],
   "source": [
    "U = solve(NE,X)\n",
    "\n",
    "temp = ''\n",
    "for i in U.keys():\n",
    "    temp += '${:s} = {:s}$<br>'.format(latex(i),latex(U[i]))\n",
    "\n",
    "Markdown(temp)"
   ]
  },
  {
   "cell_type": "code",
   "execution_count": 17,
   "id": "79ed2014-28f0-4e72-9325-27b51c473d50",
   "metadata": {},
   "outputs": [
    {
     "data": {
      "image/png": "[encoded data removed]",
      "text/latex": [
       "$\\displaystyle \\frac{500 \\cdot \\left(4 s^{6} + 9 s^{5} + 9006 s^{4} + 12001 s^{3} + 6003000 s^{2} + 3000000 s + 1000000000\\right)}{4004 s^{6} + 5017009 s^{5} + 2020025006 s^{4} + 1009025015001 s^{3} + 2011013003000 s^{2} + 2005003000000 s + 1001000000000}$"
      ],
      "text/plain": [
       "                    ⎛   6      5         4          3            2            \n",
       "                500⋅⎝4⋅s  + 9⋅s  + 9006⋅s  + 12001⋅s  + 6003000⋅s  + 3000000⋅s\n",
       "──────────────────────────────────────────────────────────────────────────────\n",
       "      6            5               4                  3                  2    \n",
       "4004⋅s  + 5017009⋅s  + 2020025006⋅s  + 1009025015001⋅s  + 2011013003000⋅s  + 2\n",
       "\n",
       "             ⎞                \n",
       " + 1000000000⎠                \n",
       "──────────────────────────────\n",
       "                              \n",
       "005003000000⋅s + 1001000000000"
      ]
     },
     "execution_count": 17,
     "metadata": {},
     "output_type": "execute_result"
    }
   ],
   "source": [
    "H = (U[v2]/U[v8]).nsimplify().simplify().expand().together()\n",
    "H"
   ]
  },
  {
   "cell_type": "markdown",
   "id": "fc07c5b4-8bbc-44d3-a908-27804501ec97",
   "metadata": {},
   "source": [
    "The code below converst the SymPy equations into NumPy format. Extract the numerator and denominator polynomials so that the system can be defined in SciPy."
   ]
  },
  {
   "cell_type": "code",
   "execution_count": 18,
   "id": "4e76ce6b-2bb5-4fcc-8c1c-9e3ed0188103",
   "metadata": {
    "tags": []
   },
   "outputs": [],
   "source": [
    "H_num, H_denom = fraction(H) #returns numerator and denominator"
   ]
  },
  {
   "cell_type": "markdown",
   "id": "51e31262-a9c6-4f62-9012-12b6ae596ef0",
   "metadata": {},
   "source": [
    "The SciPy function, TransferFunction, represents the system as the continuous-time transfer function and takes as inputs the coeeficients of the numerator and denominator polynominals."
   ]
  },
  {
   "cell_type": "code",
   "execution_count": 19,
   "id": "e27351c4-6121-4f2f-b696-4a2bfaf02acd",
   "metadata": {
    "collapsed": false,
    "jupyter": {
     "outputs_hidden": false
    }
   },
   "outputs": [],
   "source": [
    "# convert symbolic to NumPy polynomial\n",
    "a = np.array(Poly(H_num, s).all_coeffs(), dtype=float)\n",
    "b = np.array(Poly(H_denom, s).all_coeffs(), dtype=float)\n",
    "sys = signal.TransferFunction(a,b)"
   ]
  },
  {
   "cell_type": "markdown",
   "id": "31c47e0d-eea8-484a-acb3-7aff20649392",
   "metadata": {},
   "source": [
    "### Poles and zeros of the low pass transfer function\n",
    "The poles and zeros of the transfer function can easly be obtained and plotted with the following code:"
   ]
  },
  {
   "cell_type": "code",
   "execution_count": 21,
   "id": "315f0f3f-787a-41be-8fef-d88477e87716",
   "metadata": {},
   "outputs": [],
   "source": [
    "sys_zeros = np.roots(sys.num)\n",
    "sys_poles = np.roots(sys.den)\n",
    "\n",
    "# plot the poles and zeros\n",
    "plt.plot(np.real(sys_zeros), np.imag(sys_zeros), 'ob', markerfacecolor='none')\n",
    "plt.plot(np.real(sys_poles), np.imag(sys_poles), 'xr')\n",
    "plt.legend(['Zeros', 'Poles'], loc=0)\n",
    "plt.title('Pole / Zero Plot')\n",
    "plt.xlabel('real part, \\u03B1')\n",
    "plt.ylabel('imaginary part, j\\u03C9')\n",
    "#plt.ylim((-2,2))\n",
    "#plt.xlim((-4,0))\n",
    "plt.grid()\n",
    "plt.show()"
   ]
  },
  {
   "cell_type": "markdown",
   "id": "207f5433-a32a-4acb-b11d-b27d3fe30a65",
   "metadata": {},
   "source": [
    "Printing the value of the poles and zeros in radians per second."
   ]
  },
  {
   "cell_type": "code",
   "execution_count": 22,
   "id": "d2864fb1-0a7d-43b4-b9df-90c522fbd270",
   "metadata": {},
   "outputs": [
    {
     "name": "stdout",
     "output_type": "stream",
     "text": [
      "number of zeros: 6\n",
      "-0.500+31.619j rad/s\n",
      "-0.500-31.619j rad/s\n",
      "-0.500+31.619j rad/s\n",
      "-0.500-31.619j rad/s\n",
      "-0.125+15.811j rad/s\n",
      "-0.125-15.811j rad/s\n"
     ]
    }
   ],
   "source": [
    "print('number of zeros: {:d}'.format(len(sys_zeros)))\n",
    "for i in sys_zeros:\n",
    "    print('{:,.3f} rad/s'.format(i))"
   ]
  },
  {
   "cell_type": "code",
   "execution_count": 23,
   "id": "4ed6ae13-3ab6-4953-95f2-6c3dcf385fea",
   "metadata": {},
   "outputs": [
    {
     "name": "stdout",
     "output_type": "stream",
     "text": [
      "number of poles: 6\n",
      "-1,000.000+0.000j rad/s\n",
      "-125.501+485.024j rad/s\n",
      "-125.501-485.024j rad/s\n",
      "-1.000+0.000j rad/s\n",
      "-0.499+0.865j rad/s\n",
      "-0.499-0.865j rad/s\n"
     ]
    }
   ],
   "source": [
    "print('number of poles: {:d}'.format(len(sys_poles)))\n",
    "for i in sys_poles:\n",
    "    print('{:,.3f} rad/s'.format(i))"
   ]
  },
  {
   "cell_type": "markdown",
   "id": "e2f6c468-6bb5-4e88-9cd8-24e08e1a21fd",
   "metadata": {
    "tags": []
   },
   "source": [
    "### Bode plot\n",
    "Use the SciPy function [bode](https://docs.scipy.org/doc/scipy/reference/generated/scipy.signal.bode.html) to plot the magnitude and phase of the filter. "
   ]
  },
  {
   "cell_type": "code",
   "execution_count": 28,
   "id": "6b713d59-c8f3-41b8-97f9-d60a803a0500",
   "metadata": {},
   "outputs": [
    {
     "data": {
      "image/png": "[encoded data removed]",
      "text/plain": [
       "<Figure size 640x480 with 2 Axes>"
      ]
     },
     "metadata": {},
     "output_type": "display_data"
    }
   ],
   "source": [
    "x = np.logspace(-2, 2, 1000, endpoint=False) #*2*np.pi\n",
    "w, mag, phase = signal.bode(sys, w=x) # returns: rad/s, mag in dB, phase in deg\n",
    "\n",
    "fig, ax1 = plt.subplots()\n",
    "ax1.set_ylabel('magnitude, dB')\n",
    "ax1.set_xlabel('frequency, radians')\n",
    "\n",
    "plt.semilogx(w, mag,'-b')    # Bode magnitude plot\n",
    "\n",
    "ax1.tick_params(axis='y')\n",
    "#ax1.set_ylim((-30,20))\n",
    "plt.grid()\n",
    "\n",
    "# instantiate a second y-axes that shares the same x-axis\n",
    "ax2 = ax1.twinx()\n",
    "color = 'tab:blue'\n",
    "\n",
    "plt.semilogx(w, phase,':',color='tab:red')  # Bode phase plot\n",
    "\n",
    "ax2.set_ylabel('phase, deg',color=color)\n",
    "ax2.tick_params(axis='y', labelcolor=color)\n",
    "#ax2.set_ylim((-5,25))\n",
    "\n",
    "plt.title('Magnitude and phase response')\n",
    "plt.show()"
   ]
  },
  {
   "cell_type": "markdown",
   "id": "2cb739a8-b0a1-4bc6-afdf-238be0bcb4bd",
   "metadata": {
    "tags": []
   },
   "source": [
    "<!--\n",
    "Write the impedances for each of the branches of the circuit.\n",
    "\n",
    "Franc's answer walks through the FACTS method\n",
    "\n",
    "### References\n",
    "\n",
    "Methods of Design Oriented Analysis](https://www.scribd.com/document/422935307/Methods-of-design-oriented-analysis)\n",
    "\n",
    "@Middlebrook1992, Methods of Design-Oriented Analysis: The Quadratic Equation Revisited\n",
    "\n",
    "@Middlebrook1991, Low-entropy expressions: the key to design-oriented analysis\n",
    "\n",
    "@basso2016, Introduction to Fast Analytical Techniques: Application to Small-Signal Modeling\n",
    "\n",
    "<!--\n",
    "Methods of DE~sign-Oriented Analysis: The Quadratic Equation Revisited\n",
    "@INPROCEEDINGS{Middlebrook1992,\n",
    "  author={Middlebrook, R.D.},\n",
    "  booktitle={Proceedings. Twenty-Second Annual conference Frontiers in Education}, \n",
    "  title={Methods of Design-Oriented Analysis: The Quadratic Equation Revisited}, \n",
    "  year={1992},\n",
    "  pages={95-102},\n",
    "  doi={10.1109/FIE.1992.683365}\n",
    "}\n",
    "\n",
    "Low-entropy expressions: the key to design-oriented analysis\n",
    "@INPROCEEDINGS{Middlebrook1991,\n",
    "  author={Middlebrook, R.D.},\n",
    "  booktitle={Proceedings Frontiers in Education Twenty-First Annual Conference. Engineering Education in a New World Order}, \n",
    "  title={Low-entropy expressions: the key to design-oriented analysis}, \n",
    "  year={1991},\n",
    "  pages={399-403},\n",
    "  doi={10.1109/FIE.1991.187513}\n",
    "}\n",
    "\n",
    "@online{basso2016,\n",
    "    author = {Basso, Christophe},\n",
    "    title = {Introduction to Fast Analytical Techniques: Application to Small-Signal Modeling},\n",
    "    url  = {https://www.powersimtof.com/Downloads/PPTs/Chris%20Basso%20APEC%20seminar%202016.pdf},\n",
    "    year={2016},\n",
    "    addendum = {accessed 12 Feb 2024}\n",
    "}\n",
    "\n",
    "\n",
    "[Introduction to Fast Analytical Techniques: Application to Small-Signal Modeling](https://www.powersimtof.com/Downloads/PPTs/Chris%20Basso%20APEC%20seminar%202016.pdf)\n",
    "\n",
    "-->"
   ]
  },
  {
   "cell_type": "markdown",
   "id": "3b819d95-5719-4ada-9c3a-b8f0408c8ff0",
   "metadata": {
    "tags": []
   },
   "source": [
    "## Re-work of @user347817's solution\n",
    "The solution provided by @user347817 is not a solution that following the FACTS method. He calculates the transfer function based on the ratio of the impedances of a voltage divider. @fig-pi-filter-franc, shows the orginal circuit re-drawn with the branches replaced by their transformed impedances.\n",
    "\n",
    "![Pi filter schematic with branch impedances replaced by Z1, Z2 and Z3](Pi-Filter-franc.png){#fig-pi-filter-franc}  \n",
    "\n",
    "The components for the branches are replace by Z1, Z2 and Z3.\n",
    "\n",
    "```\n",
    "Z1 = series connection of R1, L1 and C1\n",
    "\n",
    "Z2 = series connection of Ra and (L2 || C2 || R2)\n",
    "\n",
    "Z3 = series connection of R3, L3 and C3\n",
    "\n",
    "Z4 = Z3 || R_out\n",
    "```\n",
    "\n",
    "The following defines the SymPy symbols used in the calculations. The function [symbols](https://docs.sympy.org/latest/tutorials/intro-tutorial/gotchas.html#symbols) takes a string of variable names separated by spaces or commas, and creates Symbols out of them."
   ]
  },
  {
   "cell_type": "code",
   "execution_count": 29,
   "id": "a9356673-a6bb-4ca3-8310-7cdc75d07a01",
   "metadata": {},
   "outputs": [],
   "source": [
    "L1, L2, L3, R1, R2, R3, Ra, R, R_out, R_in, C1, C2, C3, s, V1 = symbols('L1, L2, L3, R1, R2, R3, Ra, R, R_out, R_in, C1, C2, C3, s, V1')"
   ]
  },
  {
   "cell_type": "markdown",
   "id": "31431f15-fc49-4e57-a630-86eef0a13e24",
   "metadata": {
    "tags": []
   },
   "source": [
    "### Branches of the circuit\n",
    "Z1 is the series connection of R1, C1 and L1."
   ]
  },
  {
   "cell_type": "code",
   "execution_count": 30,
   "id": "1f51daa9-eea1-4195-af24-d7b84a02a7c2",
   "metadata": {},
   "outputs": [
    {
     "data": {
      "image/png": "[encoded data removed]",
      "text/latex": [
       "$\\displaystyle L_{1} s + R_{1} + \\frac{1}{C_{1} s}$"
      ],
      "text/plain": [
       "             1  \n",
       "L₁⋅s + R₁ + ────\n",
       "            C₁⋅s"
      ]
     },
     "execution_count": 30,
     "metadata": {},
     "output_type": "execute_result"
    }
   ],
   "source": [
    "Z1_sym = R1+s*L1+1/(s*C1)\n",
    "Z1_sym"
   ]
  },
  {
   "cell_type": "markdown",
   "id": "fda6a819-c453-4470-b437-47d7e79a1beb",
   "metadata": {},
   "source": [
    "Z2 is the series connection of Ra and the paralle connection of R2, L2 and C2"
   ]
  },
  {
   "cell_type": "code",
   "execution_count": 31,
   "id": "d6892195-f415-4665-b88a-2d51ece82eb5",
   "metadata": {},
   "outputs": [
    {
     "data": {
      "image/png": "[encoded data removed]",
      "text/latex": [
       "$\\displaystyle Ra + \\frac{1}{C_{2} s + \\frac{1}{R_{2}} + \\frac{1}{L_{2} s}}$"
      ],
      "text/plain": [
       "            1        \n",
       "Ra + ────────────────\n",
       "            1     1  \n",
       "     C₂⋅s + ── + ────\n",
       "            R₂   L₂⋅s"
      ]
     },
     "execution_count": 31,
     "metadata": {},
     "output_type": "execute_result"
    }
   ],
   "source": [
    "Z2_sym = (Ra+1/(1/(1/(s*C2)) + 1/(s*L2) + 1/R2))\n",
    "Z2_sym"
   ]
  },
  {
   "cell_type": "markdown",
   "id": "41863e33-1b5e-44e9-9604-33562c4ba1f9",
   "metadata": {},
   "source": [
    "Z3 is the series connection of R3, L3 and C3"
   ]
  },
  {
   "cell_type": "code",
   "execution_count": 32,
   "id": "93309e35-1876-4e59-bea1-45754bcfa5af",
   "metadata": {},
   "outputs": [
    {
     "data": {
      "image/png": "[encoded data removed]",
      "text/latex": [
       "$\\displaystyle L_{3} s + R_{3} + \\frac{1}{C_{3} s}$"
      ],
      "text/plain": [
       "             1  \n",
       "L₃⋅s + R₃ + ────\n",
       "            C₃⋅s"
      ]
     },
     "execution_count": 32,
     "metadata": {},
     "output_type": "execute_result"
    }
   ],
   "source": [
    "Z3_sym = R3+s*L3+1/(s*C3)\n",
    "Z3_sym"
   ]
  },
  {
   "cell_type": "markdown",
   "id": "67dc53b4-baba-4e00-9531-38e69947762e",
   "metadata": {},
   "source": [
    "Z4 is the parallel combination of R_out and Z3. \n",
    "\n",
    "Z4 = R_out || Z3"
   ]
  },
  {
   "cell_type": "code",
   "execution_count": 33,
   "id": "44f0dc25-a10e-4a75-86ff-05e06a8c2212",
   "metadata": {},
   "outputs": [
    {
     "data": {
      "image/png": "[encoded data removed]",
      "text/latex": [
       "$\\displaystyle \\frac{R_{out} \\left(L_{3} s + R_{3} + \\frac{1}{C_{3} s}\\right)}{L_{3} s + R_{3} + R_{out} + \\frac{1}{C_{3} s}}$"
      ],
      "text/plain": [
       "     ⎛             1  ⎞\n",
       "Rₒᵤₜ⋅⎜L₃⋅s + R₃ + ────⎟\n",
       "     ⎝            C₃⋅s⎠\n",
       "───────────────────────\n",
       "                    1  \n",
       "L₃⋅s + R₃ + Rₒᵤₜ + ────\n",
       "                   C₃⋅s"
      ]
     },
     "execution_count": 33,
     "metadata": {},
     "output_type": "execute_result"
    }
   ],
   "source": [
    "Z4_sym = R_out*Z3_sym/(R_out+Z3_sym)\n",
    "Z4_sym"
   ]
  },
  {
   "cell_type": "markdown",
   "id": "366b3781-07dc-4271-977b-f9c94b90ab7a",
   "metadata": {},
   "source": [
    "@user347817 provided a MatCAD like set of calculations. Using \"||\" to indicate a parallel combination of components and a \"+\" to indicate a series combination of componets, some of his calculations are shown here:  \n",
    "\n",
    "$Z_1 = R_2 + sL_1 + \\frac {1}{sC_1}$  \n",
    "$Z_2 = R_6 + R_3 || sL_2 || \\frac {1}{sC_2}$    \n",
    "$Z_3 = R_4 + sL_3 + \\frac {1}{sC_3}$  \n",
    "$Z_4 = Z_3 || R_2$  \n",
    "\n",
    "$V_1 = \\frac {(Z_1 || (Z_2+Z_4))} {(R_1+Z_1 || (Z_2+Z_4))} V_i$  \n",
    "\n",
    "$V_o = \\frac {Z_4} {(Z_4+Z_2)} V_1$\n",
    "\n",
    "$V_o = \\frac {Z_4} {(Z_4+Z_2)} \\frac {(Z_1 || (Z_2+Z_4))} {(R_1+Z_1 || (Z_2+Z_4))} V_i$ "
   ]
  },
  {
   "cell_type": "raw",
   "id": "6046b0bd-f303-4e5c-888d-d9f6941a4a98",
   "metadata": {
    "tags": []
   },
   "source": [
    "<!--\n",
    "Franc's answer:\n",
    "```\n",
    "Z1 = R2 + sL1 + 1/(sC1)  \n",
    "Z2 = R6 + R3 || sL2 || 1/(sC2)    \n",
    "Z3 = R4 + sL3 + 1/(sC3)  \n",
    "Z4 = Z3 || R2  \n",
    "\n",
    "V1 = (Z1 || (Z2+Z4))/(R1+Z1 || (Z2+Z4)) * Vi  \n",
    "\n",
    "Vo = Z4/(Z4+Z2) * V1\n",
    "\n",
    "Vo = Z4/(Z4+Z2) (Z1 || (Z2+Z4))/(R1+Z1 || (Z2+Z4)) * Vi \n",
    "```\n",
    "-->"
   ]
  },
  {
   "cell_type": "code",
   "execution_count": 34,
   "id": "f363b868-fa8d-4ece-b610-83833feffe1a",
   "metadata": {},
   "outputs": [],
   "source": [
    "Z1, Z2, Z3, Z4, R_in, R_out, V1 = symbols('Z1, Z2, Z3, Z4, R_in, R_out, V1')"
   ]
  },
  {
   "cell_type": "markdown",
   "id": "5c803ef4-bb94-4bbd-92cc-19c3a26b3cc9",
   "metadata": {},
   "source": [
    "Zx is the parallel combination of Z1, Z2 and Z4."
   ]
  },
  {
   "cell_type": "code",
   "execution_count": 35,
   "id": "ed7afedc-cc63-4c43-8488-a4d6d2002089",
   "metadata": {},
   "outputs": [
    {
     "data": {
      "image/png": "[encoded data removed]",
      "text/latex": [
       "$\\displaystyle \\frac{Z_{1} \\left(Z_{2} + Z_{4}\\right)}{Z_{1} + Z_{2} + Z_{4}}$"
      ],
      "text/plain": [
       "Z₁⋅(Z₂ + Z₄)\n",
       "────────────\n",
       "Z₁ + Z₂ + Z₄"
      ]
     },
     "execution_count": 35,
     "metadata": {},
     "output_type": "execute_result"
    }
   ],
   "source": [
    "Zx = Z1*(Z2+Z4)/(Z1+Z2+Z4)\n",
    "Zx"
   ]
  },
  {
   "cell_type": "markdown",
   "id": "fa834165-1eae-406a-bdd0-556b73bc7234",
   "metadata": {},
   "source": [
    "The voltage at node 1 is calculated by using the voltage divider formula for Zx and Rin."
   ]
  },
  {
   "cell_type": "code",
   "execution_count": 36,
   "id": "dffcb31b-7c65-4f99-9bc5-a717843bd267",
   "metadata": {},
   "outputs": [
    {
     "data": {
      "image/png": "[encoded data removed]",
      "text/latex": [
       "$\\displaystyle \\frac{V_{1} Z_{1} \\left(Z_{2} + Z_{4}\\right)}{\\left(R_{in} + \\frac{Z_{1} \\left(Z_{2} + Z_{4}\\right)}{Z_{1} + Z_{2} + Z_{4}}\\right) \\left(Z_{1} + Z_{2} + Z_{4}\\right)}$"
      ],
      "text/plain": [
       "          V₁⋅Z₁⋅(Z₂ + Z₄)          \n",
       "───────────────────────────────────\n",
       "⎛      Z₁⋅(Z₂ + Z₄)⎞               \n",
       "⎜Rᵢₙ + ────────────⎟⋅(Z₁ + Z₂ + Z₄)\n",
       "⎝      Z₁ + Z₂ + Z₄⎠               "
      ]
     },
     "execution_count": 36,
     "metadata": {},
     "output_type": "execute_result"
    }
   ],
   "source": [
    "v_node1 = V1*Zx/(R_in+Zx)\n",
    "v_node1"
   ]
  },
  {
   "cell_type": "markdown",
   "id": "9621d098-3941-43b2-9434-6cb810f6b20e",
   "metadata": {},
   "source": [
    "Vout is the voltage divider of Z2 and Z4."
   ]
  },
  {
   "cell_type": "code",
   "execution_count": 37,
   "id": "4892f3bc-66d3-4b81-b1bb-335d98440871",
   "metadata": {},
   "outputs": [
    {
     "data": {
      "image/png": "[encoded data removed]",
      "text/latex": [
       "$\\displaystyle \\frac{V_{1} Z_{1} Z_{4}}{\\left(R_{in} + \\frac{Z_{1} \\left(Z_{2} + Z_{4}\\right)}{Z_{1} + Z_{2} + Z_{4}}\\right) \\left(Z_{1} + Z_{2} + Z_{4}\\right)}$"
      ],
      "text/plain": [
       "              V₁⋅Z₁⋅Z₄             \n",
       "───────────────────────────────────\n",
       "⎛      Z₁⋅(Z₂ + Z₄)⎞               \n",
       "⎜Rᵢₙ + ────────────⎟⋅(Z₁ + Z₂ + Z₄)\n",
       "⎝      Z₁ + Z₂ + Z₄⎠               "
      ]
     },
     "execution_count": 37,
     "metadata": {},
     "output_type": "execute_result"
    }
   ],
   "source": [
    "V_out =  v_node1*Z4/(Z2+Z4)\n",
    "V_out"
   ]
  },
  {
   "cell_type": "markdown",
   "id": "bbcc1c6b-1958-4695-99b6-9ad9f057bb0c",
   "metadata": {},
   "source": [
    "The trasfer function is Vout/Vin.\n",
    "H_franc_sym"
   ]
  },
  {
   "cell_type": "code",
   "execution_count": 38,
   "id": "e1b7d6ca-3cd5-4003-9a7d-9f25ea5de635",
   "metadata": {},
   "outputs": [
    {
     "data": {
      "image/png": "[encoded data removed]",
      "text/latex": [
       "$\\displaystyle \\frac{Z_{1} Z_{4}}{\\left(R_{in} + \\frac{Z_{1} \\left(Z_{2} + Z_{4}\\right)}{Z_{1} + Z_{2} + Z_{4}}\\right) \\left(Z_{1} + Z_{2} + Z_{4}\\right)}$"
      ],
      "text/plain": [
       "               Z₁⋅Z₄               \n",
       "───────────────────────────────────\n",
       "⎛      Z₁⋅(Z₂ + Z₄)⎞               \n",
       "⎜Rᵢₙ + ────────────⎟⋅(Z₁ + Z₂ + Z₄)\n",
       "⎝      Z₁ + Z₂ + Z₄⎠               "
      ]
     },
     "execution_count": 38,
     "metadata": {},
     "output_type": "execute_result"
    }
   ],
   "source": [
    "H_franc_z = V_out/V1\n",
    "H_franc_z"
   ]
  },
  {
   "cell_type": "code",
   "execution_count": 39,
   "id": "cb3d865e-4436-46bb-882f-0edf8505b154",
   "metadata": {},
   "outputs": [
    {
     "data": {
      "image/png": "[encoded data removed]",
      "text/latex": [
       "$\\displaystyle \\frac{Z_{1} Z_{4}}{R_{in} \\left(Z_{1} + Z_{2} + Z_{4}\\right) + Z_{1} \\left(Z_{2} + Z_{4}\\right)}$"
      ],
      "text/plain": [
       "              Z₁⋅Z₄              \n",
       "─────────────────────────────────\n",
       "Rᵢₙ⋅(Z₁ + Z₂ + Z₄) + Z₁⋅(Z₂ + Z₄)"
      ]
     },
     "execution_count": 39,
     "metadata": {},
     "output_type": "execute_result"
    }
   ],
   "source": [
    "H_franc_z.simplify()"
   ]
  },
  {
   "cell_type": "markdown",
   "id": "ff359f11-acdb-45a2-a7df-0d755edcef5a",
   "metadata": {},
   "source": [
    "Repeating the calculations from above, but using symbolic expressions for Z1, Z2, Z3 and Z4.\n",
    "\n",
    "Zx is the combination of Z's looking towards the output of the filter.\n",
    "Zx = Z1 || (Z2+Z4)"
   ]
  },
  {
   "cell_type": "code",
   "execution_count": 40,
   "id": "6e42ead0-a799-4874-999f-90db99c84718",
   "metadata": {},
   "outputs": [
    {
     "data": {
      "image/png": "[encoded data removed]",
      "text/latex": [
       "$\\displaystyle \\frac{\\left(L_{1} s + R_{1} + \\frac{1}{C_{1} s}\\right) \\left(\\frac{R_{out} \\left(L_{3} s + R_{3} + \\frac{1}{C_{3} s}\\right)}{L_{3} s + R_{3} + R_{out} + \\frac{1}{C_{3} s}} + Ra + \\frac{1}{C_{2} s + \\frac{1}{R_{2}} + \\frac{1}{L_{2} s}}\\right)}{L_{1} s + R_{1} + \\frac{R_{out} \\left(L_{3} s + R_{3} + \\frac{1}{C_{3} s}\\right)}{L_{3} s + R_{3} + R_{out} + \\frac{1}{C_{3} s}} + Ra + \\frac{1}{C_{2} s + \\frac{1}{R_{2}} + \\frac{1}{L_{2} s}} + \\frac{1}{C_{1} s}}$"
      ],
      "text/plain": [
       "                   ⎛     ⎛             1  ⎞                        ⎞\n",
       "                   ⎜Rₒᵤₜ⋅⎜L₃⋅s + R₃ + ────⎟                        ⎟\n",
       "⎛             1  ⎞ ⎜     ⎝            C₃⋅s⎠               1        ⎟\n",
       "⎜L₁⋅s + R₁ + ────⎟⋅⎜─────────────────────── + Ra + ────────────────⎟\n",
       "⎝            C₁⋅s⎠ ⎜                    1                 1     1  ⎟\n",
       "                   ⎜L₃⋅s + R₃ + Rₒᵤₜ + ────        C₂⋅s + ── + ────⎟\n",
       "                   ⎝                   C₃⋅s               R₂   L₂⋅s⎠\n",
       "────────────────────────────────────────────────────────────────────\n",
       "                  ⎛             1  ⎞                                \n",
       "             Rₒᵤₜ⋅⎜L₃⋅s + R₃ + ────⎟                                \n",
       "                  ⎝            C₃⋅s⎠               1            1   \n",
       " L₁⋅s + R₁ + ─────────────────────── + Ra + ──────────────── + ──── \n",
       "                                 1                 1     1     C₁⋅s \n",
       "             L₃⋅s + R₃ + Rₒᵤₜ + ────        C₂⋅s + ── + ────        \n",
       "                                C₃⋅s               R₂   L₂⋅s        "
      ]
     },
     "execution_count": 40,
     "metadata": {},
     "output_type": "execute_result"
    }
   ],
   "source": [
    "Zx_sym = Z1_sym*(Z2_sym+Z4_sym)/(Z1_sym+Z2_sym+Z4_sym)\n",
    "Zx_sym"
   ]
  },
  {
   "cell_type": "markdown",
   "id": "9350f540-68e2-483e-953f-186d97eeac4b",
   "metadata": {},
   "source": [
    "The voltage at node 1 is\n",
    "```\n",
    "v_node1 = V1*Zx/(R_in+Zx)\n",
    "```"
   ]
  },
  {
   "cell_type": "code",
   "execution_count": 41,
   "id": "f76d7341-7019-4e5b-99f9-5b2d7d1047e3",
   "metadata": {},
   "outputs": [
    {
     "data": {
      "image/png": "[encoded data removed]",
      "text/latex": [
       "$\\displaystyle \\frac{V_{1} \\left(L_{1} s + R_{1} + \\frac{1}{C_{1} s}\\right) \\left(\\frac{R_{out} \\left(L_{3} s + R_{3} + \\frac{1}{C_{3} s}\\right)}{L_{3} s + R_{3} + R_{out} + \\frac{1}{C_{3} s}} + Ra + \\frac{1}{C_{2} s + \\frac{1}{R_{2}} + \\frac{1}{L_{2} s}}\\right)}{\\left(R_{in} + \\frac{\\left(L_{1} s + R_{1} + \\frac{1}{C_{1} s}\\right) \\left(\\frac{R_{out} \\left(L_{3} s + R_{3} + \\frac{1}{C_{3} s}\\right)}{L_{3} s + R_{3} + R_{out} + \\frac{1}{C_{3} s}} + Ra + \\frac{1}{C_{2} s + \\frac{1}{R_{2}} + \\frac{1}{L_{2} s}}\\right)}{L_{1} s + R_{1} + \\frac{R_{out} \\left(L_{3} s + R_{3} + \\frac{1}{C_{3} s}\\right)}{L_{3} s + R_{3} + R_{out} + \\frac{1}{C_{3} s}} + Ra + \\frac{1}{C_{2} s + \\frac{1}{R_{2}} + \\frac{1}{L_{2} s}} + \\frac{1}{C_{1} s}}\\right) \\left(L_{1} s + R_{1} + \\frac{R_{out} \\left(L_{3} s + R_{3} + \\frac{1}{C_{3} s}\\right)}{L_{3} s + R_{3} + R_{out} + \\frac{1}{C_{3} s}} + Ra + \\frac{1}{C_{2} s + \\frac{1}{R_{2}} + \\frac{1}{L_{2} s}} + \\frac{1}{C_{1} s}\\right)}$"
      ],
      "text/plain": [
       "                                                           ⎛     ⎛            \n",
       "                                                           ⎜Rₒᵤₜ⋅⎜L₃⋅s + R₃ + \n",
       "                                        ⎛             1  ⎞ ⎜     ⎝            \n",
       "                                     V₁⋅⎜L₁⋅s + R₁ + ────⎟⋅⎜──────────────────\n",
       "                                        ⎝            C₁⋅s⎠ ⎜                  \n",
       "                                                           ⎜L₃⋅s + R₃ + Rₒᵤₜ +\n",
       "                                                           ⎝                  \n",
       "──────────────────────────────────────────────────────────────────────────────\n",
       "⎛                         ⎛     ⎛             1  ⎞                        ⎞⎞  \n",
       "⎜                         ⎜Rₒᵤₜ⋅⎜L₃⋅s + R₃ + ────⎟                        ⎟⎟  \n",
       "⎜      ⎛             1  ⎞ ⎜     ⎝            C₃⋅s⎠               1        ⎟⎟  \n",
       "⎜      ⎜L₁⋅s + R₁ + ────⎟⋅⎜─────────────────────── + Ra + ────────────────⎟⎟  \n",
       "⎜      ⎝            C₁⋅s⎠ ⎜                    1                 1     1  ⎟⎟ ⎛\n",
       "⎜                         ⎜L₃⋅s + R₃ + Rₒᵤₜ + ────        C₂⋅s + ── + ────⎟⎟ ⎜\n",
       "⎜                         ⎝                   C₃⋅s               R₂   L₂⋅s⎠⎟ ⎜\n",
       "⎜Rᵢₙ + ────────────────────────────────────────────────────────────────────⎟⋅⎜\n",
       "⎜                        ⎛             1  ⎞                                ⎟ ⎜\n",
       "⎜                   Rₒᵤₜ⋅⎜L₃⋅s + R₃ + ────⎟                                ⎟ ⎜\n",
       "⎜                        ⎝            C₃⋅s⎠               1            1   ⎟ ⎝\n",
       "⎜       L₁⋅s + R₁ + ─────────────────────── + Ra + ──────────────── + ──── ⎟  \n",
       "⎜                                       1                 1     1     C₁⋅s ⎟  \n",
       "⎜                   L₃⋅s + R₃ + Rₒᵤₜ + ────        C₂⋅s + ── + ────        ⎟  \n",
       "⎝                                      C₃⋅s               R₂   L₂⋅s        ⎠  \n",
       "\n",
       " 1  ⎞                        ⎞                                     \n",
       "────⎟                        ⎟                                     \n",
       "C₃⋅s⎠               1        ⎟                                     \n",
       "───── + Ra + ────────────────⎟                                     \n",
       "  1                 1     1  ⎟                                     \n",
       " ────        C₂⋅s + ── + ────⎟                                     \n",
       " C₃⋅s               R₂   L₂⋅s⎠                                     \n",
       "───────────────────────────────────────────────────────────────────\n",
       "                                                                   \n",
       "                                                                   \n",
       "                                                                   \n",
       "                                                                   \n",
       "                 ⎛             1  ⎞                               ⎞\n",
       "            Rₒᵤₜ⋅⎜L₃⋅s + R₃ + ────⎟                               ⎟\n",
       "                 ⎝            C₃⋅s⎠               1            1  ⎟\n",
       "L₁⋅s + R₁ + ─────────────────────── + Ra + ──────────────── + ────⎟\n",
       "                                1                 1     1     C₁⋅s⎟\n",
       "            L₃⋅s + R₃ + Rₒᵤₜ + ────        C₂⋅s + ── + ────       ⎟\n",
       "                               C₃⋅s               R₂   L₂⋅s       ⎠\n",
       "                                                                   \n",
       "                                                                   \n",
       "                                                                   \n",
       "                                                                   "
      ]
     },
     "execution_count": 41,
     "metadata": {},
     "output_type": "execute_result"
    }
   ],
   "source": [
    "v_node1_sym = V1*Zx_sym/(R_in+Zx_sym)\n",
    "v_node1_sym"
   ]
  },
  {
   "cell_type": "markdown",
   "id": "2bf9f486-45c1-4ff3-b2f0-7de6503c1f15",
   "metadata": {},
   "source": [
    "V_out is the output of the voltage divider circuit formed by Z2 and Z4"
   ]
  },
  {
   "cell_type": "code",
   "execution_count": 42,
   "id": "f0e8d487-250c-419b-a2a5-bc70bc023aef",
   "metadata": {},
   "outputs": [
    {
     "data": {
      "image/png": "[encoded data removed]",
      "text/latex": [
       "$\\displaystyle \\frac{R_{out} V_{1} \\left(L_{1} s + R_{1} + \\frac{1}{C_{1} s}\\right) \\left(L_{3} s + R_{3} + \\frac{1}{C_{3} s}\\right)}{\\left(R_{in} + \\frac{\\left(L_{1} s + R_{1} + \\frac{1}{C_{1} s}\\right) \\left(\\frac{R_{out} \\left(L_{3} s + R_{3} + \\frac{1}{C_{3} s}\\right)}{L_{3} s + R_{3} + R_{out} + \\frac{1}{C_{3} s}} + Ra + \\frac{1}{C_{2} s + \\frac{1}{R_{2}} + \\frac{1}{L_{2} s}}\\right)}{L_{1} s + R_{1} + \\frac{R_{out} \\left(L_{3} s + R_{3} + \\frac{1}{C_{3} s}\\right)}{L_{3} s + R_{3} + R_{out} + \\frac{1}{C_{3} s}} + Ra + \\frac{1}{C_{2} s + \\frac{1}{R_{2}} + \\frac{1}{L_{2} s}} + \\frac{1}{C_{1} s}}\\right) \\left(L_{3} s + R_{3} + R_{out} + \\frac{1}{C_{3} s}\\right) \\left(L_{1} s + R_{1} + \\frac{R_{out} \\left(L_{3} s + R_{3} + \\frac{1}{C_{3} s}\\right)}{L_{3} s + R_{3} + R_{out} + \\frac{1}{C_{3} s}} + Ra + \\frac{1}{C_{2} s + \\frac{1}{R_{2}} + \\frac{1}{L_{2} s}} + \\frac{1}{C_{1} s}\\right)}$"
      ],
      "text/plain": [
       "                                                                       ⎛      \n",
       "                                                               Rₒᵤₜ⋅V₁⋅⎜L₁⋅s +\n",
       "                                                                       ⎝      \n",
       "──────────────────────────────────────────────────────────────────────────────\n",
       "⎛                         ⎛     ⎛             1  ⎞                        ⎞⎞  \n",
       "⎜                         ⎜Rₒᵤₜ⋅⎜L₃⋅s + R₃ + ────⎟                        ⎟⎟  \n",
       "⎜      ⎛             1  ⎞ ⎜     ⎝            C₃⋅s⎠               1        ⎟⎟  \n",
       "⎜      ⎜L₁⋅s + R₁ + ────⎟⋅⎜─────────────────────── + Ra + ────────────────⎟⎟  \n",
       "⎜      ⎝            C₁⋅s⎠ ⎜                    1                 1     1  ⎟⎟  \n",
       "⎜                         ⎜L₃⋅s + R₃ + Rₒᵤₜ + ────        C₂⋅s + ── + ────⎟⎟  \n",
       "⎜                         ⎝                   C₃⋅s               R₂   L₂⋅s⎠⎟ ⎛\n",
       "⎜Rᵢₙ + ────────────────────────────────────────────────────────────────────⎟⋅⎜\n",
       "⎜                        ⎛             1  ⎞                                ⎟ ⎝\n",
       "⎜                   Rₒᵤₜ⋅⎜L₃⋅s + R₃ + ────⎟                                ⎟  \n",
       "⎜                        ⎝            C₃⋅s⎠               1            1   ⎟  \n",
       "⎜       L₁⋅s + R₁ + ─────────────────────── + Ra + ──────────────── + ──── ⎟  \n",
       "⎜                                       1                 1     1     C₁⋅s ⎟  \n",
       "⎜                   L₃⋅s + R₃ + Rₒᵤₜ + ────        C₂⋅s + ── + ────        ⎟  \n",
       "⎝                                      C₃⋅s               R₂   L₂⋅s        ⎠  \n",
       "\n",
       "       1  ⎞ ⎛             1  ⎞                                                \n",
       " R₁ + ────⎟⋅⎜L₃⋅s + R₃ + ────⎟                                                \n",
       "      C₁⋅s⎠ ⎝            C₃⋅s⎠                                                \n",
       "──────────────────────────────────────────────────────────────────────────────\n",
       "                                                                              \n",
       "                                                                              \n",
       "                                                                              \n",
       "                                                                              \n",
       "                         ⎛                 ⎛             1  ⎞                 \n",
       "                         ⎜            Rₒᵤₜ⋅⎜L₃⋅s + R₃ + ────⎟                 \n",
       "                    1  ⎞ ⎜                 ⎝            C₃⋅s⎠               1 \n",
       "L₃⋅s + R₃ + Rₒᵤₜ + ────⎟⋅⎜L₁⋅s + R₁ + ─────────────────────── + Ra + ─────────\n",
       "                   C₃⋅s⎠ ⎜                                1                 1 \n",
       "                         ⎜            L₃⋅s + R₃ + Rₒᵤₜ + ────        C₂⋅s + ──\n",
       "                         ⎝                               C₃⋅s               R₂\n",
       "                                                                              \n",
       "                                                                              \n",
       "                                                                              \n",
       "                                                                              \n",
       "\n",
       "               \n",
       "               \n",
       "               \n",
       "───────────────\n",
       "               \n",
       "               \n",
       "               \n",
       "               \n",
       "              ⎞\n",
       "              ⎟\n",
       "           1  ⎟\n",
       "─────── + ────⎟\n",
       "    1     C₁⋅s⎟\n",
       " + ────       ⎟\n",
       "   L₂⋅s       ⎠\n",
       "               \n",
       "               \n",
       "               \n",
       "               "
      ]
     },
     "execution_count": 42,
     "metadata": {},
     "output_type": "execute_result"
    }
   ],
   "source": [
    "V_out_sym =  v_node1_sym*Z4_sym/(Z2_sym+Z4_sym)\n",
    "V_out_sym"
   ]
  },
  {
   "cell_type": "markdown",
   "id": "6a1eab93-3082-41b6-89a4-8779831cc73a",
   "metadata": {},
   "source": [
    "### H_franc_sym\n",
    "The transfer function as determined by taking the impedance of branches and combining by series and parallel combinations can be expressed below."
   ]
  },
  {
   "cell_type": "code",
   "execution_count": 43,
   "id": "9308434c-4e5d-4092-8edf-0d91a6a3b458",
   "metadata": {},
   "outputs": [
    {
     "data": {
      "image/png": "[encoded data removed]",
      "text/latex": [
       "$\\displaystyle \\frac{R_{out} \\left(L_{1} s + R_{1} + \\frac{1}{C_{1} s}\\right) \\left(L_{3} s + R_{3} + \\frac{1}{C_{3} s}\\right)}{\\left(R_{in} + \\frac{\\left(L_{1} s + R_{1} + \\frac{1}{C_{1} s}\\right) \\left(\\frac{R_{out} \\left(L_{3} s + R_{3} + \\frac{1}{C_{3} s}\\right)}{L_{3} s + R_{3} + R_{out} + \\frac{1}{C_{3} s}} + Ra + \\frac{1}{C_{2} s + \\frac{1}{R_{2}} + \\frac{1}{L_{2} s}}\\right)}{L_{1} s + R_{1} + \\frac{R_{out} \\left(L_{3} s + R_{3} + \\frac{1}{C_{3} s}\\right)}{L_{3} s + R_{3} + R_{out} + \\frac{1}{C_{3} s}} + Ra + \\frac{1}{C_{2} s + \\frac{1}{R_{2}} + \\frac{1}{L_{2} s}} + \\frac{1}{C_{1} s}}\\right) \\left(L_{3} s + R_{3} + R_{out} + \\frac{1}{C_{3} s}\\right) \\left(L_{1} s + R_{1} + \\frac{R_{out} \\left(L_{3} s + R_{3} + \\frac{1}{C_{3} s}\\right)}{L_{3} s + R_{3} + R_{out} + \\frac{1}{C_{3} s}} + Ra + \\frac{1}{C_{2} s + \\frac{1}{R_{2}} + \\frac{1}{L_{2} s}} + \\frac{1}{C_{1} s}\\right)}$"
      ],
      "text/plain": [
       "                                                                      ⎛       \n",
       "                                                                 Rₒᵤₜ⋅⎜L₁⋅s + \n",
       "                                                                      ⎝       \n",
       "──────────────────────────────────────────────────────────────────────────────\n",
       "⎛                         ⎛     ⎛             1  ⎞                        ⎞⎞  \n",
       "⎜                         ⎜Rₒᵤₜ⋅⎜L₃⋅s + R₃ + ────⎟                        ⎟⎟  \n",
       "⎜      ⎛             1  ⎞ ⎜     ⎝            C₃⋅s⎠               1        ⎟⎟  \n",
       "⎜      ⎜L₁⋅s + R₁ + ────⎟⋅⎜─────────────────────── + Ra + ────────────────⎟⎟  \n",
       "⎜      ⎝            C₁⋅s⎠ ⎜                    1                 1     1  ⎟⎟  \n",
       "⎜                         ⎜L₃⋅s + R₃ + Rₒᵤₜ + ────        C₂⋅s + ── + ────⎟⎟  \n",
       "⎜                         ⎝                   C₃⋅s               R₂   L₂⋅s⎠⎟ ⎛\n",
       "⎜Rᵢₙ + ────────────────────────────────────────────────────────────────────⎟⋅⎜\n",
       "⎜                        ⎛             1  ⎞                                ⎟ ⎝\n",
       "⎜                   Rₒᵤₜ⋅⎜L₃⋅s + R₃ + ────⎟                                ⎟  \n",
       "⎜                        ⎝            C₃⋅s⎠               1            1   ⎟  \n",
       "⎜       L₁⋅s + R₁ + ─────────────────────── + Ra + ──────────────── + ──── ⎟  \n",
       "⎜                                       1                 1     1     C₁⋅s ⎟  \n",
       "⎜                   L₃⋅s + R₃ + Rₒᵤₜ + ────        C₂⋅s + ── + ────        ⎟  \n",
       "⎝                                      C₃⋅s               R₂   L₂⋅s        ⎠  \n",
       "\n",
       "      1  ⎞ ⎛             1  ⎞                                                 \n",
       "R₁ + ────⎟⋅⎜L₃⋅s + R₃ + ────⎟                                                 \n",
       "     C₁⋅s⎠ ⎝            C₃⋅s⎠                                                 \n",
       "──────────────────────────────────────────────────────────────────────────────\n",
       "                                                                              \n",
       "                                                                              \n",
       "                                                                              \n",
       "                                                                              \n",
       "                         ⎛                 ⎛             1  ⎞                 \n",
       "                         ⎜            Rₒᵤₜ⋅⎜L₃⋅s + R₃ + ────⎟                 \n",
       "                    1  ⎞ ⎜                 ⎝            C₃⋅s⎠               1 \n",
       "L₃⋅s + R₃ + Rₒᵤₜ + ────⎟⋅⎜L₁⋅s + R₁ + ─────────────────────── + Ra + ─────────\n",
       "                   C₃⋅s⎠ ⎜                                1                 1 \n",
       "                         ⎜            L₃⋅s + R₃ + Rₒᵤₜ + ────        C₂⋅s + ──\n",
       "                         ⎝                               C₃⋅s               R₂\n",
       "                                                                              \n",
       "                                                                              \n",
       "                                                                              \n",
       "                                                                              \n",
       "\n",
       "               \n",
       "               \n",
       "               \n",
       "───────────────\n",
       "               \n",
       "               \n",
       "               \n",
       "               \n",
       "              ⎞\n",
       "              ⎟\n",
       "           1  ⎟\n",
       "─────── + ────⎟\n",
       "    1     C₁⋅s⎟\n",
       " + ────       ⎟\n",
       "   L₂⋅s       ⎠\n",
       "               \n",
       "               \n",
       "               \n",
       "               "
      ]
     },
     "execution_count": 43,
     "metadata": {},
     "output_type": "execute_result"
    }
   ],
   "source": [
    "H_franc_sym = V_out_sym/V1\n",
    "H_franc_sym"
   ]
  },
  {
   "cell_type": "code",
   "execution_count": 44,
   "id": "7dc5caec-9957-448e-9f5f-d1f62810e5ae",
   "metadata": {},
   "outputs": [
    {
     "data": {
      "image/png": "[encoded data removed]",
      "text/latex": [
       "$\\displaystyle \\frac{R_{out} \\left(C_{1} s \\left(L_{1} s + R_{1}\\right) + 1\\right) \\left(C_{3} s \\left(L_{3} s + R_{3}\\right) + 1\\right) \\left(C_{2} L_{2} R_{2} s^{2} + L_{2} s + R_{2}\\right)}{R_{in} \\left(C_{1} L_{2} R_{2} s^{2} \\left(C_{3} s \\left(L_{3} s + R_{3} + R_{out}\\right) + 1\\right) + C_{1} R_{out} s \\left(C_{3} s \\left(L_{3} s + R_{3}\\right) + 1\\right) \\left(C_{2} L_{2} R_{2} s^{2} + L_{2} s + R_{2}\\right) + C_{1} s \\left(C_{3} s \\left(L_{3} s + R_{3} + R_{out}\\right) + 1\\right) \\left(L_{1} s + R_{1} + Ra\\right) \\left(C_{2} L_{2} R_{2} s^{2} + L_{2} s + R_{2}\\right) + \\left(C_{3} s \\left(L_{3} s + R_{3} + R_{out}\\right) + 1\\right) \\left(C_{2} L_{2} R_{2} s^{2} + L_{2} s + R_{2}\\right)\\right) + \\left(C_{1} s \\left(L_{1} s + R_{1}\\right) + 1\\right) \\left(L_{2} R_{2} s \\left(C_{3} s \\left(L_{3} s + R_{3} + R_{out}\\right) + 1\\right) + R_{out} \\left(C_{3} s \\left(L_{3} s + R_{3}\\right) + 1\\right) \\left(C_{2} L_{2} R_{2} s^{2} + L_{2} s + R_{2}\\right) + Ra \\left(C_{3} s \\left(L_{3} s + R_{3} + R_{out}\\right) + 1\\right) \\left(C_{2} L_{2} R_{2} s^{2} + L_{2} s + R_{2}\\right)\\right)}$"
      ],
      "text/plain": [
       "                                                                              \n",
       "                                                                              \n",
       "──────────────────────────────────────────────────────────────────────────────\n",
       "    ⎛          2                                                              \n",
       "Rᵢₙ⋅⎝C₁⋅L₂⋅R₂⋅s ⋅(C₃⋅s⋅(L₃⋅s + R₃ + Rₒᵤₜ) + 1) + C₁⋅Rₒᵤₜ⋅s⋅(C₃⋅s⋅(L₃⋅s + R₃) +\n",
       "\n",
       "                                                                              \n",
       "                                                                              \n",
       "──────────────────────────────────────────────────────────────────────────────\n",
       "    ⎛          2            ⎞                                                 \n",
       " 1)⋅⎝C₂⋅L₂⋅R₂⋅s  + L₂⋅s + R₂⎠ + C₁⋅s⋅(C₃⋅s⋅(L₃⋅s + R₃ + Rₒᵤₜ) + 1)⋅(L₁⋅s + R₁ \n",
       "\n",
       "                                                                       ⎛      \n",
       "                    Rₒᵤₜ⋅(C₁⋅s⋅(L₁⋅s + R₁) + 1)⋅(C₃⋅s⋅(L₃⋅s + R₃) + 1)⋅⎝C₂⋅L₂⋅\n",
       "──────────────────────────────────────────────────────────────────────────────\n",
       "      ⎛          2            ⎞                                 ⎛          2  \n",
       "+ Ra)⋅⎝C₂⋅L₂⋅R₂⋅s  + L₂⋅s + R₂⎠ + (C₃⋅s⋅(L₃⋅s + R₃ + Rₒᵤₜ) + 1)⋅⎝C₂⋅L₂⋅R₂⋅s  +\n",
       "\n",
       "    2            ⎞                                                            \n",
       "R₂⋅s  + L₂⋅s + R₂⎠                                                            \n",
       "──────────────────────────────────────────────────────────────────────────────\n",
       "          ⎞⎞                          ⎛                                       \n",
       " L₂⋅s + R₂⎠⎠ + (C₁⋅s⋅(L₁⋅s + R₁) + 1)⋅⎝L₂⋅R₂⋅s⋅(C₃⋅s⋅(L₃⋅s + R₃ + Rₒᵤₜ) + 1) +\n",
       "\n",
       "                                                                              \n",
       "                                                                              \n",
       "──────────────────────────────────────────────────────────────────────────────\n",
       "                             ⎛          2            ⎞                        \n",
       " Rₒᵤₜ⋅(C₃⋅s⋅(L₃⋅s + R₃) + 1)⋅⎝C₂⋅L₂⋅R₂⋅s  + L₂⋅s + R₂⎠ + Ra⋅(C₃⋅s⋅(L₃⋅s + R₃ +\n",
       "\n",
       "                                      \n",
       "                                      \n",
       "──────────────────────────────────────\n",
       "            ⎛          2            ⎞⎞\n",
       " Rₒᵤₜ) + 1)⋅⎝C₂⋅L₂⋅R₂⋅s  + L₂⋅s + R₂⎠⎠"
      ]
     },
     "execution_count": 44,
     "metadata": {},
     "output_type": "execute_result"
    }
   ],
   "source": [
    "H_franc_sym_1a = H_franc_sym.simplify()\n",
    "H_franc_sym_1a"
   ]
  },
  {
   "cell_type": "code",
   "execution_count": null,
   "id": "32c4a270-0c76-4aea-be3a-e5255651feb7",
   "metadata": {},
   "outputs": [],
   "source": []
  },
  {
   "cell_type": "code",
   "execution_count": 45,
   "id": "e9fc4f46-c8fb-4158-9af1-31cab2ca5873",
   "metadata": {},
   "outputs": [
    {
     "data": {
      "text/plain": [
       "'numerator'"
      ]
     },
     "metadata": {},
     "output_type": "display_data"
    },
    {
     "data": {
      "image/png": "[encoded data removed]",
      "text/latex": [
       "$\\displaystyle R_{out} \\left(C_{1} s \\left(L_{1} s + R_{1}\\right) + 1\\right) \\left(C_{3} s \\left(L_{3} s + R_{3}\\right) + 1\\right) \\left(C_{2} L_{2} R_{2} s^{2} + L_{2} s + R_{2}\\right)$"
      ],
      "text/plain": [
       "                                                   ⎛          2            ⎞\n",
       "Rₒᵤₜ⋅(C₁⋅s⋅(L₁⋅s + R₁) + 1)⋅(C₃⋅s⋅(L₃⋅s + R₃) + 1)⋅⎝C₂⋅L₂⋅R₂⋅s  + L₂⋅s + R₂⎠"
      ]
     },
     "metadata": {},
     "output_type": "display_data"
    },
    {
     "data": {
      "text/plain": [
       "'denominator'"
      ]
     },
     "metadata": {},
     "output_type": "display_data"
    },
    {
     "data": {
      "image/png": "[encoded data removed]",
      "text/latex": [
       "$\\displaystyle R_{in} \\left(C_{1} L_{2} R_{2} s^{2} \\left(C_{3} s \\left(L_{3} s + R_{3} + R_{out}\\right) + 1\\right) + C_{1} R_{out} s \\left(C_{3} s \\left(L_{3} s + R_{3}\\right) + 1\\right) \\left(C_{2} L_{2} R_{2} s^{2} + L_{2} s + R_{2}\\right) + C_{1} s \\left(C_{3} s \\left(L_{3} s + R_{3} + R_{out}\\right) + 1\\right) \\left(L_{1} s + R_{1} + Ra\\right) \\left(C_{2} L_{2} R_{2} s^{2} + L_{2} s + R_{2}\\right) + \\left(C_{3} s \\left(L_{3} s + R_{3} + R_{out}\\right) + 1\\right) \\left(C_{2} L_{2} R_{2} s^{2} + L_{2} s + R_{2}\\right)\\right) + \\left(C_{1} s \\left(L_{1} s + R_{1}\\right) + 1\\right) \\left(L_{2} R_{2} s \\left(C_{3} s \\left(L_{3} s + R_{3} + R_{out}\\right) + 1\\right) + R_{out} \\left(C_{3} s \\left(L_{3} s + R_{3}\\right) + 1\\right) \\left(C_{2} L_{2} R_{2} s^{2} + L_{2} s + R_{2}\\right) + Ra \\left(C_{3} s \\left(L_{3} s + R_{3} + R_{out}\\right) + 1\\right) \\left(C_{2} L_{2} R_{2} s^{2} + L_{2} s + R_{2}\\right)\\right)$"
      ],
      "text/plain": [
       "    ⎛          2                                                              \n",
       "Rᵢₙ⋅⎝C₁⋅L₂⋅R₂⋅s ⋅(C₃⋅s⋅(L₃⋅s + R₃ + Rₒᵤₜ) + 1) + C₁⋅Rₒᵤₜ⋅s⋅(C₃⋅s⋅(L₃⋅s + R₃) +\n",
       "\n",
       "    ⎛          2            ⎞                                                 \n",
       " 1)⋅⎝C₂⋅L₂⋅R₂⋅s  + L₂⋅s + R₂⎠ + C₁⋅s⋅(C₃⋅s⋅(L₃⋅s + R₃ + Rₒᵤₜ) + 1)⋅(L₁⋅s + R₁ \n",
       "\n",
       "      ⎛          2            ⎞                                 ⎛          2  \n",
       "+ Ra)⋅⎝C₂⋅L₂⋅R₂⋅s  + L₂⋅s + R₂⎠ + (C₃⋅s⋅(L₃⋅s + R₃ + Rₒᵤₜ) + 1)⋅⎝C₂⋅L₂⋅R₂⋅s  +\n",
       "\n",
       "          ⎞⎞                          ⎛                                       \n",
       " L₂⋅s + R₂⎠⎠ + (C₁⋅s⋅(L₁⋅s + R₁) + 1)⋅⎝L₂⋅R₂⋅s⋅(C₃⋅s⋅(L₃⋅s + R₃ + Rₒᵤₜ) + 1) +\n",
       "\n",
       "                             ⎛          2            ⎞                        \n",
       " Rₒᵤₜ⋅(C₃⋅s⋅(L₃⋅s + R₃) + 1)⋅⎝C₂⋅L₂⋅R₂⋅s  + L₂⋅s + R₂⎠ + Ra⋅(C₃⋅s⋅(L₃⋅s + R₃ +\n",
       "\n",
       "            ⎛          2            ⎞⎞\n",
       " Rₒᵤₜ) + 1)⋅⎝C₂⋅L₂⋅R₂⋅s  + L₂⋅s + R₂⎠⎠"
      ]
     },
     "metadata": {},
     "output_type": "display_data"
    }
   ],
   "source": [
    "n, d = fraction(H_franc_sym_1a)\n",
    "display('numerator', n, 'denominator', d)"
   ]
  },
  {
   "cell_type": "markdown",
   "id": "5d4df3fd-0d60-4ebf-97d7-d22ba37e310c",
   "metadata": {},
   "source": [
    "Solve for the roots of the numberator."
   ]
  },
  {
   "cell_type": "code",
   "execution_count": 46,
   "id": "f89e604d-e318-40fc-9847-4e31cbab608a",
   "metadata": {},
   "outputs": [
    {
     "data": {
      "image/png": "[encoded data removed]",
      "text/latex": [
       "$\\displaystyle C_{1} C_{2} C_{3} L_{1} L_{2} L_{3} R_{2} R_{out} s^{6} + C_{1} C_{2} C_{3} L_{1} L_{2} R_{2} R_{3} R_{out} s^{5} + C_{1} C_{2} C_{3} L_{2} L_{3} R_{1} R_{2} R_{out} s^{5} + C_{1} C_{2} C_{3} L_{2} R_{1} R_{2} R_{3} R_{out} s^{4} + C_{1} C_{2} L_{1} L_{2} R_{2} R_{out} s^{4} + C_{1} C_{2} L_{2} R_{1} R_{2} R_{out} s^{3} + C_{1} C_{3} L_{1} L_{2} L_{3} R_{out} s^{5} + C_{1} C_{3} L_{1} L_{2} R_{3} R_{out} s^{4} + C_{1} C_{3} L_{1} L_{3} R_{2} R_{out} s^{4} + C_{1} C_{3} L_{1} R_{2} R_{3} R_{out} s^{3} + C_{1} C_{3} L_{2} L_{3} R_{1} R_{out} s^{4} + C_{1} C_{3} L_{2} R_{1} R_{3} R_{out} s^{3} + C_{1} C_{3} L_{3} R_{1} R_{2} R_{out} s^{3} + C_{1} C_{3} R_{1} R_{2} R_{3} R_{out} s^{2} + C_{1} L_{1} L_{2} R_{out} s^{3} + C_{1} L_{1} R_{2} R_{out} s^{2} + C_{1} L_{2} R_{1} R_{out} s^{2} + C_{1} R_{1} R_{2} R_{out} s + C_{2} C_{3} L_{2} L_{3} R_{2} R_{out} s^{4} + C_{2} C_{3} L_{2} R_{2} R_{3} R_{out} s^{3} + C_{2} L_{2} R_{2} R_{out} s^{2} + C_{3} L_{2} L_{3} R_{out} s^{3} + C_{3} L_{2} R_{3} R_{out} s^{2} + C_{3} L_{3} R_{2} R_{out} s^{2} + C_{3} R_{2} R_{3} R_{out} s + L_{2} R_{out} s + R_{2} R_{out}$"
      ],
      "text/plain": [
       "                           6                              5                   \n",
       "C₁⋅C₂⋅C₃⋅L₁⋅L₂⋅L₃⋅R₂⋅Rₒᵤₜ⋅s  + C₁⋅C₂⋅C₃⋅L₁⋅L₂⋅R₂⋅R₃⋅Rₒᵤₜ⋅s  + C₁⋅C₂⋅C₃⋅L₂⋅L₃⋅R\n",
       "\n",
       "           5                              4                        4          \n",
       "₁⋅R₂⋅Rₒᵤₜ⋅s  + C₁⋅C₂⋅C₃⋅L₂⋅R₁⋅R₂⋅R₃⋅Rₒᵤₜ⋅s  + C₁⋅C₂⋅L₁⋅L₂⋅R₂⋅Rₒᵤₜ⋅s  + C₁⋅C₂⋅L\n",
       "\n",
       "              3                        5                        4             \n",
       "₂⋅R₁⋅R₂⋅Rₒᵤₜ⋅s  + C₁⋅C₃⋅L₁⋅L₂⋅L₃⋅Rₒᵤₜ⋅s  + C₁⋅C₃⋅L₁⋅L₂⋅R₃⋅Rₒᵤₜ⋅s  + C₁⋅C₃⋅L₁⋅L\n",
       "\n",
       "           4                        3                        4                \n",
       "₃⋅R₂⋅Rₒᵤₜ⋅s  + C₁⋅C₃⋅L₁⋅R₂⋅R₃⋅Rₒᵤₜ⋅s  + C₁⋅C₃⋅L₂⋅L₃⋅R₁⋅Rₒᵤₜ⋅s  + C₁⋅C₃⋅L₂⋅R₁⋅R\n",
       "\n",
       "        3                        3                        2                  3\n",
       "₃⋅Rₒᵤₜ⋅s  + C₁⋅C₃⋅L₃⋅R₁⋅R₂⋅Rₒᵤₜ⋅s  + C₁⋅C₃⋅R₁⋅R₂⋅R₃⋅Rₒᵤₜ⋅s  + C₁⋅L₁⋅L₂⋅Rₒᵤₜ⋅s \n",
       "\n",
       "                  2                  2                                        \n",
       " + C₁⋅L₁⋅R₂⋅Rₒᵤₜ⋅s  + C₁⋅L₂⋅R₁⋅Rₒᵤₜ⋅s  + C₁⋅R₁⋅R₂⋅Rₒᵤₜ⋅s + C₂⋅C₃⋅L₂⋅L₃⋅R₂⋅Rₒᵤₜ\n",
       "\n",
       "  4                        3                  2                  3            \n",
       "⋅s  + C₂⋅C₃⋅L₂⋅R₂⋅R₃⋅Rₒᵤₜ⋅s  + C₂⋅L₂⋅R₂⋅Rₒᵤₜ⋅s  + C₃⋅L₂⋅L₃⋅Rₒᵤₜ⋅s  + C₃⋅L₂⋅R₃⋅\n",
       "\n",
       "      2                  2                                        \n",
       "Rₒᵤₜ⋅s  + C₃⋅L₃⋅R₂⋅Rₒᵤₜ⋅s  + C₃⋅R₂⋅R₃⋅Rₒᵤₜ⋅s + L₂⋅Rₒᵤₜ⋅s + R₂⋅Rₒᵤₜ"
      ]
     },
     "execution_count": 46,
     "metadata": {},
     "output_type": "execute_result"
    }
   ],
   "source": [
    "n.simplify().expand()"
   ]
  },
  {
   "cell_type": "code",
   "execution_count": 47,
   "id": "c6cab120-555e-4921-bc79-d52e4e6e3bdc",
   "metadata": {},
   "outputs": [
    {
     "data": {
      "image/png": "[encoded data removed]",
      "text/latex": [
       "$\\displaystyle \\left[ \\frac{- C_{1} R_{1} - \\sqrt{C_{1}^{2} R_{1}^{2} - 4 C_{1} L_{1}}}{2 C_{1} L_{1}}, \\  \\frac{- C_{1} R_{1} + \\sqrt{C_{1}^{2} R_{1}^{2} - 4 C_{1} L_{1}}}{2 C_{1} L_{1}}, \\  \\frac{- C_{3} R_{3} - \\sqrt{C_{3}^{2} R_{3}^{2} - 4 C_{3} L_{3}}}{2 C_{3} L_{3}}, \\  \\frac{- C_{3} R_{3} + \\sqrt{C_{3}^{2} R_{3}^{2} - 4 C_{3} L_{3}}}{2 C_{3} L_{3}}, \\  \\frac{- L_{2} - \\sqrt{- 4 C_{2} L_{2} R_{2}^{2} + L_{2}^{2}}}{2 C_{2} L_{2} R_{2}}, \\  \\frac{- L_{2} + \\sqrt{- 4 C_{2} L_{2} R_{2}^{2} + L_{2}^{2}}}{2 C_{2} L_{2} R_{2}}\\right]$"
      ],
      "text/plain": [
       "⎡            ___________________              ___________________             \n",
       "⎢           ╱   2   2                        ╱   2   2                        \n",
       "⎢-C₁⋅R₁ - ╲╱  C₁ ⋅R₁  - 4⋅C₁⋅L₁   -C₁⋅R₁ + ╲╱  C₁ ⋅R₁  - 4⋅C₁⋅L₁   -C₃⋅R₃ - ╲╱\n",
       "⎢───────────────────────────────, ───────────────────────────────, ───────────\n",
       "⎣            2⋅C₁⋅L₁                          2⋅C₁⋅L₁                         \n",
       "\n",
       " ___________________              ___________________           ______________\n",
       "╱   2   2                        ╱   2   2                     ╱             2\n",
       "  C₃ ⋅R₃  - 4⋅C₃⋅L₃   -C₃⋅R₃ + ╲╱  C₃ ⋅R₃  - 4⋅C₃⋅L₃   -L₂ - ╲╱  - 4⋅C₂⋅L₂⋅R₂ \n",
       "────────────────────, ───────────────────────────────, ───────────────────────\n",
       " 2⋅C₃⋅L₃                          2⋅C₃⋅L₃                        2⋅C₂⋅L₂⋅R₂   \n",
       "\n",
       "_______           _____________________⎤\n",
       "     2           ╱             2     2 ⎥\n",
       " + L₂    -L₂ + ╲╱  - 4⋅C₂⋅L₂⋅R₂  + L₂  ⎥\n",
       "───────, ──────────────────────────────⎥\n",
       "                   2⋅C₂⋅L₂⋅R₂          ⎦"
      ]
     },
     "execution_count": 47,
     "metadata": {},
     "output_type": "execute_result"
    }
   ],
   "source": [
    "solve(n.simplify().expand(),s)"
   ]
  },
  {
   "cell_type": "markdown",
   "id": "c08b6d6e-e103-49a5-9820-53352656a92c",
   "metadata": {},
   "source": [
    "We can see that there are six zeros in the transfer function. Here can see what components are influncing the zeros. Once of the gaols of the FACTS method was to determine the zeros of the network.\n",
    "\n",
    "Solve for the roots of the denominator"
   ]
  },
  {
   "cell_type": "code",
   "execution_count": 48,
   "id": "7bf87c6a-a5e3-4650-b283-d6b9f69541d6",
   "metadata": {},
   "outputs": [
    {
     "data": {
      "image/png": "[encoded data removed]",
      "text/latex": [
       "$\\displaystyle C_{1} C_{2} C_{3} L_{1} L_{2} L_{3} R_{2} R_{in} s^{6} + C_{1} C_{2} C_{3} L_{1} L_{2} L_{3} R_{2} R_{out} s^{6} + C_{1} C_{2} C_{3} L_{1} L_{2} L_{3} R_{2} Ra s^{6} + C_{1} C_{2} C_{3} L_{1} L_{2} R_{2} R_{3} R_{in} s^{5} + C_{1} C_{2} C_{3} L_{1} L_{2} R_{2} R_{3} R_{out} s^{5} + C_{1} C_{2} C_{3} L_{1} L_{2} R_{2} R_{3} Ra s^{5} + C_{1} C_{2} C_{3} L_{1} L_{2} R_{2} R_{in} R_{out} s^{5} + C_{1} C_{2} C_{3} L_{1} L_{2} R_{2} R_{out} Ra s^{5} + C_{1} C_{2} C_{3} L_{2} L_{3} R_{1} R_{2} R_{in} s^{5} + C_{1} C_{2} C_{3} L_{2} L_{3} R_{1} R_{2} R_{out} s^{5} + C_{1} C_{2} C_{3} L_{2} L_{3} R_{1} R_{2} Ra s^{5} + C_{1} C_{2} C_{3} L_{2} L_{3} R_{2} R_{in} R_{out} s^{5} + C_{1} C_{2} C_{3} L_{2} L_{3} R_{2} R_{in} Ra s^{5} + C_{1} C_{2} C_{3} L_{2} R_{1} R_{2} R_{3} R_{in} s^{4} + C_{1} C_{2} C_{3} L_{2} R_{1} R_{2} R_{3} R_{out} s^{4} + C_{1} C_{2} C_{3} L_{2} R_{1} R_{2} R_{3} Ra s^{4} + C_{1} C_{2} C_{3} L_{2} R_{1} R_{2} R_{in} R_{out} s^{4} + C_{1} C_{2} C_{3} L_{2} R_{1} R_{2} R_{out} Ra s^{4} + C_{1} C_{2} C_{3} L_{2} R_{2} R_{3} R_{in} R_{out} s^{4} + C_{1} C_{2} C_{3} L_{2} R_{2} R_{3} R_{in} Ra s^{4} + C_{1} C_{2} C_{3} L_{2} R_{2} R_{in} R_{out} Ra s^{4} + C_{1} C_{2} L_{1} L_{2} R_{2} R_{in} s^{4} + C_{1} C_{2} L_{1} L_{2} R_{2} R_{out} s^{4} + C_{1} C_{2} L_{1} L_{2} R_{2} Ra s^{4} + C_{1} C_{2} L_{2} R_{1} R_{2} R_{in} s^{3} + C_{1} C_{2} L_{2} R_{1} R_{2} R_{out} s^{3} + C_{1} C_{2} L_{2} R_{1} R_{2} Ra s^{3} + C_{1} C_{2} L_{2} R_{2} R_{in} R_{out} s^{3} + C_{1} C_{2} L_{2} R_{2} R_{in} Ra s^{3} + C_{1} C_{3} L_{1} L_{2} L_{3} R_{2} s^{5} + C_{1} C_{3} L_{1} L_{2} L_{3} R_{in} s^{5} + C_{1} C_{3} L_{1} L_{2} L_{3} R_{out} s^{5} + C_{1} C_{3} L_{1} L_{2} L_{3} Ra s^{5} + C_{1} C_{3} L_{1} L_{2} R_{2} R_{3} s^{4} + C_{1} C_{3} L_{1} L_{2} R_{2} R_{out} s^{4} + C_{1} C_{3} L_{1} L_{2} R_{3} R_{in} s^{4} + C_{1} C_{3} L_{1} L_{2} R_{3} R_{out} s^{4} + C_{1} C_{3} L_{1} L_{2} R_{3} Ra s^{4} + C_{1} C_{3} L_{1} L_{2} R_{in} R_{out} s^{4} + C_{1} C_{3} L_{1} L_{2} R_{out} Ra s^{4} + C_{1} C_{3} L_{1} L_{3} R_{2} R_{in} s^{4} + C_{1} C_{3} L_{1} L_{3} R_{2} R_{out} s^{4} + C_{1} C_{3} L_{1} L_{3} R_{2} Ra s^{4} + C_{1} C_{3} L_{1} R_{2} R_{3} R_{in} s^{3} + C_{1} C_{3} L_{1} R_{2} R_{3} R_{out} s^{3} + C_{1} C_{3} L_{1} R_{2} R_{3} Ra s^{3} + C_{1} C_{3} L_{1} R_{2} R_{in} R_{out} s^{3} + C_{1} C_{3} L_{1} R_{2} R_{out} Ra s^{3} + C_{1} C_{3} L_{2} L_{3} R_{1} R_{2} s^{4} + C_{1} C_{3} L_{2} L_{3} R_{1} R_{in} s^{4} + C_{1} C_{3} L_{2} L_{3} R_{1} R_{out} s^{4} + C_{1} C_{3} L_{2} L_{3} R_{1} Ra s^{4} + C_{1} C_{3} L_{2} L_{3} R_{2} R_{in} s^{4} + C_{1} C_{3} L_{2} L_{3} R_{in} R_{out} s^{4} + C_{1} C_{3} L_{2} L_{3} R_{in} Ra s^{4} + C_{1} C_{3} L_{2} R_{1} R_{2} R_{3} s^{3} + C_{1} C_{3} L_{2} R_{1} R_{2} R_{out} s^{3} + C_{1} C_{3} L_{2} R_{1} R_{3} R_{in} s^{3} + C_{1} C_{3} L_{2} R_{1} R_{3} R_{out} s^{3} + C_{1} C_{3} L_{2} R_{1} R_{3} Ra s^{3} + C_{1} C_{3} L_{2} R_{1} R_{in} R_{out} s^{3} + C_{1} C_{3} L_{2} R_{1} R_{out} Ra s^{3} + C_{1} C_{3} L_{2} R_{2} R_{3} R_{in} s^{3} + C_{1} C_{3} L_{2} R_{2} R_{in} R_{out} s^{3} + C_{1} C_{3} L_{2} R_{3} R_{in} R_{out} s^{3} + C_{1} C_{3} L_{2} R_{3} R_{in} Ra s^{3} + C_{1} C_{3} L_{2} R_{in} R_{out} Ra s^{3} + C_{1} C_{3} L_{3} R_{1} R_{2} R_{in} s^{3} + C_{1} C_{3} L_{3} R_{1} R_{2} R_{out} s^{3} + C_{1} C_{3} L_{3} R_{1} R_{2} Ra s^{3} + C_{1} C_{3} L_{3} R_{2} R_{in} R_{out} s^{3} + C_{1} C_{3} L_{3} R_{2} R_{in} Ra s^{3} + C_{1} C_{3} R_{1} R_{2} R_{3} R_{in} s^{2} + C_{1} C_{3} R_{1} R_{2} R_{3} R_{out} s^{2} + C_{1} C_{3} R_{1} R_{2} R_{3} Ra s^{2} + C_{1} C_{3} R_{1} R_{2} R_{in} R_{out} s^{2} + C_{1} C_{3} R_{1} R_{2} R_{out} Ra s^{2} + C_{1} C_{3} R_{2} R_{3} R_{in} R_{out} s^{2} + C_{1} C_{3} R_{2} R_{3} R_{in} Ra s^{2} + C_{1} C_{3} R_{2} R_{in} R_{out} Ra s^{2} + C_{1} L_{1} L_{2} R_{2} s^{3} + C_{1} L_{1} L_{2} R_{in} s^{3} + C_{1} L_{1} L_{2} R_{out} s^{3} + C_{1} L_{1} L_{2} Ra s^{3} + C_{1} L_{1} R_{2} R_{in} s^{2} + C_{1} L_{1} R_{2} R_{out} s^{2} + C_{1} L_{1} R_{2} Ra s^{2} + C_{1} L_{2} R_{1} R_{2} s^{2} + C_{1} L_{2} R_{1} R_{in} s^{2} + C_{1} L_{2} R_{1} R_{out} s^{2} + C_{1} L_{2} R_{1} Ra s^{2} + C_{1} L_{2} R_{2} R_{in} s^{2} + C_{1} L_{2} R_{in} R_{out} s^{2} + C_{1} L_{2} R_{in} Ra s^{2} + C_{1} R_{1} R_{2} R_{in} s + C_{1} R_{1} R_{2} R_{out} s + C_{1} R_{1} R_{2} Ra s + C_{1} R_{2} R_{in} R_{out} s + C_{1} R_{2} R_{in} Ra s + C_{2} C_{3} L_{2} L_{3} R_{2} R_{in} s^{4} + C_{2} C_{3} L_{2} L_{3} R_{2} R_{out} s^{4} + C_{2} C_{3} L_{2} L_{3} R_{2} Ra s^{4} + C_{2} C_{3} L_{2} R_{2} R_{3} R_{in} s^{3} + C_{2} C_{3} L_{2} R_{2} R_{3} R_{out} s^{3} + C_{2} C_{3} L_{2} R_{2} R_{3} Ra s^{3} + C_{2} C_{3} L_{2} R_{2} R_{in} R_{out} s^{3} + C_{2} C_{3} L_{2} R_{2} R_{out} Ra s^{3} + C_{2} L_{2} R_{2} R_{in} s^{2} + C_{2} L_{2} R_{2} R_{out} s^{2} + C_{2} L_{2} R_{2} Ra s^{2} + C_{3} L_{2} L_{3} R_{2} s^{3} + C_{3} L_{2} L_{3} R_{in} s^{3} + C_{3} L_{2} L_{3} R_{out} s^{3} + C_{3} L_{2} L_{3} Ra s^{3} + C_{3} L_{2} R_{2} R_{3} s^{2} + C_{3} L_{2} R_{2} R_{out} s^{2} + C_{3} L_{2} R_{3} R_{in} s^{2} + C_{3} L_{2} R_{3} R_{out} s^{2} + C_{3} L_{2} R_{3} Ra s^{2} + C_{3} L_{2} R_{in} R_{out} s^{2} + C_{3} L_{2} R_{out} Ra s^{2} + C_{3} L_{3} R_{2} R_{in} s^{2} + C_{3} L_{3} R_{2} R_{out} s^{2} + C_{3} L_{3} R_{2} Ra s^{2} + C_{3} R_{2} R_{3} R_{in} s + C_{3} R_{2} R_{3} R_{out} s + C_{3} R_{2} R_{3} Ra s + C_{3} R_{2} R_{in} R_{out} s + C_{3} R_{2} R_{out} Ra s + L_{2} R_{2} s + L_{2} R_{in} s + L_{2} R_{out} s + L_{2} Ra s + R_{2} R_{in} + R_{2} R_{out} + R_{2} Ra$"
      ],
      "text/plain": [
       "                          6                              6                    \n",
       "C₁⋅C₂⋅C₃⋅L₁⋅L₂⋅L₃⋅R₂⋅Rᵢₙ⋅s  + C₁⋅C₂⋅C₃⋅L₁⋅L₂⋅L₃⋅R₂⋅Rₒᵤₜ⋅s  + C₁⋅C₂⋅C₃⋅L₁⋅L₂⋅L₃\n",
       "\n",
       "        6                             5                              5        \n",
       "⋅R₂⋅Ra⋅s  + C₁⋅C₂⋅C₃⋅L₁⋅L₂⋅R₂⋅R₃⋅Rᵢₙ⋅s  + C₁⋅C₂⋅C₃⋅L₁⋅L₂⋅R₂⋅R₃⋅Rₒᵤₜ⋅s  + C₁⋅C₂\n",
       "\n",
       "                    5                               5                         \n",
       "⋅C₃⋅L₁⋅L₂⋅R₂⋅R₃⋅Ra⋅s  + C₁⋅C₂⋅C₃⋅L₁⋅L₂⋅R₂⋅Rᵢₙ⋅Rₒᵤₜ⋅s  + C₁⋅C₂⋅C₃⋅L₁⋅L₂⋅R₂⋅Rₒᵤₜ\n",
       "\n",
       "     5                             5                              5           \n",
       "⋅Ra⋅s  + C₁⋅C₂⋅C₃⋅L₂⋅L₃⋅R₁⋅R₂⋅Rᵢₙ⋅s  + C₁⋅C₂⋅C₃⋅L₂⋅L₃⋅R₁⋅R₂⋅Rₒᵤₜ⋅s  + C₁⋅C₂⋅C₃\n",
       "\n",
       "                 5                               5                            \n",
       "⋅L₂⋅L₃⋅R₁⋅R₂⋅Ra⋅s  + C₁⋅C₂⋅C₃⋅L₂⋅L₃⋅R₂⋅Rᵢₙ⋅Rₒᵤₜ⋅s  + C₁⋅C₂⋅C₃⋅L₂⋅L₃⋅R₂⋅Rᵢₙ⋅Ra⋅\n",
       "\n",
       " 5                             4                              4               \n",
       "s  + C₁⋅C₂⋅C₃⋅L₂⋅R₁⋅R₂⋅R₃⋅Rᵢₙ⋅s  + C₁⋅C₂⋅C₃⋅L₂⋅R₁⋅R₂⋅R₃⋅Rₒᵤₜ⋅s  + C₁⋅C₂⋅C₃⋅L₂⋅\n",
       "\n",
       "             4                               4                              4 \n",
       "R₁⋅R₂⋅R₃⋅Ra⋅s  + C₁⋅C₂⋅C₃⋅L₂⋅R₁⋅R₂⋅Rᵢₙ⋅Rₒᵤₜ⋅s  + C₁⋅C₂⋅C₃⋅L₂⋅R₁⋅R₂⋅Rₒᵤₜ⋅Ra⋅s  \n",
       "\n",
       "                              4                             4                 \n",
       "+ C₁⋅C₂⋅C₃⋅L₂⋅R₂⋅R₃⋅Rᵢₙ⋅Rₒᵤₜ⋅s  + C₁⋅C₂⋅C₃⋅L₂⋅R₂⋅R₃⋅Rᵢₙ⋅Ra⋅s  + C₁⋅C₂⋅C₃⋅L₂⋅R₂\n",
       "\n",
       "              4                       4                        4              \n",
       "⋅Rᵢₙ⋅Rₒᵤₜ⋅Ra⋅s  + C₁⋅C₂⋅L₁⋅L₂⋅R₂⋅Rᵢₙ⋅s  + C₁⋅C₂⋅L₁⋅L₂⋅R₂⋅Rₒᵤₜ⋅s  + C₁⋅C₂⋅L₁⋅L₂\n",
       "\n",
       "        4                       3                        3                    \n",
       "⋅R₂⋅Ra⋅s  + C₁⋅C₂⋅L₂⋅R₁⋅R₂⋅Rᵢₙ⋅s  + C₁⋅C₂⋅L₂⋅R₁⋅R₂⋅Rₒᵤₜ⋅s  + C₁⋅C₂⋅L₂⋅R₁⋅R₂⋅Ra\n",
       "\n",
       "  3                         3                       3                      5  \n",
       "⋅s  + C₁⋅C₂⋅L₂⋅R₂⋅Rᵢₙ⋅Rₒᵤₜ⋅s  + C₁⋅C₂⋅L₂⋅R₂⋅Rᵢₙ⋅Ra⋅s  + C₁⋅C₃⋅L₁⋅L₂⋅L₃⋅R₂⋅s  +\n",
       "\n",
       "                     5                        5                      5        \n",
       " C₁⋅C₃⋅L₁⋅L₂⋅L₃⋅Rᵢₙ⋅s  + C₁⋅C₃⋅L₁⋅L₂⋅L₃⋅Rₒᵤₜ⋅s  + C₁⋅C₃⋅L₁⋅L₂⋅L₃⋅Ra⋅s  + C₁⋅C₃\n",
       "\n",
       "              4                        4                       4              \n",
       "⋅L₁⋅L₂⋅R₂⋅R₃⋅s  + C₁⋅C₃⋅L₁⋅L₂⋅R₂⋅Rₒᵤₜ⋅s  + C₁⋅C₃⋅L₁⋅L₂⋅R₃⋅Rᵢₙ⋅s  + C₁⋅C₃⋅L₁⋅L₂\n",
       "\n",
       "          4                      4                         4                  \n",
       "⋅R₃⋅Rₒᵤₜ⋅s  + C₁⋅C₃⋅L₁⋅L₂⋅R₃⋅Ra⋅s  + C₁⋅C₃⋅L₁⋅L₂⋅Rᵢₙ⋅Rₒᵤₜ⋅s  + C₁⋅C₃⋅L₁⋅L₂⋅Rₒᵤ\n",
       "\n",
       "      4                       4                        4                      \n",
       "ₜ⋅Ra⋅s  + C₁⋅C₃⋅L₁⋅L₃⋅R₂⋅Rᵢₙ⋅s  + C₁⋅C₃⋅L₁⋅L₃⋅R₂⋅Rₒᵤₜ⋅s  + C₁⋅C₃⋅L₁⋅L₃⋅R₂⋅Ra⋅s\n",
       "\n",
       "4                       3                        3                      3     \n",
       "  + C₁⋅C₃⋅L₁⋅R₂⋅R₃⋅Rᵢₙ⋅s  + C₁⋅C₃⋅L₁⋅R₂⋅R₃⋅Rₒᵤₜ⋅s  + C₁⋅C₃⋅L₁⋅R₂⋅R₃⋅Ra⋅s  + C₁\n",
       "\n",
       "                    3                        3                      4         \n",
       "⋅C₃⋅L₁⋅R₂⋅Rᵢₙ⋅Rₒᵤₜ⋅s  + C₁⋅C₃⋅L₁⋅R₂⋅Rₒᵤₜ⋅Ra⋅s  + C₁⋅C₃⋅L₂⋅L₃⋅R₁⋅R₂⋅s  + C₁⋅C₃⋅\n",
       "\n",
       "              4                        4                      4               \n",
       "L₂⋅L₃⋅R₁⋅Rᵢₙ⋅s  + C₁⋅C₃⋅L₂⋅L₃⋅R₁⋅Rₒᵤₜ⋅s  + C₁⋅C₃⋅L₂⋅L₃⋅R₁⋅Ra⋅s  + C₁⋅C₃⋅L₂⋅L₃⋅\n",
       "\n",
       "        4                         4                       4                   \n",
       "R₂⋅Rᵢₙ⋅s  + C₁⋅C₃⋅L₂⋅L₃⋅Rᵢₙ⋅Rₒᵤₜ⋅s  + C₁⋅C₃⋅L₂⋅L₃⋅Rᵢₙ⋅Ra⋅s  + C₁⋅C₃⋅L₂⋅R₁⋅R₂⋅R\n",
       "\n",
       "   3                        3                       3                        3\n",
       "₃⋅s  + C₁⋅C₃⋅L₂⋅R₁⋅R₂⋅Rₒᵤₜ⋅s  + C₁⋅C₃⋅L₂⋅R₁⋅R₃⋅Rᵢₙ⋅s  + C₁⋅C₃⋅L₂⋅R₁⋅R₃⋅Rₒᵤₜ⋅s \n",
       "\n",
       "                      3                         3                        3    \n",
       " + C₁⋅C₃⋅L₂⋅R₁⋅R₃⋅Ra⋅s  + C₁⋅C₃⋅L₂⋅R₁⋅Rᵢₙ⋅Rₒᵤₜ⋅s  + C₁⋅C₃⋅L₂⋅R₁⋅Rₒᵤₜ⋅Ra⋅s  + C\n",
       "\n",
       "                   3                         3                         3      \n",
       "₁⋅C₃⋅L₂⋅R₂⋅R₃⋅Rᵢₙ⋅s  + C₁⋅C₃⋅L₂⋅R₂⋅Rᵢₙ⋅Rₒᵤₜ⋅s  + C₁⋅C₃⋅L₂⋅R₃⋅Rᵢₙ⋅Rₒᵤₜ⋅s  + C₁⋅\n",
       "\n",
       "                 3                         3                       3          \n",
       "C₃⋅L₂⋅R₃⋅Rᵢₙ⋅Ra⋅s  + C₁⋅C₃⋅L₂⋅Rᵢₙ⋅Rₒᵤₜ⋅Ra⋅s  + C₁⋅C₃⋅L₃⋅R₁⋅R₂⋅Rᵢₙ⋅s  + C₁⋅C₃⋅L\n",
       "\n",
       "              3                      3                         3              \n",
       "₃⋅R₁⋅R₂⋅Rₒᵤₜ⋅s  + C₁⋅C₃⋅L₃⋅R₁⋅R₂⋅Ra⋅s  + C₁⋅C₃⋅L₃⋅R₂⋅Rᵢₙ⋅Rₒᵤₜ⋅s  + C₁⋅C₃⋅L₃⋅R₂\n",
       "\n",
       "         3                       2                        2                   \n",
       "⋅Rᵢₙ⋅Ra⋅s  + C₁⋅C₃⋅R₁⋅R₂⋅R₃⋅Rᵢₙ⋅s  + C₁⋅C₃⋅R₁⋅R₂⋅R₃⋅Rₒᵤₜ⋅s  + C₁⋅C₃⋅R₁⋅R₂⋅R₃⋅R\n",
       "\n",
       "   2                         2                        2                       \n",
       "a⋅s  + C₁⋅C₃⋅R₁⋅R₂⋅Rᵢₙ⋅Rₒᵤₜ⋅s  + C₁⋅C₃⋅R₁⋅R₂⋅Rₒᵤₜ⋅Ra⋅s  + C₁⋅C₃⋅R₂⋅R₃⋅Rᵢₙ⋅Rₒᵤₜ\n",
       "\n",
       "  2                       2                         2                3        \n",
       "⋅s  + C₁⋅C₃⋅R₂⋅R₃⋅Rᵢₙ⋅Ra⋅s  + C₁⋅C₃⋅R₂⋅Rᵢₙ⋅Rₒᵤₜ⋅Ra⋅s  + C₁⋅L₁⋅L₂⋅R₂⋅s  + C₁⋅L₁\n",
       "\n",
       "         3                  3                3                 2              \n",
       "⋅L₂⋅Rᵢₙ⋅s  + C₁⋅L₁⋅L₂⋅Rₒᵤₜ⋅s  + C₁⋅L₁⋅L₂⋅Ra⋅s  + C₁⋅L₁⋅R₂⋅Rᵢₙ⋅s  + C₁⋅L₁⋅R₂⋅Rₒ\n",
       "\n",
       "    2                2                2                 2                  2  \n",
       "ᵤₜ⋅s  + C₁⋅L₁⋅R₂⋅Ra⋅s  + C₁⋅L₂⋅R₁⋅R₂⋅s  + C₁⋅L₂⋅R₁⋅Rᵢₙ⋅s  + C₁⋅L₂⋅R₁⋅Rₒᵤₜ⋅s  +\n",
       "\n",
       "              2                 2                   2                 2       \n",
       " C₁⋅L₂⋅R₁⋅Ra⋅s  + C₁⋅L₂⋅R₂⋅Rᵢₙ⋅s  + C₁⋅L₂⋅Rᵢₙ⋅Rₒᵤₜ⋅s  + C₁⋅L₂⋅Rᵢₙ⋅Ra⋅s  + C₁⋅R\n",
       "\n",
       "                                                                              \n",
       "₁⋅R₂⋅Rᵢₙ⋅s + C₁⋅R₁⋅R₂⋅Rₒᵤₜ⋅s + C₁⋅R₁⋅R₂⋅Ra⋅s + C₁⋅R₂⋅Rᵢₙ⋅Rₒᵤₜ⋅s + C₁⋅R₂⋅Rᵢₙ⋅Ra\n",
       "\n",
       "                         4                        4                      4    \n",
       "⋅s + C₂⋅C₃⋅L₂⋅L₃⋅R₂⋅Rᵢₙ⋅s  + C₂⋅C₃⋅L₂⋅L₃⋅R₂⋅Rₒᵤₜ⋅s  + C₂⋅C₃⋅L₂⋅L₃⋅R₂⋅Ra⋅s  + C\n",
       "\n",
       "                   3                        3                      3          \n",
       "₂⋅C₃⋅L₂⋅R₂⋅R₃⋅Rᵢₙ⋅s  + C₂⋅C₃⋅L₂⋅R₂⋅R₃⋅Rₒᵤₜ⋅s  + C₂⋅C₃⋅L₂⋅R₂⋅R₃⋅Ra⋅s  + C₂⋅C₃⋅L\n",
       "\n",
       "               3                        3                 2                  2\n",
       "₂⋅R₂⋅Rᵢₙ⋅Rₒᵤₜ⋅s  + C₂⋅C₃⋅L₂⋅R₂⋅Rₒᵤₜ⋅Ra⋅s  + C₂⋅L₂⋅R₂⋅Rᵢₙ⋅s  + C₂⋅L₂⋅R₂⋅Rₒᵤₜ⋅s \n",
       "\n",
       "                2                3                 3                  3       \n",
       " + C₂⋅L₂⋅R₂⋅Ra⋅s  + C₃⋅L₂⋅L₃⋅R₂⋅s  + C₃⋅L₂⋅L₃⋅Rᵢₙ⋅s  + C₃⋅L₂⋅L₃⋅Rₒᵤₜ⋅s  + C₃⋅L\n",
       "\n",
       "         3                2                  2                 2              \n",
       "₂⋅L₃⋅Ra⋅s  + C₃⋅L₂⋅R₂⋅R₃⋅s  + C₃⋅L₂⋅R₂⋅Rₒᵤₜ⋅s  + C₃⋅L₂⋅R₃⋅Rᵢₙ⋅s  + C₃⋅L₂⋅R₃⋅Rₒ\n",
       "\n",
       "    2                2                   2                  2                 \n",
       "ᵤₜ⋅s  + C₃⋅L₂⋅R₃⋅Ra⋅s  + C₃⋅L₂⋅Rᵢₙ⋅Rₒᵤₜ⋅s  + C₃⋅L₂⋅Rₒᵤₜ⋅Ra⋅s  + C₃⋅L₃⋅R₂⋅Rᵢₙ⋅s\n",
       "\n",
       "2                  2                2                                         \n",
       "  + C₃⋅L₃⋅R₂⋅Rₒᵤₜ⋅s  + C₃⋅L₃⋅R₂⋅Ra⋅s  + C₃⋅R₂⋅R₃⋅Rᵢₙ⋅s + C₃⋅R₂⋅R₃⋅Rₒᵤₜ⋅s + C₃⋅\n",
       "\n",
       "                                                                              \n",
       "R₂⋅R₃⋅Ra⋅s + C₃⋅R₂⋅Rᵢₙ⋅Rₒᵤₜ⋅s + C₃⋅R₂⋅Rₒᵤₜ⋅Ra⋅s + L₂⋅R₂⋅s + L₂⋅Rᵢₙ⋅s + L₂⋅Rₒᵤₜ\n",
       "\n",
       "                                       \n",
       "⋅s + L₂⋅Ra⋅s + R₂⋅Rᵢₙ + R₂⋅Rₒᵤₜ + R₂⋅Ra"
      ]
     },
     "execution_count": 48,
     "metadata": {},
     "output_type": "execute_result"
    }
   ],
   "source": [
    "d.simplify().expand().together()\n",
    "#d.simplify().expand()"
   ]
  },
  {
   "cell_type": "code",
   "execution_count": 49,
   "id": "35831e20-ac08-40fc-b1a3-afd586aa1e54",
   "metadata": {},
   "outputs": [],
   "source": [
    "#solve(d,s)"
   ]
  },
  {
   "cell_type": "markdown",
   "id": "f57c955c-1f5a-4b69-a391-bcfc1bc73774",
   "metadata": {},
   "source": [
    "SymPy could not find a solution for roots of denominator.\n",
    "\n",
    "### Use numerical values for components\n",
    "The element vaules can be put into the equation."
   ]
  },
  {
   "cell_type": "code",
   "execution_count": 50,
   "id": "fbb5f6bd-db69-4043-bcde-7db4d4011df8",
   "metadata": {},
   "outputs": [
    {
     "data": {
      "image/png": "[encoded data removed]",
      "text/latex": [
       "$\\displaystyle \\left\\{ C_{1} : 1, \\  C_{2} : 0.002, \\  C_{3} : 1, \\  L_{1} : 0.001, \\  L_{2} : 2, \\  L_{3} : 0.001, \\  R_{1} : 0.001, \\  R_{2} : 2000.0, \\  R_{3} : 0.001, \\  R_{in} : 1.0, \\  R_{out} : 1.0, \\  Ra : 0.002, \\  V_{1} : 1.0\\right\\}$"
      ],
      "text/plain": [
       "{C₁: 1, C₂: 0.002, C₃: 1, L₁: 0.001, L₂: 2, L₃: 0.001, R₁: 0.001, R₂: 2000.0, \n",
       "R₃: 0.001, Rᵢₙ: 1.0, Rₒᵤₜ: 1.0, Ra: 0.002, V₁: 1.0}"
      ]
     },
     "execution_count": 50,
     "metadata": {},
     "output_type": "execute_result"
    }
   ],
   "source": [
    "element_values"
   ]
  },
  {
   "cell_type": "code",
   "execution_count": 51,
   "id": "a45585a9-6555-4b2e-9034-ac54148d65f9",
   "metadata": {},
   "outputs": [
    {
     "data": {
      "image/png": "[encoded data removed]",
      "text/latex": [
       "$\\displaystyle \\frac{1.0 \\left(0.001 s + 0.001 + \\frac{1}{s}\\right)^{2}}{\\left(\\frac{\\left(0.001 s + 0.001 + \\frac{1}{s}\\right) \\left(\\frac{1.0 \\cdot \\left(0.001 s + 0.001 + \\frac{1}{s}\\right)}{0.001 s + 1.001 + \\frac{1}{s}} + 0.002 + \\frac{1}{0.002 s + 0.0005 + \\frac{1}{2 s}}\\right)}{0.001 s + \\frac{1.0 \\cdot \\left(0.001 s + 0.001 + \\frac{1}{s}\\right)}{0.001 s + 1.001 + \\frac{1}{s}} + 0.003 + \\frac{1}{0.002 s + 0.0005 + \\frac{1}{2 s}} + \\frac{1}{s}} + 1.0\\right) \\left(0.001 s + 1.001 + \\frac{1}{s}\\right) \\left(0.001 s + \\frac{1.0 \\cdot \\left(0.001 s + 0.001 + \\frac{1}{s}\\right)}{0.001 s + 1.001 + \\frac{1}{s}} + 0.003 + \\frac{1}{0.002 s + 0.0005 + \\frac{1}{2 s}} + \\frac{1}{s}\\right)}$"
      ],
      "text/plain": [
       "                                                                              \n",
       "                                                                              \n",
       "                                                                              \n",
       "                                                                              \n",
       "──────────────────────────────────────────────────────────────────────────────\n",
       "⎛                      ⎛    ⎛                  1⎞                             \n",
       "⎜                      ⎜1.0⋅⎜0.001⋅s + 0.001 + ─⎟                             \n",
       "⎜⎛                  1⎞ ⎜    ⎝                  s⎠                     1       \n",
       "⎜⎜0.001⋅s + 0.001 + ─⎟⋅⎜───────────────────────── + 0.002 + ──────────────────\n",
       "⎜⎝                  s⎠ ⎜                     1                                \n",
       "⎜                      ⎜   0.001⋅s + 1.001 + ─              0.002⋅s + 0.0005 +\n",
       "⎜                      ⎝                     s                                \n",
       "⎜─────────────────────────────────────────────────────────────────────────────\n",
       "⎜                   ⎛                  1⎞                                     \n",
       "⎜               1.0⋅⎜0.001⋅s + 0.001 + ─⎟                                     \n",
       "⎜                   ⎝                  s⎠                     1              1\n",
       "⎜     0.001⋅s + ───────────────────────── + 0.003 + ────────────────────── + ─\n",
       "⎜                                    1                                  1    s\n",
       "⎜                  0.001⋅s + 1.001 + ─              0.002⋅s + 0.0005 + ───    \n",
       "⎝                                    s                                 2⋅s    \n",
       "\n",
       "                            2                                                 \n",
       "       ⎛                  1⎞                                                  \n",
       "   1.0⋅⎜0.001⋅s + 0.001 + ─⎟                                                  \n",
       "       ⎝                  s⎠                                                  \n",
       "──────────────────────────────────────────────────────────────────────────────\n",
       "    ⎞      ⎞                                                                  \n",
       "    ⎟      ⎟                                                                  \n",
       "    ⎟      ⎟                                                                  \n",
       "────⎟      ⎟                                                                  \n",
       "  1 ⎟      ⎟                       ⎛              ⎛                  1⎞       \n",
       " ───⎟      ⎟                       ⎜          1.0⋅⎜0.001⋅s + 0.001 + ─⎟       \n",
       " 2⋅s⎠      ⎟ ⎛                  1⎞ ⎜              ⎝                  s⎠       \n",
       "───── + 1.0⎟⋅⎜0.001⋅s + 1.001 + ─⎟⋅⎜0.001⋅s + ───────────────────────── + 0.00\n",
       "           ⎟ ⎝                  s⎠ ⎜                               1          \n",
       "           ⎟                       ⎜             0.001⋅s + 1.001 + ─          \n",
       "           ⎟                       ⎝                               s          \n",
       "           ⎟                                                                  \n",
       "           ⎟                                                                  \n",
       "           ⎟                                                                  \n",
       "           ⎠                                                                  \n",
       "\n",
       "                               \n",
       "                               \n",
       "                               \n",
       "                               \n",
       "───────────────────────────────\n",
       "                               \n",
       "                               \n",
       "                               \n",
       "                               \n",
       "                              ⎞\n",
       "                              ⎟\n",
       "              1              1⎟\n",
       "3 + ────────────────────── + ─⎟\n",
       "                        1    s⎟\n",
       "    0.002⋅s + 0.0005 + ───    ⎟\n",
       "                       2⋅s    ⎠\n",
       "                               \n",
       "                               \n",
       "                               \n",
       "                               "
      ]
     },
     "execution_count": 51,
     "metadata": {},
     "output_type": "execute_result"
    }
   ],
   "source": [
    "H_franc = H_franc_sym.subs(element_values)\n",
    "H_franc"
   ]
  },
  {
   "cell_type": "markdown",
   "id": "ee6c00ea-cdb3-4ec6-a9d7-87836035e6ea",
   "metadata": {},
   "source": [
    "Simplifying the expression."
   ]
  },
  {
   "cell_type": "code",
   "execution_count": 52,
   "id": "a43df360-5296-4a33-adf1-4c70a96a6eac",
   "metadata": {},
   "outputs": [
    {
     "data": {
      "image/png": "[encoded data removed]",
      "text/latex": [
       "$\\displaystyle \\frac{500 \\cdot \\left(4 s^{6} + 9 s^{5} + 9006 s^{4} + 12001 s^{3} + 6003000 s^{2} + 3000000 s + 1000000000\\right)}{4004 s^{6} + 5017009 s^{5} + 2020025006 s^{4} + 1009025015001 s^{3} + 2011013003000 s^{2} + 2005003000000 s + 1001000000000}$"
      ],
      "text/plain": [
       "                    ⎛   6      5         4          3            2            \n",
       "                500⋅⎝4⋅s  + 9⋅s  + 9006⋅s  + 12001⋅s  + 6003000⋅s  + 3000000⋅s\n",
       "──────────────────────────────────────────────────────────────────────────────\n",
       "      6            5               4                  3                  2    \n",
       "4004⋅s  + 5017009⋅s  + 2020025006⋅s  + 1009025015001⋅s  + 2011013003000⋅s  + 2\n",
       "\n",
       "             ⎞                \n",
       " + 1000000000⎠                \n",
       "──────────────────────────────\n",
       "                              \n",
       "005003000000⋅s + 1001000000000"
      ]
     },
     "execution_count": 52,
     "metadata": {},
     "output_type": "execute_result"
    }
   ],
   "source": [
    "H_franc = H_franc.nsimplify().simplify().expand().together()\n",
    "H_franc"
   ]
  },
  {
   "cell_type": "markdown",
   "id": "678803db-ea77-42c2-b7e5-256b68b66b4f",
   "metadata": {},
   "source": [
    "### Poles and zeros of the low pass transfer function\n",
    "The poles and zeros of the transfer function can easly be obtained with the following code:"
   ]
  },
  {
   "cell_type": "code",
   "execution_count": 55,
   "id": "546dc9aa-c6dc-41c1-abda-cf1a259adbc8",
   "metadata": {
    "tags": []
   },
   "outputs": [],
   "source": [
    "H_franc_num, H_franc_denom = fraction(H_franc) #returns numerator and denominator"
   ]
  },
  {
   "cell_type": "markdown",
   "id": "79263328-e454-408b-b1b9-496d78112f2b",
   "metadata": {},
   "source": [
    "The SciPy function, TransferFunction, represents the system as the continuous-time transfer function and takes as inputs the coeeficients of the numerator and denominator polynominals."
   ]
  },
  {
   "cell_type": "code",
   "execution_count": 56,
   "id": "32e394f4-531e-483c-ab79-9206cb5ce439",
   "metadata": {
    "collapsed": false,
    "jupyter": {
     "outputs_hidden": false
    }
   },
   "outputs": [],
   "source": [
    "# convert symbolic to NumPy polynomial\n",
    "a = np.array(Poly(H_franc_num, s).all_coeffs(), dtype=float)\n",
    "b = np.array(Poly(H_franc_denom, s).all_coeffs(), dtype=float)\n",
    "franc_sys = signal.TransferFunction(a,b)"
   ]
  },
  {
   "cell_type": "code",
   "execution_count": 57,
   "id": "f5e1cbb8-eb15-463c-ac4c-c3bcec09d208",
   "metadata": {},
   "outputs": [],
   "source": [
    "franc_sys_zeros = np.roots(franc_sys.num)\n",
    "franc_sys_poles = np.roots(franc_sys.den)"
   ]
  },
  {
   "cell_type": "markdown",
   "id": "5ede2d09-b7f1-4d94-aa8f-7a3be58de08b",
   "metadata": {},
   "source": [
    "### Pole zero plot\n",
    "The poles and zeros of the function are plotted on the complex plane."
   ]
  },
  {
   "cell_type": "code",
   "execution_count": 58,
   "id": "a4bee8e5-21bc-4ae7-a613-6efd5f190d9d",
   "metadata": {},
   "outputs": [
    {
     "data": {
      "image/png": "[encoded data removed]",
      "text/plain": [
       "<Figure size 640x480 with 1 Axes>"
      ]
     },
     "metadata": {},
     "output_type": "display_data"
    }
   ],
   "source": [
    "plt.plot(np.real(franc_sys_zeros), np.imag(franc_sys_zeros), 'ob', markerfacecolor='none')\n",
    "plt.plot(np.real(franc_sys_poles), np.imag(franc_sys_poles), 'xr')\n",
    "plt.legend(['Zeros', 'Poles'], loc=0)\n",
    "plt.title('Pole / Zero Plot')\n",
    "plt.xlabel('real part, \\u03B1')\n",
    "plt.ylabel('imaginary part, j\\u03C9')\n",
    "#plt.ylim((-2,2))\n",
    "#plt.xlim((-2,0))\n",
    "plt.grid()\n",
    "plt.show()"
   ]
  },
  {
   "cell_type": "markdown",
   "id": "26342ef4-657e-488d-a9bf-c8ecae2323ad",
   "metadata": {},
   "source": [
    "Printing the value of the poles and zeros in radians per second."
   ]
  },
  {
   "cell_type": "code",
   "execution_count": 59,
   "id": "ac639f74-ba4d-47ca-98d8-2799d3914147",
   "metadata": {},
   "outputs": [
    {
     "name": "stdout",
     "output_type": "stream",
     "text": [
      "number of zeros: 6\n",
      "-0.500+31.619j rad/s\n",
      "-0.500-31.619j rad/s\n",
      "-0.500+31.619j rad/s\n",
      "-0.500-31.619j rad/s\n",
      "-0.125+15.811j rad/s\n",
      "-0.125-15.811j rad/s\n"
     ]
    }
   ],
   "source": [
    "print('number of zeros: {:d}'.format(len(franc_sys_zeros)))\n",
    "for i in franc_sys_zeros:\n",
    "    print('{:,.3f} rad/s'.format(i))"
   ]
  },
  {
   "cell_type": "code",
   "execution_count": 60,
   "id": "311f9d14-e6e4-4b1a-ae31-f50ec2768c94",
   "metadata": {},
   "outputs": [
    {
     "name": "stdout",
     "output_type": "stream",
     "text": [
      "number of poles: 6\n",
      "-1,000.000+0.000j rad/s\n",
      "-125.501+485.024j rad/s\n",
      "-125.501-485.024j rad/s\n",
      "-1.000+0.000j rad/s\n",
      "-0.499+0.865j rad/s\n",
      "-0.499-0.865j rad/s\n"
     ]
    }
   ],
   "source": [
    "print('number of poles: {:d}'.format(len(franc_sys_poles)))\n",
    "for i in franc_sys_poles:\n",
    "    print('{:,.3f} rad/s'.format(i))"
   ]
  },
  {
   "cell_type": "markdown",
   "id": "df39ca69-54d9-4c24-8098-4ecc07e17c65",
   "metadata": {
    "tags": []
   },
   "source": [
    "### Bode plot\n",
    "Use the SciPy function [bode](https://docs.scipy.org/doc/scipy/reference/generated/scipy.signal.bode.html) to plot the magnitude and phase of the filter. "
   ]
  },
  {
   "cell_type": "code",
   "execution_count": 65,
   "id": "edd07af1-37c1-4d4b-a15b-38d282358abe",
   "metadata": {},
   "outputs": [
    {
     "data": {
      "image/png": "[encoded data removed]",
      "text/plain": [
       "<Figure size 640x480 with 2 Axes>"
      ]
     },
     "metadata": {},
     "output_type": "display_data"
    }
   ],
   "source": [
    "x = np.logspace(-2, 2, 1000, endpoint=False) #*2*np.pi\n",
    "w_franc, mag_franc, phase_franc = signal.bode(franc_sys, w=x) # returns: rad/s, mag in dB, phase in deg\n",
    "\n",
    "fig, ax1 = plt.subplots()\n",
    "ax1.set_ylabel('magnitude, dB')\n",
    "ax1.set_xlabel('frequency, radians')\n",
    "\n",
    "plt.semilogx(w_franc, mag_franc,'-b')    # Bode magnitude plot\n",
    "\n",
    "ax1.tick_params(axis='y')\n",
    "#ax1.set_ylim((-30,20))\n",
    "plt.grid()\n",
    "\n",
    "# instantiate a second y-axes that shares the same x-axis\n",
    "ax2 = ax1.twinx()\n",
    "color = 'tab:blue'\n",
    "\n",
    "plt.semilogx(w_franc, phase_franc,':',color='tab:red')  # Bode phase plot\n",
    "\n",
    "ax2.set_ylabel('phase, deg',color=color)\n",
    "ax2.tick_params(axis='y', labelcolor=color)\n",
    "#ax2.set_ylim((-5,25))\n",
    "\n",
    "plt.title('Magnitude and phase response')\n",
    "plt.show()"
   ]
  },
  {
   "cell_type": "markdown",
   "id": "c26522c3-055f-4ea7-84d5-3284c72908c5",
   "metadata": {},
   "source": [
    "## Comapring solutions"
   ]
  },
  {
   "cell_type": "markdown",
   "id": "2a300ef8-bdc8-4656-9f8f-2502d6b19eec",
   "metadata": {},
   "source": [
    "Load the csv file from LTSpice."
   ]
  },
  {
   "cell_type": "code",
   "execution_count": 66,
   "id": "7000a8f7-e013-4f37-9fdd-49ef794adaee",
   "metadata": {},
   "outputs": [],
   "source": [
    "fn = 'Pi-Filter-LTSpice.csv' # data from LTSpice\n",
    "LTSpice_data = np.genfromtxt(fn, delimiter=',',skip_header=1)\n",
    "\n",
    "# initaliaze some empty arrays\n",
    "frequency = np.zeros(len(LTSpice_data))\n",
    "voltage = np.zeros(len(LTSpice_data)).astype(complex)\n",
    "\n",
    "# convert the csv data to complez numbers and store in the array\n",
    "for i in range(len(LTSpice_data)):\n",
    "    frequency[i] = LTSpice_data[i][0]\n",
    "    voltage[i] = LTSpice_data[i][1] + LTSpice_data[i][2]*1j"
   ]
  },
  {
   "cell_type": "code",
   "execution_count": 68,
   "id": "7fa0c4a1-a4bb-470d-ab98-f276ffe21d35",
   "metadata": {},
   "outputs": [
    {
     "data": {
      "image/png": "[encoded data removed]",
      "text/plain": [
       "<Figure size 640x480 with 2 Axes>"
      ]
     },
     "metadata": {},
     "output_type": "display_data"
    }
   ],
   "source": [
    "fig, ax1 = plt.subplots()\n",
    "ax1.set_ylabel('magnitude, dB')\n",
    "ax1.set_xlabel('frequency, Hz')\n",
    "\n",
    "plt.semilogx(frequency, 20*np.log10(np.abs(voltage)),'-k')    # LTSpice magnitude plot\n",
    "plt.semilogx(w/(2*np.pi), mag,'-b')    # MNA magnitude plot\n",
    "plt.semilogx(w_franc/(2*np.pi), mag_franc,'-r')    # FACTS magnitude plot\n",
    "\n",
    "ax1.tick_params(axis='y')\n",
    "#ax1.set_ylim((-30,20))\n",
    "plt.grid()\n",
    "\n",
    "# instantiate a second y-axes that shares the same x-axis\n",
    "ax2 = ax1.twinx()\n",
    "color = 'b'\n",
    "\n",
    "plt.semilogx(frequency, np.unwrap(2*np.angle(voltage)/2) *180/np.pi,':',color='k',label='LTSpice')  # LTSpice phase plot\n",
    "plt.semilogx(w/(2*np.pi), phase,':',color='b',label='MNA')  # MNA phase plot\n",
    "plt.semilogx(w_franc/(2*np.pi), phase_franc,':',color='r',label='Franc')  # FACTS phase plot\n",
    "\n",
    "ax2.set_ylabel('phase, deg',color=color)\n",
    "ax2.tick_params(axis='y', labelcolor=color)\n",
    "#ax2.set_ylim((-5,25))\n",
    "\n",
    "ax2.plot(np.NaN, np.NaN, color='k', label='LTSpice')\n",
    "ax2.plot(np.NaN, np.NaN, color='b', label='MNA')\n",
    "ax2.plot(np.NaN, np.NaN, color='r', label='Franc')\n",
    "\n",
    "plt.legend()\n",
    "plt.title('Magnitude and phase response')\n",
    "plt.show()"
   ]
  },
  {
   "cell_type": "markdown",
   "id": "777583ff-7f6d-459d-9bfe-6793a8014106",
   "metadata": {},
   "source": [
    "LTSpice, SMNA and Franc results agree. "
   ]
  },
  {
   "cell_type": "raw",
   "id": "f22a7f16-5768-4ae0-a2d8-2faa119fb8d9",
   "metadata": {
    "tags": []
   },
   "source": [
    "<!--\n",
    "\n",
    "## Another try at FACTS\n",
    "\n",
    "\n",
    "```\n",
    "* C:\\users\\jeff64\\My Documents\\Pi-filter\\Pi-Filter-FACTS.asc\n",
    "V1 3 0 1\n",
    "R_in 1 3 1\n",
    "R_out 2 0 1\n",
    "R§Z1 1 0 Series R1, L1 & C1\n",
    "R§Z2 2 1 Series Ra & (L2 || C2 || R2)\n",
    "R§Z3 2 0 Series R3, L3 & C3\n",
    ".op\n",
    ".backanno\n",
    ".end\n",
    "\n",
    "```\n",
    "\n",
    "\n",
    "# setting input and out put R the same\n",
    "net_list = '''\n",
    "V1 3 0 1\n",
    "R_in 1 3 1\n",
    "R_out 2 0 1\n",
    "R_Z1 1 0 1\n",
    "R_Z2 2 1 1\n",
    "R_Z3 2 0 1\n",
    "'''\n",
    "\n",
    "Generate the network equations.\n",
    "\n",
    "report, network_df, df2, A, X, Z = SymMNA.smna(net_list)\n",
    "\n",
    "# Put matricies into SymPy \n",
    "X = Matrix(X)\n",
    "Z = Matrix(Z)\n",
    "\n",
    "NE_facts = Eq(A*X,Z)\n",
    "\n",
    "Generate markdown text to display the network equations.\n",
    "\n",
    "temp = ''\n",
    "for i in range(len(X)):\n",
    "    temp += '${:s}$<br>'.format(latex(Eq((A*X)[i:i+1][0],Z[i])))\n",
    "\n",
    "Markdown(temp)\n",
    "\n",
    "# turn the free symbols into SymPy variables\n",
    "var(str(NE_facts.free_symbols).replace('{','').replace('}',''))\n",
    "\n",
    "Built a dictionary of element values.\n",
    "\n",
    "element_values = SymMNA.get_part_values(network_df)\n",
    "element_values\n",
    "\n",
    "Generate the symbolic solution, which takes a couple of minutes on my laptop's Intel i3-8130U CPU @ 2.20GHz.\n",
    "\n",
    "U_facts = solve(NE_facts,X)\n",
    "\n",
    "The solution to the network equations in symbolic form are long, so the code to display them is commented out.\n",
    "\n",
    "temp = ''\n",
    "for i in U_facts.keys():\n",
    "    temp += '${:s} = {:s}$<br>'.format(latex(i),latex(U_facts[i]))\n",
    "\n",
    "Markdown(temp)\n",
    "\n",
    "Looking at v2/v3\n",
    "\n",
    "H_facts = (U_facts[v2]/U_facts[v3]) #.simplify()\n",
    "H_facts\n",
    "\n",
    "H_facts = (U_facts[v2]/U_facts[v1]).simplify()\n",
    "H_facts\n",
    "\n",
    "Do the substitution \n",
    "\n",
    "Z1\n",
    "\n",
    "Z2\n",
    "\n",
    "Z3\n",
    "\n",
    "\n",
    "\n",
    "H_facts_Z = H_facts.subs({R_z1:Z1,R_z2:Z2,R_z3:Z3,R_out:1,R_in:1})\n",
    "\n",
    "H_facts_Z\n",
    "\n",
    "H_facts_Z.simplify()\n",
    "\n",
    "H\n",
    "\n",
    "User Franc provided a detailed answer described below\n",
    "\n",
    "User Telsa23 provided a short answer described below.\n",
    "\n",
    "-->"
   ]
  },
  {
   "cell_type": "markdown",
   "id": "c52ab79d-4702-4364-a2bb-15c9c9461dec",
   "metadata": {},
   "source": [
    "## Community answers\n",
    "Both comunity answers did not provide a solution based on the FACTS method. Missing was the steps to extract the time constants of the circuit and from there find the zeros of the network. \n",
    "\n",
    "The answer from @user347817 replaces each leg of the filter with Z's and then uses series and parallel equalivent conbinations. As shown above this analysis provides only an approximate solution and probably would not cut the mustard in an acedemic or critical design reviwe.  \n",
    "\n",
    "The answer provided by Tesla23 is also suspect and seems wrong. The following calculations walk through some of his steps."
   ]
  },
  {
   "cell_type": "raw",
   "id": "39e0101c-aa83-457e-9062-53f9199889c0",
   "metadata": {},
   "source": [
    "R, Z1, Z2, Z3 = symbols('R Z1 Z2 Z3')"
   ]
  },
  {
   "cell_type": "code",
   "execution_count": 69,
   "id": "3ca28115-d037-4432-96f7-773c07b13765",
   "metadata": {},
   "outputs": [
    {
     "data": {
      "image/png": "[encoded data removed]",
      "text/latex": [
       "$\\displaystyle \\frac{Z_{1} Z_{3}}{Z_{1} Z_{2} Z_{3} + Z_{1} Z_{2} + Z_{1} + Z_{2} + Z_{3} \\cdot \\left(2 Z_{1} + Z_{2}\\right) + Z_{3}}$"
      ],
      "text/plain": [
       "                     Z₁⋅Z₃                      \n",
       "────────────────────────────────────────────────\n",
       "Z₁⋅Z₂⋅Z₃ + Z₁⋅Z₂ + Z₁ + Z₂ + Z₃⋅(2⋅Z₁ + Z₂) + Z₃"
      ]
     },
     "execution_count": 69,
     "metadata": {},
     "output_type": "execute_result"
    }
   ],
   "source": [
    "H_telsa23 = ((R*Z1*Z3)/(R*((Z2+2*Z1)*Z3 + Z1*Z2) + R**2*(Z3+Z2+Z1) + Z1*Z2*Z3)).subs({R:1})\n",
    "H_telsa23"
   ]
  },
  {
   "cell_type": "code",
   "execution_count": 70,
   "id": "49c2f768-e913-4119-ab50-2e28ec161ad5",
   "metadata": {},
   "outputs": [
    {
     "data": {
      "image/png": "[encoded data removed]",
      "text/latex": [
       "$\\displaystyle \\frac{Z_{1} Z_{3}}{Z_{1} Z_{2} Z_{3} + Z_{1} Z_{2} + Z_{1} + Z_{2} + Z_{3} \\cdot \\left(2 Z_{1} + Z_{2}\\right) + Z_{3}}$"
      ],
      "text/plain": [
       "                     Z₁⋅Z₃                      \n",
       "────────────────────────────────────────────────\n",
       "Z₁⋅Z₂⋅Z₃ + Z₁⋅Z₂ + Z₁ + Z₂ + Z₃⋅(2⋅Z₁ + Z₂) + Z₃"
      ]
     },
     "execution_count": 70,
     "metadata": {},
     "output_type": "execute_result"
    }
   ],
   "source": [
    "H_telsa23.simplify()"
   ]
  },
  {
   "cell_type": "markdown",
   "id": "01f5ff14-e035-4995-b271-a1dcd2678671",
   "metadata": {},
   "source": [
    "Comparing the results above to my rendition of FACTS, you can see that they are not the same."
   ]
  },
  {
   "cell_type": "code",
   "execution_count": 72,
   "id": "296f0b03-3bf4-4129-b6d4-65d7bb02e435",
   "metadata": {},
   "outputs": [
    {
     "data": {
      "image/png": "[encoded data removed]",
      "text/latex": [
       "$\\displaystyle \\frac{Z_{1} Z_{4}}{R_{in} \\left(Z_{1} + Z_{2} + Z_{4}\\right) + Z_{1} \\left(Z_{2} + Z_{4}\\right)}$"
      ],
      "text/plain": [
       "              Z₁⋅Z₄              \n",
       "─────────────────────────────────\n",
       "Rᵢₙ⋅(Z₁ + Z₂ + Z₄) + Z₁⋅(Z₂ + Z₄)"
      ]
     },
     "execution_count": 72,
     "metadata": {},
     "output_type": "execute_result"
    }
   ],
   "source": [
    "H_franc_z.simplify()"
   ]
  },
  {
   "cell_type": "markdown",
   "id": "810b1031-98a0-4dba-b880-58cec30557fe",
   "metadata": {},
   "source": [
    "It's not worth my time to analyze Tesla23's answer to determine why there is a difference, especially since the thrust of these notebooks is MNA.\n",
    "\n",
    "## Reduced complexity circuit with source and load impedance\n",
    "The following analysis finds the transfer function for the circuit below. The parasitic components have been removed from the schematic. The circuit is now a third order circuit. As shown below the poles of the transferfunction expressed symbolically are long and complex. It's hard to see how a FACTS solution would yield design oriented results. \n",
    "\n",
    "![Pi filter with out parasitics](Pi-Filter-FACTS-Simplified.png){#fig-pi-filter-simplified}  \n"
   ]
  },
  {
   "cell_type": "code",
   "execution_count": 73,
   "id": "c7ffff24-33d9-452f-bc9d-15db2b817162",
   "metadata": {},
   "outputs": [],
   "source": [
    "net_list = '''\n",
    "V1 3 0 1\n",
    "R_in 1 3 1\n",
    "R_out 2 0 1\n",
    "C1 1 0 1\n",
    "C2 2 0 1\n",
    "L1 1 2 1\n",
    "'''"
   ]
  },
  {
   "cell_type": "markdown",
   "id": "b6a4a08b-bac5-4ce8-805e-41505ec2dc53",
   "metadata": {},
   "source": [
    "### Call the symbolic modified nodal analysis function\n"
   ]
  },
  {
   "cell_type": "code",
   "execution_count": 74,
   "id": "ba3448e2-89ee-4b59-ab31-d9c95ffda87a",
   "metadata": {},
   "outputs": [],
   "source": [
    "report, network_df, i_unk_df, A, X, Z = SymMNA.smna(net_list)"
   ]
  },
  {
   "cell_type": "markdown",
   "id": "62831982-5a81-4bde-afd2-36777ce99390",
   "metadata": {},
   "source": [
    "The network equations for the circuit can be obtained from the A, X and Z values returned from the smna function. The A, X and Z are formulated into equations and displayed below. Markdown is an IPython function and latex is a SymPy printing function."
   ]
  },
  {
   "cell_type": "code",
   "execution_count": 75,
   "id": "6d934a24-8e2b-4aed-8902-d172269c2adc",
   "metadata": {},
   "outputs": [
    {
     "data": {
      "text/markdown": [
       "$I_{L1} + v_{1} \\left(C_{1} s + \\frac{1}{R_{in}}\\right) - \\frac{v_{3}}{R_{in}} = 0$<br>$- I_{L1} + v_{2} \\left(C_{2} s + \\frac{1}{R_{out}}\\right) = 0$<br>$I_{V1} - \\frac{v_{1}}{R_{in}} + \\frac{v_{3}}{R_{in}} = 0$<br>$v_{3} = V_{1}$<br>$- I_{L1} L_{1} s + v_{1} - v_{2} = 0$<br>"
      ],
      "text/plain": [
       "<IPython.core.display.Markdown object>"
      ]
     },
     "execution_count": 75,
     "metadata": {},
     "output_type": "execute_result"
    }
   ],
   "source": [
    "# reform X and Z into Matrix type for printing\n",
    "Xp = Matrix(X)\n",
    "Zp = Matrix(Z)\n",
    "temp = ''\n",
    "for i in range(len(X)):\n",
    "    temp += '${:s}$<br>'.format(latex(Eq((A*Xp)[i:i+1][0],Zp[i])))\n",
    "\n",
    "Markdown(temp)"
   ]
  },
  {
   "cell_type": "markdown",
   "id": "b834edd2-367a-45aa-8948-c99384d96728",
   "metadata": {},
   "source": [
    "### Build the network equation matrix"
   ]
  },
  {
   "cell_type": "code",
   "execution_count": 76,
   "id": "94cbd8c7-0dce-4d71-9443-774530a0c562",
   "metadata": {},
   "outputs": [
    {
     "data": {
      "text/latex": [
       "$\\displaystyle \\left[\\begin{matrix}I_{L1} + v_{1} \\left(C_{1} s + \\frac{1}{R_{in}}\\right) - \\frac{v_{3}}{R_{in}}\\\\- I_{L1} + v_{2} \\left(C_{2} s + \\frac{1}{R_{out}}\\right)\\\\I_{V1} - \\frac{v_{1}}{R_{in}} + \\frac{v_{3}}{R_{in}}\\\\v_{3}\\\\- I_{L1} L_{1} s + v_{1} - v_{2}\\end{matrix}\\right] = \\left[\\begin{matrix}0\\\\0\\\\0\\\\V_{1}\\\\0\\end{matrix}\\right]$"
      ],
      "text/plain": [
       "⎡          ⎛        1 ⎞    v₃⎤       \n",
       "⎢I_L1 + v₁⋅⎜C₁⋅s + ───⎟ - ───⎥       \n",
       "⎢          ⎝       Rᵢₙ⎠   Rᵢₙ⎥       \n",
       "⎢                            ⎥   ⎡0 ⎤\n",
       "⎢             ⎛        1  ⎞  ⎥   ⎢  ⎥\n",
       "⎢  -I_L1 + v₂⋅⎜C₂⋅s + ────⎟  ⎥   ⎢0 ⎥\n",
       "⎢             ⎝       Rₒᵤₜ⎠  ⎥   ⎢  ⎥\n",
       "⎢                            ⎥ = ⎢0 ⎥\n",
       "⎢              v₁    v₃      ⎥   ⎢  ⎥\n",
       "⎢      I_V1 - ─── + ───      ⎥   ⎢V₁⎥\n",
       "⎢             Rᵢₙ   Rᵢₙ      ⎥   ⎢  ⎥\n",
       "⎢                            ⎥   ⎣0 ⎦\n",
       "⎢             v₃             ⎥       \n",
       "⎢                            ⎥       \n",
       "⎣    -I_L1⋅L₁⋅s + v₁ - v₂    ⎦       "
      ]
     },
     "execution_count": 76,
     "metadata": {},
     "output_type": "execute_result"
    }
   ],
   "source": [
    "# Put matrices into SymPy \n",
    "X = Matrix(X)\n",
    "Z = Matrix(Z)\n",
    "\n",
    "NE_sym = Eq(A*X,Z)\n",
    "NE_sym"
   ]
  },
  {
   "cell_type": "code",
   "execution_count": 77,
   "id": "afc8f026-2e7f-48b7-b62e-16b37f3ce306",
   "metadata": {},
   "outputs": [
    {
     "data": {
      "image/png": "[encoded data removed]",
      "text/latex": [
       "$\\displaystyle \\left( v_{1}, \\  R_{in}, \\  I_{L1}, \\  v_{2}, \\  s, \\  I_{V1}, \\  R_{out}, \\  C_{1}, \\  V_{1}, \\  L_{1}, \\  C_{2}, \\  v_{3}\\right)$"
      ],
      "text/plain": [
       "(v₁, Rᵢₙ, I_L1, v₂, s, I_V1, Rₒᵤₜ, C₁, V₁, L₁, C₂, v₃)"
      ]
     },
     "execution_count": 77,
     "metadata": {},
     "output_type": "execute_result"
    }
   ],
   "source": [
    "# turn the free symbols into SymPy variables\n",
    "var(str(NE_sym.free_symbols).replace('{','').replace('}',''))"
   ]
  },
  {
   "cell_type": "markdown",
   "id": "5e4fbfea-196f-4f52-9a90-fc607bba012c",
   "metadata": {},
   "source": [
    "### Symbolic solution\n",
    "The network equations can be solved symbolically. "
   ]
  },
  {
   "cell_type": "code",
   "execution_count": 78,
   "id": "a1748d00-478e-4d5e-89f0-2e2a2f5eaaeb",
   "metadata": {},
   "outputs": [],
   "source": [
    "U_sym = solve(NE_sym,X)"
   ]
  },
  {
   "cell_type": "markdown",
   "id": "f632ea0c-f0ed-4832-b659-2cc7370db68a",
   "metadata": {},
   "source": [
    "Display the symbolic solution"
   ]
  },
  {
   "cell_type": "code",
   "execution_count": 79,
   "id": "a7876fc1-a5aa-4b2b-b1a2-94895e12d07c",
   "metadata": {},
   "outputs": [
    {
     "data": {
      "text/markdown": [
       "$v_{1} = \\frac{C_{2} L_{1} R_{out} V_{1} s^{2} + L_{1} V_{1} s + R_{out} V_{1}}{C_{1} C_{2} L_{1} R_{in} R_{out} s^{3} + C_{1} L_{1} R_{in} s^{2} + C_{1} R_{in} R_{out} s + C_{2} L_{1} R_{out} s^{2} + C_{2} R_{in} R_{out} s + L_{1} s + R_{in} + R_{out}}$<br>$v_{2} = \\frac{R_{out} V_{1}}{C_{1} C_{2} L_{1} R_{in} R_{out} s^{3} + C_{1} L_{1} R_{in} s^{2} + C_{1} R_{in} R_{out} s + C_{2} L_{1} R_{out} s^{2} + C_{2} R_{in} R_{out} s + L_{1} s + R_{in} + R_{out}}$<br>$v_{3} = V_{1}$<br>$I_{V1} = \\frac{- C_{1} C_{2} L_{1} R_{out} V_{1} s^{3} - C_{1} L_{1} V_{1} s^{2} - C_{1} R_{out} V_{1} s - C_{2} R_{out} V_{1} s - V_{1}}{C_{1} C_{2} L_{1} R_{in} R_{out} s^{3} + C_{1} L_{1} R_{in} s^{2} + C_{1} R_{in} R_{out} s + C_{2} L_{1} R_{out} s^{2} + C_{2} R_{in} R_{out} s + L_{1} s + R_{in} + R_{out}}$<br>$I_{L1} = \\frac{C_{2} R_{out} V_{1} s + V_{1}}{C_{1} C_{2} L_{1} R_{in} R_{out} s^{3} + C_{1} L_{1} R_{in} s^{2} + C_{1} R_{in} R_{out} s + C_{2} L_{1} R_{out} s^{2} + C_{2} R_{in} R_{out} s + L_{1} s + R_{in} + R_{out}}$<br>"
      ],
      "text/plain": [
       "<IPython.core.display.Markdown object>"
      ]
     },
     "execution_count": 79,
     "metadata": {},
     "output_type": "execute_result"
    }
   ],
   "source": [
    "temp = ''\n",
    "for i in U_sym.keys():\n",
    "    temp += '${:s} = {:s}$<br>'.format(latex(i),latex(U_sym[i]))\n",
    "\n",
    "Markdown(temp)"
   ]
  },
  {
   "cell_type": "markdown",
   "id": "ee8864df-0c3a-4225-9533-b9a6051a7c5c",
   "metadata": {},
   "source": [
    "### Transfer function"
   ]
  },
  {
   "cell_type": "code",
   "execution_count": 80,
   "id": "ad16e052-b02e-4091-a14f-5e3e61fda072",
   "metadata": {},
   "outputs": [
    {
     "data": {
      "image/png": "[encoded data removed]",
      "text/latex": [
       "$\\displaystyle \\frac{R_{out}}{C_{1} C_{2} L_{1} R_{in} R_{out} s^{3} + C_{1} L_{1} R_{in} s^{2} + C_{1} R_{in} R_{out} s + C_{2} L_{1} R_{out} s^{2} + C_{2} R_{in} R_{out} s + L_{1} s + R_{in} + R_{out}}$"
      ],
      "text/plain": [
       "                                                  Rₒᵤₜ                        \n",
       "──────────────────────────────────────────────────────────────────────────────\n",
       "                   3              2                               2           \n",
       "C₁⋅C₂⋅L₁⋅Rᵢₙ⋅Rₒᵤₜ⋅s  + C₁⋅L₁⋅Rᵢₙ⋅s  + C₁⋅Rᵢₙ⋅Rₒᵤₜ⋅s + C₂⋅L₁⋅Rₒᵤₜ⋅s  + C₂⋅Rᵢₙ⋅R\n",
       "\n",
       "                         \n",
       "─────────────────────────\n",
       "                         \n",
       "ₒᵤₜ⋅s + L₁⋅s + Rᵢₙ + Rₒᵤₜ"
      ]
     },
     "execution_count": 80,
     "metadata": {},
     "output_type": "execute_result"
    }
   ],
   "source": [
    "H_sym_1  = (U_sym[v2]/U_sym[v3]).simplify()\n",
    "H_sym_1"
   ]
  },
  {
   "cell_type": "code",
   "execution_count": 81,
   "id": "d874e4c2-d1c4-47e3-8cde-efc5b884c4f0",
   "metadata": {},
   "outputs": [
    {
     "data": {
      "text/plain": [
       "'numerator'"
      ]
     },
     "metadata": {},
     "output_type": "display_data"
    },
    {
     "data": {
      "image/png": "[encoded data removed]",
      "text/latex": [
       "$\\displaystyle R_{out}$"
      ],
      "text/plain": [
       "Rₒᵤₜ"
      ]
     },
     "metadata": {},
     "output_type": "display_data"
    },
    {
     "data": {
      "text/plain": [
       "'denominator'"
      ]
     },
     "metadata": {},
     "output_type": "display_data"
    },
    {
     "data": {
      "image/png": "[encoded data removed]",
      "text/latex": [
       "$\\displaystyle C_{1} C_{2} L_{1} R_{in} R_{out} s^{3} + C_{1} L_{1} R_{in} s^{2} + C_{1} R_{in} R_{out} s + C_{2} L_{1} R_{out} s^{2} + C_{2} R_{in} R_{out} s + L_{1} s + R_{in} + R_{out}$"
      ],
      "text/plain": [
       "                   3              2                               2           \n",
       "C₁⋅C₂⋅L₁⋅Rᵢₙ⋅Rₒᵤₜ⋅s  + C₁⋅L₁⋅Rᵢₙ⋅s  + C₁⋅Rᵢₙ⋅Rₒᵤₜ⋅s + C₂⋅L₁⋅Rₒᵤₜ⋅s  + C₂⋅Rᵢₙ⋅R\n",
       "\n",
       "                         \n",
       "ₒᵤₜ⋅s + L₁⋅s + Rᵢₙ + Rₒᵤₜ"
      ]
     },
     "metadata": {},
     "output_type": "display_data"
    }
   ],
   "source": [
    "n, d = fraction(H_sym_1)\n",
    "display('numerator', n, 'denominator', d)"
   ]
  },
  {
   "cell_type": "markdown",
   "id": "cd033e13-5c4d-4734-9acf-6eff4fcc4192",
   "metadata": {},
   "source": [
    "Solve for the roots of the denominator"
   ]
  },
  {
   "cell_type": "code",
   "execution_count": 84,
   "id": "04a93f30-b5ea-475b-8047-c6d9689ca839",
   "metadata": {},
   "outputs": [
    {
     "data": {
      "image/png": "[encoded data removed]",
      "text/latex": [
       "$\\displaystyle C_{1} C_{2} L_{1} R_{in} R_{out} s^{3} + C_{1} L_{1} R_{in} s^{2} + C_{1} R_{in} R_{out} s + C_{2} L_{1} R_{out} s^{2} + C_{2} R_{in} R_{out} s + L_{1} s + R_{in} + R_{out}$"
      ],
      "text/plain": [
       "                   3              2                               2           \n",
       "C₁⋅C₂⋅L₁⋅Rᵢₙ⋅Rₒᵤₜ⋅s  + C₁⋅L₁⋅Rᵢₙ⋅s  + C₁⋅Rᵢₙ⋅Rₒᵤₜ⋅s + C₂⋅L₁⋅Rₒᵤₜ⋅s  + C₂⋅Rᵢₙ⋅R\n",
       "\n",
       "                         \n",
       "ₒᵤₜ⋅s + L₁⋅s + Rᵢₙ + Rₒᵤₜ"
      ]
     },
     "execution_count": 84,
     "metadata": {},
     "output_type": "execute_result"
    }
   ],
   "source": [
    "d.simplify().expand().together()\n",
    "#d.simplify().expand()"
   ]
  },
  {
   "cell_type": "code",
   "execution_count": 85,
   "id": "a1103db9-48c1-412c-9247-ae32c18b5e48",
   "metadata": {},
   "outputs": [
    {
     "data": {
      "image/png": "[encoded data removed]",
      "text/latex": [
       "$\\displaystyle \\left[ - \\frac{- \\frac{3 \\left(C_{1} R_{in} R_{out} + C_{2} R_{in} R_{out} + L_{1}\\right)}{C_{1} C_{2} L_{1} R_{in} R_{out}} + \\frac{\\left(C_{1} R_{in} + C_{2} R_{out}\\right)^{2}}{C_{1}^{2} C_{2}^{2} R_{in}^{2} R_{out}^{2}}}{3 \\sqrt[3]{\\frac{\\sqrt{- 4 \\left(- \\frac{3 \\left(C_{1} R_{in} R_{out} + C_{2} R_{in} R_{out} + L_{1}\\right)}{C_{1} C_{2} L_{1} R_{in} R_{out}} + \\frac{\\left(C_{1} R_{in} + C_{2} R_{out}\\right)^{2}}{C_{1}^{2} C_{2}^{2} R_{in}^{2} R_{out}^{2}}\\right)^{3} + \\left(\\frac{27 \\left(R_{in} + R_{out}\\right)}{C_{1} C_{2} L_{1} R_{in} R_{out}} - \\frac{9 \\left(C_{1} R_{in} + C_{2} R_{out}\\right) \\left(C_{1} R_{in} R_{out} + C_{2} R_{in} R_{out} + L_{1}\\right)}{C_{1}^{2} C_{2}^{2} L_{1} R_{in}^{2} R_{out}^{2}} + \\frac{2 \\left(C_{1} R_{in} + C_{2} R_{out}\\right)^{3}}{C_{1}^{3} C_{2}^{3} R_{in}^{3} R_{out}^{3}}\\right)^{2}}}{2} + \\frac{27 \\left(R_{in} + R_{out}\\right)}{2 C_{1} C_{2} L_{1} R_{in} R_{out}} - \\frac{9 \\left(C_{1} R_{in} + C_{2} R_{out}\\right) \\left(C_{1} R_{in} R_{out} + C_{2} R_{in} R_{out} + L_{1}\\right)}{2 C_{1}^{2} C_{2}^{2} L_{1} R_{in}^{2} R_{out}^{2}} + \\frac{\\left(C_{1} R_{in} + C_{2} R_{out}\\right)^{3}}{C_{1}^{3} C_{2}^{3} R_{in}^{3} R_{out}^{3}}}} - \\frac{\\sqrt[3]{\\frac{\\sqrt{- 4 \\left(- \\frac{3 \\left(C_{1} R_{in} R_{out} + C_{2} R_{in} R_{out} + L_{1}\\right)}{C_{1} C_{2} L_{1} R_{in} R_{out}} + \\frac{\\left(C_{1} R_{in} + C_{2} R_{out}\\right)^{2}}{C_{1}^{2} C_{2}^{2} R_{in}^{2} R_{out}^{2}}\\right)^{3} + \\left(\\frac{27 \\left(R_{in} + R_{out}\\right)}{C_{1} C_{2} L_{1} R_{in} R_{out}} - \\frac{9 \\left(C_{1} R_{in} + C_{2} R_{out}\\right) \\left(C_{1} R_{in} R_{out} + C_{2} R_{in} R_{out} + L_{1}\\right)}{C_{1}^{2} C_{2}^{2} L_{1} R_{in}^{2} R_{out}^{2}} + \\frac{2 \\left(C_{1} R_{in} + C_{2} R_{out}\\right)^{3}}{C_{1}^{3} C_{2}^{3} R_{in}^{3} R_{out}^{3}}\\right)^{2}}}{2} + \\frac{27 \\left(R_{in} + R_{out}\\right)}{2 C_{1} C_{2} L_{1} R_{in} R_{out}} - \\frac{9 \\left(C_{1} R_{in} + C_{2} R_{out}\\right) \\left(C_{1} R_{in} R_{out} + C_{2} R_{in} R_{out} + L_{1}\\right)}{2 C_{1}^{2} C_{2}^{2} L_{1} R_{in}^{2} R_{out}^{2}} + \\frac{\\left(C_{1} R_{in} + C_{2} R_{out}\\right)^{3}}{C_{1}^{3} C_{2}^{3} R_{in}^{3} R_{out}^{3}}}}{3} - \\frac{C_{1} R_{in} + C_{2} R_{out}}{3 C_{1} C_{2} R_{in} R_{out}}, \\  - \\frac{- \\frac{3 \\left(C_{1} R_{in} R_{out} + C_{2} R_{in} R_{out} + L_{1}\\right)}{C_{1} C_{2} L_{1} R_{in} R_{out}} + \\frac{\\left(C_{1} R_{in} + C_{2} R_{out}\\right)^{2}}{C_{1}^{2} C_{2}^{2} R_{in}^{2} R_{out}^{2}}}{3 \\left(- \\frac{1}{2} - \\frac{\\sqrt{3} i}{2}\\right) \\sqrt[3]{\\frac{\\sqrt{- 4 \\left(- \\frac{3 \\left(C_{1} R_{in} R_{out} + C_{2} R_{in} R_{out} + L_{1}\\right)}{C_{1} C_{2} L_{1} R_{in} R_{out}} + \\frac{\\left(C_{1} R_{in} + C_{2} R_{out}\\right)^{2}}{C_{1}^{2} C_{2}^{2} R_{in}^{2} R_{out}^{2}}\\right)^{3} + \\left(\\frac{27 \\left(R_{in} + R_{out}\\right)}{C_{1} C_{2} L_{1} R_{in} R_{out}} - \\frac{9 \\left(C_{1} R_{in} + C_{2} R_{out}\\right) \\left(C_{1} R_{in} R_{out} + C_{2} R_{in} R_{out} + L_{1}\\right)}{C_{1}^{2} C_{2}^{2} L_{1} R_{in}^{2} R_{out}^{2}} + \\frac{2 \\left(C_{1} R_{in} + C_{2} R_{out}\\right)^{3}}{C_{1}^{3} C_{2}^{3} R_{in}^{3} R_{out}^{3}}\\right)^{2}}}{2} + \\frac{27 \\left(R_{in} + R_{out}\\right)}{2 C_{1} C_{2} L_{1} R_{in} R_{out}} - \\frac{9 \\left(C_{1} R_{in} + C_{2} R_{out}\\right) \\left(C_{1} R_{in} R_{out} + C_{2} R_{in} R_{out} + L_{1}\\right)}{2 C_{1}^{2} C_{2}^{2} L_{1} R_{in}^{2} R_{out}^{2}} + \\frac{\\left(C_{1} R_{in} + C_{2} R_{out}\\right)^{3}}{C_{1}^{3} C_{2}^{3} R_{in}^{3} R_{out}^{3}}}} - \\frac{\\left(- \\frac{1}{2} - \\frac{\\sqrt{3} i}{2}\\right) \\sqrt[3]{\\frac{\\sqrt{- 4 \\left(- \\frac{3 \\left(C_{1} R_{in} R_{out} + C_{2} R_{in} R_{out} + L_{1}\\right)}{C_{1} C_{2} L_{1} R_{in} R_{out}} + \\frac{\\left(C_{1} R_{in} + C_{2} R_{out}\\right)^{2}}{C_{1}^{2} C_{2}^{2} R_{in}^{2} R_{out}^{2}}\\right)^{3} + \\left(\\frac{27 \\left(R_{in} + R_{out}\\right)}{C_{1} C_{2} L_{1} R_{in} R_{out}} - \\frac{9 \\left(C_{1} R_{in} + C_{2} R_{out}\\right) \\left(C_{1} R_{in} R_{out} + C_{2} R_{in} R_{out} + L_{1}\\right)}{C_{1}^{2} C_{2}^{2} L_{1} R_{in}^{2} R_{out}^{2}} + \\frac{2 \\left(C_{1} R_{in} + C_{2} R_{out}\\right)^{3}}{C_{1}^{3} C_{2}^{3} R_{in}^{3} R_{out}^{3}}\\right)^{2}}}{2} + \\frac{27 \\left(R_{in} + R_{out}\\right)}{2 C_{1} C_{2} L_{1} R_{in} R_{out}} - \\frac{9 \\left(C_{1} R_{in} + C_{2} R_{out}\\right) \\left(C_{1} R_{in} R_{out} + C_{2} R_{in} R_{out} + L_{1}\\right)}{2 C_{1}^{2} C_{2}^{2} L_{1} R_{in}^{2} R_{out}^{2}} + \\frac{\\left(C_{1} R_{in} + C_{2} R_{out}\\right)^{3}}{C_{1}^{3} C_{2}^{3} R_{in}^{3} R_{out}^{3}}}}{3} - \\frac{C_{1} R_{in} + C_{2} R_{out}}{3 C_{1} C_{2} R_{in} R_{out}}, \\  - \\frac{- \\frac{3 \\left(C_{1} R_{in} R_{out} + C_{2} R_{in} R_{out} + L_{1}\\right)}{C_{1} C_{2} L_{1} R_{in} R_{out}} + \\frac{\\left(C_{1} R_{in} + C_{2} R_{out}\\right)^{2}}{C_{1}^{2} C_{2}^{2} R_{in}^{2} R_{out}^{2}}}{3 \\left(- \\frac{1}{2} + \\frac{\\sqrt{3} i}{2}\\right) \\sqrt[3]{\\frac{\\sqrt{- 4 \\left(- \\frac{3 \\left(C_{1} R_{in} R_{out} + C_{2} R_{in} R_{out} + L_{1}\\right)}{C_{1} C_{2} L_{1} R_{in} R_{out}} + \\frac{\\left(C_{1} R_{in} + C_{2} R_{out}\\right)^{2}}{C_{1}^{2} C_{2}^{2} R_{in}^{2} R_{out}^{2}}\\right)^{3} + \\left(\\frac{27 \\left(R_{in} + R_{out}\\right)}{C_{1} C_{2} L_{1} R_{in} R_{out}} - \\frac{9 \\left(C_{1} R_{in} + C_{2} R_{out}\\right) \\left(C_{1} R_{in} R_{out} + C_{2} R_{in} R_{out} + L_{1}\\right)}{C_{1}^{2} C_{2}^{2} L_{1} R_{in}^{2} R_{out}^{2}} + \\frac{2 \\left(C_{1} R_{in} + C_{2} R_{out}\\right)^{3}}{C_{1}^{3} C_{2}^{3} R_{in}^{3} R_{out}^{3}}\\right)^{2}}}{2} + \\frac{27 \\left(R_{in} + R_{out}\\right)}{2 C_{1} C_{2} L_{1} R_{in} R_{out}} - \\frac{9 \\left(C_{1} R_{in} + C_{2} R_{out}\\right) \\left(C_{1} R_{in} R_{out} + C_{2} R_{in} R_{out} + L_{1}\\right)}{2 C_{1}^{2} C_{2}^{2} L_{1} R_{in}^{2} R_{out}^{2}} + \\frac{\\left(C_{1} R_{in} + C_{2} R_{out}\\right)^{3}}{C_{1}^{3} C_{2}^{3} R_{in}^{3} R_{out}^{3}}}} - \\frac{\\left(- \\frac{1}{2} + \\frac{\\sqrt{3} i}{2}\\right) \\sqrt[3]{\\frac{\\sqrt{- 4 \\left(- \\frac{3 \\left(C_{1} R_{in} R_{out} + C_{2} R_{in} R_{out} + L_{1}\\right)}{C_{1} C_{2} L_{1} R_{in} R_{out}} + \\frac{\\left(C_{1} R_{in} + C_{2} R_{out}\\right)^{2}}{C_{1}^{2} C_{2}^{2} R_{in}^{2} R_{out}^{2}}\\right)^{3} + \\left(\\frac{27 \\left(R_{in} + R_{out}\\right)}{C_{1} C_{2} L_{1} R_{in} R_{out}} - \\frac{9 \\left(C_{1} R_{in} + C_{2} R_{out}\\right) \\left(C_{1} R_{in} R_{out} + C_{2} R_{in} R_{out} + L_{1}\\right)}{C_{1}^{2} C_{2}^{2} L_{1} R_{in}^{2} R_{out}^{2}} + \\frac{2 \\left(C_{1} R_{in} + C_{2} R_{out}\\right)^{3}}{C_{1}^{3} C_{2}^{3} R_{in}^{3} R_{out}^{3}}\\right)^{2}}}{2} + \\frac{27 \\left(R_{in} + R_{out}\\right)}{2 C_{1} C_{2} L_{1} R_{in} R_{out}} - \\frac{9 \\left(C_{1} R_{in} + C_{2} R_{out}\\right) \\left(C_{1} R_{in} R_{out} + C_{2} R_{in} R_{out} + L_{1}\\right)}{2 C_{1}^{2} C_{2}^{2} L_{1} R_{in}^{2} R_{out}^{2}} + \\frac{\\left(C_{1} R_{in} + C_{2} R_{out}\\right)^{3}}{C_{1}^{3} C_{2}^{3} R_{in}^{3} R_{out}^{3}}}}{3} - \\frac{C_{1} R_{in} + C_{2} R_{out}}{3 C_{1} C_{2} R_{in} R_{out}}\\right]$"
      ],
      "text/plain": [
       "⎡                                                                             \n",
       "⎢                                                                             \n",
       "⎢                                                                             \n",
       "⎢                                                                             \n",
       "⎢                                                                             \n",
       "⎢                                                                             \n",
       "⎢                                                                             \n",
       "⎢                                                                             \n",
       "⎢                                                                             \n",
       "⎢                                                                             \n",
       "⎢                                                                             \n",
       "⎢- ───────────────────────────────────────────────────────────────────────────\n",
       "⎢               ______________________________________________________________\n",
       "⎢              ╱        ______________________________________________________\n",
       "⎢             ╱        ╱                                                      \n",
       "⎢            ╱        ╱      ⎛                                                \n",
       "⎢           ╱        ╱       ⎜  3⋅(C₁⋅Rᵢₙ⋅Rₒᵤₜ + C₂⋅Rᵢₙ⋅Rₒᵤₜ + L₁)   (C₁⋅Rᵢₙ +\n",
       "⎢          ╱        ╱    - 4⋅⎜- ────────────────────────────────── + ─────────\n",
       "⎢         ╱        ╱         ⎜          C₁⋅C₂⋅L₁⋅Rᵢₙ⋅Rₒᵤₜ               2   2 \n",
       "⎢        ╱       ╲╱          ⎝                                        C₁ ⋅C₂ ⋅\n",
       "⎢  3⋅   ╱        ─────────────────────────────────────────────────────────────\n",
       "⎢    3 ╱                                                                      \n",
       "⎣    ╲╱                                                                       \n",
       "\n",
       "                                                                              \n",
       "                                                                              \n",
       "                                                                              \n",
       "                                                                              \n",
       "                                                                              \n",
       "                                                                              \n",
       "                                                                              \n",
       "                                            3⋅(C₁⋅Rᵢₙ⋅Rₒᵤₜ + C₂⋅Rᵢₙ⋅Rₒᵤₜ + L₁)\n",
       "                                          - ──────────────────────────────────\n",
       "                                                    C₁⋅C₂⋅L₁⋅Rᵢₙ⋅Rₒᵤₜ         \n",
       "                                                                              \n",
       "──────────────────────────────────────────────────────────────────────────────\n",
       "______________________________________________________________________________\n",
       "______________________________________________________________________________\n",
       "           3                                                                  \n",
       "         2⎞    ⎛                                                              \n",
       " C₂⋅Rₒᵤₜ) ⎟    ⎜ 27⋅(Rᵢₙ + Rₒᵤₜ)    9⋅(C₁⋅Rᵢₙ + C₂⋅Rₒᵤₜ)⋅(C₁⋅Rᵢₙ⋅Rₒᵤₜ + C₂⋅Rᵢₙ\n",
       "──────────⎟  + ⎜───────────────── - ──────────────────────────────────────────\n",
       "   2     2⎟    ⎜C₁⋅C₂⋅L₁⋅Rᵢₙ⋅Rₒᵤₜ                     2   2       2     2     \n",
       "Rᵢₙ ⋅Rₒᵤₜ ⎠    ⎝                                    C₁ ⋅C₂ ⋅L₁⋅Rᵢₙ ⋅Rₒᵤₜ      \n",
       "──────────────────────────────────────────────────────────────────────────────\n",
       "                           2                                                  \n",
       "                                                                              \n",
       "\n",
       "                                                                              \n",
       "                                                                              \n",
       "                                                                              \n",
       "                                                                              \n",
       "                                                                              \n",
       "                                                                              \n",
       "                     2                                                        \n",
       "   (C₁⋅Rᵢₙ + C₂⋅Rₒᵤₜ)                                                         \n",
       " + ───────────────────                                                        \n",
       "      2   2    2     2                                                        \n",
       "    C₁ ⋅C₂ ⋅Rᵢₙ ⋅Rₒᵤₜ                                                         \n",
       "──────────────────────────────────────────────────────────────────────────────\n",
       "______________________________________________________________________________\n",
       "______________________________________                                        \n",
       "                                    2                                         \n",
       "                                  3⎞                                          \n",
       "⋅Rₒᵤₜ + L₁)   2⋅(C₁⋅Rᵢₙ + C₂⋅Rₒᵤₜ) ⎟                                          \n",
       "─────────── + ─────────────────────⎟                                          \n",
       "                  3   3    3     3 ⎟                                          \n",
       "                C₁ ⋅C₂ ⋅Rᵢₙ ⋅Rₒᵤₜ  ⎠       27⋅(Rᵢₙ + Rₒᵤₜ)     9⋅(C₁⋅Rᵢₙ + C₂⋅\n",
       "────────────────────────────────────── + ─────────────────── - ───────────────\n",
       "                                         2⋅C₁⋅C₂⋅L₁⋅Rᵢₙ⋅Rₒᵤₜ                  \n",
       "                                                                              \n",
       "\n",
       "                                                                           ___\n",
       "                                                                          ╱   \n",
       "                                                                         ╱    \n",
       "                                                                        ╱     \n",
       "                                                                       ╱      \n",
       "                                                                      ╱       \n",
       "                                                                     ╱        \n",
       "                                                                    ╱       ╲╱\n",
       "                                                                   ╱        ──\n",
       "                                                                3 ╱           \n",
       "                                                                ╲╱            \n",
       "───────────────────────────────────────────────────────────── - ──────────────\n",
       "_____________________________________________________________                 \n",
       "                                                                              \n",
       "                                                                              \n",
       "                                                                              \n",
       "                                                                              \n",
       "                                                                              \n",
       "                                                           3                  \n",
       "Rₒᵤₜ)⋅(C₁⋅Rᵢₙ⋅Rₒᵤₜ + C₂⋅Rᵢₙ⋅Rₒᵤₜ + L₁)   (C₁⋅Rᵢₙ + C₂⋅Rₒᵤₜ)                   \n",
       "────────────────────────────────────── + ───────────────────                  \n",
       "    2   2       2     2                     3   3    3     3                  \n",
       "2⋅C₁ ⋅C₂ ⋅L₁⋅Rᵢₙ ⋅Rₒᵤₜ                    C₁ ⋅C₂ ⋅Rᵢₙ ⋅Rₒᵤₜ                   \n",
       "\n",
       "______________________________________________________________________________\n",
       "     _________________________________________________________________________\n",
       "    ╱                                                                 3       \n",
       "   ╱      ⎛                                                         2⎞    ⎛   \n",
       "  ╱       ⎜  3⋅(C₁⋅Rᵢₙ⋅Rₒᵤₜ + C₂⋅Rᵢₙ⋅Rₒᵤₜ + L₁)   (C₁⋅Rᵢₙ + C₂⋅Rₒᵤₜ) ⎟    ⎜ 27\n",
       " ╱    - 4⋅⎜- ────────────────────────────────── + ───────────────────⎟  + ⎜───\n",
       "╱         ⎜          C₁⋅C₂⋅L₁⋅Rᵢₙ⋅Rₒᵤₜ               2   2    2     2⎟    ⎜C₁⋅\n",
       "          ⎝                                        C₁ ⋅C₂ ⋅Rᵢₙ ⋅Rₒᵤₜ ⎠    ⎝   \n",
       "──────────────────────────────────────────────────────────────────────────────\n",
       "                                                                              \n",
       "                                                                              \n",
       "──────────────────────────────────────────────────────────────────────────────\n",
       "                                                                              \n",
       "                                                                              \n",
       "                                                                              \n",
       "                                                                              \n",
       "                                                                              \n",
       "                                                                              \n",
       "                                                                              \n",
       "                                                                              \n",
       "                                                                              \n",
       "                                                                              \n",
       "                                                                              \n",
       "\n",
       "______________________________________________________________________________\n",
       "______________________________________________________________________________\n",
       "                                                                              \n",
       "                                                                              \n",
       "⋅(Rᵢₙ + Rₒᵤₜ)    9⋅(C₁⋅Rᵢₙ + C₂⋅Rₒᵤₜ)⋅(C₁⋅Rᵢₙ⋅Rₒᵤₜ + C₂⋅Rᵢₙ⋅Rₒᵤₜ + L₁)   2⋅(C₁\n",
       "────────────── - ───────────────────────────────────────────────────── + ─────\n",
       "C₂⋅L₁⋅Rᵢₙ⋅Rₒᵤₜ                     2   2       2     2                       3\n",
       "                                 C₁ ⋅C₂ ⋅L₁⋅Rᵢₙ ⋅Rₒᵤₜ                      C₁ \n",
       "──────────────────────────────────────────────────────────────────────────────\n",
       "        2                                                                     \n",
       "                                                                              \n",
       "──────────────────────────────────────────────────────────────────────────────\n",
       "                                                    3                         \n",
       "                                                                              \n",
       "                                                                              \n",
       "                                                                              \n",
       "                                                                              \n",
       "                                                                              \n",
       "                                                                              \n",
       "                                                                              \n",
       "                                                                              \n",
       "                                                                              \n",
       "                                                                              \n",
       "\n",
       "______________________________________________________________________________\n",
       "___________________                                                           \n",
       "                 2                                                            \n",
       "               3⎞                                                             \n",
       "⋅Rᵢₙ + C₂⋅Rₒᵤₜ) ⎟                                                             \n",
       "────────────────⎟                                                             \n",
       "   3    3     3 ⎟                                                             \n",
       "⋅C₂ ⋅Rᵢₙ ⋅Rₒᵤₜ  ⎠       27⋅(Rᵢₙ + Rₒᵤₜ)     9⋅(C₁⋅Rᵢₙ + C₂⋅Rₒᵤₜ)⋅(C₁⋅Rᵢₙ⋅Rₒᵤₜ \n",
       "─────────────────── + ─────────────────── - ──────────────────────────────────\n",
       "                      2⋅C₁⋅C₂⋅L₁⋅Rᵢₙ⋅Rₒᵤₜ                      2   2       2  \n",
       "                                                           2⋅C₁ ⋅C₂ ⋅L₁⋅Rᵢₙ ⋅R\n",
       "──────────────────────────────────────────────────────────────────────────────\n",
       "                                                                              \n",
       "                                                                              \n",
       "                                                                              \n",
       "                                                                              \n",
       "                                                                              \n",
       "                                                                              \n",
       "                                                                              \n",
       "                                                                              \n",
       "                                                                              \n",
       "                                                                              \n",
       "                                                                              \n",
       "\n",
       "__________________________________________                                    \n",
       "                                                                              \n",
       "                                                                              \n",
       "                                                                              \n",
       "                                                                              \n",
       "                                                                              \n",
       "                                        3                                     \n",
       "+ C₂⋅Rᵢₙ⋅Rₒᵤₜ + L₁)   (C₁⋅Rᵢₙ + C₂⋅Rₒᵤₜ)                                      \n",
       "─────────────────── + ───────────────────                                     \n",
       "   2                     3   3    3     3                                     \n",
       "ₒᵤₜ                    C₁ ⋅C₂ ⋅Rᵢₙ ⋅Rₒᵤₜ     C₁⋅Rᵢₙ + C₂⋅Rₒᵤₜ                 \n",
       "────────────────────────────────────────── - ────────────────, - ─────────────\n",
       "                                             3⋅C₁⋅C₂⋅Rᵢₙ⋅Rₒᵤₜ                 \n",
       "                                                                              \n",
       "                                                                              \n",
       "                                                                              \n",
       "                                                                              \n",
       "                                                                              \n",
       "                                                                              \n",
       "                                                                   ⎛  1   √3⋅ⅈ\n",
       "                                                                 3⋅⎜- ─ - ────\n",
       "                                                                   ⎝  2    2  \n",
       "                                                                              \n",
       "\n",
       "                                                                              \n",
       "                                                                              \n",
       "                                                                              \n",
       "                                                                              \n",
       "                                                                              \n",
       "                                                                              \n",
       "                                                                              \n",
       "                                                                              \n",
       "                                                                              \n",
       "                                                                              \n",
       "                                                                              \n",
       "──────────────────────────────────────────────────────────────────────────────\n",
       "             _________________________________________________________________\n",
       "            ╱        _________________________________________________________\n",
       "           ╱        ╱                                                         \n",
       "          ╱        ╱      ⎛                                                   \n",
       "         ╱        ╱       ⎜  3⋅(C₁⋅Rᵢₙ⋅Rₒᵤₜ + C₂⋅Rᵢₙ⋅Rₒᵤₜ + L₁)   (C₁⋅Rᵢₙ + C₂\n",
       "        ╱        ╱    - 4⋅⎜- ────────────────────────────────── + ────────────\n",
       "       ╱        ╱         ⎜          C₁⋅C₂⋅L₁⋅Rᵢₙ⋅Rₒᵤₜ               2   2    \n",
       "⎞     ╱       ╲╱          ⎝                                        C₁ ⋅C₂ ⋅Rᵢₙ\n",
       "⎟⋅   ╱        ────────────────────────────────────────────────────────────────\n",
       "⎠ 3 ╱                                                                         \n",
       "  ╲╱                                                                          \n",
       "\n",
       "                                                                              \n",
       "                                                                              \n",
       "                                                                              \n",
       "                                                                              \n",
       "                                                                              \n",
       "                                                                              \n",
       "                                                                              \n",
       "                                   3⋅(C₁⋅Rᵢₙ⋅Rₒᵤₜ + C₂⋅Rᵢₙ⋅Rₒᵤₜ + L₁)   (C₁⋅Rᵢ\n",
       "                                 - ────────────────────────────────── + ──────\n",
       "                                           C₁⋅C₂⋅L₁⋅Rᵢₙ⋅Rₒᵤₜ               2  \n",
       "                                                                         C₁ ⋅C\n",
       "──────────────────────────────────────────────────────────────────────────────\n",
       "______________________________________________________________________________\n",
       "______________________________________________________________________________\n",
       "        3                                                                     \n",
       "      2⎞    ⎛                                                                 \n",
       "⋅Rₒᵤₜ) ⎟    ⎜ 27⋅(Rᵢₙ + Rₒᵤₜ)    9⋅(C₁⋅Rᵢₙ + C₂⋅Rₒᵤₜ)⋅(C₁⋅Rᵢₙ⋅Rₒᵤₜ + C₂⋅Rᵢₙ⋅Rₒ\n",
       "───────⎟  + ⎜───────────────── - ─────────────────────────────────────────────\n",
       "2     2⎟    ⎜C₁⋅C₂⋅L₁⋅Rᵢₙ⋅Rₒᵤₜ                     2   2       2     2        \n",
       " ⋅Rₒᵤₜ ⎠    ⎝                                    C₁ ⋅C₂ ⋅L₁⋅Rᵢₙ ⋅Rₒᵤₜ         \n",
       "──────────────────────────────────────────────────────────────────────────────\n",
       "                        2                                                     \n",
       "                                                                              \n",
       "\n",
       "                                                                              \n",
       "                                                                              \n",
       "                                                                              \n",
       "                                                                              \n",
       "                                                                              \n",
       "                                                                              \n",
       "            2                                                                 \n",
       "ₙ + C₂⋅Rₒᵤₜ)                                                                  \n",
       "─────────────                                                                 \n",
       " 2    2     2                                                                 \n",
       "₂ ⋅Rᵢₙ ⋅Rₒᵤₜ                                                                  \n",
       "──────────────────────────────────────────────────────────────────────────────\n",
       "______________________________________________________________________________\n",
       "___________________________________                                           \n",
       "                                 2                                            \n",
       "                               3⎞                                             \n",
       "ᵤₜ + L₁)   2⋅(C₁⋅Rᵢₙ + C₂⋅Rₒᵤₜ) ⎟                                             \n",
       "──────── + ─────────────────────⎟                                             \n",
       "               3   3    3     3 ⎟                                             \n",
       "             C₁ ⋅C₂ ⋅Rᵢₙ ⋅Rₒᵤₜ  ⎠       27⋅(Rᵢₙ + Rₒᵤₜ)     9⋅(C₁⋅Rᵢₙ + C₂⋅Rₒᵤ\n",
       "─────────────────────────────────── + ─────────────────── - ──────────────────\n",
       "                                      2⋅C₁⋅C₂⋅L₁⋅Rᵢₙ⋅Rₒᵤₜ                     \n",
       "                                                                           2⋅C\n",
       "\n",
       "                                                                              \n",
       "                                                                              \n",
       "                                                                              \n",
       "                                                                              \n",
       "                                                                              \n",
       "                                                                              \n",
       "                                                                              \n",
       "                                                             ⎛  1   √3⋅ⅈ⎞     \n",
       "                                                             ⎜- ─ - ────⎟⋅   ╱\n",
       "                                                             ⎝  2    2  ⎠ 3 ╱ \n",
       "                                                                          ╲╱  \n",
       "────────────────────────────────────────────────────────── - ─────────────────\n",
       "__________________________________________________________                    \n",
       "                                                                              \n",
       "                                                                              \n",
       "                                                                              \n",
       "                                                                              \n",
       "                                                                              \n",
       "                                                        3                     \n",
       "ₜ)⋅(C₁⋅Rᵢₙ⋅Rₒᵤₜ + C₂⋅Rᵢₙ⋅Rₒᵤₜ + L₁)   (C₁⋅Rᵢₙ + C₂⋅Rₒᵤₜ)                      \n",
       "─────────────────────────────────── + ───────────────────                     \n",
       " 2   2       2     2                     3   3    3     3                     \n",
       "₁ ⋅C₂ ⋅L₁⋅Rᵢₙ ⋅Rₒᵤₜ                    C₁ ⋅C₂ ⋅Rᵢₙ ⋅Rₒᵤₜ                      \n",
       "\n",
       "       _______________________________________________________________________\n",
       "      ╱        _______________________________________________________________\n",
       "     ╱        ╱                                                               \n",
       "    ╱        ╱      ⎛                                                         \n",
       "   ╱        ╱       ⎜  3⋅(C₁⋅Rᵢₙ⋅Rₒᵤₜ + C₂⋅Rᵢₙ⋅Rₒᵤₜ + L₁)   (C₁⋅Rᵢₙ + C₂⋅Rₒᵤₜ)\n",
       "  ╱        ╱    - 4⋅⎜- ────────────────────────────────── + ──────────────────\n",
       " ╱        ╱         ⎜          C₁⋅C₂⋅L₁⋅Rᵢₙ⋅Rₒᵤₜ               2   2    2     \n",
       "╱       ╲╱          ⎝                                        C₁ ⋅C₂ ⋅Rᵢₙ ⋅Rₒᵤₜ\n",
       "        ──────────────────────────────────────────────────────────────────────\n",
       "                                                                              \n",
       "                                                                              \n",
       "──────────────────────────────────────────────────────────────────────────────\n",
       "                                                                              \n",
       "                                                                              \n",
       "                                                                              \n",
       "                                                                              \n",
       "                                                                              \n",
       "                                                                              \n",
       "                                                                              \n",
       "                                                                              \n",
       "                                                                              \n",
       "                                                                              \n",
       "                                                                              \n",
       "\n",
       "______________________________________________________________________________\n",
       "______________________________________________________________________________\n",
       "  3                                                                           \n",
       "2⎞    ⎛                                                                       \n",
       " ⎟    ⎜ 27⋅(Rᵢₙ + Rₒᵤₜ)    9⋅(C₁⋅Rᵢₙ + C₂⋅Rₒᵤₜ)⋅(C₁⋅Rᵢₙ⋅Rₒᵤₜ + C₂⋅Rᵢₙ⋅Rₒᵤₜ + L\n",
       "─⎟  + ⎜───────────────── - ───────────────────────────────────────────────────\n",
       "2⎟    ⎜C₁⋅C₂⋅L₁⋅Rᵢₙ⋅Rₒᵤₜ                     2   2       2     2              \n",
       " ⎠    ⎝                                    C₁ ⋅C₂ ⋅L₁⋅Rᵢₙ ⋅Rₒᵤₜ               \n",
       "──────────────────────────────────────────────────────────────────────────────\n",
       "                  2                                                           \n",
       "                                                                              \n",
       "──────────────────────────────────────────────────────────────────────────────\n",
       "                                                        3                     \n",
       "                                                                              \n",
       "                                                                              \n",
       "                                                                              \n",
       "                                                                              \n",
       "                                                                              \n",
       "                                                                              \n",
       "                                                                              \n",
       "                                                                              \n",
       "                                                                              \n",
       "                                                                              \n",
       "\n",
       "______________________________________________________________________________\n",
       "_____________________________                                                 \n",
       "                           2                                                  \n",
       "                         3⎞                                                   \n",
       "₁)   2⋅(C₁⋅Rᵢₙ + C₂⋅Rₒᵤₜ) ⎟                                                   \n",
       "── + ─────────────────────⎟                                                   \n",
       "         3   3    3     3 ⎟                                                   \n",
       "       C₁ ⋅C₂ ⋅Rᵢₙ ⋅Rₒᵤₜ  ⎠       27⋅(Rᵢₙ + Rₒᵤₜ)     9⋅(C₁⋅Rᵢₙ + C₂⋅Rₒᵤₜ)⋅(C₁\n",
       "───────────────────────────── + ─────────────────── - ────────────────────────\n",
       "                                2⋅C₁⋅C₂⋅L₁⋅Rᵢₙ⋅Rₒᵤₜ                      2   2\n",
       "                                                                     2⋅C₁ ⋅C₂ \n",
       "──────────────────────────────────────────────────────────────────────────────\n",
       "                                                                              \n",
       "                                                                              \n",
       "                                                                              \n",
       "                                                                              \n",
       "                                                                              \n",
       "                                                                              \n",
       "                                                                              \n",
       "                                                                              \n",
       "                                                                              \n",
       "                                                                              \n",
       "                                                                              \n",
       "\n",
       "____________________________________________________                          \n",
       "                                                                              \n",
       "                                                                              \n",
       "                                                                              \n",
       "                                                                              \n",
       "                                                                              \n",
       "                                                  3                           \n",
       "⋅Rᵢₙ⋅Rₒᵤₜ + C₂⋅Rᵢₙ⋅Rₒᵤₜ + L₁)   (C₁⋅Rᵢₙ + C₂⋅Rₒᵤₜ)                            \n",
       "───────────────────────────── + ───────────────────                           \n",
       "       2     2                     3   3    3     3                           \n",
       "⋅L₁⋅Rᵢₙ ⋅Rₒᵤₜ                    C₁ ⋅C₂ ⋅Rᵢₙ ⋅Rₒᵤₜ     C₁⋅Rᵢₙ + C₂⋅Rₒᵤₜ       \n",
       "──────────────────────────────────────────────────── - ────────────────, - ───\n",
       "                                                       3⋅C₁⋅C₂⋅Rᵢₙ⋅Rₒᵤₜ       \n",
       "                                                                              \n",
       "                                                                              \n",
       "                                                                              \n",
       "                                                                              \n",
       "                                                                              \n",
       "                                                                              \n",
       "                                                                             ⎛\n",
       "                                                                           3⋅⎜\n",
       "                                                                             ⎝\n",
       "                                                                              \n",
       "\n",
       "                                                                              \n",
       "                                                                              \n",
       "                                                                              \n",
       "                                                                              \n",
       "                                                                              \n",
       "                                                                              \n",
       "                                                                              \n",
       "                                                                              \n",
       "                                                                              \n",
       "                                                                              \n",
       "                                                                              \n",
       "──────────────────────────────────────────────────────────────────────────────\n",
       "                       _______________________________________________________\n",
       "                      ╱        _______________________________________________\n",
       "                     ╱        ╱                                               \n",
       "                    ╱        ╱      ⎛                                         \n",
       "                   ╱        ╱       ⎜  3⋅(C₁⋅Rᵢₙ⋅Rₒᵤₜ + C₂⋅Rᵢₙ⋅Rₒᵤₜ + L₁)   (C\n",
       "                  ╱        ╱    - 4⋅⎜- ────────────────────────────────── + ──\n",
       "                 ╱        ╱         ⎜          C₁⋅C₂⋅L₁⋅Rᵢₙ⋅Rₒᵤₜ              \n",
       "  1   √3⋅ⅈ⎞     ╱       ╲╱          ⎝                                        C\n",
       "- ─ + ────⎟⋅   ╱        ──────────────────────────────────────────────────────\n",
       "  2    2  ⎠ 3 ╱                                                               \n",
       "            ╲╱                                                                \n",
       "\n",
       "                                                                              \n",
       "                                                                              \n",
       "                                                                              \n",
       "                                                                              \n",
       "                                                                              \n",
       "                                                                              \n",
       "                                                                              \n",
       "                                             3⋅(C₁⋅Rᵢₙ⋅Rₒᵤₜ + C₂⋅Rᵢₙ⋅Rₒᵤₜ + L₁\n",
       "                                           - ─────────────────────────────────\n",
       "                                                     C₁⋅C₂⋅L₁⋅Rᵢₙ⋅Rₒᵤₜ        \n",
       "                                                                              \n",
       "──────────────────────────────────────────────────────────────────────────────\n",
       "______________________________________________________________________________\n",
       "______________________________________________________________________________\n",
       "                  3                                                           \n",
       "                2⎞    ⎛                                                       \n",
       "₁⋅Rᵢₙ + C₂⋅Rₒᵤₜ) ⎟    ⎜ 27⋅(Rᵢₙ + Rₒᵤₜ)    9⋅(C₁⋅Rᵢₙ + C₂⋅Rₒᵤₜ)⋅(C₁⋅Rᵢₙ⋅Rₒᵤₜ +\n",
       "─────────────────⎟  + ⎜───────────────── - ───────────────────────────────────\n",
       " 2   2    2     2⎟    ⎜C₁⋅C₂⋅L₁⋅Rᵢₙ⋅Rₒᵤₜ                     2   2       2    \n",
       "₁ ⋅C₂ ⋅Rᵢₙ ⋅Rₒᵤₜ ⎠    ⎝                                    C₁ ⋅C₂ ⋅L₁⋅Rᵢₙ ⋅Rₒᵤ\n",
       "──────────────────────────────────────────────────────────────────────────────\n",
       "                                  2                                           \n",
       "                                                                              \n",
       "\n",
       "                                                                              \n",
       "                                                                              \n",
       "                                                                              \n",
       "                                                                              \n",
       "                                                                              \n",
       "                                                                              \n",
       "                      2                                                       \n",
       ")   (C₁⋅Rᵢₙ + C₂⋅Rₒᵤₜ)                                                        \n",
       "─ + ───────────────────                                                       \n",
       "       2   2    2     2                                                       \n",
       "     C₁ ⋅C₂ ⋅Rᵢₙ ⋅Rₒᵤₜ                                                        \n",
       "──────────────────────────────────────────────────────────────────────────────\n",
       "______________________________________________________________________________\n",
       "_____________________________________________                                 \n",
       "                                           2                                  \n",
       "                                         3⎞                                   \n",
       " C₂⋅Rᵢₙ⋅Rₒᵤₜ + L₁)   2⋅(C₁⋅Rᵢₙ + C₂⋅Rₒᵤₜ) ⎟                                   \n",
       "────────────────── + ─────────────────────⎟                                   \n",
       " 2                       3   3    3     3 ⎟                                   \n",
       "ₜ                      C₁ ⋅C₂ ⋅Rᵢₙ ⋅Rₒᵤₜ  ⎠       27⋅(Rᵢₙ + Rₒᵤₜ)     9⋅(C₁⋅Rᵢ\n",
       "───────────────────────────────────────────── + ─────────────────── - ────────\n",
       "                                                2⋅C₁⋅C₂⋅L₁⋅Rᵢₙ⋅Rₒᵤₜ           \n",
       "                                                                              \n",
       "\n",
       "                                                                              \n",
       "                                                                              \n",
       "                                                                              \n",
       "                                                                              \n",
       "                                                                              \n",
       "                                                                              \n",
       "                                                                              \n",
       "                                                                       ⎛  1   \n",
       "                                                                       ⎜- ─ + \n",
       "                                                                       ⎝  2   \n",
       "                                                                              \n",
       "──────────────────────────────────────────────────────────────────── - ───────\n",
       "____________________________________________________________________          \n",
       "                                                                              \n",
       "                                                                              \n",
       "                                                                              \n",
       "                                                                              \n",
       "                                                                              \n",
       "                                                                  3           \n",
       "ₙ + C₂⋅Rₒᵤₜ)⋅(C₁⋅Rᵢₙ⋅Rₒᵤₜ + C₂⋅Rᵢₙ⋅Rₒᵤₜ + L₁)   (C₁⋅Rᵢₙ + C₂⋅Rₒᵤₜ)            \n",
       "───────────────────────────────────────────── + ───────────────────           \n",
       "           2   2       2     2                     3   3    3     3           \n",
       "       2⋅C₁ ⋅C₂ ⋅L₁⋅Rᵢₙ ⋅Rₒᵤₜ                    C₁ ⋅C₂ ⋅Rᵢₙ ⋅Rₒᵤₜ            \n",
       "\n",
       "                 _____________________________________________________________\n",
       "                ╱        _____________________________________________________\n",
       "               ╱        ╱                                                     \n",
       "              ╱        ╱      ⎛                                               \n",
       "             ╱        ╱       ⎜  3⋅(C₁⋅Rᵢₙ⋅Rₒᵤₜ + C₂⋅Rᵢₙ⋅Rₒᵤₜ + L₁)   (C₁⋅Rᵢₙ \n",
       "            ╱        ╱    - 4⋅⎜- ────────────────────────────────── + ────────\n",
       "           ╱        ╱         ⎜          C₁⋅C₂⋅L₁⋅Rᵢₙ⋅Rₒᵤₜ               2   2\n",
       "√3⋅ⅈ⎞     ╱       ╲╱          ⎝                                        C₁ ⋅C₂ \n",
       "────⎟⋅   ╱        ────────────────────────────────────────────────────────────\n",
       " 2  ⎠ 3 ╱                                                                     \n",
       "      ╲╱                                                                      \n",
       "──────────────────────────────────────────────────────────────────────────────\n",
       "                                                                              \n",
       "                                                                              \n",
       "                                                                              \n",
       "                                                                              \n",
       "                                                                              \n",
       "                                                                              \n",
       "                                                                              \n",
       "                                                                              \n",
       "                                                                              \n",
       "                                                                              \n",
       "                                                                              \n",
       "\n",
       "______________________________________________________________________________\n",
       "______________________________________________________________________________\n",
       "            3                                                                 \n",
       "          2⎞    ⎛                                                             \n",
       "+ C₂⋅Rₒᵤₜ) ⎟    ⎜ 27⋅(Rᵢₙ + Rₒᵤₜ)    9⋅(C₁⋅Rᵢₙ + C₂⋅Rₒᵤₜ)⋅(C₁⋅Rᵢₙ⋅Rₒᵤₜ + C₂⋅Rᵢ\n",
       "───────────⎟  + ⎜───────────────── - ─────────────────────────────────────────\n",
       "    2     2⎟    ⎜C₁⋅C₂⋅L₁⋅Rᵢₙ⋅Rₒᵤₜ                     2   2       2     2    \n",
       "⋅Rᵢₙ ⋅Rₒᵤₜ ⎠    ⎝                                    C₁ ⋅C₂ ⋅L₁⋅Rᵢₙ ⋅Rₒᵤₜ     \n",
       "──────────────────────────────────────────────────────────────────────────────\n",
       "                            2                                                 \n",
       "                                                                              \n",
       "──────────────────────────────────────────────────────────────────────────────\n",
       "                                                                  3           \n",
       "                                                                              \n",
       "                                                                              \n",
       "                                                                              \n",
       "                                                                              \n",
       "                                                                              \n",
       "                                                                              \n",
       "                                                                              \n",
       "                                                                              \n",
       "                                                                              \n",
       "                                                                              \n",
       "\n",
       "______________________________________________________________________________\n",
       "_______________________________________                                       \n",
       "                                     2                                        \n",
       "                                   3⎞                                         \n",
       "ₙ⋅Rₒᵤₜ + L₁)   2⋅(C₁⋅Rᵢₙ + C₂⋅Rₒᵤₜ) ⎟                                         \n",
       "──────────── + ─────────────────────⎟                                         \n",
       "                   3   3    3     3 ⎟                                         \n",
       "                 C₁ ⋅C₂ ⋅Rᵢₙ ⋅Rₒᵤₜ  ⎠       27⋅(Rᵢₙ + Rₒᵤₜ)     9⋅(C₁⋅Rᵢₙ + C₂\n",
       "─────────────────────────────────────── + ─────────────────── - ──────────────\n",
       "                                          2⋅C₁⋅C₂⋅L₁⋅Rᵢₙ⋅Rₒᵤₜ                 \n",
       "                                                                              \n",
       "──────────────────────────────────────────────────────────────────────────────\n",
       "                                                                              \n",
       "                                                                              \n",
       "                                                                              \n",
       "                                                                              \n",
       "                                                                              \n",
       "                                                                              \n",
       "                                                                              \n",
       "                                                                              \n",
       "                                                                              \n",
       "                                                                              \n",
       "                                                                              \n",
       "\n",
       "______________________________________________________________                \n",
       "                                                                              \n",
       "                                                                              \n",
       "                                                                              \n",
       "                                                                              \n",
       "                                                                              \n",
       "                                                            3                 \n",
       "⋅Rₒᵤₜ)⋅(C₁⋅Rᵢₙ⋅Rₒᵤₜ + C₂⋅Rᵢₙ⋅Rₒᵤₜ + L₁)   (C₁⋅Rᵢₙ + C₂⋅Rₒᵤₜ)                  \n",
       "─────────────────────────────────────── + ───────────────────                 \n",
       "     2   2       2     2                     3   3    3     3                 \n",
       " 2⋅C₁ ⋅C₂ ⋅L₁⋅Rᵢₙ ⋅Rₒᵤₜ                    C₁ ⋅C₂ ⋅Rᵢₙ ⋅Rₒᵤₜ     C₁⋅Rᵢₙ + C₂⋅R\n",
       "────────────────────────────────────────────────────────────── - ─────────────\n",
       "                                                                 3⋅C₁⋅C₂⋅Rᵢₙ⋅R\n",
       "                                                                              \n",
       "                                                                              \n",
       "                                                                              \n",
       "                                                                              \n",
       "                                                                              \n",
       "                                                                              \n",
       "                                                                              \n",
       "                                                                              \n",
       "                                                                              \n",
       "                                                                              \n",
       "\n",
       "   ⎤\n",
       "   ⎥\n",
       "   ⎥\n",
       "   ⎥\n",
       "   ⎥\n",
       "   ⎥\n",
       "   ⎥\n",
       "   ⎥\n",
       "   ⎥\n",
       "   ⎥\n",
       "ₒᵤₜ⎥\n",
       "───⎥\n",
       "ₒᵤₜ⎥\n",
       "   ⎥\n",
       "   ⎥\n",
       "   ⎥\n",
       "   ⎥\n",
       "   ⎥\n",
       "   ⎥\n",
       "   ⎥\n",
       "   ⎥\n",
       "   ⎥\n",
       "   ⎦"
      ]
     },
     "execution_count": 85,
     "metadata": {},
     "output_type": "execute_result"
    }
   ],
   "source": [
    "solve(d,s)"
   ]
  },
  {
   "cell_type": "markdown",
   "id": "a5ef3e84-e4fe-4111-b029-4d10018141e5",
   "metadata": {},
   "source": [
    "## Summary\n",
    "\n",
    "- FACTS method is applicable to low order circuits\n",
    "- The assurtion that brute force is complicated and error prone is not true if computer algebra tools are used. The same proported advantages of using FACTS, that is, less math, less algebra and some insight into the circuit operation are available with SMNA, since the computer does all the heavy lifting.\n",
    "- Python based symbolic MNA code provides an easy and less error prone method of obtaining solutions to network problems. \n",
    "\n",
    "<!--"
   ]
  },
  {
   "cell_type": "code",
   "execution_count": 91,
   "id": "0594555f-ba5e-415a-842d-acca44b049d2",
   "metadata": {},
   "outputs": [
    {
     "ename": "NameError",
     "evalue": "name 'stop' is not defined",
     "output_type": "error",
     "traceback": [
      "\u001b[0;31m---------------------------------------------------------------------------\u001b[0m",
      "\u001b[0;31mNameError\u001b[0m                                 Traceback (most recent call last)",
      "Cell \u001b[0;32mIn[91], line 1\u001b[0m\n\u001b[0;32m----> 1\u001b[0m \u001b[43mstop\u001b[49m\n",
      "\u001b[0;31mNameError\u001b[0m: name 'stop' is not defined"
     ]
    }
   ],
   "source": [
    "stop"
   ]
  },
  {
   "cell_type": "markdown",
   "id": "afe906a1-708f-4bd9-be7b-bc812ce67c28",
   "metadata": {
    "tags": []
   },
   "source": [
    "## Using Easy method\n",
    "simple substitution\n",
    "\n",
    "```\n",
    "* C:\\users\\jeff64\\My Documents\\Solving Electrical Engineering Problems with Python Blog\\MNA Problem Circuits\\Pi-filter\\Pi-Filter-FACTS.asc\n",
    "V1 3 0 1\n",
    "R_in 1 3 1\n",
    "R_out 2 0 1\n",
    "R§Z1 1 0 Series R1, L1 & C1\n",
    "R§Z2 2 1 Series Ra & (L2 || C2 || R2)\n",
    "R§Z3 2 0 Series R3, L3 & C3\n",
    ".op\n",
    ".backanno\n",
    ".end\n",
    "```"
   ]
  },
  {
   "cell_type": "code",
   "execution_count": null,
   "id": "0d201679-0858-4617-88be-ce8424aa0f92",
   "metadata": {},
   "outputs": [],
   "source": [
    "net_list = '''\n",
    "V1 3 0 1\n",
    "R_in 1 3 1\n",
    "R_out 2 0 1\n",
    "R1 1 0 1\n",
    "R2 2 1 1\n",
    "R3 2 0 1\n",
    "'''"
   ]
  },
  {
   "cell_type": "markdown",
   "id": "6a998fa6-cb2b-4e4b-b69f-890f31d29b6f",
   "metadata": {},
   "source": [
    "## Call the symbolic modified nodal analysis function\n"
   ]
  },
  {
   "cell_type": "code",
   "execution_count": null,
   "id": "3f637447-b944-44e4-8856-413cb3518c82",
   "metadata": {},
   "outputs": [],
   "source": [
    "report, network_df, i_unk_df, A, X, Z = SymMNA.smna(net_list)"
   ]
  },
  {
   "cell_type": "markdown",
   "id": "991fff07-db86-40c2-bba3-2551a789f343",
   "metadata": {},
   "source": [
    "The network equations for the circuit can be obtained from the A, X and Z values returned from the smna function. The A, X and Z are formulated into equations and displayed below. Markdown is an IPython function and latex is a SymPy printing function."
   ]
  },
  {
   "cell_type": "code",
   "execution_count": null,
   "id": "7654f281-a313-46c3-adb5-aec9ce528b80",
   "metadata": {},
   "outputs": [],
   "source": [
    "# reform X and Z into Matrix type for printing\n",
    "Xp = Matrix(X)\n",
    "Zp = Matrix(Z)\n",
    "temp = ''\n",
    "for i in range(len(X)):\n",
    "    temp += '${:s}$<br>'.format(latex(Eq((A*Xp)[i:i+1][0],Zp[i])))\n",
    "\n",
    "Markdown(temp)"
   ]
  },
  {
   "cell_type": "markdown",
   "id": "04715630-eb29-4d9a-8e0c-69054c6de923",
   "metadata": {},
   "source": [
    "### Build the network equation matrix"
   ]
  },
  {
   "cell_type": "code",
   "execution_count": null,
   "id": "a230a009-feda-46db-b904-31291309d6ac",
   "metadata": {},
   "outputs": [],
   "source": [
    "# Put matrices into SymPy \n",
    "X = Matrix(X)\n",
    "Z = Matrix(Z)\n",
    "\n",
    "NE_sym = Eq(A*X,Z)\n",
    "NE_sym"
   ]
  },
  {
   "cell_type": "code",
   "execution_count": null,
   "id": "386249c2-eace-45d4-9416-b741f0b628f6",
   "metadata": {},
   "outputs": [],
   "source": [
    "# turn the free symbols into SymPy variables\n",
    "var(str(NE_sym.free_symbols).replace('{','').replace('}',''))"
   ]
  },
  {
   "cell_type": "markdown",
   "id": "ecaccad3-8188-4c6b-b758-c6f79c672ac3",
   "metadata": {},
   "source": [
    "## Symbolic solution\n",
    "The network equations can be solved symbolically. "
   ]
  },
  {
   "cell_type": "code",
   "execution_count": null,
   "id": "175ba2df-b0f4-4ebd-85a7-cac78af0b32f",
   "metadata": {},
   "outputs": [],
   "source": [
    "U_sym = solve(NE_sym,X)"
   ]
  },
  {
   "cell_type": "markdown",
   "id": "d4dc880c-1ba0-4db3-a306-9bef6133f923",
   "metadata": {},
   "source": [
    "Display the symbolic solution"
   ]
  },
  {
   "cell_type": "code",
   "execution_count": null,
   "id": "db11997e-122d-4faf-8717-fd0df1038037",
   "metadata": {},
   "outputs": [],
   "source": [
    "temp = ''\n",
    "for i in U_sym.keys():\n",
    "    temp += '${:s} = {:s}$<br>'.format(latex(i),latex(U_sym[i]))\n",
    "\n",
    "Markdown(temp)"
   ]
  },
  {
   "cell_type": "markdown",
   "id": "635c0932-abe1-4ea7-99e3-c33ef5f706e0",
   "metadata": {},
   "source": [
    "## Transfer function"
   ]
  },
  {
   "cell_type": "code",
   "execution_count": null,
   "id": "0020151d-be0d-4e35-8ff9-0bca9cee65f8",
   "metadata": {},
   "outputs": [],
   "source": [
    "U_sym[v2]/U_sym[v3]"
   ]
  },
  {
   "cell_type": "code",
   "execution_count": null,
   "id": "9e442328-f63c-4eaa-bb1b-5eadd1f43088",
   "metadata": {},
   "outputs": [],
   "source": [
    "H_sym_1  = (U_sym[v2]/U_sym[v3]).simplify()\n",
    "H_sym_1"
   ]
  },
  {
   "cell_type": "markdown",
   "id": "1184c7d9-8b8c-482e-b311-22b64f822f40",
   "metadata": {},
   "source": [
    "Substitue "
   ]
  },
  {
   "cell_type": "code",
   "execution_count": null,
   "id": "4f355643-16a6-409e-ae4d-b91c958383b5",
   "metadata": {},
   "outputs": [],
   "source": [
    "Z1_sym"
   ]
  },
  {
   "cell_type": "code",
   "execution_count": null,
   "id": "02824176-b530-417d-a27c-60541074b72a",
   "metadata": {},
   "outputs": [],
   "source": [
    "Z2_sym"
   ]
  },
  {
   "cell_type": "code",
   "execution_count": null,
   "id": "0b866d85-d0d2-4a4b-8931-8810f78b05ab",
   "metadata": {},
   "outputs": [],
   "source": [
    "Z3_sym"
   ]
  },
  {
   "cell_type": "code",
   "execution_count": null,
   "id": "da33b58c-1b47-49c0-aa19-433239a70ff3",
   "metadata": {},
   "outputs": [],
   "source": [
    "H_sym_1a = H_sym_1.subs({R1:Z1_sym,R2:Z2_sym,R3:Z3_sym})\n",
    "H_sym_1a"
   ]
  },
  {
   "cell_type": "code",
   "execution_count": null,
   "id": "8e19453d-a4a3-4f82-9537-d97f987297dd",
   "metadata": {},
   "outputs": [],
   "source": [
    "H_sym_1a.simplify()"
   ]
  },
  {
   "cell_type": "code",
   "execution_count": null,
   "id": "5d080617-19d1-4609-afc1-68841159ba9e",
   "metadata": {},
   "outputs": [],
   "source": []
  },
  {
   "cell_type": "code",
   "execution_count": null,
   "id": "e50f5d5b-0953-44e4-bd94-dc93e9a429db",
   "metadata": {},
   "outputs": [],
   "source": [
    "H_1a = H_sym_1a.subs({V1: 1.0, R_in: 1.0, R1: 0.001, Ra: 0.002, R2: 2000.0, R3: 0.001, R_out: 1.0, L1: 0.001, L2: 2, L3: 0.001, C1: 1, C2: 0.002, C3: 1})\n",
    "H_1a"
   ]
  },
  {
   "cell_type": "code",
   "execution_count": null,
   "id": "a88372c6-f267-458a-982f-ae06d652a32c",
   "metadata": {},
   "outputs": [],
   "source": [
    "H_1a = H_1a.nsimplify().simplify().expand().together()\n",
    "H_1a"
   ]
  },
  {
   "cell_type": "code",
   "execution_count": null,
   "id": "43836033-8d6c-4f31-aa1d-8eb4934f1a74",
   "metadata": {
    "collapsed": false,
    "jupyter": {
     "outputs_hidden": false
    }
   },
   "outputs": [],
   "source": [
    "H_1a_num, H_1a_denom = fraction(H_1a) #returns numerator and denominator\n",
    "\n",
    "# convert symbolic to NumPy polynomial\n",
    "H_1a_a = np.array(Poly(H_1a_num, s).all_coeffs(), dtype=float)\n",
    "H_1a_b = np.array(Poly(H_1a_denom, s).all_coeffs(), dtype=float)\n",
    "H_1a_sys = signal.TransferFunction(H_1a_a,H_1a_b)\n",
    "H_1a_w, H_1a_mag, H_1a_phase = signal.bode(H_1a_sys, w=x) # returns: rad/s, mag in dB, phase in deg"
   ]
  },
  {
   "cell_type": "code",
   "execution_count": null,
   "id": "5ed42179-fb2c-4af6-b1e2-5bd0ee1e6c42",
   "metadata": {},
   "outputs": [],
   "source": [
    "fig, ax1 = plt.subplots()\n",
    "ax1.set_ylabel('magnitude, dB')\n",
    "ax1.set_xlabel('frequency, Hz')\n",
    "\n",
    "plt.semilogx(frequency, 20*np.log10(np.abs(voltage)),'-k')    # LTSpice magnitude plot\n",
    "plt.semilogx(w/(2*np.pi), mag,'-b')    # MNA magnitude plot\n",
    "plt.semilogx(w_franc/(2*np.pi), mag_franc,'-r')    # Franc magnitude plot\n",
    "plt.semilogx(H_1a_w/(2*np.pi), H_1a_mag,'-g')    # easy magnitude plot\n",
    "\n",
    "ax1.tick_params(axis='y')\n",
    "#ax1.set_ylim((-30,20))\n",
    "plt.grid()\n",
    "\n",
    "# instantiate a second y-axes that shares the same x-axis\n",
    "ax2 = ax1.twinx()\n",
    "color = 'b'\n",
    "\n",
    "plt.semilogx(frequency, np.unwrap(2*np.angle(voltage)/2) *180/np.pi,':',color='k',label='LTSpice')  # LTSpice phase plot\n",
    "plt.semilogx(w/(2*np.pi), phase,':',color='b',label='MNA')  # MNA phase plot\n",
    "plt.semilogx(w_franc/(2*np.pi), phase_franc,':',color='r',label='Franc')  # Franc phase plot\n",
    "plt.semilogx(H_1a_w/(2*np.pi), H_1a_phase,':',color='g',label='easy')  # easy phase plot\n",
    "\n",
    "ax2.set_ylabel('phase, deg',color=color)\n",
    "ax2.tick_params(axis='y', labelcolor=color)\n",
    "#ax2.set_ylim((-5,25))\n",
    "\n",
    "ax2.plot(np.NaN, np.NaN, color='k', label='LTSpice')\n",
    "ax2.plot(np.NaN, np.NaN, color='b', label='MNA')\n",
    "ax2.plot(np.NaN, np.NaN, color='r', label='FACTS')\n",
    "ax2.plot(np.NaN, np.NaN, color='g', label='easy')\n",
    "\n",
    "plt.legend()\n",
    "plt.title('Magnitude and phase response')\n",
    "plt.show()"
   ]
  },
  {
   "cell_type": "code",
   "execution_count": null,
   "id": "2ba26fb0-d403-4345-bbaa-ff7d36b96a22",
   "metadata": {},
   "outputs": [],
   "source": [
    "H"
   ]
  },
  {
   "cell_type": "code",
   "execution_count": null,
   "id": "7d1bc904-6b52-4e86-aac0-8848ae07e3ce",
   "metadata": {},
   "outputs": [],
   "source": [
    "H_facts"
   ]
  },
  {
   "cell_type": "code",
   "execution_count": null,
   "id": "32f8c3ca-6c99-4cf2-afc0-9957a772ff2d",
   "metadata": {},
   "outputs": [],
   "source": [
    "H_1a"
   ]
  },
  {
   "cell_type": "code",
   "execution_count": null,
   "id": "46df85d7-0f50-4418-881f-83d71e7315db",
   "metadata": {},
   "outputs": [],
   "source": []
  },
  {
   "cell_type": "code",
   "execution_count": null,
   "id": "25caad2a-cfcd-4aa7-9a5e-5ae2eae89387",
   "metadata": {},
   "outputs": [],
   "source": [
    "fig, ax1 = plt.subplots()\n",
    "ax1.set_ylabel('magnitude, dB')\n",
    "ax1.set_xlabel('frequency, Hz')\n",
    "\n",
    "plt.semilogx(frequency, 20*np.log10(np.abs(voltage)),'-k')    # LTSpice magnitude plot\n",
    "plt.semilogx(w/(2*np.pi), mag,'-b')    # MNA magnitude plot\n",
    "plt.semilogx(w_franc/(2*np.pi), mag_franc,'-r')    # FACTS magnitude plot\n",
    "\n",
    "ax1.tick_params(axis='y')\n",
    "#ax1.set_ylim((-30,20))\n",
    "plt.grid()\n",
    "\n",
    "# instantiate a second y-axes that shares the same x-axis\n",
    "ax2 = ax1.twinx()\n",
    "color = 'b'\n",
    "\n",
    "plt.semilogx(frequency, np.unwrap(2*np.angle(voltage)/2) *180/np.pi,':',color='k',label='LTSpice')  # LTSpice phase plot\n",
    "plt.semilogx(w/(2*np.pi), phase,':',color='b',label='MNA')  # MNA phase plot\n",
    "plt.semilogx(w_franc/(2*np.pi), phase_franc,':',color='r',label='Franc')  # FACTS phase plot\n",
    "\n",
    "ax2.set_ylabel('phase, deg',color=color)\n",
    "ax2.tick_params(axis='y', labelcolor=color)\n",
    "#ax2.set_ylim((-5,25))\n",
    "\n",
    "ax2.plot(np.NaN, np.NaN, color='k', label='LTSpice')\n",
    "ax2.plot(np.NaN, np.NaN, color='b', label='MNA')\n",
    "ax2.plot(np.NaN, np.NaN, color='r', label='Franc')\n",
    "\n",
    "plt.legend()\n",
    "plt.title('Magnitude and phase response')\n",
    "plt.show()"
   ]
  },
  {
   "cell_type": "markdown",
   "id": "ccf4b161-3b6a-4ea3-869e-630af3ea4020",
   "metadata": {},
   "source": [
    "## Z1\n",
    "```\n",
    "V1 1 0 1 AC 1\n",
    "R1 1 2 1\n",
    "L1 2 3 1 Rser=0\n",
    "C1 3 0 1\n",
    "```"
   ]
  },
  {
   "cell_type": "code",
   "execution_count": null,
   "id": "b928e209-4c86-4150-b089-fa72436bcf36",
   "metadata": {},
   "outputs": [],
   "source": [
    "net_list = '''\n",
    "V1 1 0 1\n",
    "R1 1 2 1\n",
    "L1 2 3 1\n",
    "C1 3 0 1\n",
    "'''"
   ]
  },
  {
   "cell_type": "markdown",
   "id": "216b480e-96b9-4edb-837c-f9b55c47ce33",
   "metadata": {},
   "source": [
    "## Call the symbolic modified nodal analysis function\n"
   ]
  },
  {
   "cell_type": "code",
   "execution_count": null,
   "id": "c8551147-d279-4116-9ecf-87bc8566d5a4",
   "metadata": {},
   "outputs": [],
   "source": [
    "report, network_df, i_unk_df, A, X, Z = SymMNA.smna(net_list)"
   ]
  },
  {
   "cell_type": "markdown",
   "id": "7857e58e-e99f-4cb1-a6cb-1c7ea8e0142c",
   "metadata": {},
   "source": [
    "The network equations for the circuit can be obtained from the A, X and Z values returned from the smna function. The A, X and Z are formulated into equations and displayed below. Markdown is an IPython function and latex is a SymPy printing function."
   ]
  },
  {
   "cell_type": "code",
   "execution_count": null,
   "id": "7cd1f424-0e63-4a86-b1c2-345b023e7e6a",
   "metadata": {},
   "outputs": [],
   "source": [
    "# reform X and Z into Matrix type for printing\n",
    "Xp = Matrix(X)\n",
    "Zp = Matrix(Z)\n",
    "temp = ''\n",
    "for i in range(len(X)):\n",
    "    temp += '${:s}$<br>'.format(latex(Eq((A*Xp)[i:i+1][0],Zp[i])))\n",
    "\n",
    "Markdown(temp)"
   ]
  },
  {
   "cell_type": "markdown",
   "id": "162dc117-9398-4782-86fb-3b5dfb0e5ca6",
   "metadata": {},
   "source": [
    "### Build the network equation matrix"
   ]
  },
  {
   "cell_type": "code",
   "execution_count": null,
   "id": "f30f3f93-ecec-436d-a165-61ee30f4ae87",
   "metadata": {},
   "outputs": [],
   "source": [
    "# Put matrices into SymPy \n",
    "X = Matrix(X)\n",
    "Z = Matrix(Z)\n",
    "\n",
    "NE_sym = Eq(A*X,Z)\n",
    "NE_sym"
   ]
  },
  {
   "cell_type": "code",
   "execution_count": null,
   "id": "4d69ec4c-e16a-4634-937f-27c2f06e84d7",
   "metadata": {},
   "outputs": [],
   "source": [
    "# turn the free symbols into SymPy variables\n",
    "var(str(NE_sym.free_symbols).replace('{','').replace('}',''))"
   ]
  },
  {
   "cell_type": "markdown",
   "id": "5ec0e870-0db6-4f1d-8088-03324361fa2e",
   "metadata": {},
   "source": [
    "## Symbolic solution\n",
    "The network equations can be solved symbolically. "
   ]
  },
  {
   "cell_type": "code",
   "execution_count": null,
   "id": "99a4468c-8ddc-48e9-85da-eed31adf2ff7",
   "metadata": {},
   "outputs": [],
   "source": [
    "U_sym = solve(NE_sym,X)"
   ]
  },
  {
   "cell_type": "markdown",
   "id": "2ef1e224-8868-4b68-b152-cfb08a5e3b83",
   "metadata": {},
   "source": [
    "Display the symbolic solution"
   ]
  },
  {
   "cell_type": "code",
   "execution_count": null,
   "id": "92ad8fc1-bae1-4efc-91ac-02061d785f7a",
   "metadata": {},
   "outputs": [],
   "source": [
    "temp = ''\n",
    "for i in U_sym.keys():\n",
    "    temp += '${:s} = {:s}$<br>'.format(latex(i),latex(U_sym[i]))\n",
    "\n",
    "Markdown(temp)"
   ]
  },
  {
   "cell_type": "code",
   "execution_count": null,
   "id": "4d57d244-29ed-4698-872b-4c2a3269003f",
   "metadata": {},
   "outputs": [],
   "source": [
    "U_sym"
   ]
  },
  {
   "cell_type": "markdown",
   "id": "8f1dc31c-0dbd-4d82-a849-b8516e4a3a49",
   "metadata": {},
   "source": [
    "## Transfer function"
   ]
  },
  {
   "cell_type": "code",
   "execution_count": null,
   "id": "880c2677-29a2-4fa8-84c6-e96c74fc33ea",
   "metadata": {},
   "outputs": [],
   "source": [
    "U_sym[v1]/U_sym[I_V1]"
   ]
  },
  {
   "cell_type": "code",
   "execution_count": null,
   "id": "d2127ffe-b27c-4be5-9716-b2e1ca7a5f5e",
   "metadata": {},
   "outputs": [],
   "source": [
    "(U_sym[v1]/U_sym[I_V1]).simplify()"
   ]
  },
  {
   "cell_type": "code",
   "execution_count": null,
   "id": "b4d878b8-d769-4837-a3a5-764c7033c023",
   "metadata": {},
   "outputs": [],
   "source": [
    "Z1_sym"
   ]
  },
  {
   "cell_type": "code",
   "execution_count": null,
   "id": "4c467359-ee65-4180-ad59-e3ebfe67957a",
   "metadata": {},
   "outputs": [],
   "source": []
  },
  {
   "cell_type": "markdown",
   "id": "7e5ce44c-caa7-42f9-8558-626fe9809ef1",
   "metadata": {},
   "source": [
    "## Z2\n",
    "```\n",
    "V1 1 0 1 AC 1\n",
    "Ra 2 1 1\n",
    "R2 0 2 1\n",
    "L2 2 0 1 Rser=0\n",
    "C2 0 2 1\n",
    "```"
   ]
  },
  {
   "cell_type": "code",
   "execution_count": null,
   "id": "52923d6d-15c5-4c36-b8d6-732e01f2e362",
   "metadata": {},
   "outputs": [],
   "source": [
    "net_list = '''\n",
    "V1 1 0 1\n",
    "Ra 2 1 1\n",
    "R2 0 2 1\n",
    "L2 2 0 1\n",
    "C2 0 2 1\n",
    "'''"
   ]
  },
  {
   "cell_type": "markdown",
   "id": "7a762f36-e41c-4f6d-98ac-be8b97cce9ee",
   "metadata": {},
   "source": [
    "## Call the symbolic modified nodal analysis function\n"
   ]
  },
  {
   "cell_type": "code",
   "execution_count": null,
   "id": "65986bad-9856-4721-af19-191807428cfc",
   "metadata": {},
   "outputs": [],
   "source": [
    "report, network_df, i_unk_df, A, X, Z = SymMNA.smna(net_list)"
   ]
  },
  {
   "cell_type": "markdown",
   "id": "cc19bff9-ae30-4b38-8aa7-1c444b714409",
   "metadata": {},
   "source": [
    "The network equations for the circuit can be obtained from the A, X and Z values returned from the smna function. The A, X and Z are formulated into equations and displayed below. Markdown is an IPython function and latex is a SymPy printing function."
   ]
  },
  {
   "cell_type": "code",
   "execution_count": null,
   "id": "201c0fa3-349a-49d6-bc0a-9154b0094f79",
   "metadata": {},
   "outputs": [],
   "source": [
    "# reform X and Z into Matrix type for printing\n",
    "Xp = Matrix(X)\n",
    "Zp = Matrix(Z)\n",
    "temp = ''\n",
    "for i in range(len(X)):\n",
    "    temp += '${:s}$<br>'.format(latex(Eq((A*Xp)[i:i+1][0],Zp[i])))\n",
    "\n",
    "Markdown(temp)"
   ]
  },
  {
   "cell_type": "markdown",
   "id": "29b1168d-6529-4ed4-88f5-39b1aac53b3b",
   "metadata": {},
   "source": [
    "### Build the network equation matrix"
   ]
  },
  {
   "cell_type": "code",
   "execution_count": null,
   "id": "7b0e2398-b4e0-4902-a494-9c06f36be98d",
   "metadata": {},
   "outputs": [],
   "source": [
    "# Put matrices into SymPy \n",
    "X = Matrix(X)\n",
    "Z = Matrix(Z)\n",
    "\n",
    "NE_sym = Eq(A*X,Z)\n",
    "NE_sym"
   ]
  },
  {
   "cell_type": "code",
   "execution_count": null,
   "id": "a68f39c2-564e-4ca6-8020-cf6f73f76e3a",
   "metadata": {},
   "outputs": [],
   "source": [
    "# turn the free symbols into SymPy variables\n",
    "var(str(NE_sym.free_symbols).replace('{','').replace('}',''))"
   ]
  },
  {
   "cell_type": "markdown",
   "id": "6caf93ca-9620-4226-afda-6eabeb4eaed6",
   "metadata": {},
   "source": [
    "## Symbolic solution\n",
    "The network equations can be solved symbolically. "
   ]
  },
  {
   "cell_type": "code",
   "execution_count": null,
   "id": "e4790bb0-de4a-4f14-977d-f2c0713f153d",
   "metadata": {},
   "outputs": [],
   "source": [
    "U_sym = solve(NE_sym,X)"
   ]
  },
  {
   "cell_type": "markdown",
   "id": "2cd60e85-c631-4cd7-b4bd-50586d70c4be",
   "metadata": {},
   "source": [
    "Display the symbolic solution"
   ]
  },
  {
   "cell_type": "code",
   "execution_count": null,
   "id": "1b6016fa-1795-467e-b4d6-7249529a3494",
   "metadata": {},
   "outputs": [],
   "source": [
    "temp = ''\n",
    "for i in U_sym.keys():\n",
    "    temp += '${:s} = {:s}$<br>'.format(latex(i),latex(U_sym[i]))\n",
    "\n",
    "Markdown(temp)"
   ]
  },
  {
   "cell_type": "code",
   "execution_count": null,
   "id": "be9ace1e-6f88-45f8-817a-6f01dab5ea3b",
   "metadata": {},
   "outputs": [],
   "source": [
    "U_sym"
   ]
  },
  {
   "cell_type": "markdown",
   "id": "91bffc67-96fe-48e4-9e67-40af206c467f",
   "metadata": {},
   "source": [
    "## Transfer function"
   ]
  },
  {
   "cell_type": "code",
   "execution_count": null,
   "id": "cd3a8648-ca52-43c5-9e69-3d5e8a7ca8e0",
   "metadata": {},
   "outputs": [],
   "source": [
    "U_sym[v1]/U_sym[I_V1]"
   ]
  },
  {
   "cell_type": "code",
   "execution_count": null,
   "id": "9b070b49-3434-4951-a36f-3462ee57966d",
   "metadata": {},
   "outputs": [],
   "source": [
    "(U_sym[v1]/U_sym[I_V1]).simplify().expand().together()"
   ]
  },
  {
   "cell_type": "code",
   "execution_count": null,
   "id": "2d9b6ab2-c30a-469d-abd8-91a68abb2754",
   "metadata": {},
   "outputs": [],
   "source": [
    "(U_sym[v1]/U_sym[I_V1]).simplify().expand().together()"
   ]
  },
  {
   "cell_type": "code",
   "execution_count": null,
   "id": "67aedf01-4b5c-4b57-9955-0f9e066c3e6c",
   "metadata": {},
   "outputs": [],
   "source": [
    "(-1*U_sym[v1]/U_sym[I_V1]).simplify().expand().together()"
   ]
  },
  {
   "cell_type": "code",
   "execution_count": null,
   "id": "1782499e-cbf8-4363-8315-193a55a486a5",
   "metadata": {},
   "outputs": [],
   "source": [
    "Z2_sym"
   ]
  },
  {
   "cell_type": "code",
   "execution_count": null,
   "id": "2dfcc974-9ff9-4684-96e3-0d2e0b702a11",
   "metadata": {},
   "outputs": [],
   "source": [
    "Z2_sym.simplify().expand().together()"
   ]
  },
  {
   "cell_type": "code",
   "execution_count": null,
   "id": "0bd29a82-dc7d-49fa-a91b-7063300189a6",
   "metadata": {},
   "outputs": [],
   "source": []
  },
  {
   "cell_type": "code",
   "execution_count": null,
   "id": "ed8930d4-3dc1-43c0-adb2-705b6cf9f090",
   "metadata": {},
   "outputs": [],
   "source": [
    "(Ra+1/(1/(1/(s*C2)) + 1/(s*L2) + 1/R2)).simplify().expand().together()"
   ]
  },
  {
   "cell_type": "code",
   "execution_count": null,
   "id": "033909a3-81d9-4b00-a5bd-00054925905d",
   "metadata": {},
   "outputs": [],
   "source": []
  },
  {
   "cell_type": "code",
   "execution_count": null,
   "id": "3d9e0a50-0de0-4b4c-841a-b1326c4a5857",
   "metadata": {},
   "outputs": [],
   "source": []
  },
  {
   "cell_type": "markdown",
   "id": "7ea6d96e-ffb4-4dd3-81d2-2b927fa2b32e",
   "metadata": {},
   "source": [
    "## Z3\n",
    "```\n",
    "V1 1 0 1 AC 1\n",
    "R3 1 2 1\n",
    "L3 2 3 1 Rser=0\n",
    "C3 3 0 1\n",
    "```"
   ]
  },
  {
   "cell_type": "code",
   "execution_count": null,
   "id": "6edf118c-c38f-4567-903a-77fc7d3d64d2",
   "metadata": {},
   "outputs": [],
   "source": [
    "net_list = '''\n",
    "V1 1 0 1\n",
    "R3 1 2 1\n",
    "L3 2 3 1\n",
    "C3 3 0 1\n",
    "'''"
   ]
  },
  {
   "cell_type": "markdown",
   "id": "796b5797-8616-4eed-bf55-4340c12fadeb",
   "metadata": {},
   "source": [
    "## Call the symbolic modified nodal analysis function\n"
   ]
  },
  {
   "cell_type": "code",
   "execution_count": null,
   "id": "0e3c8f68-d020-46a4-be5a-2deada996631",
   "metadata": {},
   "outputs": [],
   "source": [
    "report, network_df, i_unk_df, A, X, Z = SymMNA.smna(net_list)"
   ]
  },
  {
   "cell_type": "markdown",
   "id": "c5c8a2d0-f6b8-42e4-ae81-e04188c09505",
   "metadata": {},
   "source": [
    "The network equations for the circuit can be obtained from the A, X and Z values returned from the smna function. The A, X and Z are formulated into equations and displayed below. Markdown is an IPython function and latex is a SymPy printing function."
   ]
  },
  {
   "cell_type": "code",
   "execution_count": null,
   "id": "a36218f2-ad5c-410f-91ff-e2cce1a284b9",
   "metadata": {},
   "outputs": [],
   "source": [
    "# reform X and Z into Matrix type for printing\n",
    "Xp = Matrix(X)\n",
    "Zp = Matrix(Z)\n",
    "temp = ''\n",
    "for i in range(len(X)):\n",
    "    temp += '${:s}$<br>'.format(latex(Eq((A*Xp)[i:i+1][0],Zp[i])))\n",
    "\n",
    "Markdown(temp)"
   ]
  },
  {
   "cell_type": "markdown",
   "id": "728f3640-4082-4626-b742-04e4f8571caa",
   "metadata": {},
   "source": [
    "### Build the network equation matrix"
   ]
  },
  {
   "cell_type": "code",
   "execution_count": null,
   "id": "db5f6373-47c6-446e-b9b9-e0e13035900a",
   "metadata": {},
   "outputs": [],
   "source": [
    "# Put matrices into SymPy \n",
    "X = Matrix(X)\n",
    "Z = Matrix(Z)\n",
    "\n",
    "NE_sym = Eq(A*X,Z)\n",
    "NE_sym"
   ]
  },
  {
   "cell_type": "code",
   "execution_count": null,
   "id": "4d79dc1e-2eaf-43e7-aef8-9c4ca5d44935",
   "metadata": {},
   "outputs": [],
   "source": [
    "# turn the free symbols into SymPy variables\n",
    "var(str(NE_sym.free_symbols).replace('{','').replace('}',''))"
   ]
  },
  {
   "cell_type": "markdown",
   "id": "432b8001-59cc-4b36-813d-831b5bc7e3d8",
   "metadata": {},
   "source": [
    "## Symbolic solution\n",
    "The network equations can be solved symbolically. "
   ]
  },
  {
   "cell_type": "code",
   "execution_count": null,
   "id": "5539025d-e758-41e3-b136-cd858fdd496d",
   "metadata": {},
   "outputs": [],
   "source": [
    "U_sym = solve(NE_sym,X)"
   ]
  },
  {
   "cell_type": "markdown",
   "id": "b1884d0f-f5ae-4f76-9f1a-de11fc771bf5",
   "metadata": {},
   "source": [
    "Display the symbolic solution"
   ]
  },
  {
   "cell_type": "code",
   "execution_count": null,
   "id": "a3b18218-a277-4b04-b65b-b1e5fcbe4a1c",
   "metadata": {},
   "outputs": [],
   "source": [
    "temp = ''\n",
    "for i in U_sym.keys():\n",
    "    temp += '${:s} = {:s}$<br>'.format(latex(i),latex(U_sym[i]))\n",
    "\n",
    "Markdown(temp)"
   ]
  },
  {
   "cell_type": "code",
   "execution_count": null,
   "id": "4606c583-e2e4-4ba7-8ae8-61e176ee88e1",
   "metadata": {},
   "outputs": [],
   "source": [
    "U_sym"
   ]
  },
  {
   "cell_type": "markdown",
   "id": "23284740-b02b-4c4d-88c6-6df2431f63ac",
   "metadata": {},
   "source": [
    "## Transfer function"
   ]
  },
  {
   "cell_type": "code",
   "execution_count": null,
   "id": "54d332bd-0b4c-4bfa-a370-78a75ad4ad44",
   "metadata": {},
   "outputs": [],
   "source": [
    "U_sym[v1]/U_sym[I_V1]"
   ]
  },
  {
   "cell_type": "code",
   "execution_count": null,
   "id": "b2c20a38-db43-419e-968f-da98e2f7d97c",
   "metadata": {},
   "outputs": [],
   "source": [
    "(U_sym[v1]/U_sym[I_V1]).simplify() #.expand().together()"
   ]
  },
  {
   "cell_type": "code",
   "execution_count": null,
   "id": "cb3303b5-c91c-4648-925a-7720a153dbd2",
   "metadata": {},
   "outputs": [],
   "source": [
    "Z3_sym"
   ]
  },
  {
   "cell_type": "code",
   "execution_count": null,
   "id": "474ea4b0-d769-4d90-a6c3-182971fe400d",
   "metadata": {},
   "outputs": [],
   "source": [
    "Z3_sym.simplify() #.expand().together()"
   ]
  },
  {
   "cell_type": "code",
   "execution_count": null,
   "id": "9685ec0b-8305-4132-a4e2-88c9f1c1bc16",
   "metadata": {},
   "outputs": [],
   "source": []
  },
  {
   "cell_type": "code",
   "execution_count": null,
   "id": "969ffe08-cee5-412a-a282-6fab40e7105f",
   "metadata": {},
   "outputs": [],
   "source": []
  },
  {
   "cell_type": "code",
   "execution_count": null,
   "id": "73a22ce0-1112-4c19-ad8e-ba2d06ecacf4",
   "metadata": {},
   "outputs": [],
   "source": []
  },
  {
   "cell_type": "markdown",
   "id": "6f0c40c4-0965-4a9a-b37c-4d3c8d8a00d1",
   "metadata": {},
   "source": [
    "# Reduced complexity circuit w/o R source and load\n",
    "```\n",
    "* C:\\users\\jeff64\\My Documents\\Solving Electrical Engineering Problems with Python Blog\\MNA Problem Circuits\\Pi-filter\\Pi-Filter-FACTS-Simplified-wo-source-load-R.asc\n",
    "V1 1 0 1 AC 1\n",
    "C1 1 0 1\n",
    "C2 2 0 2\n",
    "L1 1 2 2\n",
    ";op\n",
    ".ac dec 1000 0.01 100\n",
    ".backanno\n",
    ".end\n",
    "\n",
    "```"
   ]
  },
  {
   "cell_type": "code",
   "execution_count": null,
   "id": "89b692a7-7405-4e7a-a2dd-510f7b40fb72",
   "metadata": {},
   "outputs": [],
   "source": [
    "net_list = '''\n",
    "V1 1 0 1\n",
    "C1 1 0 1\n",
    "C2 2 0 1\n",
    "L1 1 2 1\n",
    "'''"
   ]
  },
  {
   "cell_type": "markdown",
   "id": "02c0f741-0e37-4c2a-acac-fd192449021a",
   "metadata": {},
   "source": [
    "## Call the symbolic modified nodal analysis function\n"
   ]
  },
  {
   "cell_type": "code",
   "execution_count": null,
   "id": "721e71db-850e-46de-88a4-2f005b3ecacf",
   "metadata": {},
   "outputs": [],
   "source": [
    "report, network_df, i_unk_df, A, X, Z = SymMNA.smna(net_list)"
   ]
  },
  {
   "cell_type": "markdown",
   "id": "50905844-d9fc-4da1-a0a5-55de03abe148",
   "metadata": {},
   "source": [
    "The network equations for the circuit can be obtained from the A, X and Z values returned from the smna function. The A, X and Z are formulated into equations and displayed below. Markdown is an IPython function and latex is a SymPy printing function."
   ]
  },
  {
   "cell_type": "code",
   "execution_count": null,
   "id": "e158f088-2928-4452-8b60-3d6fedb1831c",
   "metadata": {},
   "outputs": [],
   "source": [
    "# reform X and Z into Matrix type for printing\n",
    "Xp = Matrix(X)\n",
    "Zp = Matrix(Z)\n",
    "temp = ''\n",
    "for i in range(len(X)):\n",
    "    temp += '${:s}$<br>'.format(latex(Eq((A*Xp)[i:i+1][0],Zp[i])))\n",
    "\n",
    "Markdown(temp)"
   ]
  },
  {
   "cell_type": "markdown",
   "id": "f74abb2d-dc42-4e0e-8527-0abb20c30c9e",
   "metadata": {},
   "source": [
    "### Build the network equation matrix"
   ]
  },
  {
   "cell_type": "code",
   "execution_count": null,
   "id": "de385e06-761d-406d-8e50-b8856f01ff2f",
   "metadata": {},
   "outputs": [],
   "source": [
    "# Put matrices into SymPy \n",
    "X = Matrix(X)\n",
    "Z = Matrix(Z)\n",
    "\n",
    "NE_sym = Eq(A*X,Z)\n",
    "NE_sym"
   ]
  },
  {
   "cell_type": "code",
   "execution_count": null,
   "id": "a94cae7d-a298-449a-8427-1bbc6ef7f36c",
   "metadata": {},
   "outputs": [],
   "source": [
    "# turn the free symbols into SymPy variables\n",
    "var(str(NE_sym.free_symbols).replace('{','').replace('}',''))"
   ]
  },
  {
   "cell_type": "markdown",
   "id": "8d24a61d-3210-4f44-aa91-dad8e3204917",
   "metadata": {},
   "source": [
    "## Symbolic solution\n",
    "The network equations can be solved symbolically. "
   ]
  },
  {
   "cell_type": "code",
   "execution_count": null,
   "id": "ed551bad-044a-4128-9cfe-0af89775799b",
   "metadata": {},
   "outputs": [],
   "source": [
    "U_sym = solve(NE_sym,X)"
   ]
  },
  {
   "cell_type": "markdown",
   "id": "ca2b4e85-e3de-4021-a492-9c9cb3725ce5",
   "metadata": {},
   "source": [
    "Display the symbolic solution"
   ]
  },
  {
   "cell_type": "code",
   "execution_count": null,
   "id": "b179d203-70eb-466f-8943-cb80f2f9bfee",
   "metadata": {},
   "outputs": [],
   "source": [
    "temp = ''\n",
    "for i in U_sym.keys():\n",
    "    temp += '${:s} = {:s}$<br>'.format(latex(i),latex(U_sym[i]))\n",
    "\n",
    "Markdown(temp)"
   ]
  },
  {
   "cell_type": "markdown",
   "id": "0c07f96c-940b-40e8-824f-76c081ba2e62",
   "metadata": {},
   "source": [
    "## Transfer function"
   ]
  },
  {
   "cell_type": "code",
   "execution_count": null,
   "id": "cd368430-9b75-44f1-b88d-8129ce4f6b22",
   "metadata": {},
   "outputs": [],
   "source": [
    "U_sym[v2]/U_sym[v1]"
   ]
  },
  {
   "cell_type": "code",
   "execution_count": null,
   "id": "ea955499-77cd-487f-b6c2-eda4acb9715b",
   "metadata": {},
   "outputs": [],
   "source": [
    "H_sym_1  = (U_sym[v2]/U_sym[v1]).simplify()\n",
    "H_sym_1"
   ]
  },
  {
   "cell_type": "code",
   "execution_count": null,
   "id": "e3549fd9-22e2-4edf-861c-1c3300d4cb7e",
   "metadata": {},
   "outputs": [],
   "source": []
  },
  {
   "cell_type": "code",
   "execution_count": null,
   "id": "360f601f-025a-4ef6-ba75-443845b82d2b",
   "metadata": {},
   "outputs": [],
   "source": [
    "n, d = fraction(H_sym_1)\n",
    "display('numerator', n, 'denominator', d)"
   ]
  },
  {
   "cell_type": "markdown",
   "id": "8aa3dc7f-b499-4225-b8a9-a98af63ad46c",
   "metadata": {},
   "source": [
    "Solve for the roots of the numberator."
   ]
  },
  {
   "cell_type": "code",
   "execution_count": null,
   "id": "7709baae-1918-49a4-9b99-b228800cd702",
   "metadata": {},
   "outputs": [],
   "source": [
    "n.simplify().expand()"
   ]
  },
  {
   "cell_type": "code",
   "execution_count": null,
   "id": "114feec6-0813-40cf-82a7-4e999744bc55",
   "metadata": {},
   "outputs": [],
   "source": [
    "solve(n.simplify().expand(),s)"
   ]
  },
  {
   "cell_type": "markdown",
   "id": "5b476cbb-f932-42a2-9889-5fbe33ed63b6",
   "metadata": {},
   "source": [
    "We can see that there are six zeros in the transfer function. Here can see what components are influncing the zeros. Once of the gaols of the FACTS method was to determine the zeros of the network.\n",
    "\n",
    "Solve for the roots of the denominator"
   ]
  },
  {
   "cell_type": "code",
   "execution_count": null,
   "id": "6e58b1f3-274d-4bef-a953-d7ddc652beb8",
   "metadata": {},
   "outputs": [],
   "source": [
    "d.simplify().expand().together()\n",
    "#d.simplify().expand()"
   ]
  },
  {
   "cell_type": "code",
   "execution_count": null,
   "id": "a4de9dfc-1f24-4f35-bb22-d2f85e1a4270",
   "metadata": {},
   "outputs": [],
   "source": [
    "solve(d,s)"
   ]
  },
  {
   "cell_type": "raw",
   "id": "5ed2f331-ca9d-4808-9bf8-6ecfecf3c0d0",
   "metadata": {},
   "source": [
    "-->"
   ]
  },
  {
   "cell_type": "code",
   "execution_count": null,
   "id": "bc30ff45-ca5b-4cae-91f7-d01d65d9aefe",
   "metadata": {},
   "outputs": [],
   "source": []
  }
 ],
 "metadata": {
  "kernelspec": {
   "display_name": "Python 3 (ipykernel)",
   "language": "python",
   "name": "python3"
  },
  "language_info": {
   "codemirror_mode": {
    "name": "ipython",
    "version": 3
   },
   "file_extension": ".py",
   "mimetype": "text/x-python",
   "name": "python",
   "nbconvert_exporter": "python",
   "pygments_lexer": "ipython3",
   "version": "3.10.9"
  }
 },
 "nbformat": 4,
 "nbformat_minor": 5
}
