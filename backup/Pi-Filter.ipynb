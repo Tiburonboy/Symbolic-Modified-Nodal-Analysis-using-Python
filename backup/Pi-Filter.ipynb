{
 "cells": [
  {
   "cell_type": "raw",
   "id": "002cae08-875b-47b6-af47-8c2e6dde9c52",
   "metadata": {},
   "source": [
    "---\n",
    "title:\n",
    "format: \n",
    "    html:\n",
    "        code-fold: false\n",
    "        embed-resources: false\n",
    "        code-tools: true\n",
    "        number-sections: true\n",
    "jupyter: python3\n",
    "---"
   ]
  },
  {
   "cell_type": "markdown",
   "id": "3ccab27a-1282-4e44-958c-6e6407bb2b06",
   "metadata": {},
   "source": [
    "# Pi-filter\n",
    "Last update: 12 Feb 2024  \n",
    "\n",
    "![Pi filter](Pi-Filter.png){#fig-pi-filter}  \n"
   ]
  },
  {
   "cell_type": "markdown",
   "id": "333d6032-bff5-4ab0-a0f3-4528a69bdeed",
   "metadata": {},
   "source": [
    "## Introduction\n",
    "\n",
    "[electronics stackexchange](https://electronics.stackexchange.com/)\n",
    "\n",
    "Question posted on Electronics Stackexchange by @user15174 asked: \n",
    "\n",
    ">Am trying to apply the FACTS method to find out the transfer function for this circuit as shown below. This is a Pi-filter circuit with all its component parasitics and also including the source and load resistances. I would like to find out the transfer function of this circuit and match its plot from Mathcad with simulation.\n",
    "\n",
    "The FACTS reference is from @basso2016\n",
    "\n",
    "https://electronics.stackexchange.com/questions/681002/how-to-find-transfer-function-for-this-pi-filter-using-facts-method-with-6-react/681087#681087\n",
    "\n",
    "\n",
    "\n",
    "Get a list of references.\n",
    "\n",
    "\n",
    "What is the FACTS method?  See presentation for somewhat of an explination\n",
    "\n",
    "- Brute-force algebra complicates analysis  \n",
    "- More energy is needed to unveil these terms  \n",
    "- factor and rearrange coefficients  \n",
    "- simplify numerator and denominator  \n",
    "- Don’t make mistakes!  \n",
    "\n",
    "This is a high-entropy expression  \n",
    "\n",
    "- What if you could write the expression in one shot?  \n",
    "- Naturally reading gains, poles and zeros...  \n",
    "- This is a low-entropy expression  \n",
    "\n",
    "- Fast Analytical Techniques at a Glance  \n",
    "- Look at the circuit for s = 0  \n",
    "- Capacitor are open circuited  \n",
    "- Inductors are short circuited  \n",
    "- SPICE operating point calculation  \n",
    "- Determine the gain in this condition\n",
    "\n",
    "\n",
    "- Plotting a transfer function is easy with nowadays tools\n",
    "- You have no insight on what affects poles or zeros\n",
    "- Analytical analysis is important but the form matters\n",
    "- A low-entropy expression unveils contributors to poles/zeros\n",
    "- FACTs naturally lead to low-entropy expressions\n",
    "- Break the circuit into simple schematics\n",
    "- Determine time constants in each configuration\n",
    "- Small-signal analysis makes extensive use of FACTs\n",
    "- SPICE and Mathcad are useful instruments to track errors\n",
    "- Becoming skilled with FACT requires practice and tenacity!\n",
    "\n",
    "\n",
    "@fig-pi-filter\n",
    "\n",
    "- why this circuit?\n",
    "- what if parisidic elements are set to zero?\n",
    "\n",
    "\n",
    "\n",
    "\n",
    "## Circuit description\n",
    "\n",
    "## Circuit analysis\n",
    " \n",
    "- find the transfer function\n",
    "\n",
    "\n",
    "The net list for the filter is:\n",
    "```\n",
    "V1 8 0 1\n",
    "R1 1 8 1\n",
    "R2 1 4 1\n",
    "R3 3 1 1\n",
    "R4 2 3 1\n",
    "R5 2 6 1\n",
    "R6 2 0 1\n",
    "L1 4 5 1 Rser=0\n",
    "L2 3 2 1 Rser=0\n",
    "L3 6 7 1 Rser=0\n",
    "C1 5 0 1\n",
    "C2 2 3 1\n",
    "C3 7 0 1\n",
    "```\n",
    "\n",
    "The following Python modules are used."
   ]
  },
  {
   "cell_type": "code",
   "execution_count": 1,
   "id": "82d2408a-1ab4-42fa-8f0b-f7b5f7d9a9e3",
   "metadata": {
    "collapsed": false,
    "jupyter": {
     "outputs_hidden": false
    }
   },
   "outputs": [],
   "source": [
    "from sympy import *\n",
    "import numpy as np\n",
    "from tabulate import tabulate\n",
    "import pandas as pd\n",
    "from scipy import signal\n",
    "import matplotlib.pyplot as plt\n",
    "import SymMNA\n",
    "from IPython.display import display, Markdown, Math, Latex\n",
    "init_printing()"
   ]
  },
  {
   "cell_type": "markdown",
   "id": "559219ce-be0e-4964-9222-0ccb294e80be",
   "metadata": {},
   "source": [
    "## FACTs\n",
    "Write the impedances for each of the legs on the pi network\n",
    "\n",
    "Franc's answer walks through the FACTS method\n",
    "\n",
    "\n",
    "### References\n",
    "\n",
    "Methods of Design Oriented Analysis](https://www.scribd.com/document/422935307/Methods-of-design-oriented-analysis)\n",
    "\n",
    "@Middlebrook1992, Methods of Design-Oriented Analysis: The Quadratic Equation Revisited\n",
    "\n",
    "@Middlebrook1991, Low-entropy expressions: the key to design-oriented analysis\n",
    "\n",
    "@basso2016, Introduction to Fast Analytical Techniques: Application to Small-Signal Modeling\n",
    "\n",
    "<!--\n",
    "Methods of DE~sign-Oriented Analysis: The Quadratic Equation Revisited\n",
    "@INPROCEEDINGS{Middlebrook1992,\n",
    "  author={Middlebrook, R.D.},\n",
    "  booktitle={Proceedings. Twenty-Second Annual conference Frontiers in Education}, \n",
    "  title={Methods of Design-Oriented Analysis: The Quadratic Equation Revisited}, \n",
    "  year={1992},\n",
    "  pages={95-102},\n",
    "  doi={10.1109/FIE.1992.683365}\n",
    "}\n",
    "\n",
    "Low-entropy expressions: the key to design-oriented analysis\n",
    "@INPROCEEDINGS{Middlebrook1991,\n",
    "  author={Middlebrook, R.D.},\n",
    "  booktitle={Proceedings Frontiers in Education Twenty-First Annual Conference. Engineering Education in a New World Order}, \n",
    "  title={Low-entropy expressions: the key to design-oriented analysis}, \n",
    "  year={1991},\n",
    "  pages={399-403},\n",
    "  doi={10.1109/FIE.1991.187513}\n",
    "}\n",
    "\n",
    "@online{basso2016,\n",
    "    author = {Basso, Christophe},\n",
    "    title = {Introduction to Fast Analytical Techniques: Application to Small-Signal Modeling},\n",
    "    url  = {https://www.powersimtof.com/Downloads/PPTs/Chris%20Basso%20APEC%20seminar%202016.pdf},\n",
    "    year={2016},\n",
    "    addendum = {accessed 12 Feb 2024}\n",
    "}\n",
    "\n",
    "-->\n",
    "\n",
    "[Introduction to Fast Analytical Techniques: Application to Small-Signal Modeling](https://www.powersimtof.com/Downloads/PPTs/Chris%20Basso%20APEC%20seminar%202016.pdf)\n",
    "\n",
    "\n",
    "Three components in series\n",
    "```\n",
    "Z1 = R2 + L1 + C1\n",
    "\n",
    "Z2 = R3 + (L2 || C2 || R4)\n",
    "\n",
    "Z3 = R5 + L3 + C3\n",
    "```\n",
    "\n",
    "symbols](https://docs.sympy.org/latest/tutorials/intro-tutorial/gotchas.html#symbols)\n",
    "\n",
    "symbols takes a string of variable names separated by spaces or commas, and creates Symbols out of them.\n"
   ]
  },
  {
   "cell_type": "code",
   "execution_count": 19,
   "id": "a9356673-a6bb-4ca3-8310-7cdc75d07a01",
   "metadata": {},
   "outputs": [],
   "source": [
    "L1, L2, L3, R1, R2, R3, R4, R5, R6, C1, C2, C3, s = symbols('L1, L2, L3, R1, R2, R3, R4, R5, R6, C1, C2, C3, s')"
   ]
  },
  {
   "cell_type": "code",
   "execution_count": 20,
   "id": "1f51daa9-eea1-4195-af24-d7b84a02a7c2",
   "metadata": {},
   "outputs": [],
   "source": [
    "Z1 = R2+s*L1+1/(s*C1)"
   ]
  },
  {
   "cell_type": "code",
   "execution_count": 21,
   "id": "bdf41161-a5ec-4b18-8f20-6cc1cbd129a3",
   "metadata": {},
   "outputs": [
    {
     "data": {
      "image/png": "[encoded data removed]",
      "text/latex": [
       "$\\displaystyle \\left[ \\frac{- C_{1} R_{2} - \\sqrt{C_{1} \\left(C_{1} R_{2}^{2} - 4 L_{1}\\right)}}{2 C_{1} L_{1}}, \\  \\frac{- C_{1} R_{2} + \\sqrt{C_{1} \\left(C_{1} R_{2}^{2} - 4 L_{1}\\right)}}{2 C_{1} L_{1}}\\right]$"
      ],
      "text/plain": [
       "⎡            ____________________              ____________________⎤\n",
       "⎢           ╱    ⎛     2       ⎞              ╱    ⎛     2       ⎞ ⎥\n",
       "⎢-C₁⋅R₂ - ╲╱  C₁⋅⎝C₁⋅R₂  - 4⋅L₁⎠   -C₁⋅R₂ + ╲╱  C₁⋅⎝C₁⋅R₂  - 4⋅L₁⎠ ⎥\n",
       "⎢────────────────────────────────, ────────────────────────────────⎥\n",
       "⎣            2⋅C₁⋅L₁                           2⋅C₁⋅L₁             ⎦"
      ]
     },
     "execution_count": 21,
     "metadata": {},
     "output_type": "execute_result"
    }
   ],
   "source": [
    "solve(Z1,s)"
   ]
  },
  {
   "cell_type": "code",
   "execution_count": null,
   "id": "f658e6fb-55e9-4cf1-9c92-add4710abb9f",
   "metadata": {},
   "outputs": [],
   "source": []
  },
  {
   "cell_type": "code",
   "execution_count": 22,
   "id": "5e16c7f3-be2f-43f2-ac56-4689e8388182",
   "metadata": {},
   "outputs": [],
   "source": [
    "Z2 = R3 + (s*L2*(1/(s*C2))*R4)/(1/(s*C2)+s*L2+R4)    # products over sums of (L2 || C2 || R4) plus R3, "
   ]
  },
  {
   "cell_type": "code",
   "execution_count": 23,
   "id": "0f8c10e0-01b8-4812-b1c7-38d54d0a4193",
   "metadata": {},
   "outputs": [
    {
     "data": {
      "image/png": "[encoded data removed]",
      "text/latex": [
       "$\\displaystyle R_{3} + \\frac{L_{2} R_{4}}{C_{2} \\left(L_{2} s + R_{4} + \\frac{1}{C_{2} s}\\right)}$"
      ],
      "text/plain": [
       "             L₂⋅R₄        \n",
       "R₃ + ─────────────────────\n",
       "        ⎛             1  ⎞\n",
       "     C₂⋅⎜L₂⋅s + R₄ + ────⎟\n",
       "        ⎝            C₂⋅s⎠"
      ]
     },
     "execution_count": 23,
     "metadata": {},
     "output_type": "execute_result"
    }
   ],
   "source": [
    "Z2"
   ]
  },
  {
   "cell_type": "code",
   "execution_count": 24,
   "id": "cba162f4-a2fc-48b3-8bd9-c541dd3b93f3",
   "metadata": {},
   "outputs": [
    {
     "data": {
      "image/png": "[encoded data removed]",
      "text/latex": [
       "$\\displaystyle \\left[ \\frac{- R_{4} \\left(C_{2} R_{3} + L_{2}\\right) - \\sqrt{C_{2}^{2} R_{3}^{2} R_{4}^{2} - 4 C_{2} L_{2} R_{3}^{2} + 2 C_{2} L_{2} R_{3} R_{4}^{2} + L_{2}^{2} R_{4}^{2}}}{2 C_{2} L_{2} R_{3}}, \\  \\frac{- R_{4} \\left(C_{2} R_{3} + L_{2}\\right) + \\sqrt{C_{2}^{2} R_{3}^{2} R_{4}^{2} - 4 C_{2} L_{2} R_{3}^{2} + 2 C_{2} L_{2} R_{3} R_{4}^{2} + L_{2}^{2} R_{4}^{2}}}{2 C_{2} L_{2} R_{3}}\\right]$"
      ],
      "text/plain": [
       "⎡                      ______________________________________________________ \n",
       "⎢                     ╱   2   2   2             2                2     2   2  \n",
       "⎢-R₄⋅(C₂⋅R₃ + L₂) - ╲╱  C₂ ⋅R₃ ⋅R₄  - 4⋅C₂⋅L₂⋅R₃  + 2⋅C₂⋅L₂⋅R₃⋅R₄  + L₂ ⋅R₄   \n",
       "⎢────────────────────────────────────────────────────────────────────────────,\n",
       "⎣                                 2⋅C₂⋅L₂⋅R₃                                  \n",
       "\n",
       "                       ______________________________________________________⎤\n",
       "                      ╱   2   2   2             2                2     2   2 ⎥\n",
       " -R₄⋅(C₂⋅R₃ + L₂) + ╲╱  C₂ ⋅R₃ ⋅R₄  - 4⋅C₂⋅L₂⋅R₃  + 2⋅C₂⋅L₂⋅R₃⋅R₄  + L₂ ⋅R₄  ⎥\n",
       " ────────────────────────────────────────────────────────────────────────────⎥\n",
       "                                  2⋅C₂⋅L₂⋅R₃                                 ⎦"
      ]
     },
     "execution_count": 24,
     "metadata": {},
     "output_type": "execute_result"
    }
   ],
   "source": [
    "solve(Z2,s)"
   ]
  },
  {
   "cell_type": "code",
   "execution_count": null,
   "id": "ed423b61-5273-4543-8a77-6bcaf686183f",
   "metadata": {},
   "outputs": [],
   "source": []
  },
  {
   "cell_type": "code",
   "execution_count": 25,
   "id": "93309e35-1876-4e59-bea1-45754bcfa5af",
   "metadata": {},
   "outputs": [],
   "source": [
    "Z3 = R5+s*L3+1/(s*C3)"
   ]
  },
  {
   "cell_type": "code",
   "execution_count": 26,
   "id": "300291b0-14a2-4b53-a65b-1718fff8db10",
   "metadata": {},
   "outputs": [
    {
     "data": {
      "image/png": "[encoded data removed]",
      "text/latex": [
       "$\\displaystyle \\left[ \\frac{- C_{3} R_{5} - \\sqrt{C_{3} \\left(C_{3} R_{5}^{2} - 4 L_{3}\\right)}}{2 C_{3} L_{3}}, \\  \\frac{- C_{3} R_{5} + \\sqrt{C_{3} \\left(C_{3} R_{5}^{2} - 4 L_{3}\\right)}}{2 C_{3} L_{3}}\\right]$"
      ],
      "text/plain": [
       "⎡            ____________________              ____________________⎤\n",
       "⎢           ╱    ⎛     2       ⎞              ╱    ⎛     2       ⎞ ⎥\n",
       "⎢-C₃⋅R₅ - ╲╱  C₃⋅⎝C₃⋅R₅  - 4⋅L₃⎠   -C₃⋅R₅ + ╲╱  C₃⋅⎝C₃⋅R₅  - 4⋅L₃⎠ ⎥\n",
       "⎢────────────────────────────────, ────────────────────────────────⎥\n",
       "⎣            2⋅C₃⋅L₃                           2⋅C₃⋅L₃             ⎦"
      ]
     },
     "execution_count": 26,
     "metadata": {},
     "output_type": "execute_result"
    }
   ],
   "source": [
    "solve(Z3,s)"
   ]
  },
  {
   "cell_type": "markdown",
   "id": "85e328b0-d98a-4b60-bf98-b857b092dcf1",
   "metadata": {},
   "source": [
    "![Pi filter FACTS](Pi-Filter-facts.png){#fig-pi-filter-facts}  "
   ]
  },
  {
   "cell_type": "markdown",
   "id": "2ea9a659-d896-455b-8b60-4f4580ad31e2",
   "metadata": {},
   "source": [
    "### Transfer function at node 2\n",
    "\n",
    "Pi section is Z1, Z2 and Z3. R6 is the load impedance and R1 is the source impedance.\n",
    "\n",
    "we have (R6 || with Z3)\n",
    "\n",
    "[Z2 + (R6 || with Z3)]\n",
    "\n",
    "```\n",
    "V1 3 0 1\n",
    "R1 1 3 1\n",
    "R6 2 0 1\n",
    "R_Z1 1 0 1\n",
    "R_Z2 2 1 1\n",
    "R_Z3 2 0 1\n",
    "```\n"
   ]
  },
  {
   "cell_type": "code",
   "execution_count": 27,
   "id": "00ec258b-1e4f-4d70-87ea-cb0b050e4e37",
   "metadata": {},
   "outputs": [],
   "source": [
    "H_facts = R6*Z3/(R6*Z2 + R6*Z3 + Z2*Z3)"
   ]
  },
  {
   "cell_type": "code",
   "execution_count": 28,
   "id": "c5a0a791-7105-46e6-a925-414bb81d5461",
   "metadata": {},
   "outputs": [
    {
     "data": {
      "image/png": "[encoded data removed]",
      "text/latex": [
       "$\\displaystyle \\frac{R_{6} \\left(L_{3} s + R_{5} + \\frac{1}{C_{3} s}\\right)}{R_{6} \\left(R_{3} + \\frac{L_{2} R_{4}}{C_{2} \\left(L_{2} s + R_{4} + \\frac{1}{C_{2} s}\\right)}\\right) + R_{6} \\left(L_{3} s + R_{5} + \\frac{1}{C_{3} s}\\right) + \\left(R_{3} + \\frac{L_{2} R_{4}}{C_{2} \\left(L_{2} s + R_{4} + \\frac{1}{C_{2} s}\\right)}\\right) \\left(L_{3} s + R_{5} + \\frac{1}{C_{3} s}\\right)}$"
      ],
      "text/plain": [
       "                                             ⎛             1  ⎞               \n",
       "                                          R₆⋅⎜L₃⋅s + R₅ + ────⎟               \n",
       "                                             ⎝            C₃⋅s⎠               \n",
       "──────────────────────────────────────────────────────────────────────────────\n",
       "   ⎛             L₂⋅R₄        ⎞      ⎛             1  ⎞   ⎛             L₂⋅R₄ \n",
       "R₆⋅⎜R₃ + ─────────────────────⎟ + R₆⋅⎜L₃⋅s + R₅ + ────⎟ + ⎜R₃ + ──────────────\n",
       "   ⎜        ⎛             1  ⎞⎟      ⎝            C₃⋅s⎠   ⎜        ⎛          \n",
       "   ⎜     C₂⋅⎜L₂⋅s + R₄ + ────⎟⎟                           ⎜     C₂⋅⎜L₂⋅s + R₄ \n",
       "   ⎝        ⎝            C₂⋅s⎠⎠                           ⎝        ⎝          \n",
       "\n",
       "                           \n",
       "                           \n",
       "                           \n",
       "───────────────────────────\n",
       "       ⎞ ⎛             1  ⎞\n",
       "───────⎟⋅⎜L₃⋅s + R₅ + ────⎟\n",
       "   1  ⎞⎟ ⎝            C₃⋅s⎠\n",
       "+ ────⎟⎟                   \n",
       "  C₂⋅s⎠⎠                   "
      ]
     },
     "execution_count": 28,
     "metadata": {},
     "output_type": "execute_result"
    }
   ],
   "source": [
    "H_facts"
   ]
  },
  {
   "cell_type": "code",
   "execution_count": 29,
   "id": "1a4bab65-4dc0-4e57-8697-4ca503ec63c5",
   "metadata": {},
   "outputs": [
    {
     "data": {
      "image/png": "[encoded data removed]",
      "text/latex": [
       "$\\displaystyle \\frac{R_{6} \\left(C_{2} s \\left(L_{2} s + R_{4}\\right) + 1\\right) \\left(C_{3} s \\left(L_{3} s + R_{5}\\right) + 1\\right)}{C_{3} R_{6} s \\left(L_{2} R_{4} s + R_{3} \\left(C_{2} s \\left(L_{2} s + R_{4}\\right) + 1\\right)\\right) + R_{6} \\left(C_{2} s \\left(L_{2} s + R_{4}\\right) + 1\\right) \\left(C_{3} s \\left(L_{3} s + R_{5}\\right) + 1\\right) + \\left(C_{3} s \\left(L_{3} s + R_{5}\\right) + 1\\right) \\left(L_{2} R_{4} s + R_{3} \\left(C_{2} s \\left(L_{2} s + R_{4}\\right) + 1\\right)\\right)}$"
      ],
      "text/plain": [
       "                                                        R₆⋅(C₂⋅s⋅(L₂⋅s + R₄) +\n",
       "──────────────────────────────────────────────────────────────────────────────\n",
       "C₃⋅R₆⋅s⋅(L₂⋅R₄⋅s + R₃⋅(C₂⋅s⋅(L₂⋅s + R₄) + 1)) + R₆⋅(C₂⋅s⋅(L₂⋅s + R₄) + 1)⋅(C₃⋅\n",
       "\n",
       " 1)⋅(C₃⋅s⋅(L₃⋅s + R₅) + 1)                                                    \n",
       "──────────────────────────────────────────────────────────────────────────────\n",
       "s⋅(L₃⋅s + R₅) + 1) + (C₃⋅s⋅(L₃⋅s + R₅) + 1)⋅(L₂⋅R₄⋅s + R₃⋅(C₂⋅s⋅(L₂⋅s + R₄) + \n",
       "\n",
       "   \n",
       "───\n",
       "1))"
      ]
     },
     "execution_count": 29,
     "metadata": {},
     "output_type": "execute_result"
    }
   ],
   "source": [
    "H_facts.simplify()"
   ]
  },
  {
   "cell_type": "code",
   "execution_count": 30,
   "id": "c6fe90f2-e029-414a-bfc0-1164fa4985f7",
   "metadata": {},
   "outputs": [
    {
     "data": {
      "image/png": "[encoded data removed]",
      "text/latex": [
       "$\\displaystyle \\frac{C_{2} C_{3} L_{2} L_{3} R_{6} s^{4} + R_{6} + s^{3} \\left(C_{2} C_{3} L_{2} R_{5} R_{6} + C_{2} C_{3} L_{3} R_{4} R_{6}\\right) + s^{2} \\left(C_{2} C_{3} R_{4} R_{5} R_{6} + C_{2} L_{2} R_{6} + C_{3} L_{3} R_{6}\\right) + s \\left(C_{2} R_{4} R_{6} + C_{3} R_{5} R_{6}\\right)}{R_{3} + R_{6} + s^{4} \\left(C_{2} C_{3} L_{2} L_{3} R_{3} + C_{2} C_{3} L_{2} L_{3} R_{6}\\right) + s^{3} \\left(C_{2} C_{3} L_{2} R_{3} R_{5} + C_{2} C_{3} L_{2} R_{3} R_{6} + C_{2} C_{3} L_{2} R_{5} R_{6} + C_{2} C_{3} L_{3} R_{3} R_{4} + C_{2} C_{3} L_{3} R_{4} R_{6} + C_{3} L_{2} L_{3} R_{4}\\right) + s^{2} \\left(C_{2} C_{3} R_{3} R_{4} R_{5} + C_{2} C_{3} R_{3} R_{4} R_{6} + C_{2} C_{3} R_{4} R_{5} R_{6} + C_{2} L_{2} R_{3} + C_{2} L_{2} R_{6} + C_{3} L_{2} R_{4} R_{5} + C_{3} L_{2} R_{4} R_{6} + C_{3} L_{3} R_{3} + C_{3} L_{3} R_{6}\\right) + s \\left(C_{2} R_{3} R_{4} + C_{2} R_{4} R_{6} + C_{3} R_{3} R_{5} + C_{3} R_{3} R_{6} + C_{3} R_{5} R_{6} + L_{2} R_{4}\\right)}$"
      ],
      "text/plain": [
       "                                                                              \n",
       "                                                                              \n",
       "──────────────────────────────────────────────────────────────────────────────\n",
       "           4                                      3                           \n",
       "R₃ + R₆ + s ⋅(C₂⋅C₃⋅L₂⋅L₃⋅R₃ + C₂⋅C₃⋅L₂⋅L₃⋅R₆) + s ⋅(C₂⋅C₃⋅L₂⋅R₃⋅R₅ + C₂⋅C₃⋅L₂\n",
       "\n",
       "                                             4         3                      \n",
       "                             C₂⋅C₃⋅L₂⋅L₃⋅R₆⋅s  + R₆ + s ⋅(C₂⋅C₃⋅L₂⋅R₅⋅R₆ + C₂⋅\n",
       "──────────────────────────────────────────────────────────────────────────────\n",
       "                                                                            2 \n",
       "⋅R₃⋅R₆ + C₂⋅C₃⋅L₂⋅R₅⋅R₆ + C₂⋅C₃⋅L₃⋅R₃⋅R₄ + C₂⋅C₃⋅L₃⋅R₄⋅R₆ + C₃⋅L₂⋅L₃⋅R₄) + s ⋅\n",
       "\n",
       "                2                                                             \n",
       "C₃⋅L₃⋅R₄⋅R₆) + s ⋅(C₂⋅C₃⋅R₄⋅R₅⋅R₆ + C₂⋅L₂⋅R₆ + C₃⋅L₃⋅R₆) + s⋅(C₂⋅R₄⋅R₆ + C₃⋅R₅\n",
       "──────────────────────────────────────────────────────────────────────────────\n",
       "                                                                              \n",
       "(C₂⋅C₃⋅R₃⋅R₄⋅R₅ + C₂⋅C₃⋅R₃⋅R₄⋅R₆ + C₂⋅C₃⋅R₄⋅R₅⋅R₆ + C₂⋅L₂⋅R₃ + C₂⋅L₂⋅R₆ + C₃⋅L\n",
       "\n",
       "                                                                              \n",
       "⋅R₆)                                                                          \n",
       "──────────────────────────────────────────────────────────────────────────────\n",
       "                                                                              \n",
       "₂⋅R₄⋅R₅ + C₃⋅L₂⋅R₄⋅R₆ + C₃⋅L₃⋅R₃ + C₃⋅L₃⋅R₆) + s⋅(C₂⋅R₃⋅R₄ + C₂⋅R₄⋅R₆ + C₃⋅R₃⋅\n",
       "\n",
       "                                 \n",
       "                                 \n",
       "─────────────────────────────────\n",
       "                                 \n",
       "R₅ + C₃⋅R₃⋅R₆ + C₃⋅R₅⋅R₆ + L₂⋅R₄)"
      ]
     },
     "execution_count": 30,
     "metadata": {},
     "output_type": "execute_result"
    }
   ],
   "source": [
    "cancel(H_facts,s)"
   ]
  },
  {
   "cell_type": "markdown",
   "id": "1833f0b1-127c-4f51-951b-21f20c9617b3",
   "metadata": {},
   "source": [
    "Not the same as H_sys obtained below. "
   ]
  },
  {
   "cell_type": "code",
   "execution_count": null,
   "id": "9e411079-e1d5-46b6-9651-a520658ea7fb",
   "metadata": {},
   "outputs": [],
   "source": []
  },
  {
   "cell_type": "code",
   "execution_count": 72,
   "id": "db0c226f-604d-40f3-be20-7bdde3964cd1",
   "metadata": {},
   "outputs": [
    {
     "data": {
      "image/png": "[encoded data removed]",
      "text/latex": [
       "$\\displaystyle \\frac{C_{2} C_{3} L_{2} L_{3} R_{4} R_{6} s^{4} + R_{4} R_{6} + s^{3} \\left(C_{2} C_{3} L_{2} R_{4} R_{5} R_{6} + C_{3} L_{2} L_{3} R_{6}\\right) + s^{2} \\left(C_{2} L_{2} R_{4} R_{6} + C_{3} L_{2} R_{5} R_{6} + C_{3} L_{3} R_{4} R_{6}\\right) + s \\left(C_{3} R_{4} R_{5} R_{6} + L_{2} R_{6}\\right)}{R_{3} R_{4} + R_{4} R_{6} + s^{4} \\left(C_{2} C_{3} L_{2} L_{3} R_{3} R_{4} + C_{2} C_{3} L_{2} L_{3} R_{4} R_{6}\\right) + s^{3} \\left(C_{2} C_{3} L_{2} R_{3} R_{4} R_{5} + C_{2} C_{3} L_{2} R_{3} R_{4} R_{6} + C_{2} C_{3} L_{2} R_{4} R_{5} R_{6} + C_{3} L_{2} L_{3} R_{3} + C_{3} L_{2} L_{3} R_{4} + C_{3} L_{2} L_{3} R_{6}\\right) + s^{2} \\left(C_{2} L_{2} R_{3} R_{4} + C_{2} L_{2} R_{4} R_{6} + C_{3} L_{2} R_{3} R_{5} + C_{3} L_{2} R_{3} R_{6} + C_{3} L_{2} R_{4} R_{5} + C_{3} L_{2} R_{4} R_{6} + C_{3} L_{2} R_{5} R_{6} + C_{3} L_{3} R_{3} R_{4} + C_{3} L_{3} R_{4} R_{6}\\right) + s \\left(C_{3} R_{3} R_{4} R_{5} + C_{3} R_{3} R_{4} R_{6} + C_{3} R_{4} R_{5} R_{6} + L_{2} R_{3} + L_{2} R_{4} + L_{2} R_{6}\\right)}$"
      ],
      "text/plain": [
       "                                                                              \n",
       "                                                                              \n",
       "──────────────────────────────────────────────────────────────────────────────\n",
       "                 4                                            3               \n",
       "R₃⋅R₄ + R₄⋅R₆ + s ⋅(C₂⋅C₃⋅L₂⋅L₃⋅R₃⋅R₄ + C₂⋅C₃⋅L₂⋅L₃⋅R₄⋅R₆) + s ⋅(C₂⋅C₃⋅L₂⋅R₃⋅R\n",
       "\n",
       "                                                      4            3          \n",
       "                                   C₂⋅C₃⋅L₂⋅L₃⋅R₄⋅R₆⋅s  + R₄⋅R₆ + s ⋅(C₂⋅C₃⋅L₂\n",
       "──────────────────────────────────────────────────────────────────────────────\n",
       "                                                                              \n",
       "₄⋅R₅ + C₂⋅C₃⋅L₂⋅R₃⋅R₄⋅R₆ + C₂⋅C₃⋅L₂⋅R₄⋅R₅⋅R₆ + C₃⋅L₂⋅L₃⋅R₃ + C₃⋅L₂⋅L₃⋅R₄ + C₃⋅\n",
       "\n",
       "                            2                                                 \n",
       "⋅R₄⋅R₅⋅R₆ + C₃⋅L₂⋅L₃⋅R₆) + s ⋅(C₂⋅L₂⋅R₄⋅R₆ + C₃⋅L₂⋅R₅⋅R₆ + C₃⋅L₃⋅R₄⋅R₆) + s⋅(C\n",
       "──────────────────────────────────────────────────────────────────────────────\n",
       "             2                                                                \n",
       "L₂⋅L₃⋅R₆) + s ⋅(C₂⋅L₂⋅R₃⋅R₄ + C₂⋅L₂⋅R₄⋅R₆ + C₃⋅L₂⋅R₃⋅R₅ + C₃⋅L₂⋅R₃⋅R₆ + C₃⋅L₂⋅\n",
       "\n",
       "                                                                              \n",
       "₃⋅R₄⋅R₅⋅R₆ + L₂⋅R₆)                                                           \n",
       "──────────────────────────────────────────────────────────────────────────────\n",
       "                                                                              \n",
       "R₄⋅R₅ + C₃⋅L₂⋅R₄⋅R₆ + C₃⋅L₂⋅R₅⋅R₆ + C₃⋅L₃⋅R₃⋅R₄ + C₃⋅L₃⋅R₄⋅R₆) + s⋅(C₃⋅R₃⋅R₄⋅R\n",
       "\n",
       "                                                      \n",
       "                                                      \n",
       "──────────────────────────────────────────────────────\n",
       "                                                      \n",
       "₅ + C₃⋅R₃⋅R₄⋅R₆ + C₃⋅R₄⋅R₅⋅R₆ + L₂⋅R₃ + L₂⋅R₄ + L₂⋅R₆)"
      ]
     },
     "execution_count": 72,
     "metadata": {},
     "output_type": "execute_result"
    }
   ],
   "source": [
    "cancel(H_sym,s)"
   ]
  },
  {
   "cell_type": "code",
   "execution_count": 73,
   "id": "32ccbd19-00c1-4d53-bc9e-12bc69f1e50d",
   "metadata": {},
   "outputs": [
    {
     "data": {
      "text/plain": [
       "False"
      ]
     },
     "execution_count": 73,
     "metadata": {},
     "output_type": "execute_result"
    }
   ],
   "source": [
    "H_sym == H_facts"
   ]
  },
  {
   "cell_type": "code",
   "execution_count": null,
   "id": "d03d080b-f749-44ce-864e-e4c4477fe374",
   "metadata": {},
   "outputs": [],
   "source": []
  },
  {
   "cell_type": "code",
   "execution_count": null,
   "id": "d19187da-312b-4ef2-b74d-ea9e86497f01",
   "metadata": {},
   "outputs": [],
   "source": []
  },
  {
   "cell_type": "markdown",
   "id": "ea733a9a-a430-43f9-a826-dd46a3ea3503",
   "metadata": {},
   "source": [
    "Using NMA to get the FACTS network equations and solve"
   ]
  },
  {
   "cell_type": "code",
   "execution_count": 33,
   "id": "2484d50b-bd86-4fde-9571-6603c21c1ae1",
   "metadata": {},
   "outputs": [],
   "source": [
    "net_list = '''\n",
    "V1 3 0 1\n",
    "R1 1 3 1\n",
    "R6 2 0 1\n",
    "R_Z1 1 0 1\n",
    "R_Z2 2 1 1\n",
    "R_Z3 2 0 1\n",
    "'''"
   ]
  },
  {
   "cell_type": "markdown",
   "id": "4b467562-ba2c-4154-bf87-842916ac3e92",
   "metadata": {},
   "source": [
    "Generate the network equations."
   ]
  },
  {
   "cell_type": "code",
   "execution_count": 34,
   "id": "be9a625a-960e-4884-97c6-834c34164105",
   "metadata": {},
   "outputs": [],
   "source": [
    "report, network_df, df2, A, X, Z = SymMNA.smna(net_list)\n",
    "\n",
    "# Put matricies into SymPy \n",
    "X = Matrix(X)\n",
    "Z = Matrix(Z)\n",
    "\n",
    "NE_facts = Eq(A*X,Z)"
   ]
  },
  {
   "cell_type": "markdown",
   "id": "4dcb9b6d-6d5c-4fa2-b8ed-913820432360",
   "metadata": {},
   "source": [
    "Generate markdown text to display the network equations."
   ]
  },
  {
   "cell_type": "code",
   "execution_count": 35,
   "id": "bd901e6d-f170-4811-a51f-8c90c17e3a3d",
   "metadata": {},
   "outputs": [
    {
     "data": {
      "text/markdown": [
       "$v_{1} \\cdot \\left(\\frac{1}{R_{z2}} + \\frac{1}{R_{z1}} + \\frac{1}{R_{1}}\\right) - \\frac{v_{2}}{R_{z2}} - \\frac{v_{3}}{R_{1}} = 0$<br>$v_{2} \\cdot \\left(\\frac{1}{R_{z3}} + \\frac{1}{R_{z2}} + \\frac{1}{R_{6}}\\right) - \\frac{v_{1}}{R_{z2}} = 0$<br>$I_{V1} - \\frac{v_{1}}{R_{1}} + \\frac{v_{3}}{R_{1}} = 0$<br>$v_{3} = V_{1}$<br>"
      ],
      "text/plain": [
       "<IPython.core.display.Markdown object>"
      ]
     },
     "execution_count": 35,
     "metadata": {},
     "output_type": "execute_result"
    }
   ],
   "source": [
    "temp = ''\n",
    "for i in range(len(X)):\n",
    "    temp += '${:s}$<br>'.format(latex(Eq((A*X)[i:i+1][0],Z[i])))\n",
    "\n",
    "Markdown(temp)"
   ]
  },
  {
   "cell_type": "code",
   "execution_count": 36,
   "id": "3680496e-4f81-44f5-9ae5-f0f06ce5e61c",
   "metadata": {},
   "outputs": [
    {
     "data": {
      "image/png": "[encoded data removed]",
      "text/latex": [
       "$\\displaystyle \\left( V_{1}, \\  R_{z3}, \\  I_{V1}, \\  R_{z1}, \\  R_{1}, \\  v_{2}, \\  R_{6}, \\  v_{1}, \\  R_{z2}, \\  v_{3}\\right)$"
      ],
      "text/plain": [
       "(V₁, R_z3, I_V1, R_z1, R₁, v₂, R₆, v₁, R_z2, v₃)"
      ]
     },
     "execution_count": 36,
     "metadata": {},
     "output_type": "execute_result"
    }
   ],
   "source": [
    "# turn the free symbols into SymPy variables\n",
    "var(str(NE_facts.free_symbols).replace('{','').replace('}',''))"
   ]
  },
  {
   "cell_type": "markdown",
   "id": "bc258038-9b62-4162-8076-7a678230af05",
   "metadata": {},
   "source": [
    "Built a dictionary of element values."
   ]
  },
  {
   "cell_type": "code",
   "execution_count": 37,
   "id": "9190500b-cdf1-486b-83b8-011616b1041d",
   "metadata": {},
   "outputs": [
    {
     "data": {
      "image/png": "[encoded data removed]",
      "text/latex": [
       "$\\displaystyle \\left\\{ R_{1} : 1.0, \\  R_{6} : 1.0, \\  R_{z1} : 1.0, \\  R_{z2} : 1.0, \\  R_{z3} : 1.0, \\  V_{1} : 1.0\\right\\}$"
      ],
      "text/plain": [
       "{R₁: 1.0, R₆: 1.0, R_z1: 1.0, R_z2: 1.0, R_z3: 1.0, V₁: 1.0}"
      ]
     },
     "execution_count": 37,
     "metadata": {},
     "output_type": "execute_result"
    }
   ],
   "source": [
    "element_values = SymMNA.get_part_values(network_df)\n",
    "element_values"
   ]
  },
  {
   "cell_type": "markdown",
   "id": "63732492-3e4e-48ac-8f73-7de49309d3e4",
   "metadata": {},
   "source": [
    "Generate the symbolic solution, which takes a couple of minutes on my laptop's Intel i3-8130U CPU @ 2.20GHz."
   ]
  },
  {
   "cell_type": "code",
   "execution_count": 38,
   "id": "8eed35cc-e4d4-4819-873a-abec064e75df",
   "metadata": {},
   "outputs": [],
   "source": [
    "U_facts = solve(NE_facts,X)"
   ]
  },
  {
   "cell_type": "markdown",
   "id": "75db12f5-1616-4ef7-b53b-f7e38c99524a",
   "metadata": {},
   "source": [
    "The solution to the network equations in symbolic form are long, so the code to display them is commented out."
   ]
  },
  {
   "cell_type": "code",
   "execution_count": 39,
   "id": "c19d7cd1-da0b-4670-b3ff-4ef368e0c140",
   "metadata": {},
   "outputs": [
    {
     "data": {
      "text/markdown": [
       "$v_{1} = \\frac{R_{6} R_{z1} R_{z2} V_{1} + R_{6} R_{z1} R_{z3} V_{1} + R_{z1} R_{z2} R_{z3} V_{1}}{R_{1} R_{6} R_{z1} + R_{1} R_{6} R_{z2} + R_{1} R_{6} R_{z3} + R_{1} R_{z1} R_{z3} + R_{1} R_{z2} R_{z3} + R_{6} R_{z1} R_{z2} + R_{6} R_{z1} R_{z3} + R_{z1} R_{z2} R_{z3}}$<br>$v_{2} = \\frac{R_{6} R_{z1} R_{z3} V_{1}}{R_{1} R_{6} R_{z1} + R_{1} R_{6} R_{z2} + R_{1} R_{6} R_{z3} + R_{1} R_{z1} R_{z3} + R_{1} R_{z2} R_{z3} + R_{6} R_{z1} R_{z2} + R_{6} R_{z1} R_{z3} + R_{z1} R_{z2} R_{z3}}$<br>$v_{3} = V_{1}$<br>$I_{V1} = \\frac{- R_{6} R_{z1} V_{1} - R_{6} R_{z2} V_{1} - R_{6} R_{z3} V_{1} - R_{z1} R_{z3} V_{1} - R_{z2} R_{z3} V_{1}}{R_{1} R_{6} R_{z1} + R_{1} R_{6} R_{z2} + R_{1} R_{6} R_{z3} + R_{1} R_{z1} R_{z3} + R_{1} R_{z2} R_{z3} + R_{6} R_{z1} R_{z2} + R_{6} R_{z1} R_{z3} + R_{z1} R_{z2} R_{z3}}$<br>"
      ],
      "text/plain": [
       "<IPython.core.display.Markdown object>"
      ]
     },
     "execution_count": 39,
     "metadata": {},
     "output_type": "execute_result"
    }
   ],
   "source": [
    "temp = ''\n",
    "for i in U_facts.keys():\n",
    "    temp += '${:s} = {:s}$<br>'.format(latex(i),latex(U_facts[i]))\n",
    "\n",
    "Markdown(temp)"
   ]
  },
  {
   "cell_type": "code",
   "execution_count": 40,
   "id": "2979f80d-e883-4e5b-964b-503890c58c7d",
   "metadata": {},
   "outputs": [
    {
     "data": {
      "image/png": "[encoded data removed]",
      "text/latex": [
       "$\\displaystyle \\frac{R_{6} R_{z3}}{R_{6} R_{z2} + R_{6} R_{z3} + R_{z2} R_{z3}}$"
      ],
      "text/plain": [
       "           R₆⋅R_z3           \n",
       "─────────────────────────────\n",
       "R₆⋅R_z2 + R₆⋅R_z3 + R_z2⋅R_z3"
      ]
     },
     "execution_count": 40,
     "metadata": {},
     "output_type": "execute_result"
    }
   ],
   "source": [
    "H_facts = (U_facts[v2]/U_facts[v1]).simplify()\n",
    "H_facts"
   ]
  },
  {
   "cell_type": "code",
   "execution_count": 41,
   "id": "07902259-0de5-4ce9-9ccf-85b26ff7939b",
   "metadata": {},
   "outputs": [
    {
     "data": {
      "text/plain": [
       "'R6*R_z3/(R6*R_z2 + R6*R_z3 + R_z2*R_z3)'"
      ]
     },
     "execution_count": 41,
     "metadata": {},
     "output_type": "execute_result"
    }
   ],
   "source": [
    "str(H_facts)"
   ]
  },
  {
   "cell_type": "code",
   "execution_count": null,
   "id": "12eb8a2d-9076-4f18-a824-4094a6c7343f",
   "metadata": {},
   "outputs": [],
   "source": []
  },
  {
   "cell_type": "markdown",
   "id": "21db81a8-7e41-4d5e-a948-576c2ce2927b",
   "metadata": {},
   "source": [
    "## Symbolic MNA procedure"
   ]
  },
  {
   "cell_type": "raw",
   "id": "0d78216c-aa3b-4ac0-aa10-fc80e5582d61",
   "metadata": {},
   "source": [
    "t = symbols('t',positive=True)  # t > 0"
   ]
  },
  {
   "cell_type": "markdown",
   "id": "2aff9a54-54f7-4780-b7ac-6c9cdc4c7956",
   "metadata": {
    "tags": []
   },
   "source": [
    "### Load the netlist\n",
    "The netlist generated by LTSpice is pasted into the cell below and some edits were made to remove the inductor series resistance and the independent sources are set to their DC values."
   ]
  },
  {
   "cell_type": "code",
   "execution_count": 42,
   "id": "41d66b32-966f-4aa0-ae35-727b7bb567a6",
   "metadata": {},
   "outputs": [],
   "source": [
    "net_list = '''\n",
    "V1 8 0 1\n",
    "R1 1 8 1\n",
    "R2 1 4 1\n",
    "R3 3 1 1\n",
    "R4 2 3 1\n",
    "R5 2 6 1\n",
    "R6 2 0 1\n",
    "L1 4 5 1\n",
    "L2 3 2 1 \n",
    "L3 6 7 1 \n",
    "C1 5 0 1\n",
    "C2 2 3 1\n",
    "C3 7 0 1\n",
    "'''"
   ]
  },
  {
   "cell_type": "markdown",
   "id": "7ba4a7e7-f8d2-4760-a57e-29419b83f73e",
   "metadata": {},
   "source": [
    "Generate the network equations."
   ]
  },
  {
   "cell_type": "code",
   "execution_count": 43,
   "id": "2d5ad24d-dcae-40b8-8ac3-64092f754fa6",
   "metadata": {},
   "outputs": [],
   "source": [
    "report, network_df, df2, A, X, Z = SymMNA.smna(net_list)\n",
    "\n",
    "# Put matricies into SymPy \n",
    "X = Matrix(X)\n",
    "Z = Matrix(Z)\n",
    "\n",
    "NE_sym = Eq(A*X,Z)"
   ]
  },
  {
   "cell_type": "markdown",
   "id": "40724518-672b-4d97-897d-055683e47416",
   "metadata": {},
   "source": [
    "Generate markdown text to display the network equations."
   ]
  },
  {
   "cell_type": "code",
   "execution_count": 44,
   "id": "ddf3ee53-4f3c-4fc9-81d2-bd7bbcdd5cdc",
   "metadata": {},
   "outputs": [
    {
     "data": {
      "text/markdown": [
       "$v_{1} \\cdot \\left(\\frac{1}{R_{3}} + \\frac{1}{R_{2}} + \\frac{1}{R_{1}}\\right) - \\frac{v_{3}}{R_{3}} - \\frac{v_{4}}{R_{2}} - \\frac{v_{8}}{R_{1}} = 0$<br>$- I_{L2} + v_{2} \\left(C_{2} s + \\frac{1}{R_{6}} + \\frac{1}{R_{5}} + \\frac{1}{R_{4}}\\right) + v_{3} \\left(- C_{2} s - \\frac{1}{R_{4}}\\right) - \\frac{v_{6}}{R_{5}} = 0$<br>$I_{L2} + v_{2} \\left(- C_{2} s - \\frac{1}{R_{4}}\\right) + v_{3} \\left(C_{2} s + \\frac{1}{R_{4}} + \\frac{1}{R_{3}}\\right) - \\frac{v_{1}}{R_{3}} = 0$<br>$I_{L1} - \\frac{v_{1}}{R_{2}} + \\frac{v_{4}}{R_{2}} = 0$<br>$C_{1} s v_{5} - I_{L1} = 0$<br>$I_{L3} - \\frac{v_{2}}{R_{5}} + \\frac{v_{6}}{R_{5}} = 0$<br>$C_{3} s v_{7} - I_{L3} = 0$<br>$I_{V1} - \\frac{v_{1}}{R_{1}} + \\frac{v_{8}}{R_{1}} = 0$<br>$v_{8} = V_{1}$<br>$- I_{L1} L_{1} s + v_{4} - v_{5} = 0$<br>$- I_{L2} L_{2} s - v_{2} + v_{3} = 0$<br>$- I_{L3} L_{3} s + v_{6} - v_{7} = 0$<br>"
      ],
      "text/plain": [
       "<IPython.core.display.Markdown object>"
      ]
     },
     "execution_count": 44,
     "metadata": {},
     "output_type": "execute_result"
    }
   ],
   "source": [
    "temp = ''\n",
    "for i in range(len(X)):\n",
    "    temp += '${:s}$<br>'.format(latex(Eq((A*X)[i:i+1][0],Z[i])))\n",
    "\n",
    "Markdown(temp)"
   ]
  },
  {
   "cell_type": "markdown",
   "id": "8d127e95-1b83-4bf7-a59a-a982786b1963",
   "metadata": {},
   "source": [
    "As shown above MNA generated many equations and these would be difficult to solve by hand and a symbolic soultion would take a lot of computing time. The equations are displace in matrix notation."
   ]
  },
  {
   "cell_type": "code",
   "execution_count": 45,
   "id": "7a5b187a-0236-4159-9603-3f057665309d",
   "metadata": {},
   "outputs": [
    {
     "data": {
      "text/latex": [
       "$\\displaystyle \\left[\\begin{matrix}v_{1} \\cdot \\left(\\frac{1}{R_{3}} + \\frac{1}{R_{2}} + \\frac{1}{R_{1}}\\right) - \\frac{v_{3}}{R_{3}} - \\frac{v_{4}}{R_{2}} - \\frac{v_{8}}{R_{1}}\\\\- I_{L2} + v_{2} \\left(C_{2} s + \\frac{1}{R_{6}} + \\frac{1}{R_{5}} + \\frac{1}{R_{4}}\\right) + v_{3} \\left(- C_{2} s - \\frac{1}{R_{4}}\\right) - \\frac{v_{6}}{R_{5}}\\\\I_{L2} + v_{2} \\left(- C_{2} s - \\frac{1}{R_{4}}\\right) + v_{3} \\left(C_{2} s + \\frac{1}{R_{4}} + \\frac{1}{R_{3}}\\right) - \\frac{v_{1}}{R_{3}}\\\\I_{L1} - \\frac{v_{1}}{R_{2}} + \\frac{v_{4}}{R_{2}}\\\\C_{1} s v_{5} - I_{L1}\\\\I_{L3} - \\frac{v_{2}}{R_{5}} + \\frac{v_{6}}{R_{5}}\\\\C_{3} s v_{7} - I_{L3}\\\\I_{V1} - \\frac{v_{1}}{R_{1}} + \\frac{v_{8}}{R_{1}}\\\\v_{8}\\\\- I_{L1} L_{1} s + v_{4} - v_{5}\\\\- I_{L2} L_{2} s - v_{2} + v_{3}\\\\- I_{L3} L_{3} s + v_{6} - v_{7}\\end{matrix}\\right] = \\left[\\begin{matrix}0\\\\0\\\\0\\\\0\\\\0\\\\0\\\\0\\\\0\\\\V_{1}\\\\0\\\\0\\\\0\\end{matrix}\\right]$"
      ],
      "text/plain": [
       "⎡              ⎛1    1    1 ⎞   v₃   v₄   v₈            ⎤       \n",
       "⎢           v₁⋅⎜── + ── + ──⎟ - ── - ── - ──            ⎥       \n",
       "⎢              ⎝R₃   R₂   R₁⎠   R₃   R₂   R₁            ⎥       \n",
       "⎢                                                       ⎥       \n",
       "⎢           ⎛       1    1    1 ⎞      ⎛        1 ⎞   v₆⎥       \n",
       "⎢-I_L2 + v₂⋅⎜C₂⋅s + ── + ── + ──⎟ + v₃⋅⎜-C₂⋅s - ──⎟ - ──⎥       \n",
       "⎢           ⎝       R₆   R₅   R₄⎠      ⎝        R₄⎠   R₅⎥   ⎡0 ⎤\n",
       "⎢                                                       ⎥   ⎢  ⎥\n",
       "⎢             ⎛        1 ⎞      ⎛       1    1 ⎞   v₁   ⎥   ⎢0 ⎥\n",
       "⎢   I_L2 + v₂⋅⎜-C₂⋅s - ──⎟ + v₃⋅⎜C₂⋅s + ── + ──⎟ - ──   ⎥   ⎢  ⎥\n",
       "⎢             ⎝        R₄⎠      ⎝       R₄   R₃⎠   R₃   ⎥   ⎢0 ⎥\n",
       "⎢                                                       ⎥   ⎢  ⎥\n",
       "⎢                           v₁   v₄                     ⎥   ⎢0 ⎥\n",
       "⎢                    I_L1 - ── + ──                     ⎥   ⎢  ⎥\n",
       "⎢                           R₂   R₂                     ⎥   ⎢0 ⎥\n",
       "⎢                                                       ⎥   ⎢  ⎥\n",
       "⎢                    C₁⋅s⋅v₅ - I_L1                     ⎥   ⎢0 ⎥\n",
       "⎢                                                       ⎥ = ⎢  ⎥\n",
       "⎢                           v₂   v₆                     ⎥   ⎢0 ⎥\n",
       "⎢                    I_L3 - ── + ──                     ⎥   ⎢  ⎥\n",
       "⎢                           R₅   R₅                     ⎥   ⎢0 ⎥\n",
       "⎢                                                       ⎥   ⎢  ⎥\n",
       "⎢                    C₃⋅s⋅v₇ - I_L3                     ⎥   ⎢V₁⎥\n",
       "⎢                                                       ⎥   ⎢  ⎥\n",
       "⎢                           v₁   v₈                     ⎥   ⎢0 ⎥\n",
       "⎢                    I_V1 - ── + ──                     ⎥   ⎢  ⎥\n",
       "⎢                           R₁   R₁                     ⎥   ⎢0 ⎥\n",
       "⎢                                                       ⎥   ⎢  ⎥\n",
       "⎢                          v₈                           ⎥   ⎣0 ⎦\n",
       "⎢                                                       ⎥       \n",
       "⎢                 -I_L1⋅L₁⋅s + v₄ - v₅                  ⎥       \n",
       "⎢                                                       ⎥       \n",
       "⎢                 -I_L2⋅L₂⋅s - v₂ + v₃                  ⎥       \n",
       "⎢                                                       ⎥       \n",
       "⎣                 -I_L3⋅L₃⋅s + v₆ - v₇                  ⎦       "
      ]
     },
     "execution_count": 45,
     "metadata": {},
     "output_type": "execute_result"
    }
   ],
   "source": [
    "NE_sym"
   ]
  },
  {
   "cell_type": "markdown",
   "id": "89b8e90e-7e6a-4f15-80bb-dba705699987",
   "metadata": {},
   "source": [
    "The symbols generated by the Python code are extraced by the SymPy function free_symbols and then declared as SymPy variables. "
   ]
  },
  {
   "cell_type": "code",
   "execution_count": 46,
   "id": "07318984-f763-4bb7-b0b4-197296e0a265",
   "metadata": {},
   "outputs": [
    {
     "data": {
      "image/png": "[encoded data removed]",
      "text/latex": [
       "$\\displaystyle \\left( v_{4}, \\  V_{1}, \\  R_{4}, \\  I_{L1}, \\  v_{7}, \\  v_{8}, \\  I_{L2}, \\  C_{1}, \\  R_{1}, \\  s, \\  I_{L3}, \\  C_{3}, \\  R_{3}, \\  L_{3}, \\  R_{2}, \\  I_{V1}, \\  v_{6}, \\  L_{1}, \\  C_{2}, \\  R_{5}, \\  v_{2}, \\  L_{2}, \\  R_{6}, \\  v_{1}, \\  v_{5}, \\  v_{3}\\right)$"
      ],
      "text/plain": [
       "(v₄, V₁, R₄, I_L1, v₇, v₈, I_L2, C₁, R₁, s, I_L3, C₃, R₃, L₃, R₂, I_V1, v₆, L₁\n",
       ", C₂, R₅, v₂, L₂, R₆, v₁, v₅, v₃)"
      ]
     },
     "execution_count": 46,
     "metadata": {},
     "output_type": "execute_result"
    }
   ],
   "source": [
    "# turn the free symbols into SymPy variables\n",
    "var(str(NE_sym.free_symbols).replace('{','').replace('}',''))"
   ]
  },
  {
   "cell_type": "markdown",
   "id": "a2dc0a97-5f3e-42af-82cc-911e7963c264",
   "metadata": {},
   "source": [
    "Built a dictionary of element values."
   ]
  },
  {
   "cell_type": "code",
   "execution_count": 47,
   "id": "bc03a675-9dfc-499e-bd47-e6036758ffe6",
   "metadata": {},
   "outputs": [
    {
     "data": {
      "image/png": "[encoded data removed]",
      "text/latex": [
       "$\\displaystyle \\left\\{ C_{1} : 1.0, \\  C_{2} : 1.0, \\  C_{3} : 1.0, \\  L_{1} : 1.0, \\  L_{2} : 1.0, \\  L_{3} : 1.0, \\  R_{1} : 1.0, \\  R_{2} : 1.0, \\  R_{3} : 1.0, \\  R_{4} : 1.0, \\  R_{5} : 1.0, \\  R_{6} : 1.0, \\  V_{1} : 1.0\\right\\}$"
      ],
      "text/plain": [
       "{C₁: 1.0, C₂: 1.0, C₃: 1.0, L₁: 1.0, L₂: 1.0, L₃: 1.0, R₁: 1.0, R₂: 1.0, R₃: 1\n",
       ".0, R₄: 1.0, R₅: 1.0, R₆: 1.0, V₁: 1.0}"
      ]
     },
     "execution_count": 47,
     "metadata": {},
     "output_type": "execute_result"
    }
   ],
   "source": [
    "element_values = SymMNA.get_part_values(network_df)\n",
    "element_values"
   ]
  },
  {
   "cell_type": "markdown",
   "id": "4098ce7a-f112-4881-891d-ca4a1788229a",
   "metadata": {},
   "source": [
    "Generate the symbolic solution, which takes a couple of minutes on my laptop's Intel i3-8130U CPU @ 2.20GHz."
   ]
  },
  {
   "cell_type": "code",
   "execution_count": 48,
   "id": "7cc274d3-16cc-40a8-bd6b-20dabbdf17f2",
   "metadata": {},
   "outputs": [],
   "source": [
    "U_sym = solve(NE_sym,X)"
   ]
  },
  {
   "cell_type": "markdown",
   "id": "e417abbc-d0be-496d-b1d6-4457ad30ac81",
   "metadata": {},
   "source": [
    "The solution to the network equations in symbolic form are long, so the code to display them is commented out."
   ]
  },
  {
   "cell_type": "code",
   "execution_count": 49,
   "id": "8346e8f5-f733-482a-9a02-bf111ab02365",
   "metadata": {},
   "outputs": [],
   "source": [
    "#temp = ''\n",
    "#for i in U_sym.keys():\n",
    "#    temp += '${:s} = {:s}$<br>'.format(latex(i),latex(U_sym[i]))\n",
    "\n",
    "#Markdown(temp)"
   ]
  },
  {
   "cell_type": "code",
   "execution_count": 50,
   "id": "0116f0ae-2071-417f-9193-ec954fbc974b",
   "metadata": {},
   "outputs": [
    {
     "data": {
      "image/png": "[encoded data removed]",
      "text/latex": [
       "$\\displaystyle \\frac{R_{6} \\left(C_{2} C_{3} L_{2} L_{3} R_{4} s^{4} + C_{2} C_{3} L_{2} R_{4} R_{5} s^{3} + C_{2} L_{2} R_{4} s^{2} + C_{3} L_{2} L_{3} s^{3} + C_{3} L_{2} R_{5} s^{2} + C_{3} L_{3} R_{4} s^{2} + C_{3} R_{4} R_{5} s + L_{2} s + R_{4}\\right)}{C_{2} C_{3} L_{2} L_{3} R_{3} R_{4} s^{4} + C_{2} C_{3} L_{2} L_{3} R_{4} R_{6} s^{4} + C_{2} C_{3} L_{2} R_{3} R_{4} R_{5} s^{3} + C_{2} C_{3} L_{2} R_{3} R_{4} R_{6} s^{3} + C_{2} C_{3} L_{2} R_{4} R_{5} R_{6} s^{3} + C_{2} L_{2} R_{3} R_{4} s^{2} + C_{2} L_{2} R_{4} R_{6} s^{2} + C_{3} L_{2} L_{3} R_{3} s^{3} + C_{3} L_{2} L_{3} R_{4} s^{3} + C_{3} L_{2} L_{3} R_{6} s^{3} + C_{3} L_{2} R_{3} R_{5} s^{2} + C_{3} L_{2} R_{3} R_{6} s^{2} + C_{3} L_{2} R_{4} R_{5} s^{2} + C_{3} L_{2} R_{4} R_{6} s^{2} + C_{3} L_{2} R_{5} R_{6} s^{2} + C_{3} L_{3} R_{3} R_{4} s^{2} + C_{3} L_{3} R_{4} R_{6} s^{2} + C_{3} R_{3} R_{4} R_{5} s + C_{3} R_{3} R_{4} R_{6} s + C_{3} R_{4} R_{5} R_{6} s + L_{2} R_{3} s + L_{2} R_{4} s + L_{2} R_{6} s + R_{3} R_{4} + R_{4} R_{6}}$"
      ],
      "text/plain": [
       "                                                                              \n",
       "                                                                              \n",
       "──────────────────────────────────────────────────────────────────────────────\n",
       "                   4                      4                      3            \n",
       "C₂⋅C₃⋅L₂⋅L₃⋅R₃⋅R₄⋅s  + C₂⋅C₃⋅L₂⋅L₃⋅R₄⋅R₆⋅s  + C₂⋅C₃⋅L₂⋅R₃⋅R₄⋅R₅⋅s  + C₂⋅C₃⋅L₂⋅\n",
       "\n",
       "                                                                    ⎛         \n",
       "                                                                 R₆⋅⎝C₂⋅C₃⋅L₂⋅\n",
       "──────────────────────────────────────────────────────────────────────────────\n",
       "          3                      3                2                2          \n",
       "R₃⋅R₄⋅R₆⋅s  + C₂⋅C₃⋅L₂⋅R₄⋅R₅⋅R₆⋅s  + C₂⋅L₂⋅R₃⋅R₄⋅s  + C₂⋅L₂⋅R₄⋅R₆⋅s  + C₃⋅L₂⋅L\n",
       "\n",
       "       4                   3             2             3             2        \n",
       "L₃⋅R₄⋅s  + C₂⋅C₃⋅L₂⋅R₄⋅R₅⋅s  + C₂⋅L₂⋅R₄⋅s  + C₃⋅L₂⋅L₃⋅s  + C₃⋅L₂⋅R₅⋅s  + C₃⋅L₃\n",
       "──────────────────────────────────────────────────────────────────────────────\n",
       "      3                3                3                2                2   \n",
       "₃⋅R₃⋅s  + C₃⋅L₂⋅L₃⋅R₄⋅s  + C₃⋅L₂⋅L₃⋅R₆⋅s  + C₃⋅L₂⋅R₃⋅R₅⋅s  + C₃⋅L₂⋅R₃⋅R₆⋅s  + \n",
       "\n",
       "     2                         ⎞                                              \n",
       "⋅R₄⋅s  + C₃⋅R₄⋅R₅⋅s + L₂⋅s + R₄⎠                                              \n",
       "──────────────────────────────────────────────────────────────────────────────\n",
       "             2                2                2                2             \n",
       "C₃⋅L₂⋅R₄⋅R₅⋅s  + C₃⋅L₂⋅R₄⋅R₆⋅s  + C₃⋅L₂⋅R₅⋅R₆⋅s  + C₃⋅L₃⋅R₃⋅R₄⋅s  + C₃⋅L₃⋅R₄⋅R\n",
       "\n",
       "                                                                              \n",
       "                                                                              \n",
       "──────────────────────────────────────────────────────────────────────────────\n",
       "   2                                                                          \n",
       "₆⋅s  + C₃⋅R₃⋅R₄⋅R₅⋅s + C₃⋅R₃⋅R₄⋅R₆⋅s + C₃⋅R₄⋅R₅⋅R₆⋅s + L₂⋅R₃⋅s + L₂⋅R₄⋅s + L₂⋅\n",
       "\n",
       "                    \n",
       "                    \n",
       "────────────────────\n",
       "                    \n",
       "R₆⋅s + R₃⋅R₄ + R₄⋅R₆"
      ]
     },
     "execution_count": 50,
     "metadata": {},
     "output_type": "execute_result"
    }
   ],
   "source": [
    "H_sym = (U_sym[v2]/U_sym[v1]).simplify()\n",
    "H_sym"
   ]
  },
  {
   "cell_type": "code",
   "execution_count": null,
   "id": "ab97ba9f-8d49-4217-9706-4ac7499cdb43",
   "metadata": {},
   "outputs": [],
   "source": []
  },
  {
   "cell_type": "markdown",
   "id": "7789c64c-04ed-4d97-89c6-b56042e3ef91",
   "metadata": {},
   "source": [
    "Can the symbolic expression be simplified, because this is whaythe FACT method is supposed to do, reveal aspects of the circuit operation that get hidden by the algebra."
   ]
  },
  {
   "cell_type": "code",
   "execution_count": 51,
   "id": "6c595c7e-9b7c-4f8c-9695-9a97aaf8a2d5",
   "metadata": {},
   "outputs": [],
   "source": [
    "H_num, H_denom = fraction(H_sym)"
   ]
  },
  {
   "cell_type": "code",
   "execution_count": 52,
   "id": "bad2cb63-f6e6-4e03-9356-46ab030875da",
   "metadata": {},
   "outputs": [
    {
     "data": {
      "image/png": "[encoded data removed]",
      "text/latex": [
       "$\\displaystyle R_{6} \\left(C_{2} C_{3} L_{2} L_{3} R_{4} s^{4} + C_{2} C_{3} L_{2} R_{4} R_{5} s^{3} + C_{2} L_{2} R_{4} s^{2} + C_{3} L_{2} L_{3} s^{3} + C_{3} L_{2} R_{5} s^{2} + C_{3} L_{3} R_{4} s^{2} + C_{3} R_{4} R_{5} s + L_{2} s + R_{4}\\right)$"
      ],
      "text/plain": [
       "   ⎛                4                   3             2             3         \n",
       "R₆⋅⎝C₂⋅C₃⋅L₂⋅L₃⋅R₄⋅s  + C₂⋅C₃⋅L₂⋅R₄⋅R₅⋅s  + C₂⋅L₂⋅R₄⋅s  + C₃⋅L₂⋅L₃⋅s  + C₃⋅L₂⋅\n",
       "\n",
       "    2             2                         ⎞\n",
       "R₅⋅s  + C₃⋅L₃⋅R₄⋅s  + C₃⋅R₄⋅R₅⋅s + L₂⋅s + R₄⎠"
      ]
     },
     "execution_count": 52,
     "metadata": {},
     "output_type": "execute_result"
    }
   ],
   "source": [
    "H_num"
   ]
  },
  {
   "cell_type": "code",
   "execution_count": 53,
   "id": "e0046a60-799a-46ba-9f0c-d8cf9262c5aa",
   "metadata": {},
   "outputs": [
    {
     "data": {
      "image/png": "[encoded data removed]",
      "text/latex": [
       "$\\displaystyle C_{2} C_{3} L_{2} L_{3} R_{3} R_{4} s^{4} + C_{2} C_{3} L_{2} L_{3} R_{4} R_{6} s^{4} + C_{2} C_{3} L_{2} R_{3} R_{4} R_{5} s^{3} + C_{2} C_{3} L_{2} R_{3} R_{4} R_{6} s^{3} + C_{2} C_{3} L_{2} R_{4} R_{5} R_{6} s^{3} + C_{2} L_{2} R_{3} R_{4} s^{2} + C_{2} L_{2} R_{4} R_{6} s^{2} + C_{3} L_{2} L_{3} R_{3} s^{3} + C_{3} L_{2} L_{3} R_{4} s^{3} + C_{3} L_{2} L_{3} R_{6} s^{3} + C_{3} L_{2} R_{3} R_{5} s^{2} + C_{3} L_{2} R_{3} R_{6} s^{2} + C_{3} L_{2} R_{4} R_{5} s^{2} + C_{3} L_{2} R_{4} R_{6} s^{2} + C_{3} L_{2} R_{5} R_{6} s^{2} + C_{3} L_{3} R_{3} R_{4} s^{2} + C_{3} L_{3} R_{4} R_{6} s^{2} + C_{3} R_{3} R_{4} R_{5} s + C_{3} R_{3} R_{4} R_{6} s + C_{3} R_{4} R_{5} R_{6} s + L_{2} R_{3} s + L_{2} R_{4} s + L_{2} R_{6} s + R_{3} R_{4} + R_{4} R_{6}$"
      ],
      "text/plain": [
       "                   4                      4                      3            \n",
       "C₂⋅C₃⋅L₂⋅L₃⋅R₃⋅R₄⋅s  + C₂⋅C₃⋅L₂⋅L₃⋅R₄⋅R₆⋅s  + C₂⋅C₃⋅L₂⋅R₃⋅R₄⋅R₅⋅s  + C₂⋅C₃⋅L₂⋅\n",
       "\n",
       "          3                      3                2                2          \n",
       "R₃⋅R₄⋅R₆⋅s  + C₂⋅C₃⋅L₂⋅R₄⋅R₅⋅R₆⋅s  + C₂⋅L₂⋅R₃⋅R₄⋅s  + C₂⋅L₂⋅R₄⋅R₆⋅s  + C₃⋅L₂⋅L\n",
       "\n",
       "      3                3                3                2                2   \n",
       "₃⋅R₃⋅s  + C₃⋅L₂⋅L₃⋅R₄⋅s  + C₃⋅L₂⋅L₃⋅R₆⋅s  + C₃⋅L₂⋅R₃⋅R₅⋅s  + C₃⋅L₂⋅R₃⋅R₆⋅s  + \n",
       "\n",
       "             2                2                2                2             \n",
       "C₃⋅L₂⋅R₄⋅R₅⋅s  + C₃⋅L₂⋅R₄⋅R₆⋅s  + C₃⋅L₂⋅R₅⋅R₆⋅s  + C₃⋅L₃⋅R₃⋅R₄⋅s  + C₃⋅L₃⋅R₄⋅R\n",
       "\n",
       "   2                                                                          \n",
       "₆⋅s  + C₃⋅R₃⋅R₄⋅R₅⋅s + C₃⋅R₃⋅R₄⋅R₆⋅s + C₃⋅R₄⋅R₅⋅R₆⋅s + L₂⋅R₃⋅s + L₂⋅R₄⋅s + L₂⋅\n",
       "\n",
       "                    \n",
       "R₆⋅s + R₃⋅R₄ + R₄⋅R₆"
      ]
     },
     "execution_count": 53,
     "metadata": {},
     "output_type": "execute_result"
    }
   ],
   "source": [
    "H_denom"
   ]
  },
  {
   "cell_type": "markdown",
   "id": "b6bc8d6a-631c-412d-b10d-94c6169f124e",
   "metadata": {},
   "source": [
    "expand\n",
    "\n",
    "expand() is one of the most common simplification functions in SymPy. Although it has a lot of scopes, for now, we will consider its function in expanding polynomial expressions. For example:\n",
    "\n",
    "Given a polynomial, expand() will put it into a canonical form of a sum of monomials.\n",
    "\n",
    "expand() may not sound like a simplification function. After all, by its very name, it makes expressions bigger, not smaller. Usually this is the case, but often an expression will become smaller upon calling expand() on it due to cancellation.\n",
    "\n",
    "cancel\n",
    "\n",
    "cancel() will take any rational function and put it into the standard canonical form,\n",
    ", where and are expanded polynomials with no common factors, and the leading coefficients of and do not have denominators (i.e., are integers).\n",
    "\n",
    "\n",
    "Note that since factor() will completely factorize both the numerator and the denominator of an expression, it can also be used to do the same thing:\n",
    "\n",
    "The voltage on node N is symplified with the chain of operators applied to the expression; [nsimplify()](https://docs.sympy.org/latest/modules/simplify/simplify.html#sympy.simplify.simplify.nsimplify), [simplify()](https://docs.sympy.org/latest/modules/simplify/simplify.html#simplify), [expand()](https://docs.sympy.org/latest/modules/core.html#sympy.core.function.expand) and [together()](https://docs.sympy.org/latest/modules/polys/reference.html#sympy.polys.rationaltools.together). This helps SymPy solve the inverse Laplace transform.\n",
    "\n"
   ]
  },
  {
   "cell_type": "code",
   "execution_count": 54,
   "id": "2cb18b4a-37b8-4cd0-9102-170183665bda",
   "metadata": {},
   "outputs": [
    {
     "data": {
      "text/plain": [
       "'numerator'"
      ]
     },
     "metadata": {},
     "output_type": "display_data"
    },
    {
     "data": {
      "image/png": "[encoded data removed]",
      "text/latex": [
       "$\\displaystyle C_{2} C_{3} L_{2} L_{3} R_{4} R_{6} s^{4} + C_{2} C_{3} L_{2} R_{4} R_{5} R_{6} s^{3} + C_{2} L_{2} R_{4} R_{6} s^{2} + C_{3} L_{2} L_{3} R_{6} s^{3} + C_{3} L_{2} R_{5} R_{6} s^{2} + C_{3} L_{3} R_{4} R_{6} s^{2} + C_{3} R_{4} R_{5} R_{6} s + L_{2} R_{6} s + R_{4} R_{6}$"
      ],
      "text/plain": [
       "                   4                      3                2                3 \n",
       "C₂⋅C₃⋅L₂⋅L₃⋅R₄⋅R₆⋅s  + C₂⋅C₃⋅L₂⋅R₄⋅R₅⋅R₆⋅s  + C₂⋅L₂⋅R₄⋅R₆⋅s  + C₃⋅L₂⋅L₃⋅R₆⋅s  \n",
       "\n",
       "               2                2                                  \n",
       "+ C₃⋅L₂⋅R₅⋅R₆⋅s  + C₃⋅L₃⋅R₄⋅R₆⋅s  + C₃⋅R₄⋅R₅⋅R₆⋅s + L₂⋅R₆⋅s + R₄⋅R₆"
      ]
     },
     "metadata": {},
     "output_type": "display_data"
    },
    {
     "data": {
      "text/plain": [
       "'denominator'"
      ]
     },
     "metadata": {},
     "output_type": "display_data"
    },
    {
     "data": {
      "image/png": "[encoded data removed]",
      "text/latex": [
       "$\\displaystyle R_{3} R_{4} + R_{4} R_{6} + s^{4} \\left(C_{2} C_{3} L_{2} L_{3} R_{3} R_{4} + C_{2} C_{3} L_{2} L_{3} R_{4} R_{6}\\right) + s^{3} \\left(C_{2} C_{3} L_{2} R_{3} R_{4} R_{5} + C_{2} C_{3} L_{2} R_{3} R_{4} R_{6} + C_{2} C_{3} L_{2} R_{4} R_{5} R_{6} + C_{3} L_{2} L_{3} R_{3} + C_{3} L_{2} L_{3} R_{4} + C_{3} L_{2} L_{3} R_{6}\\right) + s^{2} \\left(C_{2} L_{2} R_{3} R_{4} + C_{2} L_{2} R_{4} R_{6} + C_{3} L_{2} R_{3} R_{5} + C_{3} L_{2} R_{3} R_{6} + C_{3} L_{2} R_{4} R_{5} + C_{3} L_{2} R_{4} R_{6} + C_{3} L_{2} R_{5} R_{6} + C_{3} L_{3} R_{3} R_{4} + C_{3} L_{3} R_{4} R_{6}\\right) + s \\left(C_{3} R_{3} R_{4} R_{5} + C_{3} R_{3} R_{4} R_{6} + C_{3} R_{4} R_{5} R_{6} + L_{2} R_{3} + L_{2} R_{4} + L_{2} R_{6}\\right)$"
      ],
      "text/plain": [
       "                 4                                            3               \n",
       "R₃⋅R₄ + R₄⋅R₆ + s ⋅(C₂⋅C₃⋅L₂⋅L₃⋅R₃⋅R₄ + C₂⋅C₃⋅L₂⋅L₃⋅R₄⋅R₆) + s ⋅(C₂⋅C₃⋅L₂⋅R₃⋅R\n",
       "\n",
       "                                                                              \n",
       "₄⋅R₅ + C₂⋅C₃⋅L₂⋅R₃⋅R₄⋅R₆ + C₂⋅C₃⋅L₂⋅R₄⋅R₅⋅R₆ + C₃⋅L₂⋅L₃⋅R₃ + C₃⋅L₂⋅L₃⋅R₄ + C₃⋅\n",
       "\n",
       "             2                                                                \n",
       "L₂⋅L₃⋅R₆) + s ⋅(C₂⋅L₂⋅R₃⋅R₄ + C₂⋅L₂⋅R₄⋅R₆ + C₃⋅L₂⋅R₃⋅R₅ + C₃⋅L₂⋅R₃⋅R₆ + C₃⋅L₂⋅\n",
       "\n",
       "                                                                              \n",
       "R₄⋅R₅ + C₃⋅L₂⋅R₄⋅R₆ + C₃⋅L₂⋅R₅⋅R₆ + C₃⋅L₃⋅R₃⋅R₄ + C₃⋅L₃⋅R₄⋅R₆) + s⋅(C₃⋅R₃⋅R₄⋅R\n",
       "\n",
       "                                                      \n",
       "₅ + C₃⋅R₃⋅R₄⋅R₆ + C₃⋅R₄⋅R₅⋅R₆ + L₂⋅R₃ + L₂⋅R₄ + L₂⋅R₆)"
      ]
     },
     "metadata": {},
     "output_type": "display_data"
    }
   ],
   "source": [
    "n, d = fraction(H_sym)\n",
    "display('numerator', n.expand(), 'denominator', cancel(d,s))"
   ]
  },
  {
   "cell_type": "code",
   "execution_count": 55,
   "id": "c8ecb00b-21ee-437e-986d-c30a3cc5833e",
   "metadata": {},
   "outputs": [
    {
     "data": {
      "image/png": "[encoded data removed]",
      "text/latex": [
       "$\\displaystyle C_{2} C_{3} L_{2} L_{3} R_{3} R_{4} s^{4} + C_{2} C_{3} L_{2} L_{3} R_{4} R_{6} s^{4} + C_{2} C_{3} L_{2} R_{3} R_{4} R_{5} s^{3} + C_{2} C_{3} L_{2} R_{3} R_{4} R_{6} s^{3} + C_{2} C_{3} L_{2} R_{4} R_{5} R_{6} s^{3} + C_{2} L_{2} R_{3} R_{4} s^{2} + C_{2} L_{2} R_{4} R_{6} s^{2} + C_{3} L_{2} L_{3} R_{3} s^{3} + C_{3} L_{2} L_{3} R_{4} s^{3} + C_{3} L_{2} L_{3} R_{6} s^{3} + C_{3} L_{2} R_{3} R_{5} s^{2} + C_{3} L_{2} R_{3} R_{6} s^{2} + C_{3} L_{2} R_{4} R_{5} s^{2} + C_{3} L_{2} R_{4} R_{6} s^{2} + C_{3} L_{2} R_{5} R_{6} s^{2} + C_{3} L_{3} R_{3} R_{4} s^{2} + C_{3} L_{3} R_{4} R_{6} s^{2} + C_{3} R_{3} R_{4} R_{5} s + C_{3} R_{3} R_{4} R_{6} s + C_{3} R_{4} R_{5} R_{6} s + L_{2} R_{3} s + L_{2} R_{4} s + L_{2} R_{6} s + R_{3} R_{4} + R_{4} R_{6}$"
      ],
      "text/plain": [
       "                   4                      4                      3            \n",
       "C₂⋅C₃⋅L₂⋅L₃⋅R₃⋅R₄⋅s  + C₂⋅C₃⋅L₂⋅L₃⋅R₄⋅R₆⋅s  + C₂⋅C₃⋅L₂⋅R₃⋅R₄⋅R₅⋅s  + C₂⋅C₃⋅L₂⋅\n",
       "\n",
       "          3                      3                2                2          \n",
       "R₃⋅R₄⋅R₆⋅s  + C₂⋅C₃⋅L₂⋅R₄⋅R₅⋅R₆⋅s  + C₂⋅L₂⋅R₃⋅R₄⋅s  + C₂⋅L₂⋅R₄⋅R₆⋅s  + C₃⋅L₂⋅L\n",
       "\n",
       "      3                3                3                2                2   \n",
       "₃⋅R₃⋅s  + C₃⋅L₂⋅L₃⋅R₄⋅s  + C₃⋅L₂⋅L₃⋅R₆⋅s  + C₃⋅L₂⋅R₃⋅R₅⋅s  + C₃⋅L₂⋅R₃⋅R₆⋅s  + \n",
       "\n",
       "             2                2                2                2             \n",
       "C₃⋅L₂⋅R₄⋅R₅⋅s  + C₃⋅L₂⋅R₄⋅R₆⋅s  + C₃⋅L₂⋅R₅⋅R₆⋅s  + C₃⋅L₃⋅R₃⋅R₄⋅s  + C₃⋅L₃⋅R₄⋅R\n",
       "\n",
       "   2                                                                          \n",
       "₆⋅s  + C₃⋅R₃⋅R₄⋅R₅⋅s + C₃⋅R₃⋅R₄⋅R₆⋅s + C₃⋅R₄⋅R₅⋅R₆⋅s + L₂⋅R₃⋅s + L₂⋅R₄⋅s + L₂⋅\n",
       "\n",
       "                    \n",
       "R₆⋅s + R₃⋅R₄ + R₄⋅R₆"
      ]
     },
     "execution_count": 55,
     "metadata": {},
     "output_type": "execute_result"
    }
   ],
   "source": [
    "d.factor()"
   ]
  },
  {
   "cell_type": "code",
   "execution_count": 56,
   "id": "063625b9-8e64-47aa-90a4-968dc7678cc1",
   "metadata": {},
   "outputs": [
    {
     "data": {
      "image/png": "[encoded data removed]",
      "text/latex": [
       "$\\displaystyle \\left[ \\frac{- C_{3} R_{5} - \\sqrt{C_{3}^{2} R_{5}^{2} - 4 C_{3} L_{3}}}{2 C_{3} L_{3}}, \\  \\frac{- C_{3} R_{5} + \\sqrt{C_{3}^{2} R_{5}^{2} - 4 C_{3} L_{3}}}{2 C_{3} L_{3}}, \\  \\frac{- L_{2} - \\sqrt{- 4 C_{2} L_{2} R_{4}^{2} + L_{2}^{2}}}{2 C_{2} L_{2} R_{4}}, \\  \\frac{- L_{2} + \\sqrt{- 4 C_{2} L_{2} R_{4}^{2} + L_{2}^{2}}}{2 C_{2} L_{2} R_{4}}\\right]$"
      ],
      "text/plain": [
       "⎡            ___________________              ___________________           __\n",
       "⎢           ╱   2   2                        ╱   2   2                     ╱  \n",
       "⎢-C₃⋅R₅ - ╲╱  C₃ ⋅R₅  - 4⋅C₃⋅L₃   -C₃⋅R₅ + ╲╱  C₃ ⋅R₅  - 4⋅C₃⋅L₃   -L₂ - ╲╱  -\n",
       "⎢───────────────────────────────, ───────────────────────────────, ───────────\n",
       "⎣            2⋅C₃⋅L₃                          2⋅C₃⋅L₃                        2\n",
       "\n",
       "___________________           _____________________⎤\n",
       "           2     2           ╱             2     2 ⎥\n",
       " 4⋅C₂⋅L₂⋅R₄  + L₂    -L₂ + ╲╱  - 4⋅C₂⋅L₂⋅R₄  + L₂  ⎥\n",
       "───────────────────, ──────────────────────────────⎥\n",
       "⋅C₂⋅L₂⋅R₄                      2⋅C₂⋅L₂⋅R₄          ⎦"
      ]
     },
     "execution_count": 56,
     "metadata": {},
     "output_type": "execute_result"
    }
   ],
   "source": [
    "solve(n,s)"
   ]
  },
  {
   "cell_type": "code",
   "execution_count": 57,
   "id": "74ef0cc3-da02-41e1-8d17-554cafd95abe",
   "metadata": {},
   "outputs": [],
   "source": [
    "#solve(d,s)"
   ]
  },
  {
   "cell_type": "code",
   "execution_count": null,
   "id": "46a81f1d-3b0e-49c8-8f97-47692e559f9a",
   "metadata": {},
   "outputs": [],
   "source": []
  },
  {
   "cell_type": "code",
   "execution_count": null,
   "id": "67992515-f274-47fa-9526-146910356b6f",
   "metadata": {},
   "outputs": [],
   "source": []
  },
  {
   "cell_type": "markdown",
   "id": "1f1e4074-205f-47e3-973e-ccb1c266e99e",
   "metadata": {},
   "source": [
    "## Numerical example\n",
    "Put some element values in  \n",
    "\n",
    "R = 1k  \n",
    "L = 1uH  \n",
    "C = 1nF  \n",
    "\n",
    "Replace the above with some non ideal values\n",
    "\n",
    "Non ideal capacitor\n",
    "\n",
    "Non ideal inductor\n",
    "\n",
    "give branches different resonant frequencies"
   ]
  },
  {
   "cell_type": "code",
   "execution_count": 58,
   "id": "2da4c052-bc73-4af5-99ab-e58126a6aa44",
   "metadata": {},
   "outputs": [
    {
     "data": {
      "image/png": "[encoded data removed]",
      "text/latex": [
       "$\\displaystyle \\left\\{ C_{1} : 1.0, \\  C_{2} : 1.0, \\  C_{3} : 1.0, \\  L_{1} : 1.0, \\  L_{2} : 1.0, \\  L_{3} : 1.0, \\  R_{1} : 1.0, \\  R_{2} : 1.0, \\  R_{3} : 1.0, \\  R_{4} : 1.0, \\  R_{5} : 1.0, \\  R_{6} : 1.0, \\  V_{1} : 1.0\\right\\}$"
      ],
      "text/plain": [
       "{C₁: 1.0, C₂: 1.0, C₃: 1.0, L₁: 1.0, L₂: 1.0, L₃: 1.0, R₁: 1.0, R₂: 1.0, R₃: 1\n",
       ".0, R₄: 1.0, R₅: 1.0, R₆: 1.0, V₁: 1.0}"
      ]
     },
     "execution_count": 58,
     "metadata": {},
     "output_type": "execute_result"
    }
   ],
   "source": [
    "element_values"
   ]
  },
  {
   "cell_type": "code",
   "execution_count": 59,
   "id": "3f8686a4-54a6-4297-ae50-bb4c9f6f921b",
   "metadata": {},
   "outputs": [],
   "source": [
    "element_values[C1] = 1e-9\n",
    "element_values[C2] = 1e-9\n",
    "element_values[C3] = 1e-9\n",
    "\n",
    "element_values[L1] = 1e-6\n",
    "element_values[L2] = 1e-6\n",
    "element_values[L3] = 1e-6\n",
    "\n",
    "element_values[R1] = 1e3\n",
    "element_values[R2] = 1e3\n",
    "element_values[R3] = 1e3\n",
    "element_values[R4] = 1e3\n",
    "element_values[R5] = 1e3\n",
    "element_values[R6] = 1e3"
   ]
  },
  {
   "cell_type": "code",
   "execution_count": 60,
   "id": "e55ac4cf-0f3d-40c5-b1cc-ce130a567fad",
   "metadata": {},
   "outputs": [
    {
     "data": {
      "image/png": "[encoded data removed]",
      "text/latex": [
       "$\\displaystyle \\left\\{ C_{1} : 1.0 \\cdot 10^{-9}, \\  C_{2} : 1.0 \\cdot 10^{-9}, \\  C_{3} : 1.0 \\cdot 10^{-9}, \\  L_{1} : 1.0 \\cdot 10^{-6}, \\  L_{2} : 1.0 \\cdot 10^{-6}, \\  L_{3} : 1.0 \\cdot 10^{-6}, \\  R_{1} : 1000.0, \\  R_{2} : 1000.0, \\  R_{3} : 1000.0, \\  R_{4} : 1000.0, \\  R_{5} : 1000.0, \\  R_{6} : 1000.0, \\  V_{1} : 1.0\\right\\}$"
      ],
      "text/plain": [
       "{C₁: 1e-09, C₂: 1e-09, C₃: 1e-09, L₁: 1e-06, L₂: 1e-06, L₃: 1e-06, R₁: 1000.0,\n",
       " R₂: 1000.0, R₃: 1000.0, R₄: 1000.0, R₅: 1000.0, R₆: 1000.0, V₁: 1.0}"
      ]
     },
     "execution_count": 60,
     "metadata": {},
     "output_type": "execute_result"
    }
   ],
   "source": [
    "element_values"
   ]
  },
  {
   "cell_type": "code",
   "execution_count": null,
   "id": "e6a2c52a-c128-4e77-896b-a3ad45ff7cb6",
   "metadata": {},
   "outputs": [],
   "source": []
  },
  {
   "cell_type": "markdown",
   "id": "fdd6f874-c6ae-457b-bd83-9d2b8ff7c080",
   "metadata": {
    "tags": []
   },
   "source": [
    "### Numerical solution"
   ]
  },
  {
   "cell_type": "code",
   "execution_count": 61,
   "id": "971a848d-3aa0-41f3-8cc6-07cbc24544f1",
   "metadata": {},
   "outputs": [
    {
     "data": {
      "text/latex": [
       "$\\displaystyle \\left[\\begin{matrix}0.003 v_{1} - 0.001 v_{3} - 0.001 v_{4} - 0.001 v_{8}\\\\- I_{L2} + v_{2} \\cdot \\left(1.0 \\cdot 10^{-9} s + 0.003\\right) + v_{3} \\left(- 1.0 \\cdot 10^{-9} s - 0.001\\right) - 0.001 v_{6}\\\\I_{L2} - 0.001 v_{1} + v_{2} \\left(- 1.0 \\cdot 10^{-9} s - 0.001\\right) + v_{3} \\cdot \\left(1.0 \\cdot 10^{-9} s + 0.002\\right)\\\\I_{L1} - 0.001 v_{1} + 0.001 v_{4}\\\\- I_{L1} + 1.0 \\cdot 10^{-9} s v_{5}\\\\I_{L3} - 0.001 v_{2} + 0.001 v_{6}\\\\- I_{L3} + 1.0 \\cdot 10^{-9} s v_{7}\\\\I_{V1} - 0.001 v_{1} + 0.001 v_{8}\\\\v_{8}\\\\- 1.0 \\cdot 10^{-6} I_{L1} s + v_{4} - v_{5}\\\\- 1.0 \\cdot 10^{-6} I_{L2} s - v_{2} + v_{3}\\\\- 1.0 \\cdot 10^{-6} I_{L3} s + v_{6} - v_{7}\\end{matrix}\\right] = \\left[\\begin{matrix}0\\\\0\\\\0\\\\0\\\\0\\\\0\\\\0\\\\0\\\\1.0\\\\0\\\\0\\\\0\\end{matrix}\\right]$"
      ],
      "text/plain": [
       "⎡            0.003⋅v₁ - 0.001⋅v₃ - 0.001⋅v₄ - 0.001⋅v₈            ⎤   ⎡ 0 ⎤\n",
       "⎢                                                                 ⎥   ⎢   ⎥\n",
       "⎢-I_L2 + v₂⋅(1.0e-9⋅s + 0.003) + v₃⋅(-1.0e-9⋅s - 0.001) - 0.001⋅v₆⎥   ⎢ 0 ⎥\n",
       "⎢                                                                 ⎥   ⎢   ⎥\n",
       "⎢I_L2 - 0.001⋅v₁ + v₂⋅(-1.0e-9⋅s - 0.001) + v₃⋅(1.0e-9⋅s + 0.002) ⎥   ⎢ 0 ⎥\n",
       "⎢                                                                 ⎥   ⎢   ⎥\n",
       "⎢                   I_L1 - 0.001⋅v₁ + 0.001⋅v₄                    ⎥   ⎢ 0 ⎥\n",
       "⎢                                                                 ⎥   ⎢   ⎥\n",
       "⎢                       -I_L1 + 1.0e-9⋅s⋅v₅                       ⎥   ⎢ 0 ⎥\n",
       "⎢                                                                 ⎥   ⎢   ⎥\n",
       "⎢                   I_L3 - 0.001⋅v₂ + 0.001⋅v₆                    ⎥   ⎢ 0 ⎥\n",
       "⎢                                                                 ⎥ = ⎢   ⎥\n",
       "⎢                       -I_L3 + 1.0e-9⋅s⋅v₇                       ⎥   ⎢ 0 ⎥\n",
       "⎢                                                                 ⎥   ⎢   ⎥\n",
       "⎢                   I_V1 - 0.001⋅v₁ + 0.001⋅v₈                    ⎥   ⎢ 0 ⎥\n",
       "⎢                                                                 ⎥   ⎢   ⎥\n",
       "⎢                               v₈                                ⎥   ⎢1.0⎥\n",
       "⎢                                                                 ⎥   ⎢   ⎥\n",
       "⎢                    -1.0e-6⋅I_L1⋅s + v₄ - v₅                     ⎥   ⎢ 0 ⎥\n",
       "⎢                                                                 ⎥   ⎢   ⎥\n",
       "⎢                    -1.0e-6⋅I_L2⋅s - v₂ + v₃                     ⎥   ⎢ 0 ⎥\n",
       "⎢                                                                 ⎥   ⎢   ⎥\n",
       "⎣                    -1.0e-6⋅I_L3⋅s + v₆ - v₇                     ⎦   ⎣ 0 ⎦"
      ]
     },
     "execution_count": 61,
     "metadata": {},
     "output_type": "execute_result"
    }
   ],
   "source": [
    "NE = NE_sym.subs(element_values)\n",
    "NE"
   ]
  },
  {
   "cell_type": "code",
   "execution_count": null,
   "id": "e4521d60-67cb-4edd-82e9-4c377d43b908",
   "metadata": {},
   "outputs": [],
   "source": []
  },
  {
   "cell_type": "code",
   "execution_count": 62,
   "id": "dc0aad7f-9240-4dfc-8bbf-cb22f580cad3",
   "metadata": {},
   "outputs": [],
   "source": [
    "U = solve(NE,X)"
   ]
  },
  {
   "cell_type": "code",
   "execution_count": 63,
   "id": "1adf8535-8f10-44f6-9cef-962c44147546",
   "metadata": {},
   "outputs": [
    {
     "data": {
      "text/markdown": [
       "$v_{1} = \\frac{2.0 s^{6} + 5003000000.0 s^{5} + 3.014 \\cdot 10^{18} s^{4} + 1.5006 \\cdot 10^{25} s^{3} + 3.014 \\cdot 10^{33} s^{2} + 5.003 \\cdot 10^{39} s + 2.0 \\cdot 10^{45}}{3.0 s^{6} + 10004000000.0 s^{5} + 8.023 \\cdot 10^{18} s^{4} + 3.2008 \\cdot 10^{25} s^{3} + 8.023 \\cdot 10^{33} s^{2} + 1.0004 \\cdot 10^{40} s + 3.0 \\cdot 10^{45}}$<br>$v_{2} = \\frac{s^{6} + 2001000000.0 s^{5} + 1.005 \\cdot 10^{18} s^{4} + 5.002 \\cdot 10^{24} s^{3} + 1.005 \\cdot 10^{33} s^{2} + 2.001 \\cdot 10^{39} s + 1.0 \\cdot 10^{45}}{3.0 s^{6} + 10004000000.0 s^{5} + 8.023 \\cdot 10^{18} s^{4} + 3.2008 \\cdot 10^{25} s^{3} + 8.023 \\cdot 10^{33} s^{2} + 1.0004 \\cdot 10^{40} s + 3.0 \\cdot 10^{45}}$<br>$v_{3} = \\frac{s^{6} + 2002000000.0 s^{5} + 1.008 \\cdot 10^{18} s^{4} + 7.004 \\cdot 10^{24} s^{3} + 1.008 \\cdot 10^{33} s^{2} + 2.002 \\cdot 10^{39} s + 1.0 \\cdot 10^{45}}{3.0 s^{6} + 10004000000.0 s^{5} + 8.023 \\cdot 10^{18} s^{4} + 3.2008 \\cdot 10^{25} s^{3} + 8.023 \\cdot 10^{33} s^{2} + 1.0004 \\cdot 10^{40} s + 3.0 \\cdot 10^{45}}$<br>$v_{4} = \\frac{2.0 s^{6} + 3003000000.0 s^{5} + 1.1 \\cdot 10^{16} s^{4} + 6.006 \\cdot 10^{24} s^{3} + 1.1 \\cdot 10^{31} s^{2} + 3.003 \\cdot 10^{39} s + 2.0 \\cdot 10^{45}}{3.0 s^{6} + 10004000000.0 s^{5} + 8.023 \\cdot 10^{18} s^{4} + 3.2008 \\cdot 10^{25} s^{3} + 8.023 \\cdot 10^{33} s^{2} + 1.0004 \\cdot 10^{40} s + 3.0 \\cdot 10^{45}}$<br>$v_{5} = \\frac{2.0 \\cdot 10^{15} s^{4} + 3.003 \\cdot 10^{24} s^{3} + 9.0 \\cdot 10^{30} s^{2} + 3.003 \\cdot 10^{39} s + 2.0 \\cdot 10^{45}}{3.0 s^{6} + 10004000000.0 s^{5} + 8.023 \\cdot 10^{18} s^{4} + 3.2008 \\cdot 10^{25} s^{3} + 8.023 \\cdot 10^{33} s^{2} + 1.0004 \\cdot 10^{40} s + 3.0 \\cdot 10^{45}}$<br>$v_{6} = \\frac{s^{6} + 1001000000.0 s^{5} + 4.0 \\cdot 10^{15} s^{4} + 2.002 \\cdot 10^{24} s^{3} + 4.0 \\cdot 10^{30} s^{2} + 1.001 \\cdot 10^{39} s + 1.0 \\cdot 10^{45}}{3.0 s^{6} + 10004000000.0 s^{5} + 8.023 \\cdot 10^{18} s^{4} + 3.2008 \\cdot 10^{25} s^{3} + 8.023 \\cdot 10^{33} s^{2} + 1.0004 \\cdot 10^{40} s + 3.0 \\cdot 10^{45}}$<br>$v_{7} = \\frac{1.0 \\cdot 10^{15} s^{4} + 1.001 \\cdot 10^{24} s^{3} + 3.0 \\cdot 10^{30} s^{2} + 1.001 \\cdot 10^{39} s + 1.0 \\cdot 10^{45}}{3.0 s^{6} + 10004000000.0 s^{5} + 8.023 \\cdot 10^{18} s^{4} + 3.2008 \\cdot 10^{25} s^{3} + 8.023 \\cdot 10^{33} s^{2} + 1.0004 \\cdot 10^{40} s + 3.0 \\cdot 10^{45}}$<br>$v_{8} = 1.0$<br>$I_{V1} = \\frac{- s^{6} - 5001000000.0 s^{5} - 5.009 \\cdot 10^{18} s^{4} - 1.7002 \\cdot 10^{25} s^{3} - 5.009 \\cdot 10^{33} s^{2} - 5.001 \\cdot 10^{39} s - 1.0 \\cdot 10^{45}}{3000.0 s^{6} + 10004000000000.0 s^{5} + 8.023 \\cdot 10^{21} s^{4} + 3.2008 \\cdot 10^{28} s^{3} + 8.023 \\cdot 10^{36} s^{2} + 1.0004 \\cdot 10^{43} s + 3.0 \\cdot 10^{48}}$<br>$I_{L1} = \\frac{2000000.0 s^{5} + 3.003 \\cdot 10^{15} s^{4} + 9.0 \\cdot 10^{21} s^{3} + 3.003 \\cdot 10^{30} s^{2} + 2.0 \\cdot 10^{36} s}{3.0 s^{6} + 10004000000.0 s^{5} + 8.023 \\cdot 10^{18} s^{4} + 3.2008 \\cdot 10^{25} s^{3} + 8.023 \\cdot 10^{33} s^{2} + 1.0004 \\cdot 10^{40} s + 3.0 \\cdot 10^{45}}$<br>$I_{L2} = \\frac{1000000000000.0 s^{2} + 1.0 \\cdot 10^{21} s + 1.0 \\cdot 10^{27}}{3.0 s^{4} + 4004000000.0 s^{3} + 1.2 \\cdot 10^{16} s^{2} + 4.004 \\cdot 10^{24} s + 3.0 \\cdot 10^{30}}$<br>$I_{L3} = \\frac{1000000.0 s^{5} + 1.001 \\cdot 10^{15} s^{4} + 3.0 \\cdot 10^{21} s^{3} + 1.001 \\cdot 10^{30} s^{2} + 1.0 \\cdot 10^{36} s}{3.0 s^{6} + 10004000000.0 s^{5} + 8.023 \\cdot 10^{18} s^{4} + 3.2008 \\cdot 10^{25} s^{3} + 8.023 \\cdot 10^{33} s^{2} + 1.0004 \\cdot 10^{40} s + 3.0 \\cdot 10^{45}}$<br>"
      ],
      "text/plain": [
       "<IPython.core.display.Markdown object>"
      ]
     },
     "execution_count": 63,
     "metadata": {},
     "output_type": "execute_result"
    }
   ],
   "source": [
    "temp = ''\n",
    "for i in U.keys():\n",
    "    temp += '${:s} = {:s}$<br>'.format(latex(i),latex(U[i]))\n",
    "\n",
    "Markdown(temp)"
   ]
  },
  {
   "cell_type": "code",
   "execution_count": 64,
   "id": "79ed2014-28f0-4e72-9325-27b51c473d50",
   "metadata": {},
   "outputs": [
    {
     "data": {
      "image/png": "[encoded data removed]",
      "text/latex": [
       "$\\displaystyle \\frac{s^{4} + 1001000000 s^{3} + 3000000000000000 s^{2} + 1001000000000000000000000 s + 1000000000000000000000000000000}{2 \\left(s^{4} + 1501500000 s^{3} + 4500000000000000 s^{2} + 1501500000000000000000000 s + 1000000000000000000000000000000\\right)}$"
      ],
      "text/plain": [
       "   4               3                     2                                    \n",
       "  s  + 1001000000⋅s  + 3000000000000000⋅s  + 1001000000000000000000000⋅s + 100\n",
       "──────────────────────────────────────────────────────────────────────────────\n",
       "  ⎛ 4               3                     2                                   \n",
       "2⋅⎝s  + 1501500000⋅s  + 4500000000000000⋅s  + 1501500000000000000000000⋅s + 10\n",
       "\n",
       "                              \n",
       "0000000000000000000000000000  \n",
       "──────────────────────────────\n",
       "                             ⎞\n",
       "00000000000000000000000000000⎠"
      ]
     },
     "execution_count": 64,
     "metadata": {},
     "output_type": "execute_result"
    }
   ],
   "source": [
    "H = (U[v2]/U[v1]).nsimplify().simplify().expand().together()\n",
    "H"
   ]
  },
  {
   "cell_type": "markdown",
   "id": "3ae31e76-1cbc-4663-a243-3907e8d9fc8e",
   "metadata": {},
   "source": [
    "#### Convert transfer function to SciPy system\n",
    "In this section we convert the SymPy equations into Numpy format.  \n",
    "\n",
    "Extract the numerator and denominator polynomials so that the system can be defined in SciPy."
   ]
  },
  {
   "cell_type": "code",
   "execution_count": 65,
   "id": "4e76ce6b-2bb5-4fcc-8c1c-9e3ed0188103",
   "metadata": {
    "tags": []
   },
   "outputs": [],
   "source": [
    "H_num, H_denom = fraction(H) #returns numerator and denominator"
   ]
  },
  {
   "cell_type": "markdown",
   "id": "783ae2be-5658-47f7-9710-6fff34ebf3d3",
   "metadata": {},
   "source": [
    "The SciPy function, TransferFunction, represents the system as the continuous-time transfer function and takes as inputs the coeeficients of the numerator and denominator polynominals."
   ]
  },
  {
   "cell_type": "code",
   "execution_count": 66,
   "id": "e27351c4-6121-4f2f-b696-4a2bfaf02acd",
   "metadata": {
    "collapsed": false,
    "jupyter": {
     "outputs_hidden": false
    }
   },
   "outputs": [],
   "source": [
    "# convert symbolic to numpy polynomial\n",
    "a = np.array(Poly(H_num, s).all_coeffs(), dtype=float)\n",
    "b = np.array(Poly(H_denom, s).all_coeffs(), dtype=float)\n",
    "sys = signal.TransferFunction(a,b)"
   ]
  },
  {
   "cell_type": "markdown",
   "id": "f99db39b-fb81-4784-ac05-a9a89f0a9ec9",
   "metadata": {},
   "source": [
    "### Poles and zeros of the low pass transfer function\n",
    "The poles and zeros of the transfer function can easly be obtained with the following code:"
   ]
  },
  {
   "cell_type": "code",
   "execution_count": 67,
   "id": "048a358c-ff6e-4db7-9f35-95437c96bd06",
   "metadata": {},
   "outputs": [],
   "source": [
    "sys_zeros = np.roots(sys.num)\n",
    "sys_poles = np.roots(sys.den)"
   ]
  },
  {
   "cell_type": "markdown",
   "id": "2d169be1-48bc-47c5-9427-e9cf7011d84a",
   "metadata": {},
   "source": [
    "#### Low pass filter pole zero plot\n",
    "The poles and zeros of the preamp transfer function are plotted."
   ]
  },
  {
   "cell_type": "code",
   "execution_count": 68,
   "id": "4940e6bf-c50e-44f8-8d5d-f815e71e9369",
   "metadata": {},
   "outputs": [
    {
     "data": {
      "image/png": "[encoded data removed]",
      "text/plain": [
       "<Figure size 640x480 with 1 Axes>"
      ]
     },
     "metadata": {},
     "output_type": "display_data"
    }
   ],
   "source": [
    "plt.plot(np.real(sys_zeros), np.imag(sys_zeros), 'ob', markerfacecolor='none')\n",
    "plt.plot(np.real(sys_poles), np.imag(sys_poles), 'xr')\n",
    "plt.legend(['Zeros', 'Poles'], loc=0)\n",
    "plt.title('Pole / Zero Plot')\n",
    "plt.xlabel('real part, \\u03B1')\n",
    "plt.ylabel('imaginary part, j\\u03C9')\n",
    "plt.grid()\n",
    "plt.show()"
   ]
  },
  {
   "cell_type": "markdown",
   "id": "88e1300c-92fd-42eb-8d0e-dd6a7c3469ad",
   "metadata": {},
   "source": [
    "Poles and zeros of the transfer function plotted on the complex plane. The units are in radian frequency.\n",
    "\n",
    "Printing these values in Hz."
   ]
  },
  {
   "cell_type": "code",
   "execution_count": 69,
   "id": "d2864fb1-0a7d-43b4-b9df-90c522fbd270",
   "metadata": {},
   "outputs": [
    {
     "name": "stdout",
     "output_type": "stream",
     "text": [
      "number of zeros: 4\n",
      "-158,995,628.67+0.00j Hz\n",
      "-79,577.47+5,032,292.06j Hz\n",
      "-79,577.47-5,032,292.06j Hz\n",
      "-159,314.42+0.00j Hz\n"
     ]
    }
   ],
   "source": [
    "print('number of zeros: {:d}'.format(len(sys_zeros)))\n",
    "for i in sys_zeros:\n",
    "    print('{:,.2f} Hz'.format(i/(2*np.pi)))"
   ]
  },
  {
   "cell_type": "code",
   "execution_count": 70,
   "id": "4ed6ae13-3ab6-4953-95f2-6c3dcf385fea",
   "metadata": {},
   "outputs": [
    {
     "name": "stdout",
     "output_type": "stream",
     "text": [
      "number of poles: 4\n",
      "-238,599,696.99+0.00j Hz\n",
      "-132,643.87+5,031,172.98j Hz\n",
      "-132,643.87-5,031,172.98j Hz\n",
      "-106,162.31+0.00j Hz\n"
     ]
    }
   ],
   "source": [
    "print('number of poles: {:d}'.format(len(sys_poles)))\n",
    "for i in sys_poles:\n",
    "    print('{:,.2f} Hz'.format(i/(2*np.pi)))"
   ]
  },
  {
   "cell_type": "markdown",
   "id": "cf8d266e-39a1-42ca-92f1-cd45174221d7",
   "metadata": {
    "tags": []
   },
   "source": [
    "### Bode plot\n",
    "Use the SciPy function [bode](https://docs.scipy.org/doc/scipy/reference/generated/scipy.signal.bode.html) to plot the magnitude and phase of the filter. In electrical engineering, a [Bode plot](https://en.wikipedia.org/wiki/Bode_plot) is a graph of the frequency response of a system. It is usually a combination of the magnitude (usually in decibels) of the frequency response and the phase shift. As originally conceived by Hendrik Wade Bode in the 1930s, the plot is an asymptotic approximation of the frequency response, using straight line segments. Bode plots are used to assess the stability of systems by finding the gain and phase margins."
   ]
  },
  {
   "cell_type": "code",
   "execution_count": 71,
   "id": "e7397450-c0a7-4361-bd2e-c605837090b8",
   "metadata": {},
   "outputs": [
    {
     "data": {
      "image/png": "[encoded data removed]",
      "text/plain": [
       "<Figure size 640x480 with 2 Axes>"
      ]
     },
     "metadata": {},
     "output_type": "display_data"
    }
   ],
   "source": [
    "x = np.logspace(3, 10, 1000, endpoint=False)*2*np.pi\n",
    "w, mag, phase = signal.bode(sys, w=x) # returns: rad/s, mag in dB, phase in deg\n",
    "\n",
    "fig, ax1 = plt.subplots()\n",
    "ax1.set_ylabel('magnitude, dB')\n",
    "ax1.set_xlabel('frequency, Hz')\n",
    "\n",
    "plt.semilogx(w/(2*np.pi), mag,'-b')    # Bode magnitude plot\n",
    "\n",
    "ax1.tick_params(axis='y')\n",
    "#ax1.set_ylim((-30,20))\n",
    "plt.grid()\n",
    "\n",
    "# instantiate a second y-axes that shares the same x-axis\n",
    "ax2 = ax1.twinx()\n",
    "color = 'tab:blue'\n",
    "\n",
    "plt.semilogx(w/(2*np.pi), phase,':',color='tab:red')  # Bode phase plot\n",
    "\n",
    "ax2.set_ylabel('phase, deg',color=color)\n",
    "ax2.tick_params(axis='y', labelcolor=color)\n",
    "#ax2.set_ylim((-5,25))\n",
    "\n",
    "plt.title('Magnitude and phase response')\n",
    "plt.show()"
   ]
  },
  {
   "cell_type": "code",
   "execution_count": null,
   "id": "567a8a5d-5d4c-476e-abdf-598d5a94601f",
   "metadata": {},
   "outputs": [],
   "source": []
  }
 ],
 "metadata": {
  "kernelspec": {
   "display_name": "Python 3 (ipykernel)",
   "language": "python",
   "name": "python3"
  },
  "language_info": {
   "codemirror_mode": {
    "name": "ipython",
    "version": 3
   },
   "file_extension": ".py",
   "mimetype": "text/x-python",
   "name": "python",
   "nbconvert_exporter": "python",
   "pygments_lexer": "ipython3",
   "version": "3.10.9"
  }
 },
 "nbformat": 4,
 "nbformat_minor": 5
}
