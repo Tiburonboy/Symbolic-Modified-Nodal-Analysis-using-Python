{
 "cells": [
  {
   "cell_type": "raw",
   "id": "002cae08-875b-47b6-af47-8c2e6dde9c52",
   "metadata": {},
   "source": [
    "---\n",
    "title:\n",
    "format: \n",
    "    html:\n",
    "        code-fold: false\n",
    "        embed-resources: false\n",
    "        code-tools: true\n",
    "        number-sections: true\n",
    "jupyter: python3\n",
    "---"
   ]
  },
  {
   "cell_type": "markdown",
   "id": "91c1f00e-d817-4f50-b667-c24ea1914dca",
   "metadata": {},
   "source": [
    "# Pi-filter\n",
    "\n",
    "![Pi filter](Pi-Filter.png){#fig-pi-filter}  \n",
    "\n",
    "## Introduction\n",
    "A question posted on [Electronics Stackexchange](https://electronics.stackexchange.com/questions/681002/how-to-find-transfer-function-for-this-pi-filter-using-facts-method-with-6-react/681087#681087) by @user15174 looked interesting, he asked: \n",
    "\n",
    ">Am trying to apply the FACTS method to find out the transfer function for this circuit as shown below. This is a Pi-filter circuit with all its component parasitics and also including the source and load resistances. I would like to find out the transfer function of this circuit and match its plot from Mathcad with simulation.\n",
    "\n",
    ">First, to find out the zeros of the this transfer function by inspection, I placed all circuit elements in its high frequency state. I can observe the response Vout is still present. In that case, can I assume that this circuit has 6 zeros associated with it?\n",
    "\n",
    ">But as per the answer provided in this link, we have to place the other associated circuit element in its DC state and observe if the response is still present. Since this circuit has around 6 reactive elements, how do I decide which circuit element should be in DC State and which circuit element should be in high frequency state?\n",
    "\n",
    ">I was able to follow some examples done based on 2nd and 3rd order circuits shared in the above links. But with this circuit configuration and so many reactive elements, frankly am lost.\n",
    "It would be great if you could share some insight on how to derive the transfer function for this circuit including its poles and zeros.\n",
    "\n",
    "The FACTS (Fast Analytical Circuits Techniques) method refers to a circuit analysis technique that enables engineers to obtain the transfer functions and input and output impedances of a circuit by inspection without resorting to too much algebra. The circuits offered as illustrations of the technique are small with one or two branches. I was able to find several references on-line describing the FACTS method. \n",
    "\n",
    "@Middlebrook1991 seems to have been the first proponent of the method and describes what he calls design orientated analysis. He talks about low entropy equations, in which the terms and elements are ordered or grouped in such a way that their physical orgin, where they come from in the circuit, what part of the circuit contributes to this part of the final expression becomes obious. The method is also described in @Middlebrook1992. \n",
    "\n",
    "@basso2016 introduces the topic at a conference and has written a book on the subject. The method involves looking at time constants for branches with L's or C's. The advantage is that only pencil and paper are needed. \n",
    "\n",
    "<!--\n",
    "\n",
    "@basso2016, Introduction to Fast Analytical Techniques: Application to Small-Signal Modeling\n",
    "\n",
    "- Time Constants and Poles\n",
    "- Identifying the Zeros\n",
    "\n",
    "Involves looking at time constants for branches with L's or C's.   \n",
    "requires learning the technique, advantage is that only pencil and paper are needed. But are the results accurate?\n",
    "\n",
    "@Middlebrook1991, Low-entropy expressions: the key to design-oriented analysis\n",
    "\n",
    "- Design is the reverse of analysis\n",
    "- doing the algebra on the circuit diagram\n",
    "- gives a simple example, \n",
    "\n",
    "A low entropy equation is one in which the terms and elements are ordered or grouped in such a way that their physical orgin, where they come from in the circuit, what part of the circuit contributes to this part of the final expression becomes obious.\n",
    "\n",
    "conventional algebra leads to high entropy equations\n",
    "\n",
    "Look at his equations 1 and 2 and the way the terms are rearanged - are thses two equaliventy? \n",
    "\n",
    "@Middlebrook1992, Methods of design orientated analysis: the quadratic equation revisited\n",
    "\n",
    "Need to know the intent of purpose of the circuit (specifiction or requirements)\n",
    "\n",
    "What did the community provide as answers? and what did the answers say relative to the FACTS method.\n",
    "\n",
    "@basso2016, Introduction to Fast Analytical Techniques: Application to Small-Signal Modeling\n",
    "\n",
    "- Time Constants and Poles\n",
    "- Identifying the Zeros\n",
    "\n",
    "Involves looking at time constants for branches with L's or C's.   \n",
    "requires learning the technique, advantage is that only pencil and paper are needed. But are the results accurate?\n",
    "-->\n",
    "\n",
    "<!--\n",
    "The FACTS reference is from @basso2016\n",
    "\n",
    "https://electronics.stackexchange.com/questions/681002/how-to-find-transfer-function-for-this-pi-filter-using-facts-method-with-6-react/681087#681087\n",
    "\n",
    "Get a list of references.\n",
    "\n",
    "What is the FACTS method?  See presentation for somewhat of an explination\n",
    "\n",
    "- Brute-force algebra complicates analysis  \n",
    "- More energy is needed to unveil these terms  \n",
    "- factor and rearrange coefficients  \n",
    "- simplify numerator and denominator  \n",
    "- Don’t make mistakes!  \n",
    "\n",
    "This is a high-entropy expression  \n",
    "\n",
    "- What if you could write the expression in one shot?  \n",
    "- Naturally reading gains, poles and zeros...  \n",
    "- This is a low-entropy expression  \n",
    "\n",
    "- Fast Analytical Techniques at a Glance  \n",
    "- Look at the circuit for s = 0  \n",
    "- Capacitor are open circuited  \n",
    "- Inductors are short circuited  \n",
    "- SPICE operating point calculation  \n",
    "- Determine the gain in this condition\n",
    "\n",
    "\n",
    "- Plotting a transfer function is easy with nowadays tools\n",
    "- You have no insight on what affects poles or zeros\n",
    "- Analytical analysis is important but the form matters\n",
    "- A low-entropy expression unveils contributors to poles/zeros\n",
    "- FACTs naturally lead to low-entropy expressions\n",
    "- Break the circuit into simple schematics\n",
    "- Determine time constants in each configuration\n",
    "- Small-signal analysis makes extensive use of FACTs\n",
    "- SPICE and Mathcad are useful instruments to track errors\n",
    "- Becoming skilled with FACT requires practice and tenacity!\n",
    "\n",
    "\n",
    "@fig-pi-filter\n",
    "\n",
    "- why this circuit?\n",
    "- what if parisidic elements are set to zero?\n",
    "\n",
    "-->\n",
    "\n",
    "## Community answers\n",
    "The answeres provided by the community involved reducing the circuit to Z1, Z2 and Z3 as shown in @fig-pi-filter-facts and then substituting back into the transfer function the impedances for each of the Z's. The assurtion made by the proponents of FACTS, is that brute force circuit analysis is complicated and error prone. The results of the brute force analysis are what the authors call high entropy expressions that offer little insight into the operation of the circuit. A low entropy expression allows one to naturally read the gains, poles and zeros of the expression, which is what FACTS aims to provide.   \n",
    "\n",
    "From what I gather, FACTS is a circuit analysis method where the transfer function is determined by some simple techniques and the poles and zeros of the transfer function are relatable to parts of the circuit and thereby some insight is gained into the operation of the circuit. But the simple techniques do take some practice and proficiency to master. The main advantage seems to be is the analysis technique can be quickly done with pencil and paper by hand without using a computer or calculator to solve several equations to find the node voltages. \n",
    "\n",
    "There are two answers provided by the community, user @user347817 provided a detailed and user Telsa23 provided a shorter answer, both are described below.\n",
    "\n",
    "## Circuit description\n",
    "@fig-pi-filter shows the schematic as I re-drew it with LTSpice. I numbered each of the nodes and made some changes to the reference designators. In the orginal question, no component values were provided. I set the component values so that the numerical values of the poles and zeros could be calculated and not be located at the same frequecies on the complex plane. The circuit is a three section ladder filter and these are sometimes called Pi filters because the connection represent the greek letter $\\pi$. $R_{In}$ and $R_{Out}$ are the input and out put impedances of the preceding and subsequent stages, so I relabled them as such. The questioneer didn't provide any explination about the application of this circuit or if the R's L's and C's are non-ideal models of the actual components. The circuit has 13 branches and 8 nodes.  \n",
    "\n",
    "## Circuit analysis\n",
    "MNA will be used to 'brute force' analyze the circuit and solve for the transfer function and find the poles and zeros using the power of Python and SymPy. Then a FACTS type analysis will be attempted, where the branches  of the Pi filter will be combined into an impedance and then the network will be solved. The proposed solutions offered by the comminity for the question calculated the transfer function from v2 to v8.   \n",
    "\n",
    "The net list for the filter is:\n",
    "```\n",
    "V1 8 0 1\n",
    "R_in 1 8 1\n",
    "R1 1 4 1\n",
    "Ra 3 1 1\n",
    "R2 2 3 0.5\n",
    "R3 2 6 1\n",
    "R_out 2 0 1\n",
    "L1 4 5 1 Rser=0\n",
    "L2 3 2 1 Rser=0\n",
    "L3 6 7 0.5 Rser=0\n",
    "C1 5 0 1\n",
    "C2 2 3 0.5\n",
    "C3 7 0 0.5\n",
    "```\n",
    "\n",
    "The following Python modules are used."
   ]
  },
  {
   "cell_type": "code",
   "execution_count": 1,
   "id": "82d2408a-1ab4-42fa-8f0b-f7b5f7d9a9e3",
   "metadata": {
    "collapsed": false,
    "jupyter": {
     "outputs_hidden": false
    }
   },
   "outputs": [],
   "source": [
    "from sympy import *\n",
    "import numpy as np\n",
    "from tabulate import tabulate\n",
    "import pandas as pd\n",
    "from scipy import signal\n",
    "import matplotlib.pyplot as plt\n",
    "import SymMNA\n",
    "from IPython.display import display, Markdown, Math, Latex\n",
    "init_printing()"
   ]
  },
  {
   "cell_type": "raw",
   "id": "650ed284-8e6b-486d-ad11-57ec8663cbf8",
   "metadata": {
    "jupyter": {
     "source_hidden": true
    },
    "tags": []
   },
   "source": [
    "<!--\n",
    "Notes from reference material\n",
    "1) @Middlebrook1991, Low-entropy expressions: the key to design-oriented analysis\n",
    "- Design is the reverse of analysis\n",
    "- doing the algebra on the circuit diagram\n",
    "- gives a simple example, \n",
    "\n",
    "A low entropy equation is one in which the terms and elements are ordered or grouped in such a way that their physical orgin, where they come from in the circuit, what part of the circuit contributes to this part of the final expression becomes obious.\n",
    "\n",
    "conventional algebra leads to high entropy equations\n",
    "\n",
    "Look at his equations 1 and 2 and the way the terms are rearanged - are thses two equaliventy? \n",
    "\n",
    "2) @Middlebrook1992, Methods of design orientated analysis: the quadratic equation revisited\n",
    "\n",
    "Need to know the intent of purpose of the circuit (specifiction or requirements)\n",
    "\n",
    "What did the community provide as answers? and what did the answers say relative to the FACTS method.\n",
    "\n",
    "3) @basso2016, Introduction to Fast Analytical Techniques: Application to Small-Signal Modeling\n",
    "- Time Constants and Poles\n",
    "- Identifying the Zeros\n",
    "\n",
    "Involves looking at time constants for branches with L's or C's.   \n",
    "requires learning the technique, advantage is that only pencil and paper are needed. But are the results accurate?\n",
    "\n",
    "4) Book: Fast analytical techniques for electrical and electronic circuits\n",
    "only have TOC\n",
    "- Today, the only method of circuit analysis known to most engineers and students is nodal or loop analysis. Although this works well for obtaining numerical solutions, it is almost useless for obtaining analytical solutions in all but the simplest cases.\n",
    "\n",
    "Not true - symbolic NMA is available\n",
    "\n",
    "- use less algebra and do most of it directly on the circuit diagram,\n",
    "- obtain meaningful analytical solutions to complex circuits with reactive elements and dependent sources by reducing them to a set of simple and purely resistive circuits which can be analyzed by inspection,\n",
    "- analyze feedback amplifiers easily using the simplest and most natural formulation,\n",
    "- analyze PWM converters easily using the model of the PWM switch.\n",
    "\n",
    "\n",
    "6) Linear Circuit Transfer Functions: An Introduction to Fast Analytical Techniques (IEEE Press) 1st Edition\n",
    "by Christophe P. Basso (Author)\n",
    "https://www.amazon.com/dp/1119236371\n",
    "\n",
    "Linear Circuit Transfer Functions: An introduction to Fast Analytical Techniques teaches readers how to determine transfer functions of linear passive and active circuits by applying Fast Analytical Circuits Techniques. Building on their existing knowledge of classical loop/nodal analysis, the book improves and expands their skills to unveil transfer functions in a swift and efficient manner.\n",
    "\n",
    "Starting with simple examples, the author explains step-by-step how expressing circuits time constants in different configurations leads to writing transfer functions in a compact and insightful way. By learning how to organize numerators and denominators in the fastest possible way, readers will speed-up analysis and predict the frequency response of simple to complex circuits. In some cases, they will be able to derive the final expression by inspection, without writing a line of algebra.\n",
    "\n",
    "Key features:\n",
    "\n",
    "- Emphasizes analysis through employing time constant-based methods discussed in other text books but not widely used or explained.\n",
    "- Develops current techniques on transfer functions, to fast analytical techniques leading to low-entropy transfer functions immediately exploitable for analysis purposes.\n",
    "- Covers calculation techniques pertinent to different fields, electrical, electronics, signal processing etc.\n",
    "- Describes how a technique is applied and demonstrates this through real design examples.\n",
    "- All Mathcad® files used in examples and problems are freely available for download.\n",
    "\n",
    "An ideal reference for electronics or electrical engineering professionals as well as BSEE and MSEE students, this book will help teach them how to: become skilled in the art of determining transfer function by using less algebra and obtaining results in a more effectual way; gain insight into a circuit’s operation by understanding how time constants rule dynamic responses; apply Fast Analytical Techniques to simple and complicated circuits, passive or active and be more efficient at solving problems.\n",
    "\n",
    "Of the skills needed to be an analog circuit engineer, one of them is the ability to construct from a circuit diagram a representation of the behavior of the circuit. For linear circuits, the well-established general scheme has been to express behavior in the complex frequency or s-domain. The cause-effect, or input-output behavior of a circuit is its transfer function, and when expressed as a function of s, essentially all that circuit engineers are interested in can be found from it (including the time-domain response) - hence the importance of transfer functions expressed in the s-domain. \n",
    "\n",
    "Circuits can often be compartmentalized into stages with only one or two reactances in each stage. These circuits can be formidable to analyze for engineers unaccustomed to using much math, yet Basso’s book presents higher-level circuit theorems or methods that reduce their apparent complexity. Chapter one starts easy, explaining basic concepts such as a port, the four possible transfer functions (input-output combinations of voltage and current), voltage dividers, Thevenin’s and Norton’s theorems, and how by shorting and opening circuits at the reactances, time constants can be found. These concepts form the “building blocks” for finding the three parameters of greatest interest: the transfer functions and input and output impedances. \n",
    "\n",
    "-->"
   ]
  },
  {
   "cell_type": "markdown",
   "id": "5716c01c-a760-466e-886e-c4b108aadcfe",
   "metadata": {
    "tags": []
   },
   "source": [
    "## 'Brute Force' Symbolic MNA procedure\n",
    "Doing a so called brute force analysis. The goal is to get the transfer function and the poles and zeros. \n",
    "\n",
    "Load the netlist"
   ]
  },
  {
   "cell_type": "code",
   "execution_count": 2,
   "id": "b1a234ff-9126-4b32-bf7d-5a904b0921a1",
   "metadata": {},
   "outputs": [],
   "source": [
    "net_list = '''\n",
    "V1 8 0 1\n",
    "R_in 1 8 1\n",
    "R1 1 4 1\n",
    "Ra 3 1 1\n",
    "R2 2 3 0.5\n",
    "R3 2 6 1\n",
    "R_out 2 0 1\n",
    "L1 4 5 1 \n",
    "L2 3 2 1 \n",
    "L3 6 7 0.5 \n",
    "C1 5 0 1\n",
    "C2 2 3 0.5\n",
    "C3 7 0 0.5\n",
    "'''"
   ]
  },
  {
   "cell_type": "markdown",
   "id": "4d1a7371-adb8-44e0-80c8-42911538f2c6",
   "metadata": {},
   "source": [
    "Generate the network equations."
   ]
  },
  {
   "cell_type": "code",
   "execution_count": 3,
   "id": "2d5ad24d-dcae-40b8-8ac3-64092f754fa6",
   "metadata": {},
   "outputs": [],
   "source": [
    "report, network_df, df2, A, X, Z = SymMNA.smna(net_list)\n",
    "\n",
    "# Put matricies into SymPy \n",
    "X = Matrix(X)\n",
    "Z = Matrix(Z)\n",
    "\n",
    "NE_sym = Eq(A*X,Z)"
   ]
  },
  {
   "cell_type": "markdown",
   "id": "c08d6069-9b2d-4298-894c-734afd57b1f8",
   "metadata": {},
   "source": [
    "Generate markdown text to display the network equations."
   ]
  },
  {
   "cell_type": "code",
   "execution_count": 4,
   "id": "ddf3ee53-4f3c-4fc9-81d2-bd7bbcdd5cdc",
   "metadata": {},
   "outputs": [
    {
     "data": {
      "text/markdown": [
       "$v_{1} \\cdot \\left(\\frac{1}{Ra} + \\frac{1}{R_{in}} + \\frac{1}{R_{1}}\\right) - \\frac{v_{3}}{Ra} - \\frac{v_{8}}{R_{in}} - \\frac{v_{4}}{R_{1}} = 0$<br>$- I_{L2} + v_{2} \\left(C_{2} s + \\frac{1}{R_{out}} + \\frac{1}{R_{3}} + \\frac{1}{R_{2}}\\right) + v_{3} \\left(- C_{2} s - \\frac{1}{R_{2}}\\right) - \\frac{v_{6}}{R_{3}} = 0$<br>$I_{L2} + v_{2} \\left(- C_{2} s - \\frac{1}{R_{2}}\\right) + v_{3} \\left(C_{2} s + \\frac{1}{Ra} + \\frac{1}{R_{2}}\\right) - \\frac{v_{1}}{Ra} = 0$<br>$I_{L1} - \\frac{v_{1}}{R_{1}} + \\frac{v_{4}}{R_{1}} = 0$<br>$C_{1} s v_{5} - I_{L1} = 0$<br>$I_{L3} - \\frac{v_{2}}{R_{3}} + \\frac{v_{6}}{R_{3}} = 0$<br>$C_{3} s v_{7} - I_{L3} = 0$<br>$I_{V1} - \\frac{v_{1}}{R_{in}} + \\frac{v_{8}}{R_{in}} = 0$<br>$v_{8} = V_{1}$<br>$- I_{L1} L_{1} s + v_{4} - v_{5} = 0$<br>$- I_{L2} L_{2} s - v_{2} + v_{3} = 0$<br>$- I_{L3} L_{3} s + v_{6} - v_{7} = 0$<br>"
      ],
      "text/plain": [
       "<IPython.core.display.Markdown object>"
      ]
     },
     "execution_count": 4,
     "metadata": {},
     "output_type": "execute_result"
    }
   ],
   "source": [
    "temp = ''\n",
    "for i in range(len(X)):\n",
    "    temp += '${:s}$<br>'.format(latex(Eq((A*X)[i:i+1][0],Z[i])))\n",
    "\n",
    "Markdown(temp)"
   ]
  },
  {
   "cell_type": "markdown",
   "id": "011de790-2fe5-4406-9729-8227b434c78a",
   "metadata": {},
   "source": [
    "As shown above MNA generated many equations and these would be difficult to solve by hand and a symbolic soultion would take a lot of computing time. The equations are displayed in matrix notation."
   ]
  },
  {
   "cell_type": "code",
   "execution_count": 5,
   "id": "7a5b187a-0236-4159-9603-3f057665309d",
   "metadata": {},
   "outputs": [
    {
     "data": {
      "text/latex": [
       "$\\displaystyle \\left[\\begin{matrix}v_{1} \\cdot \\left(\\frac{1}{Ra} + \\frac{1}{R_{in}} + \\frac{1}{R_{1}}\\right) - \\frac{v_{3}}{Ra} - \\frac{v_{8}}{R_{in}} - \\frac{v_{4}}{R_{1}}\\\\- I_{L2} + v_{2} \\left(C_{2} s + \\frac{1}{R_{out}} + \\frac{1}{R_{3}} + \\frac{1}{R_{2}}\\right) + v_{3} \\left(- C_{2} s - \\frac{1}{R_{2}}\\right) - \\frac{v_{6}}{R_{3}}\\\\I_{L2} + v_{2} \\left(- C_{2} s - \\frac{1}{R_{2}}\\right) + v_{3} \\left(C_{2} s + \\frac{1}{Ra} + \\frac{1}{R_{2}}\\right) - \\frac{v_{1}}{Ra}\\\\I_{L1} - \\frac{v_{1}}{R_{1}} + \\frac{v_{4}}{R_{1}}\\\\C_{1} s v_{5} - I_{L1}\\\\I_{L3} - \\frac{v_{2}}{R_{3}} + \\frac{v_{6}}{R_{3}}\\\\C_{3} s v_{7} - I_{L3}\\\\I_{V1} - \\frac{v_{1}}{R_{in}} + \\frac{v_{8}}{R_{in}}\\\\v_{8}\\\\- I_{L1} L_{1} s + v_{4} - v_{5}\\\\- I_{L2} L_{2} s - v_{2} + v_{3}\\\\- I_{L3} L_{3} s + v_{6} - v_{7}\\end{matrix}\\right] = \\left[\\begin{matrix}0\\\\0\\\\0\\\\0\\\\0\\\\0\\\\0\\\\0\\\\V_{1}\\\\0\\\\0\\\\0\\end{matrix}\\right]$"
      ],
      "text/plain": [
       "⎡              ⎛1     1    1 ⎞   v₃    v₈   v₄            ⎤       \n",
       "⎢           v₁⋅⎜── + ─── + ──⎟ - ── - ─── - ──            ⎥       \n",
       "⎢              ⎝Ra   Rᵢₙ   R₁⎠   Ra   Rᵢₙ   R₁            ⎥       \n",
       "⎢                                                         ⎥       \n",
       "⎢           ⎛        1     1    1 ⎞      ⎛        1 ⎞   v₆⎥       \n",
       "⎢-I_L2 + v₂⋅⎜C₂⋅s + ──── + ── + ──⎟ + v₃⋅⎜-C₂⋅s - ──⎟ - ──⎥       \n",
       "⎢           ⎝       Rₒᵤₜ   R₃   R₂⎠      ⎝        R₂⎠   R₃⎥   ⎡0 ⎤\n",
       "⎢                                                         ⎥   ⎢  ⎥\n",
       "⎢              ⎛        1 ⎞      ⎛       1    1 ⎞   v₁    ⎥   ⎢0 ⎥\n",
       "⎢    I_L2 + v₂⋅⎜-C₂⋅s - ──⎟ + v₃⋅⎜C₂⋅s + ── + ──⎟ - ──    ⎥   ⎢  ⎥\n",
       "⎢              ⎝        R₂⎠      ⎝       Ra   R₂⎠   Ra    ⎥   ⎢0 ⎥\n",
       "⎢                                                         ⎥   ⎢  ⎥\n",
       "⎢                            v₁   v₄                      ⎥   ⎢0 ⎥\n",
       "⎢                     I_L1 - ── + ──                      ⎥   ⎢  ⎥\n",
       "⎢                            R₁   R₁                      ⎥   ⎢0 ⎥\n",
       "⎢                                                         ⎥   ⎢  ⎥\n",
       "⎢                     C₁⋅s⋅v₅ - I_L1                      ⎥   ⎢0 ⎥\n",
       "⎢                                                         ⎥ = ⎢  ⎥\n",
       "⎢                            v₂   v₆                      ⎥   ⎢0 ⎥\n",
       "⎢                     I_L3 - ── + ──                      ⎥   ⎢  ⎥\n",
       "⎢                            R₃   R₃                      ⎥   ⎢0 ⎥\n",
       "⎢                                                         ⎥   ⎢  ⎥\n",
       "⎢                     C₃⋅s⋅v₇ - I_L3                      ⎥   ⎢V₁⎥\n",
       "⎢                                                         ⎥   ⎢  ⎥\n",
       "⎢                            v₁    v₈                     ⎥   ⎢0 ⎥\n",
       "⎢                    I_V1 - ─── + ───                     ⎥   ⎢  ⎥\n",
       "⎢                           Rᵢₙ   Rᵢₙ                     ⎥   ⎢0 ⎥\n",
       "⎢                                                         ⎥   ⎢  ⎥\n",
       "⎢                           v₈                            ⎥   ⎣0 ⎦\n",
       "⎢                                                         ⎥       \n",
       "⎢                  -I_L1⋅L₁⋅s + v₄ - v₅                   ⎥       \n",
       "⎢                                                         ⎥       \n",
       "⎢                  -I_L2⋅L₂⋅s - v₂ + v₃                   ⎥       \n",
       "⎢                                                         ⎥       \n",
       "⎣                  -I_L3⋅L₃⋅s + v₆ - v₇                   ⎦       "
      ]
     },
     "execution_count": 5,
     "metadata": {},
     "output_type": "execute_result"
    }
   ],
   "source": [
    "NE_sym"
   ]
  },
  {
   "cell_type": "markdown",
   "id": "628e3d8a-1f91-463e-81f2-daded878ba4d",
   "metadata": {},
   "source": [
    "The symbols generated by the Python code are extraced by the SymPy function free_symbols and then declared as SymPy variables. "
   ]
  },
  {
   "cell_type": "code",
   "execution_count": 6,
   "id": "07318984-f763-4bb7-b0b4-197296e0a265",
   "metadata": {},
   "outputs": [
    {
     "data": {
      "image/png": "[encoded data removed]",
      "text/latex": [
       "$\\displaystyle \\left( v_{5}, \\  v_{2}, \\  L_{2}, \\  v_{6}, \\  Ra, \\  v_{7}, \\  I_{L1}, \\  I_{L3}, \\  R_{out}, \\  s, \\  I_{V1}, \\  v_{4}, \\  v_{8}, \\  v_{1}, \\  L_{1}, \\  R_{1}, \\  R_{in}, \\  I_{L2}, \\  R_{2}, \\  C_{2}, \\  R_{3}, \\  L_{3}, \\  v_{3}, \\  V_{1}, \\  C_{1}, \\  C_{3}\\right)$"
      ],
      "text/plain": [
       "(v₅, v₂, L₂, v₆, Ra, v₇, I_L1, I_L3, Rₒᵤₜ, s, I_V1, v₄, v₈, v₁, L₁, R₁, Rᵢₙ, I\n",
       "_L2, R₂, C₂, R₃, L₃, v₃, V₁, C₁, C₃)"
      ]
     },
     "execution_count": 6,
     "metadata": {},
     "output_type": "execute_result"
    }
   ],
   "source": [
    "# turn the free symbols into SymPy variables\n",
    "var(str(NE_sym.free_symbols).replace('{','').replace('}',''))"
   ]
  },
  {
   "cell_type": "markdown",
   "id": "121c7924-6645-40fd-a1d9-f14152a2104c",
   "metadata": {},
   "source": [
    "Built a dictionary of element values."
   ]
  },
  {
   "cell_type": "code",
   "execution_count": 7,
   "id": "bc03a675-9dfc-499e-bd47-e6036758ffe6",
   "metadata": {},
   "outputs": [
    {
     "data": {
      "image/png": "[encoded data removed]",
      "text/latex": [
       "$\\displaystyle \\left\\{ C_{1} : 1.0, \\  C_{2} : 0.5, \\  C_{3} : 0.5, \\  L_{1} : 1.0, \\  L_{2} : 1.0, \\  L_{3} : 0.5, \\  R_{1} : 1.0, \\  R_{2} : 0.5, \\  R_{3} : 1.0, \\  R_{in} : 1.0, \\  R_{out} : 1.0, \\  Ra : 1.0, \\  V_{1} : 1.0\\right\\}$"
      ],
      "text/plain": [
       "{C₁: 1.0, C₂: 0.5, C₃: 0.5, L₁: 1.0, L₂: 1.0, L₃: 0.5, R₁: 1.0, R₂: 0.5, R₃: 1\n",
       ".0, Rᵢₙ: 1.0, Rₒᵤₜ: 1.0, Ra: 1.0, V₁: 1.0}"
      ]
     },
     "execution_count": 7,
     "metadata": {},
     "output_type": "execute_result"
    }
   ],
   "source": [
    "element_values = SymMNA.get_part_values(network_df)\n",
    "element_values"
   ]
  },
  {
   "cell_type": "markdown",
   "id": "75bc3a00-00ec-434e-8aca-14c5cf7e2897",
   "metadata": {},
   "source": [
    "Generate the symbolic solution, which takes a couple of minutes on my laptop's Intel i3-8130U CPU @ 2.20GHz."
   ]
  },
  {
   "cell_type": "code",
   "execution_count": 8,
   "id": "7cc274d3-16cc-40a8-bd6b-20dabbdf17f2",
   "metadata": {},
   "outputs": [],
   "source": [
    "U_sym = solve(NE_sym,X)"
   ]
  },
  {
   "cell_type": "markdown",
   "id": "04880fec-c82a-4124-9716-94c05d856a96",
   "metadata": {},
   "source": [
    "The solution to the network equations in symbolic form are long, so the code to display them is commented out."
   ]
  },
  {
   "cell_type": "code",
   "execution_count": 9,
   "id": "8346e8f5-f733-482a-9a02-bf111ab02365",
   "metadata": {},
   "outputs": [],
   "source": [
    "#temp = ''\n",
    "#for i in U_sym.keys():\n",
    "#    temp += '${:s} = {:s}$<br>'.format(latex(i),latex(U_sym[i]))\n",
    "\n",
    "#Markdown(temp)"
   ]
  },
  {
   "cell_type": "code",
   "execution_count": 10,
   "id": "0116f0ae-2071-417f-9193-ec954fbc974b",
   "metadata": {},
   "outputs": [
    {
     "data": {
      "image/png": "[encoded data removed]",
      "text/latex": [
       "$\\displaystyle \\frac{R_{out} \\left(C_{1} C_{2} C_{3} L_{1} L_{2} L_{3} R_{2} s^{6} + C_{1} C_{2} C_{3} L_{1} L_{2} R_{2} R_{3} s^{5} + C_{1} C_{2} C_{3} L_{2} L_{3} R_{1} R_{2} s^{5} + C_{1} C_{2} C_{3} L_{2} R_{1} R_{2} R_{3} s^{4} + C_{1} C_{2} L_{1} L_{2} R_{2} s^{4} + C_{1} C_{2} L_{2} R_{1} R_{2} s^{3} + C_{1} C_{3} L_{1} L_{2} L_{3} s^{5} + C_{1} C_{3} L_{1} L_{2} R_{3} s^{4} + C_{1} C_{3} L_{1} L_{3} R_{2} s^{4} + C_{1} C_{3} L_{1} R_{2} R_{3} s^{3} + C_{1} C_{3} L_{2} L_{3} R_{1} s^{4} + C_{1} C_{3} L_{2} R_{1} R_{3} s^{3} + C_{1} C_{3} L_{3} R_{1} R_{2} s^{3} + C_{1} C_{3} R_{1} R_{2} R_{3} s^{2} + C_{1} L_{1} L_{2} s^{3} + C_{1} L_{1} R_{2} s^{2} + C_{1} L_{2} R_{1} s^{2} + C_{1} R_{1} R_{2} s + C_{2} C_{3} L_{2} L_{3} R_{2} s^{4} + C_{2} C_{3} L_{2} R_{2} R_{3} s^{3} + C_{2} L_{2} R_{2} s^{2} + C_{3} L_{2} L_{3} s^{3} + C_{3} L_{2} R_{3} s^{2} + C_{3} L_{3} R_{2} s^{2} + C_{3} R_{2} R_{3} s + L_{2} s + R_{2}\\right)}{C_{1} C_{2} C_{3} L_{1} L_{2} L_{3} R_{2} R_{in} s^{6} + C_{1} C_{2} C_{3} L_{1} L_{2} L_{3} R_{2} R_{out} s^{6} + C_{1} C_{2} C_{3} L_{1} L_{2} L_{3} R_{2} Ra s^{6} + C_{1} C_{2} C_{3} L_{1} L_{2} R_{2} R_{3} R_{in} s^{5} + C_{1} C_{2} C_{3} L_{1} L_{2} R_{2} R_{3} R_{out} s^{5} + C_{1} C_{2} C_{3} L_{1} L_{2} R_{2} R_{3} Ra s^{5} + C_{1} C_{2} C_{3} L_{1} L_{2} R_{2} R_{in} R_{out} s^{5} + C_{1} C_{2} C_{3} L_{1} L_{2} R_{2} R_{out} Ra s^{5} + C_{1} C_{2} C_{3} L_{2} L_{3} R_{1} R_{2} R_{in} s^{5} + C_{1} C_{2} C_{3} L_{2} L_{3} R_{1} R_{2} R_{out} s^{5} + C_{1} C_{2} C_{3} L_{2} L_{3} R_{1} R_{2} Ra s^{5} + C_{1} C_{2} C_{3} L_{2} L_{3} R_{2} R_{in} R_{out} s^{5} + C_{1} C_{2} C_{3} L_{2} L_{3} R_{2} R_{in} Ra s^{5} + C_{1} C_{2} C_{3} L_{2} R_{1} R_{2} R_{3} R_{in} s^{4} + C_{1} C_{2} C_{3} L_{2} R_{1} R_{2} R_{3} R_{out} s^{4} + C_{1} C_{2} C_{3} L_{2} R_{1} R_{2} R_{3} Ra s^{4} + C_{1} C_{2} C_{3} L_{2} R_{1} R_{2} R_{in} R_{out} s^{4} + C_{1} C_{2} C_{3} L_{2} R_{1} R_{2} R_{out} Ra s^{4} + C_{1} C_{2} C_{3} L_{2} R_{2} R_{3} R_{in} R_{out} s^{4} + C_{1} C_{2} C_{3} L_{2} R_{2} R_{3} R_{in} Ra s^{4} + C_{1} C_{2} C_{3} L_{2} R_{2} R_{in} R_{out} Ra s^{4} + C_{1} C_{2} L_{1} L_{2} R_{2} R_{in} s^{4} + C_{1} C_{2} L_{1} L_{2} R_{2} R_{out} s^{4} + C_{1} C_{2} L_{1} L_{2} R_{2} Ra s^{4} + C_{1} C_{2} L_{2} R_{1} R_{2} R_{in} s^{3} + C_{1} C_{2} L_{2} R_{1} R_{2} R_{out} s^{3} + C_{1} C_{2} L_{2} R_{1} R_{2} Ra s^{3} + C_{1} C_{2} L_{2} R_{2} R_{in} R_{out} s^{3} + C_{1} C_{2} L_{2} R_{2} R_{in} Ra s^{3} + C_{1} C_{3} L_{1} L_{2} L_{3} R_{2} s^{5} + C_{1} C_{3} L_{1} L_{2} L_{3} R_{in} s^{5} + C_{1} C_{3} L_{1} L_{2} L_{3} R_{out} s^{5} + C_{1} C_{3} L_{1} L_{2} L_{3} Ra s^{5} + C_{1} C_{3} L_{1} L_{2} R_{2} R_{3} s^{4} + C_{1} C_{3} L_{1} L_{2} R_{2} R_{out} s^{4} + C_{1} C_{3} L_{1} L_{2} R_{3} R_{in} s^{4} + C_{1} C_{3} L_{1} L_{2} R_{3} R_{out} s^{4} + C_{1} C_{3} L_{1} L_{2} R_{3} Ra s^{4} + C_{1} C_{3} L_{1} L_{2} R_{in} R_{out} s^{4} + C_{1} C_{3} L_{1} L_{2} R_{out} Ra s^{4} + C_{1} C_{3} L_{1} L_{3} R_{2} R_{in} s^{4} + C_{1} C_{3} L_{1} L_{3} R_{2} R_{out} s^{4} + C_{1} C_{3} L_{1} L_{3} R_{2} Ra s^{4} + C_{1} C_{3} L_{1} R_{2} R_{3} R_{in} s^{3} + C_{1} C_{3} L_{1} R_{2} R_{3} R_{out} s^{3} + C_{1} C_{3} L_{1} R_{2} R_{3} Ra s^{3} + C_{1} C_{3} L_{1} R_{2} R_{in} R_{out} s^{3} + C_{1} C_{3} L_{1} R_{2} R_{out} Ra s^{3} + C_{1} C_{3} L_{2} L_{3} R_{1} R_{2} s^{4} + C_{1} C_{3} L_{2} L_{3} R_{1} R_{in} s^{4} + C_{1} C_{3} L_{2} L_{3} R_{1} R_{out} s^{4} + C_{1} C_{3} L_{2} L_{3} R_{1} Ra s^{4} + C_{1} C_{3} L_{2} L_{3} R_{2} R_{in} s^{4} + C_{1} C_{3} L_{2} L_{3} R_{in} R_{out} s^{4} + C_{1} C_{3} L_{2} L_{3} R_{in} Ra s^{4} + C_{1} C_{3} L_{2} R_{1} R_{2} R_{3} s^{3} + C_{1} C_{3} L_{2} R_{1} R_{2} R_{out} s^{3} + C_{1} C_{3} L_{2} R_{1} R_{3} R_{in} s^{3} + C_{1} C_{3} L_{2} R_{1} R_{3} R_{out} s^{3} + C_{1} C_{3} L_{2} R_{1} R_{3} Ra s^{3} + C_{1} C_{3} L_{2} R_{1} R_{in} R_{out} s^{3} + C_{1} C_{3} L_{2} R_{1} R_{out} Ra s^{3} + C_{1} C_{3} L_{2} R_{2} R_{3} R_{in} s^{3} + C_{1} C_{3} L_{2} R_{2} R_{in} R_{out} s^{3} + C_{1} C_{3} L_{2} R_{3} R_{in} R_{out} s^{3} + C_{1} C_{3} L_{2} R_{3} R_{in} Ra s^{3} + C_{1} C_{3} L_{2} R_{in} R_{out} Ra s^{3} + C_{1} C_{3} L_{3} R_{1} R_{2} R_{in} s^{3} + C_{1} C_{3} L_{3} R_{1} R_{2} R_{out} s^{3} + C_{1} C_{3} L_{3} R_{1} R_{2} Ra s^{3} + C_{1} C_{3} L_{3} R_{2} R_{in} R_{out} s^{3} + C_{1} C_{3} L_{3} R_{2} R_{in} Ra s^{3} + C_{1} C_{3} R_{1} R_{2} R_{3} R_{in} s^{2} + C_{1} C_{3} R_{1} R_{2} R_{3} R_{out} s^{2} + C_{1} C_{3} R_{1} R_{2} R_{3} Ra s^{2} + C_{1} C_{3} R_{1} R_{2} R_{in} R_{out} s^{2} + C_{1} C_{3} R_{1} R_{2} R_{out} Ra s^{2} + C_{1} C_{3} R_{2} R_{3} R_{in} R_{out} s^{2} + C_{1} C_{3} R_{2} R_{3} R_{in} Ra s^{2} + C_{1} C_{3} R_{2} R_{in} R_{out} Ra s^{2} + C_{1} L_{1} L_{2} R_{2} s^{3} + C_{1} L_{1} L_{2} R_{in} s^{3} + C_{1} L_{1} L_{2} R_{out} s^{3} + C_{1} L_{1} L_{2} Ra s^{3} + C_{1} L_{1} R_{2} R_{in} s^{2} + C_{1} L_{1} R_{2} R_{out} s^{2} + C_{1} L_{1} R_{2} Ra s^{2} + C_{1} L_{2} R_{1} R_{2} s^{2} + C_{1} L_{2} R_{1} R_{in} s^{2} + C_{1} L_{2} R_{1} R_{out} s^{2} + C_{1} L_{2} R_{1} Ra s^{2} + C_{1} L_{2} R_{2} R_{in} s^{2} + C_{1} L_{2} R_{in} R_{out} s^{2} + C_{1} L_{2} R_{in} Ra s^{2} + C_{1} R_{1} R_{2} R_{in} s + C_{1} R_{1} R_{2} R_{out} s + C_{1} R_{1} R_{2} Ra s + C_{1} R_{2} R_{in} R_{out} s + C_{1} R_{2} R_{in} Ra s + C_{2} C_{3} L_{2} L_{3} R_{2} R_{in} s^{4} + C_{2} C_{3} L_{2} L_{3} R_{2} R_{out} s^{4} + C_{2} C_{3} L_{2} L_{3} R_{2} Ra s^{4} + C_{2} C_{3} L_{2} R_{2} R_{3} R_{in} s^{3} + C_{2} C_{3} L_{2} R_{2} R_{3} R_{out} s^{3} + C_{2} C_{3} L_{2} R_{2} R_{3} Ra s^{3} + C_{2} C_{3} L_{2} R_{2} R_{in} R_{out} s^{3} + C_{2} C_{3} L_{2} R_{2} R_{out} Ra s^{3} + C_{2} L_{2} R_{2} R_{in} s^{2} + C_{2} L_{2} R_{2} R_{out} s^{2} + C_{2} L_{2} R_{2} Ra s^{2} + C_{3} L_{2} L_{3} R_{2} s^{3} + C_{3} L_{2} L_{3} R_{in} s^{3} + C_{3} L_{2} L_{3} R_{out} s^{3} + C_{3} L_{2} L_{3} Ra s^{3} + C_{3} L_{2} R_{2} R_{3} s^{2} + C_{3} L_{2} R_{2} R_{out} s^{2} + C_{3} L_{2} R_{3} R_{in} s^{2} + C_{3} L_{2} R_{3} R_{out} s^{2} + C_{3} L_{2} R_{3} Ra s^{2} + C_{3} L_{2} R_{in} R_{out} s^{2} + C_{3} L_{2} R_{out} Ra s^{2} + C_{3} L_{3} R_{2} R_{in} s^{2} + C_{3} L_{3} R_{2} R_{out} s^{2} + C_{3} L_{3} R_{2} Ra s^{2} + C_{3} R_{2} R_{3} R_{in} s + C_{3} R_{2} R_{3} R_{out} s + C_{3} R_{2} R_{3} Ra s + C_{3} R_{2} R_{in} R_{out} s + C_{3} R_{2} R_{out} Ra s + L_{2} R_{2} s + L_{2} R_{in} s + L_{2} R_{out} s + L_{2} Ra s + R_{2} R_{in} + R_{2} R_{out} + R_{2} Ra}$"
      ],
      "text/plain": [
       "                                                                              \n",
       "                                                                              \n",
       "──────────────────────────────────────────────────────────────────────────────\n",
       "                          6                              6                    \n",
       "C₁⋅C₂⋅C₃⋅L₁⋅L₂⋅L₃⋅R₂⋅Rᵢₙ⋅s  + C₁⋅C₂⋅C₃⋅L₁⋅L₂⋅L₃⋅R₂⋅Rₒᵤₜ⋅s  + C₁⋅C₂⋅C₃⋅L₁⋅L₂⋅L₃\n",
       "\n",
       "                                                                              \n",
       "                                                                              \n",
       "──────────────────────────────────────────────────────────────────────────────\n",
       "        6                             5                              5        \n",
       "⋅R₂⋅Ra⋅s  + C₁⋅C₂⋅C₃⋅L₁⋅L₂⋅R₂⋅R₃⋅Rᵢₙ⋅s  + C₁⋅C₂⋅C₃⋅L₁⋅L₂⋅R₂⋅R₃⋅Rₒᵤₜ⋅s  + C₁⋅C₂\n",
       "\n",
       "                                                                              \n",
       "                                                                              \n",
       "──────────────────────────────────────────────────────────────────────────────\n",
       "                    5                               5                         \n",
       "⋅C₃⋅L₁⋅L₂⋅R₂⋅R₃⋅Ra⋅s  + C₁⋅C₂⋅C₃⋅L₁⋅L₂⋅R₂⋅Rᵢₙ⋅Rₒᵤₜ⋅s  + C₁⋅C₂⋅C₃⋅L₁⋅L₂⋅R₂⋅Rₒᵤₜ\n",
       "\n",
       "                                                                              \n",
       "                                                                              \n",
       "──────────────────────────────────────────────────────────────────────────────\n",
       "     5                             5                              5           \n",
       "⋅Ra⋅s  + C₁⋅C₂⋅C₃⋅L₂⋅L₃⋅R₁⋅R₂⋅Rᵢₙ⋅s  + C₁⋅C₂⋅C₃⋅L₂⋅L₃⋅R₁⋅R₂⋅Rₒᵤₜ⋅s  + C₁⋅C₂⋅C₃\n",
       "\n",
       "                                                                              \n",
       "                                                                              \n",
       "──────────────────────────────────────────────────────────────────────────────\n",
       "                 5                               5                            \n",
       "⋅L₂⋅L₃⋅R₁⋅R₂⋅Ra⋅s  + C₁⋅C₂⋅C₃⋅L₂⋅L₃⋅R₂⋅Rᵢₙ⋅Rₒᵤₜ⋅s  + C₁⋅C₂⋅C₃⋅L₂⋅L₃⋅R₂⋅Rᵢₙ⋅Ra⋅\n",
       "\n",
       "                                                                              \n",
       "                                                                              \n",
       "──────────────────────────────────────────────────────────────────────────────\n",
       " 5                             4                              4               \n",
       "s  + C₁⋅C₂⋅C₃⋅L₂⋅R₁⋅R₂⋅R₃⋅Rᵢₙ⋅s  + C₁⋅C₂⋅C₃⋅L₂⋅R₁⋅R₂⋅R₃⋅Rₒᵤₜ⋅s  + C₁⋅C₂⋅C₃⋅L₂⋅\n",
       "\n",
       "                                                                              \n",
       "                                                                              \n",
       "──────────────────────────────────────────────────────────────────────────────\n",
       "             4                               4                              4 \n",
       "R₁⋅R₂⋅R₃⋅Ra⋅s  + C₁⋅C₂⋅C₃⋅L₂⋅R₁⋅R₂⋅Rᵢₙ⋅Rₒᵤₜ⋅s  + C₁⋅C₂⋅C₃⋅L₂⋅R₁⋅R₂⋅Rₒᵤₜ⋅Ra⋅s  \n",
       "\n",
       "                                                                              \n",
       "                                                                              \n",
       "──────────────────────────────────────────────────────────────────────────────\n",
       "                              4                             4                 \n",
       "+ C₁⋅C₂⋅C₃⋅L₂⋅R₂⋅R₃⋅Rᵢₙ⋅Rₒᵤₜ⋅s  + C₁⋅C₂⋅C₃⋅L₂⋅R₂⋅R₃⋅Rᵢₙ⋅Ra⋅s  + C₁⋅C₂⋅C₃⋅L₂⋅R₂\n",
       "\n",
       "                                                                              \n",
       "                                                                              \n",
       "──────────────────────────────────────────────────────────────────────────────\n",
       "              4                       4                        4              \n",
       "⋅Rᵢₙ⋅Rₒᵤₜ⋅Ra⋅s  + C₁⋅C₂⋅L₁⋅L₂⋅R₂⋅Rᵢₙ⋅s  + C₁⋅C₂⋅L₁⋅L₂⋅R₂⋅Rₒᵤₜ⋅s  + C₁⋅C₂⋅L₁⋅L₂\n",
       "\n",
       "                                                                              \n",
       "                                                                              \n",
       "──────────────────────────────────────────────────────────────────────────────\n",
       "        4                       3                        3                    \n",
       "⋅R₂⋅Ra⋅s  + C₁⋅C₂⋅L₂⋅R₁⋅R₂⋅Rᵢₙ⋅s  + C₁⋅C₂⋅L₂⋅R₁⋅R₂⋅Rₒᵤₜ⋅s  + C₁⋅C₂⋅L₂⋅R₁⋅R₂⋅Ra\n",
       "\n",
       "                                                                              \n",
       "                                                                              \n",
       "──────────────────────────────────────────────────────────────────────────────\n",
       "  3                         3                       3                      5  \n",
       "⋅s  + C₁⋅C₂⋅L₂⋅R₂⋅Rᵢₙ⋅Rₒᵤₜ⋅s  + C₁⋅C₂⋅L₂⋅R₂⋅Rᵢₙ⋅Ra⋅s  + C₁⋅C₃⋅L₁⋅L₂⋅L₃⋅R₂⋅s  +\n",
       "\n",
       "                                                                              \n",
       "                                                                              \n",
       "──────────────────────────────────────────────────────────────────────────────\n",
       "                     5                        5                      5        \n",
       " C₁⋅C₃⋅L₁⋅L₂⋅L₃⋅Rᵢₙ⋅s  + C₁⋅C₃⋅L₁⋅L₂⋅L₃⋅Rₒᵤₜ⋅s  + C₁⋅C₃⋅L₁⋅L₂⋅L₃⋅Ra⋅s  + C₁⋅C₃\n",
       "\n",
       "                                                                              \n",
       "                                                                              \n",
       "──────────────────────────────────────────────────────────────────────────────\n",
       "              4                        4                       4              \n",
       "⋅L₁⋅L₂⋅R₂⋅R₃⋅s  + C₁⋅C₃⋅L₁⋅L₂⋅R₂⋅Rₒᵤₜ⋅s  + C₁⋅C₃⋅L₁⋅L₂⋅R₃⋅Rᵢₙ⋅s  + C₁⋅C₃⋅L₁⋅L₂\n",
       "\n",
       "                                                                              \n",
       "                                                                              \n",
       "──────────────────────────────────────────────────────────────────────────────\n",
       "          4                      4                         4                  \n",
       "⋅R₃⋅Rₒᵤₜ⋅s  + C₁⋅C₃⋅L₁⋅L₂⋅R₃⋅Ra⋅s  + C₁⋅C₃⋅L₁⋅L₂⋅Rᵢₙ⋅Rₒᵤₜ⋅s  + C₁⋅C₃⋅L₁⋅L₂⋅Rₒᵤ\n",
       "\n",
       "                                                                              \n",
       "                                                                              \n",
       "──────────────────────────────────────────────────────────────────────────────\n",
       "      4                       4                        4                      \n",
       "ₜ⋅Ra⋅s  + C₁⋅C₃⋅L₁⋅L₃⋅R₂⋅Rᵢₙ⋅s  + C₁⋅C₃⋅L₁⋅L₃⋅R₂⋅Rₒᵤₜ⋅s  + C₁⋅C₃⋅L₁⋅L₃⋅R₂⋅Ra⋅s\n",
       "\n",
       "                                                                              \n",
       "                                                                              \n",
       "──────────────────────────────────────────────────────────────────────────────\n",
       "4                       3                        3                      3     \n",
       "  + C₁⋅C₃⋅L₁⋅R₂⋅R₃⋅Rᵢₙ⋅s  + C₁⋅C₃⋅L₁⋅R₂⋅R₃⋅Rₒᵤₜ⋅s  + C₁⋅C₃⋅L₁⋅R₂⋅R₃⋅Ra⋅s  + C₁\n",
       "\n",
       "                                                        ⎛                     \n",
       "                                                   Rₒᵤₜ⋅⎝C₁⋅C₂⋅C₃⋅L₁⋅L₂⋅L₃⋅R₂⋅\n",
       "──────────────────────────────────────────────────────────────────────────────\n",
       "                    3                        3                      4         \n",
       "⋅C₃⋅L₁⋅R₂⋅Rᵢₙ⋅Rₒᵤₜ⋅s  + C₁⋅C₃⋅L₁⋅R₂⋅Rₒᵤₜ⋅Ra⋅s  + C₁⋅C₃⋅L₂⋅L₃⋅R₁⋅R₂⋅s  + C₁⋅C₃⋅\n",
       "\n",
       " 6                         5                         5                        \n",
       "s  + C₁⋅C₂⋅C₃⋅L₁⋅L₂⋅R₂⋅R₃⋅s  + C₁⋅C₂⋅C₃⋅L₂⋅L₃⋅R₁⋅R₂⋅s  + C₁⋅C₂⋅C₃⋅L₂⋅R₁⋅R₂⋅R₃⋅\n",
       "──────────────────────────────────────────────────────────────────────────────\n",
       "              4                        4                      4               \n",
       "L₂⋅L₃⋅R₁⋅Rᵢₙ⋅s  + C₁⋅C₃⋅L₂⋅L₃⋅R₁⋅Rₒᵤₜ⋅s  + C₁⋅C₃⋅L₂⋅L₃⋅R₁⋅Ra⋅s  + C₁⋅C₃⋅L₂⋅L₃⋅\n",
       "\n",
       " 4                   4                   3                   5                \n",
       "s  + C₁⋅C₂⋅L₁⋅L₂⋅R₂⋅s  + C₁⋅C₂⋅L₂⋅R₁⋅R₂⋅s  + C₁⋅C₃⋅L₁⋅L₂⋅L₃⋅s  + C₁⋅C₃⋅L₁⋅L₂⋅R\n",
       "──────────────────────────────────────────────────────────────────────────────\n",
       "        4                         4                       4                   \n",
       "R₂⋅Rᵢₙ⋅s  + C₁⋅C₃⋅L₂⋅L₃⋅Rᵢₙ⋅Rₒᵤₜ⋅s  + C₁⋅C₃⋅L₂⋅L₃⋅Rᵢₙ⋅Ra⋅s  + C₁⋅C₃⋅L₂⋅R₁⋅R₂⋅R\n",
       "\n",
       "   4                   4                   3                   4              \n",
       "₃⋅s  + C₁⋅C₃⋅L₁⋅L₃⋅R₂⋅s  + C₁⋅C₃⋅L₁⋅R₂⋅R₃⋅s  + C₁⋅C₃⋅L₂⋅L₃⋅R₁⋅s  + C₁⋅C₃⋅L₂⋅R₁\n",
       "──────────────────────────────────────────────────────────────────────────────\n",
       "   3                        3                       3                        3\n",
       "₃⋅s  + C₁⋅C₃⋅L₂⋅R₁⋅R₂⋅Rₒᵤₜ⋅s  + C₁⋅C₃⋅L₂⋅R₁⋅R₃⋅Rᵢₙ⋅s  + C₁⋅C₃⋅L₂⋅R₁⋅R₃⋅Rₒᵤₜ⋅s \n",
       "\n",
       "     3                   3                   2             3             2    \n",
       "⋅R₃⋅s  + C₁⋅C₃⋅L₃⋅R₁⋅R₂⋅s  + C₁⋅C₃⋅R₁⋅R₂⋅R₃⋅s  + C₁⋅L₁⋅L₂⋅s  + C₁⋅L₁⋅R₂⋅s  + C\n",
       "──────────────────────────────────────────────────────────────────────────────\n",
       "                      3                         3                        3    \n",
       " + C₁⋅C₃⋅L₂⋅R₁⋅R₃⋅Ra⋅s  + C₁⋅C₃⋅L₂⋅R₁⋅Rᵢₙ⋅Rₒᵤₜ⋅s  + C₁⋅C₃⋅L₂⋅R₁⋅Rₒᵤₜ⋅Ra⋅s  + C\n",
       "\n",
       "         2                                4                   3             2 \n",
       "₁⋅L₂⋅R₁⋅s  + C₁⋅R₁⋅R₂⋅s + C₂⋅C₃⋅L₂⋅L₃⋅R₂⋅s  + C₂⋅C₃⋅L₂⋅R₂⋅R₃⋅s  + C₂⋅L₂⋅R₂⋅s  \n",
       "──────────────────────────────────────────────────────────────────────────────\n",
       "                   3                         3                         3      \n",
       "₁⋅C₃⋅L₂⋅R₂⋅R₃⋅Rᵢₙ⋅s  + C₁⋅C₃⋅L₂⋅R₂⋅Rᵢₙ⋅Rₒᵤₜ⋅s  + C₁⋅C₃⋅L₂⋅R₃⋅Rᵢₙ⋅Rₒᵤₜ⋅s  + C₁⋅\n",
       "\n",
       "            3             2             2                         ⎞           \n",
       "+ C₃⋅L₂⋅L₃⋅s  + C₃⋅L₂⋅R₃⋅s  + C₃⋅L₃⋅R₂⋅s  + C₃⋅R₂⋅R₃⋅s + L₂⋅s + R₂⎠           \n",
       "──────────────────────────────────────────────────────────────────────────────\n",
       "                 3                         3                       3          \n",
       "C₃⋅L₂⋅R₃⋅Rᵢₙ⋅Ra⋅s  + C₁⋅C₃⋅L₂⋅Rᵢₙ⋅Rₒᵤₜ⋅Ra⋅s  + C₁⋅C₃⋅L₃⋅R₁⋅R₂⋅Rᵢₙ⋅s  + C₁⋅C₃⋅L\n",
       "\n",
       "                                                                              \n",
       "                                                                              \n",
       "──────────────────────────────────────────────────────────────────────────────\n",
       "              3                      3                         3              \n",
       "₃⋅R₁⋅R₂⋅Rₒᵤₜ⋅s  + C₁⋅C₃⋅L₃⋅R₁⋅R₂⋅Ra⋅s  + C₁⋅C₃⋅L₃⋅R₂⋅Rᵢₙ⋅Rₒᵤₜ⋅s  + C₁⋅C₃⋅L₃⋅R₂\n",
       "\n",
       "                                                                              \n",
       "                                                                              \n",
       "──────────────────────────────────────────────────────────────────────────────\n",
       "         3                       2                        2                   \n",
       "⋅Rᵢₙ⋅Ra⋅s  + C₁⋅C₃⋅R₁⋅R₂⋅R₃⋅Rᵢₙ⋅s  + C₁⋅C₃⋅R₁⋅R₂⋅R₃⋅Rₒᵤₜ⋅s  + C₁⋅C₃⋅R₁⋅R₂⋅R₃⋅R\n",
       "\n",
       "                                                                              \n",
       "                                                                              \n",
       "──────────────────────────────────────────────────────────────────────────────\n",
       "   2                         2                        2                       \n",
       "a⋅s  + C₁⋅C₃⋅R₁⋅R₂⋅Rᵢₙ⋅Rₒᵤₜ⋅s  + C₁⋅C₃⋅R₁⋅R₂⋅Rₒᵤₜ⋅Ra⋅s  + C₁⋅C₃⋅R₂⋅R₃⋅Rᵢₙ⋅Rₒᵤₜ\n",
       "\n",
       "                                                                              \n",
       "                                                                              \n",
       "──────────────────────────────────────────────────────────────────────────────\n",
       "  2                       2                         2                3        \n",
       "⋅s  + C₁⋅C₃⋅R₂⋅R₃⋅Rᵢₙ⋅Ra⋅s  + C₁⋅C₃⋅R₂⋅Rᵢₙ⋅Rₒᵤₜ⋅Ra⋅s  + C₁⋅L₁⋅L₂⋅R₂⋅s  + C₁⋅L₁\n",
       "\n",
       "                                                                              \n",
       "                                                                              \n",
       "──────────────────────────────────────────────────────────────────────────────\n",
       "         3                  3                3                 2              \n",
       "⋅L₂⋅Rᵢₙ⋅s  + C₁⋅L₁⋅L₂⋅Rₒᵤₜ⋅s  + C₁⋅L₁⋅L₂⋅Ra⋅s  + C₁⋅L₁⋅R₂⋅Rᵢₙ⋅s  + C₁⋅L₁⋅R₂⋅Rₒ\n",
       "\n",
       "                                                                              \n",
       "                                                                              \n",
       "──────────────────────────────────────────────────────────────────────────────\n",
       "    2                2                2                 2                  2  \n",
       "ᵤₜ⋅s  + C₁⋅L₁⋅R₂⋅Ra⋅s  + C₁⋅L₂⋅R₁⋅R₂⋅s  + C₁⋅L₂⋅R₁⋅Rᵢₙ⋅s  + C₁⋅L₂⋅R₁⋅Rₒᵤₜ⋅s  +\n",
       "\n",
       "                                                                              \n",
       "                                                                              \n",
       "──────────────────────────────────────────────────────────────────────────────\n",
       "              2                 2                   2                 2       \n",
       " C₁⋅L₂⋅R₁⋅Ra⋅s  + C₁⋅L₂⋅R₂⋅Rᵢₙ⋅s  + C₁⋅L₂⋅Rᵢₙ⋅Rₒᵤₜ⋅s  + C₁⋅L₂⋅Rᵢₙ⋅Ra⋅s  + C₁⋅R\n",
       "\n",
       "                                                                              \n",
       "                                                                              \n",
       "──────────────────────────────────────────────────────────────────────────────\n",
       "                                                                              \n",
       "₁⋅R₂⋅Rᵢₙ⋅s + C₁⋅R₁⋅R₂⋅Rₒᵤₜ⋅s + C₁⋅R₁⋅R₂⋅Ra⋅s + C₁⋅R₂⋅Rᵢₙ⋅Rₒᵤₜ⋅s + C₁⋅R₂⋅Rᵢₙ⋅Ra\n",
       "\n",
       "                                                                              \n",
       "                                                                              \n",
       "──────────────────────────────────────────────────────────────────────────────\n",
       "                         4                        4                      4    \n",
       "⋅s + C₂⋅C₃⋅L₂⋅L₃⋅R₂⋅Rᵢₙ⋅s  + C₂⋅C₃⋅L₂⋅L₃⋅R₂⋅Rₒᵤₜ⋅s  + C₂⋅C₃⋅L₂⋅L₃⋅R₂⋅Ra⋅s  + C\n",
       "\n",
       "                                                                              \n",
       "                                                                              \n",
       "──────────────────────────────────────────────────────────────────────────────\n",
       "                   3                        3                      3          \n",
       "₂⋅C₃⋅L₂⋅R₂⋅R₃⋅Rᵢₙ⋅s  + C₂⋅C₃⋅L₂⋅R₂⋅R₃⋅Rₒᵤₜ⋅s  + C₂⋅C₃⋅L₂⋅R₂⋅R₃⋅Ra⋅s  + C₂⋅C₃⋅L\n",
       "\n",
       "                                                                              \n",
       "                                                                              \n",
       "──────────────────────────────────────────────────────────────────────────────\n",
       "               3                        3                 2                  2\n",
       "₂⋅R₂⋅Rᵢₙ⋅Rₒᵤₜ⋅s  + C₂⋅C₃⋅L₂⋅R₂⋅Rₒᵤₜ⋅Ra⋅s  + C₂⋅L₂⋅R₂⋅Rᵢₙ⋅s  + C₂⋅L₂⋅R₂⋅Rₒᵤₜ⋅s \n",
       "\n",
       "                                                                              \n",
       "                                                                              \n",
       "──────────────────────────────────────────────────────────────────────────────\n",
       "                2                3                 3                  3       \n",
       " + C₂⋅L₂⋅R₂⋅Ra⋅s  + C₃⋅L₂⋅L₃⋅R₂⋅s  + C₃⋅L₂⋅L₃⋅Rᵢₙ⋅s  + C₃⋅L₂⋅L₃⋅Rₒᵤₜ⋅s  + C₃⋅L\n",
       "\n",
       "                                                                              \n",
       "                                                                              \n",
       "──────────────────────────────────────────────────────────────────────────────\n",
       "         3                2                  2                 2              \n",
       "₂⋅L₃⋅Ra⋅s  + C₃⋅L₂⋅R₂⋅R₃⋅s  + C₃⋅L₂⋅R₂⋅Rₒᵤₜ⋅s  + C₃⋅L₂⋅R₃⋅Rᵢₙ⋅s  + C₃⋅L₂⋅R₃⋅Rₒ\n",
       "\n",
       "                                                                              \n",
       "                                                                              \n",
       "──────────────────────────────────────────────────────────────────────────────\n",
       "    2                2                   2                  2                 \n",
       "ᵤₜ⋅s  + C₃⋅L₂⋅R₃⋅Ra⋅s  + C₃⋅L₂⋅Rᵢₙ⋅Rₒᵤₜ⋅s  + C₃⋅L₂⋅Rₒᵤₜ⋅Ra⋅s  + C₃⋅L₃⋅R₂⋅Rᵢₙ⋅s\n",
       "\n",
       "                                                                              \n",
       "                                                                              \n",
       "──────────────────────────────────────────────────────────────────────────────\n",
       "2                  2                2                                         \n",
       "  + C₃⋅L₃⋅R₂⋅Rₒᵤₜ⋅s  + C₃⋅L₃⋅R₂⋅Ra⋅s  + C₃⋅R₂⋅R₃⋅Rᵢₙ⋅s + C₃⋅R₂⋅R₃⋅Rₒᵤₜ⋅s + C₃⋅\n",
       "\n",
       "                                                                              \n",
       "                                                                              \n",
       "──────────────────────────────────────────────────────────────────────────────\n",
       "                                                                              \n",
       "R₂⋅R₃⋅Ra⋅s + C₃⋅R₂⋅Rᵢₙ⋅Rₒᵤₜ⋅s + C₃⋅R₂⋅Rₒᵤₜ⋅Ra⋅s + L₂⋅R₂⋅s + L₂⋅Rᵢₙ⋅s + L₂⋅Rₒᵤₜ\n",
       "\n",
       "                                       \n",
       "                                       \n",
       "───────────────────────────────────────\n",
       "                                       \n",
       "⋅s + L₂⋅Ra⋅s + R₂⋅Rᵢₙ + R₂⋅Rₒᵤₜ + R₂⋅Ra"
      ]
     },
     "execution_count": 10,
     "metadata": {},
     "output_type": "execute_result"
    }
   ],
   "source": [
    "H_sym = (U_sym[v2]/U_sym[v8]).simplify()\n",
    "H_sym"
   ]
  },
  {
   "cell_type": "markdown",
   "id": "72acee28-f68e-4b5b-925d-b066afe55c40",
   "metadata": {},
   "source": [
    "The FACTS method is supposed to reveal aspects of the circuit operation that get hidden by the algebra. I think the Pi Filter is too complex for this to be true. If more about the circuit was known, some simplification could be done and a more meaningful analyis could be performed. \n",
    "\n",
    "The numerator and denominator of the transfer function can be extracted for analysis. "
   ]
  },
  {
   "cell_type": "raw",
   "id": "4fe1d533-f8e4-4d15-8b4c-f4d3def781c6",
   "metadata": {
    "jupyter": {
     "source_hidden": true
    },
    "tags": []
   },
   "source": [
    "<!--\n",
    "\n",
    "H_num, H_denom = fraction(H_sym)\n",
    "\n",
    "expand\n",
    "\n",
    "expand() is one of the most common simplification functions in SymPy. Although it has a lot of scopes, for now, we will consider its function in expanding polynomial expressions. For example:\n",
    "\n",
    "Given a polynomial, expand() will put it into a canonical form of a sum of monomials.\n",
    "\n",
    "expand() may not sound like a simplification function. After all, by its very name, it makes expressions bigger, not smaller. Usually this is the case, but often an expression will become smaller upon calling expand() on it due to cancellation.\n",
    "\n",
    "cancel\n",
    "\n",
    "cancel() will take any rational function and put it into the standard canonical form,\n",
    ", where and are expanded polynomials with no common factors, and the leading coefficients of and do not have denominators (i.e., are integers).\n",
    "\n",
    "\n",
    "Note that since factor() will completely factorize both the numerator and the denominator of an expression, it can also be used to do the same thing:\n",
    "\n",
    "The voltage on node N is symplified with the chain of operators applied to the expression; [nsimplify()](https://docs.sympy.org/latest/modules/simplify/simplify.html#sympy.simplify.simplify.nsimplify), [simplify()](https://docs.sympy.org/latest/modules/simplify/simplify.html#simplify), [expand()](https://docs.sympy.org/latest/modules/core.html#sympy.core.function.expand) and [together()](https://docs.sympy.org/latest/modules/polys/reference.html#sympy.polys.rationaltools.together). This helps SymPy solve the inverse Laplace transform.\n",
    "\n",
    "-->"
   ]
  },
  {
   "cell_type": "code",
   "execution_count": 11,
   "id": "2cb18b4a-37b8-4cd0-9102-170183665bda",
   "metadata": {},
   "outputs": [
    {
     "data": {
      "text/plain": [
       "'numerator'"
      ]
     },
     "metadata": {},
     "output_type": "display_data"
    },
    {
     "data": {
      "image/png": "[encoded data removed]",
      "text/latex": [
       "$\\displaystyle R_{out} \\left(C_{1} C_{2} C_{3} L_{1} L_{2} L_{3} R_{2} s^{6} + C_{1} C_{2} C_{3} L_{1} L_{2} R_{2} R_{3} s^{5} + C_{1} C_{2} C_{3} L_{2} L_{3} R_{1} R_{2} s^{5} + C_{1} C_{2} C_{3} L_{2} R_{1} R_{2} R_{3} s^{4} + C_{1} C_{2} L_{1} L_{2} R_{2} s^{4} + C_{1} C_{2} L_{2} R_{1} R_{2} s^{3} + C_{1} C_{3} L_{1} L_{2} L_{3} s^{5} + C_{1} C_{3} L_{1} L_{2} R_{3} s^{4} + C_{1} C_{3} L_{1} L_{3} R_{2} s^{4} + C_{1} C_{3} L_{1} R_{2} R_{3} s^{3} + C_{1} C_{3} L_{2} L_{3} R_{1} s^{4} + C_{1} C_{3} L_{2} R_{1} R_{3} s^{3} + C_{1} C_{3} L_{3} R_{1} R_{2} s^{3} + C_{1} C_{3} R_{1} R_{2} R_{3} s^{2} + C_{1} L_{1} L_{2} s^{3} + C_{1} L_{1} R_{2} s^{2} + C_{1} L_{2} R_{1} s^{2} + C_{1} R_{1} R_{2} s + C_{2} C_{3} L_{2} L_{3} R_{2} s^{4} + C_{2} C_{3} L_{2} R_{2} R_{3} s^{3} + C_{2} L_{2} R_{2} s^{2} + C_{3} L_{2} L_{3} s^{3} + C_{3} L_{2} R_{3} s^{2} + C_{3} L_{3} R_{2} s^{2} + C_{3} R_{2} R_{3} s + L_{2} s + R_{2}\\right)$"
      ],
      "text/plain": [
       "     ⎛                      6                         5                       \n",
       "Rₒᵤₜ⋅⎝C₁⋅C₂⋅C₃⋅L₁⋅L₂⋅L₃⋅R₂⋅s  + C₁⋅C₂⋅C₃⋅L₁⋅L₂⋅R₂⋅R₃⋅s  + C₁⋅C₂⋅C₃⋅L₂⋅L₃⋅R₁⋅R₂\n",
       "\n",
       "  5                         4                   4                   3         \n",
       "⋅s  + C₁⋅C₂⋅C₃⋅L₂⋅R₁⋅R₂⋅R₃⋅s  + C₁⋅C₂⋅L₁⋅L₂⋅R₂⋅s  + C₁⋅C₂⋅L₂⋅R₁⋅R₂⋅s  + C₁⋅C₃⋅\n",
       "\n",
       "          5                   4                   4                   3       \n",
       "L₁⋅L₂⋅L₃⋅s  + C₁⋅C₃⋅L₁⋅L₂⋅R₃⋅s  + C₁⋅C₃⋅L₁⋅L₃⋅R₂⋅s  + C₁⋅C₃⋅L₁⋅R₂⋅R₃⋅s  + C₁⋅C\n",
       "\n",
       "            4                   3                   3                   2     \n",
       "₃⋅L₂⋅L₃⋅R₁⋅s  + C₁⋅C₃⋅L₂⋅R₁⋅R₃⋅s  + C₁⋅C₃⋅L₃⋅R₁⋅R₂⋅s  + C₁⋅C₃⋅R₁⋅R₂⋅R₃⋅s  + C₁\n",
       "\n",
       "        3             2             2                                4        \n",
       "⋅L₁⋅L₂⋅s  + C₁⋅L₁⋅R₂⋅s  + C₁⋅L₂⋅R₁⋅s  + C₁⋅R₁⋅R₂⋅s + C₂⋅C₃⋅L₂⋅L₃⋅R₂⋅s  + C₂⋅C₃\n",
       "\n",
       "           3             2             3             2             2          \n",
       "⋅L₂⋅R₂⋅R₃⋅s  + C₂⋅L₂⋅R₂⋅s  + C₃⋅L₂⋅L₃⋅s  + C₃⋅L₂⋅R₃⋅s  + C₃⋅L₃⋅R₂⋅s  + C₃⋅R₂⋅R\n",
       "\n",
       "               ⎞\n",
       "₃⋅s + L₂⋅s + R₂⎠"
      ]
     },
     "metadata": {},
     "output_type": "display_data"
    },
    {
     "data": {
      "text/plain": [
       "'denominator'"
      ]
     },
     "metadata": {},
     "output_type": "display_data"
    },
    {
     "data": {
      "image/png": "[encoded data removed]",
      "text/latex": [
       "$\\displaystyle C_{1} C_{2} C_{3} L_{1} L_{2} L_{3} R_{2} R_{in} s^{6} + C_{1} C_{2} C_{3} L_{1} L_{2} L_{3} R_{2} R_{out} s^{6} + C_{1} C_{2} C_{3} L_{1} L_{2} L_{3} R_{2} Ra s^{6} + C_{1} C_{2} C_{3} L_{1} L_{2} R_{2} R_{3} R_{in} s^{5} + C_{1} C_{2} C_{3} L_{1} L_{2} R_{2} R_{3} R_{out} s^{5} + C_{1} C_{2} C_{3} L_{1} L_{2} R_{2} R_{3} Ra s^{5} + C_{1} C_{2} C_{3} L_{1} L_{2} R_{2} R_{in} R_{out} s^{5} + C_{1} C_{2} C_{3} L_{1} L_{2} R_{2} R_{out} Ra s^{5} + C_{1} C_{2} C_{3} L_{2} L_{3} R_{1} R_{2} R_{in} s^{5} + C_{1} C_{2} C_{3} L_{2} L_{3} R_{1} R_{2} R_{out} s^{5} + C_{1} C_{2} C_{3} L_{2} L_{3} R_{1} R_{2} Ra s^{5} + C_{1} C_{2} C_{3} L_{2} L_{3} R_{2} R_{in} R_{out} s^{5} + C_{1} C_{2} C_{3} L_{2} L_{3} R_{2} R_{in} Ra s^{5} + C_{1} C_{2} C_{3} L_{2} R_{1} R_{2} R_{3} R_{in} s^{4} + C_{1} C_{2} C_{3} L_{2} R_{1} R_{2} R_{3} R_{out} s^{4} + C_{1} C_{2} C_{3} L_{2} R_{1} R_{2} R_{3} Ra s^{4} + C_{1} C_{2} C_{3} L_{2} R_{1} R_{2} R_{in} R_{out} s^{4} + C_{1} C_{2} C_{3} L_{2} R_{1} R_{2} R_{out} Ra s^{4} + C_{1} C_{2} C_{3} L_{2} R_{2} R_{3} R_{in} R_{out} s^{4} + C_{1} C_{2} C_{3} L_{2} R_{2} R_{3} R_{in} Ra s^{4} + C_{1} C_{2} C_{3} L_{2} R_{2} R_{in} R_{out} Ra s^{4} + C_{1} C_{2} L_{1} L_{2} R_{2} R_{in} s^{4} + C_{1} C_{2} L_{1} L_{2} R_{2} R_{out} s^{4} + C_{1} C_{2} L_{1} L_{2} R_{2} Ra s^{4} + C_{1} C_{2} L_{2} R_{1} R_{2} R_{in} s^{3} + C_{1} C_{2} L_{2} R_{1} R_{2} R_{out} s^{3} + C_{1} C_{2} L_{2} R_{1} R_{2} Ra s^{3} + C_{1} C_{2} L_{2} R_{2} R_{in} R_{out} s^{3} + C_{1} C_{2} L_{2} R_{2} R_{in} Ra s^{3} + C_{1} C_{3} L_{1} L_{2} L_{3} R_{2} s^{5} + C_{1} C_{3} L_{1} L_{2} L_{3} R_{in} s^{5} + C_{1} C_{3} L_{1} L_{2} L_{3} R_{out} s^{5} + C_{1} C_{3} L_{1} L_{2} L_{3} Ra s^{5} + C_{1} C_{3} L_{1} L_{2} R_{2} R_{3} s^{4} + C_{1} C_{3} L_{1} L_{2} R_{2} R_{out} s^{4} + C_{1} C_{3} L_{1} L_{2} R_{3} R_{in} s^{4} + C_{1} C_{3} L_{1} L_{2} R_{3} R_{out} s^{4} + C_{1} C_{3} L_{1} L_{2} R_{3} Ra s^{4} + C_{1} C_{3} L_{1} L_{2} R_{in} R_{out} s^{4} + C_{1} C_{3} L_{1} L_{2} R_{out} Ra s^{4} + C_{1} C_{3} L_{1} L_{3} R_{2} R_{in} s^{4} + C_{1} C_{3} L_{1} L_{3} R_{2} R_{out} s^{4} + C_{1} C_{3} L_{1} L_{3} R_{2} Ra s^{4} + C_{1} C_{3} L_{1} R_{2} R_{3} R_{in} s^{3} + C_{1} C_{3} L_{1} R_{2} R_{3} R_{out} s^{3} + C_{1} C_{3} L_{1} R_{2} R_{3} Ra s^{3} + C_{1} C_{3} L_{1} R_{2} R_{in} R_{out} s^{3} + C_{1} C_{3} L_{1} R_{2} R_{out} Ra s^{3} + C_{1} C_{3} L_{2} L_{3} R_{1} R_{2} s^{4} + C_{1} C_{3} L_{2} L_{3} R_{1} R_{in} s^{4} + C_{1} C_{3} L_{2} L_{3} R_{1} R_{out} s^{4} + C_{1} C_{3} L_{2} L_{3} R_{1} Ra s^{4} + C_{1} C_{3} L_{2} L_{3} R_{2} R_{in} s^{4} + C_{1} C_{3} L_{2} L_{3} R_{in} R_{out} s^{4} + C_{1} C_{3} L_{2} L_{3} R_{in} Ra s^{4} + C_{1} C_{3} L_{2} R_{1} R_{2} R_{3} s^{3} + C_{1} C_{3} L_{2} R_{1} R_{2} R_{out} s^{3} + C_{1} C_{3} L_{2} R_{1} R_{3} R_{in} s^{3} + C_{1} C_{3} L_{2} R_{1} R_{3} R_{out} s^{3} + C_{1} C_{3} L_{2} R_{1} R_{3} Ra s^{3} + C_{1} C_{3} L_{2} R_{1} R_{in} R_{out} s^{3} + C_{1} C_{3} L_{2} R_{1} R_{out} Ra s^{3} + C_{1} C_{3} L_{2} R_{2} R_{3} R_{in} s^{3} + C_{1} C_{3} L_{2} R_{2} R_{in} R_{out} s^{3} + C_{1} C_{3} L_{2} R_{3} R_{in} R_{out} s^{3} + C_{1} C_{3} L_{2} R_{3} R_{in} Ra s^{3} + C_{1} C_{3} L_{2} R_{in} R_{out} Ra s^{3} + C_{1} C_{3} L_{3} R_{1} R_{2} R_{in} s^{3} + C_{1} C_{3} L_{3} R_{1} R_{2} R_{out} s^{3} + C_{1} C_{3} L_{3} R_{1} R_{2} Ra s^{3} + C_{1} C_{3} L_{3} R_{2} R_{in} R_{out} s^{3} + C_{1} C_{3} L_{3} R_{2} R_{in} Ra s^{3} + C_{1} C_{3} R_{1} R_{2} R_{3} R_{in} s^{2} + C_{1} C_{3} R_{1} R_{2} R_{3} R_{out} s^{2} + C_{1} C_{3} R_{1} R_{2} R_{3} Ra s^{2} + C_{1} C_{3} R_{1} R_{2} R_{in} R_{out} s^{2} + C_{1} C_{3} R_{1} R_{2} R_{out} Ra s^{2} + C_{1} C_{3} R_{2} R_{3} R_{in} R_{out} s^{2} + C_{1} C_{3} R_{2} R_{3} R_{in} Ra s^{2} + C_{1} C_{3} R_{2} R_{in} R_{out} Ra s^{2} + C_{1} L_{1} L_{2} R_{2} s^{3} + C_{1} L_{1} L_{2} R_{in} s^{3} + C_{1} L_{1} L_{2} R_{out} s^{3} + C_{1} L_{1} L_{2} Ra s^{3} + C_{1} L_{1} R_{2} R_{in} s^{2} + C_{1} L_{1} R_{2} R_{out} s^{2} + C_{1} L_{1} R_{2} Ra s^{2} + C_{1} L_{2} R_{1} R_{2} s^{2} + C_{1} L_{2} R_{1} R_{in} s^{2} + C_{1} L_{2} R_{1} R_{out} s^{2} + C_{1} L_{2} R_{1} Ra s^{2} + C_{1} L_{2} R_{2} R_{in} s^{2} + C_{1} L_{2} R_{in} R_{out} s^{2} + C_{1} L_{2} R_{in} Ra s^{2} + C_{1} R_{1} R_{2} R_{in} s + C_{1} R_{1} R_{2} R_{out} s + C_{1} R_{1} R_{2} Ra s + C_{1} R_{2} R_{in} R_{out} s + C_{1} R_{2} R_{in} Ra s + C_{2} C_{3} L_{2} L_{3} R_{2} R_{in} s^{4} + C_{2} C_{3} L_{2} L_{3} R_{2} R_{out} s^{4} + C_{2} C_{3} L_{2} L_{3} R_{2} Ra s^{4} + C_{2} C_{3} L_{2} R_{2} R_{3} R_{in} s^{3} + C_{2} C_{3} L_{2} R_{2} R_{3} R_{out} s^{3} + C_{2} C_{3} L_{2} R_{2} R_{3} Ra s^{3} + C_{2} C_{3} L_{2} R_{2} R_{in} R_{out} s^{3} + C_{2} C_{3} L_{2} R_{2} R_{out} Ra s^{3} + C_{2} L_{2} R_{2} R_{in} s^{2} + C_{2} L_{2} R_{2} R_{out} s^{2} + C_{2} L_{2} R_{2} Ra s^{2} + C_{3} L_{2} L_{3} R_{2} s^{3} + C_{3} L_{2} L_{3} R_{in} s^{3} + C_{3} L_{2} L_{3} R_{out} s^{3} + C_{3} L_{2} L_{3} Ra s^{3} + C_{3} L_{2} R_{2} R_{3} s^{2} + C_{3} L_{2} R_{2} R_{out} s^{2} + C_{3} L_{2} R_{3} R_{in} s^{2} + C_{3} L_{2} R_{3} R_{out} s^{2} + C_{3} L_{2} R_{3} Ra s^{2} + C_{3} L_{2} R_{in} R_{out} s^{2} + C_{3} L_{2} R_{out} Ra s^{2} + C_{3} L_{3} R_{2} R_{in} s^{2} + C_{3} L_{3} R_{2} R_{out} s^{2} + C_{3} L_{3} R_{2} Ra s^{2} + C_{3} R_{2} R_{3} R_{in} s + C_{3} R_{2} R_{3} R_{out} s + C_{3} R_{2} R_{3} Ra s + C_{3} R_{2} R_{in} R_{out} s + C_{3} R_{2} R_{out} Ra s + L_{2} R_{2} s + L_{2} R_{in} s + L_{2} R_{out} s + L_{2} Ra s + R_{2} R_{in} + R_{2} R_{out} + R_{2} Ra$"
      ],
      "text/plain": [
       "                          6                              6                    \n",
       "C₁⋅C₂⋅C₃⋅L₁⋅L₂⋅L₃⋅R₂⋅Rᵢₙ⋅s  + C₁⋅C₂⋅C₃⋅L₁⋅L₂⋅L₃⋅R₂⋅Rₒᵤₜ⋅s  + C₁⋅C₂⋅C₃⋅L₁⋅L₂⋅L₃\n",
       "\n",
       "        6                             5                              5        \n",
       "⋅R₂⋅Ra⋅s  + C₁⋅C₂⋅C₃⋅L₁⋅L₂⋅R₂⋅R₃⋅Rᵢₙ⋅s  + C₁⋅C₂⋅C₃⋅L₁⋅L₂⋅R₂⋅R₃⋅Rₒᵤₜ⋅s  + C₁⋅C₂\n",
       "\n",
       "                    5                               5                         \n",
       "⋅C₃⋅L₁⋅L₂⋅R₂⋅R₃⋅Ra⋅s  + C₁⋅C₂⋅C₃⋅L₁⋅L₂⋅R₂⋅Rᵢₙ⋅Rₒᵤₜ⋅s  + C₁⋅C₂⋅C₃⋅L₁⋅L₂⋅R₂⋅Rₒᵤₜ\n",
       "\n",
       "     5                             5                              5           \n",
       "⋅Ra⋅s  + C₁⋅C₂⋅C₃⋅L₂⋅L₃⋅R₁⋅R₂⋅Rᵢₙ⋅s  + C₁⋅C₂⋅C₃⋅L₂⋅L₃⋅R₁⋅R₂⋅Rₒᵤₜ⋅s  + C₁⋅C₂⋅C₃\n",
       "\n",
       "                 5                               5                            \n",
       "⋅L₂⋅L₃⋅R₁⋅R₂⋅Ra⋅s  + C₁⋅C₂⋅C₃⋅L₂⋅L₃⋅R₂⋅Rᵢₙ⋅Rₒᵤₜ⋅s  + C₁⋅C₂⋅C₃⋅L₂⋅L₃⋅R₂⋅Rᵢₙ⋅Ra⋅\n",
       "\n",
       " 5                             4                              4               \n",
       "s  + C₁⋅C₂⋅C₃⋅L₂⋅R₁⋅R₂⋅R₃⋅Rᵢₙ⋅s  + C₁⋅C₂⋅C₃⋅L₂⋅R₁⋅R₂⋅R₃⋅Rₒᵤₜ⋅s  + C₁⋅C₂⋅C₃⋅L₂⋅\n",
       "\n",
       "             4                               4                              4 \n",
       "R₁⋅R₂⋅R₃⋅Ra⋅s  + C₁⋅C₂⋅C₃⋅L₂⋅R₁⋅R₂⋅Rᵢₙ⋅Rₒᵤₜ⋅s  + C₁⋅C₂⋅C₃⋅L₂⋅R₁⋅R₂⋅Rₒᵤₜ⋅Ra⋅s  \n",
       "\n",
       "                              4                             4                 \n",
       "+ C₁⋅C₂⋅C₃⋅L₂⋅R₂⋅R₃⋅Rᵢₙ⋅Rₒᵤₜ⋅s  + C₁⋅C₂⋅C₃⋅L₂⋅R₂⋅R₃⋅Rᵢₙ⋅Ra⋅s  + C₁⋅C₂⋅C₃⋅L₂⋅R₂\n",
       "\n",
       "              4                       4                        4              \n",
       "⋅Rᵢₙ⋅Rₒᵤₜ⋅Ra⋅s  + C₁⋅C₂⋅L₁⋅L₂⋅R₂⋅Rᵢₙ⋅s  + C₁⋅C₂⋅L₁⋅L₂⋅R₂⋅Rₒᵤₜ⋅s  + C₁⋅C₂⋅L₁⋅L₂\n",
       "\n",
       "        4                       3                        3                    \n",
       "⋅R₂⋅Ra⋅s  + C₁⋅C₂⋅L₂⋅R₁⋅R₂⋅Rᵢₙ⋅s  + C₁⋅C₂⋅L₂⋅R₁⋅R₂⋅Rₒᵤₜ⋅s  + C₁⋅C₂⋅L₂⋅R₁⋅R₂⋅Ra\n",
       "\n",
       "  3                         3                       3                      5  \n",
       "⋅s  + C₁⋅C₂⋅L₂⋅R₂⋅Rᵢₙ⋅Rₒᵤₜ⋅s  + C₁⋅C₂⋅L₂⋅R₂⋅Rᵢₙ⋅Ra⋅s  + C₁⋅C₃⋅L₁⋅L₂⋅L₃⋅R₂⋅s  +\n",
       "\n",
       "                     5                        5                      5        \n",
       " C₁⋅C₃⋅L₁⋅L₂⋅L₃⋅Rᵢₙ⋅s  + C₁⋅C₃⋅L₁⋅L₂⋅L₃⋅Rₒᵤₜ⋅s  + C₁⋅C₃⋅L₁⋅L₂⋅L₃⋅Ra⋅s  + C₁⋅C₃\n",
       "\n",
       "              4                        4                       4              \n",
       "⋅L₁⋅L₂⋅R₂⋅R₃⋅s  + C₁⋅C₃⋅L₁⋅L₂⋅R₂⋅Rₒᵤₜ⋅s  + C₁⋅C₃⋅L₁⋅L₂⋅R₃⋅Rᵢₙ⋅s  + C₁⋅C₃⋅L₁⋅L₂\n",
       "\n",
       "          4                      4                         4                  \n",
       "⋅R₃⋅Rₒᵤₜ⋅s  + C₁⋅C₃⋅L₁⋅L₂⋅R₃⋅Ra⋅s  + C₁⋅C₃⋅L₁⋅L₂⋅Rᵢₙ⋅Rₒᵤₜ⋅s  + C₁⋅C₃⋅L₁⋅L₂⋅Rₒᵤ\n",
       "\n",
       "      4                       4                        4                      \n",
       "ₜ⋅Ra⋅s  + C₁⋅C₃⋅L₁⋅L₃⋅R₂⋅Rᵢₙ⋅s  + C₁⋅C₃⋅L₁⋅L₃⋅R₂⋅Rₒᵤₜ⋅s  + C₁⋅C₃⋅L₁⋅L₃⋅R₂⋅Ra⋅s\n",
       "\n",
       "4                       3                        3                      3     \n",
       "  + C₁⋅C₃⋅L₁⋅R₂⋅R₃⋅Rᵢₙ⋅s  + C₁⋅C₃⋅L₁⋅R₂⋅R₃⋅Rₒᵤₜ⋅s  + C₁⋅C₃⋅L₁⋅R₂⋅R₃⋅Ra⋅s  + C₁\n",
       "\n",
       "                    3                        3                      4         \n",
       "⋅C₃⋅L₁⋅R₂⋅Rᵢₙ⋅Rₒᵤₜ⋅s  + C₁⋅C₃⋅L₁⋅R₂⋅Rₒᵤₜ⋅Ra⋅s  + C₁⋅C₃⋅L₂⋅L₃⋅R₁⋅R₂⋅s  + C₁⋅C₃⋅\n",
       "\n",
       "              4                        4                      4               \n",
       "L₂⋅L₃⋅R₁⋅Rᵢₙ⋅s  + C₁⋅C₃⋅L₂⋅L₃⋅R₁⋅Rₒᵤₜ⋅s  + C₁⋅C₃⋅L₂⋅L₃⋅R₁⋅Ra⋅s  + C₁⋅C₃⋅L₂⋅L₃⋅\n",
       "\n",
       "        4                         4                       4                   \n",
       "R₂⋅Rᵢₙ⋅s  + C₁⋅C₃⋅L₂⋅L₃⋅Rᵢₙ⋅Rₒᵤₜ⋅s  + C₁⋅C₃⋅L₂⋅L₃⋅Rᵢₙ⋅Ra⋅s  + C₁⋅C₃⋅L₂⋅R₁⋅R₂⋅R\n",
       "\n",
       "   3                        3                       3                        3\n",
       "₃⋅s  + C₁⋅C₃⋅L₂⋅R₁⋅R₂⋅Rₒᵤₜ⋅s  + C₁⋅C₃⋅L₂⋅R₁⋅R₃⋅Rᵢₙ⋅s  + C₁⋅C₃⋅L₂⋅R₁⋅R₃⋅Rₒᵤₜ⋅s \n",
       "\n",
       "                      3                         3                        3    \n",
       " + C₁⋅C₃⋅L₂⋅R₁⋅R₃⋅Ra⋅s  + C₁⋅C₃⋅L₂⋅R₁⋅Rᵢₙ⋅Rₒᵤₜ⋅s  + C₁⋅C₃⋅L₂⋅R₁⋅Rₒᵤₜ⋅Ra⋅s  + C\n",
       "\n",
       "                   3                         3                         3      \n",
       "₁⋅C₃⋅L₂⋅R₂⋅R₃⋅Rᵢₙ⋅s  + C₁⋅C₃⋅L₂⋅R₂⋅Rᵢₙ⋅Rₒᵤₜ⋅s  + C₁⋅C₃⋅L₂⋅R₃⋅Rᵢₙ⋅Rₒᵤₜ⋅s  + C₁⋅\n",
       "\n",
       "                 3                         3                       3          \n",
       "C₃⋅L₂⋅R₃⋅Rᵢₙ⋅Ra⋅s  + C₁⋅C₃⋅L₂⋅Rᵢₙ⋅Rₒᵤₜ⋅Ra⋅s  + C₁⋅C₃⋅L₃⋅R₁⋅R₂⋅Rᵢₙ⋅s  + C₁⋅C₃⋅L\n",
       "\n",
       "              3                      3                         3              \n",
       "₃⋅R₁⋅R₂⋅Rₒᵤₜ⋅s  + C₁⋅C₃⋅L₃⋅R₁⋅R₂⋅Ra⋅s  + C₁⋅C₃⋅L₃⋅R₂⋅Rᵢₙ⋅Rₒᵤₜ⋅s  + C₁⋅C₃⋅L₃⋅R₂\n",
       "\n",
       "         3                       2                        2                   \n",
       "⋅Rᵢₙ⋅Ra⋅s  + C₁⋅C₃⋅R₁⋅R₂⋅R₃⋅Rᵢₙ⋅s  + C₁⋅C₃⋅R₁⋅R₂⋅R₃⋅Rₒᵤₜ⋅s  + C₁⋅C₃⋅R₁⋅R₂⋅R₃⋅R\n",
       "\n",
       "   2                         2                        2                       \n",
       "a⋅s  + C₁⋅C₃⋅R₁⋅R₂⋅Rᵢₙ⋅Rₒᵤₜ⋅s  + C₁⋅C₃⋅R₁⋅R₂⋅Rₒᵤₜ⋅Ra⋅s  + C₁⋅C₃⋅R₂⋅R₃⋅Rᵢₙ⋅Rₒᵤₜ\n",
       "\n",
       "  2                       2                         2                3        \n",
       "⋅s  + C₁⋅C₃⋅R₂⋅R₃⋅Rᵢₙ⋅Ra⋅s  + C₁⋅C₃⋅R₂⋅Rᵢₙ⋅Rₒᵤₜ⋅Ra⋅s  + C₁⋅L₁⋅L₂⋅R₂⋅s  + C₁⋅L₁\n",
       "\n",
       "         3                  3                3                 2              \n",
       "⋅L₂⋅Rᵢₙ⋅s  + C₁⋅L₁⋅L₂⋅Rₒᵤₜ⋅s  + C₁⋅L₁⋅L₂⋅Ra⋅s  + C₁⋅L₁⋅R₂⋅Rᵢₙ⋅s  + C₁⋅L₁⋅R₂⋅Rₒ\n",
       "\n",
       "    2                2                2                 2                  2  \n",
       "ᵤₜ⋅s  + C₁⋅L₁⋅R₂⋅Ra⋅s  + C₁⋅L₂⋅R₁⋅R₂⋅s  + C₁⋅L₂⋅R₁⋅Rᵢₙ⋅s  + C₁⋅L₂⋅R₁⋅Rₒᵤₜ⋅s  +\n",
       "\n",
       "              2                 2                   2                 2       \n",
       " C₁⋅L₂⋅R₁⋅Ra⋅s  + C₁⋅L₂⋅R₂⋅Rᵢₙ⋅s  + C₁⋅L₂⋅Rᵢₙ⋅Rₒᵤₜ⋅s  + C₁⋅L₂⋅Rᵢₙ⋅Ra⋅s  + C₁⋅R\n",
       "\n",
       "                                                                              \n",
       "₁⋅R₂⋅Rᵢₙ⋅s + C₁⋅R₁⋅R₂⋅Rₒᵤₜ⋅s + C₁⋅R₁⋅R₂⋅Ra⋅s + C₁⋅R₂⋅Rᵢₙ⋅Rₒᵤₜ⋅s + C₁⋅R₂⋅Rᵢₙ⋅Ra\n",
       "\n",
       "                         4                        4                      4    \n",
       "⋅s + C₂⋅C₃⋅L₂⋅L₃⋅R₂⋅Rᵢₙ⋅s  + C₂⋅C₃⋅L₂⋅L₃⋅R₂⋅Rₒᵤₜ⋅s  + C₂⋅C₃⋅L₂⋅L₃⋅R₂⋅Ra⋅s  + C\n",
       "\n",
       "                   3                        3                      3          \n",
       "₂⋅C₃⋅L₂⋅R₂⋅R₃⋅Rᵢₙ⋅s  + C₂⋅C₃⋅L₂⋅R₂⋅R₃⋅Rₒᵤₜ⋅s  + C₂⋅C₃⋅L₂⋅R₂⋅R₃⋅Ra⋅s  + C₂⋅C₃⋅L\n",
       "\n",
       "               3                        3                 2                  2\n",
       "₂⋅R₂⋅Rᵢₙ⋅Rₒᵤₜ⋅s  + C₂⋅C₃⋅L₂⋅R₂⋅Rₒᵤₜ⋅Ra⋅s  + C₂⋅L₂⋅R₂⋅Rᵢₙ⋅s  + C₂⋅L₂⋅R₂⋅Rₒᵤₜ⋅s \n",
       "\n",
       "                2                3                 3                  3       \n",
       " + C₂⋅L₂⋅R₂⋅Ra⋅s  + C₃⋅L₂⋅L₃⋅R₂⋅s  + C₃⋅L₂⋅L₃⋅Rᵢₙ⋅s  + C₃⋅L₂⋅L₃⋅Rₒᵤₜ⋅s  + C₃⋅L\n",
       "\n",
       "         3                2                  2                 2              \n",
       "₂⋅L₃⋅Ra⋅s  + C₃⋅L₂⋅R₂⋅R₃⋅s  + C₃⋅L₂⋅R₂⋅Rₒᵤₜ⋅s  + C₃⋅L₂⋅R₃⋅Rᵢₙ⋅s  + C₃⋅L₂⋅R₃⋅Rₒ\n",
       "\n",
       "    2                2                   2                  2                 \n",
       "ᵤₜ⋅s  + C₃⋅L₂⋅R₃⋅Ra⋅s  + C₃⋅L₂⋅Rᵢₙ⋅Rₒᵤₜ⋅s  + C₃⋅L₂⋅Rₒᵤₜ⋅Ra⋅s  + C₃⋅L₃⋅R₂⋅Rᵢₙ⋅s\n",
       "\n",
       "2                  2                2                                         \n",
       "  + C₃⋅L₃⋅R₂⋅Rₒᵤₜ⋅s  + C₃⋅L₃⋅R₂⋅Ra⋅s  + C₃⋅R₂⋅R₃⋅Rᵢₙ⋅s + C₃⋅R₂⋅R₃⋅Rₒᵤₜ⋅s + C₃⋅\n",
       "\n",
       "                                                                              \n",
       "R₂⋅R₃⋅Ra⋅s + C₃⋅R₂⋅Rᵢₙ⋅Rₒᵤₜ⋅s + C₃⋅R₂⋅Rₒᵤₜ⋅Ra⋅s + L₂⋅R₂⋅s + L₂⋅Rᵢₙ⋅s + L₂⋅Rₒᵤₜ\n",
       "\n",
       "                                       \n",
       "⋅s + L₂⋅Ra⋅s + R₂⋅Rᵢₙ + R₂⋅Rₒᵤₜ + R₂⋅Ra"
      ]
     },
     "metadata": {},
     "output_type": "display_data"
    }
   ],
   "source": [
    "n, d = fraction(H_sym)\n",
    "display('numerator', n, 'denominator', d)"
   ]
  },
  {
   "cell_type": "markdown",
   "id": "191ebcbc-04be-4de9-84c9-629e267cd596",
   "metadata": {},
   "source": [
    "Solve for the roots of the numberator."
   ]
  },
  {
   "cell_type": "code",
   "execution_count": 12,
   "id": "063625b9-8e64-47aa-90a4-968dc7678cc1",
   "metadata": {},
   "outputs": [
    {
     "data": {
      "image/png": "[encoded data removed]",
      "text/latex": [
       "$\\displaystyle \\left[ \\frac{- C_{1} R_{1} - \\sqrt{C_{1}^{2} R_{1}^{2} - 4 C_{1} L_{1}}}{2 C_{1} L_{1}}, \\  \\frac{- C_{1} R_{1} + \\sqrt{C_{1}^{2} R_{1}^{2} - 4 C_{1} L_{1}}}{2 C_{1} L_{1}}, \\  \\frac{- C_{3} R_{3} - \\sqrt{C_{3}^{2} R_{3}^{2} - 4 C_{3} L_{3}}}{2 C_{3} L_{3}}, \\  \\frac{- C_{3} R_{3} + \\sqrt{C_{3}^{2} R_{3}^{2} - 4 C_{3} L_{3}}}{2 C_{3} L_{3}}, \\  \\frac{- L_{2} - \\sqrt{- 4 C_{2} L_{2} R_{2}^{2} + L_{2}^{2}}}{2 C_{2} L_{2} R_{2}}, \\  \\frac{- L_{2} + \\sqrt{- 4 C_{2} L_{2} R_{2}^{2} + L_{2}^{2}}}{2 C_{2} L_{2} R_{2}}\\right]$"
      ],
      "text/plain": [
       "⎡            ___________________              ___________________             \n",
       "⎢           ╱   2   2                        ╱   2   2                        \n",
       "⎢-C₁⋅R₁ - ╲╱  C₁ ⋅R₁  - 4⋅C₁⋅L₁   -C₁⋅R₁ + ╲╱  C₁ ⋅R₁  - 4⋅C₁⋅L₁   -C₃⋅R₃ - ╲╱\n",
       "⎢───────────────────────────────, ───────────────────────────────, ───────────\n",
       "⎣            2⋅C₁⋅L₁                          2⋅C₁⋅L₁                         \n",
       "\n",
       " ___________________              ___________________           ______________\n",
       "╱   2   2                        ╱   2   2                     ╱             2\n",
       "  C₃ ⋅R₃  - 4⋅C₃⋅L₃   -C₃⋅R₃ + ╲╱  C₃ ⋅R₃  - 4⋅C₃⋅L₃   -L₂ - ╲╱  - 4⋅C₂⋅L₂⋅R₂ \n",
       "────────────────────, ───────────────────────────────, ───────────────────────\n",
       " 2⋅C₃⋅L₃                          2⋅C₃⋅L₃                        2⋅C₂⋅L₂⋅R₂   \n",
       "\n",
       "_______           _____________________⎤\n",
       "     2           ╱             2     2 ⎥\n",
       " + L₂    -L₂ + ╲╱  - 4⋅C₂⋅L₂⋅R₂  + L₂  ⎥\n",
       "───────, ──────────────────────────────⎥\n",
       "                   2⋅C₂⋅L₂⋅R₂          ⎦"
      ]
     },
     "execution_count": 12,
     "metadata": {},
     "output_type": "execute_result"
    }
   ],
   "source": [
    "solve(n,s)"
   ]
  },
  {
   "cell_type": "markdown",
   "id": "474462ea-60dc-4f79-8cf8-59c25cc8ecb6",
   "metadata": {},
   "source": [
    "We can see that there are six zeros in the transfer function. Here can see what components are influncing the zeros. Once of the gaols of the FACTS method was to determine the zeros of the network.\n",
    "\n",
    "Solve for the roots of the denominator"
   ]
  },
  {
   "cell_type": "code",
   "execution_count": 13,
   "id": "74ef0cc3-da02-41e1-8d17-554cafd95abe",
   "metadata": {},
   "outputs": [],
   "source": [
    "#solve(d,s)"
   ]
  },
  {
   "cell_type": "markdown",
   "id": "93467124-d019-4c56-ac2a-e3b79240ace9",
   "metadata": {},
   "source": [
    "SymPy could not find a solution for roots of denominator.\n",
    "\n",
    "## Use numerical values for components"
   ]
  },
  {
   "cell_type": "code",
   "execution_count": 14,
   "id": "2da4c052-bc73-4af5-99ab-e58126a6aa44",
   "metadata": {},
   "outputs": [
    {
     "data": {
      "image/png": "[encoded data removed]",
      "text/latex": [
       "$\\displaystyle \\left\\{ C_{1} : 1.0, \\  C_{2} : 0.5, \\  C_{3} : 0.5, \\  L_{1} : 1.0, \\  L_{2} : 1.0, \\  L_{3} : 0.5, \\  R_{1} : 1.0, \\  R_{2} : 0.5, \\  R_{3} : 1.0, \\  R_{in} : 1.0, \\  R_{out} : 1.0, \\  Ra : 1.0, \\  V_{1} : 1.0\\right\\}$"
      ],
      "text/plain": [
       "{C₁: 1.0, C₂: 0.5, C₃: 0.5, L₁: 1.0, L₂: 1.0, L₃: 0.5, R₁: 1.0, R₂: 0.5, R₃: 1\n",
       ".0, Rᵢₙ: 1.0, Rₒᵤₜ: 1.0, Ra: 1.0, V₁: 1.0}"
      ]
     },
     "execution_count": 14,
     "metadata": {},
     "output_type": "execute_result"
    }
   ],
   "source": [
    "element_values"
   ]
  },
  {
   "cell_type": "markdown",
   "id": "7b6b3a7a-241c-4f4b-9ce8-e6bfdb29891a",
   "metadata": {
    "tags": []
   },
   "source": [
    "### Numerical solution"
   ]
  },
  {
   "cell_type": "code",
   "execution_count": 15,
   "id": "971a848d-3aa0-41f3-8cc6-07cbc24544f1",
   "metadata": {},
   "outputs": [
    {
     "data": {
      "text/latex": [
       "$\\displaystyle \\left[\\begin{matrix}3.0 v_{1} - 1.0 v_{3} - 1.0 v_{4} - 1.0 v_{8}\\\\- I_{L2} + v_{2} \\cdot \\left(0.5 s + 4.0\\right) + v_{3} \\left(- 0.5 s - 2.0\\right) - 1.0 v_{6}\\\\I_{L2} - 1.0 v_{1} + v_{2} \\left(- 0.5 s - 2.0\\right) + v_{3} \\cdot \\left(0.5 s + 3.0\\right)\\\\I_{L1} - 1.0 v_{1} + 1.0 v_{4}\\\\- I_{L1} + 1.0 s v_{5}\\\\I_{L3} - 1.0 v_{2} + 1.0 v_{6}\\\\- I_{L3} + 0.5 s v_{7}\\\\I_{V1} - 1.0 v_{1} + 1.0 v_{8}\\\\v_{8}\\\\- 1.0 I_{L1} s + v_{4} - v_{5}\\\\- 1.0 I_{L2} s - v_{2} + v_{3}\\\\- 0.5 I_{L3} s + v_{6} - v_{7}\\end{matrix}\\right] = \\left[\\begin{matrix}0\\\\0\\\\0\\\\0\\\\0\\\\0\\\\0\\\\0\\\\1.0\\\\0\\\\0\\\\0\\end{matrix}\\right]$"
      ],
      "text/plain": [
       "⎡              3.0⋅v₁ - v₃ - v₄ - v₈              ⎤   ⎡ 0 ⎤\n",
       "⎢                                                 ⎥   ⎢   ⎥\n",
       "⎢-I_L2 + v₂⋅(0.5⋅s + 4.0) + v₃⋅(-0.5⋅s - 2.0) - v₆⎥   ⎢ 0 ⎥\n",
       "⎢                                                 ⎥   ⎢   ⎥\n",
       "⎢I_L2 - v₁ + v₂⋅(-0.5⋅s - 2.0) + v₃⋅(0.5⋅s + 3.0) ⎥   ⎢ 0 ⎥\n",
       "⎢                                                 ⎥   ⎢   ⎥\n",
       "⎢               I_L1 - v₁ + 1.0⋅v₄                ⎥   ⎢ 0 ⎥\n",
       "⎢                                                 ⎥   ⎢   ⎥\n",
       "⎢                -I_L1 + 1.0⋅s⋅v₅                 ⎥   ⎢ 0 ⎥\n",
       "⎢                                                 ⎥   ⎢   ⎥\n",
       "⎢               I_L3 - v₂ + 1.0⋅v₆                ⎥   ⎢ 0 ⎥\n",
       "⎢                                                 ⎥ = ⎢   ⎥\n",
       "⎢                -I_L3 + 0.5⋅s⋅v₇                 ⎥   ⎢ 0 ⎥\n",
       "⎢                                                 ⎥   ⎢   ⎥\n",
       "⎢               I_V1 - v₁ + 1.0⋅v₈                ⎥   ⎢ 0 ⎥\n",
       "⎢                                                 ⎥   ⎢   ⎥\n",
       "⎢                       v₈                        ⎥   ⎢1.0⎥\n",
       "⎢                                                 ⎥   ⎢   ⎥\n",
       "⎢                -I_L1⋅s + v₄ - v₅                ⎥   ⎢ 0 ⎥\n",
       "⎢                                                 ⎥   ⎢   ⎥\n",
       "⎢                -I_L2⋅s - v₂ + v₃                ⎥   ⎢ 0 ⎥\n",
       "⎢                                                 ⎥   ⎢   ⎥\n",
       "⎣              -0.5⋅I_L3⋅s + v₆ - v₇              ⎦   ⎣ 0 ⎦"
      ]
     },
     "execution_count": 15,
     "metadata": {},
     "output_type": "execute_result"
    }
   ],
   "source": [
    "NE = NE_sym.subs(element_values)\n",
    "NE"
   ]
  },
  {
   "cell_type": "code",
   "execution_count": 16,
   "id": "9cfa268e-204a-4eaf-90cc-11a0d71589c8",
   "metadata": {},
   "outputs": [
    {
     "data": {
      "text/markdown": [
       "$v_{1} = \\frac{2.0 s^{6} + 18.0 s^{5} + 62.0 s^{4} + 112.0 s^{3} + 112.0 s^{2} + 68.0 s + 16.0}{3.0 s^{6} + 29.0 s^{5} + 109.0 s^{4} + 210.0 s^{3} + 218.0 s^{2} + 116.0 s + 24.0}$<br>$v_{2} = \\frac{s^{6} + 7.0 s^{5} + 21.0 s^{4} + 40.0 s^{3} + 42.0 s^{2} + 28.0 s + 8.0}{3.0 s^{6} + 29.0 s^{5} + 109.0 s^{4} + 210.0 s^{3} + 218.0 s^{2} + 116.0 s + 24.0}$<br>$v_{3} = \\frac{s^{6} + 9.0 s^{5} + 31.0 s^{4} + 58.0 s^{3} + 58.0 s^{2} + 36.0 s + 8.0}{3.0 s^{6} + 29.0 s^{5} + 109.0 s^{4} + 210.0 s^{3} + 218.0 s^{2} + 116.0 s + 24.0}$<br>$v_{4} = \\frac{2.0 s^{6} + 16.0 s^{5} + 46.0 s^{4} + 68.0 s^{3} + 60.0 s^{2} + 52.0 s + 16.0}{3.0 s^{6} + 29.0 s^{5} + 109.0 s^{4} + 210.0 s^{3} + 218.0 s^{2} + 116.0 s + 24.0}$<br>$v_{5} = \\frac{2.0 s^{4} + 16.0 s^{3} + 44.0 s^{2} + 52.0 s + 16.0}{3.0 s^{6} + 29.0 s^{5} + 109.0 s^{4} + 210.0 s^{3} + 218.0 s^{2} + 116.0 s + 24.0}$<br>$v_{6} = \\frac{s^{6} + 5.0 s^{5} + 11.0 s^{4} + 26.0 s^{3} + 30.0 s^{2} + 24.0 s + 8.0}{3.0 s^{6} + 29.0 s^{5} + 109.0 s^{4} + 210.0 s^{3} + 218.0 s^{2} + 116.0 s + 24.0}$<br>$v_{7} = \\frac{4.0 s^{4} + 20.0 s^{3} + 28.0 s^{2} + 24.0 s + 8.0}{3.0 s^{6} + 29.0 s^{5} + 109.0 s^{4} + 210.0 s^{3} + 218.0 s^{2} + 116.0 s + 24.0}$<br>$v_{8} = 1.0$<br>$I_{V1} = \\frac{- s^{6} - 11.0 s^{5} - 47.0 s^{4} - 98.0 s^{3} - 106.0 s^{2} - 48.0 s - 8.0}{3.0 s^{6} + 29.0 s^{5} + 109.0 s^{4} + 210.0 s^{3} + 218.0 s^{2} + 116.0 s + 24.0}$<br>$I_{L1} = \\frac{2.0 s^{5} + 16.0 s^{4} + 44.0 s^{3} + 52.0 s^{2} + 16.0 s}{3.0 s^{6} + 29.0 s^{5} + 109.0 s^{4} + 210.0 s^{3} + 218.0 s^{2} + 116.0 s + 24.0}$<br>$I_{L2} = \\frac{2.0 s^{4} + 10.0 s^{3} + 18.0 s^{2} + 16.0 s + 8.0}{3.0 s^{6} + 29.0 s^{5} + 109.0 s^{4} + 210.0 s^{3} + 218.0 s^{2} + 116.0 s + 24.0}$<br>$I_{L3} = \\frac{2.0 s^{5} + 10.0 s^{4} + 14.0 s^{3} + 12.0 s^{2} + 4.0 s}{3.0 s^{6} + 29.0 s^{5} + 109.0 s^{4} + 210.0 s^{3} + 218.0 s^{2} + 116.0 s + 24.0}$<br>"
      ],
      "text/plain": [
       "<IPython.core.display.Markdown object>"
      ]
     },
     "execution_count": 16,
     "metadata": {},
     "output_type": "execute_result"
    }
   ],
   "source": [
    "U = solve(NE,X)\n",
    "\n",
    "temp = ''\n",
    "for i in U.keys():\n",
    "    temp += '${:s} = {:s}$<br>'.format(latex(i),latex(U[i]))\n",
    "\n",
    "Markdown(temp)"
   ]
  },
  {
   "cell_type": "code",
   "execution_count": 17,
   "id": "79ed2014-28f0-4e72-9325-27b51c473d50",
   "metadata": {},
   "outputs": [
    {
     "data": {
      "image/png": "[encoded data removed]",
      "text/latex": [
       "$\\displaystyle \\frac{s^{6} + 7 s^{5} + 21 s^{4} + 40 s^{3} + 42 s^{2} + 28 s + 8}{3 s^{6} + 29 s^{5} + 109 s^{4} + 210 s^{3} + 218 s^{2} + 116 s + 24}$"
      ],
      "text/plain": [
       "     6      5       4       3       2               \n",
       "    s  + 7⋅s  + 21⋅s  + 40⋅s  + 42⋅s  + 28⋅s + 8    \n",
       "────────────────────────────────────────────────────\n",
       "   6       5        4        3        2             \n",
       "3⋅s  + 29⋅s  + 109⋅s  + 210⋅s  + 218⋅s  + 116⋅s + 24"
      ]
     },
     "execution_count": 17,
     "metadata": {},
     "output_type": "execute_result"
    }
   ],
   "source": [
    "H = (U[v2]/U[v8]).nsimplify().simplify().expand().together()\n",
    "H"
   ]
  },
  {
   "cell_type": "markdown",
   "id": "fc07c5b4-8bbc-44d3-a908-27804501ec97",
   "metadata": {},
   "source": [
    "#### Convert transfer function to SciPy system\n",
    "In this section we convert the SymPy equations into Numpy format.  \n",
    "\n",
    "Extract the numerator and denominator polynomials so that the system can be defined in SciPy."
   ]
  },
  {
   "cell_type": "code",
   "execution_count": 18,
   "id": "4e76ce6b-2bb5-4fcc-8c1c-9e3ed0188103",
   "metadata": {
    "tags": []
   },
   "outputs": [],
   "source": [
    "H_num, H_denom = fraction(H) #returns numerator and denominator"
   ]
  },
  {
   "cell_type": "markdown",
   "id": "51e31262-a9c6-4f62-9012-12b6ae596ef0",
   "metadata": {},
   "source": [
    "The SciPy function, TransferFunction, represents the system as the continuous-time transfer function and takes as inputs the coeeficients of the numerator and denominator polynominals."
   ]
  },
  {
   "cell_type": "code",
   "execution_count": 19,
   "id": "e27351c4-6121-4f2f-b696-4a2bfaf02acd",
   "metadata": {
    "collapsed": false,
    "jupyter": {
     "outputs_hidden": false
    }
   },
   "outputs": [],
   "source": [
    "# convert symbolic to numpy polynomial\n",
    "a = np.array(Poly(H_num, s).all_coeffs(), dtype=float)\n",
    "b = np.array(Poly(H_denom, s).all_coeffs(), dtype=float)\n",
    "sys = signal.TransferFunction(a,b)"
   ]
  },
  {
   "cell_type": "markdown",
   "id": "31c47e0d-eea8-484a-acb3-7aff20649392",
   "metadata": {},
   "source": [
    "### Poles and zeros of the low pass transfer function\n",
    "The poles and zeros of the transfer function can easly be obtained with the following code:"
   ]
  },
  {
   "cell_type": "code",
   "execution_count": 20,
   "id": "048a358c-ff6e-4db7-9f35-95437c96bd06",
   "metadata": {},
   "outputs": [],
   "source": [
    "sys_zeros = np.roots(sys.num)\n",
    "sys_poles = np.roots(sys.den)"
   ]
  },
  {
   "cell_type": "markdown",
   "id": "dcbc7ef4-c35f-45ab-ae23-4d3f675dbd80",
   "metadata": {},
   "source": [
    "#### Pole zero plot\n",
    "The poles and zeros of the function are plotted on the complex plane."
   ]
  },
  {
   "cell_type": "code",
   "execution_count": 21,
   "id": "4940e6bf-c50e-44f8-8d5d-f815e71e9369",
   "metadata": {},
   "outputs": [
    {
     "data": {
      "image/png": "[encoded data removed]",
      "text/plain": [
       "<Figure size 640x480 with 1 Axes>"
      ]
     },
     "metadata": {},
     "output_type": "display_data"
    }
   ],
   "source": [
    "plt.plot(np.real(sys_zeros), np.imag(sys_zeros), 'ob', markerfacecolor='none')\n",
    "plt.plot(np.real(sys_poles), np.imag(sys_poles), 'xr')\n",
    "plt.legend(['Zeros', 'Poles'], loc=0)\n",
    "plt.title('Pole / Zero Plot')\n",
    "plt.xlabel('real part, \\u03B1')\n",
    "plt.ylabel('imaginary part, j\\u03C9')\n",
    "plt.ylim((-2,2))\n",
    "plt.xlim((-4,0))\n",
    "plt.grid()\n",
    "plt.show()"
   ]
  },
  {
   "cell_type": "markdown",
   "id": "207f5433-a32a-4acb-b11d-b27d3fe30a65",
   "metadata": {},
   "source": [
    "Printing the value of the poles and zeros in radians per second."
   ]
  },
  {
   "cell_type": "code",
   "execution_count": 22,
   "id": "d2864fb1-0a7d-43b4-b9df-90c522fbd270",
   "metadata": {},
   "outputs": [
    {
     "name": "stdout",
     "output_type": "stream",
     "text": [
      "number of zeros: 6\n",
      "-3.414+0.000j rad/s\n",
      "-1.000+1.732j rad/s\n",
      "-1.000-1.732j rad/s\n",
      "-0.500+0.866j rad/s\n",
      "-0.500-0.866j rad/s\n",
      "-0.586+0.000j rad/s\n"
     ]
    }
   ],
   "source": [
    "print('number of zeros: {:d}'.format(len(sys_zeros)))\n",
    "for i in sys_zeros:\n",
    "    print('{:,.3f} rad/s'.format(i))"
   ]
  },
  {
   "cell_type": "code",
   "execution_count": 23,
   "id": "4ed6ae13-3ab6-4953-95f2-6c3dcf385fea",
   "metadata": {},
   "outputs": [
    {
     "name": "stdout",
     "output_type": "stream",
     "text": [
      "number of poles: 6\n",
      "-3.823+0.000j rad/s\n",
      "-1.709+0.820j rad/s\n",
      "-1.709-0.820j rad/s\n",
      "-0.951+0.456j rad/s\n",
      "-0.951-0.456j rad/s\n",
      "-0.523+0.000j rad/s\n"
     ]
    }
   ],
   "source": [
    "print('number of poles: {:d}'.format(len(sys_poles)))\n",
    "for i in sys_poles:\n",
    "    print('{:,.3f} rad/s'.format(i))"
   ]
  },
  {
   "cell_type": "markdown",
   "id": "e2f6c468-6bb5-4e88-9cd8-24e08e1a21fd",
   "metadata": {
    "tags": []
   },
   "source": [
    "### Bode plot\n",
    "Use the SciPy function [bode](https://docs.scipy.org/doc/scipy/reference/generated/scipy.signal.bode.html) to plot the magnitude and phase of the filter. In electrical engineering, a [Bode plot](https://en.wikipedia.org/wiki/Bode_plot) is a graph of the frequency response of a system. It is usually a combination of the magnitude (usually in decibels) of the frequency response and the phase shift. As originally conceived by Hendrik Wade Bode in the 1930s, the plot is an asymptotic approximation of the frequency response, using straight line segments. Bode plots are used to assess the stability of systems by finding the gain and phase margins."
   ]
  },
  {
   "cell_type": "code",
   "execution_count": 24,
   "id": "6b713d59-c8f3-41b8-97f9-d60a803a0500",
   "metadata": {},
   "outputs": [
    {
     "data": {
      "image/png": "[encoded data removed]",
      "text/plain": [
       "<Figure size 640x480 with 2 Axes>"
      ]
     },
     "metadata": {},
     "output_type": "display_data"
    }
   ],
   "source": [
    "x = np.logspace(-2, 2, 1000, endpoint=False) #*2*np.pi\n",
    "w, mag, phase = signal.bode(sys, w=x) # returns: rad/s, mag in dB, phase in deg\n",
    "\n",
    "fig, ax1 = plt.subplots()\n",
    "ax1.set_ylabel('magnitude, dB')\n",
    "ax1.set_xlabel('frequency, radians')\n",
    "\n",
    "plt.semilogx(w, mag,'-b')    # Bode magnitude plot\n",
    "\n",
    "ax1.tick_params(axis='y')\n",
    "#ax1.set_ylim((-30,20))\n",
    "plt.grid()\n",
    "\n",
    "# instantiate a second y-axes that shares the same x-axis\n",
    "ax2 = ax1.twinx()\n",
    "color = 'tab:blue'\n",
    "\n",
    "plt.semilogx(w, phase,':',color='tab:red')  # Bode phase plot\n",
    "\n",
    "ax2.set_ylabel('phase, deg',color=color)\n",
    "ax2.tick_params(axis='y', labelcolor=color)\n",
    "#ax2.set_ylim((-5,25))\n",
    "\n",
    "plt.title('Magnitude and phase response')\n",
    "plt.show()"
   ]
  },
  {
   "cell_type": "markdown",
   "id": "2cb739a8-b0a1-4bc6-afdf-238be0bcb4bd",
   "metadata": {
    "tags": []
   },
   "source": [
    "<!--\n",
    "Write the impedances for each of the branches of the circuit.\n",
    "\n",
    "Franc's answer walks through the FACTS method\n",
    "\n",
    "### References\n",
    "\n",
    "Methods of Design Oriented Analysis](https://www.scribd.com/document/422935307/Methods-of-design-oriented-analysis)\n",
    "\n",
    "@Middlebrook1992, Methods of Design-Oriented Analysis: The Quadratic Equation Revisited\n",
    "\n",
    "@Middlebrook1991, Low-entropy expressions: the key to design-oriented analysis\n",
    "\n",
    "@basso2016, Introduction to Fast Analytical Techniques: Application to Small-Signal Modeling\n",
    "\n",
    "<!--\n",
    "Methods of DE~sign-Oriented Analysis: The Quadratic Equation Revisited\n",
    "@INPROCEEDINGS{Middlebrook1992,\n",
    "  author={Middlebrook, R.D.},\n",
    "  booktitle={Proceedings. Twenty-Second Annual conference Frontiers in Education}, \n",
    "  title={Methods of Design-Oriented Analysis: The Quadratic Equation Revisited}, \n",
    "  year={1992},\n",
    "  pages={95-102},\n",
    "  doi={10.1109/FIE.1992.683365}\n",
    "}\n",
    "\n",
    "Low-entropy expressions: the key to design-oriented analysis\n",
    "@INPROCEEDINGS{Middlebrook1991,\n",
    "  author={Middlebrook, R.D.},\n",
    "  booktitle={Proceedings Frontiers in Education Twenty-First Annual Conference. Engineering Education in a New World Order}, \n",
    "  title={Low-entropy expressions: the key to design-oriented analysis}, \n",
    "  year={1991},\n",
    "  pages={399-403},\n",
    "  doi={10.1109/FIE.1991.187513}\n",
    "}\n",
    "\n",
    "@online{basso2016,\n",
    "    author = {Basso, Christophe},\n",
    "    title = {Introduction to Fast Analytical Techniques: Application to Small-Signal Modeling},\n",
    "    url  = {https://www.powersimtof.com/Downloads/PPTs/Chris%20Basso%20APEC%20seminar%202016.pdf},\n",
    "    year={2016},\n",
    "    addendum = {accessed 12 Feb 2024}\n",
    "}\n",
    "\n",
    "\n",
    "[Introduction to Fast Analytical Techniques: Application to Small-Signal Modeling](https://www.powersimtof.com/Downloads/PPTs/Chris%20Basso%20APEC%20seminar%202016.pdf)\n",
    "\n",
    "-->"
   ]
  },
  {
   "cell_type": "markdown",
   "id": "3b819d95-5719-4ada-9c3a-b8f0408c8ff0",
   "metadata": {
    "tags": []
   },
   "source": [
    "## FACTS solution\n",
    "The FACTS solution involves some simplification of the circuit, when possible, and determining the time constants of the poles and zeros of the network. Since I'm not proficient with this method and the thrust of my circuit analysis notebooks are to usilize the MNA procedure, the following calculations will somewhat follow the solutions provided by the comunity. \n",
    "\n",
    "I think my Python based symbolic MNA code provides an easy and less error prone method of obtaining solutions to network problems. The same proported advantages of using FACTS, that is, less math, less algebra and some insight into the circuit operation are available with SMNA, since the computer does all the heavy lifting.\n",
    "\n",
    "@fig-pi-filter-facts, shows the orginal circuit re-drawn with the branches replaced by their transformed impedances.\n",
    "\n",
    "![Pi filter FACTS](Pi-Filter-facts.png){#fig-pi-filter-facts}  \n",
    "\n",
    "The components for the branches are replace by Z1, Z2 and Z3.\n",
    "\n",
    "```\n",
    "Z1 = series connection of R1, L1 and C1\n",
    "\n",
    "Z2 = series connection of Ra and (L2 || C2 || R2)\n",
    "\n",
    "Z3 = series connection of R3, L3 and C3\n",
    "\n",
    "Z4 = Z3 || R_out\n",
    "```\n",
    "\n",
    "The following defines the SymPy symbols used in the calculations. The function [symbols](https://docs.sympy.org/latest/tutorials/intro-tutorial/gotchas.html#symbols) takes a string of variable names separated by spaces or commas, and creates Symbols out of them."
   ]
  },
  {
   "cell_type": "code",
   "execution_count": 25,
   "id": "a9356673-a6bb-4ca3-8310-7cdc75d07a01",
   "metadata": {},
   "outputs": [],
   "source": [
    "L1, L2, L3, R1, R2, R3, Ra, R, R_out, R_in, C1, C2, C3, s, V1 = symbols('L1, L2, L3, R1, R2, R3, Ra, R, R_out, R_in, C1, C2, C3, s, V1')"
   ]
  },
  {
   "cell_type": "markdown",
   "id": "31431f15-fc49-4e57-a630-86eef0a13e24",
   "metadata": {
    "tags": []
   },
   "source": [
    "### Branches of the circuit\n",
    "Z1 is the series connection of R1, C1 and L1."
   ]
  },
  {
   "cell_type": "code",
   "execution_count": 26,
   "id": "1f51daa9-eea1-4195-af24-d7b84a02a7c2",
   "metadata": {},
   "outputs": [
    {
     "data": {
      "image/png": "[encoded data removed]",
      "text/latex": [
       "$\\displaystyle L_{1} s + R_{1} + \\frac{1}{C_{1} s}$"
      ],
      "text/plain": [
       "             1  \n",
       "L₁⋅s + R₁ + ────\n",
       "            C₁⋅s"
      ]
     },
     "execution_count": 26,
     "metadata": {},
     "output_type": "execute_result"
    }
   ],
   "source": [
    "Z1_sym = R1+s*L1+1/(s*C1)\n",
    "Z1_sym"
   ]
  },
  {
   "cell_type": "markdown",
   "id": "fda6a819-c453-4470-b437-47d7e79a1beb",
   "metadata": {},
   "source": [
    "Z2 is the series connection of Ra and the paralle connection of R2, L2 and C2"
   ]
  },
  {
   "cell_type": "code",
   "execution_count": 27,
   "id": "d6892195-f415-4665-b88a-2d51ece82eb5",
   "metadata": {},
   "outputs": [
    {
     "data": {
      "image/png": "[encoded data removed]",
      "text/latex": [
       "$\\displaystyle Ra + \\frac{L_{2} R_{2}}{C_{2} \\left(L_{2} s + R_{2} + \\frac{1}{C_{2} s}\\right)}$"
      ],
      "text/plain": [
       "             L₂⋅R₂        \n",
       "Ra + ─────────────────────\n",
       "        ⎛             1  ⎞\n",
       "     C₂⋅⎜L₂⋅s + R₂ + ────⎟\n",
       "        ⎝            C₂⋅s⎠"
      ]
     },
     "execution_count": 27,
     "metadata": {},
     "output_type": "execute_result"
    }
   ],
   "source": [
    "Z2_sym = Ra + (s*L2*(1/(s*C2))*R2)/(1/(s*C2)+s*L2+R2)    # products over sums of (L2 || C2 || R2) plus Ra, \n",
    "Z2_sym"
   ]
  },
  {
   "cell_type": "markdown",
   "id": "41863e33-1b5e-44e9-9604-33562c4ba1f9",
   "metadata": {},
   "source": [
    "Z3 is the series connection of R3, L3 and C3"
   ]
  },
  {
   "cell_type": "code",
   "execution_count": 28,
   "id": "93309e35-1876-4e59-bea1-45754bcfa5af",
   "metadata": {},
   "outputs": [
    {
     "data": {
      "image/png": "[encoded data removed]",
      "text/latex": [
       "$\\displaystyle L_{3} s + R_{3} + \\frac{1}{C_{3} s}$"
      ],
      "text/plain": [
       "             1  \n",
       "L₃⋅s + R₃ + ────\n",
       "            C₃⋅s"
      ]
     },
     "execution_count": 28,
     "metadata": {},
     "output_type": "execute_result"
    }
   ],
   "source": [
    "Z3_sym = R3+s*L3+1/(s*C3)\n",
    "Z3_sym"
   ]
  },
  {
   "cell_type": "markdown",
   "id": "67dc53b4-baba-4e00-9531-38e69947762e",
   "metadata": {},
   "source": [
    "Z4 is the parallel combination of R_out and Z3. \n",
    "\n",
    "Z4 = R_out || Z3"
   ]
  },
  {
   "cell_type": "code",
   "execution_count": 29,
   "id": "44f0dc25-a10e-4a75-86ff-05e06a8c2212",
   "metadata": {},
   "outputs": [
    {
     "data": {
      "image/png": "[encoded data removed]",
      "text/latex": [
       "$\\displaystyle \\frac{R_{out} \\left(L_{3} s + R_{3} + \\frac{1}{C_{3} s}\\right)}{L_{3} s + R_{3} + R_{out} + \\frac{1}{C_{3} s}}$"
      ],
      "text/plain": [
       "     ⎛             1  ⎞\n",
       "Rₒᵤₜ⋅⎜L₃⋅s + R₃ + ────⎟\n",
       "     ⎝            C₃⋅s⎠\n",
       "───────────────────────\n",
       "                    1  \n",
       "L₃⋅s + R₃ + Rₒᵤₜ + ────\n",
       "                   C₃⋅s"
      ]
     },
     "execution_count": 29,
     "metadata": {},
     "output_type": "execute_result"
    }
   ],
   "source": [
    "Z4_sym = R_out*Z3_sym/(R_out+Z3_sym)\n",
    "Z4_sym"
   ]
  },
  {
   "cell_type": "markdown",
   "id": "366b3781-07dc-4271-977b-f9c94b90ab7a",
   "metadata": {},
   "source": [
    "@user347817 provided a MatCAD like set of calculations. Using \"||\" to indicate a parallel combination of components and a \"+\" to indicate a series combination of componets, some of his calculations are shown here:  \n",
    "\n",
    "$Z_1 = R_2 + sL_1 + \\frac {1}{sC_1}$  \n",
    "$Z_2 = R_6 + R_3 || sL_2 || \\frac {1}{sC_2}$    \n",
    "$Z_3 = R_4 + sL_3 + \\frac {1}{sC_3}$  \n",
    "$Z_4 = Z_3 || R_2$  \n",
    "\n",
    "$V_1 = \\frac {(Z_1 || (Z_2+Z_4))} {(R_1+Z_1 || (Z_2+Z_4))} V_i$  \n",
    "\n",
    "$V_o = \\frac {Z_4} {(Z_4+Z_2)} V_1$\n",
    "\n",
    "$V_o = \\frac {Z_4} {(Z_4+Z_2)} \\frac {(Z_1 || (Z_2+Z_4))} {(R_1+Z_1 || (Z_2+Z_4))} V_i$ "
   ]
  },
  {
   "cell_type": "raw",
   "id": "6046b0bd-f303-4e5c-888d-d9f6941a4a98",
   "metadata": {
    "jupyter": {
     "source_hidden": true
    },
    "tags": []
   },
   "source": [
    "<!--\n",
    "Franc's answer:\n",
    "```\n",
    "Z1 = R2 + sL1 + 1/(sC1)  \n",
    "Z2 = R6 + R3 || sL2 || 1/(sC2)    \n",
    "Z3 = R4 + sL3 + 1/(sC3)  \n",
    "Z4 = Z3 || R2  \n",
    "\n",
    "V1 = (Z1 || (Z2+Z4))/(R1+Z1 || (Z2+Z4)) * Vi  \n",
    "\n",
    "Vo = Z4/(Z4+Z2) * V1\n",
    "\n",
    "Vo = Z4/(Z4+Z2) (Z1 || (Z2+Z4))/(R1+Z1 || (Z2+Z4)) * Vi \n",
    "```\n",
    "-->"
   ]
  },
  {
   "cell_type": "code",
   "execution_count": 30,
   "id": "f363b868-fa8d-4ece-b610-83833feffe1a",
   "metadata": {},
   "outputs": [],
   "source": [
    "Z1, Z2, Z3, Z4, R_in, R_out, V1 = symbols('Z1, Z2, Z3, Z4, R_in, R_out, V1')"
   ]
  },
  {
   "cell_type": "markdown",
   "id": "5c803ef4-bb94-4bbd-92cc-19c3a26b3cc9",
   "metadata": {},
   "source": [
    "Zx is the parallel combination of Z1, Z2 and Z4."
   ]
  },
  {
   "cell_type": "code",
   "execution_count": 31,
   "id": "ed7afedc-cc63-4c43-8488-a4d6d2002089",
   "metadata": {},
   "outputs": [
    {
     "data": {
      "image/png": "[encoded data removed]",
      "text/latex": [
       "$\\displaystyle \\frac{Z_{1} \\left(Z_{2} + Z_{4}\\right)}{Z_{1} + Z_{2} + Z_{4}}$"
      ],
      "text/plain": [
       "Z₁⋅(Z₂ + Z₄)\n",
       "────────────\n",
       "Z₁ + Z₂ + Z₄"
      ]
     },
     "execution_count": 31,
     "metadata": {},
     "output_type": "execute_result"
    }
   ],
   "source": [
    "Zx = Z1*(Z2+Z4)/(Z1+Z2+Z4)\n",
    "Zx"
   ]
  },
  {
   "cell_type": "markdown",
   "id": "fa834165-1eae-406a-bdd0-556b73bc7234",
   "metadata": {},
   "source": [
    "The voltage at node 1 is calculated by using the voltage divider formula for Zx and Rin."
   ]
  },
  {
   "cell_type": "code",
   "execution_count": 32,
   "id": "dffcb31b-7c65-4f99-9bc5-a717843bd267",
   "metadata": {},
   "outputs": [
    {
     "data": {
      "image/png": "[encoded data removed]",
      "text/latex": [
       "$\\displaystyle \\frac{V_{1} Z_{1} \\left(Z_{2} + Z_{4}\\right)}{\\left(R_{in} + \\frac{Z_{1} \\left(Z_{2} + Z_{4}\\right)}{Z_{1} + Z_{2} + Z_{4}}\\right) \\left(Z_{1} + Z_{2} + Z_{4}\\right)}$"
      ],
      "text/plain": [
       "          V₁⋅Z₁⋅(Z₂ + Z₄)          \n",
       "───────────────────────────────────\n",
       "⎛      Z₁⋅(Z₂ + Z₄)⎞               \n",
       "⎜Rᵢₙ + ────────────⎟⋅(Z₁ + Z₂ + Z₄)\n",
       "⎝      Z₁ + Z₂ + Z₄⎠               "
      ]
     },
     "execution_count": 32,
     "metadata": {},
     "output_type": "execute_result"
    }
   ],
   "source": [
    "v_node1 = V1*Zx/(R_in+Zx)\n",
    "v_node1"
   ]
  },
  {
   "cell_type": "markdown",
   "id": "9621d098-3941-43b2-9434-6cb810f6b20e",
   "metadata": {},
   "source": [
    "Vout is the voltage divider of Z2 and Z4."
   ]
  },
  {
   "cell_type": "code",
   "execution_count": 33,
   "id": "4892f3bc-66d3-4b81-b1bb-335d98440871",
   "metadata": {},
   "outputs": [
    {
     "data": {
      "image/png": "[encoded data removed]",
      "text/latex": [
       "$\\displaystyle \\frac{V_{1} Z_{1} Z_{4}}{\\left(R_{in} + \\frac{Z_{1} \\left(Z_{2} + Z_{4}\\right)}{Z_{1} + Z_{2} + Z_{4}}\\right) \\left(Z_{1} + Z_{2} + Z_{4}\\right)}$"
      ],
      "text/plain": [
       "              V₁⋅Z₁⋅Z₄             \n",
       "───────────────────────────────────\n",
       "⎛      Z₁⋅(Z₂ + Z₄)⎞               \n",
       "⎜Rᵢₙ + ────────────⎟⋅(Z₁ + Z₂ + Z₄)\n",
       "⎝      Z₁ + Z₂ + Z₄⎠               "
      ]
     },
     "execution_count": 33,
     "metadata": {},
     "output_type": "execute_result"
    }
   ],
   "source": [
    "V_out =  v_node1*Z4/(Z2+Z4)\n",
    "V_out"
   ]
  },
  {
   "cell_type": "markdown",
   "id": "bbcc1c6b-1958-4695-99b6-9ad9f057bb0c",
   "metadata": {},
   "source": [
    "The trasfer function is Vout/Vin."
   ]
  },
  {
   "cell_type": "code",
   "execution_count": 34,
   "id": "e1b7d6ca-3cd5-4003-9a7d-9f25ea5de635",
   "metadata": {},
   "outputs": [
    {
     "data": {
      "image/png": "[encoded data removed]",
      "text/latex": [
       "$\\displaystyle \\frac{Z_{1} Z_{4}}{\\left(R_{in} + \\frac{Z_{1} \\left(Z_{2} + Z_{4}\\right)}{Z_{1} + Z_{2} + Z_{4}}\\right) \\left(Z_{1} + Z_{2} + Z_{4}\\right)}$"
      ],
      "text/plain": [
       "               Z₁⋅Z₄               \n",
       "───────────────────────────────────\n",
       "⎛      Z₁⋅(Z₂ + Z₄)⎞               \n",
       "⎜Rᵢₙ + ────────────⎟⋅(Z₁ + Z₂ + Z₄)\n",
       "⎝      Z₁ + Z₂ + Z₄⎠               "
      ]
     },
     "execution_count": 34,
     "metadata": {},
     "output_type": "execute_result"
    }
   ],
   "source": [
    "H_facts_z = V_out/V1\n",
    "H_facts_z"
   ]
  },
  {
   "cell_type": "code",
   "execution_count": 35,
   "id": "cb3d865e-4436-46bb-882f-0edf8505b154",
   "metadata": {},
   "outputs": [
    {
     "data": {
      "image/png": "[encoded data removed]",
      "text/latex": [
       "$\\displaystyle \\frac{Z_{1} Z_{4}}{R_{in} \\left(Z_{1} + Z_{2} + Z_{4}\\right) + Z_{1} \\left(Z_{2} + Z_{4}\\right)}$"
      ],
      "text/plain": [
       "              Z₁⋅Z₄              \n",
       "─────────────────────────────────\n",
       "Rᵢₙ⋅(Z₁ + Z₂ + Z₄) + Z₁⋅(Z₂ + Z₄)"
      ]
     },
     "execution_count": 35,
     "metadata": {},
     "output_type": "execute_result"
    }
   ],
   "source": [
    "H_facts_z.simplify()"
   ]
  },
  {
   "cell_type": "markdown",
   "id": "ff359f11-acdb-45a2-a7df-0d755edcef5a",
   "metadata": {},
   "source": [
    "Repeating the calculations from above, but using symbolic expressions for Z1, Z2, Z3 and Z4.\n",
    "\n",
    "Zx is the combination of Z's looking towards the output of the filter.\n",
    "Zx = Z1 || (Z2+Z4)"
   ]
  },
  {
   "cell_type": "code",
   "execution_count": 36,
   "id": "6e42ead0-a799-4874-999f-90db99c84718",
   "metadata": {},
   "outputs": [
    {
     "data": {
      "image/png": "[encoded data removed]",
      "text/latex": [
       "$\\displaystyle \\frac{\\left(L_{1} s + R_{1} + \\frac{1}{C_{1} s}\\right) \\left(\\frac{R_{out} \\left(L_{3} s + R_{3} + \\frac{1}{C_{3} s}\\right)}{L_{3} s + R_{3} + R_{out} + \\frac{1}{C_{3} s}} + Ra + \\frac{L_{2} R_{2}}{C_{2} \\left(L_{2} s + R_{2} + \\frac{1}{C_{2} s}\\right)}\\right)}{L_{1} s + R_{1} + \\frac{R_{out} \\left(L_{3} s + R_{3} + \\frac{1}{C_{3} s}\\right)}{L_{3} s + R_{3} + R_{out} + \\frac{1}{C_{3} s}} + Ra + \\frac{L_{2} R_{2}}{C_{2} \\left(L_{2} s + R_{2} + \\frac{1}{C_{2} s}\\right)} + \\frac{1}{C_{1} s}}$"
      ],
      "text/plain": [
       "                   ⎛     ⎛             1  ⎞                             ⎞\n",
       "                   ⎜Rₒᵤₜ⋅⎜L₃⋅s + R₃ + ────⎟                             ⎟\n",
       "⎛             1  ⎞ ⎜     ⎝            C₃⋅s⎠                L₂⋅R₂        ⎟\n",
       "⎜L₁⋅s + R₁ + ────⎟⋅⎜─────────────────────── + Ra + ─────────────────────⎟\n",
       "⎝            C₁⋅s⎠ ⎜                    1             ⎛             1  ⎞⎟\n",
       "                   ⎜L₃⋅s + R₃ + Rₒᵤₜ + ────        C₂⋅⎜L₂⋅s + R₂ + ────⎟⎟\n",
       "                   ⎝                   C₃⋅s           ⎝            C₂⋅s⎠⎠\n",
       "─────────────────────────────────────────────────────────────────────────\n",
       "                  ⎛             1  ⎞                                     \n",
       "             Rₒᵤₜ⋅⎜L₃⋅s + R₃ + ────⎟                                     \n",
       "                  ⎝            C₃⋅s⎠                L₂⋅R₂            1   \n",
       " L₁⋅s + R₁ + ─────────────────────── + Ra + ───────────────────── + ──── \n",
       "                                 1             ⎛             1  ⎞   C₁⋅s \n",
       "             L₃⋅s + R₃ + Rₒᵤₜ + ────        C₂⋅⎜L₂⋅s + R₂ + ────⎟        \n",
       "                                C₃⋅s           ⎝            C₂⋅s⎠        "
      ]
     },
     "execution_count": 36,
     "metadata": {},
     "output_type": "execute_result"
    }
   ],
   "source": [
    "Zx_sym = Z1_sym*(Z2_sym+Z4_sym)/(Z1_sym+Z2_sym+Z4_sym)\n",
    "Zx_sym"
   ]
  },
  {
   "cell_type": "markdown",
   "id": "9350f540-68e2-483e-953f-186d97eeac4b",
   "metadata": {},
   "source": [
    "The voltage at node 1 is\n",
    "```\n",
    "v_node1 = V1*Zx/(R_in+Zx)\n",
    "```"
   ]
  },
  {
   "cell_type": "code",
   "execution_count": 37,
   "id": "f76d7341-7019-4e5b-99f9-5b2d7d1047e3",
   "metadata": {},
   "outputs": [
    {
     "data": {
      "image/png": "[encoded data removed]",
      "text/latex": [
       "$\\displaystyle \\frac{V_{1} \\left(L_{1} s + R_{1} + \\frac{1}{C_{1} s}\\right) \\left(\\frac{R_{out} \\left(L_{3} s + R_{3} + \\frac{1}{C_{3} s}\\right)}{L_{3} s + R_{3} + R_{out} + \\frac{1}{C_{3} s}} + Ra + \\frac{L_{2} R_{2}}{C_{2} \\left(L_{2} s + R_{2} + \\frac{1}{C_{2} s}\\right)}\\right)}{\\left(R_{in} + \\frac{\\left(L_{1} s + R_{1} + \\frac{1}{C_{1} s}\\right) \\left(\\frac{R_{out} \\left(L_{3} s + R_{3} + \\frac{1}{C_{3} s}\\right)}{L_{3} s + R_{3} + R_{out} + \\frac{1}{C_{3} s}} + Ra + \\frac{L_{2} R_{2}}{C_{2} \\left(L_{2} s + R_{2} + \\frac{1}{C_{2} s}\\right)}\\right)}{L_{1} s + R_{1} + \\frac{R_{out} \\left(L_{3} s + R_{3} + \\frac{1}{C_{3} s}\\right)}{L_{3} s + R_{3} + R_{out} + \\frac{1}{C_{3} s}} + Ra + \\frac{L_{2} R_{2}}{C_{2} \\left(L_{2} s + R_{2} + \\frac{1}{C_{2} s}\\right)} + \\frac{1}{C_{1} s}}\\right) \\left(L_{1} s + R_{1} + \\frac{R_{out} \\left(L_{3} s + R_{3} + \\frac{1}{C_{3} s}\\right)}{L_{3} s + R_{3} + R_{out} + \\frac{1}{C_{3} s}} + Ra + \\frac{L_{2} R_{2}}{C_{2} \\left(L_{2} s + R_{2} + \\frac{1}{C_{2} s}\\right)} + \\frac{1}{C_{1} s}\\right)}$"
      ],
      "text/plain": [
       "                                                              ⎛     ⎛         \n",
       "                                                              ⎜Rₒᵤₜ⋅⎜L₃⋅s + R₃\n",
       "                                           ⎛             1  ⎞ ⎜     ⎝         \n",
       "                                        V₁⋅⎜L₁⋅s + R₁ + ────⎟⋅⎜───────────────\n",
       "                                           ⎝            C₁⋅s⎠ ⎜               \n",
       "                                                              ⎜L₃⋅s + R₃ + Rₒᵤ\n",
       "                                                              ⎝               \n",
       "──────────────────────────────────────────────────────────────────────────────\n",
       "⎛                         ⎛     ⎛             1  ⎞                            \n",
       "⎜                         ⎜Rₒᵤₜ⋅⎜L₃⋅s + R₃ + ────⎟                            \n",
       "⎜      ⎛             1  ⎞ ⎜     ⎝            C₃⋅s⎠                L₂⋅R₂       \n",
       "⎜      ⎜L₁⋅s + R₁ + ────⎟⋅⎜─────────────────────── + Ra + ────────────────────\n",
       "⎜      ⎝            C₁⋅s⎠ ⎜                    1             ⎛             1  \n",
       "⎜                         ⎜L₃⋅s + R₃ + Rₒᵤₜ + ────        C₂⋅⎜L₂⋅s + R₂ + ────\n",
       "⎜                         ⎝                   C₃⋅s           ⎝            C₂⋅s\n",
       "⎜Rᵢₙ + ───────────────────────────────────────────────────────────────────────\n",
       "⎜                        ⎛             1  ⎞                                   \n",
       "⎜                   Rₒᵤₜ⋅⎜L₃⋅s + R₃ + ────⎟                                   \n",
       "⎜                        ⎝            C₃⋅s⎠                L₂⋅R₂            1 \n",
       "⎜       L₁⋅s + R₁ + ─────────────────────── + Ra + ───────────────────── + ───\n",
       "⎜                                       1             ⎛             1  ⎞   C₁⋅\n",
       "⎜                   L₃⋅s + R₃ + Rₒᵤₜ + ────        C₂⋅⎜L₂⋅s + R₂ + ────⎟      \n",
       "⎝                                      C₃⋅s           ⎝            C₂⋅s⎠      \n",
       "\n",
       "    1  ⎞                             ⎞                                       \n",
       " + ────⎟                             ⎟                                       \n",
       "   C₃⋅s⎠                L₂⋅R₂        ⎟                                       \n",
       "──────── + Ra + ─────────────────────⎟                                       \n",
       "     1             ⎛             1  ⎞⎟                                       \n",
       "ₜ + ────        C₂⋅⎜L₂⋅s + R₂ + ────⎟⎟                                       \n",
       "    C₃⋅s           ⎝            C₂⋅s⎠⎠                                       \n",
       "─────────────────────────────────────────────────────────────────────────────\n",
       " ⎞⎞                                                                          \n",
       " ⎟⎟                                                                          \n",
       " ⎟⎟                                                                          \n",
       "─⎟⎟                                                                          \n",
       "⎞⎟⎟ ⎛                 ⎛             1  ⎞                                    ⎞\n",
       "⎟⎟⎟ ⎜            Rₒᵤₜ⋅⎜L₃⋅s + R₃ + ────⎟                                    ⎟\n",
       "⎠⎠⎟ ⎜                 ⎝            C₃⋅s⎠                L₂⋅R₂            1  ⎟\n",
       "──⎟⋅⎜L₁⋅s + R₁ + ─────────────────────── + Ra + ───────────────────── + ────⎟\n",
       "  ⎟ ⎜                                1             ⎛             1  ⎞   C₁⋅s⎟\n",
       "  ⎟ ⎜            L₃⋅s + R₃ + Rₒᵤₜ + ────        C₂⋅⎜L₂⋅s + R₂ + ────⎟       ⎟\n",
       "  ⎟ ⎝                               C₃⋅s           ⎝            C₂⋅s⎠       ⎠\n",
       "─ ⎟                                                                          \n",
       "s ⎟                                                                          \n",
       "  ⎟                                                                          \n",
       "  ⎠                                                                          "
      ]
     },
     "execution_count": 37,
     "metadata": {},
     "output_type": "execute_result"
    }
   ],
   "source": [
    "v_node1_sym = V1*Zx_sym/(R_in+Zx_sym)\n",
    "v_node1_sym"
   ]
  },
  {
   "cell_type": "markdown",
   "id": "2bf9f486-45c1-4ff3-b2f0-7de6503c1f15",
   "metadata": {},
   "source": [
    "V_out is the output of the voltage divider circuit formed by Z2 and Z4"
   ]
  },
  {
   "cell_type": "code",
   "execution_count": 38,
   "id": "f0e8d487-250c-419b-a2a5-bc70bc023aef",
   "metadata": {},
   "outputs": [
    {
     "data": {
      "image/png": "[encoded data removed]",
      "text/latex": [
       "$\\displaystyle \\frac{R_{out} V_{1} \\left(L_{1} s + R_{1} + \\frac{1}{C_{1} s}\\right) \\left(L_{3} s + R_{3} + \\frac{1}{C_{3} s}\\right)}{\\left(R_{in} + \\frac{\\left(L_{1} s + R_{1} + \\frac{1}{C_{1} s}\\right) \\left(\\frac{R_{out} \\left(L_{3} s + R_{3} + \\frac{1}{C_{3} s}\\right)}{L_{3} s + R_{3} + R_{out} + \\frac{1}{C_{3} s}} + Ra + \\frac{L_{2} R_{2}}{C_{2} \\left(L_{2} s + R_{2} + \\frac{1}{C_{2} s}\\right)}\\right)}{L_{1} s + R_{1} + \\frac{R_{out} \\left(L_{3} s + R_{3} + \\frac{1}{C_{3} s}\\right)}{L_{3} s + R_{3} + R_{out} + \\frac{1}{C_{3} s}} + Ra + \\frac{L_{2} R_{2}}{C_{2} \\left(L_{2} s + R_{2} + \\frac{1}{C_{2} s}\\right)} + \\frac{1}{C_{1} s}}\\right) \\left(L_{3} s + R_{3} + R_{out} + \\frac{1}{C_{3} s}\\right) \\left(L_{1} s + R_{1} + \\frac{R_{out} \\left(L_{3} s + R_{3} + \\frac{1}{C_{3} s}\\right)}{L_{3} s + R_{3} + R_{out} + \\frac{1}{C_{3} s}} + Ra + \\frac{L_{2} R_{2}}{C_{2} \\left(L_{2} s + R_{2} + \\frac{1}{C_{2} s}\\right)} + \\frac{1}{C_{1} s}\\right)}$"
      ],
      "text/plain": [
       "                                                                            ⎛ \n",
       "                                                                    Rₒᵤₜ⋅V₁⋅⎜L\n",
       "                                                                            ⎝ \n",
       "──────────────────────────────────────────────────────────────────────────────\n",
       "⎛                         ⎛     ⎛             1  ⎞                            \n",
       "⎜                         ⎜Rₒᵤₜ⋅⎜L₃⋅s + R₃ + ────⎟                            \n",
       "⎜      ⎛             1  ⎞ ⎜     ⎝            C₃⋅s⎠                L₂⋅R₂       \n",
       "⎜      ⎜L₁⋅s + R₁ + ────⎟⋅⎜─────────────────────── + Ra + ────────────────────\n",
       "⎜      ⎝            C₁⋅s⎠ ⎜                    1             ⎛             1  \n",
       "⎜                         ⎜L₃⋅s + R₃ + Rₒᵤₜ + ────        C₂⋅⎜L₂⋅s + R₂ + ────\n",
       "⎜                         ⎝                   C₃⋅s           ⎝            C₂⋅s\n",
       "⎜Rᵢₙ + ───────────────────────────────────────────────────────────────────────\n",
       "⎜                        ⎛             1  ⎞                                   \n",
       "⎜                   Rₒᵤₜ⋅⎜L₃⋅s + R₃ + ────⎟                                   \n",
       "⎜                        ⎝            C₃⋅s⎠                L₂⋅R₂            1 \n",
       "⎜       L₁⋅s + R₁ + ─────────────────────── + Ra + ───────────────────── + ───\n",
       "⎜                                       1             ⎛             1  ⎞   C₁⋅\n",
       "⎜                   L₃⋅s + R₃ + Rₒᵤₜ + ────        C₂⋅⎜L₂⋅s + R₂ + ────⎟      \n",
       "⎝                                      C₃⋅s           ⎝            C₂⋅s⎠      \n",
       "\n",
       "            1  ⎞ ⎛             1  ⎞                                           \n",
       "₁⋅s + R₁ + ────⎟⋅⎜L₃⋅s + R₃ + ────⎟                                           \n",
       "           C₁⋅s⎠ ⎝            C₃⋅s⎠                                           \n",
       "──────────────────────────────────────────────────────────────────────────────\n",
       " ⎞⎞                                                                           \n",
       " ⎟⎟                                                                           \n",
       " ⎟⎟                                                                           \n",
       "─⎟⎟                                                                           \n",
       "⎞⎟⎟                           ⎛                 ⎛             1  ⎞            \n",
       "⎟⎟⎟                           ⎜            Rₒᵤₜ⋅⎜L₃⋅s + R₃ + ────⎟            \n",
       "⎠⎠⎟ ⎛                    1  ⎞ ⎜                 ⎝            C₃⋅s⎠            \n",
       "──⎟⋅⎜L₃⋅s + R₃ + Rₒᵤₜ + ────⎟⋅⎜L₁⋅s + R₁ + ─────────────────────── + Ra + ────\n",
       "  ⎟ ⎝                   C₃⋅s⎠ ⎜                                1             ⎛\n",
       "  ⎟                           ⎜            L₃⋅s + R₃ + Rₒᵤₜ + ────        C₂⋅⎜\n",
       "  ⎟                           ⎝                               C₃⋅s           ⎝\n",
       "─ ⎟                                                                           \n",
       "s ⎟                                                                           \n",
       "  ⎟                                                                           \n",
       "  ⎠                                                                           \n",
       "\n",
       "                         \n",
       "                         \n",
       "                         \n",
       "─────────────────────────\n",
       "                         \n",
       "                         \n",
       "                         \n",
       "                         \n",
       "                        ⎞\n",
       "                        ⎟\n",
       "    L₂⋅R₂            1  ⎟\n",
       "───────────────── + ────⎟\n",
       "             1  ⎞   C₁⋅s⎟\n",
       "L₂⋅s + R₂ + ────⎟       ⎟\n",
       "            C₂⋅s⎠       ⎠\n",
       "                         \n",
       "                         \n",
       "                         \n",
       "                         "
      ]
     },
     "execution_count": 38,
     "metadata": {},
     "output_type": "execute_result"
    }
   ],
   "source": [
    "V_out_sym =  v_node1_sym*Z4_sym/(Z2_sym+Z4_sym)\n",
    "V_out_sym"
   ]
  },
  {
   "cell_type": "markdown",
   "id": "6a1eab93-3082-41b6-89a4-8779831cc73a",
   "metadata": {},
   "source": [
    "## H_facts_sym\n",
    "The transfer function as determined by taking the impedance of branches and combining by series and parallel combinations can be expressed below."
   ]
  },
  {
   "cell_type": "code",
   "execution_count": 39,
   "id": "9308434c-4e5d-4092-8edf-0d91a6a3b458",
   "metadata": {},
   "outputs": [
    {
     "data": {
      "image/png": "[encoded data removed]",
      "text/latex": [
       "$\\displaystyle \\frac{R_{out} \\left(L_{1} s + R_{1} + \\frac{1}{C_{1} s}\\right) \\left(L_{3} s + R_{3} + \\frac{1}{C_{3} s}\\right)}{\\left(R_{in} + \\frac{\\left(L_{1} s + R_{1} + \\frac{1}{C_{1} s}\\right) \\left(\\frac{R_{out} \\left(L_{3} s + R_{3} + \\frac{1}{C_{3} s}\\right)}{L_{3} s + R_{3} + R_{out} + \\frac{1}{C_{3} s}} + Ra + \\frac{L_{2} R_{2}}{C_{2} \\left(L_{2} s + R_{2} + \\frac{1}{C_{2} s}\\right)}\\right)}{L_{1} s + R_{1} + \\frac{R_{out} \\left(L_{3} s + R_{3} + \\frac{1}{C_{3} s}\\right)}{L_{3} s + R_{3} + R_{out} + \\frac{1}{C_{3} s}} + Ra + \\frac{L_{2} R_{2}}{C_{2} \\left(L_{2} s + R_{2} + \\frac{1}{C_{2} s}\\right)} + \\frac{1}{C_{1} s}}\\right) \\left(L_{3} s + R_{3} + R_{out} + \\frac{1}{C_{3} s}\\right) \\left(L_{1} s + R_{1} + \\frac{R_{out} \\left(L_{3} s + R_{3} + \\frac{1}{C_{3} s}\\right)}{L_{3} s + R_{3} + R_{out} + \\frac{1}{C_{3} s}} + Ra + \\frac{L_{2} R_{2}}{C_{2} \\left(L_{2} s + R_{2} + \\frac{1}{C_{2} s}\\right)} + \\frac{1}{C_{1} s}\\right)}$"
      ],
      "text/plain": [
       "                                                                           ⎛  \n",
       "                                                                      Rₒᵤₜ⋅⎜L₁\n",
       "                                                                           ⎝  \n",
       "──────────────────────────────────────────────────────────────────────────────\n",
       "⎛                         ⎛     ⎛             1  ⎞                            \n",
       "⎜                         ⎜Rₒᵤₜ⋅⎜L₃⋅s + R₃ + ────⎟                            \n",
       "⎜      ⎛             1  ⎞ ⎜     ⎝            C₃⋅s⎠                L₂⋅R₂       \n",
       "⎜      ⎜L₁⋅s + R₁ + ────⎟⋅⎜─────────────────────── + Ra + ────────────────────\n",
       "⎜      ⎝            C₁⋅s⎠ ⎜                    1             ⎛             1  \n",
       "⎜                         ⎜L₃⋅s + R₃ + Rₒᵤₜ + ────        C₂⋅⎜L₂⋅s + R₂ + ────\n",
       "⎜                         ⎝                   C₃⋅s           ⎝            C₂⋅s\n",
       "⎜Rᵢₙ + ───────────────────────────────────────────────────────────────────────\n",
       "⎜                        ⎛             1  ⎞                                   \n",
       "⎜                   Rₒᵤₜ⋅⎜L₃⋅s + R₃ + ────⎟                                   \n",
       "⎜                        ⎝            C₃⋅s⎠                L₂⋅R₂            1 \n",
       "⎜       L₁⋅s + R₁ + ─────────────────────── + Ra + ───────────────────── + ───\n",
       "⎜                                       1             ⎛             1  ⎞   C₁⋅\n",
       "⎜                   L₃⋅s + R₃ + Rₒᵤₜ + ────        C₂⋅⎜L₂⋅s + R₂ + ────⎟      \n",
       "⎝                                      C₃⋅s           ⎝            C₂⋅s⎠      \n",
       "\n",
       "           1  ⎞ ⎛             1  ⎞                                            \n",
       "⋅s + R₁ + ────⎟⋅⎜L₃⋅s + R₃ + ────⎟                                            \n",
       "          C₁⋅s⎠ ⎝            C₃⋅s⎠                                            \n",
       "──────────────────────────────────────────────────────────────────────────────\n",
       " ⎞⎞                                                                           \n",
       " ⎟⎟                                                                           \n",
       " ⎟⎟                                                                           \n",
       "─⎟⎟                                                                           \n",
       "⎞⎟⎟                           ⎛                 ⎛             1  ⎞            \n",
       "⎟⎟⎟                           ⎜            Rₒᵤₜ⋅⎜L₃⋅s + R₃ + ────⎟            \n",
       "⎠⎠⎟ ⎛                    1  ⎞ ⎜                 ⎝            C₃⋅s⎠            \n",
       "──⎟⋅⎜L₃⋅s + R₃ + Rₒᵤₜ + ────⎟⋅⎜L₁⋅s + R₁ + ─────────────────────── + Ra + ────\n",
       "  ⎟ ⎝                   C₃⋅s⎠ ⎜                                1             ⎛\n",
       "  ⎟                           ⎜            L₃⋅s + R₃ + Rₒᵤₜ + ────        C₂⋅⎜\n",
       "  ⎟                           ⎝                               C₃⋅s           ⎝\n",
       "─ ⎟                                                                           \n",
       "s ⎟                                                                           \n",
       "  ⎟                                                                           \n",
       "  ⎠                                                                           \n",
       "\n",
       "                         \n",
       "                         \n",
       "                         \n",
       "─────────────────────────\n",
       "                         \n",
       "                         \n",
       "                         \n",
       "                         \n",
       "                        ⎞\n",
       "                        ⎟\n",
       "    L₂⋅R₂            1  ⎟\n",
       "───────────────── + ────⎟\n",
       "             1  ⎞   C₁⋅s⎟\n",
       "L₂⋅s + R₂ + ────⎟       ⎟\n",
       "            C₂⋅s⎠       ⎠\n",
       "                         \n",
       "                         \n",
       "                         \n",
       "                         "
      ]
     },
     "execution_count": 39,
     "metadata": {},
     "output_type": "execute_result"
    }
   ],
   "source": [
    "H_facts_sym = V_out_sym/V1\n",
    "H_facts_sym"
   ]
  },
  {
   "cell_type": "code",
   "execution_count": 40,
   "id": "7dc5caec-9957-448e-9f5f-d1f62810e5ae",
   "metadata": {},
   "outputs": [
    {
     "data": {
      "image/png": "[encoded data removed]",
      "text/latex": [
       "$\\displaystyle \\frac{R_{out} \\left(C_{1} s \\left(L_{1} s + R_{1}\\right) + 1\\right) \\left(C_{2} s \\left(L_{2} s + R_{2}\\right) + 1\\right) \\left(C_{3} s \\left(L_{3} s + R_{3}\\right) + 1\\right)}{R_{in} \\left(C_{1} L_{2} R_{2} s^{2} \\left(C_{3} s \\left(L_{3} s + R_{3} + R_{out}\\right) + 1\\right) + C_{1} R_{out} s \\left(C_{2} s \\left(L_{2} s + R_{2}\\right) + 1\\right) \\left(C_{3} s \\left(L_{3} s + R_{3}\\right) + 1\\right) + C_{1} s \\left(C_{2} s \\left(L_{2} s + R_{2}\\right) + 1\\right) \\left(C_{3} s \\left(L_{3} s + R_{3} + R_{out}\\right) + 1\\right) \\left(L_{1} s + R_{1} + Ra\\right) + \\left(C_{2} s \\left(L_{2} s + R_{2}\\right) + 1\\right) \\left(C_{3} s \\left(L_{3} s + R_{3} + R_{out}\\right) + 1\\right)\\right) + \\left(C_{1} s \\left(L_{1} s + R_{1}\\right) + 1\\right) \\left(L_{2} R_{2} s \\left(C_{3} s \\left(L_{3} s + R_{3} + R_{out}\\right) + 1\\right) + R_{out} \\left(C_{2} s \\left(L_{2} s + R_{2}\\right) + 1\\right) \\left(C_{3} s \\left(L_{3} s + R_{3}\\right) + 1\\right) + Ra \\left(C_{2} s \\left(L_{2} s + R_{2}\\right) + 1\\right) \\left(C_{3} s \\left(L_{3} s + R_{3} + R_{out}\\right) + 1\\right)\\right)}$"
      ],
      "text/plain": [
       "                                                                              \n",
       "──────────────────────────────────────────────────────────────────────────────\n",
       "    ⎛          2                                                              \n",
       "Rᵢₙ⋅⎝C₁⋅L₂⋅R₂⋅s ⋅(C₃⋅s⋅(L₃⋅s + R₃ + Rₒᵤₜ) + 1) + C₁⋅Rₒᵤₜ⋅s⋅(C₂⋅s⋅(L₂⋅s + R₂) +\n",
       "\n",
       "                                                                              \n",
       "──────────────────────────────────────────────────────────────────────────────\n",
       "                                                                              \n",
       " 1)⋅(C₃⋅s⋅(L₃⋅s + R₃) + 1) + C₁⋅s⋅(C₂⋅s⋅(L₂⋅s + R₂) + 1)⋅(C₃⋅s⋅(L₃⋅s + R₃ + Rₒ\n",
       "\n",
       "              Rₒᵤₜ⋅(C₁⋅s⋅(L₁⋅s + R₁) + 1)⋅(C₂⋅s⋅(L₂⋅s + R₂) + 1)⋅(C₃⋅s⋅(L₃⋅s +\n",
       "──────────────────────────────────────────────────────────────────────────────\n",
       "                                                                              \n",
       "ᵤₜ) + 1)⋅(L₁⋅s + R₁ + Ra) + (C₂⋅s⋅(L₂⋅s + R₂) + 1)⋅(C₃⋅s⋅(L₃⋅s + R₃ + Rₒᵤₜ) + \n",
       "\n",
       " R₃) + 1)                                                                     \n",
       "──────────────────────────────────────────────────────────────────────────────\n",
       "  ⎞                                                                           \n",
       "1)⎠ + (C₁⋅s⋅(L₁⋅s + R₁) + 1)⋅(L₂⋅R₂⋅s⋅(C₃⋅s⋅(L₃⋅s + R₃ + Rₒᵤₜ) + 1) + Rₒᵤₜ⋅(C₂\n",
       "\n",
       "                                                                              \n",
       "──────────────────────────────────────────────────────────────────────────────\n",
       "                                                                              \n",
       "⋅s⋅(L₂⋅s + R₂) + 1)⋅(C₃⋅s⋅(L₃⋅s + R₃) + 1) + Ra⋅(C₂⋅s⋅(L₂⋅s + R₂) + 1)⋅(C₃⋅s⋅(\n",
       "\n",
       "                       \n",
       "───────────────────────\n",
       "                       \n",
       "L₃⋅s + R₃ + Rₒᵤₜ) + 1))"
      ]
     },
     "execution_count": 40,
     "metadata": {},
     "output_type": "execute_result"
    }
   ],
   "source": [
    "H_facts_sym.simplify()"
   ]
  },
  {
   "cell_type": "markdown",
   "id": "3a2dc54e-8c97-4a67-b227-efc3dca0e23a",
   "metadata": {},
   "source": [
    "The element vaules can be put into the equation."
   ]
  },
  {
   "cell_type": "code",
   "execution_count": 41,
   "id": "fbb5f6bd-db69-4043-bcde-7db4d4011df8",
   "metadata": {},
   "outputs": [
    {
     "data": {
      "image/png": "[encoded data removed]",
      "text/latex": [
       "$\\displaystyle \\left\\{ C_{1} : 1.0, \\  C_{2} : 0.5, \\  C_{3} : 0.5, \\  L_{1} : 1.0, \\  L_{2} : 1.0, \\  L_{3} : 0.5, \\  R_{1} : 1.0, \\  R_{2} : 0.5, \\  R_{3} : 1.0, \\  R_{in} : 1.0, \\  R_{out} : 1.0, \\  Ra : 1.0, \\  V_{1} : 1.0\\right\\}$"
      ],
      "text/plain": [
       "{C₁: 1.0, C₂: 0.5, C₃: 0.5, L₁: 1.0, L₂: 1.0, L₃: 0.5, R₁: 1.0, R₂: 0.5, R₃: 1\n",
       ".0, Rᵢₙ: 1.0, Rₒᵤₜ: 1.0, Ra: 1.0, V₁: 1.0}"
      ]
     },
     "execution_count": 41,
     "metadata": {},
     "output_type": "execute_result"
    }
   ],
   "source": [
    "element_values"
   ]
  },
  {
   "cell_type": "code",
   "execution_count": 42,
   "id": "a45585a9-6555-4b2e-9034-ac54148d65f9",
   "metadata": {},
   "outputs": [
    {
     "data": {
      "image/png": "[encoded data removed]",
      "text/latex": [
       "$\\displaystyle \\frac{1.0 \\cdot \\left(0.5 s + 1.0 + \\frac{2.0}{s}\\right) \\left(1.0 s + 1.0 + \\frac{1.0}{s}\\right)}{\\left(\\frac{\\left(1.0 s + 1.0 + \\frac{1.0}{s}\\right) \\left(\\frac{1.0 \\cdot \\left(0.5 s + 1.0 + \\frac{2.0}{s}\\right)}{0.5 s + 2.0 + \\frac{2.0}{s}} + 1.0 + \\frac{1.0}{1.0 s + 0.5 + \\frac{2.0}{s}}\\right)}{1.0 s + \\frac{1.0 \\cdot \\left(0.5 s + 1.0 + \\frac{2.0}{s}\\right)}{0.5 s + 2.0 + \\frac{2.0}{s}} + 2.0 + \\frac{1.0}{1.0 s + 0.5 + \\frac{2.0}{s}} + \\frac{1.0}{s}} + 1.0\\right) \\left(0.5 s + 2.0 + \\frac{2.0}{s}\\right) \\left(1.0 s + \\frac{1.0 \\cdot \\left(0.5 s + 1.0 + \\frac{2.0}{s}\\right)}{0.5 s + 2.0 + \\frac{2.0}{s}} + 2.0 + \\frac{1.0}{1.0 s + 0.5 + \\frac{2.0}{s}} + \\frac{1.0}{s}\\right)}$"
      ],
      "text/plain": [
       "                                                                 ⎛            \n",
       "                                                             1.0⋅⎜0.5⋅s + 1.0 \n",
       "                                                                 ⎝            \n",
       "──────────────────────────────────────────────────────────────────────────────\n",
       "⎛                    ⎛    ⎛              2.0⎞                          ⎞      \n",
       "⎜                    ⎜1.0⋅⎜0.5⋅s + 1.0 + ───⎟                          ⎟      \n",
       "⎜⎛              1.0⎞ ⎜    ⎝               s ⎠                1.0       ⎟      \n",
       "⎜⎜1.0⋅s + 1.0 + ───⎟⋅⎜─────────────────────── + 1.0 + ─────────────────⎟      \n",
       "⎜⎝               s ⎠ ⎜                 2.0                          2.0⎟      \n",
       "⎜                    ⎜   0.5⋅s + 2.0 + ───            1.0⋅s + 0.5 + ───⎟      \n",
       "⎜                    ⎝                  s                            s ⎠      \n",
       "⎜─────────────────────────────────────────────────────────────────────── + 1.0\n",
       "⎜                ⎛              2.0⎞                                          \n",
       "⎜            1.0⋅⎜0.5⋅s + 1.0 + ───⎟                                          \n",
       "⎜                ⎝               s ⎠                1.0          1.0          \n",
       "⎜    1.0⋅s + ─────────────────────── + 2.0 + ───────────────── + ───          \n",
       "⎜                             2.0                          2.0    s           \n",
       "⎜               0.5⋅s + 2.0 + ───            1.0⋅s + 0.5 + ───                \n",
       "⎝                              s                            s                 \n",
       "\n",
       "  2.0⎞ ⎛              1.0⎞                                                    \n",
       "+ ───⎟⋅⎜1.0⋅s + 1.0 + ───⎟                                                    \n",
       "   s ⎠ ⎝               s ⎠                                                    \n",
       "──────────────────────────────────────────────────────────────────────────────\n",
       "⎞                                                                             \n",
       "⎟                                                                             \n",
       "⎟                                                                             \n",
       "⎟                                                                             \n",
       "⎟                     ⎛            ⎛              2.0⎞                        \n",
       "⎟                     ⎜        1.0⋅⎜0.5⋅s + 1.0 + ───⎟                        \n",
       "⎟ ⎛              2.0⎞ ⎜            ⎝               s ⎠                1.0     \n",
       "⎟⋅⎜0.5⋅s + 2.0 + ───⎟⋅⎜1.0⋅s + ─────────────────────── + 2.0 + ───────────────\n",
       "⎟ ⎝               s ⎠ ⎜                         2.0                          2\n",
       "⎟                     ⎜           0.5⋅s + 2.0 + ───            1.0⋅s + 0.5 + ─\n",
       "⎟                     ⎝                          s                            \n",
       "⎟                                                                             \n",
       "⎟                                                                             \n",
       "⎟                                                                             \n",
       "⎠                                                                             \n",
       "\n",
       "         \n",
       "         \n",
       "         \n",
       "─────────\n",
       "         \n",
       "         \n",
       "         \n",
       "         \n",
       "        ⎞\n",
       "        ⎟\n",
       "     1.0⎟\n",
       "── + ───⎟\n",
       ".0    s ⎟\n",
       "──      ⎟\n",
       "s       ⎠\n",
       "         \n",
       "         \n",
       "         \n",
       "         "
      ]
     },
     "execution_count": 42,
     "metadata": {},
     "output_type": "execute_result"
    }
   ],
   "source": [
    "H_facts = H_facts_sym.subs(element_values)\n",
    "H_facts"
   ]
  },
  {
   "cell_type": "markdown",
   "id": "ee6c00ea-cdb3-4ec6-a9d7-87836035e6ea",
   "metadata": {},
   "source": [
    "$\\large{\\color {red} {\\text{what if you substitute jw for s, first?}}}$  "
   ]
  },
  {
   "cell_type": "code",
   "execution_count": 43,
   "id": "a43df360-5296-4a33-adf1-4c70a96a6eac",
   "metadata": {},
   "outputs": [
    {
     "data": {
      "image/png": "[encoded data removed]",
      "text/latex": [
       "$\\displaystyle \\frac{2 s^{6} + 7 s^{5} + 21 s^{4} + 31 s^{3} + 42 s^{2} + 28 s + 16}{6 s^{6} + 35 s^{5} + 101 s^{4} + 177 s^{3} + 202 s^{2} + 140 s + 48}$"
      ],
      "text/plain": [
       "     6      5       4       3       2               \n",
       "  2⋅s  + 7⋅s  + 21⋅s  + 31⋅s  + 42⋅s  + 28⋅s + 16   \n",
       "────────────────────────────────────────────────────\n",
       "   6       5        4        3        2             \n",
       "6⋅s  + 35⋅s  + 101⋅s  + 177⋅s  + 202⋅s  + 140⋅s + 48"
      ]
     },
     "execution_count": 43,
     "metadata": {},
     "output_type": "execute_result"
    }
   ],
   "source": [
    "H_facts = H_facts.nsimplify().simplify().expand().together()\n",
    "H_facts"
   ]
  },
  {
   "cell_type": "markdown",
   "id": "6cd78322-f8c6-48ca-a499-b5ab655b4588",
   "metadata": {},
   "source": [
    "The transfer fuction obtained by following a FACTS like solution and the answers provided by the comunity, produce a result that is different than the MNA result shown below. \n",
    "\n",
    "$\\large{\\color {red} {\\text{Need to investige why there is a difference?}}}$  "
   ]
  },
  {
   "cell_type": "code",
   "execution_count": 44,
   "id": "43cf1d63-0c2b-4452-b0f2-3123baa0e438",
   "metadata": {},
   "outputs": [
    {
     "data": {
      "image/png": "[encoded data removed]",
      "text/latex": [
       "$\\displaystyle \\frac{s^{6} + 7 s^{5} + 21 s^{4} + 40 s^{3} + 42 s^{2} + 28 s + 8}{3 s^{6} + 29 s^{5} + 109 s^{4} + 210 s^{3} + 218 s^{2} + 116 s + 24}$"
      ],
      "text/plain": [
       "     6      5       4       3       2               \n",
       "    s  + 7⋅s  + 21⋅s  + 40⋅s  + 42⋅s  + 28⋅s + 8    \n",
       "────────────────────────────────────────────────────\n",
       "   6       5        4        3        2             \n",
       "3⋅s  + 29⋅s  + 109⋅s  + 210⋅s  + 218⋅s  + 116⋅s + 24"
      ]
     },
     "execution_count": 44,
     "metadata": {},
     "output_type": "execute_result"
    }
   ],
   "source": [
    "H"
   ]
  },
  {
   "cell_type": "markdown",
   "id": "d9454908-d88b-4bd3-95a4-60b0eb6a3d7d",
   "metadata": {},
   "source": [
    "Also need to find poles and zeros using FACTS method\n",
    "\n",
    "- Look at the circuit for s = 0, Determine the gain in this condition\n",
    "- Look at the resistance driving the storage element, When the excitation is turned off, Vin = 0\n",
    "  - Remove the capacitor and look into its terminals\n",
    "  - The first time constant is $\\tau_1 = (r_c + R_1)C_1$\n",
    "  \n",
    "The rest of the procedure seems complicated, espically when trying to apply to the filter.  \n",
    "\n",
    "The SciPy function, TransferFunction, represents the system as the continuous-time transfer function and takes as inputs the coeeficients of the numerator and denominator polynominals.\n",
    "\n",
    "## Comapring various solutions"
   ]
  },
  {
   "cell_type": "code",
   "execution_count": 45,
   "id": "4e876c3e-834c-424f-be87-519b53517fb4",
   "metadata": {
    "collapsed": false,
    "jupyter": {
     "outputs_hidden": false
    }
   },
   "outputs": [],
   "source": [
    "H_facts_num, H_facts_denom = fraction(H_facts) #returns numerator and denominator\n",
    "\n",
    "# convert symbolic to numpy polynomial\n",
    "H_facts_a = np.array(Poly(H_facts_num, s).all_coeffs(), dtype=float)\n",
    "H_facts_b = np.array(Poly(H_facts_denom, s).all_coeffs(), dtype=float)\n",
    "H_facts_sys = signal.TransferFunction(H_facts_a,H_facts_b)\n",
    "H_facts_w, H_facts_mag, H_facts_phase = signal.bode(H_facts_sys, w=x) # returns: rad/s, mag in dB, phase in deg"
   ]
  },
  {
   "cell_type": "markdown",
   "id": "2a300ef8-bdc8-4656-9f8f-2502d6b19eec",
   "metadata": {},
   "source": [
    "Load the csv file from LTSpice."
   ]
  },
  {
   "cell_type": "code",
   "execution_count": 46,
   "id": "7000a8f7-e013-4f37-9fdd-49ef794adaee",
   "metadata": {},
   "outputs": [],
   "source": [
    "fn = 'Pi-Filter-LTSpice.csv' # data from LTSpice\n",
    "LTSpice_data = np.genfromtxt(fn, delimiter=',')\n",
    "\n",
    "# initaliaze some empty arrays\n",
    "frequency = np.zeros(len(LTSpice_data))\n",
    "voltage = np.zeros(len(LTSpice_data)).astype(complex)\n",
    "\n",
    "# convert the csv data to complez numbers and store in the array\n",
    "for i in range(len(LTSpice_data)):\n",
    "    frequency[i] = LTSpice_data[i][0]\n",
    "    voltage[i] = LTSpice_data[i][1] + LTSpice_data[i][2]*1j"
   ]
  },
  {
   "cell_type": "code",
   "execution_count": 47,
   "id": "7fa0c4a1-a4bb-470d-ab98-f276ffe21d35",
   "metadata": {},
   "outputs": [
    {
     "data": {
      "image/png": "[encoded data removed]",
      "text/plain": [
       "<Figure size 640x480 with 2 Axes>"
      ]
     },
     "metadata": {},
     "output_type": "display_data"
    }
   ],
   "source": [
    "fig, ax1 = plt.subplots()\n",
    "ax1.set_ylabel('magnitude, dB')\n",
    "ax1.set_xlabel('frequency, Hz')\n",
    "\n",
    "plt.semilogx(frequency, 20*np.log10(np.abs(voltage)),'-k')    # LTSpice magnitude plot\n",
    "plt.semilogx(w/(2*np.pi), mag,'-b')    # MNA magnitude plot\n",
    "plt.semilogx(H_facts_w/(2*np.pi), H_facts_mag,'-r')    # FACTS magnitude plot\n",
    "\n",
    "ax1.tick_params(axis='y')\n",
    "#ax1.set_ylim((-30,20))\n",
    "plt.grid()\n",
    "\n",
    "# instantiate a second y-axes that shares the same x-axis\n",
    "ax2 = ax1.twinx()\n",
    "color = 'b'\n",
    "\n",
    "plt.semilogx(frequency, np.unwrap(2*np.angle(voltage)/2) *180/np.pi,':',color='k',label='LTSpice')  # LTSpice phase plot\n",
    "plt.semilogx(w/(2*np.pi), phase,':',color='b',label='MNA')  # MNA phase plot\n",
    "plt.semilogx(H_facts_w/(2*np.pi), H_facts_phase,':',color='r',label='FACTS')  # FACTS phase plot\n",
    "\n",
    "ax2.set_ylabel('phase, deg',color=color)\n",
    "ax2.tick_params(axis='y', labelcolor=color)\n",
    "#ax2.set_ylim((-5,25))\n",
    "\n",
    "ax2.plot(np.NaN, np.NaN, color='k', label='LTSpice')\n",
    "ax2.plot(np.NaN, np.NaN, color='b', label='MNA')\n",
    "ax2.plot(np.NaN, np.NaN, color='r', label='FACTS')\n",
    "\n",
    "plt.legend()\n",
    "plt.title('Magnitude and phase response')\n",
    "plt.show()"
   ]
  },
  {
   "cell_type": "markdown",
   "id": "777583ff-7f6d-459d-9bfe-6793a8014106",
   "metadata": {},
   "source": [
    "LTSpice and SMNA agree, FACTS results don't agree. "
   ]
  },
  {
   "cell_type": "raw",
   "id": "f22a7f16-5768-4ae0-a2d8-2faa119fb8d9",
   "metadata": {
    "jupyter": {
     "source_hidden": true
    },
    "tags": []
   },
   "source": [
    "<!--\n",
    "\n",
    "## Another try at FACTS\n",
    "\n",
    "\n",
    "```\n",
    "* C:\\users\\jeff64\\My Documents\\Pi-filter\\Pi-Filter-FACTS.asc\n",
    "V1 3 0 1\n",
    "R_in 1 3 1\n",
    "R_out 2 0 1\n",
    "R§Z1 1 0 Series R1, L1 & C1\n",
    "R§Z2 2 1 Series Ra & (L2 || C2 || R2)\n",
    "R§Z3 2 0 Series R3, L3 & C3\n",
    ".op\n",
    ".backanno\n",
    ".end\n",
    "\n",
    "```\n",
    "\n",
    "\n",
    "# setting input and out put R the same\n",
    "net_list = '''\n",
    "V1 3 0 1\n",
    "R_in 1 3 1\n",
    "R_out 2 0 1\n",
    "R_Z1 1 0 1\n",
    "R_Z2 2 1 1\n",
    "R_Z3 2 0 1\n",
    "'''\n",
    "\n",
    "Generate the network equations.\n",
    "\n",
    "report, network_df, df2, A, X, Z = SymMNA.smna(net_list)\n",
    "\n",
    "# Put matricies into SymPy \n",
    "X = Matrix(X)\n",
    "Z = Matrix(Z)\n",
    "\n",
    "NE_facts = Eq(A*X,Z)\n",
    "\n",
    "Generate markdown text to display the network equations.\n",
    "\n",
    "temp = ''\n",
    "for i in range(len(X)):\n",
    "    temp += '${:s}$<br>'.format(latex(Eq((A*X)[i:i+1][0],Z[i])))\n",
    "\n",
    "Markdown(temp)\n",
    "\n",
    "# turn the free symbols into SymPy variables\n",
    "var(str(NE_facts.free_symbols).replace('{','').replace('}',''))\n",
    "\n",
    "Built a dictionary of element values.\n",
    "\n",
    "element_values = SymMNA.get_part_values(network_df)\n",
    "element_values\n",
    "\n",
    "Generate the symbolic solution, which takes a couple of minutes on my laptop's Intel i3-8130U CPU @ 2.20GHz.\n",
    "\n",
    "U_facts = solve(NE_facts,X)\n",
    "\n",
    "The solution to the network equations in symbolic form are long, so the code to display them is commented out.\n",
    "\n",
    "temp = ''\n",
    "for i in U_facts.keys():\n",
    "    temp += '${:s} = {:s}$<br>'.format(latex(i),latex(U_facts[i]))\n",
    "\n",
    "Markdown(temp)\n",
    "\n",
    "Looking at v2/v3\n",
    "\n",
    "H_facts = (U_facts[v2]/U_facts[v3]) #.simplify()\n",
    "H_facts\n",
    "\n",
    "H_facts = (U_facts[v2]/U_facts[v1]).simplify()\n",
    "H_facts\n",
    "\n",
    "Do the substitution \n",
    "\n",
    "Z1\n",
    "\n",
    "Z2\n",
    "\n",
    "Z3\n",
    "\n",
    "\n",
    "\n",
    "H_facts_Z = H_facts.subs({R_z1:Z1,R_z2:Z2,R_z3:Z3,R_out:1,R_in:1})\n",
    "\n",
    "H_facts_Z\n",
    "\n",
    "H_facts_Z.simplify()\n",
    "\n",
    "H\n",
    "\n",
    "User Franc provided a detailed answer described below\n",
    "\n",
    "User Telsa23 provided a short answer described below.\n",
    "\n",
    "-->"
   ]
  },
  {
   "cell_type": "markdown",
   "id": "c52ab79d-4702-4364-a2bb-15c9c9461dec",
   "metadata": {},
   "source": [
    "## Community answers\n",
    "Both comunity answers did not provide a solution based on the FACTS method. Missing was the steps to extract the time constants of the circuit and from there find the zeros of the network. \n",
    "\n",
    "The answer from @user347817 replaces each leg of the filter with Z's and then uses series and parallel equalivent conbinations. As shown above this analysis provides only an approximate solution and probably would not cut the mustard in an acedemic or critical design reviwe.  \n",
    "\n",
    "The answer provided by Tesla23 is also suspect and seems wrong. The following calculations walk through some of his steps."
   ]
  },
  {
   "cell_type": "raw",
   "id": "39e0101c-aa83-457e-9062-53f9199889c0",
   "metadata": {},
   "source": [
    "R, Z1, Z2, Z3 = symbols('R Z1 Z2 Z3')"
   ]
  },
  {
   "cell_type": "code",
   "execution_count": 48,
   "id": "3ca28115-d037-4432-96f7-773c07b13765",
   "metadata": {},
   "outputs": [
    {
     "data": {
      "image/png": "[encoded data removed]",
      "text/latex": [
       "$\\displaystyle \\frac{Z_{1} Z_{3}}{Z_{1} Z_{2} Z_{3} + Z_{1} Z_{2} + Z_{1} + Z_{2} + Z_{3} \\cdot \\left(2 Z_{1} + Z_{2}\\right) + Z_{3}}$"
      ],
      "text/plain": [
       "                     Z₁⋅Z₃                      \n",
       "────────────────────────────────────────────────\n",
       "Z₁⋅Z₂⋅Z₃ + Z₁⋅Z₂ + Z₁ + Z₂ + Z₃⋅(2⋅Z₁ + Z₂) + Z₃"
      ]
     },
     "execution_count": 48,
     "metadata": {},
     "output_type": "execute_result"
    }
   ],
   "source": [
    "H_telsa23 = ((R*Z1*Z3)/(R*((Z2+2*Z1)*Z3 + Z1*Z2) + R**2*(Z3+Z2+Z1) + Z1*Z2*Z3)).subs({R:1})\n",
    "H_telsa23"
   ]
  },
  {
   "cell_type": "code",
   "execution_count": 49,
   "id": "49c2f768-e913-4119-ab50-2e28ec161ad5",
   "metadata": {},
   "outputs": [
    {
     "data": {
      "image/png": "[encoded data removed]",
      "text/latex": [
       "$\\displaystyle \\frac{Z_{1} Z_{3}}{Z_{1} Z_{2} Z_{3} + Z_{1} Z_{2} + Z_{1} + Z_{2} + Z_{3} \\cdot \\left(2 Z_{1} + Z_{2}\\right) + Z_{3}}$"
      ],
      "text/plain": [
       "                     Z₁⋅Z₃                      \n",
       "────────────────────────────────────────────────\n",
       "Z₁⋅Z₂⋅Z₃ + Z₁⋅Z₂ + Z₁ + Z₂ + Z₃⋅(2⋅Z₁ + Z₂) + Z₃"
      ]
     },
     "execution_count": 49,
     "metadata": {},
     "output_type": "execute_result"
    }
   ],
   "source": [
    "H_telsa23.simplify()"
   ]
  },
  {
   "cell_type": "markdown",
   "id": "01f5ff14-e035-4995-b271-a1dcd2678671",
   "metadata": {},
   "source": [
    "Comparing the results above to my rendition of FACTS, you can see that they are not the same."
   ]
  },
  {
   "cell_type": "code",
   "execution_count": 50,
   "id": "296f0b03-3bf4-4129-b6d4-65d7bb02e435",
   "metadata": {},
   "outputs": [
    {
     "data": {
      "image/png": "[encoded data removed]",
      "text/latex": [
       "$\\displaystyle \\frac{Z_{1} Z_{4}}{R_{in} \\left(Z_{1} + Z_{2} + Z_{4}\\right) + Z_{1} \\left(Z_{2} + Z_{4}\\right)}$"
      ],
      "text/plain": [
       "              Z₁⋅Z₄              \n",
       "─────────────────────────────────\n",
       "Rᵢₙ⋅(Z₁ + Z₂ + Z₄) + Z₁⋅(Z₂ + Z₄)"
      ]
     },
     "execution_count": 50,
     "metadata": {},
     "output_type": "execute_result"
    }
   ],
   "source": [
    "H_facts_z.simplify()"
   ]
  },
  {
   "cell_type": "markdown",
   "id": "a5ef3e84-e4fe-4111-b029-4d10018141e5",
   "metadata": {},
   "source": [
    "It's not worth my time to analyze Tesla23's answer to determine why there is a difference, especially since the thrust of these notebooks is MNA.\n",
    "\n",
    "## Summary\n",
    "\n",
    "- FACTS method looks like it gives an approximate answers to the network unknow voltages and currents. The poles and zeros extracted from branch time constants are approxixmate for complex circuits\n",
    "- The filter circuit seems too complex to extract poles and zeros from time constants\n",
    "- The assurtion that brute force is complicated and error prone is not true if computer algebra tools are used"
   ]
  },
  {
   "cell_type": "code",
   "execution_count": null,
   "id": "0594555f-ba5e-415a-842d-acca44b049d2",
   "metadata": {},
   "outputs": [],
   "source": []
  }
 ],
 "metadata": {
  "kernelspec": {
   "display_name": "Python 3 (ipykernel)",
   "language": "python",
   "name": "python3"
  },
  "language_info": {
   "codemirror_mode": {
    "name": "ipython",
    "version": 3
   },
   "file_extension": ".py",
   "mimetype": "text/x-python",
   "name": "python",
   "nbconvert_exporter": "python",
   "pygments_lexer": "ipython3",
   "version": "3.10.9"
  }
 },
 "nbformat": 4,
 "nbformat_minor": 5
}
