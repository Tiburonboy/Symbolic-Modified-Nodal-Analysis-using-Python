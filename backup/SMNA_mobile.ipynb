{
 "cells": [
  {
   "cell_type": "raw",
   "metadata": {},
   "source": [
    "---\n",
    "title:\n",
    "format: \n",
    "    html:\n",
    "        code-fold: false\n",
    "        embed-resources: false\n",
    "        code-tools: true\n",
    "        number-sections: true\n",
    "jupyter: python3\n",
    "---"
   ]
  },
  {
   "cell_type": "markdown",
   "metadata": {
    "tags": []
   },
   "source": [
    "# SMNA mobile {#sec-SMNA_mobile}\n",
    "This appendix is a template notebook for running SMNA using Google Colab on a mobile device, such as a phone. When using the free version of Colab, it's somewhat inconvenient to import the ```SymMNA.py``` functions, so in this notebook these functions are inserted in line. Running a schematic capture program on a mobile phone is not very practical, so when analyzing new circuits, the netlist will need to be generated and intered by hand.\n",
    "<!--\n",
    "Last update: 2 Jan 2025\n",
    "-->"
   ]
  },
  {
   "cell_type": "code",
   "execution_count": 1,
   "metadata": {
    "collapsed": false,
    "jupyter": {
     "outputs_hidden": false
    }
   },
   "outputs": [],
   "source": [
    "from sympy import *\n",
    "import numpy as np\n",
    "from tabulate import tabulate\n",
    "from scipy import signal\n",
    "import matplotlib.pyplot as plt\n",
    "import pandas as pd\n",
    "from IPython.display import display, Markdown, Math, Latex\n",
    "init_printing()"
   ]
  },
  {
   "cell_type": "markdown",
   "metadata": {},
   "source": [
    "The file ```SymMNA.py``` was copied into the cell below. Click on the lable to expose the code."
   ]
  },
  {
   "cell_type": "code",
   "execution_count": 2,
   "metadata": {},
   "outputs": [],
   "source": [
    "#| code-fold: true\n",
    "\n",
    "def get_part_values(net_df):\n",
    "    \"\"\" construct a dictionary of element values from the netlist dataframe: value_dict, get_part_values\n",
    "    Parameters\n",
    "    ----------\n",
    "    net_df: pandas dataframe\n",
    "        the network dataframe returned by the smna function below\n",
    "    Returns\n",
    "    -------\n",
    "    element values: Python dictionary\n",
    "        the element values from the netlist\n",
    "    \"\"\"\n",
    "\n",
    "    # initialize variables\n",
    "    element_value_keys = []\n",
    "    element_value_values = []\n",
    "\n",
    "    for i in range(len(net_df)):\n",
    "        if net_df.iloc[i]['element'][0] == 'F' or net_df.iloc[i]['element'][0] == 'E' or net_df.iloc[i]['element'][0] == 'G' or net_df.iloc[i]['element'][0] == 'H':\n",
    "            element_value_keys.append(var(net_df.iloc[i]['element'].lower()))\n",
    "            element_value_values.append(net_df.iloc[i]['value'])\n",
    "        else:\n",
    "            element_value_keys.append(var(net_df.iloc[i]['element']))\n",
    "            element_value_values.append(net_df.iloc[i]['value'])\n",
    "\n",
    "    return dict(zip(element_value_keys, element_value_values))\n",
    "\n",
    "def smna(net_list):\n",
    "    \"\"\"Symbolic modified nodal analysis\n",
    "    Parameters\n",
    "    ----------\n",
    "    net_list: str\n",
    "        The circuit net list, needs a \\n at the end of each line\n",
    "    Returns\n",
    "    -------\n",
    "    report: text string\n",
    "            The net list report.\n",
    "    df: pandas dataframe\n",
    "            circuit net list info loaded into a dataframe\n",
    "    df2: pandas dataframe\n",
    "            branches with unknown currents\n",
    "    A: SymPy matrix\n",
    "            The A matrix is (m+n) by (m+n) and is the combination of 4 smaller matrices, G, B, C, and D.\n",
    "            The G matrix is n by n, where n is the number of nodes. The matrix is formed by the interconnections\n",
    "            between the resistors, capacitors and VCCS type elements. In the original paper G is called Yr, \n",
    "            where Yr is a reduced form of the nodal matrix excluding the contributions due to voltage \n",
    "            sources, current controlling elements, etc. In Python row and columns are: G[row, column]\n",
    "            The B matrix is an n by m matrix with only 0, 1 and -1 elements, where n = number of nodes\n",
    "            and m is the number of current unknowns, i_unk. There is one column for each unknown current.\n",
    "            The code loop through all the branches and process elements that have stamps for the B matrix: \n",
    "            The C matrix is an m by n matrix with only 0, 1 and -1 elements (except for controlled sources).\n",
    "            The code is similar to the B matrix code, except the indices are swapped. The code loops through \n",
    "            all the branches and process elements that have stamps for the C matrix: \n",
    "            The D matrix is an m by m matrix, where m is the number of unknown currents. \n",
    "    X: list\n",
    "            The X matrix is an (n+m) by 1 vector that holds the unknown quantities (node voltages \n",
    "            and the currents through the independent voltage sources). The top n elements are the n node \n",
    "            voltages. The bottom m elements represent the currents through the m independent voltage \n",
    "            sources in the circuit. The V matrix is n by 1 and holds the unknown voltages. The J matrix \n",
    "            is m by 1 and holds the unknown currents through the voltage sources\n",
    "    Z: list\n",
    "            The Z matrix holds the independent voltage and current sources and is the combination\n",
    "            of 2 smaller matrices I and Ev. The Z matrix is (m+n) by 1, n is the number of nodes, \n",
    "            and m is the number of independent voltage sources. The I matrix is n by 1 and contains \n",
    "            the sum of the currents through the passive elements into the corresponding node (either \n",
    "            zero, or the sum of independent current sources). The Ev matrix is m by 1 and holds the \n",
    "            values of the independent voltage sources.\n",
    "    \"\"\"\n",
    "\n",
    "    # initialize variables\n",
    "    num_rlc = 0 # number of passive elements\n",
    "    num_res = 0 # number of resistors\n",
    "    num_cap = 0 # number of capacitors\n",
    "    num_ind = 0 # number of inductors\n",
    "    num_v = 0    # number of independent voltage sources\n",
    "    num_i = 0    # number of independent current sources\n",
    "    i_unk = 0  # number of current unknowns\n",
    "    num_opamps = 0   # number of Op Amps\n",
    "    num_vcvs = 0     # number of controlled sources of various types\n",
    "    num_vccs = 0\n",
    "    num_cccs = 0\n",
    "    num_ccvs = 0\n",
    "    num_cpld_ind = 0 # number of coupled inductors\n",
    "\n",
    "    content = net_list.splitlines()\n",
    "\n",
    "    content = [x.strip() for x in content]  #remove leading and trailing white space\n",
    "    # remove empty lines\n",
    "    while '' in content:\n",
    "        content.pop(content.index(''))\n",
    "\n",
    "    # remove comment lines, these start with a asterisk *\n",
    "    content = [n for n in content if not n.startswith('*')]\n",
    "    # remove other comment lines, these start with a semicolon ;\n",
    "    content = [n for n in content if not n.startswith(';')]\n",
    "    # remove spice directives, these start with a period, .\n",
    "    content = [n for n in content if not n.startswith('.')]\n",
    "    # converts 1st letter to upper case\n",
    "    #content = [x.upper() for x in content] <- this converts all to upper case\n",
    "    content = [x.capitalize() for x in content]\n",
    "    # removes extra spaces between entries\n",
    "    content = [' '.join(x.split()) for x in content]\n",
    "\n",
    "    line_cnt = len(content) # number of lines in the netlist\n",
    "    branch_cnt = 0  # number of branches in the netlist\n",
    "    # check number of entries on each line, count each element type\n",
    "    for i in range(line_cnt):\n",
    "        x = content[i][0]\n",
    "        tk_cnt = len(content[i].split()) # split the line into a list of words\n",
    "\n",
    "        if (x == 'R') or (x == 'L') or (x == 'C'):\n",
    "            if tk_cnt != 4:\n",
    "                raise Exception(\"branch {:d} not formatted correctly, {:s} \".format(i,content[i]),\n",
    "                \"had {:d} items and should only be 4\".format(tk_cnt))\n",
    "            num_rlc += 1\n",
    "            branch_cnt += 1\n",
    "            if x == 'R':\n",
    "                num_res += 1            \n",
    "            if x == 'C':\n",
    "                num_cap += 1            \n",
    "            if x == 'L':\n",
    "                num_ind += 1\n",
    "        elif x == 'V':\n",
    "            if tk_cnt != 4:\n",
    "                raise Exception(\"branch {:d} not formatted correctly, {:s} \".format(i,content[i]),\n",
    "                \"had {:d} items and should only be 4\".format(tk_cnt))\n",
    "            num_v += 1\n",
    "            branch_cnt += 1\n",
    "        elif x == 'I':\n",
    "            if tk_cnt != 4:\n",
    "                raise Exception(\"branch {:d} not formatted correctly, {:s} \".format(i,content[i]),\n",
    "                \"had {:d} items and should only be 4\".format(tk_cnt))\n",
    "            num_i += 1\n",
    "            branch_cnt += 1\n",
    "        elif x == 'O':\n",
    "            if tk_cnt != 4:\n",
    "                raise Exception(\"branch {:d} not formatted correctly, {:s} \".format(i,content[i]),\n",
    "                \"had {:d} items and should only be 4\".format(tk_cnt))\n",
    "            num_opamps += 1\n",
    "        elif x == 'E':\n",
    "            if (tk_cnt != 6):\n",
    "                raise Exception(\"branch {:d} not formatted correctly, {:s} \".format(i,content[i]),\n",
    "                \"had {:d} items and should only be 6\".format(tk_cnt))\n",
    "            num_vcvs += 1\n",
    "            branch_cnt += 1\n",
    "        elif x == 'G':\n",
    "            if (tk_cnt != 6):\n",
    "                raise Exception(\"branch {:d} not formatted correctly, {:s} \".format(i,content[i]),\n",
    "                \"had {:d} items and should only be 6\".format(tk_cnt))\n",
    "            num_vccs += 1\n",
    "            branch_cnt += 1\n",
    "        elif x == 'F':\n",
    "            if (tk_cnt != 5):\n",
    "                raise Exception(\"branch {:d} not formatted correctly, {:s} \".format(i,content[i]),\n",
    "                \"had {:d} items and should only be 5\".format(tk_cnt))\n",
    "            num_cccs += 1\n",
    "            branch_cnt += 1\n",
    "        elif x == 'H':\n",
    "            if (tk_cnt != 5):\n",
    "                raise Exception(\"branch {:d} not formatted correctly, {:s} \".format(i,content[i]),\n",
    "                \"had {:d} items and should only be 5\".format(tk_cnt))\n",
    "            num_ccvs += 1\n",
    "            branch_cnt += 1\n",
    "        elif x == 'K':\n",
    "            if (tk_cnt != 4):\n",
    "                raise Exception(\"branch {:d} not formatted correctly, {:s} \".format(i,content[i]),\n",
    "                \"had {:d} items and should only be 4\".format(tk_cnt))\n",
    "            num_cpld_ind += 1\n",
    "        else:\n",
    "            raise Exception(\"unknown element type in branch {:d}: {:s}\".format(i,content[i]))\n",
    "\n",
    "\n",
    "    ''' The parser performs the following operations.\n",
    "     1. puts branch elements into data frame  \n",
    "     2. counts number of nodes  \n",
    "\n",
    "     data frame labels:\n",
    "     - element: type of element  \n",
    "     - p node: positive node  \n",
    "     - n node: negative node, for a current source, the arrow point terminal, LTSpice \n",
    "     puts the inductor phasing dot on this terminal  \n",
    "     - cp node: controlling positive node of branch  \n",
    "     - cn node: controlling negative node of branch  \n",
    "     - Vout: Op Amp output node  \n",
    "     - value: value of element or voltage  \n",
    "     - Vname: voltage source through which the controlling current flows. Need to \n",
    "     add a zero volt voltage source to the controlling branch.  \n",
    "     - Lname1: name of coupled inductor 1  \n",
    "     - Lname2: name of coupled inductor 2'''  \n",
    "\n",
    "    # build the pandas data frame\n",
    "    df = pd.DataFrame(columns=['element','p node','n node','cp node','cn node',\n",
    "        'Vout','value','Vname','Lname1','Lname2'])\n",
    "\n",
    "    # this data frame is for branches with unknown currents\n",
    "    df2 = pd.DataFrame(columns=['element','p node','n node'])\n",
    "\n",
    "\n",
    "    # ### Functions to load branch elements into data frame and check for gaps in node numbering\n",
    "\n",
    "    # loads voltage or current sources into branch structure\n",
    "    def indep_source(line_nu):\n",
    "        tk = content[line_nu].split()\n",
    "        df.loc[line_nu,'element'] = tk[0]\n",
    "        df.loc[line_nu,'p node'] = int(tk[1])\n",
    "        df.loc[line_nu,'n node'] = int(tk[2])\n",
    "        df.loc[line_nu,'value'] = float(tk[3])\n",
    "\n",
    "    # loads passive elements into branch structure\n",
    "    def rlc_element(line_nu):\n",
    "        tk = content[line_nu].split()\n",
    "        df.loc[line_nu,'element'] = tk[0]\n",
    "        df.loc[line_nu,'p node'] = int(tk[1])\n",
    "        df.loc[line_nu,'n node'] = int(tk[2])\n",
    "        df.loc[line_nu,'value'] = float(tk[3])\n",
    "\n",
    "    # loads multi-terminal elements into branch structure\n",
    "    # O - Op Amps\n",
    "    def opamp_sub_network(line_nu):\n",
    "        tk = content[line_nu].split()\n",
    "        df.loc[line_nu,'element'] = tk[0]\n",
    "        df.loc[line_nu,'p node'] = int(tk[1])\n",
    "        df.loc[line_nu,'n node'] = int(tk[2])\n",
    "        df.loc[line_nu,'Vout'] = int(tk[3])\n",
    "\n",
    "    # G - VCCS\n",
    "    def vccs_sub_network(line_nu):\n",
    "        tk = content[line_nu].split()\n",
    "        df.loc[line_nu,'element'] = tk[0]\n",
    "        df.loc[line_nu,'p node'] = int(tk[1])\n",
    "        df.loc[line_nu,'n node'] = int(tk[2])\n",
    "        df.loc[line_nu,'cp node'] = int(tk[3])\n",
    "        df.loc[line_nu,'cn node'] = int(tk[4])\n",
    "        df.loc[line_nu,'value'] = float(tk[5])\n",
    "\n",
    "    # E - VCVS\n",
    "    # in sympy E is the number 2.718, replacing E with Ea otherwise, sympify() errors out\n",
    "    def vcvs_sub_network(line_nu):\n",
    "        tk = content[line_nu].split()\n",
    "        df.loc[line_nu,'element'] = tk[0].replace('E', 'Ea')\n",
    "        df.loc[line_nu,'p node'] = int(tk[1])\n",
    "        df.loc[line_nu,'n node'] = int(tk[2])\n",
    "        df.loc[line_nu,'cp node'] = int(tk[3])\n",
    "        df.loc[line_nu,'cn node'] = int(tk[4])\n",
    "        df.loc[line_nu,'value'] = float(tk[5])\n",
    "\n",
    "    # F - CCCS\n",
    "    def cccs_sub_network(line_nu):\n",
    "        tk = content[line_nu].split()\n",
    "        df.loc[line_nu,'element'] = tk[0]\n",
    "        df.loc[line_nu,'p node'] = int(tk[1])\n",
    "        df.loc[line_nu,'n node'] = int(tk[2])\n",
    "        df.loc[line_nu,'Vname'] = tk[3].capitalize()\n",
    "        df.loc[line_nu,'value'] = float(tk[4])\n",
    "\n",
    "    # H - CCVS\n",
    "    def ccvs_sub_network(line_nu):\n",
    "        tk = content[line_nu].split()\n",
    "        df.loc[line_nu,'element'] = tk[0]\n",
    "        df.loc[line_nu,'p node'] = int(tk[1])\n",
    "        df.loc[line_nu,'n node'] = int(tk[2])\n",
    "        df.loc[line_nu,'Vname'] = tk[3].capitalize()\n",
    "        df.loc[line_nu,'value'] = float(tk[4])\n",
    "\n",
    "    # K - Coupled inductors\n",
    "    def cpld_ind_sub_network(line_nu):\n",
    "        tk = content[line_nu].split()\n",
    "        df.loc[line_nu,'element'] = tk[0]\n",
    "        df.loc[line_nu,'Lname1'] = tk[1].capitalize()\n",
    "        df.loc[line_nu,'Lname2'] = tk[2].capitalize()\n",
    "        df.loc[line_nu,'value'] = float(tk[3])\n",
    "\n",
    "    # function to scan df and get largest node number\n",
    "    def count_nodes():\n",
    "        # need to check that nodes are consecutive\n",
    "        # fill array with node numbers\n",
    "        p = np.zeros(line_cnt+1)\n",
    "        for i in range(line_cnt):\n",
    "            # need to skip coupled inductor 'K' statements\n",
    "            if df.loc[i,'element'][0] != 'K': #get 1st letter of element name\n",
    "                p[df['p node'][i]] = df['p node'][i]\n",
    "                p[df['n node'][i]] = df['n node'][i]\n",
    "\n",
    "        # find the largest node number\n",
    "        if df['n node'].max() > df['p node'].max():\n",
    "            largest = df['n node'].max()\n",
    "        else:\n",
    "            largest =  df['p node'].max()\n",
    "\n",
    "        largest = int(largest)\n",
    "        # check for unfilled elements, skip node 0\n",
    "        for i in range(1,largest):\n",
    "            if p[i] == 0:\n",
    "                raise Exception('nodes not in continuous order, node {:.0f} is missing'.format(p[i-1]+1))\n",
    "        return largest\n",
    "\n",
    "    # load branch info into data frame\n",
    "    for i in range(line_cnt):\n",
    "        x = content[i][0]\n",
    "\n",
    "        if (x == 'R') or (x == 'L') or (x == 'C'):\n",
    "            rlc_element(i)\n",
    "        elif (x == 'V') or (x == 'I'):\n",
    "            indep_source(i)\n",
    "        elif x == 'O':\n",
    "            opamp_sub_network(i)\n",
    "        elif x == 'E':\n",
    "            vcvs_sub_network(i)\n",
    "        elif x == 'G':\n",
    "            vccs_sub_network(i)\n",
    "        elif x == 'F':\n",
    "            cccs_sub_network(i)\n",
    "        elif x == 'H':\n",
    "            ccvs_sub_network(i)\n",
    "        elif x == 'K':\n",
    "            cpld_ind_sub_network(i)\n",
    "        else:\n",
    "            raise Exception(\"unknown element type in branch {:d}, {:s}\".format(i,content[i]))\n",
    "\n",
    "    '''29 Nov 2023:  When the D matrix is built, independent voltage sources are processed\n",
    "    in the data frame order when building the D matrix. If the voltage source followed element\n",
    "    L, H, F, K types in the netlist, a row was inserted that put the voltage source in a different\n",
    "    row in relation to its position in the Ev matrix. This would cause the node attached to \n",
    "    the terminal of the voltage source to be zero volts.  \n",
    "    Solution - The following block of code was added to move voltage source types to the \n",
    "    beginning of the net list dataframe before any calculations are performed.''' \n",
    "\n",
    "    # Check for position of voltage sources in the dataframe.\n",
    "    source_index = [] # keep track of voltage source row number\n",
    "    other_index = [] # make a list of all other types\n",
    "    for i in range(len(df)):\n",
    "        # process all the elements creating unknown currents\n",
    "        x = df.loc[i,'element'][0]   #get 1st letter of element name\n",
    "        if (x == 'V'):\n",
    "            source_index.append(i)\n",
    "        else:\n",
    "            other_index.append(i)\n",
    "\n",
    "    df = df.reindex(source_index+other_index,copy=True) # reorder the data frame\n",
    "    df.reset_index(drop=True, inplace=True) # renumber the index\n",
    "\n",
    "    # count number of nodes\n",
    "    num_nodes = count_nodes()\n",
    "\n",
    "    # Build df2: consists of branches with current unknowns, used for C & D matrices\n",
    "    # walk through data frame and find these parameters\n",
    "    count = 0\n",
    "    for i in range(len(df)):\n",
    "        # process all the elements creating unknown currents\n",
    "        x = df.loc[i,'element'][0]   #get 1st letter of element name\n",
    "        if (x == 'L') or (x == 'V') or (x == 'O') or (x == 'E') or (x == 'H') or (x == 'F'):\n",
    "            df2.loc[count,'element'] = df.loc[i,'element']\n",
    "            df2.loc[count,'p node'] = df.loc[i,'p node']\n",
    "            df2.loc[count,'n node'] = df.loc[i,'n node']\n",
    "            count += 1\n",
    "\n",
    "    # print the netlist report\n",
    "    report = 'Net list report\\n'\n",
    "    report = report+('number of lines in netlist: {:d}\\n'.format(line_cnt))\n",
    "    report = report+'number of branches: {:d}\\n'.format(branch_cnt)\n",
    "    report = report+'number of nodes: {:d}\\n'.format(num_nodes)\n",
    "    # count the number of element types that affect the size of the B, C, D, E and J arrays\n",
    "    # these are current unknows\n",
    "    i_unk = num_v+num_opamps+num_vcvs+num_ccvs+num_cccs+num_ind\n",
    "    report = report+'number of unknown currents: {:d}\\n'.format(i_unk)\n",
    "    report = report+'number of RLC (passive components): {:d}\\n'.format(num_rlc)\n",
    "    report = report+'number of resistors: {:d}\\n'.format(num_res)    \n",
    "    report = report+'number of capacitors: {:d}\\n'.format(num_cap)    \n",
    "    report = report+'number of inductors: {:d}\\n'.format(num_ind)\n",
    "    report = report+'number of independent voltage sources: {:d}\\n'.format(num_v)\n",
    "    report = report+'number of independent current sources: {:d}\\n'.format(num_i)\n",
    "    report = report+'number of Op Amps: {:d}\\n'.format(num_opamps)\n",
    "    report = report+'number of E - VCVS: {:d}\\n'.format(num_vcvs)\n",
    "    report = report+'number of G - VCCS: {:d}\\n'.format(num_vccs)\n",
    "    report = report+'number of F - CCCS: {:d}\\n'.format(num_cccs)\n",
    "    report = report+'number of H - CCVS: {:d}\\n'.format(num_ccvs)\n",
    "    report = report+'number of K - Coupled inductors: {:d}\\n'.format(num_cpld_ind)\n",
    "\n",
    "    # initialize some symbolic matrix with zeros\n",
    "    # A is formed by [[G, C] [B, D]]\n",
    "    # Z = [I,E]\n",
    "    # X = [V, J]\n",
    "    V = zeros(num_nodes,1)\n",
    "    I = zeros(num_nodes,1)\n",
    "    G = zeros(num_nodes,num_nodes)  # also called Yr, the reduced nodal matrix\n",
    "    s = Symbol('s')  # the Laplace variable\n",
    "\n",
    "    # count the number of element types that affect the size of the B, C, D, E and J arrays\n",
    "    # these are element types that have unknown currents\n",
    "    i_unk = num_v+num_opamps+num_vcvs+num_ccvs+num_ind+num_cccs\n",
    "    # if i_unk == 0, just generate empty arrays\n",
    "    B = zeros(num_nodes,i_unk)\n",
    "    C = zeros(i_unk,num_nodes)\n",
    "    D = zeros(i_unk,i_unk)\n",
    "    Ev = zeros(i_unk,1)\n",
    "    J = zeros(i_unk,1)\n",
    "\n",
    "    ''' The G matrix is n by n, where n is the number of nodes. \n",
    "    The matrix is formed by the interconnections between the resistors, \n",
    "    capacitors and VCCS type elements.  In the original paper G is called Yr, \n",
    "    where Yr is a reduced form of the nodal matrix excluding the contributions \n",
    "    due to voltage sources, current controlling elements, etc.  In Python row \n",
    "    and columns are: G[row, column]'''\n",
    "    for i in range(len(df)):  # process each row in the data frame\n",
    "        n1 = df.loc[i,'p node']\n",
    "        n2 = df.loc[i,'n node']\n",
    "        cn1 = df.loc[i,'cp node']\n",
    "        cn2 = df.loc[i,'cn node']\n",
    "        # process all the passive elements, save conductance to temp value\n",
    "        x = df.loc[i,'element'][0]   #get 1st letter of element name\n",
    "        if x == 'R':\n",
    "            g = 1/sympify(df.loc[i,'element'])\n",
    "        if x == 'C':\n",
    "            g = s*sympify(df.loc[i,'element'])\n",
    "        if x == 'G':   #vccs type element\n",
    "            g = sympify(df.loc[i,'element'].lower())  # use a symbol for gain value\n",
    "\n",
    "        if (x == 'R') or (x == 'C'):\n",
    "            # If neither side of the element is connected to ground\n",
    "            # then subtract it from the appropriate location in the matrix.\n",
    "            if (n1 != 0) and (n2 != 0):\n",
    "                G[n1-1,n2-1] += -g\n",
    "                G[n2-1,n1-1] += -g\n",
    "\n",
    "            # If node 1 is connected to ground, add element to diagonal of matrix\n",
    "            if n1 != 0:\n",
    "                G[n1-1,n1-1] += g\n",
    "\n",
    "            # same for for node 2\n",
    "            if n2 != 0:\n",
    "                G[n2-1,n2-1] += g\n",
    "\n",
    "        if x == 'G':    #vccs type element\n",
    "            # check to see if any terminal is grounded\n",
    "            # then stamp the matrix\n",
    "            if n1 != 0 and cn1 != 0:\n",
    "                G[n1-1,cn1-1] += g\n",
    "\n",
    "            if n2 != 0 and cn2 != 0:\n",
    "                G[n2-1,cn2-1] += g\n",
    "\n",
    "            if n1 != 0 and cn2 != 0:\n",
    "                G[n1-1,cn2-1] -= g\n",
    "\n",
    "            if n2 != 0 and cn1 != 0:\n",
    "                G[n2-1,cn1-1] -= g\n",
    "\n",
    "    '''The B matrix is an n by m matrix with only 0, 1 and -1 elements, where \n",
    "    n = number of nodes and m is the number of current unknowns, i_unk. There is \n",
    "    one column for each unknown current. The code loop through all the branches \n",
    "    and process elements that have stamps for the B matrix:  \n",
    "     - Voltage sources (V)  \n",
    "     - Op Amps (O)  \n",
    "     - CCVS (H)  \n",
    "     - CCCS (F)  \n",
    "     - VCVS (E)  \n",
    "     - Inductors (L)    \n",
    "\n",
    "    The order of the columns is as they appear in the netlist.  CCCS (F) does not get\n",
    "    its own column because the controlling current is through a zero volt voltage source,\n",
    "    called Vname and is already in the net list.'''\n",
    "    sn = 0   # count source number as code walks through the data frame\n",
    "    for i in range(len(df)):\n",
    "        n1 = df.loc[i,'p node']\n",
    "        n2 = df.loc[i,'n node']\n",
    "        n_vout = df.loc[i,'Vout'] # node connected to Op Amp output\n",
    "\n",
    "        # process elements with input to B matrix\n",
    "        x = df.loc[i,'element'][0]   #get 1st letter of element name\n",
    "        if x == 'V':\n",
    "            if i_unk > 1:  #is B greater than 1 by n?, V\n",
    "                if n1 != 0:\n",
    "                    B[n1-1,sn] = 1\n",
    "                if n2 != 0:\n",
    "                    B[n2-1,sn] = -1\n",
    "            else:\n",
    "                if n1 != 0:\n",
    "                    B[n1-1] = 1\n",
    "                if n2 != 0:\n",
    "                    B[n2-1] = -1\n",
    "            sn += 1   #increment source count\n",
    "        if x == 'O':  # Op Amp type, output connection of the Op Amp goes in the B matrix\n",
    "            B[n_vout-1,sn] = 1\n",
    "            sn += 1   # increment source count\n",
    "        if (x == 'H') or (x == 'F'):  # H: ccvs, F: cccs,\n",
    "            if i_unk > 1:  #is B greater than 1 by n?, H, F\n",
    "                # check to see if any terminal is grounded\n",
    "                # then stamp the matrix\n",
    "                if n1 != 0:\n",
    "                    B[n1-1,sn] = 1\n",
    "                if n2 != 0:\n",
    "                    B[n2-1,sn] = -1\n",
    "            else:\n",
    "                if n1 != 0:\n",
    "                    B[n1-1] = 1\n",
    "                if n2 != 0:\n",
    "                    B[n2-1] = -1\n",
    "            sn += 1   #increment source count\n",
    "        if x == 'E':   # vcvs type, only ik column is altered at n1 and n2\n",
    "            if i_unk > 1:  #is B greater than 1 by n?, E\n",
    "                if n1 != 0:\n",
    "                    B[n1-1,sn] = 1\n",
    "                if n2 != 0:\n",
    "                    B[n2-1,sn] = -1\n",
    "            else:\n",
    "                if n1 != 0:\n",
    "                    B[n1-1] = 1\n",
    "                if n2 != 0:\n",
    "                    B[n2-1] = -1\n",
    "            sn += 1   #increment source count\n",
    "        if x == 'L':\n",
    "            if i_unk > 1:  #is B greater than 1 by n?, L\n",
    "                if n1 != 0:\n",
    "                    B[n1-1,sn] = 1\n",
    "                if n2 != 0:\n",
    "                    B[n2-1,sn] = -1\n",
    "            else:\n",
    "                if n1 != 0:\n",
    "                    B[n1-1] = 1\n",
    "                if n2 != 0:\n",
    "                    B[n2-1] = -1\n",
    "            sn += 1   #increment source count\n",
    "\n",
    "    # check source count\n",
    "    if sn != i_unk:\n",
    "        raise Exception('source number, sn={:d} not equal to i_unk={:d} in matrix B'.format(sn,i_unk))\n",
    "\n",
    "    ''' The C matrix is an m by n matrix with only 0, 1 and -1 elements (except for controlled sources).  \n",
    "    The code is similar to the B matrix code, except the indices are swapped.   The code loops through \n",
    "    all the branches and process elements that have stamps for the C matrix:  \n",
    "     - Voltage sources (V)  \n",
    "     - Opamps (O)  \n",
    "     - CCVS (H)  \n",
    "     - CCCS (F)  \n",
    "     - VCVS (E)  \n",
    "     - Inductors (L)  \n",
    "\n",
    "     Op Amp elements\n",
    "     The Op Amp element is assumed to be an ideal Op Amp and use of this component is valid only when \n",
    "     used in circuits with a DC path (a short or a resistor) from the output terminal to the negative \n",
    "     input terminal of the Op Amp. No error checking is provided and if the condition is violated, \n",
    "     the results likely will be erroneous. See [3][4].   \n",
    "\n",
    "     Find the the column position in the C and D matrix for controlled sources\n",
    "     needs to return the node numbers and branch number of controlling branch'''\n",
    "    def find_vname(name):\n",
    "        # need to walk through data frame and find these parameters\n",
    "        for i in range(len(df2)):\n",
    "            # process all the elements creating unknown currents\n",
    "            if name == df2.loc[i,'element']:\n",
    "                n1 = df2.loc[i,'p node']\n",
    "                n2 = df2.loc[i,'n node']\n",
    "                return n1, n2, i  # n1, n2 & col_num are from the branch of the controlling element\n",
    "\n",
    "        raise Exception('failed to find matching branch element in find_vname')\n",
    "\n",
    "    # generate the C Matrix\n",
    "    sn = 0   # count source number as code walks through the data frame\n",
    "    for i in range(len(df)):\n",
    "        n1 = df.loc[i,'p node']\n",
    "        n2 = df.loc[i,'n node']\n",
    "        cn1 = df.loc[i,'cp node'] # nodes for controlled sources\n",
    "        cn2 = df.loc[i,'cn node']\n",
    "        n_vout = df.loc[i,'Vout'] # node connected to Op Amp output\n",
    "\n",
    "        # process elements with input to B matrix\n",
    "        x = df.loc[i,'element'][0]   #get 1st letter of element name\n",
    "        if x == 'V':\n",
    "            if i_unk > 1:  #is B greater than 1 by n?, V\n",
    "                if n1 != 0:\n",
    "                    C[sn,n1-1] = 1\n",
    "                if n2 != 0:\n",
    "                    C[sn,n2-1] = -1\n",
    "            else:\n",
    "                if n1 != 0:\n",
    "                    C[n1-1] = 1\n",
    "                if n2 != 0:\n",
    "                    C[n2-1] = -1\n",
    "            sn += 1   #increment source count\n",
    "\n",
    "        if x == 'O':  # Op Amp type, input connections of the opamp go into the C matrix\n",
    "            # C[sn,n_vout-1] = 1\n",
    "            if i_unk > 1:  #is B greater than 1 by n?, O\n",
    "                # check to see if any terminal is grounded\n",
    "                # then stamp the matrix\n",
    "                if n1 != 0:\n",
    "                    C[sn,n1-1] = 1\n",
    "                if n2 != 0:\n",
    "                    C[sn,n2-1] = -1\n",
    "            else:\n",
    "                if n1 != 0:\n",
    "                    C[n1-1] = 1\n",
    "                if n2 != 0:\n",
    "                    C[n2-1] = -1\n",
    "            sn += 1   # increment source count\n",
    "\n",
    "        if x == 'F':  # need to count F (cccs) types\n",
    "            sn += 1   #increment source count\n",
    "        if x == 'H':  # H: ccvs\n",
    "            if i_unk > 1:  #is B greater than 1 by n?, H\n",
    "                # check to see if any terminal is grounded\n",
    "                # then stamp the matrix\n",
    "                if n1 != 0:\n",
    "                    C[sn,n1-1] = 1\n",
    "                if n2 != 0:\n",
    "                    C[sn,n2-1] = -1\n",
    "            else:\n",
    "                if n1 != 0:\n",
    "                    C[n1-1] = 1\n",
    "                if n2 != 0:\n",
    "                    C[n2-1] = -1\n",
    "            sn += 1   #increment source count\n",
    "        if x == 'E':   # vcvs type, ik column is altered at n1 and n2, cn1 & cn2 get value\n",
    "            if i_unk > 1:  #is B greater than 1 by n?, E\n",
    "                if n1 != 0:\n",
    "                    C[sn,n1-1] = 1\n",
    "                if n2 != 0:\n",
    "                    C[sn,n2-1] = -1\n",
    "                # add entry for cp and cn of the controlling voltage\n",
    "                if cn1 != 0:\n",
    "                    C[sn,cn1-1] = -sympify(df.loc[i,'element'].lower())\n",
    "                if cn2 != 0:\n",
    "                    C[sn,cn2-1] = sympify(df.loc[i,'element'].lower())\n",
    "            else:\n",
    "                if n1 != 0:\n",
    "                    C[n1-1] = 1\n",
    "                if n2 != 0:\n",
    "                    C[n2-1] = -1\n",
    "                vn1, vn2, df2_index = find_vname(df.loc[i,'Vname'])\n",
    "                if vn1 != 0:\n",
    "                    C[vn1-1] = -sympify(df.loc[i,'element'].lower())\n",
    "                if vn2 != 0:\n",
    "                    C[vn2-1] = sympify(df.loc[i,'element'].lower())\n",
    "            sn += 1   #increment source count\n",
    "\n",
    "        if x == 'L':\n",
    "            if i_unk > 1:  #is B greater than 1 by n?, L\n",
    "                if n1 != 0:\n",
    "                    C[sn,n1-1] = 1\n",
    "                if n2 != 0:\n",
    "                    C[sn,n2-1] = -1\n",
    "            else:\n",
    "                if n1 != 0:\n",
    "                    C[n1-1] = 1\n",
    "                if n2 != 0:\n",
    "                    C[n2-1] = -1\n",
    "            sn += 1   #increment source count\n",
    "\n",
    "    # check source count\n",
    "    if sn != i_unk:\n",
    "        raise Exception('source number, sn={:d} not equal to i_unk={:d} in matrix C'.format(sn,i_unk))\n",
    "\n",
    "    ''' The D matrix is an m by m matrix, where m is the number of unknown currents.  \n",
    "    m = i_unk = num_v+num_opamps+num_vcvs+num_ccvs+num_ind+num_cccs\n",
    "\n",
    "    Stamps that affect the D matrix are: inductor, ccvs and cccs  \n",
    "    inductors: minus sign added to keep current flow convention consistent  \n",
    "\n",
    "    Coupled inductors notes:  \n",
    "    Can the K statement be anywhere in the net list, even before Lx and Ly?   \n",
    "    12/6/2017 doing some debugging on with coupled inductors  \n",
    "    LTSpice seems to put the phasing dot on the neg node when it generates the netlist   \n",
    "    This code uses M for mutual inductance, LTSpice uses k for the coupling coefficient.'''  \n",
    "\n",
    "    # generate the D Matrix\n",
    "    sn = 0   # count source number as code walks through the data frame\n",
    "    for i in range(len(df)):\n",
    "        n1 = df.loc[i,'p node']\n",
    "        n2 = df.loc[i,'n node']\n",
    "        #cn1 = df.loc[i,'cp node'] # nodes for controlled sources\n",
    "        #cn2 = df.loc[i,'cn node']\n",
    "        #n_vout = df.loc[i,'Vout'] # node connected to Op Amp output\n",
    "\n",
    "        # process elements with input to D matrix\n",
    "        x = df.loc[i,'element'][0]   #get 1st letter of element name\n",
    "        if (x == 'V') or (x == 'O') or (x == 'E'):  # need to count V, E & O types\n",
    "            sn += 1   #increment source count\n",
    "\n",
    "        if x == 'L':\n",
    "            if i_unk > 1:  #is D greater than 1 by 1?\n",
    "                D[sn,sn] += -s*sympify(df.loc[i,'element'])\n",
    "            else:\n",
    "                D[sn] += -s*sympify(df.loc[i,'element'])\n",
    "            sn += 1   #increment source count\n",
    "\n",
    "        if x == 'H':  # H: ccvs\n",
    "            # if there is a H type, D is m by m\n",
    "            # need to find the vn for Vname\n",
    "            # then stamp the matrix\n",
    "            vn1, vn2, df2_index = find_vname(df.loc[i,'Vname'])\n",
    "            D[sn,df2_index] += -sympify(df.loc[i,'element'].lower())\n",
    "            sn += 1   #increment source count\n",
    "\n",
    "        if x == 'F':  # F: cccs\n",
    "            # if there is a F type, D is m by m\n",
    "            # need to find the vn for Vname\n",
    "            # then stamp the matrix\n",
    "            vn1, vn2, df2_index = find_vname(df.loc[i,'Vname'])\n",
    "            D[sn,df2_index] += -sympify(df.loc[i,'element'].lower())\n",
    "            D[sn,sn] = 1\n",
    "            sn += 1   #increment source count\n",
    "\n",
    "        if x == 'K':  # K: coupled inductors, KXX LYY LZZ value\n",
    "            # if there is a K type, D is m by m\n",
    "            vn1, vn2, ind1_index = find_vname(df.loc[i,'Lname1'])  # get i_unk position for Lx\n",
    "            vn1, vn2, ind2_index = find_vname(df.loc[i,'Lname2'])  # get i_unk position for Ly\n",
    "            # enter sM on diagonals = value*sqrt(LXX*LZZ)\n",
    "\n",
    "            D[ind1_index,ind2_index] += -s*sympify('M{:s}'.format(df.loc[i,'element'].lower()[1:]))  # s*Mxx\n",
    "            D[ind2_index,ind1_index] += -s*sympify('M{:s}'.format(df.loc[i,'element'].lower()[1:]))  # -s*Mxx\n",
    "\n",
    "    ''' The V matrix is an n by 1 matrix formed of the node voltages, where n is the number of nodes. Each element in V corresponds to the voltage at the node.  \n",
    "    Maybe make small v's v_1 so as not to confuse v1 with V1.'''\n",
    "    # generate the V matrix\n",
    "    for i in range(num_nodes):\n",
    "        V[i] = sympify('v{:d}'.format(i+1))\n",
    "\n",
    "    ''' The J matrix is an m by 1 matrix, where m is the number of unknown currents.\n",
    "    i_unk = num_v+num_opamps+num_vcvs+num_ccvs+num_ind+num_cccs\n",
    "    The J matrix is an m by 1 matrix, with one entry for each i_unk from a source'''\n",
    "    for i in range(len(df2)):\n",
    "        # process all the unknown currents\n",
    "        J[i] = sympify('I_{:s}'.format(df2.loc[i,'element']))\n",
    "\n",
    "    ''' The I matrix is an n by 1 matrix, where n is the number of nodes. The value\n",
    "    of each element of I is determined by the sum of current sources into the \n",
    "    corresponding node. If there are no current sources connected to the node, the value is zero.'''\n",
    "\n",
    "    # generate the I matrix, current sources have n2 = arrow end of the element\n",
    "    for i in range(len(df)):\n",
    "        n1 = df.loc[i,'p node']\n",
    "        n2 = df.loc[i,'n node']\n",
    "        # process all the passive elements, save conductance to temp value\n",
    "        x = df.loc[i,'element'][0]   #get 1st letter of element name\n",
    "        if x == 'I':\n",
    "            g = sympify(df.loc[i,'element'])\n",
    "            # sum the current into each node\n",
    "            if n1 != 0:\n",
    "                I[n1-1] -= g\n",
    "            if n2 != 0:\n",
    "                I[n2-1] += g\n",
    "\n",
    "    # The Ev matrix is m by 1 and holds the values of the independent voltage sources.\n",
    "    sn = 0   # count source number\n",
    "    for i in range(len(df)):\n",
    "        # process all the passive elements\n",
    "        x = df.loc[i,'element'][0]   #get 1st letter of element name\n",
    "        if x == 'V':\n",
    "            Ev[sn] = sympify(df.loc[i,'element'])\n",
    "            sn += 1\n",
    "\n",
    "\n",
    "    ''' The Z matrix holds the independent voltage and current sources and is the combination of 2\n",
    "    smaller matrices I and Ev. The Z matrix is (m+n) by 1, n is the number of nodes, and m is the\n",
    "    number of independent voltage sources. The I matrix is n by 1 and contains the sum of the currents\n",
    "    through the passive elements into the corresponding node (either zero, or the sum of independent\n",
    "    current sources). The Ev matrix is m by 1 and holds the values of the independent voltage sources.'''\n",
    "    Z = I[:] + Ev[:]  # the + operator in Python concatenates the lists\n",
    "\n",
    "\n",
    "    ''' The X matrix is an (n+m) by 1 vector that holds the unknown quantities (node voltages and the currents through\n",
    "    the independent voltage sources). The top n elements are the n node voltages. The bottom m elements represent the\n",
    "    currents through the m independent voltage sources in the circuit. The V matrix is n by 1 and holds the unknown voltages.\n",
    "    The J matrix is m by 1 and holds the unknown currents through the voltage sources '''\n",
    "    X = V[:] + J[:]  # the + operator in Python concatenates the lists\n",
    "\n",
    "    # The A matrix is (m+n) by (m+n) and will be developed as the combination of 4 smaller matrices, G, B, C, and D.\n",
    "    n = num_nodes\n",
    "    m = i_unk\n",
    "    A = zeros(m+n,m+n)\n",
    "    for i in range(n):\n",
    "        for j in range(n):\n",
    "            A[i,j] = G[i,j]\n",
    "\n",
    "    if i_unk > 1:\n",
    "        for i in range(n):\n",
    "            for j in range(m):\n",
    "                A[i,n+j] = B[i,j]\n",
    "                A[n+j,i] = C[j,i]\n",
    "\n",
    "        for i in range(m):\n",
    "            for j in range(m):\n",
    "                A[n+i,n+j] = D[i,j]\n",
    "\n",
    "    if i_unk == 1:\n",
    "        for i in range(n):\n",
    "            A[i,n] = B[i]\n",
    "            A[n,i] = C[i]\n",
    "        A[n,n] = D[0] # added 1/7/2024 while debugging source free circuit with one inductor\n",
    "\n",
    "    return report, df, df2, A, X, Z"
   ]
  },
  {
   "cell_type": "markdown",
   "metadata": {
    "tags": []
   },
   "source": [
    "## Load the net list\n",
    "The netlist can be exported from a schematic capture program or generated by hand. The input node is labled as node 1 and the output node is labled as node 2, but any node ordering is acceptable with adjustments to the code below.  "
   ]
  },
  {
   "cell_type": "code",
   "execution_count": 3,
   "metadata": {},
   "outputs": [],
   "source": [
    "net_list = '''\n",
    "R1 1 3 1\n",
    "R2 0 2 1\n",
    "L1 3 4 1\n",
    "L2 4 2 1\n",
    "C1 0 4 2\n",
    "V1 1 0 1\n",
    "'''"
   ]
  },
  {
   "cell_type": "markdown",
   "metadata": {},
   "source": [
    "## Call the symbolic modified nodal analysis function"
   ]
  },
  {
   "cell_type": "code",
   "execution_count": 4,
   "metadata": {},
   "outputs": [],
   "source": [
    "report, network_df, i_unk_df, A, X, Z = smna(net_list)"
   ]
  },
  {
   "cell_type": "markdown",
   "metadata": {},
   "source": [
    "Display the MNA equations:"
   ]
  },
  {
   "cell_type": "code",
   "execution_count": 5,
   "metadata": {},
   "outputs": [
    {
     "data": {
      "text/markdown": [
       "$I_{V1} + \\frac{v_{1}}{R_{1}} - \\frac{v_{3}}{R_{1}} = 0$<br>$- I_{L2} + \\frac{v_{2}}{R_{2}} = 0$<br>$I_{L1} - \\frac{v_{1}}{R_{1}} + \\frac{v_{3}}{R_{1}} = 0$<br>$C_{1} s v_{4} - I_{L1} + I_{L2} = 0$<br>$v_{1} = V_{1}$<br>$- I_{L1} L_{1} s + v_{3} - v_{4} = 0$<br>$- I_{L2} L_{2} s - v_{2} + v_{4} = 0$<br>"
      ],
      "text/plain": [
       "<IPython.core.display.Markdown object>"
      ]
     },
     "execution_count": 5,
     "metadata": {},
     "output_type": "execute_result"
    }
   ],
   "source": [
    "# reform X and Z into Matrix type for printing\n",
    "Xp = Matrix(X)\n",
    "Zp = Matrix(Z)\n",
    "temp = ''\n",
    "for i in range(len(X)):\n",
    "    temp += '${:s}$<br>'.format(latex(Eq((A*Xp)[i:i+1][0],Zp[i])))\n",
    "\n",
    "Markdown(temp)"
   ]
  },
  {
   "cell_type": "markdown",
   "metadata": {},
   "source": [
    "## Build the network equation matrix"
   ]
  },
  {
   "cell_type": "code",
   "execution_count": 6,
   "metadata": {},
   "outputs": [],
   "source": [
    "# Put matrices into SymPy \n",
    "X = Matrix(X)\n",
    "Z = Matrix(Z)\n",
    "\n",
    "NE_sym = Eq(A*X,Z)"
   ]
  },
  {
   "cell_type": "code",
   "execution_count": 7,
   "metadata": {},
   "outputs": [
    {
     "data": {
      "image/png": "[encoded data removed]",
      "text/latex": [
       "$\\displaystyle \\left( V_{1}, \\  C_{1}, \\  L_{2}, \\  R_{1}, \\  v_{4}, \\  v_{2}, \\  L_{1}, \\  R_{2}, \\  v_{3}, \\  s, \\  I_{L1}, \\  I_{L2}, \\  I_{V1}, \\  v_{1}\\right)$"
      ],
      "text/plain": [
       "(V₁, C₁, L₂, R₁, v₄, v₂, L₁, R₂, v₃, s, I_L1, I_L2, I_V1, v₁)"
      ]
     },
     "execution_count": 7,
     "metadata": {},
     "output_type": "execute_result"
    }
   ],
   "source": [
    "# turn the free symbols into SymPy variables\n",
    "var(str(NE_sym.free_symbols).replace('{','').replace('}',''))"
   ]
  },
  {
   "cell_type": "markdown",
   "metadata": {},
   "source": [
    "Build a dictionary of element values:"
   ]
  },
  {
   "cell_type": "code",
   "execution_count": 8,
   "metadata": {},
   "outputs": [
    {
     "data": {
      "image/png": "[encoded data removed]",
      "text/latex": [
       "$\\displaystyle \\left\\{ C_{1} : 2.0, \\  L_{1} : 1.0, \\  L_{2} : 1.0, \\  R_{1} : 1.0, \\  R_{2} : 1.0, \\  V_{1} : 1.0\\right\\}$"
      ],
      "text/plain": [
       "{C₁: 2.0, L₁: 1.0, L₂: 1.0, R₁: 1.0, R₂: 1.0, V₁: 1.0}"
      ]
     },
     "execution_count": 8,
     "metadata": {},
     "output_type": "execute_result"
    }
   ],
   "source": [
    "element_values = get_part_values(network_df)\n",
    "element_values"
   ]
  },
  {
   "cell_type": "markdown",
   "metadata": {},
   "source": [
    "## Symbolic solution\n",
    "The network equations can be solved symbolically using the SymPy function, solve."
   ]
  },
  {
   "cell_type": "code",
   "execution_count": 9,
   "metadata": {},
   "outputs": [],
   "source": [
    "U_sym = solve(NE_sym,X)"
   ]
  },
  {
   "cell_type": "markdown",
   "metadata": {},
   "source": [
    "Display the symbolic solution:"
   ]
  },
  {
   "cell_type": "code",
   "execution_count": 10,
   "metadata": {},
   "outputs": [
    {
     "data": {
      "text/markdown": [
       "$v_{1} = V_{1}$<br>$v_{2} = \\frac{R_{2} V_{1}}{C_{1} L_{1} L_{2} s^{3} + C_{1} L_{1} R_{2} s^{2} + C_{1} L_{2} R_{1} s^{2} + C_{1} R_{1} R_{2} s + L_{1} s + L_{2} s + R_{1} + R_{2}}$<br>$v_{3} = \\frac{C_{1} L_{1} L_{2} V_{1} s^{3} + C_{1} L_{1} R_{2} V_{1} s^{2} + L_{1} V_{1} s + L_{2} V_{1} s + R_{2} V_{1}}{C_{1} L_{1} L_{2} s^{3} + C_{1} L_{1} R_{2} s^{2} + C_{1} L_{2} R_{1} s^{2} + C_{1} R_{1} R_{2} s + L_{1} s + L_{2} s + R_{1} + R_{2}}$<br>$v_{4} = \\frac{L_{2} V_{1} s + R_{2} V_{1}}{C_{1} L_{1} L_{2} s^{3} + C_{1} L_{1} R_{2} s^{2} + C_{1} L_{2} R_{1} s^{2} + C_{1} R_{1} R_{2} s + L_{1} s + L_{2} s + R_{1} + R_{2}}$<br>$I_{V1} = \\frac{- C_{1} L_{2} V_{1} s^{2} - C_{1} R_{2} V_{1} s - V_{1}}{C_{1} L_{1} L_{2} s^{3} + C_{1} L_{1} R_{2} s^{2} + C_{1} L_{2} R_{1} s^{2} + C_{1} R_{1} R_{2} s + L_{1} s + L_{2} s + R_{1} + R_{2}}$<br>$I_{L1} = \\frac{C_{1} L_{2} V_{1} s^{2} + C_{1} R_{2} V_{1} s + V_{1}}{C_{1} L_{1} L_{2} s^{3} + C_{1} L_{1} R_{2} s^{2} + C_{1} L_{2} R_{1} s^{2} + C_{1} R_{1} R_{2} s + L_{1} s + L_{2} s + R_{1} + R_{2}}$<br>$I_{L2} = \\frac{V_{1}}{C_{1} L_{1} L_{2} s^{3} + C_{1} L_{1} R_{2} s^{2} + C_{1} L_{2} R_{1} s^{2} + C_{1} R_{1} R_{2} s + L_{1} s + L_{2} s + R_{1} + R_{2}}$<br>"
      ],
      "text/plain": [
       "<IPython.core.display.Markdown object>"
      ]
     },
     "execution_count": 10,
     "metadata": {},
     "output_type": "execute_result"
    }
   ],
   "source": [
    "temp = ''\n",
    "for i in U_sym.keys():\n",
    "    temp += '${:s} = {:s}$<br>'.format(latex(i),latex(U_sym[i]))\n",
    "\n",
    "Markdown(temp)"
   ]
  },
  {
   "cell_type": "markdown",
   "metadata": {},
   "source": [
    "## Transfer function\n",
    "Assuming node 1 is the input source node and node 2 is the output node of the transfer function."
   ]
  },
  {
   "cell_type": "code",
   "execution_count": 11,
   "metadata": {},
   "outputs": [
    {
     "data": {
      "image/png": "[encoded data removed]",
      "text/latex": [
       "$\\displaystyle \\frac{R_{2}}{C_{1} L_{1} L_{2} s^{3} + C_{1} L_{1} R_{2} s^{2} + C_{1} L_{2} R_{1} s^{2} + C_{1} R_{1} R_{2} s + L_{1} s + L_{2} s + R_{1} + R_{2}}$"
      ],
      "text/plain": [
       "                                     R₂                                     \n",
       "────────────────────────────────────────────────────────────────────────────\n",
       "          3             2             2                                     \n",
       "C₁⋅L₁⋅L₂⋅s  + C₁⋅L₁⋅R₂⋅s  + C₁⋅L₂⋅R₁⋅s  + C₁⋅R₁⋅R₂⋅s + L₁⋅s + L₂⋅s + R₁ + R₂"
      ]
     },
     "execution_count": 11,
     "metadata": {},
     "output_type": "execute_result"
    }
   ],
   "source": [
    "H_sym = (U_sym[v2]/U_sym[v1]).nsimplify().simplify().expand().together()\n",
    "H_sym"
   ]
  },
  {
   "cell_type": "code",
   "execution_count": 12,
   "metadata": {},
   "outputs": [],
   "source": [
    "H_sym_num, H_sym_denom = fraction(H_sym) #returns numerator and denominator"
   ]
  },
  {
   "cell_type": "markdown",
   "metadata": {},
   "source": [
    "Solve for the roon of the numerator."
   ]
  },
  {
   "cell_type": "code",
   "execution_count": 13,
   "metadata": {},
   "outputs": [],
   "source": [
    "H_sym_num_roots = solve(H_sym_num,s)"
   ]
  },
  {
   "cell_type": "markdown",
   "metadata": {},
   "source": [
    "Display the first solution."
   ]
  },
  {
   "cell_type": "code",
   "execution_count": 14,
   "metadata": {},
   "outputs": [],
   "source": [
    "#H_sym_num_roots[0]"
   ]
  },
  {
   "cell_type": "markdown",
   "metadata": {},
   "source": [
    "Solve for the roots of the denominator."
   ]
  },
  {
   "cell_type": "code",
   "execution_count": 15,
   "metadata": {},
   "outputs": [],
   "source": [
    "H_sym_denom_roots = solve(H_sym_denom,s)"
   ]
  },
  {
   "cell_type": "markdown",
   "metadata": {},
   "source": [
    "Display the first solution."
   ]
  },
  {
   "cell_type": "code",
   "execution_count": 16,
   "metadata": {},
   "outputs": [
    {
     "data": {
      "image/png": "[encoded data removed]",
      "text/latex": [
       "$\\displaystyle - \\frac{\\frac{\\left(L_{1} R_{2} + L_{2} R_{1}\\right)^{2}}{L_{1}^{2} L_{2}^{2}} - \\frac{3 \\left(C_{1} R_{1} R_{2} + L_{1} + L_{2}\\right)}{C_{1} L_{1} L_{2}}}{3 \\sqrt[3]{\\frac{\\sqrt{- 4 \\left(\\frac{\\left(L_{1} R_{2} + L_{2} R_{1}\\right)^{2}}{L_{1}^{2} L_{2}^{2}} - \\frac{3 \\left(C_{1} R_{1} R_{2} + L_{1} + L_{2}\\right)}{C_{1} L_{1} L_{2}}\\right)^{3} + \\left(\\frac{2 \\left(L_{1} R_{2} + L_{2} R_{1}\\right)^{3}}{L_{1}^{3} L_{2}^{3}} + \\frac{27 \\left(R_{1} + R_{2}\\right)}{C_{1} L_{1} L_{2}} - \\frac{9 \\left(L_{1} R_{2} + L_{2} R_{1}\\right) \\left(C_{1} R_{1} R_{2} + L_{1} + L_{2}\\right)}{C_{1} L_{1}^{2} L_{2}^{2}}\\right)^{2}}}{2} + \\frac{\\left(L_{1} R_{2} + L_{2} R_{1}\\right)^{3}}{L_{1}^{3} L_{2}^{3}} + \\frac{27 \\left(R_{1} + R_{2}\\right)}{2 C_{1} L_{1} L_{2}} - \\frac{9 \\left(L_{1} R_{2} + L_{2} R_{1}\\right) \\left(C_{1} R_{1} R_{2} + L_{1} + L_{2}\\right)}{2 C_{1} L_{1}^{2} L_{2}^{2}}}} - \\frac{\\sqrt[3]{\\frac{\\sqrt{- 4 \\left(\\frac{\\left(L_{1} R_{2} + L_{2} R_{1}\\right)^{2}}{L_{1}^{2} L_{2}^{2}} - \\frac{3 \\left(C_{1} R_{1} R_{2} + L_{1} + L_{2}\\right)}{C_{1} L_{1} L_{2}}\\right)^{3} + \\left(\\frac{2 \\left(L_{1} R_{2} + L_{2} R_{1}\\right)^{3}}{L_{1}^{3} L_{2}^{3}} + \\frac{27 \\left(R_{1} + R_{2}\\right)}{C_{1} L_{1} L_{2}} - \\frac{9 \\left(L_{1} R_{2} + L_{2} R_{1}\\right) \\left(C_{1} R_{1} R_{2} + L_{1} + L_{2}\\right)}{C_{1} L_{1}^{2} L_{2}^{2}}\\right)^{2}}}{2} + \\frac{\\left(L_{1} R_{2} + L_{2} R_{1}\\right)^{3}}{L_{1}^{3} L_{2}^{3}} + \\frac{27 \\left(R_{1} + R_{2}\\right)}{2 C_{1} L_{1} L_{2}} - \\frac{9 \\left(L_{1} R_{2} + L_{2} R_{1}\\right) \\left(C_{1} R_{1} R_{2} + L_{1} + L_{2}\\right)}{2 C_{1} L_{1}^{2} L_{2}^{2}}}}{3} - \\frac{L_{1} R_{2} + L_{2} R_{1}}{3 L_{1} L_{2}}$"
      ],
      "text/plain": [
       "                                                                              \n",
       "                                                                              \n",
       "                                                                              \n",
       "                                                                              \n",
       "                                                                              \n",
       "                                                                              \n",
       "                                                                              \n",
       "                                                                              \n",
       "                                                                              \n",
       "                                                                              \n",
       "                                                                              \n",
       "- ────────────────────────────────────────────────────────────────────────────\n",
       "               _______________________________________________________________\n",
       "              ╱        _______________________________________________________\n",
       "             ╱        ╱                                                3      \n",
       "            ╱        ╱      ⎛               2                         ⎞    ⎛  \n",
       "           ╱        ╱       ⎜(L₁⋅R₂ + L₂⋅R₁)    3⋅(C₁⋅R₁⋅R₂ + L₁ + L₂)⎟    ⎜2⋅\n",
       "          ╱        ╱    - 4⋅⎜──────────────── - ──────────────────────⎟  + ⎜──\n",
       "         ╱        ╱         ⎜      2   2               C₁⋅L₁⋅L₂       ⎟    ⎜  \n",
       "        ╱       ╲╱          ⎝    L₁ ⋅L₂                               ⎠    ⎝  \n",
       "  3⋅   ╱        ──────────────────────────────────────────────────────────────\n",
       "    3 ╱                                                                       \n",
       "    ╲╱                                                                        \n",
       "\n",
       "                                                                              \n",
       "                                                                              \n",
       "                                                                              \n",
       "                                                                              \n",
       "                                                                              \n",
       "                                                                              \n",
       "                                2                                             \n",
       "                 (L₁⋅R₂ + L₂⋅R₁)    3⋅(C₁⋅R₁⋅R₂ + L₁ + L₂)                    \n",
       "                 ──────────────── - ──────────────────────                    \n",
       "                       2   2               C₁⋅L₁⋅L₂                           \n",
       "                     L₁ ⋅L₂                                                   \n",
       "──────────────────────────────────────────────────────────────────────────────\n",
       "______________________________________________________________________________\n",
       "___________________________________________________________________________   \n",
       "                                                                         2    \n",
       "               3                                                        ⎞     \n",
       "(L₁⋅R₂ + L₂⋅R₁)    27⋅(R₁ + R₂)   9⋅(L₁⋅R₂ + L₂⋅R₁)⋅(C₁⋅R₁⋅R₂ + L₁ + L₂)⎟     \n",
       "──────────────── + ──────────── - ──────────────────────────────────────⎟     \n",
       "     3   3           C₁⋅L₁⋅L₂                        2   2              ⎟     \n",
       "   L₁ ⋅L₂                                       C₁⋅L₁ ⋅L₂               ⎠     \n",
       "─────────────────────────────────────────────────────────────────────────── + \n",
       "      2                                                                       \n",
       "                                                                              \n",
       "\n",
       "                                                                              \n",
       "                                                                              \n",
       "                                                                              \n",
       "                                                                              \n",
       "                                                                              \n",
       "                                                                              \n",
       "                                                                              \n",
       "                                                                              \n",
       "                                                                              \n",
       "                                                                            3 \n",
       "                                                                            ╲╱\n",
       "───────────────────────────────────────────────────────────────────────── - ──\n",
       "_________________________________________________________________________     \n",
       "                                                                              \n",
       "                                                                              \n",
       "                                                                              \n",
       "                                                                              \n",
       "                                                                              \n",
       "               3                                                              \n",
       "(L₁⋅R₂ + L₂⋅R₁)    27⋅(R₁ + R₂)   9⋅(L₁⋅R₂ + L₂⋅R₁)⋅(C₁⋅R₁⋅R₂ + L₁ + L₂)      \n",
       "──────────────── + ──────────── - ──────────────────────────────────────      \n",
       "      3   3         2⋅C₁⋅L₁⋅L₂                        2   2                   \n",
       "    L₁ ⋅L₂                                     2⋅C₁⋅L₁ ⋅L₂                    \n",
       "\n",
       "         _____________________________________________________________________\n",
       "        ╱        _____________________________________________________________\n",
       "       ╱        ╱                                                3            \n",
       "      ╱        ╱      ⎛               2                         ⎞    ⎛        \n",
       "     ╱        ╱       ⎜(L₁⋅R₂ + L₂⋅R₁)    3⋅(C₁⋅R₁⋅R₂ + L₁ + L₂)⎟    ⎜2⋅(L₁⋅R₂\n",
       "    ╱        ╱    - 4⋅⎜──────────────── - ──────────────────────⎟  + ⎜────────\n",
       "   ╱        ╱         ⎜      2   2               C₁⋅L₁⋅L₂       ⎟    ⎜       3\n",
       "  ╱       ╲╱          ⎝    L₁ ⋅L₂                               ⎠    ⎝     L₁ \n",
       " ╱        ────────────────────────────────────────────────────────────────────\n",
       "╱                                                                             \n",
       "                                                                              \n",
       "──────────────────────────────────────────────────────────────────────────────\n",
       "                                                                              \n",
       "                                                                              \n",
       "                                                                              \n",
       "                                                                              \n",
       "                                                                              \n",
       "                                                                              \n",
       "                                                                              \n",
       "                                                                              \n",
       "                                                                              \n",
       "                                                                              \n",
       "                                                                              \n",
       "\n",
       "______________________________________________________________________________\n",
       "_____________________________________________________________________         \n",
       "                                                                   2          \n",
       "         3                                                        ⎞           \n",
       " + L₂⋅R₁)    27⋅(R₁ + R₂)   9⋅(L₁⋅R₂ + L₂⋅R₁)⋅(C₁⋅R₁⋅R₂ + L₁ + L₂)⎟           \n",
       "────────── + ──────────── - ──────────────────────────────────────⎟           \n",
       "   3           C₁⋅L₁⋅L₂                        2   2              ⎟           \n",
       "⋅L₂                                       C₁⋅L₁ ⋅L₂               ⎠     (L₁⋅R₂\n",
       "───────────────────────────────────────────────────────────────────── + ──────\n",
       "2                                                                             \n",
       "                                                                            L₁\n",
       "──────────────────────────────────────────────────────────────────────────────\n",
       "                                3                                             \n",
       "                                                                              \n",
       "                                                                              \n",
       "                                                                              \n",
       "                                                                              \n",
       "                                                                              \n",
       "                                                                              \n",
       "                                                                              \n",
       "                                                                              \n",
       "                                                                              \n",
       "                                                                              \n",
       "\n",
       "___________________________________________________________________           \n",
       "                                                                              \n",
       "                                                                              \n",
       "                                                                              \n",
       "                                                                              \n",
       "                                                                              \n",
       "         3                                                                    \n",
       " + L₂⋅R₁)    27⋅(R₁ + R₂)   9⋅(L₁⋅R₂ + L₂⋅R₁)⋅(C₁⋅R₁⋅R₂ + L₁ + L₂)            \n",
       "────────── + ──────────── - ──────────────────────────────────────            \n",
       "3   3         2⋅C₁⋅L₁⋅L₂                        2   2                         \n",
       " ⋅L₂                                     2⋅C₁⋅L₁ ⋅L₂                  L₁⋅R₂ + \n",
       "─────────────────────────────────────────────────────────────────── - ────────\n",
       "                                                                         3⋅L₁⋅\n",
       "                                                                              \n",
       "                                                                              \n",
       "                                                                              \n",
       "                                                                              \n",
       "                                                                              \n",
       "                                                                              \n",
       "                                                                              \n",
       "                                                                              \n",
       "                                                                              \n",
       "                                                                              \n",
       "\n",
       "     \n",
       "     \n",
       "     \n",
       "     \n",
       "     \n",
       "     \n",
       "     \n",
       "     \n",
       "     \n",
       "     \n",
       "L₂⋅R₁\n",
       "─────\n",
       "L₂   \n",
       "     \n",
       "     \n",
       "     \n",
       "     \n",
       "     \n",
       "     \n",
       "     \n",
       "     \n",
       "     \n",
       "     "
      ]
     },
     "execution_count": 16,
     "metadata": {},
     "output_type": "execute_result"
    }
   ],
   "source": [
    "H_sym_denom_roots[0]"
   ]
  },
  {
   "cell_type": "markdown",
   "metadata": {
    "tags": []
   },
   "source": [
    "## Numerical solution"
   ]
  },
  {
   "cell_type": "code",
   "execution_count": 17,
   "metadata": {},
   "outputs": [
    {
     "data": {
      "text/markdown": [
       "$v_{1} = 1.0$<br>$v_{2} = \\frac{1}{2.0 s^{3} + 4.0 s^{2} + 4.0 s + 2.0}$<br>$v_{3} = \\frac{2.0 s^{3} + 2.0 s^{2} + 2.0 s + 1.0}{2.0 s^{3} + 4.0 s^{2} + 4.0 s + 2.0}$<br>$v_{4} = \\frac{1}{2.0 s^{2} + 2.0 s + 2.0}$<br>$I_{V1} = \\frac{- 2.0 s^{2} - 2.0 s - 1.0}{2.0 s^{3} + 4.0 s^{2} + 4.0 s + 2.0}$<br>$I_{L1} = \\frac{2.0 s^{2} + 2.0 s + 1.0}{2.0 s^{3} + 4.0 s^{2} + 4.0 s + 2.0}$<br>$I_{L2} = \\frac{1}{2.0 s^{3} + 4.0 s^{2} + 4.0 s + 2.0}$<br>"
      ],
      "text/plain": [
       "<IPython.core.display.Markdown object>"
      ]
     },
     "execution_count": 17,
     "metadata": {},
     "output_type": "execute_result"
    }
   ],
   "source": [
    "NE = NE_sym.subs(element_values)\n",
    "U = solve(NE,X)\n",
    "\n",
    "temp = ''\n",
    "for i in U.keys():\n",
    "    temp += '${:s} = {:s}$<br>'.format(latex(i),latex(U[i]))\n",
    "\n",
    "Markdown(temp)"
   ]
  },
  {
   "cell_type": "markdown",
   "metadata": {},
   "source": [
    "## DC operating point"
   ]
  },
  {
   "cell_type": "code",
   "execution_count": 18,
   "metadata": {},
   "outputs": [],
   "source": [
    "NE = NE_sym.subs(element_values)\n",
    "NE_dc = NE.subs({s:0})"
   ]
  },
  {
   "cell_type": "markdown",
   "metadata": {},
   "source": [
    "Display the equations with numeric values."
   ]
  },
  {
   "cell_type": "code",
   "execution_count": 19,
   "metadata": {},
   "outputs": [
    {
     "data": {
      "text/markdown": [
       "$0 = I_{V1} + 1.0 v_{1} - 1.0 v_{3}$<br>$0 = - I_{L2} + 1.0 v_{2}$<br>$0 = I_{L1} - 1.0 v_{1} + 1.0 v_{3}$<br>$0 = - I_{L1} + I_{L2}$<br>$1.0 = v_{1}$<br>$0 = v_{3} - v_{4}$<br>$0 = - v_{2} + v_{4}$<br>"
      ],
      "text/plain": [
       "<IPython.core.display.Markdown object>"
      ]
     },
     "execution_count": 19,
     "metadata": {},
     "output_type": "execute_result"
    }
   ],
   "source": [
    "temp = ''\n",
    "for i in range(shape(NE_dc.lhs)[0]):\n",
    "    temp += '${:s} = {:s}$<br>'.format(latex(NE_dc.rhs[i]),latex(NE_dc.lhs[i]))\n",
    "\n",
    "Markdown(temp)"
   ]
  },
  {
   "cell_type": "markdown",
   "metadata": {},
   "source": [
    "Solve for voltages and currents."
   ]
  },
  {
   "cell_type": "code",
   "execution_count": 20,
   "metadata": {
    "collapsed": false,
    "jupyter": {
     "outputs_hidden": false
    }
   },
   "outputs": [],
   "source": [
    "U_dc = solve(NE_dc,X)"
   ]
  },
  {
   "cell_type": "markdown",
   "metadata": {},
   "source": [
    "Display the numerical solution"
   ]
  },
  {
   "cell_type": "code",
   "execution_count": 21,
   "metadata": {},
   "outputs": [
    {
     "name": "stdout",
     "output_type": "stream",
     "text": [
      "unknown          mag\n",
      "---------  ---------\n",
      "v1          1.000000\n",
      "v2          0.500000\n",
      "v3          0.500000\n",
      "v4          0.500000\n",
      "I_V1       -0.500000\n",
      "I_L1        0.500000\n",
      "I_L2        0.500000\n"
     ]
    }
   ],
   "source": [
    "table_header = ['unknown', 'mag']\n",
    "table_row = []\n",
    "\n",
    "for name, value in U_dc.items():\n",
    "    table_row.append([str(name),float(value)])\n",
    "\n",
    "print(tabulate(table_row, headers=table_header,colalign = ('left','decimal'),tablefmt=\"simple\",floatfmt=('5s','.6f')))"
   ]
  },
  {
   "cell_type": "markdown",
   "metadata": {},
   "source": [
    "## AC analysis\n",
    "Solve equations for $\\omega$ equal to 1 radian per second, s = 1j."
   ]
  },
  {
   "cell_type": "code",
   "execution_count": 40,
   "metadata": {},
   "outputs": [
    {
     "name": "stdout",
     "output_type": "stream",
     "text": [
      "omega of 1.0 rad/sec = 0.159 Hz\n",
      "frequency of 1.0 Hz = 6.283 rad/sec\n"
     ]
    }
   ],
   "source": [
    "# calculate Hz and radians\n",
    "omega = 1 # frequency in radians per second\n",
    "print('omega of {:.1f} rad/sec = {:.3f} Hz'.format(omega,omega/(2*np.pi)))\n",
    "\n",
    "freq = 1 # frequency in cycles per second, Hz\n",
    "print('frequency of {:.1f} Hz = {:.3f} rad/sec'.format(freq,freq*2*np.pi))"
   ]
  },
  {
   "cell_type": "code",
   "execution_count": 22,
   "metadata": {},
   "outputs": [],
   "source": [
    "NE = NE_sym.subs(element_values)\n",
    "NE_w1 = NE.subs({s:1j})"
   ]
  },
  {
   "cell_type": "markdown",
   "metadata": {},
   "source": [
    "Display the equations with numeric values."
   ]
  },
  {
   "cell_type": "code",
   "execution_count": 23,
   "metadata": {},
   "outputs": [
    {
     "data": {
      "text/markdown": [
       "$0 = I_{V1} + 1.0 v_{1} - 1.0 v_{3}$<br>$0 = - I_{L2} + 1.0 v_{2}$<br>$0 = I_{L1} - 1.0 v_{1} + 1.0 v_{3}$<br>$0 = - I_{L1} + I_{L2} + 2.0 i v_{4}$<br>$1.0 = v_{1}$<br>$0 = - 1.0 i I_{L1} + v_{3} - v_{4}$<br>$0 = - 1.0 i I_{L2} - v_{2} + v_{4}$<br>"
      ],
      "text/plain": [
       "<IPython.core.display.Markdown object>"
      ]
     },
     "execution_count": 23,
     "metadata": {},
     "output_type": "execute_result"
    }
   ],
   "source": [
    "temp = ''\n",
    "for i in range(shape(NE_w1.lhs)[0]):\n",
    "    temp += '${:s} = {:s}$<br>'.format(latex(NE_w1.rhs[i]),latex(NE_w1.lhs[i]))\n",
    "\n",
    "Markdown(temp)"
   ]
  },
  {
   "cell_type": "markdown",
   "metadata": {},
   "source": [
    "Solve for voltages and currents."
   ]
  },
  {
   "cell_type": "code",
   "execution_count": 24,
   "metadata": {},
   "outputs": [],
   "source": [
    "U_w1 = solve(NE_w1,X)"
   ]
  },
  {
   "cell_type": "markdown",
   "metadata": {},
   "source": [
    "Display the numerical solution"
   ]
  },
  {
   "cell_type": "code",
   "execution_count": 25,
   "metadata": {},
   "outputs": [
    {
     "name": "stdout",
     "output_type": "stream",
     "text": [
      "unknown         mag    phase, deg\n",
      "---------  --------  ------------\n",
      "v1         1.000000      0.000000\n",
      "v2         0.353553   -135.000000\n",
      "v3         0.353553     45.000000\n",
      "v4         0.500000    -90.000000\n",
      "I_V1       0.790569    161.565051\n",
      "I_L1       0.790569    -18.434949\n",
      "I_L2       0.353553   -135.000000\n"
     ]
    }
   ],
   "source": [
    "table_header = ['unknown', 'mag','phase, deg']\n",
    "table_row = []\n",
    "\n",
    "for name, value in U_w1.items():\n",
    "    table_row.append([str(name),float(abs(value)),float(arg(value)*180/np.pi)])\n",
    "\n",
    "print(tabulate(table_row, headers=table_header,colalign = ('left','decimal','decimal'),tablefmt=\"simple\",floatfmt=('5s','.6f','.6f')))"
   ]
  },
  {
   "cell_type": "markdown",
   "metadata": {},
   "source": [
    "## Transfer function"
   ]
  },
  {
   "cell_type": "code",
   "execution_count": 26,
   "metadata": {},
   "outputs": [
    {
     "data": {
      "image/png": "[encoded data removed]",
      "text/latex": [
       "$\\displaystyle \\frac{1}{2 \\left(s^{3} + 2 s^{2} + 2 s + 1\\right)}$"
      ],
      "text/plain": [
       "           1           \n",
       "───────────────────────\n",
       "  ⎛ 3      2          ⎞\n",
       "2⋅⎝s  + 2⋅s  + 2⋅s + 1⎠"
      ]
     },
     "execution_count": 26,
     "metadata": {},
     "output_type": "execute_result"
    }
   ],
   "source": [
    "H = (U[v2]/U[v1]).nsimplify().simplify().expand().together()\n",
    "H"
   ]
  },
  {
   "cell_type": "markdown",
   "metadata": {},
   "source": [
    "Extract the numerator and denominator polynomials so that the system can be defined in SciPy."
   ]
  },
  {
   "cell_type": "code",
   "execution_count": 27,
   "metadata": {
    "tags": []
   },
   "outputs": [],
   "source": [
    "H_num, H_denom = fraction(H) #returns numerator and denominator"
   ]
  },
  {
   "cell_type": "markdown",
   "metadata": {},
   "source": [
    "The SciPy function, TransferFunction, represents the system as the continuous-time transfer function and takes as inputs the coeeficients of the numerator and denominator polynominals."
   ]
  },
  {
   "cell_type": "code",
   "execution_count": 28,
   "metadata": {
    "collapsed": false,
    "jupyter": {
     "outputs_hidden": false
    }
   },
   "outputs": [],
   "source": [
    "# convert symbolic to numpy polynomial\n",
    "a = np.array(Poly(H_num, s).all_coeffs(), dtype=float)\n",
    "b = np.array(Poly(H_denom, s).all_coeffs(), dtype=float)\n",
    "sys = signal.TransferFunction(a,b)"
   ]
  },
  {
   "cell_type": "markdown",
   "metadata": {},
   "source": [
    "## Poles and zeros of the transfer function\n",
    "The poles and zeros of the transfer function can easly be obtained with the following code:"
   ]
  },
  {
   "cell_type": "code",
   "execution_count": 29,
   "metadata": {},
   "outputs": [],
   "source": [
    "sys_zeros = np.roots(sys.num)\n",
    "sys_poles = np.roots(sys.den)"
   ]
  },
  {
   "cell_type": "markdown",
   "metadata": {},
   "source": [
    "## Pole zero plot"
   ]
  },
  {
   "cell_type": "code",
   "execution_count": 30,
   "metadata": {},
   "outputs": [
    {
     "data": {
      "image/png": "[encoded data removed]",
      "text/plain": [
       "<Figure size 640x480 with 1 Axes>"
      ]
     },
     "metadata": {},
     "output_type": "display_data"
    }
   ],
   "source": [
    "plt.plot(np.real(sys_zeros), np.imag(sys_zeros), 'ob', markerfacecolor='none')\n",
    "plt.plot(np.real(sys_poles), np.imag(sys_poles), 'xr')\n",
    "plt.legend(['Zeros', 'Poles'], loc=1)\n",
    "plt.title('Pole / Zero Plot')\n",
    "plt.xlabel('real part, \\u03B1')\n",
    "plt.ylabel('imaginary part, j\\u03C9')\n",
    "plt.grid()\n",
    "plt.show()"
   ]
  },
  {
   "cell_type": "markdown",
   "metadata": {},
   "source": [
    "Poles and zeros of the transfer function plotted on the complex plane. The units are in radian frequency.\n",
    "\n",
    "Printing these values in Hz."
   ]
  },
  {
   "cell_type": "code",
   "execution_count": 31,
   "metadata": {},
   "outputs": [
    {
     "name": "stdout",
     "output_type": "stream",
     "text": [
      "number of zeros: 0\n"
     ]
    }
   ],
   "source": [
    "print('number of zeros: {:d}'.format(len(sys_zeros)))\n",
    "for i in sys_zeros:\n",
    "    print('{:,.2f} Hz'.format(i/(2*np.pi)))"
   ]
  },
  {
   "cell_type": "code",
   "execution_count": 32,
   "metadata": {},
   "outputs": [
    {
     "name": "stdout",
     "output_type": "stream",
     "text": [
      "number of poles: 3\n",
      "-0.16+0.00j Hz\n",
      "-0.08+0.14j Hz\n",
      "-0.08-0.14j Hz\n"
     ]
    }
   ],
   "source": [
    "print('number of poles: {:d}'.format(len(sys_poles)))\n",
    "for i in sys_poles:\n",
    "    print('{:,.2f} Hz'.format(i/(2*np.pi)))"
   ]
  },
  {
   "cell_type": "markdown",
   "metadata": {
    "tags": []
   },
   "source": [
    "## Bode plot"
   ]
  },
  {
   "cell_type": "code",
   "execution_count": 33,
   "metadata": {},
   "outputs": [
    {
     "data": {
      "image/png": "[encoded data removed]",
      "text/plain": [
       "<Figure size 640x480 with 2 Axes>"
      ]
     },
     "metadata": {},
     "output_type": "display_data"
    }
   ],
   "source": [
    "x = np.logspace(-2, 1, 200, endpoint=False)*2*np.pi\n",
    "w, mag, phase = signal.bode(sys, w=x) # returns: rad/s, mag in dB, phase in deg\n",
    "\n",
    "fig, ax1 = plt.subplots()\n",
    "ax1.set_ylabel('magnitude, dB')\n",
    "ax1.set_xlabel('frequency, Hz')\n",
    "\n",
    "plt.semilogx(w/(2*np.pi), mag,'-b')    # Bode magnitude plot\n",
    "\n",
    "ax1.tick_params(axis='y')\n",
    "#ax1.set_ylim((-30,20))\n",
    "plt.grid()\n",
    "\n",
    "# instantiate a second y-axes that shares the same x-axis\n",
    "ax2 = ax1.twinx()\n",
    "color = 'tab:blue'\n",
    "\n",
    "plt.semilogx(w/(2*np.pi), phase,':',color='tab:red')  # Bode phase plot\n",
    "\n",
    "ax2.set_ylabel('phase, deg',color=color)\n",
    "ax2.tick_params(axis='y', labelcolor=color)\n",
    "#ax2.set_ylim((-5,25))\n",
    "\n",
    "plt.title('Magnitude and phase response')\n",
    "plt.show()"
   ]
  },
  {
   "cell_type": "markdown",
   "metadata": {
    "tags": []
   },
   "source": [
    "## Impulse and step response"
   ]
  },
  {
   "cell_type": "code",
   "execution_count": 34,
   "metadata": {},
   "outputs": [
    {
     "data": {
      "image/png": "[encoded data removed]",
      "text/plain": [
       "<Figure size 1500x500 with 2 Axes>"
      ]
     },
     "metadata": {},
     "output_type": "display_data"
    }
   ],
   "source": [
    "plt.subplots(1,2,figsize=(15, 5))\n",
    "\n",
    "# using subplot function and creating\n",
    "# plot one\n",
    "plt.subplot(1, 2, 1)\n",
    "\n",
    "# impulse response\n",
    "t, y = signal.impulse(sys,N=500)\n",
    "plt.plot(t/1e-3, y)\n",
    "plt.title('Impulse response')\n",
    "plt.ylabel('volts')\n",
    "plt.xlabel('time, msec')\n",
    "plt.grid()\n",
    "\n",
    "# using subplot function and creating plot two\n",
    "plt.subplot(1, 2, 2)\n",
    "\n",
    "t, y = signal.step(sys,N=500)\n",
    "plt.plot(t/1e-3, y)\n",
    "plt.title('Step response')\n",
    "plt.ylabel('volts')\n",
    "plt.xlabel('time, msec')\n",
    "plt.grid()\n",
    "\n",
    "# show plot\n",
    "plt.show()"
   ]
  },
  {
   "cell_type": "code",
   "execution_count": null,
   "metadata": {},
   "outputs": [],
   "source": []
  }
 ],
 "metadata": {
  "kernelspec": {
   "display_name": "Python 3 (ipykernel)",
   "language": "python",
   "name": "python3"
  },
  "language_info": {
   "codemirror_mode": {
    "name": "ipython",
    "version": 3
   },
   "file_extension": ".py",
   "mimetype": "text/x-python",
   "name": "python",
   "nbconvert_exporter": "python",
   "pygments_lexer": "ipython3",
   "version": "3.10.9"
  }
 },
 "nbformat": 4,
 "nbformat_minor": 4
}
