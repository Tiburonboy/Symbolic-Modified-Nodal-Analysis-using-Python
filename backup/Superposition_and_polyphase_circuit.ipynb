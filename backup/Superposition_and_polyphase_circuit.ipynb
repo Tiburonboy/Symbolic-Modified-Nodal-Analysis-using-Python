{
 "cells": [
  {
   "cell_type": "raw",
   "metadata": {},
   "source": [
    "---\n",
    "title:\n",
    "format: \n",
    "    html:\n",
    "        code-fold: false\n",
    "        embed-resources: false\n",
    "        code-tools: true\n",
    "        number-sections: true\n",
    "jupyter: python3\n",
    "---"
   ]
  },
  {
   "cell_type": "markdown",
   "metadata": {
    "tags": []
   },
   "source": [
    "# A polyphase circuit {#sec-polyphase}\n",
    "\n",
    "mayeb a new title: superposition and polyphase\n",
    "\n",
    "combining two topics\n",
    "\n",
    "\n",
    "## Abstract {.unnumbered}\n",
    "A circuit to illustrate superposition and polyphase circuit analysis.\n",
    "\n",
    "## Introduction\n",
    "what is superposition \n",
    "what is a polyphase circuit.\n",
    "\n",
    "as discussed below too large for useful symbolic analysis.\n",
    "\n",
    "\n",
    "![](Superposition-and-polyphase-circuit.png)\n",
    "\n",
    "\n",
    "What is a phasor?\n",
    "\n",
    "[Phasor](https://en.wikipedia.org/wiki/Phasor)\n",
    "\n",
    "In physics and engineering, a phasor (a portmanteau of phase vector[1][2]) is a complex number representing a sinusoidal function whose amplitude (A), and initial phase (θ) are time-invariant and whose angular frequency (ω) is fixed. It is related to a more general concept called analytic representation,[3] which decomposes a sinusoid into the product of a complex constant and a factor depending on time and frequency. The complex constant, which depends on amplitude and phase, is known as a phasor, or complex amplitude,[4][5] and (in older texts) sinor[6] or even complexor.[6\n",
    "\n",
    "A common application is in the steady-state analysis of an electrical network powered by time varying current where all signals are assumed to be sinusoidal with a common frequency. Phasor representation allows the analyst to represent the amplitude and phase of the signal using a single complex number. The only difference in their analytic representations is the complex amplitude (phasor). A linear combination of such functions can be represented as a linear combination of phasors (known as phasor arithmetic or phasor algebra[7]: 53 ) and the time/frequency dependent factor that they all have in common. \n",
    "\n",
    "[Charles Proteus Steinmetz](https://en.wikipedia.org/wiki/Charles_Proteus_Steinmetz)\n",
    "\n",
    "\n",
    "## Circuit description\n",
    "\n",
    "The most commen every day poly phase circuits are three phase power circuits for the electric utility. In this example there thre three phases and three frequencies. To illustrate supper posistion .\n",
    "\n",
    "- a collection of AC and DC sources\n",
    "- coupled inductors\n",
    "- dependent sources\n",
    "- RLC\n",
    "- non planer\n",
    "\n",
    "too large to do by hand, can't simplify, not planar, so loop analysis is difficult. But also too large for symbolic solution.\n",
    "\n",
    "| source | DC | Magnitude @ angle | frequency, Hz |\n",
    "|---|---|---|---|\n",
    "| V1 | 5 | 7 @ 135 | 3 | \n",
    "| V2 | 1 | 1 @ 35 | 5 | \n",
    "| I1 | 2 | 3 @ 300 | 7 | \n",
    "\n",
    "\n",
    "\n",
    "| source | DC | AC, mag @ phase | omega |\n",
    "|---|---|---|---|\n",
    "| V1 | 5 | 7 @ 135 | $2 \\pi 3$ | \n",
    "| V2 | 1 | 1 @ 35 | $2 \\pi 5$ | \n",
    "| I1 | 2 | 3 @ 300 | $2 \\pi 7$ | \n",
    "\n",
    "\n",
    "Independent sources get set to zero one at a time for each frequency. \n",
    "\n",
    "V is zero because is an AC short and I is zero because no current flows and is open.\n",
    "\n",
    "[Superposition theorem](https://en.wikipedia.org/wiki/Superposition_theorem)\n",
    "\n",
    "\n",
    "What is the Superposition Theorem?\n",
    "\n",
    "The strategy used in the superposition theorem is to eliminate all but one source of power within a network at a time. Then, we use series and parallel circuit analysis techniques to determine voltage drops and currents within the modified network for each power source separately. \n",
    "\n",
    "This process is then repeated sequentially by individually evaluating the circuit for every voltage and current source in the system. After each individual analysis has been completed, the voltage and current values are all “superimposed” on top of each other (added algebraically) to find the actual voltage drops and currents with all sources active.\n",
    "\n",
    "What does it mean to turn off a current source? It means we set ‍\n",
    " \n",
    ". That's the same as replacing the current source with an open circuit. \n",
    "\n",
    "What does it mean to turn off a voltage source? It means we set ‍\n",
    " \n",
    ". This is the same thing as replacing the voltage source or battery by a short circuit.\n",
    "\n",
    "The theorem does not apply to non-linear circuits. The requisite of linearity indicates that the superposition theorem is only applicable to determine voltage and current but not power. Power dissipation is a nonlinear function that does not algebraically add to an accurate total when only one source is considered at a time. \n",
    "\n",
    "Superposition works for voltage and current but not power. In other words, the sum of the powers of each source with the other sources turned off is not the real consumed power. To calculate power we first use superposition to find both current and voltage of each linear element and then calculate the sum of the multiplied voltages and currents. \n",
    "\n",
    "## Circuit description\n",
    "\n",
    "```\n",
    "V1 6 1 5 AC 7 90\n",
    "V2 10 12 1 AC 1 35\n",
    "I3 3 4 2 AC 3 210\n",
    "L3 11 14 3 Rser=0\n",
    "L1 1 5 5 Rser=0\n",
    "L4 14 13 2 Rser=0\n",
    "L2 4 8 7 Rser=0\n",
    "H1 7 3 V2 2\n",
    "G1 12 14 8 2 2\n",
    "C1 3 1 0.02279\n",
    "C2 4 13 0.008443\n",
    "C3 13 12 0.01266\n",
    "R9 2 10 10\n",
    "R6 7 0 50\n",
    "R4 5 14 1\n",
    "R1 1 2 100\n",
    "R3 3 4 75\n",
    "R7 0 8 200\n",
    "R11 14 12 10\n",
    "R5 6 9 10\n",
    "R10 9 11 1\n",
    "R8 9 0 100\n",
    "R2 3 12 20\n",
    "K1 L3 L4 0.4\n",
    "```\n"
   ]
  },
  {
   "cell_type": "code",
   "execution_count": 77,
   "metadata": {
    "collapsed": false,
    "jupyter": {
     "outputs_hidden": false
    }
   },
   "outputs": [],
   "source": [
    "import os\n",
    "from sympy import *\n",
    "import numpy as np\n",
    "from tabulate import tabulate\n",
    "from scipy import signal\n",
    "import matplotlib.pyplot as plt\n",
    "import pandas as pd\n",
    "import SymMNA\n",
    "init_printing()"
   ]
  },
  {
   "cell_type": "markdown",
   "metadata": {},
   "source": [
    "In electrical engineering, a time invarient sinusudial signal can be represented either by polar or rectangular notation. The function polar converts the polar representation, also called a phasor to rectangular notation. "
   ]
  },
  {
   "cell_type": "code",
   "execution_count": 116,
   "metadata": {},
   "outputs": [],
   "source": [
    "def polar(mag, ang, units='deg'):\n",
    "    ''' polar to rectangular conversion\n",
    "        mag: float\n",
    "            magnitude of the time invarient sinusudial signal\n",
    "        ang: float\n",
    "            the angle of the time invarient sinusudial signal\n",
    "        units: string\n",
    "            if units is set to deg, and is in degrees not radians\n",
    "    '''\n",
    "    if units == 'deg':\n",
    "        ang = ang * np.pi / 180\n",
    "    return mag * np.exp(1j * ang)"
   ]
  },
  {
   "cell_type": "markdown",
   "metadata": {
    "tags": []
   },
   "source": [
    "## Symbolic MNA code \n",
    "\n",
    "## Load the net list\n",
    "independent sources have their values set to the DC value."
   ]
  },
  {
   "cell_type": "code",
   "execution_count": 91,
   "metadata": {},
   "outputs": [],
   "source": [
    "example_net_list = '''\n",
    "V1 6 1 5 \n",
    "V2 10 12 1 \n",
    "I3 3 4 2 \n",
    "L3 11 14 3 \n",
    "L1 1 5 5 \n",
    "L4 14 13 2 \n",
    "L2 4 8 7 \n",
    "H1 7 3 V2 2\n",
    "G1 12 14 8 2 2\n",
    "C1 3 1 0.02279\n",
    "C2 4 13 0.008443\n",
    "C3 13 12 0.01266\n",
    "R9 2 10 10\n",
    "R6 7 0 50\n",
    "R4 5 14 1\n",
    "R1 1 2 100\n",
    "R3 3 4 75\n",
    "R7 0 8 200\n",
    "R11 14 12 10\n",
    "R5 6 9 10\n",
    "R10 9 11 1\n",
    "R8 9 0 100\n",
    "R2 3 12 20\n",
    "K1 L3 L4 0.4\n",
    "'''"
   ]
  },
  {
   "cell_type": "code",
   "execution_count": 92,
   "metadata": {},
   "outputs": [],
   "source": [
    "report, df, df2, A, X, Z = SymMNA.smna(example_net_list)"
   ]
  },
  {
   "cell_type": "code",
   "execution_count": 93,
   "metadata": {},
   "outputs": [
    {
     "name": "stdout",
     "output_type": "stream",
     "text": [
      "Net list report\n",
      "number of lines in netlist: 24\n",
      "number of branches: 23\n",
      "number of nodes: 14\n",
      "number of unknown currents: 7\n",
      "number of RLC (passive components): 18\n",
      "number of inductors: 4\n",
      "number of independent voltage sources: 2\n",
      "number of independent current sources: 1\n",
      "number of op amps: 0\n",
      "number of E - VCVS: 0\n",
      "number of G - VCCS: 1\n",
      "number of F - CCCS: 0\n",
      "number of H - CCVS: 1\n",
      "number of K - Coupled inductors: 1\n",
      "\n"
     ]
    }
   ],
   "source": [
    "print(report)"
   ]
  },
  {
   "cell_type": "code",
   "execution_count": 94,
   "metadata": {},
   "outputs": [],
   "source": [
    "# Put matricies into SymPy \n",
    "X = Matrix(X)\n",
    "Z = Matrix(Z)"
   ]
  },
  {
   "cell_type": "code",
   "execution_count": 95,
   "metadata": {},
   "outputs": [],
   "source": [
    "equ = Eq(A*X,Z)"
   ]
  },
  {
   "cell_type": "code",
   "execution_count": 96,
   "metadata": {},
   "outputs": [
    {
     "data": {
      "text/latex": [
       "$\\displaystyle \\left[\\begin{matrix}- C_{1} s v_{3} + I_{L1} - I_{V1} + v_{1} \\left(C_{1} s + \\frac{1}{R_{1}}\\right) - \\frac{v_{2}}{R_{1}}\\\\v_{2} \\cdot \\left(\\frac{1}{R_{9}} + \\frac{1}{R_{1}}\\right) - \\frac{v_{10}}{R_{9}} - \\frac{v_{1}}{R_{1}}\\\\- C_{1} s v_{1} - I_{H1} + v_{3} \\left(C_{1} s + \\frac{1}{R_{3}} + \\frac{1}{R_{2}}\\right) - \\frac{v_{4}}{R_{3}} - \\frac{v_{12}}{R_{2}}\\\\- C_{2} s v_{13} + I_{L2} + v_{4} \\left(C_{2} s + \\frac{1}{R_{3}}\\right) - \\frac{v_{3}}{R_{3}}\\\\- I_{L1} - \\frac{v_{14}}{R_{4}} + \\frac{v_{5}}{R_{4}}\\\\I_{V1} + \\frac{v_{6}}{R_{5}} - \\frac{v_{9}}{R_{5}}\\\\I_{H1} + \\frac{v_{7}}{R_{6}}\\\\- I_{L2} + \\frac{v_{8}}{R_{7}}\\\\v_{9} \\cdot \\left(\\frac{1}{R_{8}} + \\frac{1}{R_{5}} + \\frac{1}{R_{10}}\\right) - \\frac{v_{6}}{R_{5}} - \\frac{v_{11}}{R_{10}}\\\\I_{V2} + \\frac{v_{10}}{R_{9}} - \\frac{v_{2}}{R_{9}}\\\\I_{L3} + \\frac{v_{11}}{R_{10}} - \\frac{v_{9}}{R_{10}}\\\\- C_{3} s v_{13} - I_{V2} - g_{1} v_{2} + g_{1} v_{8} + v_{12} \\left(C_{3} s + \\frac{1}{R_{2}} + \\frac{1}{R_{11}}\\right) - \\frac{v_{3}}{R_{2}} - \\frac{v_{14}}{R_{11}}\\\\- C_{2} s v_{4} - C_{3} s v_{12} - I_{L4} + v_{13} \\left(C_{2} s + C_{3} s\\right)\\\\- I_{L3} + I_{L4} + g_{1} v_{2} - g_{1} v_{8} + v_{14} \\cdot \\left(\\frac{1}{R_{4}} + \\frac{1}{R_{11}}\\right) - \\frac{v_{5}}{R_{4}} - \\frac{v_{12}}{R_{11}}\\\\- v_{1} + v_{6}\\\\v_{10} - v_{12}\\\\- I_{L3} L_{3} s - I_{L4} M_{1} s + v_{11} - v_{14}\\\\- I_{L1} L_{1} s + v_{1} - v_{5}\\\\- I_{L3} M_{1} s - I_{L4} L_{4} s - v_{13} + v_{14}\\\\- I_{L2} L_{2} s + v_{4} - v_{8}\\\\- I_{V2} h_{1} - v_{3} + v_{7}\\end{matrix}\\right] = \\left[\\begin{matrix}0\\\\0\\\\- I_{3}\\\\I_{3}\\\\0\\\\0\\\\0\\\\0\\\\0\\\\0\\\\0\\\\0\\\\0\\\\0\\\\V_{1}\\\\V_{2}\\\\0\\\\0\\\\0\\\\0\\\\0\\end{matrix}\\right]$"
      ],
      "text/plain": [
       "⎡                                       ⎛       1 ⎞   v₂            ⎤        \n",
       "⎢           -C₁⋅s⋅v₃ + I_L1 - I_V1 + v₁⋅⎜C₁⋅s + ──⎟ - ──            ⎥        \n",
       "⎢                                       ⎝       R₁⎠   R₁            ⎥        \n",
       "⎢                                                                   ⎥        \n",
       "⎢                         ⎛1    1 ⎞   v₁₀   v₁                      ⎥        \n",
       "⎢                      v₂⋅⎜── + ──⎟ - ─── - ──                      ⎥        \n",
       "⎢                         ⎝R₉   R₁⎠    R₉   R₁                      ⎥        \n",
       "⎢                                                                   ⎥        \n",
       "⎢                              ⎛       1    1 ⎞   v₄   v₁₂          ⎥        \n",
       "⎢         -C₁⋅s⋅v₁ - I_H1 + v₃⋅⎜C₁⋅s + ── + ──⎟ - ── - ───          ⎥        \n",
       "⎢                              ⎝       R₃   R₂⎠   R₃    R₂          ⎥        \n",
       "⎢                                                                   ⎥        \n",
       "⎢                                    ⎛       1 ⎞   v₃               ⎥        \n",
       "⎢              -C₂⋅s⋅v₁₃ + I_L2 + v₄⋅⎜C₂⋅s + ──⎟ - ──               ⎥   ⎡ 0 ⎤\n",
       "⎢                                    ⎝       R₃⎠   R₃               ⎥   ⎢   ⎥\n",
       "⎢                                                                   ⎥   ⎢ 0 ⎥\n",
       "⎢                                 v₁₄   v₅                          ⎥   ⎢   ⎥\n",
       "⎢                         -I_L1 - ─── + ──                          ⎥   ⎢-I₃⎥\n",
       "⎢                                  R₄   R₄                          ⎥   ⎢   ⎥\n",
       "⎢                                                                   ⎥   ⎢I₃ ⎥\n",
       "⎢                                 v₆   v₉                           ⎥   ⎢   ⎥\n",
       "⎢                          I_V1 + ── - ──                           ⎥   ⎢ 0 ⎥\n",
       "⎢                                 R₅   R₅                           ⎥   ⎢   ⎥\n",
       "⎢                                                                   ⎥   ⎢ 0 ⎥\n",
       "⎢                                    v₇                             ⎥   ⎢   ⎥\n",
       "⎢                             I_H1 + ──                             ⎥   ⎢ 0 ⎥\n",
       "⎢                                    R₆                             ⎥   ⎢   ⎥\n",
       "⎢                                                                   ⎥   ⎢ 0 ⎥\n",
       "⎢                                    v₈                             ⎥   ⎢   ⎥\n",
       "⎢                            -I_L2 + ──                             ⎥   ⎢ 0 ⎥\n",
       "⎢                                    R₇                             ⎥   ⎢   ⎥\n",
       "⎢                                                                   ⎥   ⎢ 0 ⎥\n",
       "⎢                      ⎛1    1     1 ⎞   v₆   v₁₁                   ⎥   ⎢   ⎥\n",
       "⎢                   v₉⋅⎜── + ── + ───⎟ - ── - ───                   ⎥ = ⎢ 0 ⎥\n",
       "⎢                      ⎝R₈   R₅   R₁₀⎠   R₅   R₁₀                   ⎥   ⎢   ⎥\n",
       "⎢                                                                   ⎥   ⎢ 0 ⎥\n",
       "⎢                                 v₁₀   v₂                          ⎥   ⎢   ⎥\n",
       "⎢                          I_V2 + ─── - ──                          ⎥   ⎢ 0 ⎥\n",
       "⎢                                  R₉   R₉                          ⎥   ⎢   ⎥\n",
       "⎢                                                                   ⎥   ⎢ 0 ⎥\n",
       "⎢                                v₁₁    v₉                          ⎥   ⎢   ⎥\n",
       "⎢                         I_L3 + ─── - ───                          ⎥   ⎢V₁ ⎥\n",
       "⎢                                R₁₀   R₁₀                          ⎥   ⎢   ⎥\n",
       "⎢                                                                   ⎥   ⎢V₂ ⎥\n",
       "⎢                                       ⎛       1     1 ⎞   v₃   v₁₄⎥   ⎢   ⎥\n",
       "⎢-C₃⋅s⋅v₁₃ - I_V2 - g₁⋅v₂ + g₁⋅v₈ + v₁₂⋅⎜C₃⋅s + ── + ───⎟ - ── - ───⎥   ⎢ 0 ⎥\n",
       "⎢                                       ⎝       R₂   R₁₁⎠   R₂   R₁₁⎥   ⎢   ⎥\n",
       "⎢                                                                   ⎥   ⎢ 0 ⎥\n",
       "⎢          -C₂⋅s⋅v₄ - C₃⋅s⋅v₁₂ - I_L4 + v₁₃⋅(C₂⋅s + C₃⋅s)           ⎥   ⎢   ⎥\n",
       "⎢                                                                   ⎥   ⎢ 0 ⎥\n",
       "⎢                                        ⎛1     1 ⎞   v₅   v₁₂      ⎥   ⎢   ⎥\n",
       "⎢     -I_L3 + I_L4 + g₁⋅v₂ - g₁⋅v₈ + v₁₄⋅⎜── + ───⎟ - ── - ───      ⎥   ⎢ 0 ⎥\n",
       "⎢                                        ⎝R₄   R₁₁⎠   R₄   R₁₁      ⎥   ⎢   ⎥\n",
       "⎢                                                                   ⎥   ⎣ 0 ⎦\n",
       "⎢                             -v₁ + v₆                              ⎥        \n",
       "⎢                                                                   ⎥        \n",
       "⎢                             v₁₀ - v₁₂                             ⎥        \n",
       "⎢                                                                   ⎥        \n",
       "⎢                -I_L3⋅L₃⋅s - I_L4⋅M₁⋅s + v₁₁ - v₁₄                 ⎥        \n",
       "⎢                                                                   ⎥        \n",
       "⎢                       -I_L1⋅L₁⋅s + v₁ - v₅                        ⎥        \n",
       "⎢                                                                   ⎥        \n",
       "⎢                -I_L3⋅M₁⋅s - I_L4⋅L₄⋅s - v₁₃ + v₁₄                 ⎥        \n",
       "⎢                                                                   ⎥        \n",
       "⎢                       -I_L2⋅L₂⋅s + v₄ - v₈                        ⎥        \n",
       "⎢                                                                   ⎥        \n",
       "⎣                        -I_V2⋅h₁ - v₃ + v₇                         ⎦        "
      ]
     },
     "execution_count": 96,
     "metadata": {},
     "output_type": "execute_result"
    }
   ],
   "source": [
    "equ"
   ]
  },
  {
   "cell_type": "code",
   "execution_count": 97,
   "metadata": {},
   "outputs": [
    {
     "data": {
      "image/png": "[encoded data removed]",
      "text/latex": [
       "$\\displaystyle \\left( R_{8}, \\  v_{12}, \\  v_{11}, \\  v_{3}, \\  v_{5}, \\  I_{L3}, \\  C_{3}, \\  v_{4}, \\  h_{1}, \\  I_{L2}, \\  R_{10}, \\  v_{7}, \\  L_{1}, \\  R_{1}, \\  R_{6}, \\  v_{10}, \\  V_{2}, \\  I_{L1}, \\  v_{8}, \\  M_{1}, \\  v_{2}, \\  L_{3}, \\  I_{L4}, \\  R_{7}, \\  I_{V1}, \\  g_{1}, \\  v_{9}, \\  s, \\  L_{4}, \\  v_{14}, \\  v_{13}, \\  R_{4}, \\  C_{2}, \\  R_{11}, \\  R_{5}, \\  R_{3}, \\  v_{6}, \\  I_{V2}, \\  V_{1}, \\  C_{1}, \\  I_{3}, \\  R_{2}, \\  L_{2}, \\  v_{1}, \\  I_{H1}, \\  R_{9}\\right)$"
      ],
      "text/plain": [
       "(R₈, v₁₂, v₁₁, v₃, v₅, I_L3, C₃, v₄, h₁, I_L2, R₁₀, v₇, L₁, R₁, R₆, v₁₀, V₂, I\n",
       "_L1, v₈, M₁, v₂, L₃, I_L4, R₇, I_V1, g₁, v₉, s, L₄, v₁₄, v₁₃, R₄, C₂, R₁₁, R₅,\n",
       " R₃, v₆, I_V2, V₁, C₁, I₃, R₂, L₂, v₁, I_H1, R₉)"
      ]
     },
     "execution_count": 97,
     "metadata": {},
     "output_type": "execute_result"
    }
   ],
   "source": [
    "# turn the free symbols into SymPy variables\n",
    "var(str(equ.free_symbols).replace('{','').replace('}',''))"
   ]
  },
  {
   "cell_type": "markdown",
   "metadata": {},
   "source": [
    "## Symbolic solution"
   ]
  },
  {
   "cell_type": "raw",
   "metadata": {},
   "source": [
    "symbolic_solution = solve(equ,X)"
   ]
  },
  {
   "cell_type": "markdown",
   "metadata": {},
   "source": [
    "## Built a dictionary of element values"
   ]
  },
  {
   "cell_type": "code",
   "execution_count": 122,
   "metadata": {},
   "outputs": [],
   "source": [
    "element_value_keys = []\n",
    "element_value_values = []\n",
    "\n",
    "for i in range(len(df)):\n",
    "    if df.iloc[i]['element'][0] == 'F' or df.iloc[i]['element'][0] == 'E' or df.iloc[i]['element'][0] == 'G' or df.iloc[i]['element'][0] == 'H':\n",
    "        element_value_keys.append(var(df.iloc[i]['element'].lower()))\n",
    "        element_value_values.append(df.iloc[i]['value'])\n",
    "        #print('{:s}:{:f},'.format(df.iloc[i]['element'].lower(),df.iloc[i]['value']))\n",
    "    else:\n",
    "        element_value_keys.append(var(df.iloc[i]['element']))\n",
    "        element_value_values.append(df.iloc[i]['value'])\n",
    "        #print('{:s}:{:.4e},'.format(df.iloc[i]['element'],df.iloc[i]['value']))\n",
    "\n",
    "element_values = dict(zip(element_value_keys, element_value_values))"
   ]
  },
  {
   "cell_type": "code",
   "execution_count": 123,
   "metadata": {},
   "outputs": [
    {
     "name": "stdout",
     "output_type": "stream",
     "text": [
      "mutual inductance, M1 = 0.979795897\n"
     ]
    }
   ],
   "source": [
    "# calculate the coupling constant from the mutual inductance\n",
    "element_values[M1] = element_values[K1]*np.sqrt(element_values[L3] *element_values[L4])\n",
    "print('mutual inductance, M1 = {:.9f}'.format(element_values[M1]))"
   ]
  },
  {
   "cell_type": "code",
   "execution_count": 124,
   "metadata": {},
   "outputs": [
    {
     "data": {
      "image/png": "[encoded data removed]",
      "text/latex": [
       "$\\displaystyle \\left\\{ C_{1} : 0.02279, \\  C_{2} : 0.008443, \\  C_{3} : 0.01266, \\  I_{3} : 2.0, \\  K_{1} : 0.4, \\  L_{1} : 5.0, \\  L_{2} : 7.0, \\  L_{3} : 3.0, \\  L_{4} : 2.0, \\  M_{1} : 0.979795897113271, \\  R_{1} : 100.0, \\  R_{10} : 1.0, \\  R_{11} : 10.0, \\  R_{2} : 20.0, \\  R_{3} : 75.0, \\  R_{4} : 1.0, \\  R_{5} : 10.0, \\  R_{6} : 50.0, \\  R_{7} : 200.0, \\  R_{8} : 100.0, \\  R_{9} : 10.0, \\  V_{1} : 5.0, \\  V_{2} : 1.0, \\  g_{1} : 2.0, \\  h_{1} : 2.0\\right\\}$"
      ],
      "text/plain": [
       "{C₁: 0.02279, C₂: 0.008443, C₃: 0.01266, I₃: 2.0, K₁: 0.4, L₁: 5.0, L₂: 7.0, L\n",
       "₃: 3.0, L₄: 2.0, M₁: 0.9797958971132712, R₁: 100.0, R₁₀: 1.0, R₁₁: 10.0, R₂: 2\n",
       "0.0, R₃: 75.0, R₄: 1.0, R₅: 10.0, R₆: 50.0, R₇: 200.0, R₈: 100.0, R₉: 10.0, V₁\n",
       ": 5.0, V₂: 1.0, g₁: 2.0, h₁: 2.0}"
      ]
     },
     "execution_count": 124,
     "metadata": {},
     "output_type": "execute_result"
    }
   ],
   "source": [
    "element_values"
   ]
  },
  {
   "cell_type": "code",
   "execution_count": 151,
   "metadata": {},
   "outputs": [
    {
     "data": {
      "image/png": "[encoded data removed]",
      "text/latex": [
       "$\\displaystyle 2.0$"
      ],
      "text/plain": [
       "2.0"
      ]
     },
     "execution_count": 151,
     "metadata": {},
     "output_type": "execute_result"
    }
   ],
   "source": [
    "element_values[I3]"
   ]
  },
  {
   "cell_type": "markdown",
   "metadata": {},
   "source": [
    "## Operating point\n"
   ]
  },
  {
   "cell_type": "code",
   "execution_count": 125,
   "metadata": {},
   "outputs": [
    {
     "data": {
      "text/latex": [
       "$\\displaystyle \\left[\\begin{matrix}I_{L1} - I_{V1} - 0.02279 s v_{3} + v_{1} \\cdot \\left(0.02279 s + 0.01\\right) - 0.01 v_{2}\\\\- 0.01 v_{1} - 0.1 v_{10} + 0.11 v_{2}\\\\- I_{H1} - 0.02279 s v_{1} - 0.05 v_{12} + v_{3} \\cdot \\left(0.02279 s + 0.0633333333333333\\right) - 0.0133333333333333 v_{4}\\\\I_{L2} - 0.008443 s v_{13} - 0.0133333333333333 v_{3} + v_{4} \\cdot \\left(0.008443 s + 0.0133333333333333\\right)\\\\- I_{L1} - 1.0 v_{14} + 1.0 v_{5}\\\\I_{V1} + 0.1 v_{6} - 0.1 v_{9}\\\\I_{H1} + 0.02 v_{7}\\\\- I_{L2} + 0.005 v_{8}\\\\- 1.0 v_{11} - 0.1 v_{6} + 1.11 v_{9}\\\\I_{V2} + 0.1 v_{10} - 0.1 v_{2}\\\\I_{L3} + 1.0 v_{11} - 1.0 v_{9}\\\\- I_{V2} - 0.01266 s v_{13} + v_{12} \\cdot \\left(0.01266 s + 0.15\\right) - 0.1 v_{14} - 2.0 v_{2} - 0.05 v_{3} + 2.0 v_{8}\\\\- I_{L4} - 0.01266 s v_{12} + 0.021103 s v_{13} - 0.008443 s v_{4}\\\\- I_{L3} + I_{L4} - 0.1 v_{12} + 1.1 v_{14} + 2.0 v_{2} - 1.0 v_{5} - 2.0 v_{8}\\\\- v_{1} + v_{6}\\\\v_{10} - v_{12}\\\\- 3.0 I_{L3} s - 0.979795897113271 I_{L4} s + v_{11} - v_{14}\\\\- 5.0 I_{L1} s + v_{1} - v_{5}\\\\- 0.979795897113271 I_{L3} s - 2.0 I_{L4} s - v_{13} + v_{14}\\\\- 7.0 I_{L2} s + v_{4} - v_{8}\\\\- 2.0 I_{V2} - v_{3} + v_{7}\\end{matrix}\\right] = \\left[\\begin{matrix}0\\\\0\\\\-2.0\\\\2.0\\\\0\\\\0\\\\0\\\\0\\\\0\\\\0\\\\0\\\\0\\\\0\\\\0\\\\5.0\\\\1.0\\\\0\\\\0\\\\0\\\\0\\\\0\\end{matrix}\\right]$"
      ],
      "text/plain": [
       "⎡                I_L1 - I_V1 - 0.02279⋅s⋅v₃ + v₁⋅(0.02279⋅s + 0.01) - 0.01⋅v₂ \n",
       "⎢                                                                             \n",
       "⎢                                -0.01⋅v₁ - 0.1⋅v₁₀ + 0.11⋅v₂                 \n",
       "⎢                                                                             \n",
       "⎢-I_H1 - 0.02279⋅s⋅v₁ - 0.05⋅v₁₂ + v₃⋅(0.02279⋅s + 0.0633333333333333) - 0.013\n",
       "⎢                                                                             \n",
       "⎢    I_L2 - 0.008443⋅s⋅v₁₃ - 0.0133333333333333⋅v₃ + v₄⋅(0.008443⋅s + 0.013333\n",
       "⎢                                                                             \n",
       "⎢                                    -I_L1 - v₁₄ + 1.0⋅v₅                     \n",
       "⎢                                                                             \n",
       "⎢                                   I_V1 + 0.1⋅v₆ - 0.1⋅v₉                    \n",
       "⎢                                                                             \n",
       "⎢                                       I_H1 + 0.02⋅v₇                        \n",
       "⎢                                                                             \n",
       "⎢                                      -I_L2 + 0.005⋅v₈                       \n",
       "⎢                                                                             \n",
       "⎢                                   -v₁₁ - 0.1⋅v₆ + 1.11⋅v₉                   \n",
       "⎢                                                                             \n",
       "⎢                                   I_V2 + 0.1⋅v₁₀ - 0.1⋅v₂                   \n",
       "⎢                                                                             \n",
       "⎢                                     I_L3 + 1.0⋅v₁₁ - v₉                     \n",
       "⎢                                                                             \n",
       "⎢    -I_V2 - 0.01266⋅s⋅v₁₃ + v₁₂⋅(0.01266⋅s + 0.15) - 0.1⋅v₁₄ - 2.0⋅v₂ - 0.05⋅\n",
       "⎢                                                                             \n",
       "⎢                   -I_L4 - 0.01266⋅s⋅v₁₂ + 0.021103⋅s⋅v₁₃ - 0.008443⋅s⋅v₄    \n",
       "⎢                                                                             \n",
       "⎢                   -I_L3 + I_L4 - 0.1⋅v₁₂ + 1.1⋅v₁₄ + 2.0⋅v₂ - v₅ - 2.0⋅v₈   \n",
       "⎢                                                                             \n",
       "⎢                                          -v₁ + v₆                           \n",
       "⎢                                                                             \n",
       "⎢                                          v₁₀ - v₁₂                          \n",
       "⎢                                                                             \n",
       "⎢                     -3.0⋅I_L3⋅s - 0.979795897113271⋅I_L4⋅s + v₁₁ - v₁₄      \n",
       "⎢                                                                             \n",
       "⎢                                    -5.0⋅I_L1⋅s + v₁ - v₅                    \n",
       "⎢                                                                             \n",
       "⎢                     -0.979795897113271⋅I_L3⋅s - 2.0⋅I_L4⋅s - v₁₃ + v₁₄      \n",
       "⎢                                                                             \n",
       "⎢                                    -7.0⋅I_L2⋅s + v₄ - v₈                    \n",
       "⎢                                                                             \n",
       "⎣                                     -2.0⋅I_V2 - v₃ + v₇                     \n",
       "\n",
       "                ⎤   ⎡ 0  ⎤\n",
       "                ⎥   ⎢    ⎥\n",
       "                ⎥   ⎢ 0  ⎥\n",
       "                ⎥   ⎢    ⎥\n",
       "3333333333333⋅v₄⎥   ⎢-2.0⎥\n",
       "                ⎥   ⎢    ⎥\n",
       "3333333333)     ⎥   ⎢2.0 ⎥\n",
       "                ⎥   ⎢    ⎥\n",
       "                ⎥   ⎢ 0  ⎥\n",
       "                ⎥   ⎢    ⎥\n",
       "                ⎥   ⎢ 0  ⎥\n",
       "                ⎥   ⎢    ⎥\n",
       "                ⎥   ⎢ 0  ⎥\n",
       "                ⎥   ⎢    ⎥\n",
       "                ⎥   ⎢ 0  ⎥\n",
       "                ⎥   ⎢    ⎥\n",
       "                ⎥   ⎢ 0  ⎥\n",
       "                ⎥   ⎢    ⎥\n",
       "                ⎥   ⎢ 0  ⎥\n",
       "                ⎥   ⎢    ⎥\n",
       "                ⎥ = ⎢ 0  ⎥\n",
       "                ⎥   ⎢    ⎥\n",
       "v₃ + 2.0⋅v₈     ⎥   ⎢ 0  ⎥\n",
       "                ⎥   ⎢    ⎥\n",
       "                ⎥   ⎢ 0  ⎥\n",
       "                ⎥   ⎢    ⎥\n",
       "                ⎥   ⎢ 0  ⎥\n",
       "                ⎥   ⎢    ⎥\n",
       "                ⎥   ⎢5.0 ⎥\n",
       "                ⎥   ⎢    ⎥\n",
       "                ⎥   ⎢1.0 ⎥\n",
       "                ⎥   ⎢    ⎥\n",
       "                ⎥   ⎢ 0  ⎥\n",
       "                ⎥   ⎢    ⎥\n",
       "                ⎥   ⎢ 0  ⎥\n",
       "                ⎥   ⎢    ⎥\n",
       "                ⎥   ⎢ 0  ⎥\n",
       "                ⎥   ⎢    ⎥\n",
       "                ⎥   ⎢ 0  ⎥\n",
       "                ⎥   ⎢    ⎥\n",
       "                ⎦   ⎣ 0  ⎦"
      ]
     },
     "execution_count": 125,
     "metadata": {},
     "output_type": "execute_result"
    }
   ],
   "source": [
    "equ_values = equ.subs(element_values)\n",
    "equ_values"
   ]
  },
  {
   "cell_type": "code",
   "execution_count": 126,
   "metadata": {},
   "outputs": [
    {
     "data": {
      "text/latex": [
       "$\\displaystyle \\left[\\begin{matrix}I_{L1} - I_{V1} + 0.01 v_{1} - 0.01 v_{2}\\\\- 0.01 v_{1} - 0.1 v_{10} + 0.11 v_{2}\\\\- I_{H1} - 0.05 v_{12} + 0.0633333333333333 v_{3} - 0.0133333333333333 v_{4}\\\\I_{L2} - 0.0133333333333333 v_{3} + 0.0133333333333333 v_{4}\\\\- I_{L1} - 1.0 v_{14} + 1.0 v_{5}\\\\I_{V1} + 0.1 v_{6} - 0.1 v_{9}\\\\I_{H1} + 0.02 v_{7}\\\\- I_{L2} + 0.005 v_{8}\\\\- 1.0 v_{11} - 0.1 v_{6} + 1.11 v_{9}\\\\I_{V2} + 0.1 v_{10} - 0.1 v_{2}\\\\I_{L3} + 1.0 v_{11} - 1.0 v_{9}\\\\- I_{V2} + 0.15 v_{12} - 0.1 v_{14} - 2.0 v_{2} - 0.05 v_{3} + 2.0 v_{8}\\\\- I_{L4}\\\\- I_{L3} + I_{L4} - 0.1 v_{12} + 1.1 v_{14} + 2.0 v_{2} - 1.0 v_{5} - 2.0 v_{8}\\\\- v_{1} + v_{6}\\\\v_{10} - v_{12}\\\\v_{11} - v_{14}\\\\v_{1} - v_{5}\\\\- v_{13} + v_{14}\\\\v_{4} - v_{8}\\\\- 2.0 I_{V2} - v_{3} + v_{7}\\end{matrix}\\right] = \\left[\\begin{matrix}0\\\\0\\\\-2.0\\\\2.0\\\\0\\\\0\\\\0\\\\0\\\\0\\\\0\\\\0\\\\0\\\\0\\\\0\\\\5.0\\\\1.0\\\\0\\\\0\\\\0\\\\0\\\\0\\end{matrix}\\right]$"
      ],
      "text/plain": [
       "⎡                I_L1 - I_V1 + 0.01⋅v₁ - 0.01⋅v₂                 ⎤   ⎡ 0  ⎤\n",
       "⎢                                                                ⎥   ⎢    ⎥\n",
       "⎢                  -0.01⋅v₁ - 0.1⋅v₁₀ + 0.11⋅v₂                  ⎥   ⎢ 0  ⎥\n",
       "⎢                                                                ⎥   ⎢    ⎥\n",
       "⎢-I_H1 - 0.05⋅v₁₂ + 0.0633333333333333⋅v₃ - 0.0133333333333333⋅v₄⎥   ⎢-2.0⎥\n",
       "⎢                                                                ⎥   ⎢    ⎥\n",
       "⎢      I_L2 - 0.0133333333333333⋅v₃ + 0.0133333333333333⋅v₄      ⎥   ⎢2.0 ⎥\n",
       "⎢                                                                ⎥   ⎢    ⎥\n",
       "⎢                      -I_L1 - v₁₄ + 1.0⋅v₅                      ⎥   ⎢ 0  ⎥\n",
       "⎢                                                                ⎥   ⎢    ⎥\n",
       "⎢                     I_V1 + 0.1⋅v₆ - 0.1⋅v₉                     ⎥   ⎢ 0  ⎥\n",
       "⎢                                                                ⎥   ⎢    ⎥\n",
       "⎢                         I_H1 + 0.02⋅v₇                         ⎥   ⎢ 0  ⎥\n",
       "⎢                                                                ⎥   ⎢    ⎥\n",
       "⎢                        -I_L2 + 0.005⋅v₈                        ⎥   ⎢ 0  ⎥\n",
       "⎢                                                                ⎥   ⎢    ⎥\n",
       "⎢                    -v₁₁ - 0.1⋅v₆ + 1.11⋅v₉                     ⎥   ⎢ 0  ⎥\n",
       "⎢                                                                ⎥   ⎢    ⎥\n",
       "⎢                    I_V2 + 0.1⋅v₁₀ - 0.1⋅v₂                     ⎥   ⎢ 0  ⎥\n",
       "⎢                                                                ⎥   ⎢    ⎥\n",
       "⎢                      I_L3 + 1.0⋅v₁₁ - v₉                       ⎥ = ⎢ 0  ⎥\n",
       "⎢                                                                ⎥   ⎢    ⎥\n",
       "⎢     -I_V2 + 0.15⋅v₁₂ - 0.1⋅v₁₄ - 2.0⋅v₂ - 0.05⋅v₃ + 2.0⋅v₈     ⎥   ⎢ 0  ⎥\n",
       "⎢                                                                ⎥   ⎢    ⎥\n",
       "⎢                             -I_L4                              ⎥   ⎢ 0  ⎥\n",
       "⎢                                                                ⎥   ⎢    ⎥\n",
       "⎢    -I_L3 + I_L4 - 0.1⋅v₁₂ + 1.1⋅v₁₄ + 2.0⋅v₂ - v₅ - 2.0⋅v₈     ⎥   ⎢ 0  ⎥\n",
       "⎢                                                                ⎥   ⎢    ⎥\n",
       "⎢                            -v₁ + v₆                            ⎥   ⎢5.0 ⎥\n",
       "⎢                                                                ⎥   ⎢    ⎥\n",
       "⎢                           v₁₀ - v₁₂                            ⎥   ⎢1.0 ⎥\n",
       "⎢                                                                ⎥   ⎢    ⎥\n",
       "⎢                           v₁₁ - v₁₄                            ⎥   ⎢ 0  ⎥\n",
       "⎢                                                                ⎥   ⎢    ⎥\n",
       "⎢                            v₁ - v₅                             ⎥   ⎢ 0  ⎥\n",
       "⎢                                                                ⎥   ⎢    ⎥\n",
       "⎢                           -v₁₃ + v₁₄                           ⎥   ⎢ 0  ⎥\n",
       "⎢                                                                ⎥   ⎢    ⎥\n",
       "⎢                            v₄ - v₈                             ⎥   ⎢ 0  ⎥\n",
       "⎢                                                                ⎥   ⎢    ⎥\n",
       "⎣                      -2.0⋅I_V2 - v₃ + v₇                       ⎦   ⎣ 0  ⎦"
      ]
     },
     "execution_count": 126,
     "metadata": {},
     "output_type": "execute_result"
    }
   ],
   "source": [
    "equ_values_dc = equ_values.subs({s:0})\n",
    "equ_values_dc  # display the equations"
   ]
  },
  {
   "cell_type": "code",
   "execution_count": 184,
   "metadata": {
    "collapsed": false,
    "jupyter": {
     "outputs_hidden": false
    }
   },
   "outputs": [
    {
     "data": {
      "image/png": "[encoded data removed]",
      "text/latex": [
       "$\\displaystyle \\left\\{ I_{H1} : -11.5738896073146, \\  I_{L1} : 20.3047789474962, \\  I_{L2} : 2.80469316139686, \\  I_{L3} : 15.3718733304192, \\  I_{L4} : 0.0, \\  I_{V1} : -0.993290561707708, \\  I_{V2} : -21.2980695092039, \\  v_{1} : -1432.92537125407, \\  v_{10} : 909.862274758366, \\  v_{11} : -1453.23015020156, \\  v_{12} : 908.862274758366, \\  v_{13} : -1453.23015020156, \\  v_{14} : -1453.23015020156, \\  v_{2} : 696.881579666327, \\  v_{3} : 621.290619384137, \\  v_{4} : 560.938632279372, \\  v_{5} : -1432.92537125407, \\  v_{6} : -1427.92537125407, \\  v_{7} : 578.694480365729, \\  v_{8} : 560.938632279372, \\  v_{9} : -1437.85827687114\\right\\}$"
      ],
      "text/plain": [
       "{I_H1: -11.5738896073146, I_L1: 20.3047789474962, I_L2: 2.80469316139686, I_L3\n",
       ": 15.3718733304192, I_L4: 0.0, I_V1: -0.993290561707708, I_V2: -21.29806950920\n",
       "39, v₁: -1432.92537125407, v₁₀: 909.862274758366, v₁₁: -1453.23015020156, v₁₂:\n",
       " 908.862274758366, v₁₃: -1453.23015020156, v₁₄: -1453.23015020156, v₂: 696.881\n",
       "579666327, v₃: 621.290619384137, v₄: 560.938632279372, v₅: -1432.92537125407, \n",
       "v₆: -1427.92537125407, v₇: 578.694480365729, v₈: 560.938632279372, v₉: -1437.8\n",
       "5827687114}"
      ]
     },
     "execution_count": 184,
     "metadata": {},
     "output_type": "execute_result"
    }
   ],
   "source": [
    "U_dc = solve(equ_values_dc,X)\n",
    "U_dc"
   ]
  },
  {
   "cell_type": "code",
   "execution_count": 196,
   "metadata": {},
   "outputs": [
    {
     "name": "stdout",
     "output_type": "stream",
     "text": [
      "unknown            mag    phase, deg\n",
      "---------  -----------  ------------\n",
      "v1         1432.925371    180.000000\n",
      "v2          696.881580      0.000000\n",
      "v3          621.290619      0.000000\n",
      "v4          560.938632      0.000000\n",
      "v5         1432.925371    180.000000\n",
      "v6         1427.925371    180.000000\n",
      "v7          578.694480      0.000000\n",
      "v8          560.938632      0.000000\n",
      "v9         1437.858277    180.000000\n",
      "v10         909.862275      0.000000\n",
      "v11        1453.230150    180.000000\n",
      "v12         908.862275      0.000000\n",
      "v13        1453.230150    180.000000\n",
      "v14        1453.230150    180.000000\n",
      "I_V1          0.993291    180.000000\n",
      "I_V2         21.298070    180.000000\n",
      "I_L3         15.371873      0.000000\n",
      "I_L1         20.304779      0.000000\n",
      "I_L4          0.000000    nan\n",
      "I_L2          2.804693      0.000000\n",
      "I_H1         11.573890    180.000000\n"
     ]
    }
   ],
   "source": [
    "table_header = ['unknown', 'mag','phase, deg']\n",
    "table_row = []\n",
    "\n",
    "for name, value in U_dc.items():\n",
    "    table_row.append([str(name),float(abs(value)),float(arg(value)*180/np.pi)])\n",
    "\n",
    "print(tabulate(table_row, headers=table_header,colalign = ('left','decimal','decimal'),tablefmt=\"simple\",floatfmt=('5s','.6f','.6f')))"
   ]
  },
  {
   "cell_type": "markdown",
   "metadata": {
    "tags": []
   },
   "source": [
    "LTSpice results:  \n",
    "```\n",
    "--- Operating Point ---\n",
    "V(6):\t -1427.93\t voltage\n",
    "V(1):\t -1432.93\t voltage\n",
    "V(10):\t 909.862\t voltage\n",
    "V(12):\t 908.862\t voltage\n",
    "V(3):\t 621.291\t voltage\n",
    "V(4):\t 560.939\t voltage\n",
    "V(11):\t -1453.23\t voltage\n",
    "V(14):\t -1453.23\t voltage\n",
    "V(5):\t -1432.93\t voltage\n",
    "V(13):\t -1453.23\t voltage\n",
    "V(8):\t 560.939\t voltage\n",
    "V(7):\t 578.694\t voltage\n",
    "V(2):\t 696.882\t voltage\n",
    "V(9):\t -1437.86\t voltage\n",
    "I(C1):\t 4.68156e-11\t device_current\n",
    "I(C2):\t 1.70056e-11\t device_current\n",
    "I(C3):\t -2.99041e-11\t device_current\n",
    "I(H1):\t -11.5739\t device_current\n",
    "I(L3):\t 15.3719\t device_current\n",
    "I(L1):\t 20.3048\t device_current\n",
    "I(L4):\t -4.69091e-11\t device_current\n",
    "I(L2):\t 2.80469\t device_current\n",
    "I(I3):\t 2\t device_current\n",
    "I(R9):\t -21.2981\t device_current\n",
    "I(R6):\t 11.5739\t device_current\n",
    "I(R4):\t 20.3048\t device_current\n",
    "I(R1):\t -21.2981\t device_current\n",
    "I(R3):\t 0.804693\t device_current\n",
    "I(R7):\t -2.80469\t device_current\n",
    "I(R11):\t -236.209\t device_current\n",
    "I(R5):\t 0.993291\t device_current\n",
    "I(R10):\t 15.3719\t device_current\n",
    "I(R8):\t -14.3786\t device_current\n",
    "I(R2):\t -14.3786\t device_current\n",
    "I(G1):\t -271.886\t device_current\n",
    "I(V1):\t -0.993291\t device_current\n",
    "I(V2):\t -21.2981\t device_current\n",
    "```\n"
   ]
  },
  {
   "cell_type": "markdown",
   "metadata": {},
   "source": [
    "## Independednt sources with the same frequency"
   ]
  },
  {
   "cell_type": "code",
   "execution_count": 187,
   "metadata": {},
   "outputs": [],
   "source": [
    "ev_w = element_values.copy() # ev for element values"
   ]
  },
  {
   "cell_type": "code",
   "execution_count": 188,
   "metadata": {},
   "outputs": [],
   "source": [
    "ev_w[I3] = polar(3, 300, units='deg')\n",
    "ev_w[V2] = polar(1, 35, units='deg')\n",
    "ev_w[V1] = polar(7, 135, units='deg')"
   ]
  },
  {
   "cell_type": "code",
   "execution_count": 189,
   "metadata": {},
   "outputs": [
    {
     "data": {
      "text/plain": [
       "{V1: (-4.949747468305832+4.949747468305833j),\n",
       " V2: (0.8191520442889918+0.573576436351046j),\n",
       " I3: (1.5000000000000004-2.598076211353316j),\n",
       " L3: 3.0,\n",
       " L1: 5.0,\n",
       " L4: 2.0,\n",
       " L2: 7.0,\n",
       " h1: 2.0,\n",
       " g1: 2.0,\n",
       " C1: 0.02279,\n",
       " C2: 0.008443,\n",
       " C3: 0.01266,\n",
       " R9: 10.0,\n",
       " R6: 50.0,\n",
       " R4: 1.0,\n",
       " R1: 100.0,\n",
       " R3: 75.0,\n",
       " R7: 200.0,\n",
       " R11: 10.0,\n",
       " R5: 10.0,\n",
       " R10: 1.0,\n",
       " R8: 100.0,\n",
       " R2: 20.0,\n",
       " K1: 0.4,\n",
       " M1: 0.9797958971132712}"
      ]
     },
     "execution_count": 189,
     "metadata": {},
     "output_type": "execute_result"
    }
   ],
   "source": [
    "ev_w"
   ]
  },
  {
   "cell_type": "code",
   "execution_count": 190,
   "metadata": {},
   "outputs": [],
   "source": [
    "equ_ev_w = equ.subs(ev_w)"
   ]
  },
  {
   "cell_type": "code",
   "execution_count": 191,
   "metadata": {},
   "outputs": [],
   "source": [
    "equ_ev_w = equ_ev_w.subs({s:2*np.pi*3j})"
   ]
  },
  {
   "cell_type": "code",
   "execution_count": 192,
   "metadata": {},
   "outputs": [
    {
     "data": {
      "text/latex": [
       "$\\displaystyle \\left[\\begin{matrix}I_{L1} - I_{V1} + v_{1} \\cdot \\left(0.01 + 0.429581379451868 i\\right) - 0.01 v_{2} - 0.429581379451868 i v_{3}\\\\- 0.01 v_{1} - 0.1 v_{10} + 0.11 v_{2}\\\\- I_{H1} - 0.429581379451868 i v_{1} - 0.05 v_{12} + v_{3} \\cdot \\left(0.0633333333333333 + 0.429581379451868 i\\right) - 0.0133333333333333 v_{4}\\\\I_{L2} - 0.159146800645552 i v_{13} - 0.0133333333333333 v_{3} + v_{4} \\cdot \\left(0.0133333333333333 + 0.159146800645552 i\\right)\\\\- I_{L1} - 1.0 v_{14} + 1.0 v_{5}\\\\I_{V1} + 0.1 v_{6} - 0.1 v_{9}\\\\I_{H1} + 0.02 v_{7}\\\\- I_{L2} + 0.005 v_{8}\\\\- 1.0 v_{11} - 0.1 v_{6} + 1.11 v_{9}\\\\I_{V2} + 0.1 v_{10} - 0.1 v_{2}\\\\I_{L3} + 1.0 v_{11} - 1.0 v_{9}\\\\- I_{V2} + v_{12} \\cdot \\left(0.15 + 0.238635377966681 i\\right) - 0.238635377966681 i v_{13} - 0.1 v_{14} - 2.0 v_{2} - 0.05 v_{3} + 2.0 v_{8}\\\\- I_{L4} - 0.238635377966681 i v_{12} + 0.397782178612232 i v_{13} - 0.159146800645552 i v_{4}\\\\- I_{L3} + I_{L4} - 0.1 v_{12} + 1.1 v_{14} + 2.0 v_{2} - 1.0 v_{5} - 2.0 v_{8}\\\\- v_{1} + v_{6}\\\\v_{10} - v_{12}\\\\- 56.5486677646163 i I_{L3} - 18.4687175543308 i I_{L4} + v_{11} - v_{14}\\\\- 94.2477796076938 i I_{L1} + v_{1} - v_{5}\\\\- 18.4687175543308 i I_{L3} - 37.6991118430775 i I_{L4} - v_{13} + v_{14}\\\\- 131.946891450771 i I_{L2} + v_{4} - v_{8}\\\\- 2.0 I_{V2} - v_{3} + v_{7}\\end{matrix}\\right] = \\left[\\begin{matrix}0\\\\0\\\\-1.5 + 2.59807621135332 i\\\\1.5 - 2.59807621135332 i\\\\0\\\\0\\\\0\\\\0\\\\0\\\\0\\\\0\\\\0\\\\0\\\\0\\\\-4.94974746830583 + 4.94974746830583 i\\\\0.819152044288992 + 0.573576436351046 i\\\\0\\\\0\\\\0\\\\0\\\\0\\end{matrix}\\right]$"
      ],
      "text/plain": [
       "⎡                I_L1 - I_V1 + v₁⋅(0.01 + 0.429581379451868⋅ⅈ) - 0.01⋅v₂ - 0.4\n",
       "⎢                                                                             \n",
       "⎢                                          -0.01⋅v₁ - 0.1⋅v₁₀ + 0.11⋅v₂       \n",
       "⎢                                                                             \n",
       "⎢-I_H1 - 0.429581379451868⋅ⅈ⋅v₁ - 0.05⋅v₁₂ + v₃⋅(0.0633333333333333 + 0.429581\n",
       "⎢                                                                             \n",
       "⎢     I_L2 - 0.159146800645552⋅ⅈ⋅v₁₃ - 0.0133333333333333⋅v₃ + v₄⋅(0.013333333\n",
       "⎢                                                                             \n",
       "⎢                                              -I_L1 - v₁₄ + 1.0⋅v₅           \n",
       "⎢                                                                             \n",
       "⎢                                             I_V1 + 0.1⋅v₆ - 0.1⋅v₉          \n",
       "⎢                                                                             \n",
       "⎢                                                 I_H1 + 0.02⋅v₇              \n",
       "⎢                                                                             \n",
       "⎢                                                -I_L2 + 0.005⋅v₈             \n",
       "⎢                                                                             \n",
       "⎢                                             -v₁₁ - 0.1⋅v₆ + 1.11⋅v₉         \n",
       "⎢                                                                             \n",
       "⎢                                             I_V2 + 0.1⋅v₁₀ - 0.1⋅v₂         \n",
       "⎢                                                                             \n",
       "⎢                                               I_L3 + 1.0⋅v₁₁ - v₉           \n",
       "⎢                                                                             \n",
       "⎢    -I_V2 + v₁₂⋅(0.15 + 0.238635377966681⋅ⅈ) - 0.238635377966681⋅ⅈ⋅v₁₃ - 0.1⋅\n",
       "⎢                                                                             \n",
       "⎢               -I_L4 - 0.238635377966681⋅ⅈ⋅v₁₂ + 0.397782178612232⋅ⅈ⋅v₁₃ - 0.\n",
       "⎢                                                                             \n",
       "⎢                             -I_L3 + I_L4 - 0.1⋅v₁₂ + 1.1⋅v₁₄ + 2.0⋅v₂ - v₅ -\n",
       "⎢                                                                             \n",
       "⎢                                                    -v₁ + v₆                 \n",
       "⎢                                                                             \n",
       "⎢                                                    v₁₀ - v₁₂                \n",
       "⎢                                                                             \n",
       "⎢                         -56.5486677646163⋅ⅈ⋅I_L3 - 18.4687175543308⋅ⅈ⋅I_L4 +\n",
       "⎢                                                                             \n",
       "⎢                                       -94.2477796076938⋅ⅈ⋅I_L1 + v₁ - v₅    \n",
       "⎢                                                                             \n",
       "⎢                         -18.4687175543308⋅ⅈ⋅I_L3 - 37.6991118430775⋅ⅈ⋅I_L4 -\n",
       "⎢                                                                             \n",
       "⎢                                       -131.946891450771⋅ⅈ⋅I_L2 + v₄ - v₈    \n",
       "⎢                                                                             \n",
       "⎣                                               -2.0⋅I_V2 - v₃ + v₇           \n",
       "\n",
       "29581379451868⋅ⅈ⋅v₃                 ⎤   ⎡                   0                 \n",
       "                                    ⎥   ⎢                                     \n",
       "                                    ⎥   ⎢                   0                 \n",
       "                                    ⎥   ⎢                                     \n",
       "379451868⋅ⅈ) - 0.0133333333333333⋅v₄⎥   ⎢       -1.5 + 2.59807621135332⋅ⅈ     \n",
       "                                    ⎥   ⎢                                     \n",
       "3333333 + 0.159146800645552⋅ⅈ)      ⎥   ⎢       1.5 - 2.59807621135332⋅ⅈ      \n",
       "                                    ⎥   ⎢                                     \n",
       "                                    ⎥   ⎢                   0                 \n",
       "                                    ⎥   ⎢                                     \n",
       "                                    ⎥   ⎢                   0                 \n",
       "                                    ⎥   ⎢                                     \n",
       "                                    ⎥   ⎢                   0                 \n",
       "                                    ⎥   ⎢                                     \n",
       "                                    ⎥   ⎢                   0                 \n",
       "                                    ⎥   ⎢                                     \n",
       "                                    ⎥   ⎢                   0                 \n",
       "                                    ⎥   ⎢                                     \n",
       "                                    ⎥   ⎢                   0                 \n",
       "                                    ⎥   ⎢                                     \n",
       "                                    ⎥ = ⎢                   0                 \n",
       "                                    ⎥   ⎢                                     \n",
       "v₁₄ - 2.0⋅v₂ - 0.05⋅v₃ + 2.0⋅v₈     ⎥   ⎢                   0                 \n",
       "                                    ⎥   ⎢                                     \n",
       "159146800645552⋅ⅈ⋅v₄                ⎥   ⎢                   0                 \n",
       "                                    ⎥   ⎢                                     \n",
       " 2.0⋅v₈                             ⎥   ⎢                   0                 \n",
       "                                    ⎥   ⎢                                     \n",
       "                                    ⎥   ⎢-4.94974746830583 + 4.94974746830583⋅\n",
       "                                    ⎥   ⎢                                     \n",
       "                                    ⎥   ⎢0.819152044288992 + 0.573576436351046\n",
       "                                    ⎥   ⎢                                     \n",
       " v₁₁ - v₁₄                          ⎥   ⎢                   0                 \n",
       "                                    ⎥   ⎢                                     \n",
       "                                    ⎥   ⎢                   0                 \n",
       "                                    ⎥   ⎢                                     \n",
       " v₁₃ + v₁₄                          ⎥   ⎢                   0                 \n",
       "                                    ⎥   ⎢                                     \n",
       "                                    ⎥   ⎢                   0                 \n",
       "                                    ⎥   ⎢                                     \n",
       "                                    ⎦   ⎣                   0                 \n",
       "\n",
       "  ⎤\n",
       "  ⎥\n",
       "  ⎥\n",
       "  ⎥\n",
       "  ⎥\n",
       "  ⎥\n",
       "  ⎥\n",
       "  ⎥\n",
       "  ⎥\n",
       "  ⎥\n",
       "  ⎥\n",
       "  ⎥\n",
       "  ⎥\n",
       "  ⎥\n",
       "  ⎥\n",
       "  ⎥\n",
       "  ⎥\n",
       "  ⎥\n",
       "  ⎥\n",
       "  ⎥\n",
       "  ⎥\n",
       "  ⎥\n",
       "  ⎥\n",
       "  ⎥\n",
       "  ⎥\n",
       "  ⎥\n",
       "  ⎥\n",
       "  ⎥\n",
       "ⅈ ⎥\n",
       "  ⎥\n",
       "⋅ⅈ⎥\n",
       "  ⎥\n",
       "  ⎥\n",
       "  ⎥\n",
       "  ⎥\n",
       "  ⎥\n",
       "  ⎥\n",
       "  ⎥\n",
       "  ⎥\n",
       "  ⎥\n",
       "  ⎦"
      ]
     },
     "execution_count": 192,
     "metadata": {},
     "output_type": "execute_result"
    }
   ],
   "source": [
    "equ_ev_w"
   ]
  },
  {
   "cell_type": "code",
   "execution_count": 193,
   "metadata": {},
   "outputs": [
    {
     "data": {
      "image/png": "[encoded data removed]",
      "text/latex": [
       "$\\displaystyle \\left\\{ I_{H1} : -0.153544437655104 - 0.0892500106463104 i, \\  I_{L1} : 3.54302617527629 + 2.81001510230497 i, \\  I_{L2} : 0.945703908332592 + 0.362574674184583 i, \\  I_{L3} : 10.4231744502691 + 8.54663272904898 i, \\  I_{L4} : -18.259482746311 - 6.1397795231405 i, \\  I_{V1} : -9.32392610428119 - 8.09480804421826 i, \\  I_{V2} : -2.15750009464392 - 0.711695486372941 i, \\  v_{1} : -11.7358260876709 + 30.815864490805 i, \\  v_{10} : 225.58918432316 + 109.102367991829 i, \\  v_{11} : -120.348009049058 - 53.7291012121207 i, \\  v_{12} : 224.770032278871 + 108.528791555478 i, \\  v_{13} : 175.939942772077 + 189.947116585154 i, \\  v_{14} : 249.558831793383 - 305.91650072323 i, \\  v_{2} : 204.014183376721 + 101.985413128099 i, \\  v_{3} : 11.992222072043 + 5.8858915050614 i, \\  v_{4} : 141.300180489087 + 197.297625774247 i, \\  v_{5} : 253.101857968659 - 303.106485620925 i, \\  v_{6} : -16.6855735559768 + 35.7656119591109 i, \\  v_{7} : 7.6772218827552 + 4.46250053231552 i, \\  v_{8} : 189.140781666518 + 72.5149348369166 i, \\  v_{9} : -109.924834598789 - 45.1824684830717 i\\right\\}$"
      ],
      "text/plain": [
       "{I_H1: -0.153544437655104 - 0.0892500106463104⋅ⅈ, I_L1: 3.54302617527629 + 2.8\n",
       "1001510230497⋅ⅈ, I_L2: 0.945703908332592 + 0.362574674184583⋅ⅈ, I_L3: 10.42317\n",
       "44502691 + 8.54663272904898⋅ⅈ, I_L4: -18.259482746311 - 6.1397795231405⋅ⅈ, I_V\n",
       "1: -9.32392610428119 - 8.09480804421826⋅ⅈ, I_V2: -2.15750009464392 - 0.7116954\n",
       "86372941⋅ⅈ, v₁: -11.7358260876709 + 30.815864490805⋅ⅈ, v₁₀: 225.58918432316 + \n",
       "109.102367991829⋅ⅈ, v₁₁: -120.348009049058 - 53.7291012121207⋅ⅈ, v₁₂: 224.7700\n",
       "32278871 + 108.528791555478⋅ⅈ, v₁₃: 175.939942772077 + 189.947116585154⋅ⅈ, v₁₄\n",
       ": 249.558831793383 - 305.91650072323⋅ⅈ, v₂: 204.014183376721 + 101.98541312809\n",
       "9⋅ⅈ, v₃: 11.992222072043 + 5.8858915050614⋅ⅈ, v₄: 141.300180489087 + 197.29762\n",
       "5774247⋅ⅈ, v₅: 253.101857968659 - 303.106485620925⋅ⅈ, v₆: -16.6855735559768 + \n",
       "35.7656119591109⋅ⅈ, v₇: 7.6772218827552 + 4.46250053231552⋅ⅈ, v₈: 189.14078166\n",
       "6518 + 72.5149348369166⋅ⅈ, v₉: -109.924834598789 - 45.1824684830717⋅ⅈ}"
      ]
     },
     "execution_count": 193,
     "metadata": {},
     "output_type": "execute_result"
    }
   ],
   "source": [
    "U_w = solve(equ_ev_w,X)\n",
    "U_w"
   ]
  },
  {
   "cell_type": "code",
   "execution_count": 197,
   "metadata": {},
   "outputs": [
    {
     "name": "stdout",
     "output_type": "stream",
     "text": [
      "unknown           mag    phase, deg\n",
      "---------  ----------  ------------\n",
      "v1          32.974947    110.848692\n",
      "v2         228.085097     26.560180\n",
      "v3          13.358784     26.142224\n",
      "v4         242.676934     54.390602\n",
      "v5         394.884910    -50.137234\n",
      "v6          39.466281    115.010256\n",
      "v7           8.879958     30.167939\n",
      "v8         202.565177     20.976390\n",
      "v9         118.848327   -157.655839\n",
      "v10        250.586925     25.809942\n",
      "v11        131.797039   -155.941733\n",
      "v12        249.599812     25.773280\n",
      "v13        258.910739     47.192371\n",
      "v14        394.796803    -50.793317\n",
      "I_V1        12.347531   -139.036272\n",
      "I_V2         2.271853   -161.743805\n",
      "I_L3        13.479150     39.350535\n",
      "I_L1         4.522081     38.418341\n",
      "I_L4        19.264101   -161.414701\n",
      "I_L2         1.012826     20.976390\n",
      "I_H1         0.177599   -149.832061\n"
     ]
    }
   ],
   "source": [
    "table_header = ['unknown', 'mag','phase, deg']\n",
    "table_row = []\n",
    "\n",
    "for name, value in U_w.items():\n",
    "    table_row.append([str(name),float(abs(value)),float(arg(value)*180/np.pi)])\n",
    "\n",
    "print(tabulate(table_row, headers=table_header,colalign = ('left','decimal','decimal'),tablefmt=\"simple\",floatfmt=('5s','.6f','.6f')))"
   ]
  },
  {
   "cell_type": "code",
   "execution_count": null,
   "metadata": {},
   "outputs": [],
   "source": []
  },
  {
   "cell_type": "code",
   "execution_count": null,
   "metadata": {},
   "outputs": [],
   "source": []
  },
  {
   "cell_type": "code",
   "execution_count": null,
   "metadata": {},
   "outputs": [],
   "source": []
  },
  {
   "cell_type": "code",
   "execution_count": 173,
   "metadata": {},
   "outputs": [
    {
     "data": {
      "image/png": "[encoded data removed]",
      "text/latex": [
       "$\\displaystyle -215.750009464392 - 71.1695486372941 i$"
      ],
      "text/plain": [
       "-215.750009464392 - 71.1695486372941⋅ⅈ"
      ]
     },
     "execution_count": 173,
     "metadata": {},
     "output_type": "execute_result"
    }
   ],
   "source": [
    "ans1[v1]-ans1[v2]"
   ]
  },
  {
   "cell_type": "code",
   "execution_count": 174,
   "metadata": {},
   "outputs": [
    {
     "data": {
      "image/png": "[encoded data removed]",
      "text/latex": [
       "$\\displaystyle 227.185323551328$"
      ],
      "text/plain": [
       "227.185323551328"
      ]
     },
     "execution_count": 174,
     "metadata": {},
     "output_type": "execute_result"
    }
   ],
   "source": [
    "abs(ans1[v1]-ans1[v2])"
   ]
  },
  {
   "cell_type": "code",
   "execution_count": 176,
   "metadata": {},
   "outputs": [
    {
     "data": {
      "image/png": "[encoded data removed]",
      "text/latex": [
       "$\\displaystyle -161.743805013083$"
      ],
      "text/plain": [
       "-161.74380501308332"
      ]
     },
     "execution_count": 176,
     "metadata": {},
     "output_type": "execute_result"
    }
   ],
   "source": [
    "float(arg(ans1[v1]-ans1[v2])*180/np.pi)"
   ]
  },
  {
   "cell_type": "code",
   "execution_count": null,
   "metadata": {},
   "outputs": [],
   "source": []
  },
  {
   "cell_type": "code",
   "execution_count": null,
   "metadata": {},
   "outputs": [],
   "source": []
  },
  {
   "cell_type": "markdown",
   "metadata": {},
   "source": [
    "## Independednt sources with the different frequencies\n",
    "\n",
    "| source | DC | AC, mag @ phase | frequency, Hz |\n",
    "|---|---|---|---|\n",
    "| V1 | 5 | 7 @ 135 | 3 | \n",
    "| V2 | 1 | 1 @ 35 | 5 | \n",
    "| I1 | 2 | 3 @ 300 | 7 | \n",
    "\n",
    " $2 \\pi 3$"
   ]
  },
  {
   "cell_type": "code",
   "execution_count": null,
   "metadata": {},
   "outputs": [],
   "source": []
  },
  {
   "cell_type": "code",
   "execution_count": null,
   "metadata": {},
   "outputs": [],
   "source": []
  },
  {
   "cell_type": "code",
   "execution_count": null,
   "metadata": {},
   "outputs": [],
   "source": []
  },
  {
   "cell_type": "code",
   "execution_count": null,
   "metadata": {},
   "outputs": [],
   "source": []
  },
  {
   "cell_type": "code",
   "execution_count": null,
   "metadata": {},
   "outputs": [],
   "source": []
  },
  {
   "cell_type": "code",
   "execution_count": null,
   "metadata": {},
   "outputs": [],
   "source": []
  },
  {
   "cell_type": "markdown",
   "metadata": {},
   "source": [
    "## AC analysis\n",
    " \n",
    "\n",
    "\n",
    "\n",
    "Solve equations a frequency of 1.491MHz or $\\omega$ equal to 9.3682292e6 radians per second, s = 9.3682292e6j."
   ]
  },
  {
   "cell_type": "markdown",
   "metadata": {},
   "source": [
    "2. Find the current in R1 and the voltage across v1-v2\n",
    "```\n",
    "number of independent voltage sources: 2  \n",
    "number of independent current sources: 1  \n",
    "\n",
    "V1 6 1 5 AC 7 90\n",
    "V2 10 12 1 AC 1 35\n",
    "I3 3 4 2 AC 3 210\n",
    "```\n",
    "\n",
    "\n",
    "## Numeric solution\n",
    "Substitue the element values into the equations and solve for unknown node voltages and currents. Need to set the current source, I1, to zero."
   ]
  },
  {
   "cell_type": "code",
   "execution_count": 110,
   "metadata": {},
   "outputs": [
    {
     "data": {
      "image/png": "[encoded data removed]",
      "text/latex": [
       "$\\displaystyle 5.0$"
      ],
      "text/plain": [
       "5.0"
      ]
     },
     "execution_count": 110,
     "metadata": {},
     "output_type": "execute_result"
    }
   ],
   "source": [
    "element_values[V1]"
   ]
  },
  {
   "cell_type": "code",
   "execution_count": 113,
   "metadata": {},
   "outputs": [],
   "source": [
    "element_values[V1] = 1+1j"
   ]
  },
  {
   "cell_type": "code",
   "execution_count": 114,
   "metadata": {},
   "outputs": [
    {
     "data": {
      "text/plain": [
       "(1+1j)"
      ]
     },
     "execution_count": 114,
     "metadata": {},
     "output_type": "execute_result"
    }
   ],
   "source": [
    "element_values[V1]"
   ]
  },
  {
   "cell_type": "code",
   "execution_count": 115,
   "metadata": {},
   "outputs": [
    {
     "data": {
      "text/plain": [
       "3j"
      ]
     },
     "execution_count": 115,
     "metadata": {},
     "output_type": "execute_result"
    }
   ],
   "source": [
    "3j"
   ]
  },
  {
   "cell_type": "code",
   "execution_count": 119,
   "metadata": {},
   "outputs": [
    {
     "data": {
      "text/plain": [
       "(-1.2155372436685121+6.893654271085456j)"
      ]
     },
     "execution_count": 119,
     "metadata": {},
     "output_type": "execute_result"
    }
   ],
   "source": [
    "polar(7, 100, units='deg')"
   ]
  },
  {
   "cell_type": "code",
   "execution_count": null,
   "metadata": {},
   "outputs": [],
   "source": []
  },
  {
   "cell_type": "code",
   "execution_count": null,
   "metadata": {},
   "outputs": [],
   "source": []
  },
  {
   "cell_type": "code",
   "execution_count": null,
   "metadata": {},
   "outputs": [],
   "source": []
  },
  {
   "cell_type": "code",
   "execution_count": null,
   "metadata": {},
   "outputs": [],
   "source": []
  },
  {
   "cell_type": "code",
   "execution_count": null,
   "metadata": {},
   "outputs": [],
   "source": []
  },
  {
   "cell_type": "code",
   "execution_count": 74,
   "metadata": {},
   "outputs": [
    {
     "data": {
      "text/latex": [
       "$\\displaystyle \\left[\\begin{matrix}I_{L1} - I_{V1} + v_{1} \\cdot \\left(0.07837 + 213501.943468 i\\right) - 0.01 v_{2} - 0.02279 v_{3} \\cdot \\left(3.0 + 9368229.2 i\\right)\\\\- 0.01 v_{1} - 0.1 v_{10} + 0.11 v_{2}\\\\- I_{H1} - 0.02279 v_{1} \\cdot \\left(3.0 + 9368229.2 i\\right) - 0.05 v_{12} + v_{3} \\cdot \\left(1.11837 + 213501.943468 i\\right) - 1.0 v_{4}\\\\I_{L2} - 0.008443 v_{13} \\cdot \\left(3.0 + 9368229.2 i\\right) - 1.0 v_{3} + v_{4} \\cdot \\left(1.025329 + 79095.9591356 i\\right)\\\\- I_{L1} - 10.0 v_{14} + 10.0 v_{5}\\\\I_{V1} + 0.1 v_{6} - 0.1 v_{9}\\\\I_{H1} + 1.0 v_{7}\\\\- I_{L2} + 0.005 v_{8}\\\\- 10.0 v_{11} - 0.1 v_{6} + 10.11 v_{9}\\\\I_{V2} + 0.1 v_{10} - 0.1 v_{2}\\\\I_{L3} + 10.0 v_{11} - 10.0 v_{9}\\\\- I_{V2} + v_{12} \\cdot \\left(0.18798 + 118601.781672 i\\right) - 0.01266 v_{13} \\cdot \\left(3.0 + 9368229.2 i\\right) - 0.1 v_{14} - 2.0 v_{2} - 0.05 v_{3} + 2.0 v_{8}\\\\- I_{L4} - 0.01266 v_{12} \\cdot \\left(3.0 + 9368229.2 i\\right) + 0.021103 v_{13} \\cdot \\left(3.0 + 9368229.2 i\\right) - 0.008443 v_{4} \\cdot \\left(3.0 + 9368229.2 i\\right)\\\\- I_{L3} + I_{L4} - 0.1 v_{12} + 10.1 v_{14} + 2.0 v_{2} - 10.0 v_{5} - 2.0 v_{8}\\\\- v_{1} + v_{6}\\\\v_{10} - v_{12}\\\\- 3.0 I_{L3} \\cdot \\left(3.0 + 9368229.2 i\\right) - 0.979795897113271 I_{L4} \\cdot \\left(3.0 + 9368229.2 i\\right) + v_{11} - v_{14}\\\\- 5.0 I_{L1} \\cdot \\left(3.0 + 9368229.2 i\\right) + v_{1} - v_{5}\\\\- 0.979795897113271 I_{L3} \\cdot \\left(3.0 + 9368229.2 i\\right) - 2.0 I_{L4} \\cdot \\left(3.0 + 9368229.2 i\\right) - v_{13} + v_{14}\\\\- 7.0 I_{L2} \\cdot \\left(3.0 + 9368229.2 i\\right) + v_{4} - v_{8}\\\\- 2.0 I_{V2} - v_{3} + v_{7}\\end{matrix}\\right] = \\left[\\begin{matrix}0\\\\0\\\\-2.0\\\\2.0\\\\0\\\\0\\\\0\\\\0\\\\0\\\\0\\\\0\\\\0\\\\0\\\\0\\\\5.0\\\\1.0\\\\0\\\\0\\\\0\\\\0\\\\0\\end{matrix}\\right]$"
      ],
      "text/plain": [
       "⎡            I_L1 - I_V1 + v₁⋅(0.07837 + 213501.943468⋅ⅈ) - 0.01⋅v₂ - 0.02279⋅\n",
       "⎢                                                                             \n",
       "⎢                                         -0.01⋅v₁ - 0.1⋅v₁₀ + 0.11⋅v₂        \n",
       "⎢                                                                             \n",
       "⎢            -I_H1 - 0.02279⋅v₁⋅(3.0 + 9368229.2⋅ⅈ) - 0.05⋅v₁₂ + v₃⋅(1.11837 +\n",
       "⎢                                                                             \n",
       "⎢                I_L2 - 0.008443⋅v₁₃⋅(3.0 + 9368229.2⋅ⅈ) - v₃ + v₄⋅(1.025329 +\n",
       "⎢                                                                             \n",
       "⎢                                          -I_L1 - 10.0⋅v₁₄ + 10.0⋅v₅         \n",
       "⎢                                                                             \n",
       "⎢                                            I_V1 + 0.1⋅v₆ - 0.1⋅v₉           \n",
       "⎢                                                                             \n",
       "⎢                                                 I_H1 + 1.0⋅v₇               \n",
       "⎢                                                                             \n",
       "⎢                                               -I_L2 + 0.005⋅v₈              \n",
       "⎢                                                                             \n",
       "⎢                                         -10.0⋅v₁₁ - 0.1⋅v₆ + 10.11⋅v₉       \n",
       "⎢                                                                             \n",
       "⎢                                            I_V2 + 0.1⋅v₁₀ - 0.1⋅v₂          \n",
       "⎢                                                                             \n",
       "⎢                                           I_L3 + 10.0⋅v₁₁ - 10.0⋅v₉         \n",
       "⎢                                                                             \n",
       "⎢-I_V2 + v₁₂⋅(0.18798 + 118601.781672⋅ⅈ) - 0.01266⋅v₁₃⋅(3.0 + 9368229.2⋅ⅈ) - 0\n",
       "⎢                                                                             \n",
       "⎢ -I_L4 - 0.01266⋅v₁₂⋅(3.0 + 9368229.2⋅ⅈ) + 0.021103⋅v₁₃⋅(3.0 + 9368229.2⋅ⅈ) -\n",
       "⎢                                                                             \n",
       "⎢                         -I_L3 + I_L4 - 0.1⋅v₁₂ + 10.1⋅v₁₄ + 2.0⋅v₂ - 10.0⋅v₅\n",
       "⎢                                                                             \n",
       "⎢                                                   -v₁ + v₆                  \n",
       "⎢                                                                             \n",
       "⎢                                                   v₁₀ - v₁₂                 \n",
       "⎢                                                                             \n",
       "⎢            -3.0⋅I_L3⋅(3.0 + 9368229.2⋅ⅈ) - 0.979795897113271⋅I_L4⋅(3.0 + 936\n",
       "⎢                                                                             \n",
       "⎢                                    -5.0⋅I_L1⋅(3.0 + 9368229.2⋅ⅈ) + v₁ - v₅  \n",
       "⎢                                                                             \n",
       "⎢            -0.979795897113271⋅I_L3⋅(3.0 + 9368229.2⋅ⅈ) - 2.0⋅I_L4⋅(3.0 + 936\n",
       "⎢                                                                             \n",
       "⎢                                    -7.0⋅I_L2⋅(3.0 + 9368229.2⋅ⅈ) + v₄ - v₈  \n",
       "⎢                                                                             \n",
       "⎣                                              -2.0⋅I_V2 - v₃ + v₇            \n",
       "\n",
       "v₃⋅(3.0 + 9368229.2⋅ⅈ)            ⎤   ⎡ 0  ⎤\n",
       "                                  ⎥   ⎢    ⎥\n",
       "                                  ⎥   ⎢ 0  ⎥\n",
       "                                  ⎥   ⎢    ⎥\n",
       " 213501.943468⋅ⅈ) - v₄            ⎥   ⎢-2.0⎥\n",
       "                                  ⎥   ⎢    ⎥\n",
       " 79095.9591356⋅ⅈ)                 ⎥   ⎢2.0 ⎥\n",
       "                                  ⎥   ⎢    ⎥\n",
       "                                  ⎥   ⎢ 0  ⎥\n",
       "                                  ⎥   ⎢    ⎥\n",
       "                                  ⎥   ⎢ 0  ⎥\n",
       "                                  ⎥   ⎢    ⎥\n",
       "                                  ⎥   ⎢ 0  ⎥\n",
       "                                  ⎥   ⎢    ⎥\n",
       "                                  ⎥   ⎢ 0  ⎥\n",
       "                                  ⎥   ⎢    ⎥\n",
       "                                  ⎥   ⎢ 0  ⎥\n",
       "                                  ⎥   ⎢    ⎥\n",
       "                                  ⎥   ⎢ 0  ⎥\n",
       "                                  ⎥   ⎢    ⎥\n",
       "                                  ⎥ = ⎢ 0  ⎥\n",
       "                                  ⎥   ⎢    ⎥\n",
       ".1⋅v₁₄ - 2.0⋅v₂ - 0.05⋅v₃ + 2.0⋅v₈⎥   ⎢ 0  ⎥\n",
       "                                  ⎥   ⎢    ⎥\n",
       " 0.008443⋅v₄⋅(3.0 + 9368229.2⋅ⅈ)  ⎥   ⎢ 0  ⎥\n",
       "                                  ⎥   ⎢    ⎥\n",
       " - 2.0⋅v₈                         ⎥   ⎢ 0  ⎥\n",
       "                                  ⎥   ⎢    ⎥\n",
       "                                  ⎥   ⎢5.0 ⎥\n",
       "                                  ⎥   ⎢    ⎥\n",
       "                                  ⎥   ⎢1.0 ⎥\n",
       "                                  ⎥   ⎢    ⎥\n",
       "8229.2⋅ⅈ) + v₁₁ - v₁₄             ⎥   ⎢ 0  ⎥\n",
       "                                  ⎥   ⎢    ⎥\n",
       "                                  ⎥   ⎢ 0  ⎥\n",
       "                                  ⎥   ⎢    ⎥\n",
       "8229.2⋅ⅈ) - v₁₃ + v₁₄             ⎥   ⎢ 0  ⎥\n",
       "                                  ⎥   ⎢    ⎥\n",
       "                                  ⎥   ⎢ 0  ⎥\n",
       "                                  ⎥   ⎢    ⎥\n",
       "                                  ⎦   ⎣ 0  ⎦"
      ]
     },
     "execution_count": 74,
     "metadata": {},
     "output_type": "execute_result"
    }
   ],
   "source": [
    "equ1a_1rad_per_s = equ1a.subs({s:3+9.3682292e6j})\n",
    "equ1a_1rad_per_s  # display the equations"
   ]
  },
  {
   "cell_type": "code",
   "execution_count": 75,
   "metadata": {},
   "outputs": [
    {
     "data": {
      "image/png": "[encoded data removed]",
      "text/latex": [
       "$\\displaystyle \\left\\{ I_{H1} : 0.0455167613956052 + 2.8063799348635 \\cdot 10^{-7} i, \\  I_{L1} : 3.92097471955556 \\cdot 10^{-12} - 1.08062176287193 \\cdot 10^{-6} i, \\  I_{L2} : 2.55267302265801 \\cdot 10^{-14} - 2.87700671148874 \\cdot 10^{-8} i, \\  I_{L3} : 1.29319497551419 \\cdot 10^{-11} - 3.42599846234041 \\cdot 10^{-6} i, \\  I_{L4} : -1.6007231644986 \\cdot 10^{-11} + 4.48027399654328 \\cdot 10^{-6} i, \\  I_{V1} : -0.0455167614085116 + 3.11659040173918 \\cdot 10^{-6} i, \\  I_{V2} : -0.0261802575095712 + 1.75141221429105 \\cdot 10^{-8} i, \\  v_{1} : 0.00684375364308504 - 2.25097957267989 \\cdot 10^{-7} i, \\  v_{10} : 2.88667207969592 - 2.15165139298814 \\cdot 10^{-6} i, \\  v_{11} : 4.55167613955668 + 3.12834059063578 \\cdot 10^{-5} i, \\  v_{12} : 1.88667207969592 - 2.15165139298814 \\cdot 10^{-6} i, \\  v_{13} : 1.88667207977109 - 3.16488805843569 \\cdot 10^{-6} i, \\  v_{14} : -50.6107180118775 - 0.000167570658638913 i, \\  v_{2} : 2.6248695046002 - 1.97651017155904 \\cdot 10^{-6} i, \\  v_{3} : 0.00684375362353718 - 3.15666237772171 \\cdot 10^{-7} i, \\  v_{4} : 1.88667207982717 - 4.68420301596592 \\cdot 10^{-6} i, \\  v_{5} : -50.6107180118771 - 0.0001676787208152 i, \\  v_{6} : 5.00684375364308 - 2.25097957267989 \\cdot 10^{-7} i, \\  v_{7} : -0.0455167613956052 - 2.8063799348635 \\cdot 10^{-7} i, \\  v_{8} : 5.10534604531602 \\cdot 10^{-12} - 5.75401342297747 \\cdot 10^{-6} i, \\  v_{9} : 4.55167613955797 + 3.09408060601238 \\cdot 10^{-5} i\\right\\}$"
      ],
      "text/plain": [
       "{I_H1: 0.0455167613956052 + 2.8063799348635e-7⋅ⅈ, I_L1: 3.92097471955556e-12 -\n",
       " 1.08062176287193e-6⋅ⅈ, I_L2: 2.55267302265801e-14 - 2.87700671148874e-8⋅ⅈ, I_\n",
       "L3: 1.29319497551419e-11 - 3.42599846234041e-6⋅ⅈ, I_L4: -1.6007231644986e-11 +\n",
       " 4.48027399654328e-6⋅ⅈ, I_V1: -0.0455167614085116 + 3.11659040173918e-6⋅ⅈ, I_V\n",
       "2: -0.0261802575095712 + 1.75141221429105e-8⋅ⅈ, v₁: 0.00684375364308504 - 2.25\n",
       "097957267989e-7⋅ⅈ, v₁₀: 2.88667207969592 - 2.15165139298814e-6⋅ⅈ, v₁₁: 4.55167\n",
       "613955668 + 3.12834059063578e-5⋅ⅈ, v₁₂: 1.88667207969592 - 2.15165139298814e-6\n",
       "⋅ⅈ, v₁₃: 1.88667207977109 - 3.16488805843569e-6⋅ⅈ, v₁₄: -50.6107180118775 - 0.\n",
       "000167570658638913⋅ⅈ, v₂: 2.6248695046002 - 1.97651017155904e-6⋅ⅈ, v₃: 0.00684\n",
       "375362353718 - 3.15666237772171e-7⋅ⅈ, v₄: 1.88667207982717 - 4.68420301596592e\n",
       "-6⋅ⅈ, v₅: -50.6107180118771 - 0.0001676787208152⋅ⅈ, v₆: 5.00684375364308 - 2.2\n",
       "5097957267989e-7⋅ⅈ, v₇: -0.0455167613956052 - 2.8063799348635e-7⋅ⅈ, v₈: 5.1053\n",
       "4604531602e-12 - 5.75401342297747e-6⋅ⅈ, v₉: 4.55167613955797 + 3.0940806060123\n",
       "8e-5⋅ⅈ}"
      ]
     },
     "execution_count": 75,
     "metadata": {},
     "output_type": "execute_result"
    }
   ],
   "source": [
    "ans1 = solve(equ1a_1rad_per_s,X)\n",
    "ans1"
   ]
  },
  {
   "cell_type": "code",
   "execution_count": 76,
   "metadata": {},
   "outputs": [
    {
     "name": "stdout",
     "output_type": "stream",
     "text": [
      "v1   : mag:   0.006844 phase:    -0.00188 deg\n",
      "v2   : mag:   2.624870 phase:    -0.00004 deg\n",
      "v3   : mag:   0.006844 phase:    -0.00264 deg\n",
      "v4   : mag:   1.886672 phase:    -0.00014 deg\n",
      "v5   : mag:  50.610718 phase:  -179.99981 deg\n",
      "v6   : mag:   5.006844 phase:    -0.00000 deg\n",
      "v7   : mag:   0.045517 phase:  -179.99965 deg\n",
      "v8   : mag:   0.000006 phase:   -89.99995 deg\n",
      "v9   : mag:   4.551676 phase:     0.00039 deg\n",
      "v10  : mag:   2.886672 phase:    -0.00004 deg\n",
      "v11  : mag:   4.551676 phase:     0.00039 deg\n",
      "v12  : mag:   1.886672 phase:    -0.00007 deg\n",
      "v13  : mag:   1.886672 phase:    -0.00010 deg\n",
      "v14  : mag:  50.610718 phase:  -179.99981 deg\n",
      "I_V1 : mag:   0.045517 phase:   179.99608 deg\n",
      "I_V2 : mag:   0.026180 phase:   179.99996 deg\n",
      "I_L3 : mag:   0.000003 phase:   -89.99978 deg\n",
      "I_L1 : mag:   0.000001 phase:   -89.99979 deg\n",
      "I_L4 : mag:   0.000004 phase:    90.00020 deg\n",
      "I_L2 : mag:   0.000000 phase:   -89.99995 deg\n",
      "I_H1 : mag:   0.045517 phase:     0.00035 deg\n"
     ]
    }
   ],
   "source": [
    "for name, value in ans1.items():\n",
    "    print('{:5s}: mag: {:10.6f} phase: {:11.5f} deg'.format(str(name),float(abs(value)),float(arg(value)*180/np.pi)))"
   ]
  },
  {
   "cell_type": "code",
   "execution_count": 82,
   "metadata": {},
   "outputs": [
    {
     "name": "stdout",
     "output_type": "stream",
     "text": [
      "unknown      mag, dB    phase, deg\n",
      "---------  ---------  ------------\n",
      "v1          0.006844     -0.001885\n",
      "v2          2.624870     -0.000043\n",
      "v3          0.006844     -0.002643\n",
      "v4          1.886672     -0.000142\n",
      "v5         50.610718   -179.999810\n",
      "v6          5.006844     -0.000003\n",
      "v7          0.045517   -179.999647\n",
      "v8          0.000006    -89.999949\n",
      "v9          4.551676      0.000389\n",
      "v10         2.886672     -0.000043\n",
      "v11         4.551676      0.000394\n",
      "v12         1.886672     -0.000065\n",
      "v13         1.886672     -0.000096\n",
      "v14        50.610718   -179.999810\n",
      "I_V1        0.045517    179.996077\n",
      "I_V2        0.026180    179.999962\n",
      "I_L3        0.000003    -89.999784\n",
      "I_L1        0.000001    -89.999792\n",
      "I_L4        0.000004     90.000205\n",
      "I_L2        0.000000    -89.999949\n",
      "I_H1        0.045517      0.000353\n"
     ]
    }
   ],
   "source": [
    "table_header = ['unknown', 'mag, dB','phase, deg']\n",
    "table_row = []\n",
    "\n",
    "for name, value in ans1.items():\n",
    "    table_row.append([str(name),float(abs(value)),float(arg(value)*180/np.pi)])\n",
    "\n",
    "print(tabulate(table_row, headers=table_header,colalign = ('left','decimal','decimal'),tablefmt=\"simple\",floatfmt=('5s','.6f','.6f')))"
   ]
  },
  {
   "cell_type": "code",
   "execution_count": null,
   "metadata": {},
   "outputs": [],
   "source": []
  },
  {
   "cell_type": "markdown",
   "metadata": {},
   "source": [
    "## AC Sweep\n"
   ]
  },
  {
   "cell_type": "markdown",
   "metadata": {},
   "source": [
    "## Find  $V_{1}(s)-V_{2}(s)$."
   ]
  },
  {
   "cell_type": "code",
   "execution_count": 83,
   "metadata": {},
   "outputs": [
    {
     "data": {
      "image/png": "[encoded data removed]",
      "text/latex": [
       "$\\displaystyle \\frac{- 1.45477630598504 \\cdot 10^{48} s^{7} - 7.57095055819837 \\cdot 10^{49} s^{6} - 2.62941112067424 \\cdot 10^{51} s^{5} + 9.22466212689688 \\cdot 10^{52} s^{4} + 3.47360412840924 \\cdot 10^{53} s^{3} + 2.12825011456623 \\cdot 10^{54} s^{2} + 5.21001791479266 \\cdot 10^{54} s + 2.7767336 \\cdot 10^{54}}{5.55676851302481 \\cdot 10^{47} s^{7} + 2.5436023614194 \\cdot 10^{49} s^{6} - 1.32339374128287 \\cdot 10^{51} s^{5} - 5.55792980190024 \\cdot 10^{52} s^{4} - 1.17902545405813 \\cdot 10^{53} s^{3} - 1.06281500129569 \\cdot 10^{54} s^{2} - 1.22564886586046 \\cdot 10^{54} s - 3.538628105 \\cdot 10^{52}}$"
      ],
      "text/plain": [
       "                        7                         6                         5 \n",
       "- 1.45477630598504e+48⋅s  - 7.57095055819837e+49⋅s  - 2.62941112067424e+51⋅s  \n",
       "──────────────────────────────────────────────────────────────────────────────\n",
       "                      7                        6                         5    \n",
       "5.55676851302481e+47⋅s  + 2.5436023614194e+49⋅s  - 1.32339374128287e+51⋅s  - 5\n",
       "\n",
       "                        4                         3                         2 \n",
       "+ 9.22466212689688e+52⋅s  + 3.47360412840924e+53⋅s  + 2.12825011456623e+54⋅s  \n",
       "──────────────────────────────────────────────────────────────────────────────\n",
       "                     4                         3                         2    \n",
       ".55792980190024e+52⋅s  - 1.17902545405813e+53⋅s  - 1.06281500129569e+54⋅s  - 1\n",
       "\n",
       "                                        \n",
       "+ 5.21001791479266e+54⋅s + 2.7767336e+54\n",
       "────────────────────────────────────────\n",
       "                                        \n",
       ".22564886586046e+54⋅s - 3.538628105e+52 "
      ]
     },
     "execution_count": 83,
     "metadata": {},
     "output_type": "execute_result"
    }
   ],
   "source": [
    "H = (u1[v1]-u1[v2]).cancel()\n",
    "H"
   ]
  },
  {
   "cell_type": "code",
   "execution_count": 84,
   "metadata": {
    "collapsed": false,
    "jupyter": {
     "outputs_hidden": false
    }
   },
   "outputs": [],
   "source": [
    "num, denom = fraction(H) #returns numerator and denominator\n",
    "\n",
    "# convert symbolic to numpy polynomial\n",
    "a = np.array(Poly(num, s).all_coeffs(), dtype=float)\n",
    "b = np.array(Poly(denom, s).all_coeffs(), dtype=float)\n",
    "system = (a, b) # system for circuit"
   ]
  },
  {
   "cell_type": "code",
   "execution_count": 85,
   "metadata": {
    "collapsed": false,
    "jupyter": {
     "outputs_hidden": false
    }
   },
   "outputs": [],
   "source": [
    "x = np.logspace(-3, 3, 1000, endpoint=True)*2*np.pi\n",
    "w, mag, phase = signal.bode(system, w=x) # returns: rad/s, mag in dB, phase in deg"
   ]
  },
  {
   "cell_type": "code",
   "execution_count": 86,
   "metadata": {},
   "outputs": [
    {
     "data": {
      "image/png": "[encoded data removed]",
      "text/plain": [
       "<Figure size 640x480 with 2 Axes>"
      ]
     },
     "metadata": {},
     "output_type": "display_data"
    }
   ],
   "source": [
    "fig, ax1 = plt.subplots()\n",
    "ax1.set_ylabel('magnitude, dB')\n",
    "ax1.set_xlabel('frequency, Hz')\n",
    "\n",
    "plt.semilogx(w/(2*np.pi), mag,'-k')    # Bode magnitude plot\n",
    "\n",
    "ax1.tick_params(axis='y')\n",
    "plt.grid()\n",
    "\n",
    "# instantiate a second y-axes that shares the same x-axis\n",
    "ax2 = ax1.twinx()\n",
    "plt.semilogx(w/(2*np.pi), phase,':',color='b')  # Bode phase plot\n",
    "\n",
    "ax2.set_ylabel('phase, deg',color='b')\n",
    "ax2.tick_params(axis='y', labelcolor='b')\n",
    "#ax2.set_ylim((-5,25))\n",
    "\n",
    "plt.title('Bode plot')\n",
    "plt.show()"
   ]
  },
  {
   "cell_type": "code",
   "execution_count": 69,
   "metadata": {},
   "outputs": [
    {
     "name": "stdout",
     "output_type": "stream",
     "text": [
      "peak: 11.21 dB at 0.684 Hz\n"
     ]
    }
   ],
   "source": [
    "print('peak: {:.2f} dB at {:.3f} Hz'.format(mag.max(),w[np.argmax(mag)]/(2*np.pi)))"
   ]
  },
  {
   "cell_type": "markdown",
   "metadata": {},
   "source": [
    "## Summary"
   ]
  }
 ],
 "metadata": {
  "kernelspec": {
   "display_name": "Python 3 (ipykernel)",
   "language": "python",
   "name": "python3"
  },
  "language_info": {
   "codemirror_mode": {
    "name": "ipython",
    "version": 3
   },
   "file_extension": ".py",
   "mimetype": "text/x-python",
   "name": "python",
   "nbconvert_exporter": "python",
   "pygments_lexer": "ipython3",
   "version": "3.10.9"
  }
 },
 "nbformat": 4,
 "nbformat_minor": 4
}
