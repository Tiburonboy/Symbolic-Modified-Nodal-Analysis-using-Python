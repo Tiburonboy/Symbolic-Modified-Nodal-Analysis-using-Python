{
 "cells": [
  {
   "cell_type": "raw",
   "id": "0a487630-5c00-4894-be5e-64b90ff705b9",
   "metadata": {},
   "source": [
    "---\n",
    "title:\n",
    "format: \n",
    "    html:\n",
    "        code-fold: false\n",
    "        embed-resources: false\n",
    "        code-tools: true\n",
    "        number-sections: true\n",
    "jupyter: python3\n",
    "---"
   ]
  },
  {
   "cell_type": "markdown",
   "id": "a9a06c16-04c4-4aef-978b-2a9b0715674d",
   "metadata": {},
   "source": [
    "# T-coil\n",
    "Last update: 13 Feb 2024  "
   ]
  },
  {
   "cell_type": "markdown",
   "id": "1bfa410d-a134-4432-a6ee-461196098233",
   "metadata": {},
   "source": [
    "## Abstract {.unnumbered}\n",
    "\n",
    "## Introduction\n",
    "\n",
    "@fig-t-coil1\n",
    "\n",
    "@fig-t-coil2\n",
    "\n",
    "@fig-t-coil3\n",
    "\n",
    "@fig-t-coil4\n",
    "\n",
    "@williams1991, art of analog design\n",
    "\n",
    "@Jeong2020, bandwidth extension, IC design \n",
    "\n",
    "@Razavi2015, IEEE article\n",
    "\n",
    "@Ross2011, slide show presentation\n",
    "\n",
    "patents  \n",
    "\n",
    "@lin2015\n",
    "\n",
    "@fan2020"
   ]
  },
  {
   "cell_type": "markdown",
   "id": "a1e212fb-9dce-4d6f-9656-79db8b9333c7",
   "metadata": {},
   "source": [
    "## Circuit 1\n",
    "\n",
    "![T coil ver 1](T-coil-ver1.png){#fig-t-coil1}  \n",
    "\n",
    "\n",
    "![T coil ver 1a](T-coil-ver1a.png){#fig-t-coil1a}  "
   ]
  },
  {
   "cell_type": "markdown",
   "id": "d0217837-448c-47cb-ac93-6767bb0a3169",
   "metadata": {},
   "source": [
    "From: @williams1991\n",
    "\n",
    ">These new amplifiers had rise times comparable to the propagation time between stages, so it became important to eliminate reflections between stages. The bridged T coil became extremely important because it allowed the input of each stage to be very well terminated. The F1, doubler's simple high frequency input impedance could be well modeled with a series RLC. Bob Ross wrote the equations for the asymmetrical bridged T coil which could peak a series RLC load. The derivation Figure 14-6. is quite complex, and the equations were held as a trade secret until recently. The F1, doubler and the bridged T coil were used extensively in the Tektronix 7904 introduced in 1972. \n",
    "\n",
    "Equations from figure 14-6\n",
    "\n",
    "\n",
    "$\\theta = \\tan^1 \\sqrt {\\frac {1}{\\zeta ^2} - 1}$\n",
    "\n",
    "$\\zeta = \\frac {1}{\\sqrt {\\tan^2 \\theta +1}}$\n",
    "\n",
    "\n",
    "$L_1 = \\frac {C_L}{4} \\left[ 1+\\frac{1}{4\\zeta^2} \\right] \\left[ R_L+R_S\\right]^2 - R_L R_S C_L - L_S$\n",
    "\n",
    "$L_2 = \\frac {C_L}{4} \\left[ 1+\\frac{1}{4\\zeta^2} \\right] \\left[ R_L+R_S\\right]^2 - L_S$\n",
    "\n",
    "$L_T = R_L^2 C_L$\n",
    "\n",
    "$M = \\frac{C_L}{4} \\left[ R_L^2 - R_S^2 - \\frac {1}{4 \\zeta ^2} \\left[ R_L+R_S\\right]^2 \\right] + L_S$\n",
    "\n",
    "\n",
    "$C_B = \\frac{C_L}{16 \\zeta^2} \\left[ \\frac {R_L+R_S}{R_L} \\right]^2$\n",
    "\n",
    "$s = \\frac{-4\\zeta^2}{(R_L+R_S) C_L} \\pm j \\frac {4\\zeta}{(R_L+R_S) C_L} \\sqrt {1-\\zeta^2}$\n",
    "\n",
    "$L_1 + M = \\frac{R_L C_L}{2} \\left[ R_L - R_S \\right]$\n",
    "\n",
    "$L_2 + M = \\frac{R_L C_L}{2} \\left[ R_L + R_S \\right]$\n",
    "\n",
    "\n",
    "\n",
    "SymPy derived equations\n",
    "\n",
    "From: @Ross2011\n",
    "\n",
    "T-coil summary\n",
    "\n",
    "- Constant R provides ideal load or termination\n",
    "- Up to 2.82 bandwidth improvement (BWER or bandwidth extension ratio) over RC based bandwidth\n",
    "- 2.73 improvement for acceptable 0.4% overshoot to ideal step input (MFED or maximally flat envelope delay design)\n",
    "- Now used in high-speed buffer design\n",
    "  - ESD (electrostatic discharge) compensation\n",
    "  - Bandwidth improvement\n",
    "\n",
    "Schematic somewhat different\n",
    "\n",
    "Wang Algebra\n",
    "\n",
    "See page 12 for constant R and simplification\n",
    "\n",
    "\n",
    "From: @Jeong2020\n",
    "\n",
    "Topics in IC Design T-Coil\n",
    "\n",
    "- Inductors produce peaking, thereby giving bandwidth extension.\n",
    "- T-coil (Tee-Coil) produces even more bandwidth extension by giving negative inductance.\n",
    "\n",
    "Introduced by Ginzton in 1948 as part of distributed amplifier.\n",
    "\n",
    "Common Source Amplifier\n",
    "\n",
    "Given RD and CL, what are CB, L, and M, assuming L1 = L2 = L (symmetric T-Coil)?\n",
    "\n",
    "Four equations must be satisfied with five variables (CB, L, M, $\\zeta$, $\\omega _n$). Out of numerous solutions, what is the best transfer function that maximizes the bandwidth?\n",
    "\n",
    "\n",
    "Effect of Large ESD Capacitance is removed.\n",
    "\n",
    "E. Ginzton et. al, “Distributed Amplification,” Proc. IRE, vol. 36, pp. 956–969, Aug.\n",
    "1948.\n",
    "\n",
    "\n",
    "```\n",
    "* C:\\users\\jeff64\\My Documents\\T-Coil\\T-Coil-ver1.asc\n",
    "V1 1 0 1\n",
    "L1 2 1 1 Rser=0\n",
    "L2 3 2 1 Rser=0\n",
    "L3 2 4 1 Rser=0\n",
    "C1 5 0 1\n",
    "C2 3 1 1\n",
    "R1 3 0 1\n",
    "R2 4 5 1\n",
    "K1 L1 L2 0.5\n",
    ".op\n",
    ".backanno\n",
    ".end\n",
    "\n",
    "```\n",
    "\n",
    "## Circuit description\n",
    "\n",
    "- write for each configuration   \n",
    "- The circuit in @fig-t-coil1 has 10 branches and eight nodes. \n",
    "\n",
    "\n",
    "\n",
    "There are two capacitors, seven resistors in the circuit and three Op Amps. The circuit has a low pass, a high pass and band pass outputs.\n",
    "\n",
    "## Circuit analysis\n",
    "The circuit was drawn using LTSpice and the netlist was pasted into the code. Network equations were generated using the smna() function and a symbolic solution for the equations was obtained. \n",
    "\n",
    "- two port parameters\n",
    "- design equations: given some values (C_L, R_L, ), what other values increase BW?\n",
    "\n",
    "\n",
    " \n",
    "\n",
    "The net list for the filter is:\n",
    "```\n",
    "* T-Coil-ver1.asc\n",
    "V1 1 0 1\n",
    "L1 2 1 1 Rser=0\n",
    "L2 3 2 1 Rser=0\n",
    "L3 2 4 1 Rser=0\n",
    "C1 5 0 1\n",
    "C2 3 1 1\n",
    "R1 3 0 1\n",
    "R2 4 5 1\n",
    "K1 L1 L2 0.5\n",
    ".op\n",
    ".backanno\n",
    ".end\n",
    "```\n",
    "\n",
    "The following Python modules are used."
   ]
  },
  {
   "cell_type": "code",
   "execution_count": 1,
   "id": "37fe9680-80e5-4777-9e15-0be880463b9e",
   "metadata": {
    "collapsed": false,
    "jupyter": {
     "outputs_hidden": false
    }
   },
   "outputs": [],
   "source": [
    "from sympy import *\n",
    "import numpy as np\n",
    "from tabulate import tabulate\n",
    "import pandas as pd\n",
    "import matplotlib.pyplot as plt\n",
    "import SymMNA\n",
    "from IPython.display import display, Markdown, Math, Latex\n",
    "init_printing()"
   ]
  },
  {
   "cell_type": "code",
   "execution_count": 2,
   "id": "dfa63d8f-c564-4563-ab5f-80db79ed40ca",
   "metadata": {},
   "outputs": [],
   "source": [
    "t = symbols('t',positive=True)  # t > 0"
   ]
  },
  {
   "cell_type": "markdown",
   "id": "fbaf4419-56cb-4fea-b886-ad53301d42e7",
   "metadata": {
    "tags": []
   },
   "source": [
    "### Load the netlist\n",
    "The netlist generated by LTSpice is pasted into the cell below and some edits were made to remove the inductor series resistance and the independent sources are set to their DC values."
   ]
  },
  {
   "cell_type": "raw",
   "id": "ed4c525e-e44f-4daf-866a-e71488159d59",
   "metadata": {},
   "source": [
    "net_list = '''\n",
    "V1 1 0 1\n",
    "L1 2 1 1\n",
    "L2 3 2 1 \n",
    "L3 2 4 1\n",
    "C1 5 0 1\n",
    "C2 3 1 1\n",
    "R1 3 0 1\n",
    "R2 4 5 1\n",
    "K1 L1 L2 0.5\n",
    "'''"
   ]
  },
  {
   "cell_type": "raw",
   "id": "beab1972-b587-4f07-b855-85b65f4fc290",
   "metadata": {},
   "source": [
    "net_list = '''\n",
    "V1 1 0 1\n",
    "L1 2 1 1\n",
    "L2 3 2 1\n",
    "L_S 2 4 1\n",
    "C_L 5 0 1\n",
    "C_B 3 1 1\n",
    "R_L 3 0 1\n",
    "R_S 4 5 1\n",
    "K1 L1 L2 0.5\n",
    "'''"
   ]
  },
  {
   "cell_type": "code",
   "execution_count": 73,
   "id": "b564dc59-e5ee-40a3-9649-836a0d351403",
   "metadata": {},
   "outputs": [],
   "source": [
    "net_list1 = '''\n",
    "V1 1 0 1\n",
    "L1 2 1 1 \n",
    "L2 3 2 1 \n",
    "L_S 2 4 1 \n",
    "C_L 5 0 1\n",
    "C_B 3 1 1\n",
    "R_L 3 0 1\n",
    "R_S 4 5 1\n",
    "K1 L1 L2 0.5\n",
    "'''"
   ]
  },
  {
   "cell_type": "markdown",
   "id": "1fe4bbd6-37b9-4356-b120-54fddbab1dcc",
   "metadata": {},
   "source": [
    "Generate the network equations."
   ]
  },
  {
   "cell_type": "code",
   "execution_count": 74,
   "id": "f23f0d4c-3ac1-4178-b7ba-83ac48a1357b",
   "metadata": {},
   "outputs": [],
   "source": [
    "report, network1_df, network1_df2, A, X, Z = SymMNA.smna(net_list1)\n",
    "\n",
    "# Put matricies into SymPy \n",
    "X = Matrix(X)\n",
    "Z = Matrix(Z)\n",
    "\n",
    "NE1_sym = Eq(A*X,Z)"
   ]
  },
  {
   "cell_type": "markdown",
   "id": "e69c083a-7025-4fd0-b8a7-30d6507dc54b",
   "metadata": {},
   "source": [
    "Generate markdown text to display the network equations."
   ]
  },
  {
   "cell_type": "code",
   "execution_count": 75,
   "id": "c8363ae2-4306-4727-8588-ca4a5ae8824c",
   "metadata": {},
   "outputs": [
    {
     "data": {
      "text/markdown": [
       "$C_{b} s v_{1} - C_{b} s v_{3} - I_{L1} + I_{V1} = 0$<br>$I_{L1} - I_{L2} + I_{L s} = 0$<br>$- C_{b} s v_{1} + I_{L2} + v_{3} \\left(C_{b} s + \\frac{1}{R_{l}}\\right) = 0$<br>$- I_{L s} + \\frac{v_{4}}{R_{s}} - \\frac{v_{5}}{R_{s}} = 0$<br>$v_{5} \\left(C_{l} s + \\frac{1}{R_{s}}\\right) - \\frac{v_{4}}{R_{s}} = 0$<br>$v_{1} = V_{1}$<br>$- I_{L1} L_{1} s - I_{L2} M_{1} s - v_{1} + v_{2} = 0$<br>$- I_{L1} M_{1} s - I_{L2} L_{2} s - v_{2} + v_{3} = 0$<br>$- I_{L s} L_{s} s + v_{2} - v_{4} = 0$<br>"
      ],
      "text/plain": [
       "<IPython.core.display.Markdown object>"
      ]
     },
     "execution_count": 75,
     "metadata": {},
     "output_type": "execute_result"
    }
   ],
   "source": [
    "temp = ''\n",
    "for i in range(len(X)):\n",
    "    temp += '${:s}$<br>'.format(latex(Eq((A*X)[i:i+1][0],Z[i])))\n",
    "\n",
    "Markdown(temp)"
   ]
  },
  {
   "cell_type": "markdown",
   "id": "40ac5dfe-20a3-4141-8891-a97a3c3ee0a3",
   "metadata": {},
   "source": [
    "As shown above MNA generated many equations and these would be difficult to solve by hand and a symbolic soultion would take a lot of computing time. The equations are displace in matrix notation."
   ]
  },
  {
   "cell_type": "code",
   "execution_count": 76,
   "id": "64015040-e7ed-4082-b7ca-7cb38dcfe7c6",
   "metadata": {},
   "outputs": [
    {
     "data": {
      "text/latex": [
       "$\\displaystyle \\left[\\begin{matrix}C_{b} s v_{1} - C_{b} s v_{3} - I_{L1} + I_{V1}\\\\I_{L1} - I_{L2} + I_{L s}\\\\- C_{b} s v_{1} + I_{L2} + v_{3} \\left(C_{b} s + \\frac{1}{R_{l}}\\right)\\\\- I_{L s} + \\frac{v_{4}}{R_{s}} - \\frac{v_{5}}{R_{s}}\\\\v_{5} \\left(C_{l} s + \\frac{1}{R_{s}}\\right) - \\frac{v_{4}}{R_{s}}\\\\v_{1}\\\\- I_{L1} L_{1} s - I_{L2} M_{1} s - v_{1} + v_{2}\\\\- I_{L1} M_{1} s - I_{L2} L_{2} s - v_{2} + v_{3}\\\\- I_{L s} L_{s} s + v_{2} - v_{4}\\end{matrix}\\right] = \\left[\\begin{matrix}0\\\\0\\\\0\\\\0\\\\0\\\\V_{1}\\\\0\\\\0\\\\0\\end{matrix}\\right]$"
      ],
      "text/plain": [
       "⎡C_b⋅s⋅v₁ - C_b⋅s⋅v₃ - I_L1 + I_V1 ⎤       \n",
       "⎢                                  ⎥       \n",
       "⎢       I_L1 - I_L2 + I_L_s        ⎥       \n",
       "⎢                                  ⎥   ⎡0 ⎤\n",
       "⎢                      ⎛        1 ⎞⎥   ⎢  ⎥\n",
       "⎢-C_b⋅s⋅v₁ + I_L2 + v₃⋅⎜C_b⋅s + ──⎟⎥   ⎢0 ⎥\n",
       "⎢                      ⎝        Rₗ⎠⎥   ⎢  ⎥\n",
       "⎢                                  ⎥   ⎢0 ⎥\n",
       "⎢                  v₄   v₅         ⎥   ⎢  ⎥\n",
       "⎢         -I_L_s + ── - ──         ⎥   ⎢0 ⎥\n",
       "⎢                  Rₛ   Rₛ         ⎥   ⎢  ⎥\n",
       "⎢                                  ⎥ = ⎢0 ⎥\n",
       "⎢          ⎛       1 ⎞   v₄        ⎥   ⎢  ⎥\n",
       "⎢       v₅⋅⎜Cₗ⋅s + ──⎟ - ──        ⎥   ⎢V₁⎥\n",
       "⎢          ⎝       Rₛ⎠   Rₛ        ⎥   ⎢  ⎥\n",
       "⎢                                  ⎥   ⎢0 ⎥\n",
       "⎢                v₁                ⎥   ⎢  ⎥\n",
       "⎢                                  ⎥   ⎢0 ⎥\n",
       "⎢ -I_L1⋅L₁⋅s - I_L2⋅M₁⋅s - v₁ + v₂ ⎥   ⎢  ⎥\n",
       "⎢                                  ⎥   ⎣0 ⎦\n",
       "⎢ -I_L1⋅M₁⋅s - I_L2⋅L₂⋅s - v₂ + v₃ ⎥       \n",
       "⎢                                  ⎥       \n",
       "⎣      -I_L_s⋅Lₛ⋅s + v₂ - v₄       ⎦       "
      ]
     },
     "execution_count": 76,
     "metadata": {},
     "output_type": "execute_result"
    }
   ],
   "source": [
    "NE1_sym"
   ]
  },
  {
   "cell_type": "markdown",
   "id": "7e28e893-4d6a-4049-a0ce-033c8397ead3",
   "metadata": {},
   "source": [
    "The symbols generated by the Python code are extraced by the SymPy function free_symbols and then declared as SymPy variables. "
   ]
  },
  {
   "cell_type": "code",
   "execution_count": 77,
   "id": "d793f1de-62ec-4ba3-96c0-823d4b75918c",
   "metadata": {},
   "outputs": [
    {
     "data": {
      "image/png": "[encoded data removed]",
      "text/latex": [
       "$\\displaystyle \\left( I_{L s}, \\  R_{s}, \\  C_{l}, \\  V_{1}, \\  I_{L2}, \\  R_{l}, \\  M_{1}, \\  v_{1}, \\  v_{4}, \\  v_{5}, \\  L_{s}, \\  v_{3}, \\  L_{2}, \\  L_{1}, \\  I_{V1}, \\  s, \\  v_{2}, \\  I_{L1}, \\  C_{b}\\right)$"
      ],
      "text/plain": [
       "(I_L_s, Rₛ, Cₗ, V₁, I_L2, Rₗ, M₁, v₁, v₄, v₅, Lₛ, v₃, L₂, L₁, I_V1, s, v₂, I_L\n",
       "1, C_b)"
      ]
     },
     "execution_count": 77,
     "metadata": {},
     "output_type": "execute_result"
    }
   ],
   "source": [
    "# turn the free symbols into SymPy variables\n",
    "var(str(NE1_sym.free_symbols).replace('{','').replace('}',''))"
   ]
  },
  {
   "cell_type": "markdown",
   "id": "f496affb-f841-4705-80c4-84dddfe44f36",
   "metadata": {},
   "source": [
    "Built a dictionary of element values."
   ]
  },
  {
   "cell_type": "code",
   "execution_count": 78,
   "id": "7380789c-4a44-4acc-b34d-ee04e9b0018a",
   "metadata": {},
   "outputs": [
    {
     "data": {
      "image/png": "[encoded data removed]",
      "text/latex": [
       "$\\displaystyle \\left\\{ C_{b} : 1.0, \\  C_{l} : 1.0, \\  K_{1} : 0.5, \\  L_{1} : 1.0, \\  L_{2} : 1.0, \\  L_{s} : 1.0, \\  R_{l} : 1.0, \\  R_{s} : 1.0, \\  V_{1} : 1.0\\right\\}$"
      ],
      "text/plain": [
       "{C_b: 1.0, Cₗ: 1.0, K₁: 0.5, L₁: 1.0, L₂: 1.0, Lₛ: 1.0, Rₗ: 1.0, Rₛ: 1.0, V₁: \n",
       "1.0}"
      ]
     },
     "execution_count": 78,
     "metadata": {},
     "output_type": "execute_result"
    }
   ],
   "source": [
    "element_values = SymMNA.get_part_values(network1_df)\n",
    "element_values"
   ]
  },
  {
   "cell_type": "markdown",
   "id": "64408a69-a7e3-4d6a-9c6d-81cd31d76a03",
   "metadata": {},
   "source": [
    "Generate the symbolic solution"
   ]
  },
  {
   "cell_type": "code",
   "execution_count": 79,
   "id": "53c23328-6861-4d3a-85ab-09a373139439",
   "metadata": {},
   "outputs": [],
   "source": [
    "U1_sym = solve(NE1_sym,X)"
   ]
  },
  {
   "cell_type": "markdown",
   "id": "8eccfbdb-0984-41b9-beee-f89eac2462ca",
   "metadata": {},
   "source": [
    "Display the symbolic solution"
   ]
  },
  {
   "cell_type": "code",
   "execution_count": 80,
   "id": "6c9c34c9-20c0-4911-907d-7339d191139a",
   "metadata": {},
   "outputs": [
    {
     "data": {
      "text/markdown": [
       "$v_{1} = V_{1}$<br>$v_{2} = \\frac{C_{b} C_{l} L_{1} L_{s} R_{l} V_{1} s^{4} + C_{b} C_{l} L_{1} R_{l} R_{s} V_{1} s^{3} + C_{b} C_{l} L_{2} L_{s} R_{l} V_{1} s^{4} + C_{b} C_{l} L_{2} R_{l} R_{s} V_{1} s^{3} + 2 C_{b} C_{l} L_{s} M_{1} R_{l} V_{1} s^{4} + 2 C_{b} C_{l} M_{1} R_{l} R_{s} V_{1} s^{3} + C_{b} L_{1} R_{l} V_{1} s^{2} + C_{b} L_{2} R_{l} V_{1} s^{2} + 2 C_{b} M_{1} R_{l} V_{1} s^{2} + C_{l} L_{2} L_{s} V_{1} s^{3} + C_{l} L_{2} R_{s} V_{1} s^{2} + C_{l} L_{s} M_{1} V_{1} s^{3} + C_{l} L_{s} R_{l} V_{1} s^{2} + C_{l} M_{1} R_{s} V_{1} s^{2} + C_{l} R_{l} R_{s} V_{1} s + L_{2} V_{1} s + M_{1} V_{1} s + R_{l} V_{1}}{C_{b} C_{l} L_{1} L_{2} R_{l} s^{4} + C_{b} C_{l} L_{1} L_{s} R_{l} s^{4} + C_{b} C_{l} L_{1} R_{l} R_{s} s^{3} + C_{b} C_{l} L_{2} L_{s} R_{l} s^{4} + C_{b} C_{l} L_{2} R_{l} R_{s} s^{3} + 2 C_{b} C_{l} L_{s} M_{1} R_{l} s^{4} - C_{b} C_{l} M_{1}^{2} R_{l} s^{4} + 2 C_{b} C_{l} M_{1} R_{l} R_{s} s^{3} + C_{b} L_{1} R_{l} s^{2} + C_{b} L_{2} R_{l} s^{2} + 2 C_{b} M_{1} R_{l} s^{2} + C_{l} L_{1} L_{2} s^{3} + C_{l} L_{1} L_{s} s^{3} + C_{l} L_{1} R_{l} s^{2} + C_{l} L_{1} R_{s} s^{2} + C_{l} L_{2} L_{s} s^{3} + C_{l} L_{2} R_{s} s^{2} + 2 C_{l} L_{s} M_{1} s^{3} + C_{l} L_{s} R_{l} s^{2} - C_{l} M_{1}^{2} s^{3} + 2 C_{l} M_{1} R_{s} s^{2} + C_{l} R_{l} R_{s} s + L_{1} s + L_{2} s + 2 M_{1} s + R_{l}}$<br>$v_{3} = \\frac{C_{b} C_{l} L_{1} L_{2} R_{l} V_{1} s^{4} + C_{b} C_{l} L_{1} L_{s} R_{l} V_{1} s^{4} + C_{b} C_{l} L_{1} R_{l} R_{s} V_{1} s^{3} + C_{b} C_{l} L_{2} L_{s} R_{l} V_{1} s^{4} + C_{b} C_{l} L_{2} R_{l} R_{s} V_{1} s^{3} + 2 C_{b} C_{l} L_{s} M_{1} R_{l} V_{1} s^{4} - C_{b} C_{l} M_{1}^{2} R_{l} V_{1} s^{4} + 2 C_{b} C_{l} M_{1} R_{l} R_{s} V_{1} s^{3} + C_{b} L_{1} R_{l} V_{1} s^{2} + C_{b} L_{2} R_{l} V_{1} s^{2} + 2 C_{b} M_{1} R_{l} V_{1} s^{2} + C_{l} L_{s} R_{l} V_{1} s^{2} - C_{l} M_{1} R_{l} V_{1} s^{2} + C_{l} R_{l} R_{s} V_{1} s + R_{l} V_{1}}{C_{b} C_{l} L_{1} L_{2} R_{l} s^{4} + C_{b} C_{l} L_{1} L_{s} R_{l} s^{4} + C_{b} C_{l} L_{1} R_{l} R_{s} s^{3} + C_{b} C_{l} L_{2} L_{s} R_{l} s^{4} + C_{b} C_{l} L_{2} R_{l} R_{s} s^{3} + 2 C_{b} C_{l} L_{s} M_{1} R_{l} s^{4} - C_{b} C_{l} M_{1}^{2} R_{l} s^{4} + 2 C_{b} C_{l} M_{1} R_{l} R_{s} s^{3} + C_{b} L_{1} R_{l} s^{2} + C_{b} L_{2} R_{l} s^{2} + 2 C_{b} M_{1} R_{l} s^{2} + C_{l} L_{1} L_{2} s^{3} + C_{l} L_{1} L_{s} s^{3} + C_{l} L_{1} R_{l} s^{2} + C_{l} L_{1} R_{s} s^{2} + C_{l} L_{2} L_{s} s^{3} + C_{l} L_{2} R_{s} s^{2} + 2 C_{l} L_{s} M_{1} s^{3} + C_{l} L_{s} R_{l} s^{2} - C_{l} M_{1}^{2} s^{3} + 2 C_{l} M_{1} R_{s} s^{2} + C_{l} R_{l} R_{s} s + L_{1} s + L_{2} s + 2 M_{1} s + R_{l}}$<br>$v_{4} = \\frac{C_{b} C_{l} L_{1} R_{l} R_{s} V_{1} s^{3} + C_{b} C_{l} L_{2} R_{l} R_{s} V_{1} s^{3} + 2 C_{b} C_{l} M_{1} R_{l} R_{s} V_{1} s^{3} + C_{b} L_{1} R_{l} V_{1} s^{2} + C_{b} L_{2} R_{l} V_{1} s^{2} + 2 C_{b} M_{1} R_{l} V_{1} s^{2} + C_{l} L_{2} R_{s} V_{1} s^{2} + C_{l} M_{1} R_{s} V_{1} s^{2} + C_{l} R_{l} R_{s} V_{1} s + L_{2} V_{1} s + M_{1} V_{1} s + R_{l} V_{1}}{C_{b} C_{l} L_{1} L_{2} R_{l} s^{4} + C_{b} C_{l} L_{1} L_{s} R_{l} s^{4} + C_{b} C_{l} L_{1} R_{l} R_{s} s^{3} + C_{b} C_{l} L_{2} L_{s} R_{l} s^{4} + C_{b} C_{l} L_{2} R_{l} R_{s} s^{3} + 2 C_{b} C_{l} L_{s} M_{1} R_{l} s^{4} - C_{b} C_{l} M_{1}^{2} R_{l} s^{4} + 2 C_{b} C_{l} M_{1} R_{l} R_{s} s^{3} + C_{b} L_{1} R_{l} s^{2} + C_{b} L_{2} R_{l} s^{2} + 2 C_{b} M_{1} R_{l} s^{2} + C_{l} L_{1} L_{2} s^{3} + C_{l} L_{1} L_{s} s^{3} + C_{l} L_{1} R_{l} s^{2} + C_{l} L_{1} R_{s} s^{2} + C_{l} L_{2} L_{s} s^{3} + C_{l} L_{2} R_{s} s^{2} + 2 C_{l} L_{s} M_{1} s^{3} + C_{l} L_{s} R_{l} s^{2} - C_{l} M_{1}^{2} s^{3} + 2 C_{l} M_{1} R_{s} s^{2} + C_{l} R_{l} R_{s} s + L_{1} s + L_{2} s + 2 M_{1} s + R_{l}}$<br>$v_{5} = \\frac{C_{b} L_{1} R_{l} V_{1} s^{2} + C_{b} L_{2} R_{l} V_{1} s^{2} + 2 C_{b} M_{1} R_{l} V_{1} s^{2} + L_{2} V_{1} s + M_{1} V_{1} s + R_{l} V_{1}}{C_{b} C_{l} L_{1} L_{2} R_{l} s^{4} + C_{b} C_{l} L_{1} L_{s} R_{l} s^{4} + C_{b} C_{l} L_{1} R_{l} R_{s} s^{3} + C_{b} C_{l} L_{2} L_{s} R_{l} s^{4} + C_{b} C_{l} L_{2} R_{l} R_{s} s^{3} + 2 C_{b} C_{l} L_{s} M_{1} R_{l} s^{4} - C_{b} C_{l} M_{1}^{2} R_{l} s^{4} + 2 C_{b} C_{l} M_{1} R_{l} R_{s} s^{3} + C_{b} L_{1} R_{l} s^{2} + C_{b} L_{2} R_{l} s^{2} + 2 C_{b} M_{1} R_{l} s^{2} + C_{l} L_{1} L_{2} s^{3} + C_{l} L_{1} L_{s} s^{3} + C_{l} L_{1} R_{l} s^{2} + C_{l} L_{1} R_{s} s^{2} + C_{l} L_{2} L_{s} s^{3} + C_{l} L_{2} R_{s} s^{2} + 2 C_{l} L_{s} M_{1} s^{3} + C_{l} L_{s} R_{l} s^{2} - C_{l} M_{1}^{2} s^{3} + 2 C_{l} M_{1} R_{s} s^{2} + C_{l} R_{l} R_{s} s + L_{1} s + L_{2} s + 2 M_{1} s + R_{l}}$<br>$I_{V1} = \\frac{- C_{b} C_{l} L_{1} L_{2} V_{1} s^{4} - C_{b} C_{l} L_{1} L_{s} V_{1} s^{4} - C_{b} C_{l} L_{1} R_{l} V_{1} s^{3} - C_{b} C_{l} L_{1} R_{s} V_{1} s^{3} - C_{b} C_{l} L_{2} L_{s} V_{1} s^{4} - C_{b} C_{l} L_{2} R_{l} V_{1} s^{3} - C_{b} C_{l} L_{2} R_{s} V_{1} s^{3} - 2 C_{b} C_{l} L_{s} M_{1} V_{1} s^{4} + C_{b} C_{l} M_{1}^{2} V_{1} s^{4} - 2 C_{b} C_{l} M_{1} R_{l} V_{1} s^{3} - 2 C_{b} C_{l} M_{1} R_{s} V_{1} s^{3} - C_{b} L_{1} V_{1} s^{2} - C_{b} L_{2} V_{1} s^{2} - 2 C_{b} M_{1} V_{1} s^{2} - C_{l} L_{2} V_{1} s^{2} - C_{l} L_{s} V_{1} s^{2} - C_{l} R_{l} V_{1} s - C_{l} R_{s} V_{1} s - V_{1}}{C_{b} C_{l} L_{1} L_{2} R_{l} s^{4} + C_{b} C_{l} L_{1} L_{s} R_{l} s^{4} + C_{b} C_{l} L_{1} R_{l} R_{s} s^{3} + C_{b} C_{l} L_{2} L_{s} R_{l} s^{4} + C_{b} C_{l} L_{2} R_{l} R_{s} s^{3} + 2 C_{b} C_{l} L_{s} M_{1} R_{l} s^{4} - C_{b} C_{l} M_{1}^{2} R_{l} s^{4} + 2 C_{b} C_{l} M_{1} R_{l} R_{s} s^{3} + C_{b} L_{1} R_{l} s^{2} + C_{b} L_{2} R_{l} s^{2} + 2 C_{b} M_{1} R_{l} s^{2} + C_{l} L_{1} L_{2} s^{3} + C_{l} L_{1} L_{s} s^{3} + C_{l} L_{1} R_{l} s^{2} + C_{l} L_{1} R_{s} s^{2} + C_{l} L_{2} L_{s} s^{3} + C_{l} L_{2} R_{s} s^{2} + 2 C_{l} L_{s} M_{1} s^{3} + C_{l} L_{s} R_{l} s^{2} - C_{l} M_{1}^{2} s^{3} + 2 C_{l} M_{1} R_{s} s^{2} + C_{l} R_{l} R_{s} s + L_{1} s + L_{2} s + 2 M_{1} s + R_{l}}$<br>$I_{L1} = \\frac{- C_{b} C_{l} L_{2} R_{l} V_{1} s^{3} - C_{b} C_{l} M_{1} R_{l} V_{1} s^{3} - C_{l} L_{2} V_{1} s^{2} - C_{l} L_{s} V_{1} s^{2} - C_{l} R_{l} V_{1} s - C_{l} R_{s} V_{1} s - V_{1}}{C_{b} C_{l} L_{1} L_{2} R_{l} s^{4} + C_{b} C_{l} L_{1} L_{s} R_{l} s^{4} + C_{b} C_{l} L_{1} R_{l} R_{s} s^{3} + C_{b} C_{l} L_{2} L_{s} R_{l} s^{4} + C_{b} C_{l} L_{2} R_{l} R_{s} s^{3} + 2 C_{b} C_{l} L_{s} M_{1} R_{l} s^{4} - C_{b} C_{l} M_{1}^{2} R_{l} s^{4} + 2 C_{b} C_{l} M_{1} R_{l} R_{s} s^{3} + C_{b} L_{1} R_{l} s^{2} + C_{b} L_{2} R_{l} s^{2} + 2 C_{b} M_{1} R_{l} s^{2} + C_{l} L_{1} L_{2} s^{3} + C_{l} L_{1} L_{s} s^{3} + C_{l} L_{1} R_{l} s^{2} + C_{l} L_{1} R_{s} s^{2} + C_{l} L_{2} L_{s} s^{3} + C_{l} L_{2} R_{s} s^{2} + 2 C_{l} L_{s} M_{1} s^{3} + C_{l} L_{s} R_{l} s^{2} - C_{l} M_{1}^{2} s^{3} + 2 C_{l} M_{1} R_{s} s^{2} + C_{l} R_{l} R_{s} s + L_{1} s + L_{2} s + 2 M_{1} s + R_{l}}$<br>$I_{L2} = \\frac{C_{b} C_{l} L_{1} R_{l} V_{1} s^{3} + C_{b} C_{l} M_{1} R_{l} V_{1} s^{3} - C_{l} L_{s} V_{1} s^{2} + C_{l} M_{1} V_{1} s^{2} - C_{l} R_{s} V_{1} s - V_{1}}{C_{b} C_{l} L_{1} L_{2} R_{l} s^{4} + C_{b} C_{l} L_{1} L_{s} R_{l} s^{4} + C_{b} C_{l} L_{1} R_{l} R_{s} s^{3} + C_{b} C_{l} L_{2} L_{s} R_{l} s^{4} + C_{b} C_{l} L_{2} R_{l} R_{s} s^{3} + 2 C_{b} C_{l} L_{s} M_{1} R_{l} s^{4} - C_{b} C_{l} M_{1}^{2} R_{l} s^{4} + 2 C_{b} C_{l} M_{1} R_{l} R_{s} s^{3} + C_{b} L_{1} R_{l} s^{2} + C_{b} L_{2} R_{l} s^{2} + 2 C_{b} M_{1} R_{l} s^{2} + C_{l} L_{1} L_{2} s^{3} + C_{l} L_{1} L_{s} s^{3} + C_{l} L_{1} R_{l} s^{2} + C_{l} L_{1} R_{s} s^{2} + C_{l} L_{2} L_{s} s^{3} + C_{l} L_{2} R_{s} s^{2} + 2 C_{l} L_{s} M_{1} s^{3} + C_{l} L_{s} R_{l} s^{2} - C_{l} M_{1}^{2} s^{3} + 2 C_{l} M_{1} R_{s} s^{2} + C_{l} R_{l} R_{s} s + L_{1} s + L_{2} s + 2 M_{1} s + R_{l}}$<br>$I_{L s} = \\frac{C_{b} C_{l} L_{1} R_{l} V_{1} s^{3} + C_{b} C_{l} L_{2} R_{l} V_{1} s^{3} + 2 C_{b} C_{l} M_{1} R_{l} V_{1} s^{3} + C_{l} L_{2} V_{1} s^{2} + C_{l} M_{1} V_{1} s^{2} + C_{l} R_{l} V_{1} s}{C_{b} C_{l} L_{1} L_{2} R_{l} s^{4} + C_{b} C_{l} L_{1} L_{s} R_{l} s^{4} + C_{b} C_{l} L_{1} R_{l} R_{s} s^{3} + C_{b} C_{l} L_{2} L_{s} R_{l} s^{4} + C_{b} C_{l} L_{2} R_{l} R_{s} s^{3} + 2 C_{b} C_{l} L_{s} M_{1} R_{l} s^{4} - C_{b} C_{l} M_{1}^{2} R_{l} s^{4} + 2 C_{b} C_{l} M_{1} R_{l} R_{s} s^{3} + C_{b} L_{1} R_{l} s^{2} + C_{b} L_{2} R_{l} s^{2} + 2 C_{b} M_{1} R_{l} s^{2} + C_{l} L_{1} L_{2} s^{3} + C_{l} L_{1} L_{s} s^{3} + C_{l} L_{1} R_{l} s^{2} + C_{l} L_{1} R_{s} s^{2} + C_{l} L_{2} L_{s} s^{3} + C_{l} L_{2} R_{s} s^{2} + 2 C_{l} L_{s} M_{1} s^{3} + C_{l} L_{s} R_{l} s^{2} - C_{l} M_{1}^{2} s^{3} + 2 C_{l} M_{1} R_{s} s^{2} + C_{l} R_{l} R_{s} s + L_{1} s + L_{2} s + 2 M_{1} s + R_{l}}$<br>"
      ],
      "text/plain": [
       "<IPython.core.display.Markdown object>"
      ]
     },
     "execution_count": 80,
     "metadata": {},
     "output_type": "execute_result"
    }
   ],
   "source": [
    "temp = ''\n",
    "for i in U1_sym.keys():\n",
    "    temp += '${:s} = {:s}$<br>'.format(latex(i),latex(U1_sym[i]))\n",
    "\n",
    "Markdown(temp)"
   ]
  },
  {
   "cell_type": "code",
   "execution_count": 81,
   "id": "5a8ed16e-a696-4ea2-b12f-506f56342a14",
   "metadata": {},
   "outputs": [],
   "source": [
    "H1_sym = (U1_sym[v5]/U1_sym[v1]).simplify()"
   ]
  },
  {
   "cell_type": "code",
   "execution_count": 82,
   "id": "a2b49e92-86c2-4488-a04e-21eef51e3156",
   "metadata": {},
   "outputs": [
    {
     "data": {
      "image/png": "[encoded data removed]",
      "text/latex": [
       "$\\displaystyle \\frac{R_{l} + s^{2} \\left(C_{b} L_{1} R_{l} + C_{b} L_{2} R_{l} + 2 C_{b} M_{1} R_{l}\\right) + s \\left(L_{2} + M_{1}\\right)}{R_{l} + s^{4} \\left(C_{b} C_{l} L_{1} L_{2} R_{l} + C_{b} C_{l} L_{1} L_{s} R_{l} + C_{b} C_{l} L_{2} L_{s} R_{l} + 2 C_{b} C_{l} L_{s} M_{1} R_{l} - C_{b} C_{l} M_{1}^{2} R_{l}\\right) + s^{3} \\left(C_{b} C_{l} L_{1} R_{l} R_{s} + C_{b} C_{l} L_{2} R_{l} R_{s} + 2 C_{b} C_{l} M_{1} R_{l} R_{s} + C_{l} L_{1} L_{2} + C_{l} L_{1} L_{s} + C_{l} L_{2} L_{s} + 2 C_{l} L_{s} M_{1} - C_{l} M_{1}^{2}\\right) + s^{2} \\left(C_{b} L_{1} R_{l} + C_{b} L_{2} R_{l} + 2 C_{b} M_{1} R_{l} + C_{l} L_{1} R_{l} + C_{l} L_{1} R_{s} + C_{l} L_{2} R_{s} + C_{l} L_{s} R_{l} + 2 C_{l} M_{1} R_{s}\\right) + s \\left(C_{l} R_{l} R_{s} + L_{1} + L_{2} + 2 M_{1}\\right)}$"
      ],
      "text/plain": [
       "                                                                              \n",
       "                                                                              \n",
       "──────────────────────────────────────────────────────────────────────────────\n",
       "      4 ⎛                                                                     \n",
       "Rₗ + s ⋅⎝C_b⋅Cₗ⋅L₁⋅L₂⋅Rₗ + C_b⋅Cₗ⋅L₁⋅Lₛ⋅Rₗ + C_b⋅Cₗ⋅L₂⋅Lₛ⋅Rₗ + 2⋅C_b⋅Cₗ⋅Lₛ⋅M₁⋅\n",
       "\n",
       "                                                                       2      \n",
       "                                                                 Rₗ + s ⋅(C_b⋅\n",
       "──────────────────────────────────────────────────────────────────────────────\n",
       "              2   ⎞    3 ⎛                                                    \n",
       "Rₗ - C_b⋅Cₗ⋅M₁ ⋅Rₗ⎠ + s ⋅⎝C_b⋅Cₗ⋅L₁⋅Rₗ⋅Rₛ + C_b⋅Cₗ⋅L₂⋅Rₗ⋅Rₛ + 2⋅C_b⋅Cₗ⋅M₁⋅Rₗ⋅R\n",
       "\n",
       "                                                                              \n",
       "L₁⋅Rₗ + C_b⋅L₂⋅Rₗ + 2⋅C_b⋅M₁⋅Rₗ) + s⋅(L₂ + M₁)                                \n",
       "──────────────────────────────────────────────────────────────────────────────\n",
       "                                                       2⎞    2                \n",
       "ₛ + Cₗ⋅L₁⋅L₂ + Cₗ⋅L₁⋅Lₛ + Cₗ⋅L₂⋅Lₛ + 2⋅Cₗ⋅Lₛ⋅M₁ - Cₗ⋅M₁ ⎠ + s ⋅(C_b⋅L₁⋅Rₗ + C_\n",
       "\n",
       "                                                                              \n",
       "                                                                              \n",
       "──────────────────────────────────────────────────────────────────────────────\n",
       "                                                                              \n",
       "b⋅L₂⋅Rₗ + 2⋅C_b⋅M₁⋅Rₗ + Cₗ⋅L₁⋅Rₗ + Cₗ⋅L₁⋅Rₛ + Cₗ⋅L₂⋅Rₛ + Cₗ⋅Lₛ⋅Rₗ + 2⋅Cₗ⋅M₁⋅Rₛ\n",
       "\n",
       "                                 \n",
       "                                 \n",
       "─────────────────────────────────\n",
       "                                 \n",
       ") + s⋅(Cₗ⋅Rₗ⋅Rₛ + L₁ + L₂ + 2⋅M₁)"
      ]
     },
     "execution_count": 82,
     "metadata": {},
     "output_type": "execute_result"
    }
   ],
   "source": [
    "cancel(H1_sym,s)"
   ]
  },
  {
   "cell_type": "code",
   "execution_count": 83,
   "id": "24188cc9-150b-43c4-9c17-c095be634ecd",
   "metadata": {},
   "outputs": [],
   "source": [
    "sym1_num, sym1_denom = fraction(H1_sym,s) #returns numerator and denominator"
   ]
  },
  {
   "cell_type": "markdown",
   "id": "d667aeec-bbb9-413e-9687-56d97385a61c",
   "metadata": {},
   "source": [
    "### Characteristic equation"
   ]
  },
  {
   "cell_type": "code",
   "execution_count": 84,
   "id": "13e728a9-60fb-4b57-a437-4708ca88932b",
   "metadata": {},
   "outputs": [
    {
     "data": {
      "image/png": "[encoded data removed]",
      "text/latex": [
       "$\\displaystyle C_{b} C_{l} L_{1} L_{2} R_{l} s^{4} + C_{b} C_{l} L_{1} L_{s} R_{l} s^{4} + C_{b} C_{l} L_{1} R_{l} R_{s} s^{3} + C_{b} C_{l} L_{2} L_{s} R_{l} s^{4} + C_{b} C_{l} L_{2} R_{l} R_{s} s^{3} + 2 C_{b} C_{l} L_{s} M_{1} R_{l} s^{4} - C_{b} C_{l} M_{1}^{2} R_{l} s^{4} + 2 C_{b} C_{l} M_{1} R_{l} R_{s} s^{3} + C_{b} L_{1} R_{l} s^{2} + C_{b} L_{2} R_{l} s^{2} + 2 C_{b} M_{1} R_{l} s^{2} + C_{l} L_{1} L_{2} s^{3} + C_{l} L_{1} L_{s} s^{3} + C_{l} L_{1} R_{l} s^{2} + C_{l} L_{1} R_{s} s^{2} + C_{l} L_{2} L_{s} s^{3} + C_{l} L_{2} R_{s} s^{2} + 2 C_{l} L_{s} M_{1} s^{3} + C_{l} L_{s} R_{l} s^{2} - C_{l} M_{1}^{2} s^{3} + 2 C_{l} M_{1} R_{s} s^{2} + C_{l} R_{l} R_{s} s + L_{1} s + L_{2} s + 2 M_{1} s + R_{l}$"
      ],
      "text/plain": [
       "                 4                    4                    3                  \n",
       "C_b⋅Cₗ⋅L₁⋅L₂⋅Rₗ⋅s  + C_b⋅Cₗ⋅L₁⋅Lₛ⋅Rₗ⋅s  + C_b⋅Cₗ⋅L₁⋅Rₗ⋅Rₛ⋅s  + C_b⋅Cₗ⋅L₂⋅Lₛ⋅Rₗ\n",
       "\n",
       "  4                    3                      4            2     4            \n",
       "⋅s  + C_b⋅Cₗ⋅L₂⋅Rₗ⋅Rₛ⋅s  + 2⋅C_b⋅Cₗ⋅Lₛ⋅M₁⋅Rₗ⋅s  - C_b⋅Cₗ⋅M₁ ⋅Rₗ⋅s  + 2⋅C_b⋅Cₗ⋅\n",
       "\n",
       "          3              2              2                2             3      \n",
       "M₁⋅Rₗ⋅Rₛ⋅s  + C_b⋅L₁⋅Rₗ⋅s  + C_b⋅L₂⋅Rₗ⋅s  + 2⋅C_b⋅M₁⋅Rₗ⋅s  + Cₗ⋅L₁⋅L₂⋅s  + Cₗ⋅\n",
       "\n",
       "       3             2             2             3             2              \n",
       "L₁⋅Lₛ⋅s  + Cₗ⋅L₁⋅Rₗ⋅s  + Cₗ⋅L₁⋅Rₛ⋅s  + Cₗ⋅L₂⋅Lₛ⋅s  + Cₗ⋅L₂⋅Rₛ⋅s  + 2⋅Cₗ⋅Lₛ⋅M₁⋅\n",
       "\n",
       " 3             2        2  3               2                                  \n",
       "s  + Cₗ⋅Lₛ⋅Rₗ⋅s  - Cₗ⋅M₁ ⋅s  + 2⋅Cₗ⋅M₁⋅Rₛ⋅s  + Cₗ⋅Rₗ⋅Rₛ⋅s + L₁⋅s + L₂⋅s + 2⋅M₁\n",
       "\n",
       "       \n",
       "⋅s + Rₗ"
      ]
     },
     "execution_count": 84,
     "metadata": {},
     "output_type": "execute_result"
    }
   ],
   "source": [
    "sym1_denom"
   ]
  },
  {
   "cell_type": "code",
   "execution_count": 85,
   "id": "8696ca7c-2fb6-46ae-9455-450a76e01b92",
   "metadata": {},
   "outputs": [
    {
     "data": {
      "image/png": "[encoded data removed]",
      "text/latex": [
       "$\\displaystyle R_{l} + s^{4} \\left(C_{b} C_{l} L_{1} L_{2} R_{l} + C_{b} C_{l} L_{1} L_{s} R_{l} + C_{b} C_{l} L_{2} L_{s} R_{l} + 2 C_{b} C_{l} L_{s} M_{1} R_{l} - C_{b} C_{l} M_{1}^{2} R_{l}\\right) + s^{3} \\left(C_{b} C_{l} L_{1} R_{l} R_{s} + C_{b} C_{l} L_{2} R_{l} R_{s} + 2 C_{b} C_{l} M_{1} R_{l} R_{s} + C_{l} L_{1} L_{2} + C_{l} L_{1} L_{s} + C_{l} L_{2} L_{s} + 2 C_{l} L_{s} M_{1} - C_{l} M_{1}^{2}\\right) + s^{2} \\left(C_{b} L_{1} R_{l} + C_{b} L_{2} R_{l} + 2 C_{b} M_{1} R_{l} + C_{l} L_{1} R_{l} + C_{l} L_{1} R_{s} + C_{l} L_{2} R_{s} + C_{l} L_{s} R_{l} + 2 C_{l} M_{1} R_{s}\\right) + s \\left(C_{l} R_{l} R_{s} + L_{1} + L_{2} + 2 M_{1}\\right)$"
      ],
      "text/plain": [
       "      4 ⎛                                                                     \n",
       "Rₗ + s ⋅⎝C_b⋅Cₗ⋅L₁⋅L₂⋅Rₗ + C_b⋅Cₗ⋅L₁⋅Lₛ⋅Rₗ + C_b⋅Cₗ⋅L₂⋅Lₛ⋅Rₗ + 2⋅C_b⋅Cₗ⋅Lₛ⋅M₁⋅\n",
       "\n",
       "              2   ⎞    3 ⎛                                                    \n",
       "Rₗ - C_b⋅Cₗ⋅M₁ ⋅Rₗ⎠ + s ⋅⎝C_b⋅Cₗ⋅L₁⋅Rₗ⋅Rₛ + C_b⋅Cₗ⋅L₂⋅Rₗ⋅Rₛ + 2⋅C_b⋅Cₗ⋅M₁⋅Rₗ⋅R\n",
       "\n",
       "                                                       2⎞    2                \n",
       "ₛ + Cₗ⋅L₁⋅L₂ + Cₗ⋅L₁⋅Lₛ + Cₗ⋅L₂⋅Lₛ + 2⋅Cₗ⋅Lₛ⋅M₁ - Cₗ⋅M₁ ⎠ + s ⋅(C_b⋅L₁⋅Rₗ + C_\n",
       "\n",
       "                                                                              \n",
       "b⋅L₂⋅Rₗ + 2⋅C_b⋅M₁⋅Rₗ + Cₗ⋅L₁⋅Rₗ + Cₗ⋅L₁⋅Rₛ + Cₗ⋅L₂⋅Rₛ + Cₗ⋅Lₛ⋅Rₗ + 2⋅Cₗ⋅M₁⋅Rₛ\n",
       "\n",
       "                                 \n",
       ") + s⋅(Cₗ⋅Rₗ⋅Rₛ + L₁ + L₂ + 2⋅M₁)"
      ]
     },
     "execution_count": 85,
     "metadata": {},
     "output_type": "execute_result"
    }
   ],
   "source": [
    "cancel(sym1_denom,s)"
   ]
  },
  {
   "cell_type": "markdown",
   "id": "871bffa6-c4a8-4cbd-bf72-89f7b6c43452",
   "metadata": {},
   "source": [
    "Get the coefficients of the Laplace variable, s, from the [quadratic equation](https://en.wikipedia.org/wiki/Quadratic_equation):\n",
    "\n",
    "$as^{2}+bs+c=0$\n",
    "\n"
   ]
  },
  {
   "cell_type": "code",
   "execution_count": 31,
   "id": "fa16094c-cff6-4ac7-915c-33a543ef0797",
   "metadata": {},
   "outputs": [
    {
     "data": {
      "image/png": "[encoded data removed]",
      "text/latex": [
       "$\\displaystyle C_{b} L_{1} R_{l} + C_{b} L_{2} R_{l} + 2 C_{b} M_{1} R_{l} + C_{l} L_{1} R_{l} + C_{l} L_{1} R_{s} + C_{l} L_{2} R_{s} + C_{l} L_{s} R_{l} + 2 C_{l} M_{1} R_{s}$"
      ],
      "text/plain": [
       "C_b⋅L₁⋅Rₗ + C_b⋅L₂⋅Rₗ + 2⋅C_b⋅M₁⋅Rₗ + Cₗ⋅L₁⋅Rₗ + Cₗ⋅L₁⋅Rₛ + Cₗ⋅L₂⋅Rₛ + Cₗ⋅Lₛ⋅R\n",
       "ₗ + 2⋅Cₗ⋅M₁⋅Rₛ"
      ]
     },
     "execution_count": 31,
     "metadata": {},
     "output_type": "execute_result"
    }
   ],
   "source": [
    "a = sym1_denom.coeff(s**2)\n",
    "a"
   ]
  },
  {
   "cell_type": "code",
   "execution_count": 32,
   "id": "ceb999ac-ac65-4b42-a38d-b45dd22ab898",
   "metadata": {},
   "outputs": [
    {
     "data": {
      "image/png": "[encoded data removed]",
      "text/latex": [
       "$\\displaystyle C_{l} R_{l} R_{s} + L_{1} + L_{2} + 2 M_{1}$"
      ],
      "text/plain": [
       "Cₗ⋅Rₗ⋅Rₛ + L₁ + L₂ + 2⋅M₁"
      ]
     },
     "execution_count": 32,
     "metadata": {},
     "output_type": "execute_result"
    }
   ],
   "source": [
    "b = sym1_denom.coeff(s)\n",
    "b"
   ]
  },
  {
   "cell_type": "markdown",
   "id": "66765ca0-49e8-4582-89c6-8c2fa73cf67e",
   "metadata": {},
   "source": [
    "To find the c coefficient just subract off $bs$ and $cs^2$ from the quadratic equation."
   ]
  },
  {
   "cell_type": "code",
   "execution_count": 33,
   "id": "fd8f7c20-c0c7-4e51-a74d-1cebf7380296",
   "metadata": {},
   "outputs": [
    {
     "data": {
      "image/png": "[encoded data removed]",
      "text/latex": [
       "$\\displaystyle C_{b} C_{l} L_{1} L_{2} R_{l} s^{4} + C_{b} C_{l} L_{1} L_{s} R_{l} s^{4} + C_{b} C_{l} L_{1} R_{l} R_{s} s^{3} + C_{b} C_{l} L_{2} L_{s} R_{l} s^{4} + C_{b} C_{l} L_{2} R_{l} R_{s} s^{3} + 2 C_{b} C_{l} L_{s} M_{1} R_{l} s^{4} - C_{b} C_{l} M_{1}^{2} R_{l} s^{4} + 2 C_{b} C_{l} M_{1} R_{l} R_{s} s^{3} + C_{b} L_{1} R_{l} s^{2} + C_{b} L_{2} R_{l} s^{2} + 2 C_{b} M_{1} R_{l} s^{2} + C_{l} L_{1} L_{2} s^{3} + C_{l} L_{1} L_{s} s^{3} + C_{l} L_{1} R_{l} s^{2} + C_{l} L_{1} R_{s} s^{2} + C_{l} L_{2} L_{s} s^{3} + C_{l} L_{2} R_{s} s^{2} + 2 C_{l} L_{s} M_{1} s^{3} + C_{l} L_{s} R_{l} s^{2} - C_{l} M_{1}^{2} s^{3} + 2 C_{l} M_{1} R_{s} s^{2} + C_{l} R_{l} R_{s} s + L_{1} s + L_{2} s + 2 M_{1} s + R_{l} - s^{2} \\left(C_{b} L_{1} R_{l} + C_{b} L_{2} R_{l} + 2 C_{b} M_{1} R_{l} + C_{l} L_{1} R_{l} + C_{l} L_{1} R_{s} + C_{l} L_{2} R_{s} + C_{l} L_{s} R_{l} + 2 C_{l} M_{1} R_{s}\\right) - s \\left(C_{l} R_{l} R_{s} + L_{1} + L_{2} + 2 M_{1}\\right)$"
      ],
      "text/plain": [
       "                 4                    4                    3                  \n",
       "C_b⋅Cₗ⋅L₁⋅L₂⋅Rₗ⋅s  + C_b⋅Cₗ⋅L₁⋅Lₛ⋅Rₗ⋅s  + C_b⋅Cₗ⋅L₁⋅Rₗ⋅Rₛ⋅s  + C_b⋅Cₗ⋅L₂⋅Lₛ⋅Rₗ\n",
       "\n",
       "  4                    3                      4            2     4            \n",
       "⋅s  + C_b⋅Cₗ⋅L₂⋅Rₗ⋅Rₛ⋅s  + 2⋅C_b⋅Cₗ⋅Lₛ⋅M₁⋅Rₗ⋅s  - C_b⋅Cₗ⋅M₁ ⋅Rₗ⋅s  + 2⋅C_b⋅Cₗ⋅\n",
       "\n",
       "          3              2              2                2             3      \n",
       "M₁⋅Rₗ⋅Rₛ⋅s  + C_b⋅L₁⋅Rₗ⋅s  + C_b⋅L₂⋅Rₗ⋅s  + 2⋅C_b⋅M₁⋅Rₗ⋅s  + Cₗ⋅L₁⋅L₂⋅s  + Cₗ⋅\n",
       "\n",
       "       3             2             2             3             2              \n",
       "L₁⋅Lₛ⋅s  + Cₗ⋅L₁⋅Rₗ⋅s  + Cₗ⋅L₁⋅Rₛ⋅s  + Cₗ⋅L₂⋅Lₛ⋅s  + Cₗ⋅L₂⋅Rₛ⋅s  + 2⋅Cₗ⋅Lₛ⋅M₁⋅\n",
       "\n",
       " 3             2        2  3               2                                  \n",
       "s  + Cₗ⋅Lₛ⋅Rₗ⋅s  - Cₗ⋅M₁ ⋅s  + 2⋅Cₗ⋅M₁⋅Rₛ⋅s  + Cₗ⋅Rₗ⋅Rₛ⋅s + L₁⋅s + L₂⋅s + 2⋅M₁\n",
       "\n",
       "           2                                                                  \n",
       "⋅s + Rₗ - s ⋅(C_b⋅L₁⋅Rₗ + C_b⋅L₂⋅Rₗ + 2⋅C_b⋅M₁⋅Rₗ + Cₗ⋅L₁⋅Rₗ + Cₗ⋅L₁⋅Rₛ + Cₗ⋅L\n",
       "\n",
       "                                                             \n",
       "₂⋅Rₛ + Cₗ⋅Lₛ⋅Rₗ + 2⋅Cₗ⋅M₁⋅Rₛ) - s⋅(Cₗ⋅Rₗ⋅Rₛ + L₁ + L₂ + 2⋅M₁)"
      ]
     },
     "execution_count": 33,
     "metadata": {},
     "output_type": "execute_result"
    }
   ],
   "source": [
    "c = sym1_denom - b*s - a*s**2\n",
    "c"
   ]
  },
  {
   "cell_type": "markdown",
   "id": "cf7738f6-b5af-46cd-a2c1-2825bf809f47",
   "metadata": {},
   "source": [
    "## Natural frequency and Q factor\n",
    "The expressions for the [natural frequency](https://en.wikipedia.org/wiki/Natural_frequency) and [Q factor](https://en.wikipedia.org/wiki/Q_factor) are shown below:\n",
    "\n",
    "$\\omega _n = \\sqrt {\\frac {c}{a}}$\n",
    "\n",
    "$Q = \\omega _n \\frac {a}{b}$\n",
    "\n",
    "These xpressions have their orgin in classical mechanics describing [harmonic oscillators](https://en.wikipedia.org/wiki/Harmonic_oscillator) and are applicable to 2nd order electrical systems. \n",
    "\n",
    "The [damping ratio](https://en.wikipedia.org/wiki/Damping) is defined by the equation:  \n",
    "\n",
    "$\\zeta = \\frac {1}{2Q}$\n"
   ]
  },
  {
   "cell_type": "code",
   "execution_count": 34,
   "id": "30e4128e-ebbd-4621-9d9a-b889cba54e7c",
   "metadata": {},
   "outputs": [
    {
     "data": {
      "image/png": "[encoded data removed]",
      "text/latex": [
       "$\\displaystyle \\sqrt{\\frac{C_{b} C_{l} L_{1} L_{2} R_{l} s^{4} + C_{b} C_{l} L_{1} L_{s} R_{l} s^{4} + C_{b} C_{l} L_{1} R_{l} R_{s} s^{3} + C_{b} C_{l} L_{2} L_{s} R_{l} s^{4} + C_{b} C_{l} L_{2} R_{l} R_{s} s^{3} + 2 C_{b} C_{l} L_{s} M_{1} R_{l} s^{4} - C_{b} C_{l} M_{1}^{2} R_{l} s^{4} + 2 C_{b} C_{l} M_{1} R_{l} R_{s} s^{3} + C_{b} L_{1} R_{l} s^{2} + C_{b} L_{2} R_{l} s^{2} + 2 C_{b} M_{1} R_{l} s^{2} + C_{l} L_{1} L_{2} s^{3} + C_{l} L_{1} L_{s} s^{3} + C_{l} L_{1} R_{l} s^{2} + C_{l} L_{1} R_{s} s^{2} + C_{l} L_{2} L_{s} s^{3} + C_{l} L_{2} R_{s} s^{2} + 2 C_{l} L_{s} M_{1} s^{3} + C_{l} L_{s} R_{l} s^{2} - C_{l} M_{1}^{2} s^{3} + 2 C_{l} M_{1} R_{s} s^{2} + C_{l} R_{l} R_{s} s + L_{1} s + L_{2} s + 2 M_{1} s + R_{l} - s^{2} \\left(C_{b} L_{1} R_{l} + C_{b} L_{2} R_{l} + 2 C_{b} M_{1} R_{l} + C_{l} L_{1} R_{l} + C_{l} L_{1} R_{s} + C_{l} L_{2} R_{s} + C_{l} L_{s} R_{l} + 2 C_{l} M_{1} R_{s}\\right) - s \\left(C_{l} R_{l} R_{s} + L_{1} + L_{2} + 2 M_{1}\\right)}{C_{b} L_{1} R_{l} + C_{b} L_{2} R_{l} + 2 C_{b} M_{1} R_{l} + C_{l} L_{1} R_{l} + C_{l} L_{1} R_{s} + C_{l} L_{2} R_{s} + C_{l} L_{s} R_{l} + 2 C_{l} M_{1} R_{s}}}$"
      ],
      "text/plain": [
       "     _________________________________________________________________________\n",
       "    ╱                  4                    4                    3            \n",
       "   ╱  C_b⋅Cₗ⋅L₁⋅L₂⋅Rₗ⋅s  + C_b⋅Cₗ⋅L₁⋅Lₛ⋅Rₗ⋅s  + C_b⋅Cₗ⋅L₁⋅Rₗ⋅Rₛ⋅s  + C_b⋅Cₗ⋅L₂\n",
       "  ╱   ────────────────────────────────────────────────────────────────────────\n",
       "╲╱                                                                            \n",
       "\n",
       "______________________________________________________________________________\n",
       "        4                    3                      4            2     4      \n",
       "⋅Lₛ⋅Rₗ⋅s  + C_b⋅Cₗ⋅L₂⋅Rₗ⋅Rₛ⋅s  + 2⋅C_b⋅Cₗ⋅Lₛ⋅M₁⋅Rₗ⋅s  - C_b⋅Cₗ⋅M₁ ⋅Rₗ⋅s  + 2⋅C\n",
       "──────────────────────────────────────────────────────────────────────────────\n",
       "                                                                              \n",
       "\n",
       "______________________________________________________________________________\n",
       "                3              2              2                2             3\n",
       "_b⋅Cₗ⋅M₁⋅Rₗ⋅Rₛ⋅s  + C_b⋅L₁⋅Rₗ⋅s  + C_b⋅L₂⋅Rₗ⋅s  + 2⋅C_b⋅M₁⋅Rₗ⋅s  + Cₗ⋅L₁⋅L₂⋅s \n",
       "──────────────────────────────────────────────────────────────────────────────\n",
       "                                                                     C_b⋅L₁⋅Rₗ\n",
       "\n",
       "______________________________________________________________________________\n",
       "             3             2             2             3             2        \n",
       " + Cₗ⋅L₁⋅Lₛ⋅s  + Cₗ⋅L₁⋅Rₗ⋅s  + Cₗ⋅L₁⋅Rₛ⋅s  + Cₗ⋅L₂⋅Lₛ⋅s  + Cₗ⋅L₂⋅Rₛ⋅s  + 2⋅Cₗ⋅\n",
       "──────────────────────────────────────────────────────────────────────────────\n",
       " + C_b⋅L₂⋅Rₗ + 2⋅C_b⋅M₁⋅Rₗ + Cₗ⋅L₁⋅Rₗ + Cₗ⋅L₁⋅Rₛ + Cₗ⋅L₂⋅Rₛ + Cₗ⋅Lₛ⋅Rₗ + 2⋅Cₗ⋅\n",
       "\n",
       "______________________________________________________________________________\n",
       "       3             2        2  3               2                            \n",
       "Lₛ⋅M₁⋅s  + Cₗ⋅Lₛ⋅Rₗ⋅s  - Cₗ⋅M₁ ⋅s  + 2⋅Cₗ⋅M₁⋅Rₛ⋅s  + Cₗ⋅Rₗ⋅Rₛ⋅s + L₁⋅s + L₂⋅s \n",
       "──────────────────────────────────────────────────────────────────────────────\n",
       "M₁⋅Rₛ                                                                         \n",
       "\n",
       "______________________________________________________________________________\n",
       "                 2                                                            \n",
       "+ 2⋅M₁⋅s + Rₗ - s ⋅(C_b⋅L₁⋅Rₗ + C_b⋅L₂⋅Rₗ + 2⋅C_b⋅M₁⋅Rₗ + Cₗ⋅L₁⋅Rₗ + Cₗ⋅L₁⋅Rₛ \n",
       "──────────────────────────────────────────────────────────────────────────────\n",
       "                                                                              \n",
       "\n",
       "____________________________________________________________________\n",
       "                                                                    \n",
       "+ Cₗ⋅L₂⋅Rₛ + Cₗ⋅Lₛ⋅Rₗ + 2⋅Cₗ⋅M₁⋅Rₛ) - s⋅(Cₗ⋅Rₗ⋅Rₛ + L₁ + L₂ + 2⋅M₁) \n",
       "─────────────────────────────────────────────────────────────────── \n",
       "                                                                    "
      ]
     },
     "execution_count": 34,
     "metadata": {},
     "output_type": "execute_result"
    }
   ],
   "source": [
    "omega_n = sqrt(c/a)\n",
    "omega_n"
   ]
  },
  {
   "cell_type": "code",
   "execution_count": 35,
   "id": "12581390-dd22-4d8c-b7d0-39d402c528d7",
   "metadata": {},
   "outputs": [
    {
     "data": {
      "image/png": "[encoded data removed]",
      "text/latex": [
       "$\\displaystyle \\frac{\\sqrt{\\frac{C_{b} C_{l} L_{1} L_{2} R_{l} s^{4} + C_{b} C_{l} L_{1} L_{s} R_{l} s^{4} + C_{b} C_{l} L_{1} R_{l} R_{s} s^{3} + C_{b} C_{l} L_{2} L_{s} R_{l} s^{4} + C_{b} C_{l} L_{2} R_{l} R_{s} s^{3} + 2 C_{b} C_{l} L_{s} M_{1} R_{l} s^{4} - C_{b} C_{l} M_{1}^{2} R_{l} s^{4} + 2 C_{b} C_{l} M_{1} R_{l} R_{s} s^{3} + C_{b} L_{1} R_{l} s^{2} + C_{b} L_{2} R_{l} s^{2} + 2 C_{b} M_{1} R_{l} s^{2} + C_{l} L_{1} L_{2} s^{3} + C_{l} L_{1} L_{s} s^{3} + C_{l} L_{1} R_{l} s^{2} + C_{l} L_{1} R_{s} s^{2} + C_{l} L_{2} L_{s} s^{3} + C_{l} L_{2} R_{s} s^{2} + 2 C_{l} L_{s} M_{1} s^{3} + C_{l} L_{s} R_{l} s^{2} - C_{l} M_{1}^{2} s^{3} + 2 C_{l} M_{1} R_{s} s^{2} + C_{l} R_{l} R_{s} s + L_{1} s + L_{2} s + 2 M_{1} s + R_{l} - s^{2} \\left(C_{b} L_{1} R_{l} + C_{b} L_{2} R_{l} + 2 C_{b} M_{1} R_{l} + C_{l} L_{1} R_{l} + C_{l} L_{1} R_{s} + C_{l} L_{2} R_{s} + C_{l} L_{s} R_{l} + 2 C_{l} M_{1} R_{s}\\right) - s \\left(C_{l} R_{l} R_{s} + L_{1} + L_{2} + 2 M_{1}\\right)}{C_{b} L_{1} R_{l} + C_{b} L_{2} R_{l} + 2 C_{b} M_{1} R_{l} + C_{l} L_{1} R_{l} + C_{l} L_{1} R_{s} + C_{l} L_{2} R_{s} + C_{l} L_{s} R_{l} + 2 C_{l} M_{1} R_{s}}} \\left(C_{b} L_{1} R_{l} + C_{b} L_{2} R_{l} + 2 C_{b} M_{1} R_{l} + C_{l} L_{1} R_{l} + C_{l} L_{1} R_{s} + C_{l} L_{2} R_{s} + C_{l} L_{s} R_{l} + 2 C_{l} M_{1} R_{s}\\right)}{C_{l} R_{l} R_{s} + L_{1} + L_{2} + 2 M_{1}}$"
      ],
      "text/plain": [
       "     _________________________________________________________________________\n",
       "    ╱                  4                    4                    3            \n",
       "   ╱  C_b⋅Cₗ⋅L₁⋅L₂⋅Rₗ⋅s  + C_b⋅Cₗ⋅L₁⋅Lₛ⋅Rₗ⋅s  + C_b⋅Cₗ⋅L₁⋅Rₗ⋅Rₛ⋅s  + C_b⋅Cₗ⋅L₂\n",
       "  ╱   ────────────────────────────────────────────────────────────────────────\n",
       "╲╱                                                                            \n",
       "──────────────────────────────────────────────────────────────────────────────\n",
       "                                                                              \n",
       "\n",
       "______________________________________________________________________________\n",
       "        4                    3                      4            2     4      \n",
       "⋅Lₛ⋅Rₗ⋅s  + C_b⋅Cₗ⋅L₂⋅Rₗ⋅Rₛ⋅s  + 2⋅C_b⋅Cₗ⋅Lₛ⋅M₁⋅Rₗ⋅s  - C_b⋅Cₗ⋅M₁ ⋅Rₗ⋅s  + 2⋅C\n",
       "──────────────────────────────────────────────────────────────────────────────\n",
       "                                                                              \n",
       "──────────────────────────────────────────────────────────────────────────────\n",
       "                                                                              \n",
       "\n",
       "______________________________________________________________________________\n",
       "                3              2              2                2             3\n",
       "_b⋅Cₗ⋅M₁⋅Rₗ⋅Rₛ⋅s  + C_b⋅L₁⋅Rₗ⋅s  + C_b⋅L₂⋅Rₗ⋅s  + 2⋅C_b⋅M₁⋅Rₗ⋅s  + Cₗ⋅L₁⋅L₂⋅s \n",
       "──────────────────────────────────────────────────────────────────────────────\n",
       "                                                                     C_b⋅L₁⋅Rₗ\n",
       "──────────────────────────────────────────────────────────────────────────────\n",
       "                                                                              \n",
       "\n",
       "______________________________________________________________________________\n",
       "             3             2             2             3             2        \n",
       " + Cₗ⋅L₁⋅Lₛ⋅s  + Cₗ⋅L₁⋅Rₗ⋅s  + Cₗ⋅L₁⋅Rₛ⋅s  + Cₗ⋅L₂⋅Lₛ⋅s  + Cₗ⋅L₂⋅Rₛ⋅s  + 2⋅Cₗ⋅\n",
       "──────────────────────────────────────────────────────────────────────────────\n",
       " + C_b⋅L₂⋅Rₗ + 2⋅C_b⋅M₁⋅Rₗ + Cₗ⋅L₁⋅Rₗ + Cₗ⋅L₁⋅Rₛ + Cₗ⋅L₂⋅Rₛ + Cₗ⋅Lₛ⋅Rₗ + 2⋅Cₗ⋅\n",
       "──────────────────────────────────────────────────────────────────────────────\n",
       "                                                                     Cₗ⋅Rₗ⋅Rₛ \n",
       "\n",
       "______________________________________________________________________________\n",
       "       3             2        2  3               2                            \n",
       "Lₛ⋅M₁⋅s  + Cₗ⋅Lₛ⋅Rₗ⋅s  - Cₗ⋅M₁ ⋅s  + 2⋅Cₗ⋅M₁⋅Rₛ⋅s  + Cₗ⋅Rₗ⋅Rₛ⋅s + L₁⋅s + L₂⋅s \n",
       "──────────────────────────────────────────────────────────────────────────────\n",
       "M₁⋅Rₛ                                                                         \n",
       "──────────────────────────────────────────────────────────────────────────────\n",
       "+ L₁ + L₂ + 2⋅M₁                                                              \n",
       "\n",
       "______________________________________________________________________________\n",
       "                 2                                                            \n",
       "+ 2⋅M₁⋅s + Rₗ - s ⋅(C_b⋅L₁⋅Rₗ + C_b⋅L₂⋅Rₗ + 2⋅C_b⋅M₁⋅Rₗ + Cₗ⋅L₁⋅Rₗ + Cₗ⋅L₁⋅Rₛ \n",
       "──────────────────────────────────────────────────────────────────────────────\n",
       "                                                                              \n",
       "──────────────────────────────────────────────────────────────────────────────\n",
       "                                                                              \n",
       "\n",
       "____________________________________________________________________          \n",
       "                                                                              \n",
       "+ Cₗ⋅L₂⋅Rₛ + Cₗ⋅Lₛ⋅Rₗ + 2⋅Cₗ⋅M₁⋅Rₛ) - s⋅(Cₗ⋅Rₗ⋅Rₛ + L₁ + L₂ + 2⋅M₁)           \n",
       "─────────────────────────────────────────────────────────────────── ⋅(C_b⋅L₁⋅R\n",
       "                                                                              \n",
       "──────────────────────────────────────────────────────────────────────────────\n",
       "                                                                              \n",
       "\n",
       "                                                                              \n",
       "                                                                              \n",
       "                                                                              \n",
       "ₗ + C_b⋅L₂⋅Rₗ + 2⋅C_b⋅M₁⋅Rₗ + Cₗ⋅L₁⋅Rₗ + Cₗ⋅L₁⋅Rₛ + Cₗ⋅L₂⋅Rₛ + Cₗ⋅Lₛ⋅Rₗ + 2⋅Cₗ\n",
       "                                                                              \n",
       "──────────────────────────────────────────────────────────────────────────────\n",
       "                                                                              \n",
       "\n",
       "       \n",
       "       \n",
       "       \n",
       "⋅M₁⋅Rₛ)\n",
       "       \n",
       "───────\n",
       "       "
      ]
     },
     "execution_count": 35,
     "metadata": {},
     "output_type": "execute_result"
    }
   ],
   "source": [
    "Q = (a/b)*omega_n\n",
    "Q"
   ]
  },
  {
   "cell_type": "code",
   "execution_count": null,
   "id": "5785f8b9-8724-44d6-b47a-e2441fc55daa",
   "metadata": {},
   "outputs": [],
   "source": []
  },
  {
   "cell_type": "markdown",
   "id": "65669000-2acd-4168-96c9-2b68d68e2e56",
   "metadata": {},
   "source": [
    "## Circuit 2\n",
    "\n",
    "![T coil ver 2](T-coil-ver2.png){#fig-t-coil2}  \n",
    "\n",
    "From: @Razavi2015\n",
    "\n",
    "change V1 to current source.\n",
    "\n",
    "\n",
    "```\n",
    "* C:\\users\\jeff64\\My Documents\\T-Coil\\T-Coil-ver2.asc\n",
    "V1 1 0 1\n",
    "L1 2 1 1 Rser=0\n",
    "L2 3 2 1 Rser=0\n",
    "R1 4 3 1\n",
    "C1 3 1 1\n",
    "C2 2 0 1\n",
    "V2 4 0 1\n",
    ".op\n",
    "K1 L1 L2 0.5\n",
    "* ;.ac list 1\n",
    ".backanno\n",
    ".end\n",
    "\n",
    "```"
   ]
  },
  {
   "cell_type": "code",
   "execution_count": null,
   "id": "99f3f00c-c0bd-4553-b44c-ac039d5c4612",
   "metadata": {},
   "outputs": [],
   "source": []
  },
  {
   "cell_type": "markdown",
   "id": "9dbf0f01-77eb-4183-9055-7128ee024e15",
   "metadata": {},
   "source": [
    "## Circuit 3\n",
    "\n",
    "![T coil ver 3](T-coil-ver3.png){#fig-t-coil3}  \n",
    "\n",
    "From: @Razavi2015\n",
    "\n",
    "\n",
    "```\n",
    "* C:\\users\\jeff64\\My Documents\\T-Coil\\T-Coil-ver3.asc\n",
    "V1 1 0 1\n",
    "L1 2 1 1 Rser=0\n",
    "L2 3 2 1 Rser=0\n",
    "C1 2 0 1\n",
    "C2 3 1 1\n",
    "R1 3 0 1\n",
    "K1 L1 L2 0.5\n",
    ".op\n",
    ".backanno\n",
    ".end\n",
    "```"
   ]
  },
  {
   "cell_type": "raw",
   "id": "e1b1ca5f-df7b-4e69-994a-ce7b0dbe8041",
   "metadata": {},
   "source": [
    "NE1_sym.free_symbols"
   ]
  },
  {
   "cell_type": "raw",
   "id": "c801441c-5d2e-43d7-9f4f-6f22a1b840a0",
   "metadata": {},
   "source": [
    "U1_sym.free_symbols"
   ]
  },
  {
   "cell_type": "raw",
   "id": "91e49039-fcea-44d3-9447-ffbe579df0c0",
   "metadata": {},
   "source": [
    "from sympy import *"
   ]
  },
  {
   "cell_type": "raw",
   "id": "d8f1a7c1-544d-4948-9a68-1b757ec2c835",
   "metadata": {},
   "source": [
    "globals().keys()"
   ]
  },
  {
   "cell_type": "raw",
   "id": "3ce590bb-5bad-47cf-914d-c8366ea19ba2",
   "metadata": {},
   "source": [
    "vars()"
   ]
  },
  {
   "cell_type": "raw",
   "id": "13969aeb-42e3-4591-a091-0362f836b14d",
   "metadata": {},
   "source": [
    "for z0 in U1_sym.free_symbols:\n",
    "    del globals()[z0]"
   ]
  },
  {
   "cell_type": "markdown",
   "id": "87b8274f-e362-4264-a189-30b37d067f1a",
   "metadata": {
    "tags": []
   },
   "source": [
    "### Load the netlist\n",
    "The netlist generated by LTSpice is pasted into the cell below and some edits were made to remove the inductor series resistance and the independent sources are set to their DC values."
   ]
  },
  {
   "cell_type": "code",
   "execution_count": 43,
   "id": "cf50fd68-7819-4ffb-b85e-78872f14d1a0",
   "metadata": {},
   "outputs": [],
   "source": [
    "net_list3 = '''\n",
    "V1 1 0 1\n",
    "L1 2 1 1 \n",
    "L2 3 2 1 \n",
    "C1 2 0 1\n",
    "C2 3 1 1\n",
    "R1 3 0 1\n",
    "K1 L1 L2 0.5\n",
    "'''"
   ]
  },
  {
   "cell_type": "markdown",
   "id": "f682706c-4773-4a7e-b4b2-c6829e6a41c1",
   "metadata": {},
   "source": [
    "Generate the network equations."
   ]
  },
  {
   "cell_type": "code",
   "execution_count": 44,
   "id": "1e427289-e8e7-4c7d-bb1c-a5c107af1447",
   "metadata": {},
   "outputs": [],
   "source": [
    "report, network3_df, network3_df2, A, X, Z = SymMNA.smna(net_list3)\n",
    "\n",
    "# Put matricies into SymPy \n",
    "X = Matrix(X)\n",
    "Z = Matrix(Z)\n",
    "\n",
    "NE3_sym = Eq(A*X,Z)"
   ]
  },
  {
   "cell_type": "markdown",
   "id": "d5930afa-defd-4d37-ab40-4aad216fa249",
   "metadata": {},
   "source": [
    "Generate markdown text to display the network equations."
   ]
  },
  {
   "cell_type": "code",
   "execution_count": 45,
   "id": "c58ad5ac-b5d8-42b7-9c99-ab9b7f46333d",
   "metadata": {},
   "outputs": [
    {
     "data": {
      "text/markdown": [
       "$C_{2} s v_{1} - C_{2} s v_{3} - I_{L1} + I_{V1} = 0$<br>$C_{1} s v_{2} + I_{L1} - I_{L2} = 0$<br>$- C_{2} s v_{1} + I_{L2} + v_{3} \\left(C_{2} s + \\frac{1}{R_{1}}\\right) = 0$<br>$v_{1} = V_{1}$<br>$- I_{L1} L_{1} s - I_{L2} M_{1} s - v_{1} + v_{2} = 0$<br>$- I_{L1} M_{1} s - I_{L2} L_{2} s - v_{2} + v_{3} = 0$<br>"
      ],
      "text/plain": [
       "<IPython.core.display.Markdown object>"
      ]
     },
     "execution_count": 45,
     "metadata": {},
     "output_type": "execute_result"
    }
   ],
   "source": [
    "temp = ''\n",
    "for i in range(len(X)):\n",
    "    temp += '${:s}$<br>'.format(latex(Eq((A*X)[i:i+1][0],Z[i])))\n",
    "\n",
    "Markdown(temp)"
   ]
  },
  {
   "cell_type": "markdown",
   "id": "e571f6ad-bfdd-4089-9e0a-97ebe45e61e2",
   "metadata": {},
   "source": [
    "As shown above MNA generated many equations and these would be difficult to solve by hand and a symbolic soultion would take a lot of computing time. The equations are displace in matrix notation."
   ]
  },
  {
   "cell_type": "code",
   "execution_count": 46,
   "id": "3b1a5d9d-8d1c-4ef6-9aec-7baa1a09ae0f",
   "metadata": {},
   "outputs": [
    {
     "data": {
      "text/latex": [
       "$\\displaystyle \\left[\\begin{matrix}C_{2} s v_{1} - C_{2} s v_{3} - I_{L1} + I_{V1}\\\\C_{1} s v_{2} + I_{L1} - I_{L2}\\\\- C_{2} s v_{1} + I_{L2} + v_{3} \\left(C_{2} s + \\frac{1}{R_{1}}\\right)\\\\v_{1}\\\\- I_{L1} L_{1} s - I_{L2} M_{1} s - v_{1} + v_{2}\\\\- I_{L1} M_{1} s - I_{L2} L_{2} s - v_{2} + v_{3}\\end{matrix}\\right] = \\left[\\begin{matrix}0\\\\0\\\\0\\\\V_{1}\\\\0\\\\0\\end{matrix}\\right]$"
      ],
      "text/plain": [
       "⎡C₂⋅s⋅v₁ - C₂⋅s⋅v₃ - I_L1 + I_V1 ⎤       \n",
       "⎢                                ⎥   ⎡0 ⎤\n",
       "⎢     C₁⋅s⋅v₂ + I_L1 - I_L2      ⎥   ⎢  ⎥\n",
       "⎢                                ⎥   ⎢0 ⎥\n",
       "⎢                     ⎛       1 ⎞⎥   ⎢  ⎥\n",
       "⎢-C₂⋅s⋅v₁ + I_L2 + v₃⋅⎜C₂⋅s + ──⎟⎥   ⎢0 ⎥\n",
       "⎢                     ⎝       R₁⎠⎥ = ⎢  ⎥\n",
       "⎢                                ⎥   ⎢V₁⎥\n",
       "⎢               v₁               ⎥   ⎢  ⎥\n",
       "⎢                                ⎥   ⎢0 ⎥\n",
       "⎢-I_L1⋅L₁⋅s - I_L2⋅M₁⋅s - v₁ + v₂⎥   ⎢  ⎥\n",
       "⎢                                ⎥   ⎣0 ⎦\n",
       "⎣-I_L1⋅M₁⋅s - I_L2⋅L₂⋅s - v₂ + v₃⎦       "
      ]
     },
     "execution_count": 46,
     "metadata": {},
     "output_type": "execute_result"
    }
   ],
   "source": [
    "NE3_sym"
   ]
  },
  {
   "cell_type": "markdown",
   "id": "a6c78c2f-6c9a-4833-8aff-daefa9ee1ec1",
   "metadata": {},
   "source": [
    "The symbols generated by the Python code are extraced by the SymPy function free_symbols and then declared as SymPy variables. "
   ]
  },
  {
   "cell_type": "code",
   "execution_count": 47,
   "id": "4e8c47b7-6335-4526-84c0-6fc8a772b71a",
   "metadata": {},
   "outputs": [
    {
     "data": {
      "image/png": "[encoded data removed]",
      "text/latex": [
       "$\\displaystyle \\left( L_{2}, \\  I_{L1}, \\  L_{1}, \\  V_{1}, \\  I_{L2}, \\  M_{1}, \\  R_{1}, \\  C_{1}, \\  v_{1}, \\  I_{V1}, \\  s, \\  v_{2}, \\  v_{3}, \\  C_{2}\\right)$"
      ],
      "text/plain": [
       "(L₂, I_L1, L₁, V₁, I_L2, M₁, R₁, C₁, v₁, I_V1, s, v₂, v₃, C₂)"
      ]
     },
     "execution_count": 47,
     "metadata": {},
     "output_type": "execute_result"
    }
   ],
   "source": [
    "# turn the free symbols into SymPy variables\n",
    "var(str(NE3_sym.free_symbols).replace('{','').replace('}',''))"
   ]
  },
  {
   "cell_type": "markdown",
   "id": "6c9a9a8c-c664-466f-9713-675cb4c53a62",
   "metadata": {},
   "source": [
    "Built a dictionary of element values."
   ]
  },
  {
   "cell_type": "code",
   "execution_count": 48,
   "id": "8316a37d-1af2-4784-99c8-9a30928d5455",
   "metadata": {},
   "outputs": [
    {
     "data": {
      "image/png": "[encoded data removed]",
      "text/latex": [
       "$\\displaystyle \\left\\{ C_{1} : 1.0, \\  C_{2} : 1.0, \\  K_{1} : 0.5, \\  L_{1} : 1.0, \\  L_{2} : 1.0, \\  R_{1} : 1.0, \\  V_{1} : 1.0\\right\\}$"
      ],
      "text/plain": [
       "{C₁: 1.0, C₂: 1.0, K₁: 0.5, L₁: 1.0, L₂: 1.0, R₁: 1.0, V₁: 1.0}"
      ]
     },
     "execution_count": 48,
     "metadata": {},
     "output_type": "execute_result"
    }
   ],
   "source": [
    "element_values = SymMNA.get_part_values(network3_df)\n",
    "element_values"
   ]
  },
  {
   "cell_type": "markdown",
   "id": "682c0fbf-53bb-4bd7-9d8c-5134608ac616",
   "metadata": {},
   "source": [
    "Generate the symbolic solution"
   ]
  },
  {
   "cell_type": "code",
   "execution_count": 49,
   "id": "bd5854f7-5613-4d71-91e2-e33ae4675fcf",
   "metadata": {},
   "outputs": [],
   "source": [
    "U3_sym = solve(NE3_sym,X)"
   ]
  },
  {
   "cell_type": "markdown",
   "id": "8c710b4f-c5e4-4aac-a135-1bbb26a5ff4c",
   "metadata": {},
   "source": [
    "Display the symbolic solution"
   ]
  },
  {
   "cell_type": "code",
   "execution_count": 50,
   "id": "1e8cc778-7944-43d5-98db-66cc241b5985",
   "metadata": {},
   "outputs": [
    {
     "data": {
      "text/markdown": [
       "$v_{1} = V_{1}$<br>$v_{2} = \\frac{C_{2} L_{1} R_{1} V_{1} s^{2} + C_{2} L_{2} R_{1} V_{1} s^{2} + 2 C_{2} M_{1} R_{1} V_{1} s^{2} + L_{2} V_{1} s + M_{1} V_{1} s + R_{1} V_{1}}{C_{1} C_{2} L_{1} L_{2} R_{1} s^{4} - C_{1} C_{2} M_{1}^{2} R_{1} s^{4} + C_{1} L_{1} L_{2} s^{3} + C_{1} L_{1} R_{1} s^{2} - C_{1} M_{1}^{2} s^{3} + C_{2} L_{1} R_{1} s^{2} + C_{2} L_{2} R_{1} s^{2} + 2 C_{2} M_{1} R_{1} s^{2} + L_{1} s + L_{2} s + 2 M_{1} s + R_{1}}$<br>$v_{3} = \\frac{C_{1} C_{2} L_{1} L_{2} R_{1} V_{1} s^{4} - C_{1} C_{2} M_{1}^{2} R_{1} V_{1} s^{4} - C_{1} M_{1} R_{1} V_{1} s^{2} + C_{2} L_{1} R_{1} V_{1} s^{2} + C_{2} L_{2} R_{1} V_{1} s^{2} + 2 C_{2} M_{1} R_{1} V_{1} s^{2} + R_{1} V_{1}}{C_{1} C_{2} L_{1} L_{2} R_{1} s^{4} - C_{1} C_{2} M_{1}^{2} R_{1} s^{4} + C_{1} L_{1} L_{2} s^{3} + C_{1} L_{1} R_{1} s^{2} - C_{1} M_{1}^{2} s^{3} + C_{2} L_{1} R_{1} s^{2} + C_{2} L_{2} R_{1} s^{2} + 2 C_{2} M_{1} R_{1} s^{2} + L_{1} s + L_{2} s + 2 M_{1} s + R_{1}}$<br>$I_{V1} = \\frac{- C_{1} C_{2} L_{1} L_{2} V_{1} s^{4} - C_{1} C_{2} L_{1} R_{1} V_{1} s^{3} - C_{1} C_{2} L_{2} R_{1} V_{1} s^{3} + C_{1} C_{2} M_{1}^{2} V_{1} s^{4} - 2 C_{1} C_{2} M_{1} R_{1} V_{1} s^{3} - C_{1} L_{2} V_{1} s^{2} - C_{1} R_{1} V_{1} s - C_{2} L_{1} V_{1} s^{2} - C_{2} L_{2} V_{1} s^{2} - 2 C_{2} M_{1} V_{1} s^{2} - V_{1}}{C_{1} C_{2} L_{1} L_{2} R_{1} s^{4} - C_{1} C_{2} M_{1}^{2} R_{1} s^{4} + C_{1} L_{1} L_{2} s^{3} + C_{1} L_{1} R_{1} s^{2} - C_{1} M_{1}^{2} s^{3} + C_{2} L_{1} R_{1} s^{2} + C_{2} L_{2} R_{1} s^{2} + 2 C_{2} M_{1} R_{1} s^{2} + L_{1} s + L_{2} s + 2 M_{1} s + R_{1}}$<br>$I_{L1} = \\frac{- C_{1} C_{2} L_{2} R_{1} V_{1} s^{3} - C_{1} C_{2} M_{1} R_{1} V_{1} s^{3} - C_{1} L_{2} V_{1} s^{2} - C_{1} R_{1} V_{1} s - V_{1}}{C_{1} C_{2} L_{1} L_{2} R_{1} s^{4} - C_{1} C_{2} M_{1}^{2} R_{1} s^{4} + C_{1} L_{1} L_{2} s^{3} + C_{1} L_{1} R_{1} s^{2} - C_{1} M_{1}^{2} s^{3} + C_{2} L_{1} R_{1} s^{2} + C_{2} L_{2} R_{1} s^{2} + 2 C_{2} M_{1} R_{1} s^{2} + L_{1} s + L_{2} s + 2 M_{1} s + R_{1}}$<br>$I_{L2} = \\frac{C_{1} C_{2} L_{1} R_{1} V_{1} s^{3} + C_{1} C_{2} M_{1} R_{1} V_{1} s^{3} + C_{1} M_{1} V_{1} s^{2} - V_{1}}{C_{1} C_{2} L_{1} L_{2} R_{1} s^{4} - C_{1} C_{2} M_{1}^{2} R_{1} s^{4} + C_{1} L_{1} L_{2} s^{3} + C_{1} L_{1} R_{1} s^{2} - C_{1} M_{1}^{2} s^{3} + C_{2} L_{1} R_{1} s^{2} + C_{2} L_{2} R_{1} s^{2} + 2 C_{2} M_{1} R_{1} s^{2} + L_{1} s + L_{2} s + 2 M_{1} s + R_{1}}$<br>"
      ],
      "text/plain": [
       "<IPython.core.display.Markdown object>"
      ]
     },
     "execution_count": 50,
     "metadata": {},
     "output_type": "execute_result"
    }
   ],
   "source": [
    "temp = ''\n",
    "for i in U3_sym.keys():\n",
    "    temp += '${:s} = {:s}$<br>'.format(latex(i),latex(U3_sym[i]))\n",
    "\n",
    "Markdown(temp)"
   ]
  },
  {
   "cell_type": "code",
   "execution_count": 51,
   "id": "8004e2f9-6db5-43c0-a0bc-a4bd09f47e5d",
   "metadata": {},
   "outputs": [],
   "source": [
    "H3_sym = (U3_sym[v3]/U3_sym[v1]).simplify()"
   ]
  },
  {
   "cell_type": "code",
   "execution_count": 52,
   "id": "d267042b-f638-42f3-9304-b71038222f7c",
   "metadata": {},
   "outputs": [
    {
     "data": {
      "image/png": "[encoded data removed]",
      "text/latex": [
       "$\\displaystyle \\frac{R_{1} + s^{4} \\left(C_{1} C_{2} L_{1} L_{2} R_{1} - C_{1} C_{2} M_{1}^{2} R_{1}\\right) + s^{2} \\left(- C_{1} M_{1} R_{1} + C_{2} L_{1} R_{1} + C_{2} L_{2} R_{1} + 2 C_{2} M_{1} R_{1}\\right)}{R_{1} + s^{4} \\left(C_{1} C_{2} L_{1} L_{2} R_{1} - C_{1} C_{2} M_{1}^{2} R_{1}\\right) + s^{3} \\left(C_{1} L_{1} L_{2} - C_{1} M_{1}^{2}\\right) + s^{2} \\left(C_{1} L_{1} R_{1} + C_{2} L_{1} R_{1} + C_{2} L_{2} R_{1} + 2 C_{2} M_{1} R_{1}\\right) + s \\left(L_{1} + L_{2} + 2 M_{1}\\right)}$"
      ],
      "text/plain": [
       "                            4 ⎛                         2   ⎞    2            \n",
       "                      R₁ + s ⋅⎝C₁⋅C₂⋅L₁⋅L₂⋅R₁ - C₁⋅C₂⋅M₁ ⋅R₁⎠ + s ⋅(-C₁⋅M₁⋅R₁ \n",
       "──────────────────────────────────────────────────────────────────────────────\n",
       "      4 ⎛                         2   ⎞    3 ⎛                2⎞    2         \n",
       "R₁ + s ⋅⎝C₁⋅C₂⋅L₁⋅L₂⋅R₁ - C₁⋅C₂⋅M₁ ⋅R₁⎠ + s ⋅⎝C₁⋅L₁⋅L₂ - C₁⋅M₁ ⎠ + s ⋅(C₁⋅L₁⋅R\n",
       "\n",
       "                                                          \n",
       "+ C₂⋅L₁⋅R₁ + C₂⋅L₂⋅R₁ + 2⋅C₂⋅M₁⋅R₁)                       \n",
       "──────────────────────────────────────────────────────────\n",
       "                                                          \n",
       "₁ + C₂⋅L₁⋅R₁ + C₂⋅L₂⋅R₁ + 2⋅C₂⋅M₁⋅R₁) + s⋅(L₁ + L₂ + 2⋅M₁)"
      ]
     },
     "execution_count": 52,
     "metadata": {},
     "output_type": "execute_result"
    }
   ],
   "source": [
    "cancel(H3_sym,s)"
   ]
  },
  {
   "cell_type": "code",
   "execution_count": 53,
   "id": "a230237c-980c-42c0-a84a-2595c42ddbaf",
   "metadata": {
    "tags": []
   },
   "outputs": [],
   "source": [
    "sym3_num, sym3_denom = fraction(H3_sym,s) #returns numerator and denominator"
   ]
  },
  {
   "cell_type": "code",
   "execution_count": 61,
   "id": "4352fb4d-6ba0-4d28-8592-d5279d72a557",
   "metadata": {},
   "outputs": [
    {
     "data": {
      "image/png": "[encoded data removed]",
      "text/latex": [
       "$\\displaystyle R_{1} + s^{4} \\left(C_{1} C_{2} L_{1} L_{2} R_{1} - C_{1} C_{2} M_{1}^{2} R_{1}\\right) + s^{2} \\left(- C_{1} M_{1} R_{1} + C_{2} L_{1} R_{1} + C_{2} L_{2} R_{1} + 2 C_{2} M_{1} R_{1}\\right)$"
      ],
      "text/plain": [
       "      4 ⎛                         2   ⎞    2                                  \n",
       "R₁ + s ⋅⎝C₁⋅C₂⋅L₁⋅L₂⋅R₁ - C₁⋅C₂⋅M₁ ⋅R₁⎠ + s ⋅(-C₁⋅M₁⋅R₁ + C₂⋅L₁⋅R₁ + C₂⋅L₂⋅R₁ \n",
       "\n",
       "             \n",
       "+ 2⋅C₂⋅M₁⋅R₁)"
      ]
     },
     "execution_count": 61,
     "metadata": {},
     "output_type": "execute_result"
    }
   ],
   "source": [
    "cancel(sym3_num,s)"
   ]
  },
  {
   "cell_type": "code",
   "execution_count": 62,
   "id": "e8d6f784-9a47-4a1c-a41b-5ebd85656ac6",
   "metadata": {},
   "outputs": [
    {
     "data": {
      "image/png": "[encoded data removed]",
      "text/latex": [
       "$\\displaystyle R_{1} + s^{4} \\left(C_{1} C_{2} L_{1} L_{2} R_{1} - C_{1} C_{2} M_{1}^{2} R_{1}\\right) + s^{3} \\left(C_{1} L_{1} L_{2} - C_{1} M_{1}^{2}\\right) + s^{2} \\left(C_{1} L_{1} R_{1} + C_{2} L_{1} R_{1} + C_{2} L_{2} R_{1} + 2 C_{2} M_{1} R_{1}\\right) + s \\left(L_{1} + L_{2} + 2 M_{1}\\right)$"
      ],
      "text/plain": [
       "      4 ⎛                         2   ⎞    3 ⎛                2⎞    2         \n",
       "R₁ + s ⋅⎝C₁⋅C₂⋅L₁⋅L₂⋅R₁ - C₁⋅C₂⋅M₁ ⋅R₁⎠ + s ⋅⎝C₁⋅L₁⋅L₂ - C₁⋅M₁ ⎠ + s ⋅(C₁⋅L₁⋅R\n",
       "\n",
       "                                                          \n",
       "₁ + C₂⋅L₁⋅R₁ + C₂⋅L₂⋅R₁ + 2⋅C₂⋅M₁⋅R₁) + s⋅(L₁ + L₂ + 2⋅M₁)"
      ]
     },
     "execution_count": 62,
     "metadata": {},
     "output_type": "execute_result"
    }
   ],
   "source": [
    "cancel(sym3_denom,s)"
   ]
  },
  {
   "cell_type": "code",
   "execution_count": null,
   "id": "c09b80a2-258f-4adb-aac7-69be0877368f",
   "metadata": {},
   "outputs": [],
   "source": []
  },
  {
   "cell_type": "code",
   "execution_count": null,
   "id": "04514fbb-f4be-4e2a-a40e-b3593f805b57",
   "metadata": {},
   "outputs": [],
   "source": []
  },
  {
   "cell_type": "code",
   "execution_count": null,
   "id": "6a80053d-0476-448f-8936-a4f7728cf311",
   "metadata": {},
   "outputs": [],
   "source": []
  },
  {
   "cell_type": "markdown",
   "id": "52fac291-d388-493a-bbb4-bae3d71a34c9",
   "metadata": {},
   "source": [
    "## Circuit 4\n",
    "\n",
    "![T coil ver 4](T-coil-ver4.png){#fig-t-coil4}  \n",
    "\n",
    "From: @Razavi2015\n",
    "\n",
    "\n",
    "```\n",
    "* C:\\users\\jeff64\\My Documents\\T-Coil\\T-Coil-ver4.asc\n",
    "L1 1 2 1 Rser=0\n",
    "L2 3 1 1 Rser=0\n",
    "R1 4 3 1\n",
    "C1 3 2 1\n",
    "V2 4 0 1\n",
    "I1 1 0 1\n",
    "R2 2 0 1\n",
    "C2 1 0 1\n",
    ".op\n",
    "K1 L1 L2 0.5\n",
    "* ;.ac list 1\n",
    ".backanno\n",
    ".end\n",
    "\n",
    "```"
   ]
  },
  {
   "cell_type": "code",
   "execution_count": null,
   "id": "05b29303-6790-47a4-b2e0-c60eb88e64a6",
   "metadata": {},
   "outputs": [],
   "source": []
  },
  {
   "cell_type": "code",
   "execution_count": null,
   "id": "4c65d64d-8a1f-4a6e-96ef-11565019a2c7",
   "metadata": {},
   "outputs": [],
   "source": []
  },
  {
   "cell_type": "markdown",
   "id": "8786bd06-1549-477c-96ab-b93a7cac01d0",
   "metadata": {},
   "source": [
    "## Summary\n",
    "  "
   ]
  },
  {
   "cell_type": "code",
   "execution_count": null,
   "id": "7f15a8d5-4b11-4f2a-9a68-38dc9e03e9a7",
   "metadata": {},
   "outputs": [],
   "source": []
  }
 ],
 "metadata": {
  "kernelspec": {
   "display_name": "Python 3 (ipykernel)",
   "language": "python",
   "name": "python3"
  },
  "language_info": {
   "codemirror_mode": {
    "name": "ipython",
    "version": 3
   },
   "file_extension": ".py",
   "mimetype": "text/x-python",
   "name": "python",
   "nbconvert_exporter": "python",
   "pygments_lexer": "ipython3",
   "version": "3.10.9"
  }
 },
 "nbformat": 4,
 "nbformat_minor": 5
}
