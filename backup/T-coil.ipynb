{
 "cells": [
  {
   "cell_type": "raw",
   "id": "0a487630-5c00-4894-be5e-64b90ff705b9",
   "metadata": {},
   "source": [
    "---\n",
    "title:\n",
    "format: \n",
    "    html:\n",
    "        code-fold: false\n",
    "        embed-resources: false\n",
    "        code-tools: true\n",
    "        number-sections: true\n",
    "jupyter: python3\n",
    "---"
   ]
  },
  {
   "cell_type": "markdown",
   "id": "3a4eb0f3-428e-408b-99e9-d409f7b1872d",
   "metadata": {},
   "source": [
    "# T-coil\n",
    "Last update: 13 Feb 2024  \n",
    "\n",
    "![T coil ver 1](T-coil-ver1.png){#fig-t-coil1}  \n",
    "\n",
    "From: @williams1991\n",
    "\n",
    ">These new amplifiers had rise times comparable to the propagation time between stages, so it became important to eliminate reflections between stages. The bridged T coil became extremely important because it allowed the input of each stage to be very well terminated. The F1, doubler's simple high frequency input impedance could be well modeled with a series RLC. Bob Ross wrote the equations for the asymmetrical bridged T coil which could peak a series RLC load. The derivation Figure 14-6. is quite complex, and the equations were held as a trade secret until recently. The F1, doubler and the bridged T coil were used extensively in the Tektronix 7904 introduced in 1972. \n",
    "\n",
    "\n",
    "```\n",
    "* C:\\users\\jeff64\\My Documents\\T-Coil\\T-Coil-ver1.asc\n",
    "V1 1 0 1\n",
    "L1 2 1 1 Rser=0\n",
    "L2 3 2 1 Rser=0\n",
    "L3 2 4 1 Rser=0\n",
    "C1 5 0 1\n",
    "C2 3 1 1\n",
    "R1 3 0 1\n",
    "R2 4 5 1\n",
    "K1 L1 L2 0.5\n",
    ".op\n",
    ".backanno\n",
    ".end\n",
    "\n",
    "```"
   ]
  },
  {
   "cell_type": "markdown",
   "id": "dc5f4693-476e-48c1-821c-a0d275a6402c",
   "metadata": {},
   "source": [
    "![T coil ver 2](T-coil-ver2.png){#fig-t-coil2}  \n",
    "\n",
    "From: @Razavi2015\n",
    "\n",
    "\n",
    "```\n",
    "* C:\\users\\jeff64\\My Documents\\T-Coil\\T-Coil-ver2.asc\n",
    "V1 1 0 1\n",
    "L1 2 1 1 Rser=0\n",
    "L2 3 2 1 Rser=0\n",
    "R1 4 3 1\n",
    "C1 3 1 1\n",
    "C2 2 0 1\n",
    "V2 4 0 1\n",
    ".op\n",
    "K1 L1 L2 0.5\n",
    "* ;.ac list 1\n",
    ".backanno\n",
    ".end\n",
    "\n",
    "```"
   ]
  },
  {
   "cell_type": "markdown",
   "id": "4754abfc-dfe4-4104-b1d7-396d6b245eb6",
   "metadata": {},
   "source": [
    "![T coil ver 3](T-coil-ver3.png){#fig-t-coil3}  \n",
    "\n",
    "From: @Razavi2015\n",
    "\n",
    "\n",
    "```\n",
    "* C:\\users\\jeff64\\My Documents\\T-Coil\\T-Coil-ver3.asc\n",
    "V1 1 0 1\n",
    "L1 2 1 1 Rser=0\n",
    "L2 3 2 1 Rser=0\n",
    "C1 2 0 1\n",
    "C2 3 1 1\n",
    "R1 3 0 1\n",
    "K1 L1 L2 0.5\n",
    ".op\n",
    ".backanno\n",
    ".end\n",
    "\n",
    "```"
   ]
  },
  {
   "cell_type": "markdown",
   "id": "699a3e3e-9a49-48a7-81e2-9adbbc3ac42f",
   "metadata": {},
   "source": [
    "![T coil ver 4](T-coil-ver4.png){#fig-t-coil4}  \n",
    "\n",
    "From: @Razavi2015\n",
    "\n",
    "\n",
    "```\n",
    "* C:\\users\\jeff64\\My Documents\\T-Coil\\T-Coil-ver4.asc\n",
    "L1 1 2 1 Rser=0\n",
    "L2 3 1 1 Rser=0\n",
    "R1 4 3 1\n",
    "C1 3 2 1\n",
    "V2 4 0 1\n",
    "I1 1 0 1\n",
    "R2 2 0 1\n",
    "C2 1 0 1\n",
    ".op\n",
    "K1 L1 L2 0.5\n",
    "* ;.ac list 1\n",
    ".backanno\n",
    ".end\n",
    "\n",
    "```"
   ]
  },
  {
   "cell_type": "markdown",
   "id": "2c71a4af-b622-4d42-b0ae-409135a3bbb2",
   "metadata": {},
   "source": [
    "## Abstract {.unnumbered}\n",
    "\n",
    "## Introduction\n",
    "\n",
    "@fig-t-coil1\n",
    "\n",
    "@fig-t-coil2\n",
    "\n",
    "@fig-t-coil3\n",
    "\n",
    "@fig-t-coil4\n",
    "\n",
    "@williams1991, art of analog design\n",
    "\n",
    "@Jeong2020, bandwidth extension, IC design \n",
    "\n",
    "@Razavi2015, IEEE article\n",
    "\n",
    "@Ross2011, slide show presentation\n",
    "\n",
    "patents  \n",
    "\n",
    "@lin2015\n",
    "\n",
    "@fan2020\n",
    "\n",
    "\n",
    "\n",
    "\n",
    "\n",
    "## Circuit description\n",
    "\n",
    "- write for each configuration   \n",
    "- The circuit in @fig-t-coil1 has 10 branches and eight nodes. \n",
    "\n",
    "\n",
    "\n",
    "There are two capacitors, seven resistors in the circuit and three Op Amps. The circuit has a low pass, a high pass and band pass outputs.\n",
    "\n",
    "## Circuit analysis\n",
    "The circuit was drawn using LTSpice and the netlist was pasted into the code. Network equations were generated using the smna() function and a symbolic solution for the equations was obtained. \n",
    "\n",
    "- two port parameters\n",
    "\n",
    "\n",
    "\n",
    " \n",
    "\n",
    "The net list for the filter is:\n",
    "```\n",
    "* T-Coil-ver1.asc\n",
    "V1 1 0 1\n",
    "L1 2 1 1 Rser=0\n",
    "L2 3 2 1 Rser=0\n",
    "L3 2 4 1 Rser=0\n",
    "C1 5 0 1\n",
    "C2 3 1 1\n",
    "R1 3 0 1\n",
    "R2 4 5 1\n",
    "K1 L1 L2 0.5\n",
    ".op\n",
    ".backanno\n",
    ".end\n",
    "```\n",
    "\n",
    "The following Python modules are used."
   ]
  },
  {
   "cell_type": "code",
   "execution_count": 1,
   "id": "37fe9680-80e5-4777-9e15-0be880463b9e",
   "metadata": {
    "collapsed": false,
    "jupyter": {
     "outputs_hidden": false
    }
   },
   "outputs": [],
   "source": [
    "from sympy import *\n",
    "import numpy as np\n",
    "from tabulate import tabulate\n",
    "import pandas as pd\n",
    "import matplotlib.pyplot as plt\n",
    "import SymMNA\n",
    "from IPython.display import display, Markdown, Math, Latex\n",
    "init_printing()"
   ]
  },
  {
   "cell_type": "code",
   "execution_count": 2,
   "id": "dfa63d8f-c564-4563-ab5f-80db79ed40ca",
   "metadata": {},
   "outputs": [],
   "source": [
    "t = symbols('t',positive=True)  # t > 0"
   ]
  },
  {
   "cell_type": "markdown",
   "id": "fbaf4419-56cb-4fea-b886-ad53301d42e7",
   "metadata": {
    "tags": []
   },
   "source": [
    "### Load the netlist\n",
    "The netlist generated by LTSpice is pasted into the cell below and some edits were made to remove the inductor series resistance and the independent sources are set to their DC values."
   ]
  },
  {
   "cell_type": "code",
   "execution_count": 3,
   "id": "9d520fef-e12f-4c2e-9b15-49586271f560",
   "metadata": {},
   "outputs": [],
   "source": [
    "net_list = '''\n",
    "V1 1 0 1\n",
    "L1 2 1 1\n",
    "L2 3 2 1 \n",
    "L3 2 4 1\n",
    "C1 5 0 1\n",
    "C2 3 1 1\n",
    "R1 3 0 1\n",
    "R2 4 5 1\n",
    "K1 L1 L2 0.5\n",
    "'''"
   ]
  },
  {
   "cell_type": "markdown",
   "id": "1fe4bbd6-37b9-4356-b120-54fddbab1dcc",
   "metadata": {},
   "source": [
    "Generate the network equations."
   ]
  },
  {
   "cell_type": "code",
   "execution_count": 4,
   "id": "f23f0d4c-3ac1-4178-b7ba-83ac48a1357b",
   "metadata": {},
   "outputs": [],
   "source": [
    "report, network_df, df2, A, X, Z = SymMNA.smna(net_list)\n",
    "\n",
    "# Put matricies into SymPy \n",
    "X = Matrix(X)\n",
    "Z = Matrix(Z)\n",
    "\n",
    "NE_sym = Eq(A*X,Z)"
   ]
  },
  {
   "cell_type": "markdown",
   "id": "e69c083a-7025-4fd0-b8a7-30d6507dc54b",
   "metadata": {},
   "source": [
    "Generate markdown text to display the network equations."
   ]
  },
  {
   "cell_type": "code",
   "execution_count": 5,
   "id": "c8363ae2-4306-4727-8588-ca4a5ae8824c",
   "metadata": {},
   "outputs": [
    {
     "data": {
      "text/markdown": [
       "$C_{2} s v_{1} - C_{2} s v_{3} - I_{L1} + I_{V1} = 0$<br>$I_{L1} - I_{L2} + I_{L3} = 0$<br>$- C_{2} s v_{1} + I_{L2} + v_{3} \\left(C_{2} s + \\frac{1}{R_{1}}\\right) = 0$<br>$- I_{L3} + \\frac{v_{4}}{R_{2}} - \\frac{v_{5}}{R_{2}} = 0$<br>$v_{5} \\left(C_{1} s + \\frac{1}{R_{2}}\\right) - \\frac{v_{4}}{R_{2}} = 0$<br>$v_{1} = V_{1}$<br>$- I_{L1} L_{1} s - I_{L2} M_{1} s - v_{1} + v_{2} = 0$<br>$- I_{L1} M_{1} s - I_{L2} L_{2} s - v_{2} + v_{3} = 0$<br>$- I_{L3} L_{3} s + v_{2} - v_{4} = 0$<br>"
      ],
      "text/plain": [
       "<IPython.core.display.Markdown object>"
      ]
     },
     "execution_count": 5,
     "metadata": {},
     "output_type": "execute_result"
    }
   ],
   "source": [
    "temp = ''\n",
    "for i in range(len(X)):\n",
    "    temp += '${:s}$<br>'.format(latex(Eq((A*X)[i:i+1][0],Z[i])))\n",
    "\n",
    "Markdown(temp)"
   ]
  },
  {
   "cell_type": "markdown",
   "id": "40ac5dfe-20a3-4141-8891-a97a3c3ee0a3",
   "metadata": {},
   "source": [
    "As shown above MNA generated many equations and these would be difficult to solve by hand and a symbolic soultion would take a lot of computing time. The equations are displace in matrix notation."
   ]
  },
  {
   "cell_type": "code",
   "execution_count": 6,
   "id": "64015040-e7ed-4082-b7ca-7cb38dcfe7c6",
   "metadata": {},
   "outputs": [
    {
     "data": {
      "text/latex": [
       "$\\displaystyle \\left[\\begin{matrix}C_{2} s v_{1} - C_{2} s v_{3} - I_{L1} + I_{V1}\\\\I_{L1} - I_{L2} + I_{L3}\\\\- C_{2} s v_{1} + I_{L2} + v_{3} \\left(C_{2} s + \\frac{1}{R_{1}}\\right)\\\\- I_{L3} + \\frac{v_{4}}{R_{2}} - \\frac{v_{5}}{R_{2}}\\\\v_{5} \\left(C_{1} s + \\frac{1}{R_{2}}\\right) - \\frac{v_{4}}{R_{2}}\\\\v_{1}\\\\- I_{L1} L_{1} s - I_{L2} M_{1} s - v_{1} + v_{2}\\\\- I_{L1} M_{1} s - I_{L2} L_{2} s - v_{2} + v_{3}\\\\- I_{L3} L_{3} s + v_{2} - v_{4}\\end{matrix}\\right] = \\left[\\begin{matrix}0\\\\0\\\\0\\\\0\\\\0\\\\V_{1}\\\\0\\\\0\\\\0\\end{matrix}\\right]$"
      ],
      "text/plain": [
       "⎡C₂⋅s⋅v₁ - C₂⋅s⋅v₃ - I_L1 + I_V1 ⎤       \n",
       "⎢                                ⎥       \n",
       "⎢       I_L1 - I_L2 + I_L3       ⎥       \n",
       "⎢                                ⎥   ⎡0 ⎤\n",
       "⎢                     ⎛       1 ⎞⎥   ⎢  ⎥\n",
       "⎢-C₂⋅s⋅v₁ + I_L2 + v₃⋅⎜C₂⋅s + ──⎟⎥   ⎢0 ⎥\n",
       "⎢                     ⎝       R₁⎠⎥   ⎢  ⎥\n",
       "⎢                                ⎥   ⎢0 ⎥\n",
       "⎢                v₄   v₅         ⎥   ⎢  ⎥\n",
       "⎢        -I_L3 + ── - ──         ⎥   ⎢0 ⎥\n",
       "⎢                R₂   R₂         ⎥   ⎢  ⎥\n",
       "⎢                                ⎥ = ⎢0 ⎥\n",
       "⎢         ⎛       1 ⎞   v₄       ⎥   ⎢  ⎥\n",
       "⎢      v₅⋅⎜C₁⋅s + ──⎟ - ──       ⎥   ⎢V₁⎥\n",
       "⎢         ⎝       R₂⎠   R₂       ⎥   ⎢  ⎥\n",
       "⎢                                ⎥   ⎢0 ⎥\n",
       "⎢               v₁               ⎥   ⎢  ⎥\n",
       "⎢                                ⎥   ⎢0 ⎥\n",
       "⎢-I_L1⋅L₁⋅s - I_L2⋅M₁⋅s - v₁ + v₂⎥   ⎢  ⎥\n",
       "⎢                                ⎥   ⎣0 ⎦\n",
       "⎢-I_L1⋅M₁⋅s - I_L2⋅L₂⋅s - v₂ + v₃⎥       \n",
       "⎢                                ⎥       \n",
       "⎣      -I_L3⋅L₃⋅s + v₂ - v₄      ⎦       "
      ]
     },
     "execution_count": 6,
     "metadata": {},
     "output_type": "execute_result"
    }
   ],
   "source": [
    "NE_sym"
   ]
  },
  {
   "cell_type": "markdown",
   "id": "7e28e893-4d6a-4049-a0ce-033c8397ead3",
   "metadata": {},
   "source": [
    "The symbols generated by the Python code are extraced by the SymPy function free_symbols and then declared as SymPy variables. "
   ]
  },
  {
   "cell_type": "code",
   "execution_count": 7,
   "id": "d793f1de-62ec-4ba3-96c0-823d4b75918c",
   "metadata": {},
   "outputs": [
    {
     "data": {
      "image/png": "[encoded data removed]",
      "text/latex": [
       "$\\displaystyle \\left( C_{2}, \\  M_{1}, \\  v_{5}, \\  R_{2}, \\  I_{L3}, \\  L_{1}, \\  I_{L1}, \\  I_{L2}, \\  L_{3}, \\  V_{1}, \\  s, \\  v_{1}, \\  v_{3}, \\  v_{2}, \\  v_{4}, \\  L_{2}, \\  R_{1}, \\  I_{V1}, \\  C_{1}\\right)$"
      ],
      "text/plain": [
       "(C₂, M₁, v₅, R₂, I_L3, L₁, I_L1, I_L2, L₃, V₁, s, v₁, v₃, v₂, v₄, L₂, R₁, I_V1\n",
       ", C₁)"
      ]
     },
     "execution_count": 7,
     "metadata": {},
     "output_type": "execute_result"
    }
   ],
   "source": [
    "# turn the free symbols into SymPy variables\n",
    "var(str(NE_sym.free_symbols).replace('{','').replace('}',''))"
   ]
  },
  {
   "cell_type": "markdown",
   "id": "f496affb-f841-4705-80c4-84dddfe44f36",
   "metadata": {},
   "source": [
    "Built a dictionary of element values."
   ]
  },
  {
   "cell_type": "code",
   "execution_count": 8,
   "id": "7380789c-4a44-4acc-b34d-ee04e9b0018a",
   "metadata": {},
   "outputs": [
    {
     "data": {
      "image/png": "[encoded data removed]",
      "text/latex": [
       "$\\displaystyle \\left\\{ C_{1} : 1.0, \\  C_{2} : 1.0, \\  K_{1} : 0.5, \\  L_{1} : 1.0, \\  L_{2} : 1.0, \\  L_{3} : 1.0, \\  R_{1} : 1.0, \\  R_{2} : 1.0, \\  V_{1} : 1.0\\right\\}$"
      ],
      "text/plain": [
       "{C₁: 1.0, C₂: 1.0, K₁: 0.5, L₁: 1.0, L₂: 1.0, L₃: 1.0, R₁: 1.0, R₂: 1.0, V₁: 1\n",
       ".0}"
      ]
     },
     "execution_count": 8,
     "metadata": {},
     "output_type": "execute_result"
    }
   ],
   "source": [
    "element_values = SymMNA.get_part_values(network_df)\n",
    "element_values"
   ]
  },
  {
   "cell_type": "markdown",
   "id": "64408a69-a7e3-4d6a-9c6d-81cd31d76a03",
   "metadata": {},
   "source": [
    "Generate the symbolic solution"
   ]
  },
  {
   "cell_type": "code",
   "execution_count": 9,
   "id": "53c23328-6861-4d3a-85ab-09a373139439",
   "metadata": {},
   "outputs": [],
   "source": [
    "U_sym = solve(NE_sym,X)"
   ]
  },
  {
   "cell_type": "markdown",
   "id": "8eccfbdb-0984-41b9-beee-f89eac2462ca",
   "metadata": {},
   "source": [
    "Display the symbolic solution"
   ]
  },
  {
   "cell_type": "code",
   "execution_count": 10,
   "id": "6c9c34c9-20c0-4911-907d-7339d191139a",
   "metadata": {},
   "outputs": [
    {
     "data": {
      "text/markdown": [
       "$v_{1} = V_{1}$<br>$v_{2} = \\frac{C_{1} C_{2} L_{1} L_{3} R_{1} V_{1} s^{4} + C_{1} C_{2} L_{1} R_{1} R_{2} V_{1} s^{3} + C_{1} C_{2} L_{2} L_{3} R_{1} V_{1} s^{4} + C_{1} C_{2} L_{2} R_{1} R_{2} V_{1} s^{3} + 2 C_{1} C_{2} L_{3} M_{1} R_{1} V_{1} s^{4} + 2 C_{1} C_{2} M_{1} R_{1} R_{2} V_{1} s^{3} + C_{1} L_{2} L_{3} V_{1} s^{3} + C_{1} L_{2} R_{2} V_{1} s^{2} + C_{1} L_{3} M_{1} V_{1} s^{3} + C_{1} L_{3} R_{1} V_{1} s^{2} + C_{1} M_{1} R_{2} V_{1} s^{2} + C_{1} R_{1} R_{2} V_{1} s + C_{2} L_{1} R_{1} V_{1} s^{2} + C_{2} L_{2} R_{1} V_{1} s^{2} + 2 C_{2} M_{1} R_{1} V_{1} s^{2} + L_{2} V_{1} s + M_{1} V_{1} s + R_{1} V_{1}}{C_{1} C_{2} L_{1} L_{2} R_{1} s^{4} + C_{1} C_{2} L_{1} L_{3} R_{1} s^{4} + C_{1} C_{2} L_{1} R_{1} R_{2} s^{3} + C_{1} C_{2} L_{2} L_{3} R_{1} s^{4} + C_{1} C_{2} L_{2} R_{1} R_{2} s^{3} + 2 C_{1} C_{2} L_{3} M_{1} R_{1} s^{4} - C_{1} C_{2} M_{1}^{2} R_{1} s^{4} + 2 C_{1} C_{2} M_{1} R_{1} R_{2} s^{3} + C_{1} L_{1} L_{2} s^{3} + C_{1} L_{1} L_{3} s^{3} + C_{1} L_{1} R_{1} s^{2} + C_{1} L_{1} R_{2} s^{2} + C_{1} L_{2} L_{3} s^{3} + C_{1} L_{2} R_{2} s^{2} + 2 C_{1} L_{3} M_{1} s^{3} + C_{1} L_{3} R_{1} s^{2} - C_{1} M_{1}^{2} s^{3} + 2 C_{1} M_{1} R_{2} s^{2} + C_{1} R_{1} R_{2} s + C_{2} L_{1} R_{1} s^{2} + C_{2} L_{2} R_{1} s^{2} + 2 C_{2} M_{1} R_{1} s^{2} + L_{1} s + L_{2} s + 2 M_{1} s + R_{1}}$<br>$v_{3} = \\frac{C_{1} C_{2} L_{1} L_{2} R_{1} V_{1} s^{4} + C_{1} C_{2} L_{1} L_{3} R_{1} V_{1} s^{4} + C_{1} C_{2} L_{1} R_{1} R_{2} V_{1} s^{3} + C_{1} C_{2} L_{2} L_{3} R_{1} V_{1} s^{4} + C_{1} C_{2} L_{2} R_{1} R_{2} V_{1} s^{3} + 2 C_{1} C_{2} L_{3} M_{1} R_{1} V_{1} s^{4} - C_{1} C_{2} M_{1}^{2} R_{1} V_{1} s^{4} + 2 C_{1} C_{2} M_{1} R_{1} R_{2} V_{1} s^{3} + C_{1} L_{3} R_{1} V_{1} s^{2} - C_{1} M_{1} R_{1} V_{1} s^{2} + C_{1} R_{1} R_{2} V_{1} s + C_{2} L_{1} R_{1} V_{1} s^{2} + C_{2} L_{2} R_{1} V_{1} s^{2} + 2 C_{2} M_{1} R_{1} V_{1} s^{2} + R_{1} V_{1}}{C_{1} C_{2} L_{1} L_{2} R_{1} s^{4} + C_{1} C_{2} L_{1} L_{3} R_{1} s^{4} + C_{1} C_{2} L_{1} R_{1} R_{2} s^{3} + C_{1} C_{2} L_{2} L_{3} R_{1} s^{4} + C_{1} C_{2} L_{2} R_{1} R_{2} s^{3} + 2 C_{1} C_{2} L_{3} M_{1} R_{1} s^{4} - C_{1} C_{2} M_{1}^{2} R_{1} s^{4} + 2 C_{1} C_{2} M_{1} R_{1} R_{2} s^{3} + C_{1} L_{1} L_{2} s^{3} + C_{1} L_{1} L_{3} s^{3} + C_{1} L_{1} R_{1} s^{2} + C_{1} L_{1} R_{2} s^{2} + C_{1} L_{2} L_{3} s^{3} + C_{1} L_{2} R_{2} s^{2} + 2 C_{1} L_{3} M_{1} s^{3} + C_{1} L_{3} R_{1} s^{2} - C_{1} M_{1}^{2} s^{3} + 2 C_{1} M_{1} R_{2} s^{2} + C_{1} R_{1} R_{2} s + C_{2} L_{1} R_{1} s^{2} + C_{2} L_{2} R_{1} s^{2} + 2 C_{2} M_{1} R_{1} s^{2} + L_{1} s + L_{2} s + 2 M_{1} s + R_{1}}$<br>$v_{4} = \\frac{C_{1} C_{2} L_{1} R_{1} R_{2} V_{1} s^{3} + C_{1} C_{2} L_{2} R_{1} R_{2} V_{1} s^{3} + 2 C_{1} C_{2} M_{1} R_{1} R_{2} V_{1} s^{3} + C_{1} L_{2} R_{2} V_{1} s^{2} + C_{1} M_{1} R_{2} V_{1} s^{2} + C_{1} R_{1} R_{2} V_{1} s + C_{2} L_{1} R_{1} V_{1} s^{2} + C_{2} L_{2} R_{1} V_{1} s^{2} + 2 C_{2} M_{1} R_{1} V_{1} s^{2} + L_{2} V_{1} s + M_{1} V_{1} s + R_{1} V_{1}}{C_{1} C_{2} L_{1} L_{2} R_{1} s^{4} + C_{1} C_{2} L_{1} L_{3} R_{1} s^{4} + C_{1} C_{2} L_{1} R_{1} R_{2} s^{3} + C_{1} C_{2} L_{2} L_{3} R_{1} s^{4} + C_{1} C_{2} L_{2} R_{1} R_{2} s^{3} + 2 C_{1} C_{2} L_{3} M_{1} R_{1} s^{4} - C_{1} C_{2} M_{1}^{2} R_{1} s^{4} + 2 C_{1} C_{2} M_{1} R_{1} R_{2} s^{3} + C_{1} L_{1} L_{2} s^{3} + C_{1} L_{1} L_{3} s^{3} + C_{1} L_{1} R_{1} s^{2} + C_{1} L_{1} R_{2} s^{2} + C_{1} L_{2} L_{3} s^{3} + C_{1} L_{2} R_{2} s^{2} + 2 C_{1} L_{3} M_{1} s^{3} + C_{1} L_{3} R_{1} s^{2} - C_{1} M_{1}^{2} s^{3} + 2 C_{1} M_{1} R_{2} s^{2} + C_{1} R_{1} R_{2} s + C_{2} L_{1} R_{1} s^{2} + C_{2} L_{2} R_{1} s^{2} + 2 C_{2} M_{1} R_{1} s^{2} + L_{1} s + L_{2} s + 2 M_{1} s + R_{1}}$<br>$v_{5} = \\frac{C_{2} L_{1} R_{1} V_{1} s^{2} + C_{2} L_{2} R_{1} V_{1} s^{2} + 2 C_{2} M_{1} R_{1} V_{1} s^{2} + L_{2} V_{1} s + M_{1} V_{1} s + R_{1} V_{1}}{C_{1} C_{2} L_{1} L_{2} R_{1} s^{4} + C_{1} C_{2} L_{1} L_{3} R_{1} s^{4} + C_{1} C_{2} L_{1} R_{1} R_{2} s^{3} + C_{1} C_{2} L_{2} L_{3} R_{1} s^{4} + C_{1} C_{2} L_{2} R_{1} R_{2} s^{3} + 2 C_{1} C_{2} L_{3} M_{1} R_{1} s^{4} - C_{1} C_{2} M_{1}^{2} R_{1} s^{4} + 2 C_{1} C_{2} M_{1} R_{1} R_{2} s^{3} + C_{1} L_{1} L_{2} s^{3} + C_{1} L_{1} L_{3} s^{3} + C_{1} L_{1} R_{1} s^{2} + C_{1} L_{1} R_{2} s^{2} + C_{1} L_{2} L_{3} s^{3} + C_{1} L_{2} R_{2} s^{2} + 2 C_{1} L_{3} M_{1} s^{3} + C_{1} L_{3} R_{1} s^{2} - C_{1} M_{1}^{2} s^{3} + 2 C_{1} M_{1} R_{2} s^{2} + C_{1} R_{1} R_{2} s + C_{2} L_{1} R_{1} s^{2} + C_{2} L_{2} R_{1} s^{2} + 2 C_{2} M_{1} R_{1} s^{2} + L_{1} s + L_{2} s + 2 M_{1} s + R_{1}}$<br>$I_{V1} = \\frac{- C_{1} C_{2} L_{1} L_{2} V_{1} s^{4} - C_{1} C_{2} L_{1} L_{3} V_{1} s^{4} - C_{1} C_{2} L_{1} R_{1} V_{1} s^{3} - C_{1} C_{2} L_{1} R_{2} V_{1} s^{3} - C_{1} C_{2} L_{2} L_{3} V_{1} s^{4} - C_{1} C_{2} L_{2} R_{1} V_{1} s^{3} - C_{1} C_{2} L_{2} R_{2} V_{1} s^{3} - 2 C_{1} C_{2} L_{3} M_{1} V_{1} s^{4} + C_{1} C_{2} M_{1}^{2} V_{1} s^{4} - 2 C_{1} C_{2} M_{1} R_{1} V_{1} s^{3} - 2 C_{1} C_{2} M_{1} R_{2} V_{1} s^{3} - C_{1} L_{2} V_{1} s^{2} - C_{1} L_{3} V_{1} s^{2} - C_{1} R_{1} V_{1} s - C_{1} R_{2} V_{1} s - C_{2} L_{1} V_{1} s^{2} - C_{2} L_{2} V_{1} s^{2} - 2 C_{2} M_{1} V_{1} s^{2} - V_{1}}{C_{1} C_{2} L_{1} L_{2} R_{1} s^{4} + C_{1} C_{2} L_{1} L_{3} R_{1} s^{4} + C_{1} C_{2} L_{1} R_{1} R_{2} s^{3} + C_{1} C_{2} L_{2} L_{3} R_{1} s^{4} + C_{1} C_{2} L_{2} R_{1} R_{2} s^{3} + 2 C_{1} C_{2} L_{3} M_{1} R_{1} s^{4} - C_{1} C_{2} M_{1}^{2} R_{1} s^{4} + 2 C_{1} C_{2} M_{1} R_{1} R_{2} s^{3} + C_{1} L_{1} L_{2} s^{3} + C_{1} L_{1} L_{3} s^{3} + C_{1} L_{1} R_{1} s^{2} + C_{1} L_{1} R_{2} s^{2} + C_{1} L_{2} L_{3} s^{3} + C_{1} L_{2} R_{2} s^{2} + 2 C_{1} L_{3} M_{1} s^{3} + C_{1} L_{3} R_{1} s^{2} - C_{1} M_{1}^{2} s^{3} + 2 C_{1} M_{1} R_{2} s^{2} + C_{1} R_{1} R_{2} s + C_{2} L_{1} R_{1} s^{2} + C_{2} L_{2} R_{1} s^{2} + 2 C_{2} M_{1} R_{1} s^{2} + L_{1} s + L_{2} s + 2 M_{1} s + R_{1}}$<br>$I_{L1} = \\frac{- C_{1} C_{2} L_{2} R_{1} V_{1} s^{3} - C_{1} C_{2} M_{1} R_{1} V_{1} s^{3} - C_{1} L_{2} V_{1} s^{2} - C_{1} L_{3} V_{1} s^{2} - C_{1} R_{1} V_{1} s - C_{1} R_{2} V_{1} s - V_{1}}{C_{1} C_{2} L_{1} L_{2} R_{1} s^{4} + C_{1} C_{2} L_{1} L_{3} R_{1} s^{4} + C_{1} C_{2} L_{1} R_{1} R_{2} s^{3} + C_{1} C_{2} L_{2} L_{3} R_{1} s^{4} + C_{1} C_{2} L_{2} R_{1} R_{2} s^{3} + 2 C_{1} C_{2} L_{3} M_{1} R_{1} s^{4} - C_{1} C_{2} M_{1}^{2} R_{1} s^{4} + 2 C_{1} C_{2} M_{1} R_{1} R_{2} s^{3} + C_{1} L_{1} L_{2} s^{3} + C_{1} L_{1} L_{3} s^{3} + C_{1} L_{1} R_{1} s^{2} + C_{1} L_{1} R_{2} s^{2} + C_{1} L_{2} L_{3} s^{3} + C_{1} L_{2} R_{2} s^{2} + 2 C_{1} L_{3} M_{1} s^{3} + C_{1} L_{3} R_{1} s^{2} - C_{1} M_{1}^{2} s^{3} + 2 C_{1} M_{1} R_{2} s^{2} + C_{1} R_{1} R_{2} s + C_{2} L_{1} R_{1} s^{2} + C_{2} L_{2} R_{1} s^{2} + 2 C_{2} M_{1} R_{1} s^{2} + L_{1} s + L_{2} s + 2 M_{1} s + R_{1}}$<br>$I_{L2} = \\frac{C_{1} C_{2} L_{1} R_{1} V_{1} s^{3} + C_{1} C_{2} M_{1} R_{1} V_{1} s^{3} - C_{1} L_{3} V_{1} s^{2} + C_{1} M_{1} V_{1} s^{2} - C_{1} R_{2} V_{1} s - V_{1}}{C_{1} C_{2} L_{1} L_{2} R_{1} s^{4} + C_{1} C_{2} L_{1} L_{3} R_{1} s^{4} + C_{1} C_{2} L_{1} R_{1} R_{2} s^{3} + C_{1} C_{2} L_{2} L_{3} R_{1} s^{4} + C_{1} C_{2} L_{2} R_{1} R_{2} s^{3} + 2 C_{1} C_{2} L_{3} M_{1} R_{1} s^{4} - C_{1} C_{2} M_{1}^{2} R_{1} s^{4} + 2 C_{1} C_{2} M_{1} R_{1} R_{2} s^{3} + C_{1} L_{1} L_{2} s^{3} + C_{1} L_{1} L_{3} s^{3} + C_{1} L_{1} R_{1} s^{2} + C_{1} L_{1} R_{2} s^{2} + C_{1} L_{2} L_{3} s^{3} + C_{1} L_{2} R_{2} s^{2} + 2 C_{1} L_{3} M_{1} s^{3} + C_{1} L_{3} R_{1} s^{2} - C_{1} M_{1}^{2} s^{3} + 2 C_{1} M_{1} R_{2} s^{2} + C_{1} R_{1} R_{2} s + C_{2} L_{1} R_{1} s^{2} + C_{2} L_{2} R_{1} s^{2} + 2 C_{2} M_{1} R_{1} s^{2} + L_{1} s + L_{2} s + 2 M_{1} s + R_{1}}$<br>$I_{L3} = \\frac{C_{1} C_{2} L_{1} R_{1} V_{1} s^{3} + C_{1} C_{2} L_{2} R_{1} V_{1} s^{3} + 2 C_{1} C_{2} M_{1} R_{1} V_{1} s^{3} + C_{1} L_{2} V_{1} s^{2} + C_{1} M_{1} V_{1} s^{2} + C_{1} R_{1} V_{1} s}{C_{1} C_{2} L_{1} L_{2} R_{1} s^{4} + C_{1} C_{2} L_{1} L_{3} R_{1} s^{4} + C_{1} C_{2} L_{1} R_{1} R_{2} s^{3} + C_{1} C_{2} L_{2} L_{3} R_{1} s^{4} + C_{1} C_{2} L_{2} R_{1} R_{2} s^{3} + 2 C_{1} C_{2} L_{3} M_{1} R_{1} s^{4} - C_{1} C_{2} M_{1}^{2} R_{1} s^{4} + 2 C_{1} C_{2} M_{1} R_{1} R_{2} s^{3} + C_{1} L_{1} L_{2} s^{3} + C_{1} L_{1} L_{3} s^{3} + C_{1} L_{1} R_{1} s^{2} + C_{1} L_{1} R_{2} s^{2} + C_{1} L_{2} L_{3} s^{3} + C_{1} L_{2} R_{2} s^{2} + 2 C_{1} L_{3} M_{1} s^{3} + C_{1} L_{3} R_{1} s^{2} - C_{1} M_{1}^{2} s^{3} + 2 C_{1} M_{1} R_{2} s^{2} + C_{1} R_{1} R_{2} s + C_{2} L_{1} R_{1} s^{2} + C_{2} L_{2} R_{1} s^{2} + 2 C_{2} M_{1} R_{1} s^{2} + L_{1} s + L_{2} s + 2 M_{1} s + R_{1}}$<br>"
      ],
      "text/plain": [
       "<IPython.core.display.Markdown object>"
      ]
     },
     "execution_count": 10,
     "metadata": {},
     "output_type": "execute_result"
    }
   ],
   "source": [
    "temp = ''\n",
    "for i in U_sym.keys():\n",
    "    temp += '${:s} = {:s}$<br>'.format(latex(i),latex(U_sym[i]))\n",
    "\n",
    "Markdown(temp)"
   ]
  },
  {
   "cell_type": "code",
   "execution_count": null,
   "id": "d0b31620-3d3f-4d26-a111-67f8104af9d0",
   "metadata": {},
   "outputs": [],
   "source": []
  },
  {
   "cell_type": "code",
   "execution_count": null,
   "id": "a62237f4-aabe-4024-bca3-45e15cbcd557",
   "metadata": {},
   "outputs": [],
   "source": []
  },
  {
   "cell_type": "code",
   "execution_count": null,
   "id": "cb05da5b-7ec0-45b6-8cde-9e77877a6ea2",
   "metadata": {},
   "outputs": [],
   "source": []
  },
  {
   "cell_type": "code",
   "execution_count": null,
   "id": "1b1bc0df-7b7a-44c6-935b-383066a37245",
   "metadata": {},
   "outputs": [],
   "source": []
  },
  {
   "cell_type": "code",
   "execution_count": null,
   "id": "b2418fc8-3a5b-48b5-904d-f7f4033caf73",
   "metadata": {},
   "outputs": [],
   "source": []
  },
  {
   "cell_type": "code",
   "execution_count": null,
   "id": "787584af-92e0-419c-97dc-069a4105eba1",
   "metadata": {},
   "outputs": [],
   "source": []
  },
  {
   "cell_type": "code",
   "execution_count": null,
   "id": "05b29303-6790-47a4-b2e0-c60eb88e64a6",
   "metadata": {},
   "outputs": [],
   "source": []
  },
  {
   "cell_type": "code",
   "execution_count": null,
   "id": "4c65d64d-8a1f-4a6e-96ef-11565019a2c7",
   "metadata": {},
   "outputs": [],
   "source": []
  },
  {
   "cell_type": "markdown",
   "id": "8786bd06-1549-477c-96ab-b93a7cac01d0",
   "metadata": {},
   "source": [
    "## Summary\n",
    "  "
   ]
  },
  {
   "cell_type": "code",
   "execution_count": null,
   "id": "7f15a8d5-4b11-4f2a-9a68-38dc9e03e9a7",
   "metadata": {},
   "outputs": [],
   "source": []
  }
 ],
 "metadata": {
  "kernelspec": {
   "display_name": "Python 3 (ipykernel)",
   "language": "python",
   "name": "python3"
  },
  "language_info": {
   "codemirror_mode": {
    "name": "ipython",
    "version": 3
   },
   "file_extension": ".py",
   "mimetype": "text/x-python",
   "name": "python",
   "nbconvert_exporter": "python",
   "pygments_lexer": "ipython3",
   "version": "3.10.9"
  }
 },
 "nbformat": 4,
 "nbformat_minor": 5
}
