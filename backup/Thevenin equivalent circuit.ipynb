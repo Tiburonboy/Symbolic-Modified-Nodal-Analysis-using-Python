{
 "cells": [
  {
   "cell_type": "raw",
   "metadata": {},
   "source": [
    "---\n",
    "title:\n",
    "format: \n",
    "    html:\n",
    "        code-fold: false\n",
    "        embed-resources: false\n",
    "        code-tools: true\n",
    "        number-sections: true\n",
    "jupyter: python3\n",
    "---"
   ]
  },
  {
   "cell_type": "markdown",
   "metadata": {},
   "source": [
    "# Thevenin equivalent circuit {#sec-thevenin}\n",
    "Last update: 30 Jan 2024  \n",
    "\n",
    "## Introduction\n",
    "The Thevenin equivalent circuit is the reduction of a linear one port circuit to a single source and impedance and is based on [Thevenin’s Theorem](https://en.wikipedia.org/wiki/Th%C3%A9venin%27s_theorem). This notebook describes solving problem 11.25, given in chapter 11 of @Johnson1978. The Python libraries of SimPy and NumPy are used to perform the math in the proposed solution. The problem asks the student to replace the circuit to the left of terminals a-b by its Thevenin equivalent and find V. The schematic was drawn using LTspice and the nodes were numbered. Terminals a-b are across the resistor R3. The circuit given in the textbook does not include a reference node, however the node at the bottom of the schematic was chosen as the reference node, ground. \n",
    "\n",
    "![Circuit for problem 11.25 of @Johnson1978](problem_11-25.PNG){#fig-problem_11-25}  \n",
    "\n",
    "Having drawn the circuit in LTspice, the following netlist was exported as a text file.  \n",
    "```\n",
    "R1 2 0 6\n",
    "R2 3 2 6\n",
    "R3 0 3 6\n",
    "L1 2 0 j2\n",
    "L2 1 3 j3\n",
    "C1 1 2 -j3\n",
    "C2 3 0 -j2\n",
    "I1 0 1 -1-j1\n",
    "```\n",
    "\n",
    "The component values for the inductors and capacitors are complex as well as the value of the current source. It is assumed that the impedance of the inductors and capacitors are at a frequency of 1 radian per second. So accordingly, the values in the net list used by the Python code to generate the network equations has been adjusted as follows:  \n",
    "```\n",
    "R1 2 0 6\n",
    "R2 3 2 6\n",
    "R3 0 3 6\n",
    "L1 2 0 2\n",
    "L2 1 3 3\n",
    "C1 1 2 0.33\n",
    "C2 3 0 0.5\n",
    "I1 0 1 1\n",
    "```\n",
    "The component values are not used when the symbolic network equations are generated, only the reference designators, R1, C1, L1 etc. are used.  "
   ]
  },
  {
   "cell_type": "code",
   "execution_count": 43,
   "metadata": {
    "collapsed": false,
    "jupyter": {
     "outputs_hidden": false
    }
   },
   "outputs": [],
   "source": [
    "#import os\n",
    "from sympy import *\n",
    "import numpy as np\n",
    "from tabulate import tabulate\n",
    "from scipy import signal\n",
    "import matplotlib.pyplot as plt\n",
    "import pandas as pd\n",
    "import SymMNA\n",
    "from IPython.display import display, Markdown, Math, Latex\n",
    "init_printing()"
   ]
  },
  {
   "cell_type": "markdown",
   "metadata": {},
   "source": [
    "## Find the open circuit voltage, Voc\n",
    "Removing R3 and C2 from the netlist, this gives Voc = V3. The net list is:  \n",
    "```\n",
    "I1 0 1 1\n",
    "R1 2 0 6\n",
    "R2 3 2 6\n",
    "*R3 0 3 6\n",
    "L1 2 0 2\n",
    "L2 1 3 3\n",
    "C1 1 2 0.33\n",
    "*C2 3 0 0.5\n",
    "```"
   ]
  },
  {
   "cell_type": "markdown",
   "metadata": {
    "tags": []
   },
   "source": [
    "Load the net list"
   ]
  },
  {
   "cell_type": "code",
   "execution_count": 44,
   "metadata": {},
   "outputs": [],
   "source": [
    "net_list = '''\n",
    "I1 0 1 1\n",
    "R1 2 0 6\n",
    "R2 3 2 6\n",
    "*R3 0 3 6\n",
    "L1 2 0 2\n",
    "L2 1 3 3\n",
    "C1 1 2 0.3333333333\n",
    "*C2 3 0 0.5\n",
    "'''"
   ]
  },
  {
   "cell_type": "markdown",
   "metadata": {},
   "source": [
    "Call the symbolic modified nodal analysis function"
   ]
  },
  {
   "cell_type": "code",
   "execution_count": 45,
   "metadata": {},
   "outputs": [],
   "source": [
    "report, network_df, i_unk_df, A, X, Z = SymMNA.smna(net_list)"
   ]
  },
  {
   "cell_type": "markdown",
   "metadata": {},
   "source": [
    "Display the equations"
   ]
  },
  {
   "cell_type": "code",
   "execution_count": 46,
   "metadata": {},
   "outputs": [
    {
     "data": {
      "text/markdown": [
       "$C_{1} s v_{1} - C_{1} s v_{2} + I_{L2} = I_{1}$<br>$- C_{1} s v_{1} + I_{L1} + v_{2} \\left(C_{1} s + \\frac{1}{R_{2}} + \\frac{1}{R_{1}}\\right) - \\frac{v_{3}}{R_{2}} = 0$<br>$- I_{L2} - \\frac{v_{2}}{R_{2}} + \\frac{v_{3}}{R_{2}} = 0$<br>$- I_{L1} L_{1} s + v_{2} = 0$<br>$- I_{L2} L_{2} s + v_{1} - v_{3} = 0$<br>"
      ],
      "text/plain": [
       "<IPython.core.display.Markdown object>"
      ]
     },
     "execution_count": 46,
     "metadata": {},
     "output_type": "execute_result"
    }
   ],
   "source": [
    "# reform X and Z into Matrix type for printing\n",
    "Xp = Matrix(X)\n",
    "Zp = Matrix(Z)\n",
    "temp = ''\n",
    "for i in range(len(X)):\n",
    "    temp += '${:s}$<br>'.format(latex(Eq((A*Xp)[i:i+1][0],Zp[i])))\n",
    "\n",
    "Markdown(temp)"
   ]
  },
  {
   "cell_type": "markdown",
   "metadata": {},
   "source": [
    "Build the network equation matrix"
   ]
  },
  {
   "cell_type": "code",
   "execution_count": 47,
   "metadata": {},
   "outputs": [
    {
     "data": {
      "text/latex": [
       "$\\displaystyle \\left[\\begin{matrix}C_{1} s v_{1} - C_{1} s v_{2} + I_{L2}\\\\- C_{1} s v_{1} + I_{L1} + v_{2} \\left(C_{1} s + \\frac{1}{R_{2}} + \\frac{1}{R_{1}}\\right) - \\frac{v_{3}}{R_{2}}\\\\- I_{L2} - \\frac{v_{2}}{R_{2}} + \\frac{v_{3}}{R_{2}}\\\\- I_{L1} L_{1} s + v_{2}\\\\- I_{L2} L_{2} s + v_{1} - v_{3}\\end{matrix}\\right] = \\left[\\begin{matrix}I_{1}\\\\0\\\\0\\\\0\\\\0\\end{matrix}\\right]$"
      ],
      "text/plain": [
       "⎡         C₁⋅s⋅v₁ - C₁⋅s⋅v₂ + I_L2         ⎤       \n",
       "⎢                                          ⎥       \n",
       "⎢                     ⎛       1    1 ⎞   v₃⎥   ⎡I₁⎤\n",
       "⎢-C₁⋅s⋅v₁ + I_L1 + v₂⋅⎜C₁⋅s + ── + ──⎟ - ──⎥   ⎢  ⎥\n",
       "⎢                     ⎝       R₂   R₁⎠   R₂⎥   ⎢0 ⎥\n",
       "⎢                                          ⎥   ⎢  ⎥\n",
       "⎢                     v₂   v₃              ⎥ = ⎢0 ⎥\n",
       "⎢             -I_L2 - ── + ──              ⎥   ⎢  ⎥\n",
       "⎢                     R₂   R₂              ⎥   ⎢0 ⎥\n",
       "⎢                                          ⎥   ⎢  ⎥\n",
       "⎢             -I_L1⋅L₁⋅s + v₂              ⎥   ⎣0 ⎦\n",
       "⎢                                          ⎥       \n",
       "⎣           -I_L2⋅L₂⋅s + v₁ - v₃           ⎦       "
      ]
     },
     "execution_count": 47,
     "metadata": {},
     "output_type": "execute_result"
    }
   ],
   "source": [
    "# Put matrices into SymPy \n",
    "X = Matrix(X)\n",
    "Z = Matrix(Z)\n",
    "\n",
    "NE_sym = Eq(A*X,Z)\n",
    "NE_sym"
   ]
  },
  {
   "cell_type": "code",
   "execution_count": 48,
   "metadata": {},
   "outputs": [
    {
     "data": {
      "image/png": "[encoded data removed]",
      "text/latex": [
       "$\\displaystyle \\left( L_{2}, \\  L_{1}, \\  v_{1}, \\  R_{1}, \\  C_{1}, \\  I_{L1}, \\  I_{1}, \\  s, \\  v_{2}, \\  I_{L2}, \\  v_{3}, \\  R_{2}\\right)$"
      ],
      "text/plain": [
       "(L₂, L₁, v₁, R₁, C₁, I_L1, I₁, s, v₂, I_L2, v₃, R₂)"
      ]
     },
     "execution_count": 48,
     "metadata": {},
     "output_type": "execute_result"
    }
   ],
   "source": [
    "# turn the free symbols into SymPy variables\n",
    "var(str(NE_sym.free_symbols).replace('{','').replace('}',''))"
   ]
  },
  {
   "cell_type": "markdown",
   "metadata": {},
   "source": [
    "Generate the symbolic solution"
   ]
  },
  {
   "cell_type": "code",
   "execution_count": 49,
   "metadata": {},
   "outputs": [],
   "source": [
    "U_sym = solve(NE_sym,X)"
   ]
  },
  {
   "cell_type": "markdown",
   "metadata": {},
   "source": [
    "Display the symbolic solution"
   ]
  },
  {
   "cell_type": "code",
   "execution_count": 50,
   "metadata": {},
   "outputs": [
    {
     "data": {
      "text/markdown": [
       "$v_{1} = \\frac{C_{1} I_{1} L_{1} L_{2} R_{1} s^{3} + C_{1} I_{1} L_{1} R_{1} R_{2} s^{2} + I_{1} L_{1} L_{2} s^{2} + I_{1} L_{1} R_{1} s + I_{1} L_{1} R_{2} s + I_{1} L_{2} R_{1} s + I_{1} R_{1} R_{2}}{C_{1} L_{1} L_{2} s^{3} + C_{1} L_{1} R_{2} s^{2} + C_{1} L_{2} R_{1} s^{2} + C_{1} R_{1} R_{2} s + L_{1} s + R_{1}}$<br>$v_{2} = \\frac{I_{1} L_{1} R_{1} s}{L_{1} s + R_{1}}$<br>$v_{3} = \\frac{C_{1} I_{1} L_{1} L_{2} R_{1} s^{3} + C_{1} I_{1} L_{1} R_{1} R_{2} s^{2} + I_{1} L_{1} R_{1} s + I_{1} L_{1} R_{2} s + I_{1} R_{1} R_{2}}{C_{1} L_{1} L_{2} s^{3} + C_{1} L_{1} R_{2} s^{2} + C_{1} L_{2} R_{1} s^{2} + C_{1} R_{1} R_{2} s + L_{1} s + R_{1}}$<br>$I_{L1} = \\frac{I_{1} R_{1}}{L_{1} s + R_{1}}$<br>$I_{L2} = \\frac{I_{1}}{C_{1} L_{2} s^{2} + C_{1} R_{2} s + 1}$<br>"
      ],
      "text/plain": [
       "<IPython.core.display.Markdown object>"
      ]
     },
     "execution_count": 50,
     "metadata": {},
     "output_type": "execute_result"
    }
   ],
   "source": [
    "temp = ''\n",
    "for i in U_sym.keys():\n",
    "    temp += '${:s} = {:s}$<br>'.format(latex(i),latex(U_sym[i]))\n",
    "\n",
    "Markdown(temp)"
   ]
  },
  {
   "cell_type": "markdown",
   "metadata": {},
   "source": [
    "Construct a dictionary of element values"
   ]
  },
  {
   "cell_type": "code",
   "execution_count": 51,
   "metadata": {},
   "outputs": [
    {
     "data": {
      "image/png": "[encoded data removed]",
      "text/latex": [
       "$\\displaystyle \\left\\{ C_{1} : 0.3333333333, \\  I_{1} : 1.0, \\  L_{1} : 2.0, \\  L_{2} : 3.0, \\  R_{1} : 6.0, \\  R_{2} : 6.0\\right\\}$"
      ],
      "text/plain": [
       "{C₁: 0.3333333333, I₁: 1.0, L₁: 2.0, L₂: 3.0, R₁: 6.0, R₂: 6.0}"
      ]
     },
     "execution_count": 51,
     "metadata": {},
     "output_type": "execute_result"
    }
   ],
   "source": [
    "element_values = SymMNA.get_part_values(network_df)\n",
    "element_values"
   ]
  },
  {
   "cell_type": "markdown",
   "metadata": {},
   "source": [
    "To solve numerically, replace symbols with the element values and the Laplace variable, s,  with $j\\omega$ where $\\omega=1$."
   ]
  },
  {
   "cell_type": "code",
   "execution_count": 52,
   "metadata": {},
   "outputs": [
    {
     "data": {
      "text/latex": [
       "$\\displaystyle \\left[\\begin{matrix}I_{L2} + 0.3333333333 i v_{1} - 0.3333333333 i v_{2}\\\\I_{L1} - 0.3333333333 i v_{1} + v_{2} \\cdot \\left(0.333333333333333 + 0.3333333333 i\\right) - 0.166666666666667 v_{3}\\\\- I_{L2} - 0.166666666666667 v_{2} + 0.166666666666667 v_{3}\\\\- 2.0 i I_{L1} + v_{2}\\\\- 3.0 i I_{L2} + v_{1} - v_{3}\\end{matrix}\\right] = \\left[\\begin{matrix}-1.0 - 1.0 i\\\\0\\\\0\\\\0\\\\0\\end{matrix}\\right]$"
      ],
      "text/plain": [
       "⎡                      I_L2 + 0.3333333333⋅ⅈ⋅v₁ - 0.3333333333⋅ⅈ⋅v₂           \n",
       "⎢                                                                             \n",
       "⎢I_L1 - 0.3333333333⋅ⅈ⋅v₁ + v₂⋅(0.333333333333333 + 0.3333333333⋅ⅈ) - 0.166666\n",
       "⎢                                                                             \n",
       "⎢                   -I_L2 - 0.166666666666667⋅v₂ + 0.166666666666667⋅v₃       \n",
       "⎢                                                                             \n",
       "⎢                                    -2.0⋅ⅈ⋅I_L1 + v₂                         \n",
       "⎢                                                                             \n",
       "⎣                                  -3.0⋅ⅈ⋅I_L2 + v₁ - v₃                      \n",
       "\n",
       "            ⎤   ⎡-1.0 - ⅈ⎤\n",
       "            ⎥   ⎢        ⎥\n",
       "666666667⋅v₃⎥   ⎢   0    ⎥\n",
       "            ⎥   ⎢        ⎥\n",
       "            ⎥ = ⎢   0    ⎥\n",
       "            ⎥   ⎢        ⎥\n",
       "            ⎥   ⎢   0    ⎥\n",
       "            ⎥   ⎢        ⎥\n",
       "            ⎦   ⎣   0    ⎦"
      ]
     },
     "execution_count": 52,
     "metadata": {},
     "output_type": "execute_result"
    }
   ],
   "source": [
    "#NE = NE_sym.subs({L1:2, L2:3, R1:6, R2:6, C1:1/3, I1:-1-1j, s:1j})\n",
    "NE = NE_sym.subs({s:1j,I1:-1-1j})\n",
    "NE = NE.subs(element_values)\n",
    "NE"
   ]
  },
  {
   "cell_type": "markdown",
   "metadata": {},
   "source": [
    "Solving the system of equations for the open circuit voltage at node v3."
   ]
  },
  {
   "cell_type": "code",
   "execution_count": 53,
   "metadata": {},
   "outputs": [
    {
     "data": {
      "image/png": "[encoded data removed]",
      "text/latex": [
       "$\\displaystyle -1.8 + 0.6 i$"
      ],
      "text/plain": [
       "-1.8 + 0.6⋅ⅈ"
      ]
     },
     "execution_count": 53,
     "metadata": {},
     "output_type": "execute_result"
    }
   ],
   "source": [
    "Voc = solve(NE,X)[v3]\n",
    "Voc"
   ]
  },
  {
   "cell_type": "raw",
   "metadata": {},
   "source": [
    "<!--"
   ]
  },
  {
   "cell_type": "raw",
   "metadata": {
    "jupyter": {
     "outputs_hidden": false
    }
   },
   "source": [
    "# declare the following symbols\n",
    "I_L1, s, C1, I1, R2, R1, v3, v1, I_L2, L1, v2, L2 = symbols('I_L1 s C1 I1 R2 R1 v3 v1 I_L2 L1 v2 L2')\n",
    "\n",
    "# use the equations generated by nodal analysis\n",
    "equ = Matrix(\n",
    "    [[Eq(C1*s*v1 - C1*s*v2 + I_L2, I1)],\n",
    "    [Eq(-C1*s*v1 + I_L1 + v2*(C1*s + 1/R2 + 1/R1) - v3/R2, 0)],\n",
    "    [Eq(-I_L2 - v2/R2 + v3/R2, 0)],\n",
    "    [Eq(-I_L1*L1*s + v2, 0)],\n",
    "    [Eq(-I_L2*L2*s + v1 - v3, 0)]]) \n",
    "    \n",
    "equ"
   ]
  },
  {
   "cell_type": "raw",
   "metadata": {},
   "source": [
    "The symbolic solution for the network equations can easily be obtained with SymPy using the solve function. Using the index [v3], the open circuit voltage at node 3 in symbolic form is: "
   ]
  },
  {
   "cell_type": "raw",
   "metadata": {},
   "source": [
    "solve(equ,[v1, v2, v3, I_L1, I_L2])[v3]"
   ]
  },
  {
   "cell_type": "raw",
   "metadata": {},
   "source": [
    "To solve numerically, replace symbols with the element values and the Laplace variable, s,  with $j\\omega$ where $\\omega=1$."
   ]
  },
  {
   "cell_type": "raw",
   "metadata": {
    "jupyter": {
     "outputs_hidden": false
    }
   },
   "source": [
    "equ1a = equ.subs({L1:2, L2:3, R1:6, R2:6, C1:1/3, I1:-1-1j, s:1j})\n",
    "equ1a  # display the equations"
   ]
  },
  {
   "cell_type": "raw",
   "metadata": {},
   "source": [
    "Solving the system of equations for the open circuit voltage at node v3."
   ]
  },
  {
   "cell_type": "raw",
   "metadata": {},
   "source": [
    "Voc = solve(equ1a,[v1, v2, v3, I_L1, I_L2])[v3]\n",
    "Voc"
   ]
  },
  {
   "cell_type": "raw",
   "metadata": {},
   "source": [
    "-->"
   ]
  },
  {
   "cell_type": "markdown",
   "metadata": {},
   "source": [
    "## Find the short circuit current, Isc\n",
    "Remove C2 and R3, set node 3 to zero, find current in L2 and R2.  New net list:\n",
    "\n",
    "```\n",
    "I1 0 1 1\n",
    "R1 2 0 6\n",
    "R2 0 2 6\n",
    "L1 2 0 2\n",
    "L2 1 0 3\n",
    "C1 1 2 0.33\n",
    "```"
   ]
  },
  {
   "cell_type": "code",
   "execution_count": 54,
   "metadata": {},
   "outputs": [],
   "source": [
    "net_list = '''\n",
    "I1 0 1 1\n",
    "R1 2 0 6\n",
    "R2 0 2 6\n",
    "L1 2 0 2\n",
    "L2 1 0 3\n",
    "C1 1 2 0.33333333333333\n",
    "'''"
   ]
  },
  {
   "cell_type": "markdown",
   "metadata": {},
   "source": [
    "Call the symbolic modified nodal analysis function"
   ]
  },
  {
   "cell_type": "code",
   "execution_count": 55,
   "metadata": {},
   "outputs": [],
   "source": [
    "report, network_df, i_unk_df, A, X, Z = SymMNA.smna(net_list)"
   ]
  },
  {
   "cell_type": "markdown",
   "metadata": {},
   "source": [
    "Display the equations"
   ]
  },
  {
   "cell_type": "code",
   "execution_count": 56,
   "metadata": {},
   "outputs": [
    {
     "data": {
      "text/markdown": [
       "$C_{1} s v_{1} - C_{1} s v_{2} + I_{L2} = I_{1}$<br>$- C_{1} s v_{1} + I_{L1} + v_{2} \\left(C_{1} s + \\frac{1}{R_{2}} + \\frac{1}{R_{1}}\\right) = 0$<br>$- I_{L1} L_{1} s + v_{2} = 0$<br>$- I_{L2} L_{2} s + v_{1} = 0$<br>"
      ],
      "text/plain": [
       "<IPython.core.display.Markdown object>"
      ]
     },
     "execution_count": 56,
     "metadata": {},
     "output_type": "execute_result"
    }
   ],
   "source": [
    "# reform X and Z into Matrix type for printing\n",
    "Xp = Matrix(X)\n",
    "Zp = Matrix(Z)\n",
    "temp = ''\n",
    "for i in range(len(X)):\n",
    "    temp += '${:s}$<br>'.format(latex(Eq((A*Xp)[i:i+1][0],Zp[i])))\n",
    "\n",
    "Markdown(temp)"
   ]
  },
  {
   "cell_type": "markdown",
   "metadata": {},
   "source": [
    "Build the network equation matrix"
   ]
  },
  {
   "cell_type": "code",
   "execution_count": 57,
   "metadata": {},
   "outputs": [
    {
     "data": {
      "text/latex": [
       "$\\displaystyle \\left[\\begin{matrix}C_{1} s v_{1} - C_{1} s v_{2} + I_{L2}\\\\- C_{1} s v_{1} + I_{L1} + v_{2} \\left(C_{1} s + \\frac{1}{R_{2}} + \\frac{1}{R_{1}}\\right)\\\\- I_{L1} L_{1} s + v_{2}\\\\- I_{L2} L_{2} s + v_{1}\\end{matrix}\\right] = \\left[\\begin{matrix}I_{1}\\\\0\\\\0\\\\0\\end{matrix}\\right]$"
      ],
      "text/plain": [
       "⎡      C₁⋅s⋅v₁ - C₁⋅s⋅v₂ + I_L2       ⎤       \n",
       "⎢                                     ⎥   ⎡I₁⎤\n",
       "⎢                     ⎛       1    1 ⎞⎥   ⎢  ⎥\n",
       "⎢-C₁⋅s⋅v₁ + I_L1 + v₂⋅⎜C₁⋅s + ── + ──⎟⎥   ⎢0 ⎥\n",
       "⎢                     ⎝       R₂   R₁⎠⎥ = ⎢  ⎥\n",
       "⎢                                     ⎥   ⎢0 ⎥\n",
       "⎢           -I_L1⋅L₁⋅s + v₂           ⎥   ⎢  ⎥\n",
       "⎢                                     ⎥   ⎣0 ⎦\n",
       "⎣           -I_L2⋅L₂⋅s + v₁           ⎦       "
      ]
     },
     "execution_count": 57,
     "metadata": {},
     "output_type": "execute_result"
    }
   ],
   "source": [
    "# Put matrices into SymPy \n",
    "X = Matrix(X)\n",
    "Z = Matrix(Z)\n",
    "\n",
    "NE_sym = Eq(A*X,Z)\n",
    "NE_sym"
   ]
  },
  {
   "cell_type": "code",
   "execution_count": 58,
   "metadata": {},
   "outputs": [
    {
     "data": {
      "image/png": "[encoded data removed]",
      "text/latex": [
       "$\\displaystyle \\left( L_{2}, \\  L_{1}, \\  v_{1}, \\  R_{1}, \\  C_{1}, \\  I_{L1}, \\  I_{1}, \\  s, \\  v_{2}, \\  I_{L2}, \\  R_{2}\\right)$"
      ],
      "text/plain": [
       "(L₂, L₁, v₁, R₁, C₁, I_L1, I₁, s, v₂, I_L2, R₂)"
      ]
     },
     "execution_count": 58,
     "metadata": {},
     "output_type": "execute_result"
    }
   ],
   "source": [
    "# turn the free symbols into SymPy variables\n",
    "var(str(NE_sym.free_symbols).replace('{','').replace('}',''))"
   ]
  },
  {
   "cell_type": "markdown",
   "metadata": {},
   "source": [
    "Symbolic solution"
   ]
  },
  {
   "cell_type": "code",
   "execution_count": 59,
   "metadata": {},
   "outputs": [],
   "source": [
    "U_sym = solve(NE_sym,X)"
   ]
  },
  {
   "cell_type": "markdown",
   "metadata": {},
   "source": [
    "Display the symbolic solution"
   ]
  },
  {
   "cell_type": "code",
   "execution_count": 60,
   "metadata": {},
   "outputs": [
    {
     "data": {
      "text/markdown": [
       "$v_{1} = \\frac{C_{1} I_{1} L_{1} L_{2} R_{1} R_{2} s^{3} + I_{1} L_{1} L_{2} R_{1} s^{2} + I_{1} L_{1} L_{2} R_{2} s^{2} + I_{1} L_{2} R_{1} R_{2} s}{C_{1} L_{1} L_{2} R_{1} s^{3} + C_{1} L_{1} L_{2} R_{2} s^{3} + C_{1} L_{1} R_{1} R_{2} s^{2} + C_{1} L_{2} R_{1} R_{2} s^{2} + L_{1} R_{1} s + L_{1} R_{2} s + R_{1} R_{2}}$<br>$v_{2} = \\frac{C_{1} I_{1} L_{1} L_{2} R_{1} R_{2} s^{3}}{C_{1} L_{1} L_{2} R_{1} s^{3} + C_{1} L_{1} L_{2} R_{2} s^{3} + C_{1} L_{1} R_{1} R_{2} s^{2} + C_{1} L_{2} R_{1} R_{2} s^{2} + L_{1} R_{1} s + L_{1} R_{2} s + R_{1} R_{2}}$<br>$I_{L1} = \\frac{C_{1} I_{1} L_{2} R_{1} R_{2} s^{2}}{C_{1} L_{1} L_{2} R_{1} s^{3} + C_{1} L_{1} L_{2} R_{2} s^{3} + C_{1} L_{1} R_{1} R_{2} s^{2} + C_{1} L_{2} R_{1} R_{2} s^{2} + L_{1} R_{1} s + L_{1} R_{2} s + R_{1} R_{2}}$<br>$I_{L2} = \\frac{C_{1} I_{1} L_{1} R_{1} R_{2} s^{2} + I_{1} L_{1} R_{1} s + I_{1} L_{1} R_{2} s + I_{1} R_{1} R_{2}}{C_{1} L_{1} L_{2} R_{1} s^{3} + C_{1} L_{1} L_{2} R_{2} s^{3} + C_{1} L_{1} R_{1} R_{2} s^{2} + C_{1} L_{2} R_{1} R_{2} s^{2} + L_{1} R_{1} s + L_{1} R_{2} s + R_{1} R_{2}}$<br>"
      ],
      "text/plain": [
       "<IPython.core.display.Markdown object>"
      ]
     },
     "execution_count": 60,
     "metadata": {},
     "output_type": "execute_result"
    }
   ],
   "source": [
    "temp = ''\n",
    "for i in U_sym.keys():\n",
    "    temp += '${:s} = {:s}$<br>'.format(latex(i),latex(U_sym[i]))\n",
    "\n",
    "Markdown(temp)"
   ]
  },
  {
   "cell_type": "code",
   "execution_count": 61,
   "metadata": {},
   "outputs": [
    {
     "data": {
      "image/png": "[encoded data removed]",
      "text/latex": [
       "$\\displaystyle \\frac{C_{1} I_{1} L_{1} L_{2} R_{1} s^{3}}{C_{1} L_{1} L_{2} R_{1} s^{3} + C_{1} L_{1} L_{2} R_{2} s^{3} + C_{1} L_{1} R_{1} R_{2} s^{2} + C_{1} L_{2} R_{1} R_{2} s^{2} + L_{1} R_{1} s + L_{1} R_{2} s + R_{1} R_{2}} + \\frac{C_{1} I_{1} L_{1} R_{1} R_{2} s^{2} + I_{1} L_{1} R_{1} s + I_{1} L_{1} R_{2} s + I_{1} R_{1} R_{2}}{C_{1} L_{1} L_{2} R_{1} s^{3} + C_{1} L_{1} L_{2} R_{2} s^{3} + C_{1} L_{1} R_{1} R_{2} s^{2} + C_{1} L_{2} R_{1} R_{2} s^{2} + L_{1} R_{1} s + L_{1} R_{2} s + R_{1} R_{2}}$"
      ],
      "text/plain": [
       "                                                      3                       \n",
       "                                      C₁⋅I₁⋅L₁⋅L₂⋅R₁⋅s                        \n",
       "──────────────────────────────────────────────────────────────────────────────\n",
       "             3                3                2                2             \n",
       "C₁⋅L₁⋅L₂⋅R₁⋅s  + C₁⋅L₁⋅L₂⋅R₂⋅s  + C₁⋅L₁⋅R₁⋅R₂⋅s  + C₁⋅L₂⋅R₁⋅R₂⋅s  + L₁⋅R₁⋅s + \n",
       "\n",
       "                                                      2                       \n",
       "                                      C₁⋅I₁⋅L₁⋅R₁⋅R₂⋅s  + I₁⋅L₁⋅R₁⋅s + I₁⋅L₁⋅R\n",
       "─────────────── + ────────────────────────────────────────────────────────────\n",
       "                               3                3                2            \n",
       "L₁⋅R₂⋅s + R₁⋅R₂   C₁⋅L₁⋅L₂⋅R₁⋅s  + C₁⋅L₁⋅L₂⋅R₂⋅s  + C₁⋅L₁⋅R₁⋅R₂⋅s  + C₁⋅L₂⋅R₁⋅\n",
       "\n",
       "                                 \n",
       "₂⋅s + I₁⋅R₁⋅R₂                   \n",
       "─────────────────────────────────\n",
       "    2                            \n",
       "R₂⋅s  + L₁⋅R₁⋅s + L₁⋅R₂⋅s + R₁⋅R₂"
      ]
     },
     "execution_count": 61,
     "metadata": {},
     "output_type": "execute_result"
    }
   ],
   "source": [
    "U_sym[v2]/R2 + U_sym[I_L2]"
   ]
  },
  {
   "cell_type": "markdown",
   "metadata": {},
   "source": [
    "Construct a dictionary of element values"
   ]
  },
  {
   "cell_type": "code",
   "execution_count": 62,
   "metadata": {},
   "outputs": [
    {
     "data": {
      "image/png": "[encoded data removed]",
      "text/latex": [
       "$\\displaystyle \\left\\{ C_{1} : 0.33333333333333, \\  I_{1} : 1.0, \\  L_{1} : 2.0, \\  L_{2} : 3.0, \\  R_{1} : 6.0, \\  R_{2} : 6.0\\right\\}$"
      ],
      "text/plain": [
       "{C₁: 0.33333333333333, I₁: 1.0, L₁: 2.0, L₂: 3.0, R₁: 6.0, R₂: 6.0}"
      ]
     },
     "execution_count": 62,
     "metadata": {},
     "output_type": "execute_result"
    }
   ],
   "source": [
    "element_values = SymMNA.get_part_values(network_df)\n",
    "element_values"
   ]
  },
  {
   "cell_type": "code",
   "execution_count": 63,
   "metadata": {},
   "outputs": [
    {
     "data": {
      "text/latex": [
       "$\\displaystyle \\left[\\begin{matrix}I_{L2} + 0.33333333333333 i v_{1} - 0.33333333333333 i v_{2}\\\\I_{L1} - 0.33333333333333 i v_{1} + v_{2} \\cdot \\left(0.333333333333333 + 0.33333333333333 i\\right)\\\\- 2.0 i I_{L1} + v_{2}\\\\- 3.0 i I_{L2} + v_{1}\\end{matrix}\\right] = \\left[\\begin{matrix}-1.0 - 1.0 i\\\\0\\\\0\\\\0\\end{matrix}\\right]$"
      ],
      "text/plain": [
       "⎡           I_L2 + 0.33333333333333⋅ⅈ⋅v₁ - 0.33333333333333⋅ⅈ⋅v₂           ⎤  \n",
       "⎢                                                                          ⎥  \n",
       "⎢I_L1 - 0.33333333333333⋅ⅈ⋅v₁ + v₂⋅(0.333333333333333 + 0.33333333333333⋅ⅈ)⎥  \n",
       "⎢                                                                          ⎥ =\n",
       "⎢                             -2.0⋅ⅈ⋅I_L1 + v₂                             ⎥  \n",
       "⎢                                                                          ⎥  \n",
       "⎣                             -3.0⋅ⅈ⋅I_L2 + v₁                             ⎦  \n",
       "\n",
       " ⎡-1.0 - ⅈ⎤\n",
       " ⎢        ⎥\n",
       " ⎢   0    ⎥\n",
       " ⎢        ⎥\n",
       " ⎢   0    ⎥\n",
       " ⎢        ⎥\n",
       " ⎣   0    ⎦"
      ]
     },
     "execution_count": 63,
     "metadata": {},
     "output_type": "execute_result"
    }
   ],
   "source": [
    "#NE = NE_sym.subs({L1:2, L2:3, R1:6, R2:6, C1:1/3, I1:-1-1j, s:1j})\n",
    "NE = NE_sym.subs({s:1j,I1:-1-1j})\n",
    "NE = NE.subs(element_values)\n",
    "NE"
   ]
  },
  {
   "cell_type": "code",
   "execution_count": 64,
   "metadata": {},
   "outputs": [
    {
     "data": {
      "image/png": "[encoded data removed]",
      "text/latex": [
       "$\\displaystyle \\left\\{ I_{L1} : -1.5 - 1.5 i, \\  I_{L2} : -0.5 + 1.5 i, \\  v_{1} : -4.5 - 1.5 i, \\  v_{2} : 3.0 - 3.0 i\\right\\}$"
      ],
      "text/plain": [
       "{I_L1: -1.5 - 1.5⋅ⅈ, I_L2: -0.5 + 1.5⋅ⅈ, v₁: -4.5 - 1.5⋅ⅈ, v₂: 3.0 - 3.0⋅ⅈ}"
      ]
     },
     "execution_count": 64,
     "metadata": {},
     "output_type": "execute_result"
    }
   ],
   "source": [
    "U = solve(NE,X)\n",
    "U"
   ]
  },
  {
   "cell_type": "code",
   "execution_count": 65,
   "metadata": {},
   "outputs": [
    {
     "data": {
      "image/png": "[encoded data removed]",
      "text/latex": [
       "$\\displaystyle 1.0 i$"
      ],
      "text/plain": [
       "1.0⋅ⅈ"
      ]
     },
     "execution_count": 65,
     "metadata": {},
     "output_type": "execute_result"
    }
   ],
   "source": [
    "Isc = U[v2]/6 + U[I_L2]\n",
    "Isc"
   ]
  },
  {
   "cell_type": "code",
   "execution_count": 66,
   "metadata": {},
   "outputs": [
    {
     "data": {
      "image/png": "[encoded data removed]",
      "text/latex": [
       "$\\displaystyle 0.6 + 1.8 i$"
      ],
      "text/plain": [
       "0.6 + 1.8⋅ⅈ"
      ]
     },
     "execution_count": 66,
     "metadata": {},
     "output_type": "execute_result"
    }
   ],
   "source": [
    "Zth = simplify(Voc/Isc)\n",
    "Zth"
   ]
  },
  {
   "cell_type": "raw",
   "metadata": {},
   "source": [
    "<!--"
   ]
  },
  {
   "cell_type": "raw",
   "metadata": {
    "jupyter": {
     "outputs_hidden": false
    }
   },
   "source": [
    "L2, L1, v1, R1, I_L1, R2, s, I_L2, v2, I1, C1 = symbols('L2 L1 v1 R1 I_L1 R2 s I_L2 v2 I1 C1')\n",
    "\n",
    "equ = Matrix(\n",
    "    [[Eq(C1*s*v1 - C1*s*v2 + I_L2, I1)],\n",
    "    [Eq(-C1*s*v1 + I_L1 + v2*(C1*s + 1/R2 + 1/R1), 0)],\n",
    "    [Eq(-I_L1*L1*s + v2, 0)],\n",
    "    [Eq(-I_L2*L2*s + v1, 0)]])    \n",
    "    \n",
    "equ"
   ]
  },
  {
   "cell_type": "raw",
   "metadata": {},
   "source": [
    "A symbolic solution for the circuit current in L2 and R2:"
   ]
  },
  {
   "cell_type": "raw",
   "metadata": {},
   "source": [
    "u = solve(equ,[v1, v2, I_L1, I_L2])\n",
    "u[v2]/R2 + u[I_L2]"
   ]
  },
  {
   "cell_type": "raw",
   "metadata": {},
   "source": [
    "To solve numerically, enter the element values."
   ]
  },
  {
   "cell_type": "raw",
   "metadata": {
    "jupyter": {
     "outputs_hidden": false
    }
   },
   "source": [
    "equ1a = equ.subs({L1:2, L2:3, R1:6, R2:6, C1:1/3, I1:-1-1j, s:1j})\n",
    "equ1a  # display the equations"
   ]
  },
  {
   "cell_type": "raw",
   "metadata": {},
   "source": [
    "Solve the system of equations."
   ]
  },
  {
   "cell_type": "raw",
   "metadata": {},
   "source": [
    "u1 = solve(equ1a,[v1, v2, v3, I_L1, I_L2])\n",
    "u1"
   ]
  },
  {
   "cell_type": "raw",
   "metadata": {},
   "source": [
    "-->"
   ]
  },
  {
   "cell_type": "markdown",
   "metadata": {},
   "source": [
    "Current in I_R2 = V2/R2"
   ]
  },
  {
   "cell_type": "code",
   "execution_count": 67,
   "metadata": {},
   "outputs": [
    {
     "data": {
      "image/png": "[encoded data removed]",
      "text/latex": [
       "$\\displaystyle 1.0 i$"
      ],
      "text/plain": [
       "1.0⋅ⅈ"
      ]
     },
     "execution_count": 67,
     "metadata": {},
     "output_type": "execute_result"
    }
   ],
   "source": [
    "Isc = U[v2]/6 + U[I_L2]\n",
    "Isc"
   ]
  },
  {
   "cell_type": "code",
   "execution_count": 68,
   "metadata": {},
   "outputs": [
    {
     "data": {
      "image/png": "[encoded data removed]",
      "text/latex": [
       "$\\displaystyle 0.6 + 1.8 i$"
      ],
      "text/plain": [
       "0.6 + 1.8⋅ⅈ"
      ]
     },
     "execution_count": 68,
     "metadata": {},
     "output_type": "execute_result"
    }
   ],
   "source": [
    "Zth = simplify(Voc/Isc)\n",
    "Zth"
   ]
  },
  {
   "cell_type": "markdown",
   "metadata": {},
   "source": [
    "Voc along with Zth are the values to the Thevenin equivalent circuit."
   ]
  },
  {
   "cell_type": "markdown",
   "metadata": {},
   "source": [
    "## Find V3 using the Thevenin equivalent circuit\n",
    "The load attached to the Thevenin equivalent circuit is the parallel of the resistor and capacitor.  \n",
    "$Z = \\frac{1}{\\frac{1}{R}+\\frac{1}{C}}$  \n",
    "The load $Z$ is the parallel combination of R = 6 and C = -j2."
   ]
  },
  {
   "cell_type": "code",
   "execution_count": 69,
   "metadata": {},
   "outputs": [
    {
     "data": {
      "text/plain": [
       "(0.6-1.7999999999999998j)"
      ]
     },
     "execution_count": 69,
     "metadata": {},
     "output_type": "execute_result"
    }
   ],
   "source": [
    "Z = (1)/(1/(6)+1/(-2j))\n",
    "Z"
   ]
  },
  {
   "cell_type": "markdown",
   "metadata": {},
   "source": [
    "Using the values for $V_{oc}$ and $Z_{th}$ obtained above, we write the equation for V3 as a voltage divider and have SymPy simplify the result."
   ]
  },
  {
   "cell_type": "code",
   "execution_count": 70,
   "metadata": {},
   "outputs": [
    {
     "data": {
      "image/png": "[encoded data removed]",
      "text/latex": [
       "$\\displaystyle 4.62592926927148 \\cdot 10^{-16} + 3.0 i$"
      ],
      "text/plain": [
       "4.62592926927148e-16 + 3.0⋅ⅈ"
      ]
     },
     "execution_count": 70,
     "metadata": {},
     "output_type": "execute_result"
    }
   ],
   "source": [
    "simplify(Z*Voc/(Zth+Z))"
   ]
  },
  {
   "cell_type": "markdown",
   "metadata": {},
   "source": [
    "We can get SymPy to ignore small numbers by using the round function set to 3 digits."
   ]
  },
  {
   "cell_type": "code",
   "execution_count": 71,
   "metadata": {},
   "outputs": [
    {
     "data": {
      "image/png": "[encoded data removed]",
      "text/latex": [
       "$\\displaystyle 3.0 i$"
      ],
      "text/plain": [
       "3.0⋅ⅈ"
      ]
     },
     "execution_count": 71,
     "metadata": {},
     "output_type": "execute_result"
    }
   ],
   "source": [
    "simplify(Z*Voc/(Zth+Z)).round(3)"
   ]
  },
  {
   "cell_type": "markdown",
   "metadata": {},
   "source": [
    "## Find V3 using the complete circuit\n",
    "Checking the answer for V3, by solving the equations for the complete circuit. The net list is: \n",
    "```\n",
    "I1 0 1 1\n",
    "R1 2 0 6\n",
    "R2 3 2 6\n",
    "R3 0 3 6\n",
    "L1 2 0 2\n",
    "L2 1 3 3\n",
    "C1 1 2 0.33\n",
    "C2 3 0 0.5\n",
    "```"
   ]
  },
  {
   "cell_type": "markdown",
   "metadata": {},
   "source": [
    "Declare the symbols and equations for the complete circuit."
   ]
  },
  {
   "cell_type": "code",
   "execution_count": 72,
   "metadata": {},
   "outputs": [],
   "source": [
    "net_list = '''\n",
    "I1 0 1 1\n",
    "R1 2 0 6\n",
    "R2 3 2 6\n",
    "R3 0 3 6\n",
    "L1 2 0 2\n",
    "L2 1 3 3\n",
    "C1 1 2 0.333333333333333\n",
    "C2 3 0 0.5\n",
    "'''"
   ]
  },
  {
   "cell_type": "markdown",
   "metadata": {},
   "source": [
    "Call the symbolic modified nodal analysis function"
   ]
  },
  {
   "cell_type": "code",
   "execution_count": 73,
   "metadata": {},
   "outputs": [],
   "source": [
    "report, network_df, i_unk_df, A, X, Z = SymMNA.smna(net_list)"
   ]
  },
  {
   "cell_type": "markdown",
   "metadata": {},
   "source": [
    "Display the equations"
   ]
  },
  {
   "cell_type": "code",
   "execution_count": 74,
   "metadata": {},
   "outputs": [
    {
     "data": {
      "text/markdown": [
       "$C_{1} s v_{1} - C_{1} s v_{2} + I_{L2} = I_{1}$<br>$- C_{1} s v_{1} + I_{L1} + v_{2} \\left(C_{1} s + \\frac{1}{R_{2}} + \\frac{1}{R_{1}}\\right) - \\frac{v_{3}}{R_{2}} = 0$<br>$- I_{L2} + v_{3} \\left(C_{2} s + \\frac{1}{R_{3}} + \\frac{1}{R_{2}}\\right) - \\frac{v_{2}}{R_{2}} = 0$<br>$- I_{L1} L_{1} s + v_{2} = 0$<br>$- I_{L2} L_{2} s + v_{1} - v_{3} = 0$<br>"
      ],
      "text/plain": [
       "<IPython.core.display.Markdown object>"
      ]
     },
     "execution_count": 74,
     "metadata": {},
     "output_type": "execute_result"
    }
   ],
   "source": [
    "# reform X and Z into Matrix type for printing\n",
    "Xp = Matrix(X)\n",
    "Zp = Matrix(Z)\n",
    "temp = ''\n",
    "for i in range(len(X)):\n",
    "    temp += '${:s}$<br>'.format(latex(Eq((A*Xp)[i:i+1][0],Zp[i])))\n",
    "\n",
    "Markdown(temp)"
   ]
  },
  {
   "cell_type": "markdown",
   "metadata": {},
   "source": [
    "Build the network equation matrix"
   ]
  },
  {
   "cell_type": "code",
   "execution_count": 75,
   "metadata": {},
   "outputs": [
    {
     "data": {
      "text/latex": [
       "$\\displaystyle \\left[\\begin{matrix}C_{1} s v_{1} - C_{1} s v_{2} + I_{L2}\\\\- C_{1} s v_{1} + I_{L1} + v_{2} \\left(C_{1} s + \\frac{1}{R_{2}} + \\frac{1}{R_{1}}\\right) - \\frac{v_{3}}{R_{2}}\\\\- I_{L2} + v_{3} \\left(C_{2} s + \\frac{1}{R_{3}} + \\frac{1}{R_{2}}\\right) - \\frac{v_{2}}{R_{2}}\\\\- I_{L1} L_{1} s + v_{2}\\\\- I_{L2} L_{2} s + v_{1} - v_{3}\\end{matrix}\\right] = \\left[\\begin{matrix}I_{1}\\\\0\\\\0\\\\0\\\\0\\end{matrix}\\right]$"
      ],
      "text/plain": [
       "⎡         C₁⋅s⋅v₁ - C₁⋅s⋅v₂ + I_L2         ⎤       \n",
       "⎢                                          ⎥       \n",
       "⎢                     ⎛       1    1 ⎞   v₃⎥   ⎡I₁⎤\n",
       "⎢-C₁⋅s⋅v₁ + I_L1 + v₂⋅⎜C₁⋅s + ── + ──⎟ - ──⎥   ⎢  ⎥\n",
       "⎢                     ⎝       R₂   R₁⎠   R₂⎥   ⎢0 ⎥\n",
       "⎢                                          ⎥   ⎢  ⎥\n",
       "⎢                ⎛       1    1 ⎞   v₂     ⎥ = ⎢0 ⎥\n",
       "⎢     -I_L2 + v₃⋅⎜C₂⋅s + ── + ──⎟ - ──     ⎥   ⎢  ⎥\n",
       "⎢                ⎝       R₃   R₂⎠   R₂     ⎥   ⎢0 ⎥\n",
       "⎢                                          ⎥   ⎢  ⎥\n",
       "⎢             -I_L1⋅L₁⋅s + v₂              ⎥   ⎣0 ⎦\n",
       "⎢                                          ⎥       \n",
       "⎣           -I_L2⋅L₂⋅s + v₁ - v₃           ⎦       "
      ]
     },
     "execution_count": 75,
     "metadata": {},
     "output_type": "execute_result"
    }
   ],
   "source": [
    "# Put matrices into SymPy \n",
    "X = Matrix(X)\n",
    "Z = Matrix(Z)\n",
    "\n",
    "NE_sym = Eq(A*X,Z)\n",
    "NE_sym"
   ]
  },
  {
   "cell_type": "code",
   "execution_count": null,
   "metadata": {},
   "outputs": [],
   "source": []
  },
  {
   "cell_type": "code",
   "execution_count": 76,
   "metadata": {},
   "outputs": [
    {
     "data": {
      "image/png": "[encoded data removed]",
      "text/latex": [
       "$\\displaystyle \\left( L_{2}, \\  L_{1}, \\  v_{1}, \\  R_{1}, \\  C_{1}, \\  I_{L1}, \\  I_{1}, \\  R_{3}, \\  s, \\  v_{2}, \\  I_{L2}, \\  v_{3}, \\  R_{2}, \\  C_{2}\\right)$"
      ],
      "text/plain": [
       "(L₂, L₁, v₁, R₁, C₁, I_L1, I₁, R₃, s, v₂, I_L2, v₃, R₂, C₂)"
      ]
     },
     "execution_count": 76,
     "metadata": {},
     "output_type": "execute_result"
    }
   ],
   "source": [
    "# turn the free symbols into SymPy variables\n",
    "var(str(NE_sym.free_symbols).replace('{','').replace('}',''))"
   ]
  },
  {
   "cell_type": "markdown",
   "metadata": {},
   "source": [
    "Symbolic solution"
   ]
  },
  {
   "cell_type": "code",
   "execution_count": 77,
   "metadata": {},
   "outputs": [],
   "source": [
    "U_sym = solve(NE_sym,X)"
   ]
  },
  {
   "cell_type": "markdown",
   "metadata": {},
   "source": [
    "Display the symbolic solution"
   ]
  },
  {
   "cell_type": "code",
   "execution_count": 78,
   "metadata": {},
   "outputs": [
    {
     "data": {
      "text/markdown": [
       "$v_{1} = \\frac{C_{1} C_{2} I_{1} L_{1} L_{2} R_{1} R_{2} R_{3} s^{4} + C_{1} I_{1} L_{1} L_{2} R_{1} R_{2} s^{3} + C_{1} I_{1} L_{1} L_{2} R_{1} R_{3} s^{3} + C_{1} I_{1} L_{1} R_{1} R_{2} R_{3} s^{2} + C_{2} I_{1} L_{1} L_{2} R_{1} R_{3} s^{3} + C_{2} I_{1} L_{1} L_{2} R_{2} R_{3} s^{3} + C_{2} I_{1} L_{2} R_{1} R_{2} R_{3} s^{2} + I_{1} L_{1} L_{2} R_{1} s^{2} + I_{1} L_{1} L_{2} R_{2} s^{2} + I_{1} L_{1} L_{2} R_{3} s^{2} + I_{1} L_{1} R_{1} R_{3} s + I_{1} L_{1} R_{2} R_{3} s + I_{1} L_{2} R_{1} R_{2} s + I_{1} L_{2} R_{1} R_{3} s + I_{1} R_{1} R_{2} R_{3}}{C_{1} C_{2} L_{1} L_{2} R_{1} R_{3} s^{4} + C_{1} C_{2} L_{1} L_{2} R_{2} R_{3} s^{4} + C_{1} C_{2} L_{1} R_{1} R_{2} R_{3} s^{3} + C_{1} C_{2} L_{2} R_{1} R_{2} R_{3} s^{3} + C_{1} L_{1} L_{2} R_{1} s^{3} + C_{1} L_{1} L_{2} R_{2} s^{3} + C_{1} L_{1} L_{2} R_{3} s^{3} + C_{1} L_{1} R_{1} R_{2} s^{2} + C_{1} L_{1} R_{2} R_{3} s^{2} + C_{1} L_{2} R_{1} R_{2} s^{2} + C_{1} L_{2} R_{1} R_{3} s^{2} + C_{1} R_{1} R_{2} R_{3} s + C_{2} L_{1} R_{1} R_{3} s^{2} + C_{2} L_{1} R_{2} R_{3} s^{2} + C_{2} R_{1} R_{2} R_{3} s + L_{1} R_{1} s + L_{1} R_{2} s + L_{1} R_{3} s + R_{1} R_{2} + R_{1} R_{3}}$<br>$v_{2} = \\frac{C_{1} C_{2} I_{1} L_{1} L_{2} R_{1} R_{2} R_{3} s^{4} + C_{1} I_{1} L_{1} L_{2} R_{1} R_{2} s^{3} + C_{1} I_{1} L_{1} L_{2} R_{1} R_{3} s^{3} + C_{1} I_{1} L_{1} R_{1} R_{2} R_{3} s^{2} + I_{1} L_{1} R_{1} R_{3} s}{C_{1} C_{2} L_{1} L_{2} R_{1} R_{3} s^{4} + C_{1} C_{2} L_{1} L_{2} R_{2} R_{3} s^{4} + C_{1} C_{2} L_{1} R_{1} R_{2} R_{3} s^{3} + C_{1} C_{2} L_{2} R_{1} R_{2} R_{3} s^{3} + C_{1} L_{1} L_{2} R_{1} s^{3} + C_{1} L_{1} L_{2} R_{2} s^{3} + C_{1} L_{1} L_{2} R_{3} s^{3} + C_{1} L_{1} R_{1} R_{2} s^{2} + C_{1} L_{1} R_{2} R_{3} s^{2} + C_{1} L_{2} R_{1} R_{2} s^{2} + C_{1} L_{2} R_{1} R_{3} s^{2} + C_{1} R_{1} R_{2} R_{3} s + C_{2} L_{1} R_{1} R_{3} s^{2} + C_{2} L_{1} R_{2} R_{3} s^{2} + C_{2} R_{1} R_{2} R_{3} s + L_{1} R_{1} s + L_{1} R_{2} s + L_{1} R_{3} s + R_{1} R_{2} + R_{1} R_{3}}$<br>$v_{3} = \\frac{C_{1} I_{1} L_{1} L_{2} R_{1} R_{3} s^{3} + C_{1} I_{1} L_{1} R_{1} R_{2} R_{3} s^{2} + I_{1} L_{1} R_{1} R_{3} s + I_{1} L_{1} R_{2} R_{3} s + I_{1} R_{1} R_{2} R_{3}}{C_{1} C_{2} L_{1} L_{2} R_{1} R_{3} s^{4} + C_{1} C_{2} L_{1} L_{2} R_{2} R_{3} s^{4} + C_{1} C_{2} L_{1} R_{1} R_{2} R_{3} s^{3} + C_{1} C_{2} L_{2} R_{1} R_{2} R_{3} s^{3} + C_{1} L_{1} L_{2} R_{1} s^{3} + C_{1} L_{1} L_{2} R_{2} s^{3} + C_{1} L_{1} L_{2} R_{3} s^{3} + C_{1} L_{1} R_{1} R_{2} s^{2} + C_{1} L_{1} R_{2} R_{3} s^{2} + C_{1} L_{2} R_{1} R_{2} s^{2} + C_{1} L_{2} R_{1} R_{3} s^{2} + C_{1} R_{1} R_{2} R_{3} s + C_{2} L_{1} R_{1} R_{3} s^{2} + C_{2} L_{1} R_{2} R_{3} s^{2} + C_{2} R_{1} R_{2} R_{3} s + L_{1} R_{1} s + L_{1} R_{2} s + L_{1} R_{3} s + R_{1} R_{2} + R_{1} R_{3}}$<br>$I_{L1} = \\frac{C_{1} C_{2} I_{1} L_{2} R_{1} R_{2} R_{3} s^{3} + C_{1} I_{1} L_{2} R_{1} R_{2} s^{2} + C_{1} I_{1} L_{2} R_{1} R_{3} s^{2} + C_{1} I_{1} R_{1} R_{2} R_{3} s + I_{1} R_{1} R_{3}}{C_{1} C_{2} L_{1} L_{2} R_{1} R_{3} s^{4} + C_{1} C_{2} L_{1} L_{2} R_{2} R_{3} s^{4} + C_{1} C_{2} L_{1} R_{1} R_{2} R_{3} s^{3} + C_{1} C_{2} L_{2} R_{1} R_{2} R_{3} s^{3} + C_{1} L_{1} L_{2} R_{1} s^{3} + C_{1} L_{1} L_{2} R_{2} s^{3} + C_{1} L_{1} L_{2} R_{3} s^{3} + C_{1} L_{1} R_{1} R_{2} s^{2} + C_{1} L_{1} R_{2} R_{3} s^{2} + C_{1} L_{2} R_{1} R_{2} s^{2} + C_{1} L_{2} R_{1} R_{3} s^{2} + C_{1} R_{1} R_{2} R_{3} s + C_{2} L_{1} R_{1} R_{3} s^{2} + C_{2} L_{1} R_{2} R_{3} s^{2} + C_{2} R_{1} R_{2} R_{3} s + L_{1} R_{1} s + L_{1} R_{2} s + L_{1} R_{3} s + R_{1} R_{2} + R_{1} R_{3}}$<br>$I_{L2} = \\frac{C_{1} C_{2} I_{1} L_{1} R_{1} R_{2} R_{3} s^{3} + C_{1} I_{1} L_{1} R_{1} R_{2} s^{2} + C_{2} I_{1} L_{1} R_{1} R_{3} s^{2} + C_{2} I_{1} L_{1} R_{2} R_{3} s^{2} + C_{2} I_{1} R_{1} R_{2} R_{3} s + I_{1} L_{1} R_{1} s + I_{1} L_{1} R_{2} s + I_{1} L_{1} R_{3} s + I_{1} R_{1} R_{2} + I_{1} R_{1} R_{3}}{C_{1} C_{2} L_{1} L_{2} R_{1} R_{3} s^{4} + C_{1} C_{2} L_{1} L_{2} R_{2} R_{3} s^{4} + C_{1} C_{2} L_{1} R_{1} R_{2} R_{3} s^{3} + C_{1} C_{2} L_{2} R_{1} R_{2} R_{3} s^{3} + C_{1} L_{1} L_{2} R_{1} s^{3} + C_{1} L_{1} L_{2} R_{2} s^{3} + C_{1} L_{1} L_{2} R_{3} s^{3} + C_{1} L_{1} R_{1} R_{2} s^{2} + C_{1} L_{1} R_{2} R_{3} s^{2} + C_{1} L_{2} R_{1} R_{2} s^{2} + C_{1} L_{2} R_{1} R_{3} s^{2} + C_{1} R_{1} R_{2} R_{3} s + C_{2} L_{1} R_{1} R_{3} s^{2} + C_{2} L_{1} R_{2} R_{3} s^{2} + C_{2} R_{1} R_{2} R_{3} s + L_{1} R_{1} s + L_{1} R_{2} s + L_{1} R_{3} s + R_{1} R_{2} + R_{1} R_{3}}$<br>"
      ],
      "text/plain": [
       "<IPython.core.display.Markdown object>"
      ]
     },
     "execution_count": 78,
     "metadata": {},
     "output_type": "execute_result"
    }
   ],
   "source": [
    "temp = ''\n",
    "for i in U_sym.keys():\n",
    "    temp += '${:s} = {:s}$<br>'.format(latex(i),latex(U_sym[i]))\n",
    "\n",
    "Markdown(temp)"
   ]
  },
  {
   "cell_type": "code",
   "execution_count": 79,
   "metadata": {},
   "outputs": [
    {
     "data": {
      "image/png": "[encoded data removed]",
      "text/latex": [
       "$\\displaystyle \\frac{C_{1} I_{1} L_{1} L_{2} R_{1} R_{3} s^{3} + C_{1} I_{1} L_{1} R_{1} R_{2} R_{3} s^{2} + I_{1} L_{1} R_{1} R_{3} s + I_{1} L_{1} R_{2} R_{3} s + I_{1} R_{1} R_{2} R_{3}}{C_{1} C_{2} L_{1} L_{2} R_{1} R_{3} s^{4} + C_{1} C_{2} L_{1} L_{2} R_{2} R_{3} s^{4} + C_{1} C_{2} L_{1} R_{1} R_{2} R_{3} s^{3} + C_{1} C_{2} L_{2} R_{1} R_{2} R_{3} s^{3} + C_{1} L_{1} L_{2} R_{1} s^{3} + C_{1} L_{1} L_{2} R_{2} s^{3} + C_{1} L_{1} L_{2} R_{3} s^{3} + C_{1} L_{1} R_{1} R_{2} s^{2} + C_{1} L_{1} R_{2} R_{3} s^{2} + C_{1} L_{2} R_{1} R_{2} s^{2} + C_{1} L_{2} R_{1} R_{3} s^{2} + C_{1} R_{1} R_{2} R_{3} s + C_{2} L_{1} R_{1} R_{3} s^{2} + C_{2} L_{1} R_{2} R_{3} s^{2} + C_{2} R_{1} R_{2} R_{3} s + L_{1} R_{1} s + L_{1} R_{2} s + L_{1} R_{3} s + R_{1} R_{2} + R_{1} R_{3}}$"
      ],
      "text/plain": [
       "                                                                              \n",
       "                                                                              \n",
       "──────────────────────────────────────────────────────────────────────────────\n",
       "                   4                      4                      3            \n",
       "C₁⋅C₂⋅L₁⋅L₂⋅R₁⋅R₃⋅s  + C₁⋅C₂⋅L₁⋅L₂⋅R₂⋅R₃⋅s  + C₁⋅C₂⋅L₁⋅R₁⋅R₂⋅R₃⋅s  + C₁⋅C₂⋅L₂⋅\n",
       "\n",
       "                                                        3                     \n",
       "                                     C₁⋅I₁⋅L₁⋅L₂⋅R₁⋅R₃⋅s  + C₁⋅I₁⋅L₁⋅R₁⋅R₂⋅R₃⋅\n",
       "──────────────────────────────────────────────────────────────────────────────\n",
       "          3                3                3                3                \n",
       "R₁⋅R₂⋅R₃⋅s  + C₁⋅L₁⋅L₂⋅R₁⋅s  + C₁⋅L₁⋅L₂⋅R₂⋅s  + C₁⋅L₁⋅L₂⋅R₃⋅s  + C₁⋅L₁⋅R₁⋅R₂⋅s\n",
       "\n",
       " 2                                                                            \n",
       "s  + I₁⋅L₁⋅R₁⋅R₃⋅s + I₁⋅L₁⋅R₂⋅R₃⋅s + I₁⋅R₁⋅R₂⋅R₃                              \n",
       "──────────────────────────────────────────────────────────────────────────────\n",
       "2                2                2                2                          \n",
       "  + C₁⋅L₁⋅R₂⋅R₃⋅s  + C₁⋅L₂⋅R₁⋅R₂⋅s  + C₁⋅L₂⋅R₁⋅R₃⋅s  + C₁⋅R₁⋅R₂⋅R₃⋅s + C₂⋅L₁⋅R\n",
       "\n",
       "                                                                              \n",
       "                                                                              \n",
       "──────────────────────────────────────────────────────────────────────────────\n",
       "      2                2                                                      \n",
       "₁⋅R₃⋅s  + C₂⋅L₁⋅R₂⋅R₃⋅s  + C₂⋅R₁⋅R₂⋅R₃⋅s + L₁⋅R₁⋅s + L₁⋅R₂⋅s + L₁⋅R₃⋅s + R₁⋅R₂\n",
       "\n",
       "        \n",
       "        \n",
       "────────\n",
       "        \n",
       " + R₁⋅R₃"
      ]
     },
     "execution_count": 79,
     "metadata": {},
     "output_type": "execute_result"
    }
   ],
   "source": [
    "U_sym[v3]"
   ]
  },
  {
   "cell_type": "markdown",
   "metadata": {},
   "source": [
    "Construct a dictionary of element values"
   ]
  },
  {
   "cell_type": "raw",
   "metadata": {},
   "source": [
    "element_values"
   ]
  },
  {
   "cell_type": "code",
   "execution_count": 80,
   "metadata": {},
   "outputs": [
    {
     "data": {
      "image/png": "[encoded data removed]",
      "text/latex": [
       "$\\displaystyle \\left\\{ C_{1} : 0.333333333333333, \\  C_{2} : 0.5, \\  I_{1} : 1.0, \\  L_{1} : 2.0, \\  L_{2} : 3.0, \\  R_{1} : 6.0, \\  R_{2} : 6.0, \\  R_{3} : 6.0\\right\\}$"
      ],
      "text/plain": [
       "{C₁: 0.333333333333333, C₂: 0.5, I₁: 1.0, L₁: 2.0, L₂: 3.0, R₁: 6.0, R₂: 6.0, \n",
       "R₃: 6.0}"
      ]
     },
     "execution_count": 80,
     "metadata": {},
     "output_type": "execute_result"
    }
   ],
   "source": [
    "element_values = SymMNA.get_part_values(network_df)\n",
    "element_values"
   ]
  },
  {
   "cell_type": "code",
   "execution_count": 81,
   "metadata": {},
   "outputs": [
    {
     "data": {
      "text/latex": [
       "$\\displaystyle \\left[\\begin{matrix}I_{L2} + 0.333333333333333 i v_{1} - 0.333333333333333 i v_{2}\\\\I_{L1} - 0.333333333333333 i v_{1} + v_{2} \\cdot \\left(0.333333333333333 + 0.333333333333333 i\\right) - 0.166666666666667 v_{3}\\\\- I_{L2} - 0.166666666666667 v_{2} + v_{3} \\cdot \\left(0.333333333333333 + 0.5 i\\right)\\\\- 2.0 i I_{L1} + v_{2}\\\\- 3.0 i I_{L2} + v_{1} - v_{3}\\end{matrix}\\right] = \\left[\\begin{matrix}-1.0 - 1.0 i\\\\0\\\\0\\\\0\\\\0\\end{matrix}\\right]$"
      ],
      "text/plain": [
       "⎡                      I_L2 + 0.333333333333333⋅ⅈ⋅v₁ - 0.333333333333333⋅ⅈ⋅v₂ \n",
       "⎢                                                                             \n",
       "⎢I_L1 - 0.333333333333333⋅ⅈ⋅v₁ + v₂⋅(0.333333333333333 + 0.333333333333333⋅ⅈ) \n",
       "⎢                                                                             \n",
       "⎢                   -I_L2 - 0.166666666666667⋅v₂ + v₃⋅(0.333333333333333 + 0.5\n",
       "⎢                                                                             \n",
       "⎢                                         -2.0⋅ⅈ⋅I_L1 + v₂                    \n",
       "⎢                                                                             \n",
       "⎣                                       -3.0⋅ⅈ⋅I_L2 + v₁ - v₃                 \n",
       "\n",
       "                      ⎤   ⎡-1.0 - ⅈ⎤\n",
       "                      ⎥   ⎢        ⎥\n",
       "- 0.166666666666667⋅v₃⎥   ⎢   0    ⎥\n",
       "                      ⎥   ⎢        ⎥\n",
       "⋅ⅈ)                   ⎥ = ⎢   0    ⎥\n",
       "                      ⎥   ⎢        ⎥\n",
       "                      ⎥   ⎢   0    ⎥\n",
       "                      ⎥   ⎢        ⎥\n",
       "                      ⎦   ⎣   0    ⎦"
      ]
     },
     "execution_count": 81,
     "metadata": {},
     "output_type": "execute_result"
    }
   ],
   "source": [
    "#NE = NE_sym.subs({L1:2, L2:3, R1:6, R2:6, C1:1/3, I1:-1-1j, s:1j})\n",
    "NE = NE_sym.subs({s:1j,I1:-1-1j})\n",
    "NE = NE.subs(element_values)\n",
    "NE"
   ]
  },
  {
   "cell_type": "markdown",
   "metadata": {},
   "source": [
    "Solving the system of equations for v3 using the SymPy solve function."
   ]
  },
  {
   "cell_type": "code",
   "execution_count": 82,
   "metadata": {
    "tags": []
   },
   "outputs": [
    {
     "data": {
      "image/png": "[encoded data removed]",
      "text/latex": [
       "$\\displaystyle 3.0 i$"
      ],
      "text/plain": [
       "3.0⋅ⅈ"
      ]
     },
     "execution_count": 82,
     "metadata": {},
     "output_type": "execute_result"
    }
   ],
   "source": [
    "U = solve(NE,X)\n",
    "U[v3]"
   ]
  },
  {
   "cell_type": "raw",
   "metadata": {},
   "source": [
    "<!--"
   ]
  },
  {
   "cell_type": "raw",
   "metadata": {
    "jupyter": {
     "outputs_hidden": false
    }
   },
   "source": [
    "R3, C2, L2, L1, v1, R1, I_L1, R2, s, I_L2, v3, v2, I1, C1 = symbols('R3 C2 L2 L1 v1 R1 I_L1 R2 s I_L2 v3 v2 I1 C1')\n",
    "\n",
    "equ = Matrix(\n",
    "    [[Eq(C1*s*v1 - C1*s*v2 + I_L2, I1)],\n",
    "    [Eq(-C1*s*v1 + I_L1 + v2*(C1*s + 1/R2 + 1/R1) - v3/R2, 0)],\n",
    "    [Eq(-I_L2 + v3*(C2*s + 1/R3 + 1/R2) - v2/R2, 0)],\n",
    "    [Eq(-I_L1*L1*s + v2, 0)],\n",
    "    [Eq(-I_L2*L2*s + v1 - v3, 0)]])\n",
    "equ # display the equations"
   ]
  },
  {
   "cell_type": "raw",
   "metadata": {},
   "source": [
    "Solving for v3 using the symbolic values"
   ]
  },
  {
   "cell_type": "raw",
   "metadata": {},
   "source": [
    "solve(equ,[v1, v2, v3, I_L1, I_L2])[v3]"
   ]
  },
  {
   "cell_type": "raw",
   "metadata": {},
   "source": [
    "Inserting the element values into the equations."
   ]
  },
  {
   "cell_type": "raw",
   "metadata": {
    "jupyter": {
     "outputs_hidden": false
    }
   },
   "source": [
    "equ1a = equ.subs({L1:2, L2:3, R1:6, R2:6, R3:6, C1:1/3, C2:1/2, I1:-1-1j, s:1j})\n",
    "equ1a  # display the equations"
   ]
  },
  {
   "cell_type": "raw",
   "metadata": {},
   "source": [
    "Solving the system of equations for v3 using the SymPy solve function."
   ]
  },
  {
   "cell_type": "raw",
   "metadata": {},
   "source": [
    "solve(equ1a,[v1, v2, v3, I_L1, I_L2])[v3]"
   ]
  },
  {
   "cell_type": "raw",
   "metadata": {},
   "source": [
    "-->"
   ]
  },
  {
   "cell_type": "markdown",
   "metadata": {},
   "source": [
    "The value obtained by solving the system equations for the complete network agrees with the Thevenin equivalent circuit solution. "
   ]
  },
  {
   "cell_type": "code",
   "execution_count": null,
   "metadata": {},
   "outputs": [],
   "source": []
  }
 ],
 "metadata": {
  "kernelspec": {
   "display_name": "Python 3 (ipykernel)",
   "language": "python",
   "name": "python3"
  },
  "language_info": {
   "codemirror_mode": {
    "name": "ipython",
    "version": 3
   },
   "file_extension": ".py",
   "mimetype": "text/x-python",
   "name": "python",
   "nbconvert_exporter": "python",
   "pygments_lexer": "ipython3",
   "version": "3.10.9"
  }
 },
 "nbformat": 4,
 "nbformat_minor": 4
}
