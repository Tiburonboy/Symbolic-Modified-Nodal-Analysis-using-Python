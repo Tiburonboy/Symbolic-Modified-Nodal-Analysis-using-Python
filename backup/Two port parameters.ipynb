{
 "cells": [
  {
   "cell_type": "raw",
   "metadata": {},
   "source": [
    "---\n",
    "title:\n",
    "format: \n",
    "    html:\n",
    "        code-fold: false\n",
    "        embed-resources: false\n",
    "        code-tools: true\n",
    "        number-sections: true\n",
    "jupyter: python3\n",
    "---"
   ]
  },
  {
   "cell_type": "markdown",
   "metadata": {},
   "source": [
    "# Two port parameters  {#sec-two-port}\n",
    "\n",
    "## Introduction\n",
    "This notebook describes the calculation of two port parameters derived from the circuit's netlist. A [Two-port network](https://en.wikipedia.org/wiki/Two-port_network) is a circuit that has two pairs of ports or terminals and the circuit is characterized by the currents and voltages at the ports by a 2 by 2 matrix. From a two port matrix the response of the network to signals applied to the ports can be calculated easily, without solving for all the internal voltages and currents in the network. For example filters, matching networks, transmission lines, and transistors are characterized by two port parameters.\n",
    "\n",
    "## Circuit description\n",
    "The first circuit is an attenuator, which could be easily analyzed by hand with a pencil, paper and a calculator, but here I'm using python to step through the calculations. These same steps can be applied to larger, more complex circuits which would be difficult to analyze by hand. The Sympy and SciPy libraries can be used to obtain symbolic and numerical results, however as is shown below, when the circuit is large, symbolic results are not that useful nor do they provide much insight.\n",
    "\n",
    "The procedure starts by first drawing a schematic of the circuit with a schematic capture program such as EasyEDA (links to the schematics are provided below) then the netlist is generated and exported as a text file. The netlist is used to generate modified nodal equations with the python program described [here](https://github.com/Tiburonboy/Symbolic-modified-nodal-analysis). The equations are solved for voltages and currents at the port terminals by using SymPy to generate the [z-paramters](https://en.wikipedia.org/wiki/Impedance_parameters). Z-parameters are also known as open-circuit impedance parameters as they are calculated under open circuit conditions. Once the z-parameters are obtained, these can be converted into other parameters, such as Y, H, S or others. \n",
    "\n",
    "The second circuit is a band pass filter. The filter is designed from a low pass prototype by using normalized values from a filter design handbook. Z and s-parameters are calculated and the results are plotted using Matplotlib."
   ]
  },
  {
   "cell_type": "code",
   "execution_count": 69,
   "metadata": {
    "collapsed": false,
    "jupyter": {
     "outputs_hidden": false
    }
   },
   "outputs": [],
   "source": [
    "from sympy import *\n",
    "import numpy as np\n",
    "from tabulate import tabulate\n",
    "from scipy import signal\n",
    "import matplotlib.pyplot as plt\n",
    "import pandas as pd\n",
    "import SymMNA\n",
    "from IPython.display import display, Markdown, Math, Latex\n",
    "init_printing()"
   ]
  },
  {
   "cell_type": "markdown",
   "metadata": {},
   "source": [
    "### Pi-attenuator\n",
    "The pi-attenuator, shown in @fig-pi_attenuator, is formed by three resistors with R1 and R3 as the shunt resistors on the input and output ports and R2 as the series resistor in a circuit topology in the shape of the greek letter pi. For R1 = R3 = 96.25 ohms and R2 equal to 71.15 ohms, the attenuation is 10 dB and the port impedance is 50 ohms. Pasternack's Pi Attenuator Calculator ([Pi pad attenuator](https://www.pasternack.com/t-calculator-pi-attn.aspx)) was used to design the attenuator.\n",
    "\n",
    "The selection of which type a network parameter is somewhat a matter of convenience. However, some circuits can't have their ports shorted or left open for proper operation, so s-parameters are the appropriate choice in this situation. Solving for the z-parameters is convenient since all we need to do is apply a voltage source to the input port, with the output port unterminated, and solve for the voltage and currents at each port. Since the output port is unterminated, the current into this port is zero and we can find z11 and z21. To find z21 and z22, the voltage source is applied to port 2 with port 1 unterminated. \n",
    "\n",
    "To find Z-parameters attach voltage sources to both ports and find the node equations. LTSpice was used to draw the schematic.\n",
    "\n",
    "![schematic](pi_attenuator.png){#fig-pi_attenuator}   \n",
    "\n",
    "The netlist for the circuit:\n",
    "```\n",
    "R1 0 1 96.25\n",
    "R2 1 2 71.15\n",
    "R3 0 2 96.25\n",
    "V1 1 0 1\n",
    "V2 2 0 1\n",
    "```\n",
    "\n",
    "#### Find z11 & z21\n",
    "To find $z_{11}$ and $z_{21}$, remove V2 from the net list by commenting out the V2 line in the net list. This will make $I_2$ equal to zero. $z_{11}$ is equal to $\\frac{V_1}{I_1}\\text{  when  }I_2=0$ and $z_{21}$ is equal to $\\frac{V_2}{I_1}\\text{  when  }I_2=0$.  \n",
    "\n",
    "The net list below was run through the NMA code to generate the circuit equations.\n",
    "```\n",
    "R1 0 1 96.25\n",
    "R2 1 2 71.15\n",
    "R3 0 2 96.25\n",
    "V1 1 0 1\n",
    "*V2 2 0 1\n",
    "```"
   ]
  },
  {
   "cell_type": "code",
   "execution_count": 70,
   "metadata": {},
   "outputs": [],
   "source": [
    "net_list = '''\n",
    "R1 0 1 96.25\n",
    "R2 1 2 71.15\n",
    "R3 0 2 96.25\n",
    "V1 1 0 1\n",
    "*V2 2 0 1\n",
    "'''"
   ]
  },
  {
   "cell_type": "markdown",
   "metadata": {},
   "source": [
    "Call the symbolic modified nodal analysis function"
   ]
  },
  {
   "cell_type": "code",
   "execution_count": 71,
   "metadata": {},
   "outputs": [],
   "source": [
    "report, network_df, i_unk_df, A, X, Z = SymMNA.smna(net_list)"
   ]
  },
  {
   "cell_type": "markdown",
   "metadata": {},
   "source": [
    "The network equations for the circuit can be obtained from the A, X and Z values returned from the smna function. The A, X and Z are formuloated into equations and displayed below. Markdown is an IPython function and latex is a SymPy printing function."
   ]
  },
  {
   "cell_type": "code",
   "execution_count": 72,
   "metadata": {},
   "outputs": [
    {
     "data": {
      "text/markdown": [
       "$I_{V1} + v_{1} \\cdot \\left(\\frac{1}{R_{2}} + \\frac{1}{R_{1}}\\right) - \\frac{v_{2}}{R_{2}} = 0$<br>$v_{2} \\cdot \\left(\\frac{1}{R_{3}} + \\frac{1}{R_{2}}\\right) - \\frac{v_{1}}{R_{2}} = 0$<br>$v_{1} = V_{1}$<br>"
      ],
      "text/plain": [
       "<IPython.core.display.Markdown object>"
      ]
     },
     "execution_count": 72,
     "metadata": {},
     "output_type": "execute_result"
    }
   ],
   "source": [
    "# reform X and Z into Matrix type for printing\n",
    "Xp = Matrix(X)\n",
    "Zp = Matrix(Z)\n",
    "temp = ''\n",
    "for i in range(len(X)):\n",
    "    temp += '${:s}$<br>'.format(latex(Eq((A*Xp)[i:i+1][0],Zp[i])))\n",
    "\n",
    "Markdown(temp)"
   ]
  },
  {
   "cell_type": "code",
   "execution_count": 73,
   "metadata": {},
   "outputs": [
    {
     "data": {
      "text/latex": [
       "$\\displaystyle \\left[\\begin{matrix}I_{V1} + v_{1} \\cdot \\left(\\frac{1}{R_{2}} + \\frac{1}{R_{1}}\\right) - \\frac{v_{2}}{R_{2}}\\\\v_{2} \\cdot \\left(\\frac{1}{R_{3}} + \\frac{1}{R_{2}}\\right) - \\frac{v_{1}}{R_{2}}\\\\v_{1}\\end{matrix}\\right] = \\left[\\begin{matrix}0\\\\0\\\\V_{1}\\end{matrix}\\right]$"
      ],
      "text/plain": [
       "⎡          ⎛1    1 ⎞   v₂⎤       \n",
       "⎢I_V1 + v₁⋅⎜── + ──⎟ - ──⎥       \n",
       "⎢          ⎝R₂   R₁⎠   R₂⎥   ⎡0 ⎤\n",
       "⎢                        ⎥   ⎢  ⎥\n",
       "⎢      ⎛1    1 ⎞   v₁    ⎥ = ⎢0 ⎥\n",
       "⎢   v₂⋅⎜── + ──⎟ - ──    ⎥   ⎢  ⎥\n",
       "⎢      ⎝R₃   R₂⎠   R₂    ⎥   ⎣V₁⎦\n",
       "⎢                        ⎥       \n",
       "⎣           v₁           ⎦       "
      ]
     },
     "execution_count": 73,
     "metadata": {},
     "output_type": "execute_result"
    }
   ],
   "source": [
    "# Put matrices into SymPy \n",
    "X = Matrix(X)\n",
    "Z = Matrix(Z)\n",
    "\n",
    "NE_sym = Eq(A*X,Z)\n",
    "NE_sym"
   ]
  },
  {
   "cell_type": "code",
   "execution_count": 74,
   "metadata": {},
   "outputs": [
    {
     "data": {
      "image/png": "[encoded data removed]",
      "text/latex": [
       "$\\displaystyle \\left( R_{3}, \\  V_{1}, \\  v_{2}, \\  v_{1}, \\  R_{1}, \\  I_{V1}, \\  R_{2}\\right)$"
      ],
      "text/plain": [
       "(R₃, V₁, v₂, v₁, R₁, I_V1, R₂)"
      ]
     },
     "execution_count": 74,
     "metadata": {},
     "output_type": "execute_result"
    }
   ],
   "source": [
    "# turn the free symbols into SymPy variables\n",
    "var(str(NE_sym.free_symbols).replace('{','').replace('}',''))"
   ]
  },
  {
   "cell_type": "markdown",
   "metadata": {},
   "source": [
    "Symbolic solution"
   ]
  },
  {
   "cell_type": "code",
   "execution_count": 75,
   "metadata": {},
   "outputs": [],
   "source": [
    "U_sym_p1 = solve(NE_sym,X)"
   ]
  },
  {
   "cell_type": "markdown",
   "metadata": {},
   "source": [
    "Display the symbolic solution"
   ]
  },
  {
   "cell_type": "code",
   "execution_count": 76,
   "metadata": {},
   "outputs": [
    {
     "data": {
      "text/markdown": [
       "$v_{1} = V_{1}$<br>$v_{2} = \\frac{R_{3} V_{1}}{R_{2} + R_{3}}$<br>$I_{V1} = \\frac{- R_{1} V_{1} - R_{2} V_{1} - R_{3} V_{1}}{R_{1} R_{2} + R_{1} R_{3}}$<br>"
      ],
      "text/plain": [
       "<IPython.core.display.Markdown object>"
      ]
     },
     "execution_count": 76,
     "metadata": {},
     "output_type": "execute_result"
    }
   ],
   "source": [
    "temp = ''\n",
    "for i in U_sym_p1.keys():\n",
    "    temp += '${:s} = {:s}$<br>'.format(latex(i),latex(U_sym_p1[i]))\n",
    "\n",
    "Markdown(temp)"
   ]
  },
  {
   "cell_type": "markdown",
   "metadata": {},
   "source": [
    "$z_{11} = \\frac {V_1}{I_1} \\text{  when  } I_2=0$  \n",
    "\n",
    "A negative sign was placed in the equation to make the direction of the current flow match the definition of the two port parameters."
   ]
  },
  {
   "cell_type": "code",
   "execution_count": 77,
   "metadata": {},
   "outputs": [
    {
     "data": {
      "image/png": "[encoded data removed]",
      "text/latex": [
       "$\\displaystyle \\frac{R_{1} R_{2} + R_{1} R_{3}}{R_{1} + R_{2} + R_{3}}$"
      ],
      "text/plain": [
       "R₁⋅R₂ + R₁⋅R₃\n",
       "─────────────\n",
       " R₁ + R₂ + R₃"
      ]
     },
     "execution_count": 77,
     "metadata": {},
     "output_type": "execute_result"
    }
   ],
   "source": [
    "z11 = -U_sym_p1[v1]/U_sym_p1[I_V1]\n",
    "z11.cancel()"
   ]
  },
  {
   "cell_type": "markdown",
   "metadata": {},
   "source": [
    "$z_{21} = \\frac {V_2}{I_1} \\text{  when  } I_2=0$  "
   ]
  },
  {
   "cell_type": "code",
   "execution_count": 78,
   "metadata": {},
   "outputs": [
    {
     "data": {
      "image/png": "[encoded data removed]",
      "text/latex": [
       "$\\displaystyle \\frac{R_{1} R_{3}}{R_{1} + R_{2} + R_{3}}$"
      ],
      "text/plain": [
       "   R₁⋅R₃    \n",
       "────────────\n",
       "R₁ + R₂ + R₃"
      ]
     },
     "execution_count": 78,
     "metadata": {},
     "output_type": "execute_result"
    }
   ],
   "source": [
    "z21 = -U_sym_p1[v2]/U_sym_p1[I_V1]\n",
    "z21.cancel()"
   ]
  },
  {
   "cell_type": "raw",
   "metadata": {},
   "source": [
    "<!--"
   ]
  },
  {
   "cell_type": "raw",
   "metadata": {},
   "source": [
    "# declare the following symbols\n",
    "I_V1, R3, R2, V1, v1, R1, v2 = symbols('I_V1 R3 R2 V1 v1 R1 v2')\n",
    "\n",
    "# use the equations generated by nodal analysis\n",
    "equ_p1 = Matrix(\n",
    "    [[Eq(I_V1 + v1*(1/R2 + 1/R1) - v2/R2, 0)],\n",
    "    [Eq(v2*(1/R3 + 1/R2) - v1/R2, 0)],\n",
    "    [Eq(v1, V1)]])\n",
    "equ_p1"
   ]
  },
  {
   "cell_type": "raw",
   "metadata": {},
   "source": [
    "# find symbolic solution\n",
    "u_p1 = solve(equ_p1,[v1, v2, I_V1])\n",
    "u_p1"
   ]
  },
  {
   "cell_type": "raw",
   "metadata": {},
   "source": [
    "$z_{11} = \\frac {V_1}{I_1} \\text{  when  } I_2=0$  \n",
    "\n",
    "A negative sign was placed in the equation to make the direction of the current flow match the definition of the two port parameters."
   ]
  },
  {
   "cell_type": "raw",
   "metadata": {},
   "source": [
    "z11 = -u_p1[v1]/u_p1[I_V1]\n",
    "z11"
   ]
  },
  {
   "cell_type": "raw",
   "metadata": {},
   "source": [
    "$z_{21} = \\frac {V_2}{I_1} \\text{  when  } I_2=0$  "
   ]
  },
  {
   "cell_type": "raw",
   "metadata": {},
   "source": [
    "z21 = -u_p1[v2]/u_p1[I_V1]\n",
    "z21"
   ]
  },
  {
   "cell_type": "raw",
   "metadata": {},
   "source": [
    "-->"
   ]
  },
  {
   "cell_type": "markdown",
   "metadata": {},
   "source": [
    "#### Find z12 & z22\n",
    "To find $z_{12}$ and $z_{22}$, remove V1 from the net list by commenting out the V1 line in the netlist. This will make $I_1$ equal to zero. $z_{12}$ is equal to $\\frac{V_1}{I_2}\\text{  when  }I_1=0$ and $z_{22}$ is equal to $\\frac{V_2}{I_2}\\text{  when  }I_1=0$.  \n",
    "\n",
    "The net list below was run through the NMA code to generate the circuit equations.\n",
    "\n",
    "Remove V1 from the net list.\n",
    "```\n",
    "R1 0 1 96.25\n",
    "R2 1 2 71.15\n",
    "R3 0 2 96.25\n",
    "*V1 1 0 1\n",
    "V2 2 0 1\n",
    "```"
   ]
  },
  {
   "cell_type": "code",
   "execution_count": 79,
   "metadata": {},
   "outputs": [],
   "source": [
    "net_list = '''\n",
    "R1 0 1 96.25\n",
    "R2 1 2 71.15\n",
    "R3 0 2 96.25\n",
    "*V1 1 0 1\n",
    "V2 2 0 1\n",
    "'''"
   ]
  },
  {
   "cell_type": "markdown",
   "metadata": {},
   "source": [
    "Call the symbolic modified nodal analysis function"
   ]
  },
  {
   "cell_type": "code",
   "execution_count": 80,
   "metadata": {},
   "outputs": [],
   "source": [
    "report, network_df, i_unk_df, A, X, Z = SymMNA.smna(net_list)"
   ]
  },
  {
   "cell_type": "markdown",
   "metadata": {},
   "source": [
    "The network equations for the circuit can be obtained from the A, X and Z values returned from the smna function. The A, X and Z are formuloated into equations and displayed below. Markdown is an IPython function and latex is a SymPy printing function."
   ]
  },
  {
   "cell_type": "code",
   "execution_count": 81,
   "metadata": {},
   "outputs": [
    {
     "data": {
      "text/markdown": [
       "$v_{1} \\cdot \\left(\\frac{1}{R_{2}} + \\frac{1}{R_{1}}\\right) - \\frac{v_{2}}{R_{2}} = 0$<br>$I_{V2} + v_{2} \\cdot \\left(\\frac{1}{R_{3}} + \\frac{1}{R_{2}}\\right) - \\frac{v_{1}}{R_{2}} = 0$<br>$v_{2} = V_{2}$<br>"
      ],
      "text/plain": [
       "<IPython.core.display.Markdown object>"
      ]
     },
     "execution_count": 81,
     "metadata": {},
     "output_type": "execute_result"
    }
   ],
   "source": [
    "# reform X and Z into Matrix type for printing\n",
    "Xp = Matrix(X)\n",
    "Zp = Matrix(Z)\n",
    "temp = ''\n",
    "for i in range(len(X)):\n",
    "    temp += '${:s}$<br>'.format(latex(Eq((A*Xp)[i:i+1][0],Zp[i])))\n",
    "\n",
    "Markdown(temp)"
   ]
  },
  {
   "cell_type": "code",
   "execution_count": 82,
   "metadata": {},
   "outputs": [
    {
     "data": {
      "text/latex": [
       "$\\displaystyle \\left[\\begin{matrix}v_{1} \\cdot \\left(\\frac{1}{R_{2}} + \\frac{1}{R_{1}}\\right) - \\frac{v_{2}}{R_{2}}\\\\I_{V2} + v_{2} \\cdot \\left(\\frac{1}{R_{3}} + \\frac{1}{R_{2}}\\right) - \\frac{v_{1}}{R_{2}}\\\\v_{2}\\end{matrix}\\right] = \\left[\\begin{matrix}0\\\\0\\\\V_{2}\\end{matrix}\\right]$"
      ],
      "text/plain": [
       "⎡      ⎛1    1 ⎞   v₂    ⎤       \n",
       "⎢   v₁⋅⎜── + ──⎟ - ──    ⎥       \n",
       "⎢      ⎝R₂   R₁⎠   R₂    ⎥   ⎡0 ⎤\n",
       "⎢                        ⎥   ⎢  ⎥\n",
       "⎢          ⎛1    1 ⎞   v₁⎥ = ⎢0 ⎥\n",
       "⎢I_V2 + v₂⋅⎜── + ──⎟ - ──⎥   ⎢  ⎥\n",
       "⎢          ⎝R₃   R₂⎠   R₂⎥   ⎣V₂⎦\n",
       "⎢                        ⎥       \n",
       "⎣           v₂           ⎦       "
      ]
     },
     "execution_count": 82,
     "metadata": {},
     "output_type": "execute_result"
    }
   ],
   "source": [
    "# Put matrices into SymPy \n",
    "X = Matrix(X)\n",
    "Z = Matrix(Z)\n",
    "\n",
    "NE_sym = Eq(A*X,Z)\n",
    "NE_sym"
   ]
  },
  {
   "cell_type": "code",
   "execution_count": 83,
   "metadata": {},
   "outputs": [
    {
     "data": {
      "image/png": "[encoded data removed]",
      "text/latex": [
       "$\\displaystyle \\left( R_{3}, \\  I_{V2}, \\  V_{2}, \\  v_{2}, \\  v_{1}, \\  R_{1}, \\  R_{2}\\right)$"
      ],
      "text/plain": [
       "(R₃, I_V2, V₂, v₂, v₁, R₁, R₂)"
      ]
     },
     "execution_count": 83,
     "metadata": {},
     "output_type": "execute_result"
    }
   ],
   "source": [
    "# turn the free symbols into SymPy variables\n",
    "var(str(NE_sym.free_symbols).replace('{','').replace('}',''))"
   ]
  },
  {
   "cell_type": "markdown",
   "metadata": {},
   "source": [
    "Symbolic solution"
   ]
  },
  {
   "cell_type": "code",
   "execution_count": 84,
   "metadata": {},
   "outputs": [],
   "source": [
    "U_sym_p2 = solve(NE_sym,X)"
   ]
  },
  {
   "cell_type": "markdown",
   "metadata": {},
   "source": [
    "Display the symbolic solution"
   ]
  },
  {
   "cell_type": "code",
   "execution_count": 85,
   "metadata": {},
   "outputs": [
    {
     "data": {
      "text/markdown": [
       "$v_{1} = \\frac{R_{1} V_{2}}{R_{1} + R_{2}}$<br>$v_{2} = V_{2}$<br>$I_{V2} = \\frac{- R_{1} V_{2} - R_{2} V_{2} - R_{3} V_{2}}{R_{1} R_{3} + R_{2} R_{3}}$<br>"
      ],
      "text/plain": [
       "<IPython.core.display.Markdown object>"
      ]
     },
     "execution_count": 85,
     "metadata": {},
     "output_type": "execute_result"
    }
   ],
   "source": [
    "temp = ''\n",
    "for i in U_sym_p2.keys():\n",
    "    temp += '${:s} = {:s}$<br>'.format(latex(i),latex(U_sym_p2[i]))\n",
    "\n",
    "Markdown(temp)"
   ]
  },
  {
   "cell_type": "raw",
   "metadata": {},
   "source": [
    "<!--"
   ]
  },
  {
   "cell_type": "raw",
   "metadata": {},
   "source": [
    "# declare the following symbols\n",
    "R3, R2, V2, v1, R1, I_V2, v2 = symbols('R3 R2 V2 v1 R1 I_V2 v2')\n",
    "\n",
    "# use the equations generated by nodal analysis\n",
    "equ_p2 = Matrix(\n",
    "    [[Eq(v1*(1/R2 + 1/R1) - v2/R2, 0)],\n",
    "    [Eq(I_V2 + v2*(1/R3 + 1/R2) - v1/R2, 0)],\n",
    "    [Eq(v2, V2)]])\n",
    "equ_p2"
   ]
  },
  {
   "cell_type": "raw",
   "metadata": {},
   "source": [
    "# find symbolic solution\n",
    "u_p2 = solve(equ_p2,[v1, v2, I_V2])\n",
    "u_p2"
   ]
  },
  {
   "cell_type": "raw",
   "metadata": {},
   "source": [
    "-->"
   ]
  },
  {
   "cell_type": "markdown",
   "metadata": {},
   "source": [
    "$z_{12}=\\frac{V_1}{I_2}\\text{  when  }I_1=0$ "
   ]
  },
  {
   "cell_type": "code",
   "execution_count": 86,
   "metadata": {},
   "outputs": [
    {
     "data": {
      "image/png": "[encoded data removed]",
      "text/latex": [
       "$\\displaystyle \\frac{R_{1} R_{3}}{R_{1} + R_{2} + R_{3}}$"
      ],
      "text/plain": [
       "   R₁⋅R₃    \n",
       "────────────\n",
       "R₁ + R₂ + R₃"
      ]
     },
     "execution_count": 86,
     "metadata": {},
     "output_type": "execute_result"
    }
   ],
   "source": [
    "z12 = -U_sym_p2[v1]/U_sym_p2[I_V2]\n",
    "z12.cancel()"
   ]
  },
  {
   "cell_type": "markdown",
   "metadata": {},
   "source": [
    "$z_{22}=\\frac{V_2}{I_2}\\text{  when  }I_1=0$  "
   ]
  },
  {
   "cell_type": "code",
   "execution_count": 87,
   "metadata": {},
   "outputs": [
    {
     "data": {
      "image/png": "[encoded data removed]",
      "text/latex": [
       "$\\displaystyle \\frac{R_{1} R_{3} + R_{2} R_{3}}{R_{1} + R_{2} + R_{3}}$"
      ],
      "text/plain": [
       "R₁⋅R₃ + R₂⋅R₃\n",
       "─────────────\n",
       " R₁ + R₂ + R₃"
      ]
     },
     "execution_count": 87,
     "metadata": {},
     "output_type": "execute_result"
    }
   ],
   "source": [
    "z22 = -U_sym_p2[v2]/U_sym_p2[I_V2]\n",
    "z22.cancel()"
   ]
  },
  {
   "cell_type": "markdown",
   "metadata": {},
   "source": [
    "The common names for the z-parameters are:  \n",
    "z11: input driving point impedance  \n",
    "z12: reverse transfer impedance  \n",
    "z21: forward transfer impedance  \n",
    "z22: output driving point impedance  \n",
    "\n",
    "The elements of the matrix can be displayed:"
   ]
  },
  {
   "cell_type": "code",
   "execution_count": 88,
   "metadata": {},
   "outputs": [
    {
     "data": {
      "text/latex": [
       "$\\displaystyle \\left[\\begin{matrix}- \\frac{V_{1} \\left(R_{1} R_{2} + R_{1} R_{3}\\right)}{- R_{1} V_{1} - R_{2} V_{1} - R_{3} V_{1}} & - \\frac{R_{3} V_{1} \\left(R_{1} R_{2} + R_{1} R_{3}\\right)}{\\left(R_{2} + R_{3}\\right) \\left(- R_{1} V_{1} - R_{2} V_{1} - R_{3} V_{1}\\right)}\\\\- \\frac{R_{1} V_{2} \\left(R_{1} R_{3} + R_{2} R_{3}\\right)}{\\left(R_{1} + R_{2}\\right) \\left(- R_{1} V_{2} - R_{2} V_{2} - R_{3} V_{2}\\right)} & - \\frac{V_{2} \\left(R_{1} R_{3} + R_{2} R_{3}\\right)}{- R_{1} V_{2} - R_{2} V_{2} - R_{3} V_{2}}\\end{matrix}\\right]$"
      ],
      "text/plain": [
       "⎡       -V₁⋅(R₁⋅R₂ + R₁⋅R₃)               -R₃⋅V₁⋅(R₁⋅R₂ + R₁⋅R₃)       ⎤\n",
       "⎢      ──────────────────────        ──────────────────────────────────⎥\n",
       "⎢      -R₁⋅V₁ - R₂⋅V₁ - R₃⋅V₁        (R₂ + R₃)⋅(-R₁⋅V₁ - R₂⋅V₁ - R₃⋅V₁)⎥\n",
       "⎢                                                                      ⎥\n",
       "⎢     -R₁⋅V₂⋅(R₁⋅R₃ + R₂⋅R₃)                -V₂⋅(R₁⋅R₃ + R₂⋅R₃)        ⎥\n",
       "⎢──────────────────────────────────        ──────────────────────      ⎥\n",
       "⎣(R₁ + R₂)⋅(-R₁⋅V₂ - R₂⋅V₂ - R₃⋅V₂)        -R₁⋅V₂ - R₂⋅V₂ - R₃⋅V₂      ⎦"
      ]
     },
     "execution_count": 88,
     "metadata": {},
     "output_type": "execute_result"
    }
   ],
   "source": [
    "Matrix([[z11,z21],[z12,z22]])"
   ]
  },
  {
   "cell_type": "markdown",
   "metadata": {},
   "source": [
    "Actual values for each of the components can be substituted for the symbols with R1 = R3 = 96.25 ohms and R2 equal to 71.15 ohms"
   ]
  },
  {
   "cell_type": "code",
   "execution_count": 89,
   "metadata": {},
   "outputs": [],
   "source": [
    "atten_values = {R1:96.25,R2:71.15,R3:96.25}"
   ]
  },
  {
   "cell_type": "code",
   "execution_count": 90,
   "metadata": {},
   "outputs": [],
   "source": [
    "z11_val = z11.subs(atten_values)\n",
    "z12_val = z12.subs(atten_values)\n",
    "z21_val = z21.subs(atten_values)\n",
    "z22_val = z22.subs(atten_values)"
   ]
  },
  {
   "cell_type": "markdown",
   "metadata": {},
   "source": [
    "The numeric values of the impedance matrix"
   ]
  },
  {
   "cell_type": "code",
   "execution_count": 91,
   "metadata": {},
   "outputs": [
    {
     "data": {
      "text/plain": [
       "array([[61.11227005, 35.13772995],\n",
       "       [35.13772995, 61.11227005]])"
      ]
     },
     "execution_count": 91,
     "metadata": {},
     "output_type": "execute_result"
    }
   ],
   "source": [
    "np.array([[z11_val, z12_val],[z21_val, z22_val]],dtype=float)"
   ]
  },
  {
   "cell_type": "markdown",
   "metadata": {},
   "source": [
    "#### Calculate Z in and Z out, ki and kv\n",
    "A two-port circuit is typically driven at port 1 and loaded at port 2, and four equations needed to solve the four unknowns. The link [here](https://www.ee.nthu.edu.tw/~sdyang/Courses/Circuits/Ch18_Std.pdf) has a nice explnation of two port analysis.\n",
    "\n",
    "$\\begin{align*}\n",
    "\\begin{bmatrix} -1 & 0 & z11 & z12 \\\\\\ 0 & -1 & z21 & z22 \\\\\\ 1 & 0 & Z_S & 0 \\\\\\ 0 & 1 & 0 & Z_L    \n",
    "\\end{bmatrix}\n",
    "\\begin{bmatrix}\n",
    "  V_1  \\\\\n",
    "  V_2  \\\\\n",
    "  I_1 \\\\\n",
    "  I_2\n",
    "\\end{bmatrix}\n",
    "{} &= \\begin{bmatrix}\n",
    "  0  \\\\\n",
    "  0  \\\\\n",
    "  V_g \\\\\n",
    "  0\n",
    "\\end{bmatrix}\n",
    "\\end{align*}$\n",
    "\n",
    "Putting into SymPy  "
   ]
  },
  {
   "cell_type": "code",
   "execution_count": 92,
   "metadata": {},
   "outputs": [
    {
     "data": {
      "text/latex": [
       "$\\displaystyle \\left[\\begin{matrix}I_{V1} Z_{11} + I_{V2} Z_{12} - V_{1}\\\\I_{V1} Z_{21} + I_{V2} Z_{22} - V_{2}\\\\I_{V1} Z_{s} + V_{1}\\\\I_{V2} Z_{l} + V_{2}\\end{matrix}\\right] = \\left[\\begin{matrix}0\\\\0\\\\Vg\\\\0\\end{matrix}\\right]$"
      ],
      "text/plain": [
       "⎡I_V1⋅Z₁₁ + I_V2⋅Z₁₂ - V₁⎤   ⎡0 ⎤\n",
       "⎢                        ⎥   ⎢  ⎥\n",
       "⎢I_V1⋅Z₂₁ + I_V2⋅Z₂₂ - V₂⎥   ⎢0 ⎥\n",
       "⎢                        ⎥ = ⎢  ⎥\n",
       "⎢      I_V1⋅Zₛ + V₁      ⎥   ⎢Vg⎥\n",
       "⎢                        ⎥   ⎢  ⎥\n",
       "⎣      I_V2⋅Zₗ + V₂      ⎦   ⎣0 ⎦"
      ]
     },
     "execution_count": 92,
     "metadata": {},
     "output_type": "execute_result"
    }
   ],
   "source": [
    "Z11, Z12, Z21, Z22 = symbols('Z11 Z12 Z21 Z22')\n",
    "Z_s, Z_l, Vg = symbols('Z_s Z_l Vg')\n",
    "\n",
    "eqZ = Eq(Matrix([[-1,0,Z11,Z12],[0,-1,Z21,Z22],[1,0,Z_s,0],[0,1,0,Z_l]])*Matrix([V1,V2,I_V1,I_V2]),Matrix([0,0,Vg,0]))\n",
    "eqZ"
   ]
  },
  {
   "cell_type": "code",
   "execution_count": 93,
   "metadata": {},
   "outputs": [
    {
     "data": {
      "image/png": "[encoded data removed]",
      "text/latex": [
       "$\\displaystyle \\left\\{ I_{V1} : \\frac{Vg Z_{22} + Vg Z_{l}}{Z_{11} Z_{22} + Z_{11} Z_{l} - Z_{12} Z_{21} + Z_{22} Z_{s} + Z_{l} Z_{s}}, \\  I_{V2} : - \\frac{Vg Z_{21}}{Z_{11} Z_{22} + Z_{11} Z_{l} - Z_{12} Z_{21} + Z_{22} Z_{s} + Z_{l} Z_{s}}, \\  V_{1} : \\frac{Vg Z_{11} Z_{22} + Vg Z_{11} Z_{l} - Vg Z_{12} Z_{21}}{Z_{11} Z_{22} + Z_{11} Z_{l} - Z_{12} Z_{21} + Z_{22} Z_{s} + Z_{l} Z_{s}}, \\  V_{2} : \\frac{Vg Z_{21} Z_{l}}{Z_{11} Z_{22} + Z_{11} Z_{l} - Z_{12} Z_{21} + Z_{22} Z_{s} + Z_{l} Z_{s}}\\right\\}$"
      ],
      "text/plain": [
       "⎧                     Vg⋅Z₂₂ + Vg⋅Zₗ                                        -V\n",
       "⎨I_V1: ───────────────────────────────────────────, I_V2: ────────────────────\n",
       "⎩      Z₁₁⋅Z₂₂ + Z₁₁⋅Zₗ - Z₁₂⋅Z₂₁ + Z₂₂⋅Zₛ + Zₗ⋅Zₛ        Z₁₁⋅Z₂₂ + Z₁₁⋅Zₗ - Z\n",
       "\n",
       "g⋅Z₂₁                            Vg⋅Z₁₁⋅Z₂₂ + Vg⋅Z₁₁⋅Zₗ - Vg⋅Z₁₂⋅Z₂₁          \n",
       "───────────────────────, V₁: ───────────────────────────────────────────, V₂: \n",
       "₁₂⋅Z₂₁ + Z₂₂⋅Zₛ + Zₗ⋅Zₛ      Z₁₁⋅Z₂₂ + Z₁₁⋅Zₗ - Z₁₂⋅Z₂₁ + Z₂₂⋅Zₛ + Zₗ⋅Zₛ      \n",
       "\n",
       "                 Vg⋅Z₂₁⋅Zₗ                 ⎫\n",
       "───────────────────────────────────────────⎬\n",
       "Z₁₁⋅Z₂₂ + Z₁₁⋅Zₗ - Z₁₂⋅Z₂₁ + Z₂₂⋅Zₛ + Zₗ⋅Zₛ⎭"
      ]
     },
     "execution_count": 93,
     "metadata": {},
     "output_type": "execute_result"
    }
   ],
   "source": [
    "ansZ = solve(eqZ,[V1, V2, I_V1,I_V2])\n",
    "ansZ"
   ]
  },
  {
   "cell_type": "code",
   "execution_count": 94,
   "metadata": {},
   "outputs": [
    {
     "data": {
      "image/png": "[encoded data removed]",
      "text/latex": [
       "$\\displaystyle - \\frac{Vg Z_{21}}{Vg Z_{22} + Vg Z_{l}}$"
      ],
      "text/plain": [
       "   -Vg⋅Z₂₁    \n",
       "──────────────\n",
       "Vg⋅Z₂₂ + Vg⋅Zₗ"
      ]
     },
     "execution_count": 94,
     "metadata": {},
     "output_type": "execute_result"
    }
   ],
   "source": [
    "# current gain\n",
    "ansZ[I_V2]/ansZ[I_V1]"
   ]
  },
  {
   "cell_type": "code",
   "execution_count": 95,
   "metadata": {},
   "outputs": [
    {
     "data": {
      "image/png": "[encoded data removed]",
      "text/latex": [
       "$\\displaystyle \\frac{Vg Z_{21} Z_{l}}{Vg Z_{11} Z_{22} + Vg Z_{11} Z_{l} - Vg Z_{12} Z_{21}}$"
      ],
      "text/plain": [
       "             Vg⋅Z₂₁⋅Zₗ             \n",
       "───────────────────────────────────\n",
       "Vg⋅Z₁₁⋅Z₂₂ + Vg⋅Z₁₁⋅Zₗ - Vg⋅Z₁₂⋅Z₂₁"
      ]
     },
     "execution_count": 95,
     "metadata": {},
     "output_type": "execute_result"
    }
   ],
   "source": [
    "# voltage gain\n",
    "ansZ[V2]/ansZ[V1]"
   ]
  },
  {
   "cell_type": "code",
   "execution_count": 96,
   "metadata": {},
   "outputs": [
    {
     "data": {
      "image/png": "[encoded data removed]",
      "text/latex": [
       "$\\displaystyle \\frac{Vg Z_{11} Z_{22} + Vg Z_{11} Z_{l} - Vg Z_{12} Z_{21}}{Vg Z_{22} + Vg Z_{l}}$"
      ],
      "text/plain": [
       "Vg⋅Z₁₁⋅Z₂₂ + Vg⋅Z₁₁⋅Zₗ - Vg⋅Z₁₂⋅Z₂₁\n",
       "───────────────────────────────────\n",
       "           Vg⋅Z₂₂ + Vg⋅Zₗ          "
      ]
     },
     "execution_count": 96,
     "metadata": {},
     "output_type": "execute_result"
    }
   ],
   "source": [
    "# Z input\n",
    "ansZ[V1]/ansZ[I_V1]"
   ]
  },
  {
   "cell_type": "code",
   "execution_count": 97,
   "metadata": {},
   "outputs": [
    {
     "data": {
      "image/png": "[encoded data removed]",
      "text/latex": [
       "$\\displaystyle - Z_{l}$"
      ],
      "text/plain": [
       "-Zₗ"
      ]
     },
     "execution_count": 97,
     "metadata": {},
     "output_type": "execute_result"
    }
   ],
   "source": [
    "# Z out\n",
    "ansZ[V2]/ansZ[I_V2]"
   ]
  },
  {
   "cell_type": "markdown",
   "metadata": {},
   "source": [
    "Sympy returns the output impedance as simply $-Z_l$, since this is the algebraic simplification of the equations. Most textbooks will give the output impedance in terms of the z-parameters and the source impedance: $Z_{out}=Z_{22}-\\frac{Z_{12}Z_{21}}{Z_{11}+Z_{S}}$\n",
    "\n",
    "#### Calculate input and output impedance for the attenuator\n",
    "The input impedance of a two-port network is: $Z_{in}=\\frac{Z_{11}Z_{22}+Z_{11}Z_{L}-Z_{12}Z_{21}}{Z_{22}+Z_{L}}$  \n",
    "Textbook equation: $Z_{in}=Z_{11}-\\frac{Z_{12}Z_{21}}{Z_{22}+Z_{L}}$\n",
    "where $Z_{L}$ is the impedance of the load connected to port two.\n",
    "\n",
    "The output impedance from textbooks is: $Z_{out}=Z_{22}-\\frac{Z_{12}Z_{21}}{Z_{11}+Z_{S}}$, where $Z_{S}$ is the impedance of the source connected to port one."
   ]
  },
  {
   "cell_type": "code",
   "execution_count": 98,
   "metadata": {},
   "outputs": [
    {
     "name": "stdout",
     "output_type": "stream",
     "text": [
      "input impedance of network from z-parameters: 50.00\n"
     ]
    }
   ],
   "source": [
    "# Zin\n",
    "Zl = 50 # load impedance\n",
    "print('input impedance of network from z-parameters: {:.2f}'.format(np.abs((z11_val*z22_val+z11_val*Zl-z12_val*z21_val)/(z22_val+Zl))))"
   ]
  },
  {
   "cell_type": "code",
   "execution_count": 99,
   "metadata": {},
   "outputs": [
    {
     "name": "stdout",
     "output_type": "stream",
     "text": [
      "output impedance of network from z-parameters: 50.00\n"
     ]
    }
   ],
   "source": [
    "# Zout\n",
    "Zs = 50 # source impedance\n",
    "print('output impedance of network from z-parameters: {:.2f}'.format(np.abs(z22_val-(z12_val*z21_val)/(z11_val+Zs))))"
   ]
  },
  {
   "cell_type": "markdown",
   "metadata": {},
   "source": [
    "#### Calculate the voltage gain for the attenuator\n",
    "Voltage gain: $K_v=\\frac{Z_{21}Z_{L}}{Z_{11}Z_{22}+Z_{11}Z_{L}-Z_{12}Z_{21}}$, from text books: $K_v=\\frac{Z_{21}Z_{L}}{\\Delta _Z+Z_{11}Z_L}$"
   ]
  },
  {
   "cell_type": "code",
   "execution_count": 100,
   "metadata": {},
   "outputs": [
    {
     "name": "stdout",
     "output_type": "stream",
     "text": [
      "voltage gain of network from z-parameters: -10.00 dB\n"
     ]
    }
   ],
   "source": [
    "#Kv\n",
    "print('voltage gain of network from z-parameters: {:.2f} dB'.format(20*np.log10(float((z21_val*Zl)/(z11_val*z22_val + z11_val*Zl - z12_val*z21_val)))))"
   ]
  },
  {
   "cell_type": "markdown",
   "metadata": {},
   "source": [
    "#### Convert z-parameters to y-parameters\n",
    "The z-parameters can be converted to admittance or y-parameters with the following code:\n",
    "\n",
    "Find the determinant of the z-parameter matrix:"
   ]
  },
  {
   "cell_type": "code",
   "execution_count": 101,
   "metadata": {},
   "outputs": [
    {
     "name": "stdout",
     "output_type": "stream",
     "text": [
      "determinant = 2500.05\n"
     ]
    }
   ],
   "source": [
    "det_z = np.linalg.det(np.array([[z11_val, z12_val],[z21_val, z22_val]],dtype=float))\n",
    "print('determinant = {:.2f}'.format(det_z))"
   ]
  },
  {
   "cell_type": "markdown",
   "metadata": {},
   "source": [
    "Display the y-parameter matrix."
   ]
  },
  {
   "cell_type": "code",
   "execution_count": 102,
   "metadata": {},
   "outputs": [
    {
     "data": {
      "text/plain": [
       "array([[ 0.02444442, -0.01405481],\n",
       "       [-0.01405481,  0.02444442]])"
      ]
     },
     "execution_count": 102,
     "metadata": {},
     "output_type": "execute_result"
    }
   ],
   "source": [
    "np.array([[z22_val/det_z,-z12_val/det_z],[-z21_val/det_z,z11_val/det_z]],dtype=float)"
   ]
  },
  {
   "cell_type": "markdown",
   "metadata": {},
   "source": [
    "#### Convert z-parameters to s-parameters\n",
    "The 2-port S-parameters have the following generic descriptions:  \n",
    "$S_{11} \\text{ is the input port voltage reflection coefficient}$  \n",
    "$S_{12} \\text{ is the reverse voltage gain}$  \n",
    "$S_{21} \\text{ is the forward voltage gain}$  \n",
    "$S_{22} \\text{ is the output port voltage reflection coefficient}$  \n",
    "\n",
    "The z-parameter can be converted to scattering or s-parameters with the following:  \n",
    "$s_{11} = \\frac {(Z_{11}-Z_o)(Z_{22}+Z_o)-Z_{12}Z_{21}} {\\Delta Z}$  \n",
    "$s_{12} = \\frac {2Z_{12}Z_o} {\\Delta Z}$  \n",
    "$s_{21} = \\frac {2Z_{21}Z_o} {\\Delta Z}$  \n",
    "$s_{22} = \\frac {(Z_{11}+Z_o)(Z_{22}-Z_o)-Z_{12}Z_{21}} {\\Delta Z}$  \n",
    "where: $\\Delta Z = (Z_{11}+Z_o)(Z_{22}+Z_o)-Z_{12}Z_{21}$ and $Z_o$ is the characteristic impedance."
   ]
  },
  {
   "cell_type": "code",
   "execution_count": 103,
   "metadata": {},
   "outputs": [
    {
     "data": {
      "text/plain": [
       "array([[-1.00004488e-01,  3.16234863e-01],\n",
       "       [ 3.16234863e-01,  4.45363654e-06]])"
      ]
     },
     "execution_count": 103,
     "metadata": {},
     "output_type": "execute_result"
    }
   ],
   "source": [
    "Z_o = 50 # characteristic impedance\n",
    "del_z = (z11_val+Z_o)*(z22_val+Z_o)-z12_val*z21_val\n",
    "\n",
    "S = np.array([[((z11_val-Z_o)*(z22_val-Z_o)-z12_val*z21_val)/del_z,(2*z12_val*Z_o)/del_z],\n",
    "              [(2*z21_val*Z_o)/del_z,((z11_val+Z_o)*(z22_val-Z_o)-z12_val*z21_val)/del_z]],dtype=float)\n",
    "S # display the s-parameter matrix"
   ]
  },
  {
   "cell_type": "markdown",
   "metadata": {},
   "source": [
    "#### Input return loss\n",
    "Input return loss $RL_{in}$ indicates impedance match of the port to the source. A number of 10 dB or greater, indicates that the match is probably acceptable.\n",
    "\n",
    "$RL_{in} =-20\\log_{10}\\left|S_{11}\\right|$"
   ]
  },
  {
   "cell_type": "code",
   "execution_count": 104,
   "metadata": {},
   "outputs": [
    {
     "name": "stdout",
     "output_type": "stream",
     "text": [
      "Input return loss = 20.00 dB\n"
     ]
    }
   ],
   "source": [
    "print('Input return loss = {:.2f} dB'.format(-20*np.log10(np.abs(S[0,0]))))"
   ]
  },
  {
   "cell_type": "markdown",
   "metadata": {},
   "source": [
    "#### Insertion loss\n",
    "Insertion loss $IL$ is the reciprocal of the magnitude of the transmission coefficient, S21, expressed in decibels.\n",
    "\n",
    "$IL=-20\\log _{10} \\left|S_{21} \\right|$"
   ]
  },
  {
   "cell_type": "code",
   "execution_count": 105,
   "metadata": {},
   "outputs": [
    {
     "name": "stdout",
     "output_type": "stream",
     "text": [
      "Insertion loss = 10.00 dB\n"
     ]
    }
   ],
   "source": [
    "print('Insertion loss = {:.2f} dB'.format(-20*np.log10(np.abs(S[1,0]))))"
   ]
  },
  {
   "cell_type": "markdown",
   "metadata": {},
   "source": [
    "This value agrees with the design of the attenuator as being a 10 dB attenuator."
   ]
  },
  {
   "cell_type": "markdown",
   "metadata": {},
   "source": [
    "## Band Pass Filter\n",
    "The circuit in @fig-BPF_two_port is a band pass filter designed from normalized filter design tables. The third order low pass filter prototype was transformed into a bandpass filter as shown in the figure below. [Butterworth](https://en.wikipedia.org/wiki/Butterworth_filter) filter coefficients were chosen for this design. A Butterworth filter is a type of signal processing filter that has a flat passband response.\n",
    "\n",
    "![Band pass filter schematic](BPF_two_port.png){#fig-BPF_two_port} \n",
    "\n",
    "The low pass to bandpass transformation calculations are shown below. The filter was designed to have a center frequency of 10 MHz and a 3 dB bandwidth of 1 MHz. The normalized filter values were obtained from @Williams1995: \n",
    "\n",
    "```\n",
    "3rd order Butterworth LPF prototype\n",
    "Rs/Rl = 1\n",
    "C1 = 1\n",
    "L2 = 2\n",
    "C1 = 1\n",
    "```\n",
    "\n",
    "The bandpass filter has the following design parameters: The source and load impedance is 50 ohms, the filter bandwidth is 1 MHz and the center frequency is 10 MHz. Following the example from @Williams1995 (example 5-2), but with the following changes:   \n",
    "\n",
    "- center freq = 10MHz  \n",
    "- bandwidth 1MHz  \n",
    "- Rs=Rl=50  "
   ]
  },
  {
   "cell_type": "code",
   "execution_count": 106,
   "metadata": {},
   "outputs": [
    {
     "name": "stdout",
     "output_type": "stream",
     "text": [
      "geometric center frequency = 9.987MHz\n"
     ]
    }
   ],
   "source": [
    "f_center = 10e6\n",
    "f_3dB_BW = 1e6 # 3dB bandwidth\n",
    "fo = np.sqrt((f_center-f_3dB_BW/2)*(f_center+f_3dB_BW/2)) # geometric center frequency\n",
    "print('geometric center frequency = {:.3f}MHz'.format(fo/1e6))"
   ]
  },
  {
   "cell_type": "code",
   "execution_count": 107,
   "metadata": {},
   "outputs": [
    {
     "name": "stdout",
     "output_type": "stream",
     "text": [
      "frequency scaling factor = 6283185.307\n"
     ]
    }
   ],
   "source": [
    "Z = 50 # load and source resistance\n",
    "FSF = 2*np.pi*f_3dB_BW\n",
    "print('frequency scaling factor = {:.3f}'.format(FSF))"
   ]
  },
  {
   "cell_type": "markdown",
   "metadata": {},
   "source": [
    "The first element in the lowpass prototype is a shunt inductor and for the lowpass to bandpass transformation the inductor is replaced by a capacitor and inductor in parallel with the same normalized value. The normalized values are then frequency scaled."
   ]
  },
  {
   "cell_type": "code",
   "execution_count": 108,
   "metadata": {},
   "outputs": [
    {
     "name": "stdout",
     "output_type": "stream",
     "text": [
      "capacitor = 3.183nF\n",
      "inductor = 79.777nH\n"
     ]
    }
   ],
   "source": [
    "# C1 is 1st shunt capacitor\n",
    "C1n = 1 # normalized value from the tables in the filter handbook\n",
    "C1p = C1n/(FSF*Z)\n",
    "print('capacitor = {:.3f}nF'.format(C1p*1e9))\n",
    "\n",
    "wo = 2*np.pi*fo\n",
    "L1p = 1/(wo**2*C1p) # calculate the value of the inductor that resonates with the capacitor at the center frequency\n",
    "print('inductor = {:.3f}nH'.format(L1p*1e9))"
   ]
  },
  {
   "cell_type": "markdown",
   "metadata": {},
   "source": [
    "The second element in the lowpass prototype is a series capacitor and for the lowpass to bandpass transformation the capacitor is replaced by a capacitor and inductor in series with the same normalized value. The normalized values are then frequency scaled."
   ]
  },
  {
   "cell_type": "code",
   "execution_count": 109,
   "metadata": {},
   "outputs": [
    {
     "name": "stdout",
     "output_type": "stream",
     "text": [
      "inductor = 15.915uH\n",
      "capacitor = 15.955pF\n"
     ]
    }
   ],
   "source": [
    "# L2 is the 2nd series inductor\n",
    "L2n = 2 # normalized value from the tables in the filter handbook\n",
    "L2p = L2n*Z/FSF\n",
    "print('inductor = {:.3f}uH'.format(L2p*1e6))\n",
    "\n",
    "C2p = 1/(wo**2*L2p) # calculate the value of the capacitor that resonates with the inductor at the center frequency\n",
    "print('capacitor = {:.3f}pF'.format(C2p*1e12))"
   ]
  },
  {
   "cell_type": "markdown",
   "metadata": {},
   "source": [
    "The last element in the lowpass prototype is a shunt inductor and for the lowpass to bandpass transformation the inductor is replaced by a capacitor and inductor in parallel with the same normalized value. The normalized values are then frequency scaled. The values for this branch of the circuit are the same as for the first shunt element."
   ]
  },
  {
   "cell_type": "markdown",
   "metadata": {},
   "source": [
    "## Find z11 and z12\n",
    "To find $z_{11}$ and $z_{21}$, remove V2 from the net list by commenting out the V2 line in the net list. This will make $I_2$ equal to zero. $z_{11}$ is equal to $\\frac{V_1}{I_1}\\text{  when  }I_2=0$ and $z_{21}$ is equal to $\\frac{V_2}{I_1}\\text{  when  }I_2=0$.  \n",
    "\n",
    "The net list below was run through the NMA code to generate the circuit equations. The component values in the netlist have all been set to one. Later, the actual component values will be used. \n",
    "\n",
    "```\n",
    "V1 1 0 1\n",
    "*V2 2 0 1\n",
    "L1 0 1 1\n",
    "L2 1 3 1\n",
    "L3 0 2 1\n",
    "C1 1 0 1\n",
    "C2 3 2 1\n",
    "C3 2 0 1\n",
    "```"
   ]
  },
  {
   "cell_type": "code",
   "execution_count": 110,
   "metadata": {},
   "outputs": [],
   "source": [
    "net_list = '''\n",
    "V1 1 0 1\n",
    "*V2 2 0 1\n",
    "L1 0 1 1\n",
    "L2 1 3 1\n",
    "L3 0 2 1\n",
    "C1 1 0 1\n",
    "C2 3 2 1\n",
    "C3 2 0 1\n",
    "'''"
   ]
  },
  {
   "cell_type": "markdown",
   "metadata": {},
   "source": [
    "Call the symbolic modified nodal analysis function"
   ]
  },
  {
   "cell_type": "code",
   "execution_count": 111,
   "metadata": {},
   "outputs": [],
   "source": [
    "report, network_df, i_unk_df, A, X, Z = SymMNA.smna(net_list)"
   ]
  },
  {
   "cell_type": "markdown",
   "metadata": {},
   "source": [
    "The network equations for the circuit can be obtained from the A, X and Z values returned from the smna function. The A, X and Z are formuloated into equations and displayed below. Markdown is an IPython function and latex is a SymPy printing function."
   ]
  },
  {
   "cell_type": "code",
   "execution_count": 112,
   "metadata": {},
   "outputs": [
    {
     "data": {
      "text/markdown": [
       "$C_{1} s v_{1} - I_{L1} + I_{L2} + I_{V1} = 0$<br>$- C_{2} s v_{3} - I_{L3} + v_{2} \\left(C_{2} s + C_{3} s\\right) = 0$<br>$- C_{2} s v_{2} + C_{2} s v_{3} - I_{L2} = 0$<br>$v_{1} = V_{1}$<br>$- I_{L1} L_{1} s - v_{1} = 0$<br>$- I_{L2} L_{2} s + v_{1} - v_{3} = 0$<br>$- I_{L3} L_{3} s - v_{2} = 0$<br>"
      ],
      "text/plain": [
       "<IPython.core.display.Markdown object>"
      ]
     },
     "execution_count": 112,
     "metadata": {},
     "output_type": "execute_result"
    }
   ],
   "source": [
    "# reform X and Z into Matrix type for printing\n",
    "Xp = Matrix(X)\n",
    "Zp = Matrix(Z)\n",
    "temp = ''\n",
    "for i in range(len(X)):\n",
    "    temp += '${:s}$<br>'.format(latex(Eq((A*Xp)[i:i+1][0],Zp[i])))\n",
    "\n",
    "Markdown(temp)"
   ]
  },
  {
   "cell_type": "code",
   "execution_count": 113,
   "metadata": {},
   "outputs": [
    {
     "data": {
      "text/latex": [
       "$\\displaystyle \\left[\\begin{matrix}C_{1} s v_{1} - I_{L1} + I_{L2} + I_{V1}\\\\- C_{2} s v_{3} - I_{L3} + v_{2} \\left(C_{2} s + C_{3} s\\right)\\\\- C_{2} s v_{2} + C_{2} s v_{3} - I_{L2}\\\\v_{1}\\\\- I_{L1} L_{1} s - v_{1}\\\\- I_{L2} L_{2} s + v_{1} - v_{3}\\\\- I_{L3} L_{3} s - v_{2}\\end{matrix}\\right] = \\left[\\begin{matrix}0\\\\0\\\\0\\\\V_{1}\\\\0\\\\0\\\\0\\end{matrix}\\right]$"
      ],
      "text/plain": [
       "⎡   C₁⋅s⋅v₁ - I_L1 + I_L2 + I_V1   ⎤   ⎡0 ⎤\n",
       "⎢                                  ⎥   ⎢  ⎥\n",
       "⎢-C₂⋅s⋅v₃ - I_L3 + v₂⋅(C₂⋅s + C₃⋅s)⎥   ⎢0 ⎥\n",
       "⎢                                  ⎥   ⎢  ⎥\n",
       "⎢    -C₂⋅s⋅v₂ + C₂⋅s⋅v₃ - I_L2     ⎥   ⎢0 ⎥\n",
       "⎢                                  ⎥   ⎢  ⎥\n",
       "⎢                v₁                ⎥ = ⎢V₁⎥\n",
       "⎢                                  ⎥   ⎢  ⎥\n",
       "⎢         -I_L1⋅L₁⋅s - v₁          ⎥   ⎢0 ⎥\n",
       "⎢                                  ⎥   ⎢  ⎥\n",
       "⎢       -I_L2⋅L₂⋅s + v₁ - v₃       ⎥   ⎢0 ⎥\n",
       "⎢                                  ⎥   ⎢  ⎥\n",
       "⎣         -I_L3⋅L₃⋅s - v₂          ⎦   ⎣0 ⎦"
      ]
     },
     "execution_count": 113,
     "metadata": {},
     "output_type": "execute_result"
    }
   ],
   "source": [
    "# Put matrices into SymPy \n",
    "X = Matrix(X)\n",
    "Z = Matrix(Z)\n",
    "\n",
    "NE_sym = Eq(A*X,Z)\n",
    "NE_sym"
   ]
  },
  {
   "cell_type": "code",
   "execution_count": 114,
   "metadata": {},
   "outputs": [
    {
     "data": {
      "image/png": "[encoded data removed]",
      "text/latex": [
       "$\\displaystyle \\left( I_{L3}, \\  C_{2}, \\  L_{1}, \\  C_{3}, \\  I_{L1}, \\  v_{3}, \\  L_{2}, \\  V_{1}, \\  I_{L2}, \\  s, \\  v_{2}, \\  C_{1}, \\  v_{1}, \\  I_{V1}, \\  L_{3}\\right)$"
      ],
      "text/plain": [
       "(I_L3, C₂, L₁, C₃, I_L1, v₃, L₂, V₁, I_L2, s, v₂, C₁, v₁, I_V1, L₃)"
      ]
     },
     "execution_count": 114,
     "metadata": {},
     "output_type": "execute_result"
    }
   ],
   "source": [
    "# turn the free symbols into SymPy variables\n",
    "var(str(NE_sym.free_symbols).replace('{','').replace('}',''))"
   ]
  },
  {
   "cell_type": "markdown",
   "metadata": {},
   "source": [
    "Symbolic solution"
   ]
  },
  {
   "cell_type": "code",
   "execution_count": 115,
   "metadata": {},
   "outputs": [],
   "source": [
    "U_sym_p1 = solve(NE_sym,X)"
   ]
  },
  {
   "cell_type": "markdown",
   "metadata": {},
   "source": [
    "Display the symbolic solution"
   ]
  },
  {
   "cell_type": "code",
   "execution_count": 116,
   "metadata": {},
   "outputs": [
    {
     "data": {
      "text/markdown": [
       "$v_{1} = V_{1}$<br>$v_{2} = \\frac{C_{2} L_{3} V_{1} s^{2}}{C_{2} C_{3} L_{2} L_{3} s^{4} + C_{2} L_{2} s^{2} + C_{2} L_{3} s^{2} + C_{3} L_{3} s^{2} + 1}$<br>$v_{3} = \\frac{C_{2} L_{3} V_{1} s^{2} + C_{3} L_{3} V_{1} s^{2} + V_{1}}{C_{2} C_{3} L_{2} L_{3} s^{4} + C_{2} L_{2} s^{2} + C_{2} L_{3} s^{2} + C_{3} L_{3} s^{2} + 1}$<br>$I_{V1} = \\frac{- C_{1} C_{2} C_{3} L_{1} L_{2} L_{3} V_{1} s^{6} - C_{1} C_{2} L_{1} L_{2} V_{1} s^{4} - C_{1} C_{2} L_{1} L_{3} V_{1} s^{4} - C_{1} C_{3} L_{1} L_{3} V_{1} s^{4} - C_{1} L_{1} V_{1} s^{2} - C_{2} C_{3} L_{1} L_{3} V_{1} s^{4} - C_{2} C_{3} L_{2} L_{3} V_{1} s^{4} - C_{2} L_{1} V_{1} s^{2} - C_{2} L_{2} V_{1} s^{2} - C_{2} L_{3} V_{1} s^{2} - C_{3} L_{3} V_{1} s^{2} - V_{1}}{C_{2} C_{3} L_{1} L_{2} L_{3} s^{5} + C_{2} L_{1} L_{2} s^{3} + C_{2} L_{1} L_{3} s^{3} + C_{3} L_{1} L_{3} s^{3} + L_{1} s}$<br>$I_{L1} = - \\frac{V_{1}}{L_{1} s}$<br>$I_{L2} = \\frac{C_{2} C_{3} L_{3} V_{1} s^{3} + C_{2} V_{1} s}{C_{2} C_{3} L_{2} L_{3} s^{4} + C_{2} L_{2} s^{2} + C_{2} L_{3} s^{2} + C_{3} L_{3} s^{2} + 1}$<br>$I_{L3} = - \\frac{C_{2} V_{1} s}{C_{2} C_{3} L_{2} L_{3} s^{4} + C_{2} L_{2} s^{2} + C_{2} L_{3} s^{2} + C_{3} L_{3} s^{2} + 1}$<br>"
      ],
      "text/plain": [
       "<IPython.core.display.Markdown object>"
      ]
     },
     "execution_count": 116,
     "metadata": {},
     "output_type": "execute_result"
    }
   ],
   "source": [
    "temp = ''\n",
    "for i in U_sym_p1.keys():\n",
    "    temp += '${:s} = {:s}$<br>'.format(latex(i),latex(U_sym_p1[i]))\n",
    "\n",
    "Markdown(temp)"
   ]
  },
  {
   "cell_type": "raw",
   "metadata": {},
   "source": [
    "<!--"
   ]
  },
  {
   "cell_type": "raw",
   "metadata": {},
   "source": [
    "# declare the following symbols\n",
    "L2, I_L2, v2, v1, I_V1, C1, C3, v3, V1, L1, I_L3, s, C2, L3, I_L1 = symbols('L2 I_L2 v2 v1 I_V1 C1 C3 v3 V1 L1 I_L3 s C2 L3 I_L1')\n",
    "\n",
    "# use the equations generated by nodal analysis\n",
    "equ_p1 = Matrix(\n",
    "    [[Eq(C1*s*v1 - I_L1 + I_L2 + I_V1, 0)],\n",
    "    [Eq(-C2*s*v3 - I_L3 + v2*(C2*s + C3*s), 0)],\n",
    "    [Eq(-C2*s*v2 + C2*s*v3 - I_L2, 0)],\n",
    "    [Eq(v1, V1)],\n",
    "    [Eq(-I_L1*L1*s - v1, 0)],\n",
    "    [Eq(-I_L2*L2*s + v1 - v3, 0)],\n",
    "    [Eq(-I_L3*L3*s - v2, 0)]])\n",
    "equ_p1"
   ]
  },
  {
   "cell_type": "markdown",
   "metadata": {},
   "source": [
    "At this point we can use the power of SymPy and obtain a symbolic solution, but as you can see the results don't seem that useful."
   ]
  },
  {
   "cell_type": "raw",
   "metadata": {},
   "source": [
    "solve(equ_p1,[v1, v2, v3, I_V1, I_L1, I_L2, I_L3])"
   ]
  },
  {
   "cell_type": "raw",
   "metadata": {},
   "source": [
    "-->"
   ]
  },
  {
   "cell_type": "code",
   "execution_count": 117,
   "metadata": {},
   "outputs": [],
   "source": [
    "element_values = {L1:L1p,C1:C1p,C2:C2p,L2:L2p,L3:L1p,C3:C1p}"
   ]
  },
  {
   "cell_type": "code",
   "execution_count": 118,
   "metadata": {},
   "outputs": [],
   "source": [
    "U_p1 = solve(NE_sym.subs(element_values),X)"
   ]
  },
  {
   "cell_type": "markdown",
   "metadata": {},
   "source": [
    "Substituting actual values for the circuit elements, we get:"
   ]
  },
  {
   "cell_type": "code",
   "execution_count": 119,
   "metadata": {},
   "outputs": [
    {
     "data": {
      "image/png": "[encoded data removed]",
      "text/latex": [
       "$\\displaystyle \\left\\{ I_{L1} : - \\frac{12534954.6878233 V_{1}}{s}, \\  I_{L2} : \\frac{6.33074196165529 \\cdot 10^{60} V_{1} s^{3} + 2.49302855720388 \\cdot 10^{76} V_{1} s}{1.00756887663672 \\cdot 10^{56} s^{4} + 7.95544497540355 \\cdot 10^{71} s^{2} + 1.5625 \\cdot 10^{87}}, \\  I_{L3} : - \\frac{2.49302855720388 \\cdot 10^{76} V_{1} s}{1.00756887663672 \\cdot 10^{56} s^{4} + 7.95544497540355 \\cdot 10^{71} s^{2} + 1.5625 \\cdot 10^{87}}, \\  I_{V1} : \\frac{- 6.39649568809606 \\cdot 10^{83} V_{1} s^{6} - 7.58201892757332 \\cdot 10^{99} V_{1} s^{4} - 2.98577794233115 \\cdot 10^{115} V_{1} s^{2} - 3.90625 \\cdot 10^{130} V_{1}}{2.00951838624414 \\cdot 10^{92} s^{5} + 1.58665212071561 \\cdot 10^{108} s^{3} + 3.11628569650484 \\cdot 10^{123} s}, \\  v_{1} : V_{1}, \\  v_{2} : \\frac{1.98886124385089 \\cdot 10^{69} V_{1} s^{2}}{1.00756887663672 \\cdot 10^{56} s^{4} + 7.95544497540355 \\cdot 10^{71} s^{2} + 1.5625 \\cdot 10^{87}}, \\  v_{3} : \\frac{3.98766679392103 \\cdot 10^{71} V_{1} s^{2} + 1.5625 \\cdot 10^{87} V_{1}}{1.00756887663672 \\cdot 10^{56} s^{4} + 7.95544497540355 \\cdot 10^{71} s^{2} + 1.5625 \\cdot 10^{87}}\\right\\}$"
      ],
      "text/plain": [
       "⎧                                                                3            \n",
       "⎪      -12534954.6878233⋅V₁             6.33074196165529e+60⋅V₁⋅s  + 2.4930285\n",
       "⎨I_L1: ─────────────────────, I_L2: ──────────────────────────────────────────\n",
       "⎪                s                                        4                   \n",
       "⎩                                   1.00756887663672e+56⋅s  + 7.95544497540355\n",
       "\n",
       "                                                                              \n",
       "5720388e+76⋅V₁⋅s                             -2.49302855720388e+76⋅V₁⋅s       \n",
       "────────────────────, I_L3: ──────────────────────────────────────────────────\n",
       "      2                                           4                         2 \n",
       "e+71⋅s  + 1.5625e+87        1.00756887663672e+56⋅s  + 7.95544497540355e+71⋅s  \n",
       "\n",
       "                                               6                            4 \n",
       "                    - 6.39649568809606e+83⋅V₁⋅s  - 7.58201892757332e+99⋅V₁⋅s  \n",
       "────────────, I_V1: ──────────────────────────────────────────────────────────\n",
       "                                                         5                    \n",
       "+ 1.5625e+87                       2.00951838624414e+92⋅s  + 1.58665212071561e\n",
       "\n",
       "                            2                                                 \n",
       "- 2.98577794233115e+115⋅V₁⋅s  - 3.90625e+130⋅V₁                               \n",
       "───────────────────────────────────────────────, v₁: V₁, v₂: ─────────────────\n",
       "      3                                                                       \n",
       "+108⋅s  + 3.11628569650484e+123⋅s                            1.00756887663672e\n",
       "\n",
       "                          2                                                   \n",
       " 1.98886124385089e+69⋅V₁⋅s                                   3.98766679392103e\n",
       "─────────────────────────────────────────────, v₃: ───────────────────────────\n",
       "     4                         2                                         4    \n",
       "+56⋅s  + 7.95544497540355e+71⋅s  + 1.5625e+87      1.00756887663672e+56⋅s  + 7\n",
       "\n",
       "        2                          ⎫\n",
       "+71⋅V₁⋅s  + 1.5625e+87⋅V₁          ⎪\n",
       "───────────────────────────────────⎬\n",
       "                     2             ⎪\n",
       ".95544497540355e+71⋅s  + 1.5625e+87⎭"
      ]
     },
     "execution_count": 119,
     "metadata": {},
     "output_type": "execute_result"
    }
   ],
   "source": [
    "U_p1"
   ]
  },
  {
   "cell_type": "raw",
   "metadata": {},
   "source": [
    "<!--"
   ]
  },
  {
   "cell_type": "raw",
   "metadata": {},
   "source": [
    "# find solution\n",
    "u_p1 = solve(equ_p1.subs(element_values),[v1, v2, v3, I_V1, I_L1, I_L2, I_L3])\n",
    "u_p1"
   ]
  },
  {
   "cell_type": "raw",
   "metadata": {},
   "source": [
    "-->"
   ]
  },
  {
   "cell_type": "markdown",
   "metadata": {},
   "source": [
    "$z_{11} = \\frac {V_1}{I_1} \\text{  when  } I_2=0$  "
   ]
  },
  {
   "cell_type": "code",
   "execution_count": 120,
   "metadata": {},
   "outputs": [
    {
     "data": {
      "image/png": "[encoded data removed]",
      "text/latex": [
       "$\\displaystyle \\frac{2.00951838624414 \\cdot 10^{92} s^{5} + 1.58665212071561 \\cdot 10^{108} s^{3} + 3.11628569650484 \\cdot 10^{123} s}{6.39649568809606 \\cdot 10^{83} s^{6} + 7.58201892757332 \\cdot 10^{99} s^{4} + 2.98577794233115 \\cdot 10^{115} s^{2} + 3.90625 \\cdot 10^{130}}$"
      ],
      "text/plain": [
       "                              5                          3                    \n",
       "        2.00951838624414e+92⋅s  + 1.58665212071561e+108⋅s  + 3.11628569650484e\n",
       "──────────────────────────────────────────────────────────────────────────────\n",
       "                      6                         4                          2  \n",
       "6.39649568809606e+83⋅s  + 7.58201892757332e+99⋅s  + 2.98577794233115e+115⋅s  +\n",
       "\n",
       "             \n",
       "+123⋅s       \n",
       "─────────────\n",
       "             \n",
       " 3.90625e+130"
      ]
     },
     "execution_count": 120,
     "metadata": {},
     "output_type": "execute_result"
    }
   ],
   "source": [
    "z11 = (-U_p1[v1]/U_p1[I_V1]).cancel()\n",
    "z11 #.simplify()"
   ]
  },
  {
   "cell_type": "markdown",
   "metadata": {},
   "source": [
    "$z_{21} = \\frac {V_2}{I_1} \\text{  when  } I_2=0$  "
   ]
  },
  {
   "cell_type": "code",
   "execution_count": 121,
   "metadata": {},
   "outputs": [
    {
     "data": {
      "image/png": "[encoded data removed]",
      "text/latex": [
       "$\\displaystyle \\frac{3.99665323720675 \\cdot 10^{161} s^{7} + 3.1556309103651 \\cdot 10^{177} s^{5} + 6.19785984654536 \\cdot 10^{192} s^{3}}{6.44490997486657 \\cdot 10^{139} s^{10} + 1.27281032416988 \\cdot 10^{156} s^{8} + 1.00396628165841 \\cdot 10^{172} s^{6} + 3.95359126276846 \\cdot 10^{187} s^{4} + 7.77287372840943 \\cdot 10^{202} s^{2} + 6.103515625 \\cdot 10^{217}}$"
      ],
      "text/plain": [
       "                                                            7                 \n",
       "                                     3.99665323720675e+161⋅s  + 3.155630910365\n",
       "──────────────────────────────────────────────────────────────────────────────\n",
       "                       10                          8                          \n",
       "6.44490997486657e+139⋅s   + 1.27281032416988e+156⋅s  + 1.00396628165841e+172⋅s\n",
       "\n",
       "        5                          3                                      \n",
       "1e+177⋅s  + 6.19785984654536e+192⋅s                                       \n",
       "──────────────────────────────────────────────────────────────────────────\n",
       "6                          4                          2                   \n",
       "  + 3.95359126276846e+187⋅s  + 7.77287372840943e+202⋅s  + 6.103515625e+217"
      ]
     },
     "execution_count": 121,
     "metadata": {},
     "output_type": "execute_result"
    }
   ],
   "source": [
    "z21 = (-U_p1[v2]/U_p1[I_V1]).cancel()\n",
    "z21 #.simplify()"
   ]
  },
  {
   "cell_type": "markdown",
   "metadata": {},
   "source": [
    "## Find z12 & z22\n",
    "To find $z_{12}$ and $z_{22}$, remove V1 from the net list by commenting out the V1 line in the netlist. This will make $I_1$ equal to zero. $z_{12}$ is equal to $\\frac{V_1}{I_2}\\text{  when  }I_1=0$ and $z_{22}$ is equal to $\\frac{V_2}{I_2}\\text{  when  }I_1=0$.  \n",
    "\n",
    "The net list below was run through the NMA code to generate the circuit equations.\n",
    "\n",
    "Remove V1 from the netlist.  "
   ]
  },
  {
   "cell_type": "code",
   "execution_count": 122,
   "metadata": {},
   "outputs": [],
   "source": [
    "net_list = '''\n",
    "*V1 1 0 1\n",
    "V2 2 0 1\n",
    "L1 0 1 1\n",
    "L2 1 3 1\n",
    "L3 0 2 1\n",
    "C1 1 0 1\n",
    "C2 3 2 1\n",
    "C3 2 0 1\n",
    "'''"
   ]
  },
  {
   "cell_type": "markdown",
   "metadata": {},
   "source": [
    "Call the symbolic modified nodal analysis function"
   ]
  },
  {
   "cell_type": "code",
   "execution_count": 123,
   "metadata": {},
   "outputs": [],
   "source": [
    "report, network_df, i_unk_df, A, X, Z = SymMNA.smna(net_list)"
   ]
  },
  {
   "cell_type": "markdown",
   "metadata": {},
   "source": [
    "The network equations for the circuit can be obtained from the A, X and Z values returned from the smna function. The A, X and Z are formuloated into equations and displayed below. Markdown is an IPython function and latex is a SymPy printing function."
   ]
  },
  {
   "cell_type": "code",
   "execution_count": 124,
   "metadata": {},
   "outputs": [
    {
     "data": {
      "text/markdown": [
       "$C_{1} s v_{1} - I_{L1} + I_{L2} = 0$<br>$- C_{2} s v_{3} - I_{L3} + I_{V2} + v_{2} \\left(C_{2} s + C_{3} s\\right) = 0$<br>$- C_{2} s v_{2} + C_{2} s v_{3} - I_{L2} = 0$<br>$v_{2} = V_{2}$<br>$- I_{L1} L_{1} s - v_{1} = 0$<br>$- I_{L2} L_{2} s + v_{1} - v_{3} = 0$<br>$- I_{L3} L_{3} s - v_{2} = 0$<br>"
      ],
      "text/plain": [
       "<IPython.core.display.Markdown object>"
      ]
     },
     "execution_count": 124,
     "metadata": {},
     "output_type": "execute_result"
    }
   ],
   "source": [
    "# reform X and Z into Matrix type for printing\n",
    "Xp = Matrix(X)\n",
    "Zp = Matrix(Z)\n",
    "temp = ''\n",
    "for i in range(len(X)):\n",
    "    temp += '${:s}$<br>'.format(latex(Eq((A*Xp)[i:i+1][0],Zp[i])))\n",
    "\n",
    "Markdown(temp)"
   ]
  },
  {
   "cell_type": "code",
   "execution_count": 125,
   "metadata": {},
   "outputs": [
    {
     "data": {
      "text/latex": [
       "$\\displaystyle \\left[\\begin{matrix}C_{1} s v_{1} - I_{L1} + I_{L2}\\\\- C_{2} s v_{3} - I_{L3} + I_{V2} + v_{2} \\left(C_{2} s + C_{3} s\\right)\\\\- C_{2} s v_{2} + C_{2} s v_{3} - I_{L2}\\\\v_{2}\\\\- I_{L1} L_{1} s - v_{1}\\\\- I_{L2} L_{2} s + v_{1} - v_{3}\\\\- I_{L3} L_{3} s - v_{2}\\end{matrix}\\right] = \\left[\\begin{matrix}0\\\\0\\\\0\\\\V_{2}\\\\0\\\\0\\\\0\\end{matrix}\\right]$"
      ],
      "text/plain": [
       "⎡          C₁⋅s⋅v₁ - I_L1 + I_L2          ⎤   ⎡0 ⎤\n",
       "⎢                                         ⎥   ⎢  ⎥\n",
       "⎢-C₂⋅s⋅v₃ - I_L3 + I_V2 + v₂⋅(C₂⋅s + C₃⋅s)⎥   ⎢0 ⎥\n",
       "⎢                                         ⎥   ⎢  ⎥\n",
       "⎢        -C₂⋅s⋅v₂ + C₂⋅s⋅v₃ - I_L2        ⎥   ⎢0 ⎥\n",
       "⎢                                         ⎥   ⎢  ⎥\n",
       "⎢                   v₂                    ⎥ = ⎢V₂⎥\n",
       "⎢                                         ⎥   ⎢  ⎥\n",
       "⎢             -I_L1⋅L₁⋅s - v₁             ⎥   ⎢0 ⎥\n",
       "⎢                                         ⎥   ⎢  ⎥\n",
       "⎢          -I_L2⋅L₂⋅s + v₁ - v₃           ⎥   ⎢0 ⎥\n",
       "⎢                                         ⎥   ⎢  ⎥\n",
       "⎣             -I_L3⋅L₃⋅s - v₂             ⎦   ⎣0 ⎦"
      ]
     },
     "execution_count": 125,
     "metadata": {},
     "output_type": "execute_result"
    }
   ],
   "source": [
    "# Put matrices into SymPy \n",
    "X = Matrix(X)\n",
    "Z = Matrix(Z)\n",
    "\n",
    "NE_sym = Eq(A*X,Z)\n",
    "NE_sym"
   ]
  },
  {
   "cell_type": "code",
   "execution_count": 126,
   "metadata": {},
   "outputs": [
    {
     "data": {
      "image/png": "[encoded data removed]",
      "text/latex": [
       "$\\displaystyle \\left( I_{L3}, \\  C_{2}, \\  L_{1}, \\  C_{3}, \\  I_{V2}, \\  I_{L1}, \\  v_{3}, \\  L_{2}, \\  I_{L2}, \\  s, \\  v_{2}, \\  C_{1}, \\  v_{1}, \\  V_{2}, \\  L_{3}\\right)$"
      ],
      "text/plain": [
       "(I_L3, C₂, L₁, C₃, I_V2, I_L1, v₃, L₂, I_L2, s, v₂, C₁, v₁, V₂, L₃)"
      ]
     },
     "execution_count": 126,
     "metadata": {},
     "output_type": "execute_result"
    }
   ],
   "source": [
    "# turn the free symbols into SymPy variables\n",
    "var(str(NE_sym.free_symbols).replace('{','').replace('}',''))"
   ]
  },
  {
   "cell_type": "markdown",
   "metadata": {},
   "source": [
    "Symbolic solution"
   ]
  },
  {
   "cell_type": "code",
   "execution_count": 127,
   "metadata": {},
   "outputs": [],
   "source": [
    "U_sym_p2 = solve(NE_sym,X)"
   ]
  },
  {
   "cell_type": "markdown",
   "metadata": {},
   "source": [
    "Display the symbolic solution"
   ]
  },
  {
   "cell_type": "code",
   "execution_count": 128,
   "metadata": {},
   "outputs": [
    {
     "data": {
      "text/markdown": [
       "$v_{1} = \\frac{C_{2} L_{1} V_{2} s^{2}}{C_{1} C_{2} L_{1} L_{2} s^{4} + C_{1} L_{1} s^{2} + C_{2} L_{1} s^{2} + C_{2} L_{2} s^{2} + 1}$<br>$v_{2} = V_{2}$<br>$v_{3} = \\frac{C_{1} C_{2} L_{1} L_{2} V_{2} s^{4} + C_{2} L_{1} V_{2} s^{2} + C_{2} L_{2} V_{2} s^{2}}{C_{1} C_{2} L_{1} L_{2} s^{4} + C_{1} L_{1} s^{2} + C_{2} L_{1} s^{2} + C_{2} L_{2} s^{2} + 1}$<br>$I_{V2} = \\frac{- C_{1} C_{2} C_{3} L_{1} L_{2} L_{3} V_{2} s^{6} - C_{1} C_{2} L_{1} L_{2} V_{2} s^{4} - C_{1} C_{2} L_{1} L_{3} V_{2} s^{4} - C_{1} C_{3} L_{1} L_{3} V_{2} s^{4} - C_{1} L_{1} V_{2} s^{2} - C_{2} C_{3} L_{1} L_{3} V_{2} s^{4} - C_{2} C_{3} L_{2} L_{3} V_{2} s^{4} - C_{2} L_{1} V_{2} s^{2} - C_{2} L_{2} V_{2} s^{2} - C_{2} L_{3} V_{2} s^{2} - C_{3} L_{3} V_{2} s^{2} - V_{2}}{C_{1} C_{2} L_{1} L_{2} L_{3} s^{5} + C_{1} L_{1} L_{3} s^{3} + C_{2} L_{1} L_{3} s^{3} + C_{2} L_{2} L_{3} s^{3} + L_{3} s}$<br>$I_{L1} = - \\frac{C_{2} V_{2} s}{C_{1} C_{2} L_{1} L_{2} s^{4} + C_{1} L_{1} s^{2} + C_{2} L_{1} s^{2} + C_{2} L_{2} s^{2} + 1}$<br>$I_{L2} = \\frac{- C_{1} C_{2} L_{1} V_{2} s^{3} - C_{2} V_{2} s}{C_{1} C_{2} L_{1} L_{2} s^{4} + C_{1} L_{1} s^{2} + C_{2} L_{1} s^{2} + C_{2} L_{2} s^{2} + 1}$<br>$I_{L3} = - \\frac{V_{2}}{L_{3} s}$<br>"
      ],
      "text/plain": [
       "<IPython.core.display.Markdown object>"
      ]
     },
     "execution_count": 128,
     "metadata": {},
     "output_type": "execute_result"
    }
   ],
   "source": [
    "temp = ''\n",
    "for i in U_sym_p2.keys():\n",
    "    temp += '${:s} = {:s}$<br>'.format(latex(i),latex(U_sym_p2[i]))\n",
    "\n",
    "Markdown(temp)"
   ]
  },
  {
   "cell_type": "raw",
   "metadata": {},
   "source": [
    "<!--"
   ]
  },
  {
   "cell_type": "raw",
   "metadata": {},
   "source": [
    "# declare the following symbols\n",
    "V2, L2, I_L2, v2, v1, C1, C3, L1, v3, I_L3, s, C2, L3, I_V2, I_L1 = symbols('V2 L2 I_L2 v2 v1 C1 C3 L1 v3 I_L3 s C2 L3 I_V2 I_L1')\n",
    "\n",
    "# use the equations generated by nodal analysis\n",
    "equ_p2 = Matrix(\n",
    "    [[Eq(C1*s*v1 - I_L1 + I_L2, 0)],\n",
    "    [Eq(-C2*s*v3 - I_L3 + I_V2 + v2*(C2*s + C3*s), 0)],\n",
    "    [Eq(-C2*s*v2 + C2*s*v3 - I_L2, 0)],\n",
    "    [Eq(v2, V2)],\n",
    "    [Eq(-I_L1*L1*s - v1, 0)],\n",
    "    [Eq(-I_L2*L2*s + v1 - v3, 0)],\n",
    "    [Eq(-I_L3*L3*s - v2, 0)]])\n",
    "equ_p2"
   ]
  },
  {
   "cell_type": "raw",
   "metadata": {},
   "source": [
    "# find symbolic solution\n",
    "u_p2 = solve(equ_p2.subs(element_values),[v1, v2, v3, I_V2, I_L1, I_L2, I_L3])\n",
    "u_p2"
   ]
  },
  {
   "cell_type": "raw",
   "metadata": {},
   "source": [
    "-->"
   ]
  },
  {
   "cell_type": "code",
   "execution_count": 129,
   "metadata": {},
   "outputs": [
    {
     "data": {
      "image/png": "[encoded data removed]",
      "text/latex": [
       "$\\displaystyle \\left\\{ I_{L1} : - \\frac{9.9721142288155 \\cdot 10^{74} V_{2} s}{4.03027550654688 \\cdot 10^{54} s^{4} + 3.18217799016142 \\cdot 10^{70} s^{2} + 6.25 \\cdot 10^{85}}, \\  I_{L2} : \\frac{- 2.53229678466212 \\cdot 10^{59} V_{2} s^{3} - 9.9721142288155 \\cdot 10^{74} V_{2} s}{4.03027550654688 \\cdot 10^{54} s^{4} + 3.18217799016142 \\cdot 10^{70} s^{2} + 6.25 \\cdot 10^{85}}, \\  I_{L3} : - \\frac{12534954.6878233 V_{2}}{s}, \\  I_{V2} : \\frac{- 6.39649568809606 \\cdot 10^{83} V_{2} s^{6} - 7.58201892757332 \\cdot 10^{99} V_{2} s^{4} - 2.98577794233115 \\cdot 10^{115} V_{2} s^{2} - 3.90625 \\cdot 10^{130} V_{2}}{2.00951838624414 \\cdot 10^{92} s^{5} + 1.58665212071561 \\cdot 10^{108} s^{3} + 3.11628569650484 \\cdot 10^{123} s}, \\  v_{1} : \\frac{7.95544497540356 \\cdot 10^{67} V_{2} s^{2}}{4.03027550654688 \\cdot 10^{54} s^{4} + 3.18217799016142 \\cdot 10^{70} s^{2} + 6.25 \\cdot 10^{85}}, \\  v_{2} : V_{2}, \\  v_{3} : \\frac{4.03027550654688 \\cdot 10^{54} V_{2} s^{4} + 1.59506671756841 \\cdot 10^{70} V_{2} s^{2}}{4.03027550654688 \\cdot 10^{54} s^{4} + 3.18217799016142 \\cdot 10^{70} s^{2} + 6.25 \\cdot 10^{85}}\\right\\}$"
      ],
      "text/plain": [
       "⎧                                                                             \n",
       "⎪                       -9.9721142288155e+74⋅V₂⋅s                            -\n",
       "⎨I_L1: ────────────────────────────────────────────────────────────, I_L2: ───\n",
       "⎪                            4                         2                      \n",
       "⎩      4.03027550654688e+54⋅s  + 3.18217799016142e+70⋅s  + 6.25e+85        4.0\n",
       "\n",
       "                          3                                                   \n",
       " 2.53229678466212e+59⋅V₂⋅s  - 9.9721142288155e+74⋅V₂⋅s           -12534954.687\n",
       "─────────────────────────────────────────────────────────, I_L3: ─────────────\n",
       "                   4                         2                             s  \n",
       "3027550654688e+54⋅s  + 3.18217799016142e+70⋅s  + 6.25e+85                     \n",
       "\n",
       "                                           6                            4     \n",
       "8233⋅V₂         - 6.39649568809606e+83⋅V₂⋅s  - 7.58201892757332e+99⋅V₂⋅s  - 2.\n",
       "────────, I_V2: ──────────────────────────────────────────────────────────────\n",
       "                                                     5                        \n",
       "                               2.00951838624414e+92⋅s  + 1.58665212071561e+108\n",
       "\n",
       "                        2                                                     \n",
       "98577794233115e+115⋅V₂⋅s  - 3.90625e+130⋅V₂                       7.9554449754\n",
       "───────────────────────────────────────────, v₁: ─────────────────────────────\n",
       "  3                                                                    4      \n",
       "⋅s  + 3.11628569650484e+123⋅s                    4.03027550654688e+54⋅s  + 3.1\n",
       "\n",
       "             2                                                          4     \n",
       "0356e+67⋅V₂⋅s                                  4.03027550654688e+54⋅V₂⋅s  + 1.\n",
       "───────────────────────────────, v₂: V₂, v₃: ─────────────────────────────────\n",
       "                   2                                               4          \n",
       "8217799016142e+70⋅s  + 6.25e+85              4.03027550654688e+54⋅s  + 3.18217\n",
       "\n",
       "                       2   ⎫\n",
       "59506671756841e+70⋅V₂⋅s    ⎪\n",
       "───────────────────────────⎬\n",
       "               2           ⎪\n",
       "799016142e+70⋅s  + 6.25e+85⎭"
      ]
     },
     "execution_count": 129,
     "metadata": {},
     "output_type": "execute_result"
    }
   ],
   "source": [
    "U_p2 = solve(NE_sym.subs(element_values),X)\n",
    "U_p2"
   ]
  },
  {
   "cell_type": "markdown",
   "metadata": {},
   "source": [
    "$z_{12} = \\frac {V_1}{I_2} \\text{  when  } I_1=0$ "
   ]
  },
  {
   "cell_type": "code",
   "execution_count": 130,
   "metadata": {},
   "outputs": [
    {
     "data": {
      "image/png": "[encoded data removed]",
      "text/latex": [
       "$\\displaystyle \\frac{1.5986612948827 \\cdot 10^{160} s^{7} + 1.26225236414604 \\cdot 10^{176} s^{5} + 2.47914393861815 \\cdot 10^{191} s^{3}}{2.57796398994663 \\cdot 10^{138} s^{10} + 5.09124129667954 \\cdot 10^{154} s^{8} + 4.01586512663364 \\cdot 10^{170} s^{6} + 1.58143650510738 \\cdot 10^{186} s^{4} + 3.10914949136377 \\cdot 10^{201} s^{2} + 2.44140625 \\cdot 10^{216}}$"
      ],
      "text/plain": [
       "                                                           7                  \n",
       "                                     1.5986612948827e+160⋅s  + 1.2622523641460\n",
       "──────────────────────────────────────────────────────────────────────────────\n",
       "                       10                          8                          \n",
       "2.57796398994663e+138⋅s   + 5.09124129667954e+154⋅s  + 4.01586512663364e+170⋅s\n",
       "\n",
       "        5                          3                                     \n",
       "4e+176⋅s  + 2.47914393861815e+191⋅s                                      \n",
       "─────────────────────────────────────────────────────────────────────────\n",
       "6                          4                          2                  \n",
       "  + 1.58143650510738e+186⋅s  + 3.10914949136377e+201⋅s  + 2.44140625e+216"
      ]
     },
     "execution_count": 130,
     "metadata": {},
     "output_type": "execute_result"
    }
   ],
   "source": [
    "z12 = (-U_p2[v1]/U_p2[I_V2]).cancel()\n",
    "z12 #.simplify()"
   ]
  },
  {
   "cell_type": "markdown",
   "metadata": {},
   "source": [
    "$z_{22} = \\frac {V_2}{I_2} \\text{  when  } I_1=0$  "
   ]
  },
  {
   "cell_type": "code",
   "execution_count": 131,
   "metadata": {},
   "outputs": [
    {
     "data": {
      "image/png": "[encoded data removed]",
      "text/latex": [
       "$\\displaystyle \\frac{2.00951838624414 \\cdot 10^{92} s^{5} + 1.58665212071561 \\cdot 10^{108} s^{3} + 3.11628569650484 \\cdot 10^{123} s}{6.39649568809606 \\cdot 10^{83} s^{6} + 7.58201892757332 \\cdot 10^{99} s^{4} + 2.98577794233115 \\cdot 10^{115} s^{2} + 3.90625 \\cdot 10^{130}}$"
      ],
      "text/plain": [
       "                              5                          3                    \n",
       "        2.00951838624414e+92⋅s  + 1.58665212071561e+108⋅s  + 3.11628569650484e\n",
       "──────────────────────────────────────────────────────────────────────────────\n",
       "                      6                         4                          2  \n",
       "6.39649568809606e+83⋅s  + 7.58201892757332e+99⋅s  + 2.98577794233115e+115⋅s  +\n",
       "\n",
       "             \n",
       "+123⋅s       \n",
       "─────────────\n",
       "             \n",
       " 3.90625e+130"
      ]
     },
     "execution_count": 131,
     "metadata": {},
     "output_type": "execute_result"
    }
   ],
   "source": [
    "z22 = (-U_p2[v2]/U_p2[I_V2]).cancel()\n",
    "z22 #.simplify()"
   ]
  },
  {
   "cell_type": "markdown",
   "metadata": {},
   "source": [
    "displaying  the z-parameter matrix"
   ]
  },
  {
   "cell_type": "code",
   "execution_count": 132,
   "metadata": {},
   "outputs": [
    {
     "data": {
      "text/latex": [
       "$\\displaystyle \\left[\\begin{matrix}\\frac{2.00951838624414 \\cdot 10^{92} s^{5} + 1.58665212071561 \\cdot 10^{108} s^{3} + 3.11628569650484 \\cdot 10^{123} s}{6.39649568809606 \\cdot 10^{83} s^{6} + 7.58201892757332 \\cdot 10^{99} s^{4} + 2.98577794233115 \\cdot 10^{115} s^{2} + 3.90625 \\cdot 10^{130}} & \\frac{3.99665323720675 \\cdot 10^{161} s^{7} + 3.1556309103651 \\cdot 10^{177} s^{5} + 6.19785984654536 \\cdot 10^{192} s^{3}}{6.44490997486657 \\cdot 10^{139} s^{10} + 1.27281032416988 \\cdot 10^{156} s^{8} + 1.00396628165841 \\cdot 10^{172} s^{6} + 3.95359126276846 \\cdot 10^{187} s^{4} + 7.77287372840943 \\cdot 10^{202} s^{2} + 6.103515625 \\cdot 10^{217}}\\\\\\frac{1.5986612948827 \\cdot 10^{160} s^{7} + 1.26225236414604 \\cdot 10^{176} s^{5} + 2.47914393861815 \\cdot 10^{191} s^{3}}{2.57796398994663 \\cdot 10^{138} s^{10} + 5.09124129667954 \\cdot 10^{154} s^{8} + 4.01586512663364 \\cdot 10^{170} s^{6} + 1.58143650510738 \\cdot 10^{186} s^{4} + 3.10914949136377 \\cdot 10^{201} s^{2} + 2.44140625 \\cdot 10^{216}} & \\frac{2.00951838624414 \\cdot 10^{92} s^{5} + 1.58665212071561 \\cdot 10^{108} s^{3} + 3.11628569650484 \\cdot 10^{123} s}{6.39649568809606 \\cdot 10^{83} s^{6} + 7.58201892757332 \\cdot 10^{99} s^{4} + 2.98577794233115 \\cdot 10^{115} s^{2} + 3.90625 \\cdot 10^{130}}\\end{matrix}\\right]$"
      ],
      "text/plain": [
       "⎡                                                            5                \n",
       "⎢                                      2.00951838624414e+92⋅s  + 1.58665212071\n",
       "⎢                              ───────────────────────────────────────────────\n",
       "⎢                                                    6                        \n",
       "⎢                              6.39649568809606e+83⋅s  + 7.58201892757332e+99⋅\n",
       "⎢                                                                             \n",
       "⎢                                                           7                 \n",
       "⎢                                     1.5986612948827e+160⋅s  + 1.262252364146\n",
       "⎢─────────────────────────────────────────────────────────────────────────────\n",
       "⎢                       10                          8                         \n",
       "⎣2.57796398994663e+138⋅s   + 5.09124129667954e+154⋅s  + 4.01586512663364e+170⋅\n",
       "\n",
       "          3                                                                   \n",
       "561e+108⋅s  + 3.11628569650484e+123⋅s                                         \n",
       "────────────────────────────────────────────                                ──\n",
       " 4                          2                                                 \n",
       "s  + 2.98577794233115e+115⋅s  + 3.90625e+130                                6.\n",
       "                                                                              \n",
       "         5                          3                                         \n",
       "04e+176⋅s  + 2.47914393861815e+191⋅s                                          \n",
       "──────────────────────────────────────────────────────────────────────────    \n",
       " 6                          4                          2                      \n",
       "s  + 1.58143650510738e+186⋅s  + 3.10914949136377e+201⋅s  + 2.44140625e+216    \n",
       "\n",
       "                                                          7                   \n",
       "                                   3.99665323720675e+161⋅s  + 3.1556309103651e\n",
       "──────────────────────────────────────────────────────────────────────────────\n",
       "                     10                          8                          6 \n",
       "44490997486657e+139⋅s   + 1.27281032416988e+156⋅s  + 1.00396628165841e+172⋅s  \n",
       "                                                                              \n",
       "                                                          5                   \n",
       "                                    2.00951838624414e+92⋅s  + 1.58665212071561\n",
       "                            ──────────────────────────────────────────────────\n",
       "                                                  6                         4 \n",
       "                            6.39649568809606e+83⋅s  + 7.58201892757332e+99⋅s  \n",
       "\n",
       "      5                          3                                      ⎤\n",
       "+177⋅s  + 6.19785984654536e+192⋅s                                       ⎥\n",
       "────────────────────────────────────────────────────────────────────────⎥\n",
       "                         4                          2                   ⎥\n",
       "+ 3.95359126276846e+187⋅s  + 7.77287372840943e+202⋅s  + 6.103515625e+217⎥\n",
       "                                                                        ⎥\n",
       "       3                                                                ⎥\n",
       "e+108⋅s  + 3.11628569650484e+123⋅s                                      ⎥\n",
       "─────────────────────────────────────────                               ⎥\n",
       "                         2                                              ⎥\n",
       "+ 2.98577794233115e+115⋅s  + 3.90625e+130                               ⎦"
      ]
     },
     "execution_count": 132,
     "metadata": {},
     "output_type": "execute_result"
    }
   ],
   "source": [
    "Matrix([[z11,z21],[z12,z22]])"
   ]
  },
  {
   "cell_type": "markdown",
   "metadata": {},
   "source": [
    "The complete z-parameter matrix is shown above. It's kind of interesting that the exponents on many of the coefficients are so large. Using the SymPy function lambdify to turn the symbolic expression into a function."
   ]
  },
  {
   "cell_type": "code",
   "execution_count": 133,
   "metadata": {},
   "outputs": [],
   "source": [
    "func_z11_s = lambdify(s, z11)\n",
    "func_z12_s = lambdify(s, z12) \n",
    "func_z21_s = lambdify(s, z21) \n",
    "func_z22_s = lambdify(s, z22) "
   ]
  },
  {
   "cell_type": "markdown",
   "metadata": {},
   "source": [
    "Using the results from above, the input impedance of a two-port network is given by:\n",
    "The input impedance of a two-port network is: $Z_{in}=\\frac{Z_{11}Z_{22}+Z_{11}Z_{L}-Z_{12}Z_{21}}{Z_{22}+Z_{L}}$, where $Z_{L}$ is the impedance of the load connected to port two."
   ]
  },
  {
   "cell_type": "code",
   "execution_count": 134,
   "metadata": {},
   "outputs": [
    {
     "data": {
      "image/png": "[encoded data removed]",
      "text/plain": [
       "<Figure size 640x480 with 1 Axes>"
      ]
     },
     "metadata": {},
     "output_type": "display_data"
    }
   ],
   "source": [
    "# set the source and load impedance\n",
    "Zl = Zs = 50\n",
    "\n",
    "w = np.linspace(9e6*2*np.pi, 11e6*2*np.pi, 1000, endpoint=True)\n",
    "\n",
    "plt.title('Input impedance')\n",
    "\n",
    "plt.plot(w/(2*np.pi)/1e6, np.abs((func_z11_s(1j*w)*func_z22_s(1j*w)+func_z11_s(1j*w)*Zl-func_z12_s(1j*w)*func_z21_s(1j*w))/(func_z22_s(1j*w)+Zl)),'-',label='|Zin|')\n",
    "plt.plot(w/(2*np.pi)/1e6, np.real((func_z11_s(1j*w)*func_z22_s(1j*w)+func_z11_s(1j*w)*Zl-func_z12_s(1j*w)*func_z21_s(1j*w))/(func_z22_s(1j*w)+Zl)),'-',label='Re Zin')\n",
    "plt.plot(w/(2*np.pi)/1e6, np.imag((func_z11_s(1j*w)*func_z22_s(1j*w)+func_z11_s(1j*w)*Zl-func_z12_s(1j*w)*func_z21_s(1j*w))/(func_z22_s(1j*w)+Zl)),'-',label='Im Zin')\n",
    "\n",
    "plt.ylabel('impedance, ohms')\n",
    "plt.xlabel('Frequency, MHz')\n",
    "plt.legend()\n",
    "plt.grid()\n",
    "plt.show()"
   ]
  },
  {
   "cell_type": "markdown",
   "metadata": {},
   "source": [
    "The plot above shows the magnitude of the input impedance (in blue), the real part of the input impedance (in orange) and the imaginary part of the input impedance (in green). Near 10Hz, the magnitude and real part of the input impedance is 50 ohms and the imaginary part is about zero. This shows that the design equations produced the desired results. The input impedance bandwidth of the filter is about 1 MHz.\n",
    "\n",
    "The voltage gain of the filter calculated from the z-parameters is: $K_v=\\frac{Z_{21}Z_{L}}{Z_{11}Z_{22}+Z_{11}Z_{L}-Z_{12}Z_{21}}$, which is plotted below:"
   ]
  },
  {
   "cell_type": "code",
   "execution_count": 135,
   "metadata": {},
   "outputs": [
    {
     "data": {
      "image/png": "[encoded data removed]",
      "text/plain": [
       "<Figure size 640x480 with 1 Axes>"
      ]
     },
     "metadata": {},
     "output_type": "display_data"
    }
   ],
   "source": [
    "plt.title('Voltage gain')\n",
    "plt.plot(w/(2*np.pi)/1e6, np.abs((func_z21_s(1j*w)*Zl)/(func_z11_s(1j*w)*func_z22_s(1j*w)+func_z11_s(1j*w)*Zl-func_z12_s(1j*w)*func_z21_s(1j*w))),'-',label='|Kv|')\n",
    "plt.ylabel('Kv')\n",
    "plt.xlabel('Frequency, MHz')\n",
    "plt.legend()\n",
    "plt.grid()\n",
    "plt.show()"
   ]
  },
  {
   "cell_type": "markdown",
   "metadata": {},
   "source": [
    "The plot above shows the voltage gain of the filter (in blue) plotted from the z-parameters. The filter is centered at 10MHz and the bandwidth appears to be 1 MHz. \n",
    "\n",
    "## Convert z-parameters to s-parameters\n",
    "Although applicable at any frequency, s-parameters are mostly used for networks operating at radio frequency (RF) and microwave frequencies. The s-parameters can be calculated from the z-parameters with the following formulas:"
   ]
  },
  {
   "cell_type": "code",
   "execution_count": 136,
   "metadata": {},
   "outputs": [
    {
     "data": {
      "image/png": "[encoded data removed]",
      "text/plain": [
       "<Figure size 640x480 with 1 Axes>"
      ]
     },
     "metadata": {},
     "output_type": "display_data"
    }
   ],
   "source": [
    "Z_o = 50 # characteristic impedance\n",
    "\n",
    "w = np.linspace(8e6*2*np.pi, 12e6*2*np.pi, 2000, endpoint=True)\n",
    "s11 = np.zeros(len(w),dtype=complex)\n",
    "s12 = np.zeros(len(w),dtype=complex)\n",
    "s21 = np.zeros(len(w),dtype=complex)\n",
    "s22 = np.zeros(len(w),dtype=complex)\n",
    "\n",
    "for i in range(len(w)):\n",
    "    del_z = (func_z11_s(1j*w[i])+Z_o)*(func_z22_s(1j*w[i])+Z_o)-func_z12_s(1j*w[i])*func_z21_s(1j*w[i])\n",
    "    s11[i] = ((func_z11_s(1j*w[i])-Z_o)*(func_z22_s(1j*w[i])+Z_o)-func_z12_s(1j*w[i])*func_z21_s(1j*w[i]))/del_z\n",
    "    s12[i] = (2*func_z12_s(1j*w[i])*Z_o)/del_z\n",
    "    s21[i] = (2*func_z21_s(1j*w[i])*Z_o)/del_z\n",
    "    s22[i] = ((func_z11_s(1j*w[i])+Z_o)*(func_z22_s(1j*w[i])-Z_o)-func_z12_s(1j*w[i])*func_z21_s(1j*w[i]))/del_z\n",
    "\n",
    "plt.title('S-parameters')\n",
    "plt.plot(w/(2*np.pi)/1e6, 20*np.log10(np.abs(s11)),'-',label='|s11|dB')\n",
    "plt.plot(w/(2*np.pi)/1e6, 20*np.log10(np.abs(s21)),'-',label='|s21|dB')\n",
    "plt.ylabel('|S11| & |S21|, dB')\n",
    "plt.xlabel('Frequency, MHz')\n",
    "plt.ylim((-20,1))\n",
    "plt.yticks(np.arange(-20, 1, 5))\n",
    "#plt.xlim((-1,20))\n",
    "#plt.xticks(np.arange(0, 20+1, 2.0))\n",
    "plt.legend()\n",
    "plt.grid()\n",
    "plt.show()"
   ]
  },
  {
   "cell_type": "markdown",
   "metadata": {},
   "source": [
    "The plot above shows the magnitudes in dB of the input reflection coefficient (in blue) and the forward voltage gain (in orange). \n",
    "\n",
    "The magnitude of the input reflection coefficient indicates the amount of energy reflected back to the source due to the impedance mismatch. The smaller the reflection coefficient the better the match, and in dB, large negative values are very small small numbers. A rule of thumb is that |S11| less than about -9.5 dB is a reasonable match, since this corresponds to about a 2:1 VSWR or a mismatch loss of about 0.5 dB. The frequency range over which this match occurs is called the impedance bandwidth. \n",
    "\n",
    "The plot of |S21| shows the forward voltage gain of the filter in dB. The filter was designed to be a band pass filter with a center frequency of 10 MHz, which is clearly shown in the plot. The plot is similar to what would be seen on a network analyzer. \n",
    "\n",
    "## Summary\n",
    "In this notebook the parameters for two port networks were generated from the circuit's netlist. Using python, the circuit equations were automatically generated by using modified nodal analysis, then SymPy was used to solve for the network currents and voltages. Z-parameters were calculated for the circuits, from which y and s parameters were generated. The z-parameters were used to generate input impedance and transfer functions.\n",
    "\n",
    "This notebook has demonstrated that two port parameters can easily be generated from a circuit's netlist with python. "
   ]
  },
  {
   "cell_type": "code",
   "execution_count": null,
   "metadata": {},
   "outputs": [],
   "source": []
  }
 ],
 "metadata": {
  "kernelspec": {
   "display_name": "Python 3 (ipykernel)",
   "language": "python",
   "name": "python3"
  },
  "language_info": {
   "codemirror_mode": {
    "name": "ipython",
    "version": 3
   },
   "file_extension": ".py",
   "mimetype": "text/x-python",
   "name": "python",
   "nbconvert_exporter": "python",
   "pygments_lexer": "ipython3",
   "version": "3.10.9"
  }
 },
 "nbformat": 4,
 "nbformat_minor": 4
}
