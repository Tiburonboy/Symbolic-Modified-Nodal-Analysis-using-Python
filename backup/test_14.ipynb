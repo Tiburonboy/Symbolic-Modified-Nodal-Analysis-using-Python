{
 "cells": [
  {
   "cell_type": "raw",
   "metadata": {},
   "source": [
    "---\n",
    "title:\n",
    "format: \n",
    "    html:\n",
    "        code-fold: false\n",
    "        embed-resources: false\n",
    "        code-tools: true\n",
    "        number-sections: true\n",
    "jupyter: python3\n",
    "---"
   ]
  },
  {
   "cell_type": "markdown",
   "metadata": {},
   "source": [
    "# Test 14 {#sec-test_14}\n",
    "This test circuit has one unknown current source. This circuit was design to test a bug fix during generation of the A matrix where the C matrix didn't get included if there was only one unknown current.\n",
    "\n",
    "![test circuit](test_14.png){#fig-test_14}\n",
    "\n",
    "```\n",
    "* test_14.asc\n",
    "I1 1 0 1 \n",
    "R1 1 0 0.05\n",
    "L1 1 2 0.025\n",
    "C1 2 0 0.25\n",
    "\n",
    "```"
   ]
  },
  {
   "cell_type": "code",
   "execution_count": 1,
   "metadata": {
    "collapsed": false,
    "jupyter": {
     "outputs_hidden": false
    }
   },
   "outputs": [],
   "source": [
    "#import os\n",
    "from sympy import *\n",
    "import numpy as np\n",
    "from tabulate import tabulate\n",
    "from scipy import signal\n",
    "import matplotlib.pyplot as plt\n",
    "import pandas as pd\n",
    "import SymMNA\n",
    "from IPython.display import display, Markdown, Math, Latex\n",
    "init_printing()"
   ]
  },
  {
   "cell_type": "markdown",
   "metadata": {
    "tags": []
   },
   "source": [
    "## Load the net list"
   ]
  },
  {
   "cell_type": "code",
   "execution_count": 2,
   "metadata": {},
   "outputs": [],
   "source": [
    "net_list = '''\n",
    "I1 1 0 1 \n",
    "R1 1 0 0.05\n",
    "L1 1 2 0.025\n",
    "C1 2 0 0.25\n",
    "'''"
   ]
  },
  {
   "cell_type": "markdown",
   "metadata": {},
   "source": [
    "## Call the symbolic modified nodal analysis function"
   ]
  },
  {
   "cell_type": "code",
   "execution_count": 3,
   "metadata": {},
   "outputs": [],
   "source": [
    "report, network_df, i_unk_df, A, X, Z = SymMNA.smna(net_list)"
   ]
  },
  {
   "cell_type": "markdown",
   "metadata": {},
   "source": [
    "Display the equations"
   ]
  },
  {
   "cell_type": "code",
   "execution_count": 4,
   "metadata": {},
   "outputs": [
    {
     "data": {
      "text/markdown": [
       "$I_{L1} + \\frac{v_{1}}{R_{1}} = - I_{1}$<br>$C_{1} s v_{2} - I_{L1} = 0$<br>$- I_{L1} L_{1} s + v_{1} - v_{2} = 0$<br>"
      ],
      "text/plain": [
       "<IPython.core.display.Markdown object>"
      ]
     },
     "execution_count": 4,
     "metadata": {},
     "output_type": "execute_result"
    }
   ],
   "source": [
    "# reform X and Z into Matrix type for printing\n",
    "Xp = Matrix(X)\n",
    "Zp = Matrix(Z)\n",
    "temp = ''\n",
    "for i in range(len(X)):\n",
    "    temp += '${:s}$<br>'.format(latex(Eq((A*Xp)[i:i+1][0],Zp[i])))\n",
    "\n",
    "Markdown(temp)"
   ]
  },
  {
   "cell_type": "markdown",
   "metadata": {},
   "source": [
    "### Netlist statistics"
   ]
  },
  {
   "cell_type": "code",
   "execution_count": 5,
   "metadata": {},
   "outputs": [
    {
     "name": "stdout",
     "output_type": "stream",
     "text": [
      "Net list report\n",
      "number of lines in netlist: 4\n",
      "number of branches: 4\n",
      "number of nodes: 2\n",
      "number of unknown currents: 1\n",
      "number of RLC (passive components): 3\n",
      "number of inductors: 1\n",
      "number of independent voltage sources: 0\n",
      "number of independent current sources: 1\n",
      "number of op amps: 0\n",
      "number of E - VCVS: 0\n",
      "number of G - VCCS: 0\n",
      "number of F - CCCS: 0\n",
      "number of H - CCVS: 0\n",
      "number of K - Coupled inductors: 0\n",
      "\n"
     ]
    }
   ],
   "source": [
    "print(report)"
   ]
  },
  {
   "cell_type": "markdown",
   "metadata": {},
   "source": [
    "### Connectivity Matrix"
   ]
  },
  {
   "cell_type": "code",
   "execution_count": 6,
   "metadata": {},
   "outputs": [
    {
     "data": {
      "text/latex": [
       "$\\displaystyle \\left[\\begin{matrix}\\frac{1}{R_{1}} & 0 & 1\\\\0 & C_{1} s & -1\\\\1 & -1 & - L_{1} s\\end{matrix}\\right]$"
      ],
      "text/plain": [
       "⎡1              ⎤\n",
       "⎢──   0      1  ⎥\n",
       "⎢R₁             ⎥\n",
       "⎢               ⎥\n",
       "⎢0   C₁⋅s   -1  ⎥\n",
       "⎢               ⎥\n",
       "⎣1    -1   -L₁⋅s⎦"
      ]
     },
     "execution_count": 6,
     "metadata": {},
     "output_type": "execute_result"
    }
   ],
   "source": [
    "A"
   ]
  },
  {
   "cell_type": "markdown",
   "metadata": {},
   "source": [
    "### Unknown voltages and currents"
   ]
  },
  {
   "cell_type": "code",
   "execution_count": 7,
   "metadata": {},
   "outputs": [
    {
     "data": {
      "image/png": "[encoded data removed]",
      "text/latex": [
       "$\\displaystyle \\left[ v_{1}, \\  v_{2}, \\  I_{L1}\\right]$"
      ],
      "text/plain": [
       "[v₁, v₂, I_L1]"
      ]
     },
     "execution_count": 7,
     "metadata": {},
     "output_type": "execute_result"
    }
   ],
   "source": [
    "X"
   ]
  },
  {
   "cell_type": "markdown",
   "metadata": {},
   "source": [
    "### Known voltages and currents"
   ]
  },
  {
   "cell_type": "code",
   "execution_count": 8,
   "metadata": {},
   "outputs": [
    {
     "data": {
      "image/png": "[encoded data removed]",
      "text/latex": [
       "$\\displaystyle \\left[ - I_{1}, \\  0, \\  0\\right]$"
      ],
      "text/plain": [
       "[-I₁, 0, 0]"
      ]
     },
     "execution_count": 8,
     "metadata": {},
     "output_type": "execute_result"
    }
   ],
   "source": [
    "Z"
   ]
  },
  {
   "cell_type": "markdown",
   "metadata": {},
   "source": [
    "### Network dataframe"
   ]
  },
  {
   "cell_type": "code",
   "execution_count": 9,
   "metadata": {},
   "outputs": [
    {
     "data": {
      "text/html": [
       "<div>\n",
       "<style scoped>\n",
       "    .dataframe tbody tr th:only-of-type {\n",
       "        vertical-align: middle;\n",
       "    }\n",
       "\n",
       "    .dataframe tbody tr th {\n",
       "        vertical-align: top;\n",
       "    }\n",
       "\n",
       "    .dataframe thead th {\n",
       "        text-align: right;\n",
       "    }\n",
       "</style>\n",
       "<table border=\"1\" class=\"dataframe\">\n",
       "  <thead>\n",
       "    <tr style=\"text-align: right;\">\n",
       "      <th></th>\n",
       "      <th>element</th>\n",
       "      <th>p node</th>\n",
       "      <th>n node</th>\n",
       "      <th>cp node</th>\n",
       "      <th>cn node</th>\n",
       "      <th>Vout</th>\n",
       "      <th>value</th>\n",
       "      <th>Vname</th>\n",
       "      <th>Lname1</th>\n",
       "      <th>Lname2</th>\n",
       "    </tr>\n",
       "  </thead>\n",
       "  <tbody>\n",
       "    <tr>\n",
       "      <th>0</th>\n",
       "      <td>I1</td>\n",
       "      <td>1</td>\n",
       "      <td>0</td>\n",
       "      <td>NaN</td>\n",
       "      <td>NaN</td>\n",
       "      <td>NaN</td>\n",
       "      <td>1.0</td>\n",
       "      <td>NaN</td>\n",
       "      <td>NaN</td>\n",
       "      <td>NaN</td>\n",
       "    </tr>\n",
       "    <tr>\n",
       "      <th>1</th>\n",
       "      <td>R1</td>\n",
       "      <td>1</td>\n",
       "      <td>0</td>\n",
       "      <td>NaN</td>\n",
       "      <td>NaN</td>\n",
       "      <td>NaN</td>\n",
       "      <td>0.05</td>\n",
       "      <td>NaN</td>\n",
       "      <td>NaN</td>\n",
       "      <td>NaN</td>\n",
       "    </tr>\n",
       "    <tr>\n",
       "      <th>2</th>\n",
       "      <td>L1</td>\n",
       "      <td>1</td>\n",
       "      <td>2</td>\n",
       "      <td>NaN</td>\n",
       "      <td>NaN</td>\n",
       "      <td>NaN</td>\n",
       "      <td>0.025</td>\n",
       "      <td>NaN</td>\n",
       "      <td>NaN</td>\n",
       "      <td>NaN</td>\n",
       "    </tr>\n",
       "    <tr>\n",
       "      <th>3</th>\n",
       "      <td>C1</td>\n",
       "      <td>2</td>\n",
       "      <td>0</td>\n",
       "      <td>NaN</td>\n",
       "      <td>NaN</td>\n",
       "      <td>NaN</td>\n",
       "      <td>0.25</td>\n",
       "      <td>NaN</td>\n",
       "      <td>NaN</td>\n",
       "      <td>NaN</td>\n",
       "    </tr>\n",
       "  </tbody>\n",
       "</table>\n",
       "</div>"
      ],
      "text/plain": [
       "  element p node n node cp node cn node Vout  value Vname Lname1 Lname2\n",
       "0      I1      1      0     NaN     NaN  NaN    1.0   NaN    NaN    NaN\n",
       "1      R1      1      0     NaN     NaN  NaN   0.05   NaN    NaN    NaN\n",
       "2      L1      1      2     NaN     NaN  NaN  0.025   NaN    NaN    NaN\n",
       "3      C1      2      0     NaN     NaN  NaN   0.25   NaN    NaN    NaN"
      ]
     },
     "execution_count": 9,
     "metadata": {},
     "output_type": "execute_result"
    }
   ],
   "source": [
    "network_df"
   ]
  },
  {
   "cell_type": "markdown",
   "metadata": {},
   "source": [
    "### Unknown current dataframe"
   ]
  },
  {
   "cell_type": "code",
   "execution_count": 10,
   "metadata": {},
   "outputs": [
    {
     "data": {
      "text/html": [
       "<div>\n",
       "<style scoped>\n",
       "    .dataframe tbody tr th:only-of-type {\n",
       "        vertical-align: middle;\n",
       "    }\n",
       "\n",
       "    .dataframe tbody tr th {\n",
       "        vertical-align: top;\n",
       "    }\n",
       "\n",
       "    .dataframe thead th {\n",
       "        text-align: right;\n",
       "    }\n",
       "</style>\n",
       "<table border=\"1\" class=\"dataframe\">\n",
       "  <thead>\n",
       "    <tr style=\"text-align: right;\">\n",
       "      <th></th>\n",
       "      <th>element</th>\n",
       "      <th>p node</th>\n",
       "      <th>n node</th>\n",
       "    </tr>\n",
       "  </thead>\n",
       "  <tbody>\n",
       "    <tr>\n",
       "      <th>0</th>\n",
       "      <td>L1</td>\n",
       "      <td>1</td>\n",
       "      <td>2</td>\n",
       "    </tr>\n",
       "  </tbody>\n",
       "</table>\n",
       "</div>"
      ],
      "text/plain": [
       "  element p node n node\n",
       "0      L1      1      2"
      ]
     },
     "execution_count": 10,
     "metadata": {},
     "output_type": "execute_result"
    }
   ],
   "source": [
    "i_unk_df"
   ]
  },
  {
   "cell_type": "markdown",
   "metadata": {},
   "source": [
    "### Build the network equation matrix"
   ]
  },
  {
   "cell_type": "code",
   "execution_count": 11,
   "metadata": {},
   "outputs": [
    {
     "data": {
      "text/latex": [
       "$\\displaystyle \\left[\\begin{matrix}I_{L1} + \\frac{v_{1}}{R_{1}}\\\\C_{1} s v_{2} - I_{L1}\\\\- I_{L1} L_{1} s + v_{1} - v_{2}\\end{matrix}\\right] = \\left[\\begin{matrix}- I_{1}\\\\0\\\\0\\end{matrix}\\right]$"
      ],
      "text/plain": [
       "⎡            v₁      ⎤        \n",
       "⎢     I_L1 + ──      ⎥   ⎡-I₁⎤\n",
       "⎢            R₁      ⎥   ⎢   ⎥\n",
       "⎢                    ⎥ = ⎢ 0 ⎥\n",
       "⎢   C₁⋅s⋅v₂ - I_L1   ⎥   ⎢   ⎥\n",
       "⎢                    ⎥   ⎣ 0 ⎦\n",
       "⎣-I_L1⋅L₁⋅s + v₁ - v₂⎦        "
      ]
     },
     "execution_count": 11,
     "metadata": {},
     "output_type": "execute_result"
    }
   ],
   "source": [
    "# Put matrices into SymPy \n",
    "X = Matrix(X)\n",
    "Z = Matrix(Z)\n",
    "\n",
    "NE_sym = Eq(A*X,Z)\n",
    "NE_sym"
   ]
  },
  {
   "cell_type": "code",
   "execution_count": 12,
   "metadata": {},
   "outputs": [
    {
     "data": {
      "image/png": "[encoded data removed]",
      "text/latex": [
       "$\\displaystyle \\left( C_{1}, \\  v_{1}, \\  I_{1}, \\  s, \\  v_{2}, \\  I_{L1}, \\  R_{1}, \\  L_{1}\\right)$"
      ],
      "text/plain": [
       "(C₁, v₁, I₁, s, v₂, I_L1, R₁, L₁)"
      ]
     },
     "execution_count": 12,
     "metadata": {},
     "output_type": "execute_result"
    }
   ],
   "source": [
    "# turn the free symbols into SymPy variables\n",
    "var(str(NE_sym.free_symbols).replace('{','').replace('}',''))"
   ]
  },
  {
   "cell_type": "markdown",
   "metadata": {},
   "source": [
    "## Symbolic solution"
   ]
  },
  {
   "cell_type": "code",
   "execution_count": 13,
   "metadata": {},
   "outputs": [],
   "source": [
    "U_sym = solve(NE_sym,X)"
   ]
  },
  {
   "cell_type": "markdown",
   "metadata": {},
   "source": [
    "Display the symbolic solution"
   ]
  },
  {
   "cell_type": "code",
   "execution_count": 14,
   "metadata": {},
   "outputs": [
    {
     "data": {
      "text/markdown": [
       "$v_{1} = \\frac{- C_{1} I_{1} L_{1} R_{1} s^{2} - I_{1} R_{1}}{C_{1} L_{1} s^{2} + C_{1} R_{1} s + 1}$<br>$v_{2} = - \\frac{I_{1} R_{1}}{C_{1} L_{1} s^{2} + C_{1} R_{1} s + 1}$<br>$I_{L1} = - \\frac{C_{1} I_{1} R_{1} s}{C_{1} L_{1} s^{2} + C_{1} R_{1} s + 1}$<br>"
      ],
      "text/plain": [
       "<IPython.core.display.Markdown object>"
      ]
     },
     "execution_count": 14,
     "metadata": {},
     "output_type": "execute_result"
    }
   ],
   "source": [
    "temp = ''\n",
    "for i in U_sym.keys():\n",
    "    temp += '${:s} = {:s}$<br>'.format(latex(i),latex(U_sym[i]))\n",
    "\n",
    "Markdown(temp)"
   ]
  },
  {
   "cell_type": "markdown",
   "metadata": {},
   "source": [
    "## Construct a dictionary of element values"
   ]
  },
  {
   "cell_type": "code",
   "execution_count": 15,
   "metadata": {},
   "outputs": [
    {
     "data": {
      "image/png": "[encoded data removed]",
      "text/latex": [
       "$\\displaystyle \\left\\{ C_{1} : 0.25, \\  I_{1} : 1.0, \\  L_{1} : 0.025, \\  R_{1} : 0.05\\right\\}$"
      ],
      "text/plain": [
       "{C₁: 0.25, I₁: 1.0, L₁: 0.025, R₁: 0.05}"
      ]
     },
     "execution_count": 15,
     "metadata": {},
     "output_type": "execute_result"
    }
   ],
   "source": [
    "element_values = SymMNA.get_part_values(network_df)\n",
    "element_values"
   ]
  },
  {
   "cell_type": "code",
   "execution_count": 16,
   "metadata": {},
   "outputs": [
    {
     "data": {
      "image/png": "[encoded data removed]",
      "text/latex": [
       "$\\displaystyle \\left\\{ C_{1} : 0.25, \\  I_{1} : 1.0, \\  L_{1} : 0.025, \\  R_{1} : 0.05\\right\\}$"
      ],
      "text/plain": [
       "{C₁: 0.25, I₁: 1.0, L₁: 0.025, R₁: 0.05}"
      ]
     },
     "execution_count": 16,
     "metadata": {},
     "output_type": "execute_result"
    }
   ],
   "source": [
    "element_values"
   ]
  },
  {
   "cell_type": "markdown",
   "metadata": {},
   "source": [
    "## DC operating point\n",
    "Both ?\n",
    "\n",
    "\n",
    "\n",
    "V4 and I2 are active."
   ]
  },
  {
   "cell_type": "code",
   "execution_count": 17,
   "metadata": {},
   "outputs": [
    {
     "data": {
      "text/latex": [
       "$\\displaystyle \\left[\\begin{matrix}I_{L1} + 20.0 v_{1}\\\\- I_{L1}\\\\v_{1} - v_{2}\\end{matrix}\\right] = \\left[\\begin{matrix}-1.0\\\\0\\\\0\\end{matrix}\\right]$"
      ],
      "text/plain": [
       "⎡I_L1 + 20.0⋅v₁⎤   ⎡-1.0⎤\n",
       "⎢              ⎥   ⎢    ⎥\n",
       "⎢    -I_L1     ⎥ = ⎢ 0  ⎥\n",
       "⎢              ⎥   ⎢    ⎥\n",
       "⎣   v₁ - v₂    ⎦   ⎣ 0  ⎦"
      ]
     },
     "execution_count": 17,
     "metadata": {},
     "output_type": "execute_result"
    }
   ],
   "source": [
    "NE = NE_sym.subs(element_values)\n",
    "NE_dc = NE.subs({s:0})\n",
    "NE_dc"
   ]
  },
  {
   "cell_type": "code",
   "execution_count": 18,
   "metadata": {
    "collapsed": false,
    "jupyter": {
     "outputs_hidden": false
    }
   },
   "outputs": [],
   "source": [
    "U_dc = solve(NE_dc,X)"
   ]
  },
  {
   "cell_type": "markdown",
   "metadata": {},
   "source": [
    "Display the numerical solution\n",
    "\n",
    "Six significant digits are displayed so that results can be compared to LTSpice. "
   ]
  },
  {
   "cell_type": "code",
   "execution_count": 19,
   "metadata": {},
   "outputs": [
    {
     "name": "stdout",
     "output_type": "stream",
     "text": [
      "unknown          mag\n",
      "---------  ---------\n",
      "v1         -0.050000\n",
      "v2         -0.050000\n",
      "I_L1        0.000000\n"
     ]
    }
   ],
   "source": [
    "table_header = ['unknown', 'mag']\n",
    "table_row = []\n",
    "\n",
    "for name, value in U_dc.items():\n",
    "    table_row.append([str(name),float(value)])\n",
    "\n",
    "print(tabulate(table_row, headers=table_header,colalign = ('left','decimal'),tablefmt=\"simple\",floatfmt=('5s','.6f')))"
   ]
  },
  {
   "cell_type": "markdown",
   "metadata": {},
   "source": [
    "The node voltages and current through the sources are solved for. The Sympy generated solution matches the LTSpice results:\n",
    "```\n",
    "       --- Operating Point ---\n",
    "\n",
    "V(1):\t -0.05\t voltage\n",
    "V(2):\t -0.05\t voltage\n",
    "I(C1):\t -1.25e-14\t device_current\n",
    "I(L1):\t -1.24345e-14\t device_current\n",
    "I(I1):\t 1\t device_current\n",
    "I(R1):\t -1\t device_current\n",
    "\n",
    "```\n",
    "The results from LTSpice are slightly different in some cases starting at the 2nd decimal place."
   ]
  },
  {
   "cell_type": "markdown",
   "metadata": {},
   "source": [
    "### AC analysis\n",
    "Solve equations for $\\omega$ equal to 1 radian per second, s = 1j.\n",
    "V1 is the AC source, magnitude of 10\n",
    "\n"
   ]
  },
  {
   "cell_type": "code",
   "execution_count": 20,
   "metadata": {},
   "outputs": [
    {
     "data": {
      "text/latex": [
       "$\\displaystyle \\left[\\begin{matrix}I_{L1} + 20.0 v_{1}\\\\- I_{L1} + 0.25 i v_{2}\\\\- 0.025 i I_{L1} + v_{1} - v_{2}\\end{matrix}\\right] = \\left[\\begin{matrix}-1.0\\\\0\\\\0\\end{matrix}\\right]$"
      ],
      "text/plain": [
       "⎡    I_L1 + 20.0⋅v₁     ⎤   ⎡-1.0⎤\n",
       "⎢                       ⎥   ⎢    ⎥\n",
       "⎢   -I_L1 + 0.25⋅ⅈ⋅v₂   ⎥ = ⎢ 0  ⎥\n",
       "⎢                       ⎥   ⎢    ⎥\n",
       "⎣-0.025⋅ⅈ⋅I_L1 + v₁ - v₂⎦   ⎣ 0  ⎦"
      ]
     },
     "execution_count": 20,
     "metadata": {},
     "output_type": "execute_result"
    }
   ],
   "source": [
    "NE = NE_sym.subs(element_values)\n",
    "NE_w1 = NE.subs({s:1j})\n",
    "NE_w1  # display the equations"
   ]
  },
  {
   "cell_type": "code",
   "execution_count": 21,
   "metadata": {},
   "outputs": [],
   "source": [
    "U_w1 = solve(NE_w1,X)"
   ]
  },
  {
   "cell_type": "markdown",
   "metadata": {},
   "source": [
    "Display the numerical solution\n",
    "\n",
    "Six significant digits are displayed so that results can be compared to LTSpice. "
   ]
  },
  {
   "cell_type": "code",
   "execution_count": 22,
   "metadata": {},
   "outputs": [
    {
     "name": "stdout",
     "output_type": "stream",
     "text": [
      "unknown         mag    phase, deg\n",
      "---------  --------  ------------\n",
      "v1         0.049996    179.279336\n",
      "v2         0.050310    179.279336\n",
      "I_L1       0.012578    -90.720664\n"
     ]
    }
   ],
   "source": [
    "table_header = ['unknown', 'mag','phase, deg']\n",
    "table_row = []\n",
    "\n",
    "for name, value in U_w1.items():\n",
    "    table_row.append([str(name),float(abs(value)),float(arg(value)*180/np.pi)])\n",
    "\n",
    "print(tabulate(table_row, headers=table_header,colalign = ('left','decimal','decimal'),tablefmt=\"simple\",floatfmt=('5s','.6f','.6f')))"
   ]
  },
  {
   "cell_type": "markdown",
   "metadata": {},
   "source": [
    "\n",
    "```\n",
    "       --- AC Analysis ---\n",
    "\n",
    "frequency:\t0.159155\tHz\n",
    "V(1):\tmag:   0.049996 phase:    179.279° \tvoltage\n",
    "V(2):\tmag:  0.0503105 phase:    179.279° \tvoltage\n",
    "I(C1):\tmag:  0.0125776 phase:   -90.7207° \tdevice_current\n",
    "I(L1):\tmag:  0.0125776 phase:   -90.7207° \tdevice_current\n",
    "I(I1):\tmag:          1 phase:          0° \tdevice_current\n",
    "I(R1):\tmag:   0.999921 phase:    179.279° \tdevice_current\n",
    "\n",
    "```\n",
    "\n",
    "### AC Sweep\n",
    "Looking at node 21 voltage and comparing the results with those obtained from LTSpice. The frequency sweep is from 0.01 Hz to 1 Hz."
   ]
  },
  {
   "cell_type": "code",
   "execution_count": 23,
   "metadata": {},
   "outputs": [
    {
     "data": {
      "text/latex": [
       "$\\displaystyle \\left[\\begin{matrix}I_{L1} + 20.0 v_{1}\\\\- I_{L1} + 0.25 s v_{2}\\\\- 0.025 I_{L1} s + v_{1} - v_{2}\\end{matrix}\\right] = \\left[\\begin{matrix}-1.0\\\\0\\\\0\\end{matrix}\\right]$"
      ],
      "text/plain": [
       "⎡    I_L1 + 20.0⋅v₁     ⎤   ⎡-1.0⎤\n",
       "⎢                       ⎥   ⎢    ⎥\n",
       "⎢   -I_L1 + 0.25⋅s⋅v₂   ⎥ = ⎢ 0  ⎥\n",
       "⎢                       ⎥   ⎢    ⎥\n",
       "⎣-0.025⋅I_L1⋅s + v₁ - v₂⎦   ⎣ 0  ⎦"
      ]
     },
     "execution_count": 23,
     "metadata": {},
     "output_type": "execute_result"
    }
   ],
   "source": [
    "NE = NE_sym.subs(element_values)\n",
    "NE"
   ]
  },
  {
   "cell_type": "code",
   "execution_count": 24,
   "metadata": {},
   "outputs": [],
   "source": [
    "U_ac = solve(NE,X)"
   ]
  },
  {
   "cell_type": "markdown",
   "metadata": {},
   "source": [
    "### Plot the voltage at node 2"
   ]
  },
  {
   "cell_type": "code",
   "execution_count": 25,
   "metadata": {},
   "outputs": [],
   "source": [
    "H = U_ac[v2]"
   ]
  },
  {
   "cell_type": "code",
   "execution_count": 26,
   "metadata": {},
   "outputs": [
    {
     "data": {
      "image/png": "[encoded data removed]",
      "text/latex": [
       "$\\displaystyle - \\frac{8.0}{s^{2} + 2.0 s + 160.0}$"
      ],
      "text/plain": [
       "      -8.0        \n",
       "──────────────────\n",
       " 2                \n",
       "s  + 2.0⋅s + 160.0"
      ]
     },
     "execution_count": 26,
     "metadata": {},
     "output_type": "execute_result"
    }
   ],
   "source": [
    "H"
   ]
  },
  {
   "cell_type": "code",
   "execution_count": 27,
   "metadata": {
    "collapsed": false,
    "jupyter": {
     "outputs_hidden": false
    }
   },
   "outputs": [],
   "source": [
    "num, denom = fraction(H) #returns numerator and denominator\n",
    "\n",
    "# convert symbolic to numpy polynomial\n",
    "a = np.array(Poly(num, s).all_coeffs(), dtype=float)\n",
    "b = np.array(Poly(denom, s).all_coeffs(), dtype=float)\n",
    "system = (a, b)"
   ]
  },
  {
   "cell_type": "code",
   "execution_count": 28,
   "metadata": {
    "collapsed": false,
    "jupyter": {
     "outputs_hidden": false
    }
   },
   "outputs": [],
   "source": [
    "x = np.logspace(-2, 2, 400, endpoint=False)*2*np.pi\n",
    "w, mag, phase = signal.bode(system, w=x) # returns: rad/s, mag in dB, phase in deg"
   ]
  },
  {
   "cell_type": "markdown",
   "metadata": {},
   "source": [
    "Load the csv file of node 10 voltage over the sweep range and plot along with the results obtained from SymPy."
   ]
  },
  {
   "cell_type": "code",
   "execution_count": 29,
   "metadata": {},
   "outputs": [],
   "source": [
    "fn = 'test_14.csv' # data from LTSpice\n",
    "LTSpice_data = np.genfromtxt(fn, delimiter=',',skip_header=1)"
   ]
  },
  {
   "cell_type": "code",
   "execution_count": 30,
   "metadata": {},
   "outputs": [],
   "source": [
    "# initaliaze some empty arrays\n",
    "frequency = np.zeros(len(LTSpice_data))\n",
    "V_1 = np.zeros(len(LTSpice_data)).astype(complex)\n",
    "V_2 = np.zeros(len(LTSpice_data)).astype(complex)"
   ]
  },
  {
   "cell_type": "code",
   "execution_count": 31,
   "metadata": {},
   "outputs": [],
   "source": [
    "# convert the csv data to complex numbers and store in the array\n",
    "for i in range(len(LTSpice_data)):\n",
    "    frequency[i] = LTSpice_data[i][0]\n",
    "    V_1[i] = LTSpice_data[i][1] + LTSpice_data[i][2]*1j\n",
    "    V_2[i] = LTSpice_data[i][3] + LTSpice_data[i][4]*1j"
   ]
  },
  {
   "cell_type": "markdown",
   "metadata": {},
   "source": [
    "Plot the results.  \n",
    "Using\n",
    "\n",
    "> np.unwrap(2 * phase) / 2) \n",
    "\n",
    "to keep the pahse plots the same."
   ]
  },
  {
   "cell_type": "code",
   "execution_count": 32,
   "metadata": {},
   "outputs": [
    {
     "data": {
      "image/png": "[encoded data removed]",
      "text/plain": [
       "<Figure size 640x480 with 2 Axes>"
      ]
     },
     "metadata": {},
     "output_type": "display_data"
    }
   ],
   "source": [
    "fig, ax1 = plt.subplots()\n",
    "ax1.set_ylabel('magnitude, dB')\n",
    "ax1.set_xlabel('frequency, Hz')\n",
    "\n",
    "plt.semilogx(frequency[0:-1], 20*np.log10(np.abs(V_2)[0:-1]),'-r')    # Bode magnitude plot\n",
    "plt.semilogx(w/(2*np.pi), mag,'-b')    # Bode magnitude plot\n",
    "\n",
    "ax1.tick_params(axis='y')\n",
    "#ax1.set_ylim((-30,20))\n",
    "plt.grid()\n",
    "\n",
    "# instantiate a second y-axes that shares the same x-axis\n",
    "ax2 = ax1.twinx()\n",
    "color = 'tab:blue'\n",
    "\n",
    "plt.semilogx(frequency[0:-1], np.unwrap(2*np.angle(V_2)[0:-1]/2) *180/np.pi,':',color=color)  # Bode phase plot\n",
    "plt.semilogx(w/(2*np.pi), phase,':',color='tab:red')  # Bode phase plot\n",
    "\n",
    "ax2.set_ylabel('phase, deg',color=color)\n",
    "ax2.tick_params(axis='y', labelcolor=color)\n",
    "#ax2.set_ylim((-5,25))\n",
    "\n",
    "plt.title('Magnitude and phase response')\n",
    "plt.show()"
   ]
  },
  {
   "cell_type": "code",
   "execution_count": 33,
   "metadata": {
    "tags": []
   },
   "outputs": [
    {
     "data": {
      "image/png": "[encoded data removed]",
      "text/plain": [
       "<Figure size 640x480 with 2 Axes>"
      ]
     },
     "metadata": {},
     "output_type": "display_data"
    }
   ],
   "source": [
    "fig, ax1 = plt.subplots()\n",
    "ax1.set_ylabel('magnitude difference')\n",
    "ax1.set_xlabel('frequency, Hz')\n",
    "\n",
    "plt.semilogx(frequency[0:-1], np.abs(V_2[0:-1]) - 10**(mag/20),'-k')\n",
    "#plt.semilogx(frequency[0:-1], 20*np.log10(np.abs(V_2[0:-1]))-mag,'-k')\n",
    "#plt.semilogx(w/(2*np.pi), mag_v3,'-b')    # Bode magnitude plot\n",
    "\n",
    "ax1.tick_params(axis='y')\n",
    "#ax1.set_ylim((-30,20))\n",
    "plt.grid()\n",
    "\n",
    "# instantiate a second y-axes that shares the same x-axis\n",
    "ax2 = ax1.twinx()\n",
    "color = 'tab:blue'\n",
    "\n",
    "plt.semilogx(frequency[0:-1], np.angle(V_2[0:-1])*180/np.pi-phase,':',color=color,label='phase')  # Bode phase plot\n",
    "#plt.semilogx(w/(2*np.pi), phase_v3,':',color='tab:red')  # Bode phase plot\n",
    "\n",
    "ax2.set_ylabel('phase difference, deg',color=color)\n",
    "ax2.tick_params(axis='y', labelcolor=color)\n",
    "#ax2.set_ylim((-5,25))\n",
    "\n",
    "ax2.plot(np.NaN, np.NaN, color='k', label='magnitude')\n",
    "\n",
    "plt.legend()\n",
    "plt.title('Difference between LTSpice and Python results')\n",
    "plt.show()"
   ]
  },
  {
   "cell_type": "markdown",
   "metadata": {},
   "source": [
    "The SymPy and LTSpice results have small error. "
   ]
  },
  {
   "cell_type": "code",
   "execution_count": null,
   "metadata": {},
   "outputs": [],
   "source": []
  }
 ],
 "metadata": {
  "kernelspec": {
   "display_name": "Python 3 (ipykernel)",
   "language": "python",
   "name": "python3"
  },
  "language_info": {
   "codemirror_mode": {
    "name": "ipython",
    "version": 3
   },
   "file_extension": ".py",
   "mimetype": "text/x-python",
   "name": "python",
   "nbconvert_exporter": "python",
   "pygments_lexer": "ipython3",
   "version": "3.10.9"
  }
 },
 "nbformat": 4,
 "nbformat_minor": 4
}
