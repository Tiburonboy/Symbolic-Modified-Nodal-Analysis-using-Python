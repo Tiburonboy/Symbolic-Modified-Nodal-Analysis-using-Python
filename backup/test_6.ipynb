{
 "cells": [
  {
   "cell_type": "raw",
   "metadata": {},
   "source": [
    "---\n",
    "title:\n",
    "format: \n",
    "    html:\n",
    "        code-fold: false\n",
    "        embed-resources: false\n",
    "        code-tools: true\n",
    "        number-sections: true\n",
    "jupyter: python3\n",
    "---"
   ]
  },
  {
   "cell_type": "markdown",
   "metadata": {
    "tags": []
   },
   "source": [
    "# Test 6 {#sec-test_6}\n",
    "Test circuit number 6 is similar to test circuit number 5, but with the addition of coupled inductors. This test circuit includes all the element types except for Op Amps. V4 is the independent voltage source and is set to 10 volts DC when calculating the DC operating point and to 20 volts AC for the AC analysis. \n",
    "\n",
    "![Test #6 circuit](test_6.png){#fig-test_6}\n",
    "\n",
    "```\n",
    "V4 1 2 AC 10\n",
    "I2 3 4 5\n",
    "F1 5 9 V1 5\n",
    "E1 12 3 10 1 3\n",
    "G1 7 10 9 4 2\n",
    "H1 2 12 V2 2\n",
    "R3 5 1 10\n",
    "R4 3 7 1\n",
    "R10 8 0 10\n",
    "R14 10 9 10\n",
    "R2 3 5 5\n",
    "R7 8 7 6\n",
    "R11 10 9 5\n",
    "R12 0 10 9\n",
    "R16 12 11 10\n",
    "R8 3 8 5\n",
    "R17 2 6 8\n",
    "V1 6 3 0\n",
    "V2 13 5 0\n",
    "R18 12 13 4\n",
    "C1 7 1 2\n",
    "C2 1 9 5\n",
    "L1 1 5 3 Rser=0\n",
    "L2 0 11 8 Rser=0\n",
    "L3 9 11 8 Rser=0\n",
    "L4 4 8 10 Rser=0\n",
    "K1 L3 L4 0.5\n",
    "```"
   ]
  },
  {
   "cell_type": "code",
   "execution_count": 56,
   "metadata": {
    "collapsed": false,
    "jupyter": {
     "outputs_hidden": false
    }
   },
   "outputs": [],
   "source": [
    "#import os\n",
    "from sympy import *\n",
    "import numpy as np\n",
    "from tabulate import tabulate\n",
    "from scipy import signal\n",
    "import matplotlib.pyplot as plt\n",
    "import pandas as pd\n",
    "import SymMNA\n",
    "from IPython.display import display, Markdown, Math, Latex\n",
    "init_printing()"
   ]
  },
  {
   "cell_type": "markdown",
   "metadata": {
    "tags": []
   },
   "source": [
    "## Load the net list"
   ]
  },
  {
   "cell_type": "code",
   "execution_count": 57,
   "metadata": {},
   "outputs": [],
   "source": [
    "net_list = '''\n",
    "V4 1 2 20\n",
    "I2 3 4 5\n",
    "F1 5 9 V1 5\n",
    "E1 12 3 10 1 3\n",
    "G1 7 10 9 4 2\n",
    "H1 2 12 V2 2\n",
    "R3 5 1 10\n",
    "R4 3 7 1\n",
    "R10 8 0 10\n",
    "R14 10 9 10\n",
    "R2 3 5 5\n",
    "R7 8 7 6\n",
    "R11 10 9 5\n",
    "R12 0 10 9\n",
    "R16 12 11 10\n",
    "R8 3 8 5\n",
    "R17 2 6 8\n",
    "V1 6 3 0\n",
    "V2 13 5 0\n",
    "R18 12 13 4\n",
    "C1 7 1 2\n",
    "C2 1 9 5\n",
    "L1 1 5 3\n",
    "L2 0 11 8\n",
    "L3 9 11 8\n",
    "L4 4 8 10\n",
    "K1 L3 L4 0.5\n",
    "'''"
   ]
  },
  {
   "cell_type": "markdown",
   "metadata": {},
   "source": [
    "## Call the symbolic modified nodal analysis function"
   ]
  },
  {
   "cell_type": "code",
   "execution_count": 58,
   "metadata": {},
   "outputs": [],
   "source": [
    "report, network_df, i_unk_df, A, X, Z = SymMNA.smna(net_list)"
   ]
  },
  {
   "cell_type": "markdown",
   "metadata": {},
   "source": [
    "Display the equations"
   ]
  },
  {
   "cell_type": "code",
   "execution_count": 59,
   "metadata": {},
   "outputs": [
    {
     "data": {
      "text/markdown": [
       "$- C_{1} s v_{7} - C_{2} s v_{9} + I_{L1} + I_{V4} + v_{1} \\left(C_{1} s + C_{2} s + \\frac{1}{R_{3}}\\right) - \\frac{v_{5}}{R_{3}} = 0$<br>$I_{H1} - I_{V4} + \\frac{v_{2}}{R_{17}} - \\frac{v_{6}}{R_{17}} = 0$<br>$- I_{Ea1} - I_{V1} + v_{3} \\cdot \\left(\\frac{1}{R_{8}} + \\frac{1}{R_{4}} + \\frac{1}{R_{2}}\\right) - \\frac{v_{8}}{R_{8}} - \\frac{v_{7}}{R_{4}} - \\frac{v_{5}}{R_{2}} = - I_{2}$<br>$I_{L4} = I_{2}$<br>$I_{F1} - I_{L1} - I_{V2} + v_{5} \\cdot \\left(\\frac{1}{R_{3}} + \\frac{1}{R_{2}}\\right) - \\frac{v_{1}}{R_{3}} - \\frac{v_{3}}{R_{2}} = 0$<br>$I_{V1} - \\frac{v_{2}}{R_{17}} + \\frac{v_{6}}{R_{17}} = 0$<br>$- C_{1} s v_{1} - g_{1} v_{4} + g_{1} v_{9} + v_{7} \\left(C_{1} s + \\frac{1}{R_{7}} + \\frac{1}{R_{4}}\\right) - \\frac{v_{8}}{R_{7}} - \\frac{v_{3}}{R_{4}} = 0$<br>$- I_{L4} + v_{8} \\cdot \\left(\\frac{1}{R_{8}} + \\frac{1}{R_{7}} + \\frac{1}{R_{10}}\\right) - \\frac{v_{3}}{R_{8}} - \\frac{v_{7}}{R_{7}} = 0$<br>$- C_{2} s v_{1} - I_{F1} + I_{L3} + v_{10} \\left(- \\frac{1}{R_{14}} - \\frac{1}{R_{11}}\\right) + v_{9} \\left(C_{2} s + \\frac{1}{R_{14}} + \\frac{1}{R_{11}}\\right) = 0$<br>$g_{1} v_{4} + v_{10} \\cdot \\left(\\frac{1}{R_{14}} + \\frac{1}{R_{12}} + \\frac{1}{R_{11}}\\right) + v_{9} \\left(- g_{1} - \\frac{1}{R_{14}} - \\frac{1}{R_{11}}\\right) = 0$<br>$- I_{L2} - I_{L3} + \\frac{v_{11}}{R_{16}} - \\frac{v_{12}}{R_{16}} = 0$<br>$I_{Ea1} - I_{H1} + v_{12} \\cdot \\left(\\frac{1}{R_{18}} + \\frac{1}{R_{16}}\\right) - \\frac{v_{13}}{R_{18}} - \\frac{v_{11}}{R_{16}} = 0$<br>$I_{V2} - \\frac{v_{12}}{R_{18}} + \\frac{v_{13}}{R_{18}} = 0$<br>$v_{1} - v_{2} = V_{4}$<br>$- v_{3} + v_{6} = V_{1}$<br>$v_{13} - v_{5} = V_{2}$<br>$I_{F1} - I_{V1} f_{1} = 0$<br>$ea_{1} v_{1} - ea_{1} v_{10} + v_{12} - v_{3} = 0$<br>$- I_{V2} h_{1} - v_{12} + v_{2} = 0$<br>$- I_{L1} L_{1} s + v_{1} - v_{5} = 0$<br>$- I_{L2} L_{2} s - v_{11} = 0$<br>$- I_{L3} L_{3} s - I_{L4} M_{1} s - v_{11} + v_{9} = 0$<br>$- I_{L3} M_{1} s - I_{L4} L_{4} s + v_{4} - v_{8} = 0$<br>"
      ],
      "text/plain": [
       "<IPython.core.display.Markdown object>"
      ]
     },
     "execution_count": 59,
     "metadata": {},
     "output_type": "execute_result"
    }
   ],
   "source": [
    "# reform X and Z into Matrix type for printing\n",
    "Xp = Matrix(X)\n",
    "Zp = Matrix(Z)\n",
    "temp = ''\n",
    "for i in range(len(X)):\n",
    "    temp += '${:s}$<br>'.format(latex(Eq((A*Xp)[i:i+1][0],Zp[i])))\n",
    "\n",
    "Markdown(temp)"
   ]
  },
  {
   "cell_type": "markdown",
   "metadata": {},
   "source": [
    "### Netlist statistics"
   ]
  },
  {
   "cell_type": "code",
   "execution_count": 60,
   "metadata": {},
   "outputs": [
    {
     "name": "stdout",
     "output_type": "stream",
     "text": [
      "Net list report\n",
      "number of lines in netlist: 27\n",
      "number of branches: 26\n",
      "number of nodes: 13\n",
      "number of unknown currents: 10\n",
      "number of RLC (passive components): 18\n",
      "number of inductors: 4\n",
      "number of independent voltage sources: 3\n",
      "number of independent current sources: 1\n",
      "number of op amps: 0\n",
      "number of E - VCVS: 1\n",
      "number of G - VCCS: 1\n",
      "number of F - CCCS: 1\n",
      "number of H - CCVS: 1\n",
      "number of K - Coupled inductors: 1\n",
      "\n"
     ]
    }
   ],
   "source": [
    "print(report)"
   ]
  },
  {
   "cell_type": "markdown",
   "metadata": {},
   "source": [
    "### Connectivity Matrix"
   ]
  },
  {
   "cell_type": "code",
   "execution_count": 61,
   "metadata": {},
   "outputs": [
    {
     "data": {
      "text/latex": [
       "$\\displaystyle \\left[\\begin{array}{ccccccccccccccccccccccc}C_{1} s + C_{2} s + \\frac{1}{R_{3}} & 0 & 0 & 0 & - \\frac{1}{R_{3}} & 0 & - C_{1} s & 0 & - C_{2} s & 0 & 0 & 0 & 0 & 1 & 0 & 0 & 0 & 0 & 0 & 1 & 0 & 0 & 0\\\\0 & \\frac{1}{R_{17}} & 0 & 0 & 0 & - \\frac{1}{R_{17}} & 0 & 0 & 0 & 0 & 0 & 0 & 0 & -1 & 0 & 0 & 0 & 0 & 1 & 0 & 0 & 0 & 0\\\\0 & 0 & \\frac{1}{R_{8}} + \\frac{1}{R_{4}} + \\frac{1}{R_{2}} & 0 & - \\frac{1}{R_{2}} & 0 & - \\frac{1}{R_{4}} & - \\frac{1}{R_{8}} & 0 & 0 & 0 & 0 & 0 & 0 & -1 & 0 & 0 & -1 & 0 & 0 & 0 & 0 & 0\\\\0 & 0 & 0 & 0 & 0 & 0 & 0 & 0 & 0 & 0 & 0 & 0 & 0 & 0 & 0 & 0 & 0 & 0 & 0 & 0 & 0 & 0 & 1\\\\- \\frac{1}{R_{3}} & 0 & - \\frac{1}{R_{2}} & 0 & \\frac{1}{R_{3}} + \\frac{1}{R_{2}} & 0 & 0 & 0 & 0 & 0 & 0 & 0 & 0 & 0 & 0 & -1 & 1 & 0 & 0 & -1 & 0 & 0 & 0\\\\0 & - \\frac{1}{R_{17}} & 0 & 0 & 0 & \\frac{1}{R_{17}} & 0 & 0 & 0 & 0 & 0 & 0 & 0 & 0 & 1 & 0 & 0 & 0 & 0 & 0 & 0 & 0 & 0\\\\- C_{1} s & 0 & - \\frac{1}{R_{4}} & - g_{1} & 0 & 0 & C_{1} s + \\frac{1}{R_{7}} + \\frac{1}{R_{4}} & - \\frac{1}{R_{7}} & g_{1} & 0 & 0 & 0 & 0 & 0 & 0 & 0 & 0 & 0 & 0 & 0 & 0 & 0 & 0\\\\0 & 0 & - \\frac{1}{R_{8}} & 0 & 0 & 0 & - \\frac{1}{R_{7}} & \\frac{1}{R_{8}} + \\frac{1}{R_{7}} + \\frac{1}{R_{10}} & 0 & 0 & 0 & 0 & 0 & 0 & 0 & 0 & 0 & 0 & 0 & 0 & 0 & 0 & -1\\\\- C_{2} s & 0 & 0 & 0 & 0 & 0 & 0 & 0 & C_{2} s + \\frac{1}{R_{14}} + \\frac{1}{R_{11}} & - \\frac{1}{R_{14}} - \\frac{1}{R_{11}} & 0 & 0 & 0 & 0 & 0 & 0 & -1 & 0 & 0 & 0 & 0 & 1 & 0\\\\0 & 0 & 0 & g_{1} & 0 & 0 & 0 & 0 & - g_{1} - \\frac{1}{R_{14}} - \\frac{1}{R_{11}} & \\frac{1}{R_{14}} + \\frac{1}{R_{12}} + \\frac{1}{R_{11}} & 0 & 0 & 0 & 0 & 0 & 0 & 0 & 0 & 0 & 0 & 0 & 0 & 0\\\\0 & 0 & 0 & 0 & 0 & 0 & 0 & 0 & 0 & 0 & \\frac{1}{R_{16}} & - \\frac{1}{R_{16}} & 0 & 0 & 0 & 0 & 0 & 0 & 0 & 0 & -1 & -1 & 0\\\\0 & 0 & 0 & 0 & 0 & 0 & 0 & 0 & 0 & 0 & - \\frac{1}{R_{16}} & \\frac{1}{R_{18}} + \\frac{1}{R_{16}} & - \\frac{1}{R_{18}} & 0 & 0 & 0 & 0 & 1 & -1 & 0 & 0 & 0 & 0\\\\0 & 0 & 0 & 0 & 0 & 0 & 0 & 0 & 0 & 0 & 0 & - \\frac{1}{R_{18}} & \\frac{1}{R_{18}} & 0 & 0 & 1 & 0 & 0 & 0 & 0 & 0 & 0 & 0\\\\1 & -1 & 0 & 0 & 0 & 0 & 0 & 0 & 0 & 0 & 0 & 0 & 0 & 0 & 0 & 0 & 0 & 0 & 0 & 0 & 0 & 0 & 0\\\\0 & 0 & -1 & 0 & 0 & 1 & 0 & 0 & 0 & 0 & 0 & 0 & 0 & 0 & 0 & 0 & 0 & 0 & 0 & 0 & 0 & 0 & 0\\\\0 & 0 & 0 & 0 & -1 & 0 & 0 & 0 & 0 & 0 & 0 & 0 & 1 & 0 & 0 & 0 & 0 & 0 & 0 & 0 & 0 & 0 & 0\\\\0 & 0 & 0 & 0 & 0 & 0 & 0 & 0 & 0 & 0 & 0 & 0 & 0 & 0 & - f_{1} & 0 & 1 & 0 & 0 & 0 & 0 & 0 & 0\\\\ea_{1} & 0 & -1 & 0 & 0 & 0 & 0 & 0 & 0 & - ea_{1} & 0 & 1 & 0 & 0 & 0 & 0 & 0 & 0 & 0 & 0 & 0 & 0 & 0\\\\0 & 1 & 0 & 0 & 0 & 0 & 0 & 0 & 0 & 0 & 0 & -1 & 0 & 0 & 0 & - h_{1} & 0 & 0 & 0 & 0 & 0 & 0 & 0\\\\1 & 0 & 0 & 0 & -1 & 0 & 0 & 0 & 0 & 0 & 0 & 0 & 0 & 0 & 0 & 0 & 0 & 0 & 0 & - L_{1} s & 0 & 0 & 0\\\\0 & 0 & 0 & 0 & 0 & 0 & 0 & 0 & 0 & 0 & -1 & 0 & 0 & 0 & 0 & 0 & 0 & 0 & 0 & 0 & - L_{2} s & 0 & 0\\\\0 & 0 & 0 & 0 & 0 & 0 & 0 & 0 & 1 & 0 & -1 & 0 & 0 & 0 & 0 & 0 & 0 & 0 & 0 & 0 & 0 & - L_{3} s & - M_{1} s\\\\0 & 0 & 0 & 1 & 0 & 0 & 0 & -1 & 0 & 0 & 0 & 0 & 0 & 0 & 0 & 0 & 0 & 0 & 0 & 0 & 0 & - M_{1} s & - L_{4} s\\end{array}\\right]$"
      ],
      "text/plain": [
       "⎡              1                             -1                               \n",
       "⎢C₁⋅s + C₂⋅s + ──   0        0         0     ───     0       -C₁⋅s            \n",
       "⎢              R₃                             R₃                              \n",
       "⎢                                                                             \n",
       "⎢                   1                               -1                        \n",
       "⎢       0          ───       0         0      0     ───        0              \n",
       "⎢                  R₁₇                              R₁₇                       \n",
       "⎢                                                                             \n",
       "⎢                       1    1    1          -1               -1              \n",
       "⎢       0           0   ── + ── + ──   0     ───     0        ───             \n",
       "⎢                       R₈   R₄   R₂          R₂               R₄             \n",
       "⎢                                                                             \n",
       "⎢       0           0        0         0      0      0         0              \n",
       "⎢                                                                             \n",
       "⎢      -1                   -1             1    1                             \n",
       "⎢      ───          0       ───        0   ── + ──   0         0              \n",
       "⎢       R₃                   R₂            R₃   R₂                            \n",
       "⎢                                                                             \n",
       "⎢                  -1                                1                        \n",
       "⎢       0          ───       0         0      0     ───        0              \n",
       "⎢                  R₁₇                              R₁₇                       \n",
       "⎢                                                                             \n",
       "⎢                           -1                                  1    1        \n",
       "⎢     -C₁⋅s         0       ───       -g₁     0      0   C₁⋅s + ── + ──       \n",
       "⎢                            R₄                                 R₇   R₄       \n",
       "⎢                                                                             \n",
       "⎢                           -1                                -1         1    \n",
       "⎢       0           0       ───        0      0      0        ───        ── + \n",
       "⎢                            R₈                                R₇        R₈   \n",
       "⎢                                                                             \n",
       "⎢                                                                             \n",
       "⎢     -C₂⋅s         0        0         0      0      0         0              \n",
       "⎢                                                                             \n",
       "⎢                                                                             \n",
       "⎢                                                                             \n",
       "⎢       0           0        0        g₁      0      0         0              \n",
       "⎢                                                                             \n",
       "⎢                                                                             \n",
       "⎢                                                                             \n",
       "⎢       0           0        0         0      0      0         0              \n",
       "⎢                                                                             \n",
       "⎢                                                                             \n",
       "⎢                                                                             \n",
       "⎢       0           0        0         0      0      0         0              \n",
       "⎢                                                                             \n",
       "⎢                                                                             \n",
       "⎢                                                                             \n",
       "⎢       0           0        0         0      0      0         0              \n",
       "⎢                                                                             \n",
       "⎢                                                                             \n",
       "⎢       1          -1        0         0      0      0         0              \n",
       "⎢                                                                             \n",
       "⎢       0           0        -1        0      0      1         0              \n",
       "⎢                                                                             \n",
       "⎢       0           0        0         0     -1      0         0              \n",
       "⎢                                                                             \n",
       "⎢       0           0        0         0      0      0         0              \n",
       "⎢                                                                             \n",
       "⎢      ea₁          0        -1        0      0      0         0              \n",
       "⎢                                                                             \n",
       "⎢       0           1        0         0      0      0         0              \n",
       "⎢                                                                             \n",
       "⎢       1           0        0         0     -1      0         0              \n",
       "⎢                                                                             \n",
       "⎢       0           0        0         0      0      0         0              \n",
       "⎢                                                                             \n",
       "⎢       0           0        0         0      0      0         0              \n",
       "⎢                                                                             \n",
       "⎣       0           0        0         1      0      0         0              \n",
       "\n",
       "                                                                              \n",
       " 0             -C₂⋅s               0          0       0       0   1    0    0 \n",
       "                                                                              \n",
       "                                                                              \n",
       "                                                                              \n",
       " 0               0                 0          0       0       0   -1   0    0 \n",
       "                                                                              \n",
       "                                                                              \n",
       "-1                                                                            \n",
       "───              0                 0          0       0       0   0   -1    0 \n",
       " R₈                                                                           \n",
       "                                                                              \n",
       " 0               0                 0          0       0       0   0    0    0 \n",
       "                                                                              \n",
       "                                                                              \n",
       " 0               0                 0          0       0       0   0    0   -1 \n",
       "                                                                              \n",
       "                                                                              \n",
       "                                                                              \n",
       " 0               0                 0          0       0       0   0    1    0 \n",
       "                                                                              \n",
       "                                                                              \n",
       "-1                                                                            \n",
       "───              g₁                0          0       0       0   0    0    0 \n",
       " R₇                                                                           \n",
       "                                                                              \n",
       "1     1                                                                       \n",
       "── + ───         0                 0          0       0       0   0    0    0 \n",
       "R₇   R₁₀                                                                      \n",
       "                                                                              \n",
       "                  1     1        1     1                                      \n",
       " 0        C₂⋅s + ─── + ───    - ─── - ───     0       0       0   0    0    0 \n",
       "                 R₁₄   R₁₁      R₁₄   R₁₁                                     \n",
       "                                                                              \n",
       "                 1     1     1     1     1                                    \n",
       " 0        -g₁ - ─── - ───   ─── + ─── + ───   0       0       0   0    0    0 \n",
       "                R₁₄   R₁₁   R₁₄   R₁₂   R₁₁                                   \n",
       "                                                                              \n",
       "                                              1      -1                       \n",
       " 0               0                 0         ───     ───      0   0    0    0 \n",
       "                                             R₁₆     R₁₆                      \n",
       "                                                                              \n",
       "                                             -1    1     1   -1               \n",
       " 0               0                 0         ───  ─── + ───  ───  0    0    0 \n",
       "                                             R₁₆  R₁₈   R₁₆  R₁₈              \n",
       "                                                                              \n",
       "                                                     -1       1               \n",
       " 0               0                 0          0      ───     ───  0    0    1 \n",
       "                                                     R₁₈     R₁₈              \n",
       "                                                                              \n",
       " 0               0                 0          0       0       0   0    0    0 \n",
       "                                                                              \n",
       " 0               0                 0          0       0       0   0    0    0 \n",
       "                                                                              \n",
       " 0               0                 0          0       0       1   0    0    0 \n",
       "                                                                              \n",
       " 0               0                 0          0       0       0   0   -f₁   0 \n",
       "                                                                              \n",
       " 0               0               -ea₁         0       1       0   0    0    0 \n",
       "                                                                              \n",
       " 0               0                 0          0      -1       0   0    0   -h₁\n",
       "                                                                              \n",
       " 0               0                 0          0       0       0   0    0    0 \n",
       "                                                                              \n",
       " 0               0                 0         -1       0       0   0    0    0 \n",
       "                                                                              \n",
       " 0               1                 0         -1       0       0   0    0    0 \n",
       "                                                                              \n",
       "-1               0                 0          0       0       0   0    0    0 \n",
       "\n",
       "                                        ⎤\n",
       "  0   0   0     1      0      0      0  ⎥\n",
       "                                        ⎥\n",
       "                                        ⎥\n",
       "                                        ⎥\n",
       "  0   0   1     0      0      0      0  ⎥\n",
       "                                        ⎥\n",
       "                                        ⎥\n",
       "                                        ⎥\n",
       "  0   -1  0     0      0      0      0  ⎥\n",
       "                                        ⎥\n",
       "                                        ⎥\n",
       "  0   0   0     0      0      0      1  ⎥\n",
       "                                        ⎥\n",
       "                                        ⎥\n",
       "  1   0   0    -1      0      0      0  ⎥\n",
       "                                        ⎥\n",
       "                                        ⎥\n",
       "                                        ⎥\n",
       "  0   0   0     0      0      0      0  ⎥\n",
       "                                        ⎥\n",
       "                                        ⎥\n",
       "                                        ⎥\n",
       "  0   0   0     0      0      0      0  ⎥\n",
       "                                        ⎥\n",
       "                                        ⎥\n",
       "                                        ⎥\n",
       "  0   0   0     0      0      0     -1  ⎥\n",
       "                                        ⎥\n",
       "                                        ⎥\n",
       "                                        ⎥\n",
       "  -1  0   0     0      0      1      0  ⎥\n",
       "                                        ⎥\n",
       "                                        ⎥\n",
       "                                        ⎥\n",
       "  0   0   0     0      0      0      0  ⎥\n",
       "                                        ⎥\n",
       "                                        ⎥\n",
       "                                        ⎥\n",
       "  0   0   0     0     -1     -1      0  ⎥\n",
       "                                        ⎥\n",
       "                                        ⎥\n",
       "                                        ⎥\n",
       "  0   1   -1    0      0      0      0  ⎥\n",
       "                                        ⎥\n",
       "                                        ⎥\n",
       "                                        ⎥\n",
       "  0   0   0     0      0      0      0  ⎥\n",
       "                                        ⎥\n",
       "                                        ⎥\n",
       "  0   0   0     0      0      0      0  ⎥\n",
       "                                        ⎥\n",
       "  0   0   0     0      0      0      0  ⎥\n",
       "                                        ⎥\n",
       "  0   0   0     0      0      0      0  ⎥\n",
       "                                        ⎥\n",
       "  1   0   0     0      0      0      0  ⎥\n",
       "                                        ⎥\n",
       "  0   0   0     0      0      0      0  ⎥\n",
       "                                        ⎥\n",
       "  0   0   0     0      0      0      0  ⎥\n",
       "                                        ⎥\n",
       "  0   0   0   -L₁⋅s    0      0      0  ⎥\n",
       "                                        ⎥\n",
       "  0   0   0     0    -L₂⋅s    0      0  ⎥\n",
       "                                        ⎥\n",
       "  0   0   0     0      0    -L₃⋅s  -M₁⋅s⎥\n",
       "                                        ⎥\n",
       "  0   0   0     0      0    -M₁⋅s  -L₄⋅s⎦"
      ]
     },
     "execution_count": 61,
     "metadata": {},
     "output_type": "execute_result"
    }
   ],
   "source": [
    "A"
   ]
  },
  {
   "cell_type": "markdown",
   "metadata": {},
   "source": [
    "### Unknown voltages and currents"
   ]
  },
  {
   "cell_type": "code",
   "execution_count": 62,
   "metadata": {},
   "outputs": [
    {
     "data": {
      "image/png": "[encoded data removed]",
      "text/latex": [
       "$\\displaystyle \\left[ v_{1}, \\  v_{2}, \\  v_{3}, \\  v_{4}, \\  v_{5}, \\  v_{6}, \\  v_{7}, \\  v_{8}, \\  v_{9}, \\  v_{10}, \\  v_{11}, \\  v_{12}, \\  v_{13}, \\  I_{V4}, \\  I_{V1}, \\  I_{V2}, \\  I_{F1}, \\  I_{Ea1}, \\  I_{H1}, \\  I_{L1}, \\  I_{L2}, \\  I_{L3}, \\  I_{L4}\\right]$"
      ],
      "text/plain": [
       "[v₁, v₂, v₃, v₄, v₅, v₆, v₇, v₈, v₉, v₁₀, v₁₁, v₁₂, v₁₃, I_V4, I_V1, I_V2, I_F\n",
       "1, I_Ea1, I_H1, I_L1, I_L2, I_L3, I_L4]"
      ]
     },
     "execution_count": 62,
     "metadata": {},
     "output_type": "execute_result"
    }
   ],
   "source": [
    "X"
   ]
  },
  {
   "cell_type": "markdown",
   "metadata": {},
   "source": [
    "### Known voltages and currents"
   ]
  },
  {
   "cell_type": "code",
   "execution_count": 63,
   "metadata": {},
   "outputs": [
    {
     "data": {
      "image/png": "[encoded data removed]",
      "text/latex": [
       "$\\displaystyle \\left[ 0, \\  0, \\  - I_{2}, \\  I_{2}, \\  0, \\  0, \\  0, \\  0, \\  0, \\  0, \\  0, \\  0, \\  0, \\  V_{4}, \\  V_{1}, \\  V_{2}, \\  0, \\  0, \\  0, \\  0, \\  0, \\  0, \\  0\\right]$"
      ],
      "text/plain": [
       "[0, 0, -I₂, I₂, 0, 0, 0, 0, 0, 0, 0, 0, 0, V₄, V₁, V₂, 0, 0, 0, 0, 0, 0, 0]"
      ]
     },
     "execution_count": 63,
     "metadata": {},
     "output_type": "execute_result"
    }
   ],
   "source": [
    "Z"
   ]
  },
  {
   "cell_type": "markdown",
   "metadata": {},
   "source": [
    "### Network dataframe"
   ]
  },
  {
   "cell_type": "code",
   "execution_count": 64,
   "metadata": {},
   "outputs": [
    {
     "data": {
      "text/html": [
       "<div>\n",
       "<style scoped>\n",
       "    .dataframe tbody tr th:only-of-type {\n",
       "        vertical-align: middle;\n",
       "    }\n",
       "\n",
       "    .dataframe tbody tr th {\n",
       "        vertical-align: top;\n",
       "    }\n",
       "\n",
       "    .dataframe thead th {\n",
       "        text-align: right;\n",
       "    }\n",
       "</style>\n",
       "<table border=\"1\" class=\"dataframe\">\n",
       "  <thead>\n",
       "    <tr style=\"text-align: right;\">\n",
       "      <th></th>\n",
       "      <th>element</th>\n",
       "      <th>p node</th>\n",
       "      <th>n node</th>\n",
       "      <th>cp node</th>\n",
       "      <th>cn node</th>\n",
       "      <th>Vout</th>\n",
       "      <th>value</th>\n",
       "      <th>Vname</th>\n",
       "      <th>Lname1</th>\n",
       "      <th>Lname2</th>\n",
       "    </tr>\n",
       "  </thead>\n",
       "  <tbody>\n",
       "    <tr>\n",
       "      <th>0</th>\n",
       "      <td>V4</td>\n",
       "      <td>1</td>\n",
       "      <td>2</td>\n",
       "      <td>NaN</td>\n",
       "      <td>NaN</td>\n",
       "      <td>NaN</td>\n",
       "      <td>20.0</td>\n",
       "      <td>NaN</td>\n",
       "      <td>NaN</td>\n",
       "      <td>NaN</td>\n",
       "    </tr>\n",
       "    <tr>\n",
       "      <th>1</th>\n",
       "      <td>V1</td>\n",
       "      <td>6</td>\n",
       "      <td>3</td>\n",
       "      <td>NaN</td>\n",
       "      <td>NaN</td>\n",
       "      <td>NaN</td>\n",
       "      <td>0.0</td>\n",
       "      <td>NaN</td>\n",
       "      <td>NaN</td>\n",
       "      <td>NaN</td>\n",
       "    </tr>\n",
       "    <tr>\n",
       "      <th>2</th>\n",
       "      <td>V2</td>\n",
       "      <td>13</td>\n",
       "      <td>5</td>\n",
       "      <td>NaN</td>\n",
       "      <td>NaN</td>\n",
       "      <td>NaN</td>\n",
       "      <td>0.0</td>\n",
       "      <td>NaN</td>\n",
       "      <td>NaN</td>\n",
       "      <td>NaN</td>\n",
       "    </tr>\n",
       "    <tr>\n",
       "      <th>3</th>\n",
       "      <td>I2</td>\n",
       "      <td>3</td>\n",
       "      <td>4</td>\n",
       "      <td>NaN</td>\n",
       "      <td>NaN</td>\n",
       "      <td>NaN</td>\n",
       "      <td>5.0</td>\n",
       "      <td>NaN</td>\n",
       "      <td>NaN</td>\n",
       "      <td>NaN</td>\n",
       "    </tr>\n",
       "    <tr>\n",
       "      <th>4</th>\n",
       "      <td>F1</td>\n",
       "      <td>5</td>\n",
       "      <td>9</td>\n",
       "      <td>NaN</td>\n",
       "      <td>NaN</td>\n",
       "      <td>NaN</td>\n",
       "      <td>5.0</td>\n",
       "      <td>V1</td>\n",
       "      <td>NaN</td>\n",
       "      <td>NaN</td>\n",
       "    </tr>\n",
       "    <tr>\n",
       "      <th>5</th>\n",
       "      <td>Ea1</td>\n",
       "      <td>12</td>\n",
       "      <td>3</td>\n",
       "      <td>10</td>\n",
       "      <td>1</td>\n",
       "      <td>NaN</td>\n",
       "      <td>3.0</td>\n",
       "      <td>NaN</td>\n",
       "      <td>NaN</td>\n",
       "      <td>NaN</td>\n",
       "    </tr>\n",
       "    <tr>\n",
       "      <th>6</th>\n",
       "      <td>G1</td>\n",
       "      <td>7</td>\n",
       "      <td>10</td>\n",
       "      <td>9</td>\n",
       "      <td>4</td>\n",
       "      <td>NaN</td>\n",
       "      <td>2.0</td>\n",
       "      <td>NaN</td>\n",
       "      <td>NaN</td>\n",
       "      <td>NaN</td>\n",
       "    </tr>\n",
       "    <tr>\n",
       "      <th>7</th>\n",
       "      <td>H1</td>\n",
       "      <td>2</td>\n",
       "      <td>12</td>\n",
       "      <td>NaN</td>\n",
       "      <td>NaN</td>\n",
       "      <td>NaN</td>\n",
       "      <td>2.0</td>\n",
       "      <td>V2</td>\n",
       "      <td>NaN</td>\n",
       "      <td>NaN</td>\n",
       "    </tr>\n",
       "    <tr>\n",
       "      <th>8</th>\n",
       "      <td>R3</td>\n",
       "      <td>5</td>\n",
       "      <td>1</td>\n",
       "      <td>NaN</td>\n",
       "      <td>NaN</td>\n",
       "      <td>NaN</td>\n",
       "      <td>10.0</td>\n",
       "      <td>NaN</td>\n",
       "      <td>NaN</td>\n",
       "      <td>NaN</td>\n",
       "    </tr>\n",
       "    <tr>\n",
       "      <th>9</th>\n",
       "      <td>R4</td>\n",
       "      <td>3</td>\n",
       "      <td>7</td>\n",
       "      <td>NaN</td>\n",
       "      <td>NaN</td>\n",
       "      <td>NaN</td>\n",
       "      <td>1.0</td>\n",
       "      <td>NaN</td>\n",
       "      <td>NaN</td>\n",
       "      <td>NaN</td>\n",
       "    </tr>\n",
       "    <tr>\n",
       "      <th>10</th>\n",
       "      <td>R10</td>\n",
       "      <td>8</td>\n",
       "      <td>0</td>\n",
       "      <td>NaN</td>\n",
       "      <td>NaN</td>\n",
       "      <td>NaN</td>\n",
       "      <td>10.0</td>\n",
       "      <td>NaN</td>\n",
       "      <td>NaN</td>\n",
       "      <td>NaN</td>\n",
       "    </tr>\n",
       "    <tr>\n",
       "      <th>11</th>\n",
       "      <td>R14</td>\n",
       "      <td>10</td>\n",
       "      <td>9</td>\n",
       "      <td>NaN</td>\n",
       "      <td>NaN</td>\n",
       "      <td>NaN</td>\n",
       "      <td>10.0</td>\n",
       "      <td>NaN</td>\n",
       "      <td>NaN</td>\n",
       "      <td>NaN</td>\n",
       "    </tr>\n",
       "    <tr>\n",
       "      <th>12</th>\n",
       "      <td>R2</td>\n",
       "      <td>3</td>\n",
       "      <td>5</td>\n",
       "      <td>NaN</td>\n",
       "      <td>NaN</td>\n",
       "      <td>NaN</td>\n",
       "      <td>5.0</td>\n",
       "      <td>NaN</td>\n",
       "      <td>NaN</td>\n",
       "      <td>NaN</td>\n",
       "    </tr>\n",
       "    <tr>\n",
       "      <th>13</th>\n",
       "      <td>R7</td>\n",
       "      <td>8</td>\n",
       "      <td>7</td>\n",
       "      <td>NaN</td>\n",
       "      <td>NaN</td>\n",
       "      <td>NaN</td>\n",
       "      <td>6.0</td>\n",
       "      <td>NaN</td>\n",
       "      <td>NaN</td>\n",
       "      <td>NaN</td>\n",
       "    </tr>\n",
       "    <tr>\n",
       "      <th>14</th>\n",
       "      <td>R11</td>\n",
       "      <td>10</td>\n",
       "      <td>9</td>\n",
       "      <td>NaN</td>\n",
       "      <td>NaN</td>\n",
       "      <td>NaN</td>\n",
       "      <td>5.0</td>\n",
       "      <td>NaN</td>\n",
       "      <td>NaN</td>\n",
       "      <td>NaN</td>\n",
       "    </tr>\n",
       "    <tr>\n",
       "      <th>15</th>\n",
       "      <td>R12</td>\n",
       "      <td>0</td>\n",
       "      <td>10</td>\n",
       "      <td>NaN</td>\n",
       "      <td>NaN</td>\n",
       "      <td>NaN</td>\n",
       "      <td>9.0</td>\n",
       "      <td>NaN</td>\n",
       "      <td>NaN</td>\n",
       "      <td>NaN</td>\n",
       "    </tr>\n",
       "    <tr>\n",
       "      <th>16</th>\n",
       "      <td>R16</td>\n",
       "      <td>12</td>\n",
       "      <td>11</td>\n",
       "      <td>NaN</td>\n",
       "      <td>NaN</td>\n",
       "      <td>NaN</td>\n",
       "      <td>10.0</td>\n",
       "      <td>NaN</td>\n",
       "      <td>NaN</td>\n",
       "      <td>NaN</td>\n",
       "    </tr>\n",
       "    <tr>\n",
       "      <th>17</th>\n",
       "      <td>R8</td>\n",
       "      <td>3</td>\n",
       "      <td>8</td>\n",
       "      <td>NaN</td>\n",
       "      <td>NaN</td>\n",
       "      <td>NaN</td>\n",
       "      <td>5.0</td>\n",
       "      <td>NaN</td>\n",
       "      <td>NaN</td>\n",
       "      <td>NaN</td>\n",
       "    </tr>\n",
       "    <tr>\n",
       "      <th>18</th>\n",
       "      <td>R17</td>\n",
       "      <td>2</td>\n",
       "      <td>6</td>\n",
       "      <td>NaN</td>\n",
       "      <td>NaN</td>\n",
       "      <td>NaN</td>\n",
       "      <td>8.0</td>\n",
       "      <td>NaN</td>\n",
       "      <td>NaN</td>\n",
       "      <td>NaN</td>\n",
       "    </tr>\n",
       "    <tr>\n",
       "      <th>19</th>\n",
       "      <td>R18</td>\n",
       "      <td>12</td>\n",
       "      <td>13</td>\n",
       "      <td>NaN</td>\n",
       "      <td>NaN</td>\n",
       "      <td>NaN</td>\n",
       "      <td>4.0</td>\n",
       "      <td>NaN</td>\n",
       "      <td>NaN</td>\n",
       "      <td>NaN</td>\n",
       "    </tr>\n",
       "    <tr>\n",
       "      <th>20</th>\n",
       "      <td>C1</td>\n",
       "      <td>7</td>\n",
       "      <td>1</td>\n",
       "      <td>NaN</td>\n",
       "      <td>NaN</td>\n",
       "      <td>NaN</td>\n",
       "      <td>2.0</td>\n",
       "      <td>NaN</td>\n",
       "      <td>NaN</td>\n",
       "      <td>NaN</td>\n",
       "    </tr>\n",
       "    <tr>\n",
       "      <th>21</th>\n",
       "      <td>C2</td>\n",
       "      <td>1</td>\n",
       "      <td>9</td>\n",
       "      <td>NaN</td>\n",
       "      <td>NaN</td>\n",
       "      <td>NaN</td>\n",
       "      <td>5.0</td>\n",
       "      <td>NaN</td>\n",
       "      <td>NaN</td>\n",
       "      <td>NaN</td>\n",
       "    </tr>\n",
       "    <tr>\n",
       "      <th>22</th>\n",
       "      <td>L1</td>\n",
       "      <td>1</td>\n",
       "      <td>5</td>\n",
       "      <td>NaN</td>\n",
       "      <td>NaN</td>\n",
       "      <td>NaN</td>\n",
       "      <td>3.0</td>\n",
       "      <td>NaN</td>\n",
       "      <td>NaN</td>\n",
       "      <td>NaN</td>\n",
       "    </tr>\n",
       "    <tr>\n",
       "      <th>23</th>\n",
       "      <td>L2</td>\n",
       "      <td>0</td>\n",
       "      <td>11</td>\n",
       "      <td>NaN</td>\n",
       "      <td>NaN</td>\n",
       "      <td>NaN</td>\n",
       "      <td>8.0</td>\n",
       "      <td>NaN</td>\n",
       "      <td>NaN</td>\n",
       "      <td>NaN</td>\n",
       "    </tr>\n",
       "    <tr>\n",
       "      <th>24</th>\n",
       "      <td>L3</td>\n",
       "      <td>9</td>\n",
       "      <td>11</td>\n",
       "      <td>NaN</td>\n",
       "      <td>NaN</td>\n",
       "      <td>NaN</td>\n",
       "      <td>8.0</td>\n",
       "      <td>NaN</td>\n",
       "      <td>NaN</td>\n",
       "      <td>NaN</td>\n",
       "    </tr>\n",
       "    <tr>\n",
       "      <th>25</th>\n",
       "      <td>L4</td>\n",
       "      <td>4</td>\n",
       "      <td>8</td>\n",
       "      <td>NaN</td>\n",
       "      <td>NaN</td>\n",
       "      <td>NaN</td>\n",
       "      <td>10.0</td>\n",
       "      <td>NaN</td>\n",
       "      <td>NaN</td>\n",
       "      <td>NaN</td>\n",
       "    </tr>\n",
       "    <tr>\n",
       "      <th>26</th>\n",
       "      <td>K1</td>\n",
       "      <td>NaN</td>\n",
       "      <td>NaN</td>\n",
       "      <td>NaN</td>\n",
       "      <td>NaN</td>\n",
       "      <td>NaN</td>\n",
       "      <td>0.5</td>\n",
       "      <td>NaN</td>\n",
       "      <td>L3</td>\n",
       "      <td>L4</td>\n",
       "    </tr>\n",
       "  </tbody>\n",
       "</table>\n",
       "</div>"
      ],
      "text/plain": [
       "   element p node n node cp node cn node Vout value Vname Lname1 Lname2\n",
       "0       V4      1      2     NaN     NaN  NaN  20.0   NaN    NaN    NaN\n",
       "1       V1      6      3     NaN     NaN  NaN   0.0   NaN    NaN    NaN\n",
       "2       V2     13      5     NaN     NaN  NaN   0.0   NaN    NaN    NaN\n",
       "3       I2      3      4     NaN     NaN  NaN   5.0   NaN    NaN    NaN\n",
       "4       F1      5      9     NaN     NaN  NaN   5.0    V1    NaN    NaN\n",
       "5      Ea1     12      3      10       1  NaN   3.0   NaN    NaN    NaN\n",
       "6       G1      7     10       9       4  NaN   2.0   NaN    NaN    NaN\n",
       "7       H1      2     12     NaN     NaN  NaN   2.0    V2    NaN    NaN\n",
       "8       R3      5      1     NaN     NaN  NaN  10.0   NaN    NaN    NaN\n",
       "9       R4      3      7     NaN     NaN  NaN   1.0   NaN    NaN    NaN\n",
       "10     R10      8      0     NaN     NaN  NaN  10.0   NaN    NaN    NaN\n",
       "11     R14     10      9     NaN     NaN  NaN  10.0   NaN    NaN    NaN\n",
       "12      R2      3      5     NaN     NaN  NaN   5.0   NaN    NaN    NaN\n",
       "13      R7      8      7     NaN     NaN  NaN   6.0   NaN    NaN    NaN\n",
       "14     R11     10      9     NaN     NaN  NaN   5.0   NaN    NaN    NaN\n",
       "15     R12      0     10     NaN     NaN  NaN   9.0   NaN    NaN    NaN\n",
       "16     R16     12     11     NaN     NaN  NaN  10.0   NaN    NaN    NaN\n",
       "17      R8      3      8     NaN     NaN  NaN   5.0   NaN    NaN    NaN\n",
       "18     R17      2      6     NaN     NaN  NaN   8.0   NaN    NaN    NaN\n",
       "19     R18     12     13     NaN     NaN  NaN   4.0   NaN    NaN    NaN\n",
       "20      C1      7      1     NaN     NaN  NaN   2.0   NaN    NaN    NaN\n",
       "21      C2      1      9     NaN     NaN  NaN   5.0   NaN    NaN    NaN\n",
       "22      L1      1      5     NaN     NaN  NaN   3.0   NaN    NaN    NaN\n",
       "23      L2      0     11     NaN     NaN  NaN   8.0   NaN    NaN    NaN\n",
       "24      L3      9     11     NaN     NaN  NaN   8.0   NaN    NaN    NaN\n",
       "25      L4      4      8     NaN     NaN  NaN  10.0   NaN    NaN    NaN\n",
       "26      K1    NaN    NaN     NaN     NaN  NaN   0.5   NaN     L3     L4"
      ]
     },
     "execution_count": 64,
     "metadata": {},
     "output_type": "execute_result"
    }
   ],
   "source": [
    "network_df"
   ]
  },
  {
   "cell_type": "markdown",
   "metadata": {},
   "source": [
    "### Unknown current dataframe"
   ]
  },
  {
   "cell_type": "code",
   "execution_count": 65,
   "metadata": {},
   "outputs": [
    {
     "data": {
      "text/html": [
       "<div>\n",
       "<style scoped>\n",
       "    .dataframe tbody tr th:only-of-type {\n",
       "        vertical-align: middle;\n",
       "    }\n",
       "\n",
       "    .dataframe tbody tr th {\n",
       "        vertical-align: top;\n",
       "    }\n",
       "\n",
       "    .dataframe thead th {\n",
       "        text-align: right;\n",
       "    }\n",
       "</style>\n",
       "<table border=\"1\" class=\"dataframe\">\n",
       "  <thead>\n",
       "    <tr style=\"text-align: right;\">\n",
       "      <th></th>\n",
       "      <th>element</th>\n",
       "      <th>p node</th>\n",
       "      <th>n node</th>\n",
       "    </tr>\n",
       "  </thead>\n",
       "  <tbody>\n",
       "    <tr>\n",
       "      <th>0</th>\n",
       "      <td>V4</td>\n",
       "      <td>1</td>\n",
       "      <td>2</td>\n",
       "    </tr>\n",
       "    <tr>\n",
       "      <th>1</th>\n",
       "      <td>V1</td>\n",
       "      <td>6</td>\n",
       "      <td>3</td>\n",
       "    </tr>\n",
       "    <tr>\n",
       "      <th>2</th>\n",
       "      <td>V2</td>\n",
       "      <td>13</td>\n",
       "      <td>5</td>\n",
       "    </tr>\n",
       "    <tr>\n",
       "      <th>3</th>\n",
       "      <td>F1</td>\n",
       "      <td>5</td>\n",
       "      <td>9</td>\n",
       "    </tr>\n",
       "    <tr>\n",
       "      <th>4</th>\n",
       "      <td>Ea1</td>\n",
       "      <td>12</td>\n",
       "      <td>3</td>\n",
       "    </tr>\n",
       "    <tr>\n",
       "      <th>5</th>\n",
       "      <td>H1</td>\n",
       "      <td>2</td>\n",
       "      <td>12</td>\n",
       "    </tr>\n",
       "    <tr>\n",
       "      <th>6</th>\n",
       "      <td>L1</td>\n",
       "      <td>1</td>\n",
       "      <td>5</td>\n",
       "    </tr>\n",
       "    <tr>\n",
       "      <th>7</th>\n",
       "      <td>L2</td>\n",
       "      <td>0</td>\n",
       "      <td>11</td>\n",
       "    </tr>\n",
       "    <tr>\n",
       "      <th>8</th>\n",
       "      <td>L3</td>\n",
       "      <td>9</td>\n",
       "      <td>11</td>\n",
       "    </tr>\n",
       "    <tr>\n",
       "      <th>9</th>\n",
       "      <td>L4</td>\n",
       "      <td>4</td>\n",
       "      <td>8</td>\n",
       "    </tr>\n",
       "  </tbody>\n",
       "</table>\n",
       "</div>"
      ],
      "text/plain": [
       "  element p node n node\n",
       "0      V4      1      2\n",
       "1      V1      6      3\n",
       "2      V2     13      5\n",
       "3      F1      5      9\n",
       "4     Ea1     12      3\n",
       "5      H1      2     12\n",
       "6      L1      1      5\n",
       "7      L2      0     11\n",
       "8      L3      9     11\n",
       "9      L4      4      8"
      ]
     },
     "execution_count": 65,
     "metadata": {},
     "output_type": "execute_result"
    }
   ],
   "source": [
    "i_unk_df"
   ]
  },
  {
   "cell_type": "markdown",
   "metadata": {},
   "source": [
    "### Build the network equations"
   ]
  },
  {
   "cell_type": "code",
   "execution_count": 66,
   "metadata": {},
   "outputs": [],
   "source": [
    "# Put matrices into SymPy \n",
    "X = Matrix(X)\n",
    "Z = Matrix(Z)\n",
    "\n",
    "NE_sym = Eq(A*X,Z)"
   ]
  },
  {
   "cell_type": "markdown",
   "metadata": {},
   "source": [
    "Turn the free symbols into SymPy variables."
   ]
  },
  {
   "cell_type": "code",
   "execution_count": 67,
   "metadata": {},
   "outputs": [
    {
     "data": {
      "image/png": "[encoded data removed]",
      "text/latex": [
       "$\\displaystyle \\left( R_{18}, \\  C_{1}, \\  R_{16}, \\  v_{6}, \\  M_{1}, \\  I_{L4}, \\  I_{L1}, \\  V_{2}, \\  R_{3}, \\  f_{1}, \\  v_{4}, \\  I_{L2}, \\  v_{8}, \\  I_{V2}, \\  v_{11}, \\  v_{1}, \\  C_{2}, \\  I_{Ea1}, \\  v_{9}, \\  g_{1}, \\  R_{11}, \\  V_{4}, \\  R_{4}, \\  v_{10}, \\  L_{4}, \\  R_{8}, \\  h_{1}, \\  v_{7}, \\  L_{1}, \\  R_{12}, \\  v_{3}, \\  L_{2}, \\  R_{17}, \\  I_{L3}, \\  R_{7}, \\  V_{1}, \\  v_{12}, \\  R_{14}, \\  L_{3}, \\  I_{2}, \\  I_{H1}, \\  R_{2}, \\  s, \\  ea_{1}, \\  R_{10}, \\  v_{2}, \\  I_{F1}, \\  I_{V4}, \\  v_{5}, \\  I_{V1}, \\  v_{13}\\right)$"
      ],
      "text/plain": [
       "(R₁₈, C₁, R₁₆, v₆, M₁, I_L4, I_L1, V₂, R₃, f₁, v₄, I_L2, v₈, I_V2, v₁₁, v₁, C₂\n",
       ", I_Ea1, v₉, g₁, R₁₁, V₄, R₄, v₁₀, L₄, R₈, h₁, v₇, L₁, R₁₂, v₃, L₂, R₁₇, I_L3,\n",
       " R₇, V₁, v₁₂, R₁₄, L₃, I₂, I_H1, R₂, s, ea₁, R₁₀, v₂, I_F1, I_V4, v₅, I_V1, v₁\n",
       "₃)"
      ]
     },
     "execution_count": 67,
     "metadata": {},
     "output_type": "execute_result"
    }
   ],
   "source": [
    "var(str(NE_sym.free_symbols).replace('{','').replace('}',''))"
   ]
  },
  {
   "cell_type": "markdown",
   "metadata": {},
   "source": [
    "## Symbolic solution\n",
    "The symbolic solution was taking longer than a couple of minutes on my i3-8130U CPU @ 2.20GHz, so I interruped the kernel and commended the code."
   ]
  },
  {
   "cell_type": "code",
   "execution_count": 68,
   "metadata": {},
   "outputs": [],
   "source": [
    "#U_sym = solve(NE_sym,X)"
   ]
  },
  {
   "cell_type": "markdown",
   "metadata": {},
   "source": [
    "Display the symbolic solution"
   ]
  },
  {
   "cell_type": "code",
   "execution_count": 69,
   "metadata": {},
   "outputs": [],
   "source": [
    "#temp = ''\n",
    "#for i in U_sym.keys():\n",
    "#    temp += '${:s} = {:s}$<br>'.format(latex(i),latex(U_sym[i]))\n",
    "\n",
    "#Markdown(temp)"
   ]
  },
  {
   "cell_type": "markdown",
   "metadata": {},
   "source": [
    "## Construct a dictionary of element values"
   ]
  },
  {
   "cell_type": "code",
   "execution_count": 70,
   "metadata": {},
   "outputs": [
    {
     "name": "stdout",
     "output_type": "stream",
     "text": [
      "V4 = 20.0\n",
      "V1 = 0.0\n",
      "V2 = 0.0\n",
      "I2 = 5.0\n",
      "f1 = 5.0\n",
      "ea1 = 3.0\n",
      "g1 = 2.0\n",
      "h1 = 2.0\n",
      "R3 = 10.0\n",
      "R4 = 1.0\n",
      "R10 = 10.0\n",
      "R14 = 10.0\n",
      "R2 = 5.0\n",
      "R7 = 6.0\n",
      "R11 = 5.0\n",
      "R12 = 9.0\n",
      "R16 = 10.0\n",
      "R8 = 5.0\n",
      "R17 = 8.0\n",
      "R18 = 4.0\n",
      "C1 = 2.0\n",
      "C2 = 5.0\n",
      "L1 = 3.0\n",
      "L2 = 8.0\n",
      "L3 = 8.0\n",
      "L4 = 10.0\n",
      "K1 = 0.5\n"
     ]
    }
   ],
   "source": [
    "element_values = SymMNA.get_part_values(network_df)\n",
    "\n",
    "# display the component values\n",
    "for k,v in element_values.items():\n",
    "    print('{:s} = {:s}'.format(str(k), str(v)))"
   ]
  },
  {
   "cell_type": "markdown",
   "metadata": {},
   "source": [
    "### Mutual inductance\n",
    "In the netlist, the line below specifies that L3 and L4 are connected by a magnetic circuit.\n",
    "> K1 L3 L4 0.5\n",
    "\n",
    "K1 identifies the mutual inductance between in two inductors, L3 and L4. k is the coefficient of coupling. \n",
    "\n",
    "A coupled inductor has two or more windings that are connected by a magnetic circuit. Coupled inductors transfer energy from one winding to a different winding usually through a commonly used core. The efficiency of the magnetic coupling between both the windings is defined by the coupling factor k or by mutual inductance.\n",
    "\n",
    "The coupling constant and the [mutual inductance](https://en.wikipedia.org/wiki/Inductance#Mutual_inductance) are related by the equation:\n",
    "\n",
    "$k = \\frac {M}{\\sqrt{L_1 \\times L_2}}$\n",
    "\n",
    "Where k is the coupling coefficient and in spice the value of k can be from -1 to +1 to account for a a negative phase relation. Phase dots are drawn on the schematic to indicate the relative direction of the windings. In LTspice the phase dots are associated with the negative terminal of the winding. "
   ]
  },
  {
   "cell_type": "code",
   "execution_count": 71,
   "metadata": {},
   "outputs": [
    {
     "name": "stdout",
     "output_type": "stream",
     "text": [
      "mutual inductance, M1 = 4.472135955\n"
     ]
    }
   ],
   "source": [
    "K1 = symbols('K1')\n",
    "# calculate the coupling constant from the mutual inductance\n",
    "element_values[M1] = element_values[K1]*np.sqrt(element_values[L3] *element_values[L4])\n",
    "print('mutual inductance, M1 = {:.9f}'.format(element_values[M1]))"
   ]
  },
  {
   "cell_type": "code",
   "execution_count": 72,
   "metadata": {},
   "outputs": [
    {
     "data": {
      "image/png": "[encoded data removed]",
      "text/latex": [
       "$\\displaystyle \\left\\{ C_{1} : 2.0, \\  C_{2} : 5.0, \\  I_{2} : 5.0, \\  K_{1} : 0.5, \\  L_{1} : 3.0, \\  L_{2} : 8.0, \\  L_{3} : 8.0, \\  L_{4} : 10.0, \\  M_{1} : 4.47213595499958, \\  R_{10} : 10.0, \\  R_{11} : 5.0, \\  R_{12} : 9.0, \\  R_{14} : 10.0, \\  R_{16} : 10.0, \\  R_{17} : 8.0, \\  R_{18} : 4.0, \\  R_{2} : 5.0, \\  R_{3} : 10.0, \\  R_{4} : 1.0, \\  R_{7} : 6.0, \\  R_{8} : 5.0, \\  V_{1} : 0.0, \\  V_{2} : 0.0, \\  V_{4} : 20.0, \\  ea_{1} : 3.0, \\  f_{1} : 5.0, \\  g_{1} : 2.0, \\  h_{1} : 2.0\\right\\}$"
      ],
      "text/plain": [
       "{C₁: 2.0, C₂: 5.0, I₂: 5.0, K₁: 0.5, L₁: 3.0, L₂: 8.0, L₃: 8.0, L₄: 10.0, M₁: \n",
       "4.47213595499958, R₁₀: 10.0, R₁₁: 5.0, R₁₂: 9.0, R₁₄: 10.0, R₁₆: 10.0, R₁₇: 8.\n",
       "0, R₁₈: 4.0, R₂: 5.0, R₃: 10.0, R₄: 1.0, R₇: 6.0, R₈: 5.0, V₁: 0.0, V₂: 0.0, V\n",
       "₄: 20.0, ea₁: 3.0, f₁: 5.0, g₁: 2.0, h₁: 2.0}"
      ]
     },
     "execution_count": 72,
     "metadata": {},
     "output_type": "execute_result"
    }
   ],
   "source": [
    "element_values"
   ]
  },
  {
   "cell_type": "markdown",
   "metadata": {},
   "source": [
    "## DC operating point\n",
    "Both V4 and I2 are active."
   ]
  },
  {
   "cell_type": "code",
   "execution_count": 73,
   "metadata": {},
   "outputs": [],
   "source": [
    "NE = NE_sym.subs(element_values)\n",
    "NE_dc = NE.subs({s:0})"
   ]
  },
  {
   "cell_type": "markdown",
   "metadata": {},
   "source": [
    "Display the equations with numeric values."
   ]
  },
  {
   "cell_type": "code",
   "execution_count": 74,
   "metadata": {},
   "outputs": [
    {
     "data": {
      "text/markdown": [
       "$0 = I_{L1} + I_{V4} + 0.1 v_{1} - 0.1 v_{5}$<br>$0 = I_{H1} - I_{V4} + 0.125 v_{2} - 0.125 v_{6}$<br>$-5.0 = - I_{Ea1} - I_{V1} + 1.4 v_{3} - 0.2 v_{5} - 1.0 v_{7} - 0.2 v_{8}$<br>$5.0 = I_{L4}$<br>$0 = I_{F1} - I_{L1} - I_{V2} - 0.1 v_{1} - 0.2 v_{3} + 0.3 v_{5}$<br>$0 = I_{V1} - 0.125 v_{2} + 0.125 v_{6}$<br>$0 = - 1.0 v_{3} - 2.0 v_{4} + 1.16666666666667 v_{7} - 0.166666666666667 v_{8} + 2.0 v_{9}$<br>$0 = - I_{L4} - 0.2 v_{3} - 0.166666666666667 v_{7} + 0.466666666666667 v_{8}$<br>$0 = - I_{F1} + I_{L3} - 0.3 v_{10} + 0.3 v_{9}$<br>$0 = 0.411111111111111 v_{10} + 2.0 v_{4} - 2.3 v_{9}$<br>$0 = - I_{L2} - I_{L3} + 0.1 v_{11} - 0.1 v_{12}$<br>$0 = I_{Ea1} - I_{H1} - 0.1 v_{11} + 0.35 v_{12} - 0.25 v_{13}$<br>$0 = I_{V2} - 0.25 v_{12} + 0.25 v_{13}$<br>$20.0 = v_{1} - v_{2}$<br>$0 = - v_{3} + v_{6}$<br>$0 = v_{13} - v_{5}$<br>$0 = I_{F1} - 5.0 I_{V1}$<br>$0 = 3.0 v_{1} - 3.0 v_{10} + v_{12} - v_{3}$<br>$0 = - 2.0 I_{V2} - v_{12} + v_{2}$<br>$0 = v_{1} - v_{5}$<br>$0 = - v_{11}$<br>$0 = - v_{11} + v_{9}$<br>$0 = v_{4} - v_{8}$<br>"
      ],
      "text/plain": [
       "<IPython.core.display.Markdown object>"
      ]
     },
     "execution_count": 74,
     "metadata": {},
     "output_type": "execute_result"
    }
   ],
   "source": [
    "temp = ''\n",
    "for i in range(shape(NE_dc.lhs)[0]):\n",
    "    temp += '${:s} = {:s}$<br>'.format(latex(NE_dc.rhs[i]),latex(NE_dc.lhs[i]))\n",
    "\n",
    "Markdown(temp)"
   ]
  },
  {
   "cell_type": "markdown",
   "metadata": {},
   "source": [
    "Solve for voltages and currents."
   ]
  },
  {
   "cell_type": "code",
   "execution_count": 75,
   "metadata": {
    "collapsed": false,
    "jupyter": {
     "outputs_hidden": false
    }
   },
   "outputs": [],
   "source": [
    "U_dc = solve(NE_dc,X)"
   ]
  },
  {
   "cell_type": "markdown",
   "metadata": {},
   "source": [
    "Display the numerical solution\n",
    "\n",
    "Six significant digits are displayed so that results can be compared to LTSpice. "
   ]
  },
  {
   "cell_type": "code",
   "execution_count": 76,
   "metadata": {},
   "outputs": [
    {
     "name": "stdout",
     "output_type": "stream",
     "text": [
      "unknown           mag\n",
      "---------  ----------\n",
      "v1           3.367922\n",
      "v2         -16.632078\n",
      "v3         -15.060648\n",
      "v4          -1.041413\n",
      "v5           3.367922\n",
      "v6         -15.060648\n",
      "v7         -14.843180\n",
      "v8          -1.041413\n",
      "v9           0.000000\n",
      "v10          5.066334\n",
      "v11          0.000000\n",
      "v12         -9.965411\n",
      "v13          3.367922\n",
      "I_V4        -6.036903\n",
      "I_V1        -0.196429\n",
      "I_V2        -3.333333\n",
      "I_F1        -0.982144\n",
      "I_Ea1       -1.510600\n",
      "I_H1        -5.840475\n",
      "I_L1         6.036903\n",
      "I_L2         0.458785\n",
      "I_L3         0.537756\n",
      "I_L4         5.000000\n"
     ]
    }
   ],
   "source": [
    "table_header = ['unknown', 'mag']\n",
    "table_row = []\n",
    "\n",
    "for name, value in U_dc.items():\n",
    "    table_row.append([str(name),float(value)])\n",
    "\n",
    "print(tabulate(table_row, headers=table_header,colalign = ('left','decimal'),tablefmt=\"simple\",floatfmt=('5s','.6f')))"
   ]
  },
  {
   "cell_type": "markdown",
   "metadata": {},
   "source": [
    "The node voltages and current through the sources are solved for. The Sympy generated solution matches the LTSpice results:\n",
    "```\n",
    "       --- Operating Point ---\n",
    "\n",
    "V(1):\t 3.36792\t voltage\n",
    "V(2):\t -16.6321\t voltage\n",
    "V(3):\t -15.0606\t voltage\n",
    "V(4):\t -1.04141\t voltage\n",
    "V(5):\t 3.36792\t voltage\n",
    "V(9):\t 1.11022e-16\t voltage\n",
    "V(12):\t -9.96541\t voltage\n",
    "V(10):\t 5.06633\t voltage\n",
    "V(7):\t -14.8432\t voltage\n",
    "V(8):\t -1.04141\t voltage\n",
    "V(11):\t 0\t voltage\n",
    "V(6):\t -15.0606\t voltage\n",
    "V(13):\t 3.36792\t voltage\n",
    "I(C1):\t -3.64222e-11\t device_current\n",
    "I(C2):\t 1.68396e-11\t device_current\n",
    "I(F1):\t -0.982144\t device_current\n",
    "I(H1):\t -5.84047\t device_current\n",
    "I(L1):\t 6.0369\t device_current\n",
    "I(L2):\t 0.458785\t device_current\n",
    "I(L3):\t 0.537756\t device_current\n",
    "I(L4):\t 5\t device_current\n",
    "I(I2):\t 5\t device_current\n",
    "I(R3):\t 5.32907e-16\t device_current\n",
    "I(R4):\t -0.217468\t device_current\n",
    "I(R10):\t -0.104141\t device_current\n",
    "I(R14):\t 0.506633\t device_current\n",
    "I(R2):\t -3.68571\t device_current\n",
    "I(R7):\t 2.30029\t device_current\n",
    "I(R11):\t 1.01327\t device_current\n",
    "I(R12):\t -0.562926\t device_current\n",
    "I(R16):\t -0.996541\t device_current\n",
    "I(R8):\t -2.80385\t device_current\n",
    "I(R17):\t -0.196429\t device_current\n",
    "I(R18):\t -3.33333\t device_current\n",
    "I(G1):\t 2.08283\t device_current\n",
    "I(E1):\t -1.5106\t device_current\n",
    "I(V4):\t -6.0369\t device_current\n",
    "I(V1):\t -0.196429\t device_current\n",
    "I(V2):\t -3.33333\t device_current\n",
    "```\n",
    "The results from LTSpice agree with the SymPy results."
   ]
  },
  {
   "cell_type": "markdown",
   "metadata": {},
   "source": [
    "### AC analysis\n",
    "Solve equations for $\\omega$ equal to 1 radian per second, s = 1j.\n",
    "\n",
    "Need to set I2 = 0 and V4 = 10"
   ]
  },
  {
   "cell_type": "code",
   "execution_count": 77,
   "metadata": {},
   "outputs": [],
   "source": [
    "element_values[I2] = 0\n",
    "element_values[V4] = 10\n",
    "NE = NE_sym.subs(element_values)\n",
    "NE_w1 = NE.subs({s:1j})"
   ]
  },
  {
   "cell_type": "markdown",
   "metadata": {},
   "source": [
    "Display the equations with numeric values."
   ]
  },
  {
   "cell_type": "code",
   "execution_count": 78,
   "metadata": {},
   "outputs": [
    {
     "data": {
      "text/markdown": [
       "$0 = I_{L1} + I_{V4} + v_{1} \\cdot \\left(0.1 + 7.0 i\\right) - 0.1 v_{5} - 2.0 i v_{7} - 5.0 i v_{9}$<br>$0 = I_{H1} - I_{V4} + 0.125 v_{2} - 0.125 v_{6}$<br>$0 = - I_{Ea1} - I_{V1} + 1.4 v_{3} - 0.2 v_{5} - 1.0 v_{7} - 0.2 v_{8}$<br>$0 = I_{L4}$<br>$0 = I_{F1} - I_{L1} - I_{V2} - 0.1 v_{1} - 0.2 v_{3} + 0.3 v_{5}$<br>$0 = I_{V1} - 0.125 v_{2} + 0.125 v_{6}$<br>$0 = - 2.0 i v_{1} - 1.0 v_{3} - 2.0 v_{4} + v_{7} \\cdot \\left(1.16666666666667 + 2.0 i\\right) - 0.166666666666667 v_{8} + 2.0 v_{9}$<br>$0 = - I_{L4} - 0.2 v_{3} - 0.166666666666667 v_{7} + 0.466666666666667 v_{8}$<br>$0 = - I_{F1} + I_{L3} - 5.0 i v_{1} - 0.3 v_{10} + v_{9} \\cdot \\left(0.3 + 5.0 i\\right)$<br>$0 = 0.411111111111111 v_{10} + 2.0 v_{4} - 2.3 v_{9}$<br>$0 = - I_{L2} - I_{L3} + 0.1 v_{11} - 0.1 v_{12}$<br>$0 = I_{Ea1} - I_{H1} - 0.1 v_{11} + 0.35 v_{12} - 0.25 v_{13}$<br>$0 = I_{V2} - 0.25 v_{12} + 0.25 v_{13}$<br>$10 = v_{1} - v_{2}$<br>$0 = - v_{3} + v_{6}$<br>$0 = v_{13} - v_{5}$<br>$0 = I_{F1} - 5.0 I_{V1}$<br>$0 = 3.0 v_{1} - 3.0 v_{10} + v_{12} - v_{3}$<br>$0 = - 2.0 I_{V2} - v_{12} + v_{2}$<br>$0 = - 3.0 i I_{L1} + v_{1} - v_{5}$<br>$0 = - 8.0 i I_{L2} - v_{11}$<br>$0 = - 8.0 i I_{L3} - 4.47213595499958 i I_{L4} - v_{11} + v_{9}$<br>$0 = - 4.47213595499958 i I_{L3} - 10.0 i I_{L4} + v_{4} - v_{8}$<br>"
      ],
      "text/plain": [
       "<IPython.core.display.Markdown object>"
      ]
     },
     "execution_count": 78,
     "metadata": {},
     "output_type": "execute_result"
    }
   ],
   "source": [
    "temp = ''\n",
    "for i in range(shape(NE_w1.lhs)[0]):\n",
    "    temp += '${:s} = {:s}$<br>'.format(latex(NE_w1.rhs[i]),latex(NE_w1.lhs[i]))\n",
    "\n",
    "Markdown(temp)"
   ]
  },
  {
   "cell_type": "markdown",
   "metadata": {},
   "source": [
    "Solve for voltages and currents."
   ]
  },
  {
   "cell_type": "code",
   "execution_count": 79,
   "metadata": {},
   "outputs": [],
   "source": [
    "U_w1 = solve(NE_w1,X)"
   ]
  },
  {
   "cell_type": "markdown",
   "metadata": {},
   "source": [
    "Display the numerical solution\n",
    "\n",
    "Six significant digits are displayed so that results can be compared to LTSpice. "
   ]
  },
  {
   "cell_type": "code",
   "execution_count": 80,
   "metadata": {},
   "outputs": [
    {
     "name": "stdout",
     "output_type": "stream",
     "text": [
      "unknown         mag    phase, deg\n",
      "---------  --------  ------------\n",
      "v1         1.636070    -13.116769\n",
      "v2         8.414810   -177.471137\n",
      "v3         0.586907     -3.586473\n",
      "v4         1.987061     30.488547\n",
      "v5         7.659782     29.941452\n",
      "v6         0.586907     -3.586473\n",
      "v7         1.673460      2.228237\n",
      "v8         0.848285      0.506771\n",
      "v9         1.767765     29.618572\n",
      "v10        0.268017     -3.585934\n",
      "v11        0.916416    -90.556353\n",
      "v12        3.543942    163.157171\n",
      "v13        7.659782     29.941452\n",
      "I_V4       5.376987   -165.047830\n",
      "I_V1       1.124824   -177.869238\n",
      "I_V2       2.602977   -164.421170\n",
      "I_F1       5.624122   -177.869238\n",
      "I_Ea1      1.485962   -145.541756\n",
      "I_H1       4.287481   -161.710238\n",
      "I_L1       2.186723    129.745082\n",
      "I_L2       0.114552     -0.556353\n",
      "I_L3       0.295629    -40.810152\n",
      "I_L4       0.000000    nan\n"
     ]
    }
   ],
   "source": [
    "table_header = ['unknown', 'mag','phase, deg']\n",
    "table_row = []\n",
    "\n",
    "for name, value in U_w1.items():\n",
    "    table_row.append([str(name),float(abs(value)),float(arg(value)*180/np.pi)])\n",
    "\n",
    "print(tabulate(table_row, headers=table_header,colalign = ('left','decimal','decimal'),tablefmt=\"simple\",floatfmt=('5s','.6f','.6f')))"
   ]
  },
  {
   "cell_type": "markdown",
   "metadata": {},
   "source": [
    "\n",
    "```\n",
    "       --- AC Analysis ---\n",
    "\n",
    "frequency:\t0.159155\tHz\n",
    "V(1):\tmag:    1.63607 phase:   -13.1168° \tvoltage\n",
    "V(2):\tmag:    8.41481 phase:   -177.471° \tvoltage\n",
    "V(3):\tmag:   0.586907 phase:   -3.58647° \tvoltage\n",
    "V(4):\tmag:    1.98706 phase:    30.4885° \tvoltage\n",
    "V(5):\tmag:    7.65978 phase:    29.9415° \tvoltage\n",
    "V(9):\tmag:    1.76776 phase:    29.6186° \tvoltage\n",
    "V(12):\tmag:    3.54394 phase:    163.157° \tvoltage\n",
    "V(10):\tmag:   0.268017 phase:   -3.58593° \tvoltage\n",
    "V(7):\tmag:    1.67346 phase:    2.22824° \tvoltage\n",
    "V(8):\tmag:   0.848285 phase:   0.506771° \tvoltage\n",
    "V(11):\tmag:   0.916416 phase:   -90.5564° \tvoltage\n",
    "V(6):\tmag:   0.586907 phase:   -3.58647° \tvoltage\n",
    "V(13):\tmag:    7.65978 phase:    29.9415° \tvoltage\n",
    "I(C1):\tmag:   0.886817 phase:    169.762° \tdevice_current\n",
    "I(C2):\tmag:    6.23121 phase:    2.60332° \tdevice_current\n",
    "I(F1):\tmag:    5.62412 phase:   -177.869° \tdevice_current\n",
    "I(H1):\tmag:    4.28748 phase:    -161.71° \tdevice_current\n",
    "I(L1):\tmag:    2.18672 phase:    129.745° \tdevice_current\n",
    "I(L2):\tmag:   0.114552 phase:  -0.556353° \tdevice_current\n",
    "I(L3):\tmag:   0.295629 phase:   -40.8102° \tdevice_current\n",
    "I(L4):\tmag:          0 phase:          0° \tdevice_current\n",
    "I(I2):\tmag:          0 phase:          0° \tdevice_current\n",
    "I(R3):\tmag:   0.656017 phase:    39.7451° \tdevice_current\n",
    "I(R4):\tmag:    1.09119 phase:   -174.648° \tdevice_current\n",
    "I(R10):\tmag:  0.0848285 phase:   0.506771° \tdevice_current\n",
    "I(R14):\tmag:   0.155047 phase:   -144.949° \tdevice_current\n",
    "I(R2):\tmag:    1.43557 phase:    -147.47° \tdevice_current\n",
    "I(R7):\tmag:   0.137659 phase:   -176.004° \tdevice_current\n",
    "I(R11):\tmag:   0.310094 phase:   -144.949° \tdevice_current\n",
    "I(R12):\tmag:  0.0297797 phase:    176.414° \tdevice_current\n",
    "I(R16):\tmag:    0.39014 phase:    150.127° \tdevice_current\n",
    "I(R8):\tmag:  0.0532384 phase:   -170.438° \tdevice_current\n",
    "I(R17):\tmag:    1.12482 phase:   -177.869° \tdevice_current\n",
    "I(R18):\tmag:    2.60298 phase:   -164.421° \tdevice_current\n",
    "I(G1):\tmag:   0.442271 phase:    -142.54° \tdevice_current\n",
    "I(E1):\tmag:    1.48596 phase:   -145.542° \tdevice_current\n",
    "I(V4):\tmag:    5.37699 phase:   -165.048° \tdevice_current\n",
    "I(V1):\tmag:    1.12482 phase:   -177.869° \tdevice_current\n",
    "I(V2):\tmag:    2.60298 phase:   -164.421° \tdevice_current\n",
    "```\n",
    "\n",
    "### AC Sweep\n",
    "Looking at node 10 voltage and comparing the results with those obtained from LTSpice. The frequency sweep is from 0.01 Hz to 1 Hz."
   ]
  },
  {
   "cell_type": "code",
   "execution_count": 81,
   "metadata": {},
   "outputs": [],
   "source": [
    "NE = NE_sym.subs(element_values)"
   ]
  },
  {
   "cell_type": "markdown",
   "metadata": {},
   "source": [
    "Display the equations with numeric values."
   ]
  },
  {
   "cell_type": "code",
   "execution_count": 82,
   "metadata": {},
   "outputs": [
    {
     "data": {
      "text/markdown": [
       "$0 = I_{L1} + I_{V4} - 2.0 s v_{7} - 5.0 s v_{9} + v_{1} \\cdot \\left(7.0 s + 0.1\\right) - 0.1 v_{5}$<br>$0 = I_{H1} - I_{V4} + 0.125 v_{2} - 0.125 v_{6}$<br>$0 = - I_{Ea1} - I_{V1} + 1.4 v_{3} - 0.2 v_{5} - 1.0 v_{7} - 0.2 v_{8}$<br>$0 = I_{L4}$<br>$0 = I_{F1} - I_{L1} - I_{V2} - 0.1 v_{1} - 0.2 v_{3} + 0.3 v_{5}$<br>$0 = I_{V1} - 0.125 v_{2} + 0.125 v_{6}$<br>$0 = - 2.0 s v_{1} - 1.0 v_{3} - 2.0 v_{4} + v_{7} \\cdot \\left(2.0 s + 1.16666666666667\\right) - 0.166666666666667 v_{8} + 2.0 v_{9}$<br>$0 = - I_{L4} - 0.2 v_{3} - 0.166666666666667 v_{7} + 0.466666666666667 v_{8}$<br>$0 = - I_{F1} + I_{L3} - 5.0 s v_{1} - 0.3 v_{10} + v_{9} \\cdot \\left(5.0 s + 0.3\\right)$<br>$0 = 0.411111111111111 v_{10} + 2.0 v_{4} - 2.3 v_{9}$<br>$0 = - I_{L2} - I_{L3} + 0.1 v_{11} - 0.1 v_{12}$<br>$0 = I_{Ea1} - I_{H1} - 0.1 v_{11} + 0.35 v_{12} - 0.25 v_{13}$<br>$0 = I_{V2} - 0.25 v_{12} + 0.25 v_{13}$<br>$10 = v_{1} - v_{2}$<br>$0 = - v_{3} + v_{6}$<br>$0 = v_{13} - v_{5}$<br>$0 = I_{F1} - 5.0 I_{V1}$<br>$0 = 3.0 v_{1} - 3.0 v_{10} + v_{12} - v_{3}$<br>$0 = - 2.0 I_{V2} - v_{12} + v_{2}$<br>$0 = - 3.0 I_{L1} s + v_{1} - v_{5}$<br>$0 = - 8.0 I_{L2} s - v_{11}$<br>$0 = - 8.0 I_{L3} s - 4.47213595499958 I_{L4} s - v_{11} + v_{9}$<br>$0 = - 4.47213595499958 I_{L3} s - 10.0 I_{L4} s + v_{4} - v_{8}$<br>"
      ],
      "text/plain": [
       "<IPython.core.display.Markdown object>"
      ]
     },
     "execution_count": 82,
     "metadata": {},
     "output_type": "execute_result"
    }
   ],
   "source": [
    "temp = ''\n",
    "for i in range(shape(NE.lhs)[0]):\n",
    "    temp += '${:s} = {:s}$<br>'.format(latex(NE.rhs[i]),latex(NE.lhs[i]))\n",
    "\n",
    "Markdown(temp)"
   ]
  },
  {
   "cell_type": "markdown",
   "metadata": {},
   "source": [
    "Solve for voltages and currents."
   ]
  },
  {
   "cell_type": "code",
   "execution_count": 83,
   "metadata": {},
   "outputs": [],
   "source": [
    "U_ac = solve(NE,X)"
   ]
  },
  {
   "cell_type": "markdown",
   "metadata": {},
   "source": [
    "### Plot the voltage at node 10"
   ]
  },
  {
   "cell_type": "code",
   "execution_count": 84,
   "metadata": {},
   "outputs": [],
   "source": [
    "H = U_ac[v10]"
   ]
  },
  {
   "cell_type": "code",
   "execution_count": 85,
   "metadata": {
    "collapsed": false,
    "jupyter": {
     "outputs_hidden": false
    }
   },
   "outputs": [],
   "source": [
    "num, denom = fraction(H) #returns numerator and denominator\n",
    "\n",
    "# convert symbolic to numpy polynomial\n",
    "a = np.array(Poly(num, s).all_coeffs(), dtype=float)\n",
    "b = np.array(Poly(denom, s).all_coeffs(), dtype=float)\n",
    "system = (a, b)"
   ]
  },
  {
   "cell_type": "code",
   "execution_count": 86,
   "metadata": {
    "collapsed": false,
    "jupyter": {
     "outputs_hidden": false
    }
   },
   "outputs": [],
   "source": [
    "#x = np.linspace(0.01*2*np.pi, 1*2*np.pi, 200, endpoint=True)\n",
    "x = np.logspace(-2, 0, 1000, endpoint=False)*2*np.pi\n",
    "w, mag, phase = signal.bode(system, w=x) # returns: rad/s, mag in dB, phase in deg"
   ]
  },
  {
   "cell_type": "markdown",
   "metadata": {},
   "source": [
    "Load the csv file of node 10 voltage over the sweep range and plot along with the results obtained from SymPy."
   ]
  },
  {
   "cell_type": "code",
   "execution_count": 87,
   "metadata": {},
   "outputs": [],
   "source": [
    "fn = 'test_6.csv' # data from LTSpice\n",
    "LTSpice_data = np.genfromtxt(fn, delimiter=',')"
   ]
  },
  {
   "cell_type": "code",
   "execution_count": 88,
   "metadata": {},
   "outputs": [],
   "source": [
    "# initaliaze some empty arrays\n",
    "frequency = np.zeros(len(LTSpice_data))\n",
    "voltage = np.zeros(len(LTSpice_data)).astype(complex)\n",
    "\n",
    "# convert the csv data to complez numbers and store in the array\n",
    "for i in range(len(LTSpice_data)):\n",
    "    frequency[i] = LTSpice_data[i][0]\n",
    "    voltage[i] = LTSpice_data[i][1] + LTSpice_data[i][2]*1j"
   ]
  },
  {
   "cell_type": "code",
   "execution_count": 89,
   "metadata": {},
   "outputs": [
    {
     "data": {
      "image/png": "[encoded data removed]",
      "text/plain": [
       "<Figure size 640x480 with 2 Axes>"
      ]
     },
     "metadata": {},
     "output_type": "display_data"
    }
   ],
   "source": [
    "fig, ax1 = plt.subplots()\n",
    "ax1.set_ylabel('magnitude, dB')\n",
    "ax1.set_xlabel('frequency, Hz')\n",
    "\n",
    "plt.semilogx(frequency, 20*np.log10(np.abs(voltage)),'-r')    # Bode magnitude plot\n",
    "plt.semilogx(w/(2*np.pi), mag,'-b')    # Bode magnitude plot\n",
    "\n",
    "ax1.tick_params(axis='y')\n",
    "#ax1.set_ylim((-30,20))\n",
    "plt.grid()\n",
    "\n",
    "# instantiate a second y-axes that shares the same x-axis\n",
    "ax2 = ax1.twinx()\n",
    "color = 'tab:blue'\n",
    "\n",
    "plt.semilogx(frequency, np.angle(voltage)*180/np.pi,':',color=color)  # Bode phase plot\n",
    "plt.semilogx(w/(2*np.pi), phase,':',color='tab:red')  # Bode phase plot\n",
    "\n",
    "ax2.set_ylabel('phase, deg',color=color)\n",
    "ax2.tick_params(axis='y', labelcolor=color)\n",
    "#ax2.set_ylim((-5,25))\n",
    "\n",
    "plt.title('Magnitude and phase response')\n",
    "plt.show()"
   ]
  },
  {
   "cell_type": "code",
   "execution_count": 90,
   "metadata": {},
   "outputs": [
    {
     "data": {
      "image/png": "[encoded data removed]",
      "text/plain": [
       "<Figure size 640x480 with 2 Axes>"
      ]
     },
     "metadata": {},
     "output_type": "display_data"
    }
   ],
   "source": [
    "fig, ax1 = plt.subplots()\n",
    "ax1.set_ylabel('magnitude difference')\n",
    "ax1.set_xlabel('frequency, Hz')\n",
    "\n",
    "plt.semilogx(frequency[0:-1], np.abs(voltage[0:-1])-10**(mag/20),'-r')    # Bode magnitude plot\n",
    "#plt.semilogx(w/(2*np.pi), mag,'-b')    # Bode magnitude plot\n",
    "\n",
    "ax1.tick_params(axis='y')\n",
    "#ax1.set_ylim((-30,20))\n",
    "plt.grid()\n",
    "\n",
    "# instantiate a second y-axes that shares the same x-axis\n",
    "ax2 = ax1.twinx()\n",
    "color = 'tab:blue'\n",
    "\n",
    "plt.semilogx(frequency[0:-1], np.unwrap(2*np.angle(voltage[0:-1])/2) *180/np.pi - phase,':',color=color)  # Bode phase plot\n",
    "#plt.semilogx(w/(2*np.pi), phase,':',color='tab:red')  # Bode phase plot\n",
    "\n",
    "ax2.set_ylabel('phase difference, deg',color=color)\n",
    "ax2.tick_params(axis='y', labelcolor=color)\n",
    "#ax2.set_ylim((-5,25))\n",
    "\n",
    "plt.title('Difference between LTSpice and Python results')\n",
    "plt.show()"
   ]
  },
  {
   "cell_type": "markdown",
   "metadata": {},
   "source": [
    "The SymPy and LTSpice results overlay each other. The scale for the magnitude is $10^{-13}$ and $10^{-11}$ for the phase indicating the numerical difference is very small.  "
   ]
  },
  {
   "cell_type": "code",
   "execution_count": null,
   "metadata": {},
   "outputs": [],
   "source": []
  }
 ],
 "metadata": {
  "kernelspec": {
   "display_name": "Python 3 (ipykernel)",
   "language": "python",
   "name": "python3"
  },
  "language_info": {
   "codemirror_mode": {
    "name": "ipython",
    "version": 3
   },
   "file_extension": ".py",
   "mimetype": "text/x-python",
   "name": "python",
   "nbconvert_exporter": "python",
   "pygments_lexer": "ipython3",
   "version": "3.10.9"
  }
 },
 "nbformat": 4,
 "nbformat_minor": 4
}
