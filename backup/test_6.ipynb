{
 "cells": [
  {
   "cell_type": "markdown",
   "metadata": {
    "tags": []
   },
   "source": [
    "# test_6\n",
    "Test circuit number 6 is similar to test circuit number 5, but with the addition of coupled inductors. This test circuit includes all the element types except for Op Amps.\n",
    "\n",
    "<img src=\"test_6.png\" width=\"900\">  \n",
    "\n",
    "```\n",
    "* test_6.asc\n",
    "V4 1 2 AC 10\n",
    "I2 3 4 5\n",
    "F1 5 9 V1 5\n",
    "E1 12 3 10 1 3\n",
    "G1 7 10 9 4 2\n",
    "H1 2 12 V2 2\n",
    "R3 5 1 10\n",
    "R4 3 7 1\n",
    "R10 8 0 10\n",
    "R14 10 9 10\n",
    "R2 3 5 5\n",
    "R7 8 7 6\n",
    "R11 10 9 5\n",
    "R12 0 10 9\n",
    "R16 12 11 10\n",
    "R8 3 8 5\n",
    "R17 2 6 8\n",
    "V1 6 3 0\n",
    "V2 13 5 0\n",
    "R18 12 13 4\n",
    "C1 7 1 2\n",
    "C2 1 9 5\n",
    "L1 1 5 3 Rser=0\n",
    "L2 0 11 8 Rser=0\n",
    "L3 9 11 8 Rser=0\n",
    "L4 4 8 10 Rser=0\n",
    ";op\n",
    ".ac  list 0.159154943\n",
    "K1 L3 L4 0.5\n",
    "* ;.ac dec 500 0.01 1\n",
    ".backanno\n",
    ".end\n",
    "\n",
    "```\n",
    "\n",
    "This is the modified net list, V4 line was changed. The lines for the inductors were also changed.\n",
    "```\n",
    "* test_6.asc\n",
    "V4 1 2 10\n",
    "I2 3 4 5\n",
    "F1 5 9 V1 5\n",
    "E1 12 3 10 1 3\n",
    "G1 7 10 9 4 2\n",
    "H1 2 12 V2 2\n",
    "R3 5 1 10\n",
    "R4 3 7 1\n",
    "R10 8 0 10\n",
    "R14 10 9 10\n",
    "R2 3 5 5\n",
    "R7 8 7 6\n",
    "R11 10 9 5\n",
    "R12 0 10 9\n",
    "R16 12 11 10\n",
    "R8 3 8 5\n",
    "R17 2 6 8\n",
    "V1 6 3 0\n",
    "V2 13 5 0\n",
    "R18 12 13 4\n",
    "C1 7 1 2\n",
    "C2 1 9 5\n",
    "L1 1 5 3\n",
    "L2 0 11 8\n",
    "L3 9 11 8\n",
    "L4 4 8 10\n",
    ";op\n",
    ".ac  list 0.159154943\n",
    "K1 L3 L4 0.5\n",
    ".backanno\n",
    ".end\n",
    "```\n",
    "\n",
    "A coupled inductor has two or more windings that are connected by a magnetic circuit. Coupled inductors transfer energy from one winding to a different winding usually through a commonly used core. The efficiency of the magnetic coupling between both the windings is defined by the coupling factor k or by mutual inductance.\n",
    "\n",
    "The coupling constant and the mutual inductance are related by the equation:\n",
    "\n",
    "$k = \\frac {M}{\\sqrt{L1 \\times L2}}$\n",
    "\n",
    "Where k is the coupling coefficient and in spice the value of k can be from -1 to +1 to account for a a negative phase relation. Phase dots are drawn on the schematic to indicate the relative direction of the windings.  In LTspice the phase dots are associated with the negative terminal of the winding.\n",
    "\n",
    "In LTSpice the line \n",
    "> K1 L3 L4 0.5\n",
    "\n",
    "K1 identifies the mutual inductance between in two inductors, L3 and L4. k is the coefficient of coupling. \n",
    "\n",
    "\n",
    "Reference: https://en.wikipedia.org/wiki/Inductance#Mutual_inductance\n",
    "\n",
    "\n",
    "This netlist is read into the Symbolic Modified Nodal Analysis Jupyter notebook and the following circuit equations were generated.  \n",
    "```\n",
    "                                      ⎛              1 ⎞   v₅    \n",
    "-C₁⋅s⋅v₇ - C₂⋅s⋅v₉ + I_L1 + I_V4 + v₁⋅⎜C₁⋅s + C₂⋅s + ──⎟ - ── = 0\n",
    "                                      ⎝              R₃⎠   R₃    \n",
    "               v₂    v₆    \n",
    "I_H1 - I_V4 + ─── - ─── = 0\n",
    "              R₁₇   R₁₇    \n",
    "                   ⎛1    1    1 ⎞   v₈   v₇   v₅      \n",
    "-I_Ea1 - I_V1 + v₃⋅⎜── + ── + ──⎟ - ── - ── - ── = -I₂\n",
    "                   ⎝R₈   R₄   R₂⎠   R₈   R₄   R₂      \n",
    "I_L4 = I₂\n",
    "                        ⎛1    1 ⎞   v₁   v₃    \n",
    "I_F1 - I_L1 - I_V2 + v₅⋅⎜── + ──⎟ - ── - ── = 0\n",
    "                        ⎝R₃   R₂⎠   R₃   R₂    \n",
    "        v₂    v₆    \n",
    "I_V1 - ─── + ─── = 0\n",
    "       R₁₇   R₁₇    \n",
    "                              ⎛       1    1 ⎞   v₈   v₃    \n",
    "-C₁⋅s⋅v₁ - g₁⋅v₄ + g₁⋅v₉ + v₇⋅⎜C₁⋅s + ── + ──⎟ - ── - ── = 0\n",
    "                              ⎝       R₇   R₄⎠   R₇   R₄    \n",
    "           ⎛1    1     1 ⎞   v₃   v₇    \n",
    "-I_L4 + v₈⋅⎜── + ── + ───⎟ - ── - ── = 0\n",
    "           ⎝R₈   R₇   R₁₀⎠   R₈   R₇    \n",
    "                             ⎛   1     1 ⎞      ⎛        1     1 ⎞    \n",
    "-C₂⋅s⋅v₁ - I_F1 + I_L3 + v₁₀⋅⎜- ─── - ───⎟ + v₉⋅⎜C₂⋅s + ─── + ───⎟ = 0\n",
    "                             ⎝  R₁₄   R₁₁⎠      ⎝       R₁₄   R₁₁⎠    \n",
    "            ⎛ 1     1     1 ⎞      ⎛       1     1 ⎞    \n",
    "g₁⋅v₄ + v₁₀⋅⎜─── + ─── + ───⎟ + v₉⋅⎜-g₁ - ─── - ───⎟ = 0\n",
    "            ⎝R₁₄   R₁₂   R₁₁⎠      ⎝      R₁₄   R₁₁⎠    \n",
    "               v₁₁   v₁₂    \n",
    "-I_L2 - I_L3 + ─── - ─── = 0\n",
    "               R₁₆   R₁₆    \n",
    "                   ⎛ 1     1 ⎞   v₁₃   v₁₁    \n",
    "I_Ea1 - I_H1 + v₁₂⋅⎜─── + ───⎟ - ─── - ─── = 0\n",
    "                   ⎝R₁₈   R₁₆⎠   R₁₈   R₁₆    \n",
    "       v₁₂   v₁₃    \n",
    "I_V2 - ─── + ─── = 0\n",
    "       R₁₈   R₁₈    \n",
    "v₁ - v₂ = V₄\n",
    "I_F1 - I_V1⋅f₁ = V₁\n",
    "ea₁⋅v₁ - ea₁⋅v₁₀ + v₁₂ - v₃ = V₂\n",
    "-I_V2⋅h₁ - v₁₂ + v₂ = 0\n",
    "-v₃ + v₆ = 0\n",
    "v₁₃ - v₅ = 0\n",
    "-I_L1⋅L₁⋅s + v₁ - v₅ = 0\n",
    "-I_L2⋅L₂⋅s - v₁₁ = 0\n",
    "-I_L3⋅L₃⋅s - I_L4⋅M₁⋅s - v₁₁ + v₉ = 0\n",
    "-I_L3⋅M₁⋅s - I_L4⋅L₄⋅s + v₄ - v₈ = 0\n",
    "```"
   ]
  },
  {
   "cell_type": "code",
   "execution_count": 2,
   "metadata": {
    "collapsed": false,
    "jupyter": {
     "outputs_hidden": false
    }
   },
   "outputs": [],
   "source": [
    "import os\n",
    "from sympy import *\n",
    "import numpy as np\n",
    "from scipy import signal\n",
    "import matplotlib.pyplot as plt\n",
    "init_printing()"
   ]
  },
  {
   "cell_type": "markdown",
   "metadata": {},
   "source": [
    "Copy the text strings generated by the Symbolic Modified Nodal Analysis Jupyter notebook to the cell below."
   ]
  },
  {
   "cell_type": "code",
   "execution_count": 3,
   "metadata": {},
   "outputs": [
    {
     "data": {
      "text/latex": [
       "$\\displaystyle \\left[\\begin{matrix}- C_{1} s v_{7} - C_{2} s v_{9} + I_{L1} + I_{V4} + v_{1} \\left(C_{1} s + C_{2} s + \\frac{1}{R_{3}}\\right) - \\frac{v_{5}}{R_{3}}\\\\I_{H1} - I_{V4} + \\frac{v_{2}}{R_{17}} - \\frac{v_{6}}{R_{17}}\\\\- I_{Ea1} - I_{V1} + v_{3} \\cdot \\left(\\frac{1}{R_{8}} + \\frac{1}{R_{4}} + \\frac{1}{R_{2}}\\right) - \\frac{v_{8}}{R_{8}} - \\frac{v_{7}}{R_{4}} - \\frac{v_{5}}{R_{2}}\\\\I_{L4}\\\\I_{F1} - I_{L1} - I_{V2} + v_{5} \\cdot \\left(\\frac{1}{R_{3}} + \\frac{1}{R_{2}}\\right) - \\frac{v_{1}}{R_{3}} - \\frac{v_{3}}{R_{2}}\\\\I_{V1} - \\frac{v_{2}}{R_{17}} + \\frac{v_{6}}{R_{17}}\\\\- C_{1} s v_{1} - g_{1} v_{4} + g_{1} v_{9} + v_{7} \\left(C_{1} s + \\frac{1}{R_{7}} + \\frac{1}{R_{4}}\\right) - \\frac{v_{8}}{R_{7}} - \\frac{v_{3}}{R_{4}}\\\\- I_{L4} + v_{8} \\cdot \\left(\\frac{1}{R_{8}} + \\frac{1}{R_{7}} + \\frac{1}{R_{10}}\\right) - \\frac{v_{3}}{R_{8}} - \\frac{v_{7}}{R_{7}}\\\\- C_{2} s v_{1} - I_{F1} + I_{L3} + v_{10} \\left(- \\frac{1}{R_{14}} - \\frac{1}{R_{11}}\\right) + v_{9} \\left(C_{2} s + \\frac{1}{R_{14}} + \\frac{1}{R_{11}}\\right)\\\\g_{1} v_{4} + v_{10} \\cdot \\left(\\frac{1}{R_{14}} + \\frac{1}{R_{12}} + \\frac{1}{R_{11}}\\right) + v_{9} \\left(- g_{1} - \\frac{1}{R_{14}} - \\frac{1}{R_{11}}\\right)\\\\- I_{L2} - I_{L3} + \\frac{v_{11}}{R_{16}} - \\frac{v_{12}}{R_{16}}\\\\I_{Ea1} - I_{H1} + v_{12} \\cdot \\left(\\frac{1}{R_{18}} + \\frac{1}{R_{16}}\\right) - \\frac{v_{13}}{R_{18}} - \\frac{v_{11}}{R_{16}}\\\\I_{V2} - \\frac{v_{12}}{R_{18}} + \\frac{v_{13}}{R_{18}}\\\\v_{1} - v_{2}\\\\I_{F1} - I_{V1} f_{1}\\\\ea_{1} v_{1} - ea_{1} v_{10} + v_{12} - v_{3}\\\\- I_{V2} h_{1} - v_{12} + v_{2}\\\\- v_{3} + v_{6}\\\\v_{13} - v_{5}\\\\- I_{L1} L_{1} s + v_{1} - v_{5}\\\\- I_{L2} L_{2} s - v_{11}\\\\- I_{L3} L_{3} s - I_{L4} M_{1} s - v_{11} + v_{9}\\\\- I_{L3} M_{1} s - I_{L4} L_{4} s + v_{4} - v_{8}\\end{matrix}\\right] = \\left[\\begin{matrix}0\\\\0\\\\- I_{2}\\\\I_{2}\\\\0\\\\0\\\\0\\\\0\\\\0\\\\0\\\\0\\\\0\\\\0\\\\V_{4}\\\\V_{1}\\\\V_{2}\\\\0\\\\0\\\\0\\\\0\\\\0\\\\0\\\\0\\end{matrix}\\right]$"
      ],
      "text/plain": [
       "Eq(Matrix([\n",
       "[       -C1*s*v7 - C2*s*v9 + I_L1 + I_V4 + v1*(C1*s + C2*s + 1/R3) - v5/R3],\n",
       "[                                            I_H1 - I_V4 + v2/R17 - v6/R17],\n",
       "[          -I_Ea1 - I_V1 + v3*(1/R8 + 1/R4 + 1/R2) - v8/R8 - v7/R4 - v5/R2],\n",
       "[                                                                     I_L4],\n",
       "[                    I_F1 - I_L1 - I_V2 + v5*(1/R3 + 1/R2) - v1/R3 - v3/R2],\n",
       "[                                                   I_V1 - v2/R17 + v6/R17],\n",
       "[       -C1*s*v1 - g1*v4 + g1*v9 + v7*(C1*s + 1/R7 + 1/R4) - v8/R7 - v3/R4],\n",
       "[                         -I_L4 + v8*(1/R8 + 1/R7 + 1/R10) - v3/R8 - v7/R7],\n",
       "[-C2*s*v1 - I_F1 + I_L3 + v10*(-1/R14 - 1/R11) + v9*(C2*s + 1/R14 + 1/R11)],\n",
       "[           g1*v4 + v10*(1/R14 + 1/R12 + 1/R11) + v9*(-g1 - 1/R14 - 1/R11)],\n",
       "[                                         -I_L2 - I_L3 + v11/R16 - v12/R16],\n",
       "[                   I_Ea1 - I_H1 + v12*(1/R18 + 1/R16) - v13/R18 - v11/R16],\n",
       "[                                                 I_V2 - v12/R18 + v13/R18],\n",
       "[                                                                  v1 - v2],\n",
       "[                                                           I_F1 - I_V1*f1],\n",
       "[                                              ea1*v1 - ea1*v10 + v12 - v3],\n",
       "[                                                      -I_V2*h1 - v12 + v2],\n",
       "[                                                                 -v3 + v6],\n",
       "[                                                                 v13 - v5],\n",
       "[                                                     -I_L1*L1*s + v1 - v5],\n",
       "[                                                         -I_L2*L2*s - v11],\n",
       "[                                        -I_L3*L3*s - I_L4*M1*s - v11 + v9],\n",
       "[                                         -I_L3*M1*s - I_L4*L4*s + v4 - v8]]), Matrix([\n",
       "[  0],\n",
       "[  0],\n",
       "[-I2],\n",
       "[ I2],\n",
       "[  0],\n",
       "[  0],\n",
       "[  0],\n",
       "[  0],\n",
       "[  0],\n",
       "[  0],\n",
       "[  0],\n",
       "[  0],\n",
       "[  0],\n",
       "[ V4],\n",
       "[ V1],\n",
       "[ V2],\n",
       "[  0],\n",
       "[  0],\n",
       "[  0],\n",
       "[  0],\n",
       "[  0],\n",
       "[  0],\n",
       "[  0]]))"
      ]
     },
     "execution_count": 3,
     "metadata": {},
     "output_type": "execute_result"
    }
   ],
   "source": [
    "v11, L4, C1, s, R18, I_V1, v6, v1, g1, V1, v12, R3, I_L4, V2, R11, I2, M1, v2, I_L3, C2, R12, v3, I_Ea1, L3, R7, L1, v8, v7, f1, v10, I_H1, I_V2, R4, R8, h1, V4, R14, v5, R17, I_F1, I_L1, v4, L2, v13, R10, ea1, I_L2, I_V4, R2, R16, v9 = symbols(' v11  L4  C1  s  R18  I_V1  v6  v1  g1  V1  v12  R3  I_L4  V2  R11  I2  M1  v2  I_L3  C2  R12  v3  I_Ea1  L3  R7  L1  v8  v7  f1  v10  I_H1  I_V2  R4  R8  h1  V4  R14  v5  R17  I_F1  I_L1  v4  L2  v13  R10  ea1  I_L2  I_V4  R2  R16  v9 ')\n",
    "A = Matrix([[C1*s + C2*s + 1/R3, 0, 0, 0, -1/R3, 0, -C1*s, 0, -C2*s, 0, 0, 0, 0, 1, 0, 0, 0, 0, 0, 1, 0, 0, 0], [0, 1/R17, 0, 0, 0, -1/R17, 0, 0, 0, 0, 0, 0, 0, -1, 0, 0, 1, 0, 0, 0, 0, 0, 0], [0, 0, 1/R8 + 1/R4 + 1/R2, 0, -1/R2, 0, -1/R4, -1/R8, 0, 0, 0, 0, 0, 0, 0, -1, 0, -1, 0, 0, 0, 0, 0], [0, 0, 0, 0, 0, 0, 0, 0, 0, 0, 0, 0, 0, 0, 0, 0, 0, 0, 0, 0, 0, 0, 1], [-1/R3, 0, -1/R2, 0, 1/R3 + 1/R2, 0, 0, 0, 0, 0, 0, 0, 0, 0, 1, 0, 0, 0, -1, -1, 0, 0, 0], [0, -1/R17, 0, 0, 0, 1/R17, 0, 0, 0, 0, 0, 0, 0, 0, 0, 0, 0, 1, 0, 0, 0, 0, 0], [-C1*s, 0, -1/R4, -g1, 0, 0, C1*s + 1/R7 + 1/R4, -1/R7, g1, 0, 0, 0, 0, 0, 0, 0, 0, 0, 0, 0, 0, 0, 0], [0, 0, -1/R8, 0, 0, 0, -1/R7, 1/R8 + 1/R7 + 1/R10, 0, 0, 0, 0, 0, 0, 0, 0, 0, 0, 0, 0, 0, 0, -1], [-C2*s, 0, 0, 0, 0, 0, 0, 0, C2*s + 1/R14 + 1/R11, -1/R14 - 1/R11, 0, 0, 0, 0, -1, 0, 0, 0, 0, 0, 0, 1, 0], [0, 0, 0, g1, 0, 0, 0, 0, -g1 - 1/R14 - 1/R11, 1/R14 + 1/R12 + 1/R11, 0, 0, 0, 0, 0, 0, 0, 0, 0, 0, 0, 0, 0], [0, 0, 0, 0, 0, 0, 0, 0, 0, 0, 1/R16, -1/R16, 0, 0, 0, 0, 0, 0, 0, 0, -1, -1, 0], [0, 0, 0, 0, 0, 0, 0, 0, 0, 0, -1/R16, 1/R18 + 1/R16, -1/R18, 0, 0, 1, -1, 0, 0, 0, 0, 0, 0], [0, 0, 0, 0, 0, 0, 0, 0, 0, 0, 0, -1/R18, 1/R18, 0, 0, 0, 0, 0, 1, 0, 0, 0, 0], [1, -1, 0, 0, 0, 0, 0, 0, 0, 0, 0, 0, 0, 0, 0, 0, 0, 0, 0, 0, 0, 0, 0], [0, 0, 0, 0, 0, 0, 0, 0, 0, 0, 0, 0, 0, 0, 1, 0, 0, -f1, 0, 0, 0, 0, 0], [ea1, 0, -1, 0, 0, 0, 0, 0, 0, -ea1, 0, 1, 0, 0, 0, 0, 0, 0, 0, 0, 0, 0, 0], [0, 1, 0, 0, 0, 0, 0, 0, 0, 0, 0, -1, 0, 0, 0, 0, 0, 0, -h1, 0, 0, 0, 0], [0, 0, -1, 0, 0, 1, 0, 0, 0, 0, 0, 0, 0, 0, 0, 0, 0, 0, 0, 0, 0, 0, 0], [0, 0, 0, 0, -1, 0, 0, 0, 0, 0, 0, 0, 1, 0, 0, 0, 0, 0, 0, 0, 0, 0, 0], [1, 0, 0, 0, -1, 0, 0, 0, 0, 0, 0, 0, 0, 0, 0, 0, 0, 0, 0, -L1*s, 0, 0, 0], [0, 0, 0, 0, 0, 0, 0, 0, 0, 0, -1, 0, 0, 0, 0, 0, 0, 0, 0, 0, -L2*s, 0, 0], [0, 0, 0, 0, 0, 0, 0, 0, 1, 0, -1, 0, 0, 0, 0, 0, 0, 0, 0, 0, 0, -L3*s, -M1*s], [0, 0, 0, 1, 0, 0, 0, -1, 0, 0, 0, 0, 0, 0, 0, 0, 0, 0, 0, 0, 0, -M1*s, -L4*s]])\n",
    "X = Matrix( [v1, v2, v3, v4, v5, v6, v7, v8, v9, v10, v11, v12, v13, I_V4, I_F1, I_Ea1, I_H1, I_V1, I_V2, I_L1, I_L2, I_L3, I_L4] )\n",
    "Z = Matrix( [0, 0, -I2, I2, 0, 0, 0, 0, 0, 0, 0, 0, 0, V4, V1, V2, 0, 0, 0, 0, 0, 0, 0] )\n",
    "\n",
    "equ = Eq(A*X,Z)\n",
    "equ"
   ]
  },
  {
   "cell_type": "markdown",
   "metadata": {},
   "source": [
    "## Numeric solution"
   ]
  },
  {
   "cell_type": "markdown",
   "metadata": {},
   "source": [
    "In LTSpice the line:\n",
    "\n",
    "> K1 L3 L4 0.5  \n",
    "\n",
    "K1 identifies the mutual inductance between in two inductors, L3 and L4. k is the coefficient of coupling. \n",
    "\n",
    "This needs to be converted to mutual inductance.\n",
    "\n",
    "With:  \n",
    "L3 = 8  \n",
    "L4 = 10  \n",
    "k = 0.5  \n",
    "\n",
    "and:  \n",
    "\n",
    "$k = \\frac {M}{\\sqrt{L1 \\times L2}}$\n",
    "\n",
    "Need to solve for M  \n",
    "$M = k \\times {\\sqrt{L1 \\times L2}}$"
   ]
  },
  {
   "cell_type": "code",
   "execution_count": 4,
   "metadata": {},
   "outputs": [
    {
     "name": "stdout",
     "output_type": "stream",
     "text": [
      "mutual inductance, M = 4.472135955\n"
     ]
    }
   ],
   "source": [
    "# calculate the coupling constant from the mutual inductance\n",
    "print('mutual inductance, M = {:.9f}'.format(0.5*np.sqrt(8*10)))"
   ]
  },
  {
   "cell_type": "code",
   "execution_count": 5,
   "metadata": {
    "collapsed": false,
    "jupyter": {
     "outputs_hidden": false
    }
   },
   "outputs": [
    {
     "data": {
      "text/latex": [
       "$\\displaystyle \\left[\\begin{matrix}I_{L1} + I_{V4} - 2.0 s v_{7} - 5.0 s v_{9} + v_{1} \\cdot \\left(7.0 s + 0.1\\right) - 0.1 v_{5}\\\\I_{H1} - I_{V4} + 0.125 v_{2} - 0.125 v_{6}\\\\- I_{Ea1} - I_{V1} + 1.4 v_{3} - 0.2 v_{5} - 1.0 v_{7} - 0.2 v_{8}\\\\I_{L4}\\\\I_{F1} - I_{L1} - I_{V2} - 0.1 v_{1} - 0.2 v_{3} + 0.3 v_{5}\\\\I_{V1} - 0.125 v_{2} + 0.125 v_{6}\\\\- 2.0 s v_{1} - 1.0 v_{3} - 2.0 v_{4} + v_{7} \\cdot \\left(2.0 s + 1.16666666666667\\right) - 0.166666666666667 v_{8} + 2.0 v_{9}\\\\- I_{L4} - 0.2 v_{3} - 0.166666666666667 v_{7} + 0.466666666666667 v_{8}\\\\- I_{F1} + I_{L3} - 5.0 s v_{1} - 0.3 v_{10} + v_{9} \\cdot \\left(5.0 s + 0.3\\right)\\\\0.411111111111111 v_{10} + 2.0 v_{4} - 2.3 v_{9}\\\\- I_{L2} - I_{L3} + 0.1 v_{11} - 0.1 v_{12}\\\\I_{Ea1} - I_{H1} - 0.1 v_{11} + 0.35 v_{12} - 0.25 v_{13}\\\\I_{V2} - 0.25 v_{12} + 0.25 v_{13}\\\\v_{1} - v_{2}\\\\I_{F1} - 5.0 I_{V1}\\\\3.0 v_{1} - 3.0 v_{10} + v_{12} - v_{3}\\\\- 2.0 I_{V2} - v_{12} + v_{2}\\\\- v_{3} + v_{6}\\\\v_{13} - v_{5}\\\\- 3.0 I_{L1} s + v_{1} - v_{5}\\\\- 8.0 I_{L2} s - v_{11}\\\\- 8.0 I_{L3} s - 4.472135955 I_{L4} s - v_{11} + v_{9}\\\\- 4.472135955 I_{L3} s - 10.0 I_{L4} s + v_{4} - v_{8}\\end{matrix}\\right] = \\left[\\begin{matrix}0\\\\0\\\\0\\\\0\\\\0\\\\0\\\\0\\\\0\\\\0\\\\0\\\\0\\\\0\\\\0\\\\10.0\\\\0\\\\0\\\\0\\\\0\\\\0\\\\0\\\\0\\\\0\\\\0\\end{matrix}\\right]$"
      ],
      "text/plain": [
       "Eq(Matrix([\n",
       "[                              I_L1 + I_V4 - 2.0*s*v7 - 5.0*s*v9 + v1*(7.0*s + 0.1) - 0.1*v5],\n",
       "[                                                          I_H1 - I_V4 + 0.125*v2 - 0.125*v6],\n",
       "[                                          -I_Ea1 - I_V1 + 1.4*v3 - 0.2*v5 - 1.0*v7 - 0.2*v8],\n",
       "[                                                                                       I_L4],\n",
       "[                                              I_F1 - I_L1 - I_V2 - 0.1*v1 - 0.2*v3 + 0.3*v5],\n",
       "[                                                                 I_V1 - 0.125*v2 + 0.125*v6],\n",
       "[-2.0*s*v1 - 1.0*v3 - 2.0*v4 + v7*(2.0*s + 1.16666666666667) - 0.166666666666667*v8 + 2.0*v9],\n",
       "[                               -I_L4 - 0.2*v3 - 0.166666666666667*v7 + 0.466666666666667*v8],\n",
       "[                                       -I_F1 + I_L3 - 5.0*s*v1 - 0.3*v10 + v9*(5.0*s + 0.3)],\n",
       "[                                                    0.411111111111111*v10 + 2.0*v4 - 2.3*v9],\n",
       "[                                                           -I_L2 - I_L3 + 0.1*v11 - 0.1*v12],\n",
       "[                                               I_Ea1 - I_H1 - 0.1*v11 + 0.35*v12 - 0.25*v13],\n",
       "[                                                                 I_V2 - 0.25*v12 + 0.25*v13],\n",
       "[                                                                                    v1 - v2],\n",
       "[                                                                            I_F1 - 5.0*I_V1],\n",
       "[                                                                3.0*v1 - 3.0*v10 + v12 - v3],\n",
       "[                                                                       -2.0*I_V2 - v12 + v2],\n",
       "[                                                                                   -v3 + v6],\n",
       "[                                                                                   v13 - v5],\n",
       "[                                                                      -3.0*I_L1*s + v1 - v5],\n",
       "[                                                                          -8.0*I_L2*s - v11],\n",
       "[                                                -8.0*I_L3*s - 4.472135955*I_L4*s - v11 + v9],\n",
       "[                                                -4.472135955*I_L3*s - 10.0*I_L4*s + v4 - v8]]), Matrix([\n",
       "[   0],\n",
       "[   0],\n",
       "[   0],\n",
       "[   0],\n",
       "[   0],\n",
       "[   0],\n",
       "[   0],\n",
       "[   0],\n",
       "[   0],\n",
       "[   0],\n",
       "[   0],\n",
       "[   0],\n",
       "[   0],\n",
       "[10.0],\n",
       "[   0],\n",
       "[   0],\n",
       "[   0],\n",
       "[   0],\n",
       "[   0],\n",
       "[   0],\n",
       "[   0],\n",
       "[   0],\n",
       "[   0]]))"
      ]
     },
     "execution_count": 5,
     "metadata": {},
     "output_type": "execute_result"
    }
   ],
   "source": [
    "# enter the element values, set I2=0, K1 changed to M1\n",
    "equ1a = equ.subs({\n",
    "    V4:10.000000,\n",
    "    I2:0.000000,\n",
    "    f1:5.000000,\n",
    "    ea1:3.000000,\n",
    "    g1:2.000000,\n",
    "    h1:2.000000,\n",
    "    R3:10.000000,\n",
    "    R4:1.000000,\n",
    "    R10:10.000000,\n",
    "    R14:10.000000,\n",
    "    R2:5.000000,\n",
    "    R7:6.000000,\n",
    "    R11:5.000000,\n",
    "    R12:9.000000,\n",
    "    R16:10.000000,\n",
    "    R8:5.000000,\n",
    "    R17:8.000000,\n",
    "    V1:0.000000,\n",
    "    V2:0.000000,\n",
    "    R18:4.000000,\n",
    "    C1:2.000000,\n",
    "    C2:5.000000,\n",
    "    L1:3.000000,\n",
    "    L2:8.000000,\n",
    "    L3:8.000000,\n",
    "    L4:10.000000,\n",
    "    M1:4.472135955})    \n",
    "\n",
    "equ1a  # display the equations"
   ]
  },
  {
   "cell_type": "markdown",
   "metadata": {},
   "source": [
    "The equations above are using the component values and the Laplace variable."
   ]
  },
  {
   "cell_type": "code",
   "execution_count": 20,
   "metadata": {},
   "outputs": [],
   "source": [
    "# solve the equations.\n",
    "u1 = solve(equ1a,X)\n",
    "#u1 # the solution is too long to display correctly"
   ]
  },
  {
   "cell_type": "code",
   "execution_count": 21,
   "metadata": {},
   "outputs": [
    {
     "name": "stdout",
     "output_type": "stream",
     "text": [
      "                     5                         4                         3    \n",
      "2.2325166790056e+16⋅s  + 1.89060165810445e+17⋅s  + 4.32070251698074e+17⋅s  + 3\n",
      "──────────────────────────────────────────────────────────────────────────────\n",
      "                       5                       4                       3      \n",
      "  7.2576938804988e+15⋅s  + 1.298012194946e+17⋅s  + 2.444740209787e+17⋅s  + 1.6\n",
      "\n",
      "                     2                                         \n",
      ".44523980198078e+17⋅s  + 1.21346542780886e+17⋅s + 2.9930625e+16\n",
      "───────────────────────────────────────────────────────────────\n",
      "                   2                                           \n",
      "9584751982685e+17⋅s  + 4.81277812834983e+16⋅s + 5.0601675e+15  \n"
     ]
    }
   ],
   "source": [
    "# trying pprint for a fwe of the nodes\n",
    "pprint(u1[v1])"
   ]
  },
  {
   "cell_type": "code",
   "execution_count": 22,
   "metadata": {},
   "outputs": [
    {
     "name": "stdout",
     "output_type": "stream",
     "text": [
      "                       5                         4                         3  \n",
      "- 5.0251772014932e+16⋅s  - 1.10895202913556e+18⋅s  - 2.01266995808892e+18⋅s  -\n",
      "──────────────────────────────────────────────────────────────────────────────\n",
      "                       5                       4                       3      \n",
      "  7.2576938804988e+15⋅s  + 1.298012194946e+17⋅s  + 2.444740209787e+17⋅s  + 1.6\n",
      "\n",
      "                       2                                        \n",
      " 1.35132353962877e+18⋅s  - 3.59931270054097e+17⋅s - 2.067105e+16\n",
      "────────────────────────────────────────────────────────────────\n",
      "                   2                                            \n",
      "9584751982685e+17⋅s  + 4.81277812834983e+16⋅s + 5.0601675e+15   \n"
     ]
    }
   ],
   "source": [
    "pprint(u1[v2])"
   ]
  },
  {
   "cell_type": "markdown",
   "metadata": {},
   "source": [
    "## AC analysis\n",
    "Solve equations for $\\omega$ equal to 1 radian per second, s = 1j."
   ]
  },
  {
   "cell_type": "code",
   "execution_count": 23,
   "metadata": {},
   "outputs": [
    {
     "data": {
      "text/latex": [
       "$\\displaystyle \\left[\\begin{matrix}I_{L1} + I_{V4} + v_{1} \\cdot \\left(0.1 + 7.0 i\\right) - 0.1 v_{5} - 2.0 i v_{7} - 5.0 i v_{9}\\\\I_{H1} - I_{V4} + 0.125 v_{2} - 0.125 v_{6}\\\\- I_{Ea1} - I_{V1} + 1.4 v_{3} - 0.2 v_{5} - 1.0 v_{7} - 0.2 v_{8}\\\\I_{L4}\\\\I_{F1} - I_{L1} - I_{V2} - 0.1 v_{1} - 0.2 v_{3} + 0.3 v_{5}\\\\I_{V1} - 0.125 v_{2} + 0.125 v_{6}\\\\- 2.0 i v_{1} - 1.0 v_{3} - 2.0 v_{4} + v_{7} \\cdot \\left(1.16666666666667 + 2.0 i\\right) - 0.166666666666667 v_{8} + 2.0 v_{9}\\\\- I_{L4} - 0.2 v_{3} - 0.166666666666667 v_{7} + 0.466666666666667 v_{8}\\\\- I_{F1} + I_{L3} - 5.0 i v_{1} - 0.3 v_{10} + v_{9} \\cdot \\left(0.3 + 5.0 i\\right)\\\\0.411111111111111 v_{10} + 2.0 v_{4} - 2.3 v_{9}\\\\- I_{L2} - I_{L3} + 0.1 v_{11} - 0.1 v_{12}\\\\I_{Ea1} - I_{H1} - 0.1 v_{11} + 0.35 v_{12} - 0.25 v_{13}\\\\I_{V2} - 0.25 v_{12} + 0.25 v_{13}\\\\v_{1} - v_{2}\\\\I_{F1} - 5.0 I_{V1}\\\\3.0 v_{1} - 3.0 v_{10} + v_{12} - v_{3}\\\\- 2.0 I_{V2} - v_{12} + v_{2}\\\\- v_{3} + v_{6}\\\\v_{13} - v_{5}\\\\- 3.0 i I_{L1} + v_{1} - v_{5}\\\\- 8.0 i I_{L2} - v_{11}\\\\- 8.0 i I_{L3} - 4.472135955 i I_{L4} - v_{11} + v_{9}\\\\- 4.472135955 i I_{L3} - 10.0 i I_{L4} + v_{4} - v_{8}\\end{matrix}\\right] = \\left[\\begin{matrix}0\\\\0\\\\0\\\\0\\\\0\\\\0\\\\0\\\\0\\\\0\\\\0\\\\0\\\\0\\\\0\\\\10.0\\\\0\\\\0\\\\0\\\\0\\\\0\\\\0\\\\0\\\\0\\\\0\\end{matrix}\\right]$"
      ],
      "text/plain": [
       "Eq(Matrix([\n",
       "[                              I_L1 + I_V4 + v1*(0.1 + 7.0*I) - 0.1*v5 - 2.0*I*v7 - 5.0*I*v9],\n",
       "[                                                          I_H1 - I_V4 + 0.125*v2 - 0.125*v6],\n",
       "[                                          -I_Ea1 - I_V1 + 1.4*v3 - 0.2*v5 - 1.0*v7 - 0.2*v8],\n",
       "[                                                                                       I_L4],\n",
       "[                                              I_F1 - I_L1 - I_V2 - 0.1*v1 - 0.2*v3 + 0.3*v5],\n",
       "[                                                                 I_V1 - 0.125*v2 + 0.125*v6],\n",
       "[-2.0*I*v1 - 1.0*v3 - 2.0*v4 + v7*(1.16666666666667 + 2.0*I) - 0.166666666666667*v8 + 2.0*v9],\n",
       "[                               -I_L4 - 0.2*v3 - 0.166666666666667*v7 + 0.466666666666667*v8],\n",
       "[                                       -I_F1 + I_L3 - 5.0*I*v1 - 0.3*v10 + v9*(0.3 + 5.0*I)],\n",
       "[                                                    0.411111111111111*v10 + 2.0*v4 - 2.3*v9],\n",
       "[                                                           -I_L2 - I_L3 + 0.1*v11 - 0.1*v12],\n",
       "[                                               I_Ea1 - I_H1 - 0.1*v11 + 0.35*v12 - 0.25*v13],\n",
       "[                                                                 I_V2 - 0.25*v12 + 0.25*v13],\n",
       "[                                                                                    v1 - v2],\n",
       "[                                                                            I_F1 - 5.0*I_V1],\n",
       "[                                                                3.0*v1 - 3.0*v10 + v12 - v3],\n",
       "[                                                                       -2.0*I_V2 - v12 + v2],\n",
       "[                                                                                   -v3 + v6],\n",
       "[                                                                                   v13 - v5],\n",
       "[                                                                      -3.0*I*I_L1 + v1 - v5],\n",
       "[                                                                          -8.0*I*I_L2 - v11],\n",
       "[                                                -8.0*I*I_L3 - 4.472135955*I*I_L4 - v11 + v9],\n",
       "[                                                -4.472135955*I*I_L3 - 10.0*I*I_L4 + v4 - v8]]), Matrix([\n",
       "[   0],\n",
       "[   0],\n",
       "[   0],\n",
       "[   0],\n",
       "[   0],\n",
       "[   0],\n",
       "[   0],\n",
       "[   0],\n",
       "[   0],\n",
       "[   0],\n",
       "[   0],\n",
       "[   0],\n",
       "[   0],\n",
       "[10.0],\n",
       "[   0],\n",
       "[   0],\n",
       "[   0],\n",
       "[   0],\n",
       "[   0],\n",
       "[   0],\n",
       "[   0],\n",
       "[   0],\n",
       "[   0]]))"
      ]
     },
     "execution_count": 23,
     "metadata": {},
     "output_type": "execute_result"
    }
   ],
   "source": [
    "equ1a_1rad_per_s = equ1a.subs({s:1j})\n",
    "equ1a_1rad_per_s  # display the equations"
   ]
  },
  {
   "cell_type": "code",
   "execution_count": 24,
   "metadata": {},
   "outputs": [
    {
     "data": {
      "image/png": "[encoded data removed]",
      "text/latex": [
       "$\\displaystyle \\left\\{ I_{Ea1} : -1.22523336908514 - 0.840765512512539 i, \\  I_{F1} : -5.62023309737683 - 0.209106198605548 i, \\  I_{H1} : -4.07088397910677 - 1.34550926279174 i, \\  I_{L1} : -1.39813151246412 + 1.68136393529045 i, \\  I_{L2} : 0.114546545119793 - 0.0011123043384594 i, \\  I_{L3} : 0.223755430589947 - 0.193209701614398 i, \\  I_{L4} : 0.0, \\  I_{V1} : -1.12404661947537 - 0.0418212397211095 i, \\  I_{V2} : -2.50734863431189 - 0.699065756232061 i, \\  I_{V4} : -5.19493059858214 - 1.38733050251285 i, \\  v_{1} : 1.59338453957114 - 0.371283813893891 i, \\  v_{10} : 0.267492643844761 - 0.0167632823288092 i, \\  v_{11} : -0.00889843470767521 - 0.916372360958346 i, \\  v_{12} : -3.39191819180508 + 1.02684769857023 i, \\  v_{13} : 6.63747634544249 + 3.82311072349847 i, \\  v_{2} : -8.40661546042886 - 0.371283813893891 i, \\  v_{3} : 0.585757495374071 - 0.0367138961250149 i, \\  v_{4} : 1.7123114559261 + 1.00816753213745 i, \\  v_{5} : 6.63747634544249 + 3.82311072349847 i, \\  v_{6} : 0.585757495374071 - 0.0367138961250149 i, \\  v_{7} : 1.6721949324994 + 0.0650645877850054 i, \\  v_{8} : 0.848251402481531 + 0.0075028258696384 i, \\  v_{9} : 1.53677917820751 + 0.873671083761229 i\\right\\}$"
      ],
      "text/plain": [
       "{v1: 1.59338453957114 - 0.371283813893891*I, v2: -8.40661546042886 - 0.371283813893891*I, v3: 0.585757495374071 - 0.0367138961250149*I, v4: 1.7123114559261 + 1.00816753213745*I, v5: 6.63747634544249 + 3.82311072349847*I, v6: 0.585757495374071 - 0.0367138961250149*I, v7: 1.6721949324994 + 0.0650645877850054*I, v8: 0.848251402481531 + 0.0075028258696384*I, v9: 1.53677917820751 + 0.873671083761229*I, v10: 0.267492643844761 - 0.0167632823288092*I, v11: -0.00889843470767521 - 0.916372360958346*I, v12: -3.39191819180508 + 1.02684769857023*I, v13: 6.63747634544249 + 3.82311072349847*I, I_V4: -5.19493059858214 - 1.38733050251285*I, I_F1: -5.62023309737683 - 0.209106198605548*I, I_Ea1: -1.22523336908514 - 0.840765512512539*I, I_H1: -4.07088397910677 - 1.34550926279174*I, I_V1: -1.12404661947537 - 0.0418212397211095*I, I_V2: -2.50734863431189 - 0.699065756232061*I, I_L1: -1.39813151246412 + 1.68136393529045*I, I_L2: 0.114546545119793 - 0.0011123043384594*I, I_L3: 0.223755430589947 - 0.193209701614398*I, I_L4: 0.0}"
      ]
     },
     "execution_count": 24,
     "metadata": {},
     "output_type": "execute_result"
    }
   ],
   "source": [
    "ans1 = solve(equ1a_1rad_per_s,X)\n",
    "ans1"
   ]
  },
  {
   "cell_type": "code",
   "execution_count": 25,
   "metadata": {},
   "outputs": [
    {
     "name": "stdout",
     "output_type": "stream",
     "text": [
      "v1   : mag:   1.636070 phase:   -13.11677 deg\n",
      "v2   : mag:   8.414810 phase:  -177.47114 deg\n",
      "v3   : mag:   0.586907 phase:    -3.58647 deg\n",
      "v4   : mag:   1.987061 phase:    30.48855 deg\n",
      "v5   : mag:   7.659782 phase:    29.94145 deg\n",
      "v6   : mag:   0.586907 phase:    -3.58647 deg\n",
      "v7   : mag:   1.673460 phase:     2.22824 deg\n",
      "v8   : mag:   0.848285 phase:     0.50677 deg\n",
      "v9   : mag:   1.767765 phase:    29.61857 deg\n",
      "v10  : mag:   0.268017 phase:    -3.58593 deg\n",
      "v11  : mag:   0.916416 phase:   -90.55635 deg\n",
      "v12  : mag:   3.543942 phase:   163.15717 deg\n",
      "v13  : mag:   7.659782 phase:    29.94145 deg\n",
      "I_V4 : mag:   5.376987 phase:  -165.04783 deg\n",
      "I_F1 : mag:   5.624122 phase:  -177.86924 deg\n",
      "I_Ea1: mag:   1.485962 phase:  -145.54176 deg\n",
      "I_H1 : mag:   4.287481 phase:  -161.71024 deg\n",
      "I_V1 : mag:   1.124824 phase:  -177.86924 deg\n",
      "I_V2 : mag:   2.602977 phase:  -164.42117 deg\n",
      "I_L1 : mag:   2.186723 phase:   129.74508 deg\n",
      "I_L2 : mag:   0.114552 phase:    -0.55635 deg\n",
      "I_L3 : mag:   0.295629 phase:   -40.81015 deg\n",
      "I_L4 : mag:   0.000000 phase:         nan deg\n"
     ]
    }
   ],
   "source": [
    "for name, value in ans1.items():\n",
    "    print('{:5s}: mag: {:10.6f} phase: {:11.5f} deg'.format(str(name),float(abs(value)),float(arg(value)*180/np.pi)))"
   ]
  },
  {
   "cell_type": "markdown",
   "metadata": {},
   "source": [
    "The results from LTSpice AC analysis at 0.159 Hz are shown below.   \n",
    "```\n",
    "--- AC Analysis ---\n",
    "\n",
    "frequency:\t0.159155\tHz\n",
    "V(1):\tmag:    1.63601 phase:   -13.1107° \tvoltage\n",
    "V(2):\tmag:    8.41482 phase:   -177.472° \tvoltage\n",
    "V(3):\tmag:   0.586932 phase:    -3.5698° \tvoltage\n",
    "V(4):\tmag:    1.98715 phase:    30.4941° \tvoltage\n",
    "V(5):\tmag:    7.65904 phase:    29.9359° \tvoltage\n",
    "V(9):\tmag:    1.76784 phase:    29.6245° \tvoltage\n",
    "V(12):\tmag:    3.54398 phase:    163.161° \tvoltage\n",
    "V(10):\tmag:   0.267951 phase:   -3.57561° \tvoltage\n",
    "V(7):\tmag:    1.67347 phase:    2.23357° \tvoltage\n",
    "V(8):\tmag:   0.848303 phase:   0.515418° \tvoltage\n",
    "V(11):\tmag:   0.916372 phase:   -90.5542° \tvoltage\n",
    "V(6):\tmag:   0.586932 phase:    -3.5698° \tvoltage\n",
    "V(13):\tmag:    7.65904 phase:    29.9359° \tvoltage\n",
    "I(C1):\tmag:   0.886775 phase:    169.759° \tdevice_current\n",
    "I(C2):\tmag:    6.23127 phase:    2.60368° \tdevice_current\n",
    "I(F1):\tmag:    5.62415 phase:   -177.869° \tdevice_current\n",
    "I(H1):\tmag:    4.28722 phase:   -161.715° \tdevice_current\n",
    "I(L1):\tmag:     2.1864 phase:    129.758° \tdevice_current\n",
    "I(L2):\tmag:   0.114546 phase:  -0.547059° \tdevice_current\n",
    "I(L3):\tmag:   0.295638 phase:   -40.8067° \tdevice_current\n",
    "I(L4):\tmag:          0 phase:          0° \tdevice_current\n",
    "I(I2):\tmag:          0 phase:          0° \tdevice_current\n",
    "I(R3):\tmag:   0.655921 phase:    39.7384° \tdevice_current\n",
    "I(R4):\tmag:    1.09116 phase:   -174.649° \tdevice_current\n",
    "I(R10):\tmag:  0.0848303 phase:   0.515418° \tdevice_current\n",
    "I(R14):\tmag:   0.155058 phase:   -144.946° \tdevice_current\n",
    "I(R2):\tmag:    1.43539 phase:   -147.477° \tdevice_current\n",
    "I(R7):\tmag:   0.137657 phase:   -176.002° \tdevice_current\n",
    "I(R11):\tmag:   0.310117 phase:   -144.946° \tdevice_current\n",
    "I(R12):\tmag:  0.0297724 phase:    176.424° \tdevice_current\n",
    "I(R16):\tmag:   0.390139 phase:    150.131° \tdevice_current\n",
    "I(R8):\tmag:  0.0532334 phase:   -170.446° \tdevice_current\n",
    "I(R17):\tmag:    1.12483 phase:   -177.869° \tdevice_current\n",
    "I(R18):\tmag:    2.60288 phase:   -164.425° \tdevice_current\n",
    "I(G1):\tmag:   0.442308 phase:   -142.538° \tdevice_current\n",
    "I(E1):\tmag:    1.48573 phase:   -145.548° \tdevice_current\n",
    "I(V4):\tmag:    5.37676 phase:   -165.052° \tdevice_current\n",
    "I(V1):\tmag:    1.12483 phase:   -177.869° \tdevice_current\n",
    "I(V2):\tmag:    2.60288 phase:   -164.425° \tdevice_current\n",
    "```\n",
    "The LTSpice results are the same as those from the Python code.\n",
    "\n",
    "## AC Sweep\n",
    "Looking at node 10 voltage and comparing the results with those obtained from LTSpice. The frequency sweep is from 0.01 Hz to 1 Hz.\n",
    "\n",
    "Load the csv file of node 10 voltage over the sweep range and plot along with the results obtained from SymPy."
   ]
  },
  {
   "cell_type": "code",
   "execution_count": 26,
   "metadata": {},
   "outputs": [],
   "source": [
    "os.chdir('/home/jeff32/Documents/Solving Electrical Engineering Problems with Python Blog/MNA Test Circuits/test_6/') # change directory to net list location\n",
    "\n",
    "fn = 'test_6.csv' # data from LTSpice\n",
    "LTSpice_data = np.genfromtxt(fn, delimiter=',')\n",
    "\n",
    "# change the working director back to the Jupyter folder\n",
    "os.chdir('/home/jeff32/Documents/JupyterLab/Node Analysis/')  "
   ]
  },
  {
   "cell_type": "code",
   "execution_count": 27,
   "metadata": {},
   "outputs": [],
   "source": [
    "# initaliaze some empty arrays\n",
    "frequency = np.zeros(len(LTSpice_data))\n",
    "voltage = np.zeros(len(LTSpice_data)).astype(complex)\n",
    "\n",
    "# convert the csv data to complez numbers and store in the array\n",
    "for i in range(len(LTSpice_data)):\n",
    "    frequency[i] = LTSpice_data[i][0]\n",
    "    voltage[i] = LTSpice_data[i][1] + LTSpice_data[i][2]*1j"
   ]
  },
  {
   "cell_type": "markdown",
   "metadata": {},
   "source": [
    "Load the Laplace polyinominal for node 5"
   ]
  },
  {
   "cell_type": "code",
   "execution_count": 28,
   "metadata": {
    "collapsed": false,
    "jupyter": {
     "outputs_hidden": false
    }
   },
   "outputs": [
    {
     "data": {
      "image/png": "[encoded data removed]",
      "text/latex": [
       "$\\displaystyle \\frac{1.0190497760676 \\cdot 10^{16} s^{5} + 3.30689652719137 \\cdot 10^{16} s^{4} + 5.41568605911396 \\cdot 10^{16} s^{3} + 4.70856283994088 \\cdot 10^{16} s^{2} + 2.73004570071188 \\cdot 10^{16} s + 9.864 \\cdot 10^{15}}{2.4192312934996 \\cdot 10^{15} s^{5} + 4.32670731648667 \\cdot 10^{16} s^{4} + 8.14913403262333 \\cdot 10^{16} s^{3} + 5.6528250660895 \\cdot 10^{16} s^{2} + 1.60425937611661 \\cdot 10^{16} s + 1.6867225 \\cdot 10^{15}}$"
      ],
      "text/plain": [
       "(1.0190497760676e+16*s**5 + 3.30689652719137e+16*s**4 + 5.41568605911396e+16*s**3 + 4.70856283994088e+16*s**2 + 2.73004570071188e+16*s + 9.864e+15)/(2.4192312934996e+15*s**5 + 4.32670731648667e+16*s**4 + 8.14913403262333e+16*s**3 + 5.6528250660895e+16*s**2 + 1.60425937611661e+16*s + 1.6867225e+15)"
      ]
     },
     "execution_count": 28,
     "metadata": {},
     "output_type": "execute_result"
    }
   ],
   "source": [
    "H = u1[v10]\n",
    "H"
   ]
  },
  {
   "cell_type": "code",
   "execution_count": 29,
   "metadata": {
    "collapsed": false,
    "jupyter": {
     "outputs_hidden": false
    }
   },
   "outputs": [],
   "source": [
    "num, denom = fraction(H) #returns numerator and denominator\n",
    "\n",
    "# convert symbolic to numpy polynomial\n",
    "a = np.array(Poly(num, s).all_coeffs(), dtype=float)\n",
    "b = np.array(Poly(denom, s).all_coeffs(), dtype=float)\n",
    "system_c1 = (a, b) # system for circuit 1"
   ]
  },
  {
   "cell_type": "code",
   "execution_count": 30,
   "metadata": {
    "collapsed": false,
    "jupyter": {
     "outputs_hidden": false
    }
   },
   "outputs": [],
   "source": [
    "x = np.linspace(0.01*2*np.pi, 1*2*np.pi, 10000, endpoint=True)\n",
    "w_c1, mag_c1, phase_c1 = signal.bode(system_c1, w=x) # returns: rad/s, mag in dB, phase in deg"
   ]
  },
  {
   "cell_type": "markdown",
   "metadata": {},
   "source": [
    "Plot the results."
   ]
  },
  {
   "cell_type": "code",
   "execution_count": 31,
   "metadata": {},
   "outputs": [
    {
     "data": {
      "image/png": "[encoded data removed]",
      "text/plain": [
       "<Figure size 640x480 with 2 Axes>"
      ]
     },
     "metadata": {},
     "output_type": "display_data"
    }
   ],
   "source": [
    "fig, ax1 = plt.subplots()\n",
    "ax1.set_ylabel('magnitude, dB')\n",
    "ax1.set_xlabel('frequency, Hz')\n",
    "\n",
    "plt.semilogx(frequency, 20*np.log10(np.abs(voltage)),'-k')    # Bode magnitude plot\n",
    "plt.semilogx(w_c1/(2*np.pi), mag_c1,'-b')    # Bode magnitude plot\n",
    "\n",
    "ax1.tick_params(axis='y')\n",
    "#ax1.set_ylim((-30,20))\n",
    "plt.grid()\n",
    "\n",
    "# instantiate a second y-axes that shares the same x-axis\n",
    "ax2 = ax1.twinx()\n",
    "color = 'tab:blue'\n",
    "\n",
    "plt.semilogx(frequency, np.angle(voltage)*180/np.pi,':',color=color)  # Bode phase plot\n",
    "plt.semilogx(w_c1/(2*np.pi), phase_c1,':',color='tab:red')  # Bode phase plot\n",
    "\n",
    "ax2.set_ylabel('phase, deg',color=color)\n",
    "ax2.tick_params(axis='y', labelcolor=color)\n",
    "#ax2.set_ylim((-5,25))\n",
    "\n",
    "plt.title('Bode plot')\n",
    "plt.show()"
   ]
  },
  {
   "cell_type": "markdown",
   "metadata": {},
   "source": [
    "The SymPy and LTSpice results overlay each other. "
   ]
  },
  {
   "cell_type": "code",
   "execution_count": null,
   "metadata": {},
   "outputs": [],
   "source": []
  }
 ],
 "metadata": {
  "kernelspec": {
   "display_name": "Python 3 (ipykernel)",
   "language": "python",
   "name": "python3"
  },
  "language_info": {
   "codemirror_mode": {
    "name": "ipython",
    "version": 3
   },
   "file_extension": ".py",
   "mimetype": "text/x-python",
   "name": "python",
   "nbconvert_exporter": "python",
   "pygments_lexer": "ipython3",
   "version": "3.10.9"
  }
 },
 "nbformat": 4,
 "nbformat_minor": 4
}
