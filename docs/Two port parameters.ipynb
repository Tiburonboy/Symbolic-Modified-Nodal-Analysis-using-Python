{
 "cells": [
  {
   "cell_type": "markdown",
   "metadata": {},
   "source": [
    "# Two port parameters\n",
    "Last update: 26 Apr 2022  \n",
    "\n",
    "This notebook describes the calculation of two port parameters derived from the circuit's netlist. A [Two-port network](https://en.wikipedia.org/wiki/Two-port_network) is a circuit that has two pairs of ports or terminals and the circuit is characterized by the currents and voltages at the ports by a 2 by 2 matrix. From a two port matrix the response of the network to signals applied to the ports can be calculated easily, without solving for all the internal voltages and currents in the network. For example filters, matching networks, transmission lines, and transistors are characterized by two port parameters.\n",
    "\n",
    "The first circuit is an attenuator, which could be easily analyzed by hand with a pencil, paper and a calculator, but here I'm using python to step through the calculations. These same steps can be applied to larger, more complex circuits which would be difficult to analyze by hand. The Sympy and SciPy libraries can be used to obtain symbolic and numerical results, however as is shown below, when the circuit is large, symbolic results are not that useful nor do they provide much insight.\n",
    "\n",
    "The procedure starts by first drawing a schematic of the circuit with a schematic capture program such as EasyEDA (links to the schematics are provided below) then the netlist is generated and exported as a text file. The netlist is used to generate modified nodal equations with the python program described [here](https://github.com/Tiburonboy/Symbolic-modified-nodal-analysis). The equations are solved for voltages and currents at the port terminals by using SymPy to generate the [z-paramters](https://en.wikipedia.org/wiki/Impedance_parameters). Z-parameters are also known as open-circuit impedance parameters as they are calculated under open circuit conditions. Once the z-parameters are obtained, these can be converted into other parameters, such as Y, H, S or others. \n",
    "\n",
    "The second circuit is a band pass filter. The filter is designed from a low pass prototype by using normalized values from a filter design handbook. Z and s-parameters are calculated and the results are plotted using Matplotlib."
   ]
  },
  {
   "cell_type": "code",
   "execution_count": 1,
   "metadata": {
    "collapsed": false,
    "jupyter": {
     "outputs_hidden": false
    }
   },
   "outputs": [],
   "source": [
    "import numpy as np\n",
    "from sympy import *\n",
    "import matplotlib.pyplot as plt\n",
    "init_printing()"
   ]
  },
  {
   "cell_type": "markdown",
   "metadata": {},
   "source": [
    "## Pi-attenuator\n",
    "The pi-attenuator is formed by three resistors with R1 and R3 as the shunt resistors on the input and output ports and R2 as the series resistor in a circuit topology in the shape of the greek letter pi. For R1 = R3 = 96.25 ohms and R2 equal to 71.15 ohms, the attenuation is 10 dB and the port impedance is 50 ohms. Pasternack's Pi Attenuator Calculator ([Pi pad attenuator](https://www.pasternack.com/t-calculator-pi-attn.aspx)) was used to design the attenuator.\n",
    "\n",
    "The selection of which type a network parameter is somewhat a matter of convenience. However, some circuits can't have their ports shorted or left open for proper operation, so s-parameters are the appropriate choice in this situation. Solving for the z-parameters is convenient since all we need to do is apply a voltage source to the input port, with the output port unterminated, and solve for the voltage and currents at each port. Since the output port is unterminated, the current into this port is zero and we can find z11 and z21. To find z21 and z22, the voltage source is applied to port 2 with port 1 unterminated. \n",
    "\n",
    "To find Z-parameters attach voltage sources to both ports and find the node equations. EasyEDA was used to draw the schematic and generate the netlist. A link to the schematic is [here](https://easyeda.com/editor#id=|6b1460bfe8ec4872b7d7fd3038f38331|82658727399e487c94ebe177746e0ba0).\n",
    "\n",
    "![schematic](sch_pi_atten_10dB_50ohm.png)\n",
    "\n",
    "The netlist for the circuit:\n",
    "```\n",
    "R1 0 1 96.25\n",
    "R2 1 2 71.15\n",
    "R3 0 2 96.25\n",
    "V1 1 0 1\n",
    "V2 2 0 1\n",
    "```\n",
    "\n",
    "### Find z11 & z21\n",
    "To find $z_{11}$ and $z_{21}$, remove V2 from the net list by commenting out the V2 line in the net list. This will make $I_2$ equal to zero. $z_{11}$ is equal to $\\frac{V_1}{I_1}\\text{  when  }I_2=0$ and $z_{21}$ is equal to $\\frac{V_2}{I_1}\\text{  when  }I_2=0$.  \n",
    "\n",
    "The net list below was run through the NMA code to generate the circuit equations.\n",
    "```\n",
    "R1 0 1 96.25\n",
    "R2 1 2 71.15\n",
    "R3 0 2 96.25\n",
    "V1 1 0 1\n",
    "*V2 2 0 1\n",
    "```\n",
    "\n",
    "The circuit equations generated are:\n",
    "```\n",
    "[[Eq(I_V1 + v1*(1/R2 + 1/R1) - v2/R2, 0)],\n",
    "[Eq(v2*(1/R3 + 1/R2) - v1/R2, 0)],\n",
    "[Eq(v1, V1)]]\n",
    "```"
   ]
  },
  {
   "cell_type": "code",
   "execution_count": 2,
   "metadata": {},
   "outputs": [
    {
     "data": {
      "text/latex": [
       "$$\\left[\\begin{matrix}I_{V1} + v_{1} \\left(\\frac{1}{R_{2}} + \\frac{1}{R_{1}}\\right) - \\frac{v_{2}}{R_{2}} = 0\\\\v_{2} \\left(\\frac{1}{R_{3}} + \\frac{1}{R_{2}}\\right) - \\frac{v_{1}}{R_{2}} = 0\\\\v_{1} = V_{1}\\end{matrix}\\right]$$"
      ],
      "text/plain": [
       "⎡          ⎛1    1 ⎞   v₂    ⎤\n",
       "⎢I_V1 + v₁⋅⎜── + ──⎟ - ── = 0⎥\n",
       "⎢          ⎝R₂   R₁⎠   R₂    ⎥\n",
       "⎢                            ⎥\n",
       "⎢      ⎛1    1 ⎞   v₁        ⎥\n",
       "⎢   v₂⋅⎜── + ──⎟ - ── = 0    ⎥\n",
       "⎢      ⎝R₃   R₂⎠   R₂        ⎥\n",
       "⎢                            ⎥\n",
       "⎣          v₁ = V₁           ⎦"
      ]
     },
     "execution_count": 2,
     "metadata": {},
     "output_type": "execute_result"
    }
   ],
   "source": [
    "# declare the following symbols\n",
    "I_V1, R3, R2, V1, v1, R1, v2 = symbols('I_V1 R3 R2 V1 v1 R1 v2')\n",
    "\n",
    "# use the equations generated by nodal analysis\n",
    "equ_p1 = Matrix(\n",
    "    [[Eq(I_V1 + v1*(1/R2 + 1/R1) - v2/R2, 0)],\n",
    "    [Eq(v2*(1/R3 + 1/R2) - v1/R2, 0)],\n",
    "    [Eq(v1, V1)]])\n",
    "equ_p1"
   ]
  },
  {
   "cell_type": "code",
   "execution_count": 3,
   "metadata": {},
   "outputs": [
    {
     "data": {
      "image/png": "[encoded data removed]",
      "text/latex": [
       "$$\\left \\{ I_{V1} : - \\frac{V_{1} \\left(R_{1} + R_{2} + R_{3}\\right)}{R_{1} \\left(R_{2} + R_{3}\\right)}, \\quad v_{1} : V_{1}, \\quad v_{2} : \\frac{R_{3} V_{1}}{R_{2} + R_{3}}\\right \\}$$"
      ],
      "text/plain": [
       "⎧      -V₁⋅(R₁ + R₂ + R₃)                R₃⋅V₁ ⎫\n",
       "⎨I_V1: ───────────────────, v₁: V₁, v₂: ───────⎬\n",
       "⎩          R₁⋅(R₂ + R₃)                 R₂ + R₃⎭"
      ]
     },
     "execution_count": 3,
     "metadata": {},
     "output_type": "execute_result"
    }
   ],
   "source": [
    "# find symbolic solution\n",
    "u_p1 = solve(equ_p1,[v1, v2, I_V1])\n",
    "u_p1"
   ]
  },
  {
   "cell_type": "markdown",
   "metadata": {},
   "source": [
    "$z_{11} = \\frac {V_1}{I_1} \\text{  when  } I_2=0$  \n",
    "\n",
    "A negative sign was placed in the equation to make the direction of the current flow match the definition of the two port parameters."
   ]
  },
  {
   "cell_type": "code",
   "execution_count": 4,
   "metadata": {},
   "outputs": [
    {
     "data": {
      "image/png": "[encoded data removed]",
      "text/latex": [
       "$$\\frac{R_{1} \\left(R_{2} + R_{3}\\right)}{R_{1} + R_{2} + R_{3}}$$"
      ],
      "text/plain": [
       "R₁⋅(R₂ + R₃)\n",
       "────────────\n",
       "R₁ + R₂ + R₃"
      ]
     },
     "execution_count": 4,
     "metadata": {},
     "output_type": "execute_result"
    }
   ],
   "source": [
    "z11 = -u_p1[v1]/u_p1[I_V1]\n",
    "z11"
   ]
  },
  {
   "cell_type": "markdown",
   "metadata": {},
   "source": [
    "$z_{21} = \\frac {V_2}{I_1} \\text{  when  } I_2=0$  "
   ]
  },
  {
   "cell_type": "code",
   "execution_count": 5,
   "metadata": {},
   "outputs": [
    {
     "data": {
      "image/png": "[encoded data removed]",
      "text/latex": [
       "$$\\frac{R_{1} R_{3}}{R_{1} + R_{2} + R_{3}}$$"
      ],
      "text/plain": [
       "   R₁⋅R₃    \n",
       "────────────\n",
       "R₁ + R₂ + R₃"
      ]
     },
     "execution_count": 5,
     "metadata": {},
     "output_type": "execute_result"
    }
   ],
   "source": [
    "z21 = -u_p1[v2]/u_p1[I_V1]\n",
    "z21"
   ]
  },
  {
   "cell_type": "markdown",
   "metadata": {},
   "source": [
    "### Find z12 & z22\n",
    "To find $z_{12}$ and $z_{22}$, remove V1 from the net list by commenting out the V1 line in the netlist. This will make $I_1$ equal to zero. $z_{12}$ is equal to $\\frac{V_1}{I_2}\\text{  when  }I_1=0$ and $z_{22}$ is equal to $\\frac{V_2}{I_2}\\text{  when  }I_1=0$.  \n",
    "\n",
    "The net list below was run through the NMA code to generate the circuit equations.\n",
    "\n",
    "Remove V1 from the net list.\n",
    "```\n",
    "R1 0 1 96.25\n",
    "R2 1 2 71.15\n",
    "R3 0 2 96.25\n",
    "*V1 1 0 1\n",
    "V2 2 0 1\n",
    "```\n",
    "\n",
    "The circuit equations generated by the MNA python code.\n",
    "```\n",
    "[[Eq(v1*(1/R2 + 1/R1) - v2/R2, 0)],\n",
    "[Eq(I_V2 + v2*(1/R3 + 1/R2) - v1/R2, 0)],\n",
    "[Eq(v2, V2)]]\n",
    "```"
   ]
  },
  {
   "cell_type": "code",
   "execution_count": 6,
   "metadata": {},
   "outputs": [
    {
     "data": {
      "text/latex": [
       "$$\\left[\\begin{matrix}v_{1} \\left(\\frac{1}{R_{2}} + \\frac{1}{R_{1}}\\right) - \\frac{v_{2}}{R_{2}} = 0\\\\I_{V2} + v_{2} \\left(\\frac{1}{R_{3}} + \\frac{1}{R_{2}}\\right) - \\frac{v_{1}}{R_{2}} = 0\\\\v_{2} = V_{2}\\end{matrix}\\right]$$"
      ],
      "text/plain": [
       "⎡      ⎛1    1 ⎞   v₂        ⎤\n",
       "⎢   v₁⋅⎜── + ──⎟ - ── = 0    ⎥\n",
       "⎢      ⎝R₂   R₁⎠   R₂        ⎥\n",
       "⎢                            ⎥\n",
       "⎢          ⎛1    1 ⎞   v₁    ⎥\n",
       "⎢I_V2 + v₂⋅⎜── + ──⎟ - ── = 0⎥\n",
       "⎢          ⎝R₃   R₂⎠   R₂    ⎥\n",
       "⎢                            ⎥\n",
       "⎣          v₂ = V₂           ⎦"
      ]
     },
     "execution_count": 6,
     "metadata": {},
     "output_type": "execute_result"
    }
   ],
   "source": [
    "# declare the following symbols\n",
    "R3, R2, V2, v1, R1, I_V2, v2 = symbols('R3 R2 V2 v1 R1 I_V2 v2')\n",
    "\n",
    "# use the equations generated by nodal analysis\n",
    "equ_p2 = Matrix(\n",
    "    [[Eq(v1*(1/R2 + 1/R1) - v2/R2, 0)],\n",
    "    [Eq(I_V2 + v2*(1/R3 + 1/R2) - v1/R2, 0)],\n",
    "    [Eq(v2, V2)]])\n",
    "equ_p2"
   ]
  },
  {
   "cell_type": "code",
   "execution_count": 7,
   "metadata": {},
   "outputs": [
    {
     "data": {
      "image/png": "[encoded data removed]",
      "text/latex": [
       "$$\\left \\{ I_{V2} : - \\frac{V_{2} \\left(R_{1} + R_{2} + R_{3}\\right)}{R_{3} \\left(R_{1} + R_{2}\\right)}, \\quad v_{1} : \\frac{R_{1} V_{2}}{R_{1} + R_{2}}, \\quad v_{2} : V_{2}\\right \\}$$"
      ],
      "text/plain": [
       "⎧      -V₂⋅(R₁ + R₂ + R₃)        R₁⋅V₂         ⎫\n",
       "⎨I_V2: ───────────────────, v₁: ───────, v₂: V₂⎬\n",
       "⎩          R₃⋅(R₁ + R₂)         R₁ + R₂        ⎭"
      ]
     },
     "execution_count": 7,
     "metadata": {},
     "output_type": "execute_result"
    }
   ],
   "source": [
    "# find symbolic solution\n",
    "u_p2 = solve(equ_p2,[v1, v2, I_V2])\n",
    "u_p2"
   ]
  },
  {
   "cell_type": "markdown",
   "metadata": {},
   "source": [
    "$z_{12}=\\frac{V_1}{I_2}\\text{  when  }I_1=0$ "
   ]
  },
  {
   "cell_type": "code",
   "execution_count": 8,
   "metadata": {},
   "outputs": [
    {
     "data": {
      "image/png": "[encoded data removed]",
      "text/latex": [
       "$$\\frac{R_{1} R_{3}}{R_{1} + R_{2} + R_{3}}$$"
      ],
      "text/plain": [
       "   R₁⋅R₃    \n",
       "────────────\n",
       "R₁ + R₂ + R₃"
      ]
     },
     "execution_count": 8,
     "metadata": {},
     "output_type": "execute_result"
    }
   ],
   "source": [
    "z12 = -u_p2[v1]/u_p2[I_V2]\n",
    "z12"
   ]
  },
  {
   "cell_type": "markdown",
   "metadata": {},
   "source": [
    "$z_{22}=\\frac{V_2}{I_2}\\text{  when  }I_1=0$  "
   ]
  },
  {
   "cell_type": "code",
   "execution_count": 9,
   "metadata": {},
   "outputs": [
    {
     "data": {
      "image/png": "[encoded data removed]",
      "text/latex": [
       "$$\\frac{R_{3} \\left(R_{1} + R_{2}\\right)}{R_{1} + R_{2} + R_{3}}$$"
      ],
      "text/plain": [
       "R₃⋅(R₁ + R₂)\n",
       "────────────\n",
       "R₁ + R₂ + R₃"
      ]
     },
     "execution_count": 9,
     "metadata": {},
     "output_type": "execute_result"
    }
   ],
   "source": [
    "z22 = -u_p2[v2]/u_p2[I_V2]\n",
    "z22"
   ]
  },
  {
   "cell_type": "markdown",
   "metadata": {},
   "source": [
    "The common names for the z-parameters are:  \n",
    "z11: input driving point impedance  \n",
    "z12: reverse transfer impedance  \n",
    "z21: forward transfer impedance  \n",
    "z22: output driving point impedance  \n",
    "\n",
    "The elements of the matrix can be displayed:"
   ]
  },
  {
   "cell_type": "code",
   "execution_count": 10,
   "metadata": {},
   "outputs": [
    {
     "data": {
      "text/latex": [
       "$$\\left[\\begin{matrix}\\frac{R_{1} \\left(R_{2} + R_{3}\\right)}{R_{1} + R_{2} + R_{3}} & \\frac{R_{1} R_{3}}{R_{1} + R_{2} + R_{3}}\\\\\\frac{R_{1} R_{3}}{R_{1} + R_{2} + R_{3}} & \\frac{R_{3} \\left(R_{1} + R_{2}\\right)}{R_{1} + R_{2} + R_{3}}\\end{matrix}\\right]$$"
      ],
      "text/plain": [
       "⎡R₁⋅(R₂ + R₃)     R₁⋅R₃    ⎤\n",
       "⎢────────────  ────────────⎥\n",
       "⎢R₁ + R₂ + R₃  R₁ + R₂ + R₃⎥\n",
       "⎢                          ⎥\n",
       "⎢   R₁⋅R₃      R₃⋅(R₁ + R₂)⎥\n",
       "⎢────────────  ────────────⎥\n",
       "⎣R₁ + R₂ + R₃  R₁ + R₂ + R₃⎦"
      ]
     },
     "execution_count": 10,
     "metadata": {},
     "output_type": "execute_result"
    }
   ],
   "source": [
    "Matrix([[z11,z21],[z12,z22]])"
   ]
  },
  {
   "cell_type": "markdown",
   "metadata": {},
   "source": [
    "Actual values for each of the components can be substituted for the symbols with R1 = R3 = 96.25 ohms and R2 equal to 71.15 ohms"
   ]
  },
  {
   "cell_type": "code",
   "execution_count": 11,
   "metadata": {},
   "outputs": [],
   "source": [
    "atten_values = {R1:96.25,R2:71.15,R3:96.25}"
   ]
  },
  {
   "cell_type": "code",
   "execution_count": 12,
   "metadata": {},
   "outputs": [],
   "source": [
    "z11_val = z11.subs(atten_values)\n",
    "z12_val = z12.subs(atten_values)\n",
    "z21_val = z21.subs(atten_values)\n",
    "z22_val = z22.subs(atten_values)"
   ]
  },
  {
   "cell_type": "markdown",
   "metadata": {},
   "source": [
    "The numeric values of the impedance matrix"
   ]
  },
  {
   "cell_type": "code",
   "execution_count": 13,
   "metadata": {},
   "outputs": [
    {
     "data": {
      "text/plain": [
       "array([[61.11227005, 35.13772995],\n",
       "       [35.13772995, 61.11227005]])"
      ]
     },
     "execution_count": 13,
     "metadata": {},
     "output_type": "execute_result"
    }
   ],
   "source": [
    "np.array([[z11_val, z12_val],[z21_val, z22_val]],dtype=np.float)"
   ]
  },
  {
   "cell_type": "markdown",
   "metadata": {},
   "source": [
    "## Calculate Z in and Z out, ki and kv\n",
    "A two-port circuit is typically driven at port 1 and loaded at port 2, and four equations needed to solve the four unknowns.\n",
    "\n",
    "$\\begin{align*}\n",
    "\\begin{bmatrix} -1 & 0 & z11 & z12 \\\\\\ 0 & -1 & z21 & z22 \\\\\\ 1 & 0 & Z_S & 0 \\\\\\ 0 & 1 & 0 & Z_L    \n",
    "\\end{bmatrix}\n",
    "\\begin{bmatrix}\n",
    "  V_1  \\\\\n",
    "  V_2  \\\\\n",
    "  I_1 \\\\\n",
    "  I_2\n",
    "\\end{bmatrix}\n",
    "{} &= \\begin{bmatrix}\n",
    "  0  \\\\\n",
    "  0  \\\\\n",
    "  V_g \\\\\n",
    "  0\n",
    "\\end{bmatrix}\n",
    "\\end{align*}$\n",
    "\n",
    "Reference: https://www.ee.nthu.edu.tw/~sdyang/Courses/Circuits/Ch18_Std.pdf\n",
    "\n",
    "Putting into SymPy  "
   ]
  },
  {
   "cell_type": "code",
   "execution_count": 14,
   "metadata": {},
   "outputs": [
    {
     "data": {
      "text/latex": [
       "$$\\left[\\begin{matrix}I_{V1} Z_{11} + I_{V2} Z_{12} - V_{1}\\\\I_{V1} Z_{21} + I_{V2} Z_{22} - V_{2}\\\\I_{V1} Z_{s} + V_{1}\\\\I_{V2} Z_{l} + V_{2}\\end{matrix}\\right] = \\left[\\begin{matrix}0\\\\0\\\\Vg\\\\0\\end{matrix}\\right]$$"
      ],
      "text/plain": [
       "⎡I_V1⋅Z₁₁ + I_V2⋅Z₁₂ - V₁⎤   ⎡0 ⎤\n",
       "⎢                        ⎥   ⎢  ⎥\n",
       "⎢I_V1⋅Z₂₁ + I_V2⋅Z₂₂ - V₂⎥   ⎢0 ⎥\n",
       "⎢                        ⎥ = ⎢  ⎥\n",
       "⎢      I_V1⋅Zₛ + V₁      ⎥   ⎢Vg⎥\n",
       "⎢                        ⎥   ⎢  ⎥\n",
       "⎣      I_V2⋅Zₗ + V₂      ⎦   ⎣0 ⎦"
      ]
     },
     "execution_count": 14,
     "metadata": {},
     "output_type": "execute_result"
    }
   ],
   "source": [
    "Z11, Z12, Z21, Z22 = symbols('Z11 Z12 Z21 Z22')\n",
    "Z_s, Z_l, Vg = symbols('Z_s Z_l Vg')\n",
    "\n",
    "eqZ = Eq(Matrix([[-1,0,Z11,Z12],[0,-1,Z21,Z22],[1,0,Z_s,0],[0,1,0,Z_l]])*Matrix([V1,V2,I_V1,I_V2]),Matrix([0,0,Vg,0]))\n",
    "eqZ"
   ]
  },
  {
   "cell_type": "code",
   "execution_count": 15,
   "metadata": {},
   "outputs": [
    {
     "data": {
      "image/png": "[encoded data removed]",
      "text/latex": [
       "$$\\left \\{ I_{V1} : \\frac{Vg \\left(Z_{22} + Z_{l}\\right)}{Z_{11} Z_{22} + Z_{11} Z_{l} - Z_{12} Z_{21} + Z_{22} Z_{s} + Z_{l} Z_{s}}, \\quad I_{V2} : - \\frac{Vg Z_{21}}{Z_{11} Z_{22} + Z_{11} Z_{l} - Z_{12} Z_{21} + Z_{22} Z_{s} + Z_{l} Z_{s}}, \\quad V_{1} : \\frac{Vg \\left(Z_{11} Z_{22} + Z_{11} Z_{l} - Z_{12} Z_{21}\\right)}{Z_{11} Z_{22} + Z_{11} Z_{l} - Z_{12} Z_{21} + Z_{22} Z_{s} + Z_{l} Z_{s}}, \\quad V_{2} : \\frac{Vg Z_{21} Z_{l}}{Z_{11} Z_{22} + Z_{11} Z_{l} - Z_{12} Z_{21} + Z_{22} Z_{s} + Z_{l} Z_{s}}\\right \\}$$"
      ],
      "text/plain": [
       "⎧                     Vg⋅(Z₂₂ + Zₗ)                                         -V\n",
       "⎨I_V1: ───────────────────────────────────────────, I_V2: ────────────────────\n",
       "⎩      Z₁₁⋅Z₂₂ + Z₁₁⋅Zₗ - Z₁₂⋅Z₂₁ + Z₂₂⋅Zₛ + Zₗ⋅Zₛ        Z₁₁⋅Z₂₂ + Z₁₁⋅Zₗ - Z\n",
       "\n",
       "g⋅Z₂₁                              Vg⋅(Z₁₁⋅Z₂₂ + Z₁₁⋅Zₗ - Z₁₂⋅Z₂₁)            \n",
       "───────────────────────, V₁: ───────────────────────────────────────────, V₂: \n",
       "₁₂⋅Z₂₁ + Z₂₂⋅Zₛ + Zₗ⋅Zₛ      Z₁₁⋅Z₂₂ + Z₁₁⋅Zₗ - Z₁₂⋅Z₂₁ + Z₂₂⋅Zₛ + Zₗ⋅Zₛ      \n",
       "\n",
       "                 Vg⋅Z₂₁⋅Zₗ                 ⎫\n",
       "───────────────────────────────────────────⎬\n",
       "Z₁₁⋅Z₂₂ + Z₁₁⋅Zₗ - Z₁₂⋅Z₂₁ + Z₂₂⋅Zₛ + Zₗ⋅Zₛ⎭"
      ]
     },
     "execution_count": 15,
     "metadata": {},
     "output_type": "execute_result"
    }
   ],
   "source": [
    "ansZ = solve(eqZ,[V1, V2, I_V1,I_V2])\n",
    "ansZ"
   ]
  },
  {
   "cell_type": "code",
   "execution_count": 16,
   "metadata": {},
   "outputs": [
    {
     "data": {
      "image/png": "[encoded data removed]",
      "text/latex": [
       "$$- \\frac{Z_{21}}{Z_{22} + Z_{l}}$$"
      ],
      "text/plain": [
       " -Z₂₁   \n",
       "────────\n",
       "Z₂₂ + Zₗ"
      ]
     },
     "execution_count": 16,
     "metadata": {},
     "output_type": "execute_result"
    }
   ],
   "source": [
    "# current gain\n",
    "ansZ[I_V2]/ansZ[I_V1]"
   ]
  },
  {
   "cell_type": "code",
   "execution_count": 17,
   "metadata": {},
   "outputs": [
    {
     "data": {
      "image/png": "[encoded data removed]",
      "text/latex": [
       "$$\\frac{Z_{21} Z_{l}}{Z_{11} Z_{22} + Z_{11} Z_{l} - Z_{12} Z_{21}}$$"
      ],
      "text/plain": [
       "          Z₂₁⋅Zₗ          \n",
       "──────────────────────────\n",
       "Z₁₁⋅Z₂₂ + Z₁₁⋅Zₗ - Z₁₂⋅Z₂₁"
      ]
     },
     "execution_count": 17,
     "metadata": {},
     "output_type": "execute_result"
    }
   ],
   "source": [
    "# voltage gain\n",
    "ansZ[V2]/ansZ[V1]"
   ]
  },
  {
   "cell_type": "code",
   "execution_count": 18,
   "metadata": {},
   "outputs": [
    {
     "data": {
      "image/png": "[encoded data removed]",
      "text/latex": [
       "$$\\frac{Z_{11} Z_{22} + Z_{11} Z_{l} - Z_{12} Z_{21}}{Z_{22} + Z_{l}}$$"
      ],
      "text/plain": [
       "Z₁₁⋅Z₂₂ + Z₁₁⋅Zₗ - Z₁₂⋅Z₂₁\n",
       "──────────────────────────\n",
       "         Z₂₂ + Zₗ         "
      ]
     },
     "execution_count": 18,
     "metadata": {},
     "output_type": "execute_result"
    }
   ],
   "source": [
    "# Z input\n",
    "ansZ[V1]/ansZ[I_V1]"
   ]
  },
  {
   "cell_type": "code",
   "execution_count": 19,
   "metadata": {},
   "outputs": [
    {
     "data": {
      "image/png": "[encoded data removed]",
      "text/latex": [
       "$$- Z_{l}$$"
      ],
      "text/plain": [
       "-Zₗ"
      ]
     },
     "execution_count": 19,
     "metadata": {},
     "output_type": "execute_result"
    }
   ],
   "source": [
    "# Z out\n",
    "ansZ[V2]/ansZ[I_V2]"
   ]
  },
  {
   "cell_type": "markdown",
   "metadata": {},
   "source": [
    "Sympy returns the output impedance as simply $-Z_l$, since this is the algebraic simplification of the equations. Most textbooks will give the output impedance in terms of the z-parameters and the source impedance: $Z_{out}=Z_{22}-\\frac{Z_{12}Z_{21}}{Z_{11}+Z_{S}}$\n",
    "\n",
    "## Calculate input and output impedance for the attenuator\n",
    "The input impedance of a two-port network is: $Z_{in}=\\frac{Z_{11}Z_{22}+Z_{11}Z_{L}-Z_{12}Z_{21}}{Z_{22}+Z_{L}}$  \n",
    "Textbook equation: $Z_{in}=Z_{11}-\\frac{Z_{12}Z_{21}}{Z_{22}+Z_{L}}$\n",
    "where $Z_{L}$ is the impedance of the load connected to port two.\n",
    "\n",
    "The output impedance from textbooks is: $Z_{out}=Z_{22}-\\frac{Z_{12}Z_{21}}{Z_{11}+Z_{S}}$, where $Z_{S}$ is the impedance of the source connected to port one."
   ]
  },
  {
   "cell_type": "code",
   "execution_count": 20,
   "metadata": {},
   "outputs": [
    {
     "name": "stdout",
     "output_type": "stream",
     "text": [
      "input impedance of network from z-parameters: 50.00\n"
     ]
    }
   ],
   "source": [
    "# Zin\n",
    "Zl = 50 # load impedance\n",
    "print('input impedance of network from z-parameters: {:.2f}'.format(np.abs((z11_val*z22_val+z11_val*Zl-z12_val*z21_val)/(z22_val+Zl))))"
   ]
  },
  {
   "cell_type": "code",
   "execution_count": 21,
   "metadata": {},
   "outputs": [
    {
     "name": "stdout",
     "output_type": "stream",
     "text": [
      "output impedance of network from z-parameters: 50.00\n"
     ]
    }
   ],
   "source": [
    "# Zout\n",
    "Zs = 50 # source impedance\n",
    "print('output impedance of network from z-parameters: {:.2f}'.format(np.abs(z22_val-(z12_val*z21_val)/(z11_val+Zs))))"
   ]
  },
  {
   "cell_type": "markdown",
   "metadata": {},
   "source": [
    "## Calculate the voltage gain for the attenuator\n",
    "Voltage gain: $K_v=\\frac{Z_{21}Z_{L}}{Z_{11}Z_{22}+Z_{11}Z_{L}-Z_{12}Z_{21}}$, from text books: $K_v=\\frac{Z_{21}Z_{L}}{\\Delta _Z+Z_{11}Z_L}$"
   ]
  },
  {
   "cell_type": "code",
   "execution_count": 22,
   "metadata": {},
   "outputs": [
    {
     "name": "stdout",
     "output_type": "stream",
     "text": [
      "voltage gain of network from z-parameters: -10.00 dB\n"
     ]
    }
   ],
   "source": [
    "#Kv\n",
    "print('voltage gain of network from z-parameters: {:.2f} dB'.format(20*np.log10(float((z21_val*Zl)/(z11_val*z22_val + z11_val*Zl - z12_val*z21_val)))))"
   ]
  },
  {
   "cell_type": "markdown",
   "metadata": {},
   "source": [
    "## Convert z-parameters to y-parameters\n",
    "The z-parameters can be converted to admittance or y-parameters with the following code:\n",
    "\n",
    "Find the determinant of the z-parameter matrix:"
   ]
  },
  {
   "cell_type": "code",
   "execution_count": 23,
   "metadata": {},
   "outputs": [
    {
     "name": "stdout",
     "output_type": "stream",
     "text": [
      "determinant = 2500.05\n"
     ]
    }
   ],
   "source": [
    "det_z = np.linalg.det(np.array([[z11_val, z12_val],[z21_val, z22_val]],dtype=np.float))\n",
    "print('determinant = {:.2f}'.format(det_z))"
   ]
  },
  {
   "cell_type": "markdown",
   "metadata": {},
   "source": [
    "Display the y-parameter matrix."
   ]
  },
  {
   "cell_type": "code",
   "execution_count": 24,
   "metadata": {},
   "outputs": [
    {
     "data": {
      "text/plain": [
       "array([[ 0.02444442, -0.01405481],\n",
       "       [-0.01405481,  0.02444442]])"
      ]
     },
     "execution_count": 24,
     "metadata": {},
     "output_type": "execute_result"
    }
   ],
   "source": [
    "np.array([[z22_val/det_z,-z12_val/det_z],[-z21_val/det_z,z11_val/det_z]],dtype=np.float)"
   ]
  },
  {
   "cell_type": "markdown",
   "metadata": {},
   "source": [
    "### Convert z-parameters to s-parameters\n",
    "The 2-port S-parameters have the following generic descriptions:  \n",
    "$S_{11} \\text{ is the input port voltage reflection coefficient}$  \n",
    "$S_{12} \\text{ is the reverse voltage gain}$  \n",
    "$S_{21} \\text{ is the forward voltage gain}$  \n",
    "$S_{22} \\text{ is the output port voltage reflection coefficient}$  \n",
    "\n",
    "The z-parameter can be converted to scattering or s-parameters with the following:  \n",
    "$s_{11} = \\frac {(Z_{11}-Z_o)(Z_{22}+Z_o)-Z_{12}Z_{21}} {\\Delta Z}$  \n",
    "$s_{12} = \\frac {2Z_{12}Z_o} {\\Delta Z}$  \n",
    "$s_{21} = \\frac {2Z_{21}Z_o} {\\Delta Z}$  \n",
    "$s_{22} = \\frac {(Z_{11}+Z_o)(Z_{22}-Z_o)-Z_{12}Z_{21}} {\\Delta Z}$  \n",
    "where: $\\Delta Z = (Z_{11}+Z_o)(Z_{22}+Z_o)-Z_{12}Z_{21}$ and $Z_o$ is the characteristic impedance."
   ]
  },
  {
   "cell_type": "code",
   "execution_count": 25,
   "metadata": {},
   "outputs": [
    {
     "data": {
      "text/plain": [
       "array([[-1.00004488e-01,  3.16234863e-01],\n",
       "       [ 3.16234863e-01,  4.45363654e-06]])"
      ]
     },
     "execution_count": 25,
     "metadata": {},
     "output_type": "execute_result"
    }
   ],
   "source": [
    "Z_o = 50 # characteristic impedance\n",
    "del_z = (z11_val+Z_o)*(z22_val+Z_o)-z12_val*z21_val\n",
    "\n",
    "S = np.array([[((z11_val-Z_o)*(z22_val-Z_o)-z12_val*z21_val)/del_z,(2*z12_val*Z_o)/del_z],\n",
    "              [(2*z21_val*Z_o)/del_z,((z11_val+Z_o)*(z22_val-Z_o)-z12_val*z21_val)/del_z]],dtype=np.float)\n",
    "S # display the s-parameter matrix"
   ]
  },
  {
   "cell_type": "markdown",
   "metadata": {},
   "source": [
    "#### Input return loss\n",
    "Input return loss $RL_{in}$ indicates impedance match of the port to the source. A number of 10 dB or greater, indicates that the match is probably acceptable.\n",
    "\n",
    "$RL_{in} =-20\\log_{10}\\left|S_{11}\\right|$"
   ]
  },
  {
   "cell_type": "code",
   "execution_count": 26,
   "metadata": {},
   "outputs": [
    {
     "name": "stdout",
     "output_type": "stream",
     "text": [
      "Input return loss = 20.00 dB\n"
     ]
    }
   ],
   "source": [
    "print('Input return loss = {:.2f} dB'.format(-20*np.log10(np.abs(S[0,0]))))"
   ]
  },
  {
   "cell_type": "markdown",
   "metadata": {},
   "source": [
    "#### Insertion loss\n",
    "Insertion loss $IL$ is the reciprocal of the magnitude of the transmission coefficient, S21, expressed in decibels.\n",
    "\n",
    "$IL=-20\\log _{10} \\left|S_{21} \\right|$"
   ]
  },
  {
   "cell_type": "code",
   "execution_count": 27,
   "metadata": {},
   "outputs": [
    {
     "name": "stdout",
     "output_type": "stream",
     "text": [
      "Insertion loss = 10.00 dB\n"
     ]
    }
   ],
   "source": [
    "print('Insertion loss = {:.2f} dB'.format(-20*np.log10(np.abs(S[1,0]))))"
   ]
  },
  {
   "cell_type": "markdown",
   "metadata": {},
   "source": [
    "This value agrees with the design of the attenuator as being a 10 dB attenuator."
   ]
  },
  {
   "cell_type": "markdown",
   "metadata": {},
   "source": [
    "## Band Pass Filter\n",
    "The circuit below is a band pass filter designed from normalized filter design tables. The third order low pass filter prototype was transformed into a bandpass filter as shown in the figure below. [Butterworth](https://en.wikipedia.org/wiki/Butterworth_filter) filter coefficients were chosen for this design. A Butterworth filter is a type of signal processing filter that has a flat passband response.\n",
    "\n",
    "![schematic](Sch_Two_port_circuit_BPF.PNG)\n",
    "\n",
    "The link to the schematic in EasyEDA is [here](https://easyeda.com/editor#mode=sim,id=|6b1460bfe8ec4872b7d7fd3038f38331|82658727399e487c94ebe177746e0ba0|ea67be55cc5c49f288edfa4ed837b1f0|8ea3b89798114238a453a1c678008c07|bef561e1caa74d498d621a82362fc683|3b000d947aad4568aba52d9cefa5715c).\n",
    "\n",
    "The low pass to bandpass transformation calculations are shown below. The filter was designed to have a center frequency of 10 MHz and a 3 dB bandwidth of 1 MHz. The normalized filter values were obtained from [1] and are: \n",
    "```\n",
    "3rd order Butterworth LPF prototype\n",
    "Rs/Rl = 1\n",
    "C1 = 1\n",
    "L2 = 2\n",
    "C1 = 1\n",
    "```\n",
    "\n",
    "The bandpass filter has the following design parameters: The source and load impedance is 50 ohms, the filter bandwidth is 1 MHz and the center frequency is 10 MHz. Following example 5-2 of reference [1], but with the following changes:   \n",
    "\n",
    "- center freq = 10MHz  \n",
    "- bandwidth 1MHz  \n",
    "- Rs=Rl=50  \n",
    "\n",
    "Reference:  \n",
    "1) Electronic Filter Design Handbook, 3rd edition, McGraw-Hill, 1995  "
   ]
  },
  {
   "cell_type": "code",
   "execution_count": 28,
   "metadata": {},
   "outputs": [
    {
     "name": "stdout",
     "output_type": "stream",
     "text": [
      "geometric center frequency = 9.987MHz\n"
     ]
    }
   ],
   "source": [
    "f_center = 10e6\n",
    "f_3dB_BW = 1e6 # 3dB bandwidth\n",
    "fo = np.sqrt((f_center-f_3dB_BW/2)*(f_center+f_3dB_BW/2)) # geometric center frequency\n",
    "print('geometric center frequency = {:.3f}MHz'.format(fo/1e6))"
   ]
  },
  {
   "cell_type": "code",
   "execution_count": 29,
   "metadata": {},
   "outputs": [
    {
     "name": "stdout",
     "output_type": "stream",
     "text": [
      "frequency scaling factor = 6283185.307\n"
     ]
    }
   ],
   "source": [
    "Z = 50 # load and source resistance\n",
    "FSF = 2*np.pi*f_3dB_BW\n",
    "print('frequency scaling factor = {:.3f}'.format(FSF))"
   ]
  },
  {
   "cell_type": "markdown",
   "metadata": {},
   "source": [
    "The first element in the lowpass prototype is a shunt inductor and for the lowpass to bandpass transformation the inductor is replaced by a capacitor and inductor in parallel with the same normalized value. The normalized values are then frequency scaled."
   ]
  },
  {
   "cell_type": "code",
   "execution_count": 30,
   "metadata": {},
   "outputs": [
    {
     "name": "stdout",
     "output_type": "stream",
     "text": [
      "capacitor = 3.183nF\n",
      "inductor = 79.777nH\n"
     ]
    }
   ],
   "source": [
    "# C1 is 1st shunt capacitor\n",
    "C1n = 1 # normalized value from the tables in the filter handbook\n",
    "C1p = C1n/(FSF*Z)\n",
    "print('capacitor = {:.3f}nF'.format(C1p*1e9))\n",
    "\n",
    "wo = 2*np.pi*fo\n",
    "L1p = 1/(wo**2*C1p) # calculate the value of the inductor that resonates with the capacitor at the center frequency\n",
    "print('inductor = {:.3f}nH'.format(L1p*1e9))"
   ]
  },
  {
   "cell_type": "markdown",
   "metadata": {},
   "source": [
    "The second element in the lowpass prototype is a series capacitor and for the lowpass to bandpass transformation the capacitor is replaced by a capacitor and inductor in series with the same normalized value. The normalized values are then frequency scaled."
   ]
  },
  {
   "cell_type": "code",
   "execution_count": 31,
   "metadata": {},
   "outputs": [
    {
     "name": "stdout",
     "output_type": "stream",
     "text": [
      "inductor = 15.915uH\n",
      "capacitor = 15.955pF\n"
     ]
    }
   ],
   "source": [
    "# L2 is the 2nd series inductor\n",
    "L2n = 2 # normalized value from the tables in the filter handbook\n",
    "L2p = L2n*Z/FSF\n",
    "print('inductor = {:.3f}uH'.format(L2p*1e6))\n",
    "\n",
    "C2p = 1/(wo**2*L2p) # calculate the value of the capacitor that resonates with the inductor at the center frequency\n",
    "print('capacitor = {:.3f}pF'.format(C2p*1e12))"
   ]
  },
  {
   "cell_type": "markdown",
   "metadata": {},
   "source": [
    "The last element in the lowpass prototype is a shunt inductor and for the lowpass to bandpass transformation the inductor is replaced by a capacitor and inductor in parallel with the same normalized value. The normalized values are then frequency scaled. The values for this branch of the circuit are the same as for the first shunt element."
   ]
  },
  {
   "cell_type": "markdown",
   "metadata": {},
   "source": [
    "## Find z11 and z12\n",
    "To find $z_{11}$ and $z_{21}$, remove V2 from the net list by commenting out the V2 line in the net list. This will make $I_2$ equal to zero. $z_{11}$ is equal to $\\frac{V_1}{I_1}\\text{  when  }I_2=0$ and $z_{21}$ is equal to $\\frac{V_2}{I_1}\\text{  when  }I_2=0$.  \n",
    "\n",
    "The net list below was run through the NMA code to generate the circuit equations. The component values in the netlist have all been set to one. Later, the actual component values will be used. \n",
    "\n",
    "```\n",
    "V1 1 0 1\n",
    "*V2 2 0 1\n",
    "L1 0 1 1\n",
    "L2 1 3 1\n",
    "L3 0 2 1\n",
    "C1 1 0 1\n",
    "C2 3 2 1\n",
    "C3 2 0 1\n",
    "```\n",
    "\n",
    "The circuit equations generated are:\n",
    "```\n",
    "[[Eq(C1*s*v1 - I_L1 + I_L2 + I_V1, 0)],\n",
    "[Eq(-C2*s*v3 - I_L3 + v2*(C2*s + C3*s), 0)],\n",
    "[Eq(-C2*s*v2 + C2*s*v3 - I_L2, 0)],\n",
    "[Eq(v1, V1)],\n",
    "[Eq(-I_L1*L1*s - v1, 0)],\n",
    "[Eq(-I_L2*L2*s + v1 - v3, 0)],\n",
    "[Eq(-I_L3*L3*s - v2, 0)]]\n",
    "```"
   ]
  },
  {
   "cell_type": "code",
   "execution_count": 32,
   "metadata": {},
   "outputs": [
    {
     "data": {
      "text/latex": [
       "$$\\left[\\begin{matrix}C_{1} s v_{1} - I_{L1} + I_{L2} + I_{V1} = 0\\\\- C_{2} s v_{3} - I_{L3} + v_{2} \\left(C_{2} s + C_{3} s\\right) = 0\\\\- C_{2} s v_{2} + C_{2} s v_{3} - I_{L2} = 0\\\\v_{1} = V_{1}\\\\- I_{L1} L_{1} s - v_{1} = 0\\\\- I_{L2} L_{2} s + v_{1} - v_{3} = 0\\\\- I_{L3} L_{3} s - v_{2} = 0\\end{matrix}\\right]$$"
      ],
      "text/plain": [
       "⎡   C₁⋅s⋅v₁ - I_L1 + I_L2 + I_V1 = 0   ⎤\n",
       "⎢                                      ⎥\n",
       "⎢-C₂⋅s⋅v₃ - I_L3 + v₂⋅(C₂⋅s + C₃⋅s) = 0⎥\n",
       "⎢                                      ⎥\n",
       "⎢    -C₂⋅s⋅v₂ + C₂⋅s⋅v₃ - I_L2 = 0     ⎥\n",
       "⎢                                      ⎥\n",
       "⎢               v₁ = V₁                ⎥\n",
       "⎢                                      ⎥\n",
       "⎢         -I_L1⋅L₁⋅s - v₁ = 0          ⎥\n",
       "⎢                                      ⎥\n",
       "⎢       -I_L2⋅L₂⋅s + v₁ - v₃ = 0       ⎥\n",
       "⎢                                      ⎥\n",
       "⎣         -I_L3⋅L₃⋅s - v₂ = 0          ⎦"
      ]
     },
     "execution_count": 32,
     "metadata": {},
     "output_type": "execute_result"
    }
   ],
   "source": [
    "# declare the following symbols\n",
    "L2, I_L2, v2, v1, I_V1, C1, C3, v3, V1, L1, I_L3, s, C2, L3, I_L1 = symbols('L2 I_L2 v2 v1 I_V1 C1 C3 v3 V1 L1 I_L3 s C2 L3 I_L1')\n",
    "\n",
    "# use the equations generated by nodal analysis\n",
    "equ_p1 = Matrix(\n",
    "    [[Eq(C1*s*v1 - I_L1 + I_L2 + I_V1, 0)],\n",
    "    [Eq(-C2*s*v3 - I_L3 + v2*(C2*s + C3*s), 0)],\n",
    "    [Eq(-C2*s*v2 + C2*s*v3 - I_L2, 0)],\n",
    "    [Eq(v1, V1)],\n",
    "    [Eq(-I_L1*L1*s - v1, 0)],\n",
    "    [Eq(-I_L2*L2*s + v1 - v3, 0)],\n",
    "    [Eq(-I_L3*L3*s - v2, 0)]])\n",
    "equ_p1"
   ]
  },
  {
   "cell_type": "markdown",
   "metadata": {},
   "source": [
    "At this point we can use the power of SymPy and obtain a symbolic solution, but as you can see the results don't seem that useful."
   ]
  },
  {
   "cell_type": "code",
   "execution_count": 33,
   "metadata": {},
   "outputs": [
    {
     "data": {
      "image/png": "[encoded data removed]",
      "text/latex": [
       "$$\\left \\{ I_{L1} : - \\frac{V_{1}}{L_{1} s}, \\quad I_{L2} : \\frac{C_{2} V_{1} s \\left(C_{3} L_{3} s^{2} + 1\\right)}{C_{2} C_{3} L_{2} L_{3} s^{4} + C_{2} L_{2} s^{2} + C_{2} L_{3} s^{2} + C_{3} L_{3} s^{2} + 1}, \\quad I_{L3} : - \\frac{C_{2} V_{1} s}{C_{2} C_{3} L_{2} L_{3} s^{4} + C_{2} L_{2} s^{2} + C_{2} L_{3} s^{2} + C_{3} L_{3} s^{2} + 1}, \\quad I_{V1} : - \\frac{V_{1} \\left(C_{1} C_{2} C_{3} L_{1} L_{2} L_{3} s^{6} + C_{1} C_{2} L_{1} L_{2} s^{4} + C_{1} C_{2} L_{1} L_{3} s^{4} + C_{1} C_{3} L_{1} L_{3} s^{4} + C_{1} L_{1} s^{2} + C_{2} C_{3} L_{1} L_{3} s^{4} + C_{2} C_{3} L_{2} L_{3} s^{4} + C_{2} L_{1} s^{2} + C_{2} L_{2} s^{2} + C_{2} L_{3} s^{2} + C_{3} L_{3} s^{2} + 1\\right)}{L_{1} s \\left(C_{2} C_{3} L_{2} L_{3} s^{4} + C_{2} L_{2} s^{2} + C_{2} L_{3} s^{2} + C_{3} L_{3} s^{2} + 1\\right)}, \\quad v_{1} : V_{1}, \\quad v_{2} : \\frac{C_{2} L_{3} V_{1} s^{2}}{C_{2} C_{3} L_{2} L_{3} s^{4} + C_{2} L_{2} s^{2} + C_{2} L_{3} s^{2} + C_{3} L_{3} s^{2} + 1}, \\quad v_{3} : \\frac{V_{1} \\left(C_{2} L_{3} s^{2} + C_{3} L_{3} s^{2} + 1\\right)}{C_{2} C_{3} L_{2} L_{3} s^{4} + C_{2} L_{2} s^{2} + C_{2} L_{3} s^{2} + C_{3} L_{3} s^{2} + 1}\\right \\}$$"
      ],
      "text/plain": [
       "⎧                                         ⎛       2    ⎞                      \n",
       "⎪      -V₁                        C₂⋅V₁⋅s⋅⎝C₃⋅L₃⋅s  + 1⎠                      \n",
       "⎨I_L1: ────, I_L2: ───────────────────────────────────────────────────, I_L3: \n",
       "⎪      L₁⋅s                     4          2          2          2            \n",
       "⎩                  C₂⋅C₃⋅L₂⋅L₃⋅s  + C₂⋅L₂⋅s  + C₂⋅L₃⋅s  + C₃⋅L₃⋅s  + 1        \n",
       "\n",
       "                                                               ⎛              \n",
       "                     -C₂⋅V₁⋅s                              -V₁⋅⎝C₁⋅C₂⋅C₃⋅L₁⋅L₂\n",
       "───────────────────────────────────────────────────, I_V1: ───────────────────\n",
       "             4          2          2          2                               \n",
       "C₂⋅C₃⋅L₂⋅L₃⋅s  + C₂⋅L₂⋅s  + C₂⋅L₃⋅s  + C₃⋅L₃⋅s  + 1                           \n",
       "\n",
       "     6                4                4                4          2          \n",
       "⋅L₃⋅s  + C₁⋅C₂⋅L₁⋅L₂⋅s  + C₁⋅C₂⋅L₁⋅L₃⋅s  + C₁⋅C₃⋅L₁⋅L₃⋅s  + C₁⋅L₁⋅s  + C₂⋅C₃⋅L\n",
       "──────────────────────────────────────────────────────────────────────────────\n",
       "                                           ⎛             4          2         \n",
       "                                      L₁⋅s⋅⎝C₂⋅C₃⋅L₂⋅L₃⋅s  + C₂⋅L₂⋅s  + C₂⋅L₃⋅\n",
       "\n",
       "      4                4          2          2          2          2    ⎞     \n",
       "₁⋅L₃⋅s  + C₂⋅C₃⋅L₂⋅L₃⋅s  + C₂⋅L₁⋅s  + C₂⋅L₂⋅s  + C₂⋅L₃⋅s  + C₃⋅L₃⋅s  + 1⎠     \n",
       "──────────────────────────────────────────────────────────────────────────, v₁\n",
       " 2          2    ⎞                                                            \n",
       "s  + C₃⋅L₃⋅s  + 1⎠                                                            \n",
       "\n",
       "                                        2                                     \n",
       "                              C₂⋅L₃⋅V₁⋅s                                      \n",
       ": V₁, v₂: ───────────────────────────────────────────────────, v₃: ───────────\n",
       "                       4          2          2          2                     \n",
       "          C₂⋅C₃⋅L₂⋅L₃⋅s  + C₂⋅L₂⋅s  + C₂⋅L₃⋅s  + C₃⋅L₃⋅s  + 1      C₂⋅C₃⋅L₂⋅L₃\n",
       "\n",
       "    ⎛       2          2    ⎞           ⎫\n",
       " V₁⋅⎝C₂⋅L₃⋅s  + C₃⋅L₃⋅s  + 1⎠           ⎪\n",
       "────────────────────────────────────────⎬\n",
       "  4          2          2          2    ⎪\n",
       "⋅s  + C₂⋅L₂⋅s  + C₂⋅L₃⋅s  + C₃⋅L₃⋅s  + 1⎭"
      ]
     },
     "execution_count": 33,
     "metadata": {},
     "output_type": "execute_result"
    }
   ],
   "source": [
    "solve(equ_p1,[v1, v2, v3, I_V1, I_L1, I_L2, I_L3])"
   ]
  },
  {
   "cell_type": "code",
   "execution_count": 34,
   "metadata": {},
   "outputs": [],
   "source": [
    "element_values = {L1:L1p,C1:C1p,C2:C2p,L2:L2p,L3:L1p,C3:C1p}"
   ]
  },
  {
   "cell_type": "markdown",
   "metadata": {},
   "source": [
    "Substituting actual values for the circuit elements, we get:"
   ]
  },
  {
   "cell_type": "code",
   "execution_count": 35,
   "metadata": {},
   "outputs": [
    {
     "data": {
      "image/png": "[encoded data removed]",
      "text/latex": [
       "$$\\left \\{ I_{L1} : - \\frac{12534954.6878233 V_{1}}{s}, \\quad I_{L2} : \\frac{3.9888456915262 \\cdot 10^{31} V_{1} s \\left(1.58711127259301 \\cdot 10^{29} s^{2} + 6.25 \\cdot 10^{44}\\right)}{1.00756887663672 \\cdot 10^{56} s^{4} + 7.95544497540355 \\cdot 10^{71} s^{2} + 1.5625 \\cdot 10^{87}}, \\quad I_{L3} : - \\frac{2.49302855720388 \\cdot 10^{76} V_{1} s}{1.00756887663672 \\cdot 10^{56} s^{4} + 7.95544497540355 \\cdot 10^{71} s^{2} + 1.5625 \\cdot 10^{87}}, \\quad I_{V1} : - \\frac{5.01398187512931 \\cdot 10^{-37} V_{1} \\left(6.39649568809606 \\cdot 10^{83} s^{6} + 7.58201892757332 \\cdot 10^{99} s^{4} + 2.98577794233115 \\cdot 10^{115} s^{2} + 3.90625 \\cdot 10^{130}\\right)}{s \\left(1.00756887663672 \\cdot 10^{56} s^{4} + 7.95544497540355 \\cdot 10^{71} s^{2} + 1.5625 \\cdot 10^{87}\\right)}, \\quad v_{1} : V_{1}, \\quad v_{2} : \\frac{1.98886124385089 \\cdot 10^{69} V_{1} s^{2}}{1.00756887663672 \\cdot 10^{56} s^{4} + 7.95544497540355 \\cdot 10^{71} s^{2} + 1.5625 \\cdot 10^{87}}, \\quad v_{3} : \\frac{6.25 \\cdot 10^{43} V_{1} \\left(6.38026687027365 \\cdot 10^{27} s^{2} + 2.5 \\cdot 10^{43}\\right)}{1.00756887663672 \\cdot 10^{56} s^{4} + 7.95544497540355 \\cdot 10^{71} s^{2} + 1.5625 \\cdot 10^{87}}\\right \\}$$"
      ],
      "text/plain": [
       "⎧                                                            ⎛                \n",
       "⎪      -12534954.6878233⋅V₁         3.9888456915262e+31⋅V₁⋅s⋅⎝1.58711127259301\n",
       "⎨I_L1: ─────────────────────, I_L2: ──────────────────────────────────────────\n",
       "⎪                s                                        4                   \n",
       "⎩                                   1.00756887663672e+56⋅s  + 7.95544497540355\n",
       "\n",
       "      2           ⎞                                                           \n",
       "e+29⋅s  + 6.25e+44⎠                          -2.49302855720388e+76⋅V₁⋅s       \n",
       "────────────────────, I_L3: ──────────────────────────────────────────────────\n",
       "      2                                           4                         2 \n",
       "e+71⋅s  + 1.5625e+87        1.00756887663672e+56⋅s  + 7.95544497540355e+71⋅s  \n",
       "\n",
       "                                             ⎛                      6         \n",
       "                    -5.01398187512931e-37⋅V₁⋅⎝6.39649568809606e+83⋅s  + 7.5820\n",
       "────────────, I_V1: ──────────────────────────────────────────────────────────\n",
       "                                                 ⎛                      4     \n",
       "+ 1.5625e+87                                   s⋅⎝1.00756887663672e+56⋅s  + 7.\n",
       "\n",
       "                4                          2               ⎞                  \n",
       "1892757332e+99⋅s  + 2.98577794233115e+115⋅s  + 3.90625e+130⎠                  \n",
       "─────────────────────────────────────────────────────────────, v₁: V₁, v₂: ───\n",
       "                    2             ⎞                                           \n",
       "95544497540355e+71⋅s  + 1.5625e+87⎠                                        1.0\n",
       "\n",
       "                                        2                                     \n",
       "               1.98886124385089e+69⋅V₁⋅s                                6.25e+\n",
       "───────────────────────────────────────────────────────────, v₃: ─────────────\n",
       "                   4                         2                                \n",
       "0756887663672e+56⋅s  + 7.95544497540355e+71⋅s  + 1.5625e+87      1.00756887663\n",
       "\n",
       "      ⎛                      2          ⎞        ⎫\n",
       "43⋅V₁⋅⎝6.38026687027365e+27⋅s  + 2.5e+43⎠        ⎪\n",
       "─────────────────────────────────────────────────⎬\n",
       "         4                         2             ⎪\n",
       "672e+56⋅s  + 7.95544497540355e+71⋅s  + 1.5625e+87⎭"
      ]
     },
     "execution_count": 35,
     "metadata": {},
     "output_type": "execute_result"
    }
   ],
   "source": [
    "# find solution\n",
    "u_p1 = solve(equ_p1.subs(element_values),[v1, v2, v3, I_V1, I_L1, I_L2, I_L3])\n",
    "u_p1"
   ]
  },
  {
   "cell_type": "markdown",
   "metadata": {},
   "source": [
    "$z_{11} = \\frac {V_1}{I_1} \\text{  when  } I_2=0$  "
   ]
  },
  {
   "cell_type": "code",
   "execution_count": 36,
   "metadata": {},
   "outputs": [
    {
     "data": {
      "image/png": "[encoded data removed]",
      "text/latex": [
       "$$\\frac{1.0 \\left(2.00951838624414 \\cdot 10^{92} s^{5} + 1.58665212071561 \\cdot 10^{108} s^{3} + 3.11628569650484 \\cdot 10^{123} s\\right)}{6.39649568809606 \\cdot 10^{83} s^{6} + 7.58201892757332 \\cdot 10^{99} s^{4} + 2.98577794233115 \\cdot 10^{115} s^{2} + 3.90625 \\cdot 10^{130}}$$"
      ],
      "text/plain": [
       "         ⎛                      5                          3                  \n",
       "     1.0⋅⎝2.00951838624414e+92⋅s  + 1.58665212071561e+108⋅s  + 3.1162856965048\n",
       "──────────────────────────────────────────────────────────────────────────────\n",
       "                      6                         4                          2  \n",
       "6.39649568809606e+83⋅s  + 7.58201892757332e+99⋅s  + 2.98577794233115e+115⋅s  +\n",
       "\n",
       "        ⎞    \n",
       "4e+123⋅s⎠    \n",
       "─────────────\n",
       "             \n",
       " 3.90625e+130"
      ]
     },
     "execution_count": 36,
     "metadata": {},
     "output_type": "execute_result"
    }
   ],
   "source": [
    "z11 = -u_p1[v1]/u_p1[I_V1]\n",
    "z11.simplify()"
   ]
  },
  {
   "cell_type": "markdown",
   "metadata": {},
   "source": [
    "$z_{21} = \\frac {V_2}{I_1} \\text{  when  } I_2=0$  "
   ]
  },
  {
   "cell_type": "code",
   "execution_count": 37,
   "metadata": {},
   "outputs": [
    {
     "data": {
      "image/png": "[encoded data removed]",
      "text/latex": [
       "$$\\frac{3.96663030178903 \\cdot 10^{105} s^{3}}{6.39649568809606 \\cdot 10^{83} s^{6} + 7.58201892757332 \\cdot 10^{99} s^{4} + 2.98577794233115 \\cdot 10^{115} s^{2} + 3.90625 \\cdot 10^{130}}$$"
      ],
      "text/plain": [
       "                                                         3                    \n",
       "                                  3.96663030178903e+105⋅s                     \n",
       "──────────────────────────────────────────────────────────────────────────────\n",
       "                      6                         4                          2  \n",
       "6.39649568809606e+83⋅s  + 7.58201892757332e+99⋅s  + 2.98577794233115e+115⋅s  +\n",
       "\n",
       "             \n",
       "             \n",
       "─────────────\n",
       "             \n",
       " 3.90625e+130"
      ]
     },
     "execution_count": 37,
     "metadata": {},
     "output_type": "execute_result"
    }
   ],
   "source": [
    "z21 = -u_p1[v2]/u_p1[I_V1]\n",
    "z21.simplify()"
   ]
  },
  {
   "cell_type": "markdown",
   "metadata": {},
   "source": [
    "## Find z12 & z22\n",
    "To find $z_{12}$ and $z_{22}$, remove V1 from the net list by commenting out the V1 line in the netlist. This will make $I_1$ equal to zero. $z_{12}$ is equal to $\\frac{V_1}{I_2}\\text{  when  }I_1=0$ and $z_{22}$ is equal to $\\frac{V_2}{I_2}\\text{  when  }I_1=0$.  \n",
    "\n",
    "The net list below was run through the NMA code to generate the circuit equations.\n",
    "\n",
    "Remove V1 from the netlist.  \n",
    "```\n",
    "*V1 1 0 1\n",
    "V2 2 0 1\n",
    "L1 0 1 1\n",
    "L2 1 3 1\n",
    "L3 0 2 1\n",
    "C1 1 0 1\n",
    "C2 3 2 1\n",
    "C3 2 0 1\n",
    "```\n",
    "\n",
    "The circuit equations generated by the MNA python code.  \n",
    "```\n",
    "[[Eq(C1*s*v1 - I_L1 + I_L2, 0)],\n",
    "[Eq(-C2*s*v3 - I_L3 + I_V2 + v2*(C2*s + C3*s), 0)],\n",
    "[Eq(-C2*s*v2 + C2*s*v3 - I_L2, 0)],\n",
    "[Eq(v2, V2)],\n",
    "[Eq(-I_L1*L1*s - v1, 0)],\n",
    "[Eq(-I_L2*L2*s + v1 - v3, 0)],\n",
    "[Eq(-I_L3*L3*s - v2, 0)]]\n",
    "```"
   ]
  },
  {
   "cell_type": "code",
   "execution_count": 38,
   "metadata": {},
   "outputs": [
    {
     "data": {
      "text/latex": [
       "$$\\left[\\begin{matrix}C_{1} s v_{1} - I_{L1} + I_{L2} = 0\\\\- C_{2} s v_{3} - I_{L3} + I_{V2} + v_{2} \\left(C_{2} s + C_{3} s\\right) = 0\\\\- C_{2} s v_{2} + C_{2} s v_{3} - I_{L2} = 0\\\\v_{2} = V_{2}\\\\- I_{L1} L_{1} s - v_{1} = 0\\\\- I_{L2} L_{2} s + v_{1} - v_{3} = 0\\\\- I_{L3} L_{3} s - v_{2} = 0\\end{matrix}\\right]$$"
      ],
      "text/plain": [
       "⎡          C₁⋅s⋅v₁ - I_L1 + I_L2 = 0          ⎤\n",
       "⎢                                             ⎥\n",
       "⎢-C₂⋅s⋅v₃ - I_L3 + I_V2 + v₂⋅(C₂⋅s + C₃⋅s) = 0⎥\n",
       "⎢                                             ⎥\n",
       "⎢        -C₂⋅s⋅v₂ + C₂⋅s⋅v₃ - I_L2 = 0        ⎥\n",
       "⎢                                             ⎥\n",
       "⎢                   v₂ = V₂                   ⎥\n",
       "⎢                                             ⎥\n",
       "⎢             -I_L1⋅L₁⋅s - v₁ = 0             ⎥\n",
       "⎢                                             ⎥\n",
       "⎢          -I_L2⋅L₂⋅s + v₁ - v₃ = 0           ⎥\n",
       "⎢                                             ⎥\n",
       "⎣             -I_L3⋅L₃⋅s - v₂ = 0             ⎦"
      ]
     },
     "execution_count": 38,
     "metadata": {},
     "output_type": "execute_result"
    }
   ],
   "source": [
    "# declare the following symbols\n",
    "V2, L2, I_L2, v2, v1, C1, C3, L1, v3, I_L3, s, C2, L3, I_V2, I_L1 = symbols('V2 L2 I_L2 v2 v1 C1 C3 L1 v3 I_L3 s C2 L3 I_V2 I_L1')\n",
    "\n",
    "# use the equations generated by nodal analysis\n",
    "equ_p2 = Matrix(\n",
    "    [[Eq(C1*s*v1 - I_L1 + I_L2, 0)],\n",
    "    [Eq(-C2*s*v3 - I_L3 + I_V2 + v2*(C2*s + C3*s), 0)],\n",
    "    [Eq(-C2*s*v2 + C2*s*v3 - I_L2, 0)],\n",
    "    [Eq(v2, V2)],\n",
    "    [Eq(-I_L1*L1*s - v1, 0)],\n",
    "    [Eq(-I_L2*L2*s + v1 - v3, 0)],\n",
    "    [Eq(-I_L3*L3*s - v2, 0)]])\n",
    "equ_p2"
   ]
  },
  {
   "cell_type": "code",
   "execution_count": 39,
   "metadata": {},
   "outputs": [
    {
     "data": {
      "image/png": "[encoded data removed]",
      "text/latex": [
       "$$\\left \\{ I_{L1} : - \\frac{9.9721142288155 \\cdot 10^{74} V_{2} s}{4.03027550654688 \\cdot 10^{54} s^{4} + 3.18217799016142 \\cdot 10^{70} s^{2} + 6.25 \\cdot 10^{85}}, \\quad I_{L2} : - \\frac{3.9888456915262 \\cdot 10^{31} V_{2} s \\left(6.34844509037205 \\cdot 10^{27} s^{2} + 2.5 \\cdot 10^{43}\\right)}{4.03027550654688 \\cdot 10^{54} s^{4} + 3.18217799016142 \\cdot 10^{70} s^{2} + 6.25 \\cdot 10^{85}}, \\quad I_{L3} : - \\frac{12534954.6878233 V_{2}}{s}, \\quad I_{V2} : - \\frac{2.00559275005172 \\cdot 10^{-38} V_{2} \\left(6.39649568809606 \\cdot 10^{83} s^{6} + 7.58201892757332 \\cdot 10^{99} s^{4} + 2.98577794233115 \\cdot 10^{115} s^{2} + 3.90625 \\cdot 10^{130}\\right)}{s \\left(4.03027550654688 \\cdot 10^{54} s^{4} + 3.18217799016142 \\cdot 10^{70} s^{2} + 6.25 \\cdot 10^{85}\\right)}, \\quad v_{1} : \\frac{7.95544497540356 \\cdot 10^{67} V_{2} s^{2}}{4.03027550654688 \\cdot 10^{54} s^{4} + 3.18217799016142 \\cdot 10^{70} s^{2} + 6.25 \\cdot 10^{85}}, \\quad v_{2} : V_{2}, \\quad v_{3} : \\frac{59832685372893.0 V_{2} s^{2} \\left(6.73590944720122 \\cdot 10^{40} s^{2} + 2.66587853717 \\cdot 10^{56}\\right)}{4.03027550654688 \\cdot 10^{54} s^{4} + 3.18217799016142 \\cdot 10^{70} s^{2} + 6.25 \\cdot 10^{85}}\\right \\}$$"
      ],
      "text/plain": [
       "⎧                                                                             \n",
       "⎪                       -9.9721142288155e+74⋅V₂⋅s                          -3.\n",
       "⎨I_L1: ────────────────────────────────────────────────────────────, I_L2: ───\n",
       "⎪                            4                         2                      \n",
       "⎩      4.03027550654688e+54⋅s  + 3.18217799016142e+70⋅s  + 6.25e+85         4.\n",
       "\n",
       "                       ⎛                      2          ⎞                    \n",
       "9888456915262e+31⋅V₂⋅s⋅⎝6.34844509037205e+27⋅s  + 2.5e+43⎠         -12534954.6\n",
       "───────────────────────────────────────────────────────────, I_L3: ───────────\n",
       "                    4                         2                              s\n",
       "03027550654688e+54⋅s  + 3.18217799016142e+70⋅s  + 6.25e+85                    \n",
       "\n",
       "                                           ⎛                      6           \n",
       "878233⋅V₂         -2.00559275005172e-38⋅V₂⋅⎝6.39649568809606e+83⋅s  + 7.582018\n",
       "──────────, I_V2: ────────────────────────────────────────────────────────────\n",
       "                                                ⎛                      4      \n",
       "                                              s⋅⎝4.03027550654688e+54⋅s  + 3.1\n",
       "\n",
       "              4                          2               ⎞                    \n",
       "92757332e+99⋅s  + 2.98577794233115e+115⋅s  + 3.90625e+130⎠                    \n",
       "───────────────────────────────────────────────────────────, v₁: ─────────────\n",
       "                   2           ⎞                                              \n",
       "8217799016142e+70⋅s  + 6.25e+85⎠                                 4.03027550654\n",
       "\n",
       "                             2                                                \n",
       "    7.95544497540356e+67⋅V₂⋅s                                59832685372893.0⋅\n",
       "───────────────────────────────────────────────, v₂: V₂, v₃: ─────────────────\n",
       "         4                         2                                          \n",
       "688e+54⋅s  + 3.18217799016142e+70⋅s  + 6.25e+85                  4.03027550654\n",
       "\n",
       "    2 ⎛                      2                    ⎞⎫\n",
       "V₂⋅s ⋅⎝6.73590944720122e+40⋅s  + 2.66587853717e+56⎠⎪\n",
       "───────────────────────────────────────────────────⎬\n",
       "         4                         2               ⎪\n",
       "688e+54⋅s  + 3.18217799016142e+70⋅s  + 6.25e+85    ⎭"
      ]
     },
     "execution_count": 39,
     "metadata": {},
     "output_type": "execute_result"
    }
   ],
   "source": [
    "# find symbolic solution\n",
    "u_p2 = solve(equ_p2.subs(element_values),[v1, v2, v3, I_V2, I_L1, I_L2, I_L3])\n",
    "u_p2"
   ]
  },
  {
   "cell_type": "markdown",
   "metadata": {},
   "source": [
    "$z_{12} = \\frac {V_1}{I_2} \\text{  when  } I_1=0$ "
   ]
  },
  {
   "cell_type": "code",
   "execution_count": 40,
   "metadata": {},
   "outputs": [
    {
     "data": {
      "image/png": "[encoded data removed]",
      "text/latex": [
       "$$\\frac{3.96663030178903 \\cdot 10^{105} s^{3}}{6.39649568809606 \\cdot 10^{83} s^{6} + 7.58201892757332 \\cdot 10^{99} s^{4} + 2.98577794233115 \\cdot 10^{115} s^{2} + 3.90625 \\cdot 10^{130}}$$"
      ],
      "text/plain": [
       "                                                         3                    \n",
       "                                  3.96663030178903e+105⋅s                     \n",
       "──────────────────────────────────────────────────────────────────────────────\n",
       "                      6                         4                          2  \n",
       "6.39649568809606e+83⋅s  + 7.58201892757332e+99⋅s  + 2.98577794233115e+115⋅s  +\n",
       "\n",
       "             \n",
       "             \n",
       "─────────────\n",
       "             \n",
       " 3.90625e+130"
      ]
     },
     "execution_count": 40,
     "metadata": {},
     "output_type": "execute_result"
    }
   ],
   "source": [
    "z12 = -u_p2[v1]/u_p2[I_V2]\n",
    "z12.simplify()"
   ]
  },
  {
   "cell_type": "markdown",
   "metadata": {},
   "source": [
    "$z_{22} = \\frac {V_2}{I_2} \\text{  when  } I_1=0$  "
   ]
  },
  {
   "cell_type": "code",
   "execution_count": 41,
   "metadata": {},
   "outputs": [
    {
     "data": {
      "image/png": "[encoded data removed]",
      "text/latex": [
       "$$\\frac{1.0 \\left(2.00951838624414 \\cdot 10^{92} s^{5} + 1.58665212071561 \\cdot 10^{108} s^{3} + 3.11628569650484 \\cdot 10^{123} s\\right)}{6.39649568809606 \\cdot 10^{83} s^{6} + 7.58201892757332 \\cdot 10^{99} s^{4} + 2.98577794233115 \\cdot 10^{115} s^{2} + 3.90625 \\cdot 10^{130}}$$"
      ],
      "text/plain": [
       "         ⎛                      5                          3                  \n",
       "     1.0⋅⎝2.00951838624414e+92⋅s  + 1.58665212071561e+108⋅s  + 3.1162856965048\n",
       "──────────────────────────────────────────────────────────────────────────────\n",
       "                      6                         4                          2  \n",
       "6.39649568809606e+83⋅s  + 7.58201892757332e+99⋅s  + 2.98577794233115e+115⋅s  +\n",
       "\n",
       "        ⎞    \n",
       "4e+123⋅s⎠    \n",
       "─────────────\n",
       "             \n",
       " 3.90625e+130"
      ]
     },
     "execution_count": 41,
     "metadata": {},
     "output_type": "execute_result"
    }
   ],
   "source": [
    "z22 = -u_p2[v2]/u_p2[I_V2]\n",
    "z22.simplify()"
   ]
  },
  {
   "cell_type": "markdown",
   "metadata": {},
   "source": [
    "displaying  the z-parameter matrix"
   ]
  },
  {
   "cell_type": "code",
   "execution_count": 42,
   "metadata": {},
   "outputs": [
    {
     "data": {
      "text/latex": [
       "$$\\left[\\begin{matrix}\\frac{1.9944228457631 \\cdot 10^{36} s \\left(1.00756887663672 \\cdot 10^{56} s^{4} + 7.95544497540355 \\cdot 10^{71} s^{2} + 1.5625 \\cdot 10^{87}\\right)}{6.39649568809606 \\cdot 10^{83} s^{6} + 7.58201892757332 \\cdot 10^{99} s^{4} + 2.98577794233115 \\cdot 10^{115} s^{2} + 3.90625 \\cdot 10^{130}} & \\frac{3.96663030178903 \\cdot 10^{105} s^{3}}{6.39649568809606 \\cdot 10^{83} s^{6} + 7.58201892757332 \\cdot 10^{99} s^{4} + 2.98577794233115 \\cdot 10^{115} s^{2} + 3.90625 \\cdot 10^{130}}\\\\\\frac{3.96663030178903 \\cdot 10^{105} s^{3}}{6.39649568809606 \\cdot 10^{83} s^{6} + 7.58201892757332 \\cdot 10^{99} s^{4} + 2.98577794233115 \\cdot 10^{115} s^{2} + 3.90625 \\cdot 10^{130}} & \\frac{4.98605711440775 \\cdot 10^{37} s \\left(4.03027550654688 \\cdot 10^{54} s^{4} + 3.18217799016142 \\cdot 10^{70} s^{2} + 6.25 \\cdot 10^{85}\\right)}{6.39649568809606 \\cdot 10^{83} s^{6} + 7.58201892757332 \\cdot 10^{99} s^{4} + 2.98577794233115 \\cdot 10^{115} s^{2} + 3.90625 \\cdot 10^{130}}\\end{matrix}\\right]$$"
      ],
      "text/plain": [
       "⎡                         ⎛                      4                         2  \n",
       "⎢   1.9944228457631e+36⋅s⋅⎝1.00756887663672e+56⋅s  + 7.95544497540355e+71⋅s  +\n",
       "⎢─────────────────────────────────────────────────────────────────────────────\n",
       "⎢                      6                         4                          2 \n",
       "⎢6.39649568809606e+83⋅s  + 7.58201892757332e+99⋅s  + 2.98577794233115e+115⋅s  \n",
       "⎢                                                                             \n",
       "⎢                                                         3                   \n",
       "⎢                                  3.96663030178903e+105⋅s                    \n",
       "⎢─────────────────────────────────────────────────────────────────────────────\n",
       "⎢                      6                         4                          2 \n",
       "⎣6.39649568809606e+83⋅s  + 7.58201892757332e+99⋅s  + 2.98577794233115e+115⋅s  \n",
       "\n",
       "           ⎞                                                             3    \n",
       " 1.5625e+87⎠                                      3.96663030178903e+105⋅s     \n",
       "──────────────  ──────────────────────────────────────────────────────────────\n",
       "                                      6                         4             \n",
       "+ 3.90625e+130  6.39649568809606e+83⋅s  + 7.58201892757332e+99⋅s  + 2.98577794\n",
       "                                                                              \n",
       "                                          ⎛                      4            \n",
       "                   4.98605711440775e+37⋅s⋅⎝4.03027550654688e+54⋅s  + 3.1821779\n",
       "──────────────  ──────────────────────────────────────────────────────────────\n",
       "                                      6                         4             \n",
       "+ 3.90625e+130  6.39649568809606e+83⋅s  + 7.58201892757332e+99⋅s  + 2.98577794\n",
       "\n",
       "                             ⎤\n",
       "                             ⎥\n",
       "─────────────────────────────⎥\n",
       "             2               ⎥\n",
       "233115e+115⋅s  + 3.90625e+130⎥\n",
       "                             ⎥\n",
       "             2           ⎞   ⎥\n",
       "9016142e+70⋅s  + 6.25e+85⎠   ⎥\n",
       "─────────────────────────────⎥\n",
       "             2               ⎥\n",
       "233115e+115⋅s  + 3.90625e+130⎦"
      ]
     },
     "execution_count": 42,
     "metadata": {},
     "output_type": "execute_result"
    }
   ],
   "source": [
    "Matrix([[z11,z21],[z12,z22]])"
   ]
  },
  {
   "cell_type": "markdown",
   "metadata": {},
   "source": [
    "The complete z-parameter matrix is shown above. It's kind of interesting that the exponents on many of the coefficients are so large. Using the SymPy function lambdify to turn the symbolic expression into a function."
   ]
  },
  {
   "cell_type": "code",
   "execution_count": 43,
   "metadata": {},
   "outputs": [],
   "source": [
    "func_z11_s = lambdify(s, z11)\n",
    "func_z12_s = lambdify(s, z12) \n",
    "func_z21_s = lambdify(s, z21) \n",
    "func_z22_s = lambdify(s, z22) "
   ]
  },
  {
   "cell_type": "markdown",
   "metadata": {},
   "source": [
    "Using the results from above, the input impedance of a two-port network is given by:\n",
    "The input impedance of a two-port network is: $Z_{in}=\\frac{Z_{11}Z_{22}+Z_{11}Z_{L}-Z_{12}Z_{21}}{Z_{22}+Z_{L}}$, where $Z_{L}$ is the impedance of the load connected to port two."
   ]
  },
  {
   "cell_type": "code",
   "execution_count": 44,
   "metadata": {},
   "outputs": [
    {
     "data": {
      "image/png": "[encoded data removed]",
      "text/plain": [
       "<Figure size 432x288 with 1 Axes>"
      ]
     },
     "metadata": {
      "needs_background": "light"
     },
     "output_type": "display_data"
    }
   ],
   "source": [
    "# set the source and load impedance\n",
    "Zl = Zs = 50\n",
    "\n",
    "w = np.linspace(9e6*2*np.pi, 11e6*2*np.pi, 1000, endpoint=True)\n",
    "\n",
    "plt.title('Input impedance')\n",
    "\n",
    "plt.plot(w/(2*np.pi)/1e6, np.abs((func_z11_s(1j*w)*func_z22_s(1j*w)+func_z11_s(1j*w)*Zl-func_z12_s(1j*w)*func_z21_s(1j*w))/(func_z22_s(1j*w)+Zl)),'-',label='|Zin|')\n",
    "plt.plot(w/(2*np.pi)/1e6, np.real((func_z11_s(1j*w)*func_z22_s(1j*w)+func_z11_s(1j*w)*Zl-func_z12_s(1j*w)*func_z21_s(1j*w))/(func_z22_s(1j*w)+Zl)),'-',label='Re Zin')\n",
    "plt.plot(w/(2*np.pi)/1e6, np.imag((func_z11_s(1j*w)*func_z22_s(1j*w)+func_z11_s(1j*w)*Zl-func_z12_s(1j*w)*func_z21_s(1j*w))/(func_z22_s(1j*w)+Zl)),'-',label='Im Zin')\n",
    "\n",
    "plt.ylabel('impedance, ohms')\n",
    "plt.xlabel('Frequency, MHz')\n",
    "plt.legend()\n",
    "plt.grid()\n",
    "plt.show()"
   ]
  },
  {
   "cell_type": "markdown",
   "metadata": {},
   "source": [
    "The plot above shows the magnitude of the input impedance (in blue), the real part of the input impedance (in orange) and the imaginary part of the input impedance (in green). Near 10Hz, the magnitude and real part of the input impedance is 50 ohms and the imaginary part is about zero. This shows that the design equations produced the desired results. The input impedance bandwidth of the filter is about 1 MHz.\n",
    "\n",
    "The voltage gain of the filter calculated from the z-parameters is: $K_v=\\frac{Z_{21}Z_{L}}{Z_{11}Z_{22}+Z_{11}Z_{L}-Z_{12}Z_{21}}$, which is plotted below:"
   ]
  },
  {
   "cell_type": "code",
   "execution_count": 45,
   "metadata": {},
   "outputs": [
    {
     "data": {
      "image/png": "[encoded data removed]",
      "text/plain": [
       "<Figure size 432x288 with 1 Axes>"
      ]
     },
     "metadata": {
      "needs_background": "light"
     },
     "output_type": "display_data"
    }
   ],
   "source": [
    "plt.title('Voltage gain')\n",
    "plt.plot(w/(2*np.pi)/1e6, np.abs((func_z21_s(1j*w)*Zl)/(func_z11_s(1j*w)*func_z22_s(1j*w)+func_z11_s(1j*w)*Zl-func_z12_s(1j*w)*func_z21_s(1j*w))),'-',label='|Kv|')\n",
    "plt.ylabel('Kv')\n",
    "plt.xlabel('Frequency, MHz')\n",
    "plt.legend()\n",
    "plt.grid()\n",
    "plt.show()"
   ]
  },
  {
   "cell_type": "markdown",
   "metadata": {},
   "source": [
    "The plot above shows the voltage gain of the filter (in blue) plotted from the z-parameters. The filter is centered at 10MHz and the bandwidth appears to be 1 MHz. \n",
    "\n",
    "## Convert z-parameters to s-parameters\n",
    "Although applicable at any frequency, s-parameters are mostly used for networks operating at radio frequency (RF) and microwave frequencies. The s-parameters can be calculated from the z-parameters with the following formulas:"
   ]
  },
  {
   "cell_type": "code",
   "execution_count": 46,
   "metadata": {},
   "outputs": [
    {
     "data": {
      "image/png": "[encoded data removed]",
      "text/plain": [
       "<Figure size 432x288 with 1 Axes>"
      ]
     },
     "metadata": {
      "needs_background": "light"
     },
     "output_type": "display_data"
    }
   ],
   "source": [
    "Z_o = 50 # characteristic impedance\n",
    "\n",
    "w = np.linspace(8e6*2*np.pi, 12e6*2*np.pi, 2000, endpoint=True)\n",
    "s11 = np.zeros(len(w),dtype=complex)\n",
    "s12 = np.zeros(len(w),dtype=complex)\n",
    "s21 = np.zeros(len(w),dtype=complex)\n",
    "s22 = np.zeros(len(w),dtype=complex)\n",
    "\n",
    "for i in range(len(w)):\n",
    "    del_z = (func_z11_s(1j*w[i])+Z_o)*(func_z22_s(1j*w[i])+Z_o)-func_z12_s(1j*w[i])*func_z21_s(1j*w[i])\n",
    "    s11[i] = ((func_z11_s(1j*w[i])-Z_o)*(func_z22_s(1j*w[i])+Z_o)-func_z12_s(1j*w[i])*func_z21_s(1j*w[i]))/del_z\n",
    "    s12[i] = (2*func_z12_s(1j*w[i])*Z_o)/del_z\n",
    "    s21[i] = (2*func_z21_s(1j*w[i])*Z_o)/del_z\n",
    "    s22[i] = ((func_z11_s(1j*w[i])+Z_o)*(func_z22_s(1j*w[i])-Z_o)-func_z12_s(1j*w[i])*func_z21_s(1j*w[i]))/del_z\n",
    "\n",
    "plt.title('S-parameters')\n",
    "plt.plot(w/(2*np.pi)/1e6, 20*np.log10(np.abs(s11)),'-',label='|s11|dB')\n",
    "plt.plot(w/(2*np.pi)/1e6, 20*np.log10(np.abs(s21)),'-',label='|s21|dB')\n",
    "plt.ylabel('|S11| & |S21|, dB')\n",
    "plt.xlabel('Frequency, MHz')\n",
    "plt.ylim((-20,1))\n",
    "plt.yticks(np.arange(-20, 1, 5))\n",
    "#plt.xlim((-1,20))\n",
    "#plt.xticks(np.arange(0, 20+1, 2.0))\n",
    "plt.legend()\n",
    "plt.grid()\n",
    "plt.show()"
   ]
  },
  {
   "cell_type": "markdown",
   "metadata": {},
   "source": [
    "The plot above shows the magnitudes in dB of the input reflection coefficient (in blue) and the forward voltage gain (in orange). \n",
    "\n",
    "The magnitude of the input reflection coefficient indicates the amount of energy reflected back to the source due to the impedance mismatch. The smaller the reflection coefficient the better the match, and in dB, large negative values are very small small numbers. A rule of thumb is that |S11| less than about -9.5 dB is a reasonable match, since this corresponds to about a 2:1 VSWR or a mismatch loss of about 0.5 dB. The frequency range over which this match occurs is called the impedance bandwidth. \n",
    "\n",
    "The plot of |S21| shows the forward voltage gain of the filter in dB. The filter was designed to be a band pass filter with a center frequency of 10 MHz, which is clearly shown in the plot. The plot is similar to what would be seen on a network analyzer. \n",
    "\n",
    "## Summary\n",
    "In this notebook the parameters for two port networks were generated from the circuit's netlist. Using python, the circuit equations were automatically generated by using modified nodal analysis, then SymPy was used to solve for the network currents and voltages. Z-parameters were calculated for the circuits, from which y and s parameters were generated. The z-parameters were used to generate input impedance and transfer functions.\n",
    "\n",
    "This notebook has demonstrated that two port parameters can easily be generated from a circuit's netlist with python. "
   ]
  },
  {
   "cell_type": "code",
   "execution_count": null,
   "metadata": {},
   "outputs": [],
   "source": []
  }
 ],
 "metadata": {
  "kernelspec": {
   "display_name": "Python 3 (ipykernel)",
   "language": "python",
   "name": "python3"
  },
  "language_info": {
   "codemirror_mode": {
    "name": "ipython",
    "version": 3
   },
   "file_extension": ".py",
   "mimetype": "text/x-python",
   "name": "python",
   "nbconvert_exporter": "python",
   "pygments_lexer": "ipython3",
   "version": "3.10.9"
  }
 },
 "nbformat": 4,
 "nbformat_minor": 4
}
